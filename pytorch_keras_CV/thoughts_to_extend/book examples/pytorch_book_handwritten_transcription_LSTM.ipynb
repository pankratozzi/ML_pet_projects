{
  "cells": [
    {
      "cell_type": "code",
      "execution_count": null,
      "metadata": {
        "id": "6Xs30K1omgO0"
      },
      "outputs": [],
      "source": [
        "!wget https://www.dropbox.com/s/l2ul3upj7dkv4ou/synthetic-data.zip\n",
        "!unzip -qq synthetic-data.zip\n",
        "!pip install torch_snippets torch_summary editdistance"
      ]
    },
    {
      "cell_type": "code",
      "execution_count": null,
      "metadata": {
        "id": "484OB8NSO4iH"
      },
      "outputs": [],
      "source": [
        "from torch_snippets import *\n",
        "from torchsummary import summary\n",
        "import editdistance\n",
        "from sklearn.model_selection import train_test_split"
      ]
    },
    {
      "cell_type": "code",
      "execution_count": null,
      "metadata": {
        "colab": {
          "base_uri": "https://localhost:8080/"
        },
        "id": "HtTal5QvPKbw",
        "outputId": "75831141-4afb-4720-f625-539c6db20070"
      },
      "outputs": [
        {
          "name": "stderr",
          "output_type": "stream",
          "text": [
            "2021-10-07 19:03:34.014 | INFO     | torch_snippets.paths:inner:24 - 25132 files found at synthetic-data\n"
          ]
        }
      ],
      "source": [
        "device = 'cuda' if torch.cuda.is_available() else 'cpu'\n",
        "fname2label = lambda name: str(name).split('@')[0].split('/')[1]\n",
        "images = Glob('synthetic-data')"
      ]
    },
    {
      "cell_type": "code",
      "execution_count": null,
      "metadata": {
        "id": "HjOerHQFPUS2"
      },
      "outputs": [],
      "source": [
        "vocab = 'QWERTYUIOPASDFGHJKLZXCVBNMqwertyuiopasdfghjklzxcvbnm'\n",
        "BATCH, TIMESTEP, VOCAB = 64, 32, len(vocab)\n",
        "H, W = 32, 128"
      ]
    },
    {
      "cell_type": "code",
      "execution_count": null,
      "metadata": {
        "id": "CRri9h7BQcwX"
      },
      "outputs": [],
      "source": [
        "class OCRDataset(Dataset):\n",
        "\n",
        "    def __init__(self, items, vocab=vocab, preprocess_shape=(H,W), timesteps=TIMESTEP):\n",
        "        super().__init__()\n",
        "        self.items = items\n",
        "        self.charList = {ix+1:ch for ix,ch in enumerate(vocab)}\n",
        "        self.charList.update({0: '`'})\n",
        "        self.invCharList = {v:k for k,v in self.charList.items()}\n",
        "        self.ts = timesteps\n",
        "\n",
        "    def __len__(self):\n",
        "        return len(self.items)\n",
        "\n",
        "    def sample(self):\n",
        "        return self[randint(len(self))]\n",
        "\n",
        "    def __getitem__(self, ix):\n",
        "        item = self.items[ix]\n",
        "        image = cv2.imread(str(item), 0)\n",
        "        label = fname2label(item)\n",
        "        return image, label\n",
        "\n",
        "    def collate_fn(self, batch):\n",
        "        images, labels, label_lengths, label_vectors, input_lengths = [], [], [], [], []\n",
        "        for image, label in batch:\n",
        "            images.append(torch.Tensor(self.preprocess(image))[None,None])\n",
        "            label_lengths.append(len(label))\n",
        "            labels.append(label)\n",
        "            label_vectors.append(self.str2vec(label))\n",
        "            input_lengths.append(self.ts)\n",
        "        images = torch.cat(images).float().to(device)\n",
        "        label_lengths = torch.Tensor(label_lengths).long().to(device)\n",
        "        label_vectors = torch.Tensor(label_vectors).long().to(device)\n",
        "        input_lengths = torch.Tensor(input_lengths).long().to(device)\n",
        "        return images, label_vectors, label_lengths, input_lengths, labels\n",
        "\n",
        "    def str2vec(self, string, pad=True):\n",
        "        string = ''.join([s for s in string if s in self.invCharList])\n",
        "        val = list(map(lambda x: self.invCharList[x], string)) \n",
        "        if pad:\n",
        "            while len(val) < self.ts:\n",
        "                val.append(0)\n",
        "        return val\n",
        "    \n",
        "    def preprocess(self, img, shape=(32,128)):\n",
        "        target = np.ones(shape)*255\n",
        "        try:\n",
        "            H, W = shape\n",
        "            h, w = img.shape\n",
        "            fx = H/h\n",
        "            fy = W/w\n",
        "            f = min(fx, fy)\n",
        "            _h = int(h*f)\n",
        "            _w = int(w*f)\n",
        "            _img = cv2.resize(img, (_w,_h))\n",
        "            target[:_h,:_w] = _img\n",
        "        except:\n",
        "            pass\n",
        "        return (255-target)/255\n",
        "\n",
        "    def decoder_chars(self, pred):\n",
        "        decoded = \"\"\n",
        "        last = \"\"\n",
        "        pred = pred.cpu().detach().numpy()\n",
        "        for i in range(len(pred)):\n",
        "            k = np.argmax(pred[i])\n",
        "            if k > 0 and self.charList[k] != last:\n",
        "                last = self.charList[k]\n",
        "                decoded = decoded + last\n",
        "            elif k > 0 and self.charList[k] == last:\n",
        "                continue\n",
        "            else:\n",
        "                last = \"\"\n",
        "        return decoded.replace(\" \",\" \")\n",
        "\n",
        "    def wer(self, preds, labels):\n",
        "        c = 0\n",
        "        for p, l in zip(preds, labels):\n",
        "            c += p.lower().strip() != l.lower().strip()\n",
        "        return round(c/len(preds), 4)\n",
        "    \n",
        "    def cer(self, preds, labels):\n",
        "        c, d = [], []\n",
        "        for p, l in zip(preds, labels):\n",
        "            c.append(editdistance.eval(p, l) / len(l))\n",
        "        return round(np.mean(c), 4)\n",
        "\n",
        "    def evaluate(self, model, ims, labels, lower=False):\n",
        "        model.eval()\n",
        "        preds = model(ims).permute(1,0,2) \n",
        "        preds = [self.decoder_chars(pred) for pred in preds]\n",
        "        return {'char-error-rate': self.cer(preds, labels),\n",
        "                'word-error-rate': self.wer(preds, labels),\n",
        "                'char-accuracy' : 1 - self.cer(preds, labels),\n",
        "                'word-accuracy' : 1 - self.wer(preds, labels)}"
      ]
    },
    {
      "cell_type": "code",
      "execution_count": null,
      "metadata": {
        "colab": {
          "base_uri": "https://localhost:8080/"
        },
        "id": "CU92XmXzX7FU",
        "outputId": "fb55c54a-e1c1-4008-e41d-1c411e05f8eb"
      },
      "outputs": [
        {
          "name": "stderr",
          "output_type": "stream",
          "text": [
            "2021-10-07 19:09:26.364 | INFO     | torch_snippets.paths:inner:24 - 25132 files found at synthetic-data\n"
          ]
        }
      ],
      "source": [
        "train_items, valid_items = train_test_split(Glob('synthetic-data'), test_size=0.2, random_state=1)\n",
        "train_dataset = OCRDataset(train_items)\n",
        "valid_dataset = OCRDataset(valid_items)\n",
        "train_dataloader = DataLoader(train_dataset, batch_size=BATCH, collate_fn=train_dataset.collate_fn, \n",
        "                              drop_last=True, shuffle=True)\n",
        "valid_dataloader = DataLoader(valid_dataset, batch_size=BATCH, collate_fn=valid_dataset.collate_fn, \n",
        "                              drop_last=True)"
      ]
    },
    {
      "cell_type": "code",
      "execution_count": null,
      "metadata": {
        "colab": {
          "base_uri": "https://localhost:8080/",
          "height": 99
        },
        "id": "UPDaUz65aa7I",
        "outputId": "f889880a-c77c-43fd-a407-2d4c44f3ca7d"
      },
      "outputs": [
        {
          "data": {
            "image/png": "[encoded data removed]",
            "text/plain": [
              "<Figure size 144x144 with 1 Axes>"
            ]
          },
          "metadata": {},
          "output_type": "display_data"
        }
      ],
      "source": [
        "img, _ = valid_dataset[0]\n",
        "show(img)"
      ]
    },
    {
      "cell_type": "code",
      "execution_count": null,
      "metadata": {
        "id": "rnHsCy6Ga5T4"
      },
      "outputs": [],
      "source": [
        "from torch_snippets import Reshape, Permute"
      ]
    },
    {
      "cell_type": "code",
      "execution_count": null,
      "metadata": {
        "id": "u1TEzFk_a_sd"
      },
      "outputs": [],
      "source": [
        "class BasicBlock(nn.Module):\n",
        "    def __init__(self, ni, no, ks=3, st=1, padding=1, pool=2, drop=0.2):\n",
        "        super().__init__()\n",
        "        self.ks = ks\n",
        "        self.block = nn.Sequential(\n",
        "            nn.Conv2d(ni, no, kernel_size=ks, stride=st, padding=padding),\n",
        "            nn.BatchNorm2d(no, momentum=0.3),\n",
        "            nn.ReLU(inplace=True),\n",
        "            nn.MaxPool2d(pool),\n",
        "            nn.Dropout2d(drop)\n",
        "        )\n",
        "    def forward(self, x):\n",
        "        return self.block(x)\n",
        "\n",
        "class Ocr(nn.Module):\n",
        "    def __init__(self, vocab):\n",
        "        super().__init__()\n",
        "        self.model = nn.Sequential(\n",
        "            BasicBlock( 1, 128),\n",
        "            BasicBlock(128, 128),\n",
        "            BasicBlock(128, 256, pool=(4,2)),\n",
        "            Reshape(-1, 256, 32),\n",
        "            Permute(2, 0, 1)\n",
        "        )\n",
        "        self.rnn = nn.Sequential(\n",
        "            nn.LSTM(256, 256, num_layers=2, dropout=0.2, bidirectional=True),\n",
        "        )\n",
        "        self.classification = nn.Sequential(\n",
        "            nn.Linear(512, vocab+1),\n",
        "            nn.LogSoftmax(-1),\n",
        "        )\n",
        "    def forward(self, x):\n",
        "        x = self.model(x)\n",
        "        x, lstm_states = self.rnn(x)\n",
        "        y = self.classification(x)\n",
        "        return y\n",
        "\n",
        "def ctc(log_probs, target, input_lengths, target_lengths, blank=0):\n",
        "    loss = nn.CTCLoss(blank=blank, zero_infinity=True)\n",
        "    ctc_loss = loss(log_probs, target, input_lengths, target_lengths)\n",
        "    return ctc_loss"
      ]
    },
    {
      "cell_type": "code",
      "execution_count": null,
      "metadata": {
        "colab": {
          "base_uri": "https://localhost:8080/"
        },
        "id": "goDMfXL29yf9",
        "outputId": "4181f4d1-36be-45ce-d2a5-3efce2c1fda4"
      },
      "outputs": [
        {
          "name": "stdout",
          "output_type": "stream",
          "text": [
            "==========================================================================================\n",
            "Layer (type:depth-idx)                   Output Shape              Param #\n",
            "==========================================================================================\n",
            "├─Sequential: 1-1                        [-1, 1, 256]              --\n",
            "|    └─BasicBlock: 2-1                   [-1, 128, 16, 64]         --\n",
            "|    |    └─Sequential: 3-1              [-1, 128, 16, 64]         1,536\n",
            "|    └─BasicBlock: 2-2                   [-1, 128, 8, 32]          --\n",
            "|    |    └─Sequential: 3-2              [-1, 128, 8, 32]          147,840\n",
            "|    └─BasicBlock: 2-3                   [-1, 256, 2, 16]          --\n",
            "|    |    └─Sequential: 3-3              [-1, 256, 2, 16]          295,680\n",
            "|    └─Reshape: 2-4                      [-1, 256, 32]             --\n",
            "|    └─Permute: 2-5                      [-1, 1, 256]              --\n",
            "├─Sequential: 1-2                        [-1, 1, 512]              --\n",
            "|    └─LSTM: 2-6                         [-1, 1, 512]              2,629,632\n",
            "├─Sequential: 1-3                        [-1, 1, 53]               --\n",
            "|    └─Linear: 2-7                       [-1, 1, 53]               27,189\n",
            "|    └─LogSoftmax: 2-8                   [-1, 1, 53]               --\n",
            "==========================================================================================\n",
            "Total params: 3,101,877\n",
            "Trainable params: 3,101,877\n",
            "Non-trainable params: 0\n",
            "Total mult-adds (M): 237.84\n",
            "==========================================================================================\n",
            "Input size (MB): 0.02\n",
            "Forward/backward pass size (MB): 11.00\n",
            "Params size (MB): 11.83\n",
            "Estimated Total Size (MB): 22.85\n",
            "==========================================================================================\n"
          ]
        },
        {
          "name": "stderr",
          "output_type": "stream",
          "text": [
            "/usr/local/lib/python3.7/dist-packages/torch/nn/functional.py:718: UserWarning: Named tensors and all their associated APIs are an experimental feature and subject to change. Please do not use them for anything important until they are released as stable. (Triggered internally at  /pytorch/c10/core/TensorImpl.h:1156.)\n",
            "  return torch.max_pool2d(input, kernel_size, stride, padding, dilation, ceil_mode)\n"
          ]
        },
        {
          "data": {
            "text/plain": [
              "==========================================================================================\n",
              "Layer (type:depth-idx)                   Output Shape              Param #\n",
              "==========================================================================================\n",
              "├─Sequential: 1-1                        [-1, 1, 256]              --\n",
              "|    └─BasicBlock: 2-1                   [-1, 128, 16, 64]         --\n",
              "|    |    └─Sequential: 3-1              [-1, 128, 16, 64]         1,536\n",
              "|    └─BasicBlock: 2-2                   [-1, 128, 8, 32]          --\n",
              "|    |    └─Sequential: 3-2              [-1, 128, 8, 32]          147,840\n",
              "|    └─BasicBlock: 2-3                   [-1, 256, 2, 16]          --\n",
              "|    |    └─Sequential: 3-3              [-1, 256, 2, 16]          295,680\n",
              "|    └─Reshape: 2-4                      [-1, 256, 32]             --\n",
              "|    └─Permute: 2-5                      [-1, 1, 256]              --\n",
              "├─Sequential: 1-2                        [-1, 1, 512]              --\n",
              "|    └─LSTM: 2-6                         [-1, 1, 512]              2,629,632\n",
              "├─Sequential: 1-3                        [-1, 1, 53]               --\n",
              "|    └─Linear: 2-7                       [-1, 1, 53]               27,189\n",
              "|    └─LogSoftmax: 2-8                   [-1, 1, 53]               --\n",
              "==========================================================================================\n",
              "Total params: 3,101,877\n",
              "Trainable params: 3,101,877\n",
              "Non-trainable params: 0\n",
              "Total mult-adds (M): 237.84\n",
              "==========================================================================================\n",
              "Input size (MB): 0.02\n",
              "Forward/backward pass size (MB): 11.00\n",
              "Params size (MB): 11.83\n",
              "Estimated Total Size (MB): 22.85\n",
              "=========================================================================================="
            ]
          },
          "execution_count": 15,
          "metadata": {},
          "output_type": "execute_result"
        }
      ],
      "source": [
        "model = Ocr(len(vocab)).to(device)\n",
        "summary(model, torch.zeros((1,1,32,128)).to(device))"
      ]
    },
    {
      "cell_type": "code",
      "execution_count": null,
      "metadata": {
        "id": "iQ_T25lgDFZs"
      },
      "outputs": [],
      "source": [
        "def train_batch(data, model, optimizer, criterion):\n",
        "    model.train()\n",
        "    imgs, targets, label_lens, input_lens, labels = data\n",
        "    optimizer.zero_grad()\n",
        "    preds = model(imgs)\n",
        "    loss = criterion(preds, targets, input_lens, label_lens)\n",
        "    loss.backward()\n",
        "    optimizer.step()\n",
        "    results = train_dataset.evaluate(model, imgs.to(device), labels)\n",
        "    return loss, results\n",
        "\n",
        "@torch.no_grad()\n",
        "def validate_batch(data, model):\n",
        "    model.eval()\n",
        "    imgs, targets, label_lens, input_lens, labels = data\n",
        "    preds = model(imgs)\n",
        "    loss = criterion(preds, targets, input_lens, label_lens)\n",
        "    return loss, valid_dataset.evaluate(model, imgs.to(device), labels)"
      ]
    },
    {
      "cell_type": "code",
      "execution_count": null,
      "metadata": {
        "id": "9ije7a3QGhkC"
      },
      "outputs": [],
      "source": [
        "criterion = ctc\n",
        "optimizer = optim.AdamW(model.parameters(), lr=3e-3)\n",
        "# scheduler?\n",
        "epochs = 50\n",
        "log = Report(epochs)"
      ]
    },
    {
      "cell_type": "code",
      "execution_count": null,
      "metadata": {
        "colab": {
          "background_save": true,
          "base_uri": "https://localhost:8080/",
          "height": 1000
        },
        "id": "Zi6alI3hG1OE",
        "outputId": "66d7d720-3d32-4cc6-da86-7c2e78f625f8"
      },
      "outputs": [
        {
          "name": "stdout",
          "output_type": "stream",
          "text": [
            "EPOCH: 1.000\ttrain_loss: 3.334\ttrain_char_accuracy: 0.006\ttrain_word_accuracy: 0.000\tvalid_loss: 3.104\tvalid_char_accuracy: 0.069\tvalid_word_accuracy: 0.000\t(1911.74s - 93675.07s remaining)\n",
            "\n",
            "Prediction: \"a\", Ground Truth: \"wish\"\n",
            "Prediction: \"a\", Ground Truth: \"eat\"\n",
            "Prediction: \"a\", Ground Truth: \"idea\"\n",
            "Prediction: \"s\", Ground Truth: \"TV\"\n",
            "Prediction: \"t\", Ground Truth: \"during\"\n",
            "\n",
            "EPOCH: 2.000\ttrain_loss: 2.872\ttrain_char_accuracy: 0.156\ttrain_word_accuracy: 0.001\tvalid_loss: 2.581\tvalid_char_accuracy: 0.251\tvalid_word_accuracy: 0.002\t(3376.28s - 81030.82s remaining)\n",
            "\n",
            "Prediction: \"ce\", Ground Truth: \"agent\"\n",
            "Prediction: \"tee\", Ground Truth: \"drop\"\n",
            "Prediction: \"tine\", Ground Truth: \"time\"\n",
            "Prediction: \"mete\", Ground Truth: \"reality\"\n",
            "Prediction: \"rete\", Ground Truth: \"return\"\n",
            "\n",
            "EPOCH: 2.522\ttrain_loss: 2.312\ttrain_char_accuracy: 0.369\ttrain_word_accuracy: 0.016\t(4055.13s - 76330.58s remaining)"
          ]
        }
      ],
      "source": [
        "for epoch in range(epochs):\n",
        "    N = len(train_dataloader)\n",
        "    for ix, data in enumerate(train_dataloader):\n",
        "        pos = epoch + (ix + 1) / N\n",
        "        loss, results = train_batch(data, model, optimizer, criterion)\n",
        "        ca, wa = results['char-accuracy'], results['word-accuracy']\n",
        "        log.record(pos, train_loss=loss, train_char_accuracy=ca, train_word_accuracy=wa, end='\\r')\n",
        "    val_results = []\n",
        "    N = len(valid_dataloader)\n",
        "    for ix, data in enumerate(valid_dataloader):\n",
        "        pos = epoch + (ix + 1) / N\n",
        "        loss, results = validate_batch(data, model)\n",
        "        ca, wa = results['char-accuracy'], results['word-accuracy']\n",
        "        log.record(pos, valid_loss=loss, valid_char_accuracy=ca, valid_word_accuracy=wa, end='\\r')\n",
        "    log.report_avgs(epoch + 1)\n",
        "    print()\n",
        "    for i in range(5):\n",
        "        img, label = valid_dataset.sample()\n",
        "        _img = torch.Tensor(valid_dataset.preprocess(img)[None, None]).to(device)\n",
        "        pred = model(_img)[:, 0, :]\n",
        "        pred = train_dataset.decoder_chars(pred)\n",
        "        print(f'Prediction: \"{pred}\", Ground Truth: \"{label}\"')\n",
        "    print()"
      ]
    }
  ],
  "metadata": {
    "accelerator": "GPU",
    "colab": {
      "collapsed_sections": [],
      "name": "pytorch_book_handwritten_transcription.ipynb",
      "provenance": []
    },
    "kernelspec": {
      "display_name": "Python 3",
      "name": "python3"
    },
    "language_info": {
      "name": "python"
    }
  },
  "nbformat": 4,
  "nbformat_minor": 0
}