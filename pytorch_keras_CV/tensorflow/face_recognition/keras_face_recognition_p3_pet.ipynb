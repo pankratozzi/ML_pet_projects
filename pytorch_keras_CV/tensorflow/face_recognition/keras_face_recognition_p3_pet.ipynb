{
  "nbformat": 4,
  "nbformat_minor": 0,
  "metadata": {
    "colab": {
      "name": "keras_face_recognition_p3_pet.ipynb",
      "provenance": [],
      "collapsed_sections": []
    },
    "kernelspec": {
      "name": "python3",
      "display_name": "Python 3"
    },
    "language_info": {
      "name": "python"
    },
    "widgets": {
      "application/vnd.jupyter.widget-state+json": {
        "2c8bf03c3e9947c995f960460b1afe76": {
          "model_module": "@jupyter-widgets/controls",
          "model_name": "HBoxModel",
          "model_module_version": "1.5.0",
          "state": {
            "_view_name": "HBoxView",
            "_dom_classes": [],
            "_model_name": "HBoxModel",
            "_view_module": "@jupyter-widgets/controls",
            "_model_module_version": "1.5.0",
            "_view_count": null,
            "_view_module_version": "1.5.0",
            "box_style": "",
            "layout": "IPY_MODEL_3176bc023bc848aea7df0fb93b0154fe",
            "_model_module": "@jupyter-widgets/controls",
            "children": [
              "IPY_MODEL_6c2bfea7e8eb457c8d34e7147855df3d",
              "IPY_MODEL_0aa998151d7d4989b68dc27eceeab58b",
              "IPY_MODEL_7f0679caabf54400abacb93254f398f1"
            ]
          }
        },
        "3176bc023bc848aea7df0fb93b0154fe": {
          "model_module": "@jupyter-widgets/base",
          "model_name": "LayoutModel",
          "model_module_version": "1.2.0",
          "state": {
            "_view_name": "LayoutView",
            "grid_template_rows": null,
            "right": null,
            "justify_content": null,
            "_view_module": "@jupyter-widgets/base",
            "overflow": null,
            "_model_module_version": "1.2.0",
            "_view_count": null,
            "flex_flow": null,
            "width": null,
            "min_width": null,
            "border": null,
            "align_items": null,
            "bottom": null,
            "_model_module": "@jupyter-widgets/base",
            "top": null,
            "grid_column": null,
            "overflow_y": null,
            "overflow_x": null,
            "grid_auto_flow": null,
            "grid_area": null,
            "grid_template_columns": null,
            "flex": null,
            "_model_name": "LayoutModel",
            "justify_items": null,
            "grid_row": null,
            "max_height": null,
            "align_content": null,
            "visibility": null,
            "align_self": null,
            "height": null,
            "min_height": null,
            "padding": null,
            "grid_auto_rows": null,
            "grid_gap": null,
            "max_width": null,
            "order": null,
            "_view_module_version": "1.2.0",
            "grid_template_areas": null,
            "object_position": null,
            "object_fit": null,
            "grid_auto_columns": null,
            "margin": null,
            "display": null,
            "left": null
          }
        },
        "6c2bfea7e8eb457c8d34e7147855df3d": {
          "model_module": "@jupyter-widgets/controls",
          "model_name": "HTMLModel",
          "model_module_version": "1.5.0",
          "state": {
            "_view_name": "HTMLView",
            "style": "IPY_MODEL_36498a366a36452ea66ae45be3e3f656",
            "_dom_classes": [],
            "description": "",
            "_model_name": "HTMLModel",
            "placeholder": "​",
            "_view_module": "@jupyter-widgets/controls",
            "_model_module_version": "1.5.0",
            "value": "100%",
            "_view_count": null,
            "_view_module_version": "1.5.0",
            "description_tooltip": null,
            "_model_module": "@jupyter-widgets/controls",
            "layout": "IPY_MODEL_6b653e1bffab42269be21c76b1b94624"
          }
        },
        "0aa998151d7d4989b68dc27eceeab58b": {
          "model_module": "@jupyter-widgets/controls",
          "model_name": "FloatProgressModel",
          "model_module_version": "1.5.0",
          "state": {
            "_view_name": "ProgressView",
            "style": "IPY_MODEL_8c986c2ce76948ba9abe01e3cc08538c",
            "_dom_classes": [],
            "description": "",
            "_model_name": "FloatProgressModel",
            "bar_style": "success",
            "max": 2720,
            "_view_module": "@jupyter-widgets/controls",
            "_model_module_version": "1.5.0",
            "value": 2720,
            "_view_count": null,
            "_view_module_version": "1.5.0",
            "orientation": "horizontal",
            "min": 0,
            "description_tooltip": null,
            "_model_module": "@jupyter-widgets/controls",
            "layout": "IPY_MODEL_93d023da3b6346898be0a5f41b1913b8"
          }
        },
        "7f0679caabf54400abacb93254f398f1": {
          "model_module": "@jupyter-widgets/controls",
          "model_name": "HTMLModel",
          "model_module_version": "1.5.0",
          "state": {
            "_view_name": "HTMLView",
            "style": "IPY_MODEL_1820787d70944214b37b96525f45fe07",
            "_dom_classes": [],
            "description": "",
            "_model_name": "HTMLModel",
            "placeholder": "​",
            "_view_module": "@jupyter-widgets/controls",
            "_model_module_version": "1.5.0",
            "value": " 2720/2720 [32:05&lt;00:00,  1.37it/s]",
            "_view_count": null,
            "_view_module_version": "1.5.0",
            "description_tooltip": null,
            "_model_module": "@jupyter-widgets/controls",
            "layout": "IPY_MODEL_8f78f61f89b340b88c00980aeb677bd1"
          }
        },
        "36498a366a36452ea66ae45be3e3f656": {
          "model_module": "@jupyter-widgets/controls",
          "model_name": "DescriptionStyleModel",
          "model_module_version": "1.5.0",
          "state": {
            "_view_name": "StyleView",
            "_model_name": "DescriptionStyleModel",
            "description_width": "",
            "_view_module": "@jupyter-widgets/base",
            "_model_module_version": "1.5.0",
            "_view_count": null,
            "_view_module_version": "1.2.0",
            "_model_module": "@jupyter-widgets/controls"
          }
        },
        "6b653e1bffab42269be21c76b1b94624": {
          "model_module": "@jupyter-widgets/base",
          "model_name": "LayoutModel",
          "model_module_version": "1.2.0",
          "state": {
            "_view_name": "LayoutView",
            "grid_template_rows": null,
            "right": null,
            "justify_content": null,
            "_view_module": "@jupyter-widgets/base",
            "overflow": null,
            "_model_module_version": "1.2.0",
            "_view_count": null,
            "flex_flow": null,
            "width": null,
            "min_width": null,
            "border": null,
            "align_items": null,
            "bottom": null,
            "_model_module": "@jupyter-widgets/base",
            "top": null,
            "grid_column": null,
            "overflow_y": null,
            "overflow_x": null,
            "grid_auto_flow": null,
            "grid_area": null,
            "grid_template_columns": null,
            "flex": null,
            "_model_name": "LayoutModel",
            "justify_items": null,
            "grid_row": null,
            "max_height": null,
            "align_content": null,
            "visibility": null,
            "align_self": null,
            "height": null,
            "min_height": null,
            "padding": null,
            "grid_auto_rows": null,
            "grid_gap": null,
            "max_width": null,
            "order": null,
            "_view_module_version": "1.2.0",
            "grid_template_areas": null,
            "object_position": null,
            "object_fit": null,
            "grid_auto_columns": null,
            "margin": null,
            "display": null,
            "left": null
          }
        },
        "8c986c2ce76948ba9abe01e3cc08538c": {
          "model_module": "@jupyter-widgets/controls",
          "model_name": "ProgressStyleModel",
          "model_module_version": "1.5.0",
          "state": {
            "_view_name": "StyleView",
            "_model_name": "ProgressStyleModel",
            "description_width": "",
            "_view_module": "@jupyter-widgets/base",
            "_model_module_version": "1.5.0",
            "_view_count": null,
            "_view_module_version": "1.2.0",
            "bar_color": null,
            "_model_module": "@jupyter-widgets/controls"
          }
        },
        "93d023da3b6346898be0a5f41b1913b8": {
          "model_module": "@jupyter-widgets/base",
          "model_name": "LayoutModel",
          "model_module_version": "1.2.0",
          "state": {
            "_view_name": "LayoutView",
            "grid_template_rows": null,
            "right": null,
            "justify_content": null,
            "_view_module": "@jupyter-widgets/base",
            "overflow": null,
            "_model_module_version": "1.2.0",
            "_view_count": null,
            "flex_flow": null,
            "width": null,
            "min_width": null,
            "border": null,
            "align_items": null,
            "bottom": null,
            "_model_module": "@jupyter-widgets/base",
            "top": null,
            "grid_column": null,
            "overflow_y": null,
            "overflow_x": null,
            "grid_auto_flow": null,
            "grid_area": null,
            "grid_template_columns": null,
            "flex": null,
            "_model_name": "LayoutModel",
            "justify_items": null,
            "grid_row": null,
            "max_height": null,
            "align_content": null,
            "visibility": null,
            "align_self": null,
            "height": null,
            "min_height": null,
            "padding": null,
            "grid_auto_rows": null,
            "grid_gap": null,
            "max_width": null,
            "order": null,
            "_view_module_version": "1.2.0",
            "grid_template_areas": null,
            "object_position": null,
            "object_fit": null,
            "grid_auto_columns": null,
            "margin": null,
            "display": null,
            "left": null
          }
        },
        "1820787d70944214b37b96525f45fe07": {
          "model_module": "@jupyter-widgets/controls",
          "model_name": "DescriptionStyleModel",
          "model_module_version": "1.5.0",
          "state": {
            "_view_name": "StyleView",
            "_model_name": "DescriptionStyleModel",
            "description_width": "",
            "_view_module": "@jupyter-widgets/base",
            "_model_module_version": "1.5.0",
            "_view_count": null,
            "_view_module_version": "1.2.0",
            "_model_module": "@jupyter-widgets/controls"
          }
        },
        "8f78f61f89b340b88c00980aeb677bd1": {
          "model_module": "@jupyter-widgets/base",
          "model_name": "LayoutModel",
          "model_module_version": "1.2.0",
          "state": {
            "_view_name": "LayoutView",
            "grid_template_rows": null,
            "right": null,
            "justify_content": null,
            "_view_module": "@jupyter-widgets/base",
            "overflow": null,
            "_model_module_version": "1.2.0",
            "_view_count": null,
            "flex_flow": null,
            "width": null,
            "min_width": null,
            "border": null,
            "align_items": null,
            "bottom": null,
            "_model_module": "@jupyter-widgets/base",
            "top": null,
            "grid_column": null,
            "overflow_y": null,
            "overflow_x": null,
            "grid_auto_flow": null,
            "grid_area": null,
            "grid_template_columns": null,
            "flex": null,
            "_model_name": "LayoutModel",
            "justify_items": null,
            "grid_row": null,
            "max_height": null,
            "align_content": null,
            "visibility": null,
            "align_self": null,
            "height": null,
            "min_height": null,
            "padding": null,
            "grid_auto_rows": null,
            "grid_gap": null,
            "max_width": null,
            "order": null,
            "_view_module_version": "1.2.0",
            "grid_template_areas": null,
            "object_position": null,
            "object_fit": null,
            "grid_auto_columns": null,
            "margin": null,
            "display": null,
            "left": null
          }
        }
      }
    }
  },
  "cells": [
    {
      "cell_type": "code",
      "execution_count": null,
      "metadata": {
        "id": "DSQJ1DEsQvN0"
      },
      "outputs": [],
      "source": [
        "from sklearn.datasets import fetch_lfw_people, fetch_lfw_pairs\n",
        "\n",
        "data = fetch_lfw_people(min_faces_per_person=20, color=True)"
      ]
    },
    {
      "cell_type": "code",
      "source": [
        "!pip install -q git+https://github.com/rcmalli/keras-vggface.git\n",
        "!pip install -q mtcnn\n",
        "!pip install -q keras_applications --no-deps\n",
        "\n",
        "filename = \"/usr/local/lib/python3.7/dist-packages/keras_vggface/models.py\"\n",
        "text = open(filename).read()\n",
        "open(filename, \"w+\").write(text.replace('keras.engine.topology', 'tensorflow.keras.utils'))\n",
        "import tensorflow as tf"
      ],
      "metadata": {
        "colab": {
          "base_uri": "https://localhost:8080/"
        },
        "id": "qChX89H9RJwP",
        "outputId": "9eb2275f-828a-4333-ce41-50a7567243fe"
      },
      "execution_count": null,
      "outputs": [
        {
          "output_type": "stream",
          "name": "stdout",
          "text": [
            "  Building wheel for keras-vggface (setup.py) ... \u001b[?25l\u001b[?25hdone\n",
            "\u001b[K     |████████████████████████████████| 2.3 MB 32.8 MB/s \n",
            "\u001b[K     |████████████████████████████████| 50 kB 5.0 MB/s \n",
            "\u001b[?25h"
          ]
        }
      ]
    },
    {
      "cell_type": "code",
      "source": [
        "import cv2\n",
        "from scipy.spatial.distance import cosine\n",
        "from mtcnn.mtcnn import MTCNN # helps to detect and crop faces, not needed here as we already have faces \n",
        "from PIL import Image\n",
        "import numpy as np\n",
        "import pandas as pd\n",
        "from tqdm.notebook import trange\n",
        "from keras_vggface.utils import preprocess_input\n",
        "from keras_vggface.vggface import VGGFace\n",
        "import matplotlib.pyplot as plt\n",
        "from sklearn.model_selection import train_test_split"
      ],
      "metadata": {
        "id": "RlR3EcmTSB0j"
      },
      "execution_count": null,
      "outputs": []
    },
    {
      "cell_type": "code",
      "source": [
        "def is_match(known_emb, inp_emb, thresh=0.5):\n",
        "    score = cosine(known_emb, inp_emb)\n",
        "    return 1 if score <= thresh else 0"
      ],
      "metadata": {
        "id": "n296xK0k4lIo"
      },
      "execution_count": null,
      "outputs": []
    },
    {
      "cell_type": "code",
      "source": [
        "tf.random.set_seed(123)\n",
        "np.random.seed(123)"
      ],
      "metadata": {
        "id": "QDJBC-gUT7EL"
      },
      "execution_count": null,
      "outputs": []
    },
    {
      "cell_type": "code",
      "source": [
        "num_samples = len(data['target'])\n",
        "num_samples"
      ],
      "metadata": {
        "colab": {
          "base_uri": "https://localhost:8080/"
        },
        "id": "oTlI4nBXUe0i",
        "outputId": "b3da4e7d-aa54-4c12-b706-873d6d2cef90"
      },
      "execution_count": null,
      "outputs": [
        {
          "output_type": "execute_result",
          "data": {
            "text/plain": [
              "3023"
            ]
          },
          "metadata": {},
          "execution_count": 6
        }
      ]
    },
    {
      "cell_type": "code",
      "source": [
        "data_imgs = []\n",
        "\n",
        "for i in range(num_samples):\n",
        "    img = data['images'][i]\n",
        "    img = cv2.cvtColor(img, cv2.COLOR_BGR2RGB)\n",
        "    img = cv2.resize(img, (224,224))\n",
        "    data_imgs.append(img)\n",
        "    \n",
        "data_imgs = np.array(data_imgs)\n",
        "input_shape = data_imgs[0].shape\n",
        "input_shape"
      ],
      "metadata": {
        "colab": {
          "base_uri": "https://localhost:8080/"
        },
        "id": "FcwhGRbDZh5U",
        "outputId": "ecc4710a-e4c2-4410-fc69-21fd8ffc11e8"
      },
      "execution_count": null,
      "outputs": [
        {
          "output_type": "execute_result",
          "data": {
            "text/plain": [
              "(224, 224, 3)"
            ]
          },
          "metadata": {},
          "execution_count": 7
        }
      ]
    },
    {
      "cell_type": "code",
      "source": [
        "indices = np.arange(num_samples)\n",
        "train_idx, test_idx = train_test_split(indices, test_size=0.1, shuffle=True, random_state=123)"
      ],
      "metadata": {
        "id": "D94kRcRhTn7W"
      },
      "execution_count": null,
      "outputs": []
    },
    {
      "cell_type": "code",
      "source": [
        "model = VGGFace(model='senet50', include_top=False, input_shape=input_shape, pooling='avg')"
      ],
      "metadata": {
        "colab": {
          "base_uri": "https://localhost:8080/"
        },
        "id": "DGESsk03XYro",
        "outputId": "1a1a3281-c5ea-4a7d-e6cb-1600b0edb31c"
      },
      "execution_count": null,
      "outputs": [
        {
          "output_type": "stream",
          "name": "stdout",
          "text": [
            "Downloading data from https://github.com/rcmalli/keras-vggface/releases/download/v2.0/rcmalli_vggface_tf_notop_senet50.h5\n",
            "104947712/104944616 [==============================] - 1s 0us/step\n",
            "104955904/104944616 [==============================] - 1s 0us/step\n"
          ]
        }
      ]
    },
    {
      "cell_type": "code",
      "source": [
        "data_imgs[train_idx].shape, data['target_names'][data['target'][test_idx][np.random.randint(len(test_idx))]]"
      ],
      "metadata": {
        "colab": {
          "base_uri": "https://localhost:8080/"
        },
        "id": "vEIEKmODU28d",
        "outputId": "2a76e711-4234-49c9-981b-38b7cdb2c916"
      },
      "execution_count": null,
      "outputs": [
        {
          "output_type": "execute_result",
          "data": {
            "text/plain": [
              "((2720, 224, 224, 3), 'Arnold Schwarzenegger')"
            ]
          },
          "metadata": {},
          "execution_count": 29
        }
      ]
    },
    {
      "cell_type": "code",
      "source": [
        "dict_names = {}\n",
        "test_person = data['target'][test_idx][55]\n",
        "test_person_name = data['target_names'][data['target'][test_idx][55]]\n",
        "print(f\"Checking for: {test_person_name}\")\n",
        "plt.imshow(cv2.cvtColor(data_imgs[test_idx][55]/255., cv2.COLOR_BGR2RGB))\n",
        "plt.show()\n",
        "\n",
        "temp_df = pd.DataFrame(data=np.zeros(shape=(1,2)), columns=['Ground Truth', 'Predicted'])\n",
        "temp_df.iloc[0, 0] = test_person_name\n",
        "\n",
        "test_person_img = data_imgs[test_idx][55]\n",
        "imageA = test_person_img.reshape(1, 224, 224, 3).astype(np.float32)\n",
        "imageA = preprocess_input(imageA, version=2)\n",
        "encodingA = model.predict(imageA)\n",
        "\n",
        "for i in trange(len(train_idx), leave=False):\n",
        "    person_name = data['target_names'][data['target'][train_idx][i]]\n",
        "    img_array = data_imgs[train_idx][i]\n",
        "    imageB = img_array.reshape(1, 224, 224, 3).astype(np.float32)\n",
        "    imageB = preprocess_input(imageB, version=2)\n",
        "    encodingB = model.predict(imageB)\n",
        "    similar = is_match(encodingB, encodingA)\n",
        "    if dict_names.get(person_name) is not None:\n",
        "        dict_names[person_name] += similar\n",
        "    else:\n",
        "        dict_names[person_name] = similar\n",
        "unrecognized = max(list(dict_names.values())) < 1\n",
        "if unrecognized:\n",
        "    pred_name = 'Unknown'\n",
        "else:\n",
        "    pred_name = max(dict_names, key=dict_names.get)\n",
        "temp_df.iloc[0, 1] = pred_name\n",
        "temp_df"
      ],
      "metadata": {
        "colab": {
          "base_uri": "https://localhost:8080/",
          "height": 382,
          "referenced_widgets": [
            "2c8bf03c3e9947c995f960460b1afe76",
            "3176bc023bc848aea7df0fb93b0154fe",
            "6c2bfea7e8eb457c8d34e7147855df3d",
            "0aa998151d7d4989b68dc27eceeab58b",
            "7f0679caabf54400abacb93254f398f1",
            "36498a366a36452ea66ae45be3e3f656",
            "6b653e1bffab42269be21c76b1b94624",
            "8c986c2ce76948ba9abe01e3cc08538c",
            "93d023da3b6346898be0a5f41b1913b8",
            "1820787d70944214b37b96525f45fe07",
            "8f78f61f89b340b88c00980aeb677bd1"
          ]
        },
        "id": "WVv9ksS0WIc_",
        "outputId": "21622715-93f9-4af9-c268-db431fe087c6"
      },
      "execution_count": null,
      "outputs": [
        {
          "output_type": "stream",
          "name": "stdout",
          "text": [
            "Checking for: Bill Clinton\n"
          ]
        },
        {
          "output_type": "display_data",
          "data": {
            "image/png": "[encoded data removed]",
            "text/plain": [
              "<Figure size 432x288 with 1 Axes>"
            ]
          },
          "metadata": {
            "needs_background": "light"
          }
        },
        {
          "output_type": "display_data",
          "data": {
            "application/vnd.jupyter.widget-view+json": {
              "model_id": "2c8bf03c3e9947c995f960460b1afe76",
              "version_minor": 0,
              "version_major": 2
            },
            "text/plain": [
              "  0%|          | 0/2720 [00:00<?, ?it/s]"
            ]
          },
          "metadata": {}
        },
        {
          "output_type": "execute_result",
          "data": {
            "text/html": [
              "\n",
              "  <div id=\"df-73cae0f5-99cf-41e5-afa0-bbcf79a6f7c4\">\n",
              "    <div class=\"colab-df-container\">\n",
              "      <div>\n",
              "<style scoped>\n",
              "    .dataframe tbody tr th:only-of-type {\n",
              "        vertical-align: middle;\n",
              "    }\n",
              "\n",
              "    .dataframe tbody tr th {\n",
              "        vertical-align: top;\n",
              "    }\n",
              "\n",
              "    .dataframe thead th {\n",
              "        text-align: right;\n",
              "    }\n",
              "</style>\n",
              "<table border=\"1\" class=\"dataframe\">\n",
              "  <thead>\n",
              "    <tr style=\"text-align: right;\">\n",
              "      <th></th>\n",
              "      <th>Ground Truth</th>\n",
              "      <th>Predicted</th>\n",
              "    </tr>\n",
              "  </thead>\n",
              "  <tbody>\n",
              "    <tr>\n",
              "      <th>0</th>\n",
              "      <td>Bill Clinton</td>\n",
              "      <td>Bill Clinton</td>\n",
              "    </tr>\n",
              "  </tbody>\n",
              "</table>\n",
              "</div>\n",
              "      <button class=\"colab-df-convert\" onclick=\"convertToInteractive('df-73cae0f5-99cf-41e5-afa0-bbcf79a6f7c4')\"\n",
              "              title=\"Convert this dataframe to an interactive table.\"\n",
              "              style=\"display:none;\">\n",
              "        \n",
              "  <svg xmlns=\"http://www.w3.org/2000/svg\" height=\"24px\"viewBox=\"0 0 24 24\"\n",
              "       width=\"24px\">\n",
              "    <path d=\"M0 0h24v24H0V0z\" fill=\"none\"/>\n",
              "    <path d=\"M18.56 5.44l.94 2.06.94-2.06 2.06-.94-2.06-.94-.94-2.06-.94 2.06-2.06.94zm-11 1L8.5 8.5l.94-2.06 2.06-.94-2.06-.94L8.5 2.5l-.94 2.06-2.06.94zm10 10l.94 2.06.94-2.06 2.06-.94-2.06-.94-.94-2.06-.94 2.06-2.06.94z\"/><path d=\"M17.41 7.96l-1.37-1.37c-.4-.4-.92-.59-1.43-.59-.52 0-1.04.2-1.43.59L10.3 9.45l-7.72 7.72c-.78.78-.78 2.05 0 2.83L4 21.41c.39.39.9.59 1.41.59.51 0 1.02-.2 1.41-.59l7.78-7.78 2.81-2.81c.8-.78.8-2.07 0-2.86zM5.41 20L4 18.59l7.72-7.72 1.47 1.35L5.41 20z\"/>\n",
              "  </svg>\n",
              "      </button>\n",
              "      \n",
              "  <style>\n",
              "    .colab-df-container {\n",
              "      display:flex;\n",
              "      flex-wrap:wrap;\n",
              "      gap: 12px;\n",
              "    }\n",
              "\n",
              "    .colab-df-convert {\n",
              "      background-color: #E8F0FE;\n",
              "      border: none;\n",
              "      border-radius: 50%;\n",
              "      cursor: pointer;\n",
              "      display: none;\n",
              "      fill: #1967D2;\n",
              "      height: 32px;\n",
              "      padding: 0 0 0 0;\n",
              "      width: 32px;\n",
              "    }\n",
              "\n",
              "    .colab-df-convert:hover {\n",
              "      background-color: #E2EBFA;\n",
              "      box-shadow: 0px 1px 2px rgba(60, 64, 67, 0.3), 0px 1px 3px 1px rgba(60, 64, 67, 0.15);\n",
              "      fill: #174EA6;\n",
              "    }\n",
              "\n",
              "    [theme=dark] .colab-df-convert {\n",
              "      background-color: #3B4455;\n",
              "      fill: #D2E3FC;\n",
              "    }\n",
              "\n",
              "    [theme=dark] .colab-df-convert:hover {\n",
              "      background-color: #434B5C;\n",
              "      box-shadow: 0px 1px 3px 1px rgba(0, 0, 0, 0.15);\n",
              "      filter: drop-shadow(0px 1px 2px rgba(0, 0, 0, 0.3));\n",
              "      fill: #FFFFFF;\n",
              "    }\n",
              "  </style>\n",
              "\n",
              "      <script>\n",
              "        const buttonEl =\n",
              "          document.querySelector('#df-73cae0f5-99cf-41e5-afa0-bbcf79a6f7c4 button.colab-df-convert');\n",
              "        buttonEl.style.display =\n",
              "          google.colab.kernel.accessAllowed ? 'block' : 'none';\n",
              "\n",
              "        async function convertToInteractive(key) {\n",
              "          const element = document.querySelector('#df-73cae0f5-99cf-41e5-afa0-bbcf79a6f7c4');\n",
              "          const dataTable =\n",
              "            await google.colab.kernel.invokeFunction('convertToInteractive',\n",
              "                                                     [key], {});\n",
              "          if (!dataTable) return;\n",
              "\n",
              "          const docLinkHtml = 'Like what you see? Visit the ' +\n",
              "            '<a target=\"_blank\" href=https://colab.research.google.com/notebooks/data_table.ipynb>data table notebook</a>'\n",
              "            + ' to learn more about interactive tables.';\n",
              "          element.innerHTML = '';\n",
              "          dataTable['output_type'] = 'display_data';\n",
              "          await google.colab.output.renderOutput(dataTable, element);\n",
              "          const docLink = document.createElement('div');\n",
              "          docLink.innerHTML = docLinkHtml;\n",
              "          element.appendChild(docLink);\n",
              "        }\n",
              "      </script>\n",
              "    </div>\n",
              "  </div>\n",
              "  "
            ],
            "text/plain": [
              "   Ground Truth     Predicted\n",
              "0  Bill Clinton  Bill Clinton"
            ]
          },
          "metadata": {},
          "execution_count": 62
        }
      ]
    },
    {
      "cell_type": "code",
      "source": [
        "sorted(dict_names.items(), reverse=True, key=lambda x: x[1])"
      ],
      "metadata": {
        "colab": {
          "base_uri": "https://localhost:8080/"
        },
        "id": "v8pFciJSDO8v",
        "outputId": "c92983ac-71c2-4324-e6c1-31ac7c158413"
      },
      "execution_count": null,
      "outputs": [
        {
          "output_type": "execute_result",
          "data": {
            "text/plain": [
              "[('Bill Clinton', 27),\n",
              " ('Ricardo Lagos', 22),\n",
              " ('George W Bush', 11),\n",
              " ('Igor Ivanov', 9),\n",
              " ('Tom Ridge', 9),\n",
              " ('Jean Chretien', 8),\n",
              " ('Colin Powell', 7),\n",
              " ('Ariel Sharon', 5),\n",
              " ('Hugo Chavez', 3),\n",
              " ('Gray Davis', 2),\n",
              " ('Hans Blix', 2),\n",
              " ('George Robertson', 2),\n",
              " ('Arnold Schwarzenegger', 1),\n",
              " ('Vladimir Putin', 1),\n",
              " ('Atal Bihari Vajpayee', 1),\n",
              " ('Serena Williams', 0),\n",
              " ('Gerhard Schroeder', 0),\n",
              " ('Recep Tayyip Erdogan', 0),\n",
              " ('Amelie Mauresmo', 0),\n",
              " ('Megawati Sukarnoputri', 0),\n",
              " ('Tony Blair', 0),\n",
              " ('Nestor Kirchner', 0),\n",
              " ('Jose Maria Aznar', 0),\n",
              " ('Donald Rumsfeld', 0),\n",
              " ('Kofi Annan', 0),\n",
              " ('David Beckham', 0),\n",
              " ('John Negroponte', 0),\n",
              " ('Silvio Berlusconi', 0),\n",
              " ('Tom Daschle', 0),\n",
              " ('Jacques Chirac', 0),\n",
              " ('Mahmoud Abbas', 0),\n",
              " ('Roh Moo-hyun', 0),\n",
              " ('John Ashcroft', 0),\n",
              " ('Vicente Fox', 0),\n",
              " ('Luiz Inacio Lula da Silva', 0),\n",
              " ('Lleyton Hewitt', 0),\n",
              " ('Guillermo Coria', 0),\n",
              " ('Jack Straw', 0),\n",
              " ('Jennifer Lopez', 0),\n",
              " ('Lindsay Davenport', 0),\n",
              " ('Hamid Karzai', 0),\n",
              " ('Angelina Jolie', 0),\n",
              " ('Winona Ryder', 0),\n",
              " ('Paul Bremer', 0),\n",
              " ('Laura Bush', 0),\n",
              " ('Rudolph Giuliani', 0),\n",
              " ('Naomi Watts', 0),\n",
              " ('Junichiro Koizumi', 0),\n",
              " ('Andre Agassi', 0),\n",
              " ('Saddam Hussein', 0),\n",
              " ('Gloria Macapagal Arroyo', 0),\n",
              " ('Alvaro Uribe', 0),\n",
              " ('Jiang Zemin', 0),\n",
              " ('Jennifer Aniston', 0),\n",
              " ('Jeremy Greenstock', 0),\n",
              " ('Tiger Woods', 0),\n",
              " ('Jennifer Capriati', 0),\n",
              " ('Alejandro Toledo', 0),\n",
              " ('Juan Carlos Ferrero', 0),\n",
              " ('Michael Bloomberg', 0),\n",
              " ('Pete Sampras', 0),\n",
              " ('Carlos Menem', 0)]"
            ]
          },
          "metadata": {},
          "execution_count": 66
        }
      ]
    }
  ]
}