{
  "nbformat": 4,
  "nbformat_minor": 0,
  "metadata": {
    "colab": {
      "provenance": []
    },
    "kernelspec": {
      "name": "python3",
      "display_name": "Python 3"
    },
    "language_info": {
      "name": "python"
    },
    "accelerator": "GPU",
    "widgets": {
      "application/vnd.jupyter.widget-state+json": {
        "e111d72b14cf43cb81d77a018cefa610": {
          "model_module": "@jupyter-widgets/controls",
          "model_name": "HBoxModel",
          "model_module_version": "1.5.0",
          "state": {
            "_dom_classes": [],
            "_model_module": "@jupyter-widgets/controls",
            "_model_module_version": "1.5.0",
            "_model_name": "HBoxModel",
            "_view_count": null,
            "_view_module": "@jupyter-widgets/controls",
            "_view_module_version": "1.5.0",
            "_view_name": "HBoxView",
            "box_style": "",
            "children": [
              "IPY_MODEL_379fbc16758b4bdcb9c2a539bc41c2fd",
              "IPY_MODEL_19af051194ff4afb81c51f697475a327",
              "IPY_MODEL_c173ccbfa76f401fb0273e8d07bb7fba"
            ],
            "layout": "IPY_MODEL_31e6d5af5ca14572929c5f8be59ceed3"
          }
        },
        "379fbc16758b4bdcb9c2a539bc41c2fd": {
          "model_module": "@jupyter-widgets/controls",
          "model_name": "HTMLModel",
          "model_module_version": "1.5.0",
          "state": {
            "_dom_classes": [],
            "_model_module": "@jupyter-widgets/controls",
            "_model_module_version": "1.5.0",
            "_model_name": "HTMLModel",
            "_view_count": null,
            "_view_module": "@jupyter-widgets/controls",
            "_view_module_version": "1.5.0",
            "_view_name": "HTMLView",
            "description": "",
            "description_tooltip": null,
            "layout": "IPY_MODEL_0b48562cbb014a49b47e281c09bb51f9",
            "placeholder": "​",
            "style": "IPY_MODEL_590f279586024210bdc910e3f36953db",
            "value": "100%"
          }
        },
        "19af051194ff4afb81c51f697475a327": {
          "model_module": "@jupyter-widgets/controls",
          "model_name": "FloatProgressModel",
          "model_module_version": "1.5.0",
          "state": {
            "_dom_classes": [],
            "_model_module": "@jupyter-widgets/controls",
            "_model_module_version": "1.5.0",
            "_model_name": "FloatProgressModel",
            "_view_count": null,
            "_view_module": "@jupyter-widgets/controls",
            "_view_module_version": "1.5.0",
            "_view_name": "ProgressView",
            "bar_style": "success",
            "description": "",
            "description_tooltip": null,
            "layout": "IPY_MODEL_dd134f64332142a7924f543477c29c6d",
            "max": 600,
            "min": 0,
            "orientation": "horizontal",
            "style": "IPY_MODEL_e278941725a24f618e10e955de2f9a53",
            "value": 600
          }
        },
        "c173ccbfa76f401fb0273e8d07bb7fba": {
          "model_module": "@jupyter-widgets/controls",
          "model_name": "HTMLModel",
          "model_module_version": "1.5.0",
          "state": {
            "_dom_classes": [],
            "_model_module": "@jupyter-widgets/controls",
            "_model_module_version": "1.5.0",
            "_model_name": "HTMLModel",
            "_view_count": null,
            "_view_module": "@jupyter-widgets/controls",
            "_view_module_version": "1.5.0",
            "_view_name": "HTMLView",
            "description": "",
            "description_tooltip": null,
            "layout": "IPY_MODEL_c742eb326537420f8b9e63c73e9494d9",
            "placeholder": "​",
            "style": "IPY_MODEL_4a0888e2b5df4b63ba6c13cd6e4aaaec",
            "value": " 600/600 [01:42&lt;00:00,  6.29it/s]"
          }
        },
        "31e6d5af5ca14572929c5f8be59ceed3": {
          "model_module": "@jupyter-widgets/base",
          "model_name": "LayoutModel",
          "model_module_version": "1.2.0",
          "state": {
            "_model_module": "@jupyter-widgets/base",
            "_model_module_version": "1.2.0",
            "_model_name": "LayoutModel",
            "_view_count": null,
            "_view_module": "@jupyter-widgets/base",
            "_view_module_version": "1.2.0",
            "_view_name": "LayoutView",
            "align_content": null,
            "align_items": null,
            "align_self": null,
            "border": null,
            "bottom": null,
            "display": null,
            "flex": null,
            "flex_flow": null,
            "grid_area": null,
            "grid_auto_columns": null,
            "grid_auto_flow": null,
            "grid_auto_rows": null,
            "grid_column": null,
            "grid_gap": null,
            "grid_row": null,
            "grid_template_areas": null,
            "grid_template_columns": null,
            "grid_template_rows": null,
            "height": null,
            "justify_content": null,
            "justify_items": null,
            "left": null,
            "margin": null,
            "max_height": null,
            "max_width": null,
            "min_height": null,
            "min_width": null,
            "object_fit": null,
            "object_position": null,
            "order": null,
            "overflow": null,
            "overflow_x": null,
            "overflow_y": null,
            "padding": null,
            "right": null,
            "top": null,
            "visibility": null,
            "width": null
          }
        },
        "0b48562cbb014a49b47e281c09bb51f9": {
          "model_module": "@jupyter-widgets/base",
          "model_name": "LayoutModel",
          "model_module_version": "1.2.0",
          "state": {
            "_model_module": "@jupyter-widgets/base",
            "_model_module_version": "1.2.0",
            "_model_name": "LayoutModel",
            "_view_count": null,
            "_view_module": "@jupyter-widgets/base",
            "_view_module_version": "1.2.0",
            "_view_name": "LayoutView",
            "align_content": null,
            "align_items": null,
            "align_self": null,
            "border": null,
            "bottom": null,
            "display": null,
            "flex": null,
            "flex_flow": null,
            "grid_area": null,
            "grid_auto_columns": null,
            "grid_auto_flow": null,
            "grid_auto_rows": null,
            "grid_column": null,
            "grid_gap": null,
            "grid_row": null,
            "grid_template_areas": null,
            "grid_template_columns": null,
            "grid_template_rows": null,
            "height": null,
            "justify_content": null,
            "justify_items": null,
            "left": null,
            "margin": null,
            "max_height": null,
            "max_width": null,
            "min_height": null,
            "min_width": null,
            "object_fit": null,
            "object_position": null,
            "order": null,
            "overflow": null,
            "overflow_x": null,
            "overflow_y": null,
            "padding": null,
            "right": null,
            "top": null,
            "visibility": null,
            "width": null
          }
        },
        "590f279586024210bdc910e3f36953db": {
          "model_module": "@jupyter-widgets/controls",
          "model_name": "DescriptionStyleModel",
          "model_module_version": "1.5.0",
          "state": {
            "_model_module": "@jupyter-widgets/controls",
            "_model_module_version": "1.5.0",
            "_model_name": "DescriptionStyleModel",
            "_view_count": null,
            "_view_module": "@jupyter-widgets/base",
            "_view_module_version": "1.2.0",
            "_view_name": "StyleView",
            "description_width": ""
          }
        },
        "dd134f64332142a7924f543477c29c6d": {
          "model_module": "@jupyter-widgets/base",
          "model_name": "LayoutModel",
          "model_module_version": "1.2.0",
          "state": {
            "_model_module": "@jupyter-widgets/base",
            "_model_module_version": "1.2.0",
            "_model_name": "LayoutModel",
            "_view_count": null,
            "_view_module": "@jupyter-widgets/base",
            "_view_module_version": "1.2.0",
            "_view_name": "LayoutView",
            "align_content": null,
            "align_items": null,
            "align_self": null,
            "border": null,
            "bottom": null,
            "display": null,
            "flex": null,
            "flex_flow": null,
            "grid_area": null,
            "grid_auto_columns": null,
            "grid_auto_flow": null,
            "grid_auto_rows": null,
            "grid_column": null,
            "grid_gap": null,
            "grid_row": null,
            "grid_template_areas": null,
            "grid_template_columns": null,
            "grid_template_rows": null,
            "height": null,
            "justify_content": null,
            "justify_items": null,
            "left": null,
            "margin": null,
            "max_height": null,
            "max_width": null,
            "min_height": null,
            "min_width": null,
            "object_fit": null,
            "object_position": null,
            "order": null,
            "overflow": null,
            "overflow_x": null,
            "overflow_y": null,
            "padding": null,
            "right": null,
            "top": null,
            "visibility": null,
            "width": null
          }
        },
        "e278941725a24f618e10e955de2f9a53": {
          "model_module": "@jupyter-widgets/controls",
          "model_name": "ProgressStyleModel",
          "model_module_version": "1.5.0",
          "state": {
            "_model_module": "@jupyter-widgets/controls",
            "_model_module_version": "1.5.0",
            "_model_name": "ProgressStyleModel",
            "_view_count": null,
            "_view_module": "@jupyter-widgets/base",
            "_view_module_version": "1.2.0",
            "_view_name": "StyleView",
            "bar_color": null,
            "description_width": ""
          }
        },
        "c742eb326537420f8b9e63c73e9494d9": {
          "model_module": "@jupyter-widgets/base",
          "model_name": "LayoutModel",
          "model_module_version": "1.2.0",
          "state": {
            "_model_module": "@jupyter-widgets/base",
            "_model_module_version": "1.2.0",
            "_model_name": "LayoutModel",
            "_view_count": null,
            "_view_module": "@jupyter-widgets/base",
            "_view_module_version": "1.2.0",
            "_view_name": "LayoutView",
            "align_content": null,
            "align_items": null,
            "align_self": null,
            "border": null,
            "bottom": null,
            "display": null,
            "flex": null,
            "flex_flow": null,
            "grid_area": null,
            "grid_auto_columns": null,
            "grid_auto_flow": null,
            "grid_auto_rows": null,
            "grid_column": null,
            "grid_gap": null,
            "grid_row": null,
            "grid_template_areas": null,
            "grid_template_columns": null,
            "grid_template_rows": null,
            "height": null,
            "justify_content": null,
            "justify_items": null,
            "left": null,
            "margin": null,
            "max_height": null,
            "max_width": null,
            "min_height": null,
            "min_width": null,
            "object_fit": null,
            "object_position": null,
            "order": null,
            "overflow": null,
            "overflow_x": null,
            "overflow_y": null,
            "padding": null,
            "right": null,
            "top": null,
            "visibility": null,
            "width": null
          }
        },
        "4a0888e2b5df4b63ba6c13cd6e4aaaec": {
          "model_module": "@jupyter-widgets/controls",
          "model_name": "DescriptionStyleModel",
          "model_module_version": "1.5.0",
          "state": {
            "_model_module": "@jupyter-widgets/controls",
            "_model_module_version": "1.5.0",
            "_model_name": "DescriptionStyleModel",
            "_view_count": null,
            "_view_module": "@jupyter-widgets/base",
            "_view_module_version": "1.2.0",
            "_view_name": "StyleView",
            "description_width": ""
          }
        }
      }
    }
  },
  "cells": [
    {
      "cell_type": "code",
      "execution_count": 1,
      "metadata": {
        "id": "SMtwrz-p8pC5"
      },
      "outputs": [],
      "source": [
        "from IPython.display import clear_output\n",
        "from google.colab import files\n",
        "files.upload()\n",
        "#from google.colab import drive\n",
        "#drive.mount('/content/drive')\n",
        "!mkdir -p ~/.kaggle\n",
        "!cp kaggle.json ~/.kaggle/\n",
        "!ls ~/.kaggle\n",
        "!chmod 600 /root/.kaggle/kaggle.json\n",
        "!kaggle datasets download -d atulanandjha/lfwpeople\n",
        "!unzip lfwpeople.zip\n",
        "!tar -xvzf lfw-funneled.tgz\n",
        "!rm lfw-funneled.tgz lfwpeople.zip\n",
        "!pip install -qq tensorflow_addons\n",
        "clear_output()"
      ]
    },
    {
      "cell_type": "code",
      "source": [
        "import warnings\n",
        "warnings.filterwarnings(\"ignore\")\n",
        "import os\n",
        "\n",
        "import numpy as np\n",
        "import pandas as pd\n",
        "import pickle\n",
        "\n",
        "import tensorflow as tf\n",
        "import tensorflow_addons as tfa\n",
        "from tensorflow.keras.applications import resnet\n",
        "from tensorflow.keras.metrics import Mean, CosineSimilarity\n",
        "from tensorflow.keras.layers import Layer\n",
        "import tensorflow.keras.backend as K\n",
        "\n",
        "import matplotlib.pyplot as plt\n",
        "import cv2\n",
        "from glob import glob\n",
        "from tqdm.notebook import trange, tqdm\n",
        "\n",
        "from sklearn.model_selection import train_test_split"
      ],
      "metadata": {
        "id": "htamA67C84wY"
      },
      "execution_count": 2,
      "outputs": []
    },
    {
      "cell_type": "code",
      "source": [
        "def set_seed(seed: int = 42) -> None:\n",
        "    np.random.seed(seed)\n",
        "    np.random.seed(seed)\n",
        "    tf.random.set_seed(seed)\n",
        "    tf.experimental.numpy.random.seed(seed)\n",
        "    #os.environ['TF_CUDNN_DETERMINISTIC'] = '1'\n",
        "    #os.environ['TF_DETERMINISTIC_OPS'] = '1'\n",
        "    os.environ[\"PYTHONHASHSEED\"] = str(seed)\n",
        "    print(f\"Random seed set as {seed}\")\n",
        "\n",
        "set_seed()"
      ],
      "metadata": {
        "colab": {
          "base_uri": "https://localhost:8080/"
        },
        "id": "lkwCmmzKB3FE",
        "outputId": "dbbfcbcc-5643-42da-fdce-0f119aaa6343"
      },
      "execution_count": 3,
      "outputs": [
        {
          "output_type": "stream",
          "name": "stdout",
          "text": [
            "Random seed set as 42\n"
          ]
        }
      ]
    },
    {
      "cell_type": "code",
      "source": [
        "IMAGE_SIZE = 105\n",
        "BATCH_SIZE = 64\n",
        "epochs = 200\n",
        "AUTOTUNE = tf.data.AUTOTUNE"
      ],
      "metadata": {
        "id": "lvNmR8r3B56v"
      },
      "execution_count": 4,
      "outputs": []
    },
    {
      "cell_type": "markdown",
      "source": [
        "**Losses**"
      ],
      "metadata": {
        "id": "bAgCje-nB-JV"
      }
    },
    {
      "cell_type": "code",
      "source": [
        "# Contrastive Loss showed poor results, so cosine loss taken\n",
        "def CosineEmbeddingLoss(margin=0.):\n",
        "    \"\"\"\n",
        "    x1 - feature embedding of face one\n",
        "    x2 - feature embedding of face two\n",
        "    target - label {-1, 1} - same face or not\n",
        "    \"\"\"\n",
        "    def _cosine_similarity(x1, x2):\n",
        "        return tf.reduce_sum(x1 * x2, axis=-1) / (tf.norm(x1, axis=-1) * tf.norm(x2, axis=-1))\n",
        "    def _cosine_embedding_loss_fn(input_one, input_two, target):\n",
        "        similarity = _cosine_similarity(input_one, input_two)\n",
        "        return tf.reduce_mean(tf.where(tf.equal(target, 1), 1. - similarity, \n",
        "                                       tf.maximum(tf.zeros_like(similarity), similarity - margin)))\n",
        "    return _cosine_embedding_loss_fn"
      ],
      "metadata": {
        "id": "xTekEPtTB_in"
      },
      "execution_count": 5,
      "outputs": []
    },
    {
      "cell_type": "markdown",
      "source": [
        "**Get dataset and split**"
      ],
      "metadata": {
        "id": "rknHEjozcMAn"
      }
    },
    {
      "cell_type": "code",
      "source": [
        "img_dir = glob('lfw_funneled/'+'/*/*')\n",
        "img_dir = [str(x) for x in img_dir]\n",
        "df = pd.DataFrame(img_dir, columns=['Image_dir'])\n",
        "df['Name'] = df['Image_dir'].str.split('/', expand=True).loc[:, [1,]]\n",
        "df.sample(5)"
      ],
      "metadata": {
        "colab": {
          "base_uri": "https://localhost:8080/",
          "height": 206
        },
        "id": "aDuLu3oqCBGV",
        "outputId": "1e138264-a0f4-47c1-9a9b-117c5b931d55"
      },
      "execution_count": 6,
      "outputs": [
        {
          "output_type": "execute_result",
          "data": {
            "text/plain": [
              "                                               Image_dir  \\\n",
              "12149  lfw_funneled/Gloria_Macapagal_Arroyo/Gloria_Ma...   \n",
              "8355       lfw_funneled/Chuck_Amato/Chuck_Amato_0001.jpg   \n",
              "9040   lfw_funneled/Millicent_Martin/Millicent_Martin...   \n",
              "63     lfw_funneled/Aleksander_Kwasniewski/Aleksander...   \n",
              "9311   lfw_funneled/Oscar_Bolanos/Oscar_Bolanos_0001.jpg   \n",
              "\n",
              "                          Name  \n",
              "12149  Gloria_Macapagal_Arroyo  \n",
              "8355               Chuck_Amato  \n",
              "9040          Millicent_Martin  \n",
              "63      Aleksander_Kwasniewski  \n",
              "9311             Oscar_Bolanos  "
            ],
            "text/html": [
              "\n",
              "  <div id=\"df-a708e366-5b38-40e3-94b7-7684e7d20a0a\">\n",
              "    <div class=\"colab-df-container\">\n",
              "      <div>\n",
              "<style scoped>\n",
              "    .dataframe tbody tr th:only-of-type {\n",
              "        vertical-align: middle;\n",
              "    }\n",
              "\n",
              "    .dataframe tbody tr th {\n",
              "        vertical-align: top;\n",
              "    }\n",
              "\n",
              "    .dataframe thead th {\n",
              "        text-align: right;\n",
              "    }\n",
              "</style>\n",
              "<table border=\"1\" class=\"dataframe\">\n",
              "  <thead>\n",
              "    <tr style=\"text-align: right;\">\n",
              "      <th></th>\n",
              "      <th>Image_dir</th>\n",
              "      <th>Name</th>\n",
              "    </tr>\n",
              "  </thead>\n",
              "  <tbody>\n",
              "    <tr>\n",
              "      <th>12149</th>\n",
              "      <td>lfw_funneled/Gloria_Macapagal_Arroyo/Gloria_Ma...</td>\n",
              "      <td>Gloria_Macapagal_Arroyo</td>\n",
              "    </tr>\n",
              "    <tr>\n",
              "      <th>8355</th>\n",
              "      <td>lfw_funneled/Chuck_Amato/Chuck_Amato_0001.jpg</td>\n",
              "      <td>Chuck_Amato</td>\n",
              "    </tr>\n",
              "    <tr>\n",
              "      <th>9040</th>\n",
              "      <td>lfw_funneled/Millicent_Martin/Millicent_Martin...</td>\n",
              "      <td>Millicent_Martin</td>\n",
              "    </tr>\n",
              "    <tr>\n",
              "      <th>63</th>\n",
              "      <td>lfw_funneled/Aleksander_Kwasniewski/Aleksander...</td>\n",
              "      <td>Aleksander_Kwasniewski</td>\n",
              "    </tr>\n",
              "    <tr>\n",
              "      <th>9311</th>\n",
              "      <td>lfw_funneled/Oscar_Bolanos/Oscar_Bolanos_0001.jpg</td>\n",
              "      <td>Oscar_Bolanos</td>\n",
              "    </tr>\n",
              "  </tbody>\n",
              "</table>\n",
              "</div>\n",
              "      <button class=\"colab-df-convert\" onclick=\"convertToInteractive('df-a708e366-5b38-40e3-94b7-7684e7d20a0a')\"\n",
              "              title=\"Convert this dataframe to an interactive table.\"\n",
              "              style=\"display:none;\">\n",
              "        \n",
              "  <svg xmlns=\"http://www.w3.org/2000/svg\" height=\"24px\"viewBox=\"0 0 24 24\"\n",
              "       width=\"24px\">\n",
              "    <path d=\"M0 0h24v24H0V0z\" fill=\"none\"/>\n",
              "    <path d=\"M18.56 5.44l.94 2.06.94-2.06 2.06-.94-2.06-.94-.94-2.06-.94 2.06-2.06.94zm-11 1L8.5 8.5l.94-2.06 2.06-.94-2.06-.94L8.5 2.5l-.94 2.06-2.06.94zm10 10l.94 2.06.94-2.06 2.06-.94-2.06-.94-.94-2.06-.94 2.06-2.06.94z\"/><path d=\"M17.41 7.96l-1.37-1.37c-.4-.4-.92-.59-1.43-.59-.52 0-1.04.2-1.43.59L10.3 9.45l-7.72 7.72c-.78.78-.78 2.05 0 2.83L4 21.41c.39.39.9.59 1.41.59.51 0 1.02-.2 1.41-.59l7.78-7.78 2.81-2.81c.8-.78.8-2.07 0-2.86zM5.41 20L4 18.59l7.72-7.72 1.47 1.35L5.41 20z\"/>\n",
              "  </svg>\n",
              "      </button>\n",
              "      \n",
              "  <style>\n",
              "    .colab-df-container {\n",
              "      display:flex;\n",
              "      flex-wrap:wrap;\n",
              "      gap: 12px;\n",
              "    }\n",
              "\n",
              "    .colab-df-convert {\n",
              "      background-color: #E8F0FE;\n",
              "      border: none;\n",
              "      border-radius: 50%;\n",
              "      cursor: pointer;\n",
              "      display: none;\n",
              "      fill: #1967D2;\n",
              "      height: 32px;\n",
              "      padding: 0 0 0 0;\n",
              "      width: 32px;\n",
              "    }\n",
              "\n",
              "    .colab-df-convert:hover {\n",
              "      background-color: #E2EBFA;\n",
              "      box-shadow: 0px 1px 2px rgba(60, 64, 67, 0.3), 0px 1px 3px 1px rgba(60, 64, 67, 0.15);\n",
              "      fill: #174EA6;\n",
              "    }\n",
              "\n",
              "    [theme=dark] .colab-df-convert {\n",
              "      background-color: #3B4455;\n",
              "      fill: #D2E3FC;\n",
              "    }\n",
              "\n",
              "    [theme=dark] .colab-df-convert:hover {\n",
              "      background-color: #434B5C;\n",
              "      box-shadow: 0px 1px 3px 1px rgba(0, 0, 0, 0.15);\n",
              "      filter: drop-shadow(0px 1px 2px rgba(0, 0, 0, 0.3));\n",
              "      fill: #FFFFFF;\n",
              "    }\n",
              "  </style>\n",
              "\n",
              "      <script>\n",
              "        const buttonEl =\n",
              "          document.querySelector('#df-a708e366-5b38-40e3-94b7-7684e7d20a0a button.colab-df-convert');\n",
              "        buttonEl.style.display =\n",
              "          google.colab.kernel.accessAllowed ? 'block' : 'none';\n",
              "\n",
              "        async function convertToInteractive(key) {\n",
              "          const element = document.querySelector('#df-a708e366-5b38-40e3-94b7-7684e7d20a0a');\n",
              "          const dataTable =\n",
              "            await google.colab.kernel.invokeFunction('convertToInteractive',\n",
              "                                                     [key], {});\n",
              "          if (!dataTable) return;\n",
              "\n",
              "          const docLinkHtml = 'Like what you see? Visit the ' +\n",
              "            '<a target=\"_blank\" href=https://colab.research.google.com/notebooks/data_table.ipynb>data table notebook</a>'\n",
              "            + ' to learn more about interactive tables.';\n",
              "          element.innerHTML = '';\n",
              "          dataTable['output_type'] = 'display_data';\n",
              "          await google.colab.output.renderOutput(dataTable, element);\n",
              "          const docLink = document.createElement('div');\n",
              "          docLink.innerHTML = docLinkHtml;\n",
              "          element.appendChild(docLink);\n",
              "        }\n",
              "      </script>\n",
              "    </div>\n",
              "  </div>\n",
              "  "
            ]
          },
          "metadata": {},
          "execution_count": 6
        }
      ]
    },
    {
      "cell_type": "code",
      "source": [
        "train, test = train_test_split(df, test_size=600, shuffle=True, random_state=123)\n",
        "train, valid = train_test_split(train, test_size=1000, shuffle=True, random_state=123)\n",
        "train.reset_index(drop=True, inplace=True)\n",
        "valid.reset_index(drop=True, inplace=True)\n",
        "test.reset_index(drop=True, inplace=True)\n",
        "train.shape, valid.shape, test.shape"
      ],
      "metadata": {
        "colab": {
          "base_uri": "https://localhost:8080/"
        },
        "id": "OlvnvGieFcUX",
        "outputId": "15814625-2aa4-4416-f2d0-f8791c6a11f2"
      },
      "execution_count": 25,
      "outputs": [
        {
          "output_type": "execute_result",
          "data": {
            "text/plain": [
              "((11633, 2), (1000, 2), (600, 2))"
            ]
          },
          "metadata": {},
          "execution_count": 25
        }
      ]
    },
    {
      "cell_type": "markdown",
      "source": [
        "**Crop face function for preprocessing**"
      ],
      "metadata": {
        "id": "tX4-nNGrcRcN"
      }
    },
    {
      "cell_type": "code",
      "source": [
        "face_cascade = cv2.CascadeClassifier(cv2.data.haarcascades + 'haarcascade_frontalface_default.xml')\n",
        "\n",
        "def crop_face(image):\n",
        "    gray = cv2.cvtColor(image, cv2.COLOR_RGB2GRAY)\n",
        "    faces = face_cascade.detectMultiScale(gray, 1.1, 5)\n",
        "    if len(faces) > 0:\n",
        "        for x, y, w, h in faces:\n",
        "            image2 = image[y: y+h, x: x+w, :]\n",
        "        image2 = cv2.resize(image2, (IMAGE_SIZE, IMAGE_SIZE))\n",
        "        return image2, 1\n",
        "    return image, 0"
      ],
      "metadata": {
        "id": "18ezxcNWCQDG"
      },
      "execution_count": 8,
      "outputs": []
    },
    {
      "cell_type": "markdown",
      "source": [
        "**Advanced image albumentations**"
      ],
      "metadata": {
        "id": "IQ5mderDcW6k"
      }
    },
    {
      "cell_type": "code",
      "source": [
        "from albumentations import (\n",
        "    Compose, JpegCompression, HueSaturationValue, HorizontalFlip,\n",
        "    Rotate, OneOf, ToGray, RandomBrightnessContrast, ElasticTransform, \n",
        "    GridDistortion, OpticalDistortion, \n",
        ")\n",
        "from functools import partial\n",
        "\n",
        "transforms = Compose([OneOf([\n",
        "                            Rotate(limit=40),\n",
        "                            ToGray(p=0.5),\n",
        "                            RandomBrightnessContrast(brightness_limit=0.2, contrast_limit=0.2, p=0.9),\n",
        "                            JpegCompression(quality_lower=85, quality_upper=100, p=0.5),\n",
        "                            HueSaturationValue(hue_shift_limit=20, sat_shift_limit=30, val_shift_limit=20, p=0.5),\n",
        "                            HorizontalFlip(p=1.),], p=1.0),\n",
        "                       OneOf([\n",
        "                             ElasticTransform(p=0.5, alpha=120, sigma=120 * 0.05, alpha_affine=120 * 0.03),\n",
        "                             GridDistortion(p=0.5),\n",
        "                             OpticalDistortion(distort_limit=1, shift_limit=0.5, p=1),\n",
        "                            ], p=0.1)\n",
        "                            ])\n",
        "\n",
        "def aug_fn(image):\n",
        "    data = {\"image\":image}\n",
        "    aug_data = transforms(**data)\n",
        "    aug_img = aug_data[\"image\"]\n",
        "    return aug_img"
      ],
      "metadata": {
        "id": "7ZkuWxYk67Rb"
      },
      "execution_count": 9,
      "outputs": []
    },
    {
      "cell_type": "markdown",
      "source": [
        "**Creating iterators**"
      ],
      "metadata": {
        "id": "T7SPKXiEcbZz"
      }
    },
    {
      "cell_type": "code",
      "source": [
        "def get_image(data, idx, prob=0.5, train=False):\n",
        "    itemA = data.loc[idx, 'Image_dir']\n",
        "    itemA_name = data.loc[idx, 'Name']\n",
        "    same_person = np.random.choice([-1,1], p=[prob, 1-prob])\n",
        "    if same_person == 1:\n",
        "        itemB_ser = data.loc[(data.Name == itemA_name) & (data.Image_dir != itemA), 'Image_dir']\n",
        "        itemB_idx = itemB_ser.index\n",
        "        if len(itemB_idx) >= 1:\n",
        "            itemB = itemB_ser[np.random.choice(itemB_idx)]\n",
        "            itemB_name = data.loc[data['Image_dir'] == itemB, 'Name'].values[0]\n",
        "        else:\n",
        "            same_person = -1\n",
        "    if same_person == -1:\n",
        "        other_persons_idx = data.loc[~(data.Name == itemA_name), :].index\n",
        "        itemB_row = data.loc[np.random.choice(other_persons_idx)]\n",
        "        itemB = itemB_row['Image_dir']\n",
        "        itemB_name = itemB_row['Name']\n",
        "\n",
        "    imageA = cv2.imread(itemA)\n",
        "    imageA = cv2.cvtColor(imageA, cv2.COLOR_BGR2RGB)\n",
        "    imageB = cv2.imread(itemB)\n",
        "    imageB = cv2.cvtColor(imageB, cv2.COLOR_BGR2RGB)\n",
        "\n",
        "    imageA, resultA = crop_face(imageA)\n",
        "    imageB, resultB = crop_face(imageB)\n",
        "    if not resultA:\n",
        "        imageA = cv2.resize(imageA, (IMAGE_SIZE, IMAGE_SIZE))\n",
        "    if not resultB:\n",
        "        imageB = cv2.resize(imageB, (IMAGE_SIZE, IMAGE_SIZE))\n",
        "    \n",
        "    if train:\n",
        "        imageA = aug_fn(imageA)\n",
        "        imageB = aug_fn(imageB)\n",
        "\n",
        "    imageA = (imageA / 127.5) - 1\n",
        "    imageB = (imageB / 127.5) - 1\n",
        "\n",
        "    return imageA, imageB, same_person\n",
        "\n",
        "def train_data_generator():\n",
        "    for idx in range(len(train)):\n",
        "        yield get_image(train, idx, prob=0.4, train=True)\n",
        "\n",
        "def valid_data_generator():\n",
        "    for idx in range(len(valid)):\n",
        "        yield get_image(valid, idx)\n",
        "\n",
        "def test_data_generator():\n",
        "    for idx in range(len(test)):\n",
        "        yield get_image(test, idx)"
      ],
      "metadata": {
        "id": "vfqBF20DvzZK"
      },
      "execution_count": 26,
      "outputs": []
    },
    {
      "cell_type": "markdown",
      "source": [
        "**TF dataset**"
      ],
      "metadata": {
        "id": "gpR2Z8YZcgeC"
      }
    },
    {
      "cell_type": "code",
      "source": [
        "def data_augmentation(image, seed=(1,2)):\n",
        "    \"\"\" inbuilt methods \"\"\"\n",
        "    image = tf.image.stateless_random_brightness(image, max_delta=0.95, seed=seed)\n",
        "    image = tf.image.stateless_random_contrast(image, lower=0.2, upper=0.95, seed=seed)\n",
        "    image = tf.image.stateless_random_flip_left_right(image, seed=seed)\n",
        "    image = tf.image.stateless_random_hue(image, max_delta=0.1, seed=seed)\n",
        "    image = tf.image.stateless_random_jpeg_quality(image, min_jpeg_quality=80, max_jpeg_quality=100, seed=seed)\n",
        "    image = tf.image.stateless_random_saturation(image, lower=0.8, upper=0.99, seed=seed)\n",
        "    \n",
        "    return image\n",
        "\n",
        "def prepare(generator, shuffle=False):\n",
        "    ds = tf.data.Dataset.from_generator(generator, \n",
        "                                        output_types=(np.float32, np.float32, np.int32),\n",
        "                                        output_shapes=((IMAGE_SIZE, IMAGE_SIZE, 3), (IMAGE_SIZE, IMAGE_SIZE, 3), None)).cache()\n",
        "    if shuffle:\n",
        "        ds = ds.shuffle(1000)\n",
        "    ds = ds.batch(BATCH_SIZE)\n",
        "\n",
        "    return ds.prefetch(buffer_size=AUTOTUNE)"
      ],
      "metadata": {
        "id": "Zhmr-ga6YORf"
      },
      "execution_count": 11,
      "outputs": []
    },
    {
      "cell_type": "code",
      "source": [
        "train_ds = prepare(train_data_generator, shuffle=True)\n",
        "valid_ds = prepare(valid_data_generator)\n",
        "test_ds = prepare(test_data_generator)"
      ],
      "metadata": {
        "id": "jwYK2feQ0BgL"
      },
      "execution_count": 27,
      "outputs": []
    },
    {
      "cell_type": "markdown",
      "source": [
        "**Model architecture**"
      ],
      "metadata": {
        "id": "dSWZwPJ9ckf4"
      }
    },
    {
      "cell_type": "code",
      "source": [
        "class ReflectionPad2D(Layer):\n",
        "    def __init__(self, paddings=(1,1,1,1)):\n",
        "        super(ReflectionPad2D, self).__init__()\n",
        "        self.paddings = paddings\n",
        "\n",
        "    def call(self, input):\n",
        "        l, r, t, b = self.paddings\n",
        "\n",
        "        return tf.pad(input, paddings=[[0,0], [t,b], [l,r], [0,0]], mode='REFLECT')\n",
        "\n",
        "def convBlock(n_outputs):\n",
        "    return tf.keras.Sequential([\n",
        "        tf.keras.layers.Dropout(0.2),\n",
        "        ReflectionPad2D(),\n",
        "        tf.keras.layers.Conv2D(n_outputs, kernel_size=3, strides=1, padding=\"valid\", activation=\"relu\"),\n",
        "        tf.keras.layers.BatchNormalization(),\n",
        "    ])\n",
        "\n",
        "class CNNExtractor(tf.keras.Model):\n",
        "    def __init__(self):\n",
        "        super(CNNExtractor, self).__init__()\n",
        "        self.pool = tfa.layers.AdaptiveAveragePooling2D(7)\n",
        "        self.cnn = tf.keras.Sequential([\n",
        "            tf.keras.layers.Input(shape=(IMAGE_SIZE, IMAGE_SIZE, 3)),\n",
        "            convBlock(8),\n",
        "            convBlock(16),\n",
        "            convBlock(32),\n",
        "            convBlock(32),\n",
        "            ])\n",
        "        self.dense = tf.keras.Sequential([\n",
        "            tf.keras.layers.Flatten(),\n",
        "            tf.keras.layers.Dense(512, activation=\"relu\"),\n",
        "            tf.keras.layers.Dense(512, activation=\"relu\"),\n",
        "            tf.keras.layers.Dropout(0.2),\n",
        "            tf.keras.layers.Dense(10),\n",
        "            tf.keras.layers.LayerNormalization()  # added in new version\n",
        "            ])\n",
        "        # self.build((None,) + (IMAGE_SIZE, IMAGE_SIZE, 3))\n",
        "        \n",
        "    def call(self, x):\n",
        "        x = self.cnn(x)\n",
        "        x = self.pool(x)\n",
        "        x = self.dense(x)\n",
        "        return x"
      ],
      "metadata": {
        "id": "-MJJWyvp3Spz"
      },
      "execution_count": 18,
      "outputs": []
    },
    {
      "cell_type": "code",
      "source": [
        "class SiameseModel(tf.keras.Model):\n",
        "\n",
        "    def __init__(self):\n",
        "        super(SiameseModel, self).__init__()\n",
        "        self.feature_extractor = CNNExtractor()\n",
        "        self.loss_tracker = Mean(name=\"loss\")\n",
        "        self.loss_fn = CosineEmbeddingLoss(margin=0.2)\n",
        "        # self.build((None,) + (IMAGE_SIZE, IMAGE_SIZE, 3))\n",
        "\n",
        "    def call(self, inputs):\n",
        "        return self.feature_extractor(inputs)\n",
        "\n",
        "    def train_step(self, data):\n",
        "        input1, input2, target = data\n",
        "\n",
        "        with tf.GradientTape() as tape:\n",
        "            loss = self._compute_loss(input1, input2, target)\n",
        "\n",
        "        gradients = tape.gradient(loss, self.feature_extractor.trainable_weights)\n",
        "\n",
        "        self.optimizer.apply_gradients(\n",
        "            zip(gradients, self.feature_extractor.trainable_weights)\n",
        "            )\n",
        "\n",
        "        self.loss_tracker.update_state(loss)\n",
        "        return {\"loss\": self.loss_tracker.result()}\n",
        "\n",
        "    def test_step(self, data):\n",
        "        input1, input2, target = data\n",
        "        loss = self._compute_loss(input1, input2, target)\n",
        "\n",
        "        self.loss_tracker.update_state(loss)\n",
        "        return {\"loss\": self.loss_tracker.result()}\n",
        "\n",
        "    def _compute_loss(self, input1, input2, target):\n",
        "        output1 = self.feature_extractor(input1)\n",
        "        output2 = self.feature_extractor(input2)\n",
        "        loss = self.loss_fn(output1, output2, target)\n",
        "\n",
        "        return loss\n",
        "\n",
        "    @property\n",
        "    def metrics(self):\n",
        "        return [self.loss_tracker]"
      ],
      "metadata": {
        "id": "dG25IFy-wBk1"
      },
      "execution_count": 19,
      "outputs": []
    },
    {
      "cell_type": "markdown",
      "source": [
        "**Inint model, training instances and train**"
      ],
      "metadata": {
        "id": "yEs7F1bYcu6w"
      }
    },
    {
      "cell_type": "code",
      "source": [
        "model = SiameseModel()\n",
        "model.compile(optimizer=\"adam\", weighted_metrics=[])\n",
        "\n",
        "callbacks = [\n",
        "             tf.keras.callbacks.ReduceLROnPlateau(patience=3),\n",
        "             tf.keras.callbacks.EarlyStopping(monitor='val_loss', patience=8, restore_best_weights=True),\n",
        "            ]"
      ],
      "metadata": {
        "id": "-1qOEHxfMO4x"
      },
      "execution_count": 28,
      "outputs": []
    },
    {
      "cell_type": "code",
      "source": [
        "# as training takes too long: process only 5 epochs - model learns enough to demonstrate the approach (initially set 200 epochs)\n",
        "history = model.fit(train_ds, epochs=25, validation_data=valid_ds, callbacks=callbacks, verbose=1)"
      ],
      "metadata": {
        "id": "T3a0-2tJM1Nv",
        "colab": {
          "base_uri": "https://localhost:8080/"
        },
        "outputId": "a8c33f9c-919e-4242-ade0-099464179b18"
      },
      "execution_count": 31,
      "outputs": [
        {
          "output_type": "stream",
          "name": "stdout",
          "text": [
            "Epoch 1/25\n",
            "182/182 [==============================] - 29s 158ms/step - loss: 0.0288 - val_loss: 0.2102 - lr: 1.0000e-05\n",
            "Epoch 2/25\n",
            "182/182 [==============================] - 29s 158ms/step - loss: 0.0277 - val_loss: 0.2103 - lr: 1.0000e-05\n",
            "Epoch 3/25\n",
            "182/182 [==============================] - 29s 160ms/step - loss: 0.0271 - val_loss: 0.2109 - lr: 1.0000e-05\n",
            "Epoch 4/25\n",
            "182/182 [==============================] - 30s 162ms/step - loss: 0.0266 - val_loss: 0.2111 - lr: 1.0000e-05\n",
            "Epoch 5/25\n",
            "182/182 [==============================] - 30s 164ms/step - loss: 0.0260 - val_loss: 0.2112 - lr: 1.0000e-06\n",
            "Epoch 6/25\n",
            "182/182 [==============================] - 30s 162ms/step - loss: 0.0259 - val_loss: 0.2112 - lr: 1.0000e-06\n",
            "Epoch 7/25\n",
            "182/182 [==============================] - 30s 162ms/step - loss: 0.0258 - val_loss: 0.2113 - lr: 1.0000e-06\n",
            "Epoch 8/25\n",
            "182/182 [==============================] - 30s 163ms/step - loss: 0.0257 - val_loss: 0.2113 - lr: 1.0000e-07\n",
            "Epoch 9/25\n",
            "182/182 [==============================] - 29s 161ms/step - loss: 0.0257 - val_loss: 0.2113 - lr: 1.0000e-07\n"
          ]
        }
      ]
    },
    {
      "cell_type": "code",
      "source": [
        "model.evaluate(test_ds)"
      ],
      "metadata": {
        "id": "QAS0VqTkhIss",
        "colab": {
          "base_uri": "https://localhost:8080/"
        },
        "outputId": "d1f0f803-7851-4ddb-8a88-b47b737825e2"
      },
      "execution_count": 32,
      "outputs": [
        {
          "output_type": "stream",
          "name": "stdout",
          "text": [
            "10/10 [==============================] - 43s 4s/step - loss: 0.1988\n"
          ]
        },
        {
          "output_type": "execute_result",
          "data": {
            "text/plain": [
              "0.1988101750612259"
            ]
          },
          "metadata": {},
          "execution_count": 32
        }
      ]
    },
    {
      "cell_type": "markdown",
      "source": [
        "**Save model**"
      ],
      "metadata": {
        "id": "DWmBCUOnc2n3"
      }
    },
    {
      "cell_type": "code",
      "source": [
        "# save method do not work\n",
        "path = '/content/drive/My Drive/data/ce_model'\n",
        "model.save_weights(path)\n",
        "symbolic_weights = getattr(model.optimizer, 'weights')\n",
        "weight_values = K.batch_get_value(symbolic_weights)\n",
        "with open(path+'optimizer.pkl', 'wb') as f:\n",
        "    pickle.dump(weight_values, f)"
      ],
      "metadata": {
        "id": "_ubFjGSjtL-z"
      },
      "execution_count": null,
      "outputs": []
    },
    {
      "cell_type": "code",
      "source": [
        "model = SiameseModel()\n",
        "model.compile(optimizer=\"adam\", weighted_metrics=[])\n",
        "path = '/content/drive/My Drive/data/ce_model'\n",
        "\n",
        "model.load_weights(path)\n",
        "with open(path+'optimizer.pkl', 'rb') as f:\n",
        "    weight_values = pickle.load(f)\n",
        "model.optimizer.set_weights(weight_values)"
      ],
      "metadata": {
        "id": "O2Z4IfsFlZyu"
      },
      "execution_count": null,
      "outputs": []
    },
    {
      "cell_type": "markdown",
      "source": [
        "**Inference**"
      ],
      "metadata": {
        "id": "ypeutgBgc5tA"
      }
    },
    {
      "cell_type": "code",
      "source": [
        "im1, im2, gt = get_image(test, 18)\n",
        "out1 = model.predict(im1[None, ...], verbose=0)\n",
        "out2 = model.predict(im2[None, ...], verbose=0)\n",
        "similarity = CosineSimilarity()(out1, out2)"
      ],
      "metadata": {
        "id": "LeYcYwDrof9G"
      },
      "execution_count": null,
      "outputs": []
    },
    {
      "cell_type": "code",
      "source": [
        "plt.subplot(121)\n",
        "plt.imshow(((im1+1)*127.5).astype(np.uint8))\n",
        "plt.subplot(122)\n",
        "plt.imshow(((im2+1)*127.5).astype(np.uint8))\n",
        "plt.show()\n",
        "out_string = \"Same\" if similarity >= 0.5 else \"Different\"\n",
        "print(out_string, similarity.numpy().item(), f\"truth: {gt}\")"
      ],
      "metadata": {
        "colab": {
          "base_uri": "https://localhost:8080/",
          "height": 221
        },
        "id": "4u7Sn_0jo1hi",
        "outputId": "32e68034-7f20-411c-fddc-d0bb739ef80c"
      },
      "execution_count": null,
      "outputs": [
        {
          "output_type": "display_data",
          "data": {
            "text/plain": [
              "<Figure size 432x288 with 2 Axes>"
            ],
            "image/png": "[encoded data removed]"
          },
          "metadata": {
            "needs_background": "light"
          }
        },
        {
          "output_type": "stream",
          "name": "stdout",
          "text": [
            "Same 0.8441779017448425 truth: 1\n"
          ]
        }
      ]
    },
    {
      "cell_type": "code",
      "source": [
        "acc = 0\n",
        "for i in trange(len(test)):\n",
        "    im1, im2, gt = get_image(test, i)\n",
        "    out1 = model.predict(im1[None, ...], verbose=0)\n",
        "    out2 = model.predict(im2[None, ...], verbose=0)\n",
        "    similarity = CosineSimilarity()(out1, out2)\n",
        "    label = 1 if similarity >= 0.5 else -1\n",
        "    if label == gt:\n",
        "        acc += 1\n",
        "\n",
        "print(f\"Accuracy: {acc/len(test):.4f}\")"
      ],
      "metadata": {
        "colab": {
          "base_uri": "https://localhost:8080/",
          "height": 67,
          "referenced_widgets": [
            "e111d72b14cf43cb81d77a018cefa610",
            "379fbc16758b4bdcb9c2a539bc41c2fd",
            "19af051194ff4afb81c51f697475a327",
            "c173ccbfa76f401fb0273e8d07bb7fba",
            "31e6d5af5ca14572929c5f8be59ceed3",
            "0b48562cbb014a49b47e281c09bb51f9",
            "590f279586024210bdc910e3f36953db",
            "dd134f64332142a7924f543477c29c6d",
            "e278941725a24f618e10e955de2f9a53",
            "c742eb326537420f8b9e63c73e9494d9",
            "4a0888e2b5df4b63ba6c13cd6e4aaaec"
          ]
        },
        "id": "nsazrFWa5i2T",
        "outputId": "e7a7c1c3-f8ec-4fe7-c9a4-3519c5043302"
      },
      "execution_count": 33,
      "outputs": [
        {
          "output_type": "display_data",
          "data": {
            "text/plain": [
              "  0%|          | 0/600 [00:00<?, ?it/s]"
            ],
            "application/vnd.jupyter.widget-view+json": {
              "version_major": 2,
              "version_minor": 0,
              "model_id": "e111d72b14cf43cb81d77a018cefa610"
            }
          },
          "metadata": {}
        },
        {
          "output_type": "stream",
          "name": "stdout",
          "text": [
            "Accuracy: 0.7400\n"
          ]
        }
      ]
    }
  ]
}