{
  "nbformat": 4,
  "nbformat_minor": 0,
  "metadata": {
    "colab": {
      "provenance": [],
      "collapsed_sections": []
    },
    "kernelspec": {
      "name": "python3",
      "display_name": "Python 3"
    },
    "language_info": {
      "name": "python"
    },
    "widgets": {
      "application/vnd.jupyter.widget-state+json": {
        "ff725f8544dc48a79c36c427c2741465": {
          "model_module": "@jupyter-widgets/controls",
          "model_name": "HBoxModel",
          "model_module_version": "1.5.0",
          "state": {
            "_dom_classes": [],
            "_model_module": "@jupyter-widgets/controls",
            "_model_module_version": "1.5.0",
            "_model_name": "HBoxModel",
            "_view_count": null,
            "_view_module": "@jupyter-widgets/controls",
            "_view_module_version": "1.5.0",
            "_view_name": "HBoxView",
            "box_style": "",
            "children": [
              "IPY_MODEL_ac9dd1afe9f74cd4a6f3f477f4d25312",
              "IPY_MODEL_5aabec6b14da4ef2bb2e9e6c8ea6ab3d",
              "IPY_MODEL_131f3b1eee034e058c8757a714d3e224"
            ],
            "layout": "IPY_MODEL_ccce4a9a9a854cd6841ceb194cd7533a"
          }
        },
        "ac9dd1afe9f74cd4a6f3f477f4d25312": {
          "model_module": "@jupyter-widgets/controls",
          "model_name": "HTMLModel",
          "model_module_version": "1.5.0",
          "state": {
            "_dom_classes": [],
            "_model_module": "@jupyter-widgets/controls",
            "_model_module_version": "1.5.0",
            "_model_name": "HTMLModel",
            "_view_count": null,
            "_view_module": "@jupyter-widgets/controls",
            "_view_module_version": "1.5.0",
            "_view_name": "HTMLView",
            "description": "",
            "description_tooltip": null,
            "layout": "IPY_MODEL_b7fc6453c8a74476b42d97ca4b070ee5",
            "placeholder": "​",
            "style": "IPY_MODEL_e14fa0ff1cc142b19a72f9584ea02155",
            "value": "100%"
          }
        },
        "5aabec6b14da4ef2bb2e9e6c8ea6ab3d": {
          "model_module": "@jupyter-widgets/controls",
          "model_name": "FloatProgressModel",
          "model_module_version": "1.5.0",
          "state": {
            "_dom_classes": [],
            "_model_module": "@jupyter-widgets/controls",
            "_model_module_version": "1.5.0",
            "_model_name": "FloatProgressModel",
            "_view_count": null,
            "_view_module": "@jupyter-widgets/controls",
            "_view_module_version": "1.5.0",
            "_view_name": "ProgressView",
            "bar_style": "success",
            "description": "",
            "description_tooltip": null,
            "layout": "IPY_MODEL_3811973187244ccdb77a341c39ab124d",
            "max": 4324,
            "min": 0,
            "orientation": "horizontal",
            "style": "IPY_MODEL_39516238a56f4b26bf03775633e6bc8b",
            "value": 4324
          }
        },
        "131f3b1eee034e058c8757a714d3e224": {
          "model_module": "@jupyter-widgets/controls",
          "model_name": "HTMLModel",
          "model_module_version": "1.5.0",
          "state": {
            "_dom_classes": [],
            "_model_module": "@jupyter-widgets/controls",
            "_model_module_version": "1.5.0",
            "_model_name": "HTMLModel",
            "_view_count": null,
            "_view_module": "@jupyter-widgets/controls",
            "_view_module_version": "1.5.0",
            "_view_name": "HTMLView",
            "description": "",
            "description_tooltip": null,
            "layout": "IPY_MODEL_2607e7778b404ac2ac09277fc9e60ea1",
            "placeholder": "​",
            "style": "IPY_MODEL_654df4c0cff64d9e9272781365ab8266",
            "value": " 4324/4324 [01:34&lt;00:00, 49.53it/s]"
          }
        },
        "ccce4a9a9a854cd6841ceb194cd7533a": {
          "model_module": "@jupyter-widgets/base",
          "model_name": "LayoutModel",
          "model_module_version": "1.2.0",
          "state": {
            "_model_module": "@jupyter-widgets/base",
            "_model_module_version": "1.2.0",
            "_model_name": "LayoutModel",
            "_view_count": null,
            "_view_module": "@jupyter-widgets/base",
            "_view_module_version": "1.2.0",
            "_view_name": "LayoutView",
            "align_content": null,
            "align_items": null,
            "align_self": null,
            "border": null,
            "bottom": null,
            "display": null,
            "flex": null,
            "flex_flow": null,
            "grid_area": null,
            "grid_auto_columns": null,
            "grid_auto_flow": null,
            "grid_auto_rows": null,
            "grid_column": null,
            "grid_gap": null,
            "grid_row": null,
            "grid_template_areas": null,
            "grid_template_columns": null,
            "grid_template_rows": null,
            "height": null,
            "justify_content": null,
            "justify_items": null,
            "left": null,
            "margin": null,
            "max_height": null,
            "max_width": null,
            "min_height": null,
            "min_width": null,
            "object_fit": null,
            "object_position": null,
            "order": null,
            "overflow": null,
            "overflow_x": null,
            "overflow_y": null,
            "padding": null,
            "right": null,
            "top": null,
            "visibility": null,
            "width": null
          }
        },
        "b7fc6453c8a74476b42d97ca4b070ee5": {
          "model_module": "@jupyter-widgets/base",
          "model_name": "LayoutModel",
          "model_module_version": "1.2.0",
          "state": {
            "_model_module": "@jupyter-widgets/base",
            "_model_module_version": "1.2.0",
            "_model_name": "LayoutModel",
            "_view_count": null,
            "_view_module": "@jupyter-widgets/base",
            "_view_module_version": "1.2.0",
            "_view_name": "LayoutView",
            "align_content": null,
            "align_items": null,
            "align_self": null,
            "border": null,
            "bottom": null,
            "display": null,
            "flex": null,
            "flex_flow": null,
            "grid_area": null,
            "grid_auto_columns": null,
            "grid_auto_flow": null,
            "grid_auto_rows": null,
            "grid_column": null,
            "grid_gap": null,
            "grid_row": null,
            "grid_template_areas": null,
            "grid_template_columns": null,
            "grid_template_rows": null,
            "height": null,
            "justify_content": null,
            "justify_items": null,
            "left": null,
            "margin": null,
            "max_height": null,
            "max_width": null,
            "min_height": null,
            "min_width": null,
            "object_fit": null,
            "object_position": null,
            "order": null,
            "overflow": null,
            "overflow_x": null,
            "overflow_y": null,
            "padding": null,
            "right": null,
            "top": null,
            "visibility": null,
            "width": null
          }
        },
        "e14fa0ff1cc142b19a72f9584ea02155": {
          "model_module": "@jupyter-widgets/controls",
          "model_name": "DescriptionStyleModel",
          "model_module_version": "1.5.0",
          "state": {
            "_model_module": "@jupyter-widgets/controls",
            "_model_module_version": "1.5.0",
            "_model_name": "DescriptionStyleModel",
            "_view_count": null,
            "_view_module": "@jupyter-widgets/base",
            "_view_module_version": "1.2.0",
            "_view_name": "StyleView",
            "description_width": ""
          }
        },
        "3811973187244ccdb77a341c39ab124d": {
          "model_module": "@jupyter-widgets/base",
          "model_name": "LayoutModel",
          "model_module_version": "1.2.0",
          "state": {
            "_model_module": "@jupyter-widgets/base",
            "_model_module_version": "1.2.0",
            "_model_name": "LayoutModel",
            "_view_count": null,
            "_view_module": "@jupyter-widgets/base",
            "_view_module_version": "1.2.0",
            "_view_name": "LayoutView",
            "align_content": null,
            "align_items": null,
            "align_self": null,
            "border": null,
            "bottom": null,
            "display": null,
            "flex": null,
            "flex_flow": null,
            "grid_area": null,
            "grid_auto_columns": null,
            "grid_auto_flow": null,
            "grid_auto_rows": null,
            "grid_column": null,
            "grid_gap": null,
            "grid_row": null,
            "grid_template_areas": null,
            "grid_template_columns": null,
            "grid_template_rows": null,
            "height": null,
            "justify_content": null,
            "justify_items": null,
            "left": null,
            "margin": null,
            "max_height": null,
            "max_width": null,
            "min_height": null,
            "min_width": null,
            "object_fit": null,
            "object_position": null,
            "order": null,
            "overflow": null,
            "overflow_x": null,
            "overflow_y": null,
            "padding": null,
            "right": null,
            "top": null,
            "visibility": null,
            "width": null
          }
        },
        "39516238a56f4b26bf03775633e6bc8b": {
          "model_module": "@jupyter-widgets/controls",
          "model_name": "ProgressStyleModel",
          "model_module_version": "1.5.0",
          "state": {
            "_model_module": "@jupyter-widgets/controls",
            "_model_module_version": "1.5.0",
            "_model_name": "ProgressStyleModel",
            "_view_count": null,
            "_view_module": "@jupyter-widgets/base",
            "_view_module_version": "1.2.0",
            "_view_name": "StyleView",
            "bar_color": null,
            "description_width": ""
          }
        },
        "2607e7778b404ac2ac09277fc9e60ea1": {
          "model_module": "@jupyter-widgets/base",
          "model_name": "LayoutModel",
          "model_module_version": "1.2.0",
          "state": {
            "_model_module": "@jupyter-widgets/base",
            "_model_module_version": "1.2.0",
            "_model_name": "LayoutModel",
            "_view_count": null,
            "_view_module": "@jupyter-widgets/base",
            "_view_module_version": "1.2.0",
            "_view_name": "LayoutView",
            "align_content": null,
            "align_items": null,
            "align_self": null,
            "border": null,
            "bottom": null,
            "display": null,
            "flex": null,
            "flex_flow": null,
            "grid_area": null,
            "grid_auto_columns": null,
            "grid_auto_flow": null,
            "grid_auto_rows": null,
            "grid_column": null,
            "grid_gap": null,
            "grid_row": null,
            "grid_template_areas": null,
            "grid_template_columns": null,
            "grid_template_rows": null,
            "height": null,
            "justify_content": null,
            "justify_items": null,
            "left": null,
            "margin": null,
            "max_height": null,
            "max_width": null,
            "min_height": null,
            "min_width": null,
            "object_fit": null,
            "object_position": null,
            "order": null,
            "overflow": null,
            "overflow_x": null,
            "overflow_y": null,
            "padding": null,
            "right": null,
            "top": null,
            "visibility": null,
            "width": null
          }
        },
        "654df4c0cff64d9e9272781365ab8266": {
          "model_module": "@jupyter-widgets/controls",
          "model_name": "DescriptionStyleModel",
          "model_module_version": "1.5.0",
          "state": {
            "_model_module": "@jupyter-widgets/controls",
            "_model_module_version": "1.5.0",
            "_model_name": "DescriptionStyleModel",
            "_view_count": null,
            "_view_module": "@jupyter-widgets/base",
            "_view_module_version": "1.2.0",
            "_view_name": "StyleView",
            "description_width": ""
          }
        },
        "0a5dd1da114b4430bb0aea72641bd5cc": {
          "model_module": "@jupyter-widgets/controls",
          "model_name": "HBoxModel",
          "model_module_version": "1.5.0",
          "state": {
            "_dom_classes": [],
            "_model_module": "@jupyter-widgets/controls",
            "_model_module_version": "1.5.0",
            "_model_name": "HBoxModel",
            "_view_count": null,
            "_view_module": "@jupyter-widgets/controls",
            "_view_module_version": "1.5.0",
            "_view_name": "HBoxView",
            "box_style": "",
            "children": [
              "IPY_MODEL_5e4690d8b3954cf5b6e29834436c4783",
              "IPY_MODEL_65c00d0e076f447db14bb179930fc6f8",
              "IPY_MODEL_9ccd4d5fd44b47b18a855a5756b698a2"
            ],
            "layout": "IPY_MODEL_54a6655464f74c39a3f5cd85dbc4b7dd"
          }
        },
        "5e4690d8b3954cf5b6e29834436c4783": {
          "model_module": "@jupyter-widgets/controls",
          "model_name": "HTMLModel",
          "model_module_version": "1.5.0",
          "state": {
            "_dom_classes": [],
            "_model_module": "@jupyter-widgets/controls",
            "_model_module_version": "1.5.0",
            "_model_name": "HTMLModel",
            "_view_count": null,
            "_view_module": "@jupyter-widgets/controls",
            "_view_module_version": "1.5.0",
            "_view_name": "HTMLView",
            "description": "",
            "description_tooltip": null,
            "layout": "IPY_MODEL_3c1fe4a2cfc64cc9a113915a20c4bda5",
            "placeholder": "​",
            "style": "IPY_MODEL_c654ad94fcf4476f924e0b2cf7951f78",
            "value": "100%"
          }
        },
        "65c00d0e076f447db14bb179930fc6f8": {
          "model_module": "@jupyter-widgets/controls",
          "model_name": "FloatProgressModel",
          "model_module_version": "1.5.0",
          "state": {
            "_dom_classes": [],
            "_model_module": "@jupyter-widgets/controls",
            "_model_module_version": "1.5.0",
            "_model_name": "FloatProgressModel",
            "_view_count": null,
            "_view_module": "@jupyter-widgets/controls",
            "_view_module_version": "1.5.0",
            "_view_name": "ProgressView",
            "bar_style": "success",
            "description": "",
            "description_tooltip": null,
            "layout": "IPY_MODEL_27cd24d670444a1fa35a6d96b9d1a1db",
            "max": 4324,
            "min": 0,
            "orientation": "horizontal",
            "style": "IPY_MODEL_c37c7cffed1b44868ce11db96a533adf",
            "value": 4324
          }
        },
        "9ccd4d5fd44b47b18a855a5756b698a2": {
          "model_module": "@jupyter-widgets/controls",
          "model_name": "HTMLModel",
          "model_module_version": "1.5.0",
          "state": {
            "_dom_classes": [],
            "_model_module": "@jupyter-widgets/controls",
            "_model_module_version": "1.5.0",
            "_model_name": "HTMLModel",
            "_view_count": null,
            "_view_module": "@jupyter-widgets/controls",
            "_view_module_version": "1.5.0",
            "_view_name": "HTMLView",
            "description": "",
            "description_tooltip": null,
            "layout": "IPY_MODEL_dbfff17e2f054e718f1d5b23e04b8518",
            "placeholder": "​",
            "style": "IPY_MODEL_c89ed68c6e2a4be5870a8495e94ebca4",
            "value": " 4324/4324 [00:02&lt;00:00, 2171.79it/s]"
          }
        },
        "54a6655464f74c39a3f5cd85dbc4b7dd": {
          "model_module": "@jupyter-widgets/base",
          "model_name": "LayoutModel",
          "model_module_version": "1.2.0",
          "state": {
            "_model_module": "@jupyter-widgets/base",
            "_model_module_version": "1.2.0",
            "_model_name": "LayoutModel",
            "_view_count": null,
            "_view_module": "@jupyter-widgets/base",
            "_view_module_version": "1.2.0",
            "_view_name": "LayoutView",
            "align_content": null,
            "align_items": null,
            "align_self": null,
            "border": null,
            "bottom": null,
            "display": null,
            "flex": null,
            "flex_flow": null,
            "grid_area": null,
            "grid_auto_columns": null,
            "grid_auto_flow": null,
            "grid_auto_rows": null,
            "grid_column": null,
            "grid_gap": null,
            "grid_row": null,
            "grid_template_areas": null,
            "grid_template_columns": null,
            "grid_template_rows": null,
            "height": null,
            "justify_content": null,
            "justify_items": null,
            "left": null,
            "margin": null,
            "max_height": null,
            "max_width": null,
            "min_height": null,
            "min_width": null,
            "object_fit": null,
            "object_position": null,
            "order": null,
            "overflow": null,
            "overflow_x": null,
            "overflow_y": null,
            "padding": null,
            "right": null,
            "top": null,
            "visibility": null,
            "width": null
          }
        },
        "3c1fe4a2cfc64cc9a113915a20c4bda5": {
          "model_module": "@jupyter-widgets/base",
          "model_name": "LayoutModel",
          "model_module_version": "1.2.0",
          "state": {
            "_model_module": "@jupyter-widgets/base",
            "_model_module_version": "1.2.0",
            "_model_name": "LayoutModel",
            "_view_count": null,
            "_view_module": "@jupyter-widgets/base",
            "_view_module_version": "1.2.0",
            "_view_name": "LayoutView",
            "align_content": null,
            "align_items": null,
            "align_self": null,
            "border": null,
            "bottom": null,
            "display": null,
            "flex": null,
            "flex_flow": null,
            "grid_area": null,
            "grid_auto_columns": null,
            "grid_auto_flow": null,
            "grid_auto_rows": null,
            "grid_column": null,
            "grid_gap": null,
            "grid_row": null,
            "grid_template_areas": null,
            "grid_template_columns": null,
            "grid_template_rows": null,
            "height": null,
            "justify_content": null,
            "justify_items": null,
            "left": null,
            "margin": null,
            "max_height": null,
            "max_width": null,
            "min_height": null,
            "min_width": null,
            "object_fit": null,
            "object_position": null,
            "order": null,
            "overflow": null,
            "overflow_x": null,
            "overflow_y": null,
            "padding": null,
            "right": null,
            "top": null,
            "visibility": null,
            "width": null
          }
        },
        "c654ad94fcf4476f924e0b2cf7951f78": {
          "model_module": "@jupyter-widgets/controls",
          "model_name": "DescriptionStyleModel",
          "model_module_version": "1.5.0",
          "state": {
            "_model_module": "@jupyter-widgets/controls",
            "_model_module_version": "1.5.0",
            "_model_name": "DescriptionStyleModel",
            "_view_count": null,
            "_view_module": "@jupyter-widgets/base",
            "_view_module_version": "1.2.0",
            "_view_name": "StyleView",
            "description_width": ""
          }
        },
        "27cd24d670444a1fa35a6d96b9d1a1db": {
          "model_module": "@jupyter-widgets/base",
          "model_name": "LayoutModel",
          "model_module_version": "1.2.0",
          "state": {
            "_model_module": "@jupyter-widgets/base",
            "_model_module_version": "1.2.0",
            "_model_name": "LayoutModel",
            "_view_count": null,
            "_view_module": "@jupyter-widgets/base",
            "_view_module_version": "1.2.0",
            "_view_name": "LayoutView",
            "align_content": null,
            "align_items": null,
            "align_self": null,
            "border": null,
            "bottom": null,
            "display": null,
            "flex": null,
            "flex_flow": null,
            "grid_area": null,
            "grid_auto_columns": null,
            "grid_auto_flow": null,
            "grid_auto_rows": null,
            "grid_column": null,
            "grid_gap": null,
            "grid_row": null,
            "grid_template_areas": null,
            "grid_template_columns": null,
            "grid_template_rows": null,
            "height": null,
            "justify_content": null,
            "justify_items": null,
            "left": null,
            "margin": null,
            "max_height": null,
            "max_width": null,
            "min_height": null,
            "min_width": null,
            "object_fit": null,
            "object_position": null,
            "order": null,
            "overflow": null,
            "overflow_x": null,
            "overflow_y": null,
            "padding": null,
            "right": null,
            "top": null,
            "visibility": null,
            "width": null
          }
        },
        "c37c7cffed1b44868ce11db96a533adf": {
          "model_module": "@jupyter-widgets/controls",
          "model_name": "ProgressStyleModel",
          "model_module_version": "1.5.0",
          "state": {
            "_model_module": "@jupyter-widgets/controls",
            "_model_module_version": "1.5.0",
            "_model_name": "ProgressStyleModel",
            "_view_count": null,
            "_view_module": "@jupyter-widgets/base",
            "_view_module_version": "1.2.0",
            "_view_name": "StyleView",
            "bar_color": null,
            "description_width": ""
          }
        },
        "dbfff17e2f054e718f1d5b23e04b8518": {
          "model_module": "@jupyter-widgets/base",
          "model_name": "LayoutModel",
          "model_module_version": "1.2.0",
          "state": {
            "_model_module": "@jupyter-widgets/base",
            "_model_module_version": "1.2.0",
            "_model_name": "LayoutModel",
            "_view_count": null,
            "_view_module": "@jupyter-widgets/base",
            "_view_module_version": "1.2.0",
            "_view_name": "LayoutView",
            "align_content": null,
            "align_items": null,
            "align_self": null,
            "border": null,
            "bottom": null,
            "display": null,
            "flex": null,
            "flex_flow": null,
            "grid_area": null,
            "grid_auto_columns": null,
            "grid_auto_flow": null,
            "grid_auto_rows": null,
            "grid_column": null,
            "grid_gap": null,
            "grid_row": null,
            "grid_template_areas": null,
            "grid_template_columns": null,
            "grid_template_rows": null,
            "height": null,
            "justify_content": null,
            "justify_items": null,
            "left": null,
            "margin": null,
            "max_height": null,
            "max_width": null,
            "min_height": null,
            "min_width": null,
            "object_fit": null,
            "object_position": null,
            "order": null,
            "overflow": null,
            "overflow_x": null,
            "overflow_y": null,
            "padding": null,
            "right": null,
            "top": null,
            "visibility": null,
            "width": null
          }
        },
        "c89ed68c6e2a4be5870a8495e94ebca4": {
          "model_module": "@jupyter-widgets/controls",
          "model_name": "DescriptionStyleModel",
          "model_module_version": "1.5.0",
          "state": {
            "_model_module": "@jupyter-widgets/controls",
            "_model_module_version": "1.5.0",
            "_model_name": "DescriptionStyleModel",
            "_view_count": null,
            "_view_module": "@jupyter-widgets/base",
            "_view_module_version": "1.2.0",
            "_view_name": "StyleView",
            "description_width": ""
          }
        }
      }
    },
    "accelerator": "GPU"
  },
  "cells": [
    {
      "cell_type": "code",
      "execution_count": null,
      "metadata": {
        "id": "kfkZ4O23bNLH"
      },
      "outputs": [],
      "source": [
        "from IPython.display import clear_output\n",
        "from google.colab import files\n",
        "files.upload()\n",
        "#from google.colab import drive\n",
        "#drive.mount('/content/drive')\n",
        "!mkdir -p ~/.kaggle\n",
        "!cp kaggle.json ~/.kaggle/\n",
        "!ls ~/.kaggle\n",
        "!chmod 600 /root/.kaggle/kaggle.json\n",
        "!kaggle datasets download -d atulanandjha/lfwpeople\n",
        "!unzip lfwpeople.zip\n",
        "!tar -xvzf lfw-funneled.tgz\n",
        "!rm lfw-funneled.tgz lfwpeople.zip\n",
        "clear_output()"
      ]
    },
    {
      "cell_type": "code",
      "source": [
        "import warnings\n",
        "warnings.filterwarnings(\"ignore\")\n",
        "import os\n",
        "\n",
        "import numpy as np\n",
        "import pandas as pd\n",
        "import pickle\n",
        "\n",
        "import tensorflow as tf\n",
        "from tensorflow.keras.applications import resnet\n",
        "from tensorflow.keras.metrics import Mean, CosineSimilarity\n",
        "from tensorflow.keras.layers import Layer\n",
        "import tensorflow.keras.backend as K\n",
        "\n",
        "import matplotlib.pyplot as plt\n",
        "import cv2\n",
        "from PIL import Image\n",
        "from glob import glob\n",
        "from tqdm.notebook import trange, tqdm\n",
        "\n",
        "from sklearn.model_selection import train_test_split\n",
        "from sklearn.metrics import accuracy_score"
      ],
      "metadata": {
        "id": "gKPPvPFQbbcm"
      },
      "execution_count": null,
      "outputs": []
    },
    {
      "cell_type": "code",
      "source": [
        "def set_seed(seed: int = 42) -> None:\n",
        "    np.random.seed(seed)\n",
        "    np.random.seed(seed)\n",
        "    tf.random.set_seed(seed)\n",
        "    tf.experimental.numpy.random.seed(seed)\n",
        "    #os.environ['TF_CUDNN_DETERMINISTIC'] = '1'\n",
        "    #os.environ['TF_DETERMINISTIC_OPS'] = '1'\n",
        "    os.environ[\"PYTHONHASHSEED\"] = str(seed)\n",
        "    print(f\"Random seed set as {seed}\")\n",
        "\n",
        "set_seed()"
      ],
      "metadata": {
        "colab": {
          "base_uri": "https://localhost:8080/"
        },
        "id": "non2cZImbxLz",
        "outputId": "8d8d940b-db4f-4b5e-8048-1c4d955e4258"
      },
      "execution_count": null,
      "outputs": [
        {
          "output_type": "stream",
          "name": "stdout",
          "text": [
            "Random seed set as 42\n"
          ]
        }
      ]
    },
    {
      "cell_type": "code",
      "source": [
        "IMAGE_SIZE = 105\n",
        "BATCH_SIZE = 64\n",
        "epochs = 5\n",
        "AUTOTUNE = tf.data.AUTOTUNE"
      ],
      "metadata": {
        "id": "Yz01X5fscAzm"
      },
      "execution_count": null,
      "outputs": []
    },
    {
      "cell_type": "code",
      "source": [
        "def ArcFaceLoss(W, m, s):\n",
        "    \"\"\" Works properly only in custom training loop \"\"\"\n",
        "    def inner(y_true, x):\n",
        "        # replace 0 => 1 and 1=> m in y_true\n",
        "        M = (m-1) * y_true + 1\n",
        "        \n",
        "        # W . x = ||W||*||x||*cos(theta)\n",
        "        # but ||W|| = 1 and ||x|| = 1\n",
        "        # so (W . x) = cos(theta) \n",
        "        dot_product = tf.linalg.matmul(x, W)\n",
        "        cos_theta, cos_theta_norms = tf.linalg.normalize(dot_product, axis=0)\n",
        "\n",
        "        theta = tf.acos(cos_theta)\n",
        "    \n",
        "        # add appropriate margin to theta\n",
        "        new_theta = theta + M\n",
        "        new_cos_theta = tf.cos(new_theta)\n",
        "    \n",
        "        # re-scale the cosines by a hyper-parameter s\n",
        "        y_pred = s * new_cos_theta     \n",
        "\n",
        "        # the following part is the same as softmax loss\n",
        "        numerators = tf.reduce_sum(y_true * tf.exp(y_pred), axis=1)\n",
        "        denominators = tf.reduce_sum(tf.exp(y_pred), axis=1)\n",
        "        loss = - tf.reduce_sum(tf.math.log(numerators / denominators))\n",
        "    \n",
        "        return loss\n",
        "\n",
        "    return inner\n",
        "\n",
        "class ArcFace(Layer):\n",
        "    def __init__(self, n_classes=10, s=30.0, m=0.50, regularizer=None, **kwargs):\n",
        "        super(ArcFace, self).__init__(**kwargs)\n",
        "        self.n_classes = n_classes\n",
        "        self.s = s\n",
        "        self.m = m\n",
        "        self.regularizer = tf.keras.regularizers.get(regularizer)\n",
        "\n",
        "    def build(self, input_shape):\n",
        "        super(ArcFace, self).build(input_shape[0])\n",
        "        self.W = self.add_weight(name='W',\n",
        "                                shape=(input_shape[0][-1], self.n_classes),\n",
        "                                initializer='glorot_uniform',\n",
        "                                trainable=True,\n",
        "                                regularizer=self.regularizer)\n",
        "\n",
        "    def call(self, inputs):\n",
        "        x, y = inputs\n",
        "        c = K.shape(x)[-1]\n",
        "        # normalize feature\n",
        "        x = tf.nn.l2_normalize(x, axis=1)\n",
        "        # normalize weights\n",
        "        W = tf.nn.l2_normalize(self.W, axis=0)\n",
        "        # dot product\n",
        "        logits = x @ W\n",
        "        # add margin\n",
        "        # clip logits to prevent zero division when backward\n",
        "        theta = tf.acos(K.clip(logits, -1.0 + K.epsilon(), 1.0 - K.epsilon()))\n",
        "        target_logits = tf.cos(theta + self.m)\n",
        "        # sin = tf.sqrt(1 - logits**2)\n",
        "        # cos_m = tf.cos(logits)\n",
        "        # sin_m = tf.sin(logits)\n",
        "        # target_logits = logits * cos_m - sin * sin_m\n",
        "        #\n",
        "        logits = logits * (1 - y) + target_logits * y\n",
        "        # feature re-scale\n",
        "        logits *= self.s\n",
        "        out = tf.nn.softmax(logits)\n",
        "\n",
        "        return out\n",
        "\n",
        "    def compute_output_shape(self, input_shape):\n",
        "        return (None, self.n_classes)"
      ],
      "metadata": {
        "id": "jHpopj6VcD6t"
      },
      "execution_count": null,
      "outputs": []
    },
    {
      "cell_type": "code",
      "source": [
        "face_cascade = cv2.CascadeClassifier(cv2.data.haarcascades + 'haarcascade_frontalface_default.xml')\n",
        "\n",
        "def crop_face(image):\n",
        "    gray = cv2.cvtColor(image, cv2.COLOR_RGB2GRAY)\n",
        "    faces = face_cascade.detectMultiScale(gray, 1.2, 4)\n",
        "    if len(faces) > 0:\n",
        "        for x, y, w, h in faces:\n",
        "            image2 = image[y: y+h, x: x+w, :]\n",
        "        image2 = cv2.resize(image2, (IMAGE_SIZE, IMAGE_SIZE))\n",
        "        return image2, 1\n",
        "    image = cv2.resize(image, (IMAGE_SIZE, IMAGE_SIZE))\n",
        "    return image, 0"
      ],
      "metadata": {
        "id": "g-p8MqZ-eH68"
      },
      "execution_count": null,
      "outputs": []
    },
    {
      "cell_type": "code",
      "source": [
        "img_dir = glob('lfw_funneled/'+'/*/*')\n",
        "img_dir = [str(x) for x in img_dir]\n",
        "\n",
        "df = pd.DataFrame(img_dir, columns=['Image_dir'])\n",
        "df['Name'] = df['Image_dir'].str.split('/', expand=True).loc[:, [1,]]"
      ],
      "metadata": {
        "id": "Ck94qSMZe3YY"
      },
      "execution_count": null,
      "outputs": []
    },
    {
      "cell_type": "code",
      "source": [
        "out_names = []\n",
        "for name in df[\"Name\"].unique():\n",
        "    if len(df[df[\"Name\"] == name]) < 10:  # 2\n",
        "        out_names.append(name)\n",
        "        dirs = df.loc[df.Name==name, \"Image_dir\"].values.tolist()\n",
        "        for dr in dirs:\n",
        "            os.remove(dr)\n",
        "\n",
        "df = df[~df[\"Name\"].isin(out_names)]\n",
        "print(len(df))\n",
        "\n",
        "img_dir = glob('lfw_funneled/'+'/*/*')\n",
        "img_dir = [str(x) for x in img_dir]\n",
        "\n",
        "print(len(img_dir))"
      ],
      "metadata": {
        "colab": {
          "base_uri": "https://localhost:8080/"
        },
        "id": "9quM0CBkrU8H",
        "outputId": "9d76b549-47cc-48cd-bffe-47a434b64f6d"
      },
      "execution_count": null,
      "outputs": [
        {
          "output_type": "stream",
          "name": "stdout",
          "text": [
            "4324\n",
            "4324\n"
          ]
        }
      ]
    },
    {
      "cell_type": "code",
      "source": [
        "folders = list(os.walk(\"lfw_funneled/\"))[1:]\n",
        "\n",
        "for folder in folders:\n",
        "    if not folder[2]:\n",
        "        os.rmdir(folder[0])"
      ],
      "metadata": {
        "id": "543Rb8VDzn1F"
      },
      "execution_count": null,
      "outputs": []
    },
    {
      "cell_type": "code",
      "source": [
        "for path in tqdm(df[\"Image_dir\"]):\n",
        "    image = Image.open(path)\n",
        "    image = np.array(image)\n",
        "\n",
        "    image, _ = crop_face(image)\n",
        "    \n",
        "    image = Image.fromarray(image)\n",
        "    image.save(path)"
      ],
      "metadata": {
        "colab": {
          "base_uri": "https://localhost:8080/",
          "height": 49,
          "referenced_widgets": [
            "ff725f8544dc48a79c36c427c2741465",
            "ac9dd1afe9f74cd4a6f3f477f4d25312",
            "5aabec6b14da4ef2bb2e9e6c8ea6ab3d",
            "131f3b1eee034e058c8757a714d3e224",
            "ccce4a9a9a854cd6841ceb194cd7533a",
            "b7fc6453c8a74476b42d97ca4b070ee5",
            "e14fa0ff1cc142b19a72f9584ea02155",
            "3811973187244ccdb77a341c39ab124d",
            "39516238a56f4b26bf03775633e6bc8b",
            "2607e7778b404ac2ac09277fc9e60ea1",
            "654df4c0cff64d9e9272781365ab8266"
          ]
        },
        "id": "3FCStxU0pTZ1",
        "outputId": "7f01e94d-efea-40db-893b-64866f3cb995"
      },
      "execution_count": null,
      "outputs": [
        {
          "output_type": "display_data",
          "data": {
            "text/plain": [
              "  0%|          | 0/4324 [00:00<?, ?it/s]"
            ],
            "application/vnd.jupyter.widget-view+json": {
              "version_major": 2,
              "version_minor": 0,
              "model_id": "ff725f8544dc48a79c36c427c2741465"
            }
          },
          "metadata": {}
        }
      ]
    },
    {
      "cell_type": "code",
      "source": [
        "train_ds = tf.keras.utils.image_dataset_from_directory(\n",
        "    directory=\"lfw_funneled\",\n",
        "    labels='inferred',\n",
        "    label_mode='categorical',\n",
        "    batch_size=64,\n",
        "    image_size=(105, 105),\n",
        "    shuffle=True,\n",
        "    seed=42,\n",
        "    validation_split=0.1,\n",
        "    subset=\"training\",\n",
        ")\n",
        "\n",
        "valid_ds = tf.keras.utils.image_dataset_from_directory(\n",
        "    directory=\"lfw_funneled\",\n",
        "    labels='inferred',\n",
        "    label_mode='categorical',\n",
        "    batch_size=64,\n",
        "    image_size=(105, 105),\n",
        "    shuffle=False,\n",
        "    seed=42,\n",
        "    validation_split=0.1,\n",
        "    subset=\"validation\",\n",
        ")"
      ],
      "metadata": {
        "colab": {
          "base_uri": "https://localhost:8080/"
        },
        "id": "y9NdZK87cKIL",
        "outputId": "8a49c947-dec8-41b8-c024-2d61768a2f3a"
      },
      "execution_count": null,
      "outputs": [
        {
          "output_type": "stream",
          "name": "stdout",
          "text": [
            "Found 4324 files belonging to 158 classes.\n",
            "Using 3892 files for training.\n",
            "Found 4324 files belonging to 158 classes.\n",
            "Using 432 files for validation.\n"
          ]
        }
      ]
    },
    {
      "cell_type": "code",
      "source": [
        "rescale = lambda x, y: (x/127.5 - 1, y)\n",
        "train_ds = train_ds.map(rescale, num_parallel_calls=AUTOTUNE).cache().shuffle(1000).prefetch(buffer_size=AUTOTUNE)\n",
        "valid_ds = valid_ds.map(rescale, num_parallel_calls=AUTOTUNE).cache().prefetch(buffer_size=AUTOTUNE)"
      ],
      "metadata": {
        "id": "S73BIh5crQOo"
      },
      "execution_count": null,
      "outputs": []
    },
    {
      "cell_type": "code",
      "source": [
        "def build_model(num_classes=df[\"Name\"].nunique()):\n",
        "    input = tf.keras.Input(shape=(IMAGE_SIZE, IMAGE_SIZE, 3))\n",
        "    label = tf.keras.Input(shape=(num_classes,))\n",
        "\n",
        "    x = tf.keras.layers.Conv2D(32, kernel_size=(3, 3), activation='relu')(input)\n",
        "    x = tf.keras.layers.BatchNormalization()(x)\n",
        "    x = tf.keras.layers.MaxPooling2D(pool_size=(2, 2))(x)\n",
        "\n",
        "    x = tf.keras.layers.Conv2D(32, kernel_size=(3, 3), activation='relu')(x)\n",
        "    x = tf.keras.layers.BatchNormalization()(x)\n",
        "    x = tf.keras.layers.MaxPooling2D(pool_size=(2, 2))(x)\n",
        "    x = tf.keras.layers.Dropout(0.25)(x)\n",
        "\n",
        "    x = tf.keras.layers.Conv2D(64, kernel_size=(3, 3), activation='relu')(x)\n",
        "    x = tf.keras.layers.BatchNormalization()(x)\n",
        "    x = tf.keras.layers.MaxPooling2D(pool_size=(2, 2))(x)\n",
        "    x = tf.keras.layers.Dropout(0.25)(x)\n",
        "\n",
        "    x = tf.keras.layers.Flatten() (x)\n",
        "    x = tf.keras.layers.Dense(128, kernel_initializer='he_normal', kernel_regularizer=tf.keras.regularizers.l2(1e-4))(x)\n",
        "    x = tf.keras.layers.Dropout(0.5)(x)\n",
        "    output = ArcFace(num_classes, regularizer=tf.keras.regularizers.l2(1e-4))([x, label])\n",
        "\n",
        "    model = tf.keras.Model([input, label], output)\n",
        "    model.build(input_shape=model.inputs)\n",
        "\n",
        "    return model\n",
        "\n",
        "model = build_model()\n",
        "\n",
        "model.summary()"
      ],
      "metadata": {
        "colab": {
          "base_uri": "https://localhost:8080/"
        },
        "id": "pSS8m-RTNmv5",
        "outputId": "5ac07267-6f4b-4f9b-c6e3-888adc8f6f66"
      },
      "execution_count": null,
      "outputs": [
        {
          "output_type": "stream",
          "name": "stdout",
          "text": [
            "Model: \"model_1\"\n",
            "__________________________________________________________________________________________________\n",
            " Layer (type)                   Output Shape         Param #     Connected to                     \n",
            "==================================================================================================\n",
            " input_3 (InputLayer)           [(None, 105, 105, 3  0           []                               \n",
            "                                )]                                                                \n",
            "                                                                                                  \n",
            " conv2d_3 (Conv2D)              (None, 103, 103, 32  896         ['input_3[0][0]']                \n",
            "                                )                                                                 \n",
            "                                                                                                  \n",
            " batch_normalization_3 (BatchNo  (None, 103, 103, 32  128        ['conv2d_3[0][0]']               \n",
            " rmalization)                   )                                                                 \n",
            "                                                                                                  \n",
            " max_pooling2d_3 (MaxPooling2D)  (None, 51, 51, 32)  0           ['batch_normalization_3[0][0]']  \n",
            "                                                                                                  \n",
            " conv2d_4 (Conv2D)              (None, 49, 49, 32)   9248        ['max_pooling2d_3[0][0]']        \n",
            "                                                                                                  \n",
            " batch_normalization_4 (BatchNo  (None, 49, 49, 32)  128         ['conv2d_4[0][0]']               \n",
            " rmalization)                                                                                     \n",
            "                                                                                                  \n",
            " max_pooling2d_4 (MaxPooling2D)  (None, 24, 24, 32)  0           ['batch_normalization_4[0][0]']  \n",
            "                                                                                                  \n",
            " dropout_3 (Dropout)            (None, 24, 24, 32)   0           ['max_pooling2d_4[0][0]']        \n",
            "                                                                                                  \n",
            " conv2d_5 (Conv2D)              (None, 22, 22, 64)   18496       ['dropout_3[0][0]']              \n",
            "                                                                                                  \n",
            " batch_normalization_5 (BatchNo  (None, 22, 22, 64)  256         ['conv2d_5[0][0]']               \n",
            " rmalization)                                                                                     \n",
            "                                                                                                  \n",
            " max_pooling2d_5 (MaxPooling2D)  (None, 11, 11, 64)  0           ['batch_normalization_5[0][0]']  \n",
            "                                                                                                  \n",
            " dropout_4 (Dropout)            (None, 11, 11, 64)   0           ['max_pooling2d_5[0][0]']        \n",
            "                                                                                                  \n",
            " flatten_1 (Flatten)            (None, 7744)         0           ['dropout_4[0][0]']              \n",
            "                                                                                                  \n",
            " dense_1 (Dense)                (None, 128)          991360      ['flatten_1[0][0]']              \n",
            "                                                                                                  \n",
            " dropout_5 (Dropout)            (None, 128)          0           ['dense_1[0][0]']                \n",
            "                                                                                                  \n",
            " input_4 (InputLayer)           [(None, 158)]        0           []                               \n",
            "                                                                                                  \n",
            " arc_face_1 (ArcFace)           (None, 158)          20224       ['dropout_5[0][0]',              \n",
            "                                                                  'input_4[0][0]']                \n",
            "                                                                                                  \n",
            "==================================================================================================\n",
            "Total params: 1,040,736\n",
            "Trainable params: 1,040,480\n",
            "Non-trainable params: 256\n",
            "__________________________________________________________________________________________________\n"
          ]
        }
      ]
    },
    {
      "cell_type": "code",
      "source": [
        "model.optimizer = tf.keras.optimizers.Adam(learning_rate=1e-3)\n",
        "\n",
        "loss_fn = tf.keras.losses.CategoricalCrossentropy(from_logits=True)\n",
        "\n",
        "_callbacks = [\n",
        "             tf.keras.callbacks.ReduceLROnPlateau(patience=3),\n",
        "             tf.keras.callbacks.EarlyStopping(monitor='val_loss', patience=8, restore_best_weights=True),\n",
        "            ]\n",
        "callbacks = tf.keras.callbacks.CallbackList(_callbacks, add_history=True, model=model)"
      ],
      "metadata": {
        "id": "5WAVRSiad8nZ"
      },
      "execution_count": null,
      "outputs": []
    },
    {
      "cell_type": "code",
      "source": [
        "@tf.function\n",
        "def train_step(x, y):\n",
        "    with tf.GradientTape() as tape:\n",
        "        logits = model([x, y], training=True)\n",
        "        loss_value = loss_fn(y, logits)\n",
        "    grads = tape.gradient(loss_value, model.trainable_weights)\n",
        "    model.optimizer.apply_gradients(zip(grads, model.trainable_weights))\n",
        "    return loss_value, logits\n",
        "\n",
        "# @tf.function\n",
        "def test_step(x, y):\n",
        "    val_logits = model([x, y], training=False)\n",
        "    loss_value = tf.keras.losses.categorical_crossentropy(y, val_logits, from_logits=True)\n",
        "    loss_value = np.mean(loss_value)\n",
        "    return loss_value, val_logits"
      ],
      "metadata": {
        "id": "EKT93MUtgL5X"
      },
      "execution_count": null,
      "outputs": []
    },
    {
      "cell_type": "code",
      "source": [
        "train_acc, valid_acc = [], []\n",
        "train_losses, valid_losses = [], []\n",
        "logs = {}\n",
        "callbacks.on_train_begin(logs=logs)\n",
        "wait = 0\n",
        "best = np.inf\n",
        "\n",
        "for epoch in range(1, epochs+1):\n",
        "    print(f\"Epoch {epoch} / {epochs+1}\")\n",
        "    callbacks.on_epoch_begin(epoch, logs=logs)\n",
        "\n",
        "    train_acc_ep, train_loss_ep = [], []\n",
        "    for step, (x_batch, y_batch) in tqdm(enumerate(train_ds), leave=False):\n",
        "        callbacks.on_batch_begin(step, logs=logs)\n",
        "        callbacks.on_train_batch_begin(step, logs=logs)\n",
        "\n",
        "        loss_value, logits = train_step(x_batch, y_batch)\n",
        "        accuracy = accuracy_score(y_batch.numpy().argmax(1), logits.numpy().argmax(1))\n",
        "        \n",
        "        logs = {\"loss\": loss_value, \"train_accuracy\": accuracy}\n",
        "        callbacks.on_train_batch_end(step, logs=logs)\n",
        "        callbacks.on_batch_end(step, logs=logs)\n",
        "\n",
        "        train_acc_ep.append(accuracy)\n",
        "        train_loss_ep.append(loss_value.numpy())\n",
        "        break\n",
        "    print(f\"Loss: {np.mean(train_loss_ep):.4f}, accuracy: {np.mean(train_acc_ep):.4f}\")\n",
        "\n",
        "    valid_acc_ep, valid_loss_ep = [], []\n",
        "    for step, (x_batch, y_batch) in tqdm(enumerate(valid_ds), leave=False):\n",
        "        callbacks.on_batch_begin(step, logs=logs)\n",
        "        callbacks.on_test_batch_begin(step, logs=logs)\n",
        "\n",
        "        loss_value, logits = test_step(x_batch, y_batch)\n",
        "        accuracy = accuracy_score(y_batch.numpy().argmax(1), logits.numpy().argmax(1))\n",
        "\n",
        "        logs = {\"val_loss\": loss_value, \"val_accuracy\": accuracy}\n",
        "        callbacks.on_train_batch_end(step, logs=logs)\n",
        "        callbacks.on_batch_end(step, logs=logs)\n",
        "\n",
        "        valid_acc_ep.append(accuracy)\n",
        "        valid_loss_ep.append(loss_value)\n",
        "    print(f\"Loss: {np.mean(valid_loss_ep):.4f}, accuracy: {np.mean(valid_acc_ep):.4f}\")\n",
        "\n",
        "    callbacks.on_epoch_end(epoch, logs=logs)\n",
        "\n",
        "callbacks.on_train_end(logs=logs)\n",
        "history_object = None\n",
        "for callback in callbacks:\n",
        "    if isinstance(callback, tf.keras.callbacks.History):\n",
        "        history_object = callback\n",
        "assert history_object is not None"
      ],
      "metadata": {
        "id": "jriPp9FNzEqS"
      },
      "execution_count": null,
      "outputs": []
    },
    {
      "cell_type": "code",
      "source": [
        "# model -> load weights / on the fly\n",
        "# new_model = Model(inputs=model.input[0], outputs=model.layers[-3].output)\n",
        "\n",
        "# features = new_model.predict(X_test, verbose=1)\n",
        "# features /= np.linalg.norm(features, axis=1, keepdims=True)\n",
        "model.layers[-3]  # arc_layer is not needed, dropout turns off when inference -> output is a 128-vector"
      ],
      "metadata": {
        "colab": {
          "base_uri": "https://localhost:8080/"
        },
        "id": "Pli4IMLqPqLU",
        "outputId": "a723cbd1-054a-436c-eaee-8f45d9151bd7"
      },
      "execution_count": null,
      "outputs": [
        {
          "output_type": "execute_result",
          "data": {
            "text/plain": [
              "<keras.layers.regularization.dropout.Dropout at 0x7f8e41a09e10>"
            ]
          },
          "metadata": {},
          "execution_count": 39
        }
      ]
    },
    {
      "cell_type": "code",
      "source": [
        "people = np.zeros((len(df), 105, 105, 3))\n",
        "\n",
        "for i in trange(len(df)):\n",
        "    image = Image.open(df.iloc[i,0])\n",
        "    image = np.array(image)\n",
        "    people[i, ...] = image"
      ],
      "metadata": {
        "colab": {
          "base_uri": "https://localhost:8080/",
          "height": 49,
          "referenced_widgets": [
            "0a5dd1da114b4430bb0aea72641bd5cc",
            "5e4690d8b3954cf5b6e29834436c4783",
            "65c00d0e076f447db14bb179930fc6f8",
            "9ccd4d5fd44b47b18a855a5756b698a2",
            "54a6655464f74c39a3f5cd85dbc4b7dd",
            "3c1fe4a2cfc64cc9a113915a20c4bda5",
            "c654ad94fcf4476f924e0b2cf7951f78",
            "27cd24d670444a1fa35a6d96b9d1a1db",
            "c37c7cffed1b44868ce11db96a533adf",
            "dbfff17e2f054e718f1d5b23e04b8518",
            "c89ed68c6e2a4be5870a8495e94ebca4"
          ]
        },
        "id": "TvnITSVyScU1",
        "outputId": "1a39ad4a-612f-4c61-e568-de8bcae5c64c"
      },
      "execution_count": null,
      "outputs": [
        {
          "output_type": "display_data",
          "data": {
            "text/plain": [
              "  0%|          | 0/4324 [00:00<?, ?it/s]"
            ],
            "application/vnd.jupyter.widget-view+json": {
              "version_major": 2,
              "version_minor": 0,
              "model_id": "0a5dd1da114b4430bb0aea72641bd5cc"
            }
          },
          "metadata": {}
        }
      ]
    },
    {
      "cell_type": "code",
      "source": [
        "from sklearn.preprocessing import LabelEncoder\n",
        "encoder = LabelEncoder()\n",
        "labels = encoder.fit_transform(df[\"Name\"])"
      ],
      "metadata": {
        "id": "0o5Lp77zTFJ3"
      },
      "execution_count": null,
      "outputs": []
    },
    {
      "cell_type": "code",
      "source": [
        "labels = tf.keras.utils.to_categorical(labels)"
      ],
      "metadata": {
        "id": "ZbNVjMh9T_Dx"
      },
      "execution_count": null,
      "outputs": []
    },
    {
      "cell_type": "code",
      "source": [
        "x_train, x_test, y_train, y_test = train_test_split(people, labels, test_size=0.2, random_state=42)"
      ],
      "metadata": {
        "id": "jhJc5jQH-yGn"
      },
      "execution_count": null,
      "outputs": []
    },
    {
      "cell_type": "code",
      "source": [
        "model.compile(optimizer=\"adam\", loss=\"categorical_crossentropy\", metrics=[\"categorical_accuracy\"])\n",
        "callbacks = [\n",
        "             tf.keras.callbacks.ReduceLROnPlateau(patience=10),\n",
        "             tf.keras.callbacks.EarlyStopping(monitor='val_loss', patience=15, restore_best_weights=True),\n",
        "            ]"
      ],
      "metadata": {
        "id": "kTlzuShZTUtV"
      },
      "execution_count": null,
      "outputs": []
    },
    {
      "cell_type": "code",
      "source": [
        "model.fit([x_train, y_train], y_train,\n",
        "            batch_size=32,\n",
        "            epochs=100,\n",
        "            validation_data=([x_test, y_test], y_test),\n",
        "            callbacks=callbacks,\n",
        "            verbose=1)"
      ],
      "metadata": {
        "colab": {
          "base_uri": "https://localhost:8080/"
        },
        "id": "uS1cHCPZTxi8",
        "outputId": "12425839-e890-4bae-8629-2ddb9d6390ef"
      },
      "execution_count": null,
      "outputs": [
        {
          "output_type": "stream",
          "name": "stdout",
          "text": [
            "Epoch 1/100\n",
            "109/109 [==============================] - 3s 20ms/step - loss: 19.9021 - categorical_accuracy: 0.0000e+00 - val_loss: 18.0619 - val_categorical_accuracy: 0.0139 - lr: 0.0010\n",
            "Epoch 2/100\n",
            "109/109 [==============================] - 2s 17ms/step - loss: 17.1142 - categorical_accuracy: 0.0116 - val_loss: 16.6876 - val_categorical_accuracy: 0.0474 - lr: 0.0010\n",
            "Epoch 3/100\n",
            "109/109 [==============================] - 2s 19ms/step - loss: 14.5621 - categorical_accuracy: 0.0382 - val_loss: 14.0412 - val_categorical_accuracy: 0.1272 - lr: 0.0010\n",
            "Epoch 4/100\n",
            "109/109 [==============================] - 2s 17ms/step - loss: 12.7100 - categorical_accuracy: 0.0630 - val_loss: 12.6260 - val_categorical_accuracy: 0.1561 - lr: 0.0010\n",
            "Epoch 5/100\n",
            "109/109 [==============================] - 2s 17ms/step - loss: 11.3204 - categorical_accuracy: 0.0781 - val_loss: 11.2782 - val_categorical_accuracy: 0.2116 - lr: 0.0010\n",
            "Epoch 6/100\n",
            "109/109 [==============================] - 2s 17ms/step - loss: 10.2772 - categorical_accuracy: 0.0911 - val_loss: 11.2949 - val_categorical_accuracy: 0.2092 - lr: 0.0010\n",
            "Epoch 7/100\n",
            "109/109 [==============================] - 2s 17ms/step - loss: 9.4739 - categorical_accuracy: 0.1038 - val_loss: 10.2603 - val_categorical_accuracy: 0.2532 - lr: 0.0010\n",
            "Epoch 8/100\n",
            "109/109 [==============================] - 2s 17ms/step - loss: 8.8326 - categorical_accuracy: 0.1084 - val_loss: 10.0746 - val_categorical_accuracy: 0.2578 - lr: 0.0010\n",
            "Epoch 9/100\n",
            "109/109 [==============================] - 2s 17ms/step - loss: 8.3119 - categorical_accuracy: 0.1168 - val_loss: 9.4733 - val_categorical_accuracy: 0.2740 - lr: 0.0010\n",
            "Epoch 10/100\n",
            "109/109 [==============================] - 2s 17ms/step - loss: 7.7941 - categorical_accuracy: 0.1200 - val_loss: 9.4216 - val_categorical_accuracy: 0.2890 - lr: 0.0010\n",
            "Epoch 11/100\n",
            "109/109 [==============================] - 2s 17ms/step - loss: 7.3853 - categorical_accuracy: 0.1289 - val_loss: 9.4057 - val_categorical_accuracy: 0.2855 - lr: 0.0010\n",
            "Epoch 12/100\n",
            "109/109 [==============================] - 2s 17ms/step - loss: 7.1120 - categorical_accuracy: 0.1350 - val_loss: 10.1181 - val_categorical_accuracy: 0.2520 - lr: 0.0010\n",
            "Epoch 13/100\n",
            "109/109 [==============================] - 2s 17ms/step - loss: 6.8151 - categorical_accuracy: 0.1419 - val_loss: 8.5636 - val_categorical_accuracy: 0.3249 - lr: 0.0010\n",
            "Epoch 14/100\n",
            "109/109 [==============================] - 2s 17ms/step - loss: 6.4990 - categorical_accuracy: 0.1391 - val_loss: 8.4323 - val_categorical_accuracy: 0.3410 - lr: 0.0010\n",
            "Epoch 15/100\n",
            "109/109 [==============================] - 2s 17ms/step - loss: 6.3470 - categorical_accuracy: 0.1454 - val_loss: 8.4659 - val_categorical_accuracy: 0.3260 - lr: 0.0010\n",
            "Epoch 16/100\n",
            "109/109 [==============================] - 2s 17ms/step - loss: 6.1381 - categorical_accuracy: 0.1535 - val_loss: 8.3927 - val_categorical_accuracy: 0.3526 - lr: 0.0010\n",
            "Epoch 17/100\n",
            "109/109 [==============================] - 2s 18ms/step - loss: 6.0196 - categorical_accuracy: 0.1451 - val_loss: 8.4424 - val_categorical_accuracy: 0.3329 - lr: 0.0010\n",
            "Epoch 18/100\n",
            "109/109 [==============================] - 2s 17ms/step - loss: 5.7299 - categorical_accuracy: 0.1567 - val_loss: 8.2033 - val_categorical_accuracy: 0.3607 - lr: 0.0010\n",
            "Epoch 19/100\n",
            "109/109 [==============================] - 2s 17ms/step - loss: 5.6295 - categorical_accuracy: 0.1659 - val_loss: 8.5709 - val_categorical_accuracy: 0.3214 - lr: 0.0010\n",
            "Epoch 20/100\n",
            "109/109 [==============================] - 2s 18ms/step - loss: 5.5140 - categorical_accuracy: 0.1769 - val_loss: 8.3218 - val_categorical_accuracy: 0.3595 - lr: 0.0010\n",
            "Epoch 21/100\n",
            "109/109 [==============================] - 2s 17ms/step - loss: 5.3642 - categorical_accuracy: 0.1697 - val_loss: 8.0953 - val_categorical_accuracy: 0.3607 - lr: 0.0010\n",
            "Epoch 22/100\n",
            "109/109 [==============================] - 2s 17ms/step - loss: 5.2569 - categorical_accuracy: 0.1758 - val_loss: 8.8162 - val_categorical_accuracy: 0.3087 - lr: 0.0010\n",
            "Epoch 23/100\n",
            "109/109 [==============================] - 2s 18ms/step - loss: 5.0972 - categorical_accuracy: 0.1795 - val_loss: 8.0981 - val_categorical_accuracy: 0.3526 - lr: 0.0010\n",
            "Epoch 24/100\n",
            "109/109 [==============================] - 2s 17ms/step - loss: 5.0206 - categorical_accuracy: 0.1830 - val_loss: 8.3214 - val_categorical_accuracy: 0.3480 - lr: 0.0010\n",
            "Epoch 25/100\n",
            "109/109 [==============================] - 2s 17ms/step - loss: 4.9274 - categorical_accuracy: 0.1934 - val_loss: 8.0590 - val_categorical_accuracy: 0.3734 - lr: 0.0010\n",
            "Epoch 26/100\n",
            "109/109 [==============================] - 2s 17ms/step - loss: 4.7780 - categorical_accuracy: 0.2073 - val_loss: 8.0355 - val_categorical_accuracy: 0.3653 - lr: 0.0010\n",
            "Epoch 27/100\n",
            "109/109 [==============================] - 2s 17ms/step - loss: 4.7859 - categorical_accuracy: 0.1995 - val_loss: 8.1974 - val_categorical_accuracy: 0.3665 - lr: 0.0010\n",
            "Epoch 28/100\n",
            "109/109 [==============================] - 2s 17ms/step - loss: 4.7012 - categorical_accuracy: 0.2032 - val_loss: 7.9781 - val_categorical_accuracy: 0.3815 - lr: 0.0010\n",
            "Epoch 29/100\n",
            "109/109 [==============================] - 2s 17ms/step - loss: 4.6195 - categorical_accuracy: 0.2093 - val_loss: 8.1957 - val_categorical_accuracy: 0.3572 - lr: 0.0010\n",
            "Epoch 30/100\n",
            "109/109 [==============================] - 2s 17ms/step - loss: 4.6171 - categorical_accuracy: 0.2070 - val_loss: 8.4024 - val_categorical_accuracy: 0.3595 - lr: 0.0010\n",
            "Epoch 31/100\n",
            "109/109 [==============================] - 2s 17ms/step - loss: 4.6284 - categorical_accuracy: 0.2157 - val_loss: 8.1651 - val_categorical_accuracy: 0.3699 - lr: 0.0010\n",
            "Epoch 32/100\n",
            "109/109 [==============================] - 2s 17ms/step - loss: 4.4704 - categorical_accuracy: 0.2191 - val_loss: 8.1611 - val_categorical_accuracy: 0.3618 - lr: 0.0010\n",
            "Epoch 33/100\n",
            "109/109 [==============================] - 2s 20ms/step - loss: 4.4636 - categorical_accuracy: 0.2154 - val_loss: 7.9287 - val_categorical_accuracy: 0.3850 - lr: 0.0010\n",
            "Epoch 34/100\n",
            "109/109 [==============================] - 2s 17ms/step - loss: 4.3688 - categorical_accuracy: 0.2269 - val_loss: 8.4261 - val_categorical_accuracy: 0.3572 - lr: 0.0010\n",
            "Epoch 35/100\n",
            "109/109 [==============================] - 2s 17ms/step - loss: 4.3371 - categorical_accuracy: 0.2310 - val_loss: 7.9390 - val_categorical_accuracy: 0.3769 - lr: 0.0010\n",
            "Epoch 36/100\n",
            "109/109 [==============================] - 2s 17ms/step - loss: 4.3332 - categorical_accuracy: 0.2252 - val_loss: 7.9514 - val_categorical_accuracy: 0.3734 - lr: 0.0010\n",
            "Epoch 37/100\n",
            "109/109 [==============================] - 2s 17ms/step - loss: 4.3077 - categorical_accuracy: 0.2316 - val_loss: 8.2341 - val_categorical_accuracy: 0.3503 - lr: 0.0010\n",
            "Epoch 38/100\n",
            "109/109 [==============================] - 2s 17ms/step - loss: 4.2311 - categorical_accuracy: 0.2400 - val_loss: 8.0631 - val_categorical_accuracy: 0.3746 - lr: 0.0010\n",
            "Epoch 39/100\n",
            "109/109 [==============================] - 2s 17ms/step - loss: 4.1748 - categorical_accuracy: 0.2353 - val_loss: 8.0351 - val_categorical_accuracy: 0.3746 - lr: 0.0010\n",
            "Epoch 40/100\n",
            "109/109 [==============================] - 2s 17ms/step - loss: 4.1419 - categorical_accuracy: 0.2515 - val_loss: 7.9615 - val_categorical_accuracy: 0.3838 - lr: 0.0010\n",
            "Epoch 41/100\n",
            "109/109 [==============================] - 2s 17ms/step - loss: 4.1338 - categorical_accuracy: 0.2400 - val_loss: 7.9327 - val_categorical_accuracy: 0.3850 - lr: 0.0010\n",
            "Epoch 42/100\n",
            "109/109 [==============================] - 2s 17ms/step - loss: 4.1305 - categorical_accuracy: 0.2509 - val_loss: 8.0204 - val_categorical_accuracy: 0.3769 - lr: 0.0010\n",
            "Epoch 43/100\n",
            "109/109 [==============================] - 2s 17ms/step - loss: 4.0781 - categorical_accuracy: 0.2483 - val_loss: 8.4682 - val_categorical_accuracy: 0.3445 - lr: 0.0010\n",
            "Epoch 44/100\n",
            "109/109 [==============================] - 2s 17ms/step - loss: 3.8367 - categorical_accuracy: 0.2639 - val_loss: 7.7765 - val_categorical_accuracy: 0.3965 - lr: 1.0000e-04\n",
            "Epoch 45/100\n",
            "109/109 [==============================] - 2s 17ms/step - loss: 3.7164 - categorical_accuracy: 0.2949 - val_loss: 7.7403 - val_categorical_accuracy: 0.3988 - lr: 1.0000e-04\n",
            "Epoch 46/100\n",
            "109/109 [==============================] - 2s 19ms/step - loss: 3.6722 - categorical_accuracy: 0.2992 - val_loss: 7.6636 - val_categorical_accuracy: 0.4000 - lr: 1.0000e-04\n",
            "Epoch 47/100\n",
            "109/109 [==============================] - 2s 17ms/step - loss: 3.5785 - categorical_accuracy: 0.3096 - val_loss: 7.6552 - val_categorical_accuracy: 0.4023 - lr: 1.0000e-04\n",
            "Epoch 48/100\n",
            "109/109 [==============================] - 2s 19ms/step - loss: 3.5789 - categorical_accuracy: 0.3064 - val_loss: 7.6767 - val_categorical_accuracy: 0.4035 - lr: 1.0000e-04\n",
            "Epoch 49/100\n",
            "109/109 [==============================] - 2s 17ms/step - loss: 3.5292 - categorical_accuracy: 0.3047 - val_loss: 7.6492 - val_categorical_accuracy: 0.4012 - lr: 1.0000e-04\n",
            "Epoch 50/100\n",
            "109/109 [==============================] - 2s 17ms/step - loss: 3.5194 - categorical_accuracy: 0.3082 - val_loss: 7.6807 - val_categorical_accuracy: 0.4023 - lr: 1.0000e-04\n",
            "Epoch 51/100\n",
            "109/109 [==============================] - 2s 17ms/step - loss: 3.4636 - categorical_accuracy: 0.3171 - val_loss: 7.6837 - val_categorical_accuracy: 0.4023 - lr: 1.0000e-04\n",
            "Epoch 52/100\n",
            "109/109 [==============================] - 2s 17ms/step - loss: 3.5519 - categorical_accuracy: 0.3082 - val_loss: 7.6696 - val_categorical_accuracy: 0.4069 - lr: 1.0000e-04\n",
            "Epoch 53/100\n",
            "109/109 [==============================] - 2s 18ms/step - loss: 3.4625 - categorical_accuracy: 0.3169 - val_loss: 7.6439 - val_categorical_accuracy: 0.4023 - lr: 1.0000e-04\n",
            "Epoch 54/100\n",
            "109/109 [==============================] - 2s 19ms/step - loss: 3.4264 - categorical_accuracy: 0.3293 - val_loss: 7.6099 - val_categorical_accuracy: 0.4023 - lr: 1.0000e-04\n",
            "Epoch 55/100\n",
            "109/109 [==============================] - 2s 17ms/step - loss: 3.4552 - categorical_accuracy: 0.3270 - val_loss: 7.6254 - val_categorical_accuracy: 0.4092 - lr: 1.0000e-04\n",
            "Epoch 56/100\n",
            "109/109 [==============================] - 2s 17ms/step - loss: 3.4059 - categorical_accuracy: 0.3255 - val_loss: 7.6433 - val_categorical_accuracy: 0.4035 - lr: 1.0000e-04\n",
            "Epoch 57/100\n",
            "109/109 [==============================] - 2s 17ms/step - loss: 3.3944 - categorical_accuracy: 0.3359 - val_loss: 7.6071 - val_categorical_accuracy: 0.4035 - lr: 1.0000e-04\n",
            "Epoch 58/100\n",
            "109/109 [==============================] - 2s 17ms/step - loss: 3.3263 - categorical_accuracy: 0.3336 - val_loss: 7.6981 - val_categorical_accuracy: 0.4046 - lr: 1.0000e-04\n",
            "Epoch 59/100\n",
            "109/109 [==============================] - 2s 17ms/step - loss: 3.3926 - categorical_accuracy: 0.3281 - val_loss: 7.6670 - val_categorical_accuracy: 0.4012 - lr: 1.0000e-04\n",
            "Epoch 60/100\n",
            "109/109 [==============================] - 2s 17ms/step - loss: 3.3502 - categorical_accuracy: 0.3435 - val_loss: 7.5949 - val_categorical_accuracy: 0.4035 - lr: 1.0000e-04\n",
            "Epoch 61/100\n",
            "109/109 [==============================] - 2s 17ms/step - loss: 3.3717 - categorical_accuracy: 0.3325 - val_loss: 7.5948 - val_categorical_accuracy: 0.4058 - lr: 1.0000e-04\n",
            "Epoch 62/100\n",
            "109/109 [==============================] - 2s 17ms/step - loss: 3.3151 - categorical_accuracy: 0.3443 - val_loss: 7.6964 - val_categorical_accuracy: 0.4023 - lr: 1.0000e-04\n",
            "Epoch 63/100\n",
            "109/109 [==============================] - 2s 17ms/step - loss: 3.3242 - categorical_accuracy: 0.3397 - val_loss: 7.6099 - val_categorical_accuracy: 0.3977 - lr: 1.0000e-04\n",
            "Epoch 64/100\n",
            "109/109 [==============================] - 2s 17ms/step - loss: 3.3238 - categorical_accuracy: 0.3397 - val_loss: 7.6325 - val_categorical_accuracy: 0.4046 - lr: 1.0000e-04\n",
            "Epoch 65/100\n",
            "109/109 [==============================] - 2s 17ms/step - loss: 3.3214 - categorical_accuracy: 0.3417 - val_loss: 7.6403 - val_categorical_accuracy: 0.4069 - lr: 1.0000e-04\n",
            "Epoch 66/100\n",
            "109/109 [==============================] - 2s 19ms/step - loss: 3.2920 - categorical_accuracy: 0.3452 - val_loss: 7.6598 - val_categorical_accuracy: 0.4035 - lr: 1.0000e-04\n",
            "Epoch 67/100\n",
            "109/109 [==============================] - 2s 17ms/step - loss: 3.2624 - categorical_accuracy: 0.3472 - val_loss: 7.6532 - val_categorical_accuracy: 0.4058 - lr: 1.0000e-04\n",
            "Epoch 68/100\n",
            "109/109 [==============================] - 2s 17ms/step - loss: 3.2613 - categorical_accuracy: 0.3518 - val_loss: 7.6196 - val_categorical_accuracy: 0.4069 - lr: 1.0000e-04\n",
            "Epoch 69/100\n",
            "109/109 [==============================] - 2s 18ms/step - loss: 3.2516 - categorical_accuracy: 0.3487 - val_loss: 7.5752 - val_categorical_accuracy: 0.4035 - lr: 1.0000e-04\n",
            "Epoch 70/100\n",
            "109/109 [==============================] - 2s 17ms/step - loss: 3.2805 - categorical_accuracy: 0.3492 - val_loss: 7.5916 - val_categorical_accuracy: 0.4069 - lr: 1.0000e-04\n",
            "Epoch 71/100\n",
            "109/109 [==============================] - 2s 17ms/step - loss: 3.2571 - categorical_accuracy: 0.3466 - val_loss: 7.6037 - val_categorical_accuracy: 0.4081 - lr: 1.0000e-04\n",
            "Epoch 72/100\n",
            "109/109 [==============================] - 2s 17ms/step - loss: 3.2076 - categorical_accuracy: 0.3481 - val_loss: 7.6461 - val_categorical_accuracy: 0.4069 - lr: 1.0000e-04\n",
            "Epoch 73/100\n",
            "109/109 [==============================] - 2s 17ms/step - loss: 3.2220 - categorical_accuracy: 0.3521 - val_loss: 7.5878 - val_categorical_accuracy: 0.4092 - lr: 1.0000e-04\n",
            "Epoch 74/100\n",
            "109/109 [==============================] - 2s 17ms/step - loss: 3.2476 - categorical_accuracy: 0.3458 - val_loss: 7.6039 - val_categorical_accuracy: 0.4035 - lr: 1.0000e-04\n",
            "Epoch 75/100\n",
            "109/109 [==============================] - 2s 17ms/step - loss: 3.2184 - categorical_accuracy: 0.3527 - val_loss: 7.6139 - val_categorical_accuracy: 0.4081 - lr: 1.0000e-04\n",
            "Epoch 76/100\n",
            "109/109 [==============================] - 2s 17ms/step - loss: 3.1768 - categorical_accuracy: 0.3582 - val_loss: 7.6399 - val_categorical_accuracy: 0.4127 - lr: 1.0000e-04\n",
            "Epoch 77/100\n",
            "109/109 [==============================] - 2s 17ms/step - loss: 3.2332 - categorical_accuracy: 0.3530 - val_loss: 7.5582 - val_categorical_accuracy: 0.4058 - lr: 1.0000e-04\n",
            "Epoch 78/100\n",
            "109/109 [==============================] - 2s 18ms/step - loss: 3.2010 - categorical_accuracy: 0.3602 - val_loss: 7.6251 - val_categorical_accuracy: 0.4081 - lr: 1.0000e-04\n",
            "Epoch 79/100\n",
            "109/109 [==============================] - 2s 19ms/step - loss: 3.1687 - categorical_accuracy: 0.3576 - val_loss: 7.5627 - val_categorical_accuracy: 0.4104 - lr: 1.0000e-04\n",
            "Epoch 80/100\n",
            "109/109 [==============================] - 2s 17ms/step - loss: 3.1161 - categorical_accuracy: 0.3591 - val_loss: 7.5957 - val_categorical_accuracy: 0.4058 - lr: 1.0000e-04\n",
            "Epoch 81/100\n",
            "109/109 [==============================] - 2s 17ms/step - loss: 3.1223 - categorical_accuracy: 0.3706 - val_loss: 7.6034 - val_categorical_accuracy: 0.4081 - lr: 1.0000e-04\n",
            "Epoch 82/100\n",
            "109/109 [==============================] - 2s 17ms/step - loss: 3.2311 - categorical_accuracy: 0.3527 - val_loss: 7.6190 - val_categorical_accuracy: 0.4046 - lr: 1.0000e-04\n",
            "Epoch 83/100\n",
            "109/109 [==============================] - 2s 18ms/step - loss: 3.1054 - categorical_accuracy: 0.3683 - val_loss: 7.6038 - val_categorical_accuracy: 0.4104 - lr: 1.0000e-04\n",
            "Epoch 84/100\n",
            "109/109 [==============================] - 2s 18ms/step - loss: 3.1360 - categorical_accuracy: 0.3637 - val_loss: 7.5484 - val_categorical_accuracy: 0.4046 - lr: 1.0000e-04\n",
            "Epoch 85/100\n",
            "109/109 [==============================] - 2s 17ms/step - loss: 3.1546 - categorical_accuracy: 0.3695 - val_loss: 7.5662 - val_categorical_accuracy: 0.4081 - lr: 1.0000e-04\n",
            "Epoch 86/100\n",
            "109/109 [==============================] - 2s 17ms/step - loss: 3.1271 - categorical_accuracy: 0.3695 - val_loss: 7.5951 - val_categorical_accuracy: 0.4081 - lr: 1.0000e-04\n",
            "Epoch 87/100\n",
            "109/109 [==============================] - 2s 17ms/step - loss: 3.1313 - categorical_accuracy: 0.3683 - val_loss: 7.5636 - val_categorical_accuracy: 0.4081 - lr: 1.0000e-04\n",
            "Epoch 88/100\n",
            "109/109 [==============================] - 2s 17ms/step - loss: 3.0922 - categorical_accuracy: 0.3767 - val_loss: 7.5482 - val_categorical_accuracy: 0.4081 - lr: 1.0000e-04\n",
            "Epoch 89/100\n",
            "109/109 [==============================] - 2s 17ms/step - loss: 3.0974 - categorical_accuracy: 0.3779 - val_loss: 7.5925 - val_categorical_accuracy: 0.4081 - lr: 1.0000e-04\n",
            "Epoch 90/100\n",
            "109/109 [==============================] - 2s 17ms/step - loss: 3.0779 - categorical_accuracy: 0.3810 - val_loss: 7.5537 - val_categorical_accuracy: 0.4092 - lr: 1.0000e-04\n",
            "Epoch 91/100\n",
            "109/109 [==============================] - 2s 19ms/step - loss: 3.0844 - categorical_accuracy: 0.3744 - val_loss: 7.5954 - val_categorical_accuracy: 0.4185 - lr: 1.0000e-04\n",
            "Epoch 92/100\n",
            "109/109 [==============================] - 2s 19ms/step - loss: 3.1074 - categorical_accuracy: 0.3663 - val_loss: 7.6499 - val_categorical_accuracy: 0.4127 - lr: 1.0000e-04\n",
            "Epoch 93/100\n",
            "109/109 [==============================] - 2s 17ms/step - loss: 3.0579 - categorical_accuracy: 0.3776 - val_loss: 7.6343 - val_categorical_accuracy: 0.4069 - lr: 1.0000e-04\n",
            "Epoch 94/100\n",
            "109/109 [==============================] - 2s 17ms/step - loss: 3.1357 - categorical_accuracy: 0.3611 - val_loss: 7.6833 - val_categorical_accuracy: 0.4081 - lr: 1.0000e-04\n",
            "Epoch 95/100\n",
            "109/109 [==============================] - 2s 17ms/step - loss: 3.1082 - categorical_accuracy: 0.3703 - val_loss: 7.5861 - val_categorical_accuracy: 0.4104 - lr: 1.0000e-04\n",
            "Epoch 96/100\n",
            "109/109 [==============================] - 2s 17ms/step - loss: 3.0750 - categorical_accuracy: 0.3689 - val_loss: 7.6714 - val_categorical_accuracy: 0.4069 - lr: 1.0000e-04\n",
            "Epoch 97/100\n",
            "109/109 [==============================] - 2s 17ms/step - loss: 3.0680 - categorical_accuracy: 0.3880 - val_loss: 7.5701 - val_categorical_accuracy: 0.4092 - lr: 1.0000e-04\n",
            "Epoch 98/100\n",
            "109/109 [==============================] - 2s 17ms/step - loss: 3.1011 - categorical_accuracy: 0.3669 - val_loss: 7.5596 - val_categorical_accuracy: 0.4116 - lr: 1.0000e-04\n",
            "Epoch 99/100\n",
            "109/109 [==============================] - 2s 17ms/step - loss: 3.0594 - categorical_accuracy: 0.3793 - val_loss: 7.5733 - val_categorical_accuracy: 0.4104 - lr: 1.0000e-05\n",
            "Epoch 100/100\n",
            "109/109 [==============================] - 2s 17ms/step - loss: 3.0420 - categorical_accuracy: 0.3761 - val_loss: 7.5748 - val_categorical_accuracy: 0.4092 - lr: 1.0000e-05\n"
          ]
        },
        {
          "output_type": "execute_result",
          "data": {
            "text/plain": [
              "<keras.callbacks.History at 0x7f49fa16f450>"
            ]
          },
          "metadata": {},
          "execution_count": 22
        }
      ]
    },
    {
      "cell_type": "code",
      "source": [
        "new_model = tf.keras.Model(inputs=model.input[0], outputs=model.layers[-3].output)"
      ],
      "metadata": {
        "id": "d8Sarj4uCiNV"
      },
      "execution_count": null,
      "outputs": []
    },
    {
      "cell_type": "code",
      "source": [
        "features = new_model.predict(x_test, verbose=0)\n",
        "features /= np.linalg.norm(features, axis=1, keepdims=True)\n",
        "y_test_ = np.argmax(y_test, axis=-1)\n",
        "cosine_similarity = tf.keras.metrics.CosineSimilarity()"
      ],
      "metadata": {
        "id": "lp-Y6Ts8CuKU"
      },
      "execution_count": null,
      "outputs": []
    },
    {
      "cell_type": "code",
      "source": [
        "import matplotlib.pyplot as plt\n",
        "from mpl_toolkits.mplot3d import Axes3D\n",
        "\n",
        "fig1 = plt.figure()\n",
        "ax1 = Axes3D(fig1)\n",
        "for c in range(len(np.unique(y_test_))):\n",
        "    ax1.plot(features[y_test_==c, 0], features[y_test_==c, 1], features[y_test_==c, 2], '.', alpha=0.1)\n",
        "plt.title('ArcFAce')\n",
        "# разделение особо и не произошло"
      ],
      "metadata": {
        "colab": {
          "base_uri": "https://localhost:8080/",
          "height": 336
        },
        "id": "Ksbi7ZRsDxXc",
        "outputId": "47f0f495-1e05-4aa2-8f3d-92edaf008624"
      },
      "execution_count": null,
      "outputs": [
        {
          "output_type": "execute_result",
          "data": {
            "text/plain": [
              "Text(0.5, 0.92, 'ArcFAce')"
            ]
          },
          "metadata": {},
          "execution_count": 86
        },
        {
          "output_type": "display_data",
          "data": {
            "text/plain": [
              "<Figure size 432x288 with 1 Axes>"
            ],
            "image/png": "[encoded data removed]"
          },
          "metadata": {
            "needs_background": "light"
          }
        }
      ]
    },
    {
      "cell_type": "code",
      "source": [
        "image1 = Image.open(df.loc[4654, \"Image_dir\"])\n",
        "image2 = Image.open(df.loc[4666, \"Image_dir\"])\n",
        "img1 = np.array(image1)[None]\n",
        "img2 = np.array(image2)[None]\n",
        "img1 = img1 / 127.5 - 1\n",
        "img2 = img2 / 127.5 - 1\n",
        "\n",
        "out1 = new_model.predict(img1, verbose=0).ravel()\n",
        "out2 = new_model.predict(img2, verbose=0).ravel()\n",
        "\n",
        "# out1 /= np.linalg.norm(out1, axis=-1, keepdims=True)\n",
        "# out2 /= np.linalg.norm(out2, axis=-1, keepdims=True)\n",
        "\n",
        "similarity = cosine_similarity(out1, out2)\n",
        "# similarity = out1 @ out2"
      ],
      "metadata": {
        "id": "9VxK5uHdHEak"
      },
      "execution_count": null,
      "outputs": []
    },
    {
      "cell_type": "code",
      "source": [
        "plt.subplot(121)\n",
        "plt.imshow(image1)\n",
        "plt.subplot(122)\n",
        "plt.imshow(image2)\n",
        "plt.title(f\"Similarity: {similarity}\")\n",
        "plt.show()"
      ],
      "metadata": {
        "colab": {
          "base_uri": "https://localhost:8080/",
          "height": 216
        },
        "id": "ZNC10zq3INdX",
        "outputId": "2cf3ef43-2f96-4b13-bca7-b9c421bb56f6"
      },
      "execution_count": null,
      "outputs": [
        {
          "output_type": "display_data",
          "data": {
            "text/plain": [
              "<Figure size 432x288 with 2 Axes>"
            ],
            "image/png": "[encoded data removed]"
          },
          "metadata": {
            "needs_background": "light"
          }
        }
      ]
    },
    {
      "cell_type": "code",
      "source": [
        "image1 = Image.open(df.loc[11, \"Image_dir\"])\n",
        "image2 = Image.open(df.loc[4654, \"Image_dir\"])\n",
        "img1 = np.array(image1)[None]\n",
        "img2 = np.array(image2)[None]\n",
        "img1 = img1 / 127.5 - 1\n",
        "img2 = img2 / 127.5 - 1\n",
        "\n",
        "out1 = new_model.predict(img1, verbose=0).ravel()\n",
        "out2 = new_model.predict(img2, verbose=0).ravel()\n",
        "\n",
        "# out1 /= np.linalg.norm(out1, axis=-1, keepdims=True)\n",
        "# out2 /= np.linalg.norm(out2, axis=-1, keepdims=True)\n",
        "\n",
        "similarity = cosine_similarity(out1, out2)\n",
        "# similarity = out1 @ out2"
      ],
      "metadata": {
        "id": "bAcgKGWbJeWl"
      },
      "execution_count": null,
      "outputs": []
    },
    {
      "cell_type": "code",
      "source": [
        "plt.subplot(121)\n",
        "plt.imshow(image1)\n",
        "plt.subplot(122)\n",
        "plt.imshow(image2)\n",
        "plt.title(f\"Similarity: {similarity}\")\n",
        "plt.show()"
      ],
      "metadata": {
        "colab": {
          "base_uri": "https://localhost:8080/",
          "height": 216
        },
        "id": "T6ru080XJlVr",
        "outputId": "add3124f-f153-4489-e65d-03f88c88fcb1"
      },
      "execution_count": null,
      "outputs": [
        {
          "output_type": "display_data",
          "data": {
            "text/plain": [
              "<Figure size 432x288 with 2 Axes>"
            ],
            "image/png": "[encoded data removed]"
          },
          "metadata": {
            "needs_background": "light"
          }
        }
      ]
    }
  ]
}