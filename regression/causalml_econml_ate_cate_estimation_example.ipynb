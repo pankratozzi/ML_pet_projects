{
 "cells": [
  {
   "cell_type": "code",
   "execution_count": 118,
   "id": "fcb89d01",
   "metadata": {},
   "outputs": [],
   "source": [
    "import pandas as pd\n",
    "import numpy as np\n",
    "\n",
    "import seaborn as sns\n",
    "import matplotlib.pyplot as plt\n",
    "\n",
    "from causalml.dataset import synthetic_data\n",
    "from causalml.inference.meta import BaseSClassifier, BaseTClassifier, BaseXClassifier, BaseRClassifier\n",
    "from lightgbm import LGBMClassifier, LGBMRegressor\n",
    "\n",
    "from sklearn.linear_model import LogisticRegression\n",
    "from sklearn.model_selection import train_test_split, cross_val_predict\n",
    "\n",
    "from sklift.metrics import uplift_at_k, uplift_auc_score, qini_auc_score, weighted_average_uplift, uplift_by_percentile\n",
    "from sklift.viz import plot_uplift_preds, plot_uplift_by_percentile, plot_uplift_curve, plot_qini_curve\n",
    "from sklift.viz import plot_treatment_balance_curve, plot_uplift_preds"
   ]
  },
  {
   "cell_type": "markdown",
   "id": "04272188",
   "metadata": {},
   "source": [
    "* https://causalml.readthedocs.io/en/stable/methodology.html\n",
    "* https://matheusfacure.github.io/python-causality-handbook/landing-page.html\n",
    "* https://habr.com/ru/companies/glowbyte/articles/686398/\n",
    "* https://habr.com/ru/companies/ru_mts/articles/485980/\n",
    "* https://medium.com/grabngoinfo/multiple-treatments-uplift-models-for-binary-outcome-using-python-causalml-b2203f589a67\n",
    "* https://www.robingomila.com/files/publications_pdfs/Gomila_2020_Logistic_vs_Linear.pdf"
   ]
  },
  {
   "cell_type": "code",
   "execution_count": 23,
   "id": "55ba1f4f",
   "metadata": {},
   "outputs": [],
   "source": [
    "pd.set_option('display.max_columns', 100)"
   ]
  },
  {
   "cell_type": "code",
   "execution_count": null,
   "id": "bf8aa2cd",
   "metadata": {},
   "outputs": [],
   "source": [
    "# also we can manage the same with mutiple treatment -> add treatment category to the treatment variable"
   ]
  },
  {
   "cell_type": "code",
   "execution_count": 73,
   "id": "744aa0be",
   "metadata": {},
   "outputs": [],
   "source": [
    "def evaluate(y_valid, uplift, treatment_valid, k=0.3):\n",
    "    \"\"\"\n",
    "    https://www.kaggle.com/code/vanguarde/study-series-uplift-modeling\n",
    "    k - top percent of observations sorted by uplift values\n",
    "    \"\"\"\n",
    "    # by_group\n",
    "    # Separately calculates conversions in top k observations in each group (control and treatment) \n",
    "    # sorted by uplift predictions. Then the difference between these conversions is calculated\n",
    "    # overall\n",
    "    #  the first k observations of all test data ordered by uplift prediction (overall both groups - control and treatment) \n",
    "    # and conversions in treatment and control groups calculated only on them. Then the difference between these conversions \n",
    "    # is calculated.\n",
    "    upliftk = uplift_at_k(y_true=y_valid, uplift=uplift, treatment=treatment_valid, strategy='by_group', k=k)\n",
    "    upliftk_all = uplift_at_k(y_true=y_valid, uplift=uplift, treatment=treatment_valid, strategy='overall', k=k)\n",
    "\n",
    "    # Q_coef = (AUC_model - AUC_random) / (AUC_perfect - AUC_random)\n",
    "    qini_coef = qini_auc_score(y_true=y_valid, uplift=uplift, treatment=treatment_valid)\n",
    "    \n",
    "    # AUC \n",
    "    uplift_auc = uplift_auc_score(y_true=y_valid, uplift=uplift, treatment=treatment_valid)\n",
    "\n",
    "    wau = weighted_average_uplift(y_true=y_valid, uplift=uplift, treatment=treatment_valid, strategy='by_group')\n",
    "    wau_all = weighted_average_uplift(y_true=y_valid, uplift=uplift, treatment=treatment_valid)\n",
    "\n",
    "    print(f'uplift at top {int(k*100)}% by group: {upliftk:.2f} by overall: {upliftk_all:.2f}\\n',\n",
    "          f'Weighted average uplift by group: {wau:.2f} by overall: {wau_all:.2f}\\n',\n",
    "          f'AUUC by group: {uplift_auc:.2f}\\n',\n",
    "          f'AUQC by group: {qini_coef:.2f}\\n')\n",
    "    return {f'uplift@{int(k*100)}': upliftk, f'uplift@{int(k*100)}_all': upliftk_all, 'AUQC': qini_coef, 'AUUC': uplift_auc, \n",
    "            'WAU': wau, 'WAU_all': wau_all}\n",
    "\n",
    "plot_types = ['uplift_curve', 'uplift_perc_group', 'uplift_perc_overall', 'qini_curve', 'treatment_bal', 'pred_tr_vs_cnt']\n",
    "\n",
    "def get_plots(response, uplift, treatment, plot_type='upl_perc', treatment_pred=None, control_pred=None):\n",
    "    \"\"\"\n",
    "    treatment_pred: predictions for all observations if they are treatment.\n",
    "    control_pred: predictions for all observations if they are control.\n",
    "    \"\"\"\n",
    "    if plot_type == 'uplift_curve':\n",
    "        plot_uplift_curve(response, uplift, treatment, perfect=False)\n",
    "    elif plot_type == 'uplift_perc_group':\n",
    "        plot_uplift_by_percentile(response, uplift, treatment, strategy='by_group', kind='bar')\n",
    "    elif plot_type == 'uplift_perc_overall':\n",
    "        plot_uplift_by_percentile(response, uplift, treatment, strategy='overall', kind='bar')\n",
    "    elif plot_type == 'qini_curve':\n",
    "        plot_qini_curve(response, uplift, treatment, perfect=False)\n",
    "    elif plot_type == 'treatment_bal':\n",
    "        plot_treatment_balance_curve(uplift, treatment, random=True, winsize=0.1)\n",
    "    elif plot_type == 'pred_tr_vs_cnt':\n",
    "        if treatment_pred is not None and control_pred is not None:\n",
    "            plot_uplift_preds(treatment_pred, control_pred, log=False, bins=100)"
   ]
  },
  {
   "cell_type": "code",
   "execution_count": 27,
   "id": "69e06691",
   "metadata": {},
   "outputs": [],
   "source": [
    "train = pd.read_csv('megafon/train.csv', index_col='id')\n",
    "test = pd.read_csv('megafon/test.csv', index_col='id')"
   ]
  },
  {
   "cell_type": "code",
   "execution_count": 28,
   "id": "fb16db6c",
   "metadata": {},
   "outputs": [
    {
     "data": {
      "text/html": [
       "<div>\n",
       "<style scoped>\n",
       "    .dataframe tbody tr th:only-of-type {\n",
       "        vertical-align: middle;\n",
       "    }\n",
       "\n",
       "    .dataframe tbody tr th {\n",
       "        vertical-align: top;\n",
       "    }\n",
       "\n",
       "    .dataframe thead th {\n",
       "        text-align: right;\n",
       "    }\n",
       "</style>\n",
       "<table border=\"1\" class=\"dataframe\">\n",
       "  <thead>\n",
       "    <tr style=\"text-align: right;\">\n",
       "      <th></th>\n",
       "      <th>treatment_group</th>\n",
       "      <th>X_1</th>\n",
       "      <th>X_2</th>\n",
       "      <th>X_3</th>\n",
       "      <th>X_4</th>\n",
       "      <th>X_5</th>\n",
       "      <th>X_6</th>\n",
       "      <th>X_7</th>\n",
       "      <th>X_8</th>\n",
       "      <th>X_9</th>\n",
       "      <th>X_10</th>\n",
       "      <th>X_11</th>\n",
       "      <th>X_12</th>\n",
       "      <th>X_13</th>\n",
       "      <th>X_14</th>\n",
       "      <th>X_15</th>\n",
       "      <th>X_16</th>\n",
       "      <th>X_17</th>\n",
       "      <th>X_18</th>\n",
       "      <th>X_19</th>\n",
       "      <th>X_20</th>\n",
       "      <th>X_21</th>\n",
       "      <th>X_22</th>\n",
       "      <th>X_23</th>\n",
       "      <th>X_24</th>\n",
       "      <th>X_25</th>\n",
       "      <th>X_26</th>\n",
       "      <th>X_27</th>\n",
       "      <th>X_28</th>\n",
       "      <th>X_29</th>\n",
       "      <th>X_30</th>\n",
       "      <th>X_31</th>\n",
       "      <th>X_32</th>\n",
       "      <th>X_33</th>\n",
       "      <th>X_34</th>\n",
       "      <th>X_35</th>\n",
       "      <th>X_36</th>\n",
       "      <th>X_37</th>\n",
       "      <th>X_38</th>\n",
       "      <th>X_39</th>\n",
       "      <th>X_40</th>\n",
       "      <th>X_41</th>\n",
       "      <th>X_42</th>\n",
       "      <th>X_43</th>\n",
       "      <th>X_44</th>\n",
       "      <th>X_45</th>\n",
       "      <th>X_46</th>\n",
       "      <th>X_47</th>\n",
       "      <th>X_48</th>\n",
       "      <th>X_49</th>\n",
       "      <th>X_50</th>\n",
       "      <th>conversion</th>\n",
       "    </tr>\n",
       "    <tr>\n",
       "      <th>id</th>\n",
       "      <th></th>\n",
       "      <th></th>\n",
       "      <th></th>\n",
       "      <th></th>\n",
       "      <th></th>\n",
       "      <th></th>\n",
       "      <th></th>\n",
       "      <th></th>\n",
       "      <th></th>\n",
       "      <th></th>\n",
       "      <th></th>\n",
       "      <th></th>\n",
       "      <th></th>\n",
       "      <th></th>\n",
       "      <th></th>\n",
       "      <th></th>\n",
       "      <th></th>\n",
       "      <th></th>\n",
       "      <th></th>\n",
       "      <th></th>\n",
       "      <th></th>\n",
       "      <th></th>\n",
       "      <th></th>\n",
       "      <th></th>\n",
       "      <th></th>\n",
       "      <th></th>\n",
       "      <th></th>\n",
       "      <th></th>\n",
       "      <th></th>\n",
       "      <th></th>\n",
       "      <th></th>\n",
       "      <th></th>\n",
       "      <th></th>\n",
       "      <th></th>\n",
       "      <th></th>\n",
       "      <th></th>\n",
       "      <th></th>\n",
       "      <th></th>\n",
       "      <th></th>\n",
       "      <th></th>\n",
       "      <th></th>\n",
       "      <th></th>\n",
       "      <th></th>\n",
       "      <th></th>\n",
       "      <th></th>\n",
       "      <th></th>\n",
       "      <th></th>\n",
       "      <th></th>\n",
       "      <th></th>\n",
       "      <th></th>\n",
       "      <th></th>\n",
       "      <th></th>\n",
       "    </tr>\n",
       "  </thead>\n",
       "  <tbody>\n",
       "    <tr>\n",
       "      <th>0</th>\n",
       "      <td>control</td>\n",
       "      <td>39.396577</td>\n",
       "      <td>-0.186548</td>\n",
       "      <td>19.524505</td>\n",
       "      <td>21.250208</td>\n",
       "      <td>55.291264</td>\n",
       "      <td>182.966712</td>\n",
       "      <td>-5.385606</td>\n",
       "      <td>144.573379</td>\n",
       "      <td>-12.534344</td>\n",
       "      <td>-58.279429</td>\n",
       "      <td>283.544750</td>\n",
       "      <td>-3.297557</td>\n",
       "      <td>74.491728</td>\n",
       "      <td>11.674656</td>\n",
       "      <td>-4.852843</td>\n",
       "      <td>99.324038</td>\n",
       "      <td>159.686346</td>\n",
       "      <td>-5.830570</td>\n",
       "      <td>-4.554391</td>\n",
       "      <td>-75.704888</td>\n",
       "      <td>-4.540720</td>\n",
       "      <td>107.891557</td>\n",
       "      <td>-0.592276</td>\n",
       "      <td>0.513937</td>\n",
       "      <td>-3.415607</td>\n",
       "      <td>-7.454581</td>\n",
       "      <td>-38.519996</td>\n",
       "      <td>-116.186909</td>\n",
       "      <td>18.253466</td>\n",
       "      <td>0.775597</td>\n",
       "      <td>-66.833169</td>\n",
       "      <td>121.204278</td>\n",
       "      <td>-58.588803</td>\n",
       "      <td>0.266334</td>\n",
       "      <td>0.758562</td>\n",
       "      <td>-13.254177</td>\n",
       "      <td>200.715580</td>\n",
       "      <td>77.227063</td>\n",
       "      <td>-230.591020</td>\n",
       "      <td>-3.023398</td>\n",
       "      <td>90.877638</td>\n",
       "      <td>134.363458</td>\n",
       "      <td>-213.584582</td>\n",
       "      <td>-2.092461</td>\n",
       "      <td>-93.973258</td>\n",
       "      <td>-0.155597</td>\n",
       "      <td>-312.130733</td>\n",
       "      <td>44.798182</td>\n",
       "      <td>-125.682413</td>\n",
       "      <td>16.231365</td>\n",
       "      <td>0</td>\n",
       "    </tr>\n",
       "    <tr>\n",
       "      <th>1</th>\n",
       "      <td>control</td>\n",
       "      <td>38.987694</td>\n",
       "      <td>0.819522</td>\n",
       "      <td>-42.064512</td>\n",
       "      <td>-48.270949</td>\n",
       "      <td>-33.171257</td>\n",
       "      <td>179.459341</td>\n",
       "      <td>-87.151810</td>\n",
       "      <td>-162.693257</td>\n",
       "      <td>20.651652</td>\n",
       "      <td>181.635081</td>\n",
       "      <td>114.382486</td>\n",
       "      <td>10.277246</td>\n",
       "      <td>132.852421</td>\n",
       "      <td>-14.088731</td>\n",
       "      <td>82.011396</td>\n",
       "      <td>-19.290410</td>\n",
       "      <td>-155.851825</td>\n",
       "      <td>3.904401</td>\n",
       "      <td>26.194543</td>\n",
       "      <td>87.908221</td>\n",
       "      <td>115.714068</td>\n",
       "      <td>-179.564296</td>\n",
       "      <td>-1.202563</td>\n",
       "      <td>1.827663</td>\n",
       "      <td>87.042091</td>\n",
       "      <td>6.771393</td>\n",
       "      <td>12.481973</td>\n",
       "      <td>304.514135</td>\n",
       "      <td>3.618649</td>\n",
       "      <td>-0.422986</td>\n",
       "      <td>76.520982</td>\n",
       "      <td>67.402922</td>\n",
       "      <td>-407.896510</td>\n",
       "      <td>-1.269765</td>\n",
       "      <td>-34.027547</td>\n",
       "      <td>-91.572702</td>\n",
       "      <td>61.215866</td>\n",
       "      <td>-80.652713</td>\n",
       "      <td>-782.791784</td>\n",
       "      <td>-33.541388</td>\n",
       "      <td>-183.840746</td>\n",
       "      <td>72.864779</td>\n",
       "      <td>559.783584</td>\n",
       "      <td>1.142391</td>\n",
       "      <td>80.037124</td>\n",
       "      <td>-1.216185</td>\n",
       "      <td>-111.473936</td>\n",
       "      <td>-127.737977</td>\n",
       "      <td>-117.501171</td>\n",
       "      <td>10.732234</td>\n",
       "      <td>0</td>\n",
       "    </tr>\n",
       "    <tr>\n",
       "      <th>2</th>\n",
       "      <td>treatment</td>\n",
       "      <td>-16.693093</td>\n",
       "      <td>1.844558</td>\n",
       "      <td>-8.615192</td>\n",
       "      <td>-18.818740</td>\n",
       "      <td>-22.271188</td>\n",
       "      <td>-116.290369</td>\n",
       "      <td>-63.816746</td>\n",
       "      <td>-38.340763</td>\n",
       "      <td>24.968496</td>\n",
       "      <td>-136.340629</td>\n",
       "      <td>628.310139</td>\n",
       "      <td>-7.714403</td>\n",
       "      <td>-4.863992</td>\n",
       "      <td>-41.638770</td>\n",
       "      <td>187.244122</td>\n",
       "      <td>16.716381</td>\n",
       "      <td>103.805977</td>\n",
       "      <td>15.248096</td>\n",
       "      <td>-7.963610</td>\n",
       "      <td>-18.581579</td>\n",
       "      <td>247.603883</td>\n",
       "      <td>-60.794763</td>\n",
       "      <td>-0.707689</td>\n",
       "      <td>-0.293637</td>\n",
       "      <td>186.251855</td>\n",
       "      <td>4.644561</td>\n",
       "      <td>-13.456976</td>\n",
       "      <td>52.765776</td>\n",
       "      <td>-95.096983</td>\n",
       "      <td>-2.191094</td>\n",
       "      <td>41.936533</td>\n",
       "      <td>17.929746</td>\n",
       "      <td>-243.263646</td>\n",
       "      <td>7.630227</td>\n",
       "      <td>-27.235726</td>\n",
       "      <td>38.757461</td>\n",
       "      <td>168.534929</td>\n",
       "      <td>94.979240</td>\n",
       "      <td>-177.641632</td>\n",
       "      <td>-40.559792</td>\n",
       "      <td>-203.637766</td>\n",
       "      <td>2.480242</td>\n",
       "      <td>96.998504</td>\n",
       "      <td>1.100962</td>\n",
       "      <td>-33.275159</td>\n",
       "      <td>0.920926</td>\n",
       "      <td>-679.492242</td>\n",
       "      <td>-91.009397</td>\n",
       "      <td>-18.173358</td>\n",
       "      <td>14.367636</td>\n",
       "      <td>0</td>\n",
       "    </tr>\n",
       "    <tr>\n",
       "      <th>3</th>\n",
       "      <td>treatment</td>\n",
       "      <td>-72.040154</td>\n",
       "      <td>-0.226921</td>\n",
       "      <td>39.802607</td>\n",
       "      <td>16.441262</td>\n",
       "      <td>-1.112509</td>\n",
       "      <td>68.128008</td>\n",
       "      <td>23.073147</td>\n",
       "      <td>4.688858</td>\n",
       "      <td>-49.383641</td>\n",
       "      <td>-91.866107</td>\n",
       "      <td>374.208539</td>\n",
       "      <td>-5.197953</td>\n",
       "      <td>-16.972788</td>\n",
       "      <td>-20.513819</td>\n",
       "      <td>26.733826</td>\n",
       "      <td>-5.051170</td>\n",
       "      <td>266.620852</td>\n",
       "      <td>-1.003867</td>\n",
       "      <td>5.644895</td>\n",
       "      <td>101.563496</td>\n",
       "      <td>24.222458</td>\n",
       "      <td>15.445679</td>\n",
       "      <td>-0.193439</td>\n",
       "      <td>-0.537621</td>\n",
       "      <td>18.220545</td>\n",
       "      <td>-19.826745</td>\n",
       "      <td>-9.969067</td>\n",
       "      <td>-176.056848</td>\n",
       "      <td>-34.994979</td>\n",
       "      <td>-0.169379</td>\n",
       "      <td>20.194249</td>\n",
       "      <td>97.909989</td>\n",
       "      <td>41.396933</td>\n",
       "      <td>-4.572652</td>\n",
       "      <td>73.594603</td>\n",
       "      <td>59.882086</td>\n",
       "      <td>-18.703877</td>\n",
       "      <td>109.139592</td>\n",
       "      <td>-4.272029</td>\n",
       "      <td>18.375161</td>\n",
       "      <td>172.906875</td>\n",
       "      <td>83.951551</td>\n",
       "      <td>-323.642557</td>\n",
       "      <td>-0.369182</td>\n",
       "      <td>93.221948</td>\n",
       "      <td>-1.962380</td>\n",
       "      <td>-442.466684</td>\n",
       "      <td>-22.298302</td>\n",
       "      <td>-75.916603</td>\n",
       "      <td>11.634299</td>\n",
       "      <td>0</td>\n",
       "    </tr>\n",
       "    <tr>\n",
       "      <th>4</th>\n",
       "      <td>treatment</td>\n",
       "      <td>18.296973</td>\n",
       "      <td>0.996437</td>\n",
       "      <td>24.465307</td>\n",
       "      <td>-34.151971</td>\n",
       "      <td>24.623458</td>\n",
       "      <td>-155.455558</td>\n",
       "      <td>-12.159787</td>\n",
       "      <td>26.705778</td>\n",
       "      <td>105.864805</td>\n",
       "      <td>258.607252</td>\n",
       "      <td>-555.119130</td>\n",
       "      <td>14.632472</td>\n",
       "      <td>100.997894</td>\n",
       "      <td>-10.130204</td>\n",
       "      <td>52.278128</td>\n",
       "      <td>-6.223072</td>\n",
       "      <td>-91.566718</td>\n",
       "      <td>24.962987</td>\n",
       "      <td>16.902873</td>\n",
       "      <td>-125.359051</td>\n",
       "      <td>77.880711</td>\n",
       "      <td>65.763350</td>\n",
       "      <td>-0.250273</td>\n",
       "      <td>0.470302</td>\n",
       "      <td>58.583197</td>\n",
       "      <td>24.301061</td>\n",
       "      <td>7.895425</td>\n",
       "      <td>64.681136</td>\n",
       "      <td>0.208348</td>\n",
       "      <td>1.215403</td>\n",
       "      <td>-32.063615</td>\n",
       "      <td>1.182104</td>\n",
       "      <td>-15.530264</td>\n",
       "      <td>9.247841</td>\n",
       "      <td>-40.267539</td>\n",
       "      <td>27.330542</td>\n",
       "      <td>-78.737771</td>\n",
       "      <td>-79.762654</td>\n",
       "      <td>-101.123230</td>\n",
       "      <td>-30.324588</td>\n",
       "      <td>125.577535</td>\n",
       "      <td>-208.531112</td>\n",
       "      <td>118.902324</td>\n",
       "      <td>-0.808578</td>\n",
       "      <td>-117.497906</td>\n",
       "      <td>1.770635</td>\n",
       "      <td>627.395611</td>\n",
       "      <td>122.019189</td>\n",
       "      <td>194.091195</td>\n",
       "      <td>-11.883858</td>\n",
       "      <td>0</td>\n",
       "    </tr>\n",
       "  </tbody>\n",
       "</table>\n",
       "</div>"
      ],
      "text/plain": [
       "   treatment_group        X_1       X_2        X_3        X_4        X_5  \\\n",
       "id                                                                         \n",
       "0          control  39.396577 -0.186548  19.524505  21.250208  55.291264   \n",
       "1          control  38.987694  0.819522 -42.064512 -48.270949 -33.171257   \n",
       "2        treatment -16.693093  1.844558  -8.615192 -18.818740 -22.271188   \n",
       "3        treatment -72.040154 -0.226921  39.802607  16.441262  -1.112509   \n",
       "4        treatment  18.296973  0.996437  24.465307 -34.151971  24.623458   \n",
       "\n",
       "           X_6        X_7         X_8         X_9        X_10        X_11  \\\n",
       "id                                                                          \n",
       "0   182.966712  -5.385606  144.573379  -12.534344  -58.279429  283.544750   \n",
       "1   179.459341 -87.151810 -162.693257   20.651652  181.635081  114.382486   \n",
       "2  -116.290369 -63.816746  -38.340763   24.968496 -136.340629  628.310139   \n",
       "3    68.128008  23.073147    4.688858  -49.383641  -91.866107  374.208539   \n",
       "4  -155.455558 -12.159787   26.705778  105.864805  258.607252 -555.119130   \n",
       "\n",
       "         X_12        X_13       X_14        X_15       X_16        X_17  \\\n",
       "id                                                                        \n",
       "0   -3.297557   74.491728  11.674656   -4.852843  99.324038  159.686346   \n",
       "1   10.277246  132.852421 -14.088731   82.011396 -19.290410 -155.851825   \n",
       "2   -7.714403   -4.863992 -41.638770  187.244122  16.716381  103.805977   \n",
       "3   -5.197953  -16.972788 -20.513819   26.733826  -5.051170  266.620852   \n",
       "4   14.632472  100.997894 -10.130204   52.278128  -6.223072  -91.566718   \n",
       "\n",
       "         X_18       X_19        X_20        X_21        X_22      X_23  \\\n",
       "id                                                                       \n",
       "0   -5.830570  -4.554391  -75.704888   -4.540720  107.891557 -0.592276   \n",
       "1    3.904401  26.194543   87.908221  115.714068 -179.564296 -1.202563   \n",
       "2   15.248096  -7.963610  -18.581579  247.603883  -60.794763 -0.707689   \n",
       "3   -1.003867   5.644895  101.563496   24.222458   15.445679 -0.193439   \n",
       "4   24.962987  16.902873 -125.359051   77.880711   65.763350 -0.250273   \n",
       "\n",
       "        X_24        X_25       X_26       X_27        X_28       X_29  \\\n",
       "id                                                                      \n",
       "0   0.513937   -3.415607  -7.454581 -38.519996 -116.186909  18.253466   \n",
       "1   1.827663   87.042091   6.771393  12.481973  304.514135   3.618649   \n",
       "2  -0.293637  186.251855   4.644561 -13.456976   52.765776 -95.096983   \n",
       "3  -0.537621   18.220545 -19.826745  -9.969067 -176.056848 -34.994979   \n",
       "4   0.470302   58.583197  24.301061   7.895425   64.681136   0.208348   \n",
       "\n",
       "        X_30       X_31        X_32        X_33      X_34       X_35  \\\n",
       "id                                                                     \n",
       "0   0.775597 -66.833169  121.204278  -58.588803  0.266334   0.758562   \n",
       "1  -0.422986  76.520982   67.402922 -407.896510 -1.269765 -34.027547   \n",
       "2  -2.191094  41.936533   17.929746 -243.263646  7.630227 -27.235726   \n",
       "3  -0.169379  20.194249   97.909989   41.396933 -4.572652  73.594603   \n",
       "4   1.215403 -32.063615    1.182104  -15.530264  9.247841 -40.267539   \n",
       "\n",
       "         X_36        X_37        X_38        X_39       X_40        X_41  \\\n",
       "id                                                                         \n",
       "0  -13.254177  200.715580   77.227063 -230.591020  -3.023398   90.877638   \n",
       "1  -91.572702   61.215866  -80.652713 -782.791784 -33.541388 -183.840746   \n",
       "2   38.757461  168.534929   94.979240 -177.641632 -40.559792 -203.637766   \n",
       "3   59.882086  -18.703877  109.139592   -4.272029  18.375161  172.906875   \n",
       "4   27.330542  -78.737771  -79.762654 -101.123230 -30.324588  125.577535   \n",
       "\n",
       "          X_42        X_43      X_44        X_45      X_46        X_47  \\\n",
       "id                                                                       \n",
       "0   134.363458 -213.584582 -2.092461  -93.973258 -0.155597 -312.130733   \n",
       "1    72.864779  559.783584  1.142391   80.037124 -1.216185 -111.473936   \n",
       "2     2.480242   96.998504  1.100962  -33.275159  0.920926 -679.492242   \n",
       "3    83.951551 -323.642557 -0.369182   93.221948 -1.962380 -442.466684   \n",
       "4  -208.531112  118.902324 -0.808578 -117.497906  1.770635  627.395611   \n",
       "\n",
       "          X_48        X_49       X_50  conversion  \n",
       "id                                                 \n",
       "0    44.798182 -125.682413  16.231365           0  \n",
       "1  -127.737977 -117.501171  10.732234           0  \n",
       "2   -91.009397  -18.173358  14.367636           0  \n",
       "3   -22.298302  -75.916603  11.634299           0  \n",
       "4   122.019189  194.091195 -11.883858           0  "
      ]
     },
     "execution_count": 28,
     "metadata": {},
     "output_type": "execute_result"
    }
   ],
   "source": [
    "train.head()"
   ]
  },
  {
   "cell_type": "code",
   "execution_count": 29,
   "id": "6dbde8d8",
   "metadata": {},
   "outputs": [
    {
     "data": {
      "text/plain": [
       "0    477486\n",
       "1    122514\n",
       "Name: conversion, dtype: int64"
      ]
     },
     "execution_count": 29,
     "metadata": {},
     "output_type": "execute_result"
    }
   ],
   "source": [
    "train.conversion.value_counts()"
   ]
  },
  {
   "cell_type": "code",
   "execution_count": 30,
   "id": "c0f10f4c",
   "metadata": {},
   "outputs": [
    {
     "data": {
      "text/plain": [
       "treatment_group\n",
       "control      0.179400\n",
       "treatment    0.228919\n",
       "Name: conversion, dtype: float64"
      ]
     },
     "execution_count": 30,
     "metadata": {},
     "output_type": "execute_result"
    }
   ],
   "source": [
    "train.groupby('treatment_group')['conversion'].mean()"
   ]
  },
  {
   "cell_type": "code",
   "execution_count": 31,
   "id": "f891575c",
   "metadata": {},
   "outputs": [
    {
     "data": {
      "text/plain": [
       "0"
      ]
     },
     "execution_count": 31,
     "metadata": {},
     "output_type": "execute_result"
    }
   ],
   "source": [
    "train.isna().sum().sum()"
   ]
  },
  {
   "cell_type": "code",
   "execution_count": 32,
   "id": "e1e246d9",
   "metadata": {},
   "outputs": [
    {
     "data": {
      "text/html": [
       "<div>\n",
       "<style scoped>\n",
       "    .dataframe tbody tr th:only-of-type {\n",
       "        vertical-align: middle;\n",
       "    }\n",
       "\n",
       "    .dataframe tbody tr th {\n",
       "        vertical-align: top;\n",
       "    }\n",
       "\n",
       "    .dataframe thead th {\n",
       "        text-align: right;\n",
       "    }\n",
       "</style>\n",
       "<table border=\"1\" class=\"dataframe\">\n",
       "  <thead>\n",
       "    <tr style=\"text-align: right;\">\n",
       "      <th></th>\n",
       "      <th>X_1</th>\n",
       "      <th>X_2</th>\n",
       "      <th>X_3</th>\n",
       "      <th>X_4</th>\n",
       "      <th>X_5</th>\n",
       "      <th>X_6</th>\n",
       "      <th>X_7</th>\n",
       "      <th>X_8</th>\n",
       "      <th>X_9</th>\n",
       "      <th>X_10</th>\n",
       "      <th>X_11</th>\n",
       "      <th>X_12</th>\n",
       "      <th>X_13</th>\n",
       "      <th>X_14</th>\n",
       "      <th>X_15</th>\n",
       "      <th>X_16</th>\n",
       "      <th>X_17</th>\n",
       "      <th>X_18</th>\n",
       "      <th>X_19</th>\n",
       "      <th>X_20</th>\n",
       "      <th>X_21</th>\n",
       "      <th>X_22</th>\n",
       "      <th>X_23</th>\n",
       "      <th>X_24</th>\n",
       "      <th>X_25</th>\n",
       "      <th>X_26</th>\n",
       "      <th>X_27</th>\n",
       "      <th>X_28</th>\n",
       "      <th>X_29</th>\n",
       "      <th>X_30</th>\n",
       "      <th>X_31</th>\n",
       "      <th>X_32</th>\n",
       "      <th>X_33</th>\n",
       "      <th>X_34</th>\n",
       "      <th>X_35</th>\n",
       "      <th>X_36</th>\n",
       "      <th>X_37</th>\n",
       "      <th>X_38</th>\n",
       "      <th>X_39</th>\n",
       "      <th>X_40</th>\n",
       "      <th>X_41</th>\n",
       "      <th>X_42</th>\n",
       "      <th>X_43</th>\n",
       "      <th>X_44</th>\n",
       "      <th>X_45</th>\n",
       "      <th>X_46</th>\n",
       "      <th>X_47</th>\n",
       "      <th>X_48</th>\n",
       "      <th>X_49</th>\n",
       "      <th>X_50</th>\n",
       "      <th>conversion</th>\n",
       "    </tr>\n",
       "  </thead>\n",
       "  <tbody>\n",
       "    <tr>\n",
       "      <th>count</th>\n",
       "      <td>600000.000000</td>\n",
       "      <td>600000.000000</td>\n",
       "      <td>600000.000000</td>\n",
       "      <td>600000.000000</td>\n",
       "      <td>600000.000000</td>\n",
       "      <td>600000.000000</td>\n",
       "      <td>600000.000000</td>\n",
       "      <td>600000.000000</td>\n",
       "      <td>600000.000000</td>\n",
       "      <td>600000.000000</td>\n",
       "      <td>600000.000000</td>\n",
       "      <td>600000.000000</td>\n",
       "      <td>600000.000000</td>\n",
       "      <td>600000.000000</td>\n",
       "      <td>600000.000000</td>\n",
       "      <td>600000.000000</td>\n",
       "      <td>600000.000000</td>\n",
       "      <td>600000.000000</td>\n",
       "      <td>600000.000000</td>\n",
       "      <td>600000.000000</td>\n",
       "      <td>600000.000000</td>\n",
       "      <td>600000.000000</td>\n",
       "      <td>600000.000000</td>\n",
       "      <td>600000.000000</td>\n",
       "      <td>600000.000000</td>\n",
       "      <td>600000.000000</td>\n",
       "      <td>600000.000000</td>\n",
       "      <td>600000.000000</td>\n",
       "      <td>600000.000000</td>\n",
       "      <td>600000.000000</td>\n",
       "      <td>600000.000000</td>\n",
       "      <td>600000.000000</td>\n",
       "      <td>600000.000000</td>\n",
       "      <td>600000.000000</td>\n",
       "      <td>600000.000000</td>\n",
       "      <td>600000.000000</td>\n",
       "      <td>600000.000000</td>\n",
       "      <td>600000.000000</td>\n",
       "      <td>600000.000000</td>\n",
       "      <td>600000.000000</td>\n",
       "      <td>600000.000000</td>\n",
       "      <td>600000.000000</td>\n",
       "      <td>600000.000000</td>\n",
       "      <td>600000.000000</td>\n",
       "      <td>600000.000000</td>\n",
       "      <td>600000.000000</td>\n",
       "      <td>600000.000000</td>\n",
       "      <td>600000.000000</td>\n",
       "      <td>600000.000000</td>\n",
       "      <td>600000.000000</td>\n",
       "      <td>600000.000000</td>\n",
       "    </tr>\n",
       "    <tr>\n",
       "      <th>mean</th>\n",
       "      <td>-3.758503</td>\n",
       "      <td>0.000405</td>\n",
       "      <td>0.356208</td>\n",
       "      <td>-1.004378</td>\n",
       "      <td>3.376919</td>\n",
       "      <td>-6.396371</td>\n",
       "      <td>-2.253712</td>\n",
       "      <td>-6.432606</td>\n",
       "      <td>-0.061507</td>\n",
       "      <td>-1.659301</td>\n",
       "      <td>19.093492</td>\n",
       "      <td>-0.093886</td>\n",
       "      <td>-0.002533</td>\n",
       "      <td>-2.463280</td>\n",
       "      <td>13.161988</td>\n",
       "      <td>7.063375</td>\n",
       "      <td>6.858253</td>\n",
       "      <td>-0.020896</td>\n",
       "      <td>-0.985809</td>\n",
       "      <td>-1.114770</td>\n",
       "      <td>14.835209</td>\n",
       "      <td>-9.909231</td>\n",
       "      <td>0.002470</td>\n",
       "      <td>-0.002707</td>\n",
       "      <td>11.159296</td>\n",
       "      <td>0.024798</td>\n",
       "      <td>-0.978981</td>\n",
       "      <td>4.599121</td>\n",
       "      <td>-6.263516</td>\n",
       "      <td>0.000554</td>\n",
       "      <td>2.704003</td>\n",
       "      <td>0.027546</td>\n",
       "      <td>-6.514740</td>\n",
       "      <td>-0.005655</td>\n",
       "      <td>3.002134</td>\n",
       "      <td>5.325791</td>\n",
       "      <td>7.739900</td>\n",
       "      <td>-4.721989</td>\n",
       "      <td>-9.206852</td>\n",
       "      <td>2.728692</td>\n",
       "      <td>6.882868</td>\n",
       "      <td>-6.632834</td>\n",
       "      <td>8.454493</td>\n",
       "      <td>0.001296</td>\n",
       "      <td>0.007967</td>\n",
       "      <td>-0.000966</td>\n",
       "      <td>-22.259600</td>\n",
       "      <td>-5.759041</td>\n",
       "      <td>6.241130</td>\n",
       "      <td>-1.176456</td>\n",
       "      <td>0.204190</td>\n",
       "    </tr>\n",
       "    <tr>\n",
       "      <th>std</th>\n",
       "      <td>54.881882</td>\n",
       "      <td>0.999419</td>\n",
       "      <td>31.804123</td>\n",
       "      <td>45.291429</td>\n",
       "      <td>53.397644</td>\n",
       "      <td>140.873734</td>\n",
       "      <td>59.810396</td>\n",
       "      <td>74.840857</td>\n",
       "      <td>44.912292</td>\n",
       "      <td>199.625148</td>\n",
       "      <td>455.894665</td>\n",
       "      <td>11.295157</td>\n",
       "      <td>56.797326</td>\n",
       "      <td>39.922589</td>\n",
       "      <td>114.277207</td>\n",
       "      <td>77.628539</td>\n",
       "      <td>190.951808</td>\n",
       "      <td>11.476030</td>\n",
       "      <td>26.239683</td>\n",
       "      <td>72.371005</td>\n",
       "      <td>138.517373</td>\n",
       "      <td>160.879307</td>\n",
       "      <td>0.999777</td>\n",
       "      <td>1.000431</td>\n",
       "      <td>104.195126</td>\n",
       "      <td>28.332643</td>\n",
       "      <td>13.729246</td>\n",
       "      <td>142.981246</td>\n",
       "      <td>75.071084</td>\n",
       "      <td>1.000134</td>\n",
       "      <td>51.108902</td>\n",
       "      <td>107.851987</td>\n",
       "      <td>153.130771</td>\n",
       "      <td>6.964937</td>\n",
       "      <td>47.529482</td>\n",
       "      <td>70.700510</td>\n",
       "      <td>134.675174</td>\n",
       "      <td>131.789351</td>\n",
       "      <td>197.493595</td>\n",
       "      <td>39.501936</td>\n",
       "      <td>163.776538</td>\n",
       "      <td>137.025868</td>\n",
       "      <td>262.840194</td>\n",
       "      <td>1.000368</td>\n",
       "      <td>71.553713</td>\n",
       "      <td>0.999902</td>\n",
       "      <td>500.900364</td>\n",
       "      <td>130.952113</td>\n",
       "      <td>141.211999</td>\n",
       "      <td>21.363662</td>\n",
       "      <td>0.403109</td>\n",
       "    </tr>\n",
       "    <tr>\n",
       "      <th>min</th>\n",
       "      <td>-271.659497</td>\n",
       "      <td>-4.372119</td>\n",
       "      <td>-148.870768</td>\n",
       "      <td>-244.446728</td>\n",
       "      <td>-302.574049</td>\n",
       "      <td>-683.126343</td>\n",
       "      <td>-322.731683</td>\n",
       "      <td>-506.202937</td>\n",
       "      <td>-218.466369</td>\n",
       "      <td>-920.347783</td>\n",
       "      <td>-2289.294108</td>\n",
       "      <td>-52.074964</td>\n",
       "      <td>-313.255431</td>\n",
       "      <td>-195.457350</td>\n",
       "      <td>-636.553079</td>\n",
       "      <td>-533.404670</td>\n",
       "      <td>-913.011610</td>\n",
       "      <td>-55.140610</td>\n",
       "      <td>-125.733156</td>\n",
       "      <td>-330.755792</td>\n",
       "      <td>-770.324798</td>\n",
       "      <td>-774.266979</td>\n",
       "      <td>-4.545333</td>\n",
       "      <td>-4.708793</td>\n",
       "      <td>-579.451426</td>\n",
       "      <td>-126.515623</td>\n",
       "      <td>-64.651485</td>\n",
       "      <td>-732.116727</td>\n",
       "      <td>-399.414460</td>\n",
       "      <td>-4.553086</td>\n",
       "      <td>-346.728398</td>\n",
       "      <td>-515.521884</td>\n",
       "      <td>-743.800243</td>\n",
       "      <td>-32.088261</td>\n",
       "      <td>-251.277376</td>\n",
       "      <td>-348.076864</td>\n",
       "      <td>-668.793144</td>\n",
       "      <td>-700.110808</td>\n",
       "      <td>-1016.301591</td>\n",
       "      <td>-179.589370</td>\n",
       "      <td>-810.842593</td>\n",
       "      <td>-633.575178</td>\n",
       "      <td>-1345.838757</td>\n",
       "      <td>-4.756720</td>\n",
       "      <td>-360.713742</td>\n",
       "      <td>-4.516004</td>\n",
       "      <td>-2506.960013</td>\n",
       "      <td>-687.526201</td>\n",
       "      <td>-702.184241</td>\n",
       "      <td>-98.094323</td>\n",
       "      <td>0.000000</td>\n",
       "    </tr>\n",
       "    <tr>\n",
       "      <th>25%</th>\n",
       "      <td>-40.693313</td>\n",
       "      <td>-0.673108</td>\n",
       "      <td>-20.758308</td>\n",
       "      <td>-30.644608</td>\n",
       "      <td>-31.865404</td>\n",
       "      <td>-100.762161</td>\n",
       "      <td>-42.313674</td>\n",
       "      <td>-54.840796</td>\n",
       "      <td>-30.327330</td>\n",
       "      <td>-134.565241</td>\n",
       "      <td>-286.292508</td>\n",
       "      <td>-7.613948</td>\n",
       "      <td>-38.401625</td>\n",
       "      <td>-29.205585</td>\n",
       "      <td>-62.727814</td>\n",
       "      <td>-36.893267</td>\n",
       "      <td>-121.868113</td>\n",
       "      <td>-7.752689</td>\n",
       "      <td>-18.645383</td>\n",
       "      <td>-50.050451</td>\n",
       "      <td>-77.058591</td>\n",
       "      <td>-117.394644</td>\n",
       "      <td>-0.671963</td>\n",
       "      <td>-0.676781</td>\n",
       "      <td>-57.964784</td>\n",
       "      <td>-19.118055</td>\n",
       "      <td>-10.247693</td>\n",
       "      <td>-91.190920</td>\n",
       "      <td>-56.366783</td>\n",
       "      <td>-0.674265</td>\n",
       "      <td>-30.975631</td>\n",
       "      <td>-72.732677</td>\n",
       "      <td>-109.888686</td>\n",
       "      <td>-4.711524</td>\n",
       "      <td>-26.971012</td>\n",
       "      <td>-42.250017</td>\n",
       "      <td>-82.922581</td>\n",
       "      <td>-93.661192</td>\n",
       "      <td>-142.413854</td>\n",
       "      <td>-23.338528</td>\n",
       "      <td>-102.658380</td>\n",
       "      <td>-99.033996</td>\n",
       "      <td>-167.634846</td>\n",
       "      <td>-0.673780</td>\n",
       "      <td>-48.250836</td>\n",
       "      <td>-0.675549</td>\n",
       "      <td>-357.547278</td>\n",
       "      <td>-93.163915</td>\n",
       "      <td>-88.803657</td>\n",
       "      <td>-15.580688</td>\n",
       "      <td>0.000000</td>\n",
       "    </tr>\n",
       "    <tr>\n",
       "      <th>50%</th>\n",
       "      <td>-3.954771</td>\n",
       "      <td>0.000915</td>\n",
       "      <td>0.372583</td>\n",
       "      <td>-0.585368</td>\n",
       "      <td>3.720738</td>\n",
       "      <td>-6.357443</td>\n",
       "      <td>-2.263690</td>\n",
       "      <td>-6.416419</td>\n",
       "      <td>-0.103742</td>\n",
       "      <td>-1.628897</td>\n",
       "      <td>17.651122</td>\n",
       "      <td>-0.092166</td>\n",
       "      <td>-0.011893</td>\n",
       "      <td>-2.438805</td>\n",
       "      <td>13.426780</td>\n",
       "      <td>6.988854</td>\n",
       "      <td>6.639970</td>\n",
       "      <td>-0.030727</td>\n",
       "      <td>-1.007271</td>\n",
       "      <td>-1.084433</td>\n",
       "      <td>15.207025</td>\n",
       "      <td>-9.837197</td>\n",
       "      <td>0.001802</td>\n",
       "      <td>-0.003722</td>\n",
       "      <td>11.438983</td>\n",
       "      <td>0.023834</td>\n",
       "      <td>-0.946478</td>\n",
       "      <td>4.772537</td>\n",
       "      <td>-6.364402</td>\n",
       "      <td>-0.000372</td>\n",
       "      <td>2.732262</td>\n",
       "      <td>0.114877</td>\n",
       "      <td>-6.661874</td>\n",
       "      <td>-0.000436</td>\n",
       "      <td>2.966662</td>\n",
       "      <td>5.500324</td>\n",
       "      <td>7.516796</td>\n",
       "      <td>-4.835168</td>\n",
       "      <td>-9.003721</td>\n",
       "      <td>2.779691</td>\n",
       "      <td>7.190600</td>\n",
       "      <td>-6.784760</td>\n",
       "      <td>8.773280</td>\n",
       "      <td>0.001639</td>\n",
       "      <td>0.045537</td>\n",
       "      <td>-0.002251</td>\n",
       "      <td>-20.695017</td>\n",
       "      <td>-5.774627</td>\n",
       "      <td>6.286783</td>\n",
       "      <td>-1.199895</td>\n",
       "      <td>0.000000</td>\n",
       "    </tr>\n",
       "    <tr>\n",
       "      <th>75%</th>\n",
       "      <td>33.174835</td>\n",
       "      <td>0.673056</td>\n",
       "      <td>21.495530</td>\n",
       "      <td>29.027860</td>\n",
       "      <td>38.988940</td>\n",
       "      <td>88.159514</td>\n",
       "      <td>37.709780</td>\n",
       "      <td>41.962767</td>\n",
       "      <td>30.144501</td>\n",
       "      <td>130.948487</td>\n",
       "      <td>324.226048</td>\n",
       "      <td>7.409305</td>\n",
       "      <td>38.291691</td>\n",
       "      <td>24.248160</td>\n",
       "      <td>89.130548</td>\n",
       "      <td>50.993029</td>\n",
       "      <td>135.756702</td>\n",
       "      <td>7.731675</td>\n",
       "      <td>16.690977</td>\n",
       "      <td>47.694238</td>\n",
       "      <td>106.788310</td>\n",
       "      <td>97.891879</td>\n",
       "      <td>0.677217</td>\n",
       "      <td>0.671145</td>\n",
       "      <td>80.327985</td>\n",
       "      <td>19.116412</td>\n",
       "      <td>8.309784</td>\n",
       "      <td>100.845315</td>\n",
       "      <td>43.792144</td>\n",
       "      <td>0.675415</td>\n",
       "      <td>36.369149</td>\n",
       "      <td>72.890914</td>\n",
       "      <td>96.255945</td>\n",
       "      <td>4.690724</td>\n",
       "      <td>32.898811</td>\n",
       "      <td>52.905711</td>\n",
       "      <td>98.388563</td>\n",
       "      <td>84.208344</td>\n",
       "      <td>124.149483</td>\n",
       "      <td>28.739188</td>\n",
       "      <td>116.755600</td>\n",
       "      <td>85.621324</td>\n",
       "      <td>185.382370</td>\n",
       "      <td>0.675779</td>\n",
       "      <td>48.221733</td>\n",
       "      <td>0.673638</td>\n",
       "      <td>313.295748</td>\n",
       "      <td>81.636824</td>\n",
       "      <td>101.558007</td>\n",
       "      <td>13.230410</td>\n",
       "      <td>0.000000</td>\n",
       "    </tr>\n",
       "    <tr>\n",
       "      <th>max</th>\n",
       "      <td>250.812280</td>\n",
       "      <td>5.062006</td>\n",
       "      <td>170.053291</td>\n",
       "      <td>235.095937</td>\n",
       "      <td>284.915947</td>\n",
       "      <td>656.482242</td>\n",
       "      <td>293.909622</td>\n",
       "      <td>550.525780</td>\n",
       "      <td>219.628423</td>\n",
       "      <td>1251.776972</td>\n",
       "      <td>2295.788999</td>\n",
       "      <td>70.827835</td>\n",
       "      <td>261.237844</td>\n",
       "      <td>203.081747</td>\n",
       "      <td>611.409759</td>\n",
       "      <td>517.044947</td>\n",
       "      <td>937.368874</td>\n",
       "      <td>54.307199</td>\n",
       "      <td>124.529590</td>\n",
       "      <td>365.716395</td>\n",
       "      <td>742.670375</td>\n",
       "      <td>791.684238</td>\n",
       "      <td>5.287804</td>\n",
       "      <td>4.544524</td>\n",
       "      <td>558.649298</td>\n",
       "      <td>128.644637</td>\n",
       "      <td>63.130701</td>\n",
       "      <td>809.863509</td>\n",
       "      <td>361.286171</td>\n",
       "      <td>4.971995</td>\n",
       "      <td>313.726266</td>\n",
       "      <td>524.545647</td>\n",
       "      <td>749.276255</td>\n",
       "      <td>32.272180</td>\n",
       "      <td>254.178146</td>\n",
       "      <td>372.691295</td>\n",
       "      <td>639.969009</td>\n",
       "      <td>666.145553</td>\n",
       "      <td>851.439466</td>\n",
       "      <td>201.330919</td>\n",
       "      <td>867.086690</td>\n",
       "      <td>689.626208</td>\n",
       "      <td>1488.759454</td>\n",
       "      <td>4.727996</td>\n",
       "      <td>384.665348</td>\n",
       "      <td>5.086304</td>\n",
       "      <td>2534.503855</td>\n",
       "      <td>595.321844</td>\n",
       "      <td>630.727101</td>\n",
       "      <td>112.233293</td>\n",
       "      <td>1.000000</td>\n",
       "    </tr>\n",
       "  </tbody>\n",
       "</table>\n",
       "</div>"
      ],
      "text/plain": [
       "                 X_1            X_2            X_3            X_4  \\\n",
       "count  600000.000000  600000.000000  600000.000000  600000.000000   \n",
       "mean       -3.758503       0.000405       0.356208      -1.004378   \n",
       "std        54.881882       0.999419      31.804123      45.291429   \n",
       "min      -271.659497      -4.372119    -148.870768    -244.446728   \n",
       "25%       -40.693313      -0.673108     -20.758308     -30.644608   \n",
       "50%        -3.954771       0.000915       0.372583      -0.585368   \n",
       "75%        33.174835       0.673056      21.495530      29.027860   \n",
       "max       250.812280       5.062006     170.053291     235.095937   \n",
       "\n",
       "                 X_5            X_6            X_7            X_8  \\\n",
       "count  600000.000000  600000.000000  600000.000000  600000.000000   \n",
       "mean        3.376919      -6.396371      -2.253712      -6.432606   \n",
       "std        53.397644     140.873734      59.810396      74.840857   \n",
       "min      -302.574049    -683.126343    -322.731683    -506.202937   \n",
       "25%       -31.865404    -100.762161     -42.313674     -54.840796   \n",
       "50%         3.720738      -6.357443      -2.263690      -6.416419   \n",
       "75%        38.988940      88.159514      37.709780      41.962767   \n",
       "max       284.915947     656.482242     293.909622     550.525780   \n",
       "\n",
       "                 X_9           X_10           X_11           X_12  \\\n",
       "count  600000.000000  600000.000000  600000.000000  600000.000000   \n",
       "mean       -0.061507      -1.659301      19.093492      -0.093886   \n",
       "std        44.912292     199.625148     455.894665      11.295157   \n",
       "min      -218.466369    -920.347783   -2289.294108     -52.074964   \n",
       "25%       -30.327330    -134.565241    -286.292508      -7.613948   \n",
       "50%        -0.103742      -1.628897      17.651122      -0.092166   \n",
       "75%        30.144501     130.948487     324.226048       7.409305   \n",
       "max       219.628423    1251.776972    2295.788999      70.827835   \n",
       "\n",
       "                X_13           X_14           X_15           X_16  \\\n",
       "count  600000.000000  600000.000000  600000.000000  600000.000000   \n",
       "mean       -0.002533      -2.463280      13.161988       7.063375   \n",
       "std        56.797326      39.922589     114.277207      77.628539   \n",
       "min      -313.255431    -195.457350    -636.553079    -533.404670   \n",
       "25%       -38.401625     -29.205585     -62.727814     -36.893267   \n",
       "50%        -0.011893      -2.438805      13.426780       6.988854   \n",
       "75%        38.291691      24.248160      89.130548      50.993029   \n",
       "max       261.237844     203.081747     611.409759     517.044947   \n",
       "\n",
       "                X_17           X_18           X_19           X_20  \\\n",
       "count  600000.000000  600000.000000  600000.000000  600000.000000   \n",
       "mean        6.858253      -0.020896      -0.985809      -1.114770   \n",
       "std       190.951808      11.476030      26.239683      72.371005   \n",
       "min      -913.011610     -55.140610    -125.733156    -330.755792   \n",
       "25%      -121.868113      -7.752689     -18.645383     -50.050451   \n",
       "50%         6.639970      -0.030727      -1.007271      -1.084433   \n",
       "75%       135.756702       7.731675      16.690977      47.694238   \n",
       "max       937.368874      54.307199     124.529590     365.716395   \n",
       "\n",
       "                X_21           X_22           X_23           X_24  \\\n",
       "count  600000.000000  600000.000000  600000.000000  600000.000000   \n",
       "mean       14.835209      -9.909231       0.002470      -0.002707   \n",
       "std       138.517373     160.879307       0.999777       1.000431   \n",
       "min      -770.324798    -774.266979      -4.545333      -4.708793   \n",
       "25%       -77.058591    -117.394644      -0.671963      -0.676781   \n",
       "50%        15.207025      -9.837197       0.001802      -0.003722   \n",
       "75%       106.788310      97.891879       0.677217       0.671145   \n",
       "max       742.670375     791.684238       5.287804       4.544524   \n",
       "\n",
       "                X_25           X_26           X_27           X_28  \\\n",
       "count  600000.000000  600000.000000  600000.000000  600000.000000   \n",
       "mean       11.159296       0.024798      -0.978981       4.599121   \n",
       "std       104.195126      28.332643      13.729246     142.981246   \n",
       "min      -579.451426    -126.515623     -64.651485    -732.116727   \n",
       "25%       -57.964784     -19.118055     -10.247693     -91.190920   \n",
       "50%        11.438983       0.023834      -0.946478       4.772537   \n",
       "75%        80.327985      19.116412       8.309784     100.845315   \n",
       "max       558.649298     128.644637      63.130701     809.863509   \n",
       "\n",
       "                X_29           X_30           X_31           X_32  \\\n",
       "count  600000.000000  600000.000000  600000.000000  600000.000000   \n",
       "mean       -6.263516       0.000554       2.704003       0.027546   \n",
       "std        75.071084       1.000134      51.108902     107.851987   \n",
       "min      -399.414460      -4.553086    -346.728398    -515.521884   \n",
       "25%       -56.366783      -0.674265     -30.975631     -72.732677   \n",
       "50%        -6.364402      -0.000372       2.732262       0.114877   \n",
       "75%        43.792144       0.675415      36.369149      72.890914   \n",
       "max       361.286171       4.971995     313.726266     524.545647   \n",
       "\n",
       "                X_33           X_34           X_35           X_36  \\\n",
       "count  600000.000000  600000.000000  600000.000000  600000.000000   \n",
       "mean       -6.514740      -0.005655       3.002134       5.325791   \n",
       "std       153.130771       6.964937      47.529482      70.700510   \n",
       "min      -743.800243     -32.088261    -251.277376    -348.076864   \n",
       "25%      -109.888686      -4.711524     -26.971012     -42.250017   \n",
       "50%        -6.661874      -0.000436       2.966662       5.500324   \n",
       "75%        96.255945       4.690724      32.898811      52.905711   \n",
       "max       749.276255      32.272180     254.178146     372.691295   \n",
       "\n",
       "                X_37           X_38           X_39           X_40  \\\n",
       "count  600000.000000  600000.000000  600000.000000  600000.000000   \n",
       "mean        7.739900      -4.721989      -9.206852       2.728692   \n",
       "std       134.675174     131.789351     197.493595      39.501936   \n",
       "min      -668.793144    -700.110808   -1016.301591    -179.589370   \n",
       "25%       -82.922581     -93.661192    -142.413854     -23.338528   \n",
       "50%         7.516796      -4.835168      -9.003721       2.779691   \n",
       "75%        98.388563      84.208344     124.149483      28.739188   \n",
       "max       639.969009     666.145553     851.439466     201.330919   \n",
       "\n",
       "                X_41           X_42           X_43           X_44  \\\n",
       "count  600000.000000  600000.000000  600000.000000  600000.000000   \n",
       "mean        6.882868      -6.632834       8.454493       0.001296   \n",
       "std       163.776538     137.025868     262.840194       1.000368   \n",
       "min      -810.842593    -633.575178   -1345.838757      -4.756720   \n",
       "25%      -102.658380     -99.033996    -167.634846      -0.673780   \n",
       "50%         7.190600      -6.784760       8.773280       0.001639   \n",
       "75%       116.755600      85.621324     185.382370       0.675779   \n",
       "max       867.086690     689.626208    1488.759454       4.727996   \n",
       "\n",
       "                X_45           X_46           X_47           X_48  \\\n",
       "count  600000.000000  600000.000000  600000.000000  600000.000000   \n",
       "mean        0.007967      -0.000966     -22.259600      -5.759041   \n",
       "std        71.553713       0.999902     500.900364     130.952113   \n",
       "min      -360.713742      -4.516004   -2506.960013    -687.526201   \n",
       "25%       -48.250836      -0.675549    -357.547278     -93.163915   \n",
       "50%         0.045537      -0.002251     -20.695017      -5.774627   \n",
       "75%        48.221733       0.673638     313.295748      81.636824   \n",
       "max       384.665348       5.086304    2534.503855     595.321844   \n",
       "\n",
       "                X_49           X_50     conversion  \n",
       "count  600000.000000  600000.000000  600000.000000  \n",
       "mean        6.241130      -1.176456       0.204190  \n",
       "std       141.211999      21.363662       0.403109  \n",
       "min      -702.184241     -98.094323       0.000000  \n",
       "25%       -88.803657     -15.580688       0.000000  \n",
       "50%         6.286783      -1.199895       0.000000  \n",
       "75%       101.558007      13.230410       0.000000  \n",
       "max       630.727101     112.233293       1.000000  "
      ]
     },
     "execution_count": 32,
     "metadata": {},
     "output_type": "execute_result"
    }
   ],
   "source": [
    "train.describe()"
   ]
  },
  {
   "cell_type": "code",
   "execution_count": 36,
   "id": "fd917bf6",
   "metadata": {},
   "outputs": [],
   "source": [
    "x_train, x_test = train_test_split(train, test_size=0.2, shuffle=True, \n",
    "                                   stratify=train[['conversion', 'treatment_group']], random_state=42)"
   ]
  },
  {
   "cell_type": "code",
   "execution_count": 39,
   "id": "b7946d7a",
   "metadata": {},
   "outputs": [],
   "source": [
    "train_outcome = x_train['conversion']\n",
    "train_treatment = x_train['treatment_group']\n",
    "features = [c for c in x_train.columns if c.startswith('X_')]\n",
    "train_data = x_train[features]\n",
    "\n",
    "test_outcome = x_test['conversion']\n",
    "test_treatment = x_test['treatment_group']\n",
    "test_data = x_test[features]"
   ]
  },
  {
   "cell_type": "code",
   "execution_count": 43,
   "id": "c3da0374",
   "metadata": {},
   "outputs": [
    {
     "name": "stdout",
     "output_type": "stream",
     "text": [
      "Average Treatment Effect for treatment 1: 0.05 (0.05, 0.05)\n"
     ]
    }
   ],
   "source": [
    "s_learner = BaseSClassifier(LGBMClassifier(), control_name='control')\n",
    "\n",
    "ate, lb, ub = s_learner.estimate_ate(X=train[features], treatment=train.treatment_group, y=train.conversion, return_ci=True,\n",
    "                                     n_bootstraps=100, bootstrap_size=500)\n",
    "\n",
    "print('Average Treatment Effect for treatment: {:.2f} ({:.2f}, {:.2f})'.format(ate[0], lb[0], ub[0]))"
   ]
  },
  {
   "cell_type": "code",
   "execution_count": 44,
   "id": "9fa9cee7",
   "metadata": {},
   "outputs": [],
   "source": [
    "s_learner.fit(train_data, train_treatment, train_outcome)"
   ]
  },
  {
   "cell_type": "code",
   "execution_count": 47,
   "id": "070f68f8",
   "metadata": {},
   "outputs": [],
   "source": [
    "cate_train = s_learner.predict(train_data, train_treatment)\n",
    "cate_test = s_learner.predict(test_data, test_treatment)"
   ]
  },
  {
   "cell_type": "code",
   "execution_count": 51,
   "id": "baa6ddc8",
   "metadata": {},
   "outputs": [
    {
     "name": "stdout",
     "output_type": "stream",
     "text": [
      "uplift at top 10% by group: 0.41 by overall: 0.41\n",
      " Weighted average uplift by group: 0.05 by overall: 0.05\n",
      " AUUC by group: 0.16\n",
      " AUQC by group: 0.23\n",
      "\n"
     ]
    },
    {
     "data": {
      "text/plain": [
       "{'uplift@10': 0.41195635576918155,\n",
       " 'uplift@10_all': 0.414472458906944,\n",
       " 'AUQC': 0.23484406838387215,\n",
       " 'AUUC': 0.16217950258718958,\n",
       " 'WAU': 0.049517163272342055,\n",
       " 'WAU_all': 0.04998736627011744}"
      ]
     },
     "execution_count": 51,
     "metadata": {},
     "output_type": "execute_result"
    }
   ],
   "source": [
    "evaluate(test_outcome, cate_test.flatten(), test_treatment.map({'treatment': 1, 'control': 0}), k=0.1)"
   ]
  },
  {
   "cell_type": "code",
   "execution_count": 74,
   "id": "ed98ff25",
   "metadata": {},
   "outputs": [
    {
     "data": {
      "image/png": "[encoded data removed]",
      "text/plain": [
       "<Figure size 800x600 with 2 Axes>"
      ]
     },
     "metadata": {},
     "output_type": "display_data"
    }
   ],
   "source": [
    "get_plots(test_outcome, cate_test.flatten(), test_treatment.map({'treatment': 1, 'control': 0}), plot_type='uplift_perc_group')"
   ]
  },
  {
   "cell_type": "code",
   "execution_count": 76,
   "id": "09910ff7",
   "metadata": {},
   "outputs": [
    {
     "name": "stdout",
     "output_type": "stream",
     "text": [
      "Average Treatment Effect for treatment: 0.05 (0.05, 0.05)\n"
     ]
    }
   ],
   "source": [
    "t_learner = BaseTClassifier(LGBMClassifier(), control_name='control')\n",
    "\n",
    "ate, lb, ub = t_learner.estimate_ate(X=train[features], treatment=train.treatment_group, y=train.conversion)\n",
    "\n",
    "print('Average Treatment Effect for treatment: {:.2f} ({:.2f}, {:.2f})'.format(ate[0], lb[0], ub[0]))"
   ]
  },
  {
   "cell_type": "code",
   "execution_count": 77,
   "id": "ee61d63a",
   "metadata": {},
   "outputs": [],
   "source": [
    "t_learner.fit(train_data, train_treatment, train_outcome)"
   ]
  },
  {
   "cell_type": "code",
   "execution_count": 78,
   "id": "e65dc49b",
   "metadata": {},
   "outputs": [],
   "source": [
    "cate_train = t_learner.predict(train_data, train_treatment)\n",
    "cate_test = t_learner.predict(test_data, test_treatment)"
   ]
  },
  {
   "cell_type": "code",
   "execution_count": 79,
   "id": "983e8e91",
   "metadata": {},
   "outputs": [
    {
     "name": "stdout",
     "output_type": "stream",
     "text": [
      "uplift at top 10% by group: 0.45 by overall: 0.45\n",
      " Weighted average uplift by group: 0.05 by overall: 0.05\n",
      " AUUC by group: 0.17\n",
      " AUQC by group: 0.24\n",
      "\n"
     ]
    },
    {
     "data": {
      "text/plain": [
       "{'uplift@10': 0.44830652623119044,\n",
       " 'uplift@10_all': 0.4536037974390936,\n",
       " 'AUQC': 0.24353736432394124,\n",
       " 'AUUC': 0.16882773260995687,\n",
       " 'WAU': 0.049516871504881536,\n",
       " 'WAU_all': 0.0504957731914246}"
      ]
     },
     "execution_count": 79,
     "metadata": {},
     "output_type": "execute_result"
    }
   ],
   "source": [
    "evaluate(test_outcome, cate_test.flatten(), test_treatment.map({'treatment': 1, 'control': 0}), k=0.1)"
   ]
  },
  {
   "cell_type": "code",
   "execution_count": 80,
   "id": "1ece429b",
   "metadata": {},
   "outputs": [
    {
     "data": {
      "image/png": "[encoded data removed]",
      "text/plain": [
       "<Figure size 800x600 with 2 Axes>"
      ]
     },
     "metadata": {},
     "output_type": "display_data"
    }
   ],
   "source": [
    "get_plots(test_outcome, cate_test.flatten(), test_treatment.map({'treatment': 1, 'control': 0}), plot_type='uplift_perc_group')"
   ]
  },
  {
   "cell_type": "markdown",
   "id": "965e8e92",
   "metadata": {},
   "source": [
    "```\n",
    "# ITE (CATE) with confidence interval\n",
    "x_learner_ite, x_learner_ite_lb, x_learner_ite_ub = x_learner.fit_predict(X=X, treatment=treatment, y=y_binary, return_ci=True,\n",
    "                               n_bootstraps=100, bootstrap_size=500)\n",
    "```"
   ]
  },
  {
   "cell_type": "markdown",
   "id": "520737fd",
   "metadata": {},
   "source": [
    "### using propensity score"
   ]
  },
  {
   "cell_type": "code",
   "execution_count": 81,
   "id": "a67a6893",
   "metadata": {},
   "outputs": [],
   "source": [
    "# LogisticRegression for propensity-score weightening as default\n",
    "x_learner = BaseXClassifier(treatment_outcome_learner=LGBMClassifier(), \n",
    "                            treatment_effect_learner=LGBMRegressor(),\n",
    "                            control_outcome_learner=LGBMClassifier(),\n",
    "                            control_effect_learner=LGBMRegressor(),\n",
    "                            control_name='control')"
   ]
  },
  {
   "cell_type": "code",
   "execution_count": null,
   "id": "7b687c50",
   "metadata": {},
   "outputs": [],
   "source": [
    "ate, lb, ub = x_learner.estimate_ate(X=train[features], treatment=train.treatment_group, y=train.conversion)\n",
    "\n",
    "print('Average Treatment Effect for treatment: {:.2f} ({:.2f}, {:.2f})'.format(ate[0], lb[0], ub[0]))"
   ]
  },
  {
   "cell_type": "code",
   "execution_count": null,
   "id": "304c6ed5",
   "metadata": {},
   "outputs": [],
   "source": [
    "x_learner.fit(train_data, train_treatment, train_outcome)"
   ]
  },
  {
   "cell_type": "code",
   "execution_count": null,
   "id": "ef2a5d62",
   "metadata": {},
   "outputs": [],
   "source": [
    "cate_train = x_learner.predict(train_data, train_treatment)\n",
    "cate_test = x_learner.predict(test_data, test_treatment)"
   ]
  },
  {
   "cell_type": "code",
   "execution_count": null,
   "id": "31abd25d",
   "metadata": {},
   "outputs": [],
   "source": [
    "evaluate(test_outcome, cate_test.flatten(), test_treatment.map({'treatment': 1, 'control': 0}), k=0.1)"
   ]
  },
  {
   "cell_type": "code",
   "execution_count": null,
   "id": "25af3d59",
   "metadata": {},
   "outputs": [],
   "source": [
    "get_plots(test_outcome, cate_test.flatten(), test_treatment.map({'treatment': 1, 'control': 0}), plot_type='uplift_perc_group')"
   ]
  },
  {
   "cell_type": "code",
   "execution_count": null,
   "id": "acad9db1",
   "metadata": {},
   "outputs": [],
   "source": [
    "# R-learner with CV estimation"
   ]
  },
  {
   "cell_type": "code",
   "execution_count": null,
   "id": "44a00db6",
   "metadata": {},
   "outputs": [],
   "source": [
    "r_learner = BaseRClassifier(outcome_learner=LGBMClassifier(), effect_learner=LGBMRegressor())\n",
    "r_learner.fit(train_data, train_treatment.map({'treatment': 1, 'control': 0}), train_outcome)"
   ]
  },
  {
   "cell_type": "code",
   "execution_count": null,
   "id": "fbcac46c",
   "metadata": {},
   "outputs": [],
   "source": [
    "cate_train = r_learner.predict(train_data, train_treatment)\n",
    "cate_test = r_learner.predict(test_data, test_treatment)"
   ]
  },
  {
   "cell_type": "markdown",
   "id": "77416fae",
   "metadata": {},
   "source": [
    "#### using orthogonalization by using residuals of treatment and outcome: 3 models, final = cate ~ X, resid_t, resid_out"
   ]
  },
  {
   "cell_type": "code",
   "execution_count": 108,
   "id": "155427a3",
   "metadata": {},
   "outputs": [],
   "source": [
    "from econml.dml import NonParamDML  # orthogonalization\n",
    "from econml.dr import DRLearner  # propensity score\n",
    "from econml.metalearners import XLearner  # propensity score"
   ]
  },
  {
   "cell_type": "code",
   "execution_count": 87,
   "id": "b6c6af15",
   "metadata": {
    "collapsed": true
   },
   "outputs": [
    {
     "ename": "AttributeError",
     "evalue": "'LGBMRegressor' object has no attribute 'predict_proba'",
     "output_type": "error",
     "traceback": [
      "\u001b[1;31m---------------------------------------------------------------------------\u001b[0m",
      "\u001b[1;31mAttributeError\u001b[0m                            Traceback (most recent call last)",
      "Cell \u001b[1;32mIn[87], line 7\u001b[0m\n\u001b[0;32m      1\u001b[0m est1 \u001b[38;5;241m=\u001b[39m NonParamDML(\n\u001b[0;32m      2\u001b[0m     model_y\u001b[38;5;241m=\u001b[39mLGBMRegressor(),  \u001b[38;5;66;03m# default\u001b[39;00m\n\u001b[0;32m      3\u001b[0m     model_t\u001b[38;5;241m=\u001b[39mLGBMRegressor(),\n\u001b[0;32m      4\u001b[0m     model_final\u001b[38;5;241m=\u001b[39mLGBMRegressor(),\n\u001b[0;32m      5\u001b[0m     discrete_treatment\u001b[38;5;241m=\u001b[39m\u001b[38;5;28;01mTrue\u001b[39;00m\n\u001b[0;32m      6\u001b[0m )\n\u001b[1;32m----> 7\u001b[0m \u001b[43mest1\u001b[49m\u001b[38;5;241;43m.\u001b[39;49m\u001b[43mfit\u001b[49m\u001b[43m(\u001b[49m\u001b[43mtrain_outcome\u001b[49m\u001b[43m,\u001b[49m\u001b[43m \u001b[49m\u001b[43mtrain_treatment\u001b[49m\u001b[38;5;241;43m.\u001b[39;49m\u001b[43mmap\u001b[49m\u001b[43m(\u001b[49m\u001b[43m{\u001b[49m\u001b[38;5;124;43m'\u001b[39;49m\u001b[38;5;124;43mtreatment\u001b[39;49m\u001b[38;5;124;43m'\u001b[39;49m\u001b[43m:\u001b[49m\u001b[43m \u001b[49m\u001b[38;5;241;43m1\u001b[39;49m\u001b[43m,\u001b[49m\u001b[43m \u001b[49m\u001b[38;5;124;43m'\u001b[39;49m\u001b[38;5;124;43mcontrol\u001b[39;49m\u001b[38;5;124;43m'\u001b[39;49m\u001b[43m:\u001b[49m\u001b[43m \u001b[49m\u001b[38;5;241;43m0\u001b[39;49m\u001b[43m}\u001b[49m\u001b[43m)\u001b[49m\u001b[43m,\u001b[49m\u001b[43m \u001b[49m\u001b[43mX\u001b[49m\u001b[38;5;241;43m=\u001b[39;49m\u001b[43mtrain_data\u001b[49m\u001b[43m,\u001b[49m\u001b[43m \u001b[49m\u001b[43mW\u001b[49m\u001b[38;5;241;43m=\u001b[39;49m\u001b[38;5;28;43;01mNone\u001b[39;49;00m\u001b[43m)\u001b[49m\n",
      "File \u001b[1;32m~\\AppData\\Local\\anaconda3\\envs\\causal-env\\lib\\site-packages\\econml\\dml\\dml.py:1409\u001b[0m, in \u001b[0;36mNonParamDML.fit\u001b[1;34m(self, Y, T, X, W, sample_weight, freq_weight, sample_var, groups, cache_values, inference)\u001b[0m\n\u001b[0;32m   1370\u001b[0m \u001b[38;5;28;01mdef\u001b[39;00m \u001b[38;5;21mfit\u001b[39m(\u001b[38;5;28mself\u001b[39m, Y, T, \u001b[38;5;241m*\u001b[39m, X\u001b[38;5;241m=\u001b[39m\u001b[38;5;28;01mNone\u001b[39;00m, W\u001b[38;5;241m=\u001b[39m\u001b[38;5;28;01mNone\u001b[39;00m, sample_weight\u001b[38;5;241m=\u001b[39m\u001b[38;5;28;01mNone\u001b[39;00m, freq_weight\u001b[38;5;241m=\u001b[39m\u001b[38;5;28;01mNone\u001b[39;00m, sample_var\u001b[38;5;241m=\u001b[39m\u001b[38;5;28;01mNone\u001b[39;00m, groups\u001b[38;5;241m=\u001b[39m\u001b[38;5;28;01mNone\u001b[39;00m,\n\u001b[0;32m   1371\u001b[0m         cache_values\u001b[38;5;241m=\u001b[39m\u001b[38;5;28;01mFalse\u001b[39;00m, inference\u001b[38;5;241m=\u001b[39m\u001b[38;5;124m'\u001b[39m\u001b[38;5;124mauto\u001b[39m\u001b[38;5;124m'\u001b[39m):\n\u001b[0;32m   1372\u001b[0m \u001b[38;5;250m    \u001b[39m\u001b[38;5;124;03m\"\"\"\u001b[39;00m\n\u001b[0;32m   1373\u001b[0m \u001b[38;5;124;03m    Estimate the counterfactual model from data, i.e. estimates functions τ(·,·,·), ∂τ(·,·).\u001b[39;00m\n\u001b[0;32m   1374\u001b[0m \n\u001b[1;32m   (...)\u001b[0m\n\u001b[0;32m   1407\u001b[0m \u001b[38;5;124;03m    self\u001b[39;00m\n\u001b[0;32m   1408\u001b[0m \u001b[38;5;124;03m    \"\"\"\u001b[39;00m\n\u001b[1;32m-> 1409\u001b[0m     \u001b[38;5;28;01mreturn\u001b[39;00m \u001b[38;5;28;43msuper\u001b[39;49m\u001b[43m(\u001b[49m\u001b[43m)\u001b[49m\u001b[38;5;241;43m.\u001b[39;49m\u001b[43mfit\u001b[49m\u001b[43m(\u001b[49m\u001b[43mY\u001b[49m\u001b[43m,\u001b[49m\u001b[43m \u001b[49m\u001b[43mT\u001b[49m\u001b[43m,\u001b[49m\u001b[43m \u001b[49m\u001b[43mX\u001b[49m\u001b[38;5;241;43m=\u001b[39;49m\u001b[43mX\u001b[49m\u001b[43m,\u001b[49m\u001b[43m \u001b[49m\u001b[43mW\u001b[49m\u001b[38;5;241;43m=\u001b[39;49m\u001b[43mW\u001b[49m\u001b[43m,\u001b[49m\u001b[43m \u001b[49m\u001b[43msample_weight\u001b[49m\u001b[38;5;241;43m=\u001b[39;49m\u001b[43msample_weight\u001b[49m\u001b[43m,\u001b[49m\u001b[43m \u001b[49m\u001b[43mfreq_weight\u001b[49m\u001b[38;5;241;43m=\u001b[39;49m\u001b[43mfreq_weight\u001b[49m\u001b[43m,\u001b[49m\u001b[43m \u001b[49m\u001b[43msample_var\u001b[49m\u001b[38;5;241;43m=\u001b[39;49m\u001b[43msample_var\u001b[49m\u001b[43m,\u001b[49m\n\u001b[0;32m   1410\u001b[0m \u001b[43m                       \u001b[49m\u001b[43mgroups\u001b[49m\u001b[38;5;241;43m=\u001b[39;49m\u001b[43mgroups\u001b[49m\u001b[43m,\u001b[49m\n\u001b[0;32m   1411\u001b[0m \u001b[43m                       \u001b[49m\u001b[43mcache_values\u001b[49m\u001b[38;5;241;43m=\u001b[39;49m\u001b[43mcache_values\u001b[49m\u001b[43m,\u001b[49m\n\u001b[0;32m   1412\u001b[0m \u001b[43m                       \u001b[49m\u001b[43minference\u001b[49m\u001b[38;5;241;43m=\u001b[39;49m\u001b[43minference\u001b[49m\u001b[43m)\u001b[49m\n",
      "File \u001b[1;32m~\\AppData\\Local\\anaconda3\\envs\\causal-env\\lib\\site-packages\\econml\\dml\\_rlearner.py:376\u001b[0m, in \u001b[0;36m_RLearner.fit\u001b[1;34m(self, Y, T, X, W, sample_weight, freq_weight, sample_var, groups, cache_values, inference)\u001b[0m\n\u001b[0;32m    339\u001b[0m \u001b[38;5;250m\u001b[39m\u001b[38;5;124;03m\"\"\"\u001b[39;00m\n\u001b[0;32m    340\u001b[0m \u001b[38;5;124;03mEstimate the counterfactual model from data, i.e. estimates function :math:`\\\\theta(\\\\cdot)`.\u001b[39;00m\n\u001b[0;32m    341\u001b[0m \n\u001b[1;32m   (...)\u001b[0m\n\u001b[0;32m    373\u001b[0m \u001b[38;5;124;03mself: _RLearner instance\u001b[39;00m\n\u001b[0;32m    374\u001b[0m \u001b[38;5;124;03m\"\"\"\u001b[39;00m\n\u001b[0;32m    375\u001b[0m \u001b[38;5;66;03m# Replacing fit from _OrthoLearner, to enforce Z=None and improve the docstring\u001b[39;00m\n\u001b[1;32m--> 376\u001b[0m \u001b[38;5;28;01mreturn\u001b[39;00m \u001b[38;5;28;43msuper\u001b[39;49m\u001b[43m(\u001b[49m\u001b[43m)\u001b[49m\u001b[38;5;241;43m.\u001b[39;49m\u001b[43mfit\u001b[49m\u001b[43m(\u001b[49m\u001b[43mY\u001b[49m\u001b[43m,\u001b[49m\u001b[43m \u001b[49m\u001b[43mT\u001b[49m\u001b[43m,\u001b[49m\u001b[43m \u001b[49m\u001b[43mX\u001b[49m\u001b[38;5;241;43m=\u001b[39;49m\u001b[43mX\u001b[49m\u001b[43m,\u001b[49m\u001b[43m \u001b[49m\u001b[43mW\u001b[49m\u001b[38;5;241;43m=\u001b[39;49m\u001b[43mW\u001b[49m\u001b[43m,\u001b[49m\n\u001b[0;32m    377\u001b[0m \u001b[43m                   \u001b[49m\u001b[43msample_weight\u001b[49m\u001b[38;5;241;43m=\u001b[39;49m\u001b[43msample_weight\u001b[49m\u001b[43m,\u001b[49m\u001b[43m \u001b[49m\u001b[43mfreq_weight\u001b[49m\u001b[38;5;241;43m=\u001b[39;49m\u001b[43mfreq_weight\u001b[49m\u001b[43m,\u001b[49m\u001b[43m \u001b[49m\u001b[43msample_var\u001b[49m\u001b[38;5;241;43m=\u001b[39;49m\u001b[43msample_var\u001b[49m\u001b[43m,\u001b[49m\u001b[43m \u001b[49m\u001b[43mgroups\u001b[49m\u001b[38;5;241;43m=\u001b[39;49m\u001b[43mgroups\u001b[49m\u001b[43m,\u001b[49m\n\u001b[0;32m    378\u001b[0m \u001b[43m                   \u001b[49m\u001b[43mcache_values\u001b[49m\u001b[38;5;241;43m=\u001b[39;49m\u001b[43mcache_values\u001b[49m\u001b[43m,\u001b[49m\n\u001b[0;32m    379\u001b[0m \u001b[43m                   \u001b[49m\u001b[43minference\u001b[49m\u001b[38;5;241;43m=\u001b[39;49m\u001b[43minference\u001b[49m\u001b[43m)\u001b[49m\n",
      "File \u001b[1;32m~\\AppData\\Local\\anaconda3\\envs\\causal-env\\lib\\site-packages\\econml\\_cate_estimator.py:130\u001b[0m, in \u001b[0;36mBaseCateEstimator._wrap_fit.<locals>.call\u001b[1;34m(self, Y, T, inference, *args, **kwargs)\u001b[0m\n\u001b[0;32m    128\u001b[0m     inference\u001b[38;5;241m.\u001b[39mprefit(\u001b[38;5;28mself\u001b[39m, Y, T, \u001b[38;5;241m*\u001b[39margs, \u001b[38;5;241m*\u001b[39m\u001b[38;5;241m*\u001b[39mkwargs)\n\u001b[0;32m    129\u001b[0m \u001b[38;5;66;03m# call the wrapped fit method\u001b[39;00m\n\u001b[1;32m--> 130\u001b[0m \u001b[43mm\u001b[49m\u001b[43m(\u001b[49m\u001b[38;5;28;43mself\u001b[39;49m\u001b[43m,\u001b[49m\u001b[43m \u001b[49m\u001b[43mY\u001b[49m\u001b[43m,\u001b[49m\u001b[43m \u001b[49m\u001b[43mT\u001b[49m\u001b[43m,\u001b[49m\u001b[43m \u001b[49m\u001b[38;5;241;43m*\u001b[39;49m\u001b[43margs\u001b[49m\u001b[43m,\u001b[49m\u001b[43m \u001b[49m\u001b[38;5;241;43m*\u001b[39;49m\u001b[38;5;241;43m*\u001b[39;49m\u001b[43mkwargs\u001b[49m\u001b[43m)\u001b[49m\n\u001b[0;32m    131\u001b[0m \u001b[38;5;28mself\u001b[39m\u001b[38;5;241m.\u001b[39m_postfit(Y, T, \u001b[38;5;241m*\u001b[39margs, \u001b[38;5;241m*\u001b[39m\u001b[38;5;241m*\u001b[39mkwargs)\n\u001b[0;32m    132\u001b[0m \u001b[38;5;28;01mif\u001b[39;00m inference \u001b[38;5;129;01mis\u001b[39;00m \u001b[38;5;129;01mnot\u001b[39;00m \u001b[38;5;28;01mNone\u001b[39;00m:\n\u001b[0;32m    133\u001b[0m     \u001b[38;5;66;03m# NOTE: we call inference fit *after* calling the main fit method\u001b[39;00m\n",
      "File \u001b[1;32m~\\AppData\\Local\\anaconda3\\envs\\causal-env\\lib\\site-packages\\econml\\_ortho_learner.py:650\u001b[0m, in \u001b[0;36m_OrthoLearner.fit\u001b[1;34m(self, Y, T, X, W, Z, sample_weight, freq_weight, sample_var, groups, cache_values, inference, only_final, check_input)\u001b[0m\n\u001b[0;32m    648\u001b[0m \u001b[38;5;28mself\u001b[39m\u001b[38;5;241m.\u001b[39m_models_nuisance \u001b[38;5;241m=\u001b[39m []\n\u001b[0;32m    649\u001b[0m \u001b[38;5;28;01mfor\u001b[39;00m idx \u001b[38;5;129;01min\u001b[39;00m \u001b[38;5;28mrange\u001b[39m(\u001b[38;5;28mself\u001b[39m\u001b[38;5;241m.\u001b[39mmc_iters \u001b[38;5;129;01mor\u001b[39;00m \u001b[38;5;241m1\u001b[39m):\n\u001b[1;32m--> 650\u001b[0m     nuisances, fitted_models, new_inds, scores \u001b[38;5;241m=\u001b[39m \u001b[38;5;28;43mself\u001b[39;49m\u001b[38;5;241;43m.\u001b[39;49m\u001b[43m_fit_nuisances\u001b[49m\u001b[43m(\u001b[49m\n\u001b[0;32m    651\u001b[0m \u001b[43m        \u001b[49m\u001b[43mY\u001b[49m\u001b[43m,\u001b[49m\u001b[43m \u001b[49m\u001b[43mT\u001b[49m\u001b[43m,\u001b[49m\u001b[43m \u001b[49m\u001b[43mX\u001b[49m\u001b[43m,\u001b[49m\u001b[43m \u001b[49m\u001b[43mW\u001b[49m\u001b[43m,\u001b[49m\u001b[43m \u001b[49m\u001b[43mZ\u001b[49m\u001b[43m,\u001b[49m\u001b[43m \u001b[49m\u001b[43msample_weight\u001b[49m\u001b[38;5;241;43m=\u001b[39;49m\u001b[43msample_weight_nuisances\u001b[49m\u001b[43m,\u001b[49m\u001b[43m \u001b[49m\u001b[43mgroups\u001b[49m\u001b[38;5;241;43m=\u001b[39;49m\u001b[43mgroups\u001b[49m\u001b[43m)\u001b[49m\n\u001b[0;32m    652\u001b[0m     all_nuisances\u001b[38;5;241m.\u001b[39mappend(nuisances)\n\u001b[0;32m    653\u001b[0m     \u001b[38;5;28mself\u001b[39m\u001b[38;5;241m.\u001b[39m_models_nuisance\u001b[38;5;241m.\u001b[39mappend(fitted_models)\n",
      "File \u001b[1;32m~\\AppData\\Local\\anaconda3\\envs\\causal-env\\lib\\site-packages\\econml\\_ortho_learner.py:793\u001b[0m, in \u001b[0;36m_OrthoLearner._fit_nuisances\u001b[1;34m(self, Y, T, X, W, Z, sample_weight, groups)\u001b[0m\n\u001b[0;32m    790\u001b[0m     \u001b[38;5;28;01melse\u001b[39;00m:\n\u001b[0;32m    791\u001b[0m         folds \u001b[38;5;241m=\u001b[39m splitter\u001b[38;5;241m.\u001b[39msplit(to_split, strata)\n\u001b[1;32m--> 793\u001b[0m nuisances, fitted_models, fitted_inds, scores \u001b[38;5;241m=\u001b[39m \u001b[43m_crossfit\u001b[49m\u001b[43m(\u001b[49m\u001b[38;5;28;43mself\u001b[39;49m\u001b[38;5;241;43m.\u001b[39;49m\u001b[43m_ortho_learner_model_nuisance\u001b[49m\u001b[43m,\u001b[49m\u001b[43m \u001b[49m\u001b[43mfolds\u001b[49m\u001b[43m,\u001b[49m\n\u001b[0;32m    794\u001b[0m \u001b[43m                                                          \u001b[49m\u001b[43mY\u001b[49m\u001b[43m,\u001b[49m\u001b[43m \u001b[49m\u001b[43mT\u001b[49m\u001b[43m,\u001b[49m\u001b[43m \u001b[49m\u001b[43mX\u001b[49m\u001b[38;5;241;43m=\u001b[39;49m\u001b[43mX\u001b[49m\u001b[43m,\u001b[49m\u001b[43m \u001b[49m\u001b[43mW\u001b[49m\u001b[38;5;241;43m=\u001b[39;49m\u001b[43mW\u001b[49m\u001b[43m,\u001b[49m\u001b[43m \u001b[49m\u001b[43mZ\u001b[49m\u001b[38;5;241;43m=\u001b[39;49m\u001b[43mZ\u001b[49m\u001b[43m,\u001b[49m\n\u001b[0;32m    795\u001b[0m \u001b[43m                                                          \u001b[49m\u001b[43msample_weight\u001b[49m\u001b[38;5;241;43m=\u001b[39;49m\u001b[43msample_weight\u001b[49m\u001b[43m,\u001b[49m\u001b[43m \u001b[49m\u001b[43mgroups\u001b[49m\u001b[38;5;241;43m=\u001b[39;49m\u001b[43mgroups\u001b[49m\u001b[43m)\u001b[49m\n\u001b[0;32m    796\u001b[0m \u001b[38;5;28;01mreturn\u001b[39;00m nuisances, fitted_models, fitted_inds, scores\n",
      "File \u001b[1;32m~\\AppData\\Local\\anaconda3\\envs\\causal-env\\lib\\site-packages\\econml\\_ortho_learner.py:170\u001b[0m, in \u001b[0;36m_crossfit\u001b[1;34m(model, folds, *args, **kwargs)\u001b[0m\n\u001b[0;32m    166\u001b[0m kwargs_test \u001b[38;5;241m=\u001b[39m {key: var[test_idxs] \u001b[38;5;28;01mfor\u001b[39;00m key, var \u001b[38;5;129;01min\u001b[39;00m kwargs\u001b[38;5;241m.\u001b[39mitems()}\n\u001b[0;32m    168\u001b[0m model_list[idx]\u001b[38;5;241m.\u001b[39mfit(\u001b[38;5;241m*\u001b[39margs_train, \u001b[38;5;241m*\u001b[39m\u001b[38;5;241m*\u001b[39mkwargs_train)\n\u001b[1;32m--> 170\u001b[0m nuisance_temp \u001b[38;5;241m=\u001b[39m \u001b[43mmodel_list\u001b[49m\u001b[43m[\u001b[49m\u001b[43midx\u001b[49m\u001b[43m]\u001b[49m\u001b[38;5;241;43m.\u001b[39;49m\u001b[43mpredict\u001b[49m\u001b[43m(\u001b[49m\u001b[38;5;241;43m*\u001b[39;49m\u001b[43margs_test\u001b[49m\u001b[43m,\u001b[49m\u001b[43m \u001b[49m\u001b[38;5;241;43m*\u001b[39;49m\u001b[38;5;241;43m*\u001b[39;49m\u001b[43mkwargs_test\u001b[49m\u001b[43m)\u001b[49m\n\u001b[0;32m    172\u001b[0m \u001b[38;5;28;01mif\u001b[39;00m \u001b[38;5;129;01mnot\u001b[39;00m \u001b[38;5;28misinstance\u001b[39m(nuisance_temp, \u001b[38;5;28mtuple\u001b[39m):\n\u001b[0;32m    173\u001b[0m     nuisance_temp \u001b[38;5;241m=\u001b[39m (nuisance_temp,)\n",
      "File \u001b[1;32m~\\AppData\\Local\\anaconda3\\envs\\causal-env\\lib\\site-packages\\econml\\dml\\_rlearner.py:70\u001b[0m, in \u001b[0;36m_ModelNuisance.predict\u001b[1;34m(self, Y, T, X, W, Z, sample_weight, groups)\u001b[0m\n\u001b[0;32m     68\u001b[0m \u001b[38;5;28;01mdef\u001b[39;00m \u001b[38;5;21mpredict\u001b[39m(\u001b[38;5;28mself\u001b[39m, Y, T, X\u001b[38;5;241m=\u001b[39m\u001b[38;5;28;01mNone\u001b[39;00m, W\u001b[38;5;241m=\u001b[39m\u001b[38;5;28;01mNone\u001b[39;00m, Z\u001b[38;5;241m=\u001b[39m\u001b[38;5;28;01mNone\u001b[39;00m, sample_weight\u001b[38;5;241m=\u001b[39m\u001b[38;5;28;01mNone\u001b[39;00m, groups\u001b[38;5;241m=\u001b[39m\u001b[38;5;28;01mNone\u001b[39;00m):\n\u001b[0;32m     69\u001b[0m     Y_pred \u001b[38;5;241m=\u001b[39m \u001b[38;5;28mself\u001b[39m\u001b[38;5;241m.\u001b[39m_model_y\u001b[38;5;241m.\u001b[39mpredict(X, W)\n\u001b[1;32m---> 70\u001b[0m     T_pred \u001b[38;5;241m=\u001b[39m \u001b[38;5;28;43mself\u001b[39;49m\u001b[38;5;241;43m.\u001b[39;49m\u001b[43m_model_t\u001b[49m\u001b[38;5;241;43m.\u001b[39;49m\u001b[43mpredict\u001b[49m\u001b[43m(\u001b[49m\u001b[43mX\u001b[49m\u001b[43m,\u001b[49m\u001b[43m \u001b[49m\u001b[43mW\u001b[49m\u001b[43m)\u001b[49m\n\u001b[0;32m     71\u001b[0m     \u001b[38;5;28;01mif\u001b[39;00m (X \u001b[38;5;129;01mis\u001b[39;00m \u001b[38;5;28;01mNone\u001b[39;00m) \u001b[38;5;129;01mand\u001b[39;00m (W \u001b[38;5;129;01mis\u001b[39;00m \u001b[38;5;28;01mNone\u001b[39;00m):  \u001b[38;5;66;03m# In this case predict above returns a single row\u001b[39;00m\n\u001b[0;32m     72\u001b[0m         Y_pred \u001b[38;5;241m=\u001b[39m np\u001b[38;5;241m.\u001b[39mtile(Y_pred\u001b[38;5;241m.\u001b[39mreshape(\u001b[38;5;241m1\u001b[39m, \u001b[38;5;241m-\u001b[39m\u001b[38;5;241m1\u001b[39m), (Y\u001b[38;5;241m.\u001b[39mshape[\u001b[38;5;241m0\u001b[39m], \u001b[38;5;241m1\u001b[39m))\n",
      "File \u001b[1;32m~\\AppData\\Local\\anaconda3\\envs\\causal-env\\lib\\site-packages\\econml\\dml\\dml.py:81\u001b[0m, in \u001b[0;36m_FirstStageWrapper.predict\u001b[1;34m(self, X, W)\u001b[0m\n\u001b[0;32m     79\u001b[0m n_samples \u001b[38;5;241m=\u001b[39m X\u001b[38;5;241m.\u001b[39mshape[\u001b[38;5;241m0\u001b[39m] \u001b[38;5;28;01mif\u001b[39;00m X \u001b[38;5;129;01mis\u001b[39;00m \u001b[38;5;129;01mnot\u001b[39;00m \u001b[38;5;28;01mNone\u001b[39;00m \u001b[38;5;28;01melse\u001b[39;00m (W\u001b[38;5;241m.\u001b[39mshape[\u001b[38;5;241m0\u001b[39m] \u001b[38;5;28;01mif\u001b[39;00m W \u001b[38;5;129;01mis\u001b[39;00m \u001b[38;5;129;01mnot\u001b[39;00m \u001b[38;5;28;01mNone\u001b[39;00m \u001b[38;5;28;01melse\u001b[39;00m \u001b[38;5;241m1\u001b[39m)\n\u001b[0;32m     80\u001b[0m \u001b[38;5;28;01mif\u001b[39;00m (\u001b[38;5;129;01mnot\u001b[39;00m \u001b[38;5;28mself\u001b[39m\u001b[38;5;241m.\u001b[39m_is_Y) \u001b[38;5;129;01mand\u001b[39;00m \u001b[38;5;28mself\u001b[39m\u001b[38;5;241m.\u001b[39m_discrete_treatment:\n\u001b[1;32m---> 81\u001b[0m     \u001b[38;5;28;01mreturn\u001b[39;00m \u001b[38;5;28;43mself\u001b[39;49m\u001b[38;5;241;43m.\u001b[39;49m\u001b[43m_model\u001b[49m\u001b[38;5;241;43m.\u001b[39;49m\u001b[43mpredict_proba\u001b[49m(\u001b[38;5;28mself\u001b[39m\u001b[38;5;241m.\u001b[39m_combine(X, W, n_samples, fitting\u001b[38;5;241m=\u001b[39m\u001b[38;5;28;01mFalse\u001b[39;00m))[:, \u001b[38;5;241m1\u001b[39m:]\n\u001b[0;32m     82\u001b[0m \u001b[38;5;28;01melse\u001b[39;00m:\n\u001b[0;32m     83\u001b[0m     \u001b[38;5;28;01mreturn\u001b[39;00m \u001b[38;5;28mself\u001b[39m\u001b[38;5;241m.\u001b[39m_model\u001b[38;5;241m.\u001b[39mpredict(\u001b[38;5;28mself\u001b[39m\u001b[38;5;241m.\u001b[39m_combine(X, W, n_samples, fitting\u001b[38;5;241m=\u001b[39m\u001b[38;5;28;01mFalse\u001b[39;00m))\n",
      "\u001b[1;31mAttributeError\u001b[0m: 'LGBMRegressor' object has no attribute 'predict_proba'"
     ]
    }
   ],
   "source": [
    "est1 = NonParamDML(\n",
    "    model_y=LGBMRegressor(),  # default\n",
    "    model_t=LGBMRegressor(),\n",
    "    model_final=LGBMRegressor(),\n",
    "    discrete_treatment=True\n",
    ")\n",
    "est1.fit(train_outcome, train_treatment.map({'treatment': 1, 'control': 0}), X=train_data, W=None)"
   ]
  },
  {
   "cell_type": "code",
   "execution_count": 88,
   "id": "a5ae6856",
   "metadata": {},
   "outputs": [
    {
     "data": {
      "text/plain": [
       "<econml.dml.dml.NonParamDML at 0x269c1d9a700>"
      ]
     },
     "execution_count": 88,
     "metadata": {},
     "output_type": "execute_result"
    }
   ],
   "source": [
    "est2 = NonParamDML(\n",
    "    model_y=LGBMClassifier(),  # not recommended, but the outcome is binary\n",
    "    model_t=LGBMClassifier(),  # not recommended, but the treatment is binary\n",
    "    model_final=LGBMRegressor(),\n",
    "    discrete_treatment=True\n",
    ")\n",
    "est2.fit(train_outcome, train_treatment.map({'treatment': 1, 'control': 0}), X=train_data, W=None)"
   ]
  },
  {
   "cell_type": "code",
   "execution_count": 92,
   "id": "dddb8b3e",
   "metadata": {},
   "outputs": [
    {
     "data": {
      "text/plain": [
       "<econml.dml.dml.NonParamDML at 0x2697b9cdb50>"
      ]
     },
     "execution_count": 92,
     "metadata": {},
     "output_type": "execute_result"
    }
   ],
   "source": [
    "est3 = NonParamDML(\n",
    "    model_y=LGBMRegressor(),  \n",
    "    model_t=LGBMClassifier(),  # not recommended, but the treatment is binary\n",
    "    model_final=LGBMRegressor(),\n",
    "    discrete_treatment=True\n",
    ")\n",
    "est3.fit(train_outcome, train_treatment.map({'treatment': 1, 'control': 0}), X=train_data, W=None)"
   ]
  },
  {
   "cell_type": "code",
   "execution_count": 96,
   "id": "af8820bd",
   "metadata": {},
   "outputs": [],
   "source": [
    "cate_train = est2.effect(train_data)\n",
    "cate_test = est2.effect(test_data)"
   ]
  },
  {
   "cell_type": "code",
   "execution_count": 97,
   "id": "130e7948",
   "metadata": {},
   "outputs": [
    {
     "name": "stdout",
     "output_type": "stream",
     "text": [
      "uplift at top 10% by group: 0.46 by overall: 0.45\n",
      " Weighted average uplift by group: 0.05 by overall: 0.05\n",
      " AUUC by group: 0.18\n",
      " AUQC by group: 0.26\n",
      "\n"
     ]
    },
    {
     "data": {
      "text/plain": [
       "{'uplift@10': 0.4589951670309098,\n",
       " 'uplift@10_all': 0.4506058659962503,\n",
       " 'AUQC': 0.264879869050263,\n",
       " 'AUUC': 0.17991445310296103,\n",
       " 'WAU': 0.04951893935307181,\n",
       " 'WAU_all': 0.05052338855181254}"
      ]
     },
     "execution_count": 97,
     "metadata": {},
     "output_type": "execute_result"
    }
   ],
   "source": [
    "evaluate(train_outcome, cate_train.flatten(), train_treatment.map({'treatment': 1, 'control': 0}), k=0.1)"
   ]
  },
  {
   "cell_type": "code",
   "execution_count": 90,
   "id": "9f1501bc",
   "metadata": {},
   "outputs": [
    {
     "name": "stdout",
     "output_type": "stream",
     "text": [
      "uplift at top 10% by group: 0.42 by overall: 0.42\n",
      " Weighted average uplift by group: 0.05 by overall: 0.05\n",
      " AUUC by group: 0.16\n",
      " AUQC by group: 0.23\n",
      "\n"
     ]
    },
    {
     "data": {
      "text/plain": [
       "{'uplift@10': 0.42047437202213794,\n",
       " 'uplift@10_all': 0.42225752973772807,\n",
       " 'AUQC': 0.23229016412781534,\n",
       " 'AUUC': 0.16081164988323396,\n",
       " 'WAU': 0.04951840697165767,\n",
       " 'WAU_all': 0.04939268338008468}"
      ]
     },
     "execution_count": 90,
     "metadata": {},
     "output_type": "execute_result"
    }
   ],
   "source": [
    "evaluate(test_outcome, cate_test.flatten(), test_treatment.map({'treatment': 1, 'control': 0}), k=0.1)"
   ]
  },
  {
   "cell_type": "code",
   "execution_count": 91,
   "id": "9d34a269",
   "metadata": {},
   "outputs": [
    {
     "data": {
      "image/png": "[encoded data removed]",
      "text/plain": [
       "<Figure size 800x600 with 2 Axes>"
      ]
     },
     "metadata": {},
     "output_type": "display_data"
    }
   ],
   "source": [
    "get_plots(test_outcome, cate_test.flatten(), test_treatment.map({'treatment': 1, 'control': 0}), plot_type='uplift_perc_group')"
   ]
  },
  {
   "cell_type": "code",
   "execution_count": 93,
   "id": "9f666647",
   "metadata": {},
   "outputs": [],
   "source": [
    "cate_train = est3.effect(train_data)\n",
    "cate_test = est3.effect(test_data)"
   ]
  },
  {
   "cell_type": "code",
   "execution_count": 95,
   "id": "25b44c7f",
   "metadata": {},
   "outputs": [
    {
     "name": "stdout",
     "output_type": "stream",
     "text": [
      "uplift at top 10% by group: 0.47 by overall: 0.47\n",
      " Weighted average uplift by group: 0.05 by overall: 0.05\n",
      " AUUC by group: 0.19\n",
      " AUQC by group: 0.27\n",
      "\n"
     ]
    },
    {
     "data": {
      "text/plain": [
       "{'uplift@10': 0.4683226652511888,\n",
       " 'uplift@10_all': 0.46851846692707605,\n",
       " 'AUQC': 0.27082466654809884,\n",
       " 'AUUC': 0.1866232126350142,\n",
       " 'WAU': 0.04951893919539078,\n",
       " 'WAU_all': 0.04955579469782811}"
      ]
     },
     "execution_count": 95,
     "metadata": {},
     "output_type": "execute_result"
    }
   ],
   "source": [
    "evaluate(train_outcome, cate_train.flatten(), train_treatment.map({'treatment': 1, 'control': 0}), k=0.1)"
   ]
  },
  {
   "cell_type": "code",
   "execution_count": 94,
   "id": "d3c5ac54",
   "metadata": {},
   "outputs": [
    {
     "name": "stdout",
     "output_type": "stream",
     "text": [
      "uplift at top 10% by group: 0.43 by overall: 0.43\n",
      " Weighted average uplift by group: 0.05 by overall: 0.05\n",
      " AUUC by group: 0.16\n",
      " AUQC by group: 0.24\n",
      "\n"
     ]
    },
    {
     "data": {
      "text/plain": [
       "{'uplift@10': 0.428138355718951,\n",
       " 'uplift@10_all': 0.4294954764629978,\n",
       " 'AUQC': 0.236839255287289,\n",
       " 'AUUC': 0.16388030261764258,\n",
       " 'WAU': 0.049518236520251294,\n",
       " 'WAU_all': 0.0493690026811125}"
      ]
     },
     "execution_count": 94,
     "metadata": {},
     "output_type": "execute_result"
    }
   ],
   "source": [
    "evaluate(test_outcome, cate_test.flatten(), test_treatment.map({'treatment': 1, 'control': 0}), k=0.1)"
   ]
  },
  {
   "cell_type": "code",
   "execution_count": 129,
   "id": "3d5efe57",
   "metadata": {},
   "outputs": [
    {
     "data": {
      "text/plain": [
       "LGBMRegressor()"
      ]
     },
     "execution_count": 129,
     "metadata": {},
     "output_type": "execute_result"
    }
   ],
   "source": [
    "debias_m = LGBMRegressor()\n",
    "denoise_m = LGBMRegressor()\n",
    "\n",
    "num_train_treat = train_treatment.map({'treatment': 1, 'control': 0})\n",
    "\n",
    "treatment_resriduals = num_train_treat - cross_val_predict(debias_m, train_data, num_train_treat, cv=5, method='predict')\n",
    "outcome_residuals =  train_outcome - cross_val_predict(denoise_m, train_data, train_outcome, cv=5, method='predict')\n",
    "\n",
    "model_final = LGBMRegressor()\n",
    " \n",
    "# create the weights\n",
    "w = treatment_resriduals ** 2 \n",
    " \n",
    "# create the transformed target\n",
    "y_star = (outcome_residuals / treatment_resriduals)\n",
    " \n",
    "# use a weighted regression ML model to predict the target with the weights.\n",
    "model_final.fit(X=train_data, y=y_star, sample_weight=w)"
   ]
  },
  {
   "cell_type": "code",
   "execution_count": 130,
   "id": "1f38318a",
   "metadata": {},
   "outputs": [],
   "source": [
    "cate_train = model_final.predict(train_data)\n",
    "cate_test = model_final.predict(test_data)"
   ]
  },
  {
   "cell_type": "code",
   "execution_count": 131,
   "id": "bbc57a1e",
   "metadata": {},
   "outputs": [
    {
     "name": "stdout",
     "output_type": "stream",
     "text": [
      "uplift at top 10% by group: 0.47 by overall: 0.47\n",
      " Weighted average uplift by group: 0.05 by overall: 0.05\n",
      " AUUC by group: 0.19\n",
      " AUQC by group: 0.27\n",
      "\n"
     ]
    },
    {
     "data": {
      "text/plain": [
       "{'uplift@10': 0.4740602966659342,\n",
       " 'uplift@10_all': 0.47497555820026127,\n",
       " 'AUQC': 0.2725548331228039,\n",
       " 'AUUC': 0.1880555537240107,\n",
       " 'WAU': 0.04951893917616139,\n",
       " 'WAU_all': 0.049491358855151796}"
      ]
     },
     "execution_count": 131,
     "metadata": {},
     "output_type": "execute_result"
    }
   ],
   "source": [
    "evaluate(train_outcome, cate_train, train_treatment.map({'treatment': 1, 'control': 0}), k=0.1)"
   ]
  },
  {
   "cell_type": "code",
   "execution_count": 132,
   "id": "2abb592c",
   "metadata": {},
   "outputs": [
    {
     "name": "stdout",
     "output_type": "stream",
     "text": [
      "uplift at top 10% by group: 0.43 by overall: 0.43\n",
      " Weighted average uplift by group: 0.05 by overall: 0.05\n",
      " AUUC by group: 0.16\n",
      " AUQC by group: 0.24\n",
      "\n"
     ]
    },
    {
     "data": {
      "text/plain": [
       "{'uplift@10': 0.43096171956037943,\n",
       " 'uplift@10_all': 0.4319579307151486,\n",
       " 'AUQC': 0.2381263236837833,\n",
       " 'AUUC': 0.16477339623359497,\n",
       " 'WAU': 0.04951818936985683,\n",
       " 'WAU_all': 0.04958460473010923}"
      ]
     },
     "execution_count": 132,
     "metadata": {},
     "output_type": "execute_result"
    }
   ],
   "source": [
    "evaluate(test_outcome, cate_test, test_treatment.map({'treatment': 1, 'control': 0}), k=0.1)"
   ]
  },
  {
   "cell_type": "code",
   "execution_count": 134,
   "id": "78d3d2a5",
   "metadata": {},
   "outputs": [
    {
     "data": {
      "text/plain": [
       "LGBMRegressor()"
      ]
     },
     "execution_count": 134,
     "metadata": {},
     "output_type": "execute_result"
    }
   ],
   "source": [
    "debias_m = LGBMClassifier()\n",
    "denoise_m = LGBMClassifier()\n",
    "\n",
    "treatment_resriduals = num_train_treat - cross_val_predict(debias_m, train_data, num_train_treat, cv=5, method='predict_proba')[:,1]\n",
    "outcome_residuals =  train_outcome - cross_val_predict(denoise_m, train_data, train_outcome, cv=5, method='predict_proba')[:,1]\n",
    "\n",
    "model_final = LGBMRegressor()\n",
    " \n",
    "# create the weights\n",
    "w = treatment_resriduals ** 2 \n",
    " \n",
    "# create the transformed target\n",
    "y_star = (outcome_residuals / treatment_resriduals)\n",
    " \n",
    "# use a weighted regression ML model to predict the target with the weights.\n",
    "model_final.fit(X=train_data, y=y_star, sample_weight=w)"
   ]
  },
  {
   "cell_type": "code",
   "execution_count": 135,
   "id": "ffa2da8c",
   "metadata": {},
   "outputs": [],
   "source": [
    "cate_train = model_final.predict(train_data)\n",
    "cate_test = model_final.predict(test_data)"
   ]
  },
  {
   "cell_type": "code",
   "execution_count": 136,
   "id": "d0b72730",
   "metadata": {},
   "outputs": [
    {
     "name": "stdout",
     "output_type": "stream",
     "text": [
      "uplift at top 10% by group: 0.47 by overall: 0.47\n",
      " Weighted average uplift by group: 0.05 by overall: 0.05\n",
      " AUUC by group: 0.19\n",
      " AUQC by group: 0.27\n",
      "\n"
     ]
    },
    {
     "data": {
      "text/plain": [
       "{'uplift@10': 0.4693647137160245,\n",
       " 'uplift@10_all': 0.4710988596695433,\n",
       " 'AUQC': 0.269783511303698,\n",
       " 'AUUC': 0.18616784296322228,\n",
       " 'WAU': 0.049518939101380416,\n",
       " 'WAU_all': 0.049410414189650476}"
      ]
     },
     "execution_count": 136,
     "metadata": {},
     "output_type": "execute_result"
    }
   ],
   "source": [
    "evaluate(train_outcome, cate_train, train_treatment.map({'treatment': 1, 'control': 0}), k=0.1)"
   ]
  },
  {
   "cell_type": "code",
   "execution_count": 137,
   "id": "ff43d4cf",
   "metadata": {},
   "outputs": [
    {
     "name": "stdout",
     "output_type": "stream",
     "text": [
      "uplift at top 10% by group: 0.43 by overall: 0.44\n",
      " Weighted average uplift by group: 0.05 by overall: 0.05\n",
      " AUUC by group: 0.16\n",
      " AUQC by group: 0.24\n",
      "\n"
     ]
    },
    {
     "data": {
      "text/plain": [
       "{'uplift@10': 0.43263602899421083,\n",
       " 'uplift@10_all': 0.43767544481581266,\n",
       " 'AUQC': 0.23773889301698808,\n",
       " 'AUUC': 0.16462861893041283,\n",
       " 'WAU': 0.04951804721638224,\n",
       " 'WAU_all': 0.049330993466139145}"
      ]
     },
     "execution_count": 137,
     "metadata": {},
     "output_type": "execute_result"
    }
   ],
   "source": [
    "evaluate(test_outcome, cate_test, test_treatment.map({'treatment': 1, 'control': 0}), k=0.1)"
   ]
  },
  {
   "cell_type": "code",
   "execution_count": 138,
   "id": "3fcc21e0",
   "metadata": {},
   "outputs": [
    {
     "data": {
      "image/png": "[encoded data removed]",
      "text/plain": [
       "<Figure size 800x600 with 2 Axes>"
      ]
     },
     "metadata": {},
     "output_type": "display_data"
    }
   ],
   "source": [
    "get_plots(test_outcome, cate_test, test_treatment.map({'treatment': 1, 'control': 0}), plot_type='uplift_perc_group')"
   ]
  },
  {
   "cell_type": "code",
   "execution_count": 139,
   "id": "4a5b930e",
   "metadata": {},
   "outputs": [],
   "source": [
    "def logistic_residuals(y_true, y_pred, eps=1e-10):\n",
    "    y_pred = np.clip(y_pred, a_min=eps, a_max=1-eps)\n",
    "    log_loss = - (y_true * np.log(y_pred) + (1 - y_true) * np.log(1 - y_pred))\n",
    "    return log_loss"
   ]
  },
  {
   "cell_type": "code",
   "execution_count": 140,
   "id": "2aafeb99",
   "metadata": {},
   "outputs": [
    {
     "data": {
      "text/plain": [
       "LGBMRegressor()"
      ]
     },
     "execution_count": 140,
     "metadata": {},
     "output_type": "execute_result"
    }
   ],
   "source": [
    "debias_m = LGBMClassifier()\n",
    "denoise_m = LGBMClassifier()\n",
    "\n",
    "treatment_resriduals = logistic_residuals(num_train_treat, \n",
    "                                          cross_val_predict(debias_m, \n",
    "                                                            train_data, \n",
    "                                                            num_train_treat, cv=5, method='predict_proba')[:,1])\n",
    "outcome_residuals = logistic_residuals(train_outcome, cross_val_predict(denoise_m, \n",
    "                                                                        train_data, \n",
    "                                                                        train_outcome, cv=5, method='predict_proba')[:,1])\n",
    "\n",
    "model_final = LGBMRegressor()\n",
    " \n",
    "# create the weights\n",
    "w = treatment_resriduals ** 2 \n",
    " \n",
    "# create the transformed target\n",
    "y_star = (outcome_residuals / treatment_resriduals)\n",
    " \n",
    "# use a weighted regression ML model to predict the target with the weights.\n",
    "model_final.fit(X=train_data, y=y_star, sample_weight=w)"
   ]
  },
  {
   "cell_type": "code",
   "execution_count": 141,
   "id": "8c78788a",
   "metadata": {},
   "outputs": [],
   "source": [
    "cate_train = model_final.predict(train_data)\n",
    "cate_test = model_final.predict(test_data)"
   ]
  },
  {
   "cell_type": "code",
   "execution_count": 142,
   "id": "f8a022f8",
   "metadata": {},
   "outputs": [
    {
     "name": "stdout",
     "output_type": "stream",
     "text": [
      "uplift at top 10% by group: 0.25 by overall: 0.24\n",
      " Weighted average uplift by group: 0.05 by overall: 0.05\n",
      " AUUC by group: 0.09\n",
      " AUQC by group: 0.13\n",
      "\n"
     ]
    },
    {
     "data": {
      "text/plain": [
       "{'uplift@10': 0.24716291830169818,\n",
       " 'uplift@10_all': 0.24369147352636727,\n",
       " 'AUQC': 0.13246952709962,\n",
       " 'AUUC': 0.09084704586070116,\n",
       " 'WAU': 0.049518945679115224,\n",
       " 'WAU_all': 0.04843049827312025}"
      ]
     },
     "execution_count": 142,
     "metadata": {},
     "output_type": "execute_result"
    }
   ],
   "source": [
    "evaluate(train_outcome, cate_train, train_treatment.map({'treatment': 1, 'control': 0}), k=0.1)"
   ]
  },
  {
   "cell_type": "code",
   "execution_count": 143,
   "id": "7d4eaeee",
   "metadata": {},
   "outputs": [
    {
     "name": "stdout",
     "output_type": "stream",
     "text": [
      "uplift at top 10% by group: 0.25 by overall: 0.25\n",
      " Weighted average uplift by group: 0.05 by overall: 0.05\n",
      " AUUC by group: 0.09\n",
      " AUQC by group: 0.13\n",
      "\n"
     ]
    },
    {
     "data": {
      "text/plain": [
       "{'uplift@10': 0.25088992748335665,\n",
       " 'uplift@10_all': 0.2518100359791917,\n",
       " 'AUQC': 0.12945742544531166,\n",
       " 'AUUC': 0.08942503633838225,\n",
       " 'WAU': 0.04951639901541135,\n",
       " 'WAU_all': 0.049974910982753716}"
      ]
     },
     "execution_count": 143,
     "metadata": {},
     "output_type": "execute_result"
    }
   ],
   "source": [
    "evaluate(test_outcome, cate_test, test_treatment.map({'treatment': 1, 'control': 0}), k=0.1)"
   ]
  },
  {
   "cell_type": "code",
   "execution_count": null,
   "id": "b472e40a",
   "metadata": {},
   "outputs": [],
   "source": []
  },
  {
   "cell_type": "code",
   "execution_count": null,
   "id": "e904add5",
   "metadata": {},
   "outputs": [],
   "source": []
  },
  {
   "cell_type": "code",
   "execution_count": null,
   "id": "b28eb9ea",
   "metadata": {},
   "outputs": [],
   "source": []
  },
  {
   "cell_type": "code",
   "execution_count": null,
   "id": "fe97e30d",
   "metadata": {},
   "outputs": [],
   "source": []
  },
  {
   "cell_type": "code",
   "execution_count": null,
   "id": "04f506a8",
   "metadata": {},
   "outputs": [],
   "source": []
  },
  {
   "cell_type": "markdown",
   "id": "fb4cfd75",
   "metadata": {},
   "source": [
    "### DRLearner (Doubly Robust) - it is enough to get fine estimates rather by propensity model or outcome model"
   ]
  },
  {
   "cell_type": "code",
   "execution_count": 104,
   "id": "7276cfa0",
   "metadata": {},
   "outputs": [
    {
     "data": {
      "text/plain": [
       "<econml.dr._drlearner.DRLearner at 0x2697ba20fd0>"
      ]
     },
     "execution_count": 104,
     "metadata": {},
     "output_type": "execute_result"
    }
   ],
   "source": [
    "est = DRLearner(model_propensity=LogisticRegression(), \n",
    "                model_regression=LGBMRegressor(),  # LGBMClassifier(),\n",
    "                model_final=LGBMRegressor())\n",
    "est.fit(train_outcome, train_treatment.map({'treatment': 1, 'control': 0}), X=train_data, W=None)"
   ]
  },
  {
   "cell_type": "code",
   "execution_count": 105,
   "id": "9ef1ea1a",
   "metadata": {},
   "outputs": [],
   "source": [
    "cate_train = est.effect(train_data)\n",
    "cate_test = est.effect(test_data)"
   ]
  },
  {
   "cell_type": "code",
   "execution_count": 106,
   "id": "577dd615",
   "metadata": {},
   "outputs": [
    {
     "name": "stdout",
     "output_type": "stream",
     "text": [
      "uplift at top 10% by group: 0.47 by overall: 0.47\n",
      " Weighted average uplift by group: 0.05 by overall: 0.05\n",
      " AUUC by group: 0.19\n",
      " AUQC by group: 0.27\n",
      "\n"
     ]
    },
    {
     "data": {
      "text/plain": [
       "{'uplift@10': 0.46594684392015323,\n",
       " 'uplift@10_all': 0.4667838048647195,\n",
       " 'AUQC': 0.27191764337357466,\n",
       " 'AUUC': 0.18751887782388432,\n",
       " 'WAU': 0.04951893919795472,\n",
       " 'WAU_all': 0.04961856541576606}"
      ]
     },
     "execution_count": 106,
     "metadata": {},
     "output_type": "execute_result"
    }
   ],
   "source": [
    "evaluate(train_outcome, cate_train.flatten(), train_treatment.map({'treatment': 1, 'control': 0}), k=0.1)"
   ]
  },
  {
   "cell_type": "code",
   "execution_count": 107,
   "id": "650486cd",
   "metadata": {},
   "outputs": [
    {
     "name": "stdout",
     "output_type": "stream",
     "text": [
      "uplift at top 10% by group: 0.43 by overall: 0.43\n",
      " Weighted average uplift by group: 0.05 by overall: 0.05\n",
      " AUUC by group: 0.16\n",
      " AUQC by group: 0.24\n",
      "\n"
     ]
    },
    {
     "data": {
      "text/plain": [
       "{'uplift@10': 0.42897071796299957,\n",
       " 'uplift@10_all': 0.43255658899223254,\n",
       " 'AUQC': 0.23656438862495024,\n",
       " 'AUUC': 0.16374610936290102,\n",
       " 'WAU': 0.04951822848631804,\n",
       " 'WAU_all': 0.049610144435328934}"
      ]
     },
     "execution_count": 107,
     "metadata": {},
     "output_type": "execute_result"
    }
   ],
   "source": [
    "evaluate(test_outcome, cate_test.flatten(), test_treatment.map({'treatment': 1, 'control': 0}), k=0.1)"
   ]
  },
  {
   "cell_type": "code",
   "execution_count": null,
   "id": "a62f0dea",
   "metadata": {},
   "outputs": [],
   "source": []
  },
  {
   "cell_type": "code",
   "execution_count": 109,
   "id": "f04edc95",
   "metadata": {},
   "outputs": [
    {
     "data": {
      "text/plain": [
       "<econml.metalearners._metalearners.XLearner at 0x2697b7e6910>"
      ]
     },
     "execution_count": 109,
     "metadata": {},
     "output_type": "execute_result"
    }
   ],
   "source": [
    "x_learner = XLearner(models=LGBMClassifier(), \n",
    "                     cate_models=LGBMRegressor(), \n",
    "                     propensity_model=LogisticRegression())\n",
    "x_learner.fit(train_outcome, train_treatment.map({'treatment': 1, 'control': 0}), X=train_data)"
   ]
  },
  {
   "cell_type": "code",
   "execution_count": 110,
   "id": "75b85a12",
   "metadata": {},
   "outputs": [],
   "source": [
    "cate_train = x_learner.effect(train_data)\n",
    "cate_test = x_learner.effect(test_data)"
   ]
  },
  {
   "cell_type": "code",
   "execution_count": 111,
   "id": "7ae9a914",
   "metadata": {},
   "outputs": [
    {
     "name": "stdout",
     "output_type": "stream",
     "text": [
      "uplift at top 10% by group: 0.44 by overall: 0.44\n",
      " Weighted average uplift by group: 0.05 by overall: 0.05\n",
      " AUUC by group: 0.17\n",
      " AUQC by group: 0.25\n",
      "\n"
     ]
    },
    {
     "data": {
      "text/plain": [
       "{'uplift@10': 0.4361210387677676,\n",
       " 'uplift@10_all': 0.43735371794925126,\n",
       " 'AUQC': 0.2506181358611399,\n",
       " 'AUUC': 0.17304738819858287,\n",
       " 'WAU': 0.04951893895694629,\n",
       " 'WAU_all': 0.049172393697148646}"
      ]
     },
     "execution_count": 111,
     "metadata": {},
     "output_type": "execute_result"
    }
   ],
   "source": [
    "evaluate(train_outcome, cate_train.flatten(), train_treatment.map({'treatment': 1, 'control': 0}), k=0.1)"
   ]
  },
  {
   "cell_type": "code",
   "execution_count": 112,
   "id": "f6772eb1",
   "metadata": {},
   "outputs": [
    {
     "name": "stdout",
     "output_type": "stream",
     "text": [
      "uplift at top 10% by group: 0.42 by overall: 0.42\n",
      " Weighted average uplift by group: 0.05 by overall: 0.05\n",
      " AUUC by group: 0.16\n",
      " AUQC by group: 0.24\n",
      "\n"
     ]
    },
    {
     "data": {
      "text/plain": [
       "{'uplift@10': 0.4213029836352471,\n",
       " 'uplift@10_all': 0.4248776376540969,\n",
       " 'AUQC': 0.2373898132117806,\n",
       " 'AUUC': 0.16397249266016897,\n",
       " 'WAU': 0.04951699687429169,\n",
       " 'WAU_all': 0.049613432409880656}"
      ]
     },
     "execution_count": 112,
     "metadata": {},
     "output_type": "execute_result"
    }
   ],
   "source": [
    "evaluate(test_outcome, cate_test.flatten(), test_treatment.map({'treatment': 1, 'control': 0}), k=0.1)"
   ]
  },
  {
   "cell_type": "code",
   "execution_count": 144,
   "id": "5dd1be80",
   "metadata": {},
   "outputs": [
    {
     "data": {
      "text/plain": [
       "<econml.metalearners._metalearners.XLearner at 0x269c2ba4a30>"
      ]
     },
     "execution_count": 144,
     "metadata": {},
     "output_type": "execute_result"
    }
   ],
   "source": [
    "x_learner = XLearner(models=LGBMRegressor(), \n",
    "                     cate_models=LGBMRegressor(), \n",
    "                     propensity_model=LogisticRegression())\n",
    "x_learner.fit(train_outcome, train_treatment.map({'treatment': 1, 'control': 0}), X=train_data)"
   ]
  },
  {
   "cell_type": "code",
   "execution_count": 145,
   "id": "ba75b618",
   "metadata": {},
   "outputs": [],
   "source": [
    "cate_train = x_learner.effect(train_data)\n",
    "cate_test = x_learner.effect(test_data)"
   ]
  },
  {
   "cell_type": "code",
   "execution_count": 146,
   "id": "994709c9",
   "metadata": {},
   "outputs": [
    {
     "name": "stdout",
     "output_type": "stream",
     "text": [
      "uplift at top 10% by group: 0.44 by overall: 0.45\n",
      " Weighted average uplift by group: 0.05 by overall: 0.05\n",
      " AUUC by group: 0.17\n",
      " AUQC by group: 0.25\n",
      "\n",
      "----------------------------------------------------------------------------------------------------\n",
      "uplift at top 10% by group: 0.42 by overall: 0.42\n",
      " Weighted average uplift by group: 0.05 by overall: 0.05\n",
      " AUUC by group: 0.16\n",
      " AUQC by group: 0.24\n",
      "\n"
     ]
    },
    {
     "data": {
      "text/plain": [
       "{'uplift@10': 0.41966159640632883,\n",
       " 'uplift@10_all': 0.4227448639475587,\n",
       " 'AUQC': 0.2357813429799817,\n",
       " 'AUUC': 0.16304826354354826,\n",
       " 'WAU': 0.049517606617422556,\n",
       " 'WAU_all': 0.04958456544142307}"
      ]
     },
     "execution_count": 146,
     "metadata": {},
     "output_type": "execute_result"
    }
   ],
   "source": [
    "evaluate(train_outcome, cate_train.flatten(), train_treatment.map({'treatment': 1, 'control': 0}), k=0.1)\n",
    "print('-'*100)\n",
    "evaluate(test_outcome, cate_test.flatten(), test_treatment.map({'treatment': 1, 'control': 0}), k=0.1)"
   ]
  },
  {
   "cell_type": "markdown",
   "id": "fa907849",
   "metadata": {},
   "source": [
    "#### https://arxiv.org/pdf/2310.05549.pdf"
   ]
  },
  {
   "cell_type": "code",
   "execution_count": 149,
   "id": "308cbaf2",
   "metadata": {},
   "outputs": [
    {
     "data": {
      "text/plain": [
       "LGBMRegressor()"
      ]
     },
     "execution_count": 149,
     "metadata": {},
     "output_type": "execute_result"
    }
   ],
   "source": [
    "p = cross_val_predict(LogisticRegression(), train_data, num_train_treat, cv=5, method='predict_proba')[:,1]\n",
    "cate_estimator = LGBMRegressor()\n",
    "C = np.mean(train_outcome)  # constant that lies in (0, 1)\n",
    "\n",
    "transformed_target = (train_outcome - C) * ((num_train_treat - p) / (p * (1 - p)))\n",
    "\n",
    "cate_estimator.fit(train_data, transformed_target)"
   ]
  },
  {
   "cell_type": "code",
   "execution_count": 150,
   "id": "9b3f260a",
   "metadata": {},
   "outputs": [],
   "source": [
    "cate_train = cate_estimator.predict(train_data)\n",
    "cate_test = cate_estimator.predict(test_data)"
   ]
  },
  {
   "cell_type": "code",
   "execution_count": 151,
   "id": "86f0f9c8",
   "metadata": {},
   "outputs": [
    {
     "name": "stdout",
     "output_type": "stream",
     "text": [
      "uplift at top 10% by group: 0.48 by overall: 0.48\n",
      " Weighted average uplift by group: 0.05 by overall: 0.05\n",
      " AUUC by group: 0.20\n",
      " AUQC by group: 0.29\n",
      "\n",
      "----------------------------------------------------------------------------------------------------\n",
      "uplift at top 10% by group: 0.42 by overall: 0.42\n",
      " Weighted average uplift by group: 0.05 by overall: 0.05\n",
      " AUUC by group: 0.16\n",
      " AUQC by group: 0.23\n",
      "\n"
     ]
    },
    {
     "data": {
      "text/plain": [
       "{'uplift@10': 0.4194476159656191,\n",
       " 'uplift@10_all': 0.42317513157781783,\n",
       " 'AUQC': 0.23286385438685805,\n",
       " 'AUUC': 0.16120505415924427,\n",
       " 'WAU': 0.04951858036758798,\n",
       " 'WAU_all': 0.04950928404738948}"
      ]
     },
     "execution_count": 151,
     "metadata": {},
     "output_type": "execute_result"
    }
   ],
   "source": [
    "evaluate(train_outcome, cate_train.flatten(), train_treatment.map({'treatment': 1, 'control': 0}), k=0.1)\n",
    "print('-'*100)\n",
    "evaluate(test_outcome, cate_test.flatten(), test_treatment.map({'treatment': 1, 'control': 0}), k=0.1)"
   ]
  },
  {
   "cell_type": "code",
   "execution_count": null,
   "id": "b9217502",
   "metadata": {},
   "outputs": [],
   "source": []
  }
 ],
 "metadata": {
  "kernelspec": {
   "display_name": "Python 3 (ipykernel)",
   "language": "python",
   "name": "python3"
  },
  "language_info": {
   "codemirror_mode": {
    "name": "ipython",
    "version": 3
   },
   "file_extension": ".py",
   "mimetype": "text/x-python",
   "name": "python",
   "nbconvert_exporter": "python",
   "pygments_lexer": "ipython3",
   "version": "3.8.18"
  }
 },
 "nbformat": 4,
 "nbformat_minor": 5
}
