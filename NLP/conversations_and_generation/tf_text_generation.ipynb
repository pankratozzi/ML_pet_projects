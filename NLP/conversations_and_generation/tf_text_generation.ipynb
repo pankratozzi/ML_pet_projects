{
  "nbformat": 4,
  "nbformat_minor": 0,
  "metadata": {
    "colab": {
      "provenance": [],
      "collapsed_sections": []
    },
    "kernelspec": {
      "name": "python3",
      "display_name": "Python 3"
    },
    "language_info": {
      "name": "python"
    },
    "widgets": {
      "application/vnd.jupyter.widget-state+json": {
        "397a6fdaca44485f82618277efd2b276": {
          "model_module": "@jupyter-widgets/controls",
          "model_name": "HBoxModel",
          "model_module_version": "1.5.0",
          "state": {
            "_dom_classes": [],
            "_model_module": "@jupyter-widgets/controls",
            "_model_module_version": "1.5.0",
            "_model_name": "HBoxModel",
            "_view_count": null,
            "_view_module": "@jupyter-widgets/controls",
            "_view_module_version": "1.5.0",
            "_view_name": "HBoxView",
            "box_style": "",
            "children": [
              "IPY_MODEL_028df5c734474855b76b0f2fc810a22b",
              "IPY_MODEL_7857822361a44cd5aad1580caf8ff54b",
              "IPY_MODEL_bdc20209e6a945c695cd56c4550234b7"
            ],
            "layout": "IPY_MODEL_569797edf923499bb4e6d9320ac730e5"
          }
        },
        "028df5c734474855b76b0f2fc810a22b": {
          "model_module": "@jupyter-widgets/controls",
          "model_name": "HTMLModel",
          "model_module_version": "1.5.0",
          "state": {
            "_dom_classes": [],
            "_model_module": "@jupyter-widgets/controls",
            "_model_module_version": "1.5.0",
            "_model_name": "HTMLModel",
            "_view_count": null,
            "_view_module": "@jupyter-widgets/controls",
            "_view_module_version": "1.5.0",
            "_view_name": "HTMLView",
            "description": "",
            "description_tooltip": null,
            "layout": "IPY_MODEL_e192c5602e1d4fe4a50dabbc2920c58f",
            "placeholder": "​",
            "style": "IPY_MODEL_2bb2a4eab0fa4dfa92800bc5da84fa91",
            "value": "Downloading: 100%"
          }
        },
        "7857822361a44cd5aad1580caf8ff54b": {
          "model_module": "@jupyter-widgets/controls",
          "model_name": "FloatProgressModel",
          "model_module_version": "1.5.0",
          "state": {
            "_dom_classes": [],
            "_model_module": "@jupyter-widgets/controls",
            "_model_module_version": "1.5.0",
            "_model_name": "FloatProgressModel",
            "_view_count": null,
            "_view_module": "@jupyter-widgets/controls",
            "_view_module_version": "1.5.0",
            "_view_name": "ProgressView",
            "bar_style": "success",
            "description": "",
            "description_tooltip": null,
            "layout": "IPY_MODEL_8371859850b94c948b2113db958ebcba",
            "max": 3247202234,
            "min": 0,
            "orientation": "horizontal",
            "style": "IPY_MODEL_75309e45234e4bac90e1840e6a52928b",
            "value": 3247202234
          }
        },
        "bdc20209e6a945c695cd56c4550234b7": {
          "model_module": "@jupyter-widgets/controls",
          "model_name": "HTMLModel",
          "model_module_version": "1.5.0",
          "state": {
            "_dom_classes": [],
            "_model_module": "@jupyter-widgets/controls",
            "_model_module_version": "1.5.0",
            "_model_name": "HTMLModel",
            "_view_count": null,
            "_view_module": "@jupyter-widgets/controls",
            "_view_module_version": "1.5.0",
            "_view_name": "HTMLView",
            "description": "",
            "description_tooltip": null,
            "layout": "IPY_MODEL_bae5cbf792bb49c4bea586dfae40fdcb",
            "placeholder": "​",
            "style": "IPY_MODEL_aaf7d332aea74dfeb215024e1e652399",
            "value": " 3.25G/3.25G [02:03&lt;00:00, 27.7MB/s]"
          }
        },
        "569797edf923499bb4e6d9320ac730e5": {
          "model_module": "@jupyter-widgets/base",
          "model_name": "LayoutModel",
          "model_module_version": "1.2.0",
          "state": {
            "_model_module": "@jupyter-widgets/base",
            "_model_module_version": "1.2.0",
            "_model_name": "LayoutModel",
            "_view_count": null,
            "_view_module": "@jupyter-widgets/base",
            "_view_module_version": "1.2.0",
            "_view_name": "LayoutView",
            "align_content": null,
            "align_items": null,
            "align_self": null,
            "border": null,
            "bottom": null,
            "display": null,
            "flex": null,
            "flex_flow": null,
            "grid_area": null,
            "grid_auto_columns": null,
            "grid_auto_flow": null,
            "grid_auto_rows": null,
            "grid_column": null,
            "grid_gap": null,
            "grid_row": null,
            "grid_template_areas": null,
            "grid_template_columns": null,
            "grid_template_rows": null,
            "height": null,
            "justify_content": null,
            "justify_items": null,
            "left": null,
            "margin": null,
            "max_height": null,
            "max_width": null,
            "min_height": null,
            "min_width": null,
            "object_fit": null,
            "object_position": null,
            "order": null,
            "overflow": null,
            "overflow_x": null,
            "overflow_y": null,
            "padding": null,
            "right": null,
            "top": null,
            "visibility": null,
            "width": null
          }
        },
        "e192c5602e1d4fe4a50dabbc2920c58f": {
          "model_module": "@jupyter-widgets/base",
          "model_name": "LayoutModel",
          "model_module_version": "1.2.0",
          "state": {
            "_model_module": "@jupyter-widgets/base",
            "_model_module_version": "1.2.0",
            "_model_name": "LayoutModel",
            "_view_count": null,
            "_view_module": "@jupyter-widgets/base",
            "_view_module_version": "1.2.0",
            "_view_name": "LayoutView",
            "align_content": null,
            "align_items": null,
            "align_self": null,
            "border": null,
            "bottom": null,
            "display": null,
            "flex": null,
            "flex_flow": null,
            "grid_area": null,
            "grid_auto_columns": null,
            "grid_auto_flow": null,
            "grid_auto_rows": null,
            "grid_column": null,
            "grid_gap": null,
            "grid_row": null,
            "grid_template_areas": null,
            "grid_template_columns": null,
            "grid_template_rows": null,
            "height": null,
            "justify_content": null,
            "justify_items": null,
            "left": null,
            "margin": null,
            "max_height": null,
            "max_width": null,
            "min_height": null,
            "min_width": null,
            "object_fit": null,
            "object_position": null,
            "order": null,
            "overflow": null,
            "overflow_x": null,
            "overflow_y": null,
            "padding": null,
            "right": null,
            "top": null,
            "visibility": null,
            "width": null
          }
        },
        "2bb2a4eab0fa4dfa92800bc5da84fa91": {
          "model_module": "@jupyter-widgets/controls",
          "model_name": "DescriptionStyleModel",
          "model_module_version": "1.5.0",
          "state": {
            "_model_module": "@jupyter-widgets/controls",
            "_model_module_version": "1.5.0",
            "_model_name": "DescriptionStyleModel",
            "_view_count": null,
            "_view_module": "@jupyter-widgets/base",
            "_view_module_version": "1.2.0",
            "_view_name": "StyleView",
            "description_width": ""
          }
        },
        "8371859850b94c948b2113db958ebcba": {
          "model_module": "@jupyter-widgets/base",
          "model_name": "LayoutModel",
          "model_module_version": "1.2.0",
          "state": {
            "_model_module": "@jupyter-widgets/base",
            "_model_module_version": "1.2.0",
            "_model_name": "LayoutModel",
            "_view_count": null,
            "_view_module": "@jupyter-widgets/base",
            "_view_module_version": "1.2.0",
            "_view_name": "LayoutView",
            "align_content": null,
            "align_items": null,
            "align_self": null,
            "border": null,
            "bottom": null,
            "display": null,
            "flex": null,
            "flex_flow": null,
            "grid_area": null,
            "grid_auto_columns": null,
            "grid_auto_flow": null,
            "grid_auto_rows": null,
            "grid_column": null,
            "grid_gap": null,
            "grid_row": null,
            "grid_template_areas": null,
            "grid_template_columns": null,
            "grid_template_rows": null,
            "height": null,
            "justify_content": null,
            "justify_items": null,
            "left": null,
            "margin": null,
            "max_height": null,
            "max_width": null,
            "min_height": null,
            "min_width": null,
            "object_fit": null,
            "object_position": null,
            "order": null,
            "overflow": null,
            "overflow_x": null,
            "overflow_y": null,
            "padding": null,
            "right": null,
            "top": null,
            "visibility": null,
            "width": null
          }
        },
        "75309e45234e4bac90e1840e6a52928b": {
          "model_module": "@jupyter-widgets/controls",
          "model_name": "ProgressStyleModel",
          "model_module_version": "1.5.0",
          "state": {
            "_model_module": "@jupyter-widgets/controls",
            "_model_module_version": "1.5.0",
            "_model_name": "ProgressStyleModel",
            "_view_count": null,
            "_view_module": "@jupyter-widgets/base",
            "_view_module_version": "1.2.0",
            "_view_name": "StyleView",
            "bar_color": null,
            "description_width": ""
          }
        },
        "bae5cbf792bb49c4bea586dfae40fdcb": {
          "model_module": "@jupyter-widgets/base",
          "model_name": "LayoutModel",
          "model_module_version": "1.2.0",
          "state": {
            "_model_module": "@jupyter-widgets/base",
            "_model_module_version": "1.2.0",
            "_model_name": "LayoutModel",
            "_view_count": null,
            "_view_module": "@jupyter-widgets/base",
            "_view_module_version": "1.2.0",
            "_view_name": "LayoutView",
            "align_content": null,
            "align_items": null,
            "align_self": null,
            "border": null,
            "bottom": null,
            "display": null,
            "flex": null,
            "flex_flow": null,
            "grid_area": null,
            "grid_auto_columns": null,
            "grid_auto_flow": null,
            "grid_auto_rows": null,
            "grid_column": null,
            "grid_gap": null,
            "grid_row": null,
            "grid_template_areas": null,
            "grid_template_columns": null,
            "grid_template_rows": null,
            "height": null,
            "justify_content": null,
            "justify_items": null,
            "left": null,
            "margin": null,
            "max_height": null,
            "max_width": null,
            "min_height": null,
            "min_width": null,
            "object_fit": null,
            "object_position": null,
            "order": null,
            "overflow": null,
            "overflow_x": null,
            "overflow_y": null,
            "padding": null,
            "right": null,
            "top": null,
            "visibility": null,
            "width": null
          }
        },
        "aaf7d332aea74dfeb215024e1e652399": {
          "model_module": "@jupyter-widgets/controls",
          "model_name": "DescriptionStyleModel",
          "model_module_version": "1.5.0",
          "state": {
            "_model_module": "@jupyter-widgets/controls",
            "_model_module_version": "1.5.0",
            "_model_name": "DescriptionStyleModel",
            "_view_count": null,
            "_view_module": "@jupyter-widgets/base",
            "_view_module_version": "1.2.0",
            "_view_name": "StyleView",
            "description_width": ""
          }
        },
        "0868d79d311c452c9c7ba56ad847ed35": {
          "model_module": "@jupyter-widgets/controls",
          "model_name": "HBoxModel",
          "model_module_version": "1.5.0",
          "state": {
            "_dom_classes": [],
            "_model_module": "@jupyter-widgets/controls",
            "_model_module_version": "1.5.0",
            "_model_name": "HBoxModel",
            "_view_count": null,
            "_view_module": "@jupyter-widgets/controls",
            "_view_module_version": "1.5.0",
            "_view_name": "HBoxView",
            "box_style": "",
            "children": [
              "IPY_MODEL_c8489d1e10ed475c8c8ec207d5e65708",
              "IPY_MODEL_c9eb68efc9a3466d9ddf36b21f4d60c1",
              "IPY_MODEL_d21b194507fb401b8bd73df643337522"
            ],
            "layout": "IPY_MODEL_d575003b869949a5bb9a4b29999f57bd"
          }
        },
        "c8489d1e10ed475c8c8ec207d5e65708": {
          "model_module": "@jupyter-widgets/controls",
          "model_name": "HTMLModel",
          "model_module_version": "1.5.0",
          "state": {
            "_dom_classes": [],
            "_model_module": "@jupyter-widgets/controls",
            "_model_module_version": "1.5.0",
            "_model_name": "HTMLModel",
            "_view_count": null,
            "_view_module": "@jupyter-widgets/controls",
            "_view_module_version": "1.5.0",
            "_view_name": "HTMLView",
            "description": "",
            "description_tooltip": null,
            "layout": "IPY_MODEL_4879091f5d5241c999f9fb09aa555124",
            "placeholder": "​",
            "style": "IPY_MODEL_40b1daf37d544d8bbace5f84fba04ca2",
            "value": "Downloading: 100%"
          }
        },
        "c9eb68efc9a3466d9ddf36b21f4d60c1": {
          "model_module": "@jupyter-widgets/controls",
          "model_name": "FloatProgressModel",
          "model_module_version": "1.5.0",
          "state": {
            "_dom_classes": [],
            "_model_module": "@jupyter-widgets/controls",
            "_model_module_version": "1.5.0",
            "_model_name": "FloatProgressModel",
            "_view_count": null,
            "_view_module": "@jupyter-widgets/controls",
            "_view_module_version": "1.5.0",
            "_view_name": "ProgressView",
            "bar_style": "success",
            "description": "",
            "description_tooltip": null,
            "layout": "IPY_MODEL_97120aebb05342c1b980601b283826e1",
            "max": 1355256,
            "min": 0,
            "orientation": "horizontal",
            "style": "IPY_MODEL_19b18e3b3ea640dfb725a9f357dfcc97",
            "value": 1355256
          }
        },
        "d21b194507fb401b8bd73df643337522": {
          "model_module": "@jupyter-widgets/controls",
          "model_name": "HTMLModel",
          "model_module_version": "1.5.0",
          "state": {
            "_dom_classes": [],
            "_model_module": "@jupyter-widgets/controls",
            "_model_module_version": "1.5.0",
            "_model_name": "HTMLModel",
            "_view_count": null,
            "_view_module": "@jupyter-widgets/controls",
            "_view_module_version": "1.5.0",
            "_view_name": "HTMLView",
            "description": "",
            "description_tooltip": null,
            "layout": "IPY_MODEL_7bf179da091d475eb8d56dfec5dd1091",
            "placeholder": "​",
            "style": "IPY_MODEL_3c8f29139bf34f1389d5cc35e2aeaa29",
            "value": " 1.36M/1.36M [00:01&lt;00:00, 926kB/s]"
          }
        },
        "d575003b869949a5bb9a4b29999f57bd": {
          "model_module": "@jupyter-widgets/base",
          "model_name": "LayoutModel",
          "model_module_version": "1.2.0",
          "state": {
            "_model_module": "@jupyter-widgets/base",
            "_model_module_version": "1.2.0",
            "_model_name": "LayoutModel",
            "_view_count": null,
            "_view_module": "@jupyter-widgets/base",
            "_view_module_version": "1.2.0",
            "_view_name": "LayoutView",
            "align_content": null,
            "align_items": null,
            "align_self": null,
            "border": null,
            "bottom": null,
            "display": null,
            "flex": null,
            "flex_flow": null,
            "grid_area": null,
            "grid_auto_columns": null,
            "grid_auto_flow": null,
            "grid_auto_rows": null,
            "grid_column": null,
            "grid_gap": null,
            "grid_row": null,
            "grid_template_areas": null,
            "grid_template_columns": null,
            "grid_template_rows": null,
            "height": null,
            "justify_content": null,
            "justify_items": null,
            "left": null,
            "margin": null,
            "max_height": null,
            "max_width": null,
            "min_height": null,
            "min_width": null,
            "object_fit": null,
            "object_position": null,
            "order": null,
            "overflow": null,
            "overflow_x": null,
            "overflow_y": null,
            "padding": null,
            "right": null,
            "top": null,
            "visibility": null,
            "width": null
          }
        },
        "4879091f5d5241c999f9fb09aa555124": {
          "model_module": "@jupyter-widgets/base",
          "model_name": "LayoutModel",
          "model_module_version": "1.2.0",
          "state": {
            "_model_module": "@jupyter-widgets/base",
            "_model_module_version": "1.2.0",
            "_model_name": "LayoutModel",
            "_view_count": null,
            "_view_module": "@jupyter-widgets/base",
            "_view_module_version": "1.2.0",
            "_view_name": "LayoutView",
            "align_content": null,
            "align_items": null,
            "align_self": null,
            "border": null,
            "bottom": null,
            "display": null,
            "flex": null,
            "flex_flow": null,
            "grid_area": null,
            "grid_auto_columns": null,
            "grid_auto_flow": null,
            "grid_auto_rows": null,
            "grid_column": null,
            "grid_gap": null,
            "grid_row": null,
            "grid_template_areas": null,
            "grid_template_columns": null,
            "grid_template_rows": null,
            "height": null,
            "justify_content": null,
            "justify_items": null,
            "left": null,
            "margin": null,
            "max_height": null,
            "max_width": null,
            "min_height": null,
            "min_width": null,
            "object_fit": null,
            "object_position": null,
            "order": null,
            "overflow": null,
            "overflow_x": null,
            "overflow_y": null,
            "padding": null,
            "right": null,
            "top": null,
            "visibility": null,
            "width": null
          }
        },
        "40b1daf37d544d8bbace5f84fba04ca2": {
          "model_module": "@jupyter-widgets/controls",
          "model_name": "DescriptionStyleModel",
          "model_module_version": "1.5.0",
          "state": {
            "_model_module": "@jupyter-widgets/controls",
            "_model_module_version": "1.5.0",
            "_model_name": "DescriptionStyleModel",
            "_view_count": null,
            "_view_module": "@jupyter-widgets/base",
            "_view_module_version": "1.2.0",
            "_view_name": "StyleView",
            "description_width": ""
          }
        },
        "97120aebb05342c1b980601b283826e1": {
          "model_module": "@jupyter-widgets/base",
          "model_name": "LayoutModel",
          "model_module_version": "1.2.0",
          "state": {
            "_model_module": "@jupyter-widgets/base",
            "_model_module_version": "1.2.0",
            "_model_name": "LayoutModel",
            "_view_count": null,
            "_view_module": "@jupyter-widgets/base",
            "_view_module_version": "1.2.0",
            "_view_name": "LayoutView",
            "align_content": null,
            "align_items": null,
            "align_self": null,
            "border": null,
            "bottom": null,
            "display": null,
            "flex": null,
            "flex_flow": null,
            "grid_area": null,
            "grid_auto_columns": null,
            "grid_auto_flow": null,
            "grid_auto_rows": null,
            "grid_column": null,
            "grid_gap": null,
            "grid_row": null,
            "grid_template_areas": null,
            "grid_template_columns": null,
            "grid_template_rows": null,
            "height": null,
            "justify_content": null,
            "justify_items": null,
            "left": null,
            "margin": null,
            "max_height": null,
            "max_width": null,
            "min_height": null,
            "min_width": null,
            "object_fit": null,
            "object_position": null,
            "order": null,
            "overflow": null,
            "overflow_x": null,
            "overflow_y": null,
            "padding": null,
            "right": null,
            "top": null,
            "visibility": null,
            "width": null
          }
        },
        "19b18e3b3ea640dfb725a9f357dfcc97": {
          "model_module": "@jupyter-widgets/controls",
          "model_name": "ProgressStyleModel",
          "model_module_version": "1.5.0",
          "state": {
            "_model_module": "@jupyter-widgets/controls",
            "_model_module_version": "1.5.0",
            "_model_name": "ProgressStyleModel",
            "_view_count": null,
            "_view_module": "@jupyter-widgets/base",
            "_view_module_version": "1.2.0",
            "_view_name": "StyleView",
            "bar_color": null,
            "description_width": ""
          }
        },
        "7bf179da091d475eb8d56dfec5dd1091": {
          "model_module": "@jupyter-widgets/base",
          "model_name": "LayoutModel",
          "model_module_version": "1.2.0",
          "state": {
            "_model_module": "@jupyter-widgets/base",
            "_model_module_version": "1.2.0",
            "_model_name": "LayoutModel",
            "_view_count": null,
            "_view_module": "@jupyter-widgets/base",
            "_view_module_version": "1.2.0",
            "_view_name": "LayoutView",
            "align_content": null,
            "align_items": null,
            "align_self": null,
            "border": null,
            "bottom": null,
            "display": null,
            "flex": null,
            "flex_flow": null,
            "grid_area": null,
            "grid_auto_columns": null,
            "grid_auto_flow": null,
            "grid_auto_rows": null,
            "grid_column": null,
            "grid_gap": null,
            "grid_row": null,
            "grid_template_areas": null,
            "grid_template_columns": null,
            "grid_template_rows": null,
            "height": null,
            "justify_content": null,
            "justify_items": null,
            "left": null,
            "margin": null,
            "max_height": null,
            "max_width": null,
            "min_height": null,
            "min_width": null,
            "object_fit": null,
            "object_position": null,
            "order": null,
            "overflow": null,
            "overflow_x": null,
            "overflow_y": null,
            "padding": null,
            "right": null,
            "top": null,
            "visibility": null,
            "width": null
          }
        },
        "3c8f29139bf34f1389d5cc35e2aeaa29": {
          "model_module": "@jupyter-widgets/controls",
          "model_name": "DescriptionStyleModel",
          "model_module_version": "1.5.0",
          "state": {
            "_model_module": "@jupyter-widgets/controls",
            "_model_module_version": "1.5.0",
            "_model_name": "DescriptionStyleModel",
            "_view_count": null,
            "_view_module": "@jupyter-widgets/base",
            "_view_module_version": "1.2.0",
            "_view_name": "StyleView",
            "description_width": ""
          }
        }
      }
    },
    "accelerator": "GPU"
  },
  "cells": [
    {
      "cell_type": "code",
      "execution_count": null,
      "metadata": {
        "colab": {
          "base_uri": "https://localhost:8080/"
        },
        "id": "WGVZJRb5YeT8",
        "outputId": "8bcf4207-6f4d-4b62-c8f2-6c6f0aa9b40b"
      },
      "outputs": [
        {
          "output_type": "stream",
          "name": "stdout",
          "text": [
            "--2022-10-22 14:42:51--  https://docs.google.com/uc?export=download&id=15QxD-ZNrVypq9sDP4GC6vShlfdeDjMpL\n",
            "Resolving docs.google.com (docs.google.com)... 142.250.1.113, 142.250.1.138, 142.250.1.139, ...\n",
            "Connecting to docs.google.com (docs.google.com)|142.250.1.113|:443... connected.\n",
            "HTTP request sent, awaiting response... 303 See Other\n",
            "Location: https://doc-10-58-docs.googleusercontent.com/docs/securesc/ha0ro937gcuc7l7deffksulhg5h7mbp1/ji1krsc90ln0c9e2q6ln2ih7ai93vs39/1666449750000/15660547828700774342/*/15QxD-ZNrVypq9sDP4GC6vShlfdeDjMpL?e=download&uuid=1e105c3f-8315-4897-9133-5971befe6a24 [following]\n",
            "Warning: wildcards not supported in HTTP.\n",
            "--2022-10-22 14:42:52--  https://doc-10-58-docs.googleusercontent.com/docs/securesc/ha0ro937gcuc7l7deffksulhg5h7mbp1/ji1krsc90ln0c9e2q6ln2ih7ai93vs39/1666449750000/15660547828700774342/*/15QxD-ZNrVypq9sDP4GC6vShlfdeDjMpL?e=download&uuid=1e105c3f-8315-4897-9133-5971befe6a24\n",
            "Resolving doc-10-58-docs.googleusercontent.com (doc-10-58-docs.googleusercontent.com)... 74.125.202.132, 2607:f8b0:4001:c06::84\n",
            "Connecting to doc-10-58-docs.googleusercontent.com (doc-10-58-docs.googleusercontent.com)|74.125.202.132|:443... connected.\n",
            "HTTP request sent, awaiting response... 200 OK\n",
            "Length: 492161 (481K) [text/plain]\n",
            "Saving to: ‘book.txt’\n",
            "\n",
            "book.txt            100%[===================>] 480.63K  --.-KB/s    in 0.004s  \n",
            "\n",
            "2022-10-22 14:42:52 (119 MB/s) - ‘book.txt’ saved [492161/492161]\n",
            "\n"
          ]
        }
      ],
      "source": [
        "!wget --no-check-certificate 'https://docs.google.com/uc?export=download&id=15QxD-ZNrVypq9sDP4GC6vShlfdeDjMpL' -O book.txt"
      ]
    },
    {
      "cell_type": "code",
      "source": [
        "!pip install -qq keras_nlp transformers"
      ],
      "metadata": {
        "id": "8RLHJiqImyQJ",
        "colab": {
          "base_uri": "https://localhost:8080/"
        },
        "outputId": "efdbca61-cd1f-485c-eaaf-1ae31ca0da51"
      },
      "execution_count": null,
      "outputs": [
        {
          "output_type": "stream",
          "name": "stdout",
          "text": [
            "\u001b[K     |████████████████████████████████| 142 kB 4.1 MB/s \n",
            "\u001b[K     |████████████████████████████████| 5.3 MB 37.0 MB/s \n",
            "\u001b[K     |████████████████████████████████| 5.9 MB 46.3 MB/s \n",
            "\u001b[K     |████████████████████████████████| 163 kB 33.1 MB/s \n",
            "\u001b[K     |████████████████████████████████| 7.6 MB 49.4 MB/s \n",
            "\u001b[K     |████████████████████████████████| 578.0 MB 12 kB/s \n",
            "\u001b[K     |████████████████████████████████| 4.6 MB 42.3 MB/s \n",
            "\u001b[?25h"
          ]
        }
      ]
    },
    {
      "cell_type": "code",
      "source": [
        "import numpy as np\n",
        "import re\n",
        "import string\n",
        "import tensorflow as tf"
      ],
      "metadata": {
        "id": "FmHydB1tmwpM"
      },
      "execution_count": null,
      "outputs": []
    },
    {
      "cell_type": "code",
      "source": [
        "def preprocessor(text):  # не обязательный шаг, в Tokenizer встроено большинство фильтров (так проще только в данной задаче, чтобы не включать в строчки текста ненужные токены)\n",
        "    chars = re.escape(string.punctuation)\n",
        "    text = re.sub(r'['+chars+']', '', text)\n",
        "    text = re.sub('\\’', '', text)\n",
        "    text = re.sub('<[^>]*>', '', text)\n",
        "    text = re.sub('[\\W]+', ' ', text.lower())\n",
        "    text = re.sub(r'[^\\w]', ' ', text)\n",
        "    text = re.sub(r\"[^a-zA-Z0-9]+\", ' ', text)\n",
        "    return text.strip()"
      ],
      "metadata": {
        "id": "3NExXWDxujEc"
      },
      "execution_count": null,
      "outputs": []
    },
    {
      "cell_type": "code",
      "source": [
        "text = open(\"book.txt\").read().replace(\"\\n\", \"\").lower()\n",
        "text = preprocessor(text)\n",
        "text[:250]"
      ],
      "metadata": {
        "id": "vx79nh7yYhkY",
        "colab": {
          "base_uri": "https://localhost:8080/",
          "height": 53
        },
        "outputId": "fd7a8ae3-b7dc-47e9-ada2-768df8ccc4dd"
      },
      "execution_count": null,
      "outputs": [
        {
          "output_type": "execute_result",
          "data": {
            "text/plain": [
              "'the boy who lived mr and mrs dursley of number four privet drive were proud to say that they were perfectly normal thank you very much they were the last people youd expect to be involved in anything strange or mysterious because they just didnt hold'"
            ],
            "application/vnd.google.colaboratory.intrinsic+json": {
              "type": "string"
            }
          },
          "metadata": {},
          "execution_count": 4
        }
      ]
    },
    {
      "cell_type": "markdown",
      "source": [
        "**Simple Baseline**"
      ],
      "metadata": {
        "id": "9HxvvSAJ5yAi"
      }
    },
    {
      "cell_type": "code",
      "source": [
        "tokenizer = tf.keras.preprocessing.text.Tokenizer(num_words=5000)\n",
        "tokenizer.fit_on_texts([text])"
      ],
      "metadata": {
        "id": "10bxhElCvieA"
      },
      "execution_count": null,
      "outputs": []
    },
    {
      "cell_type": "code",
      "source": [
        "tokenizer.word_index[\"mysterious\"]"
      ],
      "metadata": {
        "colab": {
          "base_uri": "https://localhost:8080/"
        },
        "id": "FBqQJjepvr4z",
        "outputId": "a27cf903-bd6d-4b84-d1d8-f21f5fd332fc"
      },
      "execution_count": null,
      "outputs": [
        {
          "output_type": "execute_result",
          "data": {
            "text/plain": [
              "1363"
            ]
          },
          "metadata": {},
          "execution_count": 6
        }
      ]
    },
    {
      "cell_type": "code",
      "source": [
        "seq_len = 11\n",
        "text_list = text.split() \n",
        "\n",
        "sequences = []\n",
        "for i in range(0, len(text_list) - seq_len, seq_len):\n",
        "    sequences.append(\" \".join(text_list[i:i+seq_len]))"
      ],
      "metadata": {
        "id": "VK9EPGJIzuwp"
      },
      "execution_count": null,
      "outputs": []
    },
    {
      "cell_type": "code",
      "source": [
        "input_sequences = []\n",
        "for line in sequences:\n",
        "\ttoken_list = tokenizer.texts_to_sequences([line])[0]\n",
        "\tfor i in range(1, len(token_list)):\n",
        "\t\tn_gram_sequence = token_list[:i+1]\n",
        "\t\tinput_sequences.append(n_gram_sequence)"
      ],
      "metadata": {
        "id": "1i6NxTYMzmiw"
      },
      "execution_count": null,
      "outputs": []
    },
    {
      "cell_type": "code",
      "source": [
        "input_sequences = np.array(tf.keras.preprocessing.sequence.pad_sequences(input_sequences, maxlen=seq_len, padding='pre'))"
      ],
      "metadata": {
        "id": "Fhiz1a7l1H1C"
      },
      "execution_count": null,
      "outputs": []
    },
    {
      "cell_type": "code",
      "source": [
        "vocab_size = len(tokenizer.word_index) + 1\n",
        "inputs, targets = input_sequences[:, :-1], input_sequences[:, -1]\n",
        "\n",
        "targets = tf.keras.utils.to_categorical(targets, num_classes=vocab_size)"
      ],
      "metadata": {
        "id": "e_LUgMc3lWhx"
      },
      "execution_count": null,
      "outputs": []
    },
    {
      "cell_type": "code",
      "source": [
        "model = tf.keras.Sequential([\n",
        "    tf.keras.layers.Embedding(vocab_size, 128),\n",
        "    tf.keras.layers.Bidirectional(tf.keras.layers.LSTM(64, return_sequences=False)),  # True if 2 LSTMs\n",
        "    #tf.keras.layers.LSTM(32),\n",
        "    tf.keras.layers.Dropout(0.5),\n",
        "    #tf.keras.layers.Dense(vocab_size//2, activation=\"relu\", kernel_regularizer=tf.keras.regularizers.l2(0.001)),\n",
        "    tf.keras.layers.Dense(vocab_size, activation=\"softmax\")\n",
        "])\n",
        "model.summary()"
      ],
      "metadata": {
        "colab": {
          "base_uri": "https://localhost:8080/"
        },
        "id": "WFm95NT-1f8d",
        "outputId": "1f9ee821-2722-42d1-ad0a-916f4712b0aa"
      },
      "execution_count": null,
      "outputs": [
        {
          "output_type": "stream",
          "name": "stdout",
          "text": [
            "Model: \"sequential_4\"\n",
            "_________________________________________________________________\n",
            " Layer (type)                Output Shape              Param #   \n",
            "=================================================================\n",
            " embedding_4 (Embedding)     (None, None, 128)         812416    \n",
            "                                                                 \n",
            " bidirectional_1 (Bidirectio  (None, 128)              98816     \n",
            " nal)                                                            \n",
            "                                                                 \n",
            " dropout_4 (Dropout)         (None, 128)               0         \n",
            "                                                                 \n",
            " dense_7 (Dense)             (None, 6347)              818763    \n",
            "                                                                 \n",
            "=================================================================\n",
            "Total params: 1,729,995\n",
            "Trainable params: 1,729,995\n",
            "Non-trainable params: 0\n",
            "_________________________________________________________________\n"
          ]
        }
      ]
    },
    {
      "cell_type": "code",
      "source": [
        "model.compile(loss='categorical_crossentropy', optimizer='adam', metrics=['accuracy'])\n",
        "\n",
        "callbacks = [\n",
        "             tf.keras.callbacks.ReduceLROnPlateau(patience=3),\n",
        "             tf.keras.callbacks.EarlyStopping(monitor='val_loss', patience=7, restore_best_weights=True),\n",
        "            ]"
      ],
      "metadata": {
        "id": "LtOHlhWZ4XfT"
      },
      "execution_count": null,
      "outputs": []
    },
    {
      "cell_type": "code",
      "source": [
        "history = model.fit(inputs, targets, epochs=100, validation_split=0.2, callbacks=callbacks, verbose=1)"
      ],
      "metadata": {
        "colab": {
          "base_uri": "https://localhost:8080/"
        },
        "id": "m14J1Y664hns",
        "outputId": "6735d25d-1d9a-48b9-8ee5-b0ad8c3e5f1e"
      },
      "execution_count": null,
      "outputs": [
        {
          "output_type": "stream",
          "name": "stdout",
          "text": [
            "Epoch 1/100\n",
            "1810/1810 [==============================] - 19s 9ms/step - loss: 6.5765 - accuracy: 0.0565 - val_loss: 6.2603 - val_accuracy: 0.0719 - lr: 0.0010\n",
            "Epoch 2/100\n",
            "1810/1810 [==============================] - 15s 8ms/step - loss: 6.1311 - accuracy: 0.0933 - val_loss: 6.0368 - val_accuracy: 0.1031 - lr: 0.0010\n",
            "Epoch 3/100\n",
            "1810/1810 [==============================] - 15s 8ms/step - loss: 5.8604 - accuracy: 0.1170 - val_loss: 5.8770 - val_accuracy: 0.1162 - lr: 0.0010\n",
            "Epoch 4/100\n",
            "1810/1810 [==============================] - 15s 8ms/step - loss: 5.6276 - accuracy: 0.1343 - val_loss: 5.8003 - val_accuracy: 0.1232 - lr: 0.0010\n",
            "Epoch 5/100\n",
            "1810/1810 [==============================] - 15s 8ms/step - loss: 5.4430 - accuracy: 0.1452 - val_loss: 5.7265 - val_accuracy: 0.1328 - lr: 0.0010\n",
            "Epoch 6/100\n",
            "1810/1810 [==============================] - 15s 8ms/step - loss: 5.2811 - accuracy: 0.1532 - val_loss: 5.7238 - val_accuracy: 0.1342 - lr: 0.0010\n",
            "Epoch 7/100\n",
            "1810/1810 [==============================] - 15s 9ms/step - loss: 5.1336 - accuracy: 0.1603 - val_loss: 5.7126 - val_accuracy: 0.1366 - lr: 0.0010\n",
            "Epoch 8/100\n",
            "1810/1810 [==============================] - 15s 8ms/step - loss: 5.0025 - accuracy: 0.1698 - val_loss: 5.7185 - val_accuracy: 0.1394 - lr: 0.0010\n",
            "Epoch 9/100\n",
            "1810/1810 [==============================] - 15s 8ms/step - loss: 4.8783 - accuracy: 0.1794 - val_loss: 5.7828 - val_accuracy: 0.1400 - lr: 0.0010\n",
            "Epoch 10/100\n",
            "1810/1810 [==============================] - 15s 8ms/step - loss: 4.7595 - accuracy: 0.1855 - val_loss: 5.7956 - val_accuracy: 0.1418 - lr: 0.0010\n",
            "Epoch 11/100\n",
            "1810/1810 [==============================] - 15s 8ms/step - loss: 4.5189 - accuracy: 0.2051 - val_loss: 5.8484 - val_accuracy: 0.1412 - lr: 1.0000e-04\n",
            "Epoch 12/100\n",
            "1810/1810 [==============================] - 15s 8ms/step - loss: 4.4792 - accuracy: 0.2076 - val_loss: 5.8563 - val_accuracy: 0.1404 - lr: 1.0000e-04\n",
            "Epoch 13/100\n",
            "1810/1810 [==============================] - 15s 8ms/step - loss: 4.4611 - accuracy: 0.2105 - val_loss: 5.8773 - val_accuracy: 0.1403 - lr: 1.0000e-04\n",
            "Epoch 14/100\n",
            "1810/1810 [==============================] - 15s 8ms/step - loss: 4.4286 - accuracy: 0.2125 - val_loss: 5.8805 - val_accuracy: 0.1406 - lr: 1.0000e-05\n"
          ]
        }
      ]
    },
    {
      "cell_type": "code",
      "source": [
        "# predictions\n",
        "\n",
        "start_sample = \"harry took magic talking hat in his hands\"\n",
        "\n",
        "next_words = 17\n",
        "  \n",
        "for _ in range(next_words):\n",
        "    token_list = tokenizer.texts_to_sequences([start_sample])[0]\n",
        "    token_list = tf.keras.preprocessing.sequence.pad_sequences([token_list], maxlen=seq_len-1, padding='pre')\n",
        "    predicted = model.predict(token_list, verbose=0)\n",
        "    predicted_idx = np.argmax(predicted)\n",
        "    output_word = \"\"\n",
        "    for word, index in tokenizer.word_index.items():\n",
        "        if index == predicted_idx:\n",
        "            output_word = word\n",
        "            break\n",
        "    start_sample += \" \" + output_word\n",
        "print(start_sample)"
      ],
      "metadata": {
        "colab": {
          "base_uri": "https://localhost:8080/"
        },
        "id": "pzJMRJCC1f6f",
        "outputId": "29600887-db5a-43b8-ea18-4d6526b63323"
      },
      "execution_count": null,
      "outputs": [
        {
          "output_type": "stream",
          "name": "stdout",
          "text": [
            "harry took magic talking hat in his hands and a few of the hall and the daily plants and the corridor and the philosophers stone\n"
          ]
        }
      ]
    },
    {
      "cell_type": "markdown",
      "source": [
        "Снизив размер словаря с 10000 до 5000 соответственно качество немного повыилось. Как и всегда нужно проверять большое число гипотез (если нет твердой интуиции) и выбирать лучший вариант."
      ],
      "metadata": {
        "id": "X3CdFl8TCeZE"
      }
    },
    {
      "cell_type": "markdown",
      "source": [
        "**Transformers**"
      ],
      "metadata": {
        "id": "Yqs3vG2N50Tx"
      }
    },
    {
      "cell_type": "code",
      "source": [
        "import keras_nlp"
      ],
      "metadata": {
        "id": "gY-R_6ww1f0W"
      },
      "execution_count": null,
      "outputs": []
    },
    {
      "cell_type": "code",
      "source": [
        "BATCH_SIZE = 64\n",
        "SEQ_LEN = 128\n",
        "MIN_TRAINING_SEQ_LEN = 20  # маленькое значение - скорее всего даст абра-кадабру на предикте, больше не получится из-за маленького сплита текста\n",
        "\n",
        "EMBED_DIM = 256\n",
        "FEED_FORWARD_DIM = 256\n",
        "NUM_HEADS = 3  # количество голов в MHA\n",
        "NUM_LAYERS = 2  # количество слоев трансформера - декодера\n",
        "VOCAB_SIZE = 5000\n",
        "\n",
        "EPOCHS = 5\n",
        "\n",
        "NUM_TOKENS_TO_GENERATE = 60"
      ],
      "metadata": {
        "id": "230g6GeOFI6-"
      },
      "execution_count": null,
      "outputs": []
    },
    {
      "cell_type": "code",
      "source": [
        "text = open(\"book.txt\").read().lower()\n",
        "\"\"\"\n",
        "text = text..replace(\"\\n\", \"\").split()\n",
        "new_text = []\n",
        "for i in range(0, len(text) - 100, 100):\n",
        "    new_text.extend(text[i:i+100] + [\"\\n\"])\n",
        "text = \" \".join(new_text)\n",
        "\"\"\"\n",
        "boundary = int(len(text) * 0.8)\n",
        "text_train = text[:boundary]\n",
        "text_valid = text[boundary:]\n",
        "\n",
        "with open(\"book_train.txt\", \"w\") as infile:\n",
        "    infile.write(text_train)\n",
        "\n",
        "with open(\"book_valid.txt\", \"w\") as infile:\n",
        "    infile.write(text_valid)"
      ],
      "metadata": {
        "id": "UpCosib5Dszp"
      },
      "execution_count": null,
      "outputs": []
    },
    {
      "cell_type": "code",
      "source": [
        "def custom_standardization(input_data):\n",
        "    lowercase = tf.strings.lower(input_data)\n",
        "    lowercase = tf.strings.regex_replace(lowercase, \"<[^>]*>\", '') \n",
        "    lowercase = tf.strings.regex_replace(lowercase, \"[\\W]+\", ' ')\n",
        "    lowercase = tf.strings.regex_replace(lowercase, \"[^\\w]\", ' ')\n",
        "    lowercase = tf.strings.regex_replace(lowercase, \"[^a-zA-Z0-9]+\", ' ')\n",
        "    stripped_html = tf.strings.regex_replace(lowercase, '<br />', ' ')\n",
        "    return tf.strings.regex_replace(stripped_html, '[%s]' % re.escape(string.punctuation), '')"
      ],
      "metadata": {
        "id": "suz6kckZqnR1"
      },
      "execution_count": null,
      "outputs": []
    },
    {
      "cell_type": "code",
      "source": [
        "raw_train_ds = (\n",
        "    tf.data.TextLineDataset(\"book_train.txt\")\n",
        "    .filter(lambda x: tf.strings.length(x) > MIN_TRAINING_SEQ_LEN)\n",
        "    .map(lambda x: custom_standardization(x))\n",
        "    .batch(1)  # заменить на 1 если создаем словарь\n",
        "    .shuffle(buffer_size=256)\n",
        ")\n",
        "\n",
        "raw_valid_ds = (\n",
        "    tf.data.TextLineDataset(\"book_valid.txt\")\n",
        "    .filter(lambda x: tf.strings.length(x) > MIN_TRAINING_SEQ_LEN)\n",
        "    .map(lambda x: custom_standardization(x))\n",
        "    .batch(1)\n",
        "    .shuffle(buffer_size=256)\n",
        ")"
      ],
      "metadata": {
        "id": "2bafiO0tfg7f"
      },
      "execution_count": null,
      "outputs": []
    },
    {
      "cell_type": "code",
      "source": [
        "# в оригинальной статье приведен такой метод, но он в настоящее время не реализован в установочном пакете\n",
        "vocab = keras_nlp.tokenizers.compute_word_piece_vocabulary(\n",
        "    raw_train_ds,\n",
        "    vocabulary_size=VOCAB_SIZE,\n",
        "    suffix_indicator=\"##\",\n",
        "    reserved_tokens=[\"[PAD]\", \"[UNK]\", \"[BOS]\"],\n",
        ")"
      ],
      "metadata": {
        "id": "3uu0PtvMfg5i",
        "colab": {
          "base_uri": "https://localhost:8080/",
          "height": 236
        },
        "outputId": "a1eeaecb-b85a-426d-f96d-4907336e7580"
      },
      "execution_count": null,
      "outputs": [
        {
          "output_type": "error",
          "ename": "AttributeError",
          "evalue": "ignored",
          "traceback": [
            "\u001b[0;31m---------------------------------------------------------------------------\u001b[0m",
            "\u001b[0;31mAttributeError\u001b[0m                            Traceback (most recent call last)",
            "\u001b[0;32m<ipython-input-9-1778e3596434>\u001b[0m in \u001b[0;36m<module>\u001b[0;34m\u001b[0m\n\u001b[1;32m      1\u001b[0m \u001b[0;31m# в оригинальной статье приведен такой метод, но он в настоящее время не реализован в установочном пакете\u001b[0m\u001b[0;34m\u001b[0m\u001b[0;34m\u001b[0m\u001b[0;34m\u001b[0m\u001b[0m\n\u001b[0;32m----> 2\u001b[0;31m vocab = keras_nlp.tokenizers.compute_word_piece_vocabulary(\n\u001b[0m\u001b[1;32m      3\u001b[0m     \u001b[0mraw_train_ds\u001b[0m\u001b[0;34m,\u001b[0m\u001b[0;34m\u001b[0m\u001b[0;34m\u001b[0m\u001b[0m\n\u001b[1;32m      4\u001b[0m     \u001b[0mvocabulary_size\u001b[0m\u001b[0;34m=\u001b[0m\u001b[0mVOCAB_SIZE\u001b[0m\u001b[0;34m,\u001b[0m\u001b[0;34m\u001b[0m\u001b[0;34m\u001b[0m\u001b[0m\n\u001b[1;32m      5\u001b[0m     \u001b[0msuffix_indicator\u001b[0m\u001b[0;34m=\u001b[0m\u001b[0;34m\"##\"\u001b[0m\u001b[0;34m,\u001b[0m\u001b[0;34m\u001b[0m\u001b[0;34m\u001b[0m\u001b[0m\n",
            "\u001b[0;31mAttributeError\u001b[0m: module 'keras_nlp.tokenizers' has no attribute 'compute_word_piece_vocabulary'"
          ]
        }
      ]
    },
    {
      "cell_type": "code",
      "source": [
        "from tensorflow_text.tools.wordpiece_vocab import bert_vocab_from_dataset as bert_vocab"
      ],
      "metadata": {
        "id": "FMjZSoHJH2AT"
      },
      "execution_count": null,
      "outputs": []
    },
    {
      "cell_type": "code",
      "source": [
        "# создаем word-piece словарь, где различные части слов и популярные обороты заменены на ##\n",
        "bert_tokenizer_params=dict(lower_case=False)\n",
        "reserved_tokens=[\"[PAD]\", \"[UNK]\", \"[BOS]\"]\n",
        "\n",
        "bert_vocab_args = dict(\n",
        "    vocab_size = VOCAB_SIZE,\n",
        "    reserved_tokens=reserved_tokens,\n",
        "    bert_tokenizer_params=bert_tokenizer_params,\n",
        "    suffix_indicator='##',\n",
        "    learn_params={},\n",
        ")"
      ],
      "metadata": {
        "id": "ocj5OwpMJ-wh"
      },
      "execution_count": null,
      "outputs": []
    },
    {
      "cell_type": "code",
      "source": [
        "vocab = bert_vocab.bert_vocab_from_dataset(\n",
        "    raw_train_ds.batch(BATCH_SIZE).prefetch(2),\n",
        "    **bert_vocab_args\n",
        ")"
      ],
      "metadata": {
        "id": "mCXjFHMMKMot"
      },
      "execution_count": null,
      "outputs": []
    },
    {
      "cell_type": "code",
      "source": [
        "# создаем токенайзер, использующий подслова\n",
        "tokenizer = keras_nlp.tokenizers.WordPieceTokenizer(\n",
        "    vocabulary=vocab,\n",
        "    sequence_length=SEQ_LEN,\n",
        "    lowercase=True,\n",
        ")"
      ],
      "metadata": {
        "id": "VwZdYT9gMkpy"
      },
      "execution_count": null,
      "outputs": []
    },
    {
      "cell_type": "code",
      "source": [
        "# докидываем в последоватеьности [BOS] токен\n",
        "start_packer = keras_nlp.layers.StartEndPacker(\n",
        "    sequence_length=SEQ_LEN,\n",
        "    start_value=tokenizer.token_to_id(\"[BOS]\"),\n",
        ")"
      ],
      "metadata": {
        "id": "7wDNKZ02KTYl"
      },
      "execution_count": null,
      "outputs": []
    },
    {
      "cell_type": "code",
      "source": [
        "# криво, но пересоздаем датасеты\n",
        "raw_train_ds = (\n",
        "    tf.data.TextLineDataset(\"book_train.txt\")\n",
        "    .filter(lambda x: tf.strings.length(x) > 10)\n",
        "    .map(lambda x: custom_standardization(x))\n",
        "    .batch(BATCH_SIZE)  \n",
        "    .shuffle(buffer_size=256)\n",
        ")\n",
        "\n",
        "raw_valid_ds = (\n",
        "    tf.data.TextLineDataset(\"book_valid.txt\")\n",
        "    .filter(lambda x: tf.strings.length(x) > 10)\n",
        "    .map(lambda x: custom_standardization(x))\n",
        "    .batch(BATCH_SIZE)\n",
        "    .shuffle(buffer_size=256)\n",
        ")"
      ],
      "metadata": {
        "id": "kMUlGtP0PwnM"
      },
      "execution_count": null,
      "outputs": []
    },
    {
      "cell_type": "code",
      "source": [
        "# выделяем фичи и таргеты\n",
        "def preprocess(inputs):\n",
        "    outputs = tokenizer(inputs)\n",
        "    features = start_packer(outputs)\n",
        "    labels = outputs\n",
        "    return features, labels\n",
        "\n",
        "train_ds = raw_train_ds.map(preprocess, num_parallel_calls=tf.data.AUTOTUNE).prefetch(tf.data.AUTOTUNE)\n",
        "val_ds = raw_valid_ds.map(preprocess, num_parallel_calls=tf.data.AUTOTUNE).prefetch(tf.data.AUTOTUNE)"
      ],
      "metadata": {
        "id": "C1RbnPejGlCW"
      },
      "execution_count": null,
      "outputs": []
    },
    {
      "cell_type": "code",
      "source": [
        "inputs = tf.keras.layers.Input(shape=(None,), dtype=tf.int32)\n",
        "\n",
        "embedding_layer = keras_nlp.layers.TokenAndPositionEmbedding(  # к обычному слою эмбеддинга добавляется позиционное кодирование токенов, удобно!\n",
        "    vocabulary_size=VOCAB_SIZE,\n",
        "    sequence_length=SEQ_LEN,\n",
        "    embedding_dim=EMBED_DIM,\n",
        "    mask_zero=True,\n",
        ")\n",
        "x = embedding_layer(inputs)\n",
        "\n",
        "for _ in range(NUM_LAYERS):\n",
        "    decoder_layer = keras_nlp.layers.TransformerDecoder(\n",
        "        num_heads=NUM_HEADS,\n",
        "        intermediate_dim=FEED_FORWARD_DIM,\n",
        "    )\n",
        "    x = decoder_layer(x)  # без cross-attention: откуда ведь брать V и K из энкодера (он не используется)\n",
        "\n",
        "outputs = tf.keras.layers.Dense(VOCAB_SIZE)(x)\n",
        "model = tf.keras.Model(inputs=inputs, outputs=outputs)\n",
        "\n",
        "loss_fn = tf.keras.losses.SparseCategoricalCrossentropy(from_logits=True)\n",
        "perplexity = keras_nlp.metrics.Perplexity(from_logits=True, mask_token_id=0)  # измеряет качество генерации образца вероятностной моделью\n",
        "\n",
        "model.compile(optimizer=\"adam\", loss=loss_fn, metrics=[perplexity])"
      ],
      "metadata": {
        "id": "pVONc1gyGhrL"
      },
      "execution_count": null,
      "outputs": []
    },
    {
      "cell_type": "code",
      "source": [
        "model.summary()"
      ],
      "metadata": {
        "colab": {
          "base_uri": "https://localhost:8080/"
        },
        "id": "swuoKRxVOHC8",
        "outputId": "b9604c66-8c7b-4113-e8d2-2290b148e314"
      },
      "execution_count": null,
      "outputs": [
        {
          "output_type": "stream",
          "name": "stdout",
          "text": [
            "Model: \"model\"\n",
            "_________________________________________________________________\n",
            " Layer (type)                Output Shape              Param #   \n",
            "=================================================================\n",
            " input_1 (InputLayer)        [(None, None)]            0         \n",
            "                                                                 \n",
            " token_and_position_embeddin  (None, None, 256)        1312768   \n",
            " g (TokenAndPositionEmbeddin                                     \n",
            " g)                                                              \n",
            "                                                                 \n",
            " transformer_decoder (Transf  (None, None, 256)        394749    \n",
            " ormerDecoder)                                                   \n",
            "                                                                 \n",
            " transformer_decoder_1 (Tran  (None, None, 256)        394749    \n",
            " sformerDecoder)                                                 \n",
            "                                                                 \n",
            " dense (Dense)               (None, None, 5000)        1285000   \n",
            "                                                                 \n",
            "=================================================================\n",
            "Total params: 3,387,266\n",
            "Trainable params: 3,387,266\n",
            "Non-trainable params: 0\n",
            "_________________________________________________________________\n"
          ]
        }
      ]
    },
    {
      "cell_type": "code",
      "source": [
        "model.fit(train_ds, validation_data=val_ds, verbose=1, epochs=EPOCHS)"
      ],
      "metadata": {
        "colab": {
          "base_uri": "https://localhost:8080/"
        },
        "id": "olO_QHR7Gho1",
        "outputId": "e908baa6-8a02-49b0-dbc6-79eb709a4d4d"
      },
      "execution_count": null,
      "outputs": [
        {
          "output_type": "stream",
          "name": "stdout",
          "text": [
            "Epoch 1/5\n",
            "123/123 [==============================] - 15s 98ms/step - loss: 0.5790 - perplexity: 532.4481 - val_loss: 0.5284 - val_perplexity: 274.7203\n",
            "Epoch 2/5\n",
            "123/123 [==============================] - 10s 81ms/step - loss: 0.4740 - perplexity: 175.8292 - val_loss: 0.4609 - val_perplexity: 132.7377\n",
            "Epoch 3/5\n",
            "123/123 [==============================] - 10s 82ms/step - loss: 0.4220 - perplexity: 99.9960 - val_loss: 0.4398 - val_perplexity: 109.7115\n",
            "Epoch 4/5\n",
            "123/123 [==============================] - 11s 83ms/step - loss: 0.3922 - perplexity: 72.3802 - val_loss: 0.4346 - val_perplexity: 102.9027\n",
            "Epoch 5/5\n",
            "123/123 [==============================] - 11s 82ms/step - loss: 0.3691 - perplexity: 56.3931 - val_loss: 0.4334 - val_perplexity: 101.4454\n"
          ]
        },
        {
          "output_type": "execute_result",
          "data": {
            "text/plain": [
              "<keras.callbacks.History at 0x7f3d4c696710>"
            ]
          },
          "metadata": {},
          "execution_count": 72
        }
      ]
    },
    {
      "cell_type": "code",
      "source": [
        "prompt_tokens = tf.convert_to_tensor([tokenizer.token_to_id(\"[BOS]\")])\n",
        "\n",
        "def token_logits_fn(inputs):\n",
        "    cur_len = inputs.shape[1]\n",
        "    output = model(inputs)\n",
        "    return output[:, cur_len - 1, :]  "
      ],
      "metadata": {
        "id": "yLPOxN0OGhmS"
      },
      "execution_count": null,
      "outputs": []
    },
    {
      "cell_type": "code",
      "source": [
        "# диамически ищет наболее вероятные токены\n",
        "output_tokens = keras_nlp.utils.top_p_search(\n",
        "    token_logits_fn,\n",
        "    prompt_tokens,\n",
        "    max_length=NUM_TOKENS_TO_GENERATE,\n",
        "    p=0.9,\n",
        "    from_logits=True,\n",
        ")\n",
        "txt = tokenizer.detokenize(output_tokens)\n",
        "txt = re.sub(\"\\[(?:[^\\]|]*\\|)?([^\\]|]*)\\]\", '', txt.numpy().decode(\"utf-8\"))\n",
        "txt = re.sub(' +', ' ', txt).strip()\n",
        "print(f\"Top-P search generated text: \\n{txt}\\n\")"
      ],
      "metadata": {
        "colab": {
          "base_uri": "https://localhost:8080/"
        },
        "id": "W3uEbt5kOhJ-",
        "outputId": "69c3b5a8-e886-4c7e-ece9-d0a79c409b8e"
      },
      "execution_count": null,
      "outputs": [
        {
          "output_type": "stream",
          "name": "stdout",
          "text": [
            "Top-P search generated text: \n",
            "said the fear dirking cooked the bed fained him i s at harry finally comond who slipped tutacracker might coline s had bills\n",
            "\n"
          ]
        }
      ]
    },
    {
      "cell_type": "markdown",
      "source": [
        "**State-of-the-art**"
      ],
      "metadata": {
        "id": "aE2tRNmF56q1"
      }
    },
    {
      "cell_type": "code",
      "source": [
        "from transformers import GPT2Tokenizer, TFGPT2LMHeadModel  \n",
        "# или TFGPT2Model как feature extractor для получения last_hidden_state и его использования с др. головой"
      ],
      "metadata": {
        "id": "aRb7RX2rfg3b"
      },
      "execution_count": null,
      "outputs": []
    },
    {
      "cell_type": "markdown",
      "source": [
        "![image.png](data:image/png;base64,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)"
      ],
      "metadata": {
        "id": "H_pJ7Nbkl1Lw"
      }
    },
    {
      "cell_type": "code",
      "source": [
        "tokenizer = GPT2Tokenizer.from_pretrained('gpt2-large')\n",
        "model = TFGPT2LMHeadModel.from_pretrained(\"gpt2-large\", pad_token_id=tokenizer.eos_token_id)\n",
        "\n",
        "text = \"harry took magic talking hat and put it right on the top of the school roof\"\n",
        "input_ids = tokenizer.encode(text, return_tensors='tf')\n",
        "\n",
        "# top-k & top-p search\n",
        "top_kp_output = model.generate(input_ids, \n",
        "                               max_length=100,\n",
        "                               top_k=50, \n",
        "                               top_p=0.85, \n",
        "                               num_return_sequences=5,\n",
        "                               do_sample=True\n",
        ")"
      ],
      "metadata": {
        "id": "qUKkrK-Var_F"
      },
      "execution_count": null,
      "outputs": []
    },
    {
      "cell_type": "code",
      "source": [
        "print(\"Output:\\n\" + 100 * '-')\n",
        "for i, sample_output in enumerate(top_kp_output):\n",
        "    print(\"{}: {}...\".format(i, tokenizer.decode(sample_output, skip_special_tokens=True)))\n",
        "    print('')"
      ],
      "metadata": {
        "id": "DfwELX2tfg0-",
        "colab": {
          "base_uri": "https://localhost:8080/"
        },
        "outputId": "0bd2c1fb-3ed9-497e-a483-f1df1b9bb4ee"
      },
      "execution_count": null,
      "outputs": [
        {
          "output_type": "stream",
          "name": "stdout",
          "text": [
            "Output:\n",
            "----------------------------------------------------------------------------------------------------\n",
            "0: harry took magic talking hat and put it right on the top of the school roof and went to talk with some magic talking hat.\n",
            "\n",
            "\"This is the best one, Harry, he's very smart, I think he can be a great wizard!\"\n",
            "\n",
            "Harry was stunned by his friend's praise, he never thought about his friends opinions before.\n",
            "\n",
            "\"That was really nice Harry. I think I could use a wizard, like Dumbledore.\"\n",
            "\n",
            "Harry felt embarrassed as his friend...\n",
            "\n",
            "1: harry took magic talking hat and put it right on the top of the school roof.\n",
            "\n",
            "Then he opened the window and jumped off the roof.\n",
            "\n",
            "\"Hurry up!\" said Harry.\n",
            "\n",
            "But when Harry opened the window, the wind had already started whipping his hair and making him feel like he was a little bit cold.\n",
            "\n",
            "\"Let me go!\" he yelled.\n",
            "\n",
            "\"No, Harry!\" said the man who was running in the middle of the road....\n",
            "\n",
            "2: harry took magic talking hat and put it right on the top of the school roof and said, \"I'm going to make an invisible plane and fly it over there to make sure you stay away from me. It's your choice if you want to see me fall down.\"\n",
            "\n",
            "And he went and made that invisible plane that had all these magical talking hat on top of it and he said to the teacher in the front of the school: \"What would you do if I showed up in...\n",
            "\n",
            "3: harry took magic talking hat and put it right on the top of the school roof.\n",
            "\n",
            "The other schoolchildren started laughing and started to yell at him. Harry said, \"No, don't tell me this! It's the most ridiculous thing that has ever happened in this whole school.\n",
            "\n",
            "But the kids kept laughing and saying that he had really outdone himself.\n",
            "\n",
            "I thought that the only way that a boy who can't even make his own cup of tea could be...\n",
            "\n",
            "4: harry took magic talking hat and put it right on the top of the school roof. And, boy, that made a big dent! \"That made a huge dent!\"\n",
            "\n",
            "[Harry is now standing in front of the school at Hogwarts.]\n",
            "\n",
            "Hogwarts: \"Yes, it did!\"\n",
            "\n",
            "[Harry puts on a black hat.]\n",
            "\n",
            "Hogwarts: \"Yes, it did!\"\n",
            "\n",
            "[Harry puts on a red hat.]\n",
            "\n",
            "Hogwarts:...\n",
            "\n"
          ]
        }
      ]
    },
    {
      "cell_type": "code",
      "source": [
        "# или так (похоже модель также училась на этих книжках, знает имена героев, не поименованных в запросе)\n",
        "from transformers import pipeline, set_seed\n",
        "\n",
        "generator = pipeline('text-generation', model='gpt2-large')\n",
        "set_seed(42)\n",
        "generator(text, max_length=100, num_return_sequences=3)"
      ],
      "metadata": {
        "colab": {
          "base_uri": "https://localhost:8080/",
          "height": 307,
          "referenced_widgets": [
            "397a6fdaca44485f82618277efd2b276",
            "028df5c734474855b76b0f2fc810a22b",
            "7857822361a44cd5aad1580caf8ff54b",
            "bdc20209e6a945c695cd56c4550234b7",
            "569797edf923499bb4e6d9320ac730e5",
            "e192c5602e1d4fe4a50dabbc2920c58f",
            "2bb2a4eab0fa4dfa92800bc5da84fa91",
            "8371859850b94c948b2113db958ebcba",
            "75309e45234e4bac90e1840e6a52928b",
            "bae5cbf792bb49c4bea586dfae40fdcb",
            "aaf7d332aea74dfeb215024e1e652399",
            "0868d79d311c452c9c7ba56ad847ed35",
            "c8489d1e10ed475c8c8ec207d5e65708",
            "c9eb68efc9a3466d9ddf36b21f4d60c1",
            "d21b194507fb401b8bd73df643337522",
            "d575003b869949a5bb9a4b29999f57bd",
            "4879091f5d5241c999f9fb09aa555124",
            "40b1daf37d544d8bbace5f84fba04ca2",
            "97120aebb05342c1b980601b283826e1",
            "19b18e3b3ea640dfb725a9f357dfcc97",
            "7bf179da091d475eb8d56dfec5dd1091",
            "3c8f29139bf34f1389d5cc35e2aeaa29"
          ]
        },
        "id": "-gwAqs_DjkWm",
        "outputId": "1a9ff405-950a-41e8-d615-5959ff54d5d6"
      },
      "execution_count": null,
      "outputs": [
        {
          "output_type": "display_data",
          "data": {
            "text/plain": [
              "Downloading:   0%|          | 0.00/3.25G [00:00<?, ?B/s]"
            ],
            "application/vnd.jupyter.widget-view+json": {
              "version_major": 2,
              "version_minor": 0,
              "model_id": "397a6fdaca44485f82618277efd2b276"
            }
          },
          "metadata": {}
        },
        {
          "output_type": "display_data",
          "data": {
            "text/plain": [
              "Downloading:   0%|          | 0.00/1.36M [00:00<?, ?B/s]"
            ],
            "application/vnd.jupyter.widget-view+json": {
              "version_major": 2,
              "version_minor": 0,
              "model_id": "0868d79d311c452c9c7ba56ad847ed35"
            }
          },
          "metadata": {}
        },
        {
          "output_type": "stream",
          "name": "stderr",
          "text": [
            "Setting `pad_token_id` to `eos_token_id`:50256 for open-end generation.\n"
          ]
        },
        {
          "output_type": "execute_result",
          "data": {
            "text/plain": [
              "[{'generated_text': \"harry took magic talking hat and put it right on the top of the school roof, a place he already knew would be open to everyone! He quickly used his powers to create a magical ring by turning the school in the middle of the night! It was a pretty neat trick, it took a bit of time to activate but by the end of the day it was so much fun, the whole school was in an uproar because the whole school was gone but that didn't matter because that was only\"},\n",
              " {'generated_text': 'harry took magic talking hat and put it right on the top of the school roof and went down to the roof and told the children and teachers there there what he had heard about that day.\"\\n\\nBut if Harry did not lie to the adults in charge of the Quidditch World Cup, the result is that he had to tell them a falsehood. At the very least, there has to be some sort of investigation into how he could possibly have lied about what he told a student over a'},\n",
              " {'generated_text': 'harry took magic talking hat and put it right on the top of the school roof,\" said the professor, \"the kids looked terrified, and Harry got a shock and then was stunned by the professor.\"\\n\\n\"We all became aware that there was a giant shadow being there. A thing that was there that was out of reach to children, Harry, but was there that much that it could get you hurt.\"\\n\\n\"And the teacher was a green light, we saw it as though'}]"
            ]
          },
          "metadata": {},
          "execution_count": 13
        }
      ]
    }
  ]
}