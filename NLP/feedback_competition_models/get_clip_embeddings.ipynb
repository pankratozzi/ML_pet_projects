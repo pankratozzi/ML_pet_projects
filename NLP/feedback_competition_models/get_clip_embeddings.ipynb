{
 "cells": [
  {
   "cell_type": "code",
   "execution_count": 1,
   "id": "346b72b2",
   "metadata": {},
   "outputs": [],
   "source": [
    "import torch\n",
    "import clip\n",
    "from PIL import Image"
   ]
  },
  {
   "cell_type": "code",
   "execution_count": 2,
   "id": "410e8a95",
   "metadata": {},
   "outputs": [],
   "source": [
    "device = \"cuda\" if torch.cuda.is_available() else \"cpu\"\n",
    "model, preprocess = clip.load(\"ViT-B/32\", device=device)"
   ]
  },
  {
   "cell_type": "markdown",
   "id": "884155e1",
   "metadata": {},
   "source": [
    "<img src=clip.png>"
   ]
  },
  {
   "cell_type": "markdown",
   "id": "0b43d87c",
   "metadata": {},
   "source": [
    "<a href=https://github.com/openai/CLIP>CLIP torch model usage</a><br>\n",
    "<a href=https://arxiv.org/pdf/2103.00020.pdf>CLIP paper for deeper understanding</a>"
   ]
  },
  {
   "cell_type": "code",
   "execution_count": 3,
   "id": "c7345644",
   "metadata": {},
   "outputs": [],
   "source": [
    "inputs = [\"a diagram\", \"a dog\", \"a cat\"]\n",
    "image = preprocess(Image.open(\"clip.png\")).unsqueeze(0).to(device)\n",
    "text = clip.tokenize(inputs).to(device)"
   ]
  },
  {
   "cell_type": "code",
   "execution_count": 4,
   "id": "8920cde4",
   "metadata": {},
   "outputs": [],
   "source": [
    "with torch.no_grad():\n",
    "    image_features = model.encode_image(image)\n",
    "    text_features = model.encode_text(text)\n",
    "    \n",
    "    logits_per_image, logits_per_text = model(image, text)\n",
    "    probs = logits_per_image.softmax(dim=-1).cpu().numpy()"
   ]
  },
  {
   "cell_type": "code",
   "execution_count": 5,
   "id": "3f2179fd",
   "metadata": {},
   "outputs": [
    {
     "data": {
      "text/plain": [
       "torch.Size([3, 512])"
      ]
     },
     "execution_count": 5,
     "metadata": {},
     "output_type": "execute_result"
    }
   ],
   "source": [
    "text_features.shape"
   ]
  },
  {
   "cell_type": "code",
   "execution_count": 7,
   "id": "20465613",
   "metadata": {},
   "outputs": [
    {
     "name": "stdout",
     "output_type": "stream",
     "text": [
      "Label probs: [[0.9927   0.004253 0.003016]]\n"
     ]
    }
   ],
   "source": [
    "print(\"Label probs:\", probs)"
   ]
  },
  {
   "cell_type": "code",
   "execution_count": 8,
   "id": "396f3fa3",
   "metadata": {},
   "outputs": [
    {
     "data": {
      "text/plain": [
       "tensor([[25.5312, 20.0781, 19.7344]], device='cuda:0', dtype=torch.float16)"
      ]
     },
     "execution_count": 8,
     "metadata": {},
     "output_type": "execute_result"
    }
   ],
   "source": [
    "logits_per_image  # similarity"
   ]
  },
  {
   "cell_type": "code",
   "execution_count": 9,
   "id": "0b757661",
   "metadata": {},
   "outputs": [
    {
     "name": "stdout",
     "output_type": "stream",
     "text": [
      "\n",
      "Top predictions:\n",
      "a diagram: 100.00%\n",
      "a cat: 0.00%\n",
      "a dog: 0.00%\n"
     ]
    },
    {
     "data": {
      "text/plain": [
       "tensor([[1., 0., 0.]], device='cuda:0', dtype=torch.float16)"
      ]
     },
     "execution_count": 9,
     "metadata": {},
     "output_type": "execute_result"
    }
   ],
   "source": [
    "similarity = (100.0 * image_features @ text_features.T).softmax(dim=-1)\n",
    "values, indices = similarity[0].topk(3)\n",
    "\n",
    "print(\"\\nTop predictions:\")\n",
    "for value, index in zip(values, indices):\n",
    "    print(f\"{inputs[index]:>5s}: {100 * value.item():.2f}%\")\n",
    "similarity"
   ]
  },
  {
   "cell_type": "code",
   "execution_count": 12,
   "id": "eaab50c6",
   "metadata": {},
   "outputs": [
    {
     "name": "stdout",
     "output_type": "stream",
     "text": [
      "a diagram [25.53125 20.0625  19.71875]\n"
     ]
    }
   ],
   "source": [
    "similarity = np.empty((3, ))\n",
    "for i in range(3):\n",
    "    sim = 100.0 * nn.functional.cosine_similarity(image_features, text_features[i])\n",
    "    similarity[i] = sim\n",
    "\n",
    "print(inputs[np.argmax(similarity)], similarity)"
   ]
  },
  {
   "cell_type": "markdown",
   "id": "04e99fda",
   "metadata": {},
   "source": [
    "**Great usage of CLIP model** \n",
    "<br><a href=https://cdn.openai.com/papers/dall-e-2.pdf>dalle original paper</a>"
   ]
  },
  {
   "cell_type": "markdown",
   "id": "35d49652",
   "metadata": {},
   "source": [
    "<img src=dalle.png width=800 height=300>"
   ]
  },
  {
   "cell_type": "markdown",
   "id": "8579f933",
   "metadata": {},
   "source": [
    "### Main script"
   ]
  },
  {
   "cell_type": "code",
   "execution_count": 3,
   "id": "d06b1ac0",
   "metadata": {},
   "outputs": [
    {
     "name": "stderr",
     "output_type": "stream",
     "text": [
      "[nltk_data] Downloading package stopwords to\n",
      "[nltk_data]     C:\\Users\\Daria\\AppData\\Roaming\\nltk_data...\n",
      "[nltk_data]   Package stopwords is already up-to-date!\n"
     ]
    }
   ],
   "source": [
    "import warnings\n",
    "warnings.filterwarnings('ignore')\n",
    "import os, re, gc\n",
    "\n",
    "import torch.nn as nn\n",
    "from torch.utils.data import Dataset, DataLoader, TensorDataset\n",
    "\n",
    "import numpy as np\n",
    "import pandas as pd\n",
    "from sklearn.model_selection import train_test_split\n",
    "\n",
    "from tqdm.notebook import tqdm\n",
    "from nltk.corpus import stopwords\n",
    "import nltk\n",
    "from nltk.stem.snowball import SnowballStemmer\n",
    "nltk.download('stopwords')\n",
    "stop = stopwords.words('english')\n",
    "\n",
    "import spacy\n",
    "# !python -m spacy download en_core_web_sm\n",
    "nlp = spacy.load('en_core_web_sm')\n",
    "\n",
    "from transformers import LongformerTokenizerFast, LongformerModel\n",
    "from transformers import AdamW, get_linear_schedule_with_warmup\n",
    "\n",
    "seed = 42\n",
    "gc.enable()"
   ]
  },
  {
   "cell_type": "code",
   "execution_count": 4,
   "id": "087f1e5f",
   "metadata": {},
   "outputs": [],
   "source": [
    "def seed_everything(seed=42):\n",
    "    os.environ['PYTHONHASHSEED'] = str(seed)\n",
    "    np.random.seed(seed)\n",
    "    torch.manual_seed(seed)\n",
    "    torch.cuda.manual_seed(seed)\n",
    "    torch.backends.cudnn.deterministic = True\n",
    "    torch.backends.cudnn.benchmark = True\n",
    "    \n",
    "seed_everything()"
   ]
  },
  {
   "cell_type": "code",
   "execution_count": 5,
   "id": "de8fa952",
   "metadata": {},
   "outputs": [],
   "source": [
    "def preprocessor(text, stop=stop):\n",
    "    text = text.lower()\n",
    "    text = re.sub('<[^>]*>', '', text)\n",
    "    emoticons = re.findall('(?::|;|=)(?:-)?(?:\\)|\\(|D|P)', text)\n",
    "    text = re.sub('[\\W]+', ' ', text)\n",
    "    text = re.sub(r'[^\\w]', ' ', text)\n",
    "    text = [w for w in text.split() if w not in stop]\n",
    "    text = [re.sub(r\"[^a-zA-Z0-9]+\", '', k) for k in text]\n",
    "    return re.sub(' +', ' ', ' '.join(text))\n",
    "\n",
    "def snow_stem(text):\n",
    "    snow_stemmer = SnowballStemmer(language='english')\n",
    "    new_text = ''\n",
    "    for word in text.split():\n",
    "        new_text += snow_stemmer.stem(word) + ' '\n",
    "    return new_text"
   ]
  },
  {
   "cell_type": "code",
   "execution_count": 6,
   "id": "32dcee7f",
   "metadata": {},
   "outputs": [],
   "source": [
    "train = pd.read_csv(\"train.csv\")"
   ]
  },
  {
   "cell_type": "code",
   "execution_count": 16,
   "id": "ce1971ba",
   "metadata": {},
   "outputs": [
    {
     "data": {
      "text/plain": [
       "<AxesSubplot:>"
      ]
     },
     "execution_count": 16,
     "metadata": {},
     "output_type": "execute_result"
    },
    {
     "data": {
      "image/png": "[encoded data removed]",
      "text/plain": [
       "<Figure size 432x288 with 1 Axes>"
      ]
     },
     "metadata": {
      "needs_background": "light"
     },
     "output_type": "display_data"
    }
   ],
   "source": [
    "train.full_text.apply(preprocessor).str.len().hist()"
   ]
  },
  {
   "cell_type": "markdown",
   "id": "c5524e0f",
   "metadata": {},
   "source": [
    "**Use CLIP context encoder for feature extraction / alt: use BERT/word2vec encoding for same purpose**"
   ]
  },
  {
   "cell_type": "code",
   "execution_count": null,
   "id": "17f842ae",
   "metadata": {},
   "outputs": [],
   "source": [
    "class ClipDataset(Dataset):\n",
    "    def __init__(self, data, max_len=None, preprocess=False):\n",
    "        self.data = data\n",
    "        if max_len is None:\n",
    "            self.max_len = model.context_length\n",
    "        self.preprocess = preprocess\n",
    "        \n",
    "    def __len__(self):\n",
    "        return len(self.data)\n",
    "    \n",
    "    def __getitem__(self, ix):\n",
    "        raw_text = self.data.iloc[ix, 1]\n",
    "        labels = self.data.iloc[ix, 2:]\n",
    "        raw_text = raw_text[:self.max_len]\n",
    "        if self.preprocess:\n",
    "            raw_text = snow_stem(preprocessor(raw_text))\n",
    "        \n",
    "        return raw_text, labels\n",
    "    \n",
    "    def _encode(self, text: list):\n",
    "        text = clip.tokenize(text, context_length=self.max_len).to(device)\n",
    "        with torch.no_grad():\n",
    "            text_features = model.encode_text(text)\n",
    "        return text_features.type(torch.float32)\n",
    "    \n",
    "    def collate_fn(self, batch):\n",
    "        text, labels = list(zip(*batch))\n",
    "        text = self._encode(text)\n",
    "        labels = torch.as_tensor([label.values for label in labels], dtype=torch.float32).to(device)\n",
    "        return text, labels"
   ]
  },
  {
   "cell_type": "code",
   "execution_count": 7,
   "id": "590e05b3",
   "metadata": {},
   "outputs": [],
   "source": [
    "x_train, x_valid = train_test_split(train, shuffle=True, test_size=0.2, random_state=seed)"
   ]
  },
  {
   "cell_type": "code",
   "execution_count": null,
   "id": "23f79f82",
   "metadata": {},
   "outputs": [],
   "source": [
    "train_ds = ClipDataset(x_train, preprocess=True)\n",
    "valid_ds = ClipDataset(x_valid, preprocess=True)\n",
    "\n",
    "train_dl = DataLoader(train_ds, batch_size=16, shuffle=True, collate_fn=train_ds.collate_fn)\n",
    "valid_dl = DataLoader(valid_ds, batch_size=16, shuffle=False, collate_fn=valid_ds.collate_fn)"
   ]
  },
  {
   "cell_type": "code",
   "execution_count": null,
   "id": "4211f9b2",
   "metadata": {},
   "outputs": [],
   "source": [
    "class TextModel(nn.Module):\n",
    "    def __init__(self, short=True):\n",
    "        super(TextModel, self).__init__()\n",
    "        if short:\n",
    "            self.regressor = nn.Sequential(\n",
    "                                    nn.Dropout(p=0.5),\n",
    "                                    nn.Linear(512, 6))\n",
    "        else:\n",
    "            self.regressor = nn.Sequential(\n",
    "                    nn.Dropout(p=0.5),\n",
    "                    nn.Linear(512, 256),\n",
    "                    nn.ReLU(inplace=True),\n",
    "                    nn.Dropout(p=0.5),\n",
    "                    nn.Linear(256, 6)\n",
    "            )\n",
    "            \n",
    "    def forward(self, x):\n",
    "        return self.regressor(x)"
   ]
  },
  {
   "cell_type": "code",
   "execution_count": null,
   "id": "19883364",
   "metadata": {},
   "outputs": [],
   "source": [
    "net = TextModel(short=True).to(device)\n",
    "\n",
    "criterion = nn.MSELoss()\n",
    "# criterion = nn.SmoothL1Loss()\n",
    "\n",
    "optimizer = torch.optim.Adam(net.parameters(), lr=0.001)\n",
    "scheduler = torch.optim.lr_scheduler.ReduceLROnPlateau(optimizer, min_lr=1e-6, factor=0.1, patience=5)"
   ]
  },
  {
   "cell_type": "code",
   "execution_count": 8,
   "id": "03300720",
   "metadata": {},
   "outputs": [],
   "source": [
    "def MCRMSE(y_true: np.ndarray, y_pred: np.ndarray) -> float:\n",
    "    rmse = np.sqrt(np.mean(np.square(y_true - y_pred), axis=1))\n",
    "    rcrmse = np.mean(rmse)\n",
    "    return rcrmse"
   ]
  },
  {
   "cell_type": "code",
   "execution_count": null,
   "id": "b45475cf",
   "metadata": {},
   "outputs": [],
   "source": [
    "train_losses, valid_losses = [], []\n",
    "epochs = 100\n",
    "\n",
    "for epoch in range(epochs):\n",
    "    print(f\"Epoch {epoch+1} / {epochs}\")\n",
    "    \n",
    "    losses, scores = [], []\n",
    "    for batch in train_dl:\n",
    "        net.train()\n",
    "        optimizer.zero_grad()\n",
    "        \n",
    "        text, labels = batch\n",
    "        logits = net(text)\n",
    "        loss = criterion(logits, labels)\n",
    "        loss.backward()\n",
    "        optimizer.step()\n",
    "        losses.append(loss.item())\n",
    "        scores.append(MCRMSE(labels.detach().cpu().numpy(), logits.detach().cpu().numpy()))\n",
    "    epoch_train_scores = np.mean(scores)\n",
    "    epoch_train_loss = np.mean(losses)\n",
    "    train_losses.append(epoch_train_loss)\n",
    "    \n",
    "    losses, scores = [], []\n",
    "    for batch in valid_dl:\n",
    "        net.eval()\n",
    "        text, labels = batch\n",
    "        \n",
    "        with torch.no_grad():\n",
    "            logits = net(text)\n",
    "            loss = criterion(logits, labels)\n",
    "        losses.append(loss.item())\n",
    "        scores.append(MCRMSE(labels.detach().cpu().numpy(), logits.detach().cpu().numpy()))\n",
    "    epoch_valid_loss = np.mean(losses)\n",
    "    epoch_valid_scores = np.mean(scores)\n",
    "    valid_losses.append(epoch_valid_loss)\n",
    "    \n",
    "    scheduler.step(epoch_valid_loss)\n",
    "    \n",
    "    print(f\"Train loss: {epoch_train_loss:.5f}, valid loss: {epoch_valid_loss:.5f}\")\n",
    "    print(f\"Train scores: {epoch_train_scores:.5f}, valid scores: {epoch_valid_scores:.5f}\")"
   ]
  },
  {
   "cell_type": "code",
   "execution_count": 10,
   "id": "d2a566bb",
   "metadata": {},
   "outputs": [],
   "source": [
    "test = pd.read_csv(\"test.csv\")"
   ]
  },
  {
   "cell_type": "code",
   "execution_count": null,
   "id": "9c5c27fc",
   "metadata": {},
   "outputs": [],
   "source": [
    "test_columns = ['cohesion', 'syntax', 'vocabulary', 'phraseology', 'grammar', 'conventions']\n",
    "submission = pd.DataFrame(data={\"text_id\": test.text_id})\n",
    "submission[test_columns] = 0.0"
   ]
  },
  {
   "cell_type": "code",
   "execution_count": null,
   "id": "67457e3d",
   "metadata": {},
   "outputs": [],
   "source": [
    "test_preds = []\n",
    "\n",
    "net.eval()\n",
    "for i in range(len(test)):\n",
    "    text = test.iloc[i, 1][:model.context_length]\n",
    "    text = clip.tokenize(text).to(device)\n",
    "    with torch.no_grad():\n",
    "        text_features = model.encode_text(text).type(torch.float32).unsqueeze(0)\n",
    "        output = net(text_features)\n",
    "    output = output.cpu().detach().numpy().squeeze()\n",
    "    submission.iloc[i, 1:] = output"
   ]
  },
  {
   "cell_type": "code",
   "execution_count": null,
   "id": "a853496a",
   "metadata": {},
   "outputs": [],
   "source": [
    "submission"
   ]
  },
  {
   "cell_type": "code",
   "execution_count": null,
   "id": "7f9fcd44",
   "metadata": {},
   "outputs": [],
   "source": [
    "submission.to_csv(\"submission.csv\", index=False)\n",
    "!kaggle competitions submit -c feedback-prize-english-language-learning -f submission.csv -m \"Message\""
   ]
  },
  {
   "cell_type": "markdown",
   "id": "e084d8b3",
   "metadata": {},
   "source": [
    "## Bert Encoder\n",
    "<br><a href=https://arxiv.org/pdf/2004.05150.pdf>Longformer original paper</a>"
   ]
  },
  {
   "cell_type": "markdown",
   "id": "d90c7e63",
   "metadata": {},
   "source": [
    "<img src=bert.png width=500 height=300>"
   ]
  },
  {
   "cell_type": "code",
   "execution_count": 14,
   "id": "0c089269",
   "metadata": {},
   "outputs": [
    {
     "data": {
      "application/vnd.jupyter.widget-view+json": {
       "model_id": "a8834d8abe654cdfb1ffb9393beab77c",
       "version_major": 2,
       "version_minor": 0
      },
      "text/plain": [
       "Downloading:   0%|          | 0.00/456k [00:00<?, ?B/s]"
      ]
     },
     "metadata": {},
     "output_type": "display_data"
    },
    {
     "data": {
      "application/vnd.jupyter.widget-view+json": {
       "model_id": "d908fe99b0e24b9a9a9c5fdd10181684",
       "version_major": 2,
       "version_minor": 0
      },
      "text/plain": [
       "Downloading:   0%|          | 0.00/1.36M [00:00<?, ?B/s]"
      ]
     },
     "metadata": {},
     "output_type": "display_data"
    },
    {
     "data": {
      "application/vnd.jupyter.widget-view+json": {
       "model_id": "7229d0cf98654b7cac8d5648a56400bb",
       "version_major": 2,
       "version_minor": 0
      },
      "text/plain": [
       "Downloading:   0%|          | 0.00/597M [00:00<?, ?B/s]"
      ]
     },
     "metadata": {},
     "output_type": "display_data"
    },
    {
     "name": "stderr",
     "output_type": "stream",
     "text": [
      "Some weights of the model checkpoint at allenai/longformer-base-4096 were not used when initializing LongformerModel: ['lm_head.bias', 'lm_head.dense.weight', 'lm_head.layer_norm.weight', 'lm_head.dense.bias', 'lm_head.decoder.weight', 'lm_head.layer_norm.bias']\n",
      "- This IS expected if you are initializing LongformerModel from the checkpoint of a model trained on another task or with another architecture (e.g. initializing a BertForSequenceClassification model from a BertForPreTraining model).\n",
      "- This IS NOT expected if you are initializing LongformerModel from the checkpoint of a model that you expect to be exactly identical (initializing a BertForSequenceClassification model from a BertForSequenceClassification model).\n"
     ]
    }
   ],
   "source": [
    "tokenizer = LongformerTokenizerFast.from_pretrained('allenai/longformer-base-4096', max_length=4096)\n",
    "bert = LongformerModel.from_pretrained('allenai/longformer-base-4096').to(device)"
   ]
  },
  {
   "cell_type": "code",
   "execution_count": 15,
   "id": "10adbb0c",
   "metadata": {},
   "outputs": [],
   "source": [
    "def preprocessing_for_bert(data):\n",
    "    input_ids = []\n",
    "    attention_masks = []\n",
    "\n",
    "    for sent in tqdm(data):\n",
    "        encoded_sent = tokenizer(snow_stem(preprocessor(sent)), padding='max_length', truncation=True, max_length=4096)\n",
    "        input_ids.append(encoded_sent.get('input_ids'))\n",
    "        attention_masks.append(encoded_sent.get('attention_mask'))\n",
    "\n",
    "    input_ids = torch.tensor(input_ids)\n",
    "    attention_masks = torch.tensor(attention_masks)\n",
    "\n",
    "    return input_ids, attention_masks"
   ]
  },
  {
   "cell_type": "code",
   "execution_count": 16,
   "id": "7342181d",
   "metadata": {},
   "outputs": [
    {
     "data": {
      "application/vnd.jupyter.widget-view+json": {
       "model_id": "fa871a086afc4e2a9f24d543911374b6",
       "version_major": 2,
       "version_minor": 0
      },
      "text/plain": [
       "  0%|          | 0/3128 [00:00<?, ?it/s]"
      ]
     },
     "metadata": {},
     "output_type": "display_data"
    },
    {
     "data": {
      "application/vnd.jupyter.widget-view+json": {
       "model_id": "65dcf343258d45339dbea27b425e06ea",
       "version_major": 2,
       "version_minor": 0
      },
      "text/plain": [
       "  0%|          | 0/783 [00:00<?, ?it/s]"
      ]
     },
     "metadata": {},
     "output_type": "display_data"
    }
   ],
   "source": [
    "train_inputs, train_masks = preprocessing_for_bert(x_train['full_text'].values)\n",
    "val_inputs, val_masks = preprocessing_for_bert(x_valid['full_text'].values)"
   ]
  },
  {
   "cell_type": "code",
   "execution_count": 17,
   "id": "387693e2",
   "metadata": {},
   "outputs": [],
   "source": [
    "train_labels = torch.as_tensor(x_train.iloc[: , 2:].values, dtype=torch.float32)\n",
    "valid_labels = torch.as_tensor(x_valid.iloc[: , 2:].values, dtype=torch.float32)"
   ]
  },
  {
   "cell_type": "code",
   "execution_count": 18,
   "id": "6c24af1c",
   "metadata": {},
   "outputs": [],
   "source": [
    "train_ds = TensorDataset(train_inputs, train_masks, train_labels)\n",
    "valid_ds = TensorDataset(val_inputs, val_masks, valid_labels)\n",
    "\n",
    "train_dl = DataLoader(train_ds, batch_size=4, shuffle=True)\n",
    "valid_dl = DataLoader(valid_ds, batch_size=4, shuffle=False)"
   ]
  },
  {
   "cell_type": "code",
   "execution_count": 19,
   "id": "85fedc4d",
   "metadata": {},
   "outputs": [],
   "source": [
    "class BertModel(nn.Module):\n",
    "    def __init__(self, mode=\"short\"):\n",
    "        super(BertModel, self).__init__()\n",
    "        self.mode = mode\n",
    "        if mode == \"short\":\n",
    "            self.predictor = nn.Sequential(\n",
    "                                           nn.Dropout(p=0.5),\n",
    "                                           nn.Linear(768, 6)\n",
    "                                          )\n",
    "        elif mode == \"long\":\n",
    "            self.predictor = nn.Sequential(\n",
    "                                           nn.Linear(768, 768),\n",
    "                                           nn.LeakyReLU(0.01, inplace=True),\n",
    "                                           nn.Dropout(p=0.5),\n",
    "                                           nn.Linear(768, 6)\n",
    "            )\n",
    "        elif mode == \"conv\":\n",
    "            self.predictor = nn.Sequential(\n",
    "                                           nn.Conv1d(in_channels=4096, out_channels=1024, kernel_size=3, stride=2, padding=0),\n",
    "                                           nn.LeakyReLU(0.01, inplace=True),\n",
    "                                           nn.Dropout(p=0.5),\n",
    "                                           nn.Conv1d(in_channels=1024, out_channels=256, kernel_size=3, stride=2, padding=0),\n",
    "                                           nn.LeakyReLU(0.01, inplace=True),\n",
    "                                           nn.Dropout(p=0.5),\n",
    "                                           nn.Conv1d(in_channels=256, out_channels=64, kernel_size=3, stride=2, padding=0),\n",
    "                                           nn.LeakyReLU(0.01, inplace=True),\n",
    "                                           nn.Dropout(p=0.5),\n",
    "                                           nn.AdaptiveAvgPool1d(32),\n",
    "                                           nn.Flatten(),\n",
    "                                           nn.Dropout(p=0.5),\n",
    "                                           nn.Linear(2048, 256),\n",
    "                                           nn.ReLU(),\n",
    "                                           nn.Linear(256, 6)\n",
    "                                           \n",
    "            )\n",
    "            \n",
    "    def forward(self, input_ids, attention_masks):\n",
    "        with torch.no_grad():\n",
    "            outputs = bert(input_ids=input_ids.to(device), attention_mask=attention_masks.to(device))\n",
    "            if self.mode == \"short\" or self.mode == \"long\":\n",
    "                hidden = outputs.pooler_output  # outputs[0][:, 0, :] # last layer hidden-state of CLS token\n",
    "            elif self.mode == \"conv\":\n",
    "                hidden = outputs.last_hidden_state  # outputs[0]  # output hidden-states sequence\n",
    "            else:\n",
    "                raise ValueError(f\"mode is expected to be 'short' or 'long', given {mode}\")\n",
    "        return self.predictor(hidden)"
   ]
  },
  {
   "cell_type": "code",
   "execution_count": 20,
   "id": "c25a91d7",
   "metadata": {},
   "outputs": [],
   "source": [
    "net = BertModel(mode=\"conv\").to(device)\n",
    "\n",
    "criterion = nn.MSELoss()\n",
    "epochs = 15\n",
    "total_steps = total_steps = len(train_dl) * epochs\n",
    "optimizer = AdamW(net.parameters(), lr=5e-5, eps=1e-8)\n",
    "scheduler = get_linear_schedule_with_warmup(optimizer, num_warmup_steps=20, num_training_steps=total_steps)"
   ]
  },
  {
   "cell_type": "code",
   "execution_count": null,
   "id": "d9cfb73a",
   "metadata": {},
   "outputs": [],
   "source": [
    "train_losses, valid_losses = [], []\n",
    "\n",
    "for epoch in range(epochs):\n",
    "    print(f\"Epoch {epoch+1} / {epochs}\")\n",
    "    \n",
    "    losses, scores = [], []\n",
    "    for batch in tqdm(train_dl, total=len(train_dl), leave=False):\n",
    "        net.train()\n",
    "        optimizer.zero_grad()\n",
    "        \n",
    "        input_ids, att_masks, labels = batch\n",
    "        logits = net(input_ids.to(device), att_masks.to(device))\n",
    "        loss = criterion(logits, labels.to(device))\n",
    "        loss.backward()\n",
    "        optimizer.step()\n",
    "        \n",
    "        torch.nn.utils.clip_grad_norm_(net.parameters(), 1.0)\n",
    "        \n",
    "        losses.append(loss.item())\n",
    "        scores.append(MCRMSE(labels.detach().cpu().numpy(), logits.detach().cpu().numpy()))\n",
    "    epoch_train_scores = np.mean(scores)\n",
    "    epoch_train_loss = np.mean(losses)\n",
    "    train_losses.append(epoch_train_loss)\n",
    "    \n",
    "    losses, scores = [], []\n",
    "    for batch in tqdm(valid_dl, total=len(valid_dl), leave=False):\n",
    "        net.eval()\n",
    "        input_ids, att_masks, labels = batch\n",
    "        \n",
    "        with torch.no_grad():\n",
    "            logits = net(input_ids.to(device), att_masks.to(device))\n",
    "            loss = criterion(logits, labels.to(device))\n",
    "        losses.append(loss.item())\n",
    "        scores.append(MCRMSE(labels.detach().cpu().numpy(), logits.detach().cpu().numpy()))\n",
    "    epoch_valid_loss = np.mean(losses)\n",
    "    epoch_valid_scores = np.mean(scores)\n",
    "    valid_losses.append(epoch_valid_loss)\n",
    "    \n",
    "    scheduler.step(epoch_valid_loss)\n",
    "    \n",
    "    print(f\"Train loss: {epoch_train_loss:.5f}, valid loss: {epoch_valid_loss:.5f}\")\n",
    "    print(f\"Train scores: {epoch_train_scores:.5f}, valid scores: {epoch_valid_scores:.5f}\")"
   ]
  },
  {
   "cell_type": "code",
   "execution_count": null,
   "id": "045d2447",
   "metadata": {},
   "outputs": [],
   "source": [
    "# train: short,Train loss: 0.52810, valid loss: 0.47120\n",
    "#Train scores: 0.65202, valid scores: 0.61893 -> train more\n",
    "# long, conv."
   ]
  },
  {
   "cell_type": "markdown",
   "id": "4224bdce",
   "metadata": {},
   "source": [
    "## DeBERTa\n",
    "<br><a href=https://arxiv.org/pdf/2111.09543.pdf>DeBERTa v3 original paper</a><br><b>here first deberta used as for conflicts in packages</b>"
   ]
  },
  {
   "cell_type": "markdown",
   "id": "c5ccb5d9",
   "metadata": {},
   "source": [
    "<img src=deberta.jpg>"
   ]
  },
  {
   "cell_type": "code",
   "execution_count": 9,
   "id": "9bf4ddcb",
   "metadata": {},
   "outputs": [],
   "source": [
    "from transformers import DebertaTokenizer, DebertaModel"
   ]
  },
  {
   "cell_type": "code",
   "execution_count": 10,
   "id": "4773716b",
   "metadata": {},
   "outputs": [
    {
     "name": "stderr",
     "output_type": "stream",
     "text": [
      "Some weights of the model checkpoint at microsoft/deberta-base were not used when initializing DebertaModel: ['lm_predictions.lm_head.dense.bias', 'lm_predictions.lm_head.bias', 'lm_predictions.lm_head.LayerNorm.bias', 'lm_predictions.lm_head.LayerNorm.weight', 'lm_predictions.lm_head.dense.weight']\n",
      "- This IS expected if you are initializing DebertaModel from the checkpoint of a model trained on another task or with another architecture (e.g. initializing a BertForSequenceClassification model from a BertForPreTraining model).\n",
      "- This IS NOT expected if you are initializing DebertaModel from the checkpoint of a model that you expect to be exactly identical (initializing a BertForSequenceClassification model from a BertForSequenceClassification model).\n"
     ]
    }
   ],
   "source": [
    "tokenizer = DebertaTokenizer.from_pretrained('microsoft/deberta-base')\n",
    "model = DebertaModel.from_pretrained('microsoft/deberta-base', return_dict=True).to(device)"
   ]
  },
  {
   "cell_type": "code",
   "execution_count": 11,
   "id": "4b84a0bf",
   "metadata": {},
   "outputs": [],
   "source": [
    "def tokenize_for_deberta(text):\n",
    "    input_ids = []\n",
    "    attention_masks = []\n",
    "    \n",
    "    for sent in tqdm(text):\n",
    "        encoded_sent = tokenizer(snow_stem(preprocessor(sent)), padding='max_length', truncation=True, max_length=512)\n",
    "        input_ids.append(encoded_sent.get('input_ids'))\n",
    "        attention_masks.append(encoded_sent.get('attention_mask'))\n",
    "\n",
    "    input_ids = torch.tensor(input_ids)\n",
    "    attention_masks = torch.tensor(attention_masks)\n",
    "\n",
    "    return input_ids, attention_masks"
   ]
  },
  {
   "cell_type": "code",
   "execution_count": 12,
   "id": "4aef157e",
   "metadata": {},
   "outputs": [
    {
     "data": {
      "application/vnd.jupyter.widget-view+json": {
       "model_id": "a74cb049144c40108ffd31edd6bc572b",
       "version_major": 2,
       "version_minor": 0
      },
      "text/plain": [
       "  0%|          | 0/3128 [00:00<?, ?it/s]"
      ]
     },
     "metadata": {},
     "output_type": "display_data"
    },
    {
     "data": {
      "application/vnd.jupyter.widget-view+json": {
       "model_id": "0bad8cebc4474c91b3e658c2ce05b184",
       "version_major": 2,
       "version_minor": 0
      },
      "text/plain": [
       "  0%|          | 0/783 [00:00<?, ?it/s]"
      ]
     },
     "metadata": {},
     "output_type": "display_data"
    }
   ],
   "source": [
    "train_inputs, train_masks = tokenize_for_deberta(x_train['full_text'].values)\n",
    "val_inputs, val_masks = tokenize_for_deberta(x_valid['full_text'].values)\n",
    "\n",
    "train_labels = torch.as_tensor(x_train.iloc[: , 2:].values, dtype=torch.float32)\n",
    "valid_labels = torch.as_tensor(x_valid.iloc[: , 2:].values, dtype=torch.float32)"
   ]
  },
  {
   "cell_type": "code",
   "execution_count": 13,
   "id": "5627c0c6",
   "metadata": {},
   "outputs": [],
   "source": [
    "train_ds = TensorDataset(train_inputs, train_masks, train_labels)\n",
    "valid_ds = TensorDataset(val_inputs, val_masks, valid_labels)\n",
    "\n",
    "train_dl = DataLoader(train_ds, batch_size=4, shuffle=True)\n",
    "valid_dl = DataLoader(valid_ds, batch_size=4, shuffle=False)"
   ]
  },
  {
   "cell_type": "code",
   "execution_count": 14,
   "id": "2d0dc375",
   "metadata": {},
   "outputs": [],
   "source": [
    "class DeBERTaModel(nn.Module):\n",
    "    def __init__(self):\n",
    "        super(DeBERTaModel, self).__init__()\n",
    "        self.predictor = nn.Sequential(\n",
    "                                       nn.Conv1d(in_channels=512, out_channels=512, kernel_size=3, stride=2, padding=0),\n",
    "                                       nn.LeakyReLU(0.01, inplace=True),\n",
    "                                       nn.Dropout(p=0.5),\n",
    "                                       nn.Conv1d(in_channels=512, out_channels=256, kernel_size=3, stride=2, padding=0),\n",
    "                                       nn.LeakyReLU(0.01, inplace=True),\n",
    "                                       nn.Dropout(p=0.5),\n",
    "                                       nn.Conv1d(in_channels=256, out_channels=64, kernel_size=3, stride=2, padding=0),\n",
    "                                       nn.LeakyReLU(0.01, inplace=True),\n",
    "                                       nn.Dropout(p=0.5),\n",
    "                                       nn.AdaptiveAvgPool1d(32),\n",
    "                                       nn.Flatten(),\n",
    "                                       nn.Dropout(p=0.5),\n",
    "                                       nn.Linear(2048, 256),\n",
    "                                       nn.ReLU(),\n",
    "                                       nn.Linear(256, 6)\n",
    "\n",
    "        )\n",
    "\n",
    "    def forward(self, input_ids, attention_masks):\n",
    "        with torch.no_grad():\n",
    "            outputs = model(input_ids=input_ids.to(device), attention_mask=attention_masks.to(device))\n",
    "            hidden = outputs.last_hidden_state\n",
    "\n",
    "        return self.predictor(hidden)\n",
    "    \n",
    "class MeanPooling(nn.Module):\n",
    "    def __init__(self):\n",
    "        super(MeanPooling, self).__init__()\n",
    "        \n",
    "    def forward(self, last_hidden_state, attention_mask):\n",
    "        input_mask_expanded = attention_mask.unsqueeze(-1).expand(last_hidden_state.size()).float()\n",
    "        sum_embeddings = torch.sum(last_hidden_state * input_mask_expanded, 1)\n",
    "        sum_mask = input_mask_expanded.sum(1)\n",
    "        sum_mask = torch.clamp(sum_mask, min=1e-9)\n",
    "        mean_embeddings = sum_embeddings / sum_mask\n",
    "        return mean_embeddings\n",
    "    \n",
    "class FeedBackModel(nn.Module):\n",
    "    def __init__(self):\n",
    "        super(FeedBackModel, self).__init__()\n",
    "        self.drop = nn.Dropout(p=0.2)\n",
    "        self.pooler = MeanPooling()\n",
    "        self.fc = nn.Linear(768, 6)\n",
    "        \n",
    "    def forward(self, ids, mask):        \n",
    "        out = model(input_ids=ids, attention_mask=mask, output_hidden_states=False)\n",
    "        out = self.pooler(out.last_hidden_state, mask)\n",
    "        out = self.drop(out)\n",
    "        outputs = self.fc(out)\n",
    "        return outputs"
   ]
  },
  {
   "cell_type": "code",
   "execution_count": 17,
   "id": "51f2af28",
   "metadata": {},
   "outputs": [],
   "source": [
    "net = AttModel().to(device)  # FeedBackModel is most stable\n",
    "\n",
    "criterion = nn.MSELoss()\n",
    "epochs = 50\n",
    "total_steps = total_steps = len(train_dl) * epochs\n",
    "optimizer = AdamW(net.parameters(), lr=5e-5, eps=1e-8)\n",
    "scheduler = get_linear_schedule_with_warmup(optimizer, num_warmup_steps=10, num_training_steps=total_steps)"
   ]
  },
  {
   "cell_type": "code",
   "execution_count": 18,
   "id": "761a6654",
   "metadata": {
    "scrolled": false
   },
   "outputs": [
    {
     "name": "stdout",
     "output_type": "stream",
     "text": [
      "Epoch 1 / 50\n"
     ]
    },
    {
     "data": {
      "application/vnd.jupyter.widget-view+json": {
       "model_id": "",
       "version_major": 2,
       "version_minor": 0
      },
      "text/plain": [
       "  0%|          | 0/782 [00:00<?, ?it/s]"
      ]
     },
     "metadata": {},
     "output_type": "display_data"
    },
    {
     "data": {
      "application/vnd.jupyter.widget-view+json": {
       "model_id": "",
       "version_major": 2,
       "version_minor": 0
      },
      "text/plain": [
       "  0%|          | 0/196 [00:00<?, ?it/s]"
      ]
     },
     "metadata": {},
     "output_type": "display_data"
    },
    {
     "name": "stdout",
     "output_type": "stream",
     "text": [
      "Train loss: 11.43233, valid loss: 11.13359\n",
      "Train scores: 3.33298, valid scores: 3.29170\n",
      "Epoch 2 / 50\n"
     ]
    },
    {
     "data": {
      "application/vnd.jupyter.widget-view+json": {
       "model_id": "",
       "version_major": 2,
       "version_minor": 0
      },
      "text/plain": [
       "  0%|          | 0/782 [00:00<?, ?it/s]"
      ]
     },
     "metadata": {},
     "output_type": "display_data"
    },
    {
     "data": {
      "application/vnd.jupyter.widget-view+json": {
       "model_id": "",
       "version_major": 2,
       "version_minor": 0
      },
      "text/plain": [
       "  0%|          | 0/196 [00:00<?, ?it/s]"
      ]
     },
     "metadata": {},
     "output_type": "display_data"
    },
    {
     "name": "stdout",
     "output_type": "stream",
     "text": [
      "Train loss: 1.73445, valid loss: 0.42668\n",
      "Train scores: 1.09010, valid scores: 0.59779\n",
      "Epoch 3 / 50\n"
     ]
    },
    {
     "data": {
      "application/vnd.jupyter.widget-view+json": {
       "model_id": "",
       "version_major": 2,
       "version_minor": 0
      },
      "text/plain": [
       "  0%|          | 0/782 [00:00<?, ?it/s]"
      ]
     },
     "metadata": {},
     "output_type": "display_data"
    },
    {
     "data": {
      "application/vnd.jupyter.widget-view+json": {
       "model_id": "",
       "version_major": 2,
       "version_minor": 0
      },
      "text/plain": [
       "  0%|          | 0/196 [00:00<?, ?it/s]"
      ]
     },
     "metadata": {},
     "output_type": "display_data"
    },
    {
     "name": "stdout",
     "output_type": "stream",
     "text": [
      "Train loss: 0.62260, valid loss: 0.42570\n",
      "Train scores: 0.73580, valid scores: 0.59706\n",
      "Epoch 4 / 50\n"
     ]
    },
    {
     "data": {
      "application/vnd.jupyter.widget-view+json": {
       "model_id": "",
       "version_major": 2,
       "version_minor": 0
      },
      "text/plain": [
       "  0%|          | 0/782 [00:00<?, ?it/s]"
      ]
     },
     "metadata": {},
     "output_type": "display_data"
    },
    {
     "data": {
      "application/vnd.jupyter.widget-view+json": {
       "model_id": "",
       "version_major": 2,
       "version_minor": 0
      },
      "text/plain": [
       "  0%|          | 0/196 [00:00<?, ?it/s]"
      ]
     },
     "metadata": {},
     "output_type": "display_data"
    },
    {
     "name": "stdout",
     "output_type": "stream",
     "text": [
      "Train loss: 0.60651, valid loss: 0.42438\n",
      "Train scores: 0.72586, valid scores: 0.59612\n",
      "Epoch 5 / 50\n"
     ]
    },
    {
     "data": {
      "application/vnd.jupyter.widget-view+json": {
       "model_id": "",
       "version_major": 2,
       "version_minor": 0
      },
      "text/plain": [
       "  0%|          | 0/782 [00:00<?, ?it/s]"
      ]
     },
     "metadata": {},
     "output_type": "display_data"
    },
    {
     "data": {
      "application/vnd.jupyter.widget-view+json": {
       "model_id": "",
       "version_major": 2,
       "version_minor": 0
      },
      "text/plain": [
       "  0%|          | 0/196 [00:00<?, ?it/s]"
      ]
     },
     "metadata": {},
     "output_type": "display_data"
    },
    {
     "name": "stdout",
     "output_type": "stream",
     "text": [
      "Train loss: 0.59423, valid loss: 0.42296\n",
      "Train scores: 0.71666, valid scores: 0.59519\n",
      "Epoch 6 / 50\n"
     ]
    },
    {
     "data": {
      "application/vnd.jupyter.widget-view+json": {
       "model_id": "",
       "version_major": 2,
       "version_minor": 0
      },
      "text/plain": [
       "  0%|          | 0/782 [00:00<?, ?it/s]"
      ]
     },
     "metadata": {},
     "output_type": "display_data"
    },
    {
     "data": {
      "application/vnd.jupyter.widget-view+json": {
       "model_id": "",
       "version_major": 2,
       "version_minor": 0
      },
      "text/plain": [
       "  0%|          | 0/196 [00:00<?, ?it/s]"
      ]
     },
     "metadata": {},
     "output_type": "display_data"
    },
    {
     "name": "stdout",
     "output_type": "stream",
     "text": [
      "Train loss: 0.59518, valid loss: 0.42147\n",
      "Train scores: 0.71966, valid scores: 0.59413\n",
      "Epoch 7 / 50\n"
     ]
    },
    {
     "data": {
      "application/vnd.jupyter.widget-view+json": {
       "model_id": "",
       "version_major": 2,
       "version_minor": 0
      },
      "text/plain": [
       "  0%|          | 0/782 [00:00<?, ?it/s]"
      ]
     },
     "metadata": {},
     "output_type": "display_data"
    },
    {
     "data": {
      "application/vnd.jupyter.widget-view+json": {
       "model_id": "",
       "version_major": 2,
       "version_minor": 0
      },
      "text/plain": [
       "  0%|          | 0/196 [00:00<?, ?it/s]"
      ]
     },
     "metadata": {},
     "output_type": "display_data"
    },
    {
     "name": "stdout",
     "output_type": "stream",
     "text": [
      "Train loss: 0.59891, valid loss: 0.41986\n",
      "Train scores: 0.72153, valid scores: 0.59302\n",
      "Epoch 8 / 50\n"
     ]
    },
    {
     "data": {
      "application/vnd.jupyter.widget-view+json": {
       "model_id": "",
       "version_major": 2,
       "version_minor": 0
      },
      "text/plain": [
       "  0%|          | 0/782 [00:00<?, ?it/s]"
      ]
     },
     "metadata": {},
     "output_type": "display_data"
    },
    {
     "data": {
      "application/vnd.jupyter.widget-view+json": {
       "model_id": "",
       "version_major": 2,
       "version_minor": 0
      },
      "text/plain": [
       "  0%|          | 0/196 [00:00<?, ?it/s]"
      ]
     },
     "metadata": {},
     "output_type": "display_data"
    },
    {
     "name": "stdout",
     "output_type": "stream",
     "text": [
      "Train loss: 0.58111, valid loss: 0.41831\n",
      "Train scores: 0.71036, valid scores: 0.59199\n",
      "Epoch 9 / 50\n"
     ]
    },
    {
     "data": {
      "application/vnd.jupyter.widget-view+json": {
       "model_id": "",
       "version_major": 2,
       "version_minor": 0
      },
      "text/plain": [
       "  0%|          | 0/782 [00:00<?, ?it/s]"
      ]
     },
     "metadata": {},
     "output_type": "display_data"
    },
    {
     "data": {
      "application/vnd.jupyter.widget-view+json": {
       "model_id": "",
       "version_major": 2,
       "version_minor": 0
      },
      "text/plain": [
       "  0%|          | 0/196 [00:00<?, ?it/s]"
      ]
     },
     "metadata": {},
     "output_type": "display_data"
    },
    {
     "name": "stdout",
     "output_type": "stream",
     "text": [
      "Train loss: 0.57818, valid loss: 0.41666\n",
      "Train scores: 0.70894, valid scores: 0.59088\n",
      "Epoch 10 / 50\n"
     ]
    },
    {
     "data": {
      "application/vnd.jupyter.widget-view+json": {
       "model_id": "",
       "version_major": 2,
       "version_minor": 0
      },
      "text/plain": [
       "  0%|          | 0/782 [00:00<?, ?it/s]"
      ]
     },
     "metadata": {},
     "output_type": "display_data"
    },
    {
     "data": {
      "application/vnd.jupyter.widget-view+json": {
       "model_id": "",
       "version_major": 2,
       "version_minor": 0
      },
      "text/plain": [
       "  0%|          | 0/196 [00:00<?, ?it/s]"
      ]
     },
     "metadata": {},
     "output_type": "display_data"
    },
    {
     "name": "stdout",
     "output_type": "stream",
     "text": [
      "Train loss: 0.57749, valid loss: 0.41553\n",
      "Train scores: 0.70624, valid scores: 0.59008\n",
      "Epoch 11 / 50\n"
     ]
    },
    {
     "data": {
      "application/vnd.jupyter.widget-view+json": {
       "model_id": "",
       "version_major": 2,
       "version_minor": 0
      },
      "text/plain": [
       "  0%|          | 0/782 [00:00<?, ?it/s]"
      ]
     },
     "metadata": {},
     "output_type": "display_data"
    },
    {
     "data": {
      "application/vnd.jupyter.widget-view+json": {
       "model_id": "",
       "version_major": 2,
       "version_minor": 0
      },
      "text/plain": [
       "  0%|          | 0/196 [00:00<?, ?it/s]"
      ]
     },
     "metadata": {},
     "output_type": "display_data"
    },
    {
     "name": "stdout",
     "output_type": "stream",
     "text": [
      "Train loss: 0.57213, valid loss: 0.41424\n",
      "Train scores: 0.70250, valid scores: 0.58920\n",
      "Epoch 12 / 50\n"
     ]
    },
    {
     "data": {
      "application/vnd.jupyter.widget-view+json": {
       "model_id": "",
       "version_major": 2,
       "version_minor": 0
      },
      "text/plain": [
       "  0%|          | 0/782 [00:00<?, ?it/s]"
      ]
     },
     "metadata": {},
     "output_type": "display_data"
    },
    {
     "data": {
      "application/vnd.jupyter.widget-view+json": {
       "model_id": "",
       "version_major": 2,
       "version_minor": 0
      },
      "text/plain": [
       "  0%|          | 0/196 [00:00<?, ?it/s]"
      ]
     },
     "metadata": {},
     "output_type": "display_data"
    },
    {
     "name": "stdout",
     "output_type": "stream",
     "text": [
      "Train loss: 0.56526, valid loss: 0.41271\n",
      "Train scores: 0.69853, valid scores: 0.58819\n",
      "Epoch 13 / 50\n"
     ]
    },
    {
     "data": {
      "application/vnd.jupyter.widget-view+json": {
       "model_id": "",
       "version_major": 2,
       "version_minor": 0
      },
      "text/plain": [
       "  0%|          | 0/782 [00:00<?, ?it/s]"
      ]
     },
     "metadata": {},
     "output_type": "display_data"
    },
    {
     "data": {
      "application/vnd.jupyter.widget-view+json": {
       "model_id": "",
       "version_major": 2,
       "version_minor": 0
      },
      "text/plain": [
       "  0%|          | 0/196 [00:00<?, ?it/s]"
      ]
     },
     "metadata": {},
     "output_type": "display_data"
    },
    {
     "name": "stdout",
     "output_type": "stream",
     "text": [
      "Train loss: 0.56159, valid loss: 0.41121\n",
      "Train scores: 0.69686, valid scores: 0.58719\n",
      "Epoch 14 / 50\n"
     ]
    },
    {
     "data": {
      "application/vnd.jupyter.widget-view+json": {
       "model_id": "",
       "version_major": 2,
       "version_minor": 0
      },
      "text/plain": [
       "  0%|          | 0/782 [00:00<?, ?it/s]"
      ]
     },
     "metadata": {},
     "output_type": "display_data"
    },
    {
     "data": {
      "application/vnd.jupyter.widget-view+json": {
       "model_id": "",
       "version_major": 2,
       "version_minor": 0
      },
      "text/plain": [
       "  0%|          | 0/196 [00:00<?, ?it/s]"
      ]
     },
     "metadata": {},
     "output_type": "display_data"
    },
    {
     "name": "stdout",
     "output_type": "stream",
     "text": [
      "Train loss: 0.55050, valid loss: 0.40990\n",
      "Train scores: 0.69048, valid scores: 0.58629\n",
      "Epoch 15 / 50\n"
     ]
    },
    {
     "data": {
      "application/vnd.jupyter.widget-view+json": {
       "model_id": "",
       "version_major": 2,
       "version_minor": 0
      },
      "text/plain": [
       "  0%|          | 0/782 [00:00<?, ?it/s]"
      ]
     },
     "metadata": {},
     "output_type": "display_data"
    },
    {
     "data": {
      "application/vnd.jupyter.widget-view+json": {
       "model_id": "",
       "version_major": 2,
       "version_minor": 0
      },
      "text/plain": [
       "  0%|          | 0/196 [00:00<?, ?it/s]"
      ]
     },
     "metadata": {},
     "output_type": "display_data"
    },
    {
     "name": "stdout",
     "output_type": "stream",
     "text": [
      "Train loss: 0.55182, valid loss: 0.40854\n",
      "Train scores: 0.68840, valid scores: 0.58533\n",
      "Epoch 16 / 50\n"
     ]
    },
    {
     "data": {
      "application/vnd.jupyter.widget-view+json": {
       "model_id": "",
       "version_major": 2,
       "version_minor": 0
      },
      "text/plain": [
       "  0%|          | 0/782 [00:00<?, ?it/s]"
      ]
     },
     "metadata": {},
     "output_type": "display_data"
    },
    {
     "data": {
      "application/vnd.jupyter.widget-view+json": {
       "model_id": "",
       "version_major": 2,
       "version_minor": 0
      },
      "text/plain": [
       "  0%|          | 0/196 [00:00<?, ?it/s]"
      ]
     },
     "metadata": {},
     "output_type": "display_data"
    },
    {
     "name": "stdout",
     "output_type": "stream",
     "text": [
      "Train loss: 0.54685, valid loss: 0.40742\n",
      "Train scores: 0.68826, valid scores: 0.58459\n",
      "Epoch 17 / 50\n"
     ]
    },
    {
     "data": {
      "application/vnd.jupyter.widget-view+json": {
       "model_id": "",
       "version_major": 2,
       "version_minor": 0
      },
      "text/plain": [
       "  0%|          | 0/782 [00:00<?, ?it/s]"
      ]
     },
     "metadata": {},
     "output_type": "display_data"
    },
    {
     "data": {
      "application/vnd.jupyter.widget-view+json": {
       "model_id": "",
       "version_major": 2,
       "version_minor": 0
      },
      "text/plain": [
       "  0%|          | 0/196 [00:00<?, ?it/s]"
      ]
     },
     "metadata": {},
     "output_type": "display_data"
    },
    {
     "name": "stdout",
     "output_type": "stream",
     "text": [
      "Train loss: 0.53782, valid loss: 0.40612\n",
      "Train scores: 0.67891, valid scores: 0.58367\n",
      "Epoch 18 / 50\n"
     ]
    },
    {
     "data": {
      "application/vnd.jupyter.widget-view+json": {
       "model_id": "",
       "version_major": 2,
       "version_minor": 0
      },
      "text/plain": [
       "  0%|          | 0/782 [00:00<?, ?it/s]"
      ]
     },
     "metadata": {},
     "output_type": "display_data"
    },
    {
     "data": {
      "application/vnd.jupyter.widget-view+json": {
       "model_id": "",
       "version_major": 2,
       "version_minor": 0
      },
      "text/plain": [
       "  0%|          | 0/196 [00:00<?, ?it/s]"
      ]
     },
     "metadata": {},
     "output_type": "display_data"
    },
    {
     "name": "stdout",
     "output_type": "stream",
     "text": [
      "Train loss: 0.54193, valid loss: 0.40486\n",
      "Train scores: 0.68149, valid scores: 0.58281\n",
      "Epoch 19 / 50\n"
     ]
    },
    {
     "data": {
      "application/vnd.jupyter.widget-view+json": {
       "model_id": "",
       "version_major": 2,
       "version_minor": 0
      },
      "text/plain": [
       "  0%|          | 0/782 [00:00<?, ?it/s]"
      ]
     },
     "metadata": {},
     "output_type": "display_data"
    },
    {
     "data": {
      "application/vnd.jupyter.widget-view+json": {
       "model_id": "",
       "version_major": 2,
       "version_minor": 0
      },
      "text/plain": [
       "  0%|          | 0/196 [00:00<?, ?it/s]"
      ]
     },
     "metadata": {},
     "output_type": "display_data"
    },
    {
     "name": "stdout",
     "output_type": "stream",
     "text": [
      "Train loss: 0.54253, valid loss: 0.40388\n",
      "Train scores: 0.68317, valid scores: 0.58207\n",
      "Epoch 20 / 50\n"
     ]
    },
    {
     "data": {
      "application/vnd.jupyter.widget-view+json": {
       "model_id": "",
       "version_major": 2,
       "version_minor": 0
      },
      "text/plain": [
       "  0%|          | 0/782 [00:00<?, ?it/s]"
      ]
     },
     "metadata": {},
     "output_type": "display_data"
    },
    {
     "data": {
      "application/vnd.jupyter.widget-view+json": {
       "model_id": "",
       "version_major": 2,
       "version_minor": 0
      },
      "text/plain": [
       "  0%|          | 0/196 [00:00<?, ?it/s]"
      ]
     },
     "metadata": {},
     "output_type": "display_data"
    },
    {
     "name": "stdout",
     "output_type": "stream",
     "text": [
      "Train loss: 0.52885, valid loss: 0.40278\n",
      "Train scores: 0.67436, valid scores: 0.58134\n",
      "Epoch 21 / 50\n"
     ]
    },
    {
     "data": {
      "application/vnd.jupyter.widget-view+json": {
       "model_id": "",
       "version_major": 2,
       "version_minor": 0
      },
      "text/plain": [
       "  0%|          | 0/782 [00:00<?, ?it/s]"
      ]
     },
     "metadata": {},
     "output_type": "display_data"
    },
    {
     "data": {
      "application/vnd.jupyter.widget-view+json": {
       "model_id": "",
       "version_major": 2,
       "version_minor": 0
      },
      "text/plain": [
       "  0%|          | 0/196 [00:00<?, ?it/s]"
      ]
     },
     "metadata": {},
     "output_type": "display_data"
    },
    {
     "name": "stdout",
     "output_type": "stream",
     "text": [
      "Train loss: 0.52015, valid loss: 0.40166\n",
      "Train scores: 0.66971, valid scores: 0.58060\n",
      "Epoch 22 / 50\n"
     ]
    },
    {
     "data": {
      "application/vnd.jupyter.widget-view+json": {
       "model_id": "",
       "version_major": 2,
       "version_minor": 0
      },
      "text/plain": [
       "  0%|          | 0/782 [00:00<?, ?it/s]"
      ]
     },
     "metadata": {},
     "output_type": "display_data"
    },
    {
     "data": {
      "application/vnd.jupyter.widget-view+json": {
       "model_id": "",
       "version_major": 2,
       "version_minor": 0
      },
      "text/plain": [
       "  0%|          | 0/196 [00:00<?, ?it/s]"
      ]
     },
     "metadata": {},
     "output_type": "display_data"
    },
    {
     "name": "stdout",
     "output_type": "stream",
     "text": [
      "Train loss: 0.52364, valid loss: 0.40091\n",
      "Train scores: 0.66812, valid scores: 0.58004\n",
      "Epoch 23 / 50\n"
     ]
    },
    {
     "data": {
      "application/vnd.jupyter.widget-view+json": {
       "model_id": "",
       "version_major": 2,
       "version_minor": 0
      },
      "text/plain": [
       "  0%|          | 0/782 [00:00<?, ?it/s]"
      ]
     },
     "metadata": {},
     "output_type": "display_data"
    },
    {
     "data": {
      "application/vnd.jupyter.widget-view+json": {
       "model_id": "",
       "version_major": 2,
       "version_minor": 0
      },
      "text/plain": [
       "  0%|          | 0/196 [00:00<?, ?it/s]"
      ]
     },
     "metadata": {},
     "output_type": "display_data"
    },
    {
     "name": "stdout",
     "output_type": "stream",
     "text": [
      "Train loss: 0.51857, valid loss: 0.39949\n",
      "Train scores: 0.66487, valid scores: 0.57911\n",
      "Epoch 24 / 50\n"
     ]
    },
    {
     "data": {
      "application/vnd.jupyter.widget-view+json": {
       "model_id": "",
       "version_major": 2,
       "version_minor": 0
      },
      "text/plain": [
       "  0%|          | 0/782 [00:00<?, ?it/s]"
      ]
     },
     "metadata": {},
     "output_type": "display_data"
    },
    {
     "data": {
      "application/vnd.jupyter.widget-view+json": {
       "model_id": "",
       "version_major": 2,
       "version_minor": 0
      },
      "text/plain": [
       "  0%|          | 0/196 [00:00<?, ?it/s]"
      ]
     },
     "metadata": {},
     "output_type": "display_data"
    },
    {
     "name": "stdout",
     "output_type": "stream",
     "text": [
      "Train loss: 0.52235, valid loss: 0.39903\n",
      "Train scores: 0.66740, valid scores: 0.57874\n",
      "Epoch 25 / 50\n"
     ]
    },
    {
     "data": {
      "application/vnd.jupyter.widget-view+json": {
       "model_id": "",
       "version_major": 2,
       "version_minor": 0
      },
      "text/plain": [
       "  0%|          | 0/782 [00:00<?, ?it/s]"
      ]
     },
     "metadata": {},
     "output_type": "display_data"
    },
    {
     "data": {
      "application/vnd.jupyter.widget-view+json": {
       "model_id": "",
       "version_major": 2,
       "version_minor": 0
      },
      "text/plain": [
       "  0%|          | 0/196 [00:00<?, ?it/s]"
      ]
     },
     "metadata": {},
     "output_type": "display_data"
    },
    {
     "name": "stdout",
     "output_type": "stream",
     "text": [
      "Train loss: 0.51425, valid loss: 0.39781\n",
      "Train scores: 0.66305, valid scores: 0.57790\n",
      "Epoch 26 / 50\n"
     ]
    },
    {
     "data": {
      "application/vnd.jupyter.widget-view+json": {
       "model_id": "",
       "version_major": 2,
       "version_minor": 0
      },
      "text/plain": [
       "  0%|          | 0/782 [00:00<?, ?it/s]"
      ]
     },
     "metadata": {},
     "output_type": "display_data"
    },
    {
     "data": {
      "application/vnd.jupyter.widget-view+json": {
       "model_id": "",
       "version_major": 2,
       "version_minor": 0
      },
      "text/plain": [
       "  0%|          | 0/196 [00:00<?, ?it/s]"
      ]
     },
     "metadata": {},
     "output_type": "display_data"
    },
    {
     "name": "stdout",
     "output_type": "stream",
     "text": [
      "Train loss: 0.50746, valid loss: 0.39672\n",
      "Train scores: 0.65976, valid scores: 0.57719\n",
      "Epoch 27 / 50\n"
     ]
    },
    {
     "data": {
      "application/vnd.jupyter.widget-view+json": {
       "model_id": "",
       "version_major": 2,
       "version_minor": 0
      },
      "text/plain": [
       "  0%|          | 0/782 [00:00<?, ?it/s]"
      ]
     },
     "metadata": {},
     "output_type": "display_data"
    },
    {
     "data": {
      "application/vnd.jupyter.widget-view+json": {
       "model_id": "",
       "version_major": 2,
       "version_minor": 0
      },
      "text/plain": [
       "  0%|          | 0/196 [00:00<?, ?it/s]"
      ]
     },
     "metadata": {},
     "output_type": "display_data"
    },
    {
     "name": "stdout",
     "output_type": "stream",
     "text": [
      "Train loss: 0.49399, valid loss: 0.39589\n",
      "Train scores: 0.64917, valid scores: 0.57658\n",
      "Epoch 28 / 50\n"
     ]
    },
    {
     "data": {
      "application/vnd.jupyter.widget-view+json": {
       "model_id": "",
       "version_major": 2,
       "version_minor": 0
      },
      "text/plain": [
       "  0%|          | 0/782 [00:00<?, ?it/s]"
      ]
     },
     "metadata": {},
     "output_type": "display_data"
    },
    {
     "data": {
      "application/vnd.jupyter.widget-view+json": {
       "model_id": "",
       "version_major": 2,
       "version_minor": 0
      },
      "text/plain": [
       "  0%|          | 0/196 [00:00<?, ?it/s]"
      ]
     },
     "metadata": {},
     "output_type": "display_data"
    },
    {
     "name": "stdout",
     "output_type": "stream",
     "text": [
      "Train loss: 0.49782, valid loss: 0.39479\n",
      "Train scores: 0.65140, valid scores: 0.57583\n",
      "Epoch 29 / 50\n"
     ]
    },
    {
     "data": {
      "application/vnd.jupyter.widget-view+json": {
       "model_id": "",
       "version_major": 2,
       "version_minor": 0
      },
      "text/plain": [
       "  0%|          | 0/782 [00:00<?, ?it/s]"
      ]
     },
     "metadata": {},
     "output_type": "display_data"
    },
    {
     "data": {
      "application/vnd.jupyter.widget-view+json": {
       "model_id": "",
       "version_major": 2,
       "version_minor": 0
      },
      "text/plain": [
       "  0%|          | 0/196 [00:00<?, ?it/s]"
      ]
     },
     "metadata": {},
     "output_type": "display_data"
    },
    {
     "name": "stdout",
     "output_type": "stream",
     "text": [
      "Train loss: 0.49448, valid loss: 0.39407\n",
      "Train scores: 0.65184, valid scores: 0.57530\n",
      "Epoch 30 / 50\n"
     ]
    },
    {
     "data": {
      "application/vnd.jupyter.widget-view+json": {
       "model_id": "",
       "version_major": 2,
       "version_minor": 0
      },
      "text/plain": [
       "  0%|          | 0/782 [00:00<?, ?it/s]"
      ]
     },
     "metadata": {},
     "output_type": "display_data"
    },
    {
     "data": {
      "application/vnd.jupyter.widget-view+json": {
       "model_id": "",
       "version_major": 2,
       "version_minor": 0
      },
      "text/plain": [
       "  0%|          | 0/196 [00:00<?, ?it/s]"
      ]
     },
     "metadata": {},
     "output_type": "display_data"
    },
    {
     "name": "stdout",
     "output_type": "stream",
     "text": [
      "Train loss: 0.50053, valid loss: 0.39289\n",
      "Train scores: 0.65463, valid scores: 0.57449\n",
      "Epoch 31 / 50\n"
     ]
    },
    {
     "data": {
      "application/vnd.jupyter.widget-view+json": {
       "model_id": "",
       "version_major": 2,
       "version_minor": 0
      },
      "text/plain": [
       "  0%|          | 0/782 [00:00<?, ?it/s]"
      ]
     },
     "metadata": {},
     "output_type": "display_data"
    },
    {
     "data": {
      "application/vnd.jupyter.widget-view+json": {
       "model_id": "",
       "version_major": 2,
       "version_minor": 0
      },
      "text/plain": [
       "  0%|          | 0/196 [00:00<?, ?it/s]"
      ]
     },
     "metadata": {},
     "output_type": "display_data"
    },
    {
     "name": "stdout",
     "output_type": "stream",
     "text": [
      "Train loss: 0.50050, valid loss: 0.39192\n",
      "Train scores: 0.65330, valid scores: 0.57381\n",
      "Epoch 32 / 50\n"
     ]
    },
    {
     "data": {
      "application/vnd.jupyter.widget-view+json": {
       "model_id": "",
       "version_major": 2,
       "version_minor": 0
      },
      "text/plain": [
       "  0%|          | 0/782 [00:00<?, ?it/s]"
      ]
     },
     "metadata": {},
     "output_type": "display_data"
    },
    {
     "data": {
      "application/vnd.jupyter.widget-view+json": {
       "model_id": "",
       "version_major": 2,
       "version_minor": 0
      },
      "text/plain": [
       "  0%|          | 0/196 [00:00<?, ?it/s]"
      ]
     },
     "metadata": {},
     "output_type": "display_data"
    },
    {
     "name": "stdout",
     "output_type": "stream",
     "text": [
      "Train loss: 0.49575, valid loss: 0.39094\n",
      "Train scores: 0.65027, valid scores: 0.57314\n",
      "Epoch 33 / 50\n"
     ]
    },
    {
     "data": {
      "application/vnd.jupyter.widget-view+json": {
       "model_id": "",
       "version_major": 2,
       "version_minor": 0
      },
      "text/plain": [
       "  0%|          | 0/782 [00:00<?, ?it/s]"
      ]
     },
     "metadata": {},
     "output_type": "display_data"
    },
    {
     "data": {
      "application/vnd.jupyter.widget-view+json": {
       "model_id": "",
       "version_major": 2,
       "version_minor": 0
      },
      "text/plain": [
       "  0%|          | 0/196 [00:00<?, ?it/s]"
      ]
     },
     "metadata": {},
     "output_type": "display_data"
    },
    {
     "name": "stdout",
     "output_type": "stream",
     "text": [
      "Train loss: 0.48665, valid loss: 0.38999\n",
      "Train scores: 0.64335, valid scores: 0.57247\n",
      "Epoch 34 / 50\n"
     ]
    },
    {
     "data": {
      "application/vnd.jupyter.widget-view+json": {
       "model_id": "",
       "version_major": 2,
       "version_minor": 0
      },
      "text/plain": [
       "  0%|          | 0/782 [00:00<?, ?it/s]"
      ]
     },
     "metadata": {},
     "output_type": "display_data"
    },
    {
     "data": {
      "application/vnd.jupyter.widget-view+json": {
       "model_id": "",
       "version_major": 2,
       "version_minor": 0
      },
      "text/plain": [
       "  0%|          | 0/196 [00:00<?, ?it/s]"
      ]
     },
     "metadata": {},
     "output_type": "display_data"
    },
    {
     "name": "stdout",
     "output_type": "stream",
     "text": [
      "Train loss: 0.48650, valid loss: 0.38904\n",
      "Train scores: 0.64345, valid scores: 0.57178\n",
      "Epoch 35 / 50\n"
     ]
    },
    {
     "data": {
      "application/vnd.jupyter.widget-view+json": {
       "model_id": "",
       "version_major": 2,
       "version_minor": 0
      },
      "text/plain": [
       "  0%|          | 0/782 [00:00<?, ?it/s]"
      ]
     },
     "metadata": {},
     "output_type": "display_data"
    },
    {
     "data": {
      "application/vnd.jupyter.widget-view+json": {
       "model_id": "",
       "version_major": 2,
       "version_minor": 0
      },
      "text/plain": [
       "  0%|          | 0/196 [00:00<?, ?it/s]"
      ]
     },
     "metadata": {},
     "output_type": "display_data"
    },
    {
     "name": "stdout",
     "output_type": "stream",
     "text": [
      "Train loss: 0.48274, valid loss: 0.38814\n",
      "Train scores: 0.64124, valid scores: 0.57113\n",
      "Epoch 36 / 50\n"
     ]
    },
    {
     "data": {
      "application/vnd.jupyter.widget-view+json": {
       "model_id": "",
       "version_major": 2,
       "version_minor": 0
      },
      "text/plain": [
       "  0%|          | 0/782 [00:00<?, ?it/s]"
      ]
     },
     "metadata": {},
     "output_type": "display_data"
    },
    {
     "data": {
      "application/vnd.jupyter.widget-view+json": {
       "model_id": "",
       "version_major": 2,
       "version_minor": 0
      },
      "text/plain": [
       "  0%|          | 0/196 [00:00<?, ?it/s]"
      ]
     },
     "metadata": {},
     "output_type": "display_data"
    },
    {
     "name": "stdout",
     "output_type": "stream",
     "text": [
      "Train loss: 0.48168, valid loss: 0.38726\n",
      "Train scores: 0.64242, valid scores: 0.57050\n",
      "Epoch 37 / 50\n"
     ]
    },
    {
     "data": {
      "application/vnd.jupyter.widget-view+json": {
       "model_id": "",
       "version_major": 2,
       "version_minor": 0
      },
      "text/plain": [
       "  0%|          | 0/782 [00:00<?, ?it/s]"
      ]
     },
     "metadata": {},
     "output_type": "display_data"
    },
    {
     "data": {
      "application/vnd.jupyter.widget-view+json": {
       "model_id": "",
       "version_major": 2,
       "version_minor": 0
      },
      "text/plain": [
       "  0%|          | 0/196 [00:00<?, ?it/s]"
      ]
     },
     "metadata": {},
     "output_type": "display_data"
    },
    {
     "name": "stdout",
     "output_type": "stream",
     "text": [
      "Train loss: 0.48219, valid loss: 0.38648\n",
      "Train scores: 0.64035, valid scores: 0.56993\n",
      "Epoch 38 / 50\n"
     ]
    },
    {
     "data": {
      "application/vnd.jupyter.widget-view+json": {
       "model_id": "",
       "version_major": 2,
       "version_minor": 0
      },
      "text/plain": [
       "  0%|          | 0/782 [00:00<?, ?it/s]"
      ]
     },
     "metadata": {},
     "output_type": "display_data"
    },
    {
     "data": {
      "application/vnd.jupyter.widget-view+json": {
       "model_id": "",
       "version_major": 2,
       "version_minor": 0
      },
      "text/plain": [
       "  0%|          | 0/196 [00:00<?, ?it/s]"
      ]
     },
     "metadata": {},
     "output_type": "display_data"
    },
    {
     "name": "stdout",
     "output_type": "stream",
     "text": [
      "Train loss: 0.47457, valid loss: 0.38565\n",
      "Train scores: 0.63734, valid scores: 0.56935\n",
      "Epoch 39 / 50\n"
     ]
    },
    {
     "data": {
      "application/vnd.jupyter.widget-view+json": {
       "model_id": "",
       "version_major": 2,
       "version_minor": 0
      },
      "text/plain": [
       "  0%|          | 0/782 [00:00<?, ?it/s]"
      ]
     },
     "metadata": {},
     "output_type": "display_data"
    },
    {
     "data": {
      "application/vnd.jupyter.widget-view+json": {
       "model_id": "",
       "version_major": 2,
       "version_minor": 0
      },
      "text/plain": [
       "  0%|          | 0/196 [00:00<?, ?it/s]"
      ]
     },
     "metadata": {},
     "output_type": "display_data"
    },
    {
     "name": "stdout",
     "output_type": "stream",
     "text": [
      "Train loss: 0.47989, valid loss: 0.38495\n",
      "Train scores: 0.63924, valid scores: 0.56883\n",
      "Epoch 40 / 50\n"
     ]
    },
    {
     "data": {
      "application/vnd.jupyter.widget-view+json": {
       "model_id": "",
       "version_major": 2,
       "version_minor": 0
      },
      "text/plain": [
       "  0%|          | 0/782 [00:00<?, ?it/s]"
      ]
     },
     "metadata": {},
     "output_type": "display_data"
    },
    {
     "data": {
      "application/vnd.jupyter.widget-view+json": {
       "model_id": "",
       "version_major": 2,
       "version_minor": 0
      },
      "text/plain": [
       "  0%|          | 0/196 [00:00<?, ?it/s]"
      ]
     },
     "metadata": {},
     "output_type": "display_data"
    },
    {
     "name": "stdout",
     "output_type": "stream",
     "text": [
      "Train loss: 0.47415, valid loss: 0.38398\n",
      "Train scores: 0.63763, valid scores: 0.56813\n",
      "Epoch 41 / 50\n"
     ]
    },
    {
     "data": {
      "application/vnd.jupyter.widget-view+json": {
       "model_id": "",
       "version_major": 2,
       "version_minor": 0
      },
      "text/plain": [
       "  0%|          | 0/782 [00:00<?, ?it/s]"
      ]
     },
     "metadata": {},
     "output_type": "display_data"
    },
    {
     "data": {
      "application/vnd.jupyter.widget-view+json": {
       "model_id": "",
       "version_major": 2,
       "version_minor": 0
      },
      "text/plain": [
       "  0%|          | 0/196 [00:00<?, ?it/s]"
      ]
     },
     "metadata": {},
     "output_type": "display_data"
    },
    {
     "name": "stdout",
     "output_type": "stream",
     "text": [
      "Train loss: 0.47404, valid loss: 0.38291\n",
      "Train scores: 0.63443, valid scores: 0.56741\n",
      "Epoch 42 / 50\n"
     ]
    },
    {
     "data": {
      "application/vnd.jupyter.widget-view+json": {
       "model_id": "",
       "version_major": 2,
       "version_minor": 0
      },
      "text/plain": [
       "  0%|          | 0/782 [00:00<?, ?it/s]"
      ]
     },
     "metadata": {},
     "output_type": "display_data"
    },
    {
     "data": {
      "application/vnd.jupyter.widget-view+json": {
       "model_id": "",
       "version_major": 2,
       "version_minor": 0
      },
      "text/plain": [
       "  0%|          | 0/196 [00:00<?, ?it/s]"
      ]
     },
     "metadata": {},
     "output_type": "display_data"
    },
    {
     "name": "stdout",
     "output_type": "stream",
     "text": [
      "Train loss: 0.47472, valid loss: 0.38219\n",
      "Train scores: 0.63571, valid scores: 0.56687\n",
      "Epoch 43 / 50\n"
     ]
    },
    {
     "data": {
      "application/vnd.jupyter.widget-view+json": {
       "model_id": "",
       "version_major": 2,
       "version_minor": 0
      },
      "text/plain": [
       "  0%|          | 0/782 [00:00<?, ?it/s]"
      ]
     },
     "metadata": {},
     "output_type": "display_data"
    },
    {
     "data": {
      "application/vnd.jupyter.widget-view+json": {
       "model_id": "",
       "version_major": 2,
       "version_minor": 0
      },
      "text/plain": [
       "  0%|          | 0/196 [00:00<?, ?it/s]"
      ]
     },
     "metadata": {},
     "output_type": "display_data"
    },
    {
     "name": "stdout",
     "output_type": "stream",
     "text": [
      "Train loss: 0.46481, valid loss: 0.38123\n",
      "Train scores: 0.62861, valid scores: 0.56620\n",
      "Epoch 44 / 50\n"
     ]
    },
    {
     "data": {
      "application/vnd.jupyter.widget-view+json": {
       "model_id": "",
       "version_major": 2,
       "version_minor": 0
      },
      "text/plain": [
       "  0%|          | 0/782 [00:00<?, ?it/s]"
      ]
     },
     "metadata": {},
     "output_type": "display_data"
    },
    {
     "data": {
      "application/vnd.jupyter.widget-view+json": {
       "model_id": "",
       "version_major": 2,
       "version_minor": 0
      },
      "text/plain": [
       "  0%|          | 0/196 [00:00<?, ?it/s]"
      ]
     },
     "metadata": {},
     "output_type": "display_data"
    },
    {
     "name": "stdout",
     "output_type": "stream",
     "text": [
      "Train loss: 0.46329, valid loss: 0.38054\n",
      "Train scores: 0.62874, valid scores: 0.56569\n",
      "Epoch 45 / 50\n"
     ]
    },
    {
     "data": {
      "application/vnd.jupyter.widget-view+json": {
       "model_id": "",
       "version_major": 2,
       "version_minor": 0
      },
      "text/plain": [
       "  0%|          | 0/782 [00:00<?, ?it/s]"
      ]
     },
     "metadata": {},
     "output_type": "display_data"
    },
    {
     "data": {
      "application/vnd.jupyter.widget-view+json": {
       "model_id": "",
       "version_major": 2,
       "version_minor": 0
      },
      "text/plain": [
       "  0%|          | 0/196 [00:00<?, ?it/s]"
      ]
     },
     "metadata": {},
     "output_type": "display_data"
    },
    {
     "name": "stdout",
     "output_type": "stream",
     "text": [
      "Train loss: 0.46759, valid loss: 0.37957\n",
      "Train scores: 0.62835, valid scores: 0.56502\n",
      "Epoch 46 / 50\n"
     ]
    },
    {
     "data": {
      "application/vnd.jupyter.widget-view+json": {
       "model_id": "",
       "version_major": 2,
       "version_minor": 0
      },
      "text/plain": [
       "  0%|          | 0/782 [00:00<?, ?it/s]"
      ]
     },
     "metadata": {},
     "output_type": "display_data"
    },
    {
     "data": {
      "application/vnd.jupyter.widget-view+json": {
       "model_id": "",
       "version_major": 2,
       "version_minor": 0
      },
      "text/plain": [
       "  0%|          | 0/196 [00:00<?, ?it/s]"
      ]
     },
     "metadata": {},
     "output_type": "display_data"
    },
    {
     "name": "stdout",
     "output_type": "stream",
     "text": [
      "Train loss: 0.46580, valid loss: 0.37927\n",
      "Train scores: 0.62917, valid scores: 0.56471\n",
      "Epoch 47 / 50\n"
     ]
    },
    {
     "data": {
      "application/vnd.jupyter.widget-view+json": {
       "model_id": "",
       "version_major": 2,
       "version_minor": 0
      },
      "text/plain": [
       "  0%|          | 0/782 [00:00<?, ?it/s]"
      ]
     },
     "metadata": {},
     "output_type": "display_data"
    },
    {
     "data": {
      "application/vnd.jupyter.widget-view+json": {
       "model_id": "",
       "version_major": 2,
       "version_minor": 0
      },
      "text/plain": [
       "  0%|          | 0/196 [00:00<?, ?it/s]"
      ]
     },
     "metadata": {},
     "output_type": "display_data"
    },
    {
     "name": "stdout",
     "output_type": "stream",
     "text": [
      "Train loss: 0.46109, valid loss: 0.37785\n",
      "Train scores: 0.62540, valid scores: 0.56380\n",
      "Epoch 48 / 50\n"
     ]
    },
    {
     "data": {
      "application/vnd.jupyter.widget-view+json": {
       "model_id": "",
       "version_major": 2,
       "version_minor": 0
      },
      "text/plain": [
       "  0%|          | 0/782 [00:00<?, ?it/s]"
      ]
     },
     "metadata": {},
     "output_type": "display_data"
    },
    {
     "data": {
      "application/vnd.jupyter.widget-view+json": {
       "model_id": "",
       "version_major": 2,
       "version_minor": 0
      },
      "text/plain": [
       "  0%|          | 0/196 [00:00<?, ?it/s]"
      ]
     },
     "metadata": {},
     "output_type": "display_data"
    },
    {
     "name": "stdout",
     "output_type": "stream",
     "text": [
      "Train loss: 0.46341, valid loss: 0.37725\n",
      "Train scores: 0.62841, valid scores: 0.56332\n",
      "Epoch 49 / 50\n"
     ]
    },
    {
     "data": {
      "application/vnd.jupyter.widget-view+json": {
       "model_id": "",
       "version_major": 2,
       "version_minor": 0
      },
      "text/plain": [
       "  0%|          | 0/782 [00:00<?, ?it/s]"
      ]
     },
     "metadata": {},
     "output_type": "display_data"
    },
    {
     "data": {
      "application/vnd.jupyter.widget-view+json": {
       "model_id": "",
       "version_major": 2,
       "version_minor": 0
      },
      "text/plain": [
       "  0%|          | 0/196 [00:00<?, ?it/s]"
      ]
     },
     "metadata": {},
     "output_type": "display_data"
    },
    {
     "name": "stdout",
     "output_type": "stream",
     "text": [
      "Train loss: 0.45606, valid loss: 0.37670\n",
      "Train scores: 0.62440, valid scores: 0.56289\n",
      "Epoch 50 / 50\n"
     ]
    },
    {
     "data": {
      "application/vnd.jupyter.widget-view+json": {
       "model_id": "",
       "version_major": 2,
       "version_minor": 0
      },
      "text/plain": [
       "  0%|          | 0/782 [00:00<?, ?it/s]"
      ]
     },
     "metadata": {},
     "output_type": "display_data"
    },
    {
     "data": {
      "application/vnd.jupyter.widget-view+json": {
       "model_id": "",
       "version_major": 2,
       "version_minor": 0
      },
      "text/plain": [
       "  0%|          | 0/196 [00:00<?, ?it/s]"
      ]
     },
     "metadata": {},
     "output_type": "display_data"
    },
    {
     "name": "stdout",
     "output_type": "stream",
     "text": [
      "Train loss: 0.45765, valid loss: 0.37598\n",
      "Train scores: 0.62344, valid scores: 0.56239\n"
     ]
    }
   ],
   "source": [
    "train_losses, valid_losses = [], []\n",
    "\n",
    "for epoch in range(epochs):\n",
    "    print(f\"Epoch {epoch+1} / {epochs}\")\n",
    "    \n",
    "    losses, scores = [], []\n",
    "    for batch in tqdm(train_dl, total=len(train_dl), leave=False):\n",
    "        net.train()\n",
    "        optimizer.zero_grad()\n",
    "        \n",
    "        input_ids, att_masks, labels = batch\n",
    "        logits = net(input_ids.to(device), att_masks.to(device))\n",
    "        loss = criterion(logits, labels.to(device))\n",
    "        loss.backward()\n",
    "        optimizer.step()\n",
    "        \n",
    "        torch.nn.utils.clip_grad_norm_(net.parameters(), 1.0)\n",
    "        \n",
    "        losses.append(loss.item())\n",
    "        scores.append(MCRMSE(labels.detach().cpu().numpy(), logits.detach().cpu().numpy()))\n",
    "    epoch_train_scores = np.mean(scores)\n",
    "    epoch_train_loss = np.mean(losses)\n",
    "    train_losses.append(epoch_train_loss)\n",
    "    \n",
    "    losses, scores = [], []\n",
    "    for batch in tqdm(valid_dl, total=len(valid_dl), leave=False):\n",
    "        net.eval()\n",
    "        input_ids, att_masks, labels = batch\n",
    "        \n",
    "        with torch.no_grad():\n",
    "            logits = net(input_ids.to(device), att_masks.to(device))\n",
    "            loss = criterion(logits, labels.to(device))\n",
    "        losses.append(loss.item())\n",
    "        scores.append(MCRMSE(labels.detach().cpu().numpy(), logits.detach().cpu().numpy()))\n",
    "    epoch_valid_loss = np.mean(losses)\n",
    "    epoch_valid_scores = np.mean(scores)\n",
    "    valid_losses.append(epoch_valid_loss)\n",
    "    \n",
    "    scheduler.step(epoch_valid_loss)\n",
    "    \n",
    "    print(f\"Train loss: {epoch_train_loss:.5f}, valid loss: {epoch_valid_loss:.5f}\")\n",
    "    print(f\"Train scores: {epoch_train_scores:.5f}, valid scores: {epoch_valid_scores:.5f}\")"
   ]
  },
  {
   "cell_type": "markdown",
   "id": "ab79f010",
   "metadata": {},
   "source": [
    "## Word2vec encoder\n",
    "<br><a href=https://arxiv.org/pdf/1301.3781.pdf>word2vec original paper</a>"
   ]
  },
  {
   "cell_type": "markdown",
   "id": "5ecba6a5",
   "metadata": {},
   "source": [
    "<img src=w2v.png>"
   ]
  },
  {
   "cell_type": "code",
   "execution_count": 50,
   "id": "db521136",
   "metadata": {},
   "outputs": [],
   "source": [
    "from gensim.models import Word2Vec"
   ]
  },
  {
   "cell_type": "code",
   "execution_count": 51,
   "id": "184ec548",
   "metadata": {},
   "outputs": [
    {
     "data": {
      "text/plain": [
       "0"
      ]
     },
     "execution_count": 51,
     "metadata": {},
     "output_type": "execute_result"
    }
   ],
   "source": [
    "train_enc = train[\"full_text\"].apply(lambda x: snow_stem(preprocessor(x)).split())\n",
    "gc.collect()"
   ]
  },
  {
   "cell_type": "code",
   "execution_count": 52,
   "id": "5018ff82",
   "metadata": {},
   "outputs": [],
   "source": [
    "wmodel = Word2Vec(window=10, sg=1, hs=0, negative=10, alpha=0.03, min_alpha=0.0007, seed=seed)\n",
    "\n",
    "wmodel.build_vocab(train_enc, progress_per=200)\n",
    "\n",
    "wmodel.train(train_enc, total_examples=wmodel.corpus_count, epochs=20, report_delay=1)\n",
    "wmodel.init_sims(replace=True)"
   ]
  },
  {
   "cell_type": "code",
   "execution_count": 53,
   "id": "5da5136c",
   "metadata": {},
   "outputs": [],
   "source": [
    "def aggregate_vectors(items, agg_func=np.mean):\n",
    "    n = len(items)\n",
    "    item_vec = np.zeros((n, 100))\n",
    "    for i in range(n):\n",
    "        try:\n",
    "            item_vec[i, :] = wmodel.wv.get_vector(items[i], norm=True)\n",
    "        except KeyError:\n",
    "            continue\n",
    "\n",
    "    return agg_func(item_vec, axis=0)"
   ]
  },
  {
   "cell_type": "code",
   "execution_count": 25,
   "id": "d869a044",
   "metadata": {},
   "outputs": [
    {
     "data": {
      "text/plain": [
       "array([ 5.49568167e-02,  6.50992220e-02, -1.23898177e-02,  9.88180647e-02,\n",
       "       -6.41737839e-02,  6.10573513e-03,  8.55784495e-03, -2.80213943e-02,\n",
       "        2.91608556e-02,  6.62954544e-03, -1.13670222e-01,  2.32459710e-03,\n",
       "        9.45151654e-02,  9.29290331e-03, -3.23485249e-02, -2.66641401e-02,\n",
       "        1.42495557e-01,  3.10273544e-03, -8.20647131e-02,  1.54746731e-02,\n",
       "       -4.73497517e-02,  4.13829624e-02, -4.35033586e-02, -2.46894202e-02,\n",
       "       -1.44293687e-02,  1.14565853e-01,  1.22476762e-02, -1.98909554e-02,\n",
       "        8.23148069e-02, -2.87900323e-02, -3.76960055e-03,  2.79519358e-02,\n",
       "        1.00643943e-01,  5.35840235e-02, -7.78463967e-02,  8.87313737e-02,\n",
       "       -1.56221022e-02,  1.30273731e-02,  2.10993452e-02,  2.23867668e-02,\n",
       "       -2.02543362e-02, -1.11475476e-01,  8.13004091e-02, -5.87143740e-02,\n",
       "       -1.36891345e-02,  1.83664076e-02, -5.92603437e-03, -6.83435262e-03,\n",
       "        9.08860167e-04, -5.66390734e-02, -6.53079851e-02, -3.82534389e-02,\n",
       "       -7.18860300e-02,  4.14159298e-02, -4.32523598e-02,  1.27157054e-01,\n",
       "        1.63353158e-02,  4.23016438e-02, -1.01215411e-01,  3.96312072e-02,\n",
       "        1.06701281e-04,  6.94023056e-02, -1.40458060e-01,  1.98304238e-02,\n",
       "       -8.16216304e-03, -2.71787829e-02,  2.12361163e-02,  3.11272126e-02,\n",
       "       -1.03902204e-01,  4.84367586e-02, -8.38973037e-03, -5.48815299e-02,\n",
       "       -2.44615225e-02, -9.70605538e-02, -8.00846414e-02,  6.35102647e-02,\n",
       "        1.43192342e-02,  1.03044597e-02,  5.63538943e-02, -3.64083216e-02,\n",
       "        3.37891587e-02, -1.22170907e-02,  8.21593030e-03,  3.11983069e-02,\n",
       "        6.41115118e-04, -4.73335208e-02, -7.75408758e-03,  4.68139930e-02,\n",
       "       -5.13175354e-02, -4.11734025e-02, -1.36750548e-01,  8.16809743e-03,\n",
       "       -9.58994667e-03, -4.95008864e-02,  8.91043324e-02, -6.00439812e-02,\n",
       "       -2.62423510e-02,  3.90438620e-02, -4.86651568e-02, -1.85323884e-02])"
      ]
     },
     "execution_count": 25,
     "metadata": {},
     "output_type": "execute_result"
    }
   ],
   "source": [
    "aggregate_vectors(train_enc.iloc[0])"
   ]
  },
  {
   "cell_type": "markdown",
   "id": "d55df617",
   "metadata": {},
   "source": [
    "## Doc2vec\n",
    "\n",
    "<a href=https://arxiv.org/pdf/1405.4053.pdf>Original Doc2Vec paper</a>"
   ]
  },
  {
   "cell_type": "markdown",
   "id": "b50a59b2",
   "metadata": {},
   "source": [
    "<img src=d2v.png width=600 height=200>"
   ]
  },
  {
   "cell_type": "code",
   "execution_count": 26,
   "id": "5e81b091",
   "metadata": {},
   "outputs": [],
   "source": [
    "import gensim\n",
    "from gensim.models.doc2vec import Doc2Vec"
   ]
  },
  {
   "cell_type": "code",
   "execution_count": 55,
   "id": "fc643d43",
   "metadata": {},
   "outputs": [
    {
     "data": {
      "text/plain": [
       "941"
      ]
     },
     "execution_count": 55,
     "metadata": {},
     "output_type": "execute_result"
    }
   ],
   "source": [
    "train_enc = train[\"full_text\"].apply(lambda x: snow_stem(preprocessor(x)))\n",
    "gc.collect()"
   ]
  },
  {
   "cell_type": "code",
   "execution_count": 62,
   "id": "4622f38f",
   "metadata": {},
   "outputs": [],
   "source": [
    "def read_corpus(series, tokens_only=False):\n",
    "    for i, tokens in enumerate(series):\n",
    "        tokens = gensim.utils.simple_preprocess(tokens)\n",
    "        if tokens_only:\n",
    "            yield tokens\n",
    "        else:\n",
    "            yield gensim.models.doc2vec.TaggedDocument(tokens, [i])"
   ]
  },
  {
   "cell_type": "code",
   "execution_count": 64,
   "id": "fb17cf2f",
   "metadata": {},
   "outputs": [],
   "source": [
    "train_corpus = list(read_corpus(train_enc))"
   ]
  },
  {
   "cell_type": "code",
   "execution_count": 65,
   "id": "3ee0c8ea",
   "metadata": {},
   "outputs": [],
   "source": [
    "dmodel = Doc2Vec(vector_size=100, min_count=2, epochs=40, window=10, hs=0, negative=10, alpha=0.03, min_alpha=0.0007, seed=seed)\n",
    "dmodel.build_vocab(train_corpus)\n",
    "\n",
    "dmodel.train(train_corpus, total_examples=dmodel.corpus_count, epochs=dmodel.epochs)"
   ]
  },
  {
   "cell_type": "code",
   "execution_count": 69,
   "id": "9158f58c",
   "metadata": {},
   "outputs": [],
   "source": [
    "X = np.empty((len(train_enc), 100))\n",
    "\n",
    "for i, token in enumerate(train_enc):\n",
    "    X[i, :] = dmodel.infer_vector(token.split())"
   ]
  },
  {
   "cell_type": "markdown",
   "id": "7500ee05",
   "metadata": {},
   "source": [
    "## TfidfVectorizer"
   ]
  },
  {
   "cell_type": "markdown",
   "id": "b542652e",
   "metadata": {},
   "source": [
    "<table>\n",
    "    <tr>\n",
    "        <td>\n",
    "            <img src=tfidf1.png>\n",
    "            </td>\n",
    "        <td>\n",
    "            <img src=tfidf2.png>\n",
    "            </td>\n",
    "        </tr>\n",
    "    </table>"
   ]
  },
  {
   "cell_type": "code",
   "execution_count": 103,
   "id": "17c22485",
   "metadata": {},
   "outputs": [],
   "source": [
    "train_enc = train[\"full_text\"].apply(lambda x: snow_stem(preprocessor(x)))"
   ]
  },
  {
   "cell_type": "code",
   "execution_count": 111,
   "id": "66c6af60",
   "metadata": {},
   "outputs": [],
   "source": [
    "from sklearn.feature_extraction.text import TfidfVectorizer\n",
    "\n",
    "tfidf = TfidfVectorizer(lowercase=True, stop_words=\"english\", ngram_range=(1,2), max_df=12, max_features=2000)\n",
    "X = tfidf.fit_transform(train_enc.values.tolist())"
   ]
  },
  {
   "cell_type": "markdown",
   "id": "82548652",
   "metadata": {},
   "source": [
    "## 6 LGBMRegressor models with text_features"
   ]
  },
  {
   "cell_type": "code",
   "execution_count": 72,
   "id": "e9af12a5",
   "metadata": {},
   "outputs": [],
   "source": [
    "from sklearn.multioutput import MultiOutputRegressor\n",
    "from sklearn.decomposition import PCA\n",
    "from sklearn.pipeline import make_pipeline\n",
    "from sklearn.preprocessing import StandardScaler\n",
    "from sklearn.model_selection import KFold\n",
    "from lightgbm import LGBMRegressor\n",
    "from lutils import *"
   ]
  },
  {
   "cell_type": "markdown",
   "id": "4a16f309",
   "metadata": {},
   "source": [
    "Embeddings:\n",
    "\n",
    "* CLIP context short text (77) embedding, size 512;\n",
    "* LongFormer pooler_output text (4096) embedding, size 768;\n",
    "* DeBEDRTa custom MeanPooling text (512) output, size 768;\n",
    "* aggregated Word2Vec / Doc2Vec embedding, size 100.\n",
    "\n",
    "Dimensionality reduction with PCA?"
   ]
  },
  {
   "cell_type": "code",
   "execution_count": 73,
   "id": "b11e40ce",
   "metadata": {},
   "outputs": [],
   "source": [
    "lgbm_params = {\n",
    "                'boosting_type': 'gbdt',\n",
    "                'n_estimators': 2000, \n",
    "                'learning_rate': 0.005134,\n",
    "                'num_leaves': 54,\n",
    "                'max_depth': 5,\n",
    "                'subsample_for_bin': 240000,\n",
    "                'reg_alpha': 0.436193,\n",
    "                'reg_lambda': 0.479169,\n",
    "                'colsample_bytree': 0.508716,\n",
    "                'min_split_gain': 0.024766,\n",
    "                'subsample': 0.7,\n",
    "                'random_state': seed,\n",
    "                'verbose': -1,\n",
    "                'min_child_samples': 200,\n",
    "                'max_bin': 255\n",
    "}"
   ]
  },
  {
   "cell_type": "markdown",
   "id": "13829523",
   "metadata": {},
   "source": [
    "**DeBERTa**"
   ]
  },
  {
   "cell_type": "code",
   "execution_count": 14,
   "id": "63eb88c0",
   "metadata": {},
   "outputs": [],
   "source": [
    "def get_deberta_embeddings(text, batch_size=32):\n",
    "    model.eval()\n",
    "    inp, msk = tokenize_for_deberta(text)\n",
    "    pooler = MeanPooling()\n",
    "    embedding = np.zeros((len(text), 768))\n",
    "    dl = DataLoader(TensorDataset(inp, msk), shuffle=True, batch_size=batch_size)\n",
    "    for i, batch in enumerate(dl, 1):\n",
    "        input_ids, masks = batch\n",
    "        with torch.no_grad():\n",
    "            out = model(input_ids=input_ids.to(device), attention_mask=masks.to(device), output_hidden_states=False)\n",
    "        embed = pooler(out.last_hidden_state, masks.to(device))\n",
    "        embed = embed.cpu().detach().numpy().squeeze()\n",
    "        embedding[(i-1)*batch_size:i*batch_size, :] = embed\n",
    "    return embedding"
   ]
  },
  {
   "cell_type": "code",
   "execution_count": 15,
   "id": "38fa49c8",
   "metadata": {},
   "outputs": [
    {
     "name": "stderr",
     "output_type": "stream",
     "text": [
      "100%|█████████████████████████████████████████████████████████████████████████████| 3911/3911 [00:12<00:00, 312.97it/s]\n"
     ]
    }
   ],
   "source": [
    "X = get_deberta_embeddings(train.iloc[:, 1].values)"
   ]
  },
  {
   "cell_type": "code",
   "execution_count": 22,
   "id": "3acc09e6",
   "metadata": {},
   "outputs": [],
   "source": [
    "X = pd.DataFrame(data=X)"
   ]
  },
  {
   "cell_type": "code",
   "execution_count": 49,
   "id": "609ec35d",
   "metadata": {},
   "outputs": [
    {
     "name": "stdout",
     "output_type": "stream",
     "text": [
      "Tue Sep 20 17:43:28 2022, Cross-Validation, 3911 rows, 768 cols\n",
      "Fold 1, Train score = 0.58814, Valid score = 0.58957\n",
      "Fold 2, Train score = 0.57856, Valid score = 0.59692\n",
      "Fold 3, Train score = 0.59415, Valid score = 0.59736\n",
      "Fold 4, Train score = 0.59403, Valid score = 0.59667\n",
      "Fold 5, Train score = 0.59196, Valid score = 0.57953\n",
      "Fold 6, Train score = 0.58626, Valid score = 0.60234\n",
      "Fold 7, Train score = 0.59268, Valid score = 0.60889\n",
      "Fold 8, Train score = 0.58901, Valid score = 0.61555\n",
      "Fold 9, Train score = 0.58163, Valid score = 0.56771\n",
      "Fold 10, Train score = 0.58051, Valid score = 0.59196\n",
      "Train score by each fold: [0.58814, 0.57856, 0.59415, 0.59403, 0.59196, 0.58626, 0.59268, 0.58901, 0.58163, 0.58051]\n",
      "Valid score by each fold: [0.58957, 0.59692, 0.59736, 0.59667, 0.57953, 0.60234, 0.60889, 0.61555, 0.56771, 0.59196]\n",
      "Train mean score by each fold:0.58769 +/- 0.00548\n",
      "Valid mean score by each fold:0.59465 +/- 0.01305\n",
      "**************************************************\n",
      "OOF-score: 0.59465\n"
     ]
    },
    {
     "data": {
      "text/plain": [
       "874"
      ]
     },
     "execution_count": 49,
     "metadata": {},
     "output_type": "execute_result"
    }
   ],
   "source": [
    "fold = KFold(n_splits=10, shuffle=True, random_state=seed)\n",
    "lgbm_estimators, oof_scores = lightgbm_cross_validation(lgbm_params, \n",
    "                                                        X, \n",
    "                                                        train.iloc[:, 2:], \n",
    "                                                        cv=fold, \n",
    "                                                        rounds=50)\n",
    "gc.collect()"
   ]
  },
  {
   "cell_type": "code",
   "execution_count": 45,
   "id": "4347d620",
   "metadata": {},
   "outputs": [],
   "source": [
    "pipe = make_pipeline(StandardScaler(), PCA(n_components=None, random_state=seed))\n",
    "\n",
    "pca_factors = pipe.fit_transform(X.values)\n",
    "pca_factors = pd.DataFrame(pca_factors, index=train.index)\n",
    "# did not work"
   ]
  },
  {
   "cell_type": "markdown",
   "id": "4d0f89bb",
   "metadata": {},
   "source": [
    "**Word2Vec**"
   ]
  },
  {
   "cell_type": "code",
   "execution_count": 87,
   "id": "7049464e",
   "metadata": {},
   "outputs": [],
   "source": [
    "X = pd.DataFrame(data=np.zeros((len(train), 100)), columns=[f\"feat_{i+1}\" for i in range(100)])\n",
    "for idx, row in X.iterrows():\n",
    "    X.iloc[idx, :] = aggregate_vectors(train_enc.iloc[idx])"
   ]
  },
  {
   "cell_type": "code",
   "execution_count": 111,
   "id": "3d8919e5",
   "metadata": {},
   "outputs": [],
   "source": [
    "lgbm_params = {\n",
    "                'boosting_type': 'gbdt', # goss\n",
    "                'n_estimators': 1000, \n",
    "                'learning_rate': 0.005134,\n",
    "                'num_leaves': 84,\n",
    "                'max_depth': 5,\n",
    "                'subsample_for_bin': 240000,\n",
    "                'reg_alpha': 0.436193,\n",
    "                'reg_lambda': 0.479169,\n",
    "                'colsample_bytree': 0.508716,\n",
    "                'min_split_gain': 0.024766,\n",
    "                'subsample': 0.51,\n",
    "                'random_state': seed,\n",
    "                'verbose': -1,\n",
    "                'min_child_samples': 200,\n",
    "                'max_bin': 20\n",
    "}"
   ]
  },
  {
   "cell_type": "code",
   "execution_count": 112,
   "id": "3cd27d5c",
   "metadata": {},
   "outputs": [
    {
     "name": "stdout",
     "output_type": "stream",
     "text": [
      "Tue Sep 20 18:10:41 2022, Cross-Validation, 3911 rows, 100 cols\n",
      "Fold 1, Train score = 0.48199, Valid score = 0.53074\n",
      "Fold 2, Train score = 0.48102, Valid score = 0.53580\n",
      "Fold 3, Train score = 0.48274, Valid score = 0.52561\n",
      "Fold 4, Train score = 0.47804, Valid score = 0.55084\n",
      "Fold 5, Train score = 0.48400, Valid score = 0.52260\n",
      "Train score by each fold: [0.48199, 0.48102, 0.48274, 0.47804, 0.484]\n",
      "Valid score by each fold: [0.53074, 0.5358, 0.52561, 0.55084, 0.5226]\n",
      "Train mean score by each fold:0.48156 +/- 0.00201\n",
      "Valid mean score by each fold:0.53312 +/- 0.00994\n",
      "**************************************************\n",
      "OOF-score: 0.53312\n"
     ]
    },
    {
     "data": {
      "text/plain": [
       "1064"
      ]
     },
     "execution_count": 112,
     "metadata": {},
     "output_type": "execute_result"
    }
   ],
   "source": [
    "fold = KFold(n_splits=5, shuffle=True, random_state=seed)\n",
    "lgbm_estimators, oof_scores = lightgbm_cross_validation(lgbm_params, \n",
    "                                                        X, \n",
    "                                                        train.iloc[:, 2:], \n",
    "                                                        cv=fold, \n",
    "                                                        rounds=50)\n",
    "gc.collect()  # take average from estimators or fit full model with more conservative parameters"
   ]
  },
  {
   "cell_type": "markdown",
   "id": "b050d000",
   "metadata": {},
   "source": [
    "**Doc2Vec**"
   ]
  },
  {
   "cell_type": "code",
   "execution_count": 75,
   "id": "5f72767c",
   "metadata": {},
   "outputs": [],
   "source": [
    "X = pd.DataFrame(data=X)"
   ]
  },
  {
   "cell_type": "code",
   "execution_count": 76,
   "id": "b1dc106d",
   "metadata": {},
   "outputs": [
    {
     "name": "stdout",
     "output_type": "stream",
     "text": [
      "Sat Sep 24 21:57:59 2022, Cross-Validation, 3911 rows, 100 cols\n",
      "Fold 1, Train score = 0.40646, Valid score = 0.51333\n",
      "Fold 2, Train score = 0.41185, Valid score = 0.52123\n",
      "Fold 3, Train score = 0.40907, Valid score = 0.51214\n",
      "Fold 4, Train score = 0.40293, Valid score = 0.53905\n",
      "Fold 5, Train score = 0.41015, Valid score = 0.51006\n",
      "Train score by each fold: [0.40646, 0.41185, 0.40907, 0.40293, 0.41015]\n",
      "Valid score by each fold: [0.51333, 0.52123, 0.51214, 0.53905, 0.51006]\n",
      "Train mean score by each fold:0.40809 +/- 0.00312\n",
      "Valid mean score by each fold:0.51916 +/- 0.01064\n",
      "**************************************************\n",
      "OOF-score: 0.51916\n"
     ]
    },
    {
     "data": {
      "text/plain": [
       "2293"
      ]
     },
     "execution_count": 76,
     "metadata": {},
     "output_type": "execute_result"
    }
   ],
   "source": [
    "fold = KFold(n_splits=5, shuffle=True, random_state=seed)\n",
    "lgbm_estimators, oof_scores = lightgbm_cross_validation(lgbm_params, \n",
    "                                                        X, \n",
    "                                                        train.iloc[:, 2:], \n",
    "                                                        cv=fold, \n",
    "                                                        rounds=50)\n",
    "gc.collect()"
   ]
  },
  {
   "cell_type": "markdown",
   "id": "1af959be",
   "metadata": {},
   "source": [
    "**Tfidf**"
   ]
  },
  {
   "cell_type": "code",
   "execution_count": 117,
   "id": "71bdc34a",
   "metadata": {},
   "outputs": [],
   "source": [
    "X = pd.DataFrame(data=X.toarray())"
   ]
  },
  {
   "cell_type": "code",
   "execution_count": 119,
   "id": "19edd7b8",
   "metadata": {},
   "outputs": [
    {
     "name": "stdout",
     "output_type": "stream",
     "text": [
      "Sat Sep 24 22:58:44 2022, Cross-Validation, 3911 rows, 2000 cols\n",
      "Fold 1, Train score = 0.59518, Valid score = 0.59400\n",
      "Fold 2, Train score = 0.59446, Valid score = 0.59706\n",
      "Fold 3, Train score = 0.59584, Valid score = 0.59111\n",
      "Fold 4, Train score = 0.59057, Valid score = 0.61226\n",
      "Fold 5, Train score = 0.59847, Valid score = 0.58056\n",
      "Train score by each fold: [0.59518, 0.59446, 0.59584, 0.59057, 0.59847]\n",
      "Valid score by each fold: [0.594, 0.59706, 0.59111, 0.61226, 0.58056]\n",
      "Train mean score by each fold:0.59490 +/- 0.00256\n",
      "Valid mean score by each fold:0.59500 +/- 0.01026\n",
      "**************************************************\n",
      "OOF-score: 0.59500\n"
     ]
    },
    {
     "data": {
      "text/plain": [
       "3388"
      ]
     },
     "execution_count": 119,
     "metadata": {},
     "output_type": "execute_result"
    }
   ],
   "source": [
    "fold = KFold(n_splits=5, shuffle=True, random_state=seed)\n",
    "lgbm_estimators, oof_scores = lightgbm_cross_validation(lgbm_params, \n",
    "                                                        X, \n",
    "                                                        train.iloc[:, 2:], \n",
    "                                                        cv=fold, \n",
    "                                                        rounds=50)\n",
    "gc.collect()"
   ]
  },
  {
   "cell_type": "markdown",
   "id": "7eeada66",
   "metadata": {},
   "source": [
    "### Additional model with additional attention"
   ]
  },
  {
   "cell_type": "code",
   "execution_count": 15,
   "id": "4acf4f74",
   "metadata": {},
   "outputs": [],
   "source": [
    "class AttModel(nn.Module):\n",
    "    def __init__(self):\n",
    "        super(AttModel, self).__init__()\n",
    "        self.dropout = nn.Dropout(p=0.5)\n",
    "        self.fc = nn.Linear(768, 6)\n",
    "        self._init_weights(self.fc)\n",
    "\n",
    "        self.attention = nn.Sequential(\n",
    "            nn.Linear(768, 512),\n",
    "            nn.Tanh(),\n",
    "            nn.Linear(512, 1),\n",
    "            nn.Softmax(dim=1)\n",
    "        )\n",
    "        self.regressor = nn.Sequential(\n",
    "            nn.Linear(768, 6)\n",
    "        )\n",
    "        self._init_weights(self.attention)\n",
    "        self._init_weights(self.fc)\n",
    "\n",
    "    def _init_weights(self, module):\n",
    "        if isinstance(module, nn.Linear):\n",
    "            module.weight.data.normal_(mean=0.0, std=0.02)\n",
    "            if module.bias is not None:\n",
    "                module.bias.data.zero_()\n",
    "        elif isinstance(module, nn.Embedding):\n",
    "            module.weight.data.normal_(mean=0.0, std=0.02)\n",
    "            if module.padding_idx is not None:\n",
    "                module.weight.data[module.padding_idx].zero_()\n",
    "        elif isinstance(module, nn.LayerNorm):\n",
    "            module.bias.data.zero_()\n",
    "            module.weight.data.fill_(1.0)\n",
    "\n",
    "    def feature(self, ids, mask):\n",
    "        outputs = model(input_ids=ids, attention_mask=mask, output_hidden_states=False)\n",
    "\n",
    "        sequence_output = outputs[0]      \n",
    "        weights = self.attention(sequence_output)\n",
    "        pooled_output = torch.sum(weights * sequence_output, dim=1)\n",
    "\n",
    "        return pooled_output\n",
    "\n",
    "    def forward(self, ids, mask):\n",
    "        feature = self.feature(ids, mask)\n",
    "        output = self.fc(self.dropout(feature))  # self.regressor\n",
    "        return output"
   ]
  }
 ],
 "metadata": {
  "kernelspec": {
   "display_name": "Python [conda env:test1] *",
   "language": "python",
   "name": "conda-env-test1-py"
  },
  "language_info": {
   "codemirror_mode": {
    "name": "ipython",
    "version": 3
   },
   "file_extension": ".py",
   "mimetype": "text/x-python",
   "name": "python",
   "nbconvert_exporter": "python",
   "pygments_lexer": "ipython3",
   "version": "3.9.12"
  }
 },
 "nbformat": 4,
 "nbformat_minor": 5
}
