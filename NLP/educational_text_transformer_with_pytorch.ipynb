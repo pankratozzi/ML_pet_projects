{
 "cells": [
  {
   "cell_type": "code",
   "execution_count": 1,
   "id": "09fbc0f4",
   "metadata": {},
   "outputs": [],
   "source": [
    "import warnings\n",
    "warnings.filterwarnings(\"ignore\")\n",
    "import os, re\n",
    "import copy\n",
    "from typing import Iterable, List\n",
    "from tqdm import tqdm\n",
    "\n",
    "import torch\n",
    "import torch.nn as nn\n",
    "import torch.nn.functional as F\n",
    "from torch.utils.data import Dataset, DataLoader\n",
    "from torchtext.data.utils import get_tokenizer\n",
    "from torch.nn.utils.rnn import pad_sequence\n",
    "from torchtext.vocab import build_vocab_from_iterator\n",
    "\n",
    "import numpy as np\n",
    "\n",
    "from sklearn.model_selection import train_test_split"
   ]
  },
  {
   "cell_type": "code",
   "execution_count": 2,
   "id": "0ae3a832",
   "metadata": {},
   "outputs": [],
   "source": [
    "def seed_everything(seed=42):\n",
    "    os.environ[\"PYTHONHASHSEED\"] = str(seed)\n",
    "    np.random.seed(seed)\n",
    "    torch.manual_seed(seed)\n",
    "    torch.cuda.manual_seed(seed)\n",
    "    torch.backends.cudnn.deterministic = True\n",
    "    torch.backends.cudnn.benchmark = True\n",
    "    \n",
    "seed_everything()"
   ]
  },
  {
   "cell_type": "code",
   "execution_count": 3,
   "id": "0f142b77",
   "metadata": {},
   "outputs": [
    {
     "data": {
      "text/plain": [
       "'cuda'"
      ]
     },
     "execution_count": 3,
     "metadata": {},
     "output_type": "execute_result"
    }
   ],
   "source": [
    "device = \"cuda\" if torch.cuda.is_available() else \"cpu\"\n",
    "device"
   ]
  },
  {
   "cell_type": "code",
   "execution_count": 4,
   "id": "202b8e90",
   "metadata": {},
   "outputs": [],
   "source": [
    "SRC_LANGUAGE = \"ru\"\n",
    "TGT_LANGUAGE = \"en\"\n",
    "\n",
    "token_transform = {}\n",
    "vocab_transform = {}"
   ]
  },
  {
   "cell_type": "code",
   "execution_count": 5,
   "id": "eb4e641d",
   "metadata": {},
   "outputs": [],
   "source": [
    "token_transform[SRC_LANGUAGE] = get_tokenizer(\"spacy\", language=\"ru_core_news_sm\")\n",
    "token_transform[TGT_LANGUAGE] = get_tokenizer(\"spacy\", language=\"en_core_web_sm\")"
   ]
  },
  {
   "cell_type": "code",
   "execution_count": 6,
   "id": "8ae39546",
   "metadata": {},
   "outputs": [],
   "source": [
    "data = [line.replace(\"\\t\", \"\\n\").split(\"CC\")[0] for line in open(\"rus.txt\", \"r\",  encoding=\"utf8\")]\n",
    "data = [item for item in data if len(item.split(\"\\n\")[0]) >= 20 and len(item.split(\"\\n\")[0]) <= 35]\n",
    "\n",
    "data = np.array(data)"
   ]
  },
  {
   "cell_type": "code",
   "execution_count": 7,
   "id": "794e6939",
   "metadata": {},
   "outputs": [],
   "source": [
    "def preprocessor(text):\n",
    "    \"\"\" \n",
    "     simple text preprocessing (do not remove stop words for transformer model) \n",
    "     without that step ce-loss was near 0.67, otherwise ~ 0.75\n",
    "    \"\"\"\n",
    "    text = text.lower()              \n",
    "    cleanr = re.compile('<.*?>')\n",
    "    text = re.sub(cleanr, ' ', text)\n",
    "    text = re.sub(r'[?|!|\\'|\"|#]', r'', text)\n",
    "    text = re.sub(r'[.|,|)|(|\\|/]', r' ', text)\n",
    "    text = re.sub(r'\\s+', ' ', text)\n",
    "    text = re.sub(r\"it's\", \"it is\", text)\n",
    "    text = re.sub(r\"i'd\", \"i had\", text)\n",
    "    text = re.sub(r\"i've\", \"a have\", text)\n",
    "    text = re.sub(r\"i'll\", \"i will\", text)\n",
    "    text = re.sub(r\"we'll\", \"we will\", text)\n",
    "    # and so on...\n",
    "    return text"
   ]
  },
  {
   "cell_type": "code",
   "execution_count": 8,
   "id": "7f434b23",
   "metadata": {},
   "outputs": [],
   "source": [
    "class TransDataset(Dataset):\n",
    "    def __init__(self, data, is_train=True):\n",
    "        train, test = train_test_split(data, shuffle=True, random_state=42)\n",
    "        if is_train:\n",
    "            self.data = train\n",
    "        else:\n",
    "            self.data = test\n",
    "\n",
    "    def __len__(self):\n",
    "        return len(self.data)\n",
    "    \n",
    "    def __getitem__(self, ix):\n",
    "        pairs_str = self.data[ix]\n",
    "        pos = pairs_str.find('\\n')\n",
    "        # return preprocessor(pairs_str[pos+1:]), preprocessor(pairs_str[:pos+1])\n",
    "        return pairs_str[pos+1:], pairs_str[:pos+1]\n",
    "\n",
    "    def collate_fn(self, batch):\n",
    "        src_batch, tgt_batch = [], []\n",
    "        for src_sample, tgt_sample in batch:\n",
    "            src_batch.append(text_transform[SRC_LANGUAGE](src_sample.rstrip(\"\\n\")))  # .rstrip()))\n",
    "            tgt_batch.append(text_transform[TGT_LANGUAGE](tgt_sample.rstrip(\"\\n\")))  # .rstrip()))\n",
    "\n",
    "        src_batch = pad_sequence(src_batch, padding_value=PAD_IDX)\n",
    "        tgt_batch = pad_sequence(tgt_batch, padding_value=PAD_IDX)\n",
    "        return src_batch, tgt_batch"
   ]
  },
  {
   "cell_type": "code",
   "execution_count": 9,
   "id": "71423804",
   "metadata": {},
   "outputs": [],
   "source": [
    "def yield_tokens(data_iter: Iterable, language: str) -> List[str]:\n",
    "    language_index = {SRC_LANGUAGE: 0, TGT_LANGUAGE: 1}\n",
    "\n",
    "    for data_sample in data_iter:\n",
    "        yield token_transform[language](data_sample[language_index[language]])"
   ]
  },
  {
   "cell_type": "code",
   "execution_count": 10,
   "id": "4875de63",
   "metadata": {},
   "outputs": [],
   "source": [
    "UNK_IDX, PAD_IDX, BOS_IDX, EOS_IDX = 0, 1, 2, 3\n",
    "special_symbols = [\"<unk>\", \"<pad>\", \"<bos>\", \"<eos>\"]"
   ]
  },
  {
   "cell_type": "code",
   "execution_count": 11,
   "id": "9fa96a32",
   "metadata": {},
   "outputs": [],
   "source": [
    "# the best alternative way is to build word-piece vocabulary\n",
    "\n",
    "for ln in [SRC_LANGUAGE, TGT_LANGUAGE]:\n",
    "    train_iter = TransDataset(data)\n",
    "    vocab_transform[ln] = build_vocab_from_iterator(yield_tokens(train_iter, ln),\n",
    "                                                    min_freq=1,\n",
    "                                                    specials=special_symbols,\n",
    "                                                    special_first=True)"
   ]
  },
  {
   "cell_type": "code",
   "execution_count": 12,
   "id": "1447a956",
   "metadata": {},
   "outputs": [],
   "source": [
    "for ln in [SRC_LANGUAGE, TGT_LANGUAGE]:\n",
    "    vocab_transform[ln].set_default_index(UNK_IDX)"
   ]
  },
  {
   "cell_type": "markdown",
   "id": "3a479e8e",
   "metadata": {},
   "source": [
    "**Building transformer model**"
   ]
  },
  {
   "cell_type": "code",
   "execution_count": 13,
   "id": "22e7b829",
   "metadata": {},
   "outputs": [],
   "source": [
    "class PositionalEncoding(nn.Module):\n",
    "    def __init__(self,\n",
    "                 emb_size: int,\n",
    "                 dropout: float,\n",
    "                 maxlen: int = 5000):\n",
    "        super(PositionalEncoding, self).__init__()\n",
    "        den = torch.exp(-torch.arange(0, emb_size, 2) * np.log(10000) / emb_size)\n",
    "        pos = torch.arange(0, maxlen).reshape(maxlen, 1)\n",
    "        pos_embedding = torch.zeros((maxlen, emb_size))\n",
    "        pos_embedding[:, 0::2] = torch.sin(pos * den)\n",
    "        pos_embedding[:, 1::2] = torch.cos(pos * den)\n",
    "        pos_embedding = pos_embedding.unsqueeze(-2)\n",
    "\n",
    "        self.dropout = nn.Dropout(dropout)\n",
    "        self.register_buffer(\"pos_embedding\", pos_embedding)\n",
    "\n",
    "    def forward(self, token_embedding: torch.Tensor):\n",
    "        return self.dropout(token_embedding + self.pos_embedding[:token_embedding.size(0), :])"
   ]
  },
  {
   "cell_type": "code",
   "execution_count": 14,
   "id": "8aaab46a",
   "metadata": {},
   "outputs": [],
   "source": [
    "class TokenEmbedding(nn.Module):\n",
    "    def __init__(self, vocab_size: int, emb_size):\n",
    "        super(TokenEmbedding, self).__init__()\n",
    "        self.embedding = nn.Embedding(vocab_size, emb_size)\n",
    "        self.emb_size = emb_size\n",
    "\n",
    "    def forward(self, tokens: torch.Tensor):\n",
    "        return self.embedding(tokens.long()) * np.sqrt(self.emb_size)"
   ]
  },
  {
   "cell_type": "code",
   "execution_count": 15,
   "id": "ac602791",
   "metadata": {},
   "outputs": [],
   "source": [
    "def create_trg_mask(size):\n",
    "    \"\"\" mask for target sequence \"\"\"\n",
    "    np_mask = np.triu(np.ones((1, size, size)), k=1).astype(\"uint8\")\n",
    "    np_mask = (torch.from_numpy(np_mask) == 0.0).to(device)\n",
    "    return np_mask\n",
    "\n",
    "def create_masks(src, trg):\n",
    "    \n",
    "    src_mask = (src != PAD_IDX).unsqueeze(-2)\n",
    "\n",
    "    if trg is not None:\n",
    "        trg_mask = (trg != PAD_IDX).unsqueeze(-2)\n",
    "        size = trg.size(1) \n",
    "        np_mask = create_trg_mask(size)\n",
    "        trg_mask = trg_mask & np_mask\n",
    "    else:\n",
    "        trg_mask = None\n",
    "        \n",
    "    return src_mask, trg_mask"
   ]
  },
  {
   "cell_type": "code",
   "execution_count": 16,
   "id": "af0e49e0",
   "metadata": {},
   "outputs": [],
   "source": [
    "def attention(query, key, value, d_model, mask=None, dropout=None):\n",
    "    \n",
    "    scores = torch.einsum(\"... i d , ... j d -> ... i j\", query, key) / np.sqrt(d_model)\n",
    "    \n",
    "    if mask is not None:\n",
    "        mask = mask.unsqueeze(1)\n",
    "        scores = scores.masked_fill(mask == 0, -1e9)  # mask padding\n",
    "    scores = F.softmax(scores, dim=-1)\n",
    "    \n",
    "    if dropout is not None:\n",
    "        scores = dropout(scores)\n",
    "        \n",
    "    output = torch.einsum(\"... i j , ... j d -> ... i d\", scores, value)\n",
    "    \n",
    "    return output"
   ]
  },
  {
   "cell_type": "code",
   "execution_count": 17,
   "id": "5163f2fc",
   "metadata": {},
   "outputs": [],
   "source": [
    "class MultiHeadAttention(nn.Module):\n",
    "    def __init__(self, heads, d_model, dropout=0.1):\n",
    "        super(MultiHeadAttention, self).__init__()\n",
    "        \n",
    "        self.d_model = d_model\n",
    "        self.d_k = d_model // heads\n",
    "        self.heads = heads\n",
    "        \n",
    "        self.q_linear = nn.Linear(d_model, d_model, bias=False)\n",
    "        self.v_linear = nn.Linear(d_model, d_model, bias=False)\n",
    "        self.k_linear = nn.Linear(d_model, d_model, bias=False)\n",
    "        self.dropout = nn.Dropout(dropout)\n",
    "        self.out = nn.Linear(d_model, d_model, bias=False)\n",
    "    \n",
    "    def forward(self, q, k, v, mask=None):\n",
    "        \n",
    "        batch_size = q.size(0)\n",
    "                \n",
    "        k = self.k_linear(k).view(batch_size, -1, self.heads, self.d_k)\n",
    "        q = self.q_linear(q).view(batch_size, -1, self.heads, self.d_k)\n",
    "        v = self.v_linear(v).view(batch_size, -1, self.heads, self.d_k)\n",
    "               \n",
    "        k = k.transpose(1,2)\n",
    "        q = q.transpose(1,2)\n",
    "        v = v.transpose(1,2)\n",
    "\n",
    "        scores = attention(q, k, v, self.d_k, mask, self.dropout)\n",
    "        \n",
    "        concat = scores.transpose(1,2).contiguous().view(batch_size, -1, self.d_model)\n",
    "        \n",
    "        output = self.out(concat)\n",
    "    \n",
    "        return output"
   ]
  },
  {
   "cell_type": "code",
   "execution_count": 18,
   "id": "d448095d",
   "metadata": {},
   "outputs": [],
   "source": [
    "class FeedForward(nn.Module):\n",
    "    def __init__(self, d_model, d_ff=2048, dropout=0.1):\n",
    "        super(FeedForward, self).__init__() \n",
    "        self.linear_1 = nn.Linear(d_model, d_ff)\n",
    "        self.dropout = nn.Dropout(dropout)\n",
    "        self.linear_2 = nn.Linear(d_ff, d_model)\n",
    "        \n",
    "    def forward(self, x):\n",
    "        x = self.dropout(F.relu(self.linear_1(x)))  # or \"gelu\": [x * scipy.stats.norm.cdf(x, loc=0, scale=1)]\n",
    "        x = self.linear_2(x)\n",
    "        return x"
   ]
  },
  {
   "cell_type": "code",
   "execution_count": 19,
   "id": "35744f80",
   "metadata": {},
   "outputs": [],
   "source": [
    "class LayerNorm(nn.Module):\n",
    "    def __init__(self, d_model, eps=1e-6):\n",
    "        super(LayerNorm, self).__init__()\n",
    "    \n",
    "        self.size = d_model\n",
    "        self.alpha = nn.Parameter(torch.ones(self.size))\n",
    "        self.bias = nn.Parameter(torch.zeros(self.size))\n",
    "        self.eps = eps\n",
    "        \n",
    "    def forward(self, x):\n",
    "        norm = self.alpha * (x - x.mean(dim=-1, keepdim=True)) / (x.std(dim=-1, keepdim=True) + self.eps) + self.bias\n",
    "        return norm"
   ]
  },
  {
   "cell_type": "code",
   "execution_count": 20,
   "id": "4cfa43da",
   "metadata": {},
   "outputs": [],
   "source": [
    "class EncoderLayer(nn.Module):\n",
    "    def __init__(self, d_model, heads, dropout=0.1):\n",
    "        super(EncoderLayer, self).__init__()\n",
    "        self.norm_1 = LayerNorm(d_model)\n",
    "        self.norm_2 = LayerNorm(d_model)\n",
    "        self.mha = MultiHeadAttention(heads, d_model)\n",
    "        self.ff = FeedForward(d_model)\n",
    "        self.dropout_1 = nn.Dropout(dropout)\n",
    "        self.dropout_2 = nn.Dropout(dropout)\n",
    "        \n",
    "    def forward(self, x, mask):\n",
    "        x2 = self.norm_1(x)\n",
    "        x = x + self.dropout_1(self.mha(x2, x2, x2, mask))\n",
    "        x2 = self.norm_2(x)\n",
    "        x = x + self.dropout_2(self.ff(x2))\n",
    "        return x"
   ]
  },
  {
   "cell_type": "code",
   "execution_count": 21,
   "id": "5f0359d9",
   "metadata": {},
   "outputs": [],
   "source": [
    "class DecoderLayer(nn.Module):\n",
    "    def __init__(self, d_model, heads, dropout=0.1):\n",
    "        super(DecoderLayer, self).__init__()\n",
    "        self.norm_1 = LayerNorm(d_model)\n",
    "        self.norm_2 = LayerNorm(d_model)\n",
    "        self.norm_3 = LayerNorm(d_model)\n",
    "        \n",
    "        self.dropout_1 = nn.Dropout(dropout)\n",
    "        self.dropout_2 = nn.Dropout(dropout)\n",
    "        self.dropout_3 = nn.Dropout(dropout)\n",
    "        \n",
    "        self.mha_1 = MultiHeadAttention(heads, d_model)\n",
    "        self.mha_2 = MultiHeadAttention(heads, d_model)\n",
    "        self.ffn = FeedForward(d_model)\n",
    "        \n",
    "    def forward(self, x, encoder_out, src_mask, trg_mask):\n",
    "        x2 = self.norm_1(x)\n",
    "        x = x + self.dropout_1(self.mha_1(x2, x2, x2, trg_mask))\n",
    "        x2 = self.norm_2(x)\n",
    "        x = x + self.dropout_2(self.mha_2(x2, encoder_out, encoder_out, src_mask))\n",
    "        x2 = self.norm_3(x)\n",
    "        x = x + self.dropout_3(self.ffn(x2))\n",
    "        return x"
   ]
  },
  {
   "cell_type": "code",
   "execution_count": 22,
   "id": "0826f84d",
   "metadata": {},
   "outputs": [],
   "source": [
    "def get_n_layers(module, n_layers):\n",
    "    return nn.ModuleList([copy.deepcopy(module) for i in range(n_layers)])"
   ]
  },
  {
   "cell_type": "code",
   "execution_count": 23,
   "id": "2f679ec4",
   "metadata": {},
   "outputs": [],
   "source": [
    "class Encoder(nn.Module):\n",
    "    def __init__(self, vocab_size, d_model, n_layers, heads):\n",
    "        super(Encoder, self).__init__()\n",
    "        self.n_layers = n_layers\n",
    "        self.embedding = TokenEmbedding(vocab_size, d_model)\n",
    "        self.pe = PositionalEncoding(d_model, dropout=0.1)\n",
    "        self.layers = get_n_layers(EncoderLayer(d_model, heads), n_layers)\n",
    "        self.norm = LayerNorm(d_model)\n",
    "        \n",
    "    def forward(self, src, mask):\n",
    "        x = self.embedding(src)\n",
    "        x = self.pe(x)\n",
    "        for i in range(self.n_layers):\n",
    "            x = self.layers[i](x, mask)\n",
    "        return self.norm(x)\n",
    "    \n",
    "class Decoder(nn.Module):\n",
    "    def __init__(self, vocab_size, d_model, n_layers, heads):\n",
    "        super(Decoder, self).__init__()\n",
    "        self.n_layers = n_layers\n",
    "        self.embedding = TokenEmbedding(vocab_size, d_model)\n",
    "        self.pe = PositionalEncoding(d_model, dropout=0.1)\n",
    "        self.layers = get_n_layers(DecoderLayer(d_model, heads), n_layers)\n",
    "        self.norm = LayerNorm(d_model)\n",
    "        \n",
    "    def forward(self, trg, encoder_out, src_mask, trg_mask):\n",
    "        x = self.embedding(trg)\n",
    "        x = self.pe(x)\n",
    "        for i in range(self.n_layers):\n",
    "            x = self.layers[i](x, encoder_out, src_mask, trg_mask)\n",
    "        return self.norm(x)"
   ]
  },
  {
   "cell_type": "code",
   "execution_count": 24,
   "id": "c4166939",
   "metadata": {},
   "outputs": [],
   "source": [
    "class Transformer(nn.Module):\n",
    "    def __init__(self, src_vocab, trg_vocab, d_model, n_layers, heads):\n",
    "        super(Transformer, self).__init__()\n",
    "        self.encoder = Encoder(src_vocab, d_model, n_layers, heads)\n",
    "        self.decoder = Decoder(trg_vocab, d_model, n_layers, heads)\n",
    "        self.out = nn.Linear(d_model, trg_vocab)\n",
    "        \n",
    "    def forward(self, src, trg, src_mask, trg_mask):\n",
    "        encoder_out = self.encoder(src, src_mask)\n",
    "        decoder_out = self.decoder(trg, encoder_out, src_mask, trg_mask)\n",
    "        output = self.out(decoder_out)\n",
    "        return output"
   ]
  },
  {
   "cell_type": "code",
   "execution_count": 25,
   "id": "a95e06d3",
   "metadata": {},
   "outputs": [],
   "source": [
    "class EarlyStopping:\n",
    "    def __init__(self, patience=15, min_delta=0, path=\"model.pth\"):\n",
    "        self.path = path\n",
    "        self.patience = patience\n",
    "        self.min_delta = min_delta\n",
    "        self.counter = 0\n",
    "        self.best_loss = None\n",
    "        self.early_stop = False\n",
    "\n",
    "    def __call__(self, val_loss, model=None):\n",
    "        if self.best_loss is None:\n",
    "            self.best_loss = val_loss\n",
    "        elif self.best_loss - val_loss > self.min_delta:\n",
    "            if model is not None:\n",
    "                checkpoint = {\n",
    "                    \"model\": model,\n",
    "                }\n",
    "                torch.save(checkpoint, self.path)\n",
    "                print(f\"Model saved to: {self.path}\")\n",
    "            self.best_loss = val_loss\n",
    "            self.counter = 0\n",
    "        elif self.best_loss - val_loss < self.min_delta:\n",
    "            self.counter += 1\n",
    "            print(f\"INFO: Early stopping counter {self.counter} of {self.patience}\")\n",
    "            if self.counter >= self.patience:\n",
    "                print(\"INFO: Early stopping\")\n",
    "                self.early_stop = True"
   ]
  },
  {
   "cell_type": "code",
   "execution_count": 26,
   "id": "7eb8dbb2",
   "metadata": {},
   "outputs": [],
   "source": [
    "src_vocab = len(vocab_transform[SRC_LANGUAGE])\n",
    "trg_vocab = len(vocab_transform[TGT_LANGUAGE])\n",
    "d_model = 512  # quite long for given short sentences\n",
    "heads = 8\n",
    "batch_size = 128\n",
    "n_layers = 3  # 6 in paper, but it is not magical number\n",
    "\n",
    "model = Transformer(src_vocab, trg_vocab, d_model, n_layers, heads).to(device)\n",
    "early = EarlyStopping(patience=3)"
   ]
  },
  {
   "cell_type": "code",
   "execution_count": 27,
   "id": "ad504d28",
   "metadata": {},
   "outputs": [],
   "source": [
    "for param in model.parameters():\n",
    "    if param.dim() > 1:\n",
    "        nn.init.xavier_uniform_(param)\n",
    "        \n",
    "loss_fn = torch.nn.CrossEntropyLoss(ignore_index=PAD_IDX)\n",
    "optimizer = torch.optim.Adam(model.parameters(), lr=0.0001, betas=(0.9, 0.98), eps=1e-9)\n",
    "scheduler = torch.optim.lr_scheduler.StepLR(optimizer, step_size=10, gamma=.5)\n",
    "\n",
    "# scheduler = torch.optim.lr_scheduler.CosineAnnealingWarmRestarts(optimizer, T_0=8, T_mult=1, eta_min=0.000001)"
   ]
  },
  {
   "cell_type": "code",
   "execution_count": 28,
   "id": "cdfe0edc",
   "metadata": {},
   "outputs": [],
   "source": [
    "# helper function to club together sequential operations\n",
    "def sequential_transforms(*transforms):\n",
    "    def func(txt_input):\n",
    "        for transform in transforms:\n",
    "            txt_input = transform(txt_input)\n",
    "        return txt_input\n",
    "    return func\n",
    "\n",
    "# function to add BOS/EOS and create tensor for input sequence indices\n",
    "def tensor_transform(token_ids: List[int]):\n",
    "    return torch.cat((torch.tensor([BOS_IDX]),\n",
    "                      torch.tensor(token_ids),\n",
    "                      torch.tensor([EOS_IDX])))\n",
    "\n",
    "# src and tgt language text transforms to convert raw strings into tensors indices\n",
    "text_transform = {}\n",
    "for ln in [SRC_LANGUAGE, TGT_LANGUAGE]:\n",
    "    text_transform[ln] = sequential_transforms(token_transform[ln],  # Tokenization\n",
    "                                               vocab_transform[ln],  # Numericalization\n",
    "                                               tensor_transform)  # Add BOS/EOS and create tensor"
   ]
  },
  {
   "cell_type": "code",
   "execution_count": 29,
   "id": "b26d70eb",
   "metadata": {},
   "outputs": [],
   "source": [
    "train_ds = TransDataset(data, is_train=True)\n",
    "valid_ds = TransDataset(data, is_train=False)\n",
    "\n",
    "train_dataloader = DataLoader(train_ds, batch_size=batch_size, shuffle=True, collate_fn=train_ds.collate_fn)\n",
    "valid_dataloader = DataLoader(valid_ds, batch_size=batch_size, collate_fn=valid_ds.collate_fn)"
   ]
  },
  {
   "cell_type": "code",
   "execution_count": 30,
   "id": "d8e391e1",
   "metadata": {},
   "outputs": [],
   "source": [
    "# TODO: torchmetrics.TranslationEditRate\n",
    "\n",
    "def train_epoch(model, optimizer):\n",
    "    model.train()\n",
    "    losses = 0\n",
    "\n",
    "    for src, tgt in tqdm(train_dataloader, total=len(train_dataloader)):\n",
    "        src = src.transpose(0, 1).to(device)\n",
    "        tgt = tgt.transpose(0, 1).to(device)\n",
    "\n",
    "        tgt_input = tgt[:, :-1]\n",
    "        tgt_out = tgt[:, 1:].contiguous().view(-1)\n",
    "\n",
    "        src_mask, tgt_mask = create_masks(src, tgt_input)\n",
    "\n",
    "        logits = model(src, tgt_input, src_mask, tgt_mask)\n",
    "\n",
    "        optimizer.zero_grad()\n",
    "        \n",
    "        loss = loss_fn(logits.reshape(-1, logits.size(-1)), tgt_out)\n",
    "        loss.backward()\n",
    "\n",
    "        optimizer.step()\n",
    "        losses += loss.item()\n",
    "    scheduler.step()\n",
    "    return losses / len(train_dataloader)\n",
    "\n",
    "def evaluate(model):\n",
    "    model.eval()\n",
    "    losses = 0    \n",
    "\n",
    "    for src, tgt in tqdm(valid_dataloader, total=len(valid_dataloader)):\n",
    "        src = src.transpose(0, 1).to(device)\n",
    "        tgt = tgt.transpose(0, 1).to(device)\n",
    "\n",
    "        tgt_input = tgt[:, :-1]\n",
    "        tgt_out = tgt[:, 1:].contiguous().view(-1)\n",
    "\n",
    "        src_mask, tgt_mask = create_masks(src, tgt_input)\n",
    "\n",
    "        logits = model(src, tgt_input, src_mask, tgt_mask)\n",
    "        \n",
    "        loss = loss_fn(logits.reshape(-1, logits.size(-1)), tgt_out)\n",
    "        losses += loss.item()\n",
    "\n",
    "    return losses / len(valid_dataloader)"
   ]
  },
  {
   "cell_type": "code",
   "execution_count": 31,
   "id": "9e36fbd5",
   "metadata": {
    "scrolled": false
   },
   "outputs": [
    {
     "name": "stderr",
     "output_type": "stream",
     "text": [
      "100%|██████████████████████████████████████████████████████████████████████████████| 1515/1515 [02:21<00:00, 10.74it/s]\n",
      "100%|████████████████████████████████████████████████████████████████████████████████| 505/505 [00:15<00:00, 32.42it/s]\n"
     ]
    },
    {
     "name": "stdout",
     "output_type": "stream",
     "text": [
      "Epoch: 1, Train loss: 3.1537, Val loss: 2.1276\n"
     ]
    },
    {
     "name": "stderr",
     "output_type": "stream",
     "text": [
      "100%|██████████████████████████████████████████████████████████████████████████████| 1515/1515 [02:21<00:00, 10.68it/s]\n",
      "100%|████████████████████████████████████████████████████████████████████████████████| 505/505 [00:15<00:00, 32.86it/s]\n"
     ]
    },
    {
     "name": "stdout",
     "output_type": "stream",
     "text": [
      "Epoch: 2, Train loss: 1.8344, Val loss: 1.4283\n",
      "Model saved to: model.pth\n"
     ]
    },
    {
     "name": "stderr",
     "output_type": "stream",
     "text": [
      "100%|██████████████████████████████████████████████████████████████████████████████| 1515/1515 [02:22<00:00, 10.63it/s]\n",
      "100%|████████████████████████████████████████████████████████████████████████████████| 505/505 [00:15<00:00, 32.82it/s]\n"
     ]
    },
    {
     "name": "stdout",
     "output_type": "stream",
     "text": [
      "Epoch: 3, Train loss: 1.2920, Val loss: 1.0942\n",
      "Model saved to: model.pth\n"
     ]
    },
    {
     "name": "stderr",
     "output_type": "stream",
     "text": [
      "100%|██████████████████████████████████████████████████████████████████████████████| 1515/1515 [02:21<00:00, 10.69it/s]\n",
      "100%|████████████████████████████████████████████████████████████████████████████████| 505/505 [00:16<00:00, 31.16it/s]\n"
     ]
    },
    {
     "name": "stdout",
     "output_type": "stream",
     "text": [
      "Epoch: 4, Train loss: 1.0039, Val loss: 0.9315\n",
      "Model saved to: model.pth\n"
     ]
    },
    {
     "name": "stderr",
     "output_type": "stream",
     "text": [
      "100%|██████████████████████████████████████████████████████████████████████████████| 1515/1515 [02:25<00:00, 10.45it/s]\n",
      "100%|████████████████████████████████████████████████████████████████████████████████| 505/505 [00:16<00:00, 30.26it/s]\n"
     ]
    },
    {
     "name": "stdout",
     "output_type": "stream",
     "text": [
      "Epoch: 5, Train loss: 0.8344, Val loss: 0.8472\n",
      "Model saved to: model.pth\n"
     ]
    },
    {
     "name": "stderr",
     "output_type": "stream",
     "text": [
      "100%|██████████████████████████████████████████████████████████████████████████████| 1515/1515 [02:24<00:00, 10.48it/s]\n",
      "100%|████████████████████████████████████████████████████████████████████████████████| 505/505 [00:15<00:00, 31.68it/s]\n"
     ]
    },
    {
     "name": "stdout",
     "output_type": "stream",
     "text": [
      "Epoch: 6, Train loss: 0.7210, Val loss: 0.7912\n",
      "Model saved to: model.pth\n"
     ]
    },
    {
     "name": "stderr",
     "output_type": "stream",
     "text": [
      "100%|██████████████████████████████████████████████████████████████████████████████| 1515/1515 [02:23<00:00, 10.56it/s]\n",
      "100%|████████████████████████████████████████████████████████████████████████████████| 505/505 [00:16<00:00, 30.87it/s]\n"
     ]
    },
    {
     "name": "stdout",
     "output_type": "stream",
     "text": [
      "Epoch: 7, Train loss: 0.6374, Val loss: 0.7571\n",
      "Model saved to: model.pth\n"
     ]
    },
    {
     "name": "stderr",
     "output_type": "stream",
     "text": [
      "100%|██████████████████████████████████████████████████████████████████████████████| 1515/1515 [02:24<00:00, 10.49it/s]\n",
      "100%|████████████████████████████████████████████████████████████████████████████████| 505/505 [00:16<00:00, 30.41it/s]\n"
     ]
    },
    {
     "name": "stdout",
     "output_type": "stream",
     "text": [
      "Epoch: 8, Train loss: 0.5728, Val loss: 0.7312\n",
      "Model saved to: model.pth\n"
     ]
    },
    {
     "name": "stderr",
     "output_type": "stream",
     "text": [
      "100%|██████████████████████████████████████████████████████████████████████████████| 1515/1515 [02:23<00:00, 10.54it/s]\n",
      "100%|████████████████████████████████████████████████████████████████████████████████| 505/505 [00:15<00:00, 31.92it/s]\n"
     ]
    },
    {
     "name": "stdout",
     "output_type": "stream",
     "text": [
      "Epoch: 9, Train loss: 0.5204, Val loss: 0.7062\n",
      "Model saved to: model.pth\n"
     ]
    },
    {
     "name": "stderr",
     "output_type": "stream",
     "text": [
      "100%|██████████████████████████████████████████████████████████████████████████████| 1515/1515 [02:22<00:00, 10.65it/s]\n",
      "100%|████████████████████████████████████████████████████████████████████████████████| 505/505 [00:16<00:00, 31.30it/s]\n"
     ]
    },
    {
     "name": "stdout",
     "output_type": "stream",
     "text": [
      "Epoch: 10, Train loss: 0.4775, Val loss: 0.7005\n",
      "Model saved to: model.pth\n"
     ]
    },
    {
     "name": "stderr",
     "output_type": "stream",
     "text": [
      "100%|██████████████████████████████████████████████████████████████████████████████| 1515/1515 [02:24<00:00, 10.50it/s]\n",
      "100%|████████████████████████████████████████████████████████████████████████████████| 505/505 [00:16<00:00, 30.92it/s]\n"
     ]
    },
    {
     "name": "stdout",
     "output_type": "stream",
     "text": [
      "Epoch: 11, Train loss: 0.4118, Val loss: 0.6780\n",
      "Model saved to: model.pth\n"
     ]
    },
    {
     "name": "stderr",
     "output_type": "stream",
     "text": [
      "100%|██████████████████████████████████████████████████████████████████████████████| 1515/1515 [02:24<00:00, 10.50it/s]\n",
      "100%|████████████████████████████████████████████████████████████████████████████████| 505/505 [00:15<00:00, 31.65it/s]\n"
     ]
    },
    {
     "name": "stdout",
     "output_type": "stream",
     "text": [
      "Epoch: 12, Train loss: 0.3898, Val loss: 0.6756\n",
      "Model saved to: model.pth\n"
     ]
    },
    {
     "name": "stderr",
     "output_type": "stream",
     "text": [
      "100%|██████████████████████████████████████████████████████████████████████████████| 1515/1515 [02:24<00:00, 10.50it/s]\n",
      "100%|████████████████████████████████████████████████████████████████████████████████| 505/505 [00:16<00:00, 30.96it/s]\n"
     ]
    },
    {
     "name": "stdout",
     "output_type": "stream",
     "text": [
      "Epoch: 13, Train loss: 0.3743, Val loss: 0.6719\n",
      "Model saved to: model.pth\n"
     ]
    },
    {
     "name": "stderr",
     "output_type": "stream",
     "text": [
      "100%|██████████████████████████████████████████████████████████████████████████████| 1515/1515 [02:22<00:00, 10.61it/s]\n",
      "100%|████████████████████████████████████████████████████████████████████████████████| 505/505 [00:16<00:00, 31.12it/s]\n"
     ]
    },
    {
     "name": "stdout",
     "output_type": "stream",
     "text": [
      "Epoch: 14, Train loss: 0.3615, Val loss: 0.6718\n",
      "Model saved to: model.pth\n"
     ]
    },
    {
     "name": "stderr",
     "output_type": "stream",
     "text": [
      "100%|██████████████████████████████████████████████████████████████████████████████| 1515/1515 [02:23<00:00, 10.53it/s]\n",
      "100%|████████████████████████████████████████████████████████████████████████████████| 505/505 [00:16<00:00, 30.69it/s]\n"
     ]
    },
    {
     "name": "stdout",
     "output_type": "stream",
     "text": [
      "Epoch: 15, Train loss: 0.3500, Val loss: 0.6703\n",
      "Model saved to: model.pth\n"
     ]
    },
    {
     "name": "stderr",
     "output_type": "stream",
     "text": [
      "100%|██████████████████████████████████████████████████████████████████████████████| 1515/1515 [02:23<00:00, 10.57it/s]\n",
      "100%|████████████████████████████████████████████████████████████████████████████████| 505/505 [00:16<00:00, 31.15it/s]\n"
     ]
    },
    {
     "name": "stdout",
     "output_type": "stream",
     "text": [
      "Epoch: 16, Train loss: 0.3378, Val loss: 0.6760\n",
      "INFO: Early stopping counter 1 of 3\n"
     ]
    },
    {
     "name": "stderr",
     "output_type": "stream",
     "text": [
      "100%|██████████████████████████████████████████████████████████████████████████████| 1515/1515 [02:24<00:00, 10.49it/s]\n",
      "100%|████████████████████████████████████████████████████████████████████████████████| 505/505 [00:16<00:00, 31.24it/s]\n"
     ]
    },
    {
     "name": "stdout",
     "output_type": "stream",
     "text": [
      "Epoch: 17, Train loss: 0.3268, Val loss: 0.6738\n",
      "INFO: Early stopping counter 2 of 3\n"
     ]
    },
    {
     "name": "stderr",
     "output_type": "stream",
     "text": [
      "100%|██████████████████████████████████████████████████████████████████████████████| 1515/1515 [02:24<00:00, 10.46it/s]\n",
      "100%|████████████████████████████████████████████████████████████████████████████████| 505/505 [00:16<00:00, 31.03it/s]"
     ]
    },
    {
     "name": "stdout",
     "output_type": "stream",
     "text": [
      "Epoch: 18, Train loss: 0.3170, Val loss: 0.6712\n",
      "INFO: Early stopping counter 3 of 3\n",
      "INFO: Early stopping\n"
     ]
    },
    {
     "name": "stderr",
     "output_type": "stream",
     "text": [
      "\n"
     ]
    }
   ],
   "source": [
    "NUM_EPOCHS = 50\n",
    "        \n",
    "for epoch in range(1, NUM_EPOCHS+1):\n",
    "    train_loss = train_epoch(model, optimizer)\n",
    "    val_loss = evaluate(model)\n",
    "    print((f\"Epoch: {epoch}, Train loss: {train_loss:.4f}, Val loss: {val_loss:.4f}\"))\n",
    "    early(val_loss, model)\n",
    "    if early.early_stop:\n",
    "        break"
   ]
  },
  {
   "cell_type": "code",
   "execution_count": 32,
   "id": "f1c7bbfa",
   "metadata": {},
   "outputs": [],
   "source": [
    "model = torch.load(\"model.pth\")[\"model\"].to(device)"
   ]
  },
  {
   "cell_type": "code",
   "execution_count": 33,
   "id": "609c7e5e",
   "metadata": {},
   "outputs": [],
   "source": [
    "def greedy_decode(model, src, src_mask, max_len, start_symbol):\n",
    "    src = src.to(device)\n",
    "    src_mask = src_mask.to(device)\n",
    "\n",
    "    memory = model.encoder(src, src_mask)\n",
    "    ys = torch.ones(1, 1).fill_(start_symbol).type(torch.long).to(device)\n",
    "    \n",
    "    for i in range(max_len-1):\n",
    "        memory = memory.to(device)\n",
    "        tgt_mask = create_trg_mask(ys.size(1)).type(torch.bool)\n",
    "        output = model.decoder(ys, memory, src_mask, tgt_mask)\n",
    "        prob = model.out(output[:, -1])\n",
    "        _, next_word = torch.max(prob, dim=1)\n",
    "        next_word = next_word.item()\n",
    "        if next_word == EOS_IDX:\n",
    "            break\n",
    "        ys = torch.cat([ys, torch.ones(1, 1).type_as(src.data).fill_(next_word)], dim=1)\n",
    "        \n",
    "    return ys\n",
    "\n",
    "def translate(model: torch.nn.Module, src_sentence: str):\n",
    "    model.eval()\n",
    "    src = text_transform[SRC_LANGUAGE](src_sentence).view(-1, 1)\n",
    "    num_tokens = src.shape[0]\n",
    "    src = src.transpose(0, 1)\n",
    "    src_mask = (src != PAD_IDX).unsqueeze(-2)\n",
    "    tgt_tokens = greedy_decode(model, src, src_mask, max_len=num_tokens + 5, start_symbol=BOS_IDX).flatten()\n",
    "    return \" \".join(vocab_transform[TGT_LANGUAGE].lookup_tokens(list(tgt_tokens.cpu().numpy()))[1:]).replace(\"\", \"\").replace(\"\", \"\")"
   ]
  },
  {
   "cell_type": "code",
   "execution_count": 34,
   "id": "6e14f467",
   "metadata": {},
   "outputs": [
    {
     "name": "stdout",
     "output_type": "stream",
     "text": [
      "I like sports and sports .\n",
      "That 's the long story in detail .\n",
      "It 's necessary to ask first .\n"
     ]
    }
   ],
   "source": [
    "print(translate(model, \"Я люблю людей и спорт\"))\n",
    "print(translate(model, \"Это долгая история которую стоит рассказать подробно\"))\n",
    "print(translate(model, \"Необходимо сначала спросить разрешение\"))"
   ]
  }
 ],
 "metadata": {
  "kernelspec": {
   "display_name": "Python [conda env:test1] *",
   "language": "python",
   "name": "conda-env-test1-py"
  },
  "language_info": {
   "codemirror_mode": {
    "name": "ipython",
    "version": 3
   },
   "file_extension": ".py",
   "mimetype": "text/x-python",
   "name": "python",
   "nbconvert_exporter": "python",
   "pygments_lexer": "ipython3",
   "version": "3.9.13"
  }
 },
 "nbformat": 4,
 "nbformat_minor": 5
}
