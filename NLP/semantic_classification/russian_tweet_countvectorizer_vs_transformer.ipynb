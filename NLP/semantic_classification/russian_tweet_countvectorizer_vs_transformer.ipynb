{
  "nbformat": 4,
  "nbformat_minor": 0,
  "metadata": {
    "colab": {
      "provenance": []
    },
    "kernelspec": {
      "name": "python3",
      "display_name": "Python 3"
    },
    "language_info": {
      "name": "python"
    },
    "gpuClass": "standard"
  },
  "cells": [
    {
      "cell_type": "code",
      "source": [
        "!pip install -qq pymorphy2"
      ],
      "metadata": {
        "colab": {
          "base_uri": "https://localhost:8080/"
        },
        "id": "KXKaGM0ntYBS",
        "outputId": "c6668677-4c95-453a-de94-66b119be34f2"
      },
      "execution_count": 1,
      "outputs": [
        {
          "output_type": "stream",
          "name": "stdout",
          "text": [
            "\u001b[?25l     \u001b[90m━━━━━━━━━━━━━━━━━━━━━━━━━━━━━━━━━━━━━━━━\u001b[0m \u001b[32m0.0/55.5 kB\u001b[0m \u001b[31m?\u001b[0m eta \u001b[36m-:--:--\u001b[0m\r\u001b[2K     \u001b[90m━━━━━━━━━━━━━━━━━━━━━━━━━━━━━━━━━━━━━━━━\u001b[0m \u001b[32m55.5/55.5 kB\u001b[0m \u001b[31m2.7 MB/s\u001b[0m eta \u001b[36m0:00:00\u001b[0m\n",
            "\u001b[?25h  Preparing metadata (setup.py) ... \u001b[?25l\u001b[?25hdone\n",
            "\u001b[2K     \u001b[90m━━━━━━━━━━━━━━━━━━━━━━━━━━━━━━━━━━━━━━━━\u001b[0m \u001b[32m8.2/8.2 MB\u001b[0m \u001b[31m50.7 MB/s\u001b[0m eta \u001b[36m0:00:00\u001b[0m\n",
            "\u001b[?25h  Building wheel for docopt (setup.py) ... \u001b[?25l\u001b[?25hdone\n"
          ]
        }
      ]
    },
    {
      "cell_type": "code",
      "source": [
        "!wget -qq --no-check-certificate \"https://drive.google.com/uc?export=download&id=16hd28VqzufDp8gpmIAC4UFAKAPbIrD4R\" -O negative.csv\n",
        "!wget -qq --no-check-certificate \"https://drive.google.com/uc?export=download&id=1NeluUImkZjwYTVZzK0RehtbWf3BKPike\" -O positive.csv"
      ],
      "metadata": {
        "id": "jiCfg1rktccR"
      },
      "execution_count": 2,
      "outputs": []
    },
    {
      "cell_type": "code",
      "execution_count": 3,
      "metadata": {
        "colab": {
          "base_uri": "https://localhost:8080/"
        },
        "id": "d1drd-UatLaT",
        "outputId": "153a39ce-dc61-4869-bd96-a4145dbd351e"
      },
      "outputs": [
        {
          "output_type": "stream",
          "name": "stderr",
          "text": [
            "[nltk_data] Downloading package stopwords to /root/nltk_data...\n",
            "[nltk_data]   Unzipping corpora/stopwords.zip.\n",
            "[nltk_data] Downloading package punkt to /root/nltk_data...\n",
            "[nltk_data]   Unzipping tokenizers/punkt.zip.\n"
          ]
        },
        {
          "output_type": "execute_result",
          "data": {
            "text/plain": [
              "True"
            ]
          },
          "metadata": {},
          "execution_count": 3
        }
      ],
      "source": [
        "import warnings\n",
        "warnings.filterwarnings(\"ignore\")\n",
        "\n",
        "import re\n",
        "from collections import Counter\n",
        "import string\n",
        "import time\n",
        "\n",
        "import pandas as pd\n",
        "import numpy as np\n",
        "\n",
        "import matplotlib.pyplot as plt\n",
        "import seaborn as sns\n",
        "\n",
        "from sklearn.model_selection import train_test_split, GridSearchCV\n",
        "from sklearn.feature_extraction.text import CountVectorizer, TfidfVectorizer, HashingVectorizer\n",
        "from sklearn.linear_model import LogisticRegression\n",
        "from sklearn.metrics import classification_report\n",
        "from sklearn.pipeline import make_pipeline\n",
        "from sklearn.naive_bayes import GaussianNB\n",
        "\n",
        "import nltk\n",
        "from nltk.tokenize import word_tokenize, WordPunctTokenizer\n",
        "from nltk.corpus import stopwords\n",
        "from nltk import FreqDist\n",
        "\n",
        "from pymorphy2 import MorphAnalyzer\n",
        "\n",
        "import tensorflow as tf\n",
        "\n",
        "pd.set_option(\"display.max_colwidth\", None)\n",
        "nltk.download('stopwords')\n",
        "nltk.download('punkt')"
      ]
    },
    {
      "cell_type": "code",
      "source": [
        "pymorphy2_analyzer = MorphAnalyzer()\n",
        "wp_tokenize = WordPunctTokenizer()\n",
        "punctuation = string.punctuation\n",
        "\n",
        "russian = stopwords.words(\"russian\")\n",
        "english = stopwords.words(\"english\")"
      ],
      "metadata": {
        "id": "5uwhPYjky7ha"
      },
      "execution_count": 4,
      "outputs": []
    },
    {
      "cell_type": "code",
      "source": [
        "positive = pd.read_csv(\"positive.csv\", sep=\";\", usecols=[3], header=None).rename(columns={3: \"text\"})\n",
        "negative = pd.read_csv(\"negative.csv\", sep=\";\", usecols=[3], header=None).rename(columns={3: \"text\"})\n",
        "positive[\"label\"] = 0\n",
        "negative[\"label\"] = 1\n",
        "df = pd.concat([positive, negative], axis=0).sample(frac=1)\n",
        "\n",
        "df.head()"
      ],
      "metadata": {
        "colab": {
          "base_uri": "https://localhost:8080/",
          "height": 206
        },
        "id": "yD0wims9ze6t",
        "outputId": "835c3d57-dd02-4325-8b14-6ab5f373751d"
      },
      "execution_count": 5,
      "outputs": [
        {
          "output_type": "execute_result",
          "data": {
            "text/plain": [
              "                                                                                                                                               text  \\\n",
              "77898                                                               так привыкла за эти дни к @AnastasiaMurMur , что сейчас одной дома не по себе;(   \n",
              "3950   Если бы вы знали,как я устала.. постоянно жуткие головные боли и головокружения. Часто приходится спать сидя, так как таблетки не помогают((   \n",
              "76312                                                                                  В моей жизни появился такой классный человек, спасибо тебе:)   \n",
              "76933                                                           @ln_summer @964269 а сам ПУ нехай присоединяет к своему ТС КНДР и узбагаиваецца :-)   \n",
              "93625                                               \"@SmokyMo46: Аааааааа) http://t.co/FM1nyn9zlu \" эбать курица, овца явно иностранка с ЕС))))))))   \n",
              "\n",
              "       label  \n",
              "77898      1  \n",
              "3950       1  \n",
              "76312      0  \n",
              "76933      0  \n",
              "93625      0  "
            ],
            "text/html": [
              "\n",
              "  <div id=\"df-4a7a8222-3f8b-44e9-9cc0-c31edc32f81a\">\n",
              "    <div class=\"colab-df-container\">\n",
              "      <div>\n",
              "<style scoped>\n",
              "    .dataframe tbody tr th:only-of-type {\n",
              "        vertical-align: middle;\n",
              "    }\n",
              "\n",
              "    .dataframe tbody tr th {\n",
              "        vertical-align: top;\n",
              "    }\n",
              "\n",
              "    .dataframe thead th {\n",
              "        text-align: right;\n",
              "    }\n",
              "</style>\n",
              "<table border=\"1\" class=\"dataframe\">\n",
              "  <thead>\n",
              "    <tr style=\"text-align: right;\">\n",
              "      <th></th>\n",
              "      <th>text</th>\n",
              "      <th>label</th>\n",
              "    </tr>\n",
              "  </thead>\n",
              "  <tbody>\n",
              "    <tr>\n",
              "      <th>77898</th>\n",
              "      <td>так привыкла за эти дни к @AnastasiaMurMur , что сейчас одной дома не по себе;(</td>\n",
              "      <td>1</td>\n",
              "    </tr>\n",
              "    <tr>\n",
              "      <th>3950</th>\n",
              "      <td>Если бы вы знали,как я устала.. постоянно жуткие головные боли и головокружения. Часто приходится спать сидя, так как таблетки не помогают((</td>\n",
              "      <td>1</td>\n",
              "    </tr>\n",
              "    <tr>\n",
              "      <th>76312</th>\n",
              "      <td>В моей жизни появился такой классный человек, спасибо тебе:)</td>\n",
              "      <td>0</td>\n",
              "    </tr>\n",
              "    <tr>\n",
              "      <th>76933</th>\n",
              "      <td>@ln_summer @964269 а сам ПУ нехай присоединяет к своему ТС КНДР и узбагаиваецца :-)</td>\n",
              "      <td>0</td>\n",
              "    </tr>\n",
              "    <tr>\n",
              "      <th>93625</th>\n",
              "      <td>\"@SmokyMo46: Аааааааа) http://t.co/FM1nyn9zlu \" эбать курица, овца явно иностранка с ЕС))))))))</td>\n",
              "      <td>0</td>\n",
              "    </tr>\n",
              "  </tbody>\n",
              "</table>\n",
              "</div>\n",
              "      <button class=\"colab-df-convert\" onclick=\"convertToInteractive('df-4a7a8222-3f8b-44e9-9cc0-c31edc32f81a')\"\n",
              "              title=\"Convert this dataframe to an interactive table.\"\n",
              "              style=\"display:none;\">\n",
              "        \n",
              "  <svg xmlns=\"http://www.w3.org/2000/svg\" height=\"24px\"viewBox=\"0 0 24 24\"\n",
              "       width=\"24px\">\n",
              "    <path d=\"M0 0h24v24H0V0z\" fill=\"none\"/>\n",
              "    <path d=\"M18.56 5.44l.94 2.06.94-2.06 2.06-.94-2.06-.94-.94-2.06-.94 2.06-2.06.94zm-11 1L8.5 8.5l.94-2.06 2.06-.94-2.06-.94L8.5 2.5l-.94 2.06-2.06.94zm10 10l.94 2.06.94-2.06 2.06-.94-2.06-.94-.94-2.06-.94 2.06-2.06.94z\"/><path d=\"M17.41 7.96l-1.37-1.37c-.4-.4-.92-.59-1.43-.59-.52 0-1.04.2-1.43.59L10.3 9.45l-7.72 7.72c-.78.78-.78 2.05 0 2.83L4 21.41c.39.39.9.59 1.41.59.51 0 1.02-.2 1.41-.59l7.78-7.78 2.81-2.81c.8-.78.8-2.07 0-2.86zM5.41 20L4 18.59l7.72-7.72 1.47 1.35L5.41 20z\"/>\n",
              "  </svg>\n",
              "      </button>\n",
              "      \n",
              "  <style>\n",
              "    .colab-df-container {\n",
              "      display:flex;\n",
              "      flex-wrap:wrap;\n",
              "      gap: 12px;\n",
              "    }\n",
              "\n",
              "    .colab-df-convert {\n",
              "      background-color: #E8F0FE;\n",
              "      border: none;\n",
              "      border-radius: 50%;\n",
              "      cursor: pointer;\n",
              "      display: none;\n",
              "      fill: #1967D2;\n",
              "      height: 32px;\n",
              "      padding: 0 0 0 0;\n",
              "      width: 32px;\n",
              "    }\n",
              "\n",
              "    .colab-df-convert:hover {\n",
              "      background-color: #E2EBFA;\n",
              "      box-shadow: 0px 1px 2px rgba(60, 64, 67, 0.3), 0px 1px 3px 1px rgba(60, 64, 67, 0.15);\n",
              "      fill: #174EA6;\n",
              "    }\n",
              "\n",
              "    [theme=dark] .colab-df-convert {\n",
              "      background-color: #3B4455;\n",
              "      fill: #D2E3FC;\n",
              "    }\n",
              "\n",
              "    [theme=dark] .colab-df-convert:hover {\n",
              "      background-color: #434B5C;\n",
              "      box-shadow: 0px 1px 3px 1px rgba(0, 0, 0, 0.15);\n",
              "      filter: drop-shadow(0px 1px 2px rgba(0, 0, 0, 0.3));\n",
              "      fill: #FFFFFF;\n",
              "    }\n",
              "  </style>\n",
              "\n",
              "      <script>\n",
              "        const buttonEl =\n",
              "          document.querySelector('#df-4a7a8222-3f8b-44e9-9cc0-c31edc32f81a button.colab-df-convert');\n",
              "        buttonEl.style.display =\n",
              "          google.colab.kernel.accessAllowed ? 'block' : 'none';\n",
              "\n",
              "        async function convertToInteractive(key) {\n",
              "          const element = document.querySelector('#df-4a7a8222-3f8b-44e9-9cc0-c31edc32f81a');\n",
              "          const dataTable =\n",
              "            await google.colab.kernel.invokeFunction('convertToInteractive',\n",
              "                                                     [key], {});\n",
              "          if (!dataTable) return;\n",
              "\n",
              "          const docLinkHtml = 'Like what you see? Visit the ' +\n",
              "            '<a target=\"_blank\" href=https://colab.research.google.com/notebooks/data_table.ipynb>data table notebook</a>'\n",
              "            + ' to learn more about interactive tables.';\n",
              "          element.innerHTML = '';\n",
              "          dataTable['output_type'] = 'display_data';\n",
              "          await google.colab.output.renderOutput(dataTable, element);\n",
              "          const docLink = document.createElement('div');\n",
              "          docLink.innerHTML = docLinkHtml;\n",
              "          element.appendChild(docLink);\n",
              "        }\n",
              "      </script>\n",
              "    </div>\n",
              "  </div>\n",
              "  "
            ]
          },
          "metadata": {},
          "execution_count": 5
        }
      ]
    },
    {
      "cell_type": "code",
      "source": [
        "from sklearn.preprocessing import normalize\n",
        "df[\"label\"].value_counts(normalize=True)"
      ],
      "metadata": {
        "colab": {
          "base_uri": "https://localhost:8080/"
        },
        "id": "ANmJJCyq07LT",
        "outputId": "e039626c-1bd3-43b3-b817-389a35c579bb"
      },
      "execution_count": 6,
      "outputs": [
        {
          "output_type": "execute_result",
          "data": {
            "text/plain": [
              "0    0.506586\n",
              "1    0.493414\n",
              "Name: label, dtype: float64"
            ]
          },
          "metadata": {},
          "execution_count": 6
        }
      ]
    },
    {
      "cell_type": "code",
      "source": [
        "emoticon_dict = {\n",
        "                \":)\": \"счастье\",\n",
        "                \":))\": \"счастье\",\n",
        "                \":‑)\": \"счастье\",\n",
        "                \":-]\": \"счастье\",\n",
        "                \":-3\": \"счастье\",\n",
        "                \":->\": \"счастье\",\n",
        "                \"8-)\": \"счастье\",\n",
        "                \":-}\": \"счастье\",\n",
        "                \":o)\": \"счастье\",\n",
        "                \":c)\": \"счастье\",\n",
        "                \":^)\": \"счастье\",\n",
        "                \"=]\": \"счастье\",\n",
        "                \"=)\": \"счастье\",\n",
        "                \"<3\": \"счастье\",\n",
        "                \":D\": \"счастье\",\n",
        "                \":-D\": \"счастье\",\n",
        "                \"))\": \"счастье\",\n",
        "                \":-(\": \"плохо\",\n",
        "                \":(\": \"плохо\",\n",
        "                \":c\": \"плохо\",\n",
        "                \":<\": \"плохо\",\n",
        "                \":[\": \"плохо\",\n",
        "                \">:[\": \"плохо\",\n",
        "                \":{\": \"плохо\",\n",
        "                \">:(\": \"плохо\",\n",
        "                \":-c\": \"плохо\",\n",
        "                \":-< \": \"плохо\",\n",
        "                \":-[\": \"плохо\",\n",
        "                \"((\": \"плохо\",\n",
        "                \":((\": \"плохо\",\n",
        "                \":-||\": \"плохо\"\n",
        "        }\n",
        "\n",
        "emo_list = list(emoticon_dict.keys())"
      ],
      "metadata": {
        "id": "bq2JRRYR4tqK"
      },
      "execution_count": 7,
      "outputs": []
    },
    {
      "cell_type": "code",
      "source": [
        "def preprocess(text: str, \n",
        "               remove_punct: bool = False,\n",
        "               lemma: bool = True) -> list:\n",
        "\n",
        "    if not isinstance(text, str):\n",
        "        text = str(text)\n",
        "\n",
        "    text = re.sub(\"@[\\w]*\", ' ', text)\n",
        "    text = re.sub(r'http\\S+', '', text)\n",
        "\n",
        "    s = ''\n",
        "    for token in text.split():\n",
        "        if token in emo_list:\n",
        "            s += emoticon_dict[token] + \" \"\n",
        "        else:\n",
        "            s += token + \" \"\n",
        "    text = s.rstrip()\n",
        "\n",
        "    text = re.sub(\"\\s\\s+\", \" \", text)\n",
        "    if remove_punct:\n",
        "        text = re.sub(r\"[^a-zA-Zа-яА-Я0-9]\", \" \", text)\n",
        "        text = re.sub(r\"[^a-zA-Zа-яА-Я]\", \" \", text)\n",
        "        text = re.sub(r\"[^\\w\\s]\", \" \", text)\n",
        "    else:\n",
        "        text = re.sub(f\"[^a-zA-Zа-яА-Я{punctuation}]\", \" \", text)\n",
        "\n",
        "    text = text.lower().strip().replace(',', '')\n",
        "    text = [w for w in text.split() if len(w)>1]\n",
        "    text = ' '.join([w for w in text if w not in russian and w not in english])\n",
        "    \n",
        "    text = wp_tokenize.tokenize(text)\n",
        "    if lemma:\n",
        "        text = [pymorphy2_analyzer.parse(w)[0].normal_form for w in text]\n",
        "    \n",
        "    return text"
      ],
      "metadata": {
        "id": "LfQA3RvP1AK7"
      },
      "execution_count": 8,
      "outputs": []
    },
    {
      "cell_type": "code",
      "source": [
        "df[\"text_prep\"] = df[\"text\"].apply(preprocess)"
      ],
      "metadata": {
        "id": "LYmr8oGy1AIj"
      },
      "execution_count": 9,
      "outputs": []
    },
    {
      "cell_type": "code",
      "source": [
        "df[\"text_prep\"].apply(len).hist()\n",
        "df[\"text_prep\"].apply(len).describe()  # 99.7 percentile = 24"
      ],
      "metadata": {
        "colab": {
          "base_uri": "https://localhost:8080/",
          "height": 429
        },
        "id": "VrJ64KNg-eKd",
        "outputId": "6e67458f-28bf-4292-bbf6-079120fdaf31"
      },
      "execution_count": null,
      "outputs": [
        {
          "output_type": "execute_result",
          "data": {
            "text/plain": [
              "count    226834.000000\n",
              "mean          9.301763\n",
              "std           4.183685\n",
              "min           0.000000\n",
              "25%           6.000000\n",
              "50%           9.000000\n",
              "75%          12.000000\n",
              "max          72.000000\n",
              "Name: text_prep, dtype: float64"
            ]
          },
          "metadata": {},
          "execution_count": 68
        },
        {
          "output_type": "display_data",
          "data": {
            "text/plain": [
              "<Figure size 432x288 with 1 Axes>"
            ],
            "image/png": "[encoded data removed]"
          },
          "metadata": {
            "needs_background": "light"
          }
        }
      ]
    },
    {
      "cell_type": "code",
      "source": [
        "corpus = [token for tweet in df.text_prep for token in tweet if token not in punctuation]\n",
        "freq_dict = Counter(corpus)\n",
        "freq_dict_sorted = sorted(freq_dict.items(), key=lambda x: -x[1])"
      ],
      "metadata": {
        "id": "xJsYQC9t6yRb"
      },
      "execution_count": null,
      "outputs": []
    },
    {
      "cell_type": "code",
      "source": [
        "vocab_size = len(freq_dict_sorted)\n",
        "\n",
        "high_freq_corpus = freq_dict_sorted[:vocab_size//3]\n",
        "middle_freq_corpus = freq_dict_sorted[vocab_size//3: 2*vocab_size//3]\n",
        "low_freq_corpus = freq_dict_sorted[2*vocab_size//3:]"
      ],
      "metadata": {
        "id": "iT6hdAm59f8u"
      },
      "execution_count": null,
      "outputs": []
    },
    {
      "cell_type": "code",
      "source": [
        "# too long and inefficient\n",
        "# df[\"high\"] = df[\"text_prep\"].apply(lambda x: [w for w in x if w in high_freq_corpus])"
      ],
      "metadata": {
        "id": "uYlRfjzyBxmU"
      },
      "execution_count": null,
      "outputs": []
    },
    {
      "cell_type": "code",
      "source": [
        "# full corpus for not to miss out rare tokens (despite some data leakage)\n",
        "\n",
        "# max_df: \"ignore terms that appear in more than N documents\"\n",
        "# min_df: \"ignore terms that appear in less than N documents\"\n",
        "high_tf = CountVectorizer(lowercase=False, ngram_range=(1, 2), max_features=None, min_df=485).fit(df[\"text_prep\"].apply(' '.join))\n",
        "middle_tf = CountVectorizer(lowercase=False, ngram_range=(1, 2), max_features=500, min_df=220, max_df=485).fit(df[\"text_prep\"].apply(' '.join))\n",
        "low_tf = CountVectorizer(lowercase=False, ngram_range=(1, 2), max_features=500, max_df=100).fit(df[\"text_prep\"].apply(' '.join))"
      ],
      "metadata": {
        "id": "FjrwwaVmAk7W"
      },
      "execution_count": null,
      "outputs": []
    },
    {
      "cell_type": "code",
      "source": [
        "freqs_names = [\"high\", \"middle\", \"low\"]\n",
        "\n",
        "for vect, tst in zip((high_tf, middle_tf, low_tf), freqs_names):\n",
        "    print(f\"Experiment {tst}: {len(low_tf.get_feature_names())}\")"
      ],
      "metadata": {
        "colab": {
          "base_uri": "https://localhost:8080/"
        },
        "id": "hb7Y-pJ7MYw6",
        "outputId": "7e530bf1-969a-44dc-8cfa-002dc2efc3a1"
      },
      "execution_count": null,
      "outputs": [
        {
          "output_type": "stream",
          "name": "stdout",
          "text": [
            "Experiment high: 500\n",
            "Experiment middle: 500\n",
            "Experiment low: 500\n"
          ]
        }
      ]
    },
    {
      "cell_type": "code",
      "source": [
        "x_train, x_test, y_train, y_test = train_test_split(df[\"text_prep\"], df[\"label\"], shuffle=True, random_state=42)"
      ],
      "metadata": {
        "id": "btIqEJJNKPor"
      },
      "execution_count": null,
      "outputs": []
    },
    {
      "cell_type": "code",
      "source": [
        "for vect, tst in zip((high_tf, middle_tf, low_tf), freqs_names):\n",
        "    train_x = vect.transform(x_train.apply(' '.join))\n",
        "    test_x = vect.transform(x_test.apply(' '.join))\n",
        "    lr = LogisticRegression(random_state=42).fit(train_x, y_train)\n",
        "    y_train_pred = lr.predict(train_x)\n",
        "    y_test_pred = lr.predict(test_x)\n",
        "    print(f\"Experiment {tst}: \")\n",
        "    print(classification_report(y_train, y_train_pred))\n",
        "    print(classification_report(y_test, y_test_pred))\n",
        "    print(\"=\"*30)\n",
        "\n",
        "# low-frequency tokens (terms) are less able to display tweet sentiment (feeling expression relies on more common words or symbols)"
      ],
      "metadata": {
        "colab": {
          "base_uri": "https://localhost:8080/"
        },
        "id": "VQNrh0CD3YVb",
        "outputId": "74880135-4686-4ce2-ba3e-25c2fa6da4d1"
      },
      "execution_count": null,
      "outputs": [
        {
          "output_type": "stream",
          "name": "stdout",
          "text": [
            "Experiment high: \n",
            "              precision    recall  f1-score   support\n",
            "\n",
            "           0       0.73      0.74      0.74     86048\n",
            "           1       0.73      0.71      0.72     84077\n",
            "\n",
            "    accuracy                           0.73    170125\n",
            "   macro avg       0.73      0.73      0.73    170125\n",
            "weighted avg       0.73      0.73      0.73    170125\n",
            "\n",
            "              precision    recall  f1-score   support\n",
            "\n",
            "           0       0.73      0.74      0.73     28863\n",
            "           1       0.72      0.72      0.72     27846\n",
            "\n",
            "    accuracy                           0.73     56709\n",
            "   macro avg       0.73      0.73      0.73     56709\n",
            "weighted avg       0.73      0.73      0.73     56709\n",
            "\n",
            "==============================\n",
            "Experiment middle: \n",
            "              precision    recall  f1-score   support\n",
            "\n",
            "           0       0.55      0.84      0.67     86048\n",
            "           1       0.65      0.30      0.41     84077\n",
            "\n",
            "    accuracy                           0.57    170125\n",
            "   macro avg       0.60      0.57      0.54    170125\n",
            "weighted avg       0.60      0.57      0.54    170125\n",
            "\n",
            "              precision    recall  f1-score   support\n",
            "\n",
            "           0       0.55      0.84      0.67     28863\n",
            "           1       0.64      0.29      0.40     27846\n",
            "\n",
            "    accuracy                           0.57     56709\n",
            "   macro avg       0.60      0.57      0.53     56709\n",
            "weighted avg       0.60      0.57      0.54     56709\n",
            "\n",
            "==============================\n",
            "Experiment low: \n",
            "              precision    recall  f1-score   support\n",
            "\n",
            "           0       0.52      0.95      0.67     86048\n",
            "           1       0.65      0.10      0.18     84077\n",
            "\n",
            "    accuracy                           0.53    170125\n",
            "   macro avg       0.59      0.52      0.42    170125\n",
            "weighted avg       0.58      0.53      0.43    170125\n",
            "\n",
            "              precision    recall  f1-score   support\n",
            "\n",
            "           0       0.52      0.94      0.67     28863\n",
            "           1       0.63      0.10      0.17     27846\n",
            "\n",
            "    accuracy                           0.53     56709\n",
            "   macro avg       0.58      0.52      0.42     56709\n",
            "weighted avg       0.58      0.53      0.43     56709\n",
            "\n",
            "==============================\n"
          ]
        }
      ]
    },
    {
      "cell_type": "code",
      "source": [
        "pipe = make_pipeline(CountVectorizer(ngram_range=(1,2), max_features=800), LogisticRegression(random_state=42)).fit(x_train.apply(' '.join), y_train)\n",
        "y_train_pred = pipe.predict(x_train.apply(' '.join))\n",
        "y_test_pred = pipe.predict(x_test.apply(' '.join))\n",
        "\n",
        "print(classification_report(y_train, y_train_pred))\n",
        "print(classification_report(y_test, y_test_pred))\n",
        "# overfitted model"
      ],
      "metadata": {
        "colab": {
          "base_uri": "https://localhost:8080/"
        },
        "id": "qGsZXdB_zsKm",
        "outputId": "7f6219d2-f682-48fc-e33f-8119845fec52"
      },
      "execution_count": null,
      "outputs": [
        {
          "output_type": "stream",
          "name": "stdout",
          "text": [
            "              precision    recall  f1-score   support\n",
            "\n",
            "           0       0.98      0.98      0.98     86048\n",
            "           1       0.98      0.98      0.98     84077\n",
            "\n",
            "    accuracy                           0.98    170125\n",
            "   macro avg       0.98      0.98      0.98    170125\n",
            "weighted avg       0.98      0.98      0.98    170125\n",
            "\n",
            "              precision    recall  f1-score   support\n",
            "\n",
            "           0       0.80      0.79      0.79     28863\n",
            "           1       0.79      0.79      0.79     27846\n",
            "\n",
            "    accuracy                           0.79     56709\n",
            "   macro avg       0.79      0.79      0.79     56709\n",
            "weighted avg       0.79      0.79      0.79     56709\n",
            "\n"
          ]
        }
      ]
    },
    {
      "cell_type": "code",
      "source": [
        "importance = pd.DataFrame({\"importance\": np.abs(pipe[-1].coef_.flatten()), \"feature\": pipe[0].get_feature_names_out()})\n",
        "\n",
        "importance = importance.sort_values(by=\"importance\", ascending=False)\n",
        "importance = importance.head(n=12)\n",
        "\n",
        "plt.figure(figsize=(20, 5))\n",
        "sns.barplot(x=importance[\"feature\"], y=importance[\"importance\"], palette=\"viridis\")\n",
        "plt.title(\"Top LR Importance Features\", size=14)\n",
        "plt.show()"
      ],
      "metadata": {
        "colab": {
          "base_uri": "https://localhost:8080/",
          "height": 351
        },
        "id": "Qi00UmnHzsIM",
        "outputId": "ada4694b-69de-4737-deeb-87507963ed41"
      },
      "execution_count": null,
      "outputs": [
        {
          "output_type": "display_data",
          "data": {
            "text/plain": [
              "<Figure size 1440x360 with 1 Axes>"
            ],
            "image/png": "[encoded data removed]"
          },
          "metadata": {
            "needs_background": "light"
          }
        }
      ]
    },
    {
      "cell_type": "code",
      "source": [
        "x_train, x_test, y_train, y_test = train_test_split(df[\"text\"], df[\"label\"], shuffle=True, random_state=42)"
      ],
      "metadata": {
        "id": "avxDE23dS9xA"
      },
      "execution_count": 6,
      "outputs": []
    },
    {
      "cell_type": "code",
      "source": [
        "pipe2 = make_pipeline(TfidfVectorizer(ngram_range=(1, 1), tokenizer=word_tokenize),\n",
        "                      LogisticRegression(random_state=42))\n",
        "\n",
        "pipe2.fit(x_train, y_train)\n",
        "pred = pipe2.predict(x_test)\n",
        "print(classification_report(pred, y_test))"
      ],
      "metadata": {
        "colab": {
          "base_uri": "https://localhost:8080/"
        },
        "id": "JeHPh8zBSc5_",
        "outputId": "4aef19d8-649d-41b0-dd65-3d5121d59a51"
      },
      "execution_count": null,
      "outputs": [
        {
          "output_type": "stream",
          "name": "stdout",
          "text": [
            "              precision    recall  f1-score   support\n",
            "\n",
            "           0       1.00      1.00      1.00     28905\n",
            "           1       1.00      1.00      1.00     27804\n",
            "\n",
            "    accuracy                           1.00     56709\n",
            "   macro avg       1.00      1.00      1.00     56709\n",
            "weighted avg       1.00      1.00      1.00     56709\n",
            "\n"
          ]
        }
      ]
    },
    {
      "cell_type": "code",
      "source": [
        "count_based = CountVectorizer(ngram_range=(1, 1), tokenizer=word_tokenize, max_features=1500)\n",
        "naive = GaussianNB()\n",
        "\n",
        "x_train_transformed = count_based.fit_transform(x_train)\n",
        "x_test_transformed = count_based.transform(x_test)\n",
        "naive.fit(x_train_transformed.toarray(), y_train)"
      ],
      "metadata": {
        "colab": {
          "base_uri": "https://localhost:8080/",
          "height": 74
        },
        "id": "lYvTeX10eyEj",
        "outputId": "9437a749-4021-4056-d15c-d1dfcad8c071"
      },
      "execution_count": 15,
      "outputs": [
        {
          "output_type": "execute_result",
          "data": {
            "text/plain": [
              "GaussianNB()"
            ],
            "text/html": [
              "<style>#sk-container-id-3 {color: black;background-color: white;}#sk-container-id-3 pre{padding: 0;}#sk-container-id-3 div.sk-toggleable {background-color: white;}#sk-container-id-3 label.sk-toggleable__label {cursor: pointer;display: block;width: 100%;margin-bottom: 0;padding: 0.3em;box-sizing: border-box;text-align: center;}#sk-container-id-3 label.sk-toggleable__label-arrow:before {content: \"▸\";float: left;margin-right: 0.25em;color: #696969;}#sk-container-id-3 label.sk-toggleable__label-arrow:hover:before {color: black;}#sk-container-id-3 div.sk-estimator:hover label.sk-toggleable__label-arrow:before {color: black;}#sk-container-id-3 div.sk-toggleable__content {max-height: 0;max-width: 0;overflow: hidden;text-align: left;background-color: #f0f8ff;}#sk-container-id-3 div.sk-toggleable__content pre {margin: 0.2em;color: black;border-radius: 0.25em;background-color: #f0f8ff;}#sk-container-id-3 input.sk-toggleable__control:checked~div.sk-toggleable__content {max-height: 200px;max-width: 100%;overflow: auto;}#sk-container-id-3 input.sk-toggleable__control:checked~label.sk-toggleable__label-arrow:before {content: \"▾\";}#sk-container-id-3 div.sk-estimator input.sk-toggleable__control:checked~label.sk-toggleable__label {background-color: #d4ebff;}#sk-container-id-3 div.sk-label input.sk-toggleable__control:checked~label.sk-toggleable__label {background-color: #d4ebff;}#sk-container-id-3 input.sk-hidden--visually {border: 0;clip: rect(1px 1px 1px 1px);clip: rect(1px, 1px, 1px, 1px);height: 1px;margin: -1px;overflow: hidden;padding: 0;position: absolute;width: 1px;}#sk-container-id-3 div.sk-estimator {font-family: monospace;background-color: #f0f8ff;border: 1px dotted black;border-radius: 0.25em;box-sizing: border-box;margin-bottom: 0.5em;}#sk-container-id-3 div.sk-estimator:hover {background-color: #d4ebff;}#sk-container-id-3 div.sk-parallel-item::after {content: \"\";width: 100%;border-bottom: 1px solid gray;flex-grow: 1;}#sk-container-id-3 div.sk-label:hover label.sk-toggleable__label {background-color: #d4ebff;}#sk-container-id-3 div.sk-serial::before {content: \"\";position: absolute;border-left: 1px solid gray;box-sizing: border-box;top: 0;bottom: 0;left: 50%;z-index: 0;}#sk-container-id-3 div.sk-serial {display: flex;flex-direction: column;align-items: center;background-color: white;padding-right: 0.2em;padding-left: 0.2em;position: relative;}#sk-container-id-3 div.sk-item {position: relative;z-index: 1;}#sk-container-id-3 div.sk-parallel {display: flex;align-items: stretch;justify-content: center;background-color: white;position: relative;}#sk-container-id-3 div.sk-item::before, #sk-container-id-3 div.sk-parallel-item::before {content: \"\";position: absolute;border-left: 1px solid gray;box-sizing: border-box;top: 0;bottom: 0;left: 50%;z-index: -1;}#sk-container-id-3 div.sk-parallel-item {display: flex;flex-direction: column;z-index: 1;position: relative;background-color: white;}#sk-container-id-3 div.sk-parallel-item:first-child::after {align-self: flex-end;width: 50%;}#sk-container-id-3 div.sk-parallel-item:last-child::after {align-self: flex-start;width: 50%;}#sk-container-id-3 div.sk-parallel-item:only-child::after {width: 0;}#sk-container-id-3 div.sk-dashed-wrapped {border: 1px dashed gray;margin: 0 0.4em 0.5em 0.4em;box-sizing: border-box;padding-bottom: 0.4em;background-color: white;}#sk-container-id-3 div.sk-label label {font-family: monospace;font-weight: bold;display: inline-block;line-height: 1.2em;}#sk-container-id-3 div.sk-label-container {text-align: center;}#sk-container-id-3 div.sk-container {/* jupyter's `normalize.less` sets `[hidden] { display: none; }` but bootstrap.min.css set `[hidden] { display: none !important; }` so we also need the `!important` here to be able to override the default hidden behavior on the sphinx rendered scikit-learn.org. See: https://github.com/scikit-learn/scikit-learn/issues/21755 */display: inline-block !important;position: relative;}#sk-container-id-3 div.sk-text-repr-fallback {display: none;}</style><div id=\"sk-container-id-3\" class=\"sk-top-container\"><div class=\"sk-text-repr-fallback\"><pre>GaussianNB()</pre><b>In a Jupyter environment, please rerun this cell to show the HTML representation or trust the notebook. <br />On GitHub, the HTML representation is unable to render, please try loading this page with nbviewer.org.</b></div><div class=\"sk-container\" hidden><div class=\"sk-item\"><div class=\"sk-estimator sk-toggleable\"><input class=\"sk-toggleable__control sk-hidden--visually\" id=\"sk-estimator-id-3\" type=\"checkbox\" checked><label for=\"sk-estimator-id-3\" class=\"sk-toggleable__label sk-toggleable__label-arrow\">GaussianNB</label><div class=\"sk-toggleable__content\"><pre>GaussianNB()</pre></div></div></div></div></div>"
            ]
          },
          "metadata": {},
          "execution_count": 15
        }
      ]
    },
    {
      "cell_type": "code",
      "source": [
        "pred = naive.predict(x_test_transformed.toarray())\n",
        "print(classification_report(y_test, pred))"
      ],
      "metadata": {
        "colab": {
          "base_uri": "https://localhost:8080/"
        },
        "id": "DJY_8NqjjIKr",
        "outputId": "ba580ca9-904a-4ad0-febc-f26b074e83b8"
      },
      "execution_count": 16,
      "outputs": [
        {
          "output_type": "stream",
          "name": "stdout",
          "text": [
            "              precision    recall  f1-score   support\n",
            "\n",
            "           0       0.98      0.99      0.99     28725\n",
            "           1       0.99      0.98      0.99     27984\n",
            "\n",
            "    accuracy                           0.99     56709\n",
            "   macro avg       0.99      0.99      0.99     56709\n",
            "weighted avg       0.99      0.99      0.99     56709\n",
            "\n"
          ]
        }
      ]
    },
    {
      "cell_type": "code",
      "source": [
        "importance = pd.DataFrame({\"importance\": np.abs(pipe2[1].coef_.flatten()), \"feature\": pipe2[0].get_feature_names_out()})\n",
        "\n",
        "importance = importance.sort_values(by=\"importance\", ascending=False)\n",
        "importance = importance.head(n=12)\n",
        "\n",
        "plt.figure(figsize=(20, 5))\n",
        "sns.barplot(x=importance[\"feature\"], y=importance[\"importance\"], palette=\"viridis\")\n",
        "plt.title(\"Top LR Importance Features\", size=14)\n",
        "plt.show()\n",
        "# this is TRUE amazing: brackets are the most powerful features"
      ],
      "metadata": {
        "colab": {
          "base_uri": "https://localhost:8080/",
          "height": 352
        },
        "id": "MoImw-EnTb9L",
        "outputId": "353267f4-3a07-41d5-b11f-50966d8ddf1d"
      },
      "execution_count": null,
      "outputs": [
        {
          "output_type": "display_data",
          "data": {
            "text/plain": [
              "<Figure size 1440x360 with 1 Axes>"
            ],
            "image/png": "[encoded data removed]"
          },
          "metadata": {
            "needs_background": "light"
          }
        }
      ]
    },
    {
      "cell_type": "code",
      "source": [
        "tfidf = TfidfVectorizer(ngram_range=(1, 1), tokenizer=word_tokenize)  # analyzer=\"char\" for language recognition, also good for small emoji\n",
        "cnt = CountVectorizer(ngram_range=(1, 1), tokenizer=word_tokenize)\n",
        "hash = HashingVectorizer(ngram_range=(1, 1), tokenizer=word_tokenize)\n",
        "\n",
        "for vect in ((tfidf, cnt, hash)):\n",
        "    pipe3 = make_pipeline(vect,\n",
        "                          LogisticRegression(random_state=42))\n",
        "\n",
        "    pipe3.fit(x_train, y_train)\n",
        "    pred = pipe3.predict(x_test)\n",
        "    print(classification_report(pred, y_test))\n",
        "    print(\"=\"*30)"
      ],
      "metadata": {
        "colab": {
          "base_uri": "https://localhost:8080/"
        },
        "id": "MZ0n7009Vd96",
        "outputId": "57ce8372-1d52-492a-93df-9231bae4cca9"
      },
      "execution_count": null,
      "outputs": [
        {
          "output_type": "stream",
          "name": "stdout",
          "text": [
            "              precision    recall  f1-score   support\n",
            "\n",
            "           0       1.00      1.00      1.00     28905\n",
            "           1       1.00      1.00      1.00     27804\n",
            "\n",
            "    accuracy                           1.00     56709\n",
            "   macro avg       1.00      1.00      1.00     56709\n",
            "weighted avg       1.00      1.00      1.00     56709\n",
            "\n",
            "==============================\n",
            "              precision    recall  f1-score   support\n",
            "\n",
            "           0       1.00      1.00      1.00     28851\n",
            "           1       1.00      1.00      1.00     27858\n",
            "\n",
            "    accuracy                           1.00     56709\n",
            "   macro avg       1.00      1.00      1.00     56709\n",
            "weighted avg       1.00      1.00      1.00     56709\n",
            "\n",
            "==============================\n",
            "              precision    recall  f1-score   support\n",
            "\n",
            "           0       1.00      1.00      1.00     28854\n",
            "           1       1.00      1.00      1.00     27855\n",
            "\n",
            "    accuracy                           1.00     56709\n",
            "   macro avg       1.00      1.00      1.00     56709\n",
            "weighted avg       1.00      1.00      1.00     56709\n",
            "\n",
            "==============================\n"
          ]
        }
      ]
    },
    {
      "cell_type": "code",
      "source": [
        "# hashing vectorizer n_features: The number of features (columns) in the output matrices. \n",
        "# Small numbers of features are likely to cause hash collisions, but large numbers will cause larger coefficient dimensions in linear learners."
      ],
      "metadata": {
        "id": "gZHFXZszWUav"
      },
      "execution_count": null,
      "outputs": []
    },
    {
      "cell_type": "code",
      "source": [
        "for n in (2**5, 2**8, 2**9):\n",
        "\n",
        "    pipe3 = make_pipeline(HashingVectorizer(n_features=n, tokenizer=word_tokenize),\n",
        "                          LogisticRegression(random_state=42))\n",
        "\n",
        "    pipe3.fit(x_train, y_train)\n",
        "    pred = pipe3.predict(x_test)\n",
        "    print(classification_report(pred, y_test))\n",
        "    print(\"=\"*30)\n",
        "\n",
        "# 2**10 is pretty suitable: as 2**11 gives 100% accuracy "
      ],
      "metadata": {
        "colab": {
          "base_uri": "https://localhost:8080/"
        },
        "id": "t9sIz1xpXDh-",
        "outputId": "92df89fc-79f7-42c2-d2fe-2e97c3d01567"
      },
      "execution_count": null,
      "outputs": [
        {
          "output_type": "stream",
          "name": "stdout",
          "text": [
            "              precision    recall  f1-score   support\n",
            "\n",
            "           0       0.92      0.90      0.91     29383\n",
            "           1       0.90      0.91      0.90     27326\n",
            "\n",
            "    accuracy                           0.91     56709\n",
            "   macro avg       0.91      0.91      0.91     56709\n",
            "weighted avg       0.91      0.91      0.91     56709\n",
            "\n",
            "==============================\n",
            "              precision    recall  f1-score   support\n",
            "\n",
            "           0       0.99      0.97      0.98     29188\n",
            "           1       0.97      0.99      0.98     27521\n",
            "\n",
            "    accuracy                           0.98     56709\n",
            "   macro avg       0.98      0.98      0.98     56709\n",
            "weighted avg       0.98      0.98      0.98     56709\n",
            "\n",
            "==============================\n",
            "              precision    recall  f1-score   support\n",
            "\n",
            "           0       0.99      0.98      0.99     29086\n",
            "           1       0.98      0.99      0.99     27623\n",
            "\n",
            "    accuracy                           0.99     56709\n",
            "   macro avg       0.99      0.99      0.99     56709\n",
            "weighted avg       0.99      0.99      0.99     56709\n",
            "\n",
            "==============================\n"
          ]
        }
      ]
    },
    {
      "cell_type": "code",
      "source": [
        "cnt = CountVectorizer(ngram_range=(1, 1), max_features=2048, tokenizer=word_tokenize)\n",
        "\n",
        "train_x = cnt.fit_transform(x_train)\n",
        "test_x = cnt.transform(x_test)\n",
        "\n",
        "train_x.shape"
      ],
      "metadata": {
        "colab": {
          "base_uri": "https://localhost:8080/"
        },
        "id": "d1nf5jR0y4wN",
        "outputId": "5ef6f9ed-1fcf-4fde-a424-7264d1e962e6"
      },
      "execution_count": null,
      "outputs": [
        {
          "output_type": "execute_result",
          "data": {
            "text/plain": [
              "(170125, 2048)"
            ]
          },
          "metadata": {},
          "execution_count": 22
        }
      ]
    },
    {
      "cell_type": "code",
      "source": [
        "train_x = train_x.toarray().astype(np.float32)\n",
        "test_x = test_x.toarray().astype(np.float32)"
      ],
      "metadata": {
        "id": "URpU0vUA18sC"
      },
      "execution_count": null,
      "outputs": []
    },
    {
      "cell_type": "code",
      "source": [
        "# we won't make validation ds, just observing common stats\n",
        "train_ds = tf.data.Dataset.from_tensor_slices((train_x, y_train)).cache().shuffle(buffer_size=len(train_x)).prefetch(buffer_size=tf.data.AUTOTUNE).batch(128)\n",
        "test_ds = tf.data.Dataset.from_tensor_slices((test_x, y_test)).prefetch(buffer_size=tf.data.AUTOTUNE).batch(128)"
      ],
      "metadata": {
        "id": "xrp2O25B0UHg"
      },
      "execution_count": null,
      "outputs": []
    },
    {
      "cell_type": "code",
      "source": [
        "# simple model: just like two sequntial linear regressions + activation\n",
        "dense_model = tf.keras.Sequential([\n",
        "        tf.keras.layers.Dense(512, activation=\"relu\"),\n",
        "        tf.keras.layers.Dense(1, activation=\"sigmoid\")\n",
        "])\n",
        "\n",
        "dense_model.compile(loss=\"binary_crossentropy\", optimizer=\"adam\", metrics=['accuracy'])\n",
        "\n",
        "callbacks = [\n",
        "             tf.keras.callbacks.ReduceLROnPlateau(patience=2),\n",
        "             tf.keras.callbacks.EarlyStopping(monitor='val_loss', patience=5, restore_best_weights=True),\n",
        "            ]"
      ],
      "metadata": {
        "id": "xGdf-d0qwgEL"
      },
      "execution_count": null,
      "outputs": []
    },
    {
      "cell_type": "code",
      "source": [
        "history = dense_model.fit(train_ds, epochs=10, validation_data=test_ds, callbacks=callbacks)"
      ],
      "metadata": {
        "colab": {
          "base_uri": "https://localhost:8080/"
        },
        "id": "SGxFgwku23vZ",
        "outputId": "b216567e-13e7-4c0a-fc4f-14888706e9e3"
      },
      "execution_count": null,
      "outputs": [
        {
          "output_type": "stream",
          "name": "stdout",
          "text": [
            "Epoch 1/10\n",
            "1330/1330 [==============================] - 30s 22ms/step - loss: 0.0266 - accuracy: 0.9935 - val_loss: 0.0078 - val_accuracy: 0.9973 - lr: 0.0010\n",
            "Epoch 2/10\n",
            "1330/1330 [==============================] - 30s 23ms/step - loss: 0.0067 - accuracy: 0.9979 - val_loss: 0.0073 - val_accuracy: 0.9979 - lr: 0.0010\n",
            "Epoch 3/10\n",
            "1330/1330 [==============================] - 30s 22ms/step - loss: 0.0039 - accuracy: 0.9988 - val_loss: 0.0070 - val_accuracy: 0.9978 - lr: 0.0010\n",
            "Epoch 4/10\n",
            "1330/1330 [==============================] - 29s 22ms/step - loss: 0.0028 - accuracy: 0.9991 - val_loss: 0.0073 - val_accuracy: 0.9975 - lr: 0.0010\n",
            "Epoch 5/10\n",
            "1330/1330 [==============================] - 31s 23ms/step - loss: 0.0020 - accuracy: 0.9994 - val_loss: 0.0072 - val_accuracy: 0.9980 - lr: 0.0010\n",
            "Epoch 6/10\n",
            "1330/1330 [==============================] - 29s 22ms/step - loss: 0.0011 - accuracy: 0.9997 - val_loss: 0.0062 - val_accuracy: 0.9980 - lr: 1.0000e-04\n",
            "Epoch 7/10\n",
            "1330/1330 [==============================] - 31s 23ms/step - loss: 8.0370e-04 - accuracy: 0.9998 - val_loss: 0.0061 - val_accuracy: 0.9982 - lr: 1.0000e-04\n",
            "Epoch 8/10\n",
            "1330/1330 [==============================] - 30s 22ms/step - loss: 7.1070e-04 - accuracy: 0.9998 - val_loss: 0.0062 - val_accuracy: 0.9981 - lr: 1.0000e-04\n",
            "Epoch 9/10\n",
            "1330/1330 [==============================] - 30s 22ms/step - loss: 6.3331e-04 - accuracy: 0.9999 - val_loss: 0.0064 - val_accuracy: 0.9980 - lr: 1.0000e-04\n",
            "Epoch 10/10\n",
            "1330/1330 [==============================] - 30s 22ms/step - loss: 5.4965e-04 - accuracy: 0.9999 - val_loss: 0.0064 - val_accuracy: 0.9981 - lr: 1.0000e-05\n"
          ]
        }
      ]
    },
    {
      "cell_type": "code",
      "source": [
        "# LSTM\n",
        "\n",
        "max_features = 4000\n",
        "sequence_length = 64\n",
        "\n",
        "vectorize_layer = tf.keras.layers.TextVectorization(\n",
        "    standardize=\"lower\",\n",
        "    max_tokens=max_features,\n",
        "    output_mode='int',\n",
        "    output_sequence_length=sequence_length)\n",
        "\n",
        "def vectorize_text(text, label):\n",
        "    text = tf.expand_dims(text, -1)\n",
        "    text = vectorize_layer(text)\n",
        "    return text, label\n",
        "\n",
        "vectorize_layer.adapt(x_train.values)"
      ],
      "metadata": {
        "id": "TMWYETDN0WAJ"
      },
      "execution_count": null,
      "outputs": []
    },
    {
      "cell_type": "code",
      "source": [
        "def squeeze(x,z):\n",
        "    \"\"\" dimensions issues after applying batch at the end: input is 1d array \"\"\"\n",
        "    return tf.squeeze(x, axis=1), z"
      ],
      "metadata": {
        "id": "Yu7fRT4U0V9F"
      },
      "execution_count": null,
      "outputs": []
    },
    {
      "cell_type": "code",
      "source": [
        "train_ds = tf.data.Dataset.from_tensor_slices((x_train.values, y_train)) \\\n",
        "                          .map(vectorize_text) \\\n",
        "                          .cache() \\\n",
        "                          .shuffle(len(x_train)) \\\n",
        "                          .prefetch(buffer_size=tf.data.AUTOTUNE) \\\n",
        "                          .batch(128) \\\n",
        "                          .map(squeeze)\n",
        "\n",
        "test_ds = tf.data.Dataset.from_tensor_slices((x_test.values, y_test)) \\\n",
        "                          .map(vectorize_text) \\\n",
        "                          .cache() \\\n",
        "                          .batch(128) \\\n",
        "                          .prefetch(buffer_size=tf.data.AUTOTUNE) \\\n",
        "                          .map(squeeze)"
      ],
      "metadata": {
        "id": "k1zhluYr0V6Y"
      },
      "execution_count": null,
      "outputs": []
    },
    {
      "cell_type": "code",
      "source": [
        "lstm_model = tf.keras.Sequential([\n",
        "    tf.keras.layers.Embedding(max_features+1, 128, mask_zero=True),\n",
        "    tf.keras.layers.LSTM(64, return_sequences=False),  # obtain last hidden state [B, 128], otherwise all hidden states: [B, seq_len, 128]\n",
        "    tf.keras.layers.Dropout(0.5),\n",
        "    tf.keras.layers.Dense(1, activation=\"sigmoid\")\n",
        "])\n",
        "\n",
        "lstm_model.compile(loss=\"binary_crossentropy\", optimizer=\"adam\", metrics=['accuracy'])\n",
        "\n",
        "callbacks = [\n",
        "             tf.keras.callbacks.ReduceLROnPlateau(patience=2),\n",
        "             tf.keras.callbacks.EarlyStopping(monitor='val_loss', patience=5, restore_best_weights=True),\n",
        "            ]"
      ],
      "metadata": {
        "id": "V8pS0vtP5l5C"
      },
      "execution_count": null,
      "outputs": []
    },
    {
      "cell_type": "code",
      "source": [
        "history = lstm_model.fit(train_ds, epochs=10, validation_data=test_ds, callbacks=callbacks)\n",
        "# strong overfitting"
      ],
      "metadata": {
        "colab": {
          "base_uri": "https://localhost:8080/"
        },
        "id": "-NZNCq6P5l25",
        "outputId": "2d013aad-078f-4a9f-9cf7-2dbd61d1cb73"
      },
      "execution_count": null,
      "outputs": [
        {
          "output_type": "stream",
          "name": "stdout",
          "text": [
            "Epoch 1/10\n",
            "1330/1330 [==============================] - 23s 12ms/step - loss: 0.4015 - accuracy: 0.7826 - val_loss: 0.3676 - val_accuracy: 0.8036 - lr: 0.0010\n",
            "Epoch 2/10\n",
            "1330/1330 [==============================] - 16s 12ms/step - loss: 0.3583 - accuracy: 0.8111 - val_loss: 0.3628 - val_accuracy: 0.8057 - lr: 0.0010\n",
            "Epoch 3/10\n",
            "1330/1330 [==============================] - 15s 11ms/step - loss: 0.3440 - accuracy: 0.8202 - val_loss: 0.3650 - val_accuracy: 0.8062 - lr: 0.0010\n",
            "Epoch 4/10\n",
            "1330/1330 [==============================] - 16s 12ms/step - loss: 0.3313 - accuracy: 0.8282 - val_loss: 0.3650 - val_accuracy: 0.8069 - lr: 0.0010\n",
            "Epoch 5/10\n",
            "1330/1330 [==============================] - 16s 12ms/step - loss: 0.3033 - accuracy: 0.8468 - val_loss: 0.3864 - val_accuracy: 0.8051 - lr: 1.0000e-04\n",
            "Epoch 6/10\n",
            "1330/1330 [==============================] - 17s 13ms/step - loss: 0.2981 - accuracy: 0.8494 - val_loss: 0.3889 - val_accuracy: 0.8043 - lr: 1.0000e-04\n",
            "Epoch 7/10\n",
            "1330/1330 [==============================] - 18s 13ms/step - loss: 0.2931 - accuracy: 0.8528 - val_loss: 0.3943 - val_accuracy: 0.8042 - lr: 1.0000e-05\n"
          ]
        }
      ]
    },
    {
      "cell_type": "code",
      "source": [
        "# transformer"
      ],
      "metadata": {
        "id": "fEanRx5HzsF2"
      },
      "execution_count": null,
      "outputs": []
    },
    {
      "cell_type": "code",
      "source": [
        "max_features = 4000\n",
        "sequence_length = 256\n",
        "\n",
        "vectorize_layer = tf.keras.layers.TextVectorization(\n",
        "    standardize=\"lower\",\n",
        "    max_tokens=max_features,\n",
        "    output_mode='int',\n",
        "    output_sequence_length=sequence_length)\n",
        "\n",
        "def vectorize_text(text, label):\n",
        "    text = tf.expand_dims(text, -1)\n",
        "    text = vectorize_layer(text)\n",
        "    mask = tf.cast(tf.not_equal(text, 0), dtype=tf.bool)\n",
        "    mask = tf.expand_dims(mask, axis=-2)\n",
        "    return (text, mask), label\n",
        "\n",
        "vectorize_layer.adapt(x_train.values)"
      ],
      "metadata": {
        "id": "W0l-SwQERzrc"
      },
      "execution_count": null,
      "outputs": []
    },
    {
      "cell_type": "code",
      "source": [
        "def squeeze(x,z):\n",
        "    \"\"\" dimensions issues after applying batch at the end: input is 1d array \"\"\"\n",
        "    return (tf.squeeze(x[0], axis=1), tf.squeeze(x[1], axis=1)), z"
      ],
      "metadata": {
        "id": "ezlIa4ysRzon"
      },
      "execution_count": null,
      "outputs": []
    },
    {
      "cell_type": "code",
      "source": [
        "train_ds = tf.data.Dataset.from_tensor_slices((x_train.values, y_train)) \\\n",
        "                          .map(vectorize_text) \\\n",
        "                          .cache() \\\n",
        "                          .shuffle(len(x_train)) \\\n",
        "                          .prefetch(buffer_size=tf.data.AUTOTUNE) \\\n",
        "                          .batch(128) \\\n",
        "                          .map(squeeze)\n",
        "\n",
        "test_ds = tf.data.Dataset.from_tensor_slices((x_test.values, y_test)) \\\n",
        "                          .map(vectorize_text) \\\n",
        "                          .cache() \\\n",
        "                          .batch(128) \\\n",
        "                          .prefetch(buffer_size=tf.data.AUTOTUNE) \\\n",
        "                          .map(squeeze)"
      ],
      "metadata": {
        "id": "HQjh5WeJ9YBN"
      },
      "execution_count": null,
      "outputs": []
    },
    {
      "cell_type": "code",
      "source": [
        "def transformer_encoder(inputs, mask, head_size, num_heads, ff_dim, dropout=0.1, ff_type=\"cnn\"):\n",
        "    # Attention and Normalization\n",
        "    x = tf.keras.layers.MultiHeadAttention(\n",
        "        key_dim=head_size, num_heads=num_heads, dropout=dropout\n",
        "        )(inputs, inputs, attention_mask=mask)\n",
        "    x = tf.keras.layers.Dropout(dropout)(x)\n",
        "    x = tf.keras.layers.Add()([x, inputs])\n",
        "    res = tf.keras.layers.LayerNormalization(epsilon=1e-6)(x)\n",
        "\n",
        "    if ff_type == \"cnn\":\n",
        "        # Convolutional Feed Forward Part\n",
        "        x = tf.keras.layers.Conv1D(filters=ff_dim, kernel_size=1, activation=\"relu\")(res)  # each word window; activation: gelu\n",
        "        x = tf.keras.layers.Dropout(dropout)(x)\n",
        "        x = tf.keras.layers.Conv1D(filters=inputs.shape[-1], kernel_size=1)(x)\n",
        "\n",
        "    elif ff_type == \"dense\":\n",
        "        # Dense FFN\n",
        "        x = tf.keras.layers.Dense(units=ff_dim, activation=\"relu\")(res)  # gelu\n",
        "        x = tf.keras.layers.Dropout(dropout)(x)\n",
        "        x = tf.keras.layers.Dense(units=inputs.shape[-1])(x)\n",
        "    else:\n",
        "        raise NotImplementedError(\"Set ff_type to 'cnn' or 'dense'\")\n",
        "\n",
        "    x = tf.keras.layers.Add()([x, res])\n",
        "    x = tf.keras.layers.LayerNormalization(epsilon=1e-6)(x)\n",
        "\n",
        "    return x"
      ],
      "metadata": {
        "id": "XzVhLyC29aC0"
      },
      "execution_count": null,
      "outputs": []
    },
    {
      "cell_type": "code",
      "source": [
        "class SeqEmbedding(tf.keras.layers.Layer):\n",
        "    def __init__(self, vocab_size, d_model):\n",
        "        super(SeqEmbedding, self).__init__()\n",
        "        self.d_model = d_model\n",
        "        self.embedding = tf.keras.layers.Embedding(vocab_size, d_model, mask_zero=True) \n",
        "        self.pos_encoding = self.positional_encoding(length=1024, depth=d_model)\n",
        "\n",
        "    def compute_mask(self, *args, **kwargs):\n",
        "        return self.embedding.compute_mask(*args, **kwargs)\n",
        "\n",
        "    def positional_encoding(self, length, depth):\n",
        "        depth = depth / 2\n",
        "\n",
        "        positions = np.arange(length)[:, np.newaxis]     # (seq, 1)\n",
        "        depths = np.arange(depth)[np.newaxis, :] / depth   # (1, depth)\n",
        "\n",
        "        angle_rates = 1 / (10000**depths)         # (1, depth)\n",
        "        angle_rads = positions * angle_rates      # (pos, depth)\n",
        "\n",
        "        pos_encoding = np.concatenate(\n",
        "            [np.sin(angle_rads), np.cos(angle_rads)], axis=-1\n",
        "            ) \n",
        "\n",
        "        return tf.cast(pos_encoding, dtype=tf.float32)\n",
        "\n",
        "    def call(self, x):\n",
        "        length = tf.shape(x)[1]\n",
        "        x = self.embedding(x)\n",
        "\n",
        "        x *= tf.math.sqrt(tf.cast(self.d_model, tf.float32))\n",
        "        x = x + self.pos_encoding[tf.newaxis, :length, :]\n",
        "        return x"
      ],
      "metadata": {
        "id": "IPzcpOCh9aAp"
      },
      "execution_count": null,
      "outputs": []
    },
    {
      "cell_type": "code",
      "source": [
        "class MeanPooling(tf.keras.layers.Layer):\n",
        "    def __init__(self):\n",
        "        super(MeanPooling, self).__init__()\n",
        "        \n",
        "    def call(self, inputs, masks):\n",
        "        masks = tf.squeeze(masks, axis=1)\n",
        "        expanded_masks = tf.broadcast_to(masks[..., None], shape=tf.shape(inputs))\n",
        "        expanded_masks = tf.cast(expanded_masks, dtype=tf.float32)\n",
        "        sum_embeddings = tf.reduce_sum(inputs * expanded_masks, axis=1)\n",
        "        sum_masks = tf.reduce_sum(expanded_masks, axis=1)\n",
        "        sum_masks = tf.clip_by_value(sum_masks, clip_value_min=1e-9, clip_value_max=tf.reduce_max(sum_masks))\n",
        "        mean_embeddings = sum_embeddings / sum_masks\n",
        "        return mean_embeddings"
      ],
      "metadata": {
        "id": "4_FK4Sc5eO78"
      },
      "execution_count": null,
      "outputs": []
    },
    {
      "cell_type": "code",
      "source": [
        "def build_model(\n",
        "                input_shape,\n",
        "                num_heads=4,\n",
        "                num_transformer_blocks=4,\n",
        "                mlp_units=[128,],\n",
        "                n_classes=1,\n",
        "                emb_dim=256,\n",
        "                dropout=0.1,\n",
        "                mlp_dropout=0.1,\n",
        "                ff_type=\"dense\",\n",
        "):\n",
        "    head_size = emb_dim // num_heads\n",
        "    ff_dim = emb_dim * 4\n",
        "\n",
        "    inputs = tf.keras.Input(shape=input_shape, name=\"input\")  # [128, 64] if len_seq = 128\n",
        "    mask = tf.keras.Input(shape=(1, sequence_length), name=\"mask\")  # [128, 1, 64] of type bool\n",
        "\n",
        "    x = inputs\n",
        "    x = SeqEmbedding(max_features+1, emb_dim)(x)  # [B, seq_len, emb_dim] = [128, 64, 256]\n",
        "\n",
        "    x = tf.keras.layers.LayerNormalization(epsilon=1e-6)(x)\n",
        "    for _ in range(num_transformer_blocks):\n",
        "        x = transformer_encoder(x, mask, head_size, num_heads, ff_dim, dropout)  # [128, 64, 256]\n",
        "\n",
        "    # x = tf.keras.layers.GlobalAveragePooling1D()(x)  # [128, 256]\n",
        "    x = MeanPooling()(x, mask)  # [128, 256] w.r.t mask\n",
        "\n",
        "    for dim in mlp_units:\n",
        "        x = tf.keras.layers.Dense(dim, activation=\"relu\")(x)  # [128, 128]\n",
        "        x = tf.keras.layers.Dropout(mlp_dropout)(x)\n",
        "    outputs = tf.keras.layers.Dense(n_classes)(x)  # [128, 1]\n",
        "    return tf.keras.Model([inputs, mask], outputs, name=\"Transformer\")"
      ],
      "metadata": {
        "id": "zkGPDXI29Z-f"
      },
      "execution_count": null,
      "outputs": []
    },
    {
      "cell_type": "code",
      "source": [
        "model = build_model(input_shape=(sequence_length,), mlp_dropout=0.2, num_transformer_blocks=2, ff_type=\"cnn\")"
      ],
      "metadata": {
        "id": "uCNuItD19e8t"
      },
      "execution_count": null,
      "outputs": []
    },
    {
      "cell_type": "code",
      "source": [
        "!pip install -qq tensorflow_addons\n",
        "from tensorflow_addons.optimizers import AdamW"
      ],
      "metadata": {
        "colab": {
          "base_uri": "https://localhost:8080/"
        },
        "id": "xtxbUDJE9e6S",
        "outputId": "0759ae50-9a45-4334-a872-80a25a5716bd"
      },
      "execution_count": null,
      "outputs": [
        {
          "output_type": "stream",
          "name": "stdout",
          "text": [
            "\u001b[?25l     \u001b[90m━━━━━━━━━━━━━━━━━━━━━━━━━━━━━━━━━━━━━━━━\u001b[0m \u001b[32m0.0/1.1 MB\u001b[0m \u001b[31m?\u001b[0m eta \u001b[36m-:--:--\u001b[0m\r\u001b[2K     \u001b[90m━━━━━━━━━━━━━━━━━━━━━━━━━━━━━━━━━━━━━━━━\u001b[0m \u001b[32m1.1/1.1 MB\u001b[0m \u001b[31m46.8 MB/s\u001b[0m eta \u001b[36m0:00:00\u001b[0m\n",
            "\u001b[?25h"
          ]
        }
      ]
    },
    {
      "cell_type": "code",
      "source": [
        "model.compile(loss=tf.keras.losses.BinaryCrossentropy(from_logits=True),\n",
        "              optimizer=AdamW(learning_rate=0.0001, weight_decay=0.0001),\n",
        "              metrics=tf.metrics.BinaryAccuracy(threshold=0.5))\n",
        "\n",
        "callbacks = [\n",
        "             tf.keras.callbacks.ReduceLROnPlateau(patience=2),\n",
        "             tf.keras.callbacks.EarlyStopping(monitor='val_loss', patience=5, restore_best_weights=True),\n",
        "            ]\n",
        "\n",
        "epochs = 40\n",
        "history = model.fit(train_ds, validation_data=test_ds, epochs=epochs, callbacks=callbacks)"
      ],
      "metadata": {
        "colab": {
          "base_uri": "https://localhost:8080/"
        },
        "id": "IF1awPO89e4H",
        "outputId": "c24b6c08-62d9-4531-d2e1-c1f183f25fed"
      },
      "execution_count": null,
      "outputs": [
        {
          "output_type": "stream",
          "name": "stdout",
          "text": [
            "Epoch 1/40\n",
            "1330/1330 [==============================] - 351s 258ms/step - loss: 0.4064 - binary_accuracy: 0.7658 - val_loss: 0.3632 - val_binary_accuracy: 0.7889 - lr: 1.0000e-04\n",
            "Epoch 2/40\n",
            "1330/1330 [==============================] - 350s 263ms/step - loss: 0.3552 - binary_accuracy: 0.8006 - val_loss: 0.3589 - val_binary_accuracy: 0.7915 - lr: 1.0000e-04\n",
            "Epoch 3/40\n",
            "1330/1330 [==============================] - 343s 258ms/step - loss: 0.3455 - binary_accuracy: 0.8084 - val_loss: 0.3565 - val_binary_accuracy: 0.7952 - lr: 1.0000e-04\n",
            "Epoch 4/40\n",
            "1330/1330 [==============================] - 343s 257ms/step - loss: 0.3390 - binary_accuracy: 0.8136 - val_loss: 0.3571 - val_binary_accuracy: 0.7969 - lr: 1.0000e-04\n",
            "Epoch 5/40\n",
            "1330/1330 [==============================] - 342s 257ms/step - loss: 0.3314 - binary_accuracy: 0.8187 - val_loss: 0.3668 - val_binary_accuracy: 0.8099 - lr: 1.0000e-04\n",
            "Epoch 6/40\n",
            "1330/1330 [==============================] - 349s 262ms/step - loss: 0.3124 - binary_accuracy: 0.8329 - val_loss: 0.3669 - val_binary_accuracy: 0.8079 - lr: 1.0000e-05\n",
            "Epoch 7/40\n",
            "1330/1330 [==============================] - 343s 258ms/step - loss: 0.3153 - binary_accuracy: 0.8321 - val_loss: 0.3652 - val_binary_accuracy: 0.8051 - lr: 1.0000e-05\n",
            "Epoch 8/40\n",
            "1330/1330 [==============================] - 343s 257ms/step - loss: 0.3303 - binary_accuracy: 0.8267 - val_loss: 0.3749 - val_binary_accuracy: 0.8029 - lr: 1.0000e-06\n"
          ]
        }
      ]
    },
    {
      "cell_type": "code",
      "source": [
        "# deep models seem to be too complex for given task"
      ],
      "metadata": {
        "id": "4dD1YkXP9lH5"
      },
      "execution_count": null,
      "outputs": []
    },
    {
      "cell_type": "code",
      "source": [],
      "metadata": {
        "id": "GgdfVG529lF3"
      },
      "execution_count": null,
      "outputs": []
    }
  ]
}