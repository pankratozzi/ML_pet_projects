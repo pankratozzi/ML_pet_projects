{
 "cells": [
  {
   "cell_type": "code",
   "execution_count": 1,
   "id": "f6af7228",
   "metadata": {},
   "outputs": [],
   "source": [
    "import warnings\n",
    "warnings.filterwarnings(\"ignore\")\n",
    "\n",
    "import os, re\n",
    "import copy\n",
    "from tqdm import tqdm\n",
    "import time\n",
    "\n",
    "import torch\n",
    "import torch.nn as nn\n",
    "import torch.nn.functional as F\n",
    "from torch.utils.data import Dataset, DataLoader, WeightedRandomSampler, TensorDataset\n",
    "from torchtext.data.utils import get_tokenizer\n",
    "from torch.nn.utils.rnn import pad_sequence, pack_padded_sequence, pad_packed_sequence\n",
    "from torchtext.vocab import build_vocab_from_iterator\n",
    "\n",
    "import numpy as np\n",
    "import pandas as pd\n",
    "\n",
    "from sklearn.model_selection import train_test_split\n",
    "\n",
    "from razdel import tokenize\n",
    "import pymorphy2\n",
    "from nltk.corpus import stopwords\n",
    "\n",
    "pd.set_option('display.max_colwidth', None)"
   ]
  },
  {
   "cell_type": "code",
   "execution_count": 2,
   "id": "f227e74e",
   "metadata": {},
   "outputs": [
    {
     "name": "stdout",
     "output_type": "stream",
     "text": [
      "Currently using \"CUDA\" device.\n"
     ]
    }
   ],
   "source": [
    "def seed_everything(seed=42):\n",
    "    os.environ['PYTHONHASHSEED'] = str(seed)\n",
    "    np.random.seed(seed)\n",
    "    torch.manual_seed(seed)\n",
    "    torch.cuda.manual_seed(seed)\n",
    "    torch.backends.cudnn.deterministic = True\n",
    "    torch.backends.cudnn.benchmark = True\n",
    "    \n",
    "seed_everything()\n",
    "\n",
    "device = 'cuda' if torch.cuda.is_available() else 'cpu'\n",
    "print(f'Currently using \"{device.upper()}\" device.')"
   ]
  },
  {
   "cell_type": "code",
   "execution_count": 3,
   "id": "4fd228e8",
   "metadata": {},
   "outputs": [],
   "source": [
    "stopword_ru = stopwords.words('russian')\n",
    "morph = pymorphy2.MorphAnalyzer()\n",
    "\n",
    "token_transform = get_tokenizer(\"spacy\", language=\"ru_core_news_sm\")"
   ]
  },
  {
   "cell_type": "code",
   "execution_count": 41,
   "id": "135ced75",
   "metadata": {},
   "outputs": [
    {
     "data": {
      "text/html": [
       "<div>\n",
       "<style scoped>\n",
       "    .dataframe tbody tr th:only-of-type {\n",
       "        vertical-align: middle;\n",
       "    }\n",
       "\n",
       "    .dataframe tbody tr th {\n",
       "        vertical-align: top;\n",
       "    }\n",
       "\n",
       "    .dataframe thead th {\n",
       "        text-align: right;\n",
       "    }\n",
       "</style>\n",
       "<table border=\"1\" class=\"dataframe\">\n",
       "  <thead>\n",
       "    <tr style=\"text-align: right;\">\n",
       "      <th></th>\n",
       "      <th>Rating</th>\n",
       "      <th>Content</th>\n",
       "      <th>Date</th>\n",
       "    </tr>\n",
       "  </thead>\n",
       "  <tbody>\n",
       "    <tr>\n",
       "      <th>20658</th>\n",
       "      <td>5</td>\n",
       "      <td>Сбербанк бомбовая компания на сегодняшний день. Лидер банков.!! Держитесь в том же духе.</td>\n",
       "      <td>2017-06-01</td>\n",
       "    </tr>\n",
       "    <tr>\n",
       "      <th>20634</th>\n",
       "      <td>5</td>\n",
       "      <td>Недавно пользуюсь, но то, что я использовал, работает отлично.</td>\n",
       "      <td>2017-06-01</td>\n",
       "    </tr>\n",
       "    <tr>\n",
       "      <th>20633</th>\n",
       "      <td>5</td>\n",
       "      <td>все отлично!</td>\n",
       "      <td>2017-06-01</td>\n",
       "    </tr>\n",
       "    <tr>\n",
       "      <th>20632</th>\n",
       "      <td>2</td>\n",
       "      <td>Уважаемые разработчики, после последнего обновления я не могу зайти в приложение, зеленая полоска зависает на инициализации антивируса. У меня хонор 8 или вы теперь все сделали только для самсунгов? Когда вы обратите внимание на мои отзывы, я уже пишу вам ТРЕТИЙ раз!</td>\n",
       "      <td>2017-06-01</td>\n",
       "    </tr>\n",
       "    <tr>\n",
       "      <th>20631</th>\n",
       "      <td>2</td>\n",
       "      <td>Что вообще случилось после последнего обновления? Инициализация интивируса очень очень оооочень долгая и с момента обновления ни разу я не дождалась окончания этой инициализации и соответственно ни разу не зашла в приложение! Было плохо,стало еще хуже!</td>\n",
       "      <td>2017-06-01</td>\n",
       "    </tr>\n",
       "  </tbody>\n",
       "</table>\n",
       "</div>"
      ],
      "text/plain": [
       "       Rating  \\\n",
       "20658       5   \n",
       "20634       5   \n",
       "20633       5   \n",
       "20632       2   \n",
       "20631       2   \n",
       "\n",
       "                                                                                                                                                                                                                                                                           Content  \\\n",
       "20658                                                                                                                                                                                     Сбербанк бомбовая компания на сегодняшний день. Лидер банков.!! Держитесь в том же духе.   \n",
       "20634                                                                                                                                                                                                               Недавно пользуюсь, но то, что я использовал, работает отлично.   \n",
       "20633                                                                                                                                                                                                                                                                 все отлично!   \n",
       "20632  Уважаемые разработчики, после последнего обновления я не могу зайти в приложение, зеленая полоска зависает на инициализации антивируса. У меня хонор 8 или вы теперь все сделали только для самсунгов? Когда вы обратите внимание на мои отзывы, я уже пишу вам ТРЕТИЙ раз!   \n",
       "20631                 Что вообще случилось после последнего обновления? Инициализация интивируса очень очень оооочень долгая и с момента обновления ни разу я не дождалась окончания этой инициализации и соответственно ни разу не зашла в приложение! Было плохо,стало еще хуже!   \n",
       "\n",
       "            Date  \n",
       "20658 2017-06-01  \n",
       "20634 2017-06-01  \n",
       "20633 2017-06-01  \n",
       "20632 2017-06-01  \n",
       "20631 2017-06-01  "
      ]
     },
     "execution_count": 41,
     "metadata": {},
     "output_type": "execute_result"
    }
   ],
   "source": [
    "data = pd.read_excel(\"feedbacks_summer.xls\", parse_dates=[\"Date\"]).sort_values(\"Date\")\n",
    "data.head()\n",
    "\n",
    "# we will solve classification task as ratings are provided as descrete values"
   ]
  },
  {
   "cell_type": "code",
   "execution_count": 5,
   "id": "7e822178",
   "metadata": {},
   "outputs": [
    {
     "data": {
      "text/plain": [
       "5    14586\n",
       "1     2276\n",
       "4     2138\n",
       "3      911\n",
       "2      748\n",
       "Name: Rating, dtype: int64"
      ]
     },
     "execution_count": 5,
     "metadata": {},
     "output_type": "execute_result"
    }
   ],
   "source": [
    "data[\"Rating\"].value_counts()"
   ]
  },
  {
   "cell_type": "code",
   "execution_count": 42,
   "id": "a584a678",
   "metadata": {},
   "outputs": [],
   "source": [
    "data[\"month\"] = data[\"Date\"].dt.month\n",
    "data[\"day\"] = data[\"Date\"].dt.day\n",
    "\n",
    "data.drop(\"Date\", axis=1, inplace=True)"
   ]
  },
  {
   "cell_type": "code",
   "execution_count": 43,
   "id": "641744a2",
   "metadata": {},
   "outputs": [],
   "source": [
    "def clean_text(text, tokenized=False):\n",
    "    \n",
    "    if not isinstance(text, str):\n",
    "        text = str(text)\n",
    "    \n",
    "    text = text.lower()\n",
    "    text = text.strip('\\n').strip('\\r').strip('\\t')\n",
    "    text = re.sub(\"-\\s\\r\\n\\|-\\s\\r\\n|\\r\\n\", ' ', str(text))\n",
    "    text = re.sub(r'[\\xad]|[\\s+]', ' ', text.strip())\n",
    "\n",
    "    text = re.sub(\"\\W+\", ' ', text)\n",
    "    text = re.sub(r\"\\r\\n\\t|\\n|\\\\s|\\r\\t|\\\\n\", ' ', text)\n",
    "    \n",
    "    if not isinstance(text, str):\n",
    "        text = str(text)\n",
    "    \n",
    "    if tokenized:\n",
    "        tokens = list(tokenize(text))\n",
    "        words = [_.text for _ in tokens]\n",
    "        words = [w for w in words if w not in stopword_ru]\n",
    "        return \" \".join(words)\n",
    "    \n",
    "    return text\n",
    "\n",
    "cache = {}\n",
    "\n",
    "def lemmatization(text):\n",
    "\n",
    "    if not isinstance(text, str):\n",
    "        text = str(text)\n",
    "\n",
    "    tokens = list(tokenize(text))\n",
    "    words = [_.text for _ in tokens]\n",
    "\n",
    "    words_lem = []\n",
    "    for w in words:\n",
    "        if w[0] == '-':\n",
    "            w = w[1:]\n",
    "        if len(w)>1:\n",
    "            if w in cache:\n",
    "                words_lem.append(cache[w])\n",
    "            else:\n",
    "                temp_cach = cache[w] = morph.parse(w)[0].normal_form\n",
    "                words_lem.append(temp_cach)\n",
    "    \n",
    "    words_lem_without_stopwords=[i for i in words_lem if not i in stopword_ru]\n",
    "    \n",
    "    return \" \".join(words_lem_without_stopwords)"
   ]
  },
  {
   "cell_type": "code",
   "execution_count": 44,
   "id": "af5b8a69",
   "metadata": {},
   "outputs": [],
   "source": [
    "# clean and split\n",
    "\n",
    "data[\"Content\"] = data[\"Content\"].apply(lambda x: clean_text(x, tokenized=False))  # set True for tranformers\n",
    "data[\"Content\"] = data[\"Content\"].apply(lambda x: lemmatization(x))  # comment for transformers"
   ]
  },
  {
   "cell_type": "code",
   "execution_count": 45,
   "id": "813826ef",
   "metadata": {},
   "outputs": [
    {
     "data": {
      "text/plain": [
       "<AxesSubplot:>"
      ]
     },
     "execution_count": 45,
     "metadata": {},
     "output_type": "execute_result"
    },
    {
     "data": {
      "image/png": "[encoded data removed]",
      "text/plain": [
       "<Figure size 640x480 with 1 Axes>"
      ]
     },
     "metadata": {},
     "output_type": "display_data"
    }
   ],
   "source": [
    "data[\"Content\"].str.len().hist()"
   ]
  },
  {
   "cell_type": "code",
   "execution_count": 46,
   "id": "fd3aa140",
   "metadata": {},
   "outputs": [],
   "source": [
    "data = data[~(data[\"Content\"].str.len() == 0)]\n",
    "data[\"Rating\"] = data[\"Rating\"] - 1"
   ]
  },
  {
   "cell_type": "code",
   "execution_count": 47,
   "id": "7d954396",
   "metadata": {},
   "outputs": [],
   "source": [
    "def yield_tokens(data_iter):\n",
    "\n",
    "    for data_sample in data_iter:\n",
    "        yield token_transform(data_sample[0])  # [1] - label"
   ]
  },
  {
   "cell_type": "code",
   "execution_count": 48,
   "id": "02390ef5",
   "metadata": {},
   "outputs": [],
   "source": [
    "PAD_IDX, UNK_IDX, BOS_IDX, EOS_IDX = 0, 1, 2, 3\n",
    "special_symbols = [\"<pad>\", \"<unk>\", \"<bos>\", \"<eos>\"]"
   ]
  },
  {
   "cell_type": "code",
   "execution_count": 49,
   "id": "8528f749",
   "metadata": {},
   "outputs": [],
   "source": [
    "# split by date? not so huge period -> just shuffle\n",
    "\n",
    "train, valid = train_test_split(data, test_size=0.1, shuffle=True, stratify=data[\"Rating\"], random_state=42)\n",
    "valid, test = train_test_split(valid, test_size=500, shuffle=True, random_state=42)\n",
    "train.reset_index(drop=True, inplace=True)\n",
    "valid.reset_index(drop=True, inplace=True)\n",
    "test.reset_index(drop=True, inplace=True)"
   ]
  },
  {
   "cell_type": "code",
   "execution_count": 50,
   "id": "8ffd351e",
   "metadata": {},
   "outputs": [],
   "source": [
    "class_counts = train[\"Rating\"].value_counts().to_list()\n",
    "num_samples = sum(class_counts)\n",
    "labels = train[\"Rating\"].values - 1\n",
    "\n",
    "class_weights = [num_samples/class_counts[i] for i in range(len(class_counts))]\n",
    "weights = [class_weights[labels[i]] for i in range(int(num_samples))]\n",
    "sampler = WeightedRandomSampler(torch.DoubleTensor(weights), int(num_samples))"
   ]
  },
  {
   "cell_type": "code",
   "execution_count": 51,
   "id": "4b4f97d5",
   "metadata": {},
   "outputs": [],
   "source": [
    "# Dataset\n",
    "\n",
    "class TextDataset(Dataset):\n",
    "    def __init__(self, data, max_len=64):\n",
    "        self.data = data\n",
    "        self.max_len = max_len\n",
    "\n",
    "    def __len__(self):\n",
    "        return len(self.data)\n",
    "    \n",
    "    def __getitem__(self, ix):\n",
    "        row = self.data.iloc[ix].squeeze()\n",
    "        text = row[\"Content\"]\n",
    "        label = row[\"Rating\"]\n",
    "        \n",
    "        return text, label\n",
    "\n",
    "    def collate_fn(self, batch):\n",
    "        texts, labels = list(zip(*batch))\n",
    "        \n",
    "        text_batch = torch.zeros((len(texts), self.max_len)).fill_(PAD_IDX).long()\n",
    "        \n",
    "        # constant max_length\n",
    "        for i in range(len(texts)):\n",
    "            sample = text_transform(texts[i])[:self.max_len]\n",
    "            text_batch[i, :len(sample)] = sample\n",
    "\n",
    "        # text_batch = pad_sequence(text_batch, padding_value=PAD_IDX, batch_first=True).to(device) # pads only to current max\n",
    "        \n",
    "        labels = torch.cat([torch.tensor(label).unsqueeze(0) for label in labels]).to(device)\n",
    "        return text_batch.to(device), labels"
   ]
  },
  {
   "cell_type": "code",
   "execution_count": 52,
   "id": "16e6aa9c",
   "metadata": {},
   "outputs": [],
   "source": [
    "data_iter = TextDataset(data)\n",
    "\n",
    "vocabulary = build_vocab_from_iterator(yield_tokens(data_iter),  # define Dataset\n",
    "                                                    min_freq=1,\n",
    "                                                    specials=special_symbols,\n",
    "                                                    special_first=True)\n",
    "vocabulary.set_default_index(UNK_IDX)"
   ]
  },
  {
   "cell_type": "code",
   "execution_count": 53,
   "id": "a1e0c1c0",
   "metadata": {},
   "outputs": [],
   "source": [
    "def sequential_transforms(*transforms):\n",
    "    def func(txt_input):\n",
    "        for transform in transforms:\n",
    "            txt_input = transform(txt_input)\n",
    "        return txt_input\n",
    "    return func\n",
    "\n",
    "def tensor_transform(token_ids, drop_specials=True):\n",
    "    if drop_specials:\n",
    "        return torch.tensor(token_ids)\n",
    "    return torch.cat((torch.tensor([BOS_IDX]),\n",
    "                      torch.tensor(token_ids),\n",
    "                      torch.tensor([EOS_IDX])))\n",
    "\n",
    "text_transform = sequential_transforms(token_transform,\n",
    "                                       vocabulary,\n",
    "                                       tensor_transform)"
   ]
  },
  {
   "cell_type": "code",
   "execution_count": 54,
   "id": "1f9c76e2",
   "metadata": {},
   "outputs": [],
   "source": [
    "train_ds = TextDataset(train)\n",
    "valid_ds = TextDataset(valid)\n",
    "test_ds = TextDataset(test)\n",
    "\n",
    "train_dataloader = DataLoader(train_ds, batch_size=128, shuffle=True, collate_fn=train_ds.collate_fn)\n",
    "# train_dataloader = DataLoader(train_ds, batch_size=128, shuffle=False, sampler=sampler, collate_fn=train_ds.collate_fn)\n",
    "valid_dataloader = DataLoader(valid_ds, batch_size=128, collate_fn=valid_ds.collate_fn)\n",
    "test_dataloader = DataLoader(test_ds, batch_size=64, collate_fn=test_ds.collate_fn)"
   ]
  },
  {
   "cell_type": "code",
   "execution_count": 55,
   "id": "c34a3e25",
   "metadata": {},
   "outputs": [],
   "source": [
    "class EarlyStopping:\n",
    "    def __init__(self, patience=5, min_delta=0, path='model.pth'):\n",
    "        self.path = path\n",
    "        self.patience = patience\n",
    "        self.min_delta = min_delta\n",
    "        self.counter = 0\n",
    "        self.best_loss = None\n",
    "        self.early_stop = False\n",
    "\n",
    "    def __call__(self, val_loss, model=None):\n",
    "        if self.best_loss is None:\n",
    "            self.best_loss = val_loss\n",
    "        elif self.best_loss - val_loss > self.min_delta:\n",
    "            if model is not None:\n",
    "                checkpoint = {\n",
    "                    'model': model,\n",
    "                }\n",
    "                torch.save(checkpoint, self.path)\n",
    "                print(f'Model saved to: {self.path}')\n",
    "            self.best_loss = val_loss\n",
    "            self.counter = 0\n",
    "        elif self.best_loss - val_loss < self.min_delta:\n",
    "            self.counter += 1\n",
    "            print(f\"INFO: Early stopping counter {self.counter} of {self.patience}\")\n",
    "            if self.counter >= self.patience:\n",
    "                print('INFO: Early stopping')\n",
    "                self.early_stop = True\n",
    "                \n",
    "def calc_accuracy(y_pred, y_true):\n",
    "    return (y_true == torch.max(y_pred, 1)[1]).float().mean()\n",
    "\n",
    "\n",
    "class FocalLoss(nn.Module):\n",
    "    \"\"\" \n",
    "    https://github.com/AdeelH/pytorch-multi-class-focal-loss/blob/master/focal_loss.py\n",
    "    \n",
    "    Shape:\n",
    "        - x: (batch_size, C) or (batch_size, C, d1, d2, ..., dK), K > 0.\n",
    "        - y: (batch_size,) or (batch_size, d1, d2, ..., dK), K > 0.\n",
    "    \"\"\"\n",
    "    def __init__(self, *args, \n",
    "                 alpha: torch.Tensor = None, \n",
    "                 gamma: float = 2.0, \n",
    "                 reduction: str = 'mean',\n",
    "                 ignore_index: int = -100,\n",
    "                 **kwargs\n",
    "                 ):\n",
    "        \"\"\"\n",
    "        Args:\n",
    "            alpha (Tensor, optional): Weights for each class. Defaults to None.\n",
    "            gamma (float, optional): A constant, as described in the paper.\n",
    "                Defaults to 2.0\n",
    "            reduction (str, optional): 'mean', 'sum' or 'none'.\n",
    "                Defaults to 'mean'.\n",
    "            ignore_index (int, optional): class label to ignore.\n",
    "                Defaults to -100.\n",
    "        \"\"\"\n",
    "        if reduction not in ('mean', 'sum', 'none'):\n",
    "            raise ValueError(\n",
    "                'Reduction must be one of: \"mean\", \"sum\", \"none\".')\n",
    "\n",
    "        super(FocalLoss, self).__init__(*args, **kwargs)\n",
    "        self.alpha = alpha\n",
    "        self.gamma = gamma\n",
    "        self.ignore_index = ignore_index\n",
    "        self.reduction = reduction\n",
    "\n",
    "        self.nll_loss = nn.NLLLoss(\n",
    "            weight=alpha, reduction='none', ignore_index=ignore_index)\n",
    "\n",
    "    def forward(self, x: torch.Tensor, y: torch.Tensor) -> torch.Tensor:\n",
    "        if x.ndim > 2:\n",
    "            c = x.shape[1]  # (N, C, d1, d2, ..., dK) --> (N * d1 * ... * dK, C)\n",
    "            x = x.permute(0, *range(2, x.ndim), 1).reshape(-1, c)\n",
    "            y = y.view(-1)  # (N, d1, d2, ..., dK) --> (N * d1 * ... * dK,)\n",
    "        \n",
    "        y = y.long()\n",
    "        unignored_mask = y != self.ignore_index\n",
    "        y = y[unignored_mask]\n",
    "        if len(y) == 0:\n",
    "            return torch.tensor(0.)\n",
    "        x = x[unignored_mask]\n",
    "\n",
    "        # compute weighted cross entropy term: -alpha * log(pt) (alpha is already part of self.nll_loss)\n",
    "        log_p = F.log_softmax(x, dim=-1)\n",
    "        ce = self.nll_loss(log_p, y)\n",
    "\n",
    "        # get true class column from each row\n",
    "        all_rows = torch.arange(len(x))\n",
    "        log_pt = log_p[all_rows, y]\n",
    "\n",
    "        # compute focal term: (1 - pt)^gamma\n",
    "        pt = log_pt.exp()\n",
    "        focal_term = (1 - pt)**self.gamma\n",
    "\n",
    "        # the full loss: -alpha * ((1 - pt)^gamma) * log(pt)\n",
    "        loss = focal_term * ce\n",
    "\n",
    "        if self.reduction == 'mean':\n",
    "            loss = loss.mean()\n",
    "        elif self.reduction == 'sum':\n",
    "            loss = loss.sum()\n",
    "\n",
    "        return loss"
   ]
  },
  {
   "cell_type": "code",
   "execution_count": 20,
   "id": "cab090fc",
   "metadata": {},
   "outputs": [],
   "source": [
    "def train_one_batch(data, model, criterion, optimizer):\n",
    "    model.train()\n",
    "    texts, labels = data\n",
    "    optimizer.zero_grad()\n",
    "    output = model(texts)\n",
    "    loss = criterion(output, labels)\n",
    "    loss.backward()\n",
    "    optimizer.step()\n",
    "    \n",
    "    accuracy = calc_accuracy(output, labels)\n",
    "    return loss.item(), accuracy.item()\n",
    "\n",
    "\n",
    "@torch.no_grad()\n",
    "def validate_one_batch(data, model, criterion):\n",
    "    model.eval()\n",
    "    texts, labels = data\n",
    "    \n",
    "    out = model(texts)\n",
    "    loss = criterion(out, labels)\n",
    "    \n",
    "    accuracy = calc_accuracy(out, labels)\n",
    "    \n",
    "    return loss.item(), accuracy.item()"
   ]
  },
  {
   "cell_type": "code",
   "execution_count": 21,
   "id": "c7cd7576",
   "metadata": {},
   "outputs": [],
   "source": [
    "def run(model, epochs=40, print_freq=50):\n",
    "\n",
    "    for epoch in range(1, epochs+1):\n",
    "\n",
    "        train_loss, train_accs = [], []\n",
    "        for step, batch in enumerate(train_dataloader, 1):\n",
    "            time_1 = time.time()\n",
    "\n",
    "            loss, accuracy = train_one_batch(batch, model, criterion, optimizer)\n",
    "\n",
    "            train_loss.append(loss)\n",
    "            train_accs.append(accuracy)\n",
    "\n",
    "            if step % print_freq == 0:\n",
    "                print('epoch:', epoch, \n",
    "                      '\\tstep:', step, '/', len(train_dataloader),\n",
    "                      '\\ttrain loss:', '{:.4f}'.format(loss),\n",
    "                      '\\ttrain accuracy:','{:.4f}'.format(accuracy),\n",
    "                      '\\ttime:', '{:.4f}'.format((time.time()-time_1)*print_freq), 's')\n",
    "\n",
    "        valid_loss, valid_accs = [], []\n",
    "        for step, batch in enumerate(tqdm(valid_dataloader)):\n",
    "            loss, accuracy = validate_one_batch(batch, model, criterion)\n",
    "\n",
    "            valid_loss.append(loss)\n",
    "            valid_accs.append(accuracy)\n",
    "\n",
    "        print('epoch:', epoch, '/', epochs,\n",
    "              '\\ttrain loss:', '{:.4f}'.format(np.mean(train_loss)),\n",
    "              '\\tvalid loss:', '{:.4f}'.format(np.mean(valid_loss)),\n",
    "              '\\ttrain accuracy', '{:.4f}'.format(np.mean(train_accs)),\n",
    "              '\\tvalid accuracy', '{:.4f}'.format(np.mean(valid_accs)))\n",
    "\n",
    "        stopper(np.mean(valid_loss), model)\n",
    "        if stopper.early_stop:\n",
    "            checkpoint = torch.load(\"model.pth\", map_location=device)\n",
    "            model = checkpoint['model']\n",
    "            break\n",
    "        scheduler.step(np.mean(valid_loss))\n",
    "\n",
    "    test_loss, test_accs = [], []\n",
    "    for step, batch in enumerate(tqdm(test_dataloader)):\n",
    "        loss, accuracy = validate_one_batch(batch, model, criterion)\n",
    "\n",
    "        test_loss.append(loss)\n",
    "        test_accs.append(accuracy)\n",
    "\n",
    "    print('\\ttest loss:', '{:.4f}'.format(np.mean(test_loss)),\n",
    "          '\\ttest accuracy', '{:.4f}'.format(np.mean(test_accs)),)"
   ]
  },
  {
   "cell_type": "markdown",
   "id": "22b6721d",
   "metadata": {},
   "source": [
    "**Models**\n",
    "\n",
    "* CNN\n",
    "* LSTM \n",
    "* LSTM-CNN\n",
    "* Transformer"
   ]
  },
  {
   "cell_type": "markdown",
   "id": "ddd89c72",
   "metadata": {},
   "source": [
    "**CNN**"
   ]
  },
  {
   "cell_type": "code",
   "execution_count": 22,
   "id": "2772e107",
   "metadata": {},
   "outputs": [],
   "source": [
    "class CNNModel(nn.Module):\n",
    "    def __init__(self, hidden_dim, vocab_size, num_classes=5, dropout=0.1, **kwargs):\n",
    "        super(CNNModel ,self).__init__(**kwargs)\n",
    "        self.embedding = nn.Embedding(vocab_size, hidden_dim)  #, padding_idx=PAD_IDX)  # default = 0\n",
    "        self.conv1 = nn.Conv1d(hidden_dim, hidden_dim, kernel_size=1)\n",
    "        \n",
    "        self.cconv1 = nn.Conv1d(hidden_dim, hidden_dim//4, kernel_size=1, padding=0)\n",
    "        self.cconv2 = nn.Conv1d(hidden_dim, hidden_dim//4, kernel_size=2, padding=1)\n",
    "        self.cconv3 = nn.Conv1d(hidden_dim, hidden_dim//4, kernel_size=3, padding=1)\n",
    "        self.cconv4 = nn.Conv1d(hidden_dim, hidden_dim//4, kernel_size=5, padding=2)\n",
    "        self.cbatch = nn.BatchNorm1d(hidden_dim)\n",
    "        \n",
    "        self.conv2 = nn.Conv1d(hidden_dim, hidden_dim*2, kernel_size=3, padding=1)\n",
    "        self.conv3 = nn.Conv1d(hidden_dim*2, hidden_dim*2, kernel_size=3, padding=1)\n",
    "        self.conv4 = nn.Conv1d(hidden_dim*2, hidden_dim*4, kernel_size=3, padding=1)\n",
    "        self.conv5 = nn.Conv1d(hidden_dim*4, hidden_dim*4, kernel_size=3, padding=1)\n",
    "        self.pool = nn.MaxPool1d(2)\n",
    "        \n",
    "        self.reducer = nn.Linear(hidden_dim*4, hidden_dim)\n",
    "        self.fc = nn.Linear(hidden_dim, num_classes)\n",
    "        self.dropout = nn.Dropout(p=dropout)\n",
    "        \n",
    "    def forward(self, x):\n",
    "        x = self.embedding(x)\n",
    "        x = x.contiguous().permute(0,2,1)  # [B, SEQ_LEN, hidden] -> [B, hidden, SEQ_LEN] to slide over sequence for n-gramms\n",
    "        \n",
    "        # x = self.conv1(x)  # comment to simplify\n",
    "        # x = F.relu(x)\n",
    "        \n",
    "        in_x1 = self.cconv1(x)\n",
    "        in_x2 = self.cconv1(x)\n",
    "        in_x3 = self.cconv1(x)\n",
    "        in_x4 = self.cconv1(x)\n",
    "        in_x = torch.cat([in_x1, in_x2, in_x3, in_x4], dim=1)\n",
    "        # in_x = self.cbatch(x)\n",
    "        in_x = F.relu(in_x)\n",
    "        \n",
    "        x = self.conv2(in_x)\n",
    "        x = F.relu(x)\n",
    "        x = self.pool(x)\n",
    "        \n",
    "        x = self.conv3(x)\n",
    "        x = F.relu(x)\n",
    "        x = self.pool(x)\n",
    "        \n",
    "        x = self.conv4(x)\n",
    "        x = F.relu(x)\n",
    "        x = self.pool(x)\n",
    "\n",
    "        x = self.conv5(x)\n",
    "        x = F.relu(x)\n",
    "        # x = self.pool(x)\n",
    "        x = torch.max(x, dim=2)[0]  # obtain max n-gramm info\n",
    "        # x = x.contiguous().view(x.size(0), -1)\n",
    "        x = self.reducer(x)\n",
    "        x = F.relu(x)\n",
    "        \n",
    "        x = self.dropout(x)\n",
    "        x = self.fc(x)\n",
    "        \n",
    "        return x"
   ]
  },
  {
   "cell_type": "code",
   "execution_count": 23,
   "id": "8bdea30e",
   "metadata": {},
   "outputs": [],
   "source": [
    "model = CNNModel(hidden_dim=64, vocab_size=len(vocabulary), dropout=0.3, num_classes=5).to(device)\n",
    "\n",
    "criterion = nn.CrossEntropyLoss()\n",
    "\n",
    "optimizer = torch.optim.AdamW(model.parameters(), lr=0.001, weight_decay=0.0005)\n",
    "\n",
    "scheduler = torch.optim.lr_scheduler.ReduceLROnPlateau(optimizer, patience=2, min_lr=1e-7, factor=0.1)\n",
    "stopper = EarlyStopping(patience=4)"
   ]
  },
  {
   "cell_type": "code",
   "execution_count": 24,
   "id": "7d06d165",
   "metadata": {
    "scrolled": false
   },
   "outputs": [
    {
     "name": "stdout",
     "output_type": "stream",
     "text": [
      "epoch: 1 \tstep: 50 / 144 \ttrain loss: 0.9045 \ttrain accuracy: 0.6562 \ttime: 0.0121 s\n",
      "epoch: 1 \tstep: 100 / 144 \ttrain loss: 0.7420 \ttrain accuracy: 0.7422 \ttime: 0.0000 s\n"
     ]
    },
    {
     "name": "stderr",
     "output_type": "stream",
     "text": [
      "100%|██████████████████████████████████████████████████████████████████████████████████| 12/12 [00:00<00:00, 59.61it/s]\n"
     ]
    },
    {
     "name": "stdout",
     "output_type": "stream",
     "text": [
      "epoch: 1 / 40 \ttrain loss: 0.8374 \tvalid loss: 0.7158 \ttrain accuracy 0.7188 \tvalid accuracy 0.7370\n",
      "epoch: 2 \tstep: 50 / 144 \ttrain loss: 0.6727 \ttrain accuracy: 0.7656 \ttime: 0.7836 s\n",
      "epoch: 2 \tstep: 100 / 144 \ttrain loss: 0.6946 \ttrain accuracy: 0.7734 \ttime: 0.7805 s\n"
     ]
    },
    {
     "name": "stderr",
     "output_type": "stream",
     "text": [
      "100%|██████████████████████████████████████████████████████████████████████████████████| 12/12 [00:00<00:00, 56.90it/s]\n"
     ]
    },
    {
     "name": "stdout",
     "output_type": "stream",
     "text": [
      "epoch: 2 / 40 \ttrain loss: 0.6877 \tvalid loss: 0.6939 \ttrain accuracy 0.7616 \tvalid accuracy 0.7461\n",
      "Model saved to: model.pth\n",
      "epoch: 3 \tstep: 50 / 144 \ttrain loss: 0.6508 \ttrain accuracy: 0.7734 \ttime: 0.7779 s\n",
      "epoch: 3 \tstep: 100 / 144 \ttrain loss: 0.7221 \ttrain accuracy: 0.7422 \ttime: 0.5004 s\n"
     ]
    },
    {
     "name": "stderr",
     "output_type": "stream",
     "text": [
      "100%|██████████████████████████████████████████████████████████████████████████████████| 12/12 [00:00<00:00, 52.11it/s]\n"
     ]
    },
    {
     "name": "stdout",
     "output_type": "stream",
     "text": [
      "epoch: 3 / 40 \ttrain loss: 0.6550 \tvalid loss: 0.6894 \ttrain accuracy 0.7710 \tvalid accuracy 0.7520\n",
      "Model saved to: model.pth\n",
      "epoch: 4 \tstep: 50 / 144 \ttrain loss: 0.5184 \ttrain accuracy: 0.8203 \ttime: 0.0000 s\n",
      "epoch: 4 \tstep: 100 / 144 \ttrain loss: 0.6480 \ttrain accuracy: 0.7734 \ttime: 0.0000 s\n"
     ]
    },
    {
     "name": "stderr",
     "output_type": "stream",
     "text": [
      "100%|██████████████████████████████████████████████████████████████████████████████████| 12/12 [00:00<00:00, 59.10it/s]\n"
     ]
    },
    {
     "name": "stdout",
     "output_type": "stream",
     "text": [
      "epoch: 4 / 40 \ttrain loss: 0.6260 \tvalid loss: 0.6890 \ttrain accuracy 0.7798 \tvalid accuracy 0.7546\n",
      "Model saved to: model.pth\n",
      "epoch: 5 \tstep: 50 / 144 \ttrain loss: 0.5903 \ttrain accuracy: 0.7656 \ttime: 0.7785 s\n",
      "epoch: 5 \tstep: 100 / 144 \ttrain loss: 0.6048 \ttrain accuracy: 0.7891 \ttime: 0.0000 s\n"
     ]
    },
    {
     "name": "stderr",
     "output_type": "stream",
     "text": [
      "100%|██████████████████████████████████████████████████████████████████████████████████| 12/12 [00:00<00:00, 60.27it/s]\n"
     ]
    },
    {
     "name": "stdout",
     "output_type": "stream",
     "text": [
      "epoch: 5 / 40 \ttrain loss: 0.6043 \tvalid loss: 0.6846 \ttrain accuracy 0.7850 \tvalid accuracy 0.7591\n",
      "Model saved to: model.pth\n",
      "epoch: 6 \tstep: 50 / 144 \ttrain loss: 0.6297 \ttrain accuracy: 0.7578 \ttime: 0.6001 s\n",
      "epoch: 6 \tstep: 100 / 144 \ttrain loss: 0.5482 \ttrain accuracy: 0.8359 \ttime: 1.0448 s\n"
     ]
    },
    {
     "name": "stderr",
     "output_type": "stream",
     "text": [
      "100%|██████████████████████████████████████████████████████████████████████████████████| 12/12 [00:00<00:00, 56.33it/s]\n"
     ]
    },
    {
     "name": "stdout",
     "output_type": "stream",
     "text": [
      "epoch: 6 / 40 \ttrain loss: 0.5797 \tvalid loss: 0.6955 \ttrain accuracy 0.7923 \tvalid accuracy 0.7539\n",
      "INFO: Early stopping counter 1 of 4\n",
      "epoch: 7 \tstep: 50 / 144 \ttrain loss: 0.4928 \ttrain accuracy: 0.8438 \ttime: 0.4500 s\n",
      "epoch: 7 \tstep: 100 / 144 \ttrain loss: 0.6035 \ttrain accuracy: 0.7891 \ttime: 0.6423 s\n"
     ]
    },
    {
     "name": "stderr",
     "output_type": "stream",
     "text": [
      "100%|██████████████████████████████████████████████████████████████████████████████████| 12/12 [00:00<00:00, 58.19it/s]\n"
     ]
    },
    {
     "name": "stdout",
     "output_type": "stream",
     "text": [
      "epoch: 7 / 40 \ttrain loss: 0.5549 \tvalid loss: 0.6937 \ttrain accuracy 0.8004 \tvalid accuracy 0.7507\n",
      "INFO: Early stopping counter 2 of 4\n",
      "epoch: 8 \tstep: 50 / 144 \ttrain loss: 0.6115 \ttrain accuracy: 0.7734 \ttime: 0.4995 s\n",
      "epoch: 8 \tstep: 100 / 144 \ttrain loss: 0.6373 \ttrain accuracy: 0.7734 \ttime: 0.4500 s\n"
     ]
    },
    {
     "name": "stderr",
     "output_type": "stream",
     "text": [
      "100%|██████████████████████████████████████████████████████████████████████████████████| 12/12 [00:00<00:00, 55.30it/s]\n"
     ]
    },
    {
     "name": "stdout",
     "output_type": "stream",
     "text": [
      "epoch: 8 / 40 \ttrain loss: 0.5378 \tvalid loss: 0.7281 \ttrain accuracy 0.8070 \tvalid accuracy 0.7552\n",
      "INFO: Early stopping counter 3 of 4\n",
      "epoch: 9 \tstep: 50 / 144 \ttrain loss: 0.6171 \ttrain accuracy: 0.7578 \ttime: 0.4998 s\n",
      "epoch: 9 \tstep: 100 / 144 \ttrain loss: 0.4824 \ttrain accuracy: 0.8359 \ttime: 0.7896 s\n"
     ]
    },
    {
     "name": "stderr",
     "output_type": "stream",
     "text": [
      "100%|██████████████████████████████████████████████████████████████████████████████████| 12/12 [00:00<00:00, 56.13it/s]\n"
     ]
    },
    {
     "name": "stdout",
     "output_type": "stream",
     "text": [
      "epoch: 9 / 40 \ttrain loss: 0.4933 \tvalid loss: 0.7472 \ttrain accuracy 0.8238 \tvalid accuracy 0.7461\n",
      "INFO: Early stopping counter 4 of 4\n",
      "INFO: Early stopping\n"
     ]
    },
    {
     "name": "stderr",
     "output_type": "stream",
     "text": [
      "100%|████████████████████████████████████████████████████████████████████████████████████| 8/8 [00:00<00:00, 39.41it/s]"
     ]
    },
    {
     "name": "stdout",
     "output_type": "stream",
     "text": [
      "\ttest loss: 0.6045 \ttest accuracy 0.7691\n"
     ]
    },
    {
     "name": "stderr",
     "output_type": "stream",
     "text": [
      "\n"
     ]
    }
   ],
   "source": [
    "run(model)"
   ]
  },
  {
   "cell_type": "markdown",
   "id": "a5c9e858",
   "metadata": {},
   "source": [
    "**Bidirectional LSTM**"
   ]
  },
  {
   "cell_type": "code",
   "execution_count": 25,
   "id": "40d60e7e",
   "metadata": {},
   "outputs": [],
   "source": [
    "class BiLSTM(nn.Module):\n",
    "    def __init__(self, hidden_dim, vocab_size, num_classes=5, dropout=0.1, num_layers=2, **kwargs):\n",
    "        super(BiLSTM, self).__init__(**kwargs)\n",
    "        self.embedding = nn.Embedding(vocab_size, hidden_dim)\n",
    "        self.lstm = nn.LSTM(input_size=hidden_dim, \n",
    "                            hidden_size=hidden_dim, \n",
    "                            num_layers=num_layers, \n",
    "                            batch_first=True,\n",
    "                            dropout=dropout,\n",
    "                            bidirectional=True)\n",
    "        self.dropout = nn.Dropout(p=dropout)\n",
    "        self.fc_mid = nn.Linear(hidden_dim*4, hidden_dim*2)\n",
    "        self.fc_out = nn.Linear(hidden_dim*2, num_classes)\n",
    "\n",
    "    def forward(self, x):\n",
    "        x = self.embedding(x)\n",
    "        \n",
    "        # contains the output features (h_t) from the last layer of the LSTM, for each t: [B, SEQ, hidden * bidirect]\n",
    "        x, _ = self.lstm(x)\n",
    "        \n",
    "        avg_pool = torch.mean(x, dim=1)\n",
    "        max_pool = torch.max(x, dim=1)[0]\n",
    "        \n",
    "        x = torch.cat((avg_pool, max_pool), dim=1)\n",
    "        \n",
    "        x = F.relu(self.fc_mid(self.dropout(x)))\n",
    "\n",
    "        x = self.fc_out(x)\n",
    "        return x"
   ]
  },
  {
   "cell_type": "code",
   "execution_count": 26,
   "id": "05077edd",
   "metadata": {},
   "outputs": [],
   "source": [
    "model = BiLSTM(hidden_dim=64, vocab_size=len(vocabulary), dropout=0.3, num_layers=1).to(device)\n",
    "\n",
    "criterion = nn.CrossEntropyLoss()\n",
    "# criterion = FocalLoss()\n",
    "optimizer = torch.optim.AdamW(model.parameters(), lr=0.0001, weight_decay=0.00005)\n",
    "\n",
    "scheduler = torch.optim.lr_scheduler.ReduceLROnPlateau(optimizer, patience=2, min_lr=1e-7, factor=0.5)\n",
    "stopper = EarlyStopping(patience=4)"
   ]
  },
  {
   "cell_type": "code",
   "execution_count": 27,
   "id": "efe0ed4c",
   "metadata": {
    "scrolled": false
   },
   "outputs": [
    {
     "name": "stdout",
     "output_type": "stream",
     "text": [
      "epoch: 1 \tstep: 50 / 144 \ttrain loss: 1.1259 \ttrain accuracy: 0.6797 \ttime: 0.2998 s\n",
      "epoch: 1 \tstep: 100 / 144 \ttrain loss: 0.7066 \ttrain accuracy: 0.8125 \ttime: 0.7785 s\n"
     ]
    },
    {
     "name": "stderr",
     "output_type": "stream",
     "text": [
      "100%|██████████████████████████████████████████████████████████████████████████████████| 12/12 [00:00<00:00, 57.28it/s]\n"
     ]
    },
    {
     "name": "stdout",
     "output_type": "stream",
     "text": [
      "epoch: 1 / 40 \ttrain loss: 1.0912 \tvalid loss: 0.9204 \ttrain accuracy 0.6523 \tvalid accuracy 0.6986\n",
      "epoch: 2 \tstep: 50 / 144 \ttrain loss: 0.8760 \ttrain accuracy: 0.7031 \ttime: 0.4356 s\n",
      "epoch: 2 \tstep: 100 / 144 \ttrain loss: 0.7834 \ttrain accuracy: 0.7422 \ttime: 0.7821 s\n"
     ]
    },
    {
     "name": "stderr",
     "output_type": "stream",
     "text": [
      "100%|██████████████████████████████████████████████████████████████████████████████████| 12/12 [00:00<00:00, 59.55it/s]\n"
     ]
    },
    {
     "name": "stdout",
     "output_type": "stream",
     "text": [
      "epoch: 2 / 40 \ttrain loss: 0.8635 \tvalid loss: 0.8532 \ttrain accuracy 0.7133 \tvalid accuracy 0.7207\n",
      "Model saved to: model.pth\n",
      "epoch: 3 \tstep: 50 / 144 \ttrain loss: 0.8053 \ttrain accuracy: 0.7578 \ttime: 0.5502 s\n",
      "epoch: 3 \tstep: 100 / 144 \ttrain loss: 0.7679 \ttrain accuracy: 0.7266 \ttime: 1.1443 s\n"
     ]
    },
    {
     "name": "stderr",
     "output_type": "stream",
     "text": [
      "100%|██████████████████████████████████████████████████████████████████████████████████| 12/12 [00:00<00:00, 56.63it/s]\n"
     ]
    },
    {
     "name": "stdout",
     "output_type": "stream",
     "text": [
      "epoch: 3 / 40 \ttrain loss: 0.8092 \tvalid loss: 0.8205 \ttrain accuracy 0.7278 \tvalid accuracy 0.7253\n",
      "Model saved to: model.pth\n",
      "epoch: 4 \tstep: 50 / 144 \ttrain loss: 0.8460 \ttrain accuracy: 0.7109 \ttime: 0.5004 s\n",
      "epoch: 4 \tstep: 100 / 144 \ttrain loss: 0.7683 \ttrain accuracy: 0.7578 \ttime: 0.5000 s\n"
     ]
    },
    {
     "name": "stderr",
     "output_type": "stream",
     "text": [
      "100%|██████████████████████████████████████████████████████████████████████████████████| 12/12 [00:00<00:00, 51.56it/s]\n"
     ]
    },
    {
     "name": "stdout",
     "output_type": "stream",
     "text": [
      "epoch: 4 / 40 \ttrain loss: 0.7724 \tvalid loss: 0.7859 \ttrain accuracy 0.7351 \tvalid accuracy 0.7337\n",
      "Model saved to: model.pth\n",
      "epoch: 5 \tstep: 50 / 144 \ttrain loss: 0.6739 \ttrain accuracy: 0.7656 \ttime: 0.5000 s\n",
      "epoch: 5 \tstep: 100 / 144 \ttrain loss: 0.6718 \ttrain accuracy: 0.7656 \ttime: 0.7813 s\n"
     ]
    },
    {
     "name": "stderr",
     "output_type": "stream",
     "text": [
      "100%|██████████████████████████████████████████████████████████████████████████████████| 12/12 [00:00<00:00, 54.61it/s]\n"
     ]
    },
    {
     "name": "stdout",
     "output_type": "stream",
     "text": [
      "epoch: 5 / 40 \ttrain loss: 0.7373 \tvalid loss: 0.7558 \ttrain accuracy 0.7447 \tvalid accuracy 0.7350\n",
      "Model saved to: model.pth\n",
      "epoch: 6 \tstep: 50 / 144 \ttrain loss: 0.7116 \ttrain accuracy: 0.7266 \ttime: 0.5000 s\n",
      "epoch: 6 \tstep: 100 / 144 \ttrain loss: 0.6878 \ttrain accuracy: 0.7422 \ttime: 0.7812 s\n"
     ]
    },
    {
     "name": "stderr",
     "output_type": "stream",
     "text": [
      "100%|██████████████████████████████████████████████████████████████████████████████████| 12/12 [00:00<00:00, 54.21it/s]\n"
     ]
    },
    {
     "name": "stdout",
     "output_type": "stream",
     "text": [
      "epoch: 6 / 40 \ttrain loss: 0.7159 \tvalid loss: 0.7391 \ttrain accuracy 0.7510 \tvalid accuracy 0.7376\n",
      "Model saved to: model.pth\n",
      "epoch: 7 \tstep: 50 / 144 \ttrain loss: 0.6344 \ttrain accuracy: 0.7969 \ttime: 0.0000 s\n",
      "epoch: 7 \tstep: 100 / 144 \ttrain loss: 0.7247 \ttrain accuracy: 0.7656 \ttime: 0.5500 s\n"
     ]
    },
    {
     "name": "stderr",
     "output_type": "stream",
     "text": [
      "100%|██████████████████████████████████████████████████████████████████████████████████| 12/12 [00:00<00:00, 58.84it/s]\n"
     ]
    },
    {
     "name": "stdout",
     "output_type": "stream",
     "text": [
      "epoch: 7 / 40 \ttrain loss: 0.6942 \tvalid loss: 0.7270 \ttrain accuracy 0.7581 \tvalid accuracy 0.7448\n",
      "Model saved to: model.pth\n",
      "epoch: 8 \tstep: 50 / 144 \ttrain loss: 0.6669 \ttrain accuracy: 0.7969 \ttime: 0.5000 s\n",
      "epoch: 8 \tstep: 100 / 144 \ttrain loss: 0.6293 \ttrain accuracy: 0.7812 \ttime: 0.5500 s\n"
     ]
    },
    {
     "name": "stderr",
     "output_type": "stream",
     "text": [
      "100%|██████████████████████████████████████████████████████████████████████████████████| 12/12 [00:00<00:00, 52.37it/s]\n"
     ]
    },
    {
     "name": "stdout",
     "output_type": "stream",
     "text": [
      "epoch: 8 / 40 \ttrain loss: 0.6855 \tvalid loss: 0.7223 \ttrain accuracy 0.7593 \tvalid accuracy 0.7448\n",
      "Model saved to: model.pth\n",
      "epoch: 9 \tstep: 50 / 144 \ttrain loss: 0.6407 \ttrain accuracy: 0.7734 \ttime: 0.0000 s\n",
      "epoch: 9 \tstep: 100 / 144 \ttrain loss: 0.6717 \ttrain accuracy: 0.7812 \ttime: 0.3814 s\n"
     ]
    },
    {
     "name": "stderr",
     "output_type": "stream",
     "text": [
      "100%|██████████████████████████████████████████████████████████████████████████████████| 12/12 [00:00<00:00, 54.72it/s]\n"
     ]
    },
    {
     "name": "stdout",
     "output_type": "stream",
     "text": [
      "epoch: 9 / 40 \ttrain loss: 0.6792 \tvalid loss: 0.7158 \ttrain accuracy 0.7606 \tvalid accuracy 0.7467\n",
      "Model saved to: model.pth\n",
      "epoch: 10 \tstep: 50 / 144 \ttrain loss: 0.8016 \ttrain accuracy: 0.6953 \ttime: 0.7807 s\n",
      "epoch: 10 \tstep: 100 / 144 \ttrain loss: 0.5195 \ttrain accuracy: 0.8359 \ttime: 0.6945 s\n"
     ]
    },
    {
     "name": "stderr",
     "output_type": "stream",
     "text": [
      "100%|██████████████████████████████████████████████████████████████████████████████████| 12/12 [00:00<00:00, 56.69it/s]\n"
     ]
    },
    {
     "name": "stdout",
     "output_type": "stream",
     "text": [
      "epoch: 10 / 40 \ttrain loss: 0.6673 \tvalid loss: 0.7093 \ttrain accuracy 0.7652 \tvalid accuracy 0.7467\n",
      "Model saved to: model.pth\n",
      "epoch: 11 \tstep: 50 / 144 \ttrain loss: 0.7045 \ttrain accuracy: 0.7734 \ttime: 0.4996 s\n",
      "epoch: 11 \tstep: 100 / 144 \ttrain loss: 0.6218 \ttrain accuracy: 0.7656 \ttime: 0.7812 s\n"
     ]
    },
    {
     "name": "stderr",
     "output_type": "stream",
     "text": [
      "100%|██████████████████████████████████████████████████████████████████████████████████| 12/12 [00:00<00:00, 58.58it/s]\n"
     ]
    },
    {
     "name": "stdout",
     "output_type": "stream",
     "text": [
      "epoch: 11 / 40 \ttrain loss: 0.6616 \tvalid loss: 0.7041 \ttrain accuracy 0.7672 \tvalid accuracy 0.7461\n",
      "Model saved to: model.pth\n",
      "epoch: 12 \tstep: 50 / 144 \ttrain loss: 0.7452 \ttrain accuracy: 0.7422 \ttime: 0.4996 s\n",
      "epoch: 12 \tstep: 100 / 144 \ttrain loss: 0.6858 \ttrain accuracy: 0.7812 \ttime: 0.4499 s\n"
     ]
    },
    {
     "name": "stderr",
     "output_type": "stream",
     "text": [
      "100%|██████████████████████████████████████████████████████████████████████████████████| 12/12 [00:00<00:00, 63.67it/s]\n"
     ]
    },
    {
     "name": "stdout",
     "output_type": "stream",
     "text": [
      "epoch: 12 / 40 \ttrain loss: 0.6605 \tvalid loss: 0.6992 \ttrain accuracy 0.7680 \tvalid accuracy 0.7520\n",
      "Model saved to: model.pth\n",
      "epoch: 13 \tstep: 50 / 144 \ttrain loss: 0.6867 \ttrain accuracy: 0.7344 \ttime: 0.9908 s\n",
      "epoch: 13 \tstep: 100 / 144 \ttrain loss: 0.6519 \ttrain accuracy: 0.7656 \ttime: 0.7781 s\n"
     ]
    },
    {
     "name": "stderr",
     "output_type": "stream",
     "text": [
      "100%|██████████████████████████████████████████████████████████████████████████████████| 12/12 [00:00<00:00, 55.73it/s]\n"
     ]
    },
    {
     "name": "stdout",
     "output_type": "stream",
     "text": [
      "epoch: 13 / 40 \ttrain loss: 0.6538 \tvalid loss: 0.6962 \ttrain accuracy 0.7687 \tvalid accuracy 0.7493\n",
      "Model saved to: model.pth\n",
      "epoch: 14 \tstep: 50 / 144 \ttrain loss: 0.7023 \ttrain accuracy: 0.7500 \ttime: 0.0000 s\n",
      "epoch: 14 \tstep: 100 / 144 \ttrain loss: 0.5440 \ttrain accuracy: 0.8047 \ttime: 0.7814 s\n"
     ]
    },
    {
     "name": "stderr",
     "output_type": "stream",
     "text": [
      "100%|██████████████████████████████████████████████████████████████████████████████████| 12/12 [00:00<00:00, 55.80it/s]\n"
     ]
    },
    {
     "name": "stdout",
     "output_type": "stream",
     "text": [
      "epoch: 14 / 40 \ttrain loss: 0.6466 \tvalid loss: 0.6931 \ttrain accuracy 0.7720 \tvalid accuracy 0.7526\n",
      "Model saved to: model.pth\n",
      "epoch: 15 \tstep: 50 / 144 \ttrain loss: 0.5633 \ttrain accuracy: 0.8125 \ttime: 0.5000 s\n",
      "epoch: 15 \tstep: 100 / 144 \ttrain loss: 0.6663 \ttrain accuracy: 0.7734 \ttime: 0.5000 s\n"
     ]
    },
    {
     "name": "stderr",
     "output_type": "stream",
     "text": [
      "100%|██████████████████████████████████████████████████████████████████████████████████| 12/12 [00:00<00:00, 56.26it/s]\n"
     ]
    },
    {
     "name": "stdout",
     "output_type": "stream",
     "text": [
      "epoch: 15 / 40 \ttrain loss: 0.6410 \tvalid loss: 0.6901 \ttrain accuracy 0.7729 \tvalid accuracy 0.7520\n",
      "Model saved to: model.pth\n",
      "epoch: 16 \tstep: 50 / 144 \ttrain loss: 0.7809 \ttrain accuracy: 0.7422 \ttime: 0.7803 s\n",
      "epoch: 16 \tstep: 100 / 144 \ttrain loss: 0.6396 \ttrain accuracy: 0.7656 \ttime: 0.0000 s\n"
     ]
    },
    {
     "name": "stderr",
     "output_type": "stream",
     "text": [
      "100%|██████████████████████████████████████████████████████████████████████████████████| 12/12 [00:00<00:00, 56.13it/s]\n"
     ]
    },
    {
     "name": "stdout",
     "output_type": "stream",
     "text": [
      "epoch: 16 / 40 \ttrain loss: 0.6388 \tvalid loss: 0.6877 \ttrain accuracy 0.7738 \tvalid accuracy 0.7578\n",
      "Model saved to: model.pth\n",
      "epoch: 17 \tstep: 50 / 144 \ttrain loss: 0.5794 \ttrain accuracy: 0.7891 \ttime: 0.5499 s\n",
      "epoch: 17 \tstep: 100 / 144 \ttrain loss: 0.7630 \ttrain accuracy: 0.7031 \ttime: 0.2070 s\n"
     ]
    },
    {
     "name": "stderr",
     "output_type": "stream",
     "text": [
      "100%|██████████████████████████████████████████████████████████████████████████████████| 12/12 [00:00<00:00, 56.99it/s]\n"
     ]
    },
    {
     "name": "stdout",
     "output_type": "stream",
     "text": [
      "epoch: 17 / 40 \ttrain loss: 0.6313 \tvalid loss: 0.6863 \ttrain accuracy 0.7752 \tvalid accuracy 0.7598\n",
      "Model saved to: model.pth\n",
      "epoch: 18 \tstep: 50 / 144 \ttrain loss: 0.6004 \ttrain accuracy: 0.7656 \ttime: 0.5005 s\n",
      "epoch: 18 \tstep: 100 / 144 \ttrain loss: 0.5889 \ttrain accuracy: 0.8281 \ttime: 0.4999 s\n"
     ]
    },
    {
     "name": "stderr",
     "output_type": "stream",
     "text": [
      "100%|██████████████████████████████████████████████████████████████████████████████████| 12/12 [00:00<00:00, 56.63it/s]\n"
     ]
    },
    {
     "name": "stdout",
     "output_type": "stream",
     "text": [
      "epoch: 18 / 40 \ttrain loss: 0.6305 \tvalid loss: 0.6812 \ttrain accuracy 0.7773 \tvalid accuracy 0.7591\n",
      "Model saved to: model.pth\n",
      "epoch: 19 \tstep: 50 / 144 \ttrain loss: 0.6606 \ttrain accuracy: 0.7500 \ttime: 0.0000 s\n",
      "epoch: 19 \tstep: 100 / 144 \ttrain loss: 0.6259 \ttrain accuracy: 0.7578 \ttime: 0.7840 s\n"
     ]
    },
    {
     "name": "stderr",
     "output_type": "stream",
     "text": [
      "100%|██████████████████████████████████████████████████████████████████████████████████| 12/12 [00:00<00:00, 58.34it/s]\n"
     ]
    },
    {
     "name": "stdout",
     "output_type": "stream",
     "text": [
      "epoch: 19 / 40 \ttrain loss: 0.6286 \tvalid loss: 0.6797 \ttrain accuracy 0.7780 \tvalid accuracy 0.7591\n",
      "Model saved to: model.pth\n",
      "epoch: 20 \tstep: 50 / 144 \ttrain loss: 0.5608 \ttrain accuracy: 0.8125 \ttime: 0.0000 s\n",
      "epoch: 20 \tstep: 100 / 144 \ttrain loss: 0.7083 \ttrain accuracy: 0.7109 \ttime: 1.0400 s\n"
     ]
    },
    {
     "name": "stderr",
     "output_type": "stream",
     "text": [
      "100%|██████████████████████████████████████████████████████████████████████████████████| 12/12 [00:00<00:00, 58.69it/s]\n"
     ]
    },
    {
     "name": "stdout",
     "output_type": "stream",
     "text": [
      "epoch: 20 / 40 \ttrain loss: 0.6197 \tvalid loss: 0.6783 \ttrain accuracy 0.7786 \tvalid accuracy 0.7611\n",
      "Model saved to: model.pth\n",
      "epoch: 21 \tstep: 50 / 144 \ttrain loss: 0.6066 \ttrain accuracy: 0.7969 \ttime: 0.7813 s\n",
      "epoch: 21 \tstep: 100 / 144 \ttrain loss: 0.5466 \ttrain accuracy: 0.7969 \ttime: 0.4508 s\n"
     ]
    },
    {
     "name": "stderr",
     "output_type": "stream",
     "text": [
      "100%|██████████████████████████████████████████████████████████████████████████████████| 12/12 [00:00<00:00, 56.26it/s]\n"
     ]
    },
    {
     "name": "stdout",
     "output_type": "stream",
     "text": [
      "epoch: 21 / 40 \ttrain loss: 0.6132 \tvalid loss: 0.6771 \ttrain accuracy 0.7842 \tvalid accuracy 0.7637\n",
      "Model saved to: model.pth\n",
      "epoch: 22 \tstep: 50 / 144 \ttrain loss: 0.7339 \ttrain accuracy: 0.7422 \ttime: 0.5000 s\n",
      "epoch: 22 \tstep: 100 / 144 \ttrain loss: 0.5021 \ttrain accuracy: 0.8047 \ttime: 0.5001 s\n"
     ]
    },
    {
     "name": "stderr",
     "output_type": "stream",
     "text": [
      "100%|██████████████████████████████████████████████████████████████████████████████████| 12/12 [00:00<00:00, 53.81it/s]\n"
     ]
    },
    {
     "name": "stdout",
     "output_type": "stream",
     "text": [
      "epoch: 22 / 40 \ttrain loss: 0.6103 \tvalid loss: 0.6762 \ttrain accuracy 0.7809 \tvalid accuracy 0.7656\n",
      "Model saved to: model.pth\n",
      "epoch: 23 \tstep: 50 / 144 \ttrain loss: 0.7490 \ttrain accuracy: 0.7422 \ttime: 0.5000 s\n",
      "epoch: 23 \tstep: 100 / 144 \ttrain loss: 0.6490 \ttrain accuracy: 0.7812 \ttime: 0.4499 s\n"
     ]
    },
    {
     "name": "stderr",
     "output_type": "stream",
     "text": [
      "100%|██████████████████████████████████████████████████████████████████████████████████| 12/12 [00:00<00:00, 56.02it/s]\n"
     ]
    },
    {
     "name": "stdout",
     "output_type": "stream",
     "text": [
      "epoch: 23 / 40 \ttrain loss: 0.6041 \tvalid loss: 0.6746 \ttrain accuracy 0.7860 \tvalid accuracy 0.7643\n",
      "Model saved to: model.pth\n",
      "epoch: 24 \tstep: 50 / 144 \ttrain loss: 0.6166 \ttrain accuracy: 0.7578 \ttime: 0.4997 s\n",
      "epoch: 24 \tstep: 100 / 144 \ttrain loss: 0.7780 \ttrain accuracy: 0.7109 \ttime: 0.2566 s\n"
     ]
    },
    {
     "name": "stderr",
     "output_type": "stream",
     "text": [
      "100%|██████████████████████████████████████████████████████████████████████████████████| 12/12 [00:00<00:00, 58.63it/s]\n"
     ]
    },
    {
     "name": "stdout",
     "output_type": "stream",
     "text": [
      "epoch: 24 / 40 \ttrain loss: 0.6024 \tvalid loss: 0.6715 \ttrain accuracy 0.7860 \tvalid accuracy 0.7643\n",
      "Model saved to: model.pth\n",
      "epoch: 25 \tstep: 50 / 144 \ttrain loss: 0.4580 \ttrain accuracy: 0.8359 \ttime: 0.0000 s\n",
      "epoch: 25 \tstep: 100 / 144 \ttrain loss: 0.5669 \ttrain accuracy: 0.8047 \ttime: 0.4996 s\n"
     ]
    },
    {
     "name": "stderr",
     "output_type": "stream",
     "text": [
      "100%|██████████████████████████████████████████████████████████████████████████████████| 12/12 [00:00<00:00, 58.94it/s]\n"
     ]
    },
    {
     "name": "stdout",
     "output_type": "stream",
     "text": [
      "epoch: 25 / 40 \ttrain loss: 0.6008 \tvalid loss: 0.6708 \ttrain accuracy 0.7886 \tvalid accuracy 0.7624\n",
      "Model saved to: model.pth\n",
      "epoch: 26 \tstep: 50 / 144 \ttrain loss: 0.4827 \ttrain accuracy: 0.8359 \ttime: 0.5000 s\n",
      "epoch: 26 \tstep: 100 / 144 \ttrain loss: 0.6875 \ttrain accuracy: 0.7656 \ttime: 0.7777 s\n"
     ]
    },
    {
     "name": "stderr",
     "output_type": "stream",
     "text": [
      "100%|██████████████████████████████████████████████████████████████████████████████████| 12/12 [00:00<00:00, 57.40it/s]\n"
     ]
    },
    {
     "name": "stdout",
     "output_type": "stream",
     "text": [
      "epoch: 26 / 40 \ttrain loss: 0.5968 \tvalid loss: 0.6676 \ttrain accuracy 0.7886 \tvalid accuracy 0.7663\n",
      "Model saved to: model.pth\n",
      "epoch: 27 \tstep: 50 / 144 \ttrain loss: 0.6324 \ttrain accuracy: 0.7969 \ttime: 0.9915 s\n",
      "epoch: 27 \tstep: 100 / 144 \ttrain loss: 0.7517 \ttrain accuracy: 0.7500 \ttime: 0.5000 s\n"
     ]
    },
    {
     "name": "stderr",
     "output_type": "stream",
     "text": [
      "100%|██████████████████████████████████████████████████████████████████████████████████| 12/12 [00:00<00:00, 55.13it/s]\n"
     ]
    },
    {
     "name": "stdout",
     "output_type": "stream",
     "text": [
      "epoch: 27 / 40 \ttrain loss: 0.5924 \tvalid loss: 0.6686 \ttrain accuracy 0.7905 \tvalid accuracy 0.7643\n",
      "INFO: Early stopping counter 1 of 4\n",
      "epoch: 28 \tstep: 50 / 144 \ttrain loss: 0.5536 \ttrain accuracy: 0.8281 \ttime: 0.7813 s\n",
      "epoch: 28 \tstep: 100 / 144 \ttrain loss: 0.6279 \ttrain accuracy: 0.7891 \ttime: 0.4993 s\n"
     ]
    },
    {
     "name": "stderr",
     "output_type": "stream",
     "text": [
      "100%|██████████████████████████████████████████████████████████████████████████████████| 12/12 [00:00<00:00, 54.85it/s]\n"
     ]
    },
    {
     "name": "stdout",
     "output_type": "stream",
     "text": [
      "epoch: 28 / 40 \ttrain loss: 0.5923 \tvalid loss: 0.6648 \ttrain accuracy 0.7920 \tvalid accuracy 0.7650\n",
      "Model saved to: model.pth\n",
      "epoch: 29 \tstep: 50 / 144 \ttrain loss: 0.6045 \ttrain accuracy: 0.7812 \ttime: 0.0000 s\n",
      "epoch: 29 \tstep: 100 / 144 \ttrain loss: 0.5919 \ttrain accuracy: 0.7812 \ttime: 0.0000 s\n"
     ]
    },
    {
     "name": "stderr",
     "output_type": "stream",
     "text": [
      "100%|██████████████████████████████████████████████████████████████████████████████████| 12/12 [00:00<00:00, 55.06it/s]\n"
     ]
    },
    {
     "name": "stdout",
     "output_type": "stream",
     "text": [
      "epoch: 29 / 40 \ttrain loss: 0.5847 \tvalid loss: 0.6649 \ttrain accuracy 0.7928 \tvalid accuracy 0.7663\n",
      "INFO: Early stopping counter 1 of 4\n",
      "epoch: 30 \tstep: 50 / 144 \ttrain loss: 0.5496 \ttrain accuracy: 0.8125 \ttime: 0.5002 s\n",
      "epoch: 30 \tstep: 100 / 144 \ttrain loss: 0.6211 \ttrain accuracy: 0.7266 \ttime: 0.4995 s\n"
     ]
    },
    {
     "name": "stderr",
     "output_type": "stream",
     "text": [
      "100%|██████████████████████████████████████████████████████████████████████████████████| 12/12 [00:00<00:00, 59.51it/s]\n"
     ]
    },
    {
     "name": "stdout",
     "output_type": "stream",
     "text": [
      "epoch: 30 / 40 \ttrain loss: 0.5814 \tvalid loss: 0.6648 \ttrain accuracy 0.7930 \tvalid accuracy 0.7656\n",
      "INFO: Early stopping counter 2 of 4\n",
      "epoch: 31 \tstep: 50 / 144 \ttrain loss: 0.6548 \ttrain accuracy: 0.7812 \ttime: 1.1081 s\n",
      "epoch: 31 \tstep: 100 / 144 \ttrain loss: 0.5761 \ttrain accuracy: 0.8047 \ttime: 0.4563 s\n"
     ]
    },
    {
     "name": "stderr",
     "output_type": "stream",
     "text": [
      "100%|██████████████████████████████████████████████████████████████████████████████████| 12/12 [00:00<00:00, 61.03it/s]\n"
     ]
    },
    {
     "name": "stdout",
     "output_type": "stream",
     "text": [
      "epoch: 31 / 40 \ttrain loss: 0.5835 \tvalid loss: 0.6627 \ttrain accuracy 0.7928 \tvalid accuracy 0.7637\n",
      "Model saved to: model.pth\n",
      "epoch: 32 \tstep: 50 / 144 \ttrain loss: 0.4645 \ttrain accuracy: 0.8672 \ttime: 0.7824 s\n",
      "epoch: 32 \tstep: 100 / 144 \ttrain loss: 0.7911 \ttrain accuracy: 0.6953 \ttime: 0.5000 s\n"
     ]
    },
    {
     "name": "stderr",
     "output_type": "stream",
     "text": [
      "100%|██████████████████████████████████████████████████████████████████████████████████| 12/12 [00:00<00:00, 61.42it/s]\n"
     ]
    },
    {
     "name": "stdout",
     "output_type": "stream",
     "text": [
      "epoch: 32 / 40 \ttrain loss: 0.5811 \tvalid loss: 0.6612 \ttrain accuracy 0.7938 \tvalid accuracy 0.7669\n",
      "Model saved to: model.pth\n",
      "epoch: 33 \tstep: 50 / 144 \ttrain loss: 0.6997 \ttrain accuracy: 0.7656 \ttime: 0.4499 s\n",
      "epoch: 33 \tstep: 100 / 144 \ttrain loss: 0.5192 \ttrain accuracy: 0.8594 \ttime: 0.7812 s\n"
     ]
    },
    {
     "name": "stderr",
     "output_type": "stream",
     "text": [
      "100%|██████████████████████████████████████████████████████████████████████████████████| 12/12 [00:00<00:00, 56.47it/s]\n"
     ]
    },
    {
     "name": "stdout",
     "output_type": "stream",
     "text": [
      "epoch: 33 / 40 \ttrain loss: 0.5771 \tvalid loss: 0.6639 \ttrain accuracy 0.7961 \tvalid accuracy 0.7663\n",
      "INFO: Early stopping counter 1 of 4\n",
      "epoch: 34 \tstep: 50 / 144 \ttrain loss: 0.5539 \ttrain accuracy: 0.8047 \ttime: 0.4999 s\n",
      "epoch: 34 \tstep: 100 / 144 \ttrain loss: 0.5498 \ttrain accuracy: 0.8125 \ttime: 1.0488 s\n"
     ]
    },
    {
     "name": "stderr",
     "output_type": "stream",
     "text": [
      "100%|██████████████████████████████████████████████████████████████████████████████████| 12/12 [00:00<00:00, 54.52it/s]\n"
     ]
    },
    {
     "name": "stdout",
     "output_type": "stream",
     "text": [
      "epoch: 34 / 40 \ttrain loss: 0.5696 \tvalid loss: 0.6634 \ttrain accuracy 0.7975 \tvalid accuracy 0.7656\n",
      "INFO: Early stopping counter 2 of 4\n",
      "epoch: 35 \tstep: 50 / 144 \ttrain loss: 0.5966 \ttrain accuracy: 0.7734 \ttime: 0.5496 s\n",
      "epoch: 35 \tstep: 100 / 144 \ttrain loss: 0.6726 \ttrain accuracy: 0.7266 \ttime: 0.7782 s\n"
     ]
    },
    {
     "name": "stderr",
     "output_type": "stream",
     "text": [
      "100%|██████████████████████████████████████████████████████████████████████████████████| 12/12 [00:00<00:00, 54.80it/s]\n"
     ]
    },
    {
     "name": "stdout",
     "output_type": "stream",
     "text": [
      "epoch: 35 / 40 \ttrain loss: 0.5659 \tvalid loss: 0.6626 \ttrain accuracy 0.7987 \tvalid accuracy 0.7669\n",
      "INFO: Early stopping counter 3 of 4\n",
      "epoch: 36 \tstep: 50 / 144 \ttrain loss: 0.6519 \ttrain accuracy: 0.7734 \ttime: 0.0937 s\n",
      "epoch: 36 \tstep: 100 / 144 \ttrain loss: 0.4156 \ttrain accuracy: 0.8828 \ttime: 0.7814 s\n"
     ]
    },
    {
     "name": "stderr",
     "output_type": "stream",
     "text": [
      "100%|██████████████████████████████████████████████████████████████████████████████████| 12/12 [00:00<00:00, 56.89it/s]\n"
     ]
    },
    {
     "name": "stdout",
     "output_type": "stream",
     "text": [
      "epoch: 36 / 40 \ttrain loss: 0.5639 \tvalid loss: 0.6624 \ttrain accuracy 0.7993 \tvalid accuracy 0.7682\n",
      "INFO: Early stopping counter 4 of 4\n",
      "INFO: Early stopping\n"
     ]
    },
    {
     "name": "stderr",
     "output_type": "stream",
     "text": [
      "100%|███████████████████████████████████████████████████████████████████████████████████| 8/8 [00:00<00:00, 120.18it/s]"
     ]
    },
    {
     "name": "stdout",
     "output_type": "stream",
     "text": [
      "\ttest loss: 0.6204 \ttest accuracy 0.7680\n"
     ]
    },
    {
     "name": "stderr",
     "output_type": "stream",
     "text": [
      "\n"
     ]
    }
   ],
   "source": [
    "run(model)"
   ]
  },
  {
   "cell_type": "markdown",
   "id": "9d25c1e7",
   "metadata": {},
   "source": [
    "**packed**"
   ]
  },
  {
   "cell_type": "code",
   "execution_count": 28,
   "id": "e8894711",
   "metadata": {},
   "outputs": [],
   "source": [
    "class BiLSTM(nn.Module):\n",
    "    def __init__(self, hidden_dim, vocab_size, num_classes=5, dropout=0.1, bilstm=True, num_layers=2, **kwargs):\n",
    "        super(BiLSTM, self).__init__(**kwargs)\n",
    "        self.embedding = nn.Embedding(vocab_size, hidden_dim)\n",
    "        self.lstm = nn.LSTM(input_size=hidden_dim, \n",
    "                            hidden_size=hidden_dim, \n",
    "                            num_layers=num_layers, \n",
    "                            batch_first=bilstm,\n",
    "                            dropout=dropout,\n",
    "                            bidirectional=True)\n",
    "        scale = 2 if bilstm else 1\n",
    "        self.pool = nn.AdaptiveAvgPool1d(5)\n",
    "        self.dropout = nn.Dropout(p=dropout)\n",
    "        self.fc_mid = nn.Linear(hidden_dim*10, hidden_dim*scale)\n",
    "        self.fc_out = nn.Linear(hidden_dim*scale, num_classes)\n",
    "\n",
    "    def forward(self, x):\n",
    "        batch_size = x.size(0)\n",
    "        \n",
    "        text_lengths = torch.sum((x != PAD_IDX).type(torch.int32), dim=1)\n",
    "        \n",
    "        x = self.embedding(x)\n",
    "        # ignore padding\n",
    "        packed_embedded = pack_padded_sequence(x, text_lengths.cpu(), batch_first=True, enforce_sorted=False)\n",
    "        \n",
    "        packed_output, (hidden_state, cell_state) = self.lstm(packed_embedded)\n",
    "        \n",
    "        output, output_lengths = pad_packed_sequence(packed_output, batch_first=True)\n",
    "        output = output.contiguous().transpose(1,2)\n",
    "        output = self.pool(output)\n",
    "\n",
    "        output = output.contiguous().view(batch_size, -1)\n",
    "\n",
    "        x = F.relu(self.fc_mid(self.dropout(output)))\n",
    "        x = self.fc_out(x)\n",
    "        return x"
   ]
  },
  {
   "cell_type": "code",
   "execution_count": 29,
   "id": "b7095af6",
   "metadata": {},
   "outputs": [],
   "source": [
    "model = BiLSTM(hidden_dim=64, vocab_size=len(vocabulary), dropout=0.3, num_layers=1).to(device)\n",
    "\n",
    "criterion = nn.CrossEntropyLoss()\n",
    "\n",
    "optimizer = torch.optim.AdamW(model.parameters(), lr=0.0001, weight_decay=0.00005)\n",
    "\n",
    "scheduler = torch.optim.lr_scheduler.ReduceLROnPlateau(optimizer, patience=2, min_lr=1e-7, factor=0.5)\n",
    "stopper = EarlyStopping(patience=4)"
   ]
  },
  {
   "cell_type": "code",
   "execution_count": 30,
   "id": "6602ec1e",
   "metadata": {
    "scrolled": false
   },
   "outputs": [
    {
     "name": "stdout",
     "output_type": "stream",
     "text": [
      "epoch: 1 \tstep: 50 / 144 \ttrain loss: 1.6048 \ttrain accuracy: 0.1797 \ttime: 0.7000 s\n",
      "epoch: 1 \tstep: 100 / 144 \ttrain loss: 1.5531 \ttrain accuracy: 0.6719 \ttime: 0.7813 s\n"
     ]
    },
    {
     "name": "stderr",
     "output_type": "stream",
     "text": [
      "100%|██████████████████████████████████████████████████████████████████████████████████| 12/12 [00:00<00:00, 54.46it/s]\n"
     ]
    },
    {
     "name": "stdout",
     "output_type": "stream",
     "text": [
      "epoch: 1 / 40 \ttrain loss: 1.5610 \tvalid loss: 1.3978 \ttrain accuracy 0.4350 \tvalid accuracy 0.7031\n",
      "epoch: 2 \tstep: 50 / 144 \ttrain loss: 1.2004 \ttrain accuracy: 0.7656 \ttime: 0.9278 s\n",
      "epoch: 2 \tstep: 100 / 144 \ttrain loss: 1.1268 \ttrain accuracy: 0.7031 \ttime: 0.8963 s\n"
     ]
    },
    {
     "name": "stderr",
     "output_type": "stream",
     "text": [
      "100%|██████████████████████████████████████████████████████████████████████████████████| 12/12 [00:00<00:00, 52.59it/s]\n"
     ]
    },
    {
     "name": "stdout",
     "output_type": "stream",
     "text": [
      "epoch: 2 / 40 \ttrain loss: 1.2211 \tvalid loss: 1.0686 \ttrain accuracy 0.7184 \tvalid accuracy 0.7129\n",
      "Model saved to: model.pth\n",
      "epoch: 3 \tstep: 50 / 144 \ttrain loss: 1.0006 \ttrain accuracy: 0.7031 \ttime: 0.6499 s\n",
      "epoch: 3 \tstep: 100 / 144 \ttrain loss: 1.0288 \ttrain accuracy: 0.7344 \ttime: 0.7833 s\n"
     ]
    },
    {
     "name": "stderr",
     "output_type": "stream",
     "text": [
      "100%|██████████████████████████████████████████████████████████████████████████████████| 12/12 [00:00<00:00, 53.89it/s]\n"
     ]
    },
    {
     "name": "stdout",
     "output_type": "stream",
     "text": [
      "epoch: 3 / 40 \ttrain loss: 1.0035 \tvalid loss: 0.9318 \ttrain accuracy 0.7318 \tvalid accuracy 0.7298\n",
      "Model saved to: model.pth\n",
      "epoch: 4 \tstep: 50 / 144 \ttrain loss: 0.8448 \ttrain accuracy: 0.7734 \ttime: 0.6997 s\n",
      "epoch: 4 \tstep: 100 / 144 \ttrain loss: 0.7841 \ttrain accuracy: 0.7891 \ttime: 0.7811 s\n"
     ]
    },
    {
     "name": "stderr",
     "output_type": "stream",
     "text": [
      "100%|██████████████████████████████████████████████████████████████████████████████████| 12/12 [00:00<00:00, 53.13it/s]\n"
     ]
    },
    {
     "name": "stdout",
     "output_type": "stream",
     "text": [
      "epoch: 4 / 40 \ttrain loss: 0.8765 \tvalid loss: 0.8591 \ttrain accuracy 0.7434 \tvalid accuracy 0.7363\n",
      "Model saved to: model.pth\n",
      "epoch: 5 \tstep: 50 / 144 \ttrain loss: 0.8457 \ttrain accuracy: 0.7422 \ttime: 0.7813 s\n",
      "epoch: 5 \tstep: 100 / 144 \ttrain loss: 0.8311 \ttrain accuracy: 0.7422 \ttime: 0.7781 s\n"
     ]
    },
    {
     "name": "stderr",
     "output_type": "stream",
     "text": [
      "100%|██████████████████████████████████████████████████████████████████████████████████| 12/12 [00:00<00:00, 58.16it/s]\n"
     ]
    },
    {
     "name": "stdout",
     "output_type": "stream",
     "text": [
      "epoch: 5 / 40 \ttrain loss: 0.8177 \tvalid loss: 0.8189 \ttrain accuracy 0.7475 \tvalid accuracy 0.7376\n",
      "Model saved to: model.pth\n",
      "epoch: 6 \tstep: 50 / 144 \ttrain loss: 0.8808 \ttrain accuracy: 0.6875 \ttime: 0.7782 s\n",
      "epoch: 6 \tstep: 100 / 144 \ttrain loss: 0.6955 \ttrain accuracy: 0.7812 \ttime: 0.4505 s\n"
     ]
    },
    {
     "name": "stderr",
     "output_type": "stream",
     "text": [
      "100%|██████████████████████████████████████████████████████████████████████████████████| 12/12 [00:00<00:00, 52.52it/s]\n"
     ]
    },
    {
     "name": "stdout",
     "output_type": "stream",
     "text": [
      "epoch: 6 / 40 \ttrain loss: 0.7763 \tvalid loss: 0.7929 \ttrain accuracy 0.7503 \tvalid accuracy 0.7376\n",
      "Model saved to: model.pth\n",
      "epoch: 7 \tstep: 50 / 144 \ttrain loss: 0.8106 \ttrain accuracy: 0.6953 \ttime: 1.1048 s\n",
      "epoch: 7 \tstep: 100 / 144 \ttrain loss: 0.6645 \ttrain accuracy: 0.7969 \ttime: 0.6500 s\n"
     ]
    },
    {
     "name": "stderr",
     "output_type": "stream",
     "text": [
      "100%|██████████████████████████████████████████████████████████████████████████████████| 12/12 [00:00<00:00, 52.53it/s]\n"
     ]
    },
    {
     "name": "stdout",
     "output_type": "stream",
     "text": [
      "epoch: 7 / 40 \ttrain loss: 0.7491 \tvalid loss: 0.7751 \ttrain accuracy 0.7532 \tvalid accuracy 0.7415\n",
      "Model saved to: model.pth\n",
      "epoch: 8 \tstep: 50 / 144 \ttrain loss: 0.7341 \ttrain accuracy: 0.7344 \ttime: 0.9150 s\n",
      "epoch: 8 \tstep: 100 / 144 \ttrain loss: 0.7663 \ttrain accuracy: 0.7109 \ttime: 0.5000 s\n"
     ]
    },
    {
     "name": "stderr",
     "output_type": "stream",
     "text": [
      "100%|██████████████████████████████████████████████████████████████████████████████████| 12/12 [00:00<00:00, 47.81it/s]\n"
     ]
    },
    {
     "name": "stdout",
     "output_type": "stream",
     "text": [
      "epoch: 8 / 40 \ttrain loss: 0.7263 \tvalid loss: 0.7628 \ttrain accuracy 0.7558 \tvalid accuracy 0.7409\n",
      "Model saved to: model.pth\n",
      "epoch: 9 \tstep: 50 / 144 \ttrain loss: 0.7337 \ttrain accuracy: 0.7578 \ttime: 0.7817 s\n",
      "epoch: 9 \tstep: 100 / 144 \ttrain loss: 0.5243 \ttrain accuracy: 0.8438 \ttime: 0.6000 s\n"
     ]
    },
    {
     "name": "stderr",
     "output_type": "stream",
     "text": [
      "100%|██████████████████████████████████████████████████████████████████████████████████| 12/12 [00:00<00:00, 56.29it/s]\n"
     ]
    },
    {
     "name": "stdout",
     "output_type": "stream",
     "text": [
      "epoch: 9 / 40 \ttrain loss: 0.7157 \tvalid loss: 0.7523 \ttrain accuracy 0.7557 \tvalid accuracy 0.7454\n",
      "Model saved to: model.pth\n",
      "epoch: 10 \tstep: 50 / 144 \ttrain loss: 0.7043 \ttrain accuracy: 0.7656 \ttime: 0.6497 s\n",
      "epoch: 10 \tstep: 100 / 144 \ttrain loss: 0.7625 \ttrain accuracy: 0.7500 \ttime: 0.6997 s\n"
     ]
    },
    {
     "name": "stderr",
     "output_type": "stream",
     "text": [
      "100%|██████████████████████████████████████████████████████████████████████████████████| 12/12 [00:00<00:00, 51.76it/s]\n"
     ]
    },
    {
     "name": "stdout",
     "output_type": "stream",
     "text": [
      "epoch: 10 / 40 \ttrain loss: 0.6995 \tvalid loss: 0.7457 \ttrain accuracy 0.7604 \tvalid accuracy 0.7454\n",
      "Model saved to: model.pth\n",
      "epoch: 11 \tstep: 50 / 144 \ttrain loss: 0.7555 \ttrain accuracy: 0.7109 \ttime: 0.7000 s\n",
      "epoch: 11 \tstep: 100 / 144 \ttrain loss: 0.5546 \ttrain accuracy: 0.8281 \ttime: 0.9493 s\n"
     ]
    },
    {
     "name": "stderr",
     "output_type": "stream",
     "text": [
      "100%|██████████████████████████████████████████████████████████████████████████████████| 12/12 [00:00<00:00, 54.23it/s]\n"
     ]
    },
    {
     "name": "stdout",
     "output_type": "stream",
     "text": [
      "epoch: 11 / 40 \ttrain loss: 0.6911 \tvalid loss: 0.7404 \ttrain accuracy 0.7608 \tvalid accuracy 0.7448\n",
      "Model saved to: model.pth\n",
      "epoch: 12 \tstep: 50 / 144 \ttrain loss: 0.7842 \ttrain accuracy: 0.6797 \ttime: 0.9233 s\n",
      "epoch: 12 \tstep: 100 / 144 \ttrain loss: 0.5147 \ttrain accuracy: 0.8203 \ttime: 0.7178 s\n"
     ]
    },
    {
     "name": "stderr",
     "output_type": "stream",
     "text": [
      "100%|██████████████████████████████████████████████████████████████████████████████████| 12/12 [00:00<00:00, 49.83it/s]\n"
     ]
    },
    {
     "name": "stdout",
     "output_type": "stream",
     "text": [
      "epoch: 12 / 40 \ttrain loss: 0.6839 \tvalid loss: 0.7351 \ttrain accuracy 0.7621 \tvalid accuracy 0.7454\n",
      "Model saved to: model.pth\n",
      "epoch: 13 \tstep: 50 / 144 \ttrain loss: 0.6280 \ttrain accuracy: 0.7812 \ttime: 0.7790 s\n",
      "epoch: 13 \tstep: 100 / 144 \ttrain loss: 0.6251 \ttrain accuracy: 0.7656 \ttime: 0.7777 s\n"
     ]
    },
    {
     "name": "stderr",
     "output_type": "stream",
     "text": [
      "100%|██████████████████████████████████████████████████████████████████████████████████| 12/12 [00:00<00:00, 52.80it/s]\n"
     ]
    },
    {
     "name": "stdout",
     "output_type": "stream",
     "text": [
      "epoch: 13 / 40 \ttrain loss: 0.6783 \tvalid loss: 0.7315 \ttrain accuracy 0.7625 \tvalid accuracy 0.7487\n",
      "Model saved to: model.pth\n",
      "epoch: 14 \tstep: 50 / 144 \ttrain loss: 0.7179 \ttrain accuracy: 0.7422 \ttime: 0.6504 s\n",
      "epoch: 14 \tstep: 100 / 144 \ttrain loss: 0.7554 \ttrain accuracy: 0.6953 \ttime: 0.7812 s\n"
     ]
    },
    {
     "name": "stderr",
     "output_type": "stream",
     "text": [
      "100%|██████████████████████████████████████████████████████████████████████████████████| 12/12 [00:00<00:00, 51.43it/s]\n"
     ]
    },
    {
     "name": "stdout",
     "output_type": "stream",
     "text": [
      "epoch: 14 / 40 \ttrain loss: 0.6682 \tvalid loss: 0.7272 \ttrain accuracy 0.7647 \tvalid accuracy 0.7500\n",
      "Model saved to: model.pth\n",
      "epoch: 15 \tstep: 50 / 144 \ttrain loss: 0.7450 \ttrain accuracy: 0.7500 \ttime: 0.6996 s\n",
      "epoch: 15 \tstep: 100 / 144 \ttrain loss: 0.6293 \ttrain accuracy: 0.7969 \ttime: 0.2607 s\n"
     ]
    },
    {
     "name": "stderr",
     "output_type": "stream",
     "text": [
      "100%|██████████████████████████████████████████████████████████████████████████████████| 12/12 [00:00<00:00, 55.68it/s]\n"
     ]
    },
    {
     "name": "stdout",
     "output_type": "stream",
     "text": [
      "epoch: 15 / 40 \ttrain loss: 0.6575 \tvalid loss: 0.7234 \ttrain accuracy 0.7696 \tvalid accuracy 0.7513\n",
      "Model saved to: model.pth\n",
      "epoch: 16 \tstep: 50 / 144 \ttrain loss: 0.6452 \ttrain accuracy: 0.7734 \ttime: 1.0930 s\n",
      "epoch: 16 \tstep: 100 / 144 \ttrain loss: 0.5120 \ttrain accuracy: 0.8359 \ttime: 0.9092 s\n"
     ]
    },
    {
     "name": "stderr",
     "output_type": "stream",
     "text": [
      "100%|██████████████████████████████████████████████████████████████████████████████████| 12/12 [00:00<00:00, 58.31it/s]\n"
     ]
    },
    {
     "name": "stdout",
     "output_type": "stream",
     "text": [
      "epoch: 16 / 40 \ttrain loss: 0.6565 \tvalid loss: 0.7193 \ttrain accuracy 0.7694 \tvalid accuracy 0.7487\n",
      "Model saved to: model.pth\n",
      "epoch: 17 \tstep: 50 / 144 \ttrain loss: 0.7057 \ttrain accuracy: 0.7578 \ttime: 0.7805 s\n",
      "epoch: 17 \tstep: 100 / 144 \ttrain loss: 0.6654 \ttrain accuracy: 0.7656 \ttime: 1.6249 s\n"
     ]
    },
    {
     "name": "stderr",
     "output_type": "stream",
     "text": [
      "100%|██████████████████████████████████████████████████████████████████████████████████| 12/12 [00:00<00:00, 56.14it/s]\n"
     ]
    },
    {
     "name": "stdout",
     "output_type": "stream",
     "text": [
      "epoch: 17 / 40 \ttrain loss: 0.6504 \tvalid loss: 0.7170 \ttrain accuracy 0.7698 \tvalid accuracy 0.7520\n",
      "Model saved to: model.pth\n",
      "epoch: 18 \tstep: 50 / 144 \ttrain loss: 0.6178 \ttrain accuracy: 0.7578 \ttime: 0.6495 s\n",
      "epoch: 18 \tstep: 100 / 144 \ttrain loss: 0.7716 \ttrain accuracy: 0.6875 \ttime: 0.7812 s\n"
     ]
    },
    {
     "name": "stderr",
     "output_type": "stream",
     "text": [
      "100%|██████████████████████████████████████████████████████████████████████████████████| 12/12 [00:00<00:00, 51.54it/s]\n"
     ]
    },
    {
     "name": "stdout",
     "output_type": "stream",
     "text": [
      "epoch: 18 / 40 \ttrain loss: 0.6468 \tvalid loss: 0.7151 \ttrain accuracy 0.7726 \tvalid accuracy 0.7520\n",
      "Model saved to: model.pth\n",
      "epoch: 19 \tstep: 50 / 144 \ttrain loss: 0.4740 \ttrain accuracy: 0.8438 \ttime: 0.7813 s\n",
      "epoch: 19 \tstep: 100 / 144 \ttrain loss: 0.6464 \ttrain accuracy: 0.7578 \ttime: 0.7775 s\n"
     ]
    },
    {
     "name": "stderr",
     "output_type": "stream",
     "text": [
      "100%|██████████████████████████████████████████████████████████████████████████████████| 12/12 [00:00<00:00, 57.73it/s]\n"
     ]
    },
    {
     "name": "stdout",
     "output_type": "stream",
     "text": [
      "epoch: 19 / 40 \ttrain loss: 0.6420 \tvalid loss: 0.7120 \ttrain accuracy 0.7716 \tvalid accuracy 0.7539\n",
      "Model saved to: model.pth\n",
      "epoch: 20 \tstep: 50 / 144 \ttrain loss: 0.5413 \ttrain accuracy: 0.8125 \ttime: 0.7844 s\n",
      "epoch: 20 \tstep: 100 / 144 \ttrain loss: 0.6252 \ttrain accuracy: 0.7734 \ttime: 0.0000 s\n"
     ]
    },
    {
     "name": "stderr",
     "output_type": "stream",
     "text": [
      "100%|██████████████████████████████████████████████████████████████████████████████████| 12/12 [00:00<00:00, 54.92it/s]\n"
     ]
    },
    {
     "name": "stdout",
     "output_type": "stream",
     "text": [
      "epoch: 20 / 40 \ttrain loss: 0.6371 \tvalid loss: 0.7107 \ttrain accuracy 0.7764 \tvalid accuracy 0.7546\n",
      "Model saved to: model.pth\n",
      "epoch: 21 \tstep: 50 / 144 \ttrain loss: 0.5983 \ttrain accuracy: 0.7891 \ttime: 0.7819 s\n",
      "epoch: 21 \tstep: 100 / 144 \ttrain loss: 0.6000 \ttrain accuracy: 0.8125 \ttime: 0.9036 s\n"
     ]
    },
    {
     "name": "stderr",
     "output_type": "stream",
     "text": [
      "100%|██████████████████████████████████████████████████████████████████████████████████| 12/12 [00:00<00:00, 52.70it/s]\n"
     ]
    },
    {
     "name": "stdout",
     "output_type": "stream",
     "text": [
      "epoch: 21 / 40 \ttrain loss: 0.6352 \tvalid loss: 0.7072 \ttrain accuracy 0.7752 \tvalid accuracy 0.7552\n",
      "Model saved to: model.pth\n",
      "epoch: 22 \tstep: 50 / 144 \ttrain loss: 0.7491 \ttrain accuracy: 0.7188 \ttime: 0.9999 s\n",
      "epoch: 22 \tstep: 100 / 144 \ttrain loss: 0.6020 \ttrain accuracy: 0.7578 \ttime: 0.5001 s\n"
     ]
    },
    {
     "name": "stderr",
     "output_type": "stream",
     "text": [
      "100%|██████████████████████████████████████████████████████████████████████████████████| 12/12 [00:00<00:00, 52.22it/s]\n"
     ]
    },
    {
     "name": "stdout",
     "output_type": "stream",
     "text": [
      "epoch: 22 / 40 \ttrain loss: 0.6267 \tvalid loss: 0.7060 \ttrain accuracy 0.7792 \tvalid accuracy 0.7565\n",
      "Model saved to: model.pth\n",
      "epoch: 23 \tstep: 50 / 144 \ttrain loss: 0.6345 \ttrain accuracy: 0.7656 \ttime: 0.7819 s\n",
      "epoch: 23 \tstep: 100 / 144 \ttrain loss: 0.6899 \ttrain accuracy: 0.7500 \ttime: 0.6996 s\n"
     ]
    },
    {
     "name": "stderr",
     "output_type": "stream",
     "text": [
      "100%|██████████████████████████████████████████████████████████████████████████████████| 12/12 [00:00<00:00, 54.62it/s]\n"
     ]
    },
    {
     "name": "stdout",
     "output_type": "stream",
     "text": [
      "epoch: 23 / 40 \ttrain loss: 0.6245 \tvalid loss: 0.7057 \ttrain accuracy 0.7810 \tvalid accuracy 0.7572\n",
      "Model saved to: model.pth\n",
      "epoch: 24 \tstep: 50 / 144 \ttrain loss: 0.5937 \ttrain accuracy: 0.7812 \ttime: 0.4636 s\n",
      "epoch: 24 \tstep: 100 / 144 \ttrain loss: 0.6043 \ttrain accuracy: 0.7891 \ttime: 0.7820 s\n"
     ]
    },
    {
     "name": "stderr",
     "output_type": "stream",
     "text": [
      "100%|██████████████████████████████████████████████████████████████████████████████████| 12/12 [00:00<00:00, 52.15it/s]\n"
     ]
    },
    {
     "name": "stdout",
     "output_type": "stream",
     "text": [
      "epoch: 24 / 40 \ttrain loss: 0.6228 \tvalid loss: 0.7026 \ttrain accuracy 0.7789 \tvalid accuracy 0.7572\n",
      "Model saved to: model.pth\n",
      "epoch: 25 \tstep: 50 / 144 \ttrain loss: 0.5722 \ttrain accuracy: 0.8281 \ttime: 0.7819 s\n",
      "epoch: 25 \tstep: 100 / 144 \ttrain loss: 0.6327 \ttrain accuracy: 0.7891 \ttime: 0.1069 s\n"
     ]
    },
    {
     "name": "stderr",
     "output_type": "stream",
     "text": [
      "100%|██████████████████████████████████████████████████████████████████████████████████| 12/12 [00:00<00:00, 57.19it/s]\n"
     ]
    },
    {
     "name": "stdout",
     "output_type": "stream",
     "text": [
      "epoch: 25 / 40 \ttrain loss: 0.6151 \tvalid loss: 0.7014 \ttrain accuracy 0.7843 \tvalid accuracy 0.7572\n",
      "Model saved to: model.pth\n",
      "epoch: 26 \tstep: 50 / 144 \ttrain loss: 0.7049 \ttrain accuracy: 0.7500 \ttime: 0.6494 s\n",
      "epoch: 26 \tstep: 100 / 144 \ttrain loss: 0.4224 \ttrain accuracy: 0.8672 \ttime: 0.2546 s\n"
     ]
    },
    {
     "name": "stderr",
     "output_type": "stream",
     "text": [
      "100%|██████████████████████████████████████████████████████████████████████████████████| 12/12 [00:00<00:00, 56.80it/s]\n"
     ]
    },
    {
     "name": "stdout",
     "output_type": "stream",
     "text": [
      "epoch: 26 / 40 \ttrain loss: 0.6113 \tvalid loss: 0.6983 \ttrain accuracy 0.7845 \tvalid accuracy 0.7539\n",
      "Model saved to: model.pth\n",
      "epoch: 27 \tstep: 50 / 144 \ttrain loss: 0.5039 \ttrain accuracy: 0.8203 \ttime: 0.7813 s\n",
      "epoch: 27 \tstep: 100 / 144 \ttrain loss: 0.6482 \ttrain accuracy: 0.7188 \ttime: 0.0000 s\n"
     ]
    },
    {
     "name": "stderr",
     "output_type": "stream",
     "text": [
      "100%|██████████████████████████████████████████████████████████████████████████████████| 12/12 [00:00<00:00, 54.30it/s]\n"
     ]
    },
    {
     "name": "stdout",
     "output_type": "stream",
     "text": [
      "epoch: 27 / 40 \ttrain loss: 0.6049 \tvalid loss: 0.6981 \ttrain accuracy 0.7860 \tvalid accuracy 0.7552\n",
      "Model saved to: model.pth\n",
      "epoch: 28 \tstep: 50 / 144 \ttrain loss: 0.6347 \ttrain accuracy: 0.7891 \ttime: 0.5001 s\n",
      "epoch: 28 \tstep: 100 / 144 \ttrain loss: 0.5858 \ttrain accuracy: 0.7656 \ttime: 0.7784 s\n"
     ]
    },
    {
     "name": "stderr",
     "output_type": "stream",
     "text": [
      "100%|██████████████████████████████████████████████████████████████████████████████████| 12/12 [00:00<00:00, 52.99it/s]\n"
     ]
    },
    {
     "name": "stdout",
     "output_type": "stream",
     "text": [
      "epoch: 28 / 40 \ttrain loss: 0.6035 \tvalid loss: 0.6967 \ttrain accuracy 0.7855 \tvalid accuracy 0.7546\n",
      "Model saved to: model.pth\n",
      "epoch: 29 \tstep: 50 / 144 \ttrain loss: 0.5335 \ttrain accuracy: 0.8203 \ttime: 1.1603 s\n",
      "epoch: 29 \tstep: 100 / 144 \ttrain loss: 0.5537 \ttrain accuracy: 0.7734 \ttime: 0.5500 s\n"
     ]
    },
    {
     "name": "stderr",
     "output_type": "stream",
     "text": [
      "100%|██████████████████████████████████████████████████████████████████████████████████| 12/12 [00:00<00:00, 49.63it/s]\n"
     ]
    },
    {
     "name": "stdout",
     "output_type": "stream",
     "text": [
      "epoch: 29 / 40 \ttrain loss: 0.5975 \tvalid loss: 0.6966 \ttrain accuracy 0.7892 \tvalid accuracy 0.7552\n",
      "Model saved to: model.pth\n",
      "epoch: 30 \tstep: 50 / 144 \ttrain loss: 0.6442 \ttrain accuracy: 0.7656 \ttime: 0.7845 s\n",
      "epoch: 30 \tstep: 100 / 144 \ttrain loss: 0.5465 \ttrain accuracy: 0.8047 \ttime: 0.7822 s\n"
     ]
    },
    {
     "name": "stderr",
     "output_type": "stream",
     "text": [
      "100%|██████████████████████████████████████████████████████████████████████████████████| 12/12 [00:00<00:00, 61.83it/s]\n"
     ]
    },
    {
     "name": "stdout",
     "output_type": "stream",
     "text": [
      "epoch: 30 / 40 \ttrain loss: 0.5939 \tvalid loss: 0.6955 \ttrain accuracy 0.7912 \tvalid accuracy 0.7546\n",
      "Model saved to: model.pth\n",
      "epoch: 31 \tstep: 50 / 144 \ttrain loss: 0.7068 \ttrain accuracy: 0.7734 \ttime: 0.7834 s\n",
      "epoch: 31 \tstep: 100 / 144 \ttrain loss: 0.5635 \ttrain accuracy: 0.8047 \ttime: 1.4961 s\n"
     ]
    },
    {
     "name": "stderr",
     "output_type": "stream",
     "text": [
      "100%|██████████████████████████████████████████████████████████████████████████████████| 12/12 [00:00<00:00, 54.81it/s]\n"
     ]
    },
    {
     "name": "stdout",
     "output_type": "stream",
     "text": [
      "epoch: 31 / 40 \ttrain loss: 0.5930 \tvalid loss: 0.6959 \ttrain accuracy 0.7897 \tvalid accuracy 0.7565\n",
      "INFO: Early stopping counter 1 of 4\n",
      "epoch: 32 \tstep: 50 / 144 \ttrain loss: 0.8746 \ttrain accuracy: 0.6797 \ttime: 0.7840 s\n",
      "epoch: 32 \tstep: 100 / 144 \ttrain loss: 0.7117 \ttrain accuracy: 0.7109 \ttime: 0.6996 s\n"
     ]
    },
    {
     "name": "stderr",
     "output_type": "stream",
     "text": [
      "100%|██████████████████████████████████████████████████████████████████████████████████| 12/12 [00:00<00:00, 57.89it/s]\n"
     ]
    },
    {
     "name": "stdout",
     "output_type": "stream",
     "text": [
      "epoch: 32 / 40 \ttrain loss: 0.5884 \tvalid loss: 0.6948 \ttrain accuracy 0.7914 \tvalid accuracy 0.7598\n",
      "Model saved to: model.pth\n",
      "epoch: 33 \tstep: 50 / 144 \ttrain loss: 0.6206 \ttrain accuracy: 0.7578 \ttime: 0.6495 s\n",
      "epoch: 33 \tstep: 100 / 144 \ttrain loss: 0.5327 \ttrain accuracy: 0.7969 \ttime: 0.6996 s\n"
     ]
    },
    {
     "name": "stderr",
     "output_type": "stream",
     "text": [
      "100%|██████████████████████████████████████████████████████████████████████████████████| 12/12 [00:00<00:00, 58.99it/s]\n"
     ]
    },
    {
     "name": "stdout",
     "output_type": "stream",
     "text": [
      "epoch: 33 / 40 \ttrain loss: 0.5844 \tvalid loss: 0.6928 \ttrain accuracy 0.7909 \tvalid accuracy 0.7572\n",
      "Model saved to: model.pth\n",
      "epoch: 34 \tstep: 50 / 144 \ttrain loss: 0.6545 \ttrain accuracy: 0.7734 \ttime: 0.8499 s\n",
      "epoch: 34 \tstep: 100 / 144 \ttrain loss: 0.5569 \ttrain accuracy: 0.8438 \ttime: 0.5996 s\n"
     ]
    },
    {
     "name": "stderr",
     "output_type": "stream",
     "text": [
      "100%|██████████████████████████████████████████████████████████████████████████████████| 12/12 [00:00<00:00, 57.40it/s]\n"
     ]
    },
    {
     "name": "stdout",
     "output_type": "stream",
     "text": [
      "epoch: 34 / 40 \ttrain loss: 0.5769 \tvalid loss: 0.6947 \ttrain accuracy 0.7956 \tvalid accuracy 0.7598\n",
      "INFO: Early stopping counter 1 of 4\n",
      "epoch: 35 \tstep: 50 / 144 \ttrain loss: 0.7507 \ttrain accuracy: 0.6953 \ttime: 0.8000 s\n",
      "epoch: 35 \tstep: 100 / 144 \ttrain loss: 0.6646 \ttrain accuracy: 0.7734 \ttime: 0.6576 s\n"
     ]
    },
    {
     "name": "stderr",
     "output_type": "stream",
     "text": [
      "100%|██████████████████████████████████████████████████████████████████████████████████| 12/12 [00:00<00:00, 53.37it/s]\n"
     ]
    },
    {
     "name": "stdout",
     "output_type": "stream",
     "text": [
      "epoch: 35 / 40 \ttrain loss: 0.5759 \tvalid loss: 0.6936 \ttrain accuracy 0.7955 \tvalid accuracy 0.7585\n",
      "INFO: Early stopping counter 2 of 4\n",
      "epoch: 36 \tstep: 50 / 144 \ttrain loss: 0.5956 \ttrain accuracy: 0.7656 \ttime: 1.2320 s\n",
      "epoch: 36 \tstep: 100 / 144 \ttrain loss: 0.7810 \ttrain accuracy: 0.7188 \ttime: 0.7500 s\n"
     ]
    },
    {
     "name": "stderr",
     "output_type": "stream",
     "text": [
      "100%|██████████████████████████████████████████████████████████████████████████████████| 12/12 [00:00<00:00, 52.11it/s]\n"
     ]
    },
    {
     "name": "stdout",
     "output_type": "stream",
     "text": [
      "epoch: 36 / 40 \ttrain loss: 0.5701 \tvalid loss: 0.6927 \ttrain accuracy 0.7974 \tvalid accuracy 0.7604\n",
      "Model saved to: model.pth\n",
      "epoch: 37 \tstep: 50 / 144 \ttrain loss: 0.4161 \ttrain accuracy: 0.8828 \ttime: 1.0429 s\n",
      "epoch: 37 \tstep: 100 / 144 \ttrain loss: 0.5783 \ttrain accuracy: 0.8125 \ttime: 0.8000 s\n"
     ]
    },
    {
     "name": "stderr",
     "output_type": "stream",
     "text": [
      "100%|██████████████████████████████████████████████████████████████████████████████████| 12/12 [00:00<00:00, 54.03it/s]\n"
     ]
    },
    {
     "name": "stdout",
     "output_type": "stream",
     "text": [
      "epoch: 37 / 40 \ttrain loss: 0.5640 \tvalid loss: 0.6945 \ttrain accuracy 0.8019 \tvalid accuracy 0.7598\n",
      "INFO: Early stopping counter 1 of 4\n",
      "epoch: 38 \tstep: 50 / 144 \ttrain loss: 0.5137 \ttrain accuracy: 0.8125 \ttime: 1.4136 s\n",
      "epoch: 38 \tstep: 100 / 144 \ttrain loss: 0.6885 \ttrain accuracy: 0.7500 \ttime: 0.6501 s\n"
     ]
    },
    {
     "name": "stderr",
     "output_type": "stream",
     "text": [
      "100%|██████████████████████████████████████████████████████████████████████████████████| 12/12 [00:00<00:00, 56.94it/s]\n"
     ]
    },
    {
     "name": "stdout",
     "output_type": "stream",
     "text": [
      "epoch: 38 / 40 \ttrain loss: 0.5639 \tvalid loss: 0.6954 \ttrain accuracy 0.8007 \tvalid accuracy 0.7630\n",
      "INFO: Early stopping counter 2 of 4\n",
      "epoch: 39 \tstep: 50 / 144 \ttrain loss: 0.4653 \ttrain accuracy: 0.8359 \ttime: 0.0000 s\n",
      "epoch: 39 \tstep: 100 / 144 \ttrain loss: 0.5929 \ttrain accuracy: 0.7969 \ttime: 0.9894 s\n"
     ]
    },
    {
     "name": "stderr",
     "output_type": "stream",
     "text": [
      "100%|██████████████████████████████████████████████████████████████████████████████████| 12/12 [00:00<00:00, 53.41it/s]\n"
     ]
    },
    {
     "name": "stdout",
     "output_type": "stream",
     "text": [
      "epoch: 39 / 40 \ttrain loss: 0.5612 \tvalid loss: 0.6982 \ttrain accuracy 0.8010 \tvalid accuracy 0.7656\n",
      "INFO: Early stopping counter 3 of 4\n",
      "epoch: 40 \tstep: 50 / 144 \ttrain loss: 0.4536 \ttrain accuracy: 0.8359 \ttime: 1.0434 s\n",
      "epoch: 40 \tstep: 100 / 144 \ttrain loss: 0.4988 \ttrain accuracy: 0.7969 \ttime: 0.2175 s\n"
     ]
    },
    {
     "name": "stderr",
     "output_type": "stream",
     "text": [
      "100%|██████████████████████████████████████████████████████████████████████████████████| 12/12 [00:00<00:00, 56.89it/s]\n"
     ]
    },
    {
     "name": "stdout",
     "output_type": "stream",
     "text": [
      "epoch: 40 / 40 \ttrain loss: 0.5523 \tvalid loss: 0.6958 \ttrain accuracy 0.8026 \tvalid accuracy 0.7624\n",
      "INFO: Early stopping counter 4 of 4\n",
      "INFO: Early stopping\n"
     ]
    },
    {
     "name": "stderr",
     "output_type": "stream",
     "text": [
      "100%|████████████████████████████████████████████████████████████████████████████████████| 8/8 [00:00<00:00, 98.03it/s]"
     ]
    },
    {
     "name": "stdout",
     "output_type": "stream",
     "text": [
      "\ttest loss: 0.6229 \ttest accuracy 0.7778\n"
     ]
    },
    {
     "name": "stderr",
     "output_type": "stream",
     "text": [
      "\n"
     ]
    }
   ],
   "source": [
    "run(model)"
   ]
  },
  {
   "cell_type": "markdown",
   "id": "a2901993",
   "metadata": {},
   "source": [
    "**LSTM / hidden**"
   ]
  },
  {
   "cell_type": "code",
   "execution_count": 31,
   "id": "cd128ca9",
   "metadata": {},
   "outputs": [],
   "source": [
    "class BiLSTM(nn.Module):\n",
    "    def __init__(self, hidden_dim, vocab_size, num_classes=5, dropout=0.1, bilstm=True, num_layers=2, **kwargs):\n",
    "        super(BiLSTM, self).__init__(**kwargs)\n",
    "        self.embedding = nn.Embedding(vocab_size, hidden_dim)\n",
    "        self.lstm = nn.LSTM(input_size=hidden_dim, \n",
    "                            hidden_size=hidden_dim, \n",
    "                            num_layers=num_layers, \n",
    "                            batch_first=bilstm,\n",
    "                            dropout=dropout,\n",
    "                            bidirectional=True)\n",
    "        \n",
    "        self.dropout = nn.Dropout(p=dropout)\n",
    "        self.fc_mid = nn.Linear(hidden_dim*2, hidden_dim)\n",
    "        self.fc_out = nn.Linear(hidden_dim, num_classes)\n",
    "\n",
    "    def forward(self, x):\n",
    "        batch_size = x.size(0)\n",
    "        \n",
    "        text_lengths = torch.sum((x != PAD_IDX).type(torch.int32), dim=1)\n",
    "        \n",
    "        x = self.embedding(x)\n",
    "        # ignore padding\n",
    "        packed_embedded = pack_padded_sequence(x, text_lengths.cpu(), batch_first=True, enforce_sorted=False)\n",
    "\n",
    "        packed_output, (hidden_state, cell_state) = self.lstm(packed_embedded)  # h_c = [2, B, hidden]\n",
    "\n",
    "        #  contains the final hidden state for each element in the sequence [layers*bidir, B, hidden]\n",
    "        # concatenation of the final forward and reverse hidden states if bidirectional \n",
    "        x = self.dropout(torch.cat((hidden_state[-2,:,:], hidden_state[-1,:,:]), dim = 1))\n",
    "\n",
    "        x = F.relu(self.fc_mid(self.dropout(x)))\n",
    "        x = self.fc_out(x)\n",
    "        return x"
   ]
  },
  {
   "cell_type": "code",
   "execution_count": 32,
   "id": "44b94b47",
   "metadata": {},
   "outputs": [],
   "source": [
    "model = BiLSTM(hidden_dim=64, vocab_size=len(vocabulary), dropout=0.3, num_layers=1).to(device)\n",
    "\n",
    "criterion = nn.CrossEntropyLoss()\n",
    "\n",
    "optimizer = torch.optim.AdamW(model.parameters(), lr=0.0001, weight_decay=0.00005)\n",
    "\n",
    "scheduler = torch.optim.lr_scheduler.ReduceLROnPlateau(optimizer, patience=2, min_lr=1e-7, factor=0.5)\n",
    "stopper = EarlyStopping(patience=4)"
   ]
  },
  {
   "cell_type": "code",
   "execution_count": 33,
   "id": "c8d0b4a1",
   "metadata": {
    "scrolled": false
   },
   "outputs": [
    {
     "name": "stdout",
     "output_type": "stream",
     "text": [
      "epoch: 1 \tstep: 50 / 144 \ttrain loss: 1.5584 \ttrain accuracy: 0.2891 \ttime: 0.0000 s\n",
      "epoch: 1 \tstep: 100 / 144 \ttrain loss: 1.4656 \ttrain accuracy: 0.5625 \ttime: 0.2075 s\n"
     ]
    },
    {
     "name": "stderr",
     "output_type": "stream",
     "text": [
      "100%|██████████████████████████████████████████████████████████████████████████████████| 12/12 [00:00<00:00, 56.93it/s]\n"
     ]
    },
    {
     "name": "stdout",
     "output_type": "stream",
     "text": [
      "epoch: 1 / 40 \ttrain loss: 1.5028 \tvalid loss: 1.2782 \ttrain accuracy 0.4102 \tvalid accuracy 0.6829\n",
      "epoch: 2 \tstep: 50 / 144 \ttrain loss: 1.0550 \ttrain accuracy: 0.6953 \ttime: 0.6496 s\n",
      "epoch: 2 \tstep: 100 / 144 \ttrain loss: 0.9002 \ttrain accuracy: 0.7422 \ttime: 0.4498 s\n"
     ]
    },
    {
     "name": "stderr",
     "output_type": "stream",
     "text": [
      "100%|██████████████████████████████████████████████████████████████████████████████████| 12/12 [00:00<00:00, 54.88it/s]\n"
     ]
    },
    {
     "name": "stdout",
     "output_type": "stream",
     "text": [
      "epoch: 2 / 40 \ttrain loss: 1.0361 \tvalid loss: 0.9220 \ttrain accuracy 0.6898 \tvalid accuracy 0.6940\n",
      "Model saved to: model.pth\n",
      "epoch: 3 \tstep: 50 / 144 \ttrain loss: 0.9109 \ttrain accuracy: 0.6875 \ttime: 0.9502 s\n",
      "epoch: 3 \tstep: 100 / 144 \ttrain loss: 0.8965 \ttrain accuracy: 0.6641 \ttime: 0.6502 s\n"
     ]
    },
    {
     "name": "stderr",
     "output_type": "stream",
     "text": [
      "100%|██████████████████████████████████████████████████████████████████████████████████| 12/12 [00:00<00:00, 51.01it/s]\n"
     ]
    },
    {
     "name": "stdout",
     "output_type": "stream",
     "text": [
      "epoch: 3 / 40 \ttrain loss: 0.8855 \tvalid loss: 0.8503 \ttrain accuracy 0.6972 \tvalid accuracy 0.6999\n",
      "Model saved to: model.pth\n",
      "epoch: 4 \tstep: 50 / 144 \ttrain loss: 0.7871 \ttrain accuracy: 0.7266 \ttime: 0.6000 s\n",
      "epoch: 4 \tstep: 100 / 144 \ttrain loss: 0.8832 \ttrain accuracy: 0.6562 \ttime: 0.0000 s\n"
     ]
    },
    {
     "name": "stderr",
     "output_type": "stream",
     "text": [
      "100%|██████████████████████████████████████████████████████████████████████████████████| 12/12 [00:00<00:00, 51.31it/s]\n"
     ]
    },
    {
     "name": "stdout",
     "output_type": "stream",
     "text": [
      "epoch: 4 / 40 \ttrain loss: 0.8228 \tvalid loss: 0.8061 \ttrain accuracy 0.7094 \tvalid accuracy 0.7083\n",
      "Model saved to: model.pth\n",
      "epoch: 5 \tstep: 50 / 144 \ttrain loss: 0.8085 \ttrain accuracy: 0.7266 \ttime: 1.3418 s\n",
      "epoch: 5 \tstep: 100 / 144 \ttrain loss: 0.9203 \ttrain accuracy: 0.6797 \ttime: 0.4086 s\n"
     ]
    },
    {
     "name": "stderr",
     "output_type": "stream",
     "text": [
      "100%|██████████████████████████████████████████████████████████████████████████████████| 12/12 [00:00<00:00, 55.37it/s]\n"
     ]
    },
    {
     "name": "stdout",
     "output_type": "stream",
     "text": [
      "epoch: 5 / 40 \ttrain loss: 0.7832 \tvalid loss: 0.7679 \ttrain accuracy 0.7268 \tvalid accuracy 0.7396\n",
      "Model saved to: model.pth\n",
      "epoch: 6 \tstep: 50 / 144 \ttrain loss: 0.5643 \ttrain accuracy: 0.7969 \ttime: 0.0000 s\n",
      "epoch: 6 \tstep: 100 / 144 \ttrain loss: 0.5716 \ttrain accuracy: 0.8203 \ttime: 0.0000 s\n"
     ]
    },
    {
     "name": "stderr",
     "output_type": "stream",
     "text": [
      "100%|██████████████████████████████████████████████████████████████████████████████████| 12/12 [00:00<00:00, 49.91it/s]\n"
     ]
    },
    {
     "name": "stdout",
     "output_type": "stream",
     "text": [
      "epoch: 6 / 40 \ttrain loss: 0.7449 \tvalid loss: 0.7452 \ttrain accuracy 0.7439 \tvalid accuracy 0.7409\n",
      "Model saved to: model.pth\n",
      "epoch: 7 \tstep: 50 / 144 \ttrain loss: 0.8244 \ttrain accuracy: 0.7422 \ttime: 0.7814 s\n",
      "epoch: 7 \tstep: 100 / 144 \ttrain loss: 0.7294 \ttrain accuracy: 0.7656 \ttime: 0.6306 s\n"
     ]
    },
    {
     "name": "stderr",
     "output_type": "stream",
     "text": [
      "100%|██████████████████████████████████████████████████████████████████████████████████| 12/12 [00:00<00:00, 57.65it/s]\n"
     ]
    },
    {
     "name": "stdout",
     "output_type": "stream",
     "text": [
      "epoch: 7 / 40 \ttrain loss: 0.7203 \tvalid loss: 0.7324 \ttrain accuracy 0.7522 \tvalid accuracy 0.7467\n",
      "Model saved to: model.pth\n",
      "epoch: 8 \tstep: 50 / 144 \ttrain loss: 0.6124 \ttrain accuracy: 0.8281 \ttime: 0.8504 s\n",
      "epoch: 8 \tstep: 100 / 144 \ttrain loss: 0.6213 \ttrain accuracy: 0.7969 \ttime: 0.4501 s\n"
     ]
    },
    {
     "name": "stderr",
     "output_type": "stream",
     "text": [
      "100%|██████████████████████████████████████████████████████████████████████████████████| 12/12 [00:00<00:00, 57.34it/s]\n"
     ]
    },
    {
     "name": "stdout",
     "output_type": "stream",
     "text": [
      "epoch: 8 / 40 \ttrain loss: 0.7055 \tvalid loss: 0.7248 \ttrain accuracy 0.7555 \tvalid accuracy 0.7467\n",
      "Model saved to: model.pth\n",
      "epoch: 9 \tstep: 50 / 144 \ttrain loss: 0.6279 \ttrain accuracy: 0.8047 \ttime: 0.6816 s\n",
      "epoch: 9 \tstep: 100 / 144 \ttrain loss: 0.7567 \ttrain accuracy: 0.6875 \ttime: 0.7843 s\n"
     ]
    },
    {
     "name": "stderr",
     "output_type": "stream",
     "text": [
      "100%|██████████████████████████████████████████████████████████████████████████████████| 12/12 [00:00<00:00, 50.48it/s]\n"
     ]
    },
    {
     "name": "stdout",
     "output_type": "stream",
     "text": [
      "epoch: 9 / 40 \ttrain loss: 0.6954 \tvalid loss: 0.7191 \ttrain accuracy 0.7589 \tvalid accuracy 0.7441\n",
      "Model saved to: model.pth\n",
      "epoch: 10 \tstep: 50 / 144 \ttrain loss: 0.6791 \ttrain accuracy: 0.7578 \ttime: 0.7807 s\n",
      "epoch: 10 \tstep: 100 / 144 \ttrain loss: 0.8164 \ttrain accuracy: 0.7031 \ttime: 0.0000 s\n"
     ]
    },
    {
     "name": "stderr",
     "output_type": "stream",
     "text": [
      "100%|██████████████████████████████████████████████████████████████████████████████████| 12/12 [00:00<00:00, 52.31it/s]\n"
     ]
    },
    {
     "name": "stdout",
     "output_type": "stream",
     "text": [
      "epoch: 10 / 40 \ttrain loss: 0.6865 \tvalid loss: 0.7125 \ttrain accuracy 0.7610 \tvalid accuracy 0.7493\n",
      "Model saved to: model.pth\n",
      "epoch: 11 \tstep: 50 / 144 \ttrain loss: 0.6461 \ttrain accuracy: 0.7812 \ttime: 0.5856 s\n",
      "epoch: 11 \tstep: 100 / 144 \ttrain loss: 0.6445 \ttrain accuracy: 0.7734 \ttime: 0.6994 s\n"
     ]
    },
    {
     "name": "stderr",
     "output_type": "stream",
     "text": [
      "100%|██████████████████████████████████████████████████████████████████████████████████| 12/12 [00:00<00:00, 57.77it/s]\n"
     ]
    },
    {
     "name": "stdout",
     "output_type": "stream",
     "text": [
      "epoch: 11 / 40 \ttrain loss: 0.6757 \tvalid loss: 0.7088 \ttrain accuracy 0.7657 \tvalid accuracy 0.7467\n",
      "Model saved to: model.pth\n",
      "epoch: 12 \tstep: 50 / 144 \ttrain loss: 0.6506 \ttrain accuracy: 0.7734 \ttime: 0.6000 s\n",
      "epoch: 12 \tstep: 100 / 144 \ttrain loss: 0.6332 \ttrain accuracy: 0.7969 \ttime: 0.5496 s\n"
     ]
    },
    {
     "name": "stderr",
     "output_type": "stream",
     "text": [
      "100%|██████████████████████████████████████████████████████████████████████████████████| 12/12 [00:00<00:00, 48.91it/s]\n"
     ]
    },
    {
     "name": "stdout",
     "output_type": "stream",
     "text": [
      "epoch: 12 / 40 \ttrain loss: 0.6718 \tvalid loss: 0.7056 \ttrain accuracy 0.7653 \tvalid accuracy 0.7474\n",
      "Model saved to: model.pth\n",
      "epoch: 13 \tstep: 50 / 144 \ttrain loss: 0.6673 \ttrain accuracy: 0.7422 \ttime: 0.0000 s\n",
      "epoch: 13 \tstep: 100 / 144 \ttrain loss: 0.4164 \ttrain accuracy: 0.9062 \ttime: 0.8062 s\n"
     ]
    },
    {
     "name": "stderr",
     "output_type": "stream",
     "text": [
      "100%|██████████████████████████████████████████████████████████████████████████████████| 12/12 [00:00<00:00, 56.25it/s]\n"
     ]
    },
    {
     "name": "stdout",
     "output_type": "stream",
     "text": [
      "epoch: 13 / 40 \ttrain loss: 0.6639 \tvalid loss: 0.7033 \ttrain accuracy 0.7678 \tvalid accuracy 0.7493\n",
      "Model saved to: model.pth\n",
      "epoch: 14 \tstep: 50 / 144 \ttrain loss: 0.6460 \ttrain accuracy: 0.7656 \ttime: 0.8477 s\n",
      "epoch: 14 \tstep: 100 / 144 \ttrain loss: 0.5957 \ttrain accuracy: 0.7812 \ttime: 0.7000 s\n"
     ]
    },
    {
     "name": "stderr",
     "output_type": "stream",
     "text": [
      "100%|██████████████████████████████████████████████████████████████████████████████████| 12/12 [00:00<00:00, 53.58it/s]\n"
     ]
    },
    {
     "name": "stdout",
     "output_type": "stream",
     "text": [
      "epoch: 14 / 40 \ttrain loss: 0.6578 \tvalid loss: 0.7002 \ttrain accuracy 0.7686 \tvalid accuracy 0.7493\n",
      "Model saved to: model.pth\n",
      "epoch: 15 \tstep: 50 / 144 \ttrain loss: 0.7504 \ttrain accuracy: 0.7266 \ttime: 0.5584 s\n",
      "epoch: 15 \tstep: 100 / 144 \ttrain loss: 0.6418 \ttrain accuracy: 0.7500 \ttime: 1.0225 s\n"
     ]
    },
    {
     "name": "stderr",
     "output_type": "stream",
     "text": [
      "100%|██████████████████████████████████████████████████████████████████████████████████| 12/12 [00:00<00:00, 54.00it/s]\n"
     ]
    },
    {
     "name": "stdout",
     "output_type": "stream",
     "text": [
      "epoch: 15 / 40 \ttrain loss: 0.6503 \tvalid loss: 0.6982 \ttrain accuracy 0.7695 \tvalid accuracy 0.7513\n",
      "Model saved to: model.pth\n",
      "epoch: 16 \tstep: 50 / 144 \ttrain loss: 0.7749 \ttrain accuracy: 0.7344 \ttime: 0.7812 s\n",
      "epoch: 16 \tstep: 100 / 144 \ttrain loss: 0.6567 \ttrain accuracy: 0.7812 \ttime: 1.2649 s\n"
     ]
    },
    {
     "name": "stderr",
     "output_type": "stream",
     "text": [
      "100%|██████████████████████████████████████████████████████████████████████████████████| 12/12 [00:00<00:00, 54.68it/s]\n"
     ]
    },
    {
     "name": "stdout",
     "output_type": "stream",
     "text": [
      "epoch: 16 / 40 \ttrain loss: 0.6488 \tvalid loss: 0.6962 \ttrain accuracy 0.7703 \tvalid accuracy 0.7526\n",
      "Model saved to: model.pth\n",
      "epoch: 17 \tstep: 50 / 144 \ttrain loss: 0.7100 \ttrain accuracy: 0.7656 \ttime: 0.5500 s\n",
      "epoch: 17 \tstep: 100 / 144 \ttrain loss: 0.7087 \ttrain accuracy: 0.7422 \ttime: 0.7819 s\n"
     ]
    },
    {
     "name": "stderr",
     "output_type": "stream",
     "text": [
      "100%|██████████████████████████████████████████████████████████████████████████████████| 12/12 [00:00<00:00, 54.98it/s]\n"
     ]
    },
    {
     "name": "stdout",
     "output_type": "stream",
     "text": [
      "epoch: 17 / 40 \ttrain loss: 0.6413 \tvalid loss: 0.6933 \ttrain accuracy 0.7723 \tvalid accuracy 0.7533\n",
      "Model saved to: model.pth\n",
      "epoch: 18 \tstep: 50 / 144 \ttrain loss: 0.5668 \ttrain accuracy: 0.7812 \ttime: 0.7817 s\n",
      "epoch: 18 \tstep: 100 / 144 \ttrain loss: 0.5666 \ttrain accuracy: 0.8125 \ttime: 0.7818 s\n"
     ]
    },
    {
     "name": "stderr",
     "output_type": "stream",
     "text": [
      "100%|██████████████████████████████████████████████████████████████████████████████████| 12/12 [00:00<00:00, 48.36it/s]\n"
     ]
    },
    {
     "name": "stdout",
     "output_type": "stream",
     "text": [
      "epoch: 18 / 40 \ttrain loss: 0.6386 \tvalid loss: 0.6920 \ttrain accuracy 0.7736 \tvalid accuracy 0.7533\n",
      "Model saved to: model.pth\n",
      "epoch: 19 \tstep: 50 / 144 \ttrain loss: 0.5160 \ttrain accuracy: 0.8438 \ttime: 0.7812 s\n",
      "epoch: 19 \tstep: 100 / 144 \ttrain loss: 0.6035 \ttrain accuracy: 0.7891 \ttime: 1.0423 s\n"
     ]
    },
    {
     "name": "stderr",
     "output_type": "stream",
     "text": [
      "100%|██████████████████████████████████████████████████████████████████████████████████| 12/12 [00:00<00:00, 37.90it/s]\n"
     ]
    },
    {
     "name": "stdout",
     "output_type": "stream",
     "text": [
      "epoch: 19 / 40 \ttrain loss: 0.6340 \tvalid loss: 0.6901 \ttrain accuracy 0.7750 \tvalid accuracy 0.7526\n",
      "Model saved to: model.pth\n",
      "epoch: 20 \tstep: 50 / 144 \ttrain loss: 0.7397 \ttrain accuracy: 0.7578 \ttime: 0.8876 s\n",
      "epoch: 20 \tstep: 100 / 144 \ttrain loss: 0.7692 \ttrain accuracy: 0.6953 \ttime: 0.0000 s\n"
     ]
    },
    {
     "name": "stderr",
     "output_type": "stream",
     "text": [
      "100%|██████████████████████████████████████████████████████████████████████████████████| 12/12 [00:00<00:00, 56.24it/s]\n"
     ]
    },
    {
     "name": "stdout",
     "output_type": "stream",
     "text": [
      "epoch: 20 / 40 \ttrain loss: 0.6296 \tvalid loss: 0.6884 \ttrain accuracy 0.7748 \tvalid accuracy 0.7546\n",
      "Model saved to: model.pth\n",
      "epoch: 21 \tstep: 50 / 144 \ttrain loss: 0.5153 \ttrain accuracy: 0.8047 \ttime: 0.5000 s\n",
      "epoch: 21 \tstep: 100 / 144 \ttrain loss: 0.4944 \ttrain accuracy: 0.8281 \ttime: 0.7812 s\n"
     ]
    },
    {
     "name": "stderr",
     "output_type": "stream",
     "text": [
      "100%|██████████████████████████████████████████████████████████████████████████████████| 12/12 [00:00<00:00, 48.89it/s]\n"
     ]
    },
    {
     "name": "stdout",
     "output_type": "stream",
     "text": [
      "epoch: 21 / 40 \ttrain loss: 0.6293 \tvalid loss: 0.6860 \ttrain accuracy 0.7765 \tvalid accuracy 0.7559\n",
      "Model saved to: model.pth\n",
      "epoch: 22 \tstep: 50 / 144 \ttrain loss: 0.5859 \ttrain accuracy: 0.8125 \ttime: 0.6212 s\n",
      "epoch: 22 \tstep: 100 / 144 \ttrain loss: 0.4832 \ttrain accuracy: 0.8438 \ttime: 0.3187 s\n"
     ]
    },
    {
     "name": "stderr",
     "output_type": "stream",
     "text": [
      "100%|██████████████████████████████████████████████████████████████████████████████████| 12/12 [00:00<00:00, 55.52it/s]\n"
     ]
    },
    {
     "name": "stdout",
     "output_type": "stream",
     "text": [
      "epoch: 22 / 40 \ttrain loss: 0.6199 \tvalid loss: 0.6862 \ttrain accuracy 0.7790 \tvalid accuracy 0.7572\n",
      "INFO: Early stopping counter 1 of 4\n",
      "epoch: 23 \tstep: 50 / 144 \ttrain loss: 0.6791 \ttrain accuracy: 0.7500 \ttime: 0.7808 s\n",
      "epoch: 23 \tstep: 100 / 144 \ttrain loss: 0.6636 \ttrain accuracy: 0.7500 \ttime: 0.6995 s\n"
     ]
    },
    {
     "name": "stderr",
     "output_type": "stream",
     "text": [
      "100%|██████████████████████████████████████████████████████████████████████████████████| 12/12 [00:00<00:00, 53.43it/s]\n"
     ]
    },
    {
     "name": "stdout",
     "output_type": "stream",
     "text": [
      "epoch: 23 / 40 \ttrain loss: 0.6143 \tvalid loss: 0.6831 \ttrain accuracy 0.7808 \tvalid accuracy 0.7572\n",
      "Model saved to: model.pth\n",
      "epoch: 24 \tstep: 50 / 144 \ttrain loss: 0.4590 \ttrain accuracy: 0.8438 \ttime: 0.5995 s\n",
      "epoch: 24 \tstep: 100 / 144 \ttrain loss: 0.6746 \ttrain accuracy: 0.7422 \ttime: 0.7813 s\n"
     ]
    },
    {
     "name": "stderr",
     "output_type": "stream",
     "text": [
      "100%|██████████████████████████████████████████████████████████████████████████████████| 12/12 [00:00<00:00, 54.80it/s]\n"
     ]
    },
    {
     "name": "stdout",
     "output_type": "stream",
     "text": [
      "epoch: 24 / 40 \ttrain loss: 0.6104 \tvalid loss: 0.6814 \ttrain accuracy 0.7810 \tvalid accuracy 0.7611\n",
      "Model saved to: model.pth\n",
      "epoch: 25 \tstep: 50 / 144 \ttrain loss: 0.6075 \ttrain accuracy: 0.7578 \ttime: 1.3519 s\n",
      "epoch: 25 \tstep: 100 / 144 \ttrain loss: 0.7514 \ttrain accuracy: 0.7422 \ttime: 0.7000 s\n"
     ]
    },
    {
     "name": "stderr",
     "output_type": "stream",
     "text": [
      "100%|██████████████████████████████████████████████████████████████████████████████████| 12/12 [00:00<00:00, 50.96it/s]\n"
     ]
    },
    {
     "name": "stdout",
     "output_type": "stream",
     "text": [
      "epoch: 25 / 40 \ttrain loss: 0.6103 \tvalid loss: 0.6797 \ttrain accuracy 0.7817 \tvalid accuracy 0.7604\n",
      "Model saved to: model.pth\n",
      "epoch: 26 \tstep: 50 / 144 \ttrain loss: 0.6174 \ttrain accuracy: 0.7656 \ttime: 0.7000 s\n",
      "epoch: 26 \tstep: 100 / 144 \ttrain loss: 0.6453 \ttrain accuracy: 0.7812 \ttime: 0.7818 s\n"
     ]
    },
    {
     "name": "stderr",
     "output_type": "stream",
     "text": [
      "100%|██████████████████████████████████████████████████████████████████████████████████| 12/12 [00:00<00:00, 54.84it/s]\n"
     ]
    },
    {
     "name": "stdout",
     "output_type": "stream",
     "text": [
      "epoch: 26 / 40 \ttrain loss: 0.6055 \tvalid loss: 0.6789 \ttrain accuracy 0.7852 \tvalid accuracy 0.7630\n",
      "Model saved to: model.pth\n",
      "epoch: 27 \tstep: 50 / 144 \ttrain loss: 0.6385 \ttrain accuracy: 0.7578 \ttime: 0.6964 s\n",
      "epoch: 27 \tstep: 100 / 144 \ttrain loss: 0.5261 \ttrain accuracy: 0.7891 \ttime: 0.8159 s\n"
     ]
    },
    {
     "name": "stderr",
     "output_type": "stream",
     "text": [
      "100%|██████████████████████████████████████████████████████████████████████████████████| 12/12 [00:00<00:00, 52.75it/s]\n"
     ]
    },
    {
     "name": "stdout",
     "output_type": "stream",
     "text": [
      "epoch: 27 / 40 \ttrain loss: 0.5986 \tvalid loss: 0.6782 \ttrain accuracy 0.7846 \tvalid accuracy 0.7630\n",
      "Model saved to: model.pth\n",
      "epoch: 28 \tstep: 50 / 144 \ttrain loss: 0.5287 \ttrain accuracy: 0.8047 \ttime: 1.0883 s\n",
      "epoch: 28 \tstep: 100 / 144 \ttrain loss: 0.6483 \ttrain accuracy: 0.7500 \ttime: 0.7817 s\n"
     ]
    },
    {
     "name": "stderr",
     "output_type": "stream",
     "text": [
      "100%|██████████████████████████████████████████████████████████████████████████████████| 12/12 [00:00<00:00, 49.43it/s]\n"
     ]
    },
    {
     "name": "stdout",
     "output_type": "stream",
     "text": [
      "epoch: 28 / 40 \ttrain loss: 0.5963 \tvalid loss: 0.6781 \ttrain accuracy 0.7870 \tvalid accuracy 0.7650\n",
      "Model saved to: model.pth\n",
      "epoch: 29 \tstep: 50 / 144 \ttrain loss: 0.6336 \ttrain accuracy: 0.7969 \ttime: 0.6493 s\n",
      "epoch: 29 \tstep: 100 / 144 \ttrain loss: 0.6146 \ttrain accuracy: 0.7344 \ttime: 0.6495 s\n"
     ]
    },
    {
     "name": "stderr",
     "output_type": "stream",
     "text": [
      "100%|██████████████████████████████████████████████████████████████████████████████████| 12/12 [00:00<00:00, 50.57it/s]\n"
     ]
    },
    {
     "name": "stdout",
     "output_type": "stream",
     "text": [
      "epoch: 29 / 40 \ttrain loss: 0.5872 \tvalid loss: 0.6770 \ttrain accuracy 0.7882 \tvalid accuracy 0.7656\n",
      "Model saved to: model.pth\n",
      "epoch: 30 \tstep: 50 / 144 \ttrain loss: 0.6626 \ttrain accuracy: 0.7578 \ttime: 0.7812 s\n",
      "epoch: 30 \tstep: 100 / 144 \ttrain loss: 0.5581 \ttrain accuracy: 0.8047 \ttime: 1.3902 s\n"
     ]
    },
    {
     "name": "stderr",
     "output_type": "stream",
     "text": [
      "100%|██████████████████████████████████████████████████████████████████████████████████| 12/12 [00:00<00:00, 49.96it/s]\n"
     ]
    },
    {
     "name": "stdout",
     "output_type": "stream",
     "text": [
      "epoch: 30 / 40 \ttrain loss: 0.5891 \tvalid loss: 0.6753 \ttrain accuracy 0.7880 \tvalid accuracy 0.7650\n",
      "Model saved to: model.pth\n",
      "epoch: 31 \tstep: 50 / 144 \ttrain loss: 0.6070 \ttrain accuracy: 0.7656 \ttime: 0.6499 s\n",
      "epoch: 31 \tstep: 100 / 144 \ttrain loss: 0.4218 \ttrain accuracy: 0.8672 \ttime: 0.4550 s\n"
     ]
    },
    {
     "name": "stderr",
     "output_type": "stream",
     "text": [
      "100%|██████████████████████████████████████████████████████████████████████████████████| 12/12 [00:00<00:00, 55.46it/s]\n"
     ]
    },
    {
     "name": "stdout",
     "output_type": "stream",
     "text": [
      "epoch: 31 / 40 \ttrain loss: 0.5817 \tvalid loss: 0.6734 \ttrain accuracy 0.7921 \tvalid accuracy 0.7689\n",
      "Model saved to: model.pth\n",
      "epoch: 32 \tstep: 50 / 144 \ttrain loss: 0.5114 \ttrain accuracy: 0.8281 \ttime: 0.7819 s\n",
      "epoch: 32 \tstep: 100 / 144 \ttrain loss: 0.5336 \ttrain accuracy: 0.8125 \ttime: 0.6000 s\n"
     ]
    },
    {
     "name": "stderr",
     "output_type": "stream",
     "text": [
      "100%|██████████████████████████████████████████████████████████████████████████████████| 12/12 [00:00<00:00, 52.16it/s]\n"
     ]
    },
    {
     "name": "stdout",
     "output_type": "stream",
     "text": [
      "epoch: 32 / 40 \ttrain loss: 0.5788 \tvalid loss: 0.6733 \ttrain accuracy 0.7928 \tvalid accuracy 0.7702\n",
      "Model saved to: model.pth\n",
      "epoch: 33 \tstep: 50 / 144 \ttrain loss: 0.6083 \ttrain accuracy: 0.7969 \ttime: 0.7813 s\n",
      "epoch: 33 \tstep: 100 / 144 \ttrain loss: 0.5207 \ttrain accuracy: 0.8047 \ttime: 0.5500 s\n"
     ]
    },
    {
     "name": "stderr",
     "output_type": "stream",
     "text": [
      "100%|██████████████████████████████████████████████████████████████████████████████████| 12/12 [00:00<00:00, 55.07it/s]\n"
     ]
    },
    {
     "name": "stdout",
     "output_type": "stream",
     "text": [
      "epoch: 33 / 40 \ttrain loss: 0.5751 \tvalid loss: 0.6727 \ttrain accuracy 0.7944 \tvalid accuracy 0.7682\n",
      "Model saved to: model.pth\n",
      "epoch: 34 \tstep: 50 / 144 \ttrain loss: 0.5718 \ttrain accuracy: 0.8125 \ttime: 1.3908 s\n",
      "epoch: 34 \tstep: 100 / 144 \ttrain loss: 0.5002 \ttrain accuracy: 0.8359 \ttime: 0.5083 s\n"
     ]
    },
    {
     "name": "stderr",
     "output_type": "stream",
     "text": [
      "100%|██████████████████████████████████████████████████████████████████████████████████| 12/12 [00:00<00:00, 55.90it/s]\n"
     ]
    },
    {
     "name": "stdout",
     "output_type": "stream",
     "text": [
      "epoch: 34 / 40 \ttrain loss: 0.5682 \tvalid loss: 0.6741 \ttrain accuracy 0.7989 \tvalid accuracy 0.7689\n",
      "INFO: Early stopping counter 1 of 4\n",
      "epoch: 35 \tstep: 50 / 144 \ttrain loss: 0.4847 \ttrain accuracy: 0.8438 \ttime: 0.5003 s\n",
      "epoch: 35 \tstep: 100 / 144 \ttrain loss: 0.5150 \ttrain accuracy: 0.8047 \ttime: 1.0377 s\n"
     ]
    },
    {
     "name": "stderr",
     "output_type": "stream",
     "text": [
      "100%|██████████████████████████████████████████████████████████████████████████████████| 12/12 [00:00<00:00, 54.49it/s]\n"
     ]
    },
    {
     "name": "stdout",
     "output_type": "stream",
     "text": [
      "epoch: 35 / 40 \ttrain loss: 0.5669 \tvalid loss: 0.6751 \ttrain accuracy 0.7973 \tvalid accuracy 0.7682\n",
      "INFO: Early stopping counter 2 of 4\n",
      "epoch: 36 \tstep: 50 / 144 \ttrain loss: 0.4919 \ttrain accuracy: 0.8203 \ttime: 0.7846 s\n",
      "epoch: 36 \tstep: 100 / 144 \ttrain loss: 0.5656 \ttrain accuracy: 0.7891 \ttime: 0.1044 s\n"
     ]
    },
    {
     "name": "stderr",
     "output_type": "stream",
     "text": [
      "100%|██████████████████████████████████████████████████████████████████████████████████| 12/12 [00:00<00:00, 53.62it/s]\n"
     ]
    },
    {
     "name": "stdout",
     "output_type": "stream",
     "text": [
      "epoch: 36 / 40 \ttrain loss: 0.5625 \tvalid loss: 0.6765 \ttrain accuracy 0.7996 \tvalid accuracy 0.7695\n",
      "INFO: Early stopping counter 3 of 4\n",
      "epoch: 37 \tstep: 50 / 144 \ttrain loss: 0.6015 \ttrain accuracy: 0.7734 \ttime: 0.7496 s\n",
      "epoch: 37 \tstep: 100 / 144 \ttrain loss: 0.4601 \ttrain accuracy: 0.8438 \ttime: 1.1117 s\n"
     ]
    },
    {
     "name": "stderr",
     "output_type": "stream",
     "text": [
      "100%|██████████████████████████████████████████████████████████████████████████████████| 12/12 [00:00<00:00, 56.39it/s]\n"
     ]
    },
    {
     "name": "stdout",
     "output_type": "stream",
     "text": [
      "epoch: 37 / 40 \ttrain loss: 0.5610 \tvalid loss: 0.6735 \ttrain accuracy 0.7993 \tvalid accuracy 0.7656\n",
      "INFO: Early stopping counter 4 of 4\n",
      "INFO: Early stopping\n"
     ]
    },
    {
     "name": "stderr",
     "output_type": "stream",
     "text": [
      "100%|████████████████████████████████████████████████████████████████████████████████████| 8/8 [00:00<00:00, 89.46it/s]"
     ]
    },
    {
     "name": "stdout",
     "output_type": "stream",
     "text": [
      "\ttest loss: 0.6032 \ttest accuracy 0.7763\n"
     ]
    },
    {
     "name": "stderr",
     "output_type": "stream",
     "text": [
      "\n"
     ]
    }
   ],
   "source": [
    "run(model)"
   ]
  },
  {
   "cell_type": "markdown",
   "id": "a164877d",
   "metadata": {},
   "source": [
    "**LSTM + CNN**"
   ]
  },
  {
   "cell_type": "code",
   "execution_count": 34,
   "id": "337d6745",
   "metadata": {},
   "outputs": [],
   "source": [
    "class ResidualBlock(nn.Module):\n",
    "    def __init__(self, in_channels, out_channels, stride=1, dropout=0.1):\n",
    "        super(ResidualBlock, self).__init__()\n",
    "        self.activation = nn.ReLU()\n",
    "        self.layer1 = nn.Sequential(\n",
    "                            nn.Conv1d(in_channels, out_channels, kernel_size=1, stride=stride, padding=0),\n",
    "                            nn.BatchNorm1d(out_channels),\n",
    "                            nn.ReLU()\n",
    "                )\n",
    "        self.layer2 = nn.Sequential(\n",
    "                            nn.Conv1d(out_channels, out_channels, kernel_size=3, stride=1, padding=1),\n",
    "                            nn.BatchNorm1d(out_channels)\n",
    "                )\n",
    "        if in_channels != out_channels or stride != 1:\n",
    "            self.downsample = nn.Sequential(\n",
    "                                    nn.Conv1d(in_channels, out_channels, kernel_size=1, stride=stride, padding=0),\n",
    "                                    nn.BatchNorm1d(out_channels),\n",
    "                    )\n",
    "        else:\n",
    "            self.downsample = None\n",
    "        self.dropout = nn.Dropout(p=dropout)\n",
    "            \n",
    "    def forward(self, x):\n",
    "        residual = x\n",
    "        x = self.layer1(x)\n",
    "        x = self.layer2(x)\n",
    "        if self.downsample is not None:\n",
    "            residual = self.downsample(residual)\n",
    "        x = x + residual\n",
    "        x = self.activation(x)\n",
    "        x = self.dropout(x)\n",
    "\n",
    "        return x\n",
    "\n",
    "class BiLSTM(nn.Module):\n",
    "    def __init__(self, hidden_dim, vocab_size, num_classes=5, dropout=0.1, num_layers=2, **kwargs):\n",
    "        super(BiLSTM, self).__init__(**kwargs)\n",
    "        self.embedding = nn.Embedding(vocab_size, hidden_dim)\n",
    "        self.lstm = nn.LSTM(input_size=hidden_dim, \n",
    "                            hidden_size=hidden_dim, \n",
    "                            num_layers=num_layers, \n",
    "                            batch_first=True,\n",
    "                            dropout=dropout,\n",
    "                            bidirectional=True)\n",
    "        layers = []\n",
    "        in_channels = hidden_dim * 2\n",
    "        out_channels = hidden_dim\n",
    "        for _ in range(2):\n",
    "            layers.extend([\n",
    "                    ResidualBlock(in_channels, in_channels, stride=1, dropout=dropout),\n",
    "                    ResidualBlock(in_channels, out_channels, stride=2, dropout=dropout), \n",
    "                ])\n",
    "            in_channels = out_channels \n",
    "            out_channels //= 2\n",
    "        self.residuals = nn.Sequential(*layers)\n",
    "        \n",
    "        self.dropout = nn.Dropout(p=dropout)\n",
    "        self.fc_mid = nn.Linear(hidden_dim*8, hidden_dim*2)\n",
    "        self.fc_out = nn.Linear(hidden_dim*2, num_classes)\n",
    "\n",
    "    def forward(self, x):\n",
    "        batch_size = x.size(0)\n",
    "        x = self.embedding(x)\n",
    "                \n",
    "        x, _ = self.lstm(x)\n",
    "\n",
    "        x = x.contiguous().transpose(1,2)  # permute channels and features\n",
    "        x = self.residuals(x)\n",
    "        x = x.contiguous().view(batch_size, -1)\n",
    "\n",
    "        x = F.relu(self.fc_mid(self.dropout(x)))\n",
    "\n",
    "        x = self.fc_out(x)\n",
    "        return x"
   ]
  },
  {
   "cell_type": "code",
   "execution_count": 35,
   "id": "be8f0d1b",
   "metadata": {},
   "outputs": [],
   "source": [
    "model = BiLSTM(hidden_dim=64, vocab_size=len(vocabulary), dropout=0.3, num_layers=1).to(device)\n",
    "\n",
    "criterion = nn.CrossEntropyLoss()\n",
    "\n",
    "optimizer = torch.optim.AdamW(model.parameters(), lr=0.0001, weight_decay=0.00005)\n",
    "\n",
    "scheduler = torch.optim.lr_scheduler.ReduceLROnPlateau(optimizer, patience=2, min_lr=1e-7, factor=0.5)\n",
    "stopper = EarlyStopping(patience=4)"
   ]
  },
  {
   "cell_type": "code",
   "execution_count": 36,
   "id": "64cca5bf",
   "metadata": {
    "scrolled": false
   },
   "outputs": [
    {
     "name": "stdout",
     "output_type": "stream",
     "text": [
      "epoch: 1 \tstep: 50 / 144 \ttrain loss: 0.8526 \ttrain accuracy: 0.7266 \ttime: 0.8079 s\n",
      "epoch: 1 \tstep: 100 / 144 \ttrain loss: 0.8425 \ttrain accuracy: 0.7422 \ttime: 0.3592 s\n"
     ]
    },
    {
     "name": "stderr",
     "output_type": "stream",
     "text": [
      "100%|██████████████████████████████████████████████████████████████████████████████████| 12/12 [00:00<00:00, 56.79it/s]\n"
     ]
    },
    {
     "name": "stdout",
     "output_type": "stream",
     "text": [
      "epoch: 1 / 40 \ttrain loss: 0.9541 \tvalid loss: 0.8449 \ttrain accuracy 0.6985 \tvalid accuracy 0.7018\n",
      "epoch: 2 \tstep: 50 / 144 \ttrain loss: 0.9036 \ttrain accuracy: 0.6953 \ttime: 1.3154 s\n",
      "epoch: 2 \tstep: 100 / 144 \ttrain loss: 0.9178 \ttrain accuracy: 0.6875 \ttime: 0.7820 s\n"
     ]
    },
    {
     "name": "stderr",
     "output_type": "stream",
     "text": [
      "100%|██████████████████████████████████████████████████████████████████████████████████| 12/12 [00:00<00:00, 63.07it/s]\n"
     ]
    },
    {
     "name": "stdout",
     "output_type": "stream",
     "text": [
      "epoch: 2 / 40 \ttrain loss: 0.8075 \tvalid loss: 0.7792 \ttrain accuracy 0.7244 \tvalid accuracy 0.7096\n",
      "Model saved to: model.pth\n",
      "epoch: 3 \tstep: 50 / 144 \ttrain loss: 0.8066 \ttrain accuracy: 0.7344 \ttime: 0.7843 s\n",
      "epoch: 3 \tstep: 100 / 144 \ttrain loss: 0.8973 \ttrain accuracy: 0.6484 \ttime: 0.9040 s\n"
     ]
    },
    {
     "name": "stderr",
     "output_type": "stream",
     "text": [
      "100%|██████████████████████████████████████████████████████████████████████████████████| 12/12 [00:00<00:00, 58.52it/s]\n"
     ]
    },
    {
     "name": "stdout",
     "output_type": "stream",
     "text": [
      "epoch: 3 / 40 \ttrain loss: 0.7628 \tvalid loss: 0.7580 \ttrain accuracy 0.7329 \tvalid accuracy 0.7246\n",
      "Model saved to: model.pth\n",
      "epoch: 4 \tstep: 50 / 144 \ttrain loss: 0.7054 \ttrain accuracy: 0.7500 \ttime: 0.8516 s\n",
      "epoch: 4 \tstep: 100 / 144 \ttrain loss: 0.8441 \ttrain accuracy: 0.7188 \ttime: 0.9502 s\n"
     ]
    },
    {
     "name": "stderr",
     "output_type": "stream",
     "text": [
      "100%|██████████████████████████████████████████████████████████████████████████████████| 12/12 [00:00<00:00, 52.63it/s]\n"
     ]
    },
    {
     "name": "stdout",
     "output_type": "stream",
     "text": [
      "epoch: 4 / 40 \ttrain loss: 0.7381 \tvalid loss: 0.7414 \ttrain accuracy 0.7377 \tvalid accuracy 0.7305\n",
      "Model saved to: model.pth\n",
      "epoch: 5 \tstep: 50 / 144 \ttrain loss: 0.6581 \ttrain accuracy: 0.7500 \ttime: 0.5920 s\n",
      "epoch: 5 \tstep: 100 / 144 \ttrain loss: 0.6496 \ttrain accuracy: 0.7344 \ttime: 0.7815 s\n"
     ]
    },
    {
     "name": "stderr",
     "output_type": "stream",
     "text": [
      "100%|██████████████████████████████████████████████████████████████████████████████████| 12/12 [00:00<00:00, 60.09it/s]\n"
     ]
    },
    {
     "name": "stdout",
     "output_type": "stream",
     "text": [
      "epoch: 5 / 40 \ttrain loss: 0.7189 \tvalid loss: 0.7381 \ttrain accuracy 0.7441 \tvalid accuracy 0.7344\n",
      "Model saved to: model.pth\n",
      "epoch: 6 \tstep: 50 / 144 \ttrain loss: 0.8276 \ttrain accuracy: 0.6719 \ttime: 1.0006 s\n",
      "epoch: 6 \tstep: 100 / 144 \ttrain loss: 0.6422 \ttrain accuracy: 0.7500 \ttime: 1.4953 s\n"
     ]
    },
    {
     "name": "stderr",
     "output_type": "stream",
     "text": [
      "100%|██████████████████████████████████████████████████████████████████████████████████| 12/12 [00:00<00:00, 62.21it/s]\n"
     ]
    },
    {
     "name": "stdout",
     "output_type": "stream",
     "text": [
      "epoch: 6 / 40 \ttrain loss: 0.7086 \tvalid loss: 0.7317 \ttrain accuracy 0.7476 \tvalid accuracy 0.7357\n",
      "Model saved to: model.pth\n",
      "epoch: 7 \tstep: 50 / 144 \ttrain loss: 0.7947 \ttrain accuracy: 0.7578 \ttime: 1.1913 s\n",
      "epoch: 7 \tstep: 100 / 144 \ttrain loss: 0.6735 \ttrain accuracy: 0.7734 \ttime: 1.5656 s\n"
     ]
    },
    {
     "name": "stderr",
     "output_type": "stream",
     "text": [
      "100%|██████████████████████████████████████████████████████████████████████████████████| 12/12 [00:00<00:00, 62.95it/s]\n"
     ]
    },
    {
     "name": "stdout",
     "output_type": "stream",
     "text": [
      "epoch: 7 / 40 \ttrain loss: 0.6967 \tvalid loss: 0.7590 \ttrain accuracy 0.7527 \tvalid accuracy 0.7272\n",
      "INFO: Early stopping counter 1 of 4\n",
      "epoch: 8 \tstep: 50 / 144 \ttrain loss: 0.6467 \ttrain accuracy: 0.7656 \ttime: 0.5048 s\n",
      "epoch: 8 \tstep: 100 / 144 \ttrain loss: 0.6791 \ttrain accuracy: 0.7344 \ttime: 0.7779 s\n"
     ]
    },
    {
     "name": "stderr",
     "output_type": "stream",
     "text": [
      "100%|██████████████████████████████████████████████████████████████████████████████████| 12/12 [00:00<00:00, 60.35it/s]\n"
     ]
    },
    {
     "name": "stdout",
     "output_type": "stream",
     "text": [
      "epoch: 8 / 40 \ttrain loss: 0.6851 \tvalid loss: 0.7214 \ttrain accuracy 0.7590 \tvalid accuracy 0.7389\n",
      "Model saved to: model.pth\n",
      "epoch: 9 \tstep: 50 / 144 \ttrain loss: 0.7074 \ttrain accuracy: 0.7344 \ttime: 0.7837 s\n",
      "epoch: 9 \tstep: 100 / 144 \ttrain loss: 0.7954 \ttrain accuracy: 0.7109 \ttime: 0.3039 s\n"
     ]
    },
    {
     "name": "stderr",
     "output_type": "stream",
     "text": [
      "100%|██████████████████████████████████████████████████████████████████████████████████| 12/12 [00:00<00:00, 57.85it/s]\n"
     ]
    },
    {
     "name": "stdout",
     "output_type": "stream",
     "text": [
      "epoch: 9 / 40 \ttrain loss: 0.6788 \tvalid loss: 0.7182 \ttrain accuracy 0.7612 \tvalid accuracy 0.7415\n",
      "Model saved to: model.pth\n",
      "epoch: 10 \tstep: 50 / 144 \ttrain loss: 0.7768 \ttrain accuracy: 0.7031 \ttime: 1.2012 s\n",
      "epoch: 10 \tstep: 100 / 144 \ttrain loss: 0.7798 \ttrain accuracy: 0.7500 \ttime: 0.9150 s\n"
     ]
    },
    {
     "name": "stderr",
     "output_type": "stream",
     "text": [
      "100%|██████████████████████████████████████████████████████████████████████████████████| 12/12 [00:00<00:00, 57.83it/s]\n"
     ]
    },
    {
     "name": "stdout",
     "output_type": "stream",
     "text": [
      "epoch: 10 / 40 \ttrain loss: 0.6707 \tvalid loss: 0.7262 \ttrain accuracy 0.7642 \tvalid accuracy 0.7409\n",
      "INFO: Early stopping counter 1 of 4\n",
      "epoch: 11 \tstep: 50 / 144 \ttrain loss: 0.5070 \ttrain accuracy: 0.8359 \ttime: 0.9475 s\n",
      "epoch: 11 \tstep: 100 / 144 \ttrain loss: 0.6451 \ttrain accuracy: 0.7656 \ttime: 0.7774 s\n"
     ]
    },
    {
     "name": "stderr",
     "output_type": "stream",
     "text": [
      "100%|██████████████████████████████████████████████████████████████████████████████████| 12/12 [00:00<00:00, 57.71it/s]\n"
     ]
    },
    {
     "name": "stdout",
     "output_type": "stream",
     "text": [
      "epoch: 11 / 40 \ttrain loss: 0.6577 \tvalid loss: 0.7213 \ttrain accuracy 0.7673 \tvalid accuracy 0.7428\n",
      "INFO: Early stopping counter 2 of 4\n",
      "epoch: 12 \tstep: 50 / 144 \ttrain loss: 0.7473 \ttrain accuracy: 0.7266 \ttime: 0.7786 s\n",
      "epoch: 12 \tstep: 100 / 144 \ttrain loss: 0.6547 \ttrain accuracy: 0.7812 \ttime: 0.9000 s\n"
     ]
    },
    {
     "name": "stderr",
     "output_type": "stream",
     "text": [
      "100%|██████████████████████████████████████████████████████████████████████████████████| 12/12 [00:00<00:00, 54.08it/s]\n"
     ]
    },
    {
     "name": "stdout",
     "output_type": "stream",
     "text": [
      "epoch: 12 / 40 \ttrain loss: 0.6524 \tvalid loss: 0.7148 \ttrain accuracy 0.7697 \tvalid accuracy 0.7467\n",
      "Model saved to: model.pth\n",
      "epoch: 13 \tstep: 50 / 144 \ttrain loss: 0.5638 \ttrain accuracy: 0.8125 \ttime: 0.9153 s\n",
      "epoch: 13 \tstep: 100 / 144 \ttrain loss: 0.6506 \ttrain accuracy: 0.7656 \ttime: 0.8484 s\n"
     ]
    },
    {
     "name": "stderr",
     "output_type": "stream",
     "text": [
      "100%|██████████████████████████████████████████████████████████████████████████████████| 12/12 [00:00<00:00, 59.94it/s]\n"
     ]
    },
    {
     "name": "stdout",
     "output_type": "stream",
     "text": [
      "epoch: 13 / 40 \ttrain loss: 0.6421 \tvalid loss: 0.7328 \ttrain accuracy 0.7740 \tvalid accuracy 0.7370\n",
      "INFO: Early stopping counter 1 of 4\n",
      "epoch: 14 \tstep: 50 / 144 \ttrain loss: 0.5944 \ttrain accuracy: 0.7891 \ttime: 0.8501 s\n",
      "epoch: 14 \tstep: 100 / 144 \ttrain loss: 0.7009 \ttrain accuracy: 0.7109 \ttime: 1.2408 s\n"
     ]
    },
    {
     "name": "stderr",
     "output_type": "stream",
     "text": [
      "100%|██████████████████████████████████████████████████████████████████████████████████| 12/12 [00:00<00:00, 58.17it/s]\n"
     ]
    },
    {
     "name": "stdout",
     "output_type": "stream",
     "text": [
      "epoch: 14 / 40 \ttrain loss: 0.6326 \tvalid loss: 0.7179 \ttrain accuracy 0.7757 \tvalid accuracy 0.7454\n",
      "INFO: Early stopping counter 2 of 4\n",
      "epoch: 15 \tstep: 50 / 144 \ttrain loss: 0.5583 \ttrain accuracy: 0.7812 \ttime: 1.3419 s\n",
      "epoch: 15 \tstep: 100 / 144 \ttrain loss: 0.6542 \ttrain accuracy: 0.7500 \ttime: 0.4079 s\n"
     ]
    },
    {
     "name": "stderr",
     "output_type": "stream",
     "text": [
      "100%|██████████████████████████████████████████████████████████████████████████████████| 12/12 [00:00<00:00, 58.97it/s]\n"
     ]
    },
    {
     "name": "stdout",
     "output_type": "stream",
     "text": [
      "epoch: 15 / 40 \ttrain loss: 0.6274 \tvalid loss: 0.7551 \ttrain accuracy 0.7771 \tvalid accuracy 0.7402\n",
      "INFO: Early stopping counter 3 of 4\n",
      "epoch: 16 \tstep: 50 / 144 \ttrain loss: 0.6215 \ttrain accuracy: 0.7734 \ttime: 0.7837 s\n",
      "epoch: 16 \tstep: 100 / 144 \ttrain loss: 0.5387 \ttrain accuracy: 0.7969 \ttime: 0.3546 s\n"
     ]
    },
    {
     "name": "stderr",
     "output_type": "stream",
     "text": [
      "100%|██████████████████████████████████████████████████████████████████████████████████| 12/12 [00:00<00:00, 55.98it/s]\n"
     ]
    },
    {
     "name": "stdout",
     "output_type": "stream",
     "text": [
      "epoch: 16 / 40 \ttrain loss: 0.6181 \tvalid loss: 0.7278 \ttrain accuracy 0.7788 \tvalid accuracy 0.7461\n",
      "INFO: Early stopping counter 4 of 4\n",
      "INFO: Early stopping\n"
     ]
    },
    {
     "name": "stderr",
     "output_type": "stream",
     "text": [
      "100%|████████████████████████████████████████████████████████████████████████████████████| 8/8 [00:00<00:00, 14.18it/s]"
     ]
    },
    {
     "name": "stdout",
     "output_type": "stream",
     "text": [
      "\ttest loss: 0.6416 \ttest accuracy 0.7647\n"
     ]
    },
    {
     "name": "stderr",
     "output_type": "stream",
     "text": [
      "\n"
     ]
    }
   ],
   "source": [
    "run(model)"
   ]
  },
  {
   "cell_type": "markdown",
   "id": "a2e03065",
   "metadata": {},
   "source": [
    "**Transformer Encoder + positional encoding**"
   ]
  },
  {
   "cell_type": "code",
   "execution_count": 56,
   "id": "7e90726d",
   "metadata": {},
   "outputs": [],
   "source": [
    "def tensor_transform(token_ids, drop_specials=False):\n",
    "    if drop_specials:\n",
    "        return torch.tensor(token_ids)\n",
    "    return torch.cat((torch.tensor([BOS_IDX]),\n",
    "                      torch.tensor(token_ids),\n",
    "                      torch.tensor([EOS_IDX])))\n",
    "\n",
    "def validate_one_batch(data, model, criterion):\n",
    "    model.eval()\n",
    "    texts, labels = data\n",
    "    \n",
    "    out = model(texts)\n",
    "    loss = criterion(out, labels)\n",
    "    \n",
    "    accuracy = calc_accuracy(out, labels)\n",
    "    \n",
    "    return loss.item(), accuracy.item()\n",
    "\n",
    "text_transform = sequential_transforms(token_transform,\n",
    "                                       vocabulary,\n",
    "                                       tensor_transform)\n",
    "\n",
    "train_ds = TextDataset(train)\n",
    "valid_ds = TextDataset(valid)\n",
    "test_ds = TextDataset(test)\n",
    "\n",
    "train_dataloader = DataLoader(train_ds, batch_size=128, shuffle=True, collate_fn=train_ds.collate_fn)\n",
    "valid_dataloader = DataLoader(valid_ds, batch_size=128, collate_fn=valid_ds.collate_fn)\n",
    "test_dataloader = DataLoader(test_ds, batch_size=64, collate_fn=test_ds.collate_fn)"
   ]
  },
  {
   "cell_type": "code",
   "execution_count": 57,
   "id": "56d3d027",
   "metadata": {},
   "outputs": [],
   "source": [
    "class PositionalEncoding(nn.Module): \n",
    "    def __init__(self, d_model, dropout=0.1, max_len=500):  # max_len = max batch\n",
    "        super(PositionalEncoding, self).__init__()\n",
    "        self.dropout = nn.Dropout(p=dropout)\n",
    "        self.scale = nn.Parameter(torch.ones(1))\n",
    "\n",
    "        pe = torch.zeros(max_len, d_model)\n",
    "        position = torch.arange(0, max_len, dtype=torch.float).unsqueeze(1)\n",
    "        div_term = torch.exp(torch.arange(0, d_model, 2).float() * (-np.log(10000.0) / d_model))\n",
    "        pe[:, 0::2] = torch.sin(position * div_term)\n",
    "        pe[:, 1::2] = torch.cos(position * div_term)\n",
    "        pe = pe.unsqueeze(0).transpose(0, 1)\n",
    "        self.register_buffer('pe', pe)\n",
    "\n",
    "    def forward(self, x):\n",
    "        x = x + self.scale * self.pe[:x.size(0), :]  # [B,seq_len,hidden] + s*[B,1,hidden] = every sentence is encoded similar\n",
    "        return self.dropout(x)\n",
    "    \n",
    "    \n",
    "class TokenEmbedding(nn.Module):\n",
    "    def __init__(self, vocab_size: int, emb_size):\n",
    "        super(TokenEmbedding, self).__init__()\n",
    "        self.embedding = nn.Embedding(vocab_size, emb_size)\n",
    "        self.emb_size = emb_size\n",
    "\n",
    "    def forward(self, tokens):\n",
    "        return self.embedding(tokens.long()) * np.sqrt(self.emb_size)\n",
    "    \n",
    "    \n",
    "class MLP(nn.Module):\n",
    "    def __init__(self, dim, dropout, relu=False):\n",
    "        super(MLP, self).__init__()\n",
    "        self.dim = dim\n",
    "        self.dropout = nn.Dropout(p=dropout)\n",
    "        self.fc1 = nn.Linear(dim, dim//2)\n",
    "        self.fc2 = nn.Linear(dim//2, dim//4)\n",
    "        self.relu = nn.ReLU() if relu else nn.GELU()\n",
    "\n",
    "    def forward(self, x):\n",
    "        x = self.relu(self.fc1(x))\n",
    "        x = self.dropout(x)\n",
    "        x = self.relu(self.fc2(x))\n",
    "        return x\n",
    "    \n",
    "    \n",
    "class TransformerModel(nn.Module):\n",
    "    def __init__(self, vocab_size, hidden, num_classes=5, enc_layers=2, nhead=4, dropout=0.1):\n",
    "        super(TransformerModel, self).__init__()\n",
    "        \n",
    "        self.embedding = TokenEmbedding(vocab_size, hidden)\n",
    "        self.pos_encoder = PositionalEncoding(hidden, dropout)\n",
    "        \n",
    "        encoder_layer = nn.TransformerEncoderLayer(hidden,\n",
    "                                                   nhead=nhead, \n",
    "                                                   dim_feedforward=hidden*4, \n",
    "                                                   dropout=dropout,\n",
    "                                                   activation=nn.ReLU(), \n",
    "                                                   batch_first=True,\n",
    "                                                   norm_first=False)\n",
    "        self.transformer = nn.TransformerEncoder(encoder_layer, num_layers=enc_layers)\n",
    "        \n",
    "        self.mlp = MLP(hidden*hidden, dropout=dropout)\n",
    "        self.fc_out = nn.Linear(hidden*hidden//4, num_classes)\n",
    "        \n",
    "        for p in self.parameters():  # more acceptable for transformer than kaiming\n",
    "            if p.dim() > 1:  # not bias\n",
    "                nn.init.xavier_uniform_(p)\n",
    "        # self.apply(self.init_weights)\n",
    "\n",
    "    def init_weights(self, module):\n",
    "        for m in self.modules():\n",
    "            if isinstance(m, nn.Conv1d):\n",
    "                nn.init.kaiming_normal(m.weight, mode='fan_in')\n",
    "                if m.bias is not None:\n",
    "                    nn.init.constant(m.bias, 0)\n",
    "            elif isinstance(m, nn.BatchNorm1d):\n",
    "                nn.init.constant(m.weight, 1)\n",
    "                nn.init.constant(m.bias, 0)\n",
    "            elif isinstance(m, nn.Linear):\n",
    "                nn.init.kaiming_normal(m.weight, mode='fan_in')\n",
    "                if m.bias is not None:\n",
    "                    nn.init.constant(m.bias, 0) \n",
    "\n",
    "    def make_len_mask(self, inp):\n",
    "        return (inp == PAD_IDX).transpose(0, 1)\n",
    "\n",
    "    def forward(self, x):\n",
    "        pad_mask = self.make_len_mask(x).transpose(0,1)\n",
    "\n",
    "        x = self.embedding(x)\n",
    "        x = self.pos_encoder(x)\n",
    "\n",
    "        output = self.transformer(src=x, src_key_padding_mask=pad_mask)\n",
    "        output = output.view(output.size(0), -1)\n",
    "\n",
    "        output = self.mlp(output)\n",
    "        \n",
    "        output = self.fc_out(output)\n",
    "        \n",
    "        return output"
   ]
  },
  {
   "cell_type": "code",
   "execution_count": 58,
   "id": "a2ce74cb",
   "metadata": {
    "scrolled": false
   },
   "outputs": [],
   "source": [
    "model = TransformerModel(len(vocabulary), hidden=64, num_classes=5, enc_layers=2, nhead=4, dropout=0.3).to(device)\n",
    "\n",
    "criterion = nn.CrossEntropyLoss()\n",
    "\n",
    "optimizer = torch.optim.AdamW(model.parameters(), lr=0.0001, weight_decay=0.00005)\n",
    "\n",
    "scheduler = torch.optim.lr_scheduler.ReduceLROnPlateau(optimizer, patience=2, min_lr=1e-7, factor=0.5)\n",
    "stopper = EarlyStopping(patience=4)"
   ]
  },
  {
   "cell_type": "code",
   "execution_count": 59,
   "id": "dcee24de",
   "metadata": {
    "scrolled": false
   },
   "outputs": [
    {
     "name": "stdout",
     "output_type": "stream",
     "text": [
      "epoch: 1 \tstep: 50 / 143 \ttrain loss: 0.9785 \ttrain accuracy: 0.7188 \ttime: 0.7500 s\n",
      "epoch: 1 \tstep: 100 / 143 \ttrain loss: 1.1090 \ttrain accuracy: 0.6797 \ttime: 0.7817 s\n"
     ]
    },
    {
     "name": "stderr",
     "output_type": "stream",
     "text": [
      "100%|██████████████████████████████████████████████████████████████████████████████████| 12/12 [00:00<00:00, 53.42it/s]\n"
     ]
    },
    {
     "name": "stdout",
     "output_type": "stream",
     "text": [
      "epoch: 1 / 40 \ttrain loss: 1.0473 \tvalid loss: 1.1846 \ttrain accuracy 0.6901 \tvalid accuracy 0.5807\n",
      "epoch: 2 \tstep: 50 / 143 \ttrain loss: 0.9094 \ttrain accuracy: 0.6953 \ttime: 0.0000 s\n",
      "epoch: 2 \tstep: 100 / 143 \ttrain loss: 1.1019 \ttrain accuracy: 0.6406 \ttime: 0.4914 s\n"
     ]
    },
    {
     "name": "stderr",
     "output_type": "stream",
     "text": [
      "100%|██████████████████████████████████████████████████████████████████████████████████| 12/12 [00:00<00:00, 52.51it/s]\n"
     ]
    },
    {
     "name": "stdout",
     "output_type": "stream",
     "text": [
      "epoch: 2 / 40 \ttrain loss: 0.8688 \tvalid loss: 0.8285 \ttrain accuracy 0.7171 \tvalid accuracy 0.7175\n",
      "Model saved to: model.pth\n",
      "epoch: 3 \tstep: 50 / 143 \ttrain loss: 0.6876 \ttrain accuracy: 0.7656 \ttime: 0.7499 s\n",
      "epoch: 3 \tstep: 100 / 143 \ttrain loss: 0.6948 \ttrain accuracy: 0.7344 \ttime: 0.7808 s\n"
     ]
    },
    {
     "name": "stderr",
     "output_type": "stream",
     "text": [
      "100%|██████████████████████████████████████████████████████████████████████████████████| 12/12 [00:00<00:00, 51.19it/s]\n"
     ]
    },
    {
     "name": "stdout",
     "output_type": "stream",
     "text": [
      "epoch: 3 / 40 \ttrain loss: 0.7537 \tvalid loss: 0.7438 \ttrain accuracy 0.7420 \tvalid accuracy 0.7496\n",
      "Model saved to: model.pth\n",
      "epoch: 4 \tstep: 50 / 143 \ttrain loss: 0.6692 \ttrain accuracy: 0.7734 \ttime: 0.3610 s\n",
      "epoch: 4 \tstep: 100 / 143 \ttrain loss: 0.7303 \ttrain accuracy: 0.7344 \ttime: 0.7813 s\n"
     ]
    },
    {
     "name": "stderr",
     "output_type": "stream",
     "text": [
      "100%|██████████████████████████████████████████████████████████████████████████████████| 12/12 [00:00<00:00, 53.56it/s]\n"
     ]
    },
    {
     "name": "stdout",
     "output_type": "stream",
     "text": [
      "epoch: 4 / 40 \ttrain loss: 0.7077 \tvalid loss: 0.7097 \ttrain accuracy 0.7570 \tvalid accuracy 0.7548\n",
      "Model saved to: model.pth\n",
      "epoch: 5 \tstep: 50 / 143 \ttrain loss: 0.7468 \ttrain accuracy: 0.7578 \ttime: 0.7500 s\n",
      "epoch: 5 \tstep: 100 / 143 \ttrain loss: 0.7491 \ttrain accuracy: 0.7188 \ttime: 0.7808 s\n"
     ]
    },
    {
     "name": "stderr",
     "output_type": "stream",
     "text": [
      "100%|██████████████████████████████████████████████████████████████████████████████████| 12/12 [00:00<00:00, 48.64it/s]\n"
     ]
    },
    {
     "name": "stdout",
     "output_type": "stream",
     "text": [
      "epoch: 5 / 40 \ttrain loss: 0.6718 \tvalid loss: 0.7074 \ttrain accuracy 0.7690 \tvalid accuracy 0.7666\n",
      "Model saved to: model.pth\n",
      "epoch: 6 \tstep: 50 / 143 \ttrain loss: 0.5671 \ttrain accuracy: 0.8047 \ttime: 0.7808 s\n",
      "epoch: 6 \tstep: 100 / 143 \ttrain loss: 0.5559 \ttrain accuracy: 0.7891 \ttime: 0.7996 s\n"
     ]
    },
    {
     "name": "stderr",
     "output_type": "stream",
     "text": [
      "100%|██████████████████████████████████████████████████████████████████████████████████| 12/12 [00:00<00:00, 50.06it/s]\n"
     ]
    },
    {
     "name": "stdout",
     "output_type": "stream",
     "text": [
      "epoch: 6 / 40 \ttrain loss: 0.6460 \tvalid loss: 0.7001 \ttrain accuracy 0.7752 \tvalid accuracy 0.7631\n",
      "Model saved to: model.pth\n",
      "epoch: 7 \tstep: 50 / 143 \ttrain loss: 0.6886 \ttrain accuracy: 0.7422 \ttime: 0.0000 s\n",
      "epoch: 7 \tstep: 100 / 143 \ttrain loss: 0.5469 \ttrain accuracy: 0.8047 \ttime: 0.7813 s\n"
     ]
    },
    {
     "name": "stderr",
     "output_type": "stream",
     "text": [
      "100%|██████████████████████████████████████████████████████████████████████████████████| 12/12 [00:00<00:00, 52.20it/s]\n"
     ]
    },
    {
     "name": "stdout",
     "output_type": "stream",
     "text": [
      "epoch: 7 / 40 \ttrain loss: 0.6274 \tvalid loss: 0.7222 \ttrain accuracy 0.7816 \tvalid accuracy 0.7679\n",
      "INFO: Early stopping counter 1 of 4\n",
      "epoch: 8 \tstep: 50 / 143 \ttrain loss: 0.5833 \ttrain accuracy: 0.7812 \ttime: 0.7808 s\n",
      "epoch: 8 \tstep: 100 / 143 \ttrain loss: 0.6313 \ttrain accuracy: 0.8047 \ttime: 0.5120 s\n"
     ]
    },
    {
     "name": "stderr",
     "output_type": "stream",
     "text": [
      "100%|██████████████████████████████████████████████████████████████████████████████████| 12/12 [00:00<00:00, 51.15it/s]\n"
     ]
    },
    {
     "name": "stdout",
     "output_type": "stream",
     "text": [
      "epoch: 8 / 40 \ttrain loss: 0.6049 \tvalid loss: 0.6950 \ttrain accuracy 0.7845 \tvalid accuracy 0.7698\n",
      "Model saved to: model.pth\n",
      "epoch: 9 \tstep: 50 / 143 \ttrain loss: 0.6189 \ttrain accuracy: 0.7656 \ttime: 0.7496 s\n",
      "epoch: 9 \tstep: 100 / 143 \ttrain loss: 0.5623 \ttrain accuracy: 0.8047 \ttime: 0.7808 s\n"
     ]
    },
    {
     "name": "stderr",
     "output_type": "stream",
     "text": [
      "100%|██████████████████████████████████████████████████████████████████████████████████| 12/12 [00:00<00:00, 49.68it/s]\n"
     ]
    },
    {
     "name": "stdout",
     "output_type": "stream",
     "text": [
      "epoch: 9 / 40 \ttrain loss: 0.5831 \tvalid loss: 0.7365 \ttrain accuracy 0.7949 \tvalid accuracy 0.7693\n",
      "INFO: Early stopping counter 1 of 4\n",
      "epoch: 10 \tstep: 50 / 143 \ttrain loss: 0.5946 \ttrain accuracy: 0.7812 \ttime: 0.4592 s\n",
      "epoch: 10 \tstep: 100 / 143 \ttrain loss: 0.6025 \ttrain accuracy: 0.7578 \ttime: 0.6996 s\n"
     ]
    },
    {
     "name": "stderr",
     "output_type": "stream",
     "text": [
      "100%|██████████████████████████████████████████████████████████████████████████████████| 12/12 [00:00<00:00, 51.62it/s]\n"
     ]
    },
    {
     "name": "stdout",
     "output_type": "stream",
     "text": [
      "epoch: 10 / 40 \ttrain loss: 0.5625 \tvalid loss: 0.7421 \ttrain accuracy 0.8008 \tvalid accuracy 0.7633\n",
      "INFO: Early stopping counter 2 of 4\n",
      "epoch: 11 \tstep: 50 / 143 \ttrain loss: 0.6254 \ttrain accuracy: 0.7812 \ttime: 0.6996 s\n",
      "epoch: 11 \tstep: 100 / 143 \ttrain loss: 0.4520 \ttrain accuracy: 0.8438 \ttime: 1.0440 s\n"
     ]
    },
    {
     "name": "stderr",
     "output_type": "stream",
     "text": [
      "100%|██████████████████████████████████████████████████████████████████████████████████| 12/12 [00:00<00:00, 53.17it/s]\n"
     ]
    },
    {
     "name": "stdout",
     "output_type": "stream",
     "text": [
      "epoch: 11 / 40 \ttrain loss: 0.5434 \tvalid loss: 0.7271 \ttrain accuracy 0.8069 \tvalid accuracy 0.7639\n",
      "INFO: Early stopping counter 3 of 4\n",
      "epoch: 12 \tstep: 50 / 143 \ttrain loss: 0.4417 \ttrain accuracy: 0.8281 \ttime: 0.7500 s\n",
      "epoch: 12 \tstep: 100 / 143 \ttrain loss: 0.5487 \ttrain accuracy: 0.8125 \ttime: 0.0606 s\n"
     ]
    },
    {
     "name": "stderr",
     "output_type": "stream",
     "text": [
      "100%|██████████████████████████████████████████████████████████████████████████████████| 12/12 [00:00<00:00, 51.16it/s]\n"
     ]
    },
    {
     "name": "stdout",
     "output_type": "stream",
     "text": [
      "epoch: 12 / 40 \ttrain loss: 0.5242 \tvalid loss: 0.7632 \ttrain accuracy 0.8133 \tvalid accuracy 0.7652\n",
      "INFO: Early stopping counter 4 of 4\n",
      "INFO: Early stopping\n"
     ]
    },
    {
     "name": "stderr",
     "output_type": "stream",
     "text": [
      "100%|████████████████████████████████████████████████████████████████████████████████████| 8/8 [00:00<00:00, 89.37it/s]"
     ]
    },
    {
     "name": "stdout",
     "output_type": "stream",
     "text": [
      "\ttest loss: 0.6823 \ttest accuracy 0.7733\n"
     ]
    },
    {
     "name": "stderr",
     "output_type": "stream",
     "text": [
      "\n"
     ]
    }
   ],
   "source": [
    "run(model)  # test acc 0.7689 without lemmatization: most probably we are loosing context by removing stopwords & add lemms"
   ]
  },
  {
   "cell_type": "markdown",
   "id": "cf729c06",
   "metadata": {},
   "source": [
    "**Transformer & CNN**"
   ]
  },
  {
   "cell_type": "code",
   "execution_count": 60,
   "id": "0341c2f1",
   "metadata": {},
   "outputs": [],
   "source": [
    "class PositionalEncoding(nn.Module): \n",
    "    def __init__(self, d_model, dropout=0.1, max_len=500):  # max_len = max batch\n",
    "        super(PositionalEncoding, self).__init__()\n",
    "        self.dropout = nn.Dropout(p=dropout)\n",
    "        self.scale = nn.Parameter(torch.ones(1))\n",
    "\n",
    "        pe = torch.zeros(max_len, d_model)\n",
    "        position = torch.arange(0, max_len, dtype=torch.float).unsqueeze(1)\n",
    "        div_term = torch.exp(torch.arange(0, d_model, 2).float() * (-np.log(10000.0) / d_model))\n",
    "        pe[:, 0::2] = torch.sin(position * div_term)\n",
    "        pe[:, 1::2] = torch.cos(position * div_term)\n",
    "        pe = pe.unsqueeze(0).transpose(0, 1)\n",
    "        self.register_buffer('pe', pe)\n",
    "\n",
    "    def forward(self, x):\n",
    "        x = x + self.scale * self.pe[:x.size(0), :]\n",
    "        return self.dropout(x)\n",
    "    \n",
    "    \n",
    "class TokenEmbedding(nn.Module):\n",
    "    def __init__(self, vocab_size: int, emb_size):\n",
    "        super(TokenEmbedding, self).__init__()\n",
    "        self.embedding = nn.Embedding(vocab_size, emb_size)\n",
    "        self.emb_size = emb_size\n",
    "\n",
    "    def forward(self, tokens):\n",
    "        return self.embedding(tokens.long()) * np.sqrt(self.emb_size)\n",
    "    \n",
    "    \n",
    "class MLP(nn.Module):\n",
    "    def __init__(self, dim, dropout, relu=False, batchnorm=False, **kwargs):\n",
    "        super(MLP, self).__init__(**kwargs)\n",
    "        self.dim = dim\n",
    "        self.batchnorm = batchnorm\n",
    "        \n",
    "        if batchnorm:\n",
    "            self.batch1 = nn.BatchNorm1d(dim//2)\n",
    "            self.batch2 = nn.BatchNorm1d(dim//4)\n",
    "            \n",
    "        self.dropout = nn.Dropout(p=dropout)\n",
    "        self.fc1 = nn.Linear(dim, dim//2)\n",
    "        \n",
    "        self.fc2 = nn.Linear(dim//2, dim//4)\n",
    "        self.relu = nn.ReLU() if relu else nn.GELU()\n",
    "\n",
    "    def forward(self, x):\n",
    "        x = self.fc1(x)\n",
    "        if self.batchnorm:\n",
    "            x = self.batch1(x)\n",
    "        x = self.relu(x)        \n",
    "        x = self.dropout(x)\n",
    "        x = self.fc2(x)\n",
    "        if self.batchnorm:\n",
    "            x = self.batch2(x)\n",
    "        x = self.relu(x)\n",
    "        return x\n",
    "    \n",
    "\n",
    "class KMaxPool(nn.Module):\n",
    "    def __init__(self, k=\"half\", **kwargs):\n",
    "        super(KMaxPool, self).__init__(**kwargs)\n",
    "        self.k = k\n",
    "        \n",
    "    def forward(self, x):\n",
    "        # x from transformer: batch_size, time_steps, channel\n",
    "        if self.k == \"half\":\n",
    "            time_steps = x.size(1)\n",
    "            self.k = time_steps // 2\n",
    "        k_max, k_argmax = x.topk(self.k, dim=1)\n",
    "        return k_max\n",
    "\n",
    "    \n",
    "class TransformerEncoderLayer(nn.Module):\n",
    "    def __init__(self, d_model, ff_dim, nheads=4, dropout=0.1, mode=\"cnn\", activation=\"relu\", **kwargs):\n",
    "        super(TransformerEncoderLayer, self).__init__(**kwargs)\n",
    "        # scores = softmax(q@k_T / sqrt(d_model), + mask padding) @ v, q,k,v = x for encoder, q=x, k=v=enc_out for decoder x_att\n",
    "        # heads: q,k,v = reshape(batch_size, -1, nheads, d_model//nheads)\n",
    "        self.mha = nn.MultiheadAttention(embed_dim=d_model, num_heads=nheads, dropout=dropout, batch_first=True)\n",
    "        self.dropout = nn.Dropout(p=dropout)\n",
    "        self.ff_net = FFNetwork(in_channels=d_model, hidden=ff_dim, mode=mode, dropout=dropout, activation=activation)\n",
    "        self.norm = nn.LayerNorm(d_model)\n",
    "        \n",
    "    def forward(self, x, mask):\n",
    "        shortcut = x\n",
    "        x, _ = self.mha(query=x, key=x, value=x, key_padding_mask=mask)\n",
    "        x = self.dropout(x)\n",
    "        \n",
    "        x = x + shortcut\n",
    "        x = self.norm(x)\n",
    "        \n",
    "        x = self.ff_net(x)\n",
    "        \n",
    "        return x\n",
    "    \n",
    "    \n",
    "class MeanPooling(nn.Module):\n",
    "    \n",
    "    def forward(self, last_hidden_state, attention_mask):\n",
    "        attention_mask = 1 - attention_mask.long()  # as we passed padding mask with 1 = <PAD> (required torch.mha)\n",
    "        input_mask_expanded = attention_mask.unsqueeze(-1).expand(last_hidden_state.size()).float()\n",
    "        sum_embeddings = torch.sum(last_hidden_state * input_mask_expanded, dim=1)\n",
    "        sum_mask = input_mask_expanded.sum(dim=1)\n",
    "        sum_mask = torch.clamp(sum_mask, min=1e-9)\n",
    "        mean_embeddings = sum_embeddings / sum_mask\n",
    "        return mean_embeddings\n",
    "\n",
    "    \n",
    "class FFNetwork(nn.Module):\n",
    "    def __init__(self, in_channels, hidden, mode=\"cnn\", activation=\"relu\", dropout=0.1, **kwargs):\n",
    "        super(FFNetwork, self).__init__(**kwargs)\n",
    "        assert mode in [\"cnn\", \"linear\"], \"set mode to 'linear' or 'cnn'\"\n",
    "        self.mode = mode\n",
    "        \n",
    "        self.conv1 = nn.Conv1d(in_channels=in_channels, out_channels=hidden, kernel_size=1, padding=0)\n",
    "        self.activation = nn.ReLU() if activation == \"relu\" else nn.GELU()\n",
    "        self.dropout = nn.Dropout(p=dropout)\n",
    "        self.conv2 = nn.Conv1d(in_channels=hidden, out_channels=in_channels, kernel_size=3, padding=1)\n",
    "        self.norm = nn.LayerNorm(in_channels)\n",
    "        \n",
    "        self.fc1 = nn.Linear(in_features=in_channels, out_features=hidden)\n",
    "        self.fc2 = nn.Linear(in_features=hidden, out_features=in_channels)\n",
    "        \n",
    "    def forward(self, x):  \n",
    "        if self.mode == \"cnn\":\n",
    "            x = x.contiguous().transpose(1,2)\n",
    "            shortcut = x\n",
    "            x = self.conv1(x)\n",
    "            x = self.activation(x)\n",
    "            x = self.dropout(x)\n",
    "            x = self.conv2(x)\n",
    "            \n",
    "        else:\n",
    "            shortcut = x\n",
    "            x = self.fc1(x)\n",
    "            x = self.activation(x)\n",
    "            x = self.dropout(x)\n",
    "            x = self.fc2(x)\n",
    "            \n",
    "        x = x + shortcut\n",
    "        if self.mode == \"cnn\":\n",
    "            x = x.contiguous().transpose(1,2)\n",
    "\n",
    "        x = self.norm(x)\n",
    "        \n",
    "        return x\n",
    "    \n",
    "\n",
    "class TransformerEncoder(nn.Module):\n",
    "    def __init__(self, d_model=64, ff_dim=256, nheads=4, dropout=0.1, mode=\"cnn\", num_layers=2, activation=\"relu\", **kwargs):\n",
    "        super(TransformerEncoder, self).__init__(**kwargs)\n",
    "        self.layers = []\n",
    "        \n",
    "        for _ in range(num_layers):\n",
    "            self.layers.append(TransformerEncoderLayer(d_model=d_model, \n",
    "                                                       ff_dim=ff_dim, \n",
    "                                                       nheads=nheads, \n",
    "                                                       dropout=dropout, \n",
    "                                                       mode=mode,\n",
    "                                                       activation=activation).to(device))\n",
    "        \n",
    "    def forward(self, x, mask):\n",
    "        for layer in self.layers:\n",
    "            x = layer(x, mask)\n",
    "        return x\n",
    "    \n",
    "\n",
    "class TransformerModel(nn.Module):\n",
    "    def __init__(self, vocab_size, hidden, num_classes=5, enc_layers=2, nhead=4, dropout=0.1, mode=\"cnn\", \n",
    "                 activation=\"relu\", kmax=None, **kwargs):\n",
    "        super(TransformerModel, self).__init__(**kwargs)\n",
    "        self.mode = mode\n",
    "        self.embedding = TokenEmbedding(vocab_size, hidden)\n",
    "        self.pos_encoder = PositionalEncoding(hidden, dropout)\n",
    "        \n",
    "        self.transformer = TransformerEncoder(d_model=hidden, \n",
    "                                              ff_dim=hidden*4, \n",
    "                                              nheads=nhead, \n",
    "                                              dropout=dropout, \n",
    "                                              mode=mode, \n",
    "                                              num_layers=enc_layers,\n",
    "                                              activation=activation)\n",
    "        \n",
    "        self.kmax = kmax\n",
    "        if kmax is not None:\n",
    "            if kmax == \"half\":\n",
    "                kmax = 32\n",
    "            self.kmax_pool = KMaxPool(k=kmax)\n",
    "            act = nn.ReLU() if activation == \"relu\" else nn.GELU()\n",
    "            self.reducer = nn.Sequential(\n",
    "                    nn.Linear(in_features=kmax*hidden, out_features=hidden),\n",
    "                    act\n",
    "                )\n",
    "            \n",
    "        self.mlp = MLP(hidden*hidden, dropout=dropout, batchnorm=True)\n",
    "        if mode == \"cnn\":\n",
    "            self.fc_out = nn.Linear(hidden, num_classes)\n",
    "        else:\n",
    "            self.fc_out = nn.Linear(hidden*hidden//4, num_classes)\n",
    "        \n",
    "        for p in self.parameters():  # more acceptable for transformer\n",
    "            if p.dim() > 1:  # not bias\n",
    "                nn.init.xavier_uniform_(p)\n",
    "        # self.apply(self.init_weights)\n",
    "\n",
    "    def init_weights(self, module):\n",
    "        for m in self.modules():\n",
    "            if isinstance(m, nn.Conv1d):\n",
    "                nn.init.kaiming_normal(m.weight, mode='fan_in')\n",
    "                if m.bias is not None:\n",
    "                    nn.init.constant(m.bias, 0)\n",
    "            elif isinstance(m, nn.BatchNorm1d):\n",
    "                nn.init.constant(m.weight, 1)\n",
    "                nn.init.constant(m.bias, 0)\n",
    "            elif isinstance(m, nn.Linear):\n",
    "                nn.init.kaiming_normal(m.weight, mode='fan_in')\n",
    "                if m.bias is not None:\n",
    "                    nn.init.constant(m.bias, 0) \n",
    "\n",
    "    def make_len_mask(self, inp):\n",
    "        return (inp == PAD_IDX).transpose(0, 1)  # as originally x = [Seq, B]\n",
    "\n",
    "    def forward(self, x):\n",
    "        pad_mask = self.make_len_mask(x).transpose(0,1)  # transpose to [B, Seq] as x = [B, Seq], mha_inp = [B,Seq]\n",
    "\n",
    "        x = self.embedding(x)\n",
    "        x = self.pos_encoder(x)\n",
    "        \n",
    "        output = self.transformer(x, pad_mask)\n",
    "        if self.mode == \"cnn\":\n",
    "            if self.kmax is not None:\n",
    "                output = self.kmax_pool(x)\n",
    "                output = output.contiguous().view(output.size(0), -1)\n",
    "                output = self.reducer(output)\n",
    "            else:\n",
    "                output = torch.max(output, dim=1)[0]\n",
    "                # output = MeanPooling()(output, pad_mask)\n",
    "        else:\n",
    "            output = output.view(output.size(0), -1)\n",
    "            output = self.mlp(output)\n",
    "        \n",
    "        output = self.fc_out(output)\n",
    "        \n",
    "        return output"
   ]
  },
  {
   "cell_type": "code",
   "execution_count": 63,
   "id": "20341326",
   "metadata": {
    "scrolled": false
   },
   "outputs": [],
   "source": [
    "model = TransformerModel(len(vocabulary), 64, num_classes=5, enc_layers=2, nhead=4, dropout=0.2, \n",
    "                         activation=\"relu\", mode=\"cnn\", kmax=None).to(device)\n",
    "\n",
    "criterion = nn.CrossEntropyLoss()\n",
    "# criterion = FocalLoss()\n",
    "\n",
    "# betas = (0.9, 0.999), b1 (momentum) collects previous grads to skip local minima\n",
    "# b2 makes lr higher if grads were large at prev. step and vice versa\n",
    "optimizer = torch.optim.AdamW(model.parameters(), lr=0.001, betas=(0.5, 0.9), weight_decay=0.0005)  \n",
    "\n",
    "scheduler = torch.optim.lr_scheduler.ReduceLROnPlateau(optimizer, patience=2, min_lr=1e-7, factor=0.5)\n",
    "stopper = EarlyStopping(patience=5)"
   ]
  },
  {
   "cell_type": "code",
   "execution_count": 64,
   "id": "4223a815",
   "metadata": {
    "scrolled": false
   },
   "outputs": [
    {
     "name": "stdout",
     "output_type": "stream",
     "text": [
      "epoch: 1 \tstep: 50 / 143 \ttrain loss: 1.0466 \ttrain accuracy: 0.6641 \ttime: 0.4999 s\n",
      "epoch: 1 \tstep: 100 / 143 \ttrain loss: 0.7688 \ttrain accuracy: 0.7266 \ttime: 0.5494 s\n"
     ]
    },
    {
     "name": "stderr",
     "output_type": "stream",
     "text": [
      "100%|██████████████████████████████████████████████████████████████████████████████████| 12/12 [00:00<00:00, 46.84it/s]\n"
     ]
    },
    {
     "name": "stdout",
     "output_type": "stream",
     "text": [
      "epoch: 1 / 40 \ttrain loss: 0.8911 \tvalid loss: 0.7461 \ttrain accuracy 0.6958 \tvalid accuracy 0.7411\n",
      "epoch: 2 \tstep: 50 / 143 \ttrain loss: 0.6472 \ttrain accuracy: 0.7578 \ttime: 0.7000 s\n",
      "epoch: 2 \tstep: 100 / 143 \ttrain loss: 0.6815 \ttrain accuracy: 0.7500 \ttime: 0.6500 s\n"
     ]
    },
    {
     "name": "stderr",
     "output_type": "stream",
     "text": [
      "100%|██████████████████████████████████████████████████████████████████████████████████| 12/12 [00:00<00:00, 45.01it/s]\n"
     ]
    },
    {
     "name": "stdout",
     "output_type": "stream",
     "text": [
      "epoch: 2 / 40 \ttrain loss: 0.6775 \tvalid loss: 0.6851 \ttrain accuracy 0.7642 \tvalid accuracy 0.7646\n",
      "Model saved to: model.pth\n",
      "epoch: 3 \tstep: 50 / 143 \ttrain loss: 0.7182 \ttrain accuracy: 0.7422 \ttime: 0.5996 s\n",
      "epoch: 3 \tstep: 100 / 143 \ttrain loss: 0.7310 \ttrain accuracy: 0.7422 \ttime: 0.7806 s\n"
     ]
    },
    {
     "name": "stderr",
     "output_type": "stream",
     "text": [
      "100%|██████████████████████████████████████████████████████████████████████████████████| 12/12 [00:00<00:00, 50.36it/s]\n"
     ]
    },
    {
     "name": "stdout",
     "output_type": "stream",
     "text": [
      "epoch: 3 / 40 \ttrain loss: 0.6185 \tvalid loss: 0.6523 \ttrain accuracy 0.7835 \tvalid accuracy 0.7727\n",
      "Model saved to: model.pth\n",
      "epoch: 4 \tstep: 50 / 143 \ttrain loss: 0.5578 \ttrain accuracy: 0.8047 \ttime: 0.6500 s\n",
      "epoch: 4 \tstep: 100 / 143 \ttrain loss: 0.6087 \ttrain accuracy: 0.7891 \ttime: 0.5639 s\n"
     ]
    },
    {
     "name": "stderr",
     "output_type": "stream",
     "text": [
      "100%|██████████████████████████████████████████████████████████████████████████████████| 12/12 [00:00<00:00, 47.18it/s]\n"
     ]
    },
    {
     "name": "stdout",
     "output_type": "stream",
     "text": [
      "epoch: 4 / 40 \ttrain loss: 0.5789 \tvalid loss: 0.6338 \ttrain accuracy 0.7972 \tvalid accuracy 0.7824\n",
      "Model saved to: model.pth\n",
      "epoch: 5 \tstep: 50 / 143 \ttrain loss: 0.5541 \ttrain accuracy: 0.8047 \ttime: 0.5494 s\n",
      "epoch: 5 \tstep: 100 / 143 \ttrain loss: 0.5363 \ttrain accuracy: 0.8516 \ttime: 0.6996 s\n"
     ]
    },
    {
     "name": "stderr",
     "output_type": "stream",
     "text": [
      "100%|██████████████████████████████████████████████████████████████████████████████████| 12/12 [00:00<00:00, 44.92it/s]\n"
     ]
    },
    {
     "name": "stdout",
     "output_type": "stream",
     "text": [
      "epoch: 5 / 40 \ttrain loss: 0.5417 \tvalid loss: 0.6495 \ttrain accuracy 0.8126 \tvalid accuracy 0.7817\n",
      "INFO: Early stopping counter 1 of 5\n",
      "epoch: 6 \tstep: 50 / 143 \ttrain loss: 0.5378 \ttrain accuracy: 0.8281 \ttime: 0.6495 s\n",
      "epoch: 6 \tstep: 100 / 143 \ttrain loss: 0.6982 \ttrain accuracy: 0.7344 \ttime: 0.6496 s\n"
     ]
    },
    {
     "name": "stderr",
     "output_type": "stream",
     "text": [
      "100%|██████████████████████████████████████████████████████████████████████████████████| 12/12 [00:00<00:00, 47.50it/s]\n"
     ]
    },
    {
     "name": "stdout",
     "output_type": "stream",
     "text": [
      "epoch: 6 / 40 \ttrain loss: 0.5013 \tvalid loss: 0.6470 \ttrain accuracy 0.8295 \tvalid accuracy 0.7764\n",
      "INFO: Early stopping counter 2 of 5\n",
      "epoch: 7 \tstep: 50 / 143 \ttrain loss: 0.3685 \ttrain accuracy: 0.8672 \ttime: 0.5996 s\n",
      "epoch: 7 \tstep: 100 / 143 \ttrain loss: 0.3696 \ttrain accuracy: 0.8672 \ttime: 0.7807 s\n"
     ]
    },
    {
     "name": "stderr",
     "output_type": "stream",
     "text": [
      "100%|██████████████████████████████████████████████████████████████████████████████████| 12/12 [00:00<00:00, 48.36it/s]\n"
     ]
    },
    {
     "name": "stdout",
     "output_type": "stream",
     "text": [
      "epoch: 7 / 40 \ttrain loss: 0.4489 \tvalid loss: 0.6782 \ttrain accuracy 0.8484 \tvalid accuracy 0.7789\n",
      "INFO: Early stopping counter 3 of 5\n",
      "epoch: 8 \tstep: 50 / 143 \ttrain loss: 0.4104 \ttrain accuracy: 0.8594 \ttime: 0.7813 s\n",
      "epoch: 8 \tstep: 100 / 143 \ttrain loss: 0.3652 \ttrain accuracy: 0.8984 \ttime: 0.6496 s\n"
     ]
    },
    {
     "name": "stderr",
     "output_type": "stream",
     "text": [
      "100%|██████████████████████████████████████████████████████████████████████████████████| 12/12 [00:00<00:00, 48.81it/s]\n"
     ]
    },
    {
     "name": "stdout",
     "output_type": "stream",
     "text": [
      "epoch: 8 / 40 \ttrain loss: 0.3913 \tvalid loss: 0.6995 \ttrain accuracy 0.8759 \tvalid accuracy 0.7731\n",
      "INFO: Early stopping counter 4 of 5\n",
      "epoch: 9 \tstep: 50 / 143 \ttrain loss: 0.3525 \ttrain accuracy: 0.8906 \ttime: 0.7808 s\n",
      "epoch: 9 \tstep: 100 / 143 \ttrain loss: 0.4152 \ttrain accuracy: 0.8516 \ttime: 0.0000 s\n"
     ]
    },
    {
     "name": "stderr",
     "output_type": "stream",
     "text": [
      "100%|██████████████████████████████████████████████████████████████████████████████████| 12/12 [00:00<00:00, 46.62it/s]\n"
     ]
    },
    {
     "name": "stdout",
     "output_type": "stream",
     "text": [
      "epoch: 9 / 40 \ttrain loss: 0.3636 \tvalid loss: 0.7167 \ttrain accuracy 0.8880 \tvalid accuracy 0.7778\n",
      "INFO: Early stopping counter 5 of 5\n",
      "INFO: Early stopping\n"
     ]
    },
    {
     "name": "stderr",
     "output_type": "stream",
     "text": [
      "100%|████████████████████████████████████████████████████████████████████████████████████| 8/8 [00:00<00:00, 88.74it/s]"
     ]
    },
    {
     "name": "stdout",
     "output_type": "stream",
     "text": [
      "\ttest loss: 0.6167 \ttest accuracy 0.7924\n"
     ]
    },
    {
     "name": "stderr",
     "output_type": "stream",
     "text": [
      "\n"
     ]
    }
   ],
   "source": [
    "run(model)"
   ]
  },
  {
   "cell_type": "markdown",
   "id": "436d4980",
   "metadata": {},
   "source": [
    "**Sber-AI RuRoberta**"
   ]
  },
  {
   "cell_type": "code",
   "execution_count": 65,
   "id": "81eb3bb0",
   "metadata": {},
   "outputs": [],
   "source": [
    "from transformers import AutoTokenizer, AutoModelForMaskedLM"
   ]
  },
  {
   "cell_type": "code",
   "execution_count": 66,
   "id": "595d4b27",
   "metadata": {},
   "outputs": [],
   "source": [
    "tokenizer = AutoTokenizer.from_pretrained(\"sberbank-ai/ruRoberta-large\")"
   ]
  },
  {
   "cell_type": "code",
   "execution_count": 67,
   "id": "c8271d7f",
   "metadata": {},
   "outputs": [],
   "source": [
    "data = pd.read_excel(\"feedbacks_summer.xls\", parse_dates=[\"Date\"]).sort_values(\"Date\")"
   ]
  },
  {
   "cell_type": "code",
   "execution_count": 68,
   "id": "701e1d66",
   "metadata": {},
   "outputs": [],
   "source": [
    "data = data[~(data[\"Content\"].str.len() == 0)]\n",
    "data[\"Rating\"] = data[\"Rating\"] - 1\n",
    "\n",
    "data[\"Content\"] = data[\"Content\"].apply(lambda x: clean_text(x, tokenized=False))"
   ]
  },
  {
   "cell_type": "code",
   "execution_count": 69,
   "id": "50a4b1ff",
   "metadata": {},
   "outputs": [],
   "source": [
    "train, valid = train_test_split(data, test_size=0.1, shuffle=True, stratify=data[\"Rating\"], random_state=42)\n",
    "valid, test = train_test_split(valid, test_size=500, shuffle=True, random_state=42)\n",
    "train.reset_index(drop=True, inplace=True)\n",
    "valid.reset_index(drop=True, inplace=True)\n",
    "test.reset_index(drop=True, inplace=True)"
   ]
  },
  {
   "cell_type": "code",
   "execution_count": 70,
   "id": "2697a6a2",
   "metadata": {},
   "outputs": [],
   "source": [
    "def tokenize_for_roberta(text):\n",
    "    input_ids = []\n",
    "    attention_masks = []\n",
    "    \n",
    "    for sent in tqdm(text):\n",
    "        encoded_sent = tokenizer(sent, padding='max_length', truncation=True, max_length=64)\n",
    "        input_ids.append(encoded_sent.get('input_ids'))\n",
    "        attention_masks.append(encoded_sent.get('attention_mask'))\n",
    "\n",
    "    input_ids = torch.tensor(input_ids)\n",
    "    attention_masks = torch.tensor(attention_masks)\n",
    "\n",
    "    return input_ids, attention_masks"
   ]
  },
  {
   "cell_type": "code",
   "execution_count": 71,
   "id": "f027d0cc",
   "metadata": {},
   "outputs": [
    {
     "name": "stderr",
     "output_type": "stream",
     "text": [
      "100%|██████████████████████████████████████████████████████████████████████████| 18593/18593 [00:02<00:00, 7239.78it/s]\n",
      "100%|████████████████████████████████████████████████████████████████████████████| 1566/1566 [00:00<00:00, 7097.70it/s]\n",
      "100%|██████████████████████████████████████████████████████████████████████████████| 500/500 [00:00<00:00, 7983.16it/s]\n"
     ]
    }
   ],
   "source": [
    "train_ids, train_masks = tokenize_for_roberta(train[\"Content\"].values)\n",
    "train_labels = torch.LongTensor(train[\"Rating\"].values)\n",
    "\n",
    "valid_ids, valid_masks = tokenize_for_roberta(valid[\"Content\"].values)\n",
    "valid_labels = torch.LongTensor(valid[\"Rating\"].values)\n",
    "\n",
    "test_ids, test_masks = tokenize_for_roberta(test[\"Content\"].values)\n",
    "test_labels = torch.LongTensor(test[\"Rating\"].values)\n",
    "\n",
    "train_ds = TensorDataset(train_ids, train_masks, train_labels)\n",
    "valid_ds = TensorDataset(valid_ids, valid_masks, valid_labels)\n",
    "test_ds = TensorDataset(test_ids, test_masks, test_labels)\n",
    "\n",
    "train_dataloader = DataLoader(train_ds, batch_size=8, shuffle=True)\n",
    "valid_dataloader = DataLoader(valid_ds, batch_size=8, shuffle=False)\n",
    "test_dataloader = DataLoader(test_ds, batch_size=8, shuffle=False)"
   ]
  },
  {
   "cell_type": "code",
   "execution_count": 72,
   "id": "4ecfe1f6",
   "metadata": {},
   "outputs": [],
   "source": [
    "class MeanPooling(nn.Module):\n",
    "    \n",
    "    def forward(self, last_hidden_state, attention_mask):\n",
    "        input_mask_expanded = attention_mask.unsqueeze(-1).expand(last_hidden_state.size()).float()\n",
    "        sum_embeddings = torch.sum(last_hidden_state * input_mask_expanded, dim=1)\n",
    "        sum_mask = input_mask_expanded.sum(dim=1)\n",
    "        sum_mask = torch.clamp(sum_mask, min=1e-9)\n",
    "        mean_embeddings = sum_embeddings / sum_mask\n",
    "        return mean_embeddings\n",
    "\n",
    "class MaxPooling(nn.Module):\n",
    "\n",
    "    def forward(self, last_hidden_state, attention_mask):\n",
    "        input_mask_expanded = attention_mask.unsqueeze(-1).expand(last_hidden_state.size()).float()\n",
    "        last_hidden_state[input_mask_expanded == 0] = -1e9\n",
    "        max_embeddings = torch.max(last_hidden_state, dim=1)[0]\n",
    "        return max_embeddings"
   ]
  },
  {
   "cell_type": "code",
   "execution_count": 73,
   "id": "46b2a498",
   "metadata": {},
   "outputs": [],
   "source": [
    "class RobertaModel(nn.Module):\n",
    "    def __init__(self, extractor=None, num_classes=5, dropout=0.1, pool_type=\"max\", pool=\"feat\", **kwargs):\n",
    "        super(RobertaModel, self).__init__(**kwargs)\n",
    "        assert pool in [\"feat\", \"cls\"], \"set 'pool' or 'cls'\"\n",
    "        assert pool_type in [\"max\", \"mean\"], \"set pool type 'mean' or 'max'\"\n",
    "        self.pool = pool\n",
    "        \n",
    "        if extractor is None:\n",
    "            self.extractor = AutoModelForMaskedLM.from_pretrained(\"sberbank-ai/ruRoberta-large\").to(device)\n",
    "        for p in self.extractor.parameters():\n",
    "            p.requires_grad = False\n",
    "            \n",
    "        self.drop = nn.Dropout(p=dropout)\n",
    "        self.pooler = MaxPooling() if pool_type == \"max\" else MeanPooling()\n",
    "        self.fc = nn.Linear(1024, num_classes)\n",
    "        \n",
    "    def forward(self, ids, mask):        \n",
    "        out = self.extractor(input_ids=ids, attention_mask=mask, output_hidden_states=True)\n",
    "        # pooler = [B, 1024] Last layer hidden-state of the first token of the sequence (classification token)\n",
    "        # maybe ruRoberta doesn't have CLS token - pooled_output in original RoBerta\n",
    "        # ruRoBerta trained to predict missing tokens in sequences of text, output: logits [B, seq, vocab]\n",
    "        if self.pool == \"cls\":\n",
    "            out = torch.cat(out.hidden_states, dim=1)[:, 0]   \n",
    "        else:\n",
    "            out = self.pooler(out.hidden_states[-1], mask)  # last layer hidden state [B, seq, hidden] - [8, 64, 1024]\n",
    "            out = self.drop(out)\n",
    "        outputs = self.fc(out)\n",
    "        return outputs"
   ]
  },
  {
   "cell_type": "code",
   "execution_count": 74,
   "id": "12ef8320",
   "metadata": {},
   "outputs": [],
   "source": [
    "def train_one_batch(data, model, criterion, optimizer):\n",
    "    model.train()\n",
    "    data = [d.to(device) for d in data]\n",
    "    texts, masks, labels = data\n",
    "    optimizer.zero_grad()\n",
    "    output = model(texts, masks)\n",
    "    loss = criterion(output, labels)\n",
    "    loss.backward()\n",
    "    optimizer.step()\n",
    "    \n",
    "    accuracy = calc_accuracy(output, labels)\n",
    "    return loss.item(), accuracy.item()\n",
    "\n",
    "\n",
    "@torch.no_grad()\n",
    "def validate_one_batch(data, model, criterion):\n",
    "    model.eval()\n",
    "    data = [d.to(device) for d in data]\n",
    "    texts, masks, labels = data\n",
    "    \n",
    "    out = model(texts, masks)\n",
    "    loss = criterion(out, labels)\n",
    "    \n",
    "    accuracy = calc_accuracy(out, labels)\n",
    "    \n",
    "    return loss.item(), accuracy.item()"
   ]
  },
  {
   "cell_type": "code",
   "execution_count": 79,
   "id": "6be888ea",
   "metadata": {},
   "outputs": [],
   "source": [
    "roberta = RobertaModel(pool_type=\"mean\", pool=\"feat\").to(device)\n",
    "\n",
    "# criterion = nn.CrossEntropyLoss()\n",
    "criterion = FocalLoss()\n",
    "\n",
    "optimizer = torch.optim.AdamW(roberta.fc.parameters(), lr=0.001, weight_decay=0.0005)\n",
    "\n",
    "scheduler = torch.optim.lr_scheduler.ReduceLROnPlateau(optimizer, patience=2, min_lr=1e-7, factor=0.5)\n",
    "stopper = EarlyStopping(patience=4)"
   ]
  },
  {
   "cell_type": "code",
   "execution_count": 76,
   "id": "021995b3",
   "metadata": {
    "scrolled": false
   },
   "outputs": [
    {
     "name": "stdout",
     "output_type": "stream",
     "text": [
      "epoch: 1 \tstep: 500 / 2325 \ttrain loss: 0.7151 \ttrain accuracy: 0.6250 \ttime: 37.3194 s\n",
      "epoch: 1 \tstep: 1000 / 2325 \ttrain loss: 0.7024 \ttrain accuracy: 0.8750 \ttime: 35.0019 s\n",
      "epoch: 1 \tstep: 1500 / 2325 \ttrain loss: 0.9370 \ttrain accuracy: 0.6250 \ttime: 35.8306 s\n",
      "epoch: 1 \tstep: 2000 / 2325 \ttrain loss: 1.1120 \ttrain accuracy: 0.6250 \ttime: 32.1082 s\n"
     ]
    },
    {
     "name": "stderr",
     "output_type": "stream",
     "text": [
      "100%|████████████████████████████████████████████████████████████████████████████████| 196/196 [00:14<00:00, 13.93it/s]\n"
     ]
    },
    {
     "name": "stdout",
     "output_type": "stream",
     "text": [
      "epoch: 1 / 40 \ttrain loss: 0.6706 \tvalid loss: 0.6445 \ttrain accuracy 0.7683 \tvalid accuracy 0.7751\n",
      "epoch: 2 \tstep: 500 / 2325 \ttrain loss: 0.1770 \ttrain accuracy: 1.0000 \ttime: 34.8446 s\n",
      "epoch: 2 \tstep: 1000 / 2325 \ttrain loss: 1.3749 \ttrain accuracy: 0.5000 \ttime: 34.8011 s\n",
      "epoch: 2 \tstep: 1500 / 2325 \ttrain loss: 0.9683 \ttrain accuracy: 0.5000 \ttime: 42.3250 s\n",
      "epoch: 2 \tstep: 2000 / 2325 \ttrain loss: 0.4480 \ttrain accuracy: 0.8750 \ttime: 38.5866 s\n"
     ]
    },
    {
     "name": "stderr",
     "output_type": "stream",
     "text": [
      "100%|████████████████████████████████████████████████████████████████████████████████| 196/196 [00:14<00:00, 13.49it/s]\n"
     ]
    },
    {
     "name": "stdout",
     "output_type": "stream",
     "text": [
      "epoch: 2 / 40 \ttrain loss: 0.6337 \tvalid loss: 0.6329 \ttrain accuracy 0.7794 \tvalid accuracy 0.7842\n",
      "Model saved to: model.pth\n",
      "epoch: 3 \tstep: 500 / 2325 \ttrain loss: 0.6442 \ttrain accuracy: 0.6250 \ttime: 34.5999 s\n",
      "epoch: 3 \tstep: 1000 / 2325 \ttrain loss: 0.9338 \ttrain accuracy: 0.6250 \ttime: 36.5689 s\n",
      "epoch: 3 \tstep: 1500 / 2325 \ttrain loss: 0.4423 \ttrain accuracy: 0.7500 \ttime: 38.9603 s\n",
      "epoch: 3 \tstep: 2000 / 2325 \ttrain loss: 0.2729 \ttrain accuracy: 0.8750 \ttime: 38.6494 s\n"
     ]
    },
    {
     "name": "stderr",
     "output_type": "stream",
     "text": [
      "100%|████████████████████████████████████████████████████████████████████████████████| 196/196 [00:14<00:00, 13.85it/s]\n"
     ]
    },
    {
     "name": "stdout",
     "output_type": "stream",
     "text": [
      "epoch: 3 / 40 \ttrain loss: 0.6296 \tvalid loss: 0.6354 \ttrain accuracy 0.7785 \tvalid accuracy 0.7700\n",
      "INFO: Early stopping counter 1 of 4\n",
      "epoch: 4 \tstep: 500 / 2325 \ttrain loss: 0.6942 \ttrain accuracy: 0.7500 \ttime: 35.3849 s\n",
      "epoch: 4 \tstep: 1000 / 2325 \ttrain loss: 1.1407 \ttrain accuracy: 0.5000 \ttime: 35.0059 s\n",
      "epoch: 4 \tstep: 1500 / 2325 \ttrain loss: 0.7543 \ttrain accuracy: 0.7500 \ttime: 35.6542 s\n",
      "epoch: 4 \tstep: 2000 / 2325 \ttrain loss: 0.3330 \ttrain accuracy: 0.8750 \ttime: 32.1052 s\n"
     ]
    },
    {
     "name": "stderr",
     "output_type": "stream",
     "text": [
      "100%|████████████████████████████████████████████████████████████████████████████████| 196/196 [00:14<00:00, 13.83it/s]\n"
     ]
    },
    {
     "name": "stdout",
     "output_type": "stream",
     "text": [
      "epoch: 4 / 40 \ttrain loss: 0.6312 \tvalid loss: 0.6042 \ttrain accuracy 0.7785 \tvalid accuracy 0.7961\n",
      "Model saved to: model.pth\n",
      "epoch: 5 \tstep: 500 / 2325 \ttrain loss: 1.3568 \ttrain accuracy: 0.6250 \ttime: 37.0818 s\n",
      "epoch: 5 \tstep: 1000 / 2325 \ttrain loss: 0.4707 \ttrain accuracy: 0.8750 \ttime: 32.6501 s\n",
      "epoch: 5 \tstep: 1500 / 2325 \ttrain loss: 0.4249 \ttrain accuracy: 0.8750 \ttime: 36.0930 s\n",
      "epoch: 5 \tstep: 2000 / 2325 \ttrain loss: 1.4615 \ttrain accuracy: 0.7500 \ttime: 34.7042 s\n"
     ]
    },
    {
     "name": "stderr",
     "output_type": "stream",
     "text": [
      "100%|████████████████████████████████████████████████████████████████████████████████| 196/196 [00:14<00:00, 13.91it/s]\n"
     ]
    },
    {
     "name": "stdout",
     "output_type": "stream",
     "text": [
      "epoch: 5 / 40 \ttrain loss: 0.6204 \tvalid loss: 0.6144 \ttrain accuracy 0.7820 \tvalid accuracy 0.7783\n",
      "INFO: Early stopping counter 1 of 4\n",
      "epoch: 6 \tstep: 500 / 2325 \ttrain loss: 0.9948 \ttrain accuracy: 0.6250 \ttime: 35.0029 s\n",
      "epoch: 6 \tstep: 1000 / 2325 \ttrain loss: 0.1321 \ttrain accuracy: 1.0000 \ttime: 32.0554 s\n",
      "epoch: 6 \tstep: 1500 / 2325 \ttrain loss: 0.8088 \ttrain accuracy: 0.6250 \ttime: 34.9988 s\n",
      "epoch: 6 \tstep: 2000 / 2325 \ttrain loss: 0.6800 \ttrain accuracy: 0.7500 \ttime: 40.1539 s\n"
     ]
    },
    {
     "name": "stderr",
     "output_type": "stream",
     "text": [
      "100%|████████████████████████████████████████████████████████████████████████████████| 196/196 [00:14<00:00, 13.93it/s]\n"
     ]
    },
    {
     "name": "stdout",
     "output_type": "stream",
     "text": [
      "epoch: 6 / 40 \ttrain loss: 0.6248 \tvalid loss: 0.6422 \ttrain accuracy 0.7780 \tvalid accuracy 0.7823\n",
      "INFO: Early stopping counter 2 of 4\n",
      "epoch: 7 \tstep: 500 / 2325 \ttrain loss: 0.4106 \ttrain accuracy: 0.8750 \ttime: 34.9900 s\n",
      "epoch: 7 \tstep: 1000 / 2325 \ttrain loss: 0.7252 \ttrain accuracy: 0.7500 \ttime: 32.6027 s\n",
      "epoch: 7 \tstep: 1500 / 2325 \ttrain loss: 0.6676 \ttrain accuracy: 0.8750 \ttime: 33.2286 s\n",
      "epoch: 7 \tstep: 2000 / 2325 \ttrain loss: 1.9479 \ttrain accuracy: 0.3750 \ttime: 34.9759 s\n"
     ]
    },
    {
     "name": "stderr",
     "output_type": "stream",
     "text": [
      "100%|████████████████████████████████████████████████████████████████████████████████| 196/196 [00:14<00:00, 13.95it/s]\n"
     ]
    },
    {
     "name": "stdout",
     "output_type": "stream",
     "text": [
      "epoch: 7 / 40 \ttrain loss: 0.6184 \tvalid loss: 0.6108 \ttrain accuracy 0.7806 \tvalid accuracy 0.7993\n",
      "INFO: Early stopping counter 3 of 4\n",
      "epoch: 8 \tstep: 500 / 2325 \ttrain loss: 0.9186 \ttrain accuracy: 0.6250 \ttime: 36.7743 s\n",
      "epoch: 8 \tstep: 1000 / 2325 \ttrain loss: 0.5938 \ttrain accuracy: 0.7500 \ttime: 34.5569 s\n",
      "epoch: 8 \tstep: 1500 / 2325 \ttrain loss: 0.7288 \ttrain accuracy: 0.6250 \ttime: 33.7077 s\n",
      "epoch: 8 \tstep: 2000 / 2325 \ttrain loss: 0.2173 \ttrain accuracy: 0.8750 \ttime: 36.7340 s\n"
     ]
    },
    {
     "name": "stderr",
     "output_type": "stream",
     "text": [
      "100%|████████████████████████████████████████████████████████████████████████████████| 196/196 [00:14<00:00, 13.80it/s]\n"
     ]
    },
    {
     "name": "stdout",
     "output_type": "stream",
     "text": [
      "epoch: 8 / 40 \ttrain loss: 0.5957 \tvalid loss: 0.6227 \ttrain accuracy 0.7874 \tvalid accuracy 0.7815\n",
      "INFO: Early stopping counter 4 of 4\n",
      "INFO: Early stopping\n"
     ]
    },
    {
     "name": "stderr",
     "output_type": "stream",
     "text": [
      "100%|██████████████████████████████████████████████████████████████████████████████████| 63/63 [00:04<00:00, 13.80it/s]"
     ]
    },
    {
     "name": "stdout",
     "output_type": "stream",
     "text": [
      "\ttest loss: 0.6051 \ttest accuracy 0.7976\n"
     ]
    },
    {
     "name": "stderr",
     "output_type": "stream",
     "text": [
      "\n"
     ]
    }
   ],
   "source": [
    "run(roberta, print_freq=500)  # cross entropy"
   ]
  },
  {
   "cell_type": "code",
   "execution_count": 80,
   "id": "2f7628d6",
   "metadata": {},
   "outputs": [
    {
     "name": "stdout",
     "output_type": "stream",
     "text": [
      "epoch: 1 \tstep: 500 / 2325 \ttrain loss: 0.5257 \ttrain accuracy: 0.3750 \ttime: 39.1999 s\n",
      "epoch: 1 \tstep: 1000 / 2325 \ttrain loss: 0.7372 \ttrain accuracy: 0.6250 \ttime: 32.0445 s\n",
      "epoch: 1 \tstep: 1500 / 2325 \ttrain loss: 0.3128 \ttrain accuracy: 0.7500 \ttime: 35.0001 s\n",
      "epoch: 1 \tstep: 2000 / 2325 \ttrain loss: 0.6178 \ttrain accuracy: 0.6250 \ttime: 40.6477 s\n"
     ]
    },
    {
     "name": "stderr",
     "output_type": "stream",
     "text": [
      "100%|████████████████████████████████████████████████████████████████████████████████| 196/196 [00:14<00:00, 13.81it/s]\n"
     ]
    },
    {
     "name": "stdout",
     "output_type": "stream",
     "text": [
      "epoch: 1 / 40 \ttrain loss: 0.3779 \tvalid loss: 0.3526 \ttrain accuracy 0.7531 \tvalid accuracy 0.7642\n",
      "epoch: 2 \tstep: 500 / 2325 \ttrain loss: 0.2353 \ttrain accuracy: 0.8750 \ttime: 38.4277 s\n",
      "epoch: 2 \tstep: 1000 / 2325 \ttrain loss: 0.3356 \ttrain accuracy: 0.7500 \ttime: 33.7830 s\n",
      "epoch: 2 \tstep: 1500 / 2325 \ttrain loss: 0.9059 \ttrain accuracy: 0.3750 \ttime: 35.5787 s\n",
      "epoch: 2 \tstep: 2000 / 2325 \ttrain loss: 0.2065 \ttrain accuracy: 0.8750 \ttime: 38.0121 s\n"
     ]
    },
    {
     "name": "stderr",
     "output_type": "stream",
     "text": [
      "100%|████████████████████████████████████████████████████████████████████████████████| 196/196 [00:14<00:00, 13.71it/s]\n"
     ]
    },
    {
     "name": "stdout",
     "output_type": "stream",
     "text": [
      "epoch: 2 / 40 \ttrain loss: 0.3544 \tvalid loss: 0.3393 \ttrain accuracy 0.7613 \tvalid accuracy 0.7532\n",
      "Model saved to: model.pth\n",
      "epoch: 3 \tstep: 500 / 2325 \ttrain loss: 0.5988 \ttrain accuracy: 0.5000 \ttime: 36.2015 s\n",
      "epoch: 3 \tstep: 1000 / 2325 \ttrain loss: 0.6070 \ttrain accuracy: 0.5000 \ttime: 34.5949 s\n",
      "epoch: 3 \tstep: 1500 / 2325 \ttrain loss: 0.0775 \ttrain accuracy: 1.0000 \ttime: 41.6692 s\n",
      "epoch: 3 \tstep: 2000 / 2325 \ttrain loss: 0.5255 \ttrain accuracy: 0.7500 \ttime: 35.0001 s\n"
     ]
    },
    {
     "name": "stderr",
     "output_type": "stream",
     "text": [
      "100%|████████████████████████████████████████████████████████████████████████████████| 196/196 [00:14<00:00, 13.79it/s]\n"
     ]
    },
    {
     "name": "stdout",
     "output_type": "stream",
     "text": [
      "epoch: 3 / 40 \ttrain loss: 0.3480 \tvalid loss: 0.3390 \ttrain accuracy 0.7632 \tvalid accuracy 0.7936\n",
      "Model saved to: model.pth\n",
      "epoch: 4 \tstep: 500 / 2325 \ttrain loss: 0.4094 \ttrain accuracy: 0.7500 \ttime: 36.1906 s\n",
      "epoch: 4 \tstep: 1000 / 2325 \ttrain loss: 0.0404 \ttrain accuracy: 1.0000 \ttime: 41.2723 s\n",
      "epoch: 4 \tstep: 1500 / 2325 \ttrain loss: 0.2209 \ttrain accuracy: 0.7500 \ttime: 35.5371 s\n",
      "epoch: 4 \tstep: 2000 / 2325 \ttrain loss: 0.3218 \ttrain accuracy: 0.7500 \ttime: 40.2535 s\n"
     ]
    },
    {
     "name": "stderr",
     "output_type": "stream",
     "text": [
      "100%|████████████████████████████████████████████████████████████████████████████████| 196/196 [00:14<00:00, 13.81it/s]\n"
     ]
    },
    {
     "name": "stdout",
     "output_type": "stream",
     "text": [
      "epoch: 4 / 40 \ttrain loss: 0.3442 \tvalid loss: 0.3374 \ttrain accuracy 0.7627 \tvalid accuracy 0.7789\n",
      "Model saved to: model.pth\n",
      "epoch: 5 \tstep: 500 / 2325 \ttrain loss: 0.2248 \ttrain accuracy: 0.7500 \ttime: 35.2596 s\n",
      "epoch: 5 \tstep: 1000 / 2325 \ttrain loss: 1.0664 \ttrain accuracy: 0.3750 \ttime: 34.9945 s\n",
      "epoch: 5 \tstep: 1500 / 2325 \ttrain loss: 0.3045 \ttrain accuracy: 0.7500 \ttime: 39.9777 s\n",
      "epoch: 5 \tstep: 2000 / 2325 \ttrain loss: 0.2316 \ttrain accuracy: 0.8750 \ttime: 40.6784 s\n"
     ]
    },
    {
     "name": "stderr",
     "output_type": "stream",
     "text": [
      "100%|████████████████████████████████████████████████████████████████████████████████| 196/196 [00:14<00:00, 13.82it/s]\n"
     ]
    },
    {
     "name": "stdout",
     "output_type": "stream",
     "text": [
      "epoch: 5 / 40 \ttrain loss: 0.3438 \tvalid loss: 0.3784 \ttrain accuracy 0.7655 \tvalid accuracy 0.7821\n",
      "INFO: Early stopping counter 1 of 4\n",
      "epoch: 6 \tstep: 500 / 2325 \ttrain loss: 0.1670 \ttrain accuracy: 0.8750 \ttime: 35.2118 s\n",
      "epoch: 6 \tstep: 1000 / 2325 \ttrain loss: 0.3143 \ttrain accuracy: 0.6250 \ttime: 36.2859 s\n",
      "epoch: 6 \tstep: 1500 / 2325 \ttrain loss: 0.1442 \ttrain accuracy: 0.8750 \ttime: 33.0293 s\n",
      "epoch: 6 \tstep: 2000 / 2325 \ttrain loss: 0.1381 \ttrain accuracy: 1.0000 \ttime: 34.7776 s\n"
     ]
    },
    {
     "name": "stderr",
     "output_type": "stream",
     "text": [
      "100%|████████████████████████████████████████████████████████████████████████████████| 196/196 [00:14<00:00, 13.85it/s]\n"
     ]
    },
    {
     "name": "stdout",
     "output_type": "stream",
     "text": [
      "epoch: 6 / 40 \ttrain loss: 0.3458 \tvalid loss: 0.3398 \ttrain accuracy 0.7630 \tvalid accuracy 0.7795\n",
      "INFO: Early stopping counter 2 of 4\n",
      "epoch: 7 \tstep: 500 / 2325 \ttrain loss: 0.4630 \ttrain accuracy: 0.7500 \ttime: 35.0326 s\n",
      "epoch: 7 \tstep: 1000 / 2325 \ttrain loss: 0.5421 \ttrain accuracy: 0.5000 \ttime: 39.3368 s\n",
      "epoch: 7 \tstep: 1500 / 2325 \ttrain loss: 0.5770 \ttrain accuracy: 0.6250 \ttime: 34.9997 s\n",
      "epoch: 7 \tstep: 2000 / 2325 \ttrain loss: 0.3803 \ttrain accuracy: 0.6250 \ttime: 36.8586 s\n"
     ]
    },
    {
     "name": "stderr",
     "output_type": "stream",
     "text": [
      "100%|████████████████████████████████████████████████████████████████████████████████| 196/196 [00:14<00:00, 13.85it/s]\n"
     ]
    },
    {
     "name": "stdout",
     "output_type": "stream",
     "text": [
      "epoch: 7 / 40 \ttrain loss: 0.3408 \tvalid loss: 0.3225 \ttrain accuracy 0.7674 \tvalid accuracy 0.7942\n",
      "Model saved to: model.pth\n",
      "epoch: 8 \tstep: 500 / 2325 \ttrain loss: 0.2568 \ttrain accuracy: 0.7500 \ttime: 39.9133 s\n",
      "epoch: 8 \tstep: 1000 / 2325 \ttrain loss: 0.6924 \ttrain accuracy: 0.7500 \ttime: 35.2817 s\n",
      "epoch: 8 \tstep: 1500 / 2325 \ttrain loss: 0.2111 \ttrain accuracy: 0.8750 \ttime: 35.7349 s\n",
      "epoch: 8 \tstep: 2000 / 2325 \ttrain loss: 0.4077 \ttrain accuracy: 0.6250 \ttime: 34.0925 s\n"
     ]
    },
    {
     "name": "stderr",
     "output_type": "stream",
     "text": [
      "100%|████████████████████████████████████████████████████████████████████████████████| 196/196 [00:14<00:00, 13.87it/s]\n"
     ]
    },
    {
     "name": "stdout",
     "output_type": "stream",
     "text": [
      "epoch: 8 / 40 \ttrain loss: 0.3391 \tvalid loss: 0.3997 \ttrain accuracy 0.7652 \tvalid accuracy 0.7147\n",
      "INFO: Early stopping counter 1 of 4\n",
      "epoch: 9 \tstep: 500 / 2325 \ttrain loss: 0.4318 \ttrain accuracy: 0.6250 \ttime: 35.0331 s\n",
      "epoch: 9 \tstep: 1000 / 2325 \ttrain loss: 0.7997 \ttrain accuracy: 0.6250 \ttime: 34.6982 s\n",
      "epoch: 9 \tstep: 1500 / 2325 \ttrain loss: 0.5610 \ttrain accuracy: 0.6250 \ttime: 39.9995 s\n",
      "epoch: 9 \tstep: 2000 / 2325 \ttrain loss: 0.1525 \ttrain accuracy: 0.8750 \ttime: 36.3305 s\n"
     ]
    },
    {
     "name": "stderr",
     "output_type": "stream",
     "text": [
      "100%|████████████████████████████████████████████████████████████████████████████████| 196/196 [00:14<00:00, 13.89it/s]\n"
     ]
    },
    {
     "name": "stdout",
     "output_type": "stream",
     "text": [
      "epoch: 9 / 40 \ttrain loss: 0.3420 \tvalid loss: 0.3433 \ttrain accuracy 0.7651 \tvalid accuracy 0.7655\n",
      "INFO: Early stopping counter 2 of 4\n",
      "epoch: 10 \tstep: 500 / 2325 \ttrain loss: 0.4208 \ttrain accuracy: 0.6250 \ttime: 39.5585 s\n",
      "epoch: 10 \tstep: 1000 / 2325 \ttrain loss: 0.0305 \ttrain accuracy: 1.0000 \ttime: 40.1286 s\n",
      "epoch: 10 \tstep: 1500 / 2325 \ttrain loss: 0.3373 \ttrain accuracy: 0.8750 \ttime: 38.1862 s\n",
      "epoch: 10 \tstep: 2000 / 2325 \ttrain loss: 0.5139 \ttrain accuracy: 0.7500 \ttime: 34.2457 s\n"
     ]
    },
    {
     "name": "stderr",
     "output_type": "stream",
     "text": [
      "100%|████████████████████████████████████████████████████████████████████████████████| 196/196 [00:14<00:00, 13.89it/s]\n"
     ]
    },
    {
     "name": "stdout",
     "output_type": "stream",
     "text": [
      "epoch: 10 / 40 \ttrain loss: 0.3436 \tvalid loss: 0.3311 \ttrain accuracy 0.7658 \tvalid accuracy 0.7719\n",
      "INFO: Early stopping counter 3 of 4\n",
      "epoch: 11 \tstep: 500 / 2325 \ttrain loss: 0.1605 \ttrain accuracy: 0.8750 \ttime: 31.5863 s\n",
      "epoch: 11 \tstep: 1000 / 2325 \ttrain loss: 0.6369 \ttrain accuracy: 0.5000 \ttime: 35.0001 s\n",
      "epoch: 11 \tstep: 1500 / 2325 \ttrain loss: 0.2178 \ttrain accuracy: 0.8750 \ttime: 34.9985 s\n",
      "epoch: 11 \tstep: 2000 / 2325 \ttrain loss: 0.2631 \ttrain accuracy: 0.7500 \ttime: 36.2259 s\n"
     ]
    },
    {
     "name": "stderr",
     "output_type": "stream",
     "text": [
      "100%|████████████████████████████████████████████████████████████████████████████████| 196/196 [00:14<00:00, 13.86it/s]\n"
     ]
    },
    {
     "name": "stdout",
     "output_type": "stream",
     "text": [
      "epoch: 11 / 40 \ttrain loss: 0.3206 \tvalid loss: 0.3248 \ttrain accuracy 0.7753 \tvalid accuracy 0.7942\n",
      "INFO: Early stopping counter 4 of 4\n",
      "INFO: Early stopping\n"
     ]
    },
    {
     "name": "stderr",
     "output_type": "stream",
     "text": [
      "100%|██████████████████████████████████████████████████████████████████████████████████| 63/63 [00:04<00:00, 14.01it/s]"
     ]
    },
    {
     "name": "stdout",
     "output_type": "stream",
     "text": [
      "\ttest loss: 0.3366 \ttest accuracy 0.7837\n"
     ]
    },
    {
     "name": "stderr",
     "output_type": "stream",
     "text": [
      "\n"
     ]
    }
   ],
   "source": [
    "run(roberta, print_freq=500)  # focal loss"
   ]
  },
  {
   "cell_type": "code",
   "execution_count": null,
   "id": "c4fbd8d3",
   "metadata": {},
   "outputs": [],
   "source": [
    "checkpoint = torch.load(\"model.pth\", map_location=device)\n",
    "roberta = checkpoint[\"model\"]"
   ]
  },
  {
   "cell_type": "markdown",
   "id": "501f266d",
   "metadata": {},
   "source": [
    "**Simple model repeater (train weak and simple model to reproduce large model results)**"
   ]
  },
  {
   "cell_type": "code",
   "execution_count": null,
   "id": "9beb5327",
   "metadata": {},
   "outputs": [],
   "source": [
    "class Learner(nn.Module):\n",
    "    def __init__(self, hidden, vocab_size, num_classes=5):\n",
    "        super(Learner, self).__init__()\n",
    "        self.embedding = nn.Embedding(vocab_size, hidden)\n",
    "        self.pool = nn.AdaptiveAvgPool1d(2)\n",
    "        self.fc1 = nn.Linear(hidden*2, hidden)\n",
    "        self.fc = nn.Linear(hidden, num_classes)\n",
    "        \n",
    "    def forward(self, x):\n",
    "        x = self.embedding(x)  # [B, seq, hidden]\n",
    "        x = x.contiguous().transpose(1,2)  # [B, hidden, seq]\n",
    "        \n",
    "        x = self.pool(x)  # [B, hidden, 2]\n",
    "        \n",
    "        x = x.contiguous().view(x.size(0), -1)  # [B, hidden * 2]\n",
    "        x = self.fc1(x)\n",
    "        x = F.relu(x)\n",
    "        \n",
    "        x = self.fc(x)\n",
    "        \n",
    "        return x"
   ]
  },
  {
   "cell_type": "code",
   "execution_count": null,
   "id": "d46d711a",
   "metadata": {},
   "outputs": [],
   "source": [
    "class DistillLoss(nn.Module):\n",
    "    def __init__(self, alpha=0.25, beta=0.75, temperature=2.0, **kwargs):\n",
    "        super(DistillLoss, self).__init__(**kwargs)\n",
    "        self.alpha = alpha\n",
    "        self.beta = beta\n",
    "        self.T = temperature\n",
    "    \n",
    "    def forward(self, outputs, labels, t_outputs):\n",
    "        log_out = F.log_softmax(outputs / self.T, dim=1)\n",
    "        t_log_out = F.softmax(t_outputs / self.T, dim=1)\n",
    "\n",
    "        kl_loss = F.kl_div(log_out, t_log_out) * (self.alpha * self.T**2)\n",
    "        ce_loss = F.cross_entropy(outputs, labels) * self.beta\n",
    "        \n",
    "        loss = kl_loss + ce_loss\n",
    "        \n",
    "        return loss"
   ]
  },
  {
   "cell_type": "code",
   "execution_count": null,
   "id": "4865791f",
   "metadata": {},
   "outputs": [],
   "source": [
    "def train_one_batch(data, model, criterion, optimizer):\n",
    "    model.train()\n",
    "    data = [d.to(device) for d in data]\n",
    "    \n",
    "    texts, masks, labels = data\n",
    "    \n",
    "    t_output = roberta(texts, masks)\n",
    "    \n",
    "    optimizer.zero_grad()\n",
    "    \n",
    "    output = model(texts)\n",
    "    print(output)\n",
    "    print(output.shape)\n",
    "    \n",
    "    loss = criterion(output, labels, t_output)\n",
    "    loss.backward()\n",
    "    optimizer.step()\n",
    "    \n",
    "    accuracy = calc_accuracy(output, labels)\n",
    "    return loss.item(), accuracy.item()\n",
    "\n",
    "\n",
    "@torch.no_grad()\n",
    "def validate_one_batch(data, model, criterion):\n",
    "    model.eval()\n",
    "    data = [d.to(device) for d in data]\n",
    "    texts, masks, labels = data\n",
    "\n",
    "    t_output = roberta(texts, masks)\n",
    "    \n",
    "    output = model(texts)\n",
    "    loss = criterion(output, labels, t_output)\n",
    "    \n",
    "    accuracy = calc_accuracy(out, labels)\n",
    "    \n",
    "    return loss.item(), accuracy.item()"
   ]
  },
  {
   "cell_type": "code",
   "execution_count": null,
   "id": "cf113014",
   "metadata": {},
   "outputs": [],
   "source": [
    "student = Learner(64, len(vocabulary)).to(device)\n",
    "roberta.eval()\n",
    "\n",
    "if device == 'cuda':\n",
    "    student = nn.DataParallel(student)\n",
    "    torch.backends.cudnn.benchmark = True\n",
    "\n",
    "criterion = DistillLoss()\n",
    "\n",
    "optimizer = torch.optim.AdamW(student.parameters(), lr=0.001, weight_decay=0.0005)\n",
    "\n",
    "scheduler = torch.optim.lr_scheduler.ReduceLROnPlateau(optimizer, patience=2, min_lr=1e-7, factor=0.5)\n",
    "stopper = EarlyStopping(patience=4, path=\"student.pth\")"
   ]
  },
  {
   "cell_type": "code",
   "execution_count": null,
   "id": "07cf6346",
   "metadata": {},
   "outputs": [],
   "source": [
    "epochs, print_freq = 40, 500\n",
    "\n",
    "for epoch in range(1, epochs+1):\n",
    "\n",
    "    train_loss, train_accs = [], []\n",
    "    for step, batch in enumerate(train_dataloader, 1):\n",
    "        time_1 = time.time()\n",
    "\n",
    "        loss, accuracy = train_one_batch(batch, student, criterion, optimizer)\n",
    "\n",
    "        train_loss.append(loss)\n",
    "        train_accs.append(accuracy)\n",
    "\n",
    "        if step % print_freq == 0:\n",
    "            print('epoch:', epoch, \n",
    "                  '\\tstep:', step, '/', len(train_dataloader),\n",
    "                  '\\ttrain loss:', '{:.4f}'.format(loss),\n",
    "                  '\\ttrain accuracy:','{:.4f}'.format(accuracy),\n",
    "                  '\\ttime:', '{:.4f}'.format((time.time()-time_1)*print_freq), 's')\n",
    "\n",
    "    valid_loss, valid_accs = [], []\n",
    "    for step, batch in enumerate(tqdm(valid_dataloader)):\n",
    "        loss, accuracy = validate_one_batch(batch, student, criterion)\n",
    "\n",
    "        valid_loss.append(loss)\n",
    "        valid_accs.append(accuracy)\n",
    "\n",
    "    print('epoch:', epoch, '/', epochs,\n",
    "          '\\ttrain loss:', '{:.4f}'.format(np.mean(train_loss)),\n",
    "          '\\tvalid loss:', '{:.4f}'.format(np.mean(valid_loss)),\n",
    "          '\\ttrain accuracy', '{:.4f}'.format(np.mean(train_accs)),\n",
    "          '\\tvalid accuracy', '{:.4f}'.format(np.mean(valid_accs)))\n",
    "\n",
    "    stopper(np.mean(valid_loss), model)\n",
    "    if stopper.early_stop:\n",
    "        checkpoint = torch.load(\"model.pth\", map_location=device)\n",
    "        model = checkpoint['model']\n",
    "        break\n",
    "    scheduler.step(np.mean(valid_loss))\n",
    "\n",
    "test_loss, test_accs = [], []\n",
    "for step, batch in enumerate(tqdm(test_dataloader)):\n",
    "    loss, accuracy = validate_one_batch(batch, student, criterion)\n",
    "\n",
    "    test_loss.append(loss)\n",
    "    test_accs.append(accuracy)\n",
    "\n",
    "print('\\ttest loss:', '{:.4f}'.format(np.mean(test_loss)),\n",
    "      '\\ttest accuracy', '{:.4f}'.format(np.mean(test_accs)),)"
   ]
  },
  {
   "cell_type": "markdown",
   "id": "e0421f53",
   "metadata": {},
   "source": [
    "NOTE\n",
    "\n",
    "* LSTM output: out, (h, c); out - hidden states at all timesteps (tokens) [B, S, Bidir\\*H] - needs pooling, h - last hidden state of lstm cells [layers\\*BiDir, B, H]\n",
    "* Ro/De/Al/Berta: last hidden state (+CLS 0-index token or not) output from last encoder layer [B, CLS+S, H]; hidden_states - tuple of all hidden states from all layers ([B,S,H], ... [B,S,H])."
   ]
  }
 ],
 "metadata": {
  "kernelspec": {
   "display_name": "Python [conda env:test1] *",
   "language": "python",
   "name": "conda-env-test1-py"
  },
  "language_info": {
   "codemirror_mode": {
    "name": "ipython",
    "version": 3
   },
   "file_extension": ".py",
   "mimetype": "text/x-python",
   "name": "python",
   "nbconvert_exporter": "python",
   "pygments_lexer": "ipython3",
   "version": "3.9.13"
  }
 },
 "nbformat": 4,
 "nbformat_minor": 5
}
