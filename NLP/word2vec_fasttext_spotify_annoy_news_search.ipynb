{
  "nbformat": 4,
  "nbformat_minor": 0,
  "metadata": {
    "colab": {
      "provenance": []
    },
    "kernelspec": {
      "name": "python3",
      "display_name": "Python 3"
    },
    "language_info": {
      "name": "python"
    }
  },
  "cells": [
    {
      "cell_type": "code",
      "execution_count": 1,
      "metadata": {
        "colab": {
          "base_uri": "https://localhost:8080/"
        },
        "id": "ITLjmv1f_PQ4",
        "outputId": "c8d585d3-1bd8-4a64-9d63-104ddbdd3e09"
      },
      "outputs": [
        {
          "output_type": "stream",
          "name": "stdout",
          "text": [
            "gazeta_train.jsonl\n",
            "gazeta_val.jsonl\n",
            "gazeta_test.jsonl\n",
            "\u001b[2K     \u001b[90m━━━━━━━━━━━━━━━━━━━━━━━━━━━━━━━━━━━━━━━━\u001b[0m \u001b[32m55.5/55.5 KB\u001b[0m \u001b[31m4.7 MB/s\u001b[0m eta \u001b[36m0:00:00\u001b[0m\n",
            "\u001b[2K     \u001b[90m━━━━━━━━━━━━━━━━━━━━━━━━━━━━━━━━━━━━━━━━\u001b[0m \u001b[32m68.8/68.8 KB\u001b[0m \u001b[31m5.8 MB/s\u001b[0m eta \u001b[36m0:00:00\u001b[0m\n",
            "\u001b[?25h  Preparing metadata (setup.py) ... \u001b[?25l\u001b[?25hdone\n",
            "\u001b[2K     \u001b[90m━━━━━━━━━━━━━━━━━━━━━━━━━━━━━━━━━━━━━━\u001b[0m \u001b[32m648.0/648.0 KB\u001b[0m \u001b[31m29.4 MB/s\u001b[0m eta \u001b[36m0:00:00\u001b[0m\n",
            "\u001b[?25h  Preparing metadata (setup.py) ... \u001b[?25l\u001b[?25hdone\n",
            "\u001b[2K     \u001b[90m━━━━━━━━━━━━━━━━━━━━━━━━━━━━━━━━━━━━━━━━\u001b[0m \u001b[32m8.2/8.2 MB\u001b[0m \u001b[31m106.2 MB/s\u001b[0m eta \u001b[36m0:00:00\u001b[0m\n",
            "\u001b[?25h  Preparing metadata (setup.py) ... \u001b[?25l\u001b[?25hdone\n",
            "  Building wheel for fasttext (setup.py) ... \u001b[?25l\u001b[?25hdone\n",
            "  Building wheel for annoy (setup.py) ... \u001b[?25l\u001b[?25hdone\n",
            "  Building wheel for docopt (setup.py) ... \u001b[?25l\u001b[?25hdone\n"
          ]
        }
      ],
      "source": [
        "!wget -qq https://github.com/IlyaGusev/gazeta/releases/download/2.0/gazeta_jsonl_v2.tar.gz -O gazeta.tar.gz\n",
        "!tar -xvf gazeta.tar.gz\n",
        "!pip install -qq pymorphy2 fasttext annoy"
      ]
    },
    {
      "cell_type": "code",
      "source": [
        "import warnings\n",
        "warnings.filterwarnings(\"ignore\")\n",
        "\n",
        "import re\n",
        "import json\n",
        "\n",
        "import pandas as pd\n",
        "import numpy as np\n",
        "\n",
        "import nltk\n",
        "from nltk.tokenize import word_tokenize, WordPunctTokenizer\n",
        "from nltk.corpus import stopwords\n",
        "\n",
        "import annoy\n",
        "\n",
        "from pymorphy2 import MorphAnalyzer\n",
        "\n",
        "import gensim\n",
        "from gensim.models import Word2Vec, FastText\n",
        "from gensim.models.doc2vec import Doc2Vec\n",
        "import fasttext\n",
        "\n",
        "import string\n",
        "from lightgbm import LGBMClassifier\n",
        "from sklearn.metrics import precision_recall_curve, classification_report\n",
        "\n",
        "from typing import Union\n",
        "\n",
        "pd.set_option(\"display.max_colwidth\", None)\n",
        "nltk.download('punkt')\n",
        "nltk.download('stopwords')"
      ],
      "metadata": {
        "colab": {
          "base_uri": "https://localhost:8080/"
        },
        "id": "GOP9mrjp_VUB",
        "outputId": "04446763-11f9-4c6e-b827-d680df870d92"
      },
      "execution_count": 2,
      "outputs": [
        {
          "output_type": "stream",
          "name": "stderr",
          "text": [
            "[nltk_data] Downloading package punkt to /root/nltk_data...\n",
            "[nltk_data]   Unzipping tokenizers/punkt.zip.\n",
            "[nltk_data] Downloading package stopwords to /root/nltk_data...\n",
            "[nltk_data]   Unzipping corpora/stopwords.zip.\n"
          ]
        },
        {
          "output_type": "execute_result",
          "data": {
            "text/plain": [
              "True"
            ]
          },
          "metadata": {},
          "execution_count": 2
        }
      ]
    },
    {
      "cell_type": "code",
      "source": [
        "cache = {}\n",
        "\n",
        "def read_dataset(filename: str) -> pd.DataFrame:\n",
        "    records = []\n",
        "    with open(filename, \"r\") as infile:\n",
        "        for line in infile:\n",
        "            records.append(json.loads(line))\n",
        "    return pd.DataFrame(records)"
      ],
      "metadata": {
        "id": "wO0u4DG9DIKs"
      },
      "execution_count": 3,
      "outputs": []
    },
    {
      "cell_type": "code",
      "source": [
        "train = read_dataset(\"gazeta_train.jsonl\")\n",
        "valid = read_dataset(\"gazeta_val.jsonl\")\n",
        "test = read_dataset(\"gazeta_test.jsonl\")\n",
        "\n",
        "total = pd.concat([train, valid, test], axis=0)"
      ],
      "metadata": {
        "id": "296KC006Bz8D"
      },
      "execution_count": 4,
      "outputs": []
    },
    {
      "cell_type": "code",
      "source": [
        "total.head(1)"
      ],
      "metadata": {
        "colab": {
          "base_uri": "https://localhost:8080/",
          "height": 680
        },
        "id": "-2fFjfrAFQvB",
        "outputId": "37cbcf9c-be9f-4a3b-99a3-de91aee7fcdd"
      },
      "execution_count": 67,
      "outputs": [
        {
          "output_type": "execute_result",
          "data": {
            "text/plain": [
              "                  date                                                    url  \\\n",
              "0  2010-06-01 10:35:49  https://www.gazeta.ru/auto/2010/05/31_a_3377717.shtml   \n",
              "\n",
              "                                                                                                                                                                                                                                                                                                        summary  \\\n",
              "0  С 2011 года правительство отменяет самый раздражающий граждан налог – транспортный. Но поборы автомобилистов не прекратятся – налоги завуалируют в бензиновые акцизы и платные дороги, а цены на товары подскочат. Зато теперь собираемые деньги обещают пустить только на строительство и содержание дорог.   \n",
              "\n",
              "         title  \\\n",
              "0  Налог в бак   \n",
              "\n",
              "                                                                                                                                                                                                                                                                                                                                                                                                                                                                                                                                                                                                                                                                                                                                                                                                                                                                                                                                                                                                                                                                                                                                                                                                                                                                                                                                                                                                                                                                                                                                                                                                                                                                                                                                                                                                                                                                                                                                                                                                                                                                                                                                                                                                                                                                                                                                                                                                                                                                                                                                                                                                                                                                                                                                                                                                                                                                                                                                                                                                                                                                                                                                                                                                                                                                                                                                                                                                                                                                                                                                                                                                                                                                                                                                                                                                                                                                                                                                                                                                                                                                                                                                                                                                                                                                                                            text  \n",
              "0  Сегодня транспортный налог начисляется в зависимости от мощности автомобиля, причем цена для «сильных» машин выше, чем для малолитражек. Также ставку налога могут корректировать региональные власти: согласно Налоговому кодексу, базовый тариф, установленный правительством, может быть уменьшен в пять раз или увеличен до 10 раз. Сборы идут в региональные бюджеты, откуда растекаются на общие нужды. Транспортный налог — один из основных источников бюджетных доходов — предлагается направить исключительно на дорожные фонды. Так, автомобилисты будут понимать, за что они платят, а дорожники будут иметь гарантированный доход. Кроме налога дорожные фонды будут пополняться за счет бюджетных средств и проезда по платным дорогам. Более того, транспортный налог предлагается завуалировать в акцизы на бензин. Привычную и раздражающую систему ежегодной оплаты квитанции предлагается изменить, включив налог в стоимость топлива. Минэкономразвития говорит об удвоении акцизы, которая сегодня составляет 3,32 рубля за литр 92-го и 95-го бензина. Теперь платить будет не тот, кто купил машину мощнее, а тот, кто больше ездит. Владельцам многосильных автомобилей, которые сегодня отдают в год по 45–50 тысяч за машину, нововведение явно выгодно. Также выигрывают хозяева нескольких автомобилей, которые используются поочередно. Если в семье две-три машины, которые много стоят в гараже и не эксплуатируются, сейчас приходится платить за все. По новой схеме сбор будет значительно меньше. Но владельцы экономичных машин будут выкладывать гораздо больше при равном пробеге. Если цена бензина вырастет на 3,32 рубля, то владелец вазовской «девятки», потребляющей на 100 км в городе около 10 литров, заплатит в год 10162 рубля при среднем пробеге 30 тыс. км вместо 550 руб. по квитанции, а за Citroen C3 мощностью 73 л. с. и расходом 8,5 л на «сотню» придется в год выложить около 8,5 тысяч рублей. Сейчас – 511 руб. Хорошо укомплектованный Ford Focus cо 145-сильным мотором за 30 тыс. км. обойдется в 11155 «налоговых» рублей – на 6800 рублей дороже, чем при существующей ставке налогообложения, а вот налог на пожилой Mercedes-Benz S420 в кузове W140 при новой системе снизится почти вдвое. Сейчас владелец платит в год за 279 л. с. мотора около 41850 рублей. При среднем пробеге в 30 тыс. км в год и расходе топлива порядка 20 л на 100 км он истратит всего 6000 литров бензина и заплатит в казну вдвое меньше – 19920 рублей. С точки зрения власти решение отмены транспортного налога понятное и верное. В первую очередь, собираемость налога тут же возрастет до 100%, потому что новая система исключает возможность уклониться от уплаты. Кроме того, налоговая инспекция сэкономит бюджетные средства на доставке квитанций и судебных издержках при выколачивании средств с неплательщиков. Автоматически решается вопрос с бюрократической неразберихой после продажи машины или утилизации, когда налоговые органы присылают квитанцию на давно проданную машину. Но главное, что при новой схеме сборы значительно возрастут. Власти рассчитывают собирать до 62 млрд рублей в год. Экономисты уже предвидят тотальное повышение цен из-за роста стоимости перевозок. Ведь за бензин придется переплачивать и логистическим компаниям, которые включат дополнительные расходы в цену товара. Получается, что теперь за дороги будут платить не только автомобилисты, но и те, кто за рулем никогда не сидел. Но даже с учетом всех оговорок отмена транспортного налога — это важный и сильный политический шаг, который поможет снять напряжение в регионах. Дело в том, что скрытое налогообложение делает поборы незаметными и не травмирующими. Ведь власти и сейчас любят педалировать тем, что в стране самый низкий в Европе подоходный налог 13%. При этом они не афишируют другие отчисления в бюджет, которые снимаются с граждан с теми же акцизами и НДС. Есть также сомнения, что власти смогут обеспечить прозрачность расходования средств. Дорожные фонды в России уже существовали и были расформированы в 2000 году за коррупционность. Как предполагается распределять деньги между регионами и федеральным дорожным агентством и кто будет следить за потоками, в правительстве пока не решили.  "
            ],
            "text/html": [
              "\n",
              "  <div id=\"df-78524b77-41e4-403a-b797-09e21cdc1bb8\">\n",
              "    <div class=\"colab-df-container\">\n",
              "      <div>\n",
              "<style scoped>\n",
              "    .dataframe tbody tr th:only-of-type {\n",
              "        vertical-align: middle;\n",
              "    }\n",
              "\n",
              "    .dataframe tbody tr th {\n",
              "        vertical-align: top;\n",
              "    }\n",
              "\n",
              "    .dataframe thead th {\n",
              "        text-align: right;\n",
              "    }\n",
              "</style>\n",
              "<table border=\"1\" class=\"dataframe\">\n",
              "  <thead>\n",
              "    <tr style=\"text-align: right;\">\n",
              "      <th></th>\n",
              "      <th>date</th>\n",
              "      <th>url</th>\n",
              "      <th>summary</th>\n",
              "      <th>title</th>\n",
              "      <th>text</th>\n",
              "    </tr>\n",
              "  </thead>\n",
              "  <tbody>\n",
              "    <tr>\n",
              "      <th>0</th>\n",
              "      <td>2010-06-01 10:35:49</td>\n",
              "      <td>https://www.gazeta.ru/auto/2010/05/31_a_3377717.shtml</td>\n",
              "      <td>С 2011 года правительство отменяет самый раздражающий граждан налог – транспортный. Но поборы автомобилистов не прекратятся – налоги завуалируют в бензиновые акцизы и платные дороги, а цены на товары подскочат. Зато теперь собираемые деньги обещают пустить только на строительство и содержание дорог.</td>\n",
              "      <td>Налог в бак</td>\n",
              "      <td>Сегодня транспортный налог начисляется в зависимости от мощности автомобиля, причем цена для «сильных» машин выше, чем для малолитражек. Также ставку налога могут корректировать региональные власти: согласно Налоговому кодексу, базовый тариф, установленный правительством, может быть уменьшен в пять раз или увеличен до 10 раз. Сборы идут в региональные бюджеты, откуда растекаются на общие нужды. Транспортный налог — один из основных источников бюджетных доходов — предлагается направить исключительно на дорожные фонды. Так, автомобилисты будут понимать, за что они платят, а дорожники будут иметь гарантированный доход. Кроме налога дорожные фонды будут пополняться за счет бюджетных средств и проезда по платным дорогам. Более того, транспортный налог предлагается завуалировать в акцизы на бензин. Привычную и раздражающую систему ежегодной оплаты квитанции предлагается изменить, включив налог в стоимость топлива. Минэкономразвития говорит об удвоении акцизы, которая сегодня составляет 3,32 рубля за литр 92-го и 95-го бензина. Теперь платить будет не тот, кто купил машину мощнее, а тот, кто больше ездит. Владельцам многосильных автомобилей, которые сегодня отдают в год по 45–50 тысяч за машину, нововведение явно выгодно. Также выигрывают хозяева нескольких автомобилей, которые используются поочередно. Если в семье две-три машины, которые много стоят в гараже и не эксплуатируются, сейчас приходится платить за все. По новой схеме сбор будет значительно меньше. Но владельцы экономичных машин будут выкладывать гораздо больше при равном пробеге. Если цена бензина вырастет на 3,32 рубля, то владелец вазовской «девятки», потребляющей на 100 км в городе около 10 литров, заплатит в год 10162 рубля при среднем пробеге 30 тыс. км вместо 550 руб. по квитанции, а за Citroen C3 мощностью 73 л. с. и расходом 8,5 л на «сотню» придется в год выложить около 8,5 тысяч рублей. Сейчас – 511 руб. Хорошо укомплектованный Ford Focus cо 145-сильным мотором за 30 тыс. км. обойдется в 11155 «налоговых» рублей – на 6800 рублей дороже, чем при существующей ставке налогообложения, а вот налог на пожилой Mercedes-Benz S420 в кузове W140 при новой системе снизится почти вдвое. Сейчас владелец платит в год за 279 л. с. мотора около 41850 рублей. При среднем пробеге в 30 тыс. км в год и расходе топлива порядка 20 л на 100 км он истратит всего 6000 литров бензина и заплатит в казну вдвое меньше – 19920 рублей. С точки зрения власти решение отмены транспортного налога понятное и верное. В первую очередь, собираемость налога тут же возрастет до 100%, потому что новая система исключает возможность уклониться от уплаты. Кроме того, налоговая инспекция сэкономит бюджетные средства на доставке квитанций и судебных издержках при выколачивании средств с неплательщиков. Автоматически решается вопрос с бюрократической неразберихой после продажи машины или утилизации, когда налоговые органы присылают квитанцию на давно проданную машину. Но главное, что при новой схеме сборы значительно возрастут. Власти рассчитывают собирать до 62 млрд рублей в год. Экономисты уже предвидят тотальное повышение цен из-за роста стоимости перевозок. Ведь за бензин придется переплачивать и логистическим компаниям, которые включат дополнительные расходы в цену товара. Получается, что теперь за дороги будут платить не только автомобилисты, но и те, кто за рулем никогда не сидел. Но даже с учетом всех оговорок отмена транспортного налога — это важный и сильный политический шаг, который поможет снять напряжение в регионах. Дело в том, что скрытое налогообложение делает поборы незаметными и не травмирующими. Ведь власти и сейчас любят педалировать тем, что в стране самый низкий в Европе подоходный налог 13%. При этом они не афишируют другие отчисления в бюджет, которые снимаются с граждан с теми же акцизами и НДС. Есть также сомнения, что власти смогут обеспечить прозрачность расходования средств. Дорожные фонды в России уже существовали и были расформированы в 2000 году за коррупционность. Как предполагается распределять деньги между регионами и федеральным дорожным агентством и кто будет следить за потоками, в правительстве пока не решили.</td>\n",
              "    </tr>\n",
              "  </tbody>\n",
              "</table>\n",
              "</div>\n",
              "      <button class=\"colab-df-convert\" onclick=\"convertToInteractive('df-78524b77-41e4-403a-b797-09e21cdc1bb8')\"\n",
              "              title=\"Convert this dataframe to an interactive table.\"\n",
              "              style=\"display:none;\">\n",
              "        \n",
              "  <svg xmlns=\"http://www.w3.org/2000/svg\" height=\"24px\"viewBox=\"0 0 24 24\"\n",
              "       width=\"24px\">\n",
              "    <path d=\"M0 0h24v24H0V0z\" fill=\"none\"/>\n",
              "    <path d=\"M18.56 5.44l.94 2.06.94-2.06 2.06-.94-2.06-.94-.94-2.06-.94 2.06-2.06.94zm-11 1L8.5 8.5l.94-2.06 2.06-.94-2.06-.94L8.5 2.5l-.94 2.06-2.06.94zm10 10l.94 2.06.94-2.06 2.06-.94-2.06-.94-.94-2.06-.94 2.06-2.06.94z\"/><path d=\"M17.41 7.96l-1.37-1.37c-.4-.4-.92-.59-1.43-.59-.52 0-1.04.2-1.43.59L10.3 9.45l-7.72 7.72c-.78.78-.78 2.05 0 2.83L4 21.41c.39.39.9.59 1.41.59.51 0 1.02-.2 1.41-.59l7.78-7.78 2.81-2.81c.8-.78.8-2.07 0-2.86zM5.41 20L4 18.59l7.72-7.72 1.47 1.35L5.41 20z\"/>\n",
              "  </svg>\n",
              "      </button>\n",
              "      \n",
              "  <style>\n",
              "    .colab-df-container {\n",
              "      display:flex;\n",
              "      flex-wrap:wrap;\n",
              "      gap: 12px;\n",
              "    }\n",
              "\n",
              "    .colab-df-convert {\n",
              "      background-color: #E8F0FE;\n",
              "      border: none;\n",
              "      border-radius: 50%;\n",
              "      cursor: pointer;\n",
              "      display: none;\n",
              "      fill: #1967D2;\n",
              "      height: 32px;\n",
              "      padding: 0 0 0 0;\n",
              "      width: 32px;\n",
              "    }\n",
              "\n",
              "    .colab-df-convert:hover {\n",
              "      background-color: #E2EBFA;\n",
              "      box-shadow: 0px 1px 2px rgba(60, 64, 67, 0.3), 0px 1px 3px 1px rgba(60, 64, 67, 0.15);\n",
              "      fill: #174EA6;\n",
              "    }\n",
              "\n",
              "    [theme=dark] .colab-df-convert {\n",
              "      background-color: #3B4455;\n",
              "      fill: #D2E3FC;\n",
              "    }\n",
              "\n",
              "    [theme=dark] .colab-df-convert:hover {\n",
              "      background-color: #434B5C;\n",
              "      box-shadow: 0px 1px 3px 1px rgba(0, 0, 0, 0.15);\n",
              "      filter: drop-shadow(0px 1px 2px rgba(0, 0, 0, 0.3));\n",
              "      fill: #FFFFFF;\n",
              "    }\n",
              "  </style>\n",
              "\n",
              "      <script>\n",
              "        const buttonEl =\n",
              "          document.querySelector('#df-78524b77-41e4-403a-b797-09e21cdc1bb8 button.colab-df-convert');\n",
              "        buttonEl.style.display =\n",
              "          google.colab.kernel.accessAllowed ? 'block' : 'none';\n",
              "\n",
              "        async function convertToInteractive(key) {\n",
              "          const element = document.querySelector('#df-78524b77-41e4-403a-b797-09e21cdc1bb8');\n",
              "          const dataTable =\n",
              "            await google.colab.kernel.invokeFunction('convertToInteractive',\n",
              "                                                     [key], {});\n",
              "          if (!dataTable) return;\n",
              "\n",
              "          const docLinkHtml = 'Like what you see? Visit the ' +\n",
              "            '<a target=\"_blank\" href=https://colab.research.google.com/notebooks/data_table.ipynb>data table notebook</a>'\n",
              "            + ' to learn more about interactive tables.';\n",
              "          element.innerHTML = '';\n",
              "          dataTable['output_type'] = 'display_data';\n",
              "          await google.colab.output.renderOutput(dataTable, element);\n",
              "          const docLink = document.createElement('div');\n",
              "          docLink.innerHTML = docLinkHtml;\n",
              "          element.appendChild(docLink);\n",
              "        }\n",
              "      </script>\n",
              "    </div>\n",
              "  </div>\n",
              "  "
            ]
          },
          "metadata": {},
          "execution_count": 67
        }
      ]
    },
    {
      "cell_type": "code",
      "source": [
        "total[\"summary\"].str.len().hist()"
      ],
      "metadata": {
        "colab": {
          "base_uri": "https://localhost:8080/",
          "height": 283
        },
        "id": "giXdZU2FAGmM",
        "outputId": "c15f8c38-a7df-4887-8931-f0d5cf131bb6"
      },
      "execution_count": 68,
      "outputs": [
        {
          "output_type": "execute_result",
          "data": {
            "text/plain": [
              "<matplotlib.axes._subplots.AxesSubplot at 0x7f9e035f1a60>"
            ]
          },
          "metadata": {},
          "execution_count": 68
        },
        {
          "output_type": "display_data",
          "data": {
            "text/plain": [
              "<Figure size 432x288 with 1 Axes>"
            ],
            "image/png": "[encoded data removed]"
          },
          "metadata": {
            "needs_background": "light"
          }
        }
      ]
    },
    {
      "cell_type": "code",
      "source": [
        "total[\"summary\"].to_csv(r'train.txt', header=None, index=None, sep='\\t', mode='a', encoding='utf-8')"
      ],
      "metadata": {
        "id": "CaFPLxXCKuiu"
      },
      "execution_count": 71,
      "outputs": []
    },
    {
      "cell_type": "code",
      "source": [
        "pymorphy2_analyzer = MorphAnalyzer()\n",
        "wp_tokenize = WordPunctTokenizer()\n",
        "punctuation = string.punctuation\n",
        "\n",
        "russian = stopwords.words(\"russian\")\n",
        "english = stopwords.words(\"english\")"
      ],
      "metadata": {
        "id": "BwwC5miJEBL7"
      },
      "execution_count": 5,
      "outputs": []
    },
    {
      "cell_type": "code",
      "source": [
        "def preprocess(text: str, \n",
        "               remove_punct: bool = True,\n",
        "               lemma: bool = True) -> list:\n",
        "\n",
        "    if not isinstance(text, str):\n",
        "        text = str(text)\n",
        "\n",
        "    text = re.sub(\"\\s\\s+\", \" \", text)\n",
        "    if remove_punct:\n",
        "        text = re.sub(r\"[^a-zA-Zа-яА-Я0-9]\", \" \", text)\n",
        "        text = re.sub(r\"[^a-zA-Zа-яА-Я]\", \" \", text)\n",
        "        text = re.sub(r\"[^\\w\\s]\", \" \", text)\n",
        "    else:\n",
        "        text = re.sub(f\"[^a-zA-Zа-яА-Я{punctuation}]\", \" \", text)\n",
        "\n",
        "    text = text.lower().strip().replace(',', '')\n",
        "    text = [w for w in text.split() if len(w)>1]\n",
        "    text = ' '.join([w for w in text if w not in russian and w not in english])\n",
        "    \n",
        "    text = wp_tokenize.tokenize(text)\n",
        "    \n",
        "    if lemma:\n",
        "        lemm_text = []\n",
        "        # text = [pymorphy2_analyzer.parse(w)[0].normal_form for w in text]\n",
        "        for word in text:\n",
        "            if word in cache:\n",
        "                lemm_text.append(cache[word])\n",
        "            else:\n",
        "                temp_w = cache[word] = pymorphy2_analyzer.parse(word)[0].normal_form\n",
        "                lemm_text.append(temp_w)\n",
        "        return lemm_text\n",
        "    \n",
        "    return text"
      ],
      "metadata": {
        "id": "iuuxG2xhEBJc"
      },
      "execution_count": 6,
      "outputs": []
    },
    {
      "cell_type": "code",
      "source": [
        "# train[\"summary_prep\"] = train[\"summary\"].apply(preprocess)\n",
        "# valid[\"summary_prep\"] = valid[\"summary\"].apply(preprocess)\n",
        "# test[\"summary_prep\"] = test[\"summary\"].apply(preprocess)\n",
        "\n",
        "total[\"summary_prep\"] = total[\"summary\"].apply(preprocess)"
      ],
      "metadata": {
        "id": "PbVoc5wxNBhp"
      },
      "execution_count": 7,
      "outputs": []
    },
    {
      "cell_type": "code",
      "source": [
        "def softmax(x):\n",
        "    e_x = np.exp(x - np.max(x))\n",
        "    return e_x / e_x.sum()\n",
        "\n",
        "def get_topk_similar(text, vec_corpus, k=5):\n",
        "    similarity = softmax(100 * text @ vec_corpus.T)\n",
        "    indices = np.argsort(similarity)[::-1]\n",
        "    return indices[:k].tolist()"
      ],
      "metadata": {
        "id": "a0D64Gp_EBHJ"
      },
      "execution_count": 97,
      "outputs": []
    },
    {
      "cell_type": "code",
      "source": [
        "# model = fasttext.train_unsupervised('train.txt', model='skipgram')  # unsupervised as we do not have labels"
      ],
      "metadata": {
        "id": "Ok7F3jARKFZF"
      },
      "execution_count": null,
      "outputs": []
    },
    {
      "cell_type": "code",
      "source": [
        "# print(model['правительство'])  # get embedding"
      ],
      "metadata": {
        "id": "olUnlTWoKFW1"
      },
      "execution_count": null,
      "outputs": []
    },
    {
      "cell_type": "code",
      "source": [
        "wmodel = Word2Vec(size=200, window=5, min_count=2, sg=1, hs=0, negative=10, workers=32, seed=34)\n",
        "\n",
        "wmodel.build_vocab(total[\"summary_prep\"].values, progress_per=200)\n",
        "\n",
        "wmodel.train(total[\"summary_prep\"].values, total_examples=wmodel.corpus_count, epochs=20, report_delay=1)\n",
        "wmodel.init_sims(replace=True)  # compute L2 norms istead of raw vectors / wmodel now \"read-only\""
      ],
      "metadata": {
        "id": "lSNElQa-EBE4"
      },
      "execution_count": 86,
      "outputs": []
    },
    {
      "cell_type": "code",
      "source": [
        "modelFT = FastText(sentences=total[\"summary_prep\"].values, vector_size=200, min_count=1, window=5, negative=10, workers=32, seed=34)"
      ],
      "metadata": {
        "id": "ec3vjZHQppeq"
      },
      "execution_count": null,
      "outputs": []
    },
    {
      "cell_type": "code",
      "source": [
        "wmodel.most_similar(positive=['женщина', 'спортсмен'], negative=['мужчина'])"
      ],
      "metadata": {
        "colab": {
          "base_uri": "https://localhost:8080/"
        },
        "id": "ND8q3bDhRV7N",
        "outputId": "89a6d0da-ea26-4037-dace-c47294d4d19e"
      },
      "execution_count": 87,
      "outputs": [
        {
          "output_type": "execute_result",
          "data": {
            "text/plain": [
              "[('спортсменка', 0.5283582806587219),\n",
              " ('атлет', 0.4796120226383209),\n",
              " ('биатлонистка', 0.4649542570114136),\n",
              " ('кэллахан', 0.46061283349990845),\n",
              " ('гимнастка', 0.45593640208244324),\n",
              " ('биляла', 0.45045411586761475),\n",
              " ('допинг', 0.44988030195236206),\n",
              " ('эритропоэтина', 0.4471461772918701),\n",
              " ('тяжелоатлет', 0.443185031414032),\n",
              " ('фигуристый', 0.44306042790412903)]"
            ]
          },
          "metadata": {},
          "execution_count": 87
        }
      ]
    },
    {
      "cell_type": "code",
      "source": [
        "wmodel.most_similar(positive=['договор', 'мир'], negative=['конфликт'])"
      ],
      "metadata": {
        "colab": {
          "base_uri": "https://localhost:8080/"
        },
        "id": "_-J3O6PvcJz1",
        "outputId": "6be34f3f-0a17-4e96-a294-df1985914a67"
      },
      "execution_count": 88,
      "outputs": [
        {
          "output_type": "execute_result",
          "data": {
            "text/plain": [
              "[('рсмд', 0.3980568051338196),\n",
              " ('европа', 0.378971129655838),\n",
              " ('версальский', 0.3737602233886719),\n",
              " ('ратифицировать', 0.37301528453826904),\n",
              " ('мировой', 0.37288761138916016),\n",
              " ('ненападение', 0.3664640784263611),\n",
              " ('снв', 0.3617566227912903),\n",
              " ('непродление', 0.3599446415901184),\n",
              " ('дрсмд', 0.3552972674369812),\n",
              " ('соглашение', 0.3541334271430969)]"
            ]
          },
          "metadata": {},
          "execution_count": 88
        }
      ]
    },
    {
      "cell_type": "code",
      "source": [
        "def aggregate_vectors(items, agg_func=np.mean):\n",
        "    n = len(items)\n",
        "    item_vec = np.zeros((n, 200))\n",
        "    for i in range(n):\n",
        "        try:\n",
        "            item_vec[i, :] = wmodel.wv.get_vector(items[i])\n",
        "        except KeyError:\n",
        "            item_vec[i, :] = np.zeros((200,))\n",
        "\n",
        "    return agg_func(item_vec, axis=0)"
      ],
      "metadata": {
        "id": "1F3Wi3ZbF_cG"
      },
      "execution_count": 89,
      "outputs": []
    },
    {
      "cell_type": "code",
      "source": [
        "aggregate_vectors(total[\"summary_prep\"].iloc[0]).shape"
      ],
      "metadata": {
        "colab": {
          "base_uri": "https://localhost:8080/"
        },
        "id": "-Epwzr7pF_Zv",
        "outputId": "e15f069d-4968-42c4-90b3-2a9af1ff1efb"
      },
      "execution_count": 92,
      "outputs": [
        {
          "output_type": "execute_result",
          "data": {
            "text/plain": [
              "(200,)"
            ]
          },
          "metadata": {},
          "execution_count": 92
        }
      ]
    },
    {
      "cell_type": "code",
      "source": [
        "# https://github.com/klyshinsky/NLP_VVSU_2021/blob/main/Lecture_20210511-W2V.ipynb"
      ],
      "metadata": {
        "id": "QfnduO7Ad8he"
      },
      "execution_count": null,
      "outputs": []
    },
    {
      "cell_type": "code",
      "source": [
        "wmodel.wv.get_vector(\"женщина\") @ wmodel.wv.get_vector(\"президент\")  # discriminative embeddings :)"
      ],
      "metadata": {
        "colab": {
          "base_uri": "https://localhost:8080/"
        },
        "id": "AGV5KmRHeAey",
        "outputId": "fac0540e-73be-41eb-e6d3-8cd719a0e797"
      },
      "execution_count": 93,
      "outputs": [
        {
          "output_type": "execute_result",
          "data": {
            "text/plain": [
              "0.1591447"
            ]
          },
          "metadata": {},
          "execution_count": 93
        }
      ]
    },
    {
      "cell_type": "code",
      "source": [
        "X = pd.DataFrame(data=np.zeros((len(total), 200)), columns=[f\"feat_{i+1}\" for i in range(200)])\n",
        "for idx, row in X.iterrows():\n",
        "    X.iloc[idx, :] = aggregate_vectors(total[\"summary_prep\"].iloc[idx])"
      ],
      "metadata": {
        "id": "bvYLlasKoSKY"
      },
      "execution_count": 94,
      "outputs": []
    },
    {
      "cell_type": "code",
      "source": [
        "indices = get_topk_similar(aggregate_vectors(\"новости спорт европа\".split()), X)"
      ],
      "metadata": {
        "id": "G85J_pDKoSFq"
      },
      "execution_count": 100,
      "outputs": []
    },
    {
      "cell_type": "code",
      "source": [
        "total[\"summary\"].iloc[indices]"
      ],
      "metadata": {
        "colab": {
          "base_uri": "https://localhost:8080/"
        },
        "id": "zV7ZY59XpQ_o",
        "outputId": "a05a5ce9-4abf-41ed-d6c0-6870f22e4ee5"
      },
      "execution_count": 101,
      "outputs": [
        {
          "output_type": "execute_result",
          "data": {
            "text/plain": [
              "22639                Александр Третьяков стал третьим на этапе Кубка мира по скелетону в Кенигзее. Иван Скобрев пока не совсем удачно выступает на чемпионате Европы по конькобежному спорту в классическом многоборье, а российские лыжники даже не вышли в финал в спринте на этапе Кубка мира в Либереце.\n",
              "15465                                                                                                 В голландском Херенвене завершился чемпионат мира по конькобежному спорту на отдельных дистанциях, по итогам которого сборная России, завоевав серебро и бронзу, стала восьмой в общекомандном зачете.\n",
              "24173                                                                                                                                                                      Российские лыжники финишировали третьими в мужской эстафете на чемпионате мира по лыжным видам спорта. Золото завоевали норвежцы.\n",
              "9978     Министр спорта, туризма и молодежной политики Виталий Мутко подвел итоги чемпионата мира по водным видам спорта. По мнению министра, сборная России выступила на своем прежнем уровне. Мутко отдельно отметил выступление синхронисток, а также выразил недовольство словами некоторых спортсменов.\n",
              "3505                                                                                                       АЕК, соперник «Зенита» по Лиге Европы, в воскресенье проиграл аутсайдеру чемпионата Греции «Паниониосу». Другой соперник петербуржцев, «Андерлехт», в чемпионате Бельгии обыграл лидера – «Генк».\n",
              "Name: summary, dtype: object"
            ]
          },
          "metadata": {},
          "execution_count": 101
        }
      ]
    },
    {
      "cell_type": "code",
      "source": [
        "indices = get_topk_similar(aggregate_vectors(\"налоги транспорт новости\".split()), X)"
      ],
      "metadata": {
        "id": "ggYjZZMppQ7d"
      },
      "execution_count": 102,
      "outputs": []
    },
    {
      "cell_type": "code",
      "source": [
        "total[\"summary\"].iloc[indices]"
      ],
      "metadata": {
        "colab": {
          "base_uri": "https://localhost:8080/"
        },
        "id": "Yhpl4CYkw1ih",
        "outputId": "bed944c1-c3dd-440c-f3e9-73b9e8431631"
      },
      "execution_count": 103,
      "outputs": [
        {
          "output_type": "execute_result",
          "data": {
            "text/plain": [
              "41869                                                                                                                                                                                                                                МЦК создано для распределения пассажиропотока, уменьшения времени в пути и удобства пассажиров, передвигающихся по Москве на общественном транспорте.\n",
              "17973    Москвичи начинают пересаживаться из машин в общественный транспорт, рапортуют столичные власти. Прирост пассажиропотока идёт в основном за счёт рельсового транспорта, а число желающих пользоваться автобусами и троллейбусами практически не изменилось. Зато на участках, где под общественный транспорт выделили специальные полосы, сильно упали скорости остального потока.\n",
              "10820                                                                                                               Столичным водителям разрешили парковаться на тротуарах. Инициатива принадлежит департаменту транспорта: по мнению чиновников, такая мера позволит освободить выделенные для общественного транспорта полосы от стоящих машин. Эксперты называют решение неоднозначным.\n",
              "3009                                                                                                     На сайте мэра Москвы теперь можно оформить цифровой пропуск для передвижения по городу на личном и общественном транспорте. В столичном регионе пропускной режим вводится с 15 апреля из-за пандемии коронавируса. Всего есть три типа пропусков — рабочий, личный и медицинский.\n",
              "2428                                                                                                                  Всемирный день без автомобиля не изменил ситуацию на столичных дорогах. На общественный транспорт демонстративно пересели некоторые депутаты и чиновники, однако пробки в Москве не рассосались. В Европе акция по отказу от личного транспорта продолжается неделю.\n",
              "Name: summary, dtype: object"
            ]
          },
          "metadata": {},
          "execution_count": 103
        }
      ]
    },
    {
      "cell_type": "markdown",
      "source": [
        "**Doc2Vec**"
      ],
      "metadata": {
        "id": "UVXdotKWRtKF"
      }
    },
    {
      "cell_type": "code",
      "source": [
        "def read_corpus(series, tokens_only=False):\n",
        "    for i, tokens in enumerate(series):\n",
        "        tokens = gensim.utils.simple_preprocess(tokens)\n",
        "        if tokens_only:\n",
        "            yield tokens\n",
        "        else:\n",
        "            yield gensim.models.doc2vec.TaggedDocument(tokens, [i])"
      ],
      "metadata": {
        "id": "9buaOV-EOgW_"
      },
      "execution_count": 24,
      "outputs": []
    },
    {
      "cell_type": "code",
      "source": [
        "train_corpus = list(read_corpus(train[\"summary_prep\"].apply(' '.join).values))"
      ],
      "metadata": {
        "id": "hdIH5CQgOgUq"
      },
      "execution_count": 26,
      "outputs": []
    },
    {
      "cell_type": "code",
      "source": [
        "dmodel = Doc2Vec(vector_size=200, min_count=2, epochs=20, window=10, hs=0, negative=10, alpha=0.03, min_alpha=0.0007, seed=42)\n",
        "dmodel.build_vocab(train_corpus)\n",
        "\n",
        "dmodel.train(train_corpus, total_examples=dmodel.corpus_count, epochs=dmodel.epochs)"
      ],
      "metadata": {
        "id": "H1giyeBkR2x6"
      },
      "execution_count": 27,
      "outputs": []
    },
    {
      "cell_type": "code",
      "source": [
        "X = np.empty((len(test[\"summary_prep\"]), 200))\n",
        "\n",
        "for i, token in enumerate(test[\"summary_prep\"]):\n",
        "    X[i, :] = dmodel.infer_vector(token)"
      ],
      "metadata": {
        "id": "aAZvV4FlR2vu"
      },
      "execution_count": 30,
      "outputs": []
    },
    {
      "cell_type": "code",
      "source": [
        "get_topk_similar(dmodel.infer_vector(\"новости мировой политики\"), X)"
      ],
      "metadata": {
        "colab": {
          "base_uri": "https://localhost:8080/"
        },
        "id": "Ayh6ghCMSAK0",
        "outputId": "f74d0d63-05bc-490c-f092-e30c20f44b49"
      },
      "execution_count": 59,
      "outputs": [
        {
          "output_type": "execute_result",
          "data": {
            "text/plain": [
              "array([3343, 1498, 4076, 1517, 3526])"
            ]
          },
          "metadata": {},
          "execution_count": 59
        }
      ]
    },
    {
      "cell_type": "code",
      "source": [
        "test[\"summary\"].iloc[[3343, 1498, 4076, 1517, 3526]]"
      ],
      "metadata": {
        "colab": {
          "base_uri": "https://localhost:8080/"
        },
        "id": "n5xd15Ooh9-S",
        "outputId": "9ee9ffdd-f8b8-4ac7-f00c-fb17ad0709de"
      },
      "execution_count": 60,
      "outputs": [
        {
          "output_type": "execute_result",
          "data": {
            "text/plain": [
              "3343         Из-за роста распространения новых штаммов коронавируса зарубежные страны вновь ограничивают авиасообщение. Так, в США, некоторых странах Европы и Израиле ограничили перелеты из-за британской и южноафриканской мутации SARS-CoV-2. Великобритания закрыла границы с более чем 10 странами из-за бразильского штамма. Во многих странах Азии запрещены авиаперевозки из всех государств с высоким уровнем заболевания, а Австралия не планирует открываться для туристов до конца 2021 года.\n",
              "1498                                                                                                                          Последний использовавшийся в России для пассажирских перевозок Ту-154 выведен из эксплуатации. Свой заключительный полет он совершил из Мирного в Новосибирск. Дальнейшую судьбу машины определят позднее. Российские авиакомпании начали отказываться от Ту-154 еще в 2000-х годах по причине экономической нецелесообразности и запрета на полеты этого самолета в Европе.\n",
              "4076                      Варшава запретила госсекретарю Франции посетить одну из «зон, свободных от ЛГБТ». В Польше наличие таких территорий называют фейком, хотя за последние два года около 100 муниципалитетов приняли резолюции о противодействии идеологии ЛГБТ. По оценке экспертов, власти ограничили передвижение французского чиновника для того, чтобы показать себя хозяевами своей земли и заручиться поддержкой избирателей, не поддерживающих курс ЕС на особые права для секс-меньшинств.\n",
              "1517    Многие пациенты с тяжелым течением коронавируса оказываются изолированными от родственников на долгие месяцы во время лечения в больницах и не имеют никаких способов связи с ними. Выход нашли в больницах Великобритании, США и Индии — там в палатах устанавливают планшеты, а медсестры рассказывают людям, как пользоваться сервисами видеосвязи. По-своему выручают пациентов и врачи из Италии: они проводят прощальные звонки для тех, кто хочет сказать последние слова родным и близким.\n",
              "3526                                                                                Словения готовится стать председателем Совета ЕС, и это уже вызывает опасения в Европе — премьер-министр республики известен своими популистскими взглядами и близостью с венгерским правительством. Любляна заверяет, что будет нейтральным арбитром. И некоторые члены ЕС возлагают на председательство Словении определенные надежды. Правда, эксперт сомневается, что ей удастся стать «рупором трансформации ЕС».\n",
              "Name: summary, dtype: object"
            ]
          },
          "metadata": {},
          "execution_count": 60
        }
      ]
    },
    {
      "cell_type": "code",
      "source": [
        "import gensim.downloader as api"
      ],
      "metadata": {
        "id": "Ps17OwUfgejs"
      },
      "execution_count": 32,
      "outputs": []
    },
    {
      "cell_type": "code",
      "source": [
        "rus_model = api.load(\"word2vec-ruscorpora-300\")"
      ],
      "metadata": {
        "colab": {
          "base_uri": "https://localhost:8080/"
        },
        "id": "7lZlSJoFgehg",
        "outputId": "e3109684-b63a-48c3-c202-5ee6c770b326"
      },
      "execution_count": 45,
      "outputs": [
        {
          "output_type": "stream",
          "name": "stdout",
          "text": [
            "[==================================================] 100.0% 198.8/198.8MB downloaded\n"
          ]
        }
      ]
    },
    {
      "cell_type": "code",
      "source": [
        "rus_model.most_similar(positive=['женщина_NOUN', 'спортсмен_NOUN'], negative=['мужчина_NOUN'])"
      ],
      "metadata": {
        "colab": {
          "base_uri": "https://localhost:8080/"
        },
        "id": "CpeJbkrJSAId",
        "outputId": "755d82f5-37ed-4063-f3af-5a01ba58de0b"
      },
      "execution_count": 50,
      "outputs": [
        {
          "output_type": "execute_result",
          "data": {
            "text/plain": [
              "[('спортсменка_NOUN', 0.6279226541519165),\n",
              " ('спорт_NOUN', 0.6089626550674438),\n",
              " ('фигурист_NOUN', 0.6064136028289795),\n",
              " ('легкоатлет_NOUN', 0.5843838453292847),\n",
              " ('тренер_NOUN', 0.582610011100769),\n",
              " ('ориентировщик_NOUN', 0.5732560157775879),\n",
              " ('соревнование_NOUN', 0.5651782751083374),\n",
              " ('футболист_NOUN', 0.556661069393158),\n",
              " ('теннисист_NOUN', 0.555870771408081),\n",
              " ('атлет_NOUN', 0.5413795709609985)]"
            ]
          },
          "metadata": {},
          "execution_count": 50
        }
      ]
    },
    {
      "cell_type": "markdown",
      "source": [
        "**Annoy knn centroids approximation**"
      ],
      "metadata": {
        "id": "n0Zav4W1rNwN"
      }
    },
    {
      "cell_type": "code",
      "source": [
        "modelFT = FastText(sentences=total[\"summary_prep\"].values, size=200, min_count=1, window=5, negative=10, workers=32, seed=34)"
      ],
      "metadata": {
        "id": "xPm4-M5ru6xV"
      },
      "execution_count": 105,
      "outputs": []
    },
    {
      "cell_type": "code",
      "source": [
        "modelWV = Word2Vec(sentences=total[\"summary_prep\"].values, size=200, min_count=1, window=5, negative=10, workers=32, seed=34)"
      ],
      "metadata": {
        "id": "26Jd-sRTu6ul"
      },
      "execution_count": 106,
      "outputs": []
    },
    {
      "cell_type": "code",
      "source": [
        "# efficient nearest neighbor search\n",
        "w2v_index = annoy.AnnoyIndex(200, \"angular\")  # Metric can be \"angular\", \"euclidean\", \"manhattan\", \"hamming\", or \"dot\"\n",
        "ft_index = annoy.AnnoyIndex(200, \"angular\")\n",
        "\n",
        "\n",
        "for i in range(len(total)):\n",
        "    n_w2v = 0\n",
        "    n_ft = 0\n",
        "    vector_ft = np.zeros((200,))\n",
        "    vector_wv = np.zeros((200,))\n",
        "\n",
        "    for word in total[\"summary_prep\"].iloc[i]:\n",
        "        if word in modelWV.wv:\n",
        "            vector_wv += modelWV.wv[word]\n",
        "            n_w2v += 1\n",
        "        if word in modelFT.wv:\n",
        "            vector_ft += modelFT.wv[word]\n",
        "            n_ft += 1\n",
        "    if n_w2v > 0:\n",
        "        vector_wv = vector_wv / np.linalg.norm(vector_wv) # /= n_w2v\n",
        "    if n_ft > 0:\n",
        "        vector_ft = vector_ft / np.linalg.norm(vector_ft)  # /= n_ft\n",
        "\n",
        "    w2v_index.add_item(i, vector_wv)  # adds item i (any nonnegative integer) with vector v\n",
        "    ft_index.add_item(i, vector_ft)\n",
        "\n",
        "    if i > 100_000:\n",
        "        break\n",
        "\n",
        "w2v_index.build(10)  # builds a forest of n_trees=10 trees. More trees gives higher precision when querying. After calling build, no more items can be added.\n",
        "ft_index.build(10)\n",
        "# https://github.com/spotify/annoy"
      ],
      "metadata": {
        "colab": {
          "base_uri": "https://localhost:8080/"
        },
        "id": "ZjukHNxYra6z",
        "outputId": "5f0ab28a-eb38-46a8-ba0d-00df0a4e16d1"
      },
      "execution_count": 119,
      "outputs": [
        {
          "output_type": "execute_result",
          "data": {
            "text/plain": [
              "True"
            ]
          },
          "metadata": {},
          "execution_count": 119
        }
      ]
    },
    {
      "cell_type": "code",
      "source": [
        "def get_recommendation(query, index, model, df=total, topk=5):\n",
        "    query = preprocess(query)\n",
        "    vector = np.zeros((200, ))\n",
        "    for word in query:\n",
        "        vector += model.wv[word]\n",
        "    vector = vector / np.linalg.norm(vector)\n",
        "    response = index.get_nns_by_vector(vector, topk)  # returns the topk closest items\n",
        "    return df[\"summary\"].iloc[response]"
      ],
      "metadata": {
        "id": "KXzUqU8gyFeH"
      },
      "execution_count": 120,
      "outputs": []
    },
    {
      "cell_type": "code",
      "source": [
        "get_recommendation(\"новости мировой политики\", w2v_index, modelWV)"
      ],
      "metadata": {
        "colab": {
          "base_uri": "https://localhost:8080/"
        },
        "id": "lFiZVyKiyFbI",
        "outputId": "50c954c3-d921-454a-b145-629e7a83479f"
      },
      "execution_count": 121,
      "outputs": [
        {
          "output_type": "execute_result",
          "data": {
            "text/plain": [
              "56243         Саммит G7, закончившийся сегодня во французском Биаррице, показал: внимание публики во всем мире в наше время привлекают не столько политические заявления, касающиеся изменения климата или тарифной войны между США и Китаем, сколько манера общения мировых лидеров. Кто и что сказал – не слишком существенно: другое дело – какими знаками внимания обмениваются лидеры стран-членов «большой семерки» и их супруги.\n",
              "57451                                                                                        В Америке разгорелся политический скандал после звонка президента США Дональда Трампа украинскому коллеге Владимиру Зеленому. Политика вновь влияет и с переменным успехом давит на фондовый рынок. Например, для S&P 500 и Nasdaq вторник стал худшим днем месяца. На этом фоне миллиарды начали терять даже бизнесмены из списка Forbes.\n",
              "8419                                 Во французском Довиле открывается саммит стран «большой восьмерки». Впервые одной из тем в рамках саммита окажется мировое регулирование интернета. Впрочем, интернет обсудят не на официальных переговорах, а на специальном форуме. Ключевой же темой переговоров мировых лидеров обещают стать последствия революций в Африке и судьба поста главы МВФ после скандала с Домиником Стросс-Каном.\n",
              "52239    Ангела Меркель признала наличие в Германии проблемы антисемитизма. Заявление канцлер сделала после слов германского чиновника о том, что евреям в целях безопасности лучше не носить кипу — религиозный головной убор — в публичных местах. И хотя этот призыв и вызвал шквал критики, исследователи говорят, что Германия занимает третью строчку после США и Великобритании по уровню роста антисемитских настроений в мире.\n",
              "33243                                                                                                                                                                                  В преддверии выборов в Германии полемика между Ангелой Меркель и ее основным соперником Мартином Шульцем резко обострилась. Независимость канцлера от США и политика в отношении России становятся центральными вопросами предвыборной кампании.\n",
              "Name: summary, dtype: object"
            ]
          },
          "metadata": {},
          "execution_count": 121
        }
      ]
    },
    {
      "cell_type": "code",
      "source": [
        "get_recommendation(\"новости мировой политики\", ft_index, modelFT)"
      ],
      "metadata": {
        "colab": {
          "base_uri": "https://localhost:8080/"
        },
        "id": "DUTgqVyG16Xb",
        "outputId": "0327ff4b-6ffd-49f9-c4bf-784308946609"
      },
      "execution_count": 122,
      "outputs": [
        {
          "output_type": "execute_result",
          "data": {
            "text/plain": [
              "43335                                                                                                                                                                                        Компания Marvel уволила автора комиксов по «Звездным войнам» Чака Вендига за «непристойное поведение» в социальных сетях. По мнению самого Вендига, это произошло из-за его критических постов по поводу политической (и не только) ситуации в США и мире в целом.\n",
              "22735                                                                                                                                         Российская экономическая политика сводится к попыткам устоять в случае катаклизмов ведущих экономик мира под прекраснодушные разговоры о бурном росте ВВП и продолжении модернизации. При таком раскладе Россия не войдет в число экономических оплотов мира и не реализует свои гигантские политические амбиции.\n",
              "3378     Владимир Путин предупредил мировое сообщество об угрозе начала борьбы всех против всех на фоне нарастания международных противоречий. В своем первом за 12 лет выступлении на ВЭФ в Давосе президент России сосредоточился на ключевых мировых вызовах — социально-экономическом, общественно-политическом и обострении международных проблем. При этом Путин также назвал четыре приоритета политики, способной обеспечить гармоничное развитие мира.\n",
              "27633                                               Главы центробанков на встрече в американском Джексон-Холе заверили друг друга, что готовы к сокращению поддержки от Федрезерва. Впрочем, ЦБ развивающихся стран были заметно пессимистичнее, ожидая от этого решения ФРС проблем для своих стран — оттока капитала и роста стоимости займов. Бодрость глав ЦБ ведущих стран мира, а также негативная статистика из США поддержали мировые биржевые индексы.\n",
              "56243                                 Саммит G7, закончившийся сегодня во французском Биаррице, показал: внимание публики во всем мире в наше время привлекают не столько политические заявления, касающиеся изменения климата или тарифной войны между США и Китаем, сколько манера общения мировых лидеров. Кто и что сказал – не слишком существенно: другое дело – какими знаками внимания обмениваются лидеры стран-членов «большой семерки» и их супруги.\n",
              "Name: summary, dtype: object"
            ]
          },
          "metadata": {},
          "execution_count": 122
        }
      ]
    }
  ]
}