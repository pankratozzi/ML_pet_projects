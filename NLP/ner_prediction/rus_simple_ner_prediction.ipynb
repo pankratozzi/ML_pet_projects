{
  "cells": [
    {
      "cell_type": "code",
      "execution_count": null,
      "metadata": {
        "id": "Ik_3n4k_PJOU"
      },
      "outputs": [],
      "source": [
        "!git clone https://github.com/UniversalDependencies/UD_Russian-SynTagRus.git\n",
        "!pip install -qq pyconll"
      ]
    },
    {
      "cell_type": "code",
      "execution_count": null,
      "metadata": {
        "id": "fq3uz41iPUFV"
      },
      "outputs": [],
      "source": [
        "import warnings\n",
        "warnings.filterwarnings(\"ignore\")\n",
        "\n",
        "import pyconll\n",
        "import numpy as np\n",
        "\n",
        "import nltk\n",
        "from nltk.tag import DefaultTagger, UnigramTagger, BigramTagger, TrigramTagger\n",
        "\n",
        "from sklearn.linear_model import LogisticRegression\n",
        "from sklearn.feature_extraction.text import TfidfVectorizer, CountVectorizer, HashingVectorizer\n",
        "from sklearn.pipeline import make_pipeline, make_union\n",
        "from sklearn.preprocessing import LabelEncoder\n",
        "from sklearn.metrics import classification_report"
      ]
    },
    {
      "cell_type": "code",
      "execution_count": null,
      "metadata": {
        "id": "Fp_12vZvPw9b"
      },
      "outputs": [],
      "source": [
        "full_train = pyconll.load_from_file('UD_Russian-SynTagRus/ru_syntagrus-ud-train-a.conllu')\n",
        "full_test = pyconll.load_from_file('UD_Russian-SynTagRus/ru_syntagrus-ud-test.conllu')"
      ]
    },
    {
      "cell_type": "code",
      "execution_count": null,
      "metadata": {
        "id": "12k5spwMQJ0Z"
      },
      "outputs": [],
      "source": [
        "fdata_train = []\n",
        "for sent in full_train[:]:\n",
        "    fdata_train.append([(token.form, token.upos) for token in sent])\n",
        "    \n",
        "fdata_test = []\n",
        "for sent in full_test[:]:\n",
        "    fdata_test.append([(token.form, token.upos) for token in sent])\n",
        "    \n",
        "fdata_sent_test = []\n",
        "for sent in full_test[:]:\n",
        "    fdata_sent_test.append([token.form for token in sent])"
      ]
    },
    {
      "cell_type": "code",
      "execution_count": null,
      "metadata": {
        "colab": {
          "base_uri": "https://localhost:8080/"
        },
        "id": "ldOPurwmQOuh",
        "outputId": "0f199ae3-8474-4989-f37e-ddaaeb479700"
      },
      "outputs": [
        {
          "data": {
            "text/plain": [
              "([('Доставшийся', None),\n",
              "  ('в', 'ADP'),\n",
              "  ('наследство', 'NOUN'),\n",
              "  ('от', 'ADP'),\n",
              "  ('советского', 'ADJ'),\n",
              "  ('периода', 'NOUN'),\n",
              "  ('времени', 'NOUN'),\n",
              "  ('промышленный', 'ADJ'),\n",
              "  ('и', 'CCONJ'),\n",
              "  ('интеллектуальный', 'ADJ'),\n",
              "  ('потенциал', 'NOUN'),\n",
              "  ('оказался', 'VERB'),\n",
              "  ('благом', 'NOUN'),\n",
              "  ('и', 'CCONJ'),\n",
              "  ('горем', None),\n",
              "  ('страны', 'NOUN'),\n",
              "  ('.', 'PUNCT')],\n",
              " 0.8369316851173183)"
            ]
          },
          "execution_count": 20,
          "metadata": {},
          "output_type": "execute_result"
        }
      ],
      "source": [
        "unigram_tagger = UnigramTagger(fdata_train)\n",
        "unigram_accuracy = unigram_tagger.accuracy(fdata_test)\n",
        "unigram_tagger.tag(fdata_sent_test[1]), unigram_accuracy"
      ]
    },
    {
      "cell_type": "code",
      "execution_count": null,
      "metadata": {
        "colab": {
          "base_uri": "https://localhost:8080/"
        },
        "id": "6RIRGO17SQIp",
        "outputId": "ea12abcc-072f-4741-ff96-09a79fed508d"
      },
      "outputs": [
        {
          "data": {
            "text/plain": [
              "([('Доставшийся', None),\n",
              "  ('в', 'ADP'),\n",
              "  ('наследство', 'NOUN'),\n",
              "  ('от', 'ADP'),\n",
              "  ('советского', 'ADJ'),\n",
              "  ('периода', 'NOUN'),\n",
              "  ('времени', 'NOUN'),\n",
              "  ('промышленный', 'ADJ'),\n",
              "  ('и', 'CCONJ'),\n",
              "  ('интеллектуальный', None),\n",
              "  ('потенциал', None),\n",
              "  ('оказался', None),\n",
              "  ('благом', None),\n",
              "  ('и', 'CCONJ'),\n",
              "  ('горем', None),\n",
              "  ('страны', None),\n",
              "  ('.', 'PUNCT')],\n",
              " 0.6249422428143732)"
            ]
          },
          "execution_count": 21,
          "metadata": {},
          "output_type": "execute_result"
        }
      ],
      "source": [
        "bigram_tagger = BigramTagger(fdata_train)\n",
        "bigram_accuracy = bigram_tagger.accuracy(fdata_test)\n",
        "bigram_tagger.tag(fdata_sent_test[1]), bigram_accuracy"
      ]
    },
    {
      "cell_type": "code",
      "execution_count": null,
      "metadata": {
        "colab": {
          "base_uri": "https://localhost:8080/"
        },
        "id": "7g24lMvmSZlY",
        "outputId": "6f938232-2542-4791-aa98-8c405f8c584e"
      },
      "outputs": [
        {
          "data": {
            "text/plain": [
              "([('Доставшийся', None),\n",
              "  ('в', None),\n",
              "  ('наследство', None),\n",
              "  ('от', None),\n",
              "  ('советского', None),\n",
              "  ('периода', None),\n",
              "  ('времени', None),\n",
              "  ('промышленный', None),\n",
              "  ('и', None),\n",
              "  ('интеллектуальный', None),\n",
              "  ('потенциал', None),\n",
              "  ('оказался', None),\n",
              "  ('благом', None),\n",
              "  ('и', None),\n",
              "  ('горем', None),\n",
              "  ('страны', None),\n",
              "  ('.', None)],\n",
              " 0.18803840773724753)"
            ]
          },
          "execution_count": 22,
          "metadata": {},
          "output_type": "execute_result"
        }
      ],
      "source": [
        "trigram_tagger = TrigramTagger(fdata_train)\n",
        "trigram_accuracy = trigram_tagger.accuracy(fdata_test)\n",
        "trigram_tagger.tag(fdata_sent_test[1]), trigram_accuracy"
      ]
    },
    {
      "cell_type": "code",
      "execution_count": null,
      "metadata": {
        "colab": {
          "base_uri": "https://localhost:8080/"
        },
        "id": "gohw6WJuSizx",
        "outputId": "bc624f2c-da78-43fb-e7c0-bc7ffec45f2a"
      },
      "outputs": [
        {
          "data": {
            "text/plain": [
              "0.840590167669901"
            ]
          },
          "execution_count": 24,
          "metadata": {},
          "output_type": "execute_result"
        }
      ],
      "source": [
        "def backoff_tagger(train_sents, tagger_classes, backoff=None):\n",
        "    for cls in tagger_classes:\n",
        "        backoff = cls(train_sents, backoff=backoff)\n",
        "    return backoff\n",
        "\n",
        "backoff = DefaultTagger('NN') \n",
        "tag = backoff_tagger(fdata_train,  \n",
        "                     [UnigramTagger, BigramTagger, TrigramTagger],  \n",
        "                     backoff = backoff) \n",
        "  \n",
        "tag.accuracy(fdata_test) "
      ]
    },
    {
      "cell_type": "code",
      "execution_count": null,
      "metadata": {
        "id": "duTZ1a1yTOCY"
      },
      "outputs": [],
      "source": [
        "train_tok = []\n",
        "train_label = []\n",
        "for sent in fdata_train[:]:\n",
        "    for tok in sent:\n",
        "        train_tok.append(tok[0])\n",
        "        train_label.append('NO_TAG' if tok[1] is None else tok[1])\n",
        "        \n",
        "test_tok = []\n",
        "test_label = []\n",
        "for sent in fdata_test[:]:\n",
        "    for tok in sent:\n",
        "        test_tok.append(tok[0])\n",
        "        test_label.append('NO_TAG' if tok[1] is None else tok[1])"
      ]
    },
    {
      "cell_type": "code",
      "execution_count": null,
      "metadata": {
        "id": "wqQqRYZvTfGZ"
      },
      "outputs": [],
      "source": [
        "encoder = LabelEncoder()\n",
        "train_label_enc = encoder.fit_transform(train_label)\n",
        "test_label_enc = encoder.transform(test_label)"
      ]
    },
    {
      "cell_type": "code",
      "execution_count": null,
      "metadata": {
        "colab": {
          "base_uri": "https://localhost:8080/"
        },
        "id": "RAJRFm9CUI65",
        "outputId": "b612615f-99ac-455d-df7d-96016f28e88e"
      },
      "outputs": [
        {
          "data": {
            "text/plain": [
              "array(['ADJ', 'ADP', 'ADV', 'AUX', 'CCONJ', 'DET', 'INTJ', 'NOUN',\n",
              "       'NO_TAG', 'NUM', 'PART', 'PRON', 'PROPN', 'PUNCT', 'SCONJ', 'SYM',\n",
              "       'VERB', 'X'], dtype='<U6')"
            ]
          },
          "execution_count": 46,
          "metadata": {},
          "output_type": "execute_result"
        }
      ],
      "source": [
        "encoder.classes_"
      ]
    },
    {
      "cell_type": "code",
      "execution_count": null,
      "metadata": {
        "id": "7CNDlzK9YWZM"
      },
      "outputs": [],
      "source": [
        "not_nan_ind = [i for i, e in enumerate(test_tok) if e is not None]"
      ]
    },
    {
      "cell_type": "code",
      "execution_count": null,
      "metadata": {
        "id": "tPtA7PRlZeet"
      },
      "outputs": [],
      "source": [
        "test_label_enc = test_label_enc[not_nan_ind]"
      ]
    },
    {
      "cell_type": "code",
      "execution_count": null,
      "metadata": {
        "id": "AxRbSe3CZtpJ"
      },
      "outputs": [],
      "source": [
        "test_tok = [token for token in test_tok if token is not None]"
      ]
    },
    {
      "cell_type": "code",
      "execution_count": null,
      "metadata": {
        "colab": {
          "base_uri": "https://localhost:8080/"
        },
        "id": "Tep-qhHDULzC",
        "outputId": "82b18d02-a944-4109-e621-3ef535359ccf"
      },
      "outputs": [
        {
          "name": "stdout",
          "output_type": "stream",
          "text": [
            "TfidfVectorizer\n"
          ]
        },
        {
          "name": "stderr",
          "output_type": "stream",
          "text": [
            "/usr/local/lib/python3.8/dist-packages/sklearn/metrics/_classification.py:1318: UndefinedMetricWarning: Precision and F-score are ill-defined and being set to 0.0 in labels with no predicted samples. Use `zero_division` parameter to control this behavior.\n",
            "  _warn_prf(average, modifier, msg_start, len(result))\n",
            "/usr/local/lib/python3.8/dist-packages/sklearn/metrics/_classification.py:1318: UndefinedMetricWarning: Precision and F-score are ill-defined and being set to 0.0 in labels with no predicted samples. Use `zero_division` parameter to control this behavior.\n",
            "  _warn_prf(average, modifier, msg_start, len(result))\n",
            "/usr/local/lib/python3.8/dist-packages/sklearn/metrics/_classification.py:1318: UndefinedMetricWarning: Precision and F-score are ill-defined and being set to 0.0 in labels with no predicted samples. Use `zero_division` parameter to control this behavior.\n",
            "  _warn_prf(average, modifier, msg_start, len(result))\n"
          ]
        },
        {
          "name": "stdout",
          "output_type": "stream",
          "text": [
            "              precision    recall  f1-score   support\n",
            "\n",
            "           0       0.79      0.79      0.79     14471\n",
            "           1       0.97      0.98      0.97     15062\n",
            "           2       0.75      0.68      0.71      8085\n",
            "           3       0.85      0.97      0.91      1518\n",
            "           4       0.88      0.99      0.93      5736\n",
            "           5       0.82      0.69      0.75      4094\n",
            "           6       0.00      0.00      0.00        23\n",
            "           7       0.80      0.87      0.83     36568\n",
            "           8       0.00      0.00      0.00       194\n",
            "           9       0.74      0.48      0.58      2528\n",
            "          10       0.91      0.74      0.82      4921\n",
            "          11       0.83      0.90      0.87      8015\n",
            "          12       0.57      0.26      0.35      5883\n",
            "          13       0.93      1.00      0.97     29463\n",
            "          14       0.77      0.89      0.82      2992\n",
            "          15       0.00      0.00      0.00       165\n",
            "          16       0.86      0.82      0.84     18146\n",
            "          17       0.00      0.00      0.00        48\n",
            "\n",
            "    accuracy                           0.85    157912\n",
            "   macro avg       0.64      0.61      0.62    157912\n",
            "weighted avg       0.84      0.85      0.84    157912\n",
            "\n",
            "==================================================\n",
            "CountVectorizer\n"
          ]
        },
        {
          "name": "stderr",
          "output_type": "stream",
          "text": [
            "/usr/local/lib/python3.8/dist-packages/sklearn/metrics/_classification.py:1318: UndefinedMetricWarning: Precision and F-score are ill-defined and being set to 0.0 in labels with no predicted samples. Use `zero_division` parameter to control this behavior.\n",
            "  _warn_prf(average, modifier, msg_start, len(result))\n",
            "/usr/local/lib/python3.8/dist-packages/sklearn/metrics/_classification.py:1318: UndefinedMetricWarning: Precision and F-score are ill-defined and being set to 0.0 in labels with no predicted samples. Use `zero_division` parameter to control this behavior.\n",
            "  _warn_prf(average, modifier, msg_start, len(result))\n",
            "/usr/local/lib/python3.8/dist-packages/sklearn/metrics/_classification.py:1318: UndefinedMetricWarning: Precision and F-score are ill-defined and being set to 0.0 in labels with no predicted samples. Use `zero_division` parameter to control this behavior.\n",
            "  _warn_prf(average, modifier, msg_start, len(result))\n"
          ]
        },
        {
          "name": "stdout",
          "output_type": "stream",
          "text": [
            "              precision    recall  f1-score   support\n",
            "\n",
            "           0       0.81      0.79      0.80     14471\n",
            "           1       0.97      0.99      0.98     15062\n",
            "           2       0.76      0.70      0.73      8085\n",
            "           3       0.86      0.96      0.91      1518\n",
            "           4       0.85      1.00      0.92      5736\n",
            "           5       0.80      0.69      0.74      4094\n",
            "           6       0.00      0.00      0.00        23\n",
            "           7       0.79      0.87      0.83     36568\n",
            "           8       0.00      0.00      0.00       194\n",
            "           9       0.72      0.47      0.57      2528\n",
            "          10       0.92      0.72      0.81      4921\n",
            "          11       0.84      0.89      0.86      8015\n",
            "          12       0.56      0.27      0.36      5883\n",
            "          13       0.93      1.00      0.97     29463\n",
            "          14       0.76      0.89      0.82      2992\n",
            "          15       0.00      0.00      0.00       165\n",
            "          16       0.86      0.81      0.84     18146\n",
            "          17       0.00      0.00      0.00        48\n",
            "\n",
            "    accuracy                           0.85    157912\n",
            "   macro avg       0.64      0.61      0.62    157912\n",
            "weighted avg       0.84      0.85      0.84    157912\n",
            "\n",
            "==================================================\n",
            "HashingVectorizer\n"
          ]
        },
        {
          "name": "stderr",
          "output_type": "stream",
          "text": [
            "/usr/local/lib/python3.8/dist-packages/sklearn/metrics/_classification.py:1318: UndefinedMetricWarning: Precision and F-score are ill-defined and being set to 0.0 in labels with no predicted samples. Use `zero_division` parameter to control this behavior.\n",
            "  _warn_prf(average, modifier, msg_start, len(result))\n",
            "/usr/local/lib/python3.8/dist-packages/sklearn/metrics/_classification.py:1318: UndefinedMetricWarning: Precision and F-score are ill-defined and being set to 0.0 in labels with no predicted samples. Use `zero_division` parameter to control this behavior.\n",
            "  _warn_prf(average, modifier, msg_start, len(result))\n"
          ]
        },
        {
          "name": "stdout",
          "output_type": "stream",
          "text": [
            "              precision    recall  f1-score   support\n",
            "\n",
            "           0       0.70      0.66      0.68     14471\n",
            "           1       0.93      0.97      0.95     15062\n",
            "           2       0.67      0.59      0.63      8085\n",
            "           3       0.85      0.97      0.91      1518\n",
            "           4       0.86      0.98      0.92      5736\n",
            "           5       0.82      0.67      0.74      4094\n",
            "           6       0.00      0.00      0.00        23\n",
            "           7       0.72      0.81      0.76     36568\n",
            "           8       1.00      1.00      1.00       194\n",
            "           9       0.76      0.83      0.80      2528\n",
            "          10       0.93      0.72      0.81      4921\n",
            "          11       0.79      0.89      0.84      8015\n",
            "          12       0.52      0.24      0.33      5883\n",
            "          13       1.00      1.00      1.00     29463\n",
            "          14       0.79      0.89      0.84      2992\n",
            "          15       1.00      0.95      0.98       165\n",
            "          16       0.78      0.73      0.76     18146\n",
            "          17       0.07      0.02      0.03        48\n",
            "\n",
            "    accuracy                           0.81    157912\n",
            "   macro avg       0.73      0.72      0.72    157912\n",
            "weighted avg       0.81      0.81      0.81    157912\n",
            "\n",
            "==================================================\n"
          ]
        },
        {
          "name": "stderr",
          "output_type": "stream",
          "text": [
            "/usr/local/lib/python3.8/dist-packages/sklearn/metrics/_classification.py:1318: UndefinedMetricWarning: Precision and F-score are ill-defined and being set to 0.0 in labels with no predicted samples. Use `zero_division` parameter to control this behavior.\n",
            "  _warn_prf(average, modifier, msg_start, len(result))\n"
          ]
        }
      ],
      "source": [
        "tfidf = TfidfVectorizer(ngram_range=(1, 3), analyzer='char', max_features=300)\n",
        "count = CountVectorizer(ngram_range=(1, 3), analyzer='char', max_features=300)\n",
        "hashing = HashingVectorizer(ngram_range=(1, 3), analyzer='char', n_features=300)\n",
        "\n",
        "for vectorizer in (tfidf, count, hashing):\n",
        "    pipe = make_pipeline(vectorizer,\n",
        "                         LogisticRegression(max_iter=100, random_state=42, n_jobs=-1)).fit(train_tok, train_label_enc)\n",
        "    print(f\"{vectorizer.__class__.__name__}\")\n",
        "    print(classification_report(test_label_enc, pipe.predict(test_tok)))\n",
        "    print(\"=\"*50)"
      ]
    },
    {
      "cell_type": "code",
      "execution_count": null,
      "metadata": {
        "colab": {
          "base_uri": "https://localhost:8080/"
        },
        "id": "XxpRqgfqVwOf",
        "outputId": "891f0140-e7e3-48a2-e457-384727694daf"
      },
      "outputs": [
        {
          "name": "stdout",
          "output_type": "stream",
          "text": [
            "TfidfVectorizer\n",
            "              precision    recall  f1-score   support\n",
            "\n",
            "           0       0.89      0.08      0.15     14471\n",
            "           1       0.98      0.48      0.64     15062\n",
            "           2       0.93      0.59      0.72      8085\n",
            "           3       0.87      0.94      0.90      1518\n",
            "           4       0.89      0.21      0.34      5736\n",
            "           5       0.77      0.59      0.67      4094\n",
            "           6       0.00      0.00      0.00        23\n",
            "           7       0.30      1.00      0.46     36568\n",
            "           8       0.00      0.00      0.00       194\n",
            "           9       0.87      0.33      0.48      2528\n",
            "          10       0.97      0.73      0.83      4921\n",
            "          11       0.91      0.71      0.80      8015\n",
            "          12       0.93      0.07      0.13      5883\n",
            "          13       0.00      0.00      0.00     29463\n",
            "          14       0.73      0.94      0.82      2992\n",
            "          15       0.00      0.00      0.00       165\n",
            "          16       0.96      0.10      0.17     18146\n",
            "          17       0.00      0.00      0.00        48\n",
            "\n",
            "    accuracy                           0.44    157912\n",
            "   macro avg       0.61      0.38      0.40    157912\n",
            "weighted avg       0.60      0.44      0.37    157912\n",
            "\n",
            "==================================================\n",
            "CountVectorizer\n",
            "              precision    recall  f1-score   support\n",
            "\n",
            "           0       0.89      0.08      0.15     14471\n",
            "           1       0.98      0.48      0.64     15062\n",
            "           2       0.93      0.59      0.72      8085\n",
            "           3       0.88      0.88      0.88      1518\n",
            "           4       0.95      0.20      0.33      5736\n",
            "           5       0.86      0.51      0.64      4094\n",
            "           6       0.00      0.00      0.00        23\n",
            "           7       0.30      1.00      0.46     36568\n",
            "           8       0.00      0.00      0.00       194\n",
            "           9       0.87      0.33      0.48      2528\n",
            "          10       0.95      0.74      0.83      4921\n",
            "          11       0.86      0.75      0.80      8015\n",
            "          12       0.93      0.07      0.13      5883\n",
            "          13       0.00      0.00      0.00     29463\n",
            "          14       0.73      0.94      0.82      2992\n",
            "          15       0.00      0.00      0.00       165\n",
            "          16       0.92      0.10      0.18     18146\n",
            "          17       0.00      0.00      0.00        48\n",
            "\n",
            "    accuracy                           0.44    157912\n",
            "   macro avg       0.61      0.37      0.39    157912\n",
            "weighted avg       0.60      0.44      0.37    157912\n",
            "\n",
            "==================================================\n",
            "HashingVectorizer\n",
            "              precision    recall  f1-score   support\n",
            "\n",
            "           0       0.37      0.12      0.18     14471\n",
            "           1       0.78      0.47      0.58     15062\n",
            "           2       0.49      0.55      0.52      8085\n",
            "           3       0.66      0.88      0.76      1518\n",
            "           4       0.70      0.20      0.31      5736\n",
            "           5       0.39      0.46      0.42      4094\n",
            "           6       0.00      0.00      0.00        23\n",
            "           7       0.24      0.56      0.34     36568\n",
            "           8       0.00      0.00      0.00       194\n",
            "           9       0.35      0.23      0.28      2528\n",
            "          10       0.76      0.71      0.73      4921\n",
            "          11       0.56      0.69      0.62      8015\n",
            "          12       0.27      0.07      0.12      5883\n",
            "          13       0.00      0.00      0.00     29463\n",
            "          14       0.60      0.96      0.74      2992\n",
            "          15       0.00      0.00      0.00       165\n",
            "          16       0.44      0.17      0.24     18146\n",
            "          17       0.00      0.00      0.00        48\n",
            "\n",
            "    accuracy                           0.34    157912\n",
            "   macro avg       0.37      0.34      0.32    157912\n",
            "weighted avg       0.36      0.34      0.31    157912\n",
            "\n",
            "==================================================\n"
          ]
        }
      ],
      "source": [
        "tfidf = TfidfVectorizer(ngram_range=(1, 3), analyzer='word', max_features=500)\n",
        "count = CountVectorizer(ngram_range=(1, 3), analyzer='word', max_features=500)\n",
        "hashing = HashingVectorizer(ngram_range=(1, 3), analyzer='word', n_features=500)\n",
        "\n",
        "for vectorizer in (tfidf, count, hashing):\n",
        "    pipe = make_pipeline(vectorizer,\n",
        "                         LogisticRegression(max_iter=100, random_state=42, n_jobs=-1)).fit(train_tok, train_label_enc)\n",
        "    print(f\"{vectorizer.__class__.__name__}\")\n",
        "    print(classification_report(test_label_enc, pipe.predict(test_tok)))\n",
        "    print(\"=\"*50)"
      ]
    },
    {
      "cell_type": "code",
      "execution_count": null,
      "metadata": {
        "colab": {
          "base_uri": "https://localhost:8080/"
        },
        "id": "szdkS4xBVwMQ",
        "outputId": "5508d962-a4d1-4dc7-b880-529ddcb28368"
      },
      "outputs": [
        {
          "name": "stdout",
          "output_type": "stream",
          "text": [
            "              precision    recall  f1-score   support\n",
            "\n",
            "           0       0.76      0.74      0.75     14471\n",
            "           1       0.97      0.99      0.98     15062\n",
            "           2       0.78      0.70      0.73      8085\n",
            "           3       0.86      0.96      0.91      1518\n",
            "           4       0.87      0.98      0.92      5736\n",
            "           5       0.77      0.75      0.76      4094\n",
            "           6       0.00      0.00      0.00        23\n",
            "           7       0.77      0.86      0.81     36568\n",
            "           8       0.00      0.00      0.00       194\n",
            "           9       0.62      0.30      0.41      2528\n",
            "          10       0.94      0.75      0.83      4921\n",
            "          11       0.86      0.85      0.86      8015\n",
            "          12       0.57      0.20      0.29      5883\n",
            "          13       0.92      1.00      0.96     29463\n",
            "          14       0.81      0.89      0.85      2992\n",
            "          15       0.00      0.00      0.00       165\n",
            "          16       0.83      0.79      0.81     18146\n",
            "          17       0.00      0.00      0.00        48\n",
            "\n",
            "    accuracy                           0.84    157912\n",
            "   macro avg       0.63      0.60      0.60    157912\n",
            "weighted avg       0.83      0.84      0.82    157912\n",
            "\n"
          ]
        }
      ],
      "source": [
        "union = make_union(CountVectorizer(ngram_range=(1, 3), analyzer='char', max_features=200),\n",
        "                   CountVectorizer(ngram_range=(1, 1), analyzer='word', max_features=200))\n",
        "\n",
        "pipe = make_pipeline(union,\n",
        "                     LogisticRegression(max_iter=100, random_state=42, n_jobs=-1)).fit(train_tok, train_label_enc)\n",
        "print(classification_report(test_label_enc, pipe.predict(test_tok)))"
      ]
    },
    {
      "cell_type": "code",
      "execution_count": null,
      "metadata": {
        "id": "MuCz0cFBVwJ5"
      },
      "outputs": [],
      "source": [
        "# the best is tfidf and count with char level"
      ]
    },
    {
      "cell_type": "code",
      "execution_count": null,
      "metadata": {
        "id": "BQNwm9DtWnJg"
      },
      "outputs": [],
      "source": []
    },
    {
      "cell_type": "code",
      "execution_count": null,
      "metadata": {
        "id": "WtoUXFs0WgyF"
      },
      "outputs": [],
      "source": [
        "!pip install -qq corus razdel\n",
        "!wget -qq http://www.labinform.ru/pub/named_entities/collection5.zip\n",
        "!unzip collection5.zip"
      ]
    },
    {
      "cell_type": "code",
      "execution_count": null,
      "metadata": {
        "id": "G7S1d07lWgvx"
      },
      "outputs": [],
      "source": [
        "import corus\n",
        "import pandas as pd\n",
        "\n",
        "from corus import load_ne5\n",
        "from razdel import tokenize\n",
        "from sklearn.model_selection import train_test_split\n",
        "import tensorflow as tf\n",
        "\n",
        "from tensorflow.keras import Sequential\n",
        "from tensorflow.keras.layers import (Dense, Embedding, GlobalAveragePooling1D, GlobalMaxPooling1D, Conv1D, LSTM, Dropout, Input, \n",
        "                                     TextVectorization, TimeDistributed, Bidirectional, SpatialDropout1D)"
      ]
    },
    {
      "cell_type": "code",
      "execution_count": 270,
      "metadata": {
        "id": "PiBBrXGUWvWN"
      },
      "outputs": [],
      "source": [
        "records = load_ne5('Collection5/')"
      ]
    },
    {
      "cell_type": "code",
      "execution_count": null,
      "metadata": {
        "id": "5S60x0WCdTi8"
      },
      "outputs": [],
      "source": [
        "words_docs = []\n",
        "for ix, rec in enumerate(records):\n",
        "    words = []\n",
        "    for token in tokenize(rec.text):\n",
        "        type_ent = 'OUT'\n",
        "        for ent in rec.spans:\n",
        "            if (token.start >= ent.start) and (token.stop <= ent.stop):\n",
        "                type_ent = ent.type\n",
        "                break\n",
        "        words.append([token.text, type_ent])\n",
        "    words_docs.extend(words)"
      ]
    },
    {
      "cell_type": "code",
      "execution_count": null,
      "metadata": {
        "id": "j7i4QLkEdcrj"
      },
      "outputs": [],
      "source": [
        "df_words = pd.DataFrame(words_docs, columns=['word', 'tag'])"
      ]
    },
    {
      "cell_type": "code",
      "execution_count": null,
      "metadata": {
        "id": "DgWxkm2luckR"
      },
      "outputs": [],
      "source": [
        "df_words[\"three\"] = df_words[\"word\"].shift(-1) + \" \" + df_words[\"word\"] + \" \" + df_words[\"word\"].shift(1)\n",
        "df_words[\"tag_tree\"] = df_words[\"tag\"].shift(-1) + \" \" + df_words[\"tag\"] + \" \" + df_words[\"tag\"].shift(1)\n",
        "\n",
        "df_words.dropna(inplace=True)"
      ]
    },
    {
      "cell_type": "code",
      "execution_count": null,
      "metadata": {
        "id": "uT0p35J3uch4"
      },
      "outputs": [],
      "source": [
        "encoder = LabelEncoder().fit(df_words[\"tag\"])\n",
        "\n",
        "df_words[\"tag_tree\"] = df_words[\"tag_tree\"].apply(lambda x: encoder.transform(x.split()).tolist())"
      ]
    },
    {
      "cell_type": "code",
      "execution_count": 271,
      "metadata": {
        "id": "cZ-duUH4j-sh"
      },
      "outputs": [],
      "source": [
        "# full texts\n",
        "\n",
        "words_docs = []\n",
        "spans_docs = []\n",
        "\n",
        "for ix, rec in enumerate(records):\n",
        "    words, tags = [], []\n",
        "    for token in tokenize(rec.text):\n",
        "        type_ent = 'OUT'\n",
        "        for ent in rec.spans:\n",
        "            if (token.start >= ent.start) and (token.stop <= ent.stop):\n",
        "                type_ent = ent.type\n",
        "                break\n",
        "        words.append(token.text)\n",
        "        tags.append(type_ent)\n",
        "    words_docs.extend([words])\n",
        "    spans_docs.append(tags)"
      ]
    },
    {
      "cell_type": "code",
      "execution_count": 276,
      "metadata": {
        "colab": {
          "base_uri": "https://localhost:8080/",
          "height": 206
        },
        "id": "2TRHjg3z0LqK",
        "outputId": "f281f64d-6f42-4c72-ffaf-2e362b2082c4"
      },
      "outputs": [
        {
          "output_type": "execute_result",
          "data": {
            "text/plain": [
              "                                                word  \\\n",
              "0  Совмин Белоруссии надеется разгрузить склады в...   \n",
              "1  Продолжаются увольнения энергетиков после крит...   \n",
              "2  Керри может через неделю вернуться на Ближний ...   \n",
              "3  Экс-Президенту Египта Мурси продлили срок арес...   \n",
              "4  Медведев уволил Суходольского с должности глав...   \n",
              "\n",
              "                                                 tag  \n",
              "0  [ORG, GEOPOLIT, OUT, OUT, OUT, OUT, LOC, OUT, ...  \n",
              "1  [OUT, OUT, OUT, OUT, OUT, PER, PER, PER, OUT, ...  \n",
              "2  [PER, OUT, OUT, OUT, OUT, OUT, LOC, LOC, OUT, ...  \n",
              "3  [OUT, GEOPOLIT, PER, OUT, OUT, OUT, OUT, OUT, ...  \n",
              "4  [PER, OUT, PER, OUT, OUT, OUT, ORG, ORG, LOC, ...  "
            ],
            "text/html": [
              "\n",
              "  <div id=\"df-ff6cc848-2f94-4d43-9657-bf01e984ff01\">\n",
              "    <div class=\"colab-df-container\">\n",
              "      <div>\n",
              "<style scoped>\n",
              "    .dataframe tbody tr th:only-of-type {\n",
              "        vertical-align: middle;\n",
              "    }\n",
              "\n",
              "    .dataframe tbody tr th {\n",
              "        vertical-align: top;\n",
              "    }\n",
              "\n",
              "    .dataframe thead th {\n",
              "        text-align: right;\n",
              "    }\n",
              "</style>\n",
              "<table border=\"1\" class=\"dataframe\">\n",
              "  <thead>\n",
              "    <tr style=\"text-align: right;\">\n",
              "      <th></th>\n",
              "      <th>word</th>\n",
              "      <th>tag</th>\n",
              "    </tr>\n",
              "  </thead>\n",
              "  <tbody>\n",
              "    <tr>\n",
              "      <th>0</th>\n",
              "      <td>Совмин Белоруссии надеется разгрузить склады в...</td>\n",
              "      <td>[ORG, GEOPOLIT, OUT, OUT, OUT, OUT, LOC, OUT, ...</td>\n",
              "    </tr>\n",
              "    <tr>\n",
              "      <th>1</th>\n",
              "      <td>Продолжаются увольнения энергетиков после крит...</td>\n",
              "      <td>[OUT, OUT, OUT, OUT, OUT, PER, PER, PER, OUT, ...</td>\n",
              "    </tr>\n",
              "    <tr>\n",
              "      <th>2</th>\n",
              "      <td>Керри может через неделю вернуться на Ближний ...</td>\n",
              "      <td>[PER, OUT, OUT, OUT, OUT, OUT, LOC, LOC, OUT, ...</td>\n",
              "    </tr>\n",
              "    <tr>\n",
              "      <th>3</th>\n",
              "      <td>Экс-Президенту Египта Мурси продлили срок арес...</td>\n",
              "      <td>[OUT, GEOPOLIT, PER, OUT, OUT, OUT, OUT, OUT, ...</td>\n",
              "    </tr>\n",
              "    <tr>\n",
              "      <th>4</th>\n",
              "      <td>Медведев уволил Суходольского с должности глав...</td>\n",
              "      <td>[PER, OUT, PER, OUT, OUT, OUT, ORG, ORG, LOC, ...</td>\n",
              "    </tr>\n",
              "  </tbody>\n",
              "</table>\n",
              "</div>\n",
              "      <button class=\"colab-df-convert\" onclick=\"convertToInteractive('df-ff6cc848-2f94-4d43-9657-bf01e984ff01')\"\n",
              "              title=\"Convert this dataframe to an interactive table.\"\n",
              "              style=\"display:none;\">\n",
              "        \n",
              "  <svg xmlns=\"http://www.w3.org/2000/svg\" height=\"24px\"viewBox=\"0 0 24 24\"\n",
              "       width=\"24px\">\n",
              "    <path d=\"M0 0h24v24H0V0z\" fill=\"none\"/>\n",
              "    <path d=\"M18.56 5.44l.94 2.06.94-2.06 2.06-.94-2.06-.94-.94-2.06-.94 2.06-2.06.94zm-11 1L8.5 8.5l.94-2.06 2.06-.94-2.06-.94L8.5 2.5l-.94 2.06-2.06.94zm10 10l.94 2.06.94-2.06 2.06-.94-2.06-.94-.94-2.06-.94 2.06-2.06.94z\"/><path d=\"M17.41 7.96l-1.37-1.37c-.4-.4-.92-.59-1.43-.59-.52 0-1.04.2-1.43.59L10.3 9.45l-7.72 7.72c-.78.78-.78 2.05 0 2.83L4 21.41c.39.39.9.59 1.41.59.51 0 1.02-.2 1.41-.59l7.78-7.78 2.81-2.81c.8-.78.8-2.07 0-2.86zM5.41 20L4 18.59l7.72-7.72 1.47 1.35L5.41 20z\"/>\n",
              "  </svg>\n",
              "      </button>\n",
              "      \n",
              "  <style>\n",
              "    .colab-df-container {\n",
              "      display:flex;\n",
              "      flex-wrap:wrap;\n",
              "      gap: 12px;\n",
              "    }\n",
              "\n",
              "    .colab-df-convert {\n",
              "      background-color: #E8F0FE;\n",
              "      border: none;\n",
              "      border-radius: 50%;\n",
              "      cursor: pointer;\n",
              "      display: none;\n",
              "      fill: #1967D2;\n",
              "      height: 32px;\n",
              "      padding: 0 0 0 0;\n",
              "      width: 32px;\n",
              "    }\n",
              "\n",
              "    .colab-df-convert:hover {\n",
              "      background-color: #E2EBFA;\n",
              "      box-shadow: 0px 1px 2px rgba(60, 64, 67, 0.3), 0px 1px 3px 1px rgba(60, 64, 67, 0.15);\n",
              "      fill: #174EA6;\n",
              "    }\n",
              "\n",
              "    [theme=dark] .colab-df-convert {\n",
              "      background-color: #3B4455;\n",
              "      fill: #D2E3FC;\n",
              "    }\n",
              "\n",
              "    [theme=dark] .colab-df-convert:hover {\n",
              "      background-color: #434B5C;\n",
              "      box-shadow: 0px 1px 3px 1px rgba(0, 0, 0, 0.15);\n",
              "      filter: drop-shadow(0px 1px 2px rgba(0, 0, 0, 0.3));\n",
              "      fill: #FFFFFF;\n",
              "    }\n",
              "  </style>\n",
              "\n",
              "      <script>\n",
              "        const buttonEl =\n",
              "          document.querySelector('#df-ff6cc848-2f94-4d43-9657-bf01e984ff01 button.colab-df-convert');\n",
              "        buttonEl.style.display =\n",
              "          google.colab.kernel.accessAllowed ? 'block' : 'none';\n",
              "\n",
              "        async function convertToInteractive(key) {\n",
              "          const element = document.querySelector('#df-ff6cc848-2f94-4d43-9657-bf01e984ff01');\n",
              "          const dataTable =\n",
              "            await google.colab.kernel.invokeFunction('convertToInteractive',\n",
              "                                                     [key], {});\n",
              "          if (!dataTable) return;\n",
              "\n",
              "          const docLinkHtml = 'Like what you see? Visit the ' +\n",
              "            '<a target=\"_blank\" href=https://colab.research.google.com/notebooks/data_table.ipynb>data table notebook</a>'\n",
              "            + ' to learn more about interactive tables.';\n",
              "          element.innerHTML = '';\n",
              "          dataTable['output_type'] = 'display_data';\n",
              "          await google.colab.output.renderOutput(dataTable, element);\n",
              "          const docLink = document.createElement('div');\n",
              "          docLink.innerHTML = docLinkHtml;\n",
              "          element.appendChild(docLink);\n",
              "        }\n",
              "      </script>\n",
              "    </div>\n",
              "  </div>\n",
              "  "
            ]
          },
          "metadata": {},
          "execution_count": 276
        }
      ],
      "source": [
        "# full sequences\n",
        "df = pd.DataFrame({\"word\": words_docs, \"tag\": spans_docs})\n",
        "df[\"word\"] = df[\"word\"].apply(\" \".join)\n",
        "df.head()"
      ]
    },
    {
      "cell_type": "code",
      "execution_count": 279,
      "metadata": {
        "colab": {
          "base_uri": "https://localhost:8080/"
        },
        "id": "YIG7_2_I0wbS",
        "outputId": "c8e87531-559d-4aac-86c6-e45a20e1bc7d"
      },
      "outputs": [
        {
          "output_type": "execute_result",
          "data": {
            "text/plain": [
              "count    1000.000000\n",
              "mean      265.471000\n",
              "std       186.292163\n",
              "min        21.000000\n",
              "25%       171.000000\n",
              "50%       226.000000\n",
              "75%       307.500000\n",
              "max      2005.000000\n",
              "Name: word, dtype: float64"
            ]
          },
          "metadata": {},
          "execution_count": 279
        }
      ],
      "source": [
        "df[\"word\"].str.split().str.len().describe()"
      ]
    },
    {
      "cell_type": "code",
      "execution_count": 280,
      "metadata": {
        "id": "53WBM1lY0_5d"
      },
      "outputs": [],
      "source": [
        "tags2id = {}\n",
        "for i, tag in enumerate(df_words[\"tag\"].unique()):\n",
        "    tags2id[tag] = i\n",
        "    \n",
        "id2tags = {v: k for k, v in tags2id.items()}"
      ]
    },
    {
      "cell_type": "code",
      "execution_count": 281,
      "metadata": {
        "id": "e54z53D31Me7"
      },
      "outputs": [],
      "source": [
        "max_length = 128\n",
        "\n",
        "def preprocess_tags(tags2id, tag_sequences, maxlen=max_length):\n",
        "    final_encoded_tags = []\n",
        "    for list_tags in tag_sequences:\n",
        "        encoded_tags = []\n",
        "        for tag in list_tags:\n",
        "            encoded_tags.append(tags2id[tag])\n",
        "        current_length = len(encoded_tags)\n",
        "        if current_length > maxlen:\n",
        "            encoded_tags = encoded_tags[:maxlen]\n",
        "        else:\n",
        "            padding_size = maxlen - current_length\n",
        "            padding = [tags2id[\"OUT\"]] * padding_size\n",
        "            encoded_tags = encoded_tags + padding\n",
        "        final_encoded_tags.append(encoded_tags)\n",
        "        \n",
        "    return final_encoded_tags "
      ]
    },
    {
      "cell_type": "code",
      "execution_count": 282,
      "metadata": {
        "id": "zuEdp0y01c5x"
      },
      "outputs": [],
      "source": [
        "y = preprocess_tags(tags2id, df[\"tag\"])"
      ]
    },
    {
      "cell_type": "code",
      "execution_count": null,
      "metadata": {
        "colab": {
          "base_uri": "https://localhost:8080/",
          "height": 206
        },
        "id": "1OW8Vv56d3Ai",
        "outputId": "ad682514-1b34-4d42-dc67-ba3703ef2f4d"
      },
      "outputs": [
        {
          "data": {
            "text/html": [
              "\n",
              "  <div id=\"df-482c02e8-cef2-4a2e-8c54-2366b3f5319d\">\n",
              "    <div class=\"colab-df-container\">\n",
              "      <div>\n",
              "<style scoped>\n",
              "    .dataframe tbody tr th:only-of-type {\n",
              "        vertical-align: middle;\n",
              "    }\n",
              "\n",
              "    .dataframe tbody tr th {\n",
              "        vertical-align: top;\n",
              "    }\n",
              "\n",
              "    .dataframe thead th {\n",
              "        text-align: right;\n",
              "    }\n",
              "</style>\n",
              "<table border=\"1\" class=\"dataframe\">\n",
              "  <thead>\n",
              "    <tr style=\"text-align: right;\">\n",
              "      <th></th>\n",
              "      <th>word</th>\n",
              "      <th>tag</th>\n",
              "    </tr>\n",
              "  </thead>\n",
              "  <tbody>\n",
              "    <tr>\n",
              "      <th>685</th>\n",
              "      <td>и</td>\n",
              "      <td>OUT</td>\n",
              "    </tr>\n",
              "    <tr>\n",
              "      <th>161996</th>\n",
              "      <td>Домодедово</td>\n",
              "      <td>ORG</td>\n",
              "    </tr>\n",
              "    <tr>\n",
              "      <th>102097</th>\n",
              "      <td>,</td>\n",
              "      <td>OUT</td>\n",
              "    </tr>\n",
              "    <tr>\n",
              "      <th>205462</th>\n",
              "      <td>был</td>\n",
              "      <td>OUT</td>\n",
              "    </tr>\n",
              "    <tr>\n",
              "      <th>98266</th>\n",
              "      <td>сменой</td>\n",
              "      <td>OUT</td>\n",
              "    </tr>\n",
              "  </tbody>\n",
              "</table>\n",
              "</div>\n",
              "      <button class=\"colab-df-convert\" onclick=\"convertToInteractive('df-482c02e8-cef2-4a2e-8c54-2366b3f5319d')\"\n",
              "              title=\"Convert this dataframe to an interactive table.\"\n",
              "              style=\"display:none;\">\n",
              "        \n",
              "  <svg xmlns=\"http://www.w3.org/2000/svg\" height=\"24px\"viewBox=\"0 0 24 24\"\n",
              "       width=\"24px\">\n",
              "    <path d=\"M0 0h24v24H0V0z\" fill=\"none\"/>\n",
              "    <path d=\"M18.56 5.44l.94 2.06.94-2.06 2.06-.94-2.06-.94-.94-2.06-.94 2.06-2.06.94zm-11 1L8.5 8.5l.94-2.06 2.06-.94-2.06-.94L8.5 2.5l-.94 2.06-2.06.94zm10 10l.94 2.06.94-2.06 2.06-.94-2.06-.94-.94-2.06-.94 2.06-2.06.94z\"/><path d=\"M17.41 7.96l-1.37-1.37c-.4-.4-.92-.59-1.43-.59-.52 0-1.04.2-1.43.59L10.3 9.45l-7.72 7.72c-.78.78-.78 2.05 0 2.83L4 21.41c.39.39.9.59 1.41.59.51 0 1.02-.2 1.41-.59l7.78-7.78 2.81-2.81c.8-.78.8-2.07 0-2.86zM5.41 20L4 18.59l7.72-7.72 1.47 1.35L5.41 20z\"/>\n",
              "  </svg>\n",
              "      </button>\n",
              "      \n",
              "  <style>\n",
              "    .colab-df-container {\n",
              "      display:flex;\n",
              "      flex-wrap:wrap;\n",
              "      gap: 12px;\n",
              "    }\n",
              "\n",
              "    .colab-df-convert {\n",
              "      background-color: #E8F0FE;\n",
              "      border: none;\n",
              "      border-radius: 50%;\n",
              "      cursor: pointer;\n",
              "      display: none;\n",
              "      fill: #1967D2;\n",
              "      height: 32px;\n",
              "      padding: 0 0 0 0;\n",
              "      width: 32px;\n",
              "    }\n",
              "\n",
              "    .colab-df-convert:hover {\n",
              "      background-color: #E2EBFA;\n",
              "      box-shadow: 0px 1px 2px rgba(60, 64, 67, 0.3), 0px 1px 3px 1px rgba(60, 64, 67, 0.15);\n",
              "      fill: #174EA6;\n",
              "    }\n",
              "\n",
              "    [theme=dark] .colab-df-convert {\n",
              "      background-color: #3B4455;\n",
              "      fill: #D2E3FC;\n",
              "    }\n",
              "\n",
              "    [theme=dark] .colab-df-convert:hover {\n",
              "      background-color: #434B5C;\n",
              "      box-shadow: 0px 1px 3px 1px rgba(0, 0, 0, 0.15);\n",
              "      filter: drop-shadow(0px 1px 2px rgba(0, 0, 0, 0.3));\n",
              "      fill: #FFFFFF;\n",
              "    }\n",
              "  </style>\n",
              "\n",
              "      <script>\n",
              "        const buttonEl =\n",
              "          document.querySelector('#df-482c02e8-cef2-4a2e-8c54-2366b3f5319d button.colab-df-convert');\n",
              "        buttonEl.style.display =\n",
              "          google.colab.kernel.accessAllowed ? 'block' : 'none';\n",
              "\n",
              "        async function convertToInteractive(key) {\n",
              "          const element = document.querySelector('#df-482c02e8-cef2-4a2e-8c54-2366b3f5319d');\n",
              "          const dataTable =\n",
              "            await google.colab.kernel.invokeFunction('convertToInteractive',\n",
              "                                                     [key], {});\n",
              "          if (!dataTable) return;\n",
              "\n",
              "          const docLinkHtml = 'Like what you see? Visit the ' +\n",
              "            '<a target=\"_blank\" href=https://colab.research.google.com/notebooks/data_table.ipynb>data table notebook</a>'\n",
              "            + ' to learn more about interactive tables.';\n",
              "          element.innerHTML = '';\n",
              "          dataTable['output_type'] = 'display_data';\n",
              "          await google.colab.output.renderOutput(dataTable, element);\n",
              "          const docLink = document.createElement('div');\n",
              "          docLink.innerHTML = docLinkHtml;\n",
              "          element.appendChild(docLink);\n",
              "        }\n",
              "      </script>\n",
              "    </div>\n",
              "  </div>\n",
              "  "
            ],
            "text/plain": [
              "              word  tag\n",
              "685              и  OUT\n",
              "161996  Домодедово  ORG\n",
              "102097           ,  OUT\n",
              "205462         был  OUT\n",
              "98266       сменой  OUT"
            ]
          },
          "execution_count": 87,
          "metadata": {},
          "output_type": "execute_result"
        }
      ],
      "source": [
        "df_words.sample(5)"
      ]
    },
    {
      "cell_type": "code",
      "execution_count": null,
      "metadata": {
        "colab": {
          "base_uri": "https://localhost:8080/"
        },
        "id": "hOo6DUAQd8Tc",
        "outputId": "6ee0f8b8-a3b8-4049-ed8b-353d67c823f2"
      },
      "outputs": [
        {
          "data": {
            "text/plain": [
              "OUT         219214\n",
              "PER          21200\n",
              "ORG          13651\n",
              "LOC           4568\n",
              "GEOPOLIT      4356\n",
              "MEDIA         2482\n",
              "Name: tag, dtype: int64"
            ]
          },
          "execution_count": 72,
          "metadata": {},
          "output_type": "execute_result"
        }
      ],
      "source": [
        "df_words['tag'].value_counts()"
      ]
    },
    {
      "cell_type": "code",
      "execution_count": null,
      "metadata": {
        "id": "wy4yfTa2dcpF"
      },
      "outputs": [],
      "source": [
        "# single token\n",
        "x_train, x_valid, y_train, y_valid = train_test_split(df_words['word'], df_words['tag'])\n",
        "\n",
        "encoder = LabelEncoder()\n",
        "y_train = encoder.fit_transform(y_train)\n",
        "y_valid = encoder.fit_transform(y_valid)"
      ]
    },
    {
      "cell_type": "code",
      "execution_count": null,
      "metadata": {
        "id": "ijX4sW9Fmi8U"
      },
      "outputs": [],
      "source": [
        "# three tokens\n",
        "x_train, x_valid, y_train, y_valid = train_test_split(df_words['word'], df_words['tag_tree'])"
      ]
    },
    {
      "cell_type": "code",
      "execution_count": 288,
      "metadata": {
        "id": "AhxxOG2p18lF"
      },
      "outputs": [],
      "source": [
        "# large sequence\n",
        "\n",
        "x_train, x_valid, y_train, y_valid = train_test_split(df['word'], y)"
      ]
    },
    {
      "cell_type": "code",
      "execution_count": 289,
      "metadata": {
        "id": "1CDbRp6qdvUB"
      },
      "outputs": [],
      "source": [
        "def prepare_dataset(x, y, batch_size=16, cache=True, shuffle=True):\n",
        "    ds = tf.data.Dataset.from_tensor_slices((x, y))\n",
        "    if cache:\n",
        "        ds = ds.cache()\n",
        "    if shuffle:\n",
        "        ds = ds.shuffle(buffer_size=len(x))\n",
        "    ds = ds.batch(batch_size).prefetch(buffer_size=tf.data.AUTOTUNE)\n",
        "    return ds"
      ]
    },
    {
      "cell_type": "code",
      "execution_count": 290,
      "metadata": {
        "id": "vmfRaHvIeUMD"
      },
      "outputs": [],
      "source": [
        "# single token / large seq\n",
        "train_ds = prepare_dataset(x_train, y_train, batch_size=16)\n",
        "valid_ds = prepare_dataset(x_valid, y_valid, batch_size=16, cache=False, shuffle=False)"
      ]
    },
    {
      "cell_type": "code",
      "execution_count": null,
      "metadata": {
        "id": "LfqQPoBPnqGr"
      },
      "outputs": [],
      "source": [
        "# three tokens\n",
        "train_ds = prepare_dataset(x_train, y_train.tolist(), batch_size=16)\n",
        "valid_ds = prepare_dataset(x_valid, y_valid.tolist(), batch_size=16, cache=False, shuffle=False)"
      ]
    },
    {
      "cell_type": "code",
      "execution_count": 291,
      "metadata": {
        "id": "bCN7-dzqdcmw"
      },
      "outputs": [],
      "source": [
        "vocab_size = 30000\n",
        "seq_len = max_length  # 5 single / 3 3words, max_size for full sentence\n",
        "\n",
        "vectorize_layer = TextVectorization(\n",
        "    standardize=None,  # do not apply lower to preserve PER tags more obvious\n",
        "    max_tokens=vocab_size,\n",
        "    output_mode='int',\n",
        "    output_sequence_length=seq_len)\n",
        "\n",
        "text_data = tf.data.Dataset.from_tensor_slices((x_train, y_train)).map(lambda x, y: x)  # y_train.tolist() for 3 tokens\n",
        "vectorize_layer.adapt(text_data)"
      ]
    },
    {
      "cell_type": "code",
      "execution_count": null,
      "metadata": {
        "id": "ySguSQYOWvT7"
      },
      "outputs": [],
      "source": [
        "class modelNER(tf.keras.Model):\n",
        "    \"\"\" single token \"\"\"\n",
        "    def __init__(self, embedding_dim = 64):\n",
        "        super(modelNER, self).__init__()\n",
        "        self.emb = Embedding(vocab_size+1, embedding_dim)\n",
        "        self.gPool = GlobalMaxPooling1D()\n",
        "        self.fc1 = Dense(300, activation='relu')\n",
        "        self.fc2 = Dense(50, activation='relu')\n",
        "        self.fc3 = Dense(6, activation='softmax')\n",
        "\n",
        "    def call(self, x):\n",
        "        x = vectorize_layer(x)\n",
        "        x = self.emb(x)\n",
        "        pool_x = self.gPool(x)\n",
        "        \n",
        "        fc_x = self.fc1(pool_x)\n",
        "        fc_x = self.fc2(fc_x)\n",
        "        \n",
        "        concat_x = tf.concat([pool_x, fc_x], axis=1)\n",
        "        prob = self.fc3(concat_x)\n",
        "        return prob"
      ]
    },
    {
      "cell_type": "code",
      "execution_count": null,
      "metadata": {
        "id": "bHCpFWfKQRAM"
      },
      "outputs": [],
      "source": [
        "class modelNER(tf.keras.Model):\n",
        "    \"\"\" three tokens \"\"\"\n",
        "    def __init__(self, embedding_dim = 64):\n",
        "        super(modelNER, self).__init__()\n",
        "        self.emb = Embedding(vocab_size+1, embedding_dim)\n",
        "        self.conv1 = Conv1D(100, 1, 1, padding=\"same\", activation='relu')\n",
        "        self.conv2 = Conv1D(100, 2, 1, padding=\"same\", activation='relu')\n",
        "        self.conv3 = Conv1D(100, 3, 1, padding=\"same\", activation='relu')\n",
        "        self.conv = Conv1D(50, 1, 1, activation='relu')\n",
        "        self.fc = TimeDistributed(Dense(6, activation='softmax'))\n",
        "\n",
        "    def call(self, x):\n",
        "        x = vectorize_layer(x)\n",
        "        x = self.emb(x)\n",
        "        cx1 = self.conv1(x)\n",
        "        cx2 = self.conv2(x)\n",
        "        cx3 = self.conv3(x)\n",
        "        x = tf.concat([cx1, cx2, cx3], axis=-1)\n",
        "        \n",
        "        fc_x = self.conv(x)\n",
        "\n",
        "        prob = self.fc(fc_x)\n",
        "        return prob"
      ]
    },
    {
      "cell_type": "code",
      "execution_count": 292,
      "metadata": {
        "id": "SpVp7AfhSvc3"
      },
      "outputs": [],
      "source": [
        "model = tf.keras.Sequential([\n",
        "    vectorize_layer,\n",
        "    Embedding(vectorize_layer.vocabulary_size()+1, 64, mask_zero=False),\n",
        "    Bidirectional(LSTM(units=128, return_sequences=True)),\n",
        "    SpatialDropout1D(rate=0.3),\n",
        "    TimeDistributed(Dense(units=6, activation=\"softmax\"))\n",
        "])"
      ]
    },
    {
      "cell_type": "code",
      "execution_count": 309,
      "metadata": {
        "id": "IyFtOJITfIWU"
      },
      "outputs": [],
      "source": [
        "model = modelNER()\n",
        "\n",
        "model.compile(optimizer='adam',\n",
        "              loss=tf.keras.losses.SparseCategoricalCrossentropy(),\n",
        "              metrics=['accuracy'])"
      ]
    },
    {
      "cell_type": "code",
      "execution_count": null,
      "metadata": {
        "colab": {
          "base_uri": "https://localhost:8080/"
        },
        "id": "UIarFdYjfIT8",
        "outputId": "659ef5a6-2fef-4a1a-a61e-55d197a2f99a"
      },
      "outputs": [
        {
          "name": "stdout",
          "output_type": "stream",
          "text": [
            "Epoch 1/3\n",
            "12444/12444 [==============================] - 59s 5ms/step - loss: 0.2950 - accuracy: 0.9143 - val_loss: 0.2058 - val_accuracy: 0.9376\n",
            "Epoch 2/3\n",
            "12444/12444 [==============================] - 60s 5ms/step - loss: 0.1284 - accuracy: 0.9624 - val_loss: 0.2069 - val_accuracy: 0.9415\n",
            "Epoch 3/3\n",
            "12444/12444 [==============================] - 58s 5ms/step - loss: 0.1144 - accuracy: 0.9653 - val_loss: 0.2013 - val_accuracy: 0.9422\n"
          ]
        },
        {
          "data": {
            "text/plain": [
              "<keras.callbacks.History at 0x7efbdbfbfd60>"
            ]
          },
          "execution_count": 50,
          "metadata": {},
          "output_type": "execute_result"
        }
      ],
      "source": [
        "model.fit(train_ds, validation_data=valid_ds, epochs=3)  # single token"
      ]
    },
    {
      "cell_type": "code",
      "execution_count": null,
      "metadata": {
        "colab": {
          "base_uri": "https://localhost:8080/"
        },
        "id": "t_FaqCf6PU71",
        "outputId": "a42f7076-ed38-4877-8abb-b9e20704fc42"
      },
      "outputs": [
        {
          "name": "stdout",
          "output_type": "stream",
          "text": [
            "4148/4148 [==============================] - 7s 2ms/step\n",
            "              precision    recall  f1-score   support\n",
            "\n",
            "    GEOPOLIT       0.90      0.91      0.91      1081\n",
            "         LOC       0.86      0.81      0.83      1128\n",
            "       MEDIA       0.93      0.78      0.85       683\n",
            "         ORG       0.88      0.56      0.68      3422\n",
            "         OUT       0.94      0.99      0.97     54758\n",
            "         PER       0.98      0.72      0.83      5296\n",
            "\n",
            "    accuracy                           0.94     66368\n",
            "   macro avg       0.92      0.80      0.85     66368\n",
            "weighted avg       0.94      0.94      0.94     66368\n",
            "\n"
          ]
        }
      ],
      "source": [
        "# single token report\n",
        "preds = model.predict(valid_ds)\n",
        "print(classification_report(y_valid, preds.argmax(-1), target_names=encoder.classes_))"
      ]
    },
    {
      "cell_type": "code",
      "execution_count": null,
      "metadata": {
        "colab": {
          "base_uri": "https://localhost:8080/"
        },
        "id": "0XfmhKDkdVrd",
        "outputId": "01ab6464-f68b-44df-a084-b6a336d1541f"
      },
      "outputs": [
        {
          "name": "stdout",
          "output_type": "stream",
          "text": [
            "Epoch 1/3\n",
            "12444/12444 [==============================] - 75s 6ms/step - loss: 0.5017 - accuracy: 0.8645 - val_loss: 0.4590 - val_accuracy: 0.8746\n",
            "Epoch 2/3\n",
            "12444/12444 [==============================] - 74s 6ms/step - loss: 0.4075 - accuracy: 0.8890 - val_loss: 0.4515 - val_accuracy: 0.8773\n",
            "Epoch 3/3\n",
            "12444/12444 [==============================] - 78s 6ms/step - loss: 0.3947 - accuracy: 0.8916 - val_loss: 0.4565 - val_accuracy: 0.8777\n"
          ]
        },
        {
          "data": {
            "text/plain": [
              "<keras.callbacks.History at 0x7efb5623fd30>"
            ]
          },
          "execution_count": 154,
          "metadata": {},
          "output_type": "execute_result"
        }
      ],
      "source": [
        "model.fit(train_ds, validation_data=valid_ds, epochs=3)  # three token"
      ]
    },
    {
      "cell_type": "code",
      "execution_count": null,
      "metadata": {
        "colab": {
          "base_uri": "https://localhost:8080/"
        },
        "id": "dloSJ62yrgY5",
        "outputId": "3912f50d-8efb-4561-f6b4-a57e20536bcc"
      },
      "outputs": [
        {
          "name": "stdout",
          "output_type": "stream",
          "text": [
            "4148/4148 [==============================] - 9s 2ms/step\n"
          ]
        }
      ],
      "source": [
        "preds = model.predict(valid_ds)\n",
        "preds = pd.DataFrame(preds.argmax(-1))\n",
        "preds[\"preds\"] = preds.apply(lambda row: [i for i in row], axis=1)"
      ]
    },
    {
      "cell_type": "code",
      "execution_count": null,
      "metadata": {
        "id": "Y1zdAC0Yydm2"
      },
      "outputs": [],
      "source": [
        "predictions = pd.DataFrame({\"y_true\": y_valid.explode().reset_index(drop=True), \"pred\": preds[\"preds\"].explode().reset_index(drop=True)})\n",
        "predictions[\"y_true\"] = predictions[\"y_true\"].astype(\"int\")\n",
        "predictions[\"pred\"] = predictions[\"pred\"].astype(\"int\")"
      ]
    },
    {
      "cell_type": "code",
      "execution_count": null,
      "metadata": {
        "colab": {
          "base_uri": "https://localhost:8080/"
        },
        "id": "EZa1ZKjgx6d7",
        "outputId": "186a70b8-29a5-43cc-c9ac-0435e4a291a0"
      },
      "outputs": [
        {
          "name": "stdout",
          "output_type": "stream",
          "text": [
            "              precision    recall  f1-score   support\n",
            "\n",
            "    GEOPOLIT       0.79      0.38      0.52      3239\n",
            "         LOC       0.79      0.39      0.52      3413\n",
            "       MEDIA       0.86      0.36      0.51      1855\n",
            "         ORG       0.84      0.26      0.40     10364\n",
            "         OUT       0.88      0.99      0.93    164255\n",
            "         PER       0.95      0.35      0.52     15978\n",
            "\n",
            "    accuracy                           0.88    199104\n",
            "   macro avg       0.85      0.46      0.57    199104\n",
            "weighted avg       0.88      0.88      0.85    199104\n",
            "\n"
          ]
        }
      ],
      "source": [
        "print(classification_report(predictions[\"y_true\"].values, predictions[\"pred\"].values, target_names=encoder.classes_))"
      ]
    },
    {
      "cell_type": "code",
      "execution_count": 310,
      "metadata": {
        "colab": {
          "base_uri": "https://localhost:8080/"
        },
        "id": "kRZKmalUx6bo",
        "outputId": "6f0f4259-c517-45f4-d4b0-0d2bb63fe865"
      },
      "outputs": [
        {
          "output_type": "stream",
          "name": "stdout",
          "text": [
            "Epoch 1/9\n",
            "47/47 [==============================] - 1s 12ms/step - loss: 1.0694 - accuracy: 0.7744 - val_loss: 0.5560 - val_accuracy: 0.8004\n",
            "Epoch 2/9\n",
            "47/47 [==============================] - 0s 8ms/step - loss: 0.4457 - accuracy: 0.8199 - val_loss: 0.4038 - val_accuracy: 0.8576\n",
            "Epoch 3/9\n",
            "47/47 [==============================] - 0s 7ms/step - loss: 0.2521 - accuracy: 0.9176 - val_loss: 0.2783 - val_accuracy: 0.9111\n",
            "Epoch 4/9\n",
            "47/47 [==============================] - 0s 7ms/step - loss: 0.1134 - accuracy: 0.9702 - val_loss: 0.2321 - val_accuracy: 0.9302\n",
            "Epoch 5/9\n",
            "47/47 [==============================] - 0s 8ms/step - loss: 0.0565 - accuracy: 0.9860 - val_loss: 0.2264 - val_accuracy: 0.9321\n",
            "Epoch 6/9\n",
            "47/47 [==============================] - 0s 7ms/step - loss: 0.0359 - accuracy: 0.9909 - val_loss: 0.2316 - val_accuracy: 0.9336\n",
            "Epoch 7/9\n",
            "47/47 [==============================] - 0s 8ms/step - loss: 0.0262 - accuracy: 0.9932 - val_loss: 0.2396 - val_accuracy: 0.9342\n",
            "Epoch 8/9\n",
            "47/47 [==============================] - 0s 7ms/step - loss: 0.0215 - accuracy: 0.9938 - val_loss: 0.2468 - val_accuracy: 0.9327\n",
            "Epoch 9/9\n",
            "47/47 [==============================] - 0s 8ms/step - loss: 0.0179 - accuracy: 0.9948 - val_loss: 0.2532 - val_accuracy: 0.9329\n"
          ]
        },
        {
          "output_type": "execute_result",
          "data": {
            "text/plain": [
              "<keras.callbacks.History at 0x7efbbca45f10>"
            ]
          },
          "metadata": {},
          "execution_count": 310
        }
      ],
      "source": [
        "model.fit(train_ds, validation_data=valid_ds, epochs=9)  # large"
      ]
    },
    {
      "cell_type": "code",
      "execution_count": 311,
      "metadata": {
        "colab": {
          "base_uri": "https://localhost:8080/"
        },
        "id": "DfhBXD193IOG",
        "outputId": "d7bd48c0-a206-470a-eaed-d2311f7b225c"
      },
      "outputs": [
        {
          "output_type": "stream",
          "name": "stdout",
          "text": [
            "16/16 [==============================] - 0s 3ms/step\n"
          ]
        }
      ],
      "source": [
        "preds = model.predict(valid_ds)\n",
        "preds = pd.DataFrame(preds.argmax(-1))\n",
        "preds[\"preds\"] = preds.apply(lambda row: [i for i in row], axis=1)"
      ]
    },
    {
      "cell_type": "code",
      "execution_count": 312,
      "metadata": {
        "id": "qwYYKc2Y3Ryj"
      },
      "outputs": [],
      "source": [
        "predictions = pd.DataFrame({\"y_true\": [item for sublist in y_valid for item in sublist], \"pred\": preds[\"preds\"].explode().reset_index(drop=True)})\n",
        "predictions[\"y_true\"] = predictions[\"y_true\"].astype(\"int\")\n",
        "predictions[\"pred\"] = predictions[\"pred\"].astype(\"int\")"
      ]
    },
    {
      "cell_type": "code",
      "execution_count": 313,
      "metadata": {
        "colab": {
          "base_uri": "https://localhost:8080/"
        },
        "id": "w_DV-uW73VLg",
        "outputId": "601b3616-06a8-4b86-ec04-9cbe5691b6a8"
      },
      "outputs": [
        {
          "output_type": "stream",
          "name": "stdout",
          "text": [
            "              precision    recall  f1-score   support\n",
            "\n",
            "    GEOPOLIT       0.96      0.89      0.92       559\n",
            "         LOC       0.95      0.98      0.96     25614\n",
            "       MEDIA       0.88      0.68      0.77       621\n",
            "         ORG       0.93      0.76      0.84      2951\n",
            "         OUT       0.71      0.70      0.71      1783\n",
            "         PER       0.95      0.76      0.85       472\n",
            "\n",
            "    accuracy                           0.93     32000\n",
            "   macro avg       0.90      0.79      0.84     32000\n",
            "weighted avg       0.93      0.93      0.93     32000\n",
            "\n"
          ]
        }
      ],
      "source": [
        "print(classification_report(predictions[\"y_true\"].values, predictions[\"pred\"].values, target_names=encoder.classes_))"
      ]
    },
    {
      "cell_type": "code",
      "source": [
        "# the easiest way to predict ner with given architectures is by using single token. With larger corpus lstm model is more suitable"
      ],
      "metadata": {
        "id": "0BUCVe3eAdBr"
      },
      "execution_count": null,
      "outputs": []
    }
  ],
  "metadata": {
    "accelerator": "GPU",
    "colab": {
      "provenance": []
    },
    "gpuClass": "standard",
    "kernelspec": {
      "display_name": "Python 3",
      "name": "python3"
    },
    "language_info": {
      "name": "python"
    }
  },
  "nbformat": 4,
  "nbformat_minor": 0
}