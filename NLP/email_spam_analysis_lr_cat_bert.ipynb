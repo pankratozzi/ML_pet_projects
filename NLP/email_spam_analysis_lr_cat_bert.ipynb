{
  "nbformat": 4,
  "nbformat_minor": 0,
  "metadata": {
    "colab": {
      "name": "email_spam_analysis_lr_cat_bert.ipynb",
      "provenance": [],
      "collapsed_sections": []
    },
    "kernelspec": {
      "name": "python3",
      "display_name": "Python 3"
    },
    "language_info": {
      "name": "python"
    },
    "widgets": {
      "application/vnd.jupyter.widget-state+json": {
        "7d14b8206de64374b9d341142a5fe5e0": {
          "model_module": "@jupyter-widgets/controls",
          "model_name": "HBoxModel",
          "model_module_version": "1.5.0",
          "state": {
            "_view_name": "HBoxView",
            "_dom_classes": [],
            "_model_name": "HBoxModel",
            "_view_module": "@jupyter-widgets/controls",
            "_model_module_version": "1.5.0",
            "_view_count": null,
            "_view_module_version": "1.5.0",
            "box_style": "",
            "layout": "IPY_MODEL_24c1bce123874d08aa9bf95fcf985a80",
            "_model_module": "@jupyter-widgets/controls",
            "children": [
              "IPY_MODEL_dba19b229d254d3ba4cf4156ae21f5d6",
              "IPY_MODEL_563774a7fe414446bdb751d5eecbae6d",
              "IPY_MODEL_dd1345f383364124834a24e95b8c99b4"
            ]
          }
        },
        "24c1bce123874d08aa9bf95fcf985a80": {
          "model_module": "@jupyter-widgets/base",
          "model_name": "LayoutModel",
          "model_module_version": "1.2.0",
          "state": {
            "_view_name": "LayoutView",
            "grid_template_rows": null,
            "right": null,
            "justify_content": null,
            "_view_module": "@jupyter-widgets/base",
            "overflow": null,
            "_model_module_version": "1.2.0",
            "_view_count": null,
            "flex_flow": null,
            "width": null,
            "min_width": null,
            "border": null,
            "align_items": null,
            "bottom": null,
            "_model_module": "@jupyter-widgets/base",
            "top": null,
            "grid_column": null,
            "overflow_y": null,
            "overflow_x": null,
            "grid_auto_flow": null,
            "grid_area": null,
            "grid_template_columns": null,
            "flex": null,
            "_model_name": "LayoutModel",
            "justify_items": null,
            "grid_row": null,
            "max_height": null,
            "align_content": null,
            "visibility": null,
            "align_self": null,
            "height": null,
            "min_height": null,
            "padding": null,
            "grid_auto_rows": null,
            "grid_gap": null,
            "max_width": null,
            "order": null,
            "_view_module_version": "1.2.0",
            "grid_template_areas": null,
            "object_position": null,
            "object_fit": null,
            "grid_auto_columns": null,
            "margin": null,
            "display": null,
            "left": null
          }
        },
        "dba19b229d254d3ba4cf4156ae21f5d6": {
          "model_module": "@jupyter-widgets/controls",
          "model_name": "HTMLModel",
          "model_module_version": "1.5.0",
          "state": {
            "_view_name": "HTMLView",
            "style": "IPY_MODEL_38dfeceffc79482b90a830b6053e1f91",
            "_dom_classes": [],
            "description": "",
            "_model_name": "HTMLModel",
            "placeholder": "​",
            "_view_module": "@jupyter-widgets/controls",
            "_model_module_version": "1.5.0",
            "value": "Downloading: 100%",
            "_view_count": null,
            "_view_module_version": "1.5.0",
            "description_tooltip": null,
            "_model_module": "@jupyter-widgets/controls",
            "layout": "IPY_MODEL_ab546d3a4fd44a048c22dbb2d6f7be01"
          }
        },
        "563774a7fe414446bdb751d5eecbae6d": {
          "model_module": "@jupyter-widgets/controls",
          "model_name": "FloatProgressModel",
          "model_module_version": "1.5.0",
          "state": {
            "_view_name": "ProgressView",
            "style": "IPY_MODEL_77ed6ac10c5344d8bf49dd58d96d8819",
            "_dom_classes": [],
            "description": "",
            "_model_name": "FloatProgressModel",
            "bar_style": "success",
            "max": 570,
            "_view_module": "@jupyter-widgets/controls",
            "_model_module_version": "1.5.0",
            "value": 570,
            "_view_count": null,
            "_view_module_version": "1.5.0",
            "orientation": "horizontal",
            "min": 0,
            "description_tooltip": null,
            "_model_module": "@jupyter-widgets/controls",
            "layout": "IPY_MODEL_af6f4ff5b9f0425990a8ae9192d3f0d2"
          }
        },
        "dd1345f383364124834a24e95b8c99b4": {
          "model_module": "@jupyter-widgets/controls",
          "model_name": "HTMLModel",
          "model_module_version": "1.5.0",
          "state": {
            "_view_name": "HTMLView",
            "style": "IPY_MODEL_a43d653d025749248287db04b038e2d0",
            "_dom_classes": [],
            "description": "",
            "_model_name": "HTMLModel",
            "placeholder": "​",
            "_view_module": "@jupyter-widgets/controls",
            "_model_module_version": "1.5.0",
            "value": " 570/570 [00:00&lt;00:00, 14.6kB/s]",
            "_view_count": null,
            "_view_module_version": "1.5.0",
            "description_tooltip": null,
            "_model_module": "@jupyter-widgets/controls",
            "layout": "IPY_MODEL_33b48e1804864aa888fcc3ab56e878f7"
          }
        },
        "38dfeceffc79482b90a830b6053e1f91": {
          "model_module": "@jupyter-widgets/controls",
          "model_name": "DescriptionStyleModel",
          "model_module_version": "1.5.0",
          "state": {
            "_view_name": "StyleView",
            "_model_name": "DescriptionStyleModel",
            "description_width": "",
            "_view_module": "@jupyter-widgets/base",
            "_model_module_version": "1.5.0",
            "_view_count": null,
            "_view_module_version": "1.2.0",
            "_model_module": "@jupyter-widgets/controls"
          }
        },
        "ab546d3a4fd44a048c22dbb2d6f7be01": {
          "model_module": "@jupyter-widgets/base",
          "model_name": "LayoutModel",
          "model_module_version": "1.2.0",
          "state": {
            "_view_name": "LayoutView",
            "grid_template_rows": null,
            "right": null,
            "justify_content": null,
            "_view_module": "@jupyter-widgets/base",
            "overflow": null,
            "_model_module_version": "1.2.0",
            "_view_count": null,
            "flex_flow": null,
            "width": null,
            "min_width": null,
            "border": null,
            "align_items": null,
            "bottom": null,
            "_model_module": "@jupyter-widgets/base",
            "top": null,
            "grid_column": null,
            "overflow_y": null,
            "overflow_x": null,
            "grid_auto_flow": null,
            "grid_area": null,
            "grid_template_columns": null,
            "flex": null,
            "_model_name": "LayoutModel",
            "justify_items": null,
            "grid_row": null,
            "max_height": null,
            "align_content": null,
            "visibility": null,
            "align_self": null,
            "height": null,
            "min_height": null,
            "padding": null,
            "grid_auto_rows": null,
            "grid_gap": null,
            "max_width": null,
            "order": null,
            "_view_module_version": "1.2.0",
            "grid_template_areas": null,
            "object_position": null,
            "object_fit": null,
            "grid_auto_columns": null,
            "margin": null,
            "display": null,
            "left": null
          }
        },
        "77ed6ac10c5344d8bf49dd58d96d8819": {
          "model_module": "@jupyter-widgets/controls",
          "model_name": "ProgressStyleModel",
          "model_module_version": "1.5.0",
          "state": {
            "_view_name": "StyleView",
            "_model_name": "ProgressStyleModel",
            "description_width": "",
            "_view_module": "@jupyter-widgets/base",
            "_model_module_version": "1.5.0",
            "_view_count": null,
            "_view_module_version": "1.2.0",
            "bar_color": null,
            "_model_module": "@jupyter-widgets/controls"
          }
        },
        "af6f4ff5b9f0425990a8ae9192d3f0d2": {
          "model_module": "@jupyter-widgets/base",
          "model_name": "LayoutModel",
          "model_module_version": "1.2.0",
          "state": {
            "_view_name": "LayoutView",
            "grid_template_rows": null,
            "right": null,
            "justify_content": null,
            "_view_module": "@jupyter-widgets/base",
            "overflow": null,
            "_model_module_version": "1.2.0",
            "_view_count": null,
            "flex_flow": null,
            "width": null,
            "min_width": null,
            "border": null,
            "align_items": null,
            "bottom": null,
            "_model_module": "@jupyter-widgets/base",
            "top": null,
            "grid_column": null,
            "overflow_y": null,
            "overflow_x": null,
            "grid_auto_flow": null,
            "grid_area": null,
            "grid_template_columns": null,
            "flex": null,
            "_model_name": "LayoutModel",
            "justify_items": null,
            "grid_row": null,
            "max_height": null,
            "align_content": null,
            "visibility": null,
            "align_self": null,
            "height": null,
            "min_height": null,
            "padding": null,
            "grid_auto_rows": null,
            "grid_gap": null,
            "max_width": null,
            "order": null,
            "_view_module_version": "1.2.0",
            "grid_template_areas": null,
            "object_position": null,
            "object_fit": null,
            "grid_auto_columns": null,
            "margin": null,
            "display": null,
            "left": null
          }
        },
        "a43d653d025749248287db04b038e2d0": {
          "model_module": "@jupyter-widgets/controls",
          "model_name": "DescriptionStyleModel",
          "model_module_version": "1.5.0",
          "state": {
            "_view_name": "StyleView",
            "_model_name": "DescriptionStyleModel",
            "description_width": "",
            "_view_module": "@jupyter-widgets/base",
            "_model_module_version": "1.5.0",
            "_view_count": null,
            "_view_module_version": "1.2.0",
            "_model_module": "@jupyter-widgets/controls"
          }
        },
        "33b48e1804864aa888fcc3ab56e878f7": {
          "model_module": "@jupyter-widgets/base",
          "model_name": "LayoutModel",
          "model_module_version": "1.2.0",
          "state": {
            "_view_name": "LayoutView",
            "grid_template_rows": null,
            "right": null,
            "justify_content": null,
            "_view_module": "@jupyter-widgets/base",
            "overflow": null,
            "_model_module_version": "1.2.0",
            "_view_count": null,
            "flex_flow": null,
            "width": null,
            "min_width": null,
            "border": null,
            "align_items": null,
            "bottom": null,
            "_model_module": "@jupyter-widgets/base",
            "top": null,
            "grid_column": null,
            "overflow_y": null,
            "overflow_x": null,
            "grid_auto_flow": null,
            "grid_area": null,
            "grid_template_columns": null,
            "flex": null,
            "_model_name": "LayoutModel",
            "justify_items": null,
            "grid_row": null,
            "max_height": null,
            "align_content": null,
            "visibility": null,
            "align_self": null,
            "height": null,
            "min_height": null,
            "padding": null,
            "grid_auto_rows": null,
            "grid_gap": null,
            "max_width": null,
            "order": null,
            "_view_module_version": "1.2.0",
            "grid_template_areas": null,
            "object_position": null,
            "object_fit": null,
            "grid_auto_columns": null,
            "margin": null,
            "display": null,
            "left": null
          }
        },
        "676eda005a1048bf82fdc0f0b5ceff27": {
          "model_module": "@jupyter-widgets/controls",
          "model_name": "HBoxModel",
          "model_module_version": "1.5.0",
          "state": {
            "_view_name": "HBoxView",
            "_dom_classes": [],
            "_model_name": "HBoxModel",
            "_view_module": "@jupyter-widgets/controls",
            "_model_module_version": "1.5.0",
            "_view_count": null,
            "_view_module_version": "1.5.0",
            "box_style": "",
            "layout": "IPY_MODEL_77e87a0f186d48fa848c0f42a279b15f",
            "_model_module": "@jupyter-widgets/controls",
            "children": [
              "IPY_MODEL_e2da3b56fb5e4a6190c83220d5da12ae",
              "IPY_MODEL_35b1124863a443948c38fc78797f2368",
              "IPY_MODEL_377ef1ccaaa74fe89c9c714a58771840"
            ]
          }
        },
        "77e87a0f186d48fa848c0f42a279b15f": {
          "model_module": "@jupyter-widgets/base",
          "model_name": "LayoutModel",
          "model_module_version": "1.2.0",
          "state": {
            "_view_name": "LayoutView",
            "grid_template_rows": null,
            "right": null,
            "justify_content": null,
            "_view_module": "@jupyter-widgets/base",
            "overflow": null,
            "_model_module_version": "1.2.0",
            "_view_count": null,
            "flex_flow": null,
            "width": null,
            "min_width": null,
            "border": null,
            "align_items": null,
            "bottom": null,
            "_model_module": "@jupyter-widgets/base",
            "top": null,
            "grid_column": null,
            "overflow_y": null,
            "overflow_x": null,
            "grid_auto_flow": null,
            "grid_area": null,
            "grid_template_columns": null,
            "flex": null,
            "_model_name": "LayoutModel",
            "justify_items": null,
            "grid_row": null,
            "max_height": null,
            "align_content": null,
            "visibility": null,
            "align_self": null,
            "height": null,
            "min_height": null,
            "padding": null,
            "grid_auto_rows": null,
            "grid_gap": null,
            "max_width": null,
            "order": null,
            "_view_module_version": "1.2.0",
            "grid_template_areas": null,
            "object_position": null,
            "object_fit": null,
            "grid_auto_columns": null,
            "margin": null,
            "display": null,
            "left": null
          }
        },
        "e2da3b56fb5e4a6190c83220d5da12ae": {
          "model_module": "@jupyter-widgets/controls",
          "model_name": "HTMLModel",
          "model_module_version": "1.5.0",
          "state": {
            "_view_name": "HTMLView",
            "style": "IPY_MODEL_c9f9cb7a99884a3c82f657f64b8097cb",
            "_dom_classes": [],
            "description": "",
            "_model_name": "HTMLModel",
            "placeholder": "​",
            "_view_module": "@jupyter-widgets/controls",
            "_model_module_version": "1.5.0",
            "value": "Downloading: 100%",
            "_view_count": null,
            "_view_module_version": "1.5.0",
            "description_tooltip": null,
            "_model_module": "@jupyter-widgets/controls",
            "layout": "IPY_MODEL_847ab289f31643b1b43652c581d88279"
          }
        },
        "35b1124863a443948c38fc78797f2368": {
          "model_module": "@jupyter-widgets/controls",
          "model_name": "FloatProgressModel",
          "model_module_version": "1.5.0",
          "state": {
            "_view_name": "ProgressView",
            "style": "IPY_MODEL_f98c9c49df3a4e26b13bf2e24567b264",
            "_dom_classes": [],
            "description": "",
            "_model_name": "FloatProgressModel",
            "bar_style": "success",
            "max": 440473133,
            "_view_module": "@jupyter-widgets/controls",
            "_model_module_version": "1.5.0",
            "value": 440473133,
            "_view_count": null,
            "_view_module_version": "1.5.0",
            "orientation": "horizontal",
            "min": 0,
            "description_tooltip": null,
            "_model_module": "@jupyter-widgets/controls",
            "layout": "IPY_MODEL_02574156f70f4d1884a1bcb93cf940a7"
          }
        },
        "377ef1ccaaa74fe89c9c714a58771840": {
          "model_module": "@jupyter-widgets/controls",
          "model_name": "HTMLModel",
          "model_module_version": "1.5.0",
          "state": {
            "_view_name": "HTMLView",
            "style": "IPY_MODEL_bcb2bee1d81744bb88b1100205bf6b18",
            "_dom_classes": [],
            "description": "",
            "_model_name": "HTMLModel",
            "placeholder": "​",
            "_view_module": "@jupyter-widgets/controls",
            "_model_module_version": "1.5.0",
            "value": " 420M/420M [00:10&lt;00:00, 45.1MB/s]",
            "_view_count": null,
            "_view_module_version": "1.5.0",
            "description_tooltip": null,
            "_model_module": "@jupyter-widgets/controls",
            "layout": "IPY_MODEL_78cb536012d64f929bce6734a14438c2"
          }
        },
        "c9f9cb7a99884a3c82f657f64b8097cb": {
          "model_module": "@jupyter-widgets/controls",
          "model_name": "DescriptionStyleModel",
          "model_module_version": "1.5.0",
          "state": {
            "_view_name": "StyleView",
            "_model_name": "DescriptionStyleModel",
            "description_width": "",
            "_view_module": "@jupyter-widgets/base",
            "_model_module_version": "1.5.0",
            "_view_count": null,
            "_view_module_version": "1.2.0",
            "_model_module": "@jupyter-widgets/controls"
          }
        },
        "847ab289f31643b1b43652c581d88279": {
          "model_module": "@jupyter-widgets/base",
          "model_name": "LayoutModel",
          "model_module_version": "1.2.0",
          "state": {
            "_view_name": "LayoutView",
            "grid_template_rows": null,
            "right": null,
            "justify_content": null,
            "_view_module": "@jupyter-widgets/base",
            "overflow": null,
            "_model_module_version": "1.2.0",
            "_view_count": null,
            "flex_flow": null,
            "width": null,
            "min_width": null,
            "border": null,
            "align_items": null,
            "bottom": null,
            "_model_module": "@jupyter-widgets/base",
            "top": null,
            "grid_column": null,
            "overflow_y": null,
            "overflow_x": null,
            "grid_auto_flow": null,
            "grid_area": null,
            "grid_template_columns": null,
            "flex": null,
            "_model_name": "LayoutModel",
            "justify_items": null,
            "grid_row": null,
            "max_height": null,
            "align_content": null,
            "visibility": null,
            "align_self": null,
            "height": null,
            "min_height": null,
            "padding": null,
            "grid_auto_rows": null,
            "grid_gap": null,
            "max_width": null,
            "order": null,
            "_view_module_version": "1.2.0",
            "grid_template_areas": null,
            "object_position": null,
            "object_fit": null,
            "grid_auto_columns": null,
            "margin": null,
            "display": null,
            "left": null
          }
        },
        "f98c9c49df3a4e26b13bf2e24567b264": {
          "model_module": "@jupyter-widgets/controls",
          "model_name": "ProgressStyleModel",
          "model_module_version": "1.5.0",
          "state": {
            "_view_name": "StyleView",
            "_model_name": "ProgressStyleModel",
            "description_width": "",
            "_view_module": "@jupyter-widgets/base",
            "_model_module_version": "1.5.0",
            "_view_count": null,
            "_view_module_version": "1.2.0",
            "bar_color": null,
            "_model_module": "@jupyter-widgets/controls"
          }
        },
        "02574156f70f4d1884a1bcb93cf940a7": {
          "model_module": "@jupyter-widgets/base",
          "model_name": "LayoutModel",
          "model_module_version": "1.2.0",
          "state": {
            "_view_name": "LayoutView",
            "grid_template_rows": null,
            "right": null,
            "justify_content": null,
            "_view_module": "@jupyter-widgets/base",
            "overflow": null,
            "_model_module_version": "1.2.0",
            "_view_count": null,
            "flex_flow": null,
            "width": null,
            "min_width": null,
            "border": null,
            "align_items": null,
            "bottom": null,
            "_model_module": "@jupyter-widgets/base",
            "top": null,
            "grid_column": null,
            "overflow_y": null,
            "overflow_x": null,
            "grid_auto_flow": null,
            "grid_area": null,
            "grid_template_columns": null,
            "flex": null,
            "_model_name": "LayoutModel",
            "justify_items": null,
            "grid_row": null,
            "max_height": null,
            "align_content": null,
            "visibility": null,
            "align_self": null,
            "height": null,
            "min_height": null,
            "padding": null,
            "grid_auto_rows": null,
            "grid_gap": null,
            "max_width": null,
            "order": null,
            "_view_module_version": "1.2.0",
            "grid_template_areas": null,
            "object_position": null,
            "object_fit": null,
            "grid_auto_columns": null,
            "margin": null,
            "display": null,
            "left": null
          }
        },
        "bcb2bee1d81744bb88b1100205bf6b18": {
          "model_module": "@jupyter-widgets/controls",
          "model_name": "DescriptionStyleModel",
          "model_module_version": "1.5.0",
          "state": {
            "_view_name": "StyleView",
            "_model_name": "DescriptionStyleModel",
            "description_width": "",
            "_view_module": "@jupyter-widgets/base",
            "_model_module_version": "1.5.0",
            "_view_count": null,
            "_view_module_version": "1.2.0",
            "_model_module": "@jupyter-widgets/controls"
          }
        },
        "78cb536012d64f929bce6734a14438c2": {
          "model_module": "@jupyter-widgets/base",
          "model_name": "LayoutModel",
          "model_module_version": "1.2.0",
          "state": {
            "_view_name": "LayoutView",
            "grid_template_rows": null,
            "right": null,
            "justify_content": null,
            "_view_module": "@jupyter-widgets/base",
            "overflow": null,
            "_model_module_version": "1.2.0",
            "_view_count": null,
            "flex_flow": null,
            "width": null,
            "min_width": null,
            "border": null,
            "align_items": null,
            "bottom": null,
            "_model_module": "@jupyter-widgets/base",
            "top": null,
            "grid_column": null,
            "overflow_y": null,
            "overflow_x": null,
            "grid_auto_flow": null,
            "grid_area": null,
            "grid_template_columns": null,
            "flex": null,
            "_model_name": "LayoutModel",
            "justify_items": null,
            "grid_row": null,
            "max_height": null,
            "align_content": null,
            "visibility": null,
            "align_self": null,
            "height": null,
            "min_height": null,
            "padding": null,
            "grid_auto_rows": null,
            "grid_gap": null,
            "max_width": null,
            "order": null,
            "_view_module_version": "1.2.0",
            "grid_template_areas": null,
            "object_position": null,
            "object_fit": null,
            "grid_auto_columns": null,
            "margin": null,
            "display": null,
            "left": null
          }
        },
        "49af656e0781498f9d840d1b9b787e58": {
          "model_module": "@jupyter-widgets/controls",
          "model_name": "HBoxModel",
          "model_module_version": "1.5.0",
          "state": {
            "_view_name": "HBoxView",
            "_dom_classes": [],
            "_model_name": "HBoxModel",
            "_view_module": "@jupyter-widgets/controls",
            "_model_module_version": "1.5.0",
            "_view_count": null,
            "_view_module_version": "1.5.0",
            "box_style": "",
            "layout": "IPY_MODEL_1992a95bc1d74e57b881c064ef9943bd",
            "_model_module": "@jupyter-widgets/controls",
            "children": [
              "IPY_MODEL_5226dd0e72a946ae8853f376bd3c07bf",
              "IPY_MODEL_90e010ef08aa453d87b5349c89959f82",
              "IPY_MODEL_03b3b9f1aaba4016906a8e9f059b9221"
            ]
          }
        },
        "1992a95bc1d74e57b881c064ef9943bd": {
          "model_module": "@jupyter-widgets/base",
          "model_name": "LayoutModel",
          "model_module_version": "1.2.0",
          "state": {
            "_view_name": "LayoutView",
            "grid_template_rows": null,
            "right": null,
            "justify_content": null,
            "_view_module": "@jupyter-widgets/base",
            "overflow": null,
            "_model_module_version": "1.2.0",
            "_view_count": null,
            "flex_flow": null,
            "width": null,
            "min_width": null,
            "border": null,
            "align_items": null,
            "bottom": null,
            "_model_module": "@jupyter-widgets/base",
            "top": null,
            "grid_column": null,
            "overflow_y": null,
            "overflow_x": null,
            "grid_auto_flow": null,
            "grid_area": null,
            "grid_template_columns": null,
            "flex": null,
            "_model_name": "LayoutModel",
            "justify_items": null,
            "grid_row": null,
            "max_height": null,
            "align_content": null,
            "visibility": null,
            "align_self": null,
            "height": null,
            "min_height": null,
            "padding": null,
            "grid_auto_rows": null,
            "grid_gap": null,
            "max_width": null,
            "order": null,
            "_view_module_version": "1.2.0",
            "grid_template_areas": null,
            "object_position": null,
            "object_fit": null,
            "grid_auto_columns": null,
            "margin": null,
            "display": null,
            "left": null
          }
        },
        "5226dd0e72a946ae8853f376bd3c07bf": {
          "model_module": "@jupyter-widgets/controls",
          "model_name": "HTMLModel",
          "model_module_version": "1.5.0",
          "state": {
            "_view_name": "HTMLView",
            "style": "IPY_MODEL_ce90ed257b88476a847584c7c5805fee",
            "_dom_classes": [],
            "description": "",
            "_model_name": "HTMLModel",
            "placeholder": "​",
            "_view_module": "@jupyter-widgets/controls",
            "_model_module_version": "1.5.0",
            "value": "Downloading: 100%",
            "_view_count": null,
            "_view_module_version": "1.5.0",
            "description_tooltip": null,
            "_model_module": "@jupyter-widgets/controls",
            "layout": "IPY_MODEL_412e77417b4c4074a1cc9551ea4a4b22"
          }
        },
        "90e010ef08aa453d87b5349c89959f82": {
          "model_module": "@jupyter-widgets/controls",
          "model_name": "FloatProgressModel",
          "model_module_version": "1.5.0",
          "state": {
            "_view_name": "ProgressView",
            "style": "IPY_MODEL_a2cfbd92f30d4b3a9f3210f06c265369",
            "_dom_classes": [],
            "description": "",
            "_model_name": "FloatProgressModel",
            "bar_style": "success",
            "max": 231508,
            "_view_module": "@jupyter-widgets/controls",
            "_model_module_version": "1.5.0",
            "value": 231508,
            "_view_count": null,
            "_view_module_version": "1.5.0",
            "orientation": "horizontal",
            "min": 0,
            "description_tooltip": null,
            "_model_module": "@jupyter-widgets/controls",
            "layout": "IPY_MODEL_df532007ff0b410b825bf35573ca0cb0"
          }
        },
        "03b3b9f1aaba4016906a8e9f059b9221": {
          "model_module": "@jupyter-widgets/controls",
          "model_name": "HTMLModel",
          "model_module_version": "1.5.0",
          "state": {
            "_view_name": "HTMLView",
            "style": "IPY_MODEL_3bc022d43b8e499183ad17916f072747",
            "_dom_classes": [],
            "description": "",
            "_model_name": "HTMLModel",
            "placeholder": "​",
            "_view_module": "@jupyter-widgets/controls",
            "_model_module_version": "1.5.0",
            "value": " 226k/226k [00:00&lt;00:00, 598kB/s]",
            "_view_count": null,
            "_view_module_version": "1.5.0",
            "description_tooltip": null,
            "_model_module": "@jupyter-widgets/controls",
            "layout": "IPY_MODEL_b89dae4da58441409280ae9c2abac775"
          }
        },
        "ce90ed257b88476a847584c7c5805fee": {
          "model_module": "@jupyter-widgets/controls",
          "model_name": "DescriptionStyleModel",
          "model_module_version": "1.5.0",
          "state": {
            "_view_name": "StyleView",
            "_model_name": "DescriptionStyleModel",
            "description_width": "",
            "_view_module": "@jupyter-widgets/base",
            "_model_module_version": "1.5.0",
            "_view_count": null,
            "_view_module_version": "1.2.0",
            "_model_module": "@jupyter-widgets/controls"
          }
        },
        "412e77417b4c4074a1cc9551ea4a4b22": {
          "model_module": "@jupyter-widgets/base",
          "model_name": "LayoutModel",
          "model_module_version": "1.2.0",
          "state": {
            "_view_name": "LayoutView",
            "grid_template_rows": null,
            "right": null,
            "justify_content": null,
            "_view_module": "@jupyter-widgets/base",
            "overflow": null,
            "_model_module_version": "1.2.0",
            "_view_count": null,
            "flex_flow": null,
            "width": null,
            "min_width": null,
            "border": null,
            "align_items": null,
            "bottom": null,
            "_model_module": "@jupyter-widgets/base",
            "top": null,
            "grid_column": null,
            "overflow_y": null,
            "overflow_x": null,
            "grid_auto_flow": null,
            "grid_area": null,
            "grid_template_columns": null,
            "flex": null,
            "_model_name": "LayoutModel",
            "justify_items": null,
            "grid_row": null,
            "max_height": null,
            "align_content": null,
            "visibility": null,
            "align_self": null,
            "height": null,
            "min_height": null,
            "padding": null,
            "grid_auto_rows": null,
            "grid_gap": null,
            "max_width": null,
            "order": null,
            "_view_module_version": "1.2.0",
            "grid_template_areas": null,
            "object_position": null,
            "object_fit": null,
            "grid_auto_columns": null,
            "margin": null,
            "display": null,
            "left": null
          }
        },
        "a2cfbd92f30d4b3a9f3210f06c265369": {
          "model_module": "@jupyter-widgets/controls",
          "model_name": "ProgressStyleModel",
          "model_module_version": "1.5.0",
          "state": {
            "_view_name": "StyleView",
            "_model_name": "ProgressStyleModel",
            "description_width": "",
            "_view_module": "@jupyter-widgets/base",
            "_model_module_version": "1.5.0",
            "_view_count": null,
            "_view_module_version": "1.2.0",
            "bar_color": null,
            "_model_module": "@jupyter-widgets/controls"
          }
        },
        "df532007ff0b410b825bf35573ca0cb0": {
          "model_module": "@jupyter-widgets/base",
          "model_name": "LayoutModel",
          "model_module_version": "1.2.0",
          "state": {
            "_view_name": "LayoutView",
            "grid_template_rows": null,
            "right": null,
            "justify_content": null,
            "_view_module": "@jupyter-widgets/base",
            "overflow": null,
            "_model_module_version": "1.2.0",
            "_view_count": null,
            "flex_flow": null,
            "width": null,
            "min_width": null,
            "border": null,
            "align_items": null,
            "bottom": null,
            "_model_module": "@jupyter-widgets/base",
            "top": null,
            "grid_column": null,
            "overflow_y": null,
            "overflow_x": null,
            "grid_auto_flow": null,
            "grid_area": null,
            "grid_template_columns": null,
            "flex": null,
            "_model_name": "LayoutModel",
            "justify_items": null,
            "grid_row": null,
            "max_height": null,
            "align_content": null,
            "visibility": null,
            "align_self": null,
            "height": null,
            "min_height": null,
            "padding": null,
            "grid_auto_rows": null,
            "grid_gap": null,
            "max_width": null,
            "order": null,
            "_view_module_version": "1.2.0",
            "grid_template_areas": null,
            "object_position": null,
            "object_fit": null,
            "grid_auto_columns": null,
            "margin": null,
            "display": null,
            "left": null
          }
        },
        "3bc022d43b8e499183ad17916f072747": {
          "model_module": "@jupyter-widgets/controls",
          "model_name": "DescriptionStyleModel",
          "model_module_version": "1.5.0",
          "state": {
            "_view_name": "StyleView",
            "_model_name": "DescriptionStyleModel",
            "description_width": "",
            "_view_module": "@jupyter-widgets/base",
            "_model_module_version": "1.5.0",
            "_view_count": null,
            "_view_module_version": "1.2.0",
            "_model_module": "@jupyter-widgets/controls"
          }
        },
        "b89dae4da58441409280ae9c2abac775": {
          "model_module": "@jupyter-widgets/base",
          "model_name": "LayoutModel",
          "model_module_version": "1.2.0",
          "state": {
            "_view_name": "LayoutView",
            "grid_template_rows": null,
            "right": null,
            "justify_content": null,
            "_view_module": "@jupyter-widgets/base",
            "overflow": null,
            "_model_module_version": "1.2.0",
            "_view_count": null,
            "flex_flow": null,
            "width": null,
            "min_width": null,
            "border": null,
            "align_items": null,
            "bottom": null,
            "_model_module": "@jupyter-widgets/base",
            "top": null,
            "grid_column": null,
            "overflow_y": null,
            "overflow_x": null,
            "grid_auto_flow": null,
            "grid_area": null,
            "grid_template_columns": null,
            "flex": null,
            "_model_name": "LayoutModel",
            "justify_items": null,
            "grid_row": null,
            "max_height": null,
            "align_content": null,
            "visibility": null,
            "align_self": null,
            "height": null,
            "min_height": null,
            "padding": null,
            "grid_auto_rows": null,
            "grid_gap": null,
            "max_width": null,
            "order": null,
            "_view_module_version": "1.2.0",
            "grid_template_areas": null,
            "object_position": null,
            "object_fit": null,
            "grid_auto_columns": null,
            "margin": null,
            "display": null,
            "left": null
          }
        },
        "0be180b71c9d415aaf2b918626ae06e7": {
          "model_module": "@jupyter-widgets/controls",
          "model_name": "HBoxModel",
          "model_module_version": "1.5.0",
          "state": {
            "_view_name": "HBoxView",
            "_dom_classes": [],
            "_model_name": "HBoxModel",
            "_view_module": "@jupyter-widgets/controls",
            "_model_module_version": "1.5.0",
            "_view_count": null,
            "_view_module_version": "1.5.0",
            "box_style": "",
            "layout": "IPY_MODEL_ebe6bc03a8414f7c85ebcb5cedb114a8",
            "_model_module": "@jupyter-widgets/controls",
            "children": [
              "IPY_MODEL_075aa1d28e1342078e991063b00baca9",
              "IPY_MODEL_43ddc547a0a64dafbccaf711a59ee6a2",
              "IPY_MODEL_31d33ba2215941f0abb6dadaefcefde4"
            ]
          }
        },
        "ebe6bc03a8414f7c85ebcb5cedb114a8": {
          "model_module": "@jupyter-widgets/base",
          "model_name": "LayoutModel",
          "model_module_version": "1.2.0",
          "state": {
            "_view_name": "LayoutView",
            "grid_template_rows": null,
            "right": null,
            "justify_content": null,
            "_view_module": "@jupyter-widgets/base",
            "overflow": null,
            "_model_module_version": "1.2.0",
            "_view_count": null,
            "flex_flow": null,
            "width": null,
            "min_width": null,
            "border": null,
            "align_items": null,
            "bottom": null,
            "_model_module": "@jupyter-widgets/base",
            "top": null,
            "grid_column": null,
            "overflow_y": null,
            "overflow_x": null,
            "grid_auto_flow": null,
            "grid_area": null,
            "grid_template_columns": null,
            "flex": null,
            "_model_name": "LayoutModel",
            "justify_items": null,
            "grid_row": null,
            "max_height": null,
            "align_content": null,
            "visibility": null,
            "align_self": null,
            "height": null,
            "min_height": null,
            "padding": null,
            "grid_auto_rows": null,
            "grid_gap": null,
            "max_width": null,
            "order": null,
            "_view_module_version": "1.2.0",
            "grid_template_areas": null,
            "object_position": null,
            "object_fit": null,
            "grid_auto_columns": null,
            "margin": null,
            "display": null,
            "left": null
          }
        },
        "075aa1d28e1342078e991063b00baca9": {
          "model_module": "@jupyter-widgets/controls",
          "model_name": "HTMLModel",
          "model_module_version": "1.5.0",
          "state": {
            "_view_name": "HTMLView",
            "style": "IPY_MODEL_9a8953486f3d4a82b823716468045b25",
            "_dom_classes": [],
            "description": "",
            "_model_name": "HTMLModel",
            "placeholder": "​",
            "_view_module": "@jupyter-widgets/controls",
            "_model_module_version": "1.5.0",
            "value": "Downloading: 100%",
            "_view_count": null,
            "_view_module_version": "1.5.0",
            "description_tooltip": null,
            "_model_module": "@jupyter-widgets/controls",
            "layout": "IPY_MODEL_5d8bf6009d2047d38686969056651b74"
          }
        },
        "43ddc547a0a64dafbccaf711a59ee6a2": {
          "model_module": "@jupyter-widgets/controls",
          "model_name": "FloatProgressModel",
          "model_module_version": "1.5.0",
          "state": {
            "_view_name": "ProgressView",
            "style": "IPY_MODEL_82cc4cc7f3c24371b4dcfceafac8a39b",
            "_dom_classes": [],
            "description": "",
            "_model_name": "FloatProgressModel",
            "bar_style": "success",
            "max": 466062,
            "_view_module": "@jupyter-widgets/controls",
            "_model_module_version": "1.5.0",
            "value": 466062,
            "_view_count": null,
            "_view_module_version": "1.5.0",
            "orientation": "horizontal",
            "min": 0,
            "description_tooltip": null,
            "_model_module": "@jupyter-widgets/controls",
            "layout": "IPY_MODEL_b3f80c8b48304078b2cffebb68b0efc7"
          }
        },
        "31d33ba2215941f0abb6dadaefcefde4": {
          "model_module": "@jupyter-widgets/controls",
          "model_name": "HTMLModel",
          "model_module_version": "1.5.0",
          "state": {
            "_view_name": "HTMLView",
            "style": "IPY_MODEL_9b8688e2f45e46308fdb2f8c747ecc58",
            "_dom_classes": [],
            "description": "",
            "_model_name": "HTMLModel",
            "placeholder": "​",
            "_view_module": "@jupyter-widgets/controls",
            "_model_module_version": "1.5.0",
            "value": " 455k/455k [00:00&lt;00:00, 1.26MB/s]",
            "_view_count": null,
            "_view_module_version": "1.5.0",
            "description_tooltip": null,
            "_model_module": "@jupyter-widgets/controls",
            "layout": "IPY_MODEL_3ffe1a948dd047528988ed41fa2ea34b"
          }
        },
        "9a8953486f3d4a82b823716468045b25": {
          "model_module": "@jupyter-widgets/controls",
          "model_name": "DescriptionStyleModel",
          "model_module_version": "1.5.0",
          "state": {
            "_view_name": "StyleView",
            "_model_name": "DescriptionStyleModel",
            "description_width": "",
            "_view_module": "@jupyter-widgets/base",
            "_model_module_version": "1.5.0",
            "_view_count": null,
            "_view_module_version": "1.2.0",
            "_model_module": "@jupyter-widgets/controls"
          }
        },
        "5d8bf6009d2047d38686969056651b74": {
          "model_module": "@jupyter-widgets/base",
          "model_name": "LayoutModel",
          "model_module_version": "1.2.0",
          "state": {
            "_view_name": "LayoutView",
            "grid_template_rows": null,
            "right": null,
            "justify_content": null,
            "_view_module": "@jupyter-widgets/base",
            "overflow": null,
            "_model_module_version": "1.2.0",
            "_view_count": null,
            "flex_flow": null,
            "width": null,
            "min_width": null,
            "border": null,
            "align_items": null,
            "bottom": null,
            "_model_module": "@jupyter-widgets/base",
            "top": null,
            "grid_column": null,
            "overflow_y": null,
            "overflow_x": null,
            "grid_auto_flow": null,
            "grid_area": null,
            "grid_template_columns": null,
            "flex": null,
            "_model_name": "LayoutModel",
            "justify_items": null,
            "grid_row": null,
            "max_height": null,
            "align_content": null,
            "visibility": null,
            "align_self": null,
            "height": null,
            "min_height": null,
            "padding": null,
            "grid_auto_rows": null,
            "grid_gap": null,
            "max_width": null,
            "order": null,
            "_view_module_version": "1.2.0",
            "grid_template_areas": null,
            "object_position": null,
            "object_fit": null,
            "grid_auto_columns": null,
            "margin": null,
            "display": null,
            "left": null
          }
        },
        "82cc4cc7f3c24371b4dcfceafac8a39b": {
          "model_module": "@jupyter-widgets/controls",
          "model_name": "ProgressStyleModel",
          "model_module_version": "1.5.0",
          "state": {
            "_view_name": "StyleView",
            "_model_name": "ProgressStyleModel",
            "description_width": "",
            "_view_module": "@jupyter-widgets/base",
            "_model_module_version": "1.5.0",
            "_view_count": null,
            "_view_module_version": "1.2.0",
            "bar_color": null,
            "_model_module": "@jupyter-widgets/controls"
          }
        },
        "b3f80c8b48304078b2cffebb68b0efc7": {
          "model_module": "@jupyter-widgets/base",
          "model_name": "LayoutModel",
          "model_module_version": "1.2.0",
          "state": {
            "_view_name": "LayoutView",
            "grid_template_rows": null,
            "right": null,
            "justify_content": null,
            "_view_module": "@jupyter-widgets/base",
            "overflow": null,
            "_model_module_version": "1.2.0",
            "_view_count": null,
            "flex_flow": null,
            "width": null,
            "min_width": null,
            "border": null,
            "align_items": null,
            "bottom": null,
            "_model_module": "@jupyter-widgets/base",
            "top": null,
            "grid_column": null,
            "overflow_y": null,
            "overflow_x": null,
            "grid_auto_flow": null,
            "grid_area": null,
            "grid_template_columns": null,
            "flex": null,
            "_model_name": "LayoutModel",
            "justify_items": null,
            "grid_row": null,
            "max_height": null,
            "align_content": null,
            "visibility": null,
            "align_self": null,
            "height": null,
            "min_height": null,
            "padding": null,
            "grid_auto_rows": null,
            "grid_gap": null,
            "max_width": null,
            "order": null,
            "_view_module_version": "1.2.0",
            "grid_template_areas": null,
            "object_position": null,
            "object_fit": null,
            "grid_auto_columns": null,
            "margin": null,
            "display": null,
            "left": null
          }
        },
        "9b8688e2f45e46308fdb2f8c747ecc58": {
          "model_module": "@jupyter-widgets/controls",
          "model_name": "DescriptionStyleModel",
          "model_module_version": "1.5.0",
          "state": {
            "_view_name": "StyleView",
            "_model_name": "DescriptionStyleModel",
            "description_width": "",
            "_view_module": "@jupyter-widgets/base",
            "_model_module_version": "1.5.0",
            "_view_count": null,
            "_view_module_version": "1.2.0",
            "_model_module": "@jupyter-widgets/controls"
          }
        },
        "3ffe1a948dd047528988ed41fa2ea34b": {
          "model_module": "@jupyter-widgets/base",
          "model_name": "LayoutModel",
          "model_module_version": "1.2.0",
          "state": {
            "_view_name": "LayoutView",
            "grid_template_rows": null,
            "right": null,
            "justify_content": null,
            "_view_module": "@jupyter-widgets/base",
            "overflow": null,
            "_model_module_version": "1.2.0",
            "_view_count": null,
            "flex_flow": null,
            "width": null,
            "min_width": null,
            "border": null,
            "align_items": null,
            "bottom": null,
            "_model_module": "@jupyter-widgets/base",
            "top": null,
            "grid_column": null,
            "overflow_y": null,
            "overflow_x": null,
            "grid_auto_flow": null,
            "grid_area": null,
            "grid_template_columns": null,
            "flex": null,
            "_model_name": "LayoutModel",
            "justify_items": null,
            "grid_row": null,
            "max_height": null,
            "align_content": null,
            "visibility": null,
            "align_self": null,
            "height": null,
            "min_height": null,
            "padding": null,
            "grid_auto_rows": null,
            "grid_gap": null,
            "max_width": null,
            "order": null,
            "_view_module_version": "1.2.0",
            "grid_template_areas": null,
            "object_position": null,
            "object_fit": null,
            "grid_auto_columns": null,
            "margin": null,
            "display": null,
            "left": null
          }
        },
        "9a8eaeb7e5354b9097f2b3035f924d49": {
          "model_module": "@jupyter-widgets/controls",
          "model_name": "HBoxModel",
          "model_module_version": "1.5.0",
          "state": {
            "_view_name": "HBoxView",
            "_dom_classes": [],
            "_model_name": "HBoxModel",
            "_view_module": "@jupyter-widgets/controls",
            "_model_module_version": "1.5.0",
            "_view_count": null,
            "_view_module_version": "1.5.0",
            "box_style": "",
            "layout": "IPY_MODEL_6357354ad1454ecc9155a17ca72e22f7",
            "_model_module": "@jupyter-widgets/controls",
            "children": [
              "IPY_MODEL_8a34647c493247b6ac7fb347ecbb91a0",
              "IPY_MODEL_c3f8d426d1f24208aa3d8accccf48ed6",
              "IPY_MODEL_ca42ac99f45e4388bdf669aeac2eba7a"
            ]
          }
        },
        "6357354ad1454ecc9155a17ca72e22f7": {
          "model_module": "@jupyter-widgets/base",
          "model_name": "LayoutModel",
          "model_module_version": "1.2.0",
          "state": {
            "_view_name": "LayoutView",
            "grid_template_rows": null,
            "right": null,
            "justify_content": null,
            "_view_module": "@jupyter-widgets/base",
            "overflow": null,
            "_model_module_version": "1.2.0",
            "_view_count": null,
            "flex_flow": null,
            "width": null,
            "min_width": null,
            "border": null,
            "align_items": null,
            "bottom": null,
            "_model_module": "@jupyter-widgets/base",
            "top": null,
            "grid_column": null,
            "overflow_y": null,
            "overflow_x": null,
            "grid_auto_flow": null,
            "grid_area": null,
            "grid_template_columns": null,
            "flex": null,
            "_model_name": "LayoutModel",
            "justify_items": null,
            "grid_row": null,
            "max_height": null,
            "align_content": null,
            "visibility": null,
            "align_self": null,
            "height": null,
            "min_height": null,
            "padding": null,
            "grid_auto_rows": null,
            "grid_gap": null,
            "max_width": null,
            "order": null,
            "_view_module_version": "1.2.0",
            "grid_template_areas": null,
            "object_position": null,
            "object_fit": null,
            "grid_auto_columns": null,
            "margin": null,
            "display": null,
            "left": null
          }
        },
        "8a34647c493247b6ac7fb347ecbb91a0": {
          "model_module": "@jupyter-widgets/controls",
          "model_name": "HTMLModel",
          "model_module_version": "1.5.0",
          "state": {
            "_view_name": "HTMLView",
            "style": "IPY_MODEL_a9c8b8cfce024c739c26ab80c86f61f8",
            "_dom_classes": [],
            "description": "",
            "_model_name": "HTMLModel",
            "placeholder": "​",
            "_view_module": "@jupyter-widgets/controls",
            "_model_module_version": "1.5.0",
            "value": "Downloading: 100%",
            "_view_count": null,
            "_view_module_version": "1.5.0",
            "description_tooltip": null,
            "_model_module": "@jupyter-widgets/controls",
            "layout": "IPY_MODEL_09d80ee942744afe877da29922ce58cb"
          }
        },
        "c3f8d426d1f24208aa3d8accccf48ed6": {
          "model_module": "@jupyter-widgets/controls",
          "model_name": "FloatProgressModel",
          "model_module_version": "1.5.0",
          "state": {
            "_view_name": "ProgressView",
            "style": "IPY_MODEL_7d58a7cea23f4c088fc01aef3bf7ed31",
            "_dom_classes": [],
            "description": "",
            "_model_name": "FloatProgressModel",
            "bar_style": "success",
            "max": 28,
            "_view_module": "@jupyter-widgets/controls",
            "_model_module_version": "1.5.0",
            "value": 28,
            "_view_count": null,
            "_view_module_version": "1.5.0",
            "orientation": "horizontal",
            "min": 0,
            "description_tooltip": null,
            "_model_module": "@jupyter-widgets/controls",
            "layout": "IPY_MODEL_5a1247c4880e4a3b8a38b079e5946a7c"
          }
        },
        "ca42ac99f45e4388bdf669aeac2eba7a": {
          "model_module": "@jupyter-widgets/controls",
          "model_name": "HTMLModel",
          "model_module_version": "1.5.0",
          "state": {
            "_view_name": "HTMLView",
            "style": "IPY_MODEL_9e7206ef857543fe8668e466625f411d",
            "_dom_classes": [],
            "description": "",
            "_model_name": "HTMLModel",
            "placeholder": "​",
            "_view_module": "@jupyter-widgets/controls",
            "_model_module_version": "1.5.0",
            "value": " 28.0/28.0 [00:00&lt;00:00, 653B/s]",
            "_view_count": null,
            "_view_module_version": "1.5.0",
            "description_tooltip": null,
            "_model_module": "@jupyter-widgets/controls",
            "layout": "IPY_MODEL_a3d6b9282a534b22b70f38aa042bec8e"
          }
        },
        "a9c8b8cfce024c739c26ab80c86f61f8": {
          "model_module": "@jupyter-widgets/controls",
          "model_name": "DescriptionStyleModel",
          "model_module_version": "1.5.0",
          "state": {
            "_view_name": "StyleView",
            "_model_name": "DescriptionStyleModel",
            "description_width": "",
            "_view_module": "@jupyter-widgets/base",
            "_model_module_version": "1.5.0",
            "_view_count": null,
            "_view_module_version": "1.2.0",
            "_model_module": "@jupyter-widgets/controls"
          }
        },
        "09d80ee942744afe877da29922ce58cb": {
          "model_module": "@jupyter-widgets/base",
          "model_name": "LayoutModel",
          "model_module_version": "1.2.0",
          "state": {
            "_view_name": "LayoutView",
            "grid_template_rows": null,
            "right": null,
            "justify_content": null,
            "_view_module": "@jupyter-widgets/base",
            "overflow": null,
            "_model_module_version": "1.2.0",
            "_view_count": null,
            "flex_flow": null,
            "width": null,
            "min_width": null,
            "border": null,
            "align_items": null,
            "bottom": null,
            "_model_module": "@jupyter-widgets/base",
            "top": null,
            "grid_column": null,
            "overflow_y": null,
            "overflow_x": null,
            "grid_auto_flow": null,
            "grid_area": null,
            "grid_template_columns": null,
            "flex": null,
            "_model_name": "LayoutModel",
            "justify_items": null,
            "grid_row": null,
            "max_height": null,
            "align_content": null,
            "visibility": null,
            "align_self": null,
            "height": null,
            "min_height": null,
            "padding": null,
            "grid_auto_rows": null,
            "grid_gap": null,
            "max_width": null,
            "order": null,
            "_view_module_version": "1.2.0",
            "grid_template_areas": null,
            "object_position": null,
            "object_fit": null,
            "grid_auto_columns": null,
            "margin": null,
            "display": null,
            "left": null
          }
        },
        "7d58a7cea23f4c088fc01aef3bf7ed31": {
          "model_module": "@jupyter-widgets/controls",
          "model_name": "ProgressStyleModel",
          "model_module_version": "1.5.0",
          "state": {
            "_view_name": "StyleView",
            "_model_name": "ProgressStyleModel",
            "description_width": "",
            "_view_module": "@jupyter-widgets/base",
            "_model_module_version": "1.5.0",
            "_view_count": null,
            "_view_module_version": "1.2.0",
            "bar_color": null,
            "_model_module": "@jupyter-widgets/controls"
          }
        },
        "5a1247c4880e4a3b8a38b079e5946a7c": {
          "model_module": "@jupyter-widgets/base",
          "model_name": "LayoutModel",
          "model_module_version": "1.2.0",
          "state": {
            "_view_name": "LayoutView",
            "grid_template_rows": null,
            "right": null,
            "justify_content": null,
            "_view_module": "@jupyter-widgets/base",
            "overflow": null,
            "_model_module_version": "1.2.0",
            "_view_count": null,
            "flex_flow": null,
            "width": null,
            "min_width": null,
            "border": null,
            "align_items": null,
            "bottom": null,
            "_model_module": "@jupyter-widgets/base",
            "top": null,
            "grid_column": null,
            "overflow_y": null,
            "overflow_x": null,
            "grid_auto_flow": null,
            "grid_area": null,
            "grid_template_columns": null,
            "flex": null,
            "_model_name": "LayoutModel",
            "justify_items": null,
            "grid_row": null,
            "max_height": null,
            "align_content": null,
            "visibility": null,
            "align_self": null,
            "height": null,
            "min_height": null,
            "padding": null,
            "grid_auto_rows": null,
            "grid_gap": null,
            "max_width": null,
            "order": null,
            "_view_module_version": "1.2.0",
            "grid_template_areas": null,
            "object_position": null,
            "object_fit": null,
            "grid_auto_columns": null,
            "margin": null,
            "display": null,
            "left": null
          }
        },
        "9e7206ef857543fe8668e466625f411d": {
          "model_module": "@jupyter-widgets/controls",
          "model_name": "DescriptionStyleModel",
          "model_module_version": "1.5.0",
          "state": {
            "_view_name": "StyleView",
            "_model_name": "DescriptionStyleModel",
            "description_width": "",
            "_view_module": "@jupyter-widgets/base",
            "_model_module_version": "1.5.0",
            "_view_count": null,
            "_view_module_version": "1.2.0",
            "_model_module": "@jupyter-widgets/controls"
          }
        },
        "a3d6b9282a534b22b70f38aa042bec8e": {
          "model_module": "@jupyter-widgets/base",
          "model_name": "LayoutModel",
          "model_module_version": "1.2.0",
          "state": {
            "_view_name": "LayoutView",
            "grid_template_rows": null,
            "right": null,
            "justify_content": null,
            "_view_module": "@jupyter-widgets/base",
            "overflow": null,
            "_model_module_version": "1.2.0",
            "_view_count": null,
            "flex_flow": null,
            "width": null,
            "min_width": null,
            "border": null,
            "align_items": null,
            "bottom": null,
            "_model_module": "@jupyter-widgets/base",
            "top": null,
            "grid_column": null,
            "overflow_y": null,
            "overflow_x": null,
            "grid_auto_flow": null,
            "grid_area": null,
            "grid_template_columns": null,
            "flex": null,
            "_model_name": "LayoutModel",
            "justify_items": null,
            "grid_row": null,
            "max_height": null,
            "align_content": null,
            "visibility": null,
            "align_self": null,
            "height": null,
            "min_height": null,
            "padding": null,
            "grid_auto_rows": null,
            "grid_gap": null,
            "max_width": null,
            "order": null,
            "_view_module_version": "1.2.0",
            "grid_template_areas": null,
            "object_position": null,
            "object_fit": null,
            "grid_auto_columns": null,
            "margin": null,
            "display": null,
            "left": null
          }
        }
      }
    },
    "accelerator": "GPU"
  },
  "cells": [
    {
      "cell_type": "code",
      "metadata": {
        "id": "vvwswpqw-8mO"
      },
      "source": [
        "import warnings\n",
        "warnings.filterwarnings('ignore')\n",
        "from IPython.display import clear_output\n",
        "\n",
        "import sys, os\n",
        "import pandas as pd\n",
        "import numpy as np\n",
        "import re\n",
        "from bs4 import BeautifulSoup as bs\n",
        "import matplotlib.pyplot as plt\n",
        "\n",
        "from sklearn.linear_model import LogisticRegression\n",
        "from sklearn.pipeline import make_pipeline\n",
        "from sklearn.model_selection import train_test_split, cross_val_score\n",
        "from sklearn.preprocessing import StandardScaler\n",
        "from sklearn.feature_extraction.text import CountVectorizer, TfidfVectorizer, HashingVectorizer\n",
        "\n",
        "from sklearn.metrics import precision_score, recall_score, f1_score, confusion_matrix, roc_auc_score\n",
        "from sklearn.model_selection import GridSearchCV, learning_curve\n",
        "from sklearn.metrics import classification_report\n",
        "\n",
        "from tqdm.notebook import tqdm\n",
        "from nltk.corpus import stopwords\n",
        "import nltk\n",
        "from nltk.stem.porter import PorterStemmer\n",
        "from nltk.stem.snowball import SnowballStemmer\n",
        "nltk.download('stopwords')\n",
        "\n",
        "!pip install -qU catboost spacy\n",
        "from catboost import CatBoostClassifier, Pool\n",
        "import spacy\n",
        "clear_output()\n",
        "# https://www.tensorflow.org/text/tutorials/classify_text_with_bert - useful tutorial about using BERT models in txt cls"
      ],
      "execution_count": 1,
      "outputs": []
    },
    {
      "cell_type": "code",
      "metadata": {
        "colab": {
          "base_uri": "https://localhost:8080/"
        },
        "id": "8rDDDwkK_qkj",
        "outputId": "c4bfbfca-af38-426e-befa-7e6ba63bf4b7"
      },
      "source": [
        "from google.colab import drive\n",
        "drive.mount('/content/drive')"
      ],
      "execution_count": 2,
      "outputs": [
        {
          "output_type": "stream",
          "name": "stdout",
          "text": [
            "Mounted at /content/drive\n"
          ]
        }
      ]
    },
    {
      "cell_type": "code",
      "metadata": {
        "id": "3lz-tQWm_ubm"
      },
      "source": [
        "email_root = '/content/drive/My Drive/data/email_spam/email.csv'"
      ],
      "execution_count": 3,
      "outputs": []
    },
    {
      "cell_type": "code",
      "metadata": {
        "id": "yeqG4F_UAIZ5"
      },
      "source": [
        "df = pd.read_csv(email_root)"
      ],
      "execution_count": 4,
      "outputs": []
    },
    {
      "cell_type": "code",
      "metadata": {
        "colab": {
          "base_uri": "https://localhost:8080/",
          "height": 143
        },
        "id": "eiQi3vCeAMhG",
        "outputId": "db8d6f07-6f51-425c-a9c3-4fe98cffffc6"
      },
      "source": [
        "df.head(3)"
      ],
      "execution_count": 5,
      "outputs": [
        {
          "output_type": "execute_result",
          "data": {
            "text/plain": [
              "                                                text  spam\n",
              "0  Subject: naturally irresistible your corporate...     1\n",
              "1  Subject: the stock trading gunslinger  fanny i...     1\n",
              "2  Subject: unbelievable new homes made easy  im ...     1"
            ],
            "text/html": [
              "\n",
              "  <div id=\"df-cb05f2c9-b88c-4d18-a80e-5122780ad1f4\">\n",
              "    <div class=\"colab-df-container\">\n",
              "      <div>\n",
              "<style scoped>\n",
              "    .dataframe tbody tr th:only-of-type {\n",
              "        vertical-align: middle;\n",
              "    }\n",
              "\n",
              "    .dataframe tbody tr th {\n",
              "        vertical-align: top;\n",
              "    }\n",
              "\n",
              "    .dataframe thead th {\n",
              "        text-align: right;\n",
              "    }\n",
              "</style>\n",
              "<table border=\"1\" class=\"dataframe\">\n",
              "  <thead>\n",
              "    <tr style=\"text-align: right;\">\n",
              "      <th></th>\n",
              "      <th>text</th>\n",
              "      <th>spam</th>\n",
              "    </tr>\n",
              "  </thead>\n",
              "  <tbody>\n",
              "    <tr>\n",
              "      <th>0</th>\n",
              "      <td>Subject: naturally irresistible your corporate...</td>\n",
              "      <td>1</td>\n",
              "    </tr>\n",
              "    <tr>\n",
              "      <th>1</th>\n",
              "      <td>Subject: the stock trading gunslinger  fanny i...</td>\n",
              "      <td>1</td>\n",
              "    </tr>\n",
              "    <tr>\n",
              "      <th>2</th>\n",
              "      <td>Subject: unbelievable new homes made easy  im ...</td>\n",
              "      <td>1</td>\n",
              "    </tr>\n",
              "  </tbody>\n",
              "</table>\n",
              "</div>\n",
              "      <button class=\"colab-df-convert\" onclick=\"convertToInteractive('df-cb05f2c9-b88c-4d18-a80e-5122780ad1f4')\"\n",
              "              title=\"Convert this dataframe to an interactive table.\"\n",
              "              style=\"display:none;\">\n",
              "        \n",
              "  <svg xmlns=\"http://www.w3.org/2000/svg\" height=\"24px\"viewBox=\"0 0 24 24\"\n",
              "       width=\"24px\">\n",
              "    <path d=\"M0 0h24v24H0V0z\" fill=\"none\"/>\n",
              "    <path d=\"M18.56 5.44l.94 2.06.94-2.06 2.06-.94-2.06-.94-.94-2.06-.94 2.06-2.06.94zm-11 1L8.5 8.5l.94-2.06 2.06-.94-2.06-.94L8.5 2.5l-.94 2.06-2.06.94zm10 10l.94 2.06.94-2.06 2.06-.94-2.06-.94-.94-2.06-.94 2.06-2.06.94z\"/><path d=\"M17.41 7.96l-1.37-1.37c-.4-.4-.92-.59-1.43-.59-.52 0-1.04.2-1.43.59L10.3 9.45l-7.72 7.72c-.78.78-.78 2.05 0 2.83L4 21.41c.39.39.9.59 1.41.59.51 0 1.02-.2 1.41-.59l7.78-7.78 2.81-2.81c.8-.78.8-2.07 0-2.86zM5.41 20L4 18.59l7.72-7.72 1.47 1.35L5.41 20z\"/>\n",
              "  </svg>\n",
              "      </button>\n",
              "      \n",
              "  <style>\n",
              "    .colab-df-container {\n",
              "      display:flex;\n",
              "      flex-wrap:wrap;\n",
              "      gap: 12px;\n",
              "    }\n",
              "\n",
              "    .colab-df-convert {\n",
              "      background-color: #E8F0FE;\n",
              "      border: none;\n",
              "      border-radius: 50%;\n",
              "      cursor: pointer;\n",
              "      display: none;\n",
              "      fill: #1967D2;\n",
              "      height: 32px;\n",
              "      padding: 0 0 0 0;\n",
              "      width: 32px;\n",
              "    }\n",
              "\n",
              "    .colab-df-convert:hover {\n",
              "      background-color: #E2EBFA;\n",
              "      box-shadow: 0px 1px 2px rgba(60, 64, 67, 0.3), 0px 1px 3px 1px rgba(60, 64, 67, 0.15);\n",
              "      fill: #174EA6;\n",
              "    }\n",
              "\n",
              "    [theme=dark] .colab-df-convert {\n",
              "      background-color: #3B4455;\n",
              "      fill: #D2E3FC;\n",
              "    }\n",
              "\n",
              "    [theme=dark] .colab-df-convert:hover {\n",
              "      background-color: #434B5C;\n",
              "      box-shadow: 0px 1px 3px 1px rgba(0, 0, 0, 0.15);\n",
              "      filter: drop-shadow(0px 1px 2px rgba(0, 0, 0, 0.3));\n",
              "      fill: #FFFFFF;\n",
              "    }\n",
              "  </style>\n",
              "\n",
              "      <script>\n",
              "        const buttonEl =\n",
              "          document.querySelector('#df-cb05f2c9-b88c-4d18-a80e-5122780ad1f4 button.colab-df-convert');\n",
              "        buttonEl.style.display =\n",
              "          google.colab.kernel.accessAllowed ? 'block' : 'none';\n",
              "\n",
              "        async function convertToInteractive(key) {\n",
              "          const element = document.querySelector('#df-cb05f2c9-b88c-4d18-a80e-5122780ad1f4');\n",
              "          const dataTable =\n",
              "            await google.colab.kernel.invokeFunction('convertToInteractive',\n",
              "                                                     [key], {});\n",
              "          if (!dataTable) return;\n",
              "\n",
              "          const docLinkHtml = 'Like what you see? Visit the ' +\n",
              "            '<a target=\"_blank\" href=https://colab.research.google.com/notebooks/data_table.ipynb>data table notebook</a>'\n",
              "            + ' to learn more about interactive tables.';\n",
              "          element.innerHTML = '';\n",
              "          dataTable['output_type'] = 'display_data';\n",
              "          await google.colab.output.renderOutput(dataTable, element);\n",
              "          const docLink = document.createElement('div');\n",
              "          docLink.innerHTML = docLinkHtml;\n",
              "          element.appendChild(docLink);\n",
              "        }\n",
              "      </script>\n",
              "    </div>\n",
              "  </div>\n",
              "  "
            ]
          },
          "metadata": {},
          "execution_count": 5
        }
      ]
    },
    {
      "cell_type": "code",
      "metadata": {
        "id": "xiGYF8EHLGEZ"
      },
      "source": [
        "stop = stopwords.words('english')"
      ],
      "execution_count": 6,
      "outputs": []
    },
    {
      "cell_type": "code",
      "metadata": {
        "id": "Ob4pXNYqAQQD"
      },
      "source": [
        "def cross_validation(clf, X, y, scoring='f1', cv=5):\n",
        "    scores = cross_val_score(estimator=clf, X=X, y=y, cv=cv, scoring=scoring, n_jobs=-1)\n",
        "    print(f'Меры правильности перекрекстной оценки: {scores}')\n",
        "    print(f'Точность перекретсной оценки: {np.mean(scores):.3f} +/- {np.std(scores):.3f}')\n",
        "    return scores\n",
        "\n",
        "def report(y_train, y_train_pred, y_test, y_test_pred, y_train_proba=None, y_test_proba=None):\n",
        "    print('Train\\n', classification_report(y_train, y_train_pred, digits=3))\n",
        "    print('Test\\n', classification_report(y_test, y_test_pred, digits=3))\n",
        "    if y_train_proba is not None and y_test_proba is not None:\n",
        "        roc_train, roc_test = roc_auc_score(y_train, y_train_proba), roc_auc_score(y_test, y_test_proba)\n",
        "        print(f'Train ROC_AUC: {roc_train:.3f}, Test ROC_AUC: {roc_test:.3f}') \n",
        "    print('Confusion Matrix', '\\n', pd.crosstab(y_test, y_test_pred))"
      ],
      "execution_count": 7,
      "outputs": []
    },
    {
      "cell_type": "code",
      "metadata": {
        "id": "gjpl-HVOAyA6"
      },
      "source": [
        "def preprocessor(text, is_soup=False):\n",
        "    if is_soup:\n",
        "        soup = bs(text, 'html.parser').getText()\n",
        "    text = re.sub('Subject: ', '', text)\n",
        "    text = re.sub('<[^>]*>', '', text)\n",
        "    emoticons = re.findall('(?::|;|=)(?:-)?(?:\\)|\\(|D|P)', text.lower())\n",
        "    text = re.sub('[\\W]+', ' ', text.lower())\n",
        "    text = re.sub(r'[^\\w]', ' ', text)\n",
        "    text = [w for w in text.split() if w not in stop]\n",
        "    text = [re.sub(r\"[^a-zA-Z0-9]+\", '', k) for k in text]\n",
        "    return re.sub(' +', ' ', ' '.join(text))"
      ],
      "execution_count": 8,
      "outputs": []
    },
    {
      "cell_type": "code",
      "metadata": {
        "id": "zCRLC1j6BHyQ"
      },
      "source": [
        "def get_X_batch(data):\n",
        "    for i in range(data.shape[0]):\n",
        "        text = preprocessor(data.iloc[i, 0])\n",
        "        label = data.iloc[i, 1]\n",
        "        yield text, label"
      ],
      "execution_count": 9,
      "outputs": []
    },
    {
      "cell_type": "code",
      "metadata": {
        "id": "Puxop8t3Maw0"
      },
      "source": [
        "df.text = df.text.apply(lambda x: preprocessor(x))"
      ],
      "execution_count": 10,
      "outputs": []
    },
    {
      "cell_type": "code",
      "metadata": {
        "id": "kdaZJEyVNM6d"
      },
      "source": [
        "def simple_porter(text):\n",
        "    p_stemmer = PorterStemmer()\n",
        "    new_text = ''\n",
        "    for word in text.split():\n",
        "        new_text += p_stemmer.stem(word) + ' '\n",
        "    return new_text\n",
        "\n",
        "def snow_stem(text):\n",
        "    snow_stemmer = SnowballStemmer(language='english')\n",
        "    new_text = ''\n",
        "    for word in text.split():\n",
        "        new_text += snow_stemmer.stem(word) + ' '\n",
        "    return new_text\n",
        "\n",
        "def lemmatize(text):\n",
        "    new_text = ''\n",
        "    for token in nlp(text):\n",
        "        new_text += token.lemma_ + ' '\n",
        "    return new_text"
      ],
      "execution_count": 11,
      "outputs": []
    },
    {
      "cell_type": "code",
      "metadata": {
        "id": "xg3kD7yGT2BT"
      },
      "source": [
        "df['p_stemmer'] = df.text.apply(lambda x: simple_porter(x))\n",
        "df['snow_stemmer'] = df.text.apply(lambda x: snow_stem(x))"
      ],
      "execution_count": null,
      "outputs": []
    },
    {
      "cell_type": "code",
      "metadata": {
        "id": "VEgYQmJ2UysY"
      },
      "source": [
        "!python -m spacy download en_core_web_sm\n",
        "nlp = spacy.load('en_core_web_sm')\n",
        "clear_output()"
      ],
      "execution_count": 12,
      "outputs": []
    },
    {
      "cell_type": "code",
      "metadata": {
        "id": "cWtvWBB9Vstv"
      },
      "source": [
        "df['lemmas'] = df.text.apply(lambda x: lemmatize(x))"
      ],
      "execution_count": 13,
      "outputs": []
    },
    {
      "cell_type": "code",
      "metadata": {
        "id": "a4XYLfGccfNG"
      },
      "source": [
        "X, y = df.lemmas, df.spam"
      ],
      "execution_count": 14,
      "outputs": []
    },
    {
      "cell_type": "code",
      "metadata": {
        "colab": {
          "base_uri": "https://localhost:8080/",
          "height": 497
        },
        "id": "dmxGYa6lgDnW",
        "outputId": "e25c0ce6-f904-406a-e444-90e146ed7cbe"
      },
      "source": [
        "X_ = TfidfVectorizer(lowercase=False).fit_transform(X)\n",
        "estimator = LogisticRegression(random_state=1, solver='lbfgs', penalty='l2', C=100.0, tol=1e-4, \n",
        "                        max_iter=200, class_weight='balanced')\n",
        "train_sizes, train_scores, test_scores = learning_curve(estimator=estimator, X=X_, y=y, \n",
        "                                                        train_sizes=np.linspace(0.1, 1.0, 10), cv=10, scoring='f1', n_jobs=-1)\n",
        "train_mean = np.mean(train_scores, axis=1)\n",
        "train_std = np.std(train_scores, axis=1)\n",
        "test_mean = np.mean(test_scores, axis=1)\n",
        "test_std = np.std(test_scores, axis=1)\n",
        "plt.figure(figsize=(10, 8))\n",
        "plt.plot(train_sizes, train_mean, color='blue', marker='o', markersize=5, label='правильность при обучении')\n",
        "plt.fill_between(train_sizes, train_mean + train_std, train_mean - train_std, alpha=0.15, color='blue')\n",
        "plt.plot(train_sizes, test_mean, color='green', linestyle='--', marker='s', markersize=5, \n",
        "         label='правильность при проверке')\n",
        "plt.fill_between(train_sizes, test_mean + test_std, test_mean - test_std, alpha=0.15, color='green')\n",
        "plt.axvline(X.shape[0]*0.67, color='orange', linestyle='-.', label='test_size=0.33')\n",
        "plt.axvline(X.shape[0]*0.72, color='orange', linestyle='-.', label='test_size=0.28')\n",
        "plt.grid()\n",
        "plt.xlabel('Количество обучающих образцов')\n",
        "plt.ylabel('Правильность')\n",
        "plt.legend(loc='best')\n",
        "plt.show()\n",
        "# оптимальный test_size=0.28"
      ],
      "execution_count": null,
      "outputs": [
        {
          "output_type": "display_data",
          "data": {
            "image/png": "[encoded data removed]",
            "text/plain": [
              "<Figure size 720x576 with 1 Axes>"
            ]
          },
          "metadata": {
            "needs_background": "light"
          }
        }
      ]
    },
    {
      "cell_type": "code",
      "metadata": {
        "id": "mYbcDdANcrtr"
      },
      "source": [
        "X_train, X_test, y_train, y_test = train_test_split(X, y, test_size=0.25, shuffle=True, stratify=y, random_state=1)"
      ],
      "execution_count": 15,
      "outputs": []
    },
    {
      "cell_type": "code",
      "metadata": {
        "id": "uLUqAxCQZoUJ"
      },
      "source": [
        "\"\"\"\n",
        "Convert a collection of raw documents to a matrix of TF-IDF features.\n",
        "Equivalent to CountVectorizer followed by TfidfTransformer.\n",
        "Also try HashingVectorizer\n",
        "\"\"\"\n",
        "#tfid_raw = TfidfVectorizer(lowercase=False)\n",
        "#X_raw = tfid_raw.fit_transform(df.text)\n",
        "#tfid_stem = TfidfVectorizer(lowercase=False)\n",
        "#X_stem = tfid_stem.fit_transform(df.p_stemmer)\n",
        "#tfid_snow = TfidfVectorizer(lowercase=False)\n",
        "#X_snow = tfid_snow.fit_transform(df.snow_stemmer)\n",
        "tfid_lemma = TfidfVectorizer(lowercase=False)\n",
        "X_train = tfid_lemma.fit_transform(X_train)\n",
        "X_test = tfid_lemma.transform(X_test)"
      ],
      "execution_count": 16,
      "outputs": []
    },
    {
      "cell_type": "code",
      "metadata": {
        "id": "A-5v1viqa9rx"
      },
      "source": [
        "base = LogisticRegression(random_state=1, solver='lbfgs', penalty='l2', C=100.0, tol=1e-3,\n",
        "                          max_iter=200, class_weight='balanced').fit(X_train, y_train)\n",
        "# may use SGDClassifier to further learn on test data after evaluating metrics, this will improve accuracy"
      ],
      "execution_count": 19,
      "outputs": []
    },
    {
      "cell_type": "code",
      "metadata": {
        "id": "p-rJDMFietr-"
      },
      "source": [
        "y_train_pred = base.predict(X_train)\n",
        "y_test_pred = base.predict(X_test)\n",
        "y_train_proba = base.predict_proba(X_train)[:,1]\n",
        "y_test_proba = base.predict_proba(X_test)[:,1]"
      ],
      "execution_count": 20,
      "outputs": []
    },
    {
      "cell_type": "code",
      "metadata": {
        "colab": {
          "base_uri": "https://localhost:8080/"
        },
        "id": "-3M9i24fe2eX",
        "outputId": "745375df-9544-42a6-d9ec-0d401e907e2a"
      },
      "source": [
        "report(y_train, y_train_pred, y_test, y_test_pred, y_train_proba, y_test_proba)"
      ],
      "execution_count": 21,
      "outputs": [
        {
          "output_type": "stream",
          "name": "stdout",
          "text": [
            "Train\n",
            "               precision    recall  f1-score   support\n",
            "\n",
            "           0      1.000     1.000     1.000      3270\n",
            "           1      1.000     1.000     1.000      1026\n",
            "\n",
            "    accuracy                          1.000      4296\n",
            "   macro avg      1.000     1.000     1.000      4296\n",
            "weighted avg      1.000     1.000     1.000      4296\n",
            "\n",
            "Test\n",
            "               precision    recall  f1-score   support\n",
            "\n",
            "           0      0.998     0.996     0.997      1090\n",
            "           1      0.988     0.994     0.991       342\n",
            "\n",
            "    accuracy                          0.996      1432\n",
            "   macro avg      0.993     0.995     0.994      1432\n",
            "weighted avg      0.996     0.996     0.996      1432\n",
            "\n",
            "Train ROC_AUC: 1.000, Test ROC_AUC: 1.000\n",
            "Confusion Matrix \n",
            " col_0     0    1\n",
            "spam            \n",
            "0      1086    4\n",
            "1         2  340\n"
          ]
        }
      ]
    },
    {
      "cell_type": "code",
      "metadata": {
        "colab": {
          "base_uri": "https://localhost:8080/"
        },
        "id": "8ZpItJ6-2UWS",
        "outputId": "1959aeb9-c209-4c09-8ed6-d3b9e3dc01d5"
      },
      "source": [
        "cross_validation(base, X_train, y_train, scoring='f1', cv=5)"
      ],
      "execution_count": 23,
      "outputs": [
        {
          "output_type": "stream",
          "name": "stdout",
          "text": [
            "Меры правильности перекрекстной оценки: [0.98296837 0.97788698 0.98550725 0.98280098 0.98288509]\n",
            "Точность перекретсной оценки: 0.982 +/- 0.002\n"
          ]
        },
        {
          "output_type": "execute_result",
          "data": {
            "text/plain": [
              "array([0.98296837, 0.97788698, 0.98550725, 0.98280098, 0.98288509])"
            ]
          },
          "metadata": {},
          "execution_count": 23
        }
      ]
    },
    {
      "cell_type": "code",
      "metadata": {
        "colab": {
          "base_uri": "https://localhost:8080/",
          "height": 295
        },
        "id": "Pk2OLN0IfXF8",
        "outputId": "181975c7-edd4-4f50-d33e-abecb6620de1"
      },
      "source": [
        "from sklearn import metrics\n",
        "probs = base.predict_proba(X_test)\n",
        "preds = probs[:,1]\n",
        "fpr, tpr, threshold = metrics.roc_curve(y_test, preds)\n",
        "roc_auc = metrics.auc(fpr, tpr)\n",
        "plt.title('Receiver Operating Characteristic')\n",
        "plt.plot(fpr, tpr, 'b', label = 'AUC = %0.2f' % roc_auc)\n",
        "plt.legend(loc = 'lower right')\n",
        "plt.plot([0, 1], [0, 1],'r--')\n",
        "plt.xlim([0, 1])\n",
        "plt.ylim([0, 1])\n",
        "plt.ylabel('True Positive Rate')\n",
        "plt.xlabel('False Positive Rate')\n",
        "plt.show()"
      ],
      "execution_count": null,
      "outputs": [
        {
          "output_type": "display_data",
          "data": {
            "image/png": "[encoded data removed]",
            "text/plain": [
              "<Figure size 432x288 with 1 Axes>"
            ]
          },
          "metadata": {
            "needs_background": "light"
          }
        }
      ]
    },
    {
      "cell_type": "code",
      "metadata": {
        "id": "qsXt2qGIiKll"
      },
      "source": [
        "train_pool = Pool(X_train, y_train)\n",
        "test_pool = Pool(X_test, y_test)\n",
        "params_model = {\n",
        "    'eval_metric': 'AUC',\n",
        "    'auto_class_weights': 'Balanced',\n",
        "    'silent': True,\n",
        "    'early_stopping_rounds': 10,\n",
        "    'boosting_type': 'Ordered',\n",
        "    'allow_writing_files': False,\n",
        "    'random_seed': 1\n",
        "}"
      ],
      "execution_count": null,
      "outputs": []
    },
    {
      "cell_type": "code",
      "metadata": {
        "id": "G7r6KHtfijI_"
      },
      "source": [
        "catboost = CatBoostClassifier(**params_model)\n",
        "\n",
        "params_grid = {\n",
        "    'depth': [3, 4, 5, 6],\n",
        "    'learning_rate': [0.03, 0.1, 0.3, 0.5],\n",
        "    'iterations': [100, 200, 400],\n",
        "    'l2_leaf_reg': [2, 2.5, 3, 3.5, 4],\n",
        "    'bagging_temperature': [1, 1.5, 2],\n",
        "    'subsample': [None, 0.3, 0.5, 0.7, 0.9],\n",
        "}\n",
        "gs = catboost.randomized_search(params_grid, train_pool, n_iter=20, shuffle=True, stratified=True,\n",
        "                                 partition_random_seed=1, cv=5)"
      ],
      "execution_count": null,
      "outputs": []
    },
    {
      "cell_type": "code",
      "metadata": {
        "colab": {
          "base_uri": "https://localhost:8080/"
        },
        "id": "dod4cb3SmPKs",
        "outputId": "aba05b87-466c-4996-8b85-6d788e08987e"
      },
      "source": [
        "gs['params']"
      ],
      "execution_count": null,
      "outputs": [
        {
          "output_type": "execute_result",
          "data": {
            "text/plain": [
              "{'bagging_temperature': 1.5,\n",
              " 'depth': 4,\n",
              " 'iterations': 400,\n",
              " 'l2_leaf_reg': 2.5,\n",
              " 'learning_rate': 0.3,\n",
              " 'subsample': 0.3}"
            ]
          },
          "metadata": {},
          "execution_count": 183
        }
      ]
    },
    {
      "cell_type": "code",
      "metadata": {
        "id": "FtSf5cBSiYCw"
      },
      "source": [
        "catboost = CatBoostClassifier(**params_model, depth=4, iterations=800, learning_rate=0.3, l2_leaf_reg=2.5,\n",
        "                              bagging_temperature=1.5, subsample=0.3, colsample_bylevel=0.7)\n",
        "catboost.fit(train_pool, eval_set=test_pool)\n",
        "cat_train_pred = catboost.predict(X_train)\n",
        "cat_test_pred = catboost.predict(X_test)\n",
        "cat_train_proba = catboost.predict_proba(X_train)[:,1]\n",
        "cat_test_proba = catboost.predict_proba(X_test)[:,1]"
      ],
      "execution_count": null,
      "outputs": []
    },
    {
      "cell_type": "code",
      "metadata": {
        "colab": {
          "base_uri": "https://localhost:8080/"
        },
        "id": "5y0MIB1GnWG_",
        "outputId": "fa13fe3f-bf24-46ad-813a-d8d97a655a20"
      },
      "source": [
        "report(y_train, cat_train_pred, y_test, cat_test_pred, cat_train_proba, cat_test_proba)"
      ],
      "execution_count": null,
      "outputs": [
        {
          "output_type": "stream",
          "name": "stdout",
          "text": [
            "Train\n",
            "               precision    recall  f1-score   support\n",
            "\n",
            "           0      1.000     0.991     0.996      3270\n",
            "           1      0.973     1.000     0.987      1026\n",
            "\n",
            "    accuracy                          0.993      4296\n",
            "   macro avg      0.987     0.996     0.991      4296\n",
            "weighted avg      0.994     0.993     0.994      4296\n",
            "\n",
            "Test\n",
            "               precision    recall  f1-score   support\n",
            "\n",
            "           0      0.999     0.975     0.987      1090\n",
            "           1      0.927     0.997     0.961       342\n",
            "\n",
            "    accuracy                          0.980      1432\n",
            "   macro avg      0.963     0.986     0.974      1432\n",
            "weighted avg      0.982     0.980     0.981      1432\n",
            "\n",
            "Train ROC_AUC: 1.000, Test ROC_AUC: 0.999\n",
            "Confusion Matrix \n",
            " col_0     0    1\n",
            "spam            \n",
            "0      1063   27\n",
            "1         1  341\n"
          ]
        }
      ]
    },
    {
      "cell_type": "markdown",
      "source": [
        "#### CatBoost model + optuna + text_features"
      ],
      "metadata": {
        "id": "vmjSBsPmGLup"
      }
    },
    {
      "cell_type": "code",
      "source": [
        "!pip install -qq optuna\n",
        "import optuna\n",
        "from optuna.samplers import TPESampler"
      ],
      "metadata": {
        "id": "5T7l6b36F0eQ"
      },
      "execution_count": 25,
      "outputs": []
    },
    {
      "cell_type": "code",
      "source": [
        "X, y = pd.DataFrame(data=df.iloc[:, 0].values.reshape(-1,1), columns=['lemmas',]), df.spam  # we need df for Pool, not Series\n",
        "X_train, X_test, y_train, y_test = train_test_split(X, y, test_size=0.25, shuffle=True, stratify=y, random_state=1)"
      ],
      "metadata": {
        "id": "KaPt-QlbFqOX"
      },
      "execution_count": 40,
      "outputs": []
    },
    {
      "cell_type": "code",
      "source": [
        "train_pool = Pool(X_train, y_train, text_features=['lemmas'])\n",
        "test_pool = Pool(X_test, y_test, text_features=['lemmas'])"
      ],
      "metadata": {
        "id": "ITx9Tom1GGL4"
      },
      "execution_count": 43,
      "outputs": []
    },
    {
      "cell_type": "code",
      "source": [
        "params_model = {\n",
        "    'eval_metric': 'AUC', \n",
        "    'iterations': 1000,\n",
        "    'silent': True,\n",
        "    'one_hot_max_size': 15,\n",
        "    'early_stopping_rounds': 10,\n",
        "    'allow_writing_files': False,\n",
        "    'use_best_model': True,\n",
        "    'random_seed': 123,\n",
        "    }"
      ],
      "metadata": {
        "id": "IgT9gFTgGGYX"
      },
      "execution_count": 44,
      "outputs": []
    },
    {
      "cell_type": "code",
      "source": [
        "def objective(trial):\n",
        "    param_trials = {\n",
        "                    'depth': trial.suggest_int('depth', 3, 9),\n",
        "                    'learning_rate': trial.suggest_float('learning_rate', 0.01, 0.5),\n",
        "                    'l2_leaf_reg': trial.suggest_float('l2_leaf_reg', 1., 5.),\n",
        "                    'bagging_temperature': trial.suggest_float('bagging_temperature', 1., 3.),\n",
        "                    'subsample': trial.suggest_float('subsample', 0.3, 1.),\n",
        "                    'colsample_bylevel': trial.suggest_float('colsample_bylevel', 0.3, 1.),\n",
        "                    'boosting_type': trial.suggest_categorical('boosting_type', ['Ordered', 'Plain']),\n",
        "                    'auto_class_weights': trial.suggest_categorical('auto_class_weights', ['Balanced', 'SqrtBalanced']),\n",
        "                    'grow_policy': trial.suggest_categorical('grow_policy', ['SymmetricTree', 'Depthwise', 'Lossguide']),\n",
        "                    'min_data_in_leaf': trial.suggest_int('min_data_in_leaf', 5, 255),\n",
        "                    'max_leaves': trial.suggest_int('max_leaves', 5, 64),\n",
        "                    }\n",
        "    param_trials.update(params_model)\n",
        "    if param_trials['grow_policy'] == 'SymmetricTree':\n",
        "        param_trials['min_data_in_leaf'] = None\n",
        "        param_trials['max_leaves'] = None\n",
        "    if param_trials['grow_policy'] == 'Depthwise':\n",
        "        param_trials['max_leaves'] = None\n",
        "    if param_trials['grow_policy'] != 'SymmetricTree':\n",
        "        param_trials['boosting_type'] = 'Plain'\n",
        "    \n",
        "    opt_model = CatBoostClassifier(**param_trials)\n",
        "    opt_model.fit(train_pool, eval_set=test_pool)\n",
        "    \n",
        "    y_pred = opt_model.predict_proba(X_test)[:,1]\n",
        "    score = roc_auc_score(y_test, y_pred)\n",
        "    \n",
        "    return score"
      ],
      "metadata": {
        "id": "w0CuZRN6GGan"
      },
      "execution_count": 45,
      "outputs": []
    },
    {
      "cell_type": "code",
      "source": [
        "optuna.logging.set_verbosity(optuna.logging.FATAL)\n",
        "study = optuna.create_study(sampler=TPESampler(seed=123), direction=\"maximize\")\n",
        "study.optimize(objective, n_trials=400, timeout=6000)\n",
        "\n",
        "print(f'Number of completed trials: {len(study.trials)}')\n",
        "print('Best trial')\n",
        "trial = study.best_trial\n",
        "print(f'Best score: {trial.value}')\n",
        "print('Best params')\n",
        "for key, value in trial.params.items():\n",
        "    print(f'{key}: {value}')"
      ],
      "metadata": {
        "colab": {
          "base_uri": "https://localhost:8080/"
        },
        "id": "_wIpKJWXGGc5",
        "outputId": "3f565937-b1f9-41e5-b7f7-b83629623a5c"
      },
      "execution_count": 46,
      "outputs": [
        {
          "output_type": "stream",
          "name": "stdout",
          "text": [
            "Number of completed trials: 71\n",
            "Best trial\n",
            "Best score: 0.9998846504640806\n",
            "Best params\n",
            "depth: 9\n",
            "learning_rate: 0.2123347510246852\n",
            "l2_leaf_reg: 1.9311672094649244\n",
            "bagging_temperature: 2.3419112550867127\n",
            "subsample: 0.8235043731056739\n",
            "colsample_bylevel: 0.6369699200913957\n",
            "boosting_type: Ordered\n",
            "auto_class_weights: SqrtBalanced\n",
            "grow_policy: SymmetricTree\n",
            "min_data_in_leaf: 116\n",
            "max_leaves: 9\n"
          ]
        }
      ]
    },
    {
      "cell_type": "code",
      "source": [
        "params_model = {\n",
        "                'eval_metric': 'AUC', \n",
        "                'iterations': 1000,\n",
        "                'auto_class_weights': 'SqrtBalanced',\n",
        "                'silent': True,\n",
        "                'one_hot_max_size': 15,\n",
        "                'early_stopping_rounds': 10,\n",
        "                'grow_policy': 'Lossguide',\n",
        "                'allow_writing_files': False,\n",
        "                'use_best_model': True,\n",
        "                'random_seed': 123,\n",
        "                'depth': 9,\n",
        "                'learning_rate': 0.2123347510246852, \n",
        "                'l2_leaf_reg': 1.9311672094649244,\n",
        "                'bagging_temperature': 2.3419112550867127, \n",
        "                'subsample': 0.8235043731056739, \n",
        "                'colsample_bylevel': 0.6369699200913957, \n",
        "                'boosting_type': 'Plain',\n",
        "                'min_data_in_leaf': 116,\n",
        "                'max_leaves': 9,\n",
        "                }"
      ],
      "metadata": {
        "id": "3FuowE9lId49"
      },
      "execution_count": 49,
      "outputs": []
    },
    {
      "cell_type": "code",
      "source": [
        "cat = CatBoostClassifier(**params_model)\n",
        "cat.fit(train_pool, eval_set=test_pool)\n",
        "\n",
        "cat_train_pred = cat.predict(X_train)\n",
        "cat_test_pred = cat.predict(X_test)\n",
        "cat_train_proba = cat.predict_proba(X_train)[:,1]\n",
        "cat_test_proba = cat.predict_proba(X_test)[:,1]\n",
        "\n",
        "report(y_train, cat_train_pred, y_test, cat_test_pred, cat_train_proba, cat_test_proba)"
      ],
      "metadata": {
        "colab": {
          "base_uri": "https://localhost:8080/"
        },
        "id": "u6atYzfWId7O",
        "outputId": "914a8000-639d-46f3-b686-84f41ef25dfa"
      },
      "execution_count": 51,
      "outputs": [
        {
          "output_type": "stream",
          "name": "stdout",
          "text": [
            "Train\n",
            "               precision    recall  f1-score   support\n",
            "\n",
            "           0      0.998     0.998     0.998      3270\n",
            "           1      0.995     0.995     0.995      1026\n",
            "\n",
            "    accuracy                          0.998      4296\n",
            "   macro avg      0.997     0.997     0.997      4296\n",
            "weighted avg      0.998     0.998     0.998      4296\n",
            "\n",
            "Test\n",
            "               precision    recall  f1-score   support\n",
            "\n",
            "           0      0.998     0.994     0.996      1090\n",
            "           1      0.980     0.994     0.987       342\n",
            "\n",
            "    accuracy                          0.994      1432\n",
            "   macro avg      0.989     0.994     0.991      1432\n",
            "weighted avg      0.994     0.994     0.994      1432\n",
            "\n",
            "Train ROC_AUC: 1.000, Test ROC_AUC: 1.000\n",
            "Confusion Matrix \n",
            " col_0     0    1\n",
            "spam            \n",
            "0      1083    7\n",
            "1         2  340\n"
          ]
        }
      ]
    },
    {
      "cell_type": "code",
      "metadata": {
        "id": "DnWGE41ejQVl"
      },
      "source": [
        ""
      ],
      "execution_count": null,
      "outputs": []
    },
    {
      "cell_type": "markdown",
      "source": [
        "### Deep models with BERT"
      ],
      "metadata": {
        "id": "v-kWjq0bIpi6"
      }
    },
    {
      "cell_type": "code",
      "metadata": {
        "id": "v5uJuxxxpNsY"
      },
      "source": [
        "!pip installv -q tensorflow_text"
      ],
      "execution_count": null,
      "outputs": []
    },
    {
      "cell_type": "code",
      "metadata": {
        "id": "zSkCSPfFjR51"
      },
      "source": [
        "import tensorflow_hub as hub\n",
        "import tensorflow_text as text\n",
        "import tensorflow as tf"
      ],
      "execution_count": null,
      "outputs": []
    },
    {
      "cell_type": "code",
      "metadata": {
        "id": "CcysJBAopT4k"
      },
      "source": [
        "# DELETE 'Subject:' in the begining?\n",
        "X, y = df.text, df.spam\n",
        "X_train, X_test, y_train, y_test = train_test_split(X, y, test_size=0.25, shuffle=True, stratify=y, random_state=1)"
      ],
      "execution_count": null,
      "outputs": []
    },
    {
      "cell_type": "code",
      "metadata": {
        "id": "6DRPvqQWppV_"
      },
      "source": [
        "bert_preprocessor = hub.KerasLayer('https://tfhub.dev/tensorflow/bert_en_uncased_preprocess/3')\n",
        "bert_encoder = hub.KerasLayer('https://tfhub.dev/tensorflow/bert_en_uncased_L-12_H-768_A-12/4')"
      ],
      "execution_count": null,
      "outputs": []
    },
    {
      "cell_type": "code",
      "metadata": {
        "id": "kg1L98mTpyKE"
      },
      "source": [
        "text_input = tf.keras.layers.Input(shape = (), dtype = tf.string, name = 'Inputs')\n",
        "preprocessed_text = bert_preprocessor(text_input)\n",
        "embeed = bert_encoder(preprocessed_text)\n",
        "dropout = tf.keras.layers.Dropout(0.1, name = 'Dropout')(embeed['pooled_output'])\n",
        "outputs = tf.keras.layers.Dense(1, activation = 'sigmoid', name = 'Dense')(dropout)\n",
        "# add sigmoid (softmax) to obtain probability as output"
      ],
      "execution_count": null,
      "outputs": []
    },
    {
      "cell_type": "code",
      "metadata": {
        "id": "lZhBmWv7qCRd"
      },
      "source": [
        "model = tf.keras.Model(inputs = [text_input], outputs = [outputs])"
      ],
      "execution_count": null,
      "outputs": []
    },
    {
      "cell_type": "code",
      "metadata": {
        "colab": {
          "base_uri": "https://localhost:8080/"
        },
        "id": "Ac47RI9rqGdg",
        "outputId": "2b2004ff-c38b-4f61-c2b5-c7ad0fe21cfd"
      },
      "source": [
        "model.summary()"
      ],
      "execution_count": null,
      "outputs": [
        {
          "output_type": "stream",
          "name": "stdout",
          "text": [
            "Model: \"model\"\n",
            "__________________________________________________________________________________________________\n",
            "Layer (type)                    Output Shape         Param #     Connected to                     \n",
            "==================================================================================================\n",
            "Inputs (InputLayer)             [(None,)]            0                                            \n",
            "__________________________________________________________________________________________________\n",
            "keras_layer (KerasLayer)        {'input_word_ids': ( 0           Inputs[0][0]                     \n",
            "__________________________________________________________________________________________________\n",
            "keras_layer_1 (KerasLayer)      {'encoder_outputs':  109482241   keras_layer[0][0]                \n",
            "                                                                 keras_layer[0][1]                \n",
            "                                                                 keras_layer[0][2]                \n",
            "__________________________________________________________________________________________________\n",
            "Dropout (Dropout)               (None, 768)          0           keras_layer_1[0][13]             \n",
            "__________________________________________________________________________________________________\n",
            "Dense (Dense)                   (None, 1)            769         Dropout[0][0]                    \n",
            "==================================================================================================\n",
            "Total params: 109,483,010\n",
            "Trainable params: 769\n",
            "Non-trainable params: 109,482,241\n",
            "__________________________________________________________________________________________________\n"
          ]
        }
      ]
    },
    {
      "cell_type": "code",
      "metadata": {
        "id": "FDUtzmw7qNMD"
      },
      "source": [
        "Metrics = [tf.keras.metrics.BinaryAccuracy(name = 'accuracy'),\n",
        "           tf.keras.metrics.Precision(name = 'precision'),\n",
        "           tf.keras.metrics.Recall(name = 'recall'),\n",
        "           tf.keras.metrics.AUC(name = 'AUC')\n",
        "           ]"
      ],
      "execution_count": null,
      "outputs": []
    },
    {
      "cell_type": "code",
      "metadata": {
        "id": "rAkLNpRtqc2C"
      },
      "source": [
        "import keras.backend as K # define the model using keras\n",
        "def weighted_binary_crossentropy(y_true, y_pred):\n",
        "    weights = (tf.math.abs(y_true-1) * 59.) + 1.\n",
        "    bce = K.binary_crossentropy(y_true, y_pred)\n",
        "    weighted_bce = K.mean(bce * weights)\n",
        "    return weighted_bce"
      ],
      "execution_count": null,
      "outputs": []
    },
    {
      "cell_type": "code",
      "metadata": {
        "colab": {
          "base_uri": "https://localhost:8080/"
        },
        "id": "a3f-zmYZr5Tj",
        "outputId": "63d2b542-806a-445f-a1b3-323d76e87aec"
      },
      "source": [
        "df.spam.value_counts(normalize=True)"
      ],
      "execution_count": null,
      "outputs": [
        {
          "output_type": "execute_result",
          "data": {
            "text/plain": [
              "0    0.761173\n",
              "1    0.238827\n",
              "Name: spam, dtype: float64"
            ]
          },
          "metadata": {},
          "execution_count": 212
        }
      ]
    },
    {
      "cell_type": "code",
      "metadata": {
        "id": "su1Mrtxly3b4",
        "colab": {
          "base_uri": "https://localhost:8080/"
        },
        "outputId": "a78b5c35-baf0-47ee-a1bc-21636f8f529c"
      },
      "source": [
        "weight_for_0 = (1 / df.spam.value_counts()[0]) * (df.shape[0] / 2.0)\n",
        "weight_for_1 = (1 / df.spam.value_counts()[1]) * (df.shape[0] / 2.0)\n",
        "class_weight = {0: weight_for_0, 1: weight_for_1}\n",
        "class_weight"
      ],
      "execution_count": null,
      "outputs": [
        {
          "output_type": "execute_result",
          "data": {
            "text/plain": [
              "{0: 0.6568807339449542, 1: 2.0935672514619883}"
            ]
          },
          "metadata": {},
          "execution_count": 17
        }
      ]
    },
    {
      "cell_type": "code",
      "metadata": {
        "id": "lO5ofnZMqlXq"
      },
      "source": [
        "model.compile(optimizer='adam', loss='binary_crossentropy', metrics=Metrics)"
      ],
      "execution_count": null,
      "outputs": []
    },
    {
      "cell_type": "code",
      "metadata": {
        "colab": {
          "base_uri": "https://localhost:8080/"
        },
        "id": "N5j7L5PLqvmL",
        "outputId": "30b0a25e-909c-4bfd-85ea-47d679adaf83"
      },
      "source": [
        "history = model.fit(X_train, y_train, epochs=15, class_weight=class_weight, validation_data=(X_test, y_test)) \n",
        "# add lr scheduler (callbacks) after 10 epoch to reduce lr for more accurate result, add eval_set"
      ],
      "execution_count": null,
      "outputs": [
        {
          "output_type": "stream",
          "name": "stdout",
          "text": [
            "Epoch 1/15\n",
            "135/135 [==============================] - 134s 888ms/step - loss: 0.5703 - accuracy: 0.7123 - precision: 0.4415 - recall: 0.7729 - AUC: 0.8014 - val_loss: 0.4631 - val_accuracy: 0.8240 - val_precision: 0.6066 - val_recall: 0.7485 - val_AUC: 0.8849\n",
            "Epoch 2/15\n",
            "135/135 [==============================] - 129s 960ms/step - loss: 0.4749 - accuracy: 0.7917 - precision: 0.5417 - recall: 0.8285 - AUC: 0.8744 - val_loss: 0.4437 - val_accuracy: 0.8233 - val_precision: 0.5871 - val_recall: 0.8772 - val_AUC: 0.9130\n",
            "Epoch 3/15\n",
            "135/135 [==============================] - 128s 948ms/step - loss: 0.4240 - accuracy: 0.8177 - precision: 0.5817 - recall: 0.8431 - AUC: 0.9033 - val_loss: 0.4323 - val_accuracy: 0.8177 - val_precision: 0.5738 - val_recall: 0.9211 - val_AUC: 0.9287\n",
            "Epoch 4/15\n",
            "135/135 [==============================] - 118s 873ms/step - loss: 0.3912 - accuracy: 0.8408 - precision: 0.6206 - recall: 0.8577 - AUC: 0.9193 - val_loss: 0.4379 - val_accuracy: 0.8115 - val_precision: 0.5625 - val_recall: 0.9474 - val_AUC: 0.9397\n",
            "Epoch 5/15\n",
            "135/135 [==============================] - 117s 869ms/step - loss: 0.3753 - accuracy: 0.8457 - precision: 0.6286 - recall: 0.8645 - AUC: 0.9239 - val_loss: 0.3398 - val_accuracy: 0.8743 - val_precision: 0.6769 - val_recall: 0.9064 - val_AUC: 0.9491\n",
            "Epoch 6/15\n",
            "135/135 [==============================] - 116s 863ms/step - loss: 0.3504 - accuracy: 0.8610 - precision: 0.6576 - recall: 0.8723 - AUC: 0.9364 - val_loss: 0.3558 - val_accuracy: 0.8589 - val_precision: 0.6400 - val_recall: 0.9357 - val_AUC: 0.9538\n",
            "Epoch 7/15\n",
            "135/135 [==============================] - 118s 875ms/step - loss: 0.3369 - accuracy: 0.8687 - precision: 0.6686 - recall: 0.8928 - AUC: 0.9410 - val_loss: 0.2938 - val_accuracy: 0.8973 - val_precision: 0.7327 - val_recall: 0.8977 - val_AUC: 0.9594\n",
            "Epoch 8/15\n",
            "135/135 [==============================] - 118s 874ms/step - loss: 0.3257 - accuracy: 0.8731 - precision: 0.6801 - recall: 0.8850 - AUC: 0.9450 - val_loss: 0.2822 - val_accuracy: 0.9015 - val_precision: 0.7410 - val_recall: 0.9035 - val_AUC: 0.9627\n",
            "Epoch 9/15\n",
            "135/135 [==============================] - 118s 873ms/step - loss: 0.3118 - accuracy: 0.8773 - precision: 0.6863 - recall: 0.8957 - AUC: 0.9498 - val_loss: 0.2582 - val_accuracy: 0.9120 - val_precision: 0.7857 - val_recall: 0.8684 - val_AUC: 0.9655\n",
            "Epoch 10/15\n",
            "135/135 [==============================] - 117s 871ms/step - loss: 0.3030 - accuracy: 0.8855 - precision: 0.7023 - recall: 0.9035 - AUC: 0.9526 - val_loss: 0.2459 - val_accuracy: 0.9148 - val_precision: 0.8005 - val_recall: 0.8567 - val_AUC: 0.9676\n",
            "Epoch 11/15\n",
            "135/135 [==============================] - 118s 874ms/step - loss: 0.2972 - accuracy: 0.8859 - precision: 0.7052 - recall: 0.8977 - AUC: 0.9540 - val_loss: 0.2994 - val_accuracy: 0.8813 - val_precision: 0.6814 - val_recall: 0.9444 - val_AUC: 0.9686\n",
            "Epoch 12/15\n",
            "135/135 [==============================] - 117s 871ms/step - loss: 0.2909 - accuracy: 0.8845 - precision: 0.7023 - recall: 0.8967 - AUC: 0.9553 - val_loss: 0.2564 - val_accuracy: 0.9099 - val_precision: 0.7566 - val_recall: 0.9181 - val_AUC: 0.9706\n",
            "Epoch 13/15\n",
            "135/135 [==============================] - 117s 871ms/step - loss: 0.2793 - accuracy: 0.8957 - precision: 0.7244 - recall: 0.9094 - AUC: 0.9598 - val_loss: 0.2584 - val_accuracy: 0.9078 - val_precision: 0.7465 - val_recall: 0.9298 - val_AUC: 0.9719\n",
            "Epoch 14/15\n",
            "135/135 [==============================] - 116s 864ms/step - loss: 0.2800 - accuracy: 0.8925 - precision: 0.7193 - recall: 0.9016 - AUC: 0.9586 - val_loss: 0.2770 - val_accuracy: 0.8987 - val_precision: 0.7184 - val_recall: 0.9474 - val_AUC: 0.9727\n",
            "Epoch 15/15\n",
            "135/135 [==============================] - 117s 866ms/step - loss: 0.2715 - accuracy: 0.8966 - precision: 0.7249 - recall: 0.9142 - AUC: 0.9612 - val_loss: 0.2155 - val_accuracy: 0.9309 - val_precision: 0.8366 - val_recall: 0.8830 - val_AUC: 0.9743\n"
          ]
        }
      ]
    },
    {
      "cell_type": "code",
      "metadata": {
        "colab": {
          "base_uri": "https://localhost:8080/"
        },
        "id": "ZZ3Cz_cAq5H2",
        "outputId": "8ce623ac-20aa-47b6-b83f-10ca0bf2baef"
      },
      "source": [
        "model.evaluate(X_test, y_test)"
      ],
      "execution_count": null,
      "outputs": [
        {
          "output_type": "stream",
          "name": "stdout",
          "text": [
            "45/45 [==============================] - 29s 643ms/step - loss: 0.2155 - accuracy: 0.9309 - precision: 0.8366 - recall: 0.8830 - AUC: 0.9743\n"
          ]
        },
        {
          "output_type": "execute_result",
          "data": {
            "text/plain": [
              "[0.2155318260192871,\n",
              " 0.9308659434318542,\n",
              " 0.8365650773048401,\n",
              " 0.8830409646034241,\n",
              " 0.9743145704269409]"
            ]
          },
          "metadata": {},
          "execution_count": 20
        }
      ]
    },
    {
      "cell_type": "code",
      "metadata": {
        "id": "UL-2Uu1yxGhg"
      },
      "source": [
        "tf_train_pred = model.predict(X_train)\n",
        "tf_test_pred = model.predict(X_test)"
      ],
      "execution_count": null,
      "outputs": []
    },
    {
      "cell_type": "code",
      "metadata": {
        "id": "4LxUDkQwyI_h"
      },
      "source": [
        "tf_train = np.where(tf_train_pred >= 0.5, 1, 0)\n",
        "tf_test = np.where(tf_test_pred >= 0.5, 1, 0)"
      ],
      "execution_count": null,
      "outputs": []
    },
    {
      "cell_type": "code",
      "metadata": {
        "colab": {
          "base_uri": "https://localhost:8080/"
        },
        "id": "aoDSCzoIxQnb",
        "outputId": "05b3eb06-ee50-4de3-e7b8-88a26c3b0c38"
      },
      "source": [
        "report(y_train, tf_train.flatten(), y_test, tf_test.flatten())"
      ],
      "execution_count": null,
      "outputs": [
        {
          "output_type": "stream",
          "name": "stdout",
          "text": [
            "Train\n",
            "               precision    recall  f1-score   support\n",
            "\n",
            "           0      0.959     0.937     0.948      3270\n",
            "           1      0.812     0.871     0.841      1026\n",
            "\n",
            "    accuracy                          0.921      4296\n",
            "   macro avg      0.885     0.904     0.894      4296\n",
            "weighted avg      0.924     0.921     0.922      4296\n",
            "\n",
            "Test\n",
            "               precision    recall  f1-score   support\n",
            "\n",
            "           0      0.963     0.946     0.954      1090\n",
            "           1      0.837     0.883     0.859       342\n",
            "\n",
            "    accuracy                          0.931      1432\n",
            "   macro avg      0.900     0.914     0.907      1432\n",
            "weighted avg      0.933     0.931     0.931      1432\n",
            "\n",
            "Train ROC_AUC: 0.904, Test ROC_AUC: 0.914\n",
            "Confusion Matrix \n",
            " col_0     0    1\n",
            "spam            \n",
            "0      1031   59\n",
            "1        40  302\n"
          ]
        }
      ]
    },
    {
      "cell_type": "code",
      "metadata": {
        "colab": {
          "base_uri": "https://localhost:8080/"
        },
        "id": "yoNn4kkuxlum",
        "outputId": "1def3428-86ea-4479-b8b2-f330962942fa"
      },
      "source": [
        "# PyTorch with sampler weights and lr scheduler"
      ],
      "execution_count": null,
      "outputs": [
        {
          "output_type": "execute_result",
          "data": {
            "text/plain": [
              "{0: 0.6568807339449542, 1: 2.0935672514619883}"
            ]
          },
          "metadata": {},
          "execution_count": 26
        }
      ]
    },
    {
      "cell_type": "code",
      "metadata": {
        "colab": {
          "base_uri": "https://localhost:8080/"
        },
        "id": "Xc6t21ytK0XH",
        "outputId": "f4345b89-c668-4650-a59f-987541a2d523"
      },
      "source": [
        "!pip install transformers"
      ],
      "execution_count": null,
      "outputs": [
        {
          "output_type": "stream",
          "name": "stdout",
          "text": [
            "Collecting transformers\n",
            "  Downloading transformers-4.12.3-py3-none-any.whl (3.1 MB)\n",
            "\u001b[K     |████████████████████████████████| 3.1 MB 15.1 MB/s \n",
            "\u001b[?25hCollecting pyyaml>=5.1\n",
            "  Downloading PyYAML-6.0-cp37-cp37m-manylinux_2_5_x86_64.manylinux1_x86_64.manylinux_2_12_x86_64.manylinux2010_x86_64.whl (596 kB)\n",
            "\u001b[K     |████████████████████████████████| 596 kB 57.5 MB/s \n",
            "\u001b[?25hRequirement already satisfied: packaging>=20.0 in /usr/local/lib/python3.7/dist-packages (from transformers) (21.0)\n",
            "Collecting tokenizers<0.11,>=0.10.1\n",
            "  Downloading tokenizers-0.10.3-cp37-cp37m-manylinux_2_5_x86_64.manylinux1_x86_64.manylinux_2_12_x86_64.manylinux2010_x86_64.whl (3.3 MB)\n",
            "\u001b[K     |████████████████████████████████| 3.3 MB 36.5 MB/s \n",
            "\u001b[?25hRequirement already satisfied: tqdm>=4.27 in /usr/local/lib/python3.7/dist-packages (from transformers) (4.62.3)\n",
            "Requirement already satisfied: filelock in /usr/local/lib/python3.7/dist-packages (from transformers) (3.3.0)\n",
            "Requirement already satisfied: requests in /usr/local/lib/python3.7/dist-packages (from transformers) (2.23.0)\n",
            "Collecting sacremoses\n",
            "  Downloading sacremoses-0.0.46-py3-none-any.whl (895 kB)\n",
            "\u001b[K     |████████████████████████████████| 895 kB 44.2 MB/s \n",
            "\u001b[?25hRequirement already satisfied: regex!=2019.12.17 in /usr/local/lib/python3.7/dist-packages (from transformers) (2019.12.20)\n",
            "Collecting huggingface-hub<1.0,>=0.1.0\n",
            "  Downloading huggingface_hub-0.1.0-py3-none-any.whl (59 kB)\n",
            "\u001b[K     |████████████████████████████████| 59 kB 5.3 MB/s \n",
            "\u001b[?25hRequirement already satisfied: importlib-metadata in /usr/local/lib/python3.7/dist-packages (from transformers) (4.8.1)\n",
            "Requirement already satisfied: numpy>=1.17 in /usr/local/lib/python3.7/dist-packages (from transformers) (1.19.5)\n",
            "Requirement already satisfied: typing-extensions in /usr/local/lib/python3.7/dist-packages (from huggingface-hub<1.0,>=0.1.0->transformers) (3.7.4.3)\n",
            "Requirement already satisfied: pyparsing>=2.0.2 in /usr/local/lib/python3.7/dist-packages (from packaging>=20.0->transformers) (2.4.7)\n",
            "Requirement already satisfied: zipp>=0.5 in /usr/local/lib/python3.7/dist-packages (from importlib-metadata->transformers) (3.6.0)\n",
            "Requirement already satisfied: urllib3!=1.25.0,!=1.25.1,<1.26,>=1.21.1 in /usr/local/lib/python3.7/dist-packages (from requests->transformers) (1.24.3)\n",
            "Requirement already satisfied: chardet<4,>=3.0.2 in /usr/local/lib/python3.7/dist-packages (from requests->transformers) (3.0.4)\n",
            "Requirement already satisfied: idna<3,>=2.5 in /usr/local/lib/python3.7/dist-packages (from requests->transformers) (2.10)\n",
            "Requirement already satisfied: certifi>=2017.4.17 in /usr/local/lib/python3.7/dist-packages (from requests->transformers) (2021.5.30)\n",
            "Requirement already satisfied: joblib in /usr/local/lib/python3.7/dist-packages (from sacremoses->transformers) (1.0.1)\n",
            "Requirement already satisfied: six in /usr/local/lib/python3.7/dist-packages (from sacremoses->transformers) (1.15.0)\n",
            "Requirement already satisfied: click in /usr/local/lib/python3.7/dist-packages (from sacremoses->transformers) (7.1.2)\n",
            "Installing collected packages: pyyaml, tokenizers, sacremoses, huggingface-hub, transformers\n",
            "  Attempting uninstall: pyyaml\n",
            "    Found existing installation: PyYAML 3.13\n",
            "    Uninstalling PyYAML-3.13:\n",
            "      Successfully uninstalled PyYAML-3.13\n",
            "Successfully installed huggingface-hub-0.1.0 pyyaml-6.0 sacremoses-0.0.46 tokenizers-0.10.3 transformers-4.12.3\n"
          ]
        }
      ]
    },
    {
      "cell_type": "code",
      "metadata": {
        "id": "hbafvNZAzd1I"
      },
      "source": [
        "import torch\n",
        "import torch.nn as nn\n",
        "import transformers\n",
        "from transformers import AutoModel, BertTokenizerFast\n",
        "from torch.utils.data import TensorDataset, DataLoader, RandomSampler, SequentialSampler, WeightedRandomSampler"
      ],
      "execution_count": null,
      "outputs": []
    },
    {
      "cell_type": "code",
      "metadata": {
        "id": "gY0q8EamKdMT"
      },
      "source": [
        "device = 'cuda' if torch.cuda.is_available() else 'cpu'"
      ],
      "execution_count": null,
      "outputs": []
    },
    {
      "cell_type": "code",
      "metadata": {
        "id": "rxs7z9ZvKjKh"
      },
      "source": [
        "X_train, X_test, y_train, y_test = train_test_split(df.lemmas, df.spam, test_size=0.25, shuffle=True, \n",
        "                                                    stratify=df.spam, random_state=1)\n",
        "X_test, X_valid, y_test, y_valid = train_test_split(X_test, y_test, test_size=0.5, shuffle=True,\n",
        "                                                    stratify=y_test, random_state=1)"
      ],
      "execution_count": null,
      "outputs": []
    },
    {
      "cell_type": "code",
      "metadata": {
        "colab": {
          "base_uri": "https://localhost:8080/",
          "height": 248,
          "referenced_widgets": [
            "7d14b8206de64374b9d341142a5fe5e0",
            "24c1bce123874d08aa9bf95fcf985a80",
            "dba19b229d254d3ba4cf4156ae21f5d6",
            "563774a7fe414446bdb751d5eecbae6d",
            "dd1345f383364124834a24e95b8c99b4",
            "38dfeceffc79482b90a830b6053e1f91",
            "ab546d3a4fd44a048c22dbb2d6f7be01",
            "77ed6ac10c5344d8bf49dd58d96d8819",
            "af6f4ff5b9f0425990a8ae9192d3f0d2",
            "a43d653d025749248287db04b038e2d0",
            "33b48e1804864aa888fcc3ab56e878f7",
            "676eda005a1048bf82fdc0f0b5ceff27",
            "77e87a0f186d48fa848c0f42a279b15f",
            "e2da3b56fb5e4a6190c83220d5da12ae",
            "35b1124863a443948c38fc78797f2368",
            "377ef1ccaaa74fe89c9c714a58771840",
            "c9f9cb7a99884a3c82f657f64b8097cb",
            "847ab289f31643b1b43652c581d88279",
            "f98c9c49df3a4e26b13bf2e24567b264",
            "02574156f70f4d1884a1bcb93cf940a7",
            "bcb2bee1d81744bb88b1100205bf6b18",
            "78cb536012d64f929bce6734a14438c2",
            "49af656e0781498f9d840d1b9b787e58",
            "1992a95bc1d74e57b881c064ef9943bd",
            "5226dd0e72a946ae8853f376bd3c07bf",
            "90e010ef08aa453d87b5349c89959f82",
            "03b3b9f1aaba4016906a8e9f059b9221",
            "ce90ed257b88476a847584c7c5805fee",
            "412e77417b4c4074a1cc9551ea4a4b22",
            "a2cfbd92f30d4b3a9f3210f06c265369",
            "df532007ff0b410b825bf35573ca0cb0",
            "3bc022d43b8e499183ad17916f072747",
            "b89dae4da58441409280ae9c2abac775",
            "0be180b71c9d415aaf2b918626ae06e7",
            "ebe6bc03a8414f7c85ebcb5cedb114a8",
            "075aa1d28e1342078e991063b00baca9",
            "43ddc547a0a64dafbccaf711a59ee6a2",
            "31d33ba2215941f0abb6dadaefcefde4",
            "9a8953486f3d4a82b823716468045b25",
            "5d8bf6009d2047d38686969056651b74",
            "82cc4cc7f3c24371b4dcfceafac8a39b",
            "b3f80c8b48304078b2cffebb68b0efc7",
            "9b8688e2f45e46308fdb2f8c747ecc58",
            "3ffe1a948dd047528988ed41fa2ea34b",
            "9a8eaeb7e5354b9097f2b3035f924d49",
            "6357354ad1454ecc9155a17ca72e22f7",
            "8a34647c493247b6ac7fb347ecbb91a0",
            "c3f8d426d1f24208aa3d8accccf48ed6",
            "ca42ac99f45e4388bdf669aeac2eba7a",
            "a9c8b8cfce024c739c26ab80c86f61f8",
            "09d80ee942744afe877da29922ce58cb",
            "7d58a7cea23f4c088fc01aef3bf7ed31",
            "5a1247c4880e4a3b8a38b079e5946a7c",
            "9e7206ef857543fe8668e466625f411d",
            "a3d6b9282a534b22b70f38aa042bec8e"
          ]
        },
        "id": "1im1xgXkLnDt",
        "outputId": "5b377f16-9c12-400c-c09c-58e44e2f7150"
      },
      "source": [
        "# import BERT-base pretrained model\n",
        "bert = AutoModel.from_pretrained('bert-base-uncased')\n",
        "#bert = AutoModel.from_pretrained('bert-base-cased')\n",
        "# Load the BERT tokenizer\n",
        "tokenizer = BertTokenizerFast.from_pretrained('bert-base-uncased')"
      ],
      "execution_count": null,
      "outputs": [
        {
          "output_type": "display_data",
          "data": {
            "application/vnd.jupyter.widget-view+json": {
              "model_id": "7d14b8206de64374b9d341142a5fe5e0",
              "version_minor": 0,
              "version_major": 2
            },
            "text/plain": [
              "Downloading:   0%|          | 0.00/570 [00:00<?, ?B/s]"
            ]
          },
          "metadata": {}
        },
        {
          "output_type": "display_data",
          "data": {
            "application/vnd.jupyter.widget-view+json": {
              "model_id": "676eda005a1048bf82fdc0f0b5ceff27",
              "version_minor": 0,
              "version_major": 2
            },
            "text/plain": [
              "Downloading:   0%|          | 0.00/420M [00:00<?, ?B/s]"
            ]
          },
          "metadata": {}
        },
        {
          "output_type": "stream",
          "name": "stderr",
          "text": [
            "Some weights of the model checkpoint at bert-base-uncased were not used when initializing BertModel: ['cls.predictions.transform.LayerNorm.weight', 'cls.seq_relationship.weight', 'cls.predictions.transform.dense.weight', 'cls.seq_relationship.bias', 'cls.predictions.transform.LayerNorm.bias', 'cls.predictions.bias', 'cls.predictions.transform.dense.bias', 'cls.predictions.decoder.weight']\n",
            "- This IS expected if you are initializing BertModel from the checkpoint of a model trained on another task or with another architecture (e.g. initializing a BertForSequenceClassification model from a BertForPreTraining model).\n",
            "- This IS NOT expected if you are initializing BertModel from the checkpoint of a model that you expect to be exactly identical (initializing a BertForSequenceClassification model from a BertForSequenceClassification model).\n"
          ]
        },
        {
          "output_type": "display_data",
          "data": {
            "application/vnd.jupyter.widget-view+json": {
              "model_id": "49af656e0781498f9d840d1b9b787e58",
              "version_minor": 0,
              "version_major": 2
            },
            "text/plain": [
              "Downloading:   0%|          | 0.00/226k [00:00<?, ?B/s]"
            ]
          },
          "metadata": {}
        },
        {
          "output_type": "display_data",
          "data": {
            "application/vnd.jupyter.widget-view+json": {
              "model_id": "0be180b71c9d415aaf2b918626ae06e7",
              "version_minor": 0,
              "version_major": 2
            },
            "text/plain": [
              "Downloading:   0%|          | 0.00/455k [00:00<?, ?B/s]"
            ]
          },
          "metadata": {}
        },
        {
          "output_type": "display_data",
          "data": {
            "application/vnd.jupyter.widget-view+json": {
              "model_id": "9a8eaeb7e5354b9097f2b3035f924d49",
              "version_minor": 0,
              "version_major": 2
            },
            "text/plain": [
              "Downloading:   0%|          | 0.00/28.0 [00:00<?, ?B/s]"
            ]
          },
          "metadata": {}
        }
      ]
    },
    {
      "cell_type": "code",
      "metadata": {
        "colab": {
          "base_uri": "https://localhost:8080/",
          "height": 391
        },
        "id": "BGgnjaIALv5D",
        "outputId": "036e2c34-0cc9-4c4e-a90e-521aa6ed60ed"
      },
      "source": [
        "seq_len = [len(i.split()) for i in X_train]\n",
        "plt.figure(figsize=(15,6))\n",
        "pd.Series(seq_len).hist(bins=200)"
      ],
      "execution_count": null,
      "outputs": [
        {
          "output_type": "execute_result",
          "data": {
            "text/plain": [
              "<matplotlib.axes._subplots.AxesSubplot at 0x7fbe7feb6910>"
            ]
          },
          "metadata": {},
          "execution_count": 22
        },
        {
          "output_type": "display_data",
          "data": {
            "image/png": "[encoded data removed]",
            "text/plain": [
              "<Figure size 1080x432 with 1 Axes>"
            ]
          },
          "metadata": {
            "needs_background": "light"
          }
        }
      ]
    },
    {
      "cell_type": "code",
      "metadata": {
        "colab": {
          "base_uri": "https://localhost:8080/"
        },
        "id": "ekIiexyFQ1lL",
        "outputId": "f11cab3c-bd7b-4ff2-a7ac-e4f9af30e818"
      },
      "source": [
        "pd.Series(seq_len).describe()"
      ],
      "execution_count": null,
      "outputs": [
        {
          "output_type": "execute_result",
          "data": {
            "text/plain": [
              "count    4296.000000\n",
              "mean      156.653631\n",
              "std       213.775985\n",
              "min         1.000000\n",
              "25%        51.000000\n",
              "50%        97.000000\n",
              "75%       188.000000\n",
              "max      4336.000000\n",
              "dtype: float64"
            ]
          },
          "metadata": {},
          "execution_count": 25
        }
      ]
    },
    {
      "cell_type": "code",
      "metadata": {
        "id": "vt0LmwNvRBtW"
      },
      "source": [
        "# tokenize and encode sequences in the training set\n",
        "tokens_train = tokenizer.batch_encode_plus(\n",
        "    X_train.tolist(),\n",
        "    max_length=200,\n",
        "    pad_to_max_length=True,\n",
        "    truncation=True\n",
        ")\n",
        "\n",
        "# tokenize and encode sequences in the validation set\n",
        "tokens_val = tokenizer.batch_encode_plus(\n",
        "    X_valid.tolist(),\n",
        "    max_length=200,\n",
        "    pad_to_max_length=True,\n",
        "    truncation=True\n",
        ")\n",
        "\n",
        "# tokenize and encode sequences in the test set\n",
        "tokens_test = tokenizer.batch_encode_plus(\n",
        "    X_test.tolist(),\n",
        "    max_length=200,\n",
        "    pad_to_max_length=True,\n",
        "    truncation=True\n",
        ")"
      ],
      "execution_count": null,
      "outputs": []
    },
    {
      "cell_type": "code",
      "metadata": {
        "id": "HOjVMCiCSHqG"
      },
      "source": [
        "train_seq = torch.tensor(tokens_train['input_ids'])\n",
        "train_mask = torch.tensor(tokens_train['attention_mask'])\n",
        "y_train = torch.tensor(y_train.tolist())\n",
        "\n",
        "val_seq = torch.tensor(tokens_val['input_ids'])\n",
        "val_mask = torch.tensor(tokens_val['attention_mask'])\n",
        "y_valid = torch.tensor(y_valid.tolist())\n",
        "\n",
        "test_seq = torch.tensor(tokens_test['input_ids'])\n",
        "test_mask = torch.tensor(tokens_test['attention_mask'])\n",
        "y_test = torch.tensor(y_test.tolist())"
      ],
      "execution_count": null,
      "outputs": []
    },
    {
      "cell_type": "code",
      "metadata": {
        "id": "n1SYGkASTiwU"
      },
      "source": [
        "target = y_train.detach().cpu().numpy()\n",
        "class_sample_count = np.array([len(np.where(target == t)[0]) for t in np.unique(target)])\n",
        "weight = 1. / class_sample_count\n",
        "samples_weight = np.array([weight[t] for t in target])\n",
        "samples_weight = torch.from_numpy(samples_weight)\n",
        "samples_weigth = samples_weight.double()\n",
        "sampler = WeightedRandomSampler(samples_weight, len(samples_weight))\n",
        "# target = torch.from_numpy(target).long()"
      ],
      "execution_count": null,
      "outputs": []
    },
    {
      "cell_type": "code",
      "metadata": {
        "id": "ufazV-jYSiri"
      },
      "source": [
        "batch_size = 32\n",
        "\n",
        "train_dataset = TensorDataset(train_seq, train_mask, y_train)\n",
        "train_dataloader = DataLoader(train_dataset, sampler=sampler, batch_size=batch_size)\n",
        "\n",
        "valid_dataset = TensorDataset(val_seq, val_mask, y_valid)\n",
        "val_sampler = SequentialSampler(valid_dataset)\n",
        "valid_dataloader = DataLoader(valid_dataset, sampler=val_sampler, batch_size=batch_size)\n",
        "\n",
        "test_dataset = TensorDataset(test_seq, test_mask, y_test)\n",
        "test_dataloader = DataLoader(test_dataset, batch_size=batch_size)"
      ],
      "execution_count": null,
      "outputs": []
    },
    {
      "cell_type": "code",
      "metadata": {
        "id": "YxuKE21vTThy"
      },
      "source": [
        "# freeze all the parameters\n",
        "for param in bert.parameters():\n",
        "    param.requires_grad = False"
      ],
      "execution_count": null,
      "outputs": []
    },
    {
      "cell_type": "code",
      "metadata": {
        "id": "BXv8irM_VEoi"
      },
      "source": [
        "class BERT_Arch(nn.Module):\n",
        "    def __init__(self, bert):\n",
        "        super(BERT_Arch, self).__init__()\n",
        "        self.bert = bert \n",
        "        self.dropout = nn.Dropout(0.1)\n",
        "        self.relu = nn.ReLU()\n",
        "        self.fc1 = nn.Linear(768,512)\n",
        "        self.fc2 = nn.Linear(512,2)\n",
        "        self.softmax = nn.LogSoftmax(dim=1)\n",
        "\n",
        "    def forward(self, sent_id, mask):\n",
        "        _, hidden_state = self.bert(sent_id, attention_mask=mask, return_dict=False)\n",
        "        x = self.fc1(hidden_state)\n",
        "        x = self.relu(x)\n",
        "        x = self.dropout(x)\n",
        "        x = self.fc2(x)\n",
        "        x = self.softmax(x)\n",
        "        return x"
      ],
      "execution_count": null,
      "outputs": []
    },
    {
      "cell_type": "code",
      "metadata": {
        "id": "bra_VkqFVlky"
      },
      "source": [
        "model = BERT_Arch(bert).to(device)"
      ],
      "execution_count": null,
      "outputs": []
    },
    {
      "cell_type": "code",
      "metadata": {
        "id": "feLgJqmDZGfV"
      },
      "source": [
        "from torchsummary import summary"
      ],
      "execution_count": null,
      "outputs": []
    },
    {
      "cell_type": "code",
      "metadata": {
        "id": "YfR-3HJmVvxi"
      },
      "source": [
        "optimizer = torch.optim.AdamW(model.parameters(), lr=1e-3, weight_decay=1e-6)\n",
        "scheduler = torch.optim.lr_scheduler.StepLR(optimizer, step_size=5, gamma=0.1)"
      ],
      "execution_count": null,
      "outputs": []
    },
    {
      "cell_type": "code",
      "metadata": {
        "colab": {
          "base_uri": "https://localhost:8080/"
        },
        "id": "SHEMyTpoWm-9",
        "outputId": "cc61cba8-6153-462a-c485-1b53bd0e9538"
      },
      "source": [
        "from sklearn.utils.class_weight import compute_class_weight\n",
        "class_weights = compute_class_weight('balanced', np.unique(target), target)\n",
        "print(\"Class Weights:\", class_weights)"
      ],
      "execution_count": null,
      "outputs": [
        {
          "output_type": "stream",
          "name": "stdout",
          "text": [
            "Class Weights: [0.65688073 2.09356725]\n"
          ]
        }
      ]
    },
    {
      "cell_type": "code",
      "metadata": {
        "id": "_C2dT3hsXqEm"
      },
      "source": [
        "weights = torch.tensor(class_weights, dtype=torch.float)\n",
        "weights = weights.to(device)\n",
        "loss_fn = nn.NLLLoss(weight=weights) \n",
        "epochs = 15"
      ],
      "execution_count": null,
      "outputs": []
    },
    {
      "cell_type": "code",
      "metadata": {
        "id": "p6BESFNNX4fJ"
      },
      "source": [
        "def train():\n",
        "    model.train()\n",
        "    total_loss, total_accuracy = 0, 0\n",
        "    total_preds=[]\n",
        "  \n",
        "    for step, batch in enumerate(train_dataloader):\n",
        "        if step % 50 == 0 and not step == 0:\n",
        "            print('  Batch {:>5,}  of  {:>5,}.'.format(step, len(train_dataloader)))\n",
        "        batch = [r.to(device) for r in batch]  # collate_fn task\n",
        "        sent_id, mask, labels = batch\n",
        "\n",
        "        model.zero_grad()        \n",
        "        preds = model(sent_id, mask)\n",
        "        loss = loss_fn(preds, labels)\n",
        "\n",
        "        total_loss = total_loss + loss.item()\n",
        "        loss.backward()\n",
        "\n",
        "        # clip the the gradients to 1.0. It helps in preventing the exploding gradient problem\n",
        "        torch.nn.utils.clip_grad_norm_(model.parameters(), 1.0)\n",
        "        optimizer.step()\n",
        "        preds = preds.detach().cpu().numpy()\n",
        "        total_preds.append(preds)\n",
        "    scheduler.step()\n",
        "    avg_loss = total_loss / len(train_dataloader)\n",
        "  \n",
        "    # predictions are in the form of (no. of batches, size of batch, no. of classes).\n",
        "    # reshape the predictions in form of (number of samples, no. of classes)\n",
        "    total_preds  = np.concatenate(total_preds, axis=0)\n",
        "    return avg_loss, total_preds"
      ],
      "execution_count": null,
      "outputs": []
    },
    {
      "cell_type": "code",
      "metadata": {
        "id": "BJm_2QaKY3rT"
      },
      "source": [
        "import time\n",
        "\n",
        "def evaluate():\n",
        "    print(\"\\nEvaluating...\")\n",
        "    model.eval()\n",
        "    total_loss, total_accuracy = 0, 0\n",
        "    total_preds = []\n",
        "    for step,batch in enumerate(valid_dataloader):\n",
        "        if step % 50 == 0 and not step == 0:\n",
        "            elapsed = format_time(time.time() - t0)\n",
        "            print('  Batch {:>5,}  of  {:>5,}.'.format(step, len(valid_dataloader)))\n",
        "        batch = [t.to(device) for t in batch]\n",
        "        sent_id, mask, labels = batch\n",
        "        with torch.no_grad():\n",
        "            preds = model(sent_id, mask)\n",
        "        loss = loss_fn(preds,labels)\n",
        "        total_loss = total_loss + loss.item()\n",
        "        preds = preds.detach().cpu().numpy()\n",
        "        total_preds.append(preds)\n",
        "\n",
        "    avg_loss = total_loss / len(valid_dataloader) \n",
        "    total_preds  = np.concatenate(total_preds, axis=0)\n",
        "\n",
        "    return avg_loss, total_preds"
      ],
      "execution_count": null,
      "outputs": []
    },
    {
      "cell_type": "code",
      "metadata": {
        "colab": {
          "base_uri": "https://localhost:8080/"
        },
        "id": "lTUepZF5bRik",
        "outputId": "91d991a8-1dc5-47d2-f026-87cb2332db40"
      },
      "source": [
        "best_valid_loss = float('inf')\n",
        "train_losses, valid_losses = [], []\n",
        "root_model = ''\n",
        "for epoch in range(epochs):\n",
        "    print('\\n Epoch {:} / {:}'.format(epoch + 1, epochs))\n",
        "    train_loss, _ = train()\n",
        "    valid_loss, _ = evaluate()\n",
        "    if valid_loss < best_valid_loss:\n",
        "        best_valid_loss = valid_loss\n",
        "        torch.save(model.state_dict(), '/content/drive/My Drive/data/email_spam/saved_weights.pt')\n",
        "    train_losses.append(train_loss)\n",
        "    valid_losses.append(valid_loss)\n",
        "    \n",
        "    print(f'\\nTraining Loss: {train_loss:.3f}')\n",
        "    print(f'Validation Loss: {valid_loss:.3f}')"
      ],
      "execution_count": null,
      "outputs": [
        {
          "output_type": "stream",
          "name": "stdout",
          "text": [
            "\n",
            " Epoch 1 / 15\n",
            "  Batch    50  of    135.\n",
            "  Batch   100  of    135.\n",
            "\n",
            "Evaluating...\n",
            "\n",
            "Training Loss: 0.356\n",
            "Validation Loss: 0.327\n",
            "\n",
            " Epoch 2 / 15\n",
            "  Batch    50  of    135.\n",
            "  Batch   100  of    135.\n",
            "\n",
            "Evaluating...\n",
            "\n",
            "Training Loss: 0.251\n",
            "Validation Loss: 0.249\n",
            "\n",
            " Epoch 3 / 15\n",
            "  Batch    50  of    135.\n",
            "  Batch   100  of    135.\n",
            "\n",
            "Evaluating...\n",
            "\n",
            "Training Loss: 0.206\n",
            "Validation Loss: 0.156\n",
            "\n",
            " Epoch 4 / 15\n",
            "  Batch    50  of    135.\n",
            "  Batch   100  of    135.\n",
            "\n",
            "Evaluating...\n",
            "\n",
            "Training Loss: 0.223\n",
            "Validation Loss: 0.150\n",
            "\n",
            " Epoch 5 / 15\n",
            "  Batch    50  of    135.\n",
            "  Batch   100  of    135.\n",
            "\n",
            "Evaluating...\n",
            "\n",
            "Training Loss: 0.212\n",
            "Validation Loss: 0.240\n",
            "\n",
            " Epoch 6 / 15\n",
            "  Batch    50  of    135.\n",
            "  Batch   100  of    135.\n",
            "\n",
            "Evaluating...\n",
            "\n",
            "Training Loss: 0.160\n",
            "Validation Loss: 0.189\n",
            "\n",
            " Epoch 7 / 15\n",
            "  Batch    50  of    135.\n",
            "  Batch   100  of    135.\n",
            "\n",
            "Evaluating...\n",
            "\n",
            "Training Loss: 0.173\n",
            "Validation Loss: 0.171\n",
            "\n",
            " Epoch 8 / 15\n",
            "  Batch    50  of    135.\n",
            "  Batch   100  of    135.\n",
            "\n",
            "Evaluating...\n",
            "\n",
            "Training Loss: 0.151\n",
            "Validation Loss: 0.141\n",
            "\n",
            " Epoch 9 / 15\n",
            "  Batch    50  of    135.\n",
            "  Batch   100  of    135.\n",
            "\n",
            "Evaluating...\n",
            "\n",
            "Training Loss: 0.166\n",
            "Validation Loss: 0.148\n",
            "\n",
            " Epoch 10 / 15\n",
            "  Batch    50  of    135.\n",
            "  Batch   100  of    135.\n",
            "\n",
            "Evaluating...\n",
            "\n",
            "Training Loss: 0.151\n",
            "Validation Loss: 0.132\n",
            "\n",
            " Epoch 11 / 15\n",
            "  Batch    50  of    135.\n",
            "  Batch   100  of    135.\n",
            "\n",
            "Evaluating...\n",
            "\n",
            "Training Loss: 0.164\n",
            "Validation Loss: 0.138\n",
            "\n",
            " Epoch 12 / 15\n",
            "  Batch    50  of    135.\n",
            "  Batch   100  of    135.\n",
            "\n",
            "Evaluating...\n",
            "\n",
            "Training Loss: 0.152\n",
            "Validation Loss: 0.141\n",
            "\n",
            " Epoch 13 / 15\n",
            "  Batch    50  of    135.\n",
            "  Batch   100  of    135.\n",
            "\n",
            "Evaluating...\n",
            "\n",
            "Training Loss: 0.137\n",
            "Validation Loss: 0.135\n",
            "\n",
            " Epoch 14 / 15\n",
            "  Batch    50  of    135.\n",
            "  Batch   100  of    135.\n",
            "\n",
            "Evaluating...\n",
            "\n",
            "Training Loss: 0.159\n",
            "Validation Loss: 0.145\n",
            "\n",
            " Epoch 15 / 15\n",
            "  Batch    50  of    135.\n",
            "  Batch   100  of    135.\n",
            "\n",
            "Evaluating...\n",
            "\n",
            "Training Loss: 0.142\n",
            "Validation Loss: 0.143\n"
          ]
        }
      ]
    },
    {
      "cell_type": "code",
      "metadata": {
        "id": "dFpbZ40VuAcv"
      },
      "source": [
        "path = '/content/drive/My Drive/data/email_spam/saved_weights.pt'\n",
        "model.load_state_dict(torch.load(path, map_location=torch.device('cpu')))  # as GPU is out of memory\n",
        "with torch.no_grad():\n",
        "    train_preds = model(train_seq.to(device), train_mask.to(device))\n",
        "    train_preds = train_preds.detach().cpu().numpy()\n",
        "\n",
        "    test_preds = model(test_seq.to(device), test_mask.to(device))\n",
        "    test_preds = test_preds.detach().cpu().numpy()\n",
        "train_preds = np.argmax(train_preds, axis = 1)\n",
        "test_preds = np.argmax(test_preds, axis = 1)"
      ],
      "execution_count": null,
      "outputs": []
    },
    {
      "cell_type": "code",
      "metadata": {
        "id": "bQ1gKDOpupf_"
      },
      "source": [
        "report(y_train, train_preds, y_test, test_preds)"
      ],
      "execution_count": null,
      "outputs": []
    }
  ]
}