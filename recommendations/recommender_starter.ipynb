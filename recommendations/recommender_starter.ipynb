{
  "nbformat": 4,
  "nbformat_minor": 0,
  "metadata": {
    "colab": {
      "name": "exp_rec.ipynb",
      "provenance": [],
      "collapsed_sections": []
    },
    "kernelspec": {
      "name": "python3",
      "display_name": "Python 3"
    },
    "language_info": {
      "name": "python"
    },
    "widgets": {
      "application/vnd.jupyter.widget-state+json": {
        "a12085660f894fbea5e34e519d6acb1a": {
          "model_module": "@jupyter-widgets/controls",
          "model_name": "HBoxModel",
          "model_module_version": "1.5.0",
          "state": {
            "_dom_classes": [],
            "_model_module": "@jupyter-widgets/controls",
            "_model_module_version": "1.5.0",
            "_model_name": "HBoxModel",
            "_view_count": null,
            "_view_module": "@jupyter-widgets/controls",
            "_view_module_version": "1.5.0",
            "_view_name": "HBoxView",
            "box_style": "",
            "children": [
              "IPY_MODEL_952dd27d12af403b846b653cf706060c",
              "IPY_MODEL_85db3d804fb74f4fa6f9ad3793039757",
              "IPY_MODEL_e34d82d909214bf99d80004cabc635f5"
            ],
            "layout": "IPY_MODEL_2a976fd48f314f928007d66675ea9656"
          }
        },
        "952dd27d12af403b846b653cf706060c": {
          "model_module": "@jupyter-widgets/controls",
          "model_name": "HTMLModel",
          "model_module_version": "1.5.0",
          "state": {
            "_dom_classes": [],
            "_model_module": "@jupyter-widgets/controls",
            "_model_module_version": "1.5.0",
            "_model_name": "HTMLModel",
            "_view_count": null,
            "_view_module": "@jupyter-widgets/controls",
            "_view_module_version": "1.5.0",
            "_view_name": "HTMLView",
            "description": "",
            "description_tooltip": null,
            "layout": "IPY_MODEL_96268afb1c11451287977e0b1a9904cc",
            "placeholder": "​",
            "style": "IPY_MODEL_39dc210796044a99bcecaa6c76e7d7eb",
            "value": "100%"
          }
        },
        "85db3d804fb74f4fa6f9ad3793039757": {
          "model_module": "@jupyter-widgets/controls",
          "model_name": "FloatProgressModel",
          "model_module_version": "1.5.0",
          "state": {
            "_dom_classes": [],
            "_model_module": "@jupyter-widgets/controls",
            "_model_module_version": "1.5.0",
            "_model_name": "FloatProgressModel",
            "_view_count": null,
            "_view_module": "@jupyter-widgets/controls",
            "_view_module_version": "1.5.0",
            "_view_name": "ProgressView",
            "bar_style": "success",
            "description": "",
            "description_tooltip": null,
            "layout": "IPY_MODEL_d8b9c52a6718478090037fa20bf92e92",
            "max": 20,
            "min": 0,
            "orientation": "horizontal",
            "style": "IPY_MODEL_c17c8c1bb97541d3b9fd3b57be757ac0",
            "value": 20
          }
        },
        "e34d82d909214bf99d80004cabc635f5": {
          "model_module": "@jupyter-widgets/controls",
          "model_name": "HTMLModel",
          "model_module_version": "1.5.0",
          "state": {
            "_dom_classes": [],
            "_model_module": "@jupyter-widgets/controls",
            "_model_module_version": "1.5.0",
            "_model_name": "HTMLModel",
            "_view_count": null,
            "_view_module": "@jupyter-widgets/controls",
            "_view_module_version": "1.5.0",
            "_view_name": "HTMLView",
            "description": "",
            "description_tooltip": null,
            "layout": "IPY_MODEL_f0a9cd9f29004712b6d626801aed9a99",
            "placeholder": "​",
            "style": "IPY_MODEL_0422d59e47d540b5a54bdc6542f23846",
            "value": " 20/20 [05:54&lt;00:00, 19.93s/it]"
          }
        },
        "2a976fd48f314f928007d66675ea9656": {
          "model_module": "@jupyter-widgets/base",
          "model_name": "LayoutModel",
          "model_module_version": "1.2.0",
          "state": {
            "_model_module": "@jupyter-widgets/base",
            "_model_module_version": "1.2.0",
            "_model_name": "LayoutModel",
            "_view_count": null,
            "_view_module": "@jupyter-widgets/base",
            "_view_module_version": "1.2.0",
            "_view_name": "LayoutView",
            "align_content": null,
            "align_items": null,
            "align_self": null,
            "border": null,
            "bottom": null,
            "display": null,
            "flex": null,
            "flex_flow": null,
            "grid_area": null,
            "grid_auto_columns": null,
            "grid_auto_flow": null,
            "grid_auto_rows": null,
            "grid_column": null,
            "grid_gap": null,
            "grid_row": null,
            "grid_template_areas": null,
            "grid_template_columns": null,
            "grid_template_rows": null,
            "height": null,
            "justify_content": null,
            "justify_items": null,
            "left": null,
            "margin": null,
            "max_height": null,
            "max_width": null,
            "min_height": null,
            "min_width": null,
            "object_fit": null,
            "object_position": null,
            "order": null,
            "overflow": null,
            "overflow_x": null,
            "overflow_y": null,
            "padding": null,
            "right": null,
            "top": null,
            "visibility": null,
            "width": null
          }
        },
        "96268afb1c11451287977e0b1a9904cc": {
          "model_module": "@jupyter-widgets/base",
          "model_name": "LayoutModel",
          "model_module_version": "1.2.0",
          "state": {
            "_model_module": "@jupyter-widgets/base",
            "_model_module_version": "1.2.0",
            "_model_name": "LayoutModel",
            "_view_count": null,
            "_view_module": "@jupyter-widgets/base",
            "_view_module_version": "1.2.0",
            "_view_name": "LayoutView",
            "align_content": null,
            "align_items": null,
            "align_self": null,
            "border": null,
            "bottom": null,
            "display": null,
            "flex": null,
            "flex_flow": null,
            "grid_area": null,
            "grid_auto_columns": null,
            "grid_auto_flow": null,
            "grid_auto_rows": null,
            "grid_column": null,
            "grid_gap": null,
            "grid_row": null,
            "grid_template_areas": null,
            "grid_template_columns": null,
            "grid_template_rows": null,
            "height": null,
            "justify_content": null,
            "justify_items": null,
            "left": null,
            "margin": null,
            "max_height": null,
            "max_width": null,
            "min_height": null,
            "min_width": null,
            "object_fit": null,
            "object_position": null,
            "order": null,
            "overflow": null,
            "overflow_x": null,
            "overflow_y": null,
            "padding": null,
            "right": null,
            "top": null,
            "visibility": null,
            "width": null
          }
        },
        "39dc210796044a99bcecaa6c76e7d7eb": {
          "model_module": "@jupyter-widgets/controls",
          "model_name": "DescriptionStyleModel",
          "model_module_version": "1.5.0",
          "state": {
            "_model_module": "@jupyter-widgets/controls",
            "_model_module_version": "1.5.0",
            "_model_name": "DescriptionStyleModel",
            "_view_count": null,
            "_view_module": "@jupyter-widgets/base",
            "_view_module_version": "1.2.0",
            "_view_name": "StyleView",
            "description_width": ""
          }
        },
        "d8b9c52a6718478090037fa20bf92e92": {
          "model_module": "@jupyter-widgets/base",
          "model_name": "LayoutModel",
          "model_module_version": "1.2.0",
          "state": {
            "_model_module": "@jupyter-widgets/base",
            "_model_module_version": "1.2.0",
            "_model_name": "LayoutModel",
            "_view_count": null,
            "_view_module": "@jupyter-widgets/base",
            "_view_module_version": "1.2.0",
            "_view_name": "LayoutView",
            "align_content": null,
            "align_items": null,
            "align_self": null,
            "border": null,
            "bottom": null,
            "display": null,
            "flex": null,
            "flex_flow": null,
            "grid_area": null,
            "grid_auto_columns": null,
            "grid_auto_flow": null,
            "grid_auto_rows": null,
            "grid_column": null,
            "grid_gap": null,
            "grid_row": null,
            "grid_template_areas": null,
            "grid_template_columns": null,
            "grid_template_rows": null,
            "height": null,
            "justify_content": null,
            "justify_items": null,
            "left": null,
            "margin": null,
            "max_height": null,
            "max_width": null,
            "min_height": null,
            "min_width": null,
            "object_fit": null,
            "object_position": null,
            "order": null,
            "overflow": null,
            "overflow_x": null,
            "overflow_y": null,
            "padding": null,
            "right": null,
            "top": null,
            "visibility": null,
            "width": null
          }
        },
        "c17c8c1bb97541d3b9fd3b57be757ac0": {
          "model_module": "@jupyter-widgets/controls",
          "model_name": "ProgressStyleModel",
          "model_module_version": "1.5.0",
          "state": {
            "_model_module": "@jupyter-widgets/controls",
            "_model_module_version": "1.5.0",
            "_model_name": "ProgressStyleModel",
            "_view_count": null,
            "_view_module": "@jupyter-widgets/base",
            "_view_module_version": "1.2.0",
            "_view_name": "StyleView",
            "bar_color": null,
            "description_width": ""
          }
        },
        "f0a9cd9f29004712b6d626801aed9a99": {
          "model_module": "@jupyter-widgets/base",
          "model_name": "LayoutModel",
          "model_module_version": "1.2.0",
          "state": {
            "_model_module": "@jupyter-widgets/base",
            "_model_module_version": "1.2.0",
            "_model_name": "LayoutModel",
            "_view_count": null,
            "_view_module": "@jupyter-widgets/base",
            "_view_module_version": "1.2.0",
            "_view_name": "LayoutView",
            "align_content": null,
            "align_items": null,
            "align_self": null,
            "border": null,
            "bottom": null,
            "display": null,
            "flex": null,
            "flex_flow": null,
            "grid_area": null,
            "grid_auto_columns": null,
            "grid_auto_flow": null,
            "grid_auto_rows": null,
            "grid_column": null,
            "grid_gap": null,
            "grid_row": null,
            "grid_template_areas": null,
            "grid_template_columns": null,
            "grid_template_rows": null,
            "height": null,
            "justify_content": null,
            "justify_items": null,
            "left": null,
            "margin": null,
            "max_height": null,
            "max_width": null,
            "min_height": null,
            "min_width": null,
            "object_fit": null,
            "object_position": null,
            "order": null,
            "overflow": null,
            "overflow_x": null,
            "overflow_y": null,
            "padding": null,
            "right": null,
            "top": null,
            "visibility": null,
            "width": null
          }
        },
        "0422d59e47d540b5a54bdc6542f23846": {
          "model_module": "@jupyter-widgets/controls",
          "model_name": "DescriptionStyleModel",
          "model_module_version": "1.5.0",
          "state": {
            "_model_module": "@jupyter-widgets/controls",
            "_model_module_version": "1.5.0",
            "_model_name": "DescriptionStyleModel",
            "_view_count": null,
            "_view_module": "@jupyter-widgets/base",
            "_view_module_version": "1.2.0",
            "_view_name": "StyleView",
            "description_width": ""
          }
        },
        "40dd8ce7412b49ee87d927a8a800dcc9": {
          "model_module": "@jupyter-widgets/controls",
          "model_name": "HBoxModel",
          "model_module_version": "1.5.0",
          "state": {
            "_dom_classes": [],
            "_model_module": "@jupyter-widgets/controls",
            "_model_module_version": "1.5.0",
            "_model_name": "HBoxModel",
            "_view_count": null,
            "_view_module": "@jupyter-widgets/controls",
            "_view_module_version": "1.5.0",
            "_view_name": "HBoxView",
            "box_style": "",
            "children": [
              "IPY_MODEL_bb245520b4a24256b87797f9c4d829f6",
              "IPY_MODEL_597a9ffb302a41c8bb49e7659ccb9641",
              "IPY_MODEL_1ef5e563964a4dd8bfe0a3fc0853baf7"
            ],
            "layout": "IPY_MODEL_c3f0c115eb6d44069663056af7b3c19f"
          }
        },
        "bb245520b4a24256b87797f9c4d829f6": {
          "model_module": "@jupyter-widgets/controls",
          "model_name": "HTMLModel",
          "model_module_version": "1.5.0",
          "state": {
            "_dom_classes": [],
            "_model_module": "@jupyter-widgets/controls",
            "_model_module_version": "1.5.0",
            "_model_name": "HTMLModel",
            "_view_count": null,
            "_view_module": "@jupyter-widgets/controls",
            "_view_module_version": "1.5.0",
            "_view_name": "HTMLView",
            "description": "",
            "description_tooltip": null,
            "layout": "IPY_MODEL_2f320ed88d6942aead8265b0a045487c",
            "placeholder": "​",
            "style": "IPY_MODEL_d75e58af2f694e75b7deee676d21fb97",
            "value": "100%"
          }
        },
        "597a9ffb302a41c8bb49e7659ccb9641": {
          "model_module": "@jupyter-widgets/controls",
          "model_name": "FloatProgressModel",
          "model_module_version": "1.5.0",
          "state": {
            "_dom_classes": [],
            "_model_module": "@jupyter-widgets/controls",
            "_model_module_version": "1.5.0",
            "_model_name": "FloatProgressModel",
            "_view_count": null,
            "_view_module": "@jupyter-widgets/controls",
            "_view_module_version": "1.5.0",
            "_view_name": "ProgressView",
            "bar_style": "success",
            "description": "",
            "description_tooltip": null,
            "layout": "IPY_MODEL_34c855f2c62246c895e40340a07387c0",
            "max": 5001,
            "min": 0,
            "orientation": "horizontal",
            "style": "IPY_MODEL_0c32a1cee4f3454688dcb04696431368",
            "value": 5001
          }
        },
        "1ef5e563964a4dd8bfe0a3fc0853baf7": {
          "model_module": "@jupyter-widgets/controls",
          "model_name": "HTMLModel",
          "model_module_version": "1.5.0",
          "state": {
            "_dom_classes": [],
            "_model_module": "@jupyter-widgets/controls",
            "_model_module_version": "1.5.0",
            "_model_name": "HTMLModel",
            "_view_count": null,
            "_view_module": "@jupyter-widgets/controls",
            "_view_module_version": "1.5.0",
            "_view_name": "HTMLView",
            "description": "",
            "description_tooltip": null,
            "layout": "IPY_MODEL_cbd93dc3ed9840f9a4c402b90c8b692d",
            "placeholder": "​",
            "style": "IPY_MODEL_8bd9b4c7d1564df8adcff9b584147977",
            "value": " 5001/5001 [00:00&lt;00:00, 8764.89it/s]"
          }
        },
        "c3f0c115eb6d44069663056af7b3c19f": {
          "model_module": "@jupyter-widgets/base",
          "model_name": "LayoutModel",
          "model_module_version": "1.2.0",
          "state": {
            "_model_module": "@jupyter-widgets/base",
            "_model_module_version": "1.2.0",
            "_model_name": "LayoutModel",
            "_view_count": null,
            "_view_module": "@jupyter-widgets/base",
            "_view_module_version": "1.2.0",
            "_view_name": "LayoutView",
            "align_content": null,
            "align_items": null,
            "align_self": null,
            "border": null,
            "bottom": null,
            "display": null,
            "flex": null,
            "flex_flow": null,
            "grid_area": null,
            "grid_auto_columns": null,
            "grid_auto_flow": null,
            "grid_auto_rows": null,
            "grid_column": null,
            "grid_gap": null,
            "grid_row": null,
            "grid_template_areas": null,
            "grid_template_columns": null,
            "grid_template_rows": null,
            "height": null,
            "justify_content": null,
            "justify_items": null,
            "left": null,
            "margin": null,
            "max_height": null,
            "max_width": null,
            "min_height": null,
            "min_width": null,
            "object_fit": null,
            "object_position": null,
            "order": null,
            "overflow": null,
            "overflow_x": null,
            "overflow_y": null,
            "padding": null,
            "right": null,
            "top": null,
            "visibility": null,
            "width": null
          }
        },
        "2f320ed88d6942aead8265b0a045487c": {
          "model_module": "@jupyter-widgets/base",
          "model_name": "LayoutModel",
          "model_module_version": "1.2.0",
          "state": {
            "_model_module": "@jupyter-widgets/base",
            "_model_module_version": "1.2.0",
            "_model_name": "LayoutModel",
            "_view_count": null,
            "_view_module": "@jupyter-widgets/base",
            "_view_module_version": "1.2.0",
            "_view_name": "LayoutView",
            "align_content": null,
            "align_items": null,
            "align_self": null,
            "border": null,
            "bottom": null,
            "display": null,
            "flex": null,
            "flex_flow": null,
            "grid_area": null,
            "grid_auto_columns": null,
            "grid_auto_flow": null,
            "grid_auto_rows": null,
            "grid_column": null,
            "grid_gap": null,
            "grid_row": null,
            "grid_template_areas": null,
            "grid_template_columns": null,
            "grid_template_rows": null,
            "height": null,
            "justify_content": null,
            "justify_items": null,
            "left": null,
            "margin": null,
            "max_height": null,
            "max_width": null,
            "min_height": null,
            "min_width": null,
            "object_fit": null,
            "object_position": null,
            "order": null,
            "overflow": null,
            "overflow_x": null,
            "overflow_y": null,
            "padding": null,
            "right": null,
            "top": null,
            "visibility": null,
            "width": null
          }
        },
        "d75e58af2f694e75b7deee676d21fb97": {
          "model_module": "@jupyter-widgets/controls",
          "model_name": "DescriptionStyleModel",
          "model_module_version": "1.5.0",
          "state": {
            "_model_module": "@jupyter-widgets/controls",
            "_model_module_version": "1.5.0",
            "_model_name": "DescriptionStyleModel",
            "_view_count": null,
            "_view_module": "@jupyter-widgets/base",
            "_view_module_version": "1.2.0",
            "_view_name": "StyleView",
            "description_width": ""
          }
        },
        "34c855f2c62246c895e40340a07387c0": {
          "model_module": "@jupyter-widgets/base",
          "model_name": "LayoutModel",
          "model_module_version": "1.2.0",
          "state": {
            "_model_module": "@jupyter-widgets/base",
            "_model_module_version": "1.2.0",
            "_model_name": "LayoutModel",
            "_view_count": null,
            "_view_module": "@jupyter-widgets/base",
            "_view_module_version": "1.2.0",
            "_view_name": "LayoutView",
            "align_content": null,
            "align_items": null,
            "align_self": null,
            "border": null,
            "bottom": null,
            "display": null,
            "flex": null,
            "flex_flow": null,
            "grid_area": null,
            "grid_auto_columns": null,
            "grid_auto_flow": null,
            "grid_auto_rows": null,
            "grid_column": null,
            "grid_gap": null,
            "grid_row": null,
            "grid_template_areas": null,
            "grid_template_columns": null,
            "grid_template_rows": null,
            "height": null,
            "justify_content": null,
            "justify_items": null,
            "left": null,
            "margin": null,
            "max_height": null,
            "max_width": null,
            "min_height": null,
            "min_width": null,
            "object_fit": null,
            "object_position": null,
            "order": null,
            "overflow": null,
            "overflow_x": null,
            "overflow_y": null,
            "padding": null,
            "right": null,
            "top": null,
            "visibility": null,
            "width": null
          }
        },
        "0c32a1cee4f3454688dcb04696431368": {
          "model_module": "@jupyter-widgets/controls",
          "model_name": "ProgressStyleModel",
          "model_module_version": "1.5.0",
          "state": {
            "_model_module": "@jupyter-widgets/controls",
            "_model_module_version": "1.5.0",
            "_model_name": "ProgressStyleModel",
            "_view_count": null,
            "_view_module": "@jupyter-widgets/base",
            "_view_module_version": "1.2.0",
            "_view_name": "StyleView",
            "bar_color": null,
            "description_width": ""
          }
        },
        "cbd93dc3ed9840f9a4c402b90c8b692d": {
          "model_module": "@jupyter-widgets/base",
          "model_name": "LayoutModel",
          "model_module_version": "1.2.0",
          "state": {
            "_model_module": "@jupyter-widgets/base",
            "_model_module_version": "1.2.0",
            "_model_name": "LayoutModel",
            "_view_count": null,
            "_view_module": "@jupyter-widgets/base",
            "_view_module_version": "1.2.0",
            "_view_name": "LayoutView",
            "align_content": null,
            "align_items": null,
            "align_self": null,
            "border": null,
            "bottom": null,
            "display": null,
            "flex": null,
            "flex_flow": null,
            "grid_area": null,
            "grid_auto_columns": null,
            "grid_auto_flow": null,
            "grid_auto_rows": null,
            "grid_column": null,
            "grid_gap": null,
            "grid_row": null,
            "grid_template_areas": null,
            "grid_template_columns": null,
            "grid_template_rows": null,
            "height": null,
            "justify_content": null,
            "justify_items": null,
            "left": null,
            "margin": null,
            "max_height": null,
            "max_width": null,
            "min_height": null,
            "min_width": null,
            "object_fit": null,
            "object_position": null,
            "order": null,
            "overflow": null,
            "overflow_x": null,
            "overflow_y": null,
            "padding": null,
            "right": null,
            "top": null,
            "visibility": null,
            "width": null
          }
        },
        "8bd9b4c7d1564df8adcff9b584147977": {
          "model_module": "@jupyter-widgets/controls",
          "model_name": "DescriptionStyleModel",
          "model_module_version": "1.5.0",
          "state": {
            "_model_module": "@jupyter-widgets/controls",
            "_model_module_version": "1.5.0",
            "_model_name": "DescriptionStyleModel",
            "_view_count": null,
            "_view_module": "@jupyter-widgets/base",
            "_view_module_version": "1.2.0",
            "_view_name": "StyleView",
            "description_width": ""
          }
        }
      }
    }
  },
  "cells": [
    {
      "cell_type": "code",
      "execution_count": 287,
      "metadata": {
        "id": "aZlrpvj3YYpL"
      },
      "outputs": [],
      "source": [
        "!pip install -qq implicit catboost"
      ]
    },
    {
      "cell_type": "code",
      "source": [
        "import warnings\n",
        "warnings.filterwarnings('ignore')\n",
        "\n",
        "import matplotlib.pyplot as plt\n",
        "import numpy as np\n",
        "import pandas as pd\n",
        "from scipy.sparse import csr_matrix\n",
        "\n",
        "from implicit.als import AlternatingLeastSquares\n",
        "from implicit.nearest_neighbours import bm25_weight, tfidf_weight\n",
        "from implicit.nearest_neighbours import ItemItemRecommender\n",
        "\n",
        "from catboost import CatBoostClassifier, CatBoostRanker, Pool"
      ],
      "metadata": {
        "id": "CM3b-65WZ-p5"
      },
      "execution_count": 288,
      "outputs": []
    },
    {
      "cell_type": "code",
      "source": [
        "from google.colab import drive\n",
        "drive.mount('/content/drive')"
      ],
      "metadata": {
        "colab": {
          "base_uri": "https://localhost:8080/"
        },
        "id": "2cdXP6SIbB4H",
        "outputId": "c3a9abd0-53ac-4251-e468-26b2e8d39c18"
      },
      "execution_count": 289,
      "outputs": [
        {
          "output_type": "stream",
          "name": "stdout",
          "text": [
            "Drive already mounted at /content/drive; to attempt to forcibly remount, call drive.mount(\"/content/drive\", force_remount=True).\n"
          ]
        }
      ]
    },
    {
      "cell_type": "code",
      "source": [
        "def precision_at_k(recommended_list, bought_list, k=5):\n",
        "    \n",
        "    bought_list = np.array(bought_list)\n",
        "    recommended_list = np.array(recommended_list)[:k]\n",
        "    \n",
        "    flags = np.isin(bought_list, recommended_list)\n",
        "    precision = flags.sum() / len(recommended_list)\n",
        "    \n",
        "    return precision\n",
        "\n",
        "def ap_k(recommended_list, bought_list, k=5):\n",
        "    \n",
        "    bought_list = np.array(bought_list)\n",
        "    recommended_list = np.array(recommended_list)\n",
        "    \n",
        "    flags = np.isin(recommended_list, bought_list)\n",
        "    \n",
        "    if sum(flags) == 0:\n",
        "        return 0\n",
        "    \n",
        "    sum_ = 0\n",
        "    for i in range(k):\n",
        "        \n",
        "        if flags[i]:\n",
        "            p_k = precision_at_k(recommended_list, bought_list, k=i+1)\n",
        "            sum_ += p_k\n",
        "            \n",
        "    result = sum_ / sum(flags)\n",
        "    \n",
        "    return result\n",
        "\n",
        "def map_k(recommend_list, bought_list, k=5):\n",
        "    return np.mean([ap_k(rec, bt, k) for rec, bt in zip(recommend_list, bought_list)])\n",
        "\n",
        "def reduce_memory(df):\n",
        "    for col in df.columns:\n",
        "        col_type = df[col].dtype\n",
        "        if col_type != object and str(col_type)[:4] != 'uint' and str(col_type) != 'category':\n",
        "            c_min = df[col].min()\n",
        "            c_max = df[col].max()\n",
        "            if str(col_type)[:3] == 'int':\n",
        "                if c_min > np.iinfo(np.int8).min and c_max < np.iinfo(np.int8).max:\n",
        "                    df[col] = df[col].astype(np.int8)\n",
        "                elif c_min > np.iinfo(np.int16).min and c_max < np.iinfo(np.int16).max:\n",
        "                    df[col] = df[col].astype(np.int16)\n",
        "                elif c_min > np.iinfo(np.int32).min and c_max < np.iinfo(np.int32).max:\n",
        "                    df[col] = df[col].astype(np.int32)\n",
        "                elif c_min > np.iinfo(np.int64).min and c_max < np.iinfo(np.int64).max:\n",
        "                    df[col] = df[col].astype(np.int64)\n",
        "            else:\n",
        "                if c_min > np.finfo(np.float32).min and c_max < np.finfo(np.float32).max:\n",
        "                    df[col] = df[col].astype(np.float32)\n",
        "                else:\n",
        "                    df[col] = df[col].astype(np.float64)\n",
        "        elif str(col_type)[:4] != 'uint':\n",
        "            df[col] = df[col].astype('category')\n",
        "    return df\n",
        "\n",
        "def popularity_recommendation(data, n=5):\n",
        "    \"\"\"Топ-n популярных товаров\"\"\"\n",
        "    \n",
        "    popular = data.groupby('item_id')['sales_value'].sum().reset_index()\n",
        "    popular.sort_values('sales_value', ascending=False, inplace=True)\n",
        "    \n",
        "    recs = popular.head(n).item_id\n",
        "    \n",
        "    return recs.tolist()"
      ],
      "metadata": {
        "id": "HhtPM2BibDL2"
      },
      "execution_count": 290,
      "outputs": []
    },
    {
      "cell_type": "code",
      "source": [
        "data = pd.read_csv('/content/drive/My Drive/webinar_rec2/retail_train.csv')\n",
        "item_features = pd.read_csv('/content/drive/My Drive/webinar_rec2/product.csv')\n",
        "user_features = pd.read_csv('/content/drive/My Drive/webinar_rec2/hh_demographic.csv')"
      ],
      "metadata": {
        "id": "kKQ6RjencdRT"
      },
      "execution_count": 291,
      "outputs": []
    },
    {
      "cell_type": "code",
      "source": [
        "data.head(2)"
      ],
      "metadata": {
        "colab": {
          "base_uri": "https://localhost:8080/",
          "height": 156
        },
        "id": "Iyd4UJWheNNy",
        "outputId": "60b424e0-f272-427a-d033-4d142d3e3044"
      },
      "execution_count": 292,
      "outputs": [
        {
          "output_type": "execute_result",
          "data": {
            "text/plain": [
              "   user_id    basket_id  day  item_id  quantity  sales_value  store_id  \\\n",
              "0     2375  26984851472    1  1004906         1         1.39       364   \n",
              "1     2375  26984851472    1  1033142         1         0.82       364   \n",
              "\n",
              "   retail_disc  trans_time  week_no  coupon_disc  coupon_match_disc  \n",
              "0         -0.6        1631        1          0.0                0.0  \n",
              "1          0.0        1631        1          0.0                0.0  "
            ],
            "text/html": [
              "\n",
              "  <div id=\"df-fe6f9da5-fa4d-4f9f-aaa6-5b2a866d64fa\">\n",
              "    <div class=\"colab-df-container\">\n",
              "      <div>\n",
              "<style scoped>\n",
              "    .dataframe tbody tr th:only-of-type {\n",
              "        vertical-align: middle;\n",
              "    }\n",
              "\n",
              "    .dataframe tbody tr th {\n",
              "        vertical-align: top;\n",
              "    }\n",
              "\n",
              "    .dataframe thead th {\n",
              "        text-align: right;\n",
              "    }\n",
              "</style>\n",
              "<table border=\"1\" class=\"dataframe\">\n",
              "  <thead>\n",
              "    <tr style=\"text-align: right;\">\n",
              "      <th></th>\n",
              "      <th>user_id</th>\n",
              "      <th>basket_id</th>\n",
              "      <th>day</th>\n",
              "      <th>item_id</th>\n",
              "      <th>quantity</th>\n",
              "      <th>sales_value</th>\n",
              "      <th>store_id</th>\n",
              "      <th>retail_disc</th>\n",
              "      <th>trans_time</th>\n",
              "      <th>week_no</th>\n",
              "      <th>coupon_disc</th>\n",
              "      <th>coupon_match_disc</th>\n",
              "    </tr>\n",
              "  </thead>\n",
              "  <tbody>\n",
              "    <tr>\n",
              "      <th>0</th>\n",
              "      <td>2375</td>\n",
              "      <td>26984851472</td>\n",
              "      <td>1</td>\n",
              "      <td>1004906</td>\n",
              "      <td>1</td>\n",
              "      <td>1.39</td>\n",
              "      <td>364</td>\n",
              "      <td>-0.6</td>\n",
              "      <td>1631</td>\n",
              "      <td>1</td>\n",
              "      <td>0.0</td>\n",
              "      <td>0.0</td>\n",
              "    </tr>\n",
              "    <tr>\n",
              "      <th>1</th>\n",
              "      <td>2375</td>\n",
              "      <td>26984851472</td>\n",
              "      <td>1</td>\n",
              "      <td>1033142</td>\n",
              "      <td>1</td>\n",
              "      <td>0.82</td>\n",
              "      <td>364</td>\n",
              "      <td>0.0</td>\n",
              "      <td>1631</td>\n",
              "      <td>1</td>\n",
              "      <td>0.0</td>\n",
              "      <td>0.0</td>\n",
              "    </tr>\n",
              "  </tbody>\n",
              "</table>\n",
              "</div>\n",
              "      <button class=\"colab-df-convert\" onclick=\"convertToInteractive('df-fe6f9da5-fa4d-4f9f-aaa6-5b2a866d64fa')\"\n",
              "              title=\"Convert this dataframe to an interactive table.\"\n",
              "              style=\"display:none;\">\n",
              "        \n",
              "  <svg xmlns=\"http://www.w3.org/2000/svg\" height=\"24px\"viewBox=\"0 0 24 24\"\n",
              "       width=\"24px\">\n",
              "    <path d=\"M0 0h24v24H0V0z\" fill=\"none\"/>\n",
              "    <path d=\"M18.56 5.44l.94 2.06.94-2.06 2.06-.94-2.06-.94-.94-2.06-.94 2.06-2.06.94zm-11 1L8.5 8.5l.94-2.06 2.06-.94-2.06-.94L8.5 2.5l-.94 2.06-2.06.94zm10 10l.94 2.06.94-2.06 2.06-.94-2.06-.94-.94-2.06-.94 2.06-2.06.94z\"/><path d=\"M17.41 7.96l-1.37-1.37c-.4-.4-.92-.59-1.43-.59-.52 0-1.04.2-1.43.59L10.3 9.45l-7.72 7.72c-.78.78-.78 2.05 0 2.83L4 21.41c.39.39.9.59 1.41.59.51 0 1.02-.2 1.41-.59l7.78-7.78 2.81-2.81c.8-.78.8-2.07 0-2.86zM5.41 20L4 18.59l7.72-7.72 1.47 1.35L5.41 20z\"/>\n",
              "  </svg>\n",
              "      </button>\n",
              "      \n",
              "  <style>\n",
              "    .colab-df-container {\n",
              "      display:flex;\n",
              "      flex-wrap:wrap;\n",
              "      gap: 12px;\n",
              "    }\n",
              "\n",
              "    .colab-df-convert {\n",
              "      background-color: #E8F0FE;\n",
              "      border: none;\n",
              "      border-radius: 50%;\n",
              "      cursor: pointer;\n",
              "      display: none;\n",
              "      fill: #1967D2;\n",
              "      height: 32px;\n",
              "      padding: 0 0 0 0;\n",
              "      width: 32px;\n",
              "    }\n",
              "\n",
              "    .colab-df-convert:hover {\n",
              "      background-color: #E2EBFA;\n",
              "      box-shadow: 0px 1px 2px rgba(60, 64, 67, 0.3), 0px 1px 3px 1px rgba(60, 64, 67, 0.15);\n",
              "      fill: #174EA6;\n",
              "    }\n",
              "\n",
              "    [theme=dark] .colab-df-convert {\n",
              "      background-color: #3B4455;\n",
              "      fill: #D2E3FC;\n",
              "    }\n",
              "\n",
              "    [theme=dark] .colab-df-convert:hover {\n",
              "      background-color: #434B5C;\n",
              "      box-shadow: 0px 1px 3px 1px rgba(0, 0, 0, 0.15);\n",
              "      filter: drop-shadow(0px 1px 2px rgba(0, 0, 0, 0.3));\n",
              "      fill: #FFFFFF;\n",
              "    }\n",
              "  </style>\n",
              "\n",
              "      <script>\n",
              "        const buttonEl =\n",
              "          document.querySelector('#df-fe6f9da5-fa4d-4f9f-aaa6-5b2a866d64fa button.colab-df-convert');\n",
              "        buttonEl.style.display =\n",
              "          google.colab.kernel.accessAllowed ? 'block' : 'none';\n",
              "\n",
              "        async function convertToInteractive(key) {\n",
              "          const element = document.querySelector('#df-fe6f9da5-fa4d-4f9f-aaa6-5b2a866d64fa');\n",
              "          const dataTable =\n",
              "            await google.colab.kernel.invokeFunction('convertToInteractive',\n",
              "                                                     [key], {});\n",
              "          if (!dataTable) return;\n",
              "\n",
              "          const docLinkHtml = 'Like what you see? Visit the ' +\n",
              "            '<a target=\"_blank\" href=https://colab.research.google.com/notebooks/data_table.ipynb>data table notebook</a>'\n",
              "            + ' to learn more about interactive tables.';\n",
              "          element.innerHTML = '';\n",
              "          dataTable['output_type'] = 'display_data';\n",
              "          await google.colab.output.renderOutput(dataTable, element);\n",
              "          const docLink = document.createElement('div');\n",
              "          docLink.innerHTML = docLinkHtml;\n",
              "          element.appendChild(docLink);\n",
              "        }\n",
              "      </script>\n",
              "    </div>\n",
              "  </div>\n",
              "  "
            ]
          },
          "metadata": {},
          "execution_count": 292
        }
      ]
    },
    {
      "cell_type": "code",
      "source": [
        "item_features.head(2)"
      ],
      "metadata": {
        "colab": {
          "base_uri": "https://localhost:8080/",
          "height": 112
        },
        "id": "HMK_zztledDX",
        "outputId": "fcd63c5d-b110-49e7-ccbf-bc9a7e3bd354"
      },
      "execution_count": 293,
      "outputs": [
        {
          "output_type": "execute_result",
          "data": {
            "text/plain": [
              "   PRODUCT_ID  MANUFACTURER    DEPARTMENT     BRAND            COMMODITY_DESC  \\\n",
              "0       25671             2       GROCERY  National                  FRZN ICE   \n",
              "1       26081             2  MISC. TRANS.  National  NO COMMODITY DESCRIPTION   \n",
              "\n",
              "            SUB_COMMODITY_DESC CURR_SIZE_OF_PRODUCT  \n",
              "0          ICE - CRUSHED/CUBED                22 LB  \n",
              "1  NO SUBCOMMODITY DESCRIPTION                       "
            ],
            "text/html": [
              "\n",
              "  <div id=\"df-1cd329a4-98f0-430a-8c96-440936dfcbe4\">\n",
              "    <div class=\"colab-df-container\">\n",
              "      <div>\n",
              "<style scoped>\n",
              "    .dataframe tbody tr th:only-of-type {\n",
              "        vertical-align: middle;\n",
              "    }\n",
              "\n",
              "    .dataframe tbody tr th {\n",
              "        vertical-align: top;\n",
              "    }\n",
              "\n",
              "    .dataframe thead th {\n",
              "        text-align: right;\n",
              "    }\n",
              "</style>\n",
              "<table border=\"1\" class=\"dataframe\">\n",
              "  <thead>\n",
              "    <tr style=\"text-align: right;\">\n",
              "      <th></th>\n",
              "      <th>PRODUCT_ID</th>\n",
              "      <th>MANUFACTURER</th>\n",
              "      <th>DEPARTMENT</th>\n",
              "      <th>BRAND</th>\n",
              "      <th>COMMODITY_DESC</th>\n",
              "      <th>SUB_COMMODITY_DESC</th>\n",
              "      <th>CURR_SIZE_OF_PRODUCT</th>\n",
              "    </tr>\n",
              "  </thead>\n",
              "  <tbody>\n",
              "    <tr>\n",
              "      <th>0</th>\n",
              "      <td>25671</td>\n",
              "      <td>2</td>\n",
              "      <td>GROCERY</td>\n",
              "      <td>National</td>\n",
              "      <td>FRZN ICE</td>\n",
              "      <td>ICE - CRUSHED/CUBED</td>\n",
              "      <td>22 LB</td>\n",
              "    </tr>\n",
              "    <tr>\n",
              "      <th>1</th>\n",
              "      <td>26081</td>\n",
              "      <td>2</td>\n",
              "      <td>MISC. TRANS.</td>\n",
              "      <td>National</td>\n",
              "      <td>NO COMMODITY DESCRIPTION</td>\n",
              "      <td>NO SUBCOMMODITY DESCRIPTION</td>\n",
              "      <td></td>\n",
              "    </tr>\n",
              "  </tbody>\n",
              "</table>\n",
              "</div>\n",
              "      <button class=\"colab-df-convert\" onclick=\"convertToInteractive('df-1cd329a4-98f0-430a-8c96-440936dfcbe4')\"\n",
              "              title=\"Convert this dataframe to an interactive table.\"\n",
              "              style=\"display:none;\">\n",
              "        \n",
              "  <svg xmlns=\"http://www.w3.org/2000/svg\" height=\"24px\"viewBox=\"0 0 24 24\"\n",
              "       width=\"24px\">\n",
              "    <path d=\"M0 0h24v24H0V0z\" fill=\"none\"/>\n",
              "    <path d=\"M18.56 5.44l.94 2.06.94-2.06 2.06-.94-2.06-.94-.94-2.06-.94 2.06-2.06.94zm-11 1L8.5 8.5l.94-2.06 2.06-.94-2.06-.94L8.5 2.5l-.94 2.06-2.06.94zm10 10l.94 2.06.94-2.06 2.06-.94-2.06-.94-.94-2.06-.94 2.06-2.06.94z\"/><path d=\"M17.41 7.96l-1.37-1.37c-.4-.4-.92-.59-1.43-.59-.52 0-1.04.2-1.43.59L10.3 9.45l-7.72 7.72c-.78.78-.78 2.05 0 2.83L4 21.41c.39.39.9.59 1.41.59.51 0 1.02-.2 1.41-.59l7.78-7.78 2.81-2.81c.8-.78.8-2.07 0-2.86zM5.41 20L4 18.59l7.72-7.72 1.47 1.35L5.41 20z\"/>\n",
              "  </svg>\n",
              "      </button>\n",
              "      \n",
              "  <style>\n",
              "    .colab-df-container {\n",
              "      display:flex;\n",
              "      flex-wrap:wrap;\n",
              "      gap: 12px;\n",
              "    }\n",
              "\n",
              "    .colab-df-convert {\n",
              "      background-color: #E8F0FE;\n",
              "      border: none;\n",
              "      border-radius: 50%;\n",
              "      cursor: pointer;\n",
              "      display: none;\n",
              "      fill: #1967D2;\n",
              "      height: 32px;\n",
              "      padding: 0 0 0 0;\n",
              "      width: 32px;\n",
              "    }\n",
              "\n",
              "    .colab-df-convert:hover {\n",
              "      background-color: #E2EBFA;\n",
              "      box-shadow: 0px 1px 2px rgba(60, 64, 67, 0.3), 0px 1px 3px 1px rgba(60, 64, 67, 0.15);\n",
              "      fill: #174EA6;\n",
              "    }\n",
              "\n",
              "    [theme=dark] .colab-df-convert {\n",
              "      background-color: #3B4455;\n",
              "      fill: #D2E3FC;\n",
              "    }\n",
              "\n",
              "    [theme=dark] .colab-df-convert:hover {\n",
              "      background-color: #434B5C;\n",
              "      box-shadow: 0px 1px 3px 1px rgba(0, 0, 0, 0.15);\n",
              "      filter: drop-shadow(0px 1px 2px rgba(0, 0, 0, 0.3));\n",
              "      fill: #FFFFFF;\n",
              "    }\n",
              "  </style>\n",
              "\n",
              "      <script>\n",
              "        const buttonEl =\n",
              "          document.querySelector('#df-1cd329a4-98f0-430a-8c96-440936dfcbe4 button.colab-df-convert');\n",
              "        buttonEl.style.display =\n",
              "          google.colab.kernel.accessAllowed ? 'block' : 'none';\n",
              "\n",
              "        async function convertToInteractive(key) {\n",
              "          const element = document.querySelector('#df-1cd329a4-98f0-430a-8c96-440936dfcbe4');\n",
              "          const dataTable =\n",
              "            await google.colab.kernel.invokeFunction('convertToInteractive',\n",
              "                                                     [key], {});\n",
              "          if (!dataTable) return;\n",
              "\n",
              "          const docLinkHtml = 'Like what you see? Visit the ' +\n",
              "            '<a target=\"_blank\" href=https://colab.research.google.com/notebooks/data_table.ipynb>data table notebook</a>'\n",
              "            + ' to learn more about interactive tables.';\n",
              "          element.innerHTML = '';\n",
              "          dataTable['output_type'] = 'display_data';\n",
              "          await google.colab.output.renderOutput(dataTable, element);\n",
              "          const docLink = document.createElement('div');\n",
              "          docLink.innerHTML = docLinkHtml;\n",
              "          element.appendChild(docLink);\n",
              "        }\n",
              "      </script>\n",
              "    </div>\n",
              "  </div>\n",
              "  "
            ]
          },
          "metadata": {},
          "execution_count": 293
        }
      ]
    },
    {
      "cell_type": "code",
      "source": [
        "user_features.head(2)"
      ],
      "metadata": {
        "colab": {
          "base_uri": "https://localhost:8080/",
          "height": 112
        },
        "id": "-5XP01lMeiNe",
        "outputId": "28842743-236c-44cf-df51-6d81095a843f"
      },
      "execution_count": 294,
      "outputs": [
        {
          "output_type": "execute_result",
          "data": {
            "text/plain": [
              "  AGE_DESC MARITAL_STATUS_CODE INCOME_DESC HOMEOWNER_DESC      HH_COMP_DESC  \\\n",
              "0      65+                   A      35-49K      Homeowner  2 Adults No Kids   \n",
              "1    45-54                   A      50-74K      Homeowner  2 Adults No Kids   \n",
              "\n",
              "  HOUSEHOLD_SIZE_DESC KID_CATEGORY_DESC  household_key  \n",
              "0                   2      None/Unknown              1  \n",
              "1                   2      None/Unknown              7  "
            ],
            "text/html": [
              "\n",
              "  <div id=\"df-99edc67a-75c1-4d0c-b469-989d29c98ff4\">\n",
              "    <div class=\"colab-df-container\">\n",
              "      <div>\n",
              "<style scoped>\n",
              "    .dataframe tbody tr th:only-of-type {\n",
              "        vertical-align: middle;\n",
              "    }\n",
              "\n",
              "    .dataframe tbody tr th {\n",
              "        vertical-align: top;\n",
              "    }\n",
              "\n",
              "    .dataframe thead th {\n",
              "        text-align: right;\n",
              "    }\n",
              "</style>\n",
              "<table border=\"1\" class=\"dataframe\">\n",
              "  <thead>\n",
              "    <tr style=\"text-align: right;\">\n",
              "      <th></th>\n",
              "      <th>AGE_DESC</th>\n",
              "      <th>MARITAL_STATUS_CODE</th>\n",
              "      <th>INCOME_DESC</th>\n",
              "      <th>HOMEOWNER_DESC</th>\n",
              "      <th>HH_COMP_DESC</th>\n",
              "      <th>HOUSEHOLD_SIZE_DESC</th>\n",
              "      <th>KID_CATEGORY_DESC</th>\n",
              "      <th>household_key</th>\n",
              "    </tr>\n",
              "  </thead>\n",
              "  <tbody>\n",
              "    <tr>\n",
              "      <th>0</th>\n",
              "      <td>65+</td>\n",
              "      <td>A</td>\n",
              "      <td>35-49K</td>\n",
              "      <td>Homeowner</td>\n",
              "      <td>2 Adults No Kids</td>\n",
              "      <td>2</td>\n",
              "      <td>None/Unknown</td>\n",
              "      <td>1</td>\n",
              "    </tr>\n",
              "    <tr>\n",
              "      <th>1</th>\n",
              "      <td>45-54</td>\n",
              "      <td>A</td>\n",
              "      <td>50-74K</td>\n",
              "      <td>Homeowner</td>\n",
              "      <td>2 Adults No Kids</td>\n",
              "      <td>2</td>\n",
              "      <td>None/Unknown</td>\n",
              "      <td>7</td>\n",
              "    </tr>\n",
              "  </tbody>\n",
              "</table>\n",
              "</div>\n",
              "      <button class=\"colab-df-convert\" onclick=\"convertToInteractive('df-99edc67a-75c1-4d0c-b469-989d29c98ff4')\"\n",
              "              title=\"Convert this dataframe to an interactive table.\"\n",
              "              style=\"display:none;\">\n",
              "        \n",
              "  <svg xmlns=\"http://www.w3.org/2000/svg\" height=\"24px\"viewBox=\"0 0 24 24\"\n",
              "       width=\"24px\">\n",
              "    <path d=\"M0 0h24v24H0V0z\" fill=\"none\"/>\n",
              "    <path d=\"M18.56 5.44l.94 2.06.94-2.06 2.06-.94-2.06-.94-.94-2.06-.94 2.06-2.06.94zm-11 1L8.5 8.5l.94-2.06 2.06-.94-2.06-.94L8.5 2.5l-.94 2.06-2.06.94zm10 10l.94 2.06.94-2.06 2.06-.94-2.06-.94-.94-2.06-.94 2.06-2.06.94z\"/><path d=\"M17.41 7.96l-1.37-1.37c-.4-.4-.92-.59-1.43-.59-.52 0-1.04.2-1.43.59L10.3 9.45l-7.72 7.72c-.78.78-.78 2.05 0 2.83L4 21.41c.39.39.9.59 1.41.59.51 0 1.02-.2 1.41-.59l7.78-7.78 2.81-2.81c.8-.78.8-2.07 0-2.86zM5.41 20L4 18.59l7.72-7.72 1.47 1.35L5.41 20z\"/>\n",
              "  </svg>\n",
              "      </button>\n",
              "      \n",
              "  <style>\n",
              "    .colab-df-container {\n",
              "      display:flex;\n",
              "      flex-wrap:wrap;\n",
              "      gap: 12px;\n",
              "    }\n",
              "\n",
              "    .colab-df-convert {\n",
              "      background-color: #E8F0FE;\n",
              "      border: none;\n",
              "      border-radius: 50%;\n",
              "      cursor: pointer;\n",
              "      display: none;\n",
              "      fill: #1967D2;\n",
              "      height: 32px;\n",
              "      padding: 0 0 0 0;\n",
              "      width: 32px;\n",
              "    }\n",
              "\n",
              "    .colab-df-convert:hover {\n",
              "      background-color: #E2EBFA;\n",
              "      box-shadow: 0px 1px 2px rgba(60, 64, 67, 0.3), 0px 1px 3px 1px rgba(60, 64, 67, 0.15);\n",
              "      fill: #174EA6;\n",
              "    }\n",
              "\n",
              "    [theme=dark] .colab-df-convert {\n",
              "      background-color: #3B4455;\n",
              "      fill: #D2E3FC;\n",
              "    }\n",
              "\n",
              "    [theme=dark] .colab-df-convert:hover {\n",
              "      background-color: #434B5C;\n",
              "      box-shadow: 0px 1px 3px 1px rgba(0, 0, 0, 0.15);\n",
              "      filter: drop-shadow(0px 1px 2px rgba(0, 0, 0, 0.3));\n",
              "      fill: #FFFFFF;\n",
              "    }\n",
              "  </style>\n",
              "\n",
              "      <script>\n",
              "        const buttonEl =\n",
              "          document.querySelector('#df-99edc67a-75c1-4d0c-b469-989d29c98ff4 button.colab-df-convert');\n",
              "        buttonEl.style.display =\n",
              "          google.colab.kernel.accessAllowed ? 'block' : 'none';\n",
              "\n",
              "        async function convertToInteractive(key) {\n",
              "          const element = document.querySelector('#df-99edc67a-75c1-4d0c-b469-989d29c98ff4');\n",
              "          const dataTable =\n",
              "            await google.colab.kernel.invokeFunction('convertToInteractive',\n",
              "                                                     [key], {});\n",
              "          if (!dataTable) return;\n",
              "\n",
              "          const docLinkHtml = 'Like what you see? Visit the ' +\n",
              "            '<a target=\"_blank\" href=https://colab.research.google.com/notebooks/data_table.ipynb>data table notebook</a>'\n",
              "            + ' to learn more about interactive tables.';\n",
              "          element.innerHTML = '';\n",
              "          dataTable['output_type'] = 'display_data';\n",
              "          await google.colab.output.renderOutput(dataTable, element);\n",
              "          const docLink = document.createElement('div');\n",
              "          docLink.innerHTML = docLinkHtml;\n",
              "          element.appendChild(docLink);\n",
              "        }\n",
              "      </script>\n",
              "    </div>\n",
              "  </div>\n",
              "  "
            ]
          },
          "metadata": {},
          "execution_count": 294
        }
      ]
    },
    {
      "cell_type": "code",
      "source": [
        "item_features.columns = [col.lower() for col in item_features.columns]\n",
        "user_features.columns = [col.lower() for col in user_features.columns]\n",
        "\n",
        "item_features.rename(columns={'product_id': 'item_id'}, inplace=True)\n",
        "user_features.rename(columns={'household_key': 'user_id'}, inplace=True)"
      ],
      "metadata": {
        "id": "4VznOWSlem-I"
      },
      "execution_count": 295,
      "outputs": []
    },
    {
      "cell_type": "code",
      "source": [
        "val_lvl_1_size_weeks = 6\n",
        "val_lvl_2_size_weeks = 3\n",
        "\n",
        "data_train_lvl_1 = data[data['week_no'] < data['week_no'].max() - (val_lvl_1_size_weeks + val_lvl_2_size_weeks)]\n",
        "data_val_lvl_1 = data[(data['week_no'] >= data['week_no'].max() - (val_lvl_1_size_weeks + val_lvl_2_size_weeks)) &\n",
        "                      (data['week_no'] < data['week_no'].max() - (val_lvl_2_size_weeks))]\n",
        "\n",
        "data_train_lvl_2 = data_val_lvl_1.copy()\n",
        "data_val_lvl_2 = data[data['week_no'] >= data['week_no'].max() - val_lvl_2_size_weeks]\n",
        "\n",
        "data_train_lvl_1 = reduce_memory(data_train_lvl_1)\n",
        "data_val_lvl_1 = reduce_memory(data_val_lvl_1)\n",
        "data_train_lvl_2 = reduce_memory(data_train_lvl_2)\n",
        "data_val_lvl_2 = reduce_memory(data_val_lvl_2)\n",
        "\n",
        "data_train_lvl_1.info()"
      ],
      "metadata": {
        "colab": {
          "base_uri": "https://localhost:8080/"
        },
        "id": "I73JV3mHesyA",
        "outputId": "85570720-1295-472d-8da9-44b4401ed7a1"
      },
      "execution_count": 296,
      "outputs": [
        {
          "output_type": "stream",
          "name": "stdout",
          "text": [
            "<class 'pandas.core.frame.DataFrame'>\n",
            "Int64Index: 2108779 entries, 0 to 2109572\n",
            "Data columns (total 12 columns):\n",
            " #   Column             Dtype  \n",
            "---  ------             -----  \n",
            " 0   user_id            int16  \n",
            " 1   basket_id          int64  \n",
            " 2   day                int16  \n",
            " 3   item_id            int32  \n",
            " 4   quantity           int32  \n",
            " 5   sales_value        float32\n",
            " 6   store_id           int32  \n",
            " 7   retail_disc        float32\n",
            " 8   trans_time         int16  \n",
            " 9   week_no            int8   \n",
            " 10  coupon_disc        float32\n",
            " 11  coupon_match_disc  float32\n",
            "dtypes: float32(4), int16(3), int32(3), int64(1), int8(1)\n",
            "memory usage: 102.6 MB\n"
          ]
        }
      ]
    },
    {
      "cell_type": "code",
      "source": [
        "test_size_weeks = 3\n",
        "\n",
        "data_train = data[data['week_no'] < data['week_no'].max() - test_size_weeks]\n",
        "data_test = data[data['week_no'] >= data['week_no'].max() - test_size_weeks]\n",
        "data_train = reduce_memory(data_train)\n",
        "data_test = reduce_memory(data_test)"
      ],
      "metadata": {
        "id": "ASo0SA-rgy_V"
      },
      "execution_count": 297,
      "outputs": []
    },
    {
      "cell_type": "code",
      "source": [
        "result = data_test.groupby('user_id')['item_id'].unique().reset_index()\n",
        "result.columns=['user_id', 'actual']"
      ],
      "metadata": {
        "id": "8tpZHNstfkJZ"
      },
      "execution_count": 298,
      "outputs": []
    },
    {
      "cell_type": "code",
      "source": [
        "# top 5 popular recommendations\n",
        "popular_recs = popularity_recommendation(data_train, n=5)\n",
        "\n",
        "result['popular_recommendation'] = result['user_id'].apply(lambda x: popular_recs)\n",
        "result.head(2)"
      ],
      "metadata": {
        "colab": {
          "base_uri": "https://localhost:8080/",
          "height": 112
        },
        "id": "sXXjqqbRf_Sj",
        "outputId": "b900134d-dc4e-4272-e9ca-028e42d0310a"
      },
      "execution_count": 299,
      "outputs": [
        {
          "output_type": "execute_result",
          "data": {
            "text/plain": [
              "   user_id                                             actual  \\\n",
              "0        1  [821867, 834484, 856942, 865456, 889248, 90795...   \n",
              "1        3  [835476, 851057, 872021, 878302, 879948, 90963...   \n",
              "\n",
              "                          popular_recommendation  \n",
              "0  [6534178, 6533889, 1029743, 6534166, 1082185]  \n",
              "1  [6534178, 6533889, 1029743, 6534166, 1082185]  "
            ],
            "text/html": [
              "\n",
              "  <div id=\"df-529f4a24-a59c-4896-a888-1ac900fd33d2\">\n",
              "    <div class=\"colab-df-container\">\n",
              "      <div>\n",
              "<style scoped>\n",
              "    .dataframe tbody tr th:only-of-type {\n",
              "        vertical-align: middle;\n",
              "    }\n",
              "\n",
              "    .dataframe tbody tr th {\n",
              "        vertical-align: top;\n",
              "    }\n",
              "\n",
              "    .dataframe thead th {\n",
              "        text-align: right;\n",
              "    }\n",
              "</style>\n",
              "<table border=\"1\" class=\"dataframe\">\n",
              "  <thead>\n",
              "    <tr style=\"text-align: right;\">\n",
              "      <th></th>\n",
              "      <th>user_id</th>\n",
              "      <th>actual</th>\n",
              "      <th>popular_recommendation</th>\n",
              "    </tr>\n",
              "  </thead>\n",
              "  <tbody>\n",
              "    <tr>\n",
              "      <th>0</th>\n",
              "      <td>1</td>\n",
              "      <td>[821867, 834484, 856942, 865456, 889248, 90795...</td>\n",
              "      <td>[6534178, 6533889, 1029743, 6534166, 1082185]</td>\n",
              "    </tr>\n",
              "    <tr>\n",
              "      <th>1</th>\n",
              "      <td>3</td>\n",
              "      <td>[835476, 851057, 872021, 878302, 879948, 90963...</td>\n",
              "      <td>[6534178, 6533889, 1029743, 6534166, 1082185]</td>\n",
              "    </tr>\n",
              "  </tbody>\n",
              "</table>\n",
              "</div>\n",
              "      <button class=\"colab-df-convert\" onclick=\"convertToInteractive('df-529f4a24-a59c-4896-a888-1ac900fd33d2')\"\n",
              "              title=\"Convert this dataframe to an interactive table.\"\n",
              "              style=\"display:none;\">\n",
              "        \n",
              "  <svg xmlns=\"http://www.w3.org/2000/svg\" height=\"24px\"viewBox=\"0 0 24 24\"\n",
              "       width=\"24px\">\n",
              "    <path d=\"M0 0h24v24H0V0z\" fill=\"none\"/>\n",
              "    <path d=\"M18.56 5.44l.94 2.06.94-2.06 2.06-.94-2.06-.94-.94-2.06-.94 2.06-2.06.94zm-11 1L8.5 8.5l.94-2.06 2.06-.94-2.06-.94L8.5 2.5l-.94 2.06-2.06.94zm10 10l.94 2.06.94-2.06 2.06-.94-2.06-.94-.94-2.06-.94 2.06-2.06.94z\"/><path d=\"M17.41 7.96l-1.37-1.37c-.4-.4-.92-.59-1.43-.59-.52 0-1.04.2-1.43.59L10.3 9.45l-7.72 7.72c-.78.78-.78 2.05 0 2.83L4 21.41c.39.39.9.59 1.41.59.51 0 1.02-.2 1.41-.59l7.78-7.78 2.81-2.81c.8-.78.8-2.07 0-2.86zM5.41 20L4 18.59l7.72-7.72 1.47 1.35L5.41 20z\"/>\n",
              "  </svg>\n",
              "      </button>\n",
              "      \n",
              "  <style>\n",
              "    .colab-df-container {\n",
              "      display:flex;\n",
              "      flex-wrap:wrap;\n",
              "      gap: 12px;\n",
              "    }\n",
              "\n",
              "    .colab-df-convert {\n",
              "      background-color: #E8F0FE;\n",
              "      border: none;\n",
              "      border-radius: 50%;\n",
              "      cursor: pointer;\n",
              "      display: none;\n",
              "      fill: #1967D2;\n",
              "      height: 32px;\n",
              "      padding: 0 0 0 0;\n",
              "      width: 32px;\n",
              "    }\n",
              "\n",
              "    .colab-df-convert:hover {\n",
              "      background-color: #E2EBFA;\n",
              "      box-shadow: 0px 1px 2px rgba(60, 64, 67, 0.3), 0px 1px 3px 1px rgba(60, 64, 67, 0.15);\n",
              "      fill: #174EA6;\n",
              "    }\n",
              "\n",
              "    [theme=dark] .colab-df-convert {\n",
              "      background-color: #3B4455;\n",
              "      fill: #D2E3FC;\n",
              "    }\n",
              "\n",
              "    [theme=dark] .colab-df-convert:hover {\n",
              "      background-color: #434B5C;\n",
              "      box-shadow: 0px 1px 3px 1px rgba(0, 0, 0, 0.15);\n",
              "      filter: drop-shadow(0px 1px 2px rgba(0, 0, 0, 0.3));\n",
              "      fill: #FFFFFF;\n",
              "    }\n",
              "  </style>\n",
              "\n",
              "      <script>\n",
              "        const buttonEl =\n",
              "          document.querySelector('#df-529f4a24-a59c-4896-a888-1ac900fd33d2 button.colab-df-convert');\n",
              "        buttonEl.style.display =\n",
              "          google.colab.kernel.accessAllowed ? 'block' : 'none';\n",
              "\n",
              "        async function convertToInteractive(key) {\n",
              "          const element = document.querySelector('#df-529f4a24-a59c-4896-a888-1ac900fd33d2');\n",
              "          const dataTable =\n",
              "            await google.colab.kernel.invokeFunction('convertToInteractive',\n",
              "                                                     [key], {});\n",
              "          if (!dataTable) return;\n",
              "\n",
              "          const docLinkHtml = 'Like what you see? Visit the ' +\n",
              "            '<a target=\"_blank\" href=https://colab.research.google.com/notebooks/data_table.ipynb>data table notebook</a>'\n",
              "            + ' to learn more about interactive tables.';\n",
              "          element.innerHTML = '';\n",
              "          dataTable['output_type'] = 'display_data';\n",
              "          await google.colab.output.renderOutput(dataTable, element);\n",
              "          const docLink = document.createElement('div');\n",
              "          docLink.innerHTML = docLinkHtml;\n",
              "          element.appendChild(docLink);\n",
              "        }\n",
              "      </script>\n",
              "    </div>\n",
              "  </div>\n",
              "  "
            ]
          },
          "metadata": {},
          "execution_count": 299
        }
      ]
    },
    {
      "cell_type": "code",
      "source": [
        "def prefilter_items(data, take_n_popular=5000, item_features=None):\n",
        "    # Уберем самые популярные товары (их и так купят)\n",
        "    popularity = data.groupby('item_id')['user_id'].nunique().reset_index() / data['user_id'].nunique()\n",
        "    popularity.rename(columns={'user_id': 'share_unique_users'}, inplace=True)\n",
        "\n",
        "    top_popular = popularity[popularity['share_unique_users'] > 0.2].item_id.tolist()\n",
        "    data = data[~data['item_id'].isin(top_popular)]\n",
        "\n",
        "    # Уберем самые НЕ популярные товары (их и так НЕ купят)\n",
        "    top_notpopular = popularity[popularity['share_unique_users'] < 0.02].item_id.tolist()\n",
        "    data = data[~data['item_id'].isin(top_notpopular)]\n",
        "\n",
        "    # Уберем не интересные для рекоммендаций категории (department)\n",
        "    if item_features is not None:\n",
        "        department_size = pd.DataFrame(item_features.\\\n",
        "                                        groupby('department')['item_id'].nunique().\\\n",
        "                                        sort_values(ascending=False)).reset_index()\n",
        "        department_size.columns = ['department', 'n_items']\n",
        "        rare_departments = department_size[department_size['n_items'] < 150].department.tolist()\n",
        "        items_in_rare_departments = item_features[item_features['department'].isin(rare_departments)].item_id.unique().tolist()\n",
        "\n",
        "        data = data[~data['item_id'].isin(items_in_rare_departments)]\n",
        "\n",
        "    # Уберем слишком дешевые товары (на них не заработаем). 1 покупка из рассылок стоит 60 руб.\n",
        "    data['price'] = data['sales_value'] / (np.maximum(data['quantity'], 1))\n",
        "    data = data[data['price'] > 2]\n",
        "\n",
        "    # Уберем слишком дорогие товарыs\n",
        "    data = data[data['price'] < 50]\n",
        "\n",
        "    # Возьмем топ по популярности\n",
        "    popularity = data.groupby('item_id')['quantity'].sum().reset_index()\n",
        "    popularity.rename(columns={'quantity': 'n_sold'}, inplace=True)\n",
        "    top = popularity.sort_values('n_sold', ascending=False).head(take_n_popular).item_id.tolist()\n",
        "    \n",
        "    # Заведем фиктивный item_id (если юзер покупал товары из топ-5000, то он \"купил\" такой товар)\n",
        "    data.loc[~data['item_id'].isin(top), 'item_id'] = 999999\n",
        "    \n",
        "    return data\n",
        "\n",
        "def postfilter(recommendations, item_info, N=5):\n",
        "    \"\"\"Пост-фильтрация товаров\n",
        "    \n",
        "    Input\n",
        "    -----\n",
        "    recommendations: list\n",
        "        Ранжированный список item_id для рекомендаций\n",
        "    item_info: pd.DataFrame\n",
        "        Датафрейм с информацией о товарах\n",
        "    \"\"\"\n",
        "    \n",
        "    # Уникальность\n",
        "    unique_recommendations = []\n",
        "    [unique_recommendations.append(item) for item in recommendations if item not in unique_recommendations]\n",
        "    \n",
        "    # Разные категории\n",
        "    categories_used = []\n",
        "    final_recommendations = []\n",
        "    CATEGORY_NAME = 'sub_commodity_desc'\n",
        "    for item in unique_recommendations:\n",
        "        category = item_features.loc[item_features['item_id'] == item, CATEGORY_NAME].values[0]\n",
        "        \n",
        "        if category not in categories_used:\n",
        "            final_recommendations.append(item)\n",
        "            \n",
        "        unique_recommendations.remove(item)\n",
        "        categories_used.append(category)\n",
        "    \n",
        "    n_rec = len(final_recommendations)\n",
        "    if n_rec < N:\n",
        "        final_recommendations.extend(unique_recommendations[:N - n_rec])\n",
        "    else:\n",
        "        final_recommendations = final_recommendations[:N]\n",
        "    \n",
        "    assert len(final_recommendations) == N, 'Количество рекомендаций != {}'.format(N)\n",
        "    return final_recommendations"
      ],
      "metadata": {
        "id": "lqXjtk94gacn"
      },
      "execution_count": 300,
      "outputs": []
    },
    {
      "cell_type": "code",
      "source": [
        "class MainRecommender:\n",
        "    \"\"\"Рекоммендации, которые можно получить из ALS\n",
        "\n",
        "    Input\n",
        "    -----\n",
        "    user_item_matrix: pd.DataFrame\n",
        "        Матрица взаимодействий user-item\n",
        "    \"\"\"\n",
        "\n",
        "    def __init__(self, data, data_type='quantity', weighting=True):\n",
        "        self.data_type = data_type\n",
        "\n",
        "        # Топ покупок каждого юзера\n",
        "        self.top_purchases = data.groupby(['user_id', 'item_id'])['quantity'].count().reset_index()\n",
        "        self.top_purchases.sort_values('quantity', ascending=False, inplace=True)\n",
        "        self.top_purchases = self.top_purchases[self.top_purchases['item_id'] != 999999]\n",
        "\n",
        "        # Топ покупок по всему датасету\n",
        "        self.overall_top_purchases = data.groupby('item_id')['quantity'].count().reset_index()\n",
        "        self.overall_top_purchases.sort_values('quantity', ascending=False, inplace=True)\n",
        "        self.overall_top_purchases = self.overall_top_purchases[self.overall_top_purchases['item_id'] != 999999]\n",
        "        self.overall_top_purchases = self.overall_top_purchases.item_id.tolist()\n",
        "\n",
        "        self.user_item_matrix = self._prepare_matrix(data, data_type=self.data_type)  # pd.DataFrame\n",
        "        self.id_to_itemid, self.id_to_userid, \\\n",
        "            self.itemid_to_id, self.userid_to_id = self._prepare_dicts(self.user_item_matrix)\n",
        "\n",
        "        if weighting:  ## check!\n",
        "            self.user_item_matrix = bm25_weight(self.user_item_matrix, K1=100, B=0.8)\n",
        "\n",
        "        self.model = self.fit(self.user_item_matrix)\n",
        "        self.own_recommender = self.fit_own_recommender(self.user_item_matrix)\n",
        "\n",
        "    @staticmethod\n",
        "    def _prepare_matrix(data, data_type, noramlize=False):\n",
        "        \"\"\"Готовит user-item матрицу\"\"\"\n",
        "        if data_type == 'quantity':\n",
        "            user_item_matrix = pd.pivot_table(data,\n",
        "                                              index='user_id', columns='item_id',\n",
        "                                              values='quantity',\n",
        "                                              aggfunc='count',\n",
        "                                              fill_value=0\n",
        "                                              )\n",
        "        elif data_type == 'sales':\n",
        "            user_item_matrix = pd.pivot_table(data,\n",
        "                                              index='user_id', columns='item_id',\n",
        "                                              values='sales_value',\n",
        "                                              aggfunc='sum',\n",
        "                                              fill_value=0\n",
        "                                              )\n",
        "            if noramlize:\n",
        "                user_item_matrix = user_item_matrix / user_item_matrix.max()  # normalize\n",
        "        else:\n",
        "            raise ValueError(f'Agg data type must be \"quantity\" or \"sales\", given: {data_type}')\n",
        "\n",
        "        user_item_matrix = user_item_matrix.astype(float)\n",
        "\n",
        "        return user_item_matrix\n",
        "\n",
        "    @staticmethod\n",
        "    def _prepare_dicts(user_item_matrix):\n",
        "        \"\"\"Подготавливает вспомогательные словари\"\"\"\n",
        "\n",
        "        userids = user_item_matrix.index.values\n",
        "        itemids = user_item_matrix.columns.values\n",
        "\n",
        "        matrix_userids = np.arange(len(userids))\n",
        "        matrix_itemids = np.arange(len(itemids))\n",
        "\n",
        "        id_to_itemid = dict(zip(matrix_itemids, itemids))\n",
        "        id_to_userid = dict(zip(matrix_userids, userids))\n",
        "\n",
        "        itemid_to_id = dict(zip(itemids, matrix_itemids))\n",
        "        userid_to_id = dict(zip(userids, matrix_userids))\n",
        "\n",
        "        return id_to_itemid, id_to_userid, itemid_to_id, userid_to_id\n",
        "\n",
        "    @staticmethod\n",
        "    def fit_own_recommender(user_item_matrix):\n",
        "        \"\"\"Обучает модель, которая рекомендует товары, среди товаров, купленных юзером\"\"\"\n",
        "\n",
        "        own_recommender = ItemItemRecommender(K=1, num_threads=4)\n",
        "        own_recommender.fit(csr_matrix(user_item_matrix).tocsr())\n",
        "\n",
        "        return own_recommender\n",
        "\n",
        "    @staticmethod\n",
        "    def fit(user_item_matrix, n_factors=50, regularization=0.001, iterations=20, num_threads=4):\n",
        "        \"\"\"Обучает ALS\"\"\"\n",
        "\n",
        "        model = AlternatingLeastSquares(factors=n_factors,\n",
        "                                        regularization=regularization,\n",
        "                                        iterations=iterations,\n",
        "                                        num_threads=num_threads)\n",
        "        model.fit(csr_matrix(user_item_matrix).tocsr())\n",
        "\n",
        "        return model\n",
        "\n",
        "    def _update_dict(self, user_id):\n",
        "        \"\"\"Если появился новыю user / item, то нужно обновить словари\"\"\"\n",
        "\n",
        "        if user_id not in self.userid_to_id.keys():\n",
        "\n",
        "            max_id = max(list(self.userid_to_id.values()))\n",
        "            max_id += 1\n",
        "\n",
        "            self.userid_to_id.update({user_id: max_id})\n",
        "            self.id_to_userid.update({max_id: user_id})\n",
        "\n",
        "    def _get_similar_item(self, item_id):\n",
        "        \"\"\"Находит товар, похожий на item_id\"\"\"\n",
        "        recs = self.model.similar_items(self.itemid_to_id[item_id], N=2)  # Товар похож на себя -> рекомендуем 2 товара\n",
        "        top_rec = recs[0][1]\n",
        "        return self.id_to_itemid[top_rec]\n",
        "\n",
        "    def _extend_with_top_popular(self, recommendations, N=5):\n",
        "        \"\"\"Если кол-во рекоммендаций < N, то дополняем их топ-популярными\"\"\"\n",
        "\n",
        "        if len(recommendations) < N:\n",
        "            recommendations.extend(self.overall_top_purchases[:N])\n",
        "            recommendations = recommendations[:N]\n",
        "\n",
        "        return recommendations\n",
        "\n",
        "    def _get_recommendations(self, user, model, N=5):\n",
        "        \"\"\"Рекомендации через стардартные библиотеки implicit\"\"\"\n",
        "\n",
        "        self._update_dict(user_id=user)\n",
        "        user_id = self.userid_to_id[user]\n",
        "        model_name = model.__class__.__name__\n",
        "        if model_name == 'ItemItemRecommender':\n",
        "\n",
        "            res = model.recommend(userid=user_id,\n",
        "                                        user_items=csr_matrix(self.user_item_matrix).tocsr(),\n",
        "                                        N=N,\n",
        "                                        filter_already_liked_items=False,\n",
        "                                        filter_items=None,\n",
        "                                        recalculate_user=True)[0].tolist()\n",
        "            res = [self.id_to_itemid[rec] for rec in res]\n",
        "\n",
        "        elif model_name == 'AlternatingLeastSquares':\n",
        "            res = [self.id_to_itemid[rec] for rec in model.recommend(userid=user_id,\n",
        "                                        user_items=csr_matrix(self.user_item_matrix).tocsr()[user_id,:],\n",
        "                                        N=N,\n",
        "                                        filter_already_liked_items=False,\n",
        "                                        filter_items=[self.itemid_to_id[999999]],\n",
        "                                        recalculate_user=True)[0]]\n",
        "\n",
        "        res = self._extend_with_top_popular(res, N=N)\n",
        "\n",
        "        assert len(res) == N, 'Количество рекомендаций != {}'.format(N)\n",
        "        return res\n",
        "\n",
        "    def get_als_recommendations(self, user, N=5):\n",
        "        \"\"\"Рекомендации через стардартные библиотеки implicit\"\"\"\n",
        "\n",
        "        self._update_dict(user_id=user)\n",
        "        return self._get_recommendations(user, model=self.model, N=N)\n",
        "\n",
        "    def get_own_recommendations(self, user, N=5):\n",
        "        \"\"\"Рекомендуем товары среди тех, которые юзер уже купил\"\"\"\n",
        "\n",
        "        self._update_dict(user_id=user)\n",
        "        return self._get_recommendations(user, model=self.own_recommender, N=N)\n",
        "\n",
        "    def get_similar_items_recommendation(self, user, N=5):\n",
        "        \"\"\"Рекомендуем товары, похожие на топ-N купленных юзером товаров\"\"\"\n",
        "\n",
        "        top_users_purchases = self.top_purchases[self.top_purchases['user_id'] == user].head(N)\n",
        "\n",
        "        res = top_users_purchases['item_id'].apply(lambda x: self._get_similar_item(x)).tolist()\n",
        "        if 999999 in res: res.remove(999999)\n",
        "\n",
        "        res = self._extend_with_top_popular(res, N=N) \n",
        "\n",
        "        assert len(res) == N, 'Количество рекомендаций != {}'.format(N)\n",
        "        return res\n",
        "\n",
        "    def get_similar_users_recommendation(self, user, N=5):\n",
        "        \"\"\"Рекомендуем топ-N товаров, среди купленных похожими юзерами\"\"\"\n",
        "\n",
        "        res = []\n",
        "\n",
        "        # Находим топ-N похожих пользователей\n",
        "        similar_users = self.model.similar_users(self.userid_to_id[user], N=N+1)\n",
        "        similar_users = [rec for rec in similar_users[0]]\n",
        "        similar_users = similar_users[1:]   # удалим юзера из запроса\n",
        "\n",
        "        for user in similar_users:\n",
        "            res.extend(self.get_own_recommendations(user, N=1))\n",
        "        res = pd.Series(res).drop_duplicates().tolist()\n",
        "\n",
        "        res = self._extend_with_top_popular(res, N=N)\n",
        "\n",
        "        assert len(res) == N, 'Количество рекомендаций != {}'.format(N)\n",
        "        return res"
      ],
      "metadata": {
        "id": "95BnacYvjNrP"
      },
      "execution_count": 301,
      "outputs": []
    },
    {
      "cell_type": "code",
      "source": [
        "data_train_lvl_1 = prefilter_items(data_train_lvl_1, item_features=item_features, take_n_popular=5000)"
      ],
      "metadata": {
        "id": "wNvA-f9ymGia"
      },
      "execution_count": 302,
      "outputs": []
    },
    {
      "cell_type": "code",
      "source": [
        "recommender = MainRecommender(data_train_lvl_1, data_type='quantity')"
      ],
      "metadata": {
        "colab": {
          "base_uri": "https://localhost:8080/",
          "height": 81,
          "referenced_widgets": [
            "a12085660f894fbea5e34e519d6acb1a",
            "952dd27d12af403b846b653cf706060c",
            "85db3d804fb74f4fa6f9ad3793039757",
            "e34d82d909214bf99d80004cabc635f5",
            "2a976fd48f314f928007d66675ea9656",
            "96268afb1c11451287977e0b1a9904cc",
            "39dc210796044a99bcecaa6c76e7d7eb",
            "d8b9c52a6718478090037fa20bf92e92",
            "c17c8c1bb97541d3b9fd3b57be757ac0",
            "f0a9cd9f29004712b6d626801aed9a99",
            "0422d59e47d540b5a54bdc6542f23846",
            "40dd8ce7412b49ee87d927a8a800dcc9",
            "bb245520b4a24256b87797f9c4d829f6",
            "597a9ffb302a41c8bb49e7659ccb9641",
            "1ef5e563964a4dd8bfe0a3fc0853baf7",
            "c3f0c115eb6d44069663056af7b3c19f",
            "2f320ed88d6942aead8265b0a045487c",
            "d75e58af2f694e75b7deee676d21fb97",
            "34c855f2c62246c895e40340a07387c0",
            "0c32a1cee4f3454688dcb04696431368",
            "cbd93dc3ed9840f9a4c402b90c8b692d",
            "8bd9b4c7d1564df8adcff9b584147977"
          ]
        },
        "id": "mRHcj84hmIUe",
        "outputId": "86de966d-1130-4098-bc32-8b9e0a8a4abf"
      },
      "execution_count": 303,
      "outputs": [
        {
          "output_type": "display_data",
          "data": {
            "text/plain": [
              "  0%|          | 0/20 [00:00<?, ?it/s]"
            ],
            "application/vnd.jupyter.widget-view+json": {
              "version_major": 2,
              "version_minor": 0,
              "model_id": "a12085660f894fbea5e34e519d6acb1a"
            }
          },
          "metadata": {}
        },
        {
          "output_type": "display_data",
          "data": {
            "text/plain": [
              "  0%|          | 0/5001 [00:00<?, ?it/s]"
            ],
            "application/vnd.jupyter.widget-view+json": {
              "version_major": 2,
              "version_minor": 0,
              "model_id": "40dd8ce7412b49ee87d927a8a800dcc9"
            }
          },
          "metadata": {}
        }
      ]
    },
    {
      "cell_type": "code",
      "source": [
        "recommender.get_als_recommendations(2375, N=5)"
      ],
      "metadata": {
        "colab": {
          "base_uri": "https://localhost:8080/"
        },
        "id": "7A3sGVMzm_UT",
        "outputId": "9c7f1846-276b-4e6e-afaf-e7b062765764"
      },
      "execution_count": 304,
      "outputs": [
        {
          "output_type": "execute_result",
          "data": {
            "text/plain": [
              "[1081177, 854852, 899624, 1106523, 1132771]"
            ]
          },
          "metadata": {},
          "execution_count": 304
        }
      ]
    },
    {
      "cell_type": "code",
      "source": [
        "precision_at_k(recommender.get_als_recommendations(2375, N=5),result.loc[result.user_id == 2375, 'actual'])"
      ],
      "metadata": {
        "colab": {
          "base_uri": "https://localhost:8080/"
        },
        "id": "qAdFu-H4ubr9",
        "outputId": "f0a3d961-b765-4057-cf77-d90a71d1b3b1"
      },
      "execution_count": 305,
      "outputs": [
        {
          "output_type": "execute_result",
          "data": {
            "text/plain": [
              "0.0"
            ]
          },
          "metadata": {},
          "execution_count": 305
        }
      ]
    },
    {
      "cell_type": "code",
      "source": [
        "recommender.get_own_recommendations(2375, N=5)"
      ],
      "metadata": {
        "colab": {
          "base_uri": "https://localhost:8080/"
        },
        "id": "RoRefxc6q0li",
        "outputId": "d3555671-d695-40d5-d58b-c39266ab8a0a"
      },
      "execution_count": 306,
      "outputs": [
        {
          "output_type": "execute_result",
          "data": {
            "text/plain": [
              "[8293439, 9297615, 940947, 5577022, 856942]"
            ]
          },
          "metadata": {},
          "execution_count": 306
        }
      ]
    },
    {
      "cell_type": "code",
      "source": [
        "recommender.get_similar_items_recommendation(2375, N=5)"
      ],
      "metadata": {
        "colab": {
          "base_uri": "https://localhost:8080/"
        },
        "id": "q_yGOdT3rhH6",
        "outputId": "91fbe5d4-8dc5-4a10-aace-7939e59236e6"
      },
      "execution_count": 307,
      "outputs": [
        {
          "output_type": "execute_result",
          "data": {
            "text/plain": [
              "[1046545, 1029743, 999270, 842125, 1029743]"
            ]
          },
          "metadata": {},
          "execution_count": 307
        }
      ]
    },
    {
      "cell_type": "code",
      "source": [
        "recommender.get_similar_users_recommendation(2375, N=5)"
      ],
      "metadata": {
        "colab": {
          "base_uri": "https://localhost:8080/"
        },
        "id": "88iQZIv0sObA",
        "outputId": "e5a55c65-fad7-41b0-c649-207d582de2d0"
      },
      "execution_count": 308,
      "outputs": [
        {
          "output_type": "execute_result",
          "data": {
            "text/plain": [
              "[856942, 1029743, 1106523, 5569230, 916122]"
            ]
          },
          "metadata": {},
          "execution_count": 308
        }
      ]
    },
    {
      "cell_type": "code",
      "source": [
        "list_out = result.loc[~result.user_id.isin(data_train_lvl_1.user_id), 'user_id'].tolist()\n",
        "list_out"
      ],
      "metadata": {
        "colab": {
          "base_uri": "https://localhost:8080/"
        },
        "id": "LRQCtXNYF1Vx",
        "outputId": "3d7168b7-9550-4b98-fa4c-52bcf93db439"
      },
      "execution_count": 309,
      "outputs": [
        {
          "output_type": "execute_result",
          "data": {
            "text/plain": [
              "[1984, 2259]"
            ]
          },
          "metadata": {},
          "execution_count": 309
        }
      ]
    },
    {
      "cell_type": "code",
      "source": [
        "def rule(x, y, model):\n",
        "    if model == 'als':\n",
        "        if x in y:\n",
        "            return list([840361, 1029743, 995242, 981760, 1082185])\n",
        "        else:\n",
        "            return recommender.get_als_recommendations(x, N=5)\n",
        "    elif model == 'own':\n",
        "        if x in y:\n",
        "            return list([840361, 1029743, 995242, 981760, 1082185])\n",
        "        else:\n",
        "            return recommender.get_own_recommendations(x, N=5)\n",
        "    elif model == 'similar_items':\n",
        "        if x in y:\n",
        "            return list([840361, 1029743, 995242, 981760, 1082185])\n",
        "        else:\n",
        "            return recommender.get_similar_items_recommendation(x, N=5)\n",
        "    elif model == 'similar_users':\n",
        "        if x in y:\n",
        "            return list([840361, 1029743, 995242, 981760, 1082185])\n",
        "        else:\n",
        "            return recommender.get_similar_users_recommendation(x, N=5)"
      ],
      "metadata": {
        "id": "pnTwX9hEF_vK"
      },
      "execution_count": 310,
      "outputs": []
    },
    {
      "cell_type": "code",
      "source": [
        "result['als'] = result['user_id'].apply(lambda x: rule(x, list_out, model='als'))"
      ],
      "metadata": {
        "id": "SxrOJaR_GGP1"
      },
      "execution_count": 311,
      "outputs": []
    },
    {
      "cell_type": "code",
      "source": [
        "result.apply(lambda row: precision_at_k(row['als'], row['actual']), axis=1).mean() * 100"
      ],
      "metadata": {
        "colab": {
          "base_uri": "https://localhost:8080/"
        },
        "id": "qsNDM3z0Ho4Y",
        "outputId": "ab1fea88-b580-47e6-c60a-7edf9359de76"
      },
      "execution_count": 312,
      "outputs": [
        {
          "output_type": "execute_result",
          "data": {
            "text/plain": [
              "15.210577864838395"
            ]
          },
          "metadata": {},
          "execution_count": 312
        }
      ]
    },
    {
      "cell_type": "code",
      "source": [
        "15.210577864838395  # quantity mean precision@5 - als\n",
        "28.68293611927305  # map@5 quantity - als\n",
        "5.063663075416259 / 3.702252693437807  # sales mean precision@5 - als, \"/\" - normalized\n",
        "9.179249646316249 / 7.367912721732507  # sales map@5 - als"
      ],
      "metadata": {
        "colab": {
          "base_uri": "https://localhost:8080/"
        },
        "id": "6zoMk4uqG_TB",
        "outputId": "3bb8e2cf-18e4-48e6-a3c3-a64d93878deb"
      },
      "execution_count": 313,
      "outputs": [
        {
          "output_type": "execute_result",
          "data": {
            "text/plain": [
              "1.2458412569466242"
            ]
          },
          "metadata": {},
          "execution_count": 313
        }
      ]
    },
    {
      "cell_type": "code",
      "source": [
        "map_k(result['als'].values.tolist(), result['actual'].values.tolist())*100"
      ],
      "metadata": {
        "colab": {
          "base_uri": "https://localhost:8080/"
        },
        "id": "Io632YCOKT96",
        "outputId": "4bfee646-2953-44c8-8620-34d1c024c4b5"
      },
      "execution_count": 314,
      "outputs": [
        {
          "output_type": "execute_result",
          "data": {
            "text/plain": [
              "28.68293611927305"
            ]
          },
          "metadata": {},
          "execution_count": 314
        }
      ]
    },
    {
      "cell_type": "code",
      "source": [
        ""
      ],
      "metadata": {
        "id": "Ohq02MiwLg4R"
      },
      "execution_count": 314,
      "outputs": []
    }
  ]
}