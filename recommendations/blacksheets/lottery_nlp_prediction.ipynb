{
 "cells": [
  {
   "cell_type": "code",
   "execution_count": 120,
   "id": "ddc757bb",
   "metadata": {},
   "outputs": [
    {
     "name": "stderr",
     "output_type": "stream",
     "text": [
      "[nltk_data] Downloading package punkt to\n",
      "[nltk_data]     C:\\Users\\Daria\\AppData\\Roaming\\nltk_data...\n",
      "[nltk_data]   Package punkt is already up-to-date!\n"
     ]
    },
    {
     "data": {
      "text/plain": [
       "True"
      ]
     },
     "execution_count": 120,
     "metadata": {},
     "output_type": "execute_result"
    }
   ],
   "source": [
    "import warnings\n",
    "warnings.filterwarnings(\"ignore\")\n",
    "import os, re\n",
    "import copy\n",
    "from typing import Iterable, List\n",
    "from tqdm import tqdm\n",
    "from functools import partial\n",
    "\n",
    "import torch\n",
    "import torch.nn as nn\n",
    "import torch.nn.functional as F\n",
    "from torch.utils.data import Dataset, DataLoader\n",
    "from torchtext.data.utils import get_tokenizer\n",
    "from torch.nn.utils.rnn import pad_sequence\n",
    "from torchtext.vocab import build_vocab_from_iterator\n",
    "\n",
    "from nltk.tokenize import word_tokenize\n",
    "\n",
    "import numpy as np\n",
    "import pandas as pd\n",
    "\n",
    "from sklearn.model_selection import train_test_split\n",
    "\n",
    "import nltk\n",
    "nltk.download('punkt')"
   ]
  },
  {
   "cell_type": "code",
   "execution_count": 2,
   "id": "812bf620",
   "metadata": {},
   "outputs": [],
   "source": [
    "def seed_everything(seed=42):\n",
    "    os.environ[\"PYTHONHASHSEED\"] = str(seed)\n",
    "    np.random.seed(seed)\n",
    "    torch.manual_seed(seed)\n",
    "    torch.cuda.manual_seed(seed)\n",
    "    torch.backends.cudnn.deterministic = True\n",
    "    torch.backends.cudnn.benchmark = True\n",
    "    \n",
    "seed_everything()"
   ]
  },
  {
   "cell_type": "code",
   "execution_count": 3,
   "id": "99013611",
   "metadata": {},
   "outputs": [
    {
     "data": {
      "text/plain": [
       "'cuda'"
      ]
     },
     "execution_count": 3,
     "metadata": {},
     "output_type": "execute_result"
    }
   ],
   "source": [
    "device = \"cuda\" if torch.cuda.is_available() else \"cpu\"\n",
    "device"
   ]
  },
  {
   "cell_type": "code",
   "execution_count": 4,
   "id": "23af417a",
   "metadata": {},
   "outputs": [
    {
     "data": {
      "text/html": [
       "<div>\n",
       "<style scoped>\n",
       "    .dataframe tbody tr th:only-of-type {\n",
       "        vertical-align: middle;\n",
       "    }\n",
       "\n",
       "    .dataframe tbody tr th {\n",
       "        vertical-align: top;\n",
       "    }\n",
       "\n",
       "    .dataframe thead th {\n",
       "        text-align: right;\n",
       "    }\n",
       "</style>\n",
       "<table border=\"1\" class=\"dataframe\">\n",
       "  <thead>\n",
       "    <tr style=\"text-align: right;\">\n",
       "      <th></th>\n",
       "      <th>PLAYER_GATE_ID</th>\n",
       "      <th>GAME_NAME</th>\n",
       "      <th>RAPIDO_IND</th>\n",
       "      <th>ROCKET_IND</th>\n",
       "      <th>V36_IND</th>\n",
       "      <th>ZHL_IND</th>\n",
       "      <th>VIN_IND</th>\n",
       "      <th>VII49_IND</th>\n",
       "      <th>IV20_IND</th>\n",
       "      <th>BIGSPORT_IND</th>\n",
       "      <th>...</th>\n",
       "      <th>RL_IND</th>\n",
       "      <th>DUEL_IND</th>\n",
       "      <th>SPECGAME_IND</th>\n",
       "      <th>RAPIDO2_IND</th>\n",
       "      <th>TOP3_IND</th>\n",
       "      <th>ZABAVA_IND</th>\n",
       "      <th>KENO_IND</th>\n",
       "      <th>BINGO75_IND</th>\n",
       "      <th>VI36_IND</th>\n",
       "      <th>ZP_IND</th>\n",
       "    </tr>\n",
       "  </thead>\n",
       "  <tbody>\n",
       "    <tr>\n",
       "      <th>59477</th>\n",
       "      <td>769957111200</td>\n",
       "      <td>russianlot russianlot russianlot russianlot ru...</td>\n",
       "      <td>0</td>\n",
       "      <td>0</td>\n",
       "      <td>0</td>\n",
       "      <td>0</td>\n",
       "      <td>0</td>\n",
       "      <td>0</td>\n",
       "      <td>0</td>\n",
       "      <td>0</td>\n",
       "      <td>...</td>\n",
       "      <td>1</td>\n",
       "      <td>0</td>\n",
       "      <td>0</td>\n",
       "      <td>0</td>\n",
       "      <td>0</td>\n",
       "      <td>0</td>\n",
       "      <td>0</td>\n",
       "      <td>0</td>\n",
       "      <td>0</td>\n",
       "      <td>0</td>\n",
       "    </tr>\n",
       "    <tr>\n",
       "      <th>378586</th>\n",
       "      <td>9949467400200</td>\n",
       "      <td>russianlot zhilot russianlot zhilot russianlot...</td>\n",
       "      <td>0</td>\n",
       "      <td>0</td>\n",
       "      <td>0</td>\n",
       "      <td>1</td>\n",
       "      <td>0</td>\n",
       "      <td>0</td>\n",
       "      <td>0</td>\n",
       "      <td>0</td>\n",
       "      <td>...</td>\n",
       "      <td>1</td>\n",
       "      <td>0</td>\n",
       "      <td>0</td>\n",
       "      <td>0</td>\n",
       "      <td>0</td>\n",
       "      <td>0</td>\n",
       "      <td>0</td>\n",
       "      <td>0</td>\n",
       "      <td>0</td>\n",
       "      <td>0</td>\n",
       "    </tr>\n",
       "    <tr>\n",
       "      <th>3820</th>\n",
       "      <td>129018900</td>\n",
       "      <td>vin vin vin vin vin vin vin russianlot fourtw ...</td>\n",
       "      <td>0</td>\n",
       "      <td>0</td>\n",
       "      <td>0</td>\n",
       "      <td>0</td>\n",
       "      <td>0</td>\n",
       "      <td>0</td>\n",
       "      <td>1</td>\n",
       "      <td>0</td>\n",
       "      <td>...</td>\n",
       "      <td>0</td>\n",
       "      <td>0</td>\n",
       "      <td>0</td>\n",
       "      <td>0</td>\n",
       "      <td>0</td>\n",
       "      <td>0</td>\n",
       "      <td>0</td>\n",
       "      <td>0</td>\n",
       "      <td>0</td>\n",
       "      <td>0</td>\n",
       "    </tr>\n",
       "    <tr>\n",
       "      <th>249844</th>\n",
       "      <td>5357101464800</td>\n",
       "      <td>rapido rapido rapido vin vin vin vin vin bigsp...</td>\n",
       "      <td>0</td>\n",
       "      <td>0</td>\n",
       "      <td>0</td>\n",
       "      <td>0</td>\n",
       "      <td>1</td>\n",
       "      <td>0</td>\n",
       "      <td>0</td>\n",
       "      <td>0</td>\n",
       "      <td>...</td>\n",
       "      <td>0</td>\n",
       "      <td>0</td>\n",
       "      <td>0</td>\n",
       "      <td>0</td>\n",
       "      <td>0</td>\n",
       "      <td>0</td>\n",
       "      <td>0</td>\n",
       "      <td>0</td>\n",
       "      <td>0</td>\n",
       "      <td>0</td>\n",
       "    </tr>\n",
       "    <tr>\n",
       "      <th>204747</th>\n",
       "      <td>4929104619700</td>\n",
       "      <td>fourtw russianlot russianlot russianlot russia...</td>\n",
       "      <td>1</td>\n",
       "      <td>1</td>\n",
       "      <td>0</td>\n",
       "      <td>1</td>\n",
       "      <td>1</td>\n",
       "      <td>0</td>\n",
       "      <td>1</td>\n",
       "      <td>0</td>\n",
       "      <td>...</td>\n",
       "      <td>1</td>\n",
       "      <td>0</td>\n",
       "      <td>0</td>\n",
       "      <td>1</td>\n",
       "      <td>1</td>\n",
       "      <td>1</td>\n",
       "      <td>0</td>\n",
       "      <td>0</td>\n",
       "      <td>0</td>\n",
       "      <td>1</td>\n",
       "    </tr>\n",
       "  </tbody>\n",
       "</table>\n",
       "<p>5 rows × 21 columns</p>\n",
       "</div>"
      ],
      "text/plain": [
       "        PLAYER_GATE_ID                                          GAME_NAME  \\\n",
       "59477     769957111200  russianlot russianlot russianlot russianlot ru...   \n",
       "378586   9949467400200  russianlot zhilot russianlot zhilot russianlot...   \n",
       "3820         129018900  vin vin vin vin vin vin vin russianlot fourtw ...   \n",
       "249844   5357101464800  rapido rapido rapido vin vin vin vin vin bigsp...   \n",
       "204747   4929104619700  fourtw russianlot russianlot russianlot russia...   \n",
       "\n",
       "        RAPIDO_IND  ROCKET_IND  V36_IND  ZHL_IND  VIN_IND  VII49_IND  \\\n",
       "59477            0           0        0        0        0          0   \n",
       "378586           0           0        0        1        0          0   \n",
       "3820             0           0        0        0        0          0   \n",
       "249844           0           0        0        0        1          0   \n",
       "204747           1           1        0        1        1          0   \n",
       "\n",
       "        IV20_IND  BIGSPORT_IND  ...  RL_IND  DUEL_IND  SPECGAME_IND  \\\n",
       "59477          0             0  ...       1         0             0   \n",
       "378586         0             0  ...       1         0             0   \n",
       "3820           1             0  ...       0         0             0   \n",
       "249844         0             0  ...       0         0             0   \n",
       "204747         1             0  ...       1         0             0   \n",
       "\n",
       "        RAPIDO2_IND  TOP3_IND  ZABAVA_IND  KENO_IND  BINGO75_IND  VI36_IND  \\\n",
       "59477             0         0           0         0            0         0   \n",
       "378586            0         0           0         0            0         0   \n",
       "3820              0         0           0         0            0         0   \n",
       "249844            0         0           0         0            0         0   \n",
       "204747            1         1           1         0            0         0   \n",
       "\n",
       "        ZP_IND  \n",
       "59477        0  \n",
       "378586       0  \n",
       "3820         0  \n",
       "249844       0  \n",
       "204747       1  \n",
       "\n",
       "[5 rows x 21 columns]"
      ]
     },
     "execution_count": 4,
     "metadata": {},
     "output_type": "execute_result"
    }
   ],
   "source": [
    "data = pd.read_csv(\"text_generation.csv\")\n",
    "data.sample(5)"
   ]
  },
  {
   "cell_type": "code",
   "execution_count": 13,
   "id": "edead06a",
   "metadata": {},
   "outputs": [
    {
     "data": {
      "text/plain": [
       "<Axes: >"
      ]
     },
     "execution_count": 13,
     "metadata": {},
     "output_type": "execute_result"
    },
    {
     "data": {
      "image/png": "[encoded data removed]",
      "text/plain": [
       "<Figure size 640x480 with 1 Axes>"
      ]
     },
     "metadata": {},
     "output_type": "display_data"
    }
   ],
   "source": [
    "data[\"GAME_NAME\"].apply(word_tokenize).apply(len).hist(bins=30)"
   ]
  },
  {
   "cell_type": "code",
   "execution_count": 14,
   "id": "46ce9817",
   "metadata": {},
   "outputs": [
    {
     "data": {
      "text/plain": [
       "count    462543.000000\n",
       "mean         31.019871\n",
       "std          38.637366\n",
       "min           3.000000\n",
       "25%           6.000000\n",
       "50%          13.000000\n",
       "75%          37.000000\n",
       "max         129.000000\n",
       "Name: GAME_NAME, dtype: float64"
      ]
     },
     "execution_count": 14,
     "metadata": {},
     "output_type": "execute_result"
    }
   ],
   "source": [
    "data[\"GAME_NAME\"].apply(word_tokenize).apply(len).describe()"
   ]
  },
  {
   "cell_type": "code",
   "execution_count": 5,
   "id": "2fc9d9ec",
   "metadata": {},
   "outputs": [],
   "source": [
    "UNK_IDX, PAD_IDX, BOS_IDX, EOS_IDX = 0, 1, 2, 3\n",
    "special_symbols = [\"<unk>\", \"<pad>\", \"<bos>\", \"<eos>\"]"
   ]
  },
  {
   "cell_type": "code",
   "execution_count": 6,
   "id": "6360a288",
   "metadata": {},
   "outputs": [],
   "source": [
    "def yield_tokens(data_iter):\n",
    "    data_iter = data_iter[\"GAME_NAME\"].values\n",
    "    for data_sample in data_iter:\n",
    "        yield word_tokenize(data_sample)"
   ]
  },
  {
   "cell_type": "code",
   "execution_count": 7,
   "id": "fb6ec6e8",
   "metadata": {},
   "outputs": [],
   "source": [
    "vocab_transform = build_vocab_from_iterator(yield_tokens(data),\n",
    "                                            min_freq=1,\n",
    "                                            specials=special_symbols,\n",
    "                                            special_first=True)"
   ]
  },
  {
   "cell_type": "code",
   "execution_count": 8,
   "id": "02d3daa5",
   "metadata": {},
   "outputs": [],
   "source": [
    "vocab_transform.set_default_index(UNK_IDX)"
   ]
  },
  {
   "cell_type": "code",
   "execution_count": 9,
   "id": "360a4f6b",
   "metadata": {},
   "outputs": [],
   "source": [
    "class TransDataset(Dataset):\n",
    "    def __init__(self, data, is_train=True):\n",
    "        train, test = train_test_split(data, shuffle=True, random_state=42)\n",
    "        if is_train:\n",
    "            self.data = train\n",
    "        else:\n",
    "            self.data = test\n",
    "\n",
    "    def __len__(self):\n",
    "        return len(self.data)\n",
    "    \n",
    "    def __getitem__(self, ix):\n",
    "        text = self.data[\"GAME_NAME\"].iloc[ix]\n",
    "        text = word_tokenize(text)\n",
    "        if len(text) > 127:\n",
    "            text = text[-127:]\n",
    "        source, target = ' '.join(text[1:]), ' '.join(text[:-1])\n",
    "        return source, target\n",
    "\n",
    "    def collate_fn(self, batch):\n",
    "        src_batch, tgt_batch = [], []\n",
    "\n",
    "        for src_sample, tgt_sample in batch:\n",
    "            src_batch.append(text_transform(src_sample))\n",
    "            tgt_batch.append(text_transform(tgt_sample))\n",
    "\n",
    "        src_batch = pad_sequence(src_batch, padding_value=PAD_IDX)  # if error -> pad by: + [PAD_IDX]*(max_len-len(text))\n",
    "        tgt_batch = pad_sequence(tgt_batch, padding_value=PAD_IDX)\n",
    "        return src_batch, tgt_batch"
   ]
  },
  {
   "cell_type": "code",
   "execution_count": 52,
   "id": "b49b8601",
   "metadata": {},
   "outputs": [],
   "source": [
    "# TODO: split text with chunks, so that we increase the number of samples (now we predict next tokens basing on all previous)\n",
    "def get_batch(data: list[str], block_size: int, batch_size: int):\n",
    "    ix = torch.randint(len(data) - block_size, (batch_size,))\n",
    "    x = torch.stack([data[i : i + block_size] for i in ix])\n",
    "    # y is x shifted one position right - because we predict\n",
    "    # word in y having all the previous words as context\n",
    "    y = torch.stack([data[i + 1 : i + block_size + 1] for i in ix])\n",
    "    return x, y"
   ]
  },
  {
   "cell_type": "code",
   "execution_count": 10,
   "id": "3c12dbb9",
   "metadata": {},
   "outputs": [],
   "source": [
    "def sequential_transforms(*transforms):\n",
    "    def func(txt_input):\n",
    "        for transform in transforms:\n",
    "            txt_input = transform(txt_input)\n",
    "        return txt_input\n",
    "    return func\n",
    "\n",
    "def tensor_transform(token_ids: List[int]):\n",
    "    return torch.cat((torch.tensor([BOS_IDX]),\n",
    "                      torch.tensor(token_ids),\n",
    "                      torch.tensor([EOS_IDX])))\n",
    "\n",
    "text_transform = sequential_transforms(word_tokenize,  # Tokenization\n",
    "                                       vocab_transform,  # Numericalization\n",
    "                                       tensor_transform)"
   ]
  },
  {
   "cell_type": "code",
   "execution_count": 11,
   "id": "5b362aa0",
   "metadata": {},
   "outputs": [],
   "source": [
    "batch_size = 32\n",
    "train_ds = TransDataset(data, is_train=True)\n",
    "valid_ds = TransDataset(data, is_train=False)\n",
    "\n",
    "train_dataloader = DataLoader(train_ds, batch_size=batch_size, shuffle=True, collate_fn=train_ds.collate_fn)\n",
    "valid_dataloader = DataLoader(valid_ds, batch_size=batch_size, collate_fn=valid_ds.collate_fn)"
   ]
  },
  {
   "cell_type": "code",
   "execution_count": 12,
   "id": "f8047cb9",
   "metadata": {},
   "outputs": [],
   "source": [
    "class PositionalEncoding(nn.Module):\n",
    "    def __init__(self,\n",
    "                 emb_size: int,\n",
    "                 dropout: float,\n",
    "                 maxlen: int = 5000):\n",
    "        super(PositionalEncoding, self).__init__()\n",
    "        den = torch.exp(-torch.arange(0, emb_size, 2) * np.log(10000) / emb_size)\n",
    "        pos = torch.arange(0, maxlen).reshape(maxlen, 1)\n",
    "        pos_embedding = torch.zeros((maxlen, emb_size))\n",
    "        pos_embedding[:, 0::2] = torch.sin(pos * den)\n",
    "        pos_embedding[:, 1::2] = torch.cos(pos * den)\n",
    "        pos_embedding = pos_embedding.unsqueeze(-2)\n",
    "\n",
    "        self.dropout = nn.Dropout(dropout)\n",
    "        self.register_buffer(\"pos_embedding\", pos_embedding)\n",
    "\n",
    "    def forward(self, token_embedding: torch.Tensor):\n",
    "        return self.dropout(token_embedding + self.pos_embedding[:token_embedding.size(0), :])"
   ]
  },
  {
   "cell_type": "code",
   "execution_count": 13,
   "id": "d5bd53b6",
   "metadata": {},
   "outputs": [],
   "source": [
    "class TokenEmbedding(nn.Module):\n",
    "    def __init__(self, vocab_size: int, emb_size):\n",
    "        super(TokenEmbedding, self).__init__()\n",
    "        self.embedding = nn.Embedding(vocab_size, emb_size)\n",
    "        self.emb_size = emb_size\n",
    "\n",
    "    def forward(self, tokens: torch.Tensor):\n",
    "        return self.embedding(tokens.long()) * np.sqrt(self.emb_size)"
   ]
  },
  {
   "cell_type": "code",
   "execution_count": 14,
   "id": "79c9c56c",
   "metadata": {},
   "outputs": [],
   "source": [
    "def create_trg_mask(size):\n",
    "    np_mask = np.triu(np.ones((1, size, size)), k=1).astype(\"uint8\")\n",
    "    np_mask = (torch.from_numpy(np_mask) == 0.0).to(device)\n",
    "    return np_mask\n",
    "\n",
    "def create_masks(src, trg):\n",
    "    \n",
    "    src_mask = (src != PAD_IDX).unsqueeze(-2)\n",
    "\n",
    "    if trg is not None:\n",
    "        trg_mask = (trg != PAD_IDX).unsqueeze(-2)\n",
    "        size = trg.size(1) \n",
    "        np_mask = create_trg_mask(size)\n",
    "        trg_mask = trg_mask & np_mask\n",
    "    else:\n",
    "        trg_mask = None\n",
    "        \n",
    "    return src_mask, trg_mask"
   ]
  },
  {
   "cell_type": "code",
   "execution_count": 15,
   "id": "b1e43135",
   "metadata": {},
   "outputs": [],
   "source": [
    "def attention(query, key, value, d_model, mask=None, dropout=None):\n",
    "    \n",
    "    scores = torch.einsum(\"... i d , ... j d -> ... i j\", query, key) / np.sqrt(d_model)\n",
    "    \n",
    "    if mask is not None:\n",
    "        mask = mask.unsqueeze(1)\n",
    "        scores = scores.masked_fill(mask == 0, -1e9)  # mask padding\n",
    "    scores = F.softmax(scores, dim=-1)\n",
    "    \n",
    "    if dropout is not None:\n",
    "        scores = dropout(scores)\n",
    "        \n",
    "    output = torch.einsum(\"... i j , ... j d -> ... i d\", scores, value)\n",
    "    \n",
    "    return output"
   ]
  },
  {
   "cell_type": "code",
   "execution_count": 16,
   "id": "7ef61975",
   "metadata": {},
   "outputs": [],
   "source": [
    "class MultiHeadAttention(nn.Module):\n",
    "    def __init__(self, heads, d_model, dropout=0.1):\n",
    "        super(MultiHeadAttention, self).__init__()\n",
    "        \n",
    "        self.d_model = d_model\n",
    "        self.d_k = d_model // heads\n",
    "        self.heads = heads\n",
    "        \n",
    "        self.q_linear = nn.Linear(d_model, d_model, bias=False)\n",
    "        self.v_linear = nn.Linear(d_model, d_model, bias=False)\n",
    "        self.k_linear = nn.Linear(d_model, d_model, bias=False)\n",
    "        self.dropout = nn.Dropout(dropout)\n",
    "        self.out = nn.Linear(d_model, d_model, bias=False)\n",
    "    \n",
    "    def forward(self, q, k, v, mask=None):\n",
    "        \n",
    "        batch_size = q.size(0)\n",
    "\n",
    "        k = self.k_linear(k).view(batch_size, -1, self.heads, self.d_k)\n",
    "        q = self.q_linear(q).view(batch_size, -1, self.heads, self.d_k)\n",
    "        v = self.v_linear(v).view(batch_size, -1, self.heads, self.d_k)\n",
    "               \n",
    "        k = k.transpose(1,2)\n",
    "        q = q.transpose(1,2)\n",
    "        v = v.transpose(1,2)\n",
    "\n",
    "        scores = attention(q, k, v, self.d_k, mask, self.dropout)\n",
    "        \n",
    "        concat = scores.transpose(1,2).contiguous().view(batch_size, -1, self.d_model)\n",
    "        \n",
    "        output = self.out(concat)\n",
    "    \n",
    "        return output"
   ]
  },
  {
   "cell_type": "code",
   "execution_count": 17,
   "id": "de69cf0a",
   "metadata": {},
   "outputs": [],
   "source": [
    "class FeedForward(nn.Module):\n",
    "    def __init__(self, d_model, d_ff=512, dropout=0.1):\n",
    "        super(FeedForward, self).__init__() \n",
    "        self.linear_1 = nn.Linear(d_model, d_ff)\n",
    "        self.dropout = nn.Dropout(dropout)\n",
    "        self.linear_2 = nn.Linear(d_ff, d_model)\n",
    "        \n",
    "    def forward(self, x):\n",
    "        x = self.dropout(F.gelu(self.linear_1(x)))  # or \"gelu\": [x * scipy.stats.norm.cdf(x, loc=0, scale=1)]\n",
    "        x = self.linear_2(x)\n",
    "        return x"
   ]
  },
  {
   "cell_type": "code",
   "execution_count": 18,
   "id": "7ec3f05b",
   "metadata": {},
   "outputs": [],
   "source": [
    "class LayerNorm(nn.Module):\n",
    "    def __init__(self, d_model, eps=1e-6):\n",
    "        super(LayerNorm, self).__init__()\n",
    "    \n",
    "        self.size = d_model\n",
    "        self.alpha = nn.Parameter(torch.ones(self.size))\n",
    "        self.bias = nn.Parameter(torch.zeros(self.size))\n",
    "        self.eps = eps\n",
    "        \n",
    "    def forward(self, x):\n",
    "        norm = self.alpha * (x - x.mean(dim=-1, keepdim=True)) / (x.std(dim=-1, keepdim=True) + self.eps) + self.bias\n",
    "        return norm"
   ]
  },
  {
   "attachments": {
    "image.png": {
     "image/png": "[encoded data removed]"
    }
   },
   "cell_type": "markdown",
   "id": "90884396",
   "metadata": {},
   "source": [
    "![image.png](attachment:image.png)"
   ]
  },
  {
   "cell_type": "code",
   "execution_count": 19,
   "id": "f8600a95",
   "metadata": {},
   "outputs": [],
   "source": [
    "class DecoderLayer(nn.Module):\n",
    "    def __init__(self, d_model, heads, dropout=0.1):\n",
    "        super(DecoderLayer, self).__init__()\n",
    "        self.norm_1 = LayerNorm(d_model)\n",
    "        self.norm_2 = LayerNorm(d_model)\n",
    "        \n",
    "        self.dropout_1 = nn.Dropout(dropout)\n",
    "        self.dropout_2 = nn.Dropout(dropout)\n",
    "        \n",
    "        self.mha = MultiHeadAttention(heads, d_model)\n",
    "        self.ffn = FeedForward(d_model)\n",
    "        \n",
    "    def forward(self, x, trg_mask):  # mask: tgt + pad\n",
    "        x2 = self.norm_1(x)\n",
    "        x = x + self.dropout_1(self.mha(x2, x2, x2, trg_mask))\n",
    "        x2 = self.norm_2(x)\n",
    "        x2 = x2 + self.dropout_2(self.ffn(x2))\n",
    "        return x"
   ]
  },
  {
   "cell_type": "code",
   "execution_count": 20,
   "id": "abe94b9e",
   "metadata": {},
   "outputs": [],
   "source": [
    "def get_n_layers(module, n_layers):\n",
    "    return nn.ModuleList([copy.deepcopy(module) for i in range(n_layers)])"
   ]
  },
  {
   "cell_type": "code",
   "execution_count": 21,
   "id": "37b22ce1",
   "metadata": {},
   "outputs": [],
   "source": [
    "class Decoder(nn.Module):\n",
    "    def __init__(self, vocab_size, d_model, n_layers, heads):\n",
    "        super(Decoder, self).__init__()\n",
    "        self.n_layers = n_layers\n",
    "        self.embedding = TokenEmbedding(vocab_size, d_model)\n",
    "        self.pe = PositionalEncoding(d_model, dropout=0.1)\n",
    "        self.layers = get_n_layers(DecoderLayer(d_model, heads), n_layers)\n",
    "        self.norm = LayerNorm(d_model)\n",
    "        \n",
    "    def forward(self, trg, trg_mask):\n",
    "        x = self.embedding(trg)\n",
    "        x = self.pe(x)\n",
    "        for i in range(self.n_layers):\n",
    "            x = self.layers[i](x, trg_mask)\n",
    "        return self.norm(x)"
   ]
  },
  {
   "cell_type": "code",
   "execution_count": 22,
   "id": "36cc2b09",
   "metadata": {},
   "outputs": [],
   "source": [
    "class Model(nn.Module):\n",
    "    def __init__(self, vocab, d_model, n_layers, heads):\n",
    "        super(Model, self).__init__()\n",
    "        self.decoder = Decoder(vocab, d_model, n_layers, heads)\n",
    "        self.out = nn.Linear(d_model, vocab)\n",
    "        \n",
    "    def forward(self, trg, trg_mask):\n",
    "        decoder_out = self.decoder(trg, trg_mask)\n",
    "        output = self.out(decoder_out)\n",
    "        return output"
   ]
  },
  {
   "cell_type": "code",
   "execution_count": 23,
   "id": "d7c33ae3",
   "metadata": {},
   "outputs": [],
   "source": [
    "class EarlyStopping:\n",
    "    def __init__(self, patience=15, min_delta=0, path=\"model.pth\"):\n",
    "        self.path = path\n",
    "        self.patience = patience\n",
    "        self.min_delta = min_delta\n",
    "        self.counter = 0\n",
    "        self.best_loss = None\n",
    "        self.early_stop = False\n",
    "\n",
    "    def __call__(self, val_loss, model=None):\n",
    "        if self.best_loss is None:\n",
    "            self.best_loss = val_loss\n",
    "        elif self.best_loss - val_loss > self.min_delta:\n",
    "            if model is not None:\n",
    "                checkpoint = {\n",
    "                    \"model\": model,\n",
    "                }\n",
    "                torch.save(checkpoint, self.path)\n",
    "                print(f\"Model saved to: {self.path}\")\n",
    "            self.best_loss = val_loss\n",
    "            self.counter = 0\n",
    "        elif self.best_loss - val_loss < self.min_delta:\n",
    "            self.counter += 1\n",
    "            print(f\"INFO: Early stopping counter {self.counter} of {self.patience}\")\n",
    "            if self.counter >= self.patience:\n",
    "                print(\"INFO: Early stopping\")\n",
    "                self.early_stop = True"
   ]
  },
  {
   "cell_type": "code",
   "execution_count": 24,
   "id": "e3d9741b",
   "metadata": {},
   "outputs": [],
   "source": [
    "vocab = len(vocab_transform)\n",
    "d_model = 128\n",
    "heads = 8\n",
    "batch_size = 32\n",
    "n_layers = 3\n",
    "\n",
    "model = Model(vocab, d_model, n_layers, heads).to(device)\n",
    "early = EarlyStopping(patience=3)"
   ]
  },
  {
   "cell_type": "code",
   "execution_count": 25,
   "id": "2183bccb",
   "metadata": {},
   "outputs": [],
   "source": [
    "for param in model.parameters():\n",
    "    if param.dim() > 1:\n",
    "        nn.init.xavier_uniform_(param)\n",
    "        \n",
    "loss_fn = torch.nn.CrossEntropyLoss(ignore_index=PAD_IDX)\n",
    "optimizer = torch.optim.Adam(model.parameters(), lr=0.0001, betas=(0.9, 0.98), eps=1e-9)\n",
    "scheduler = torch.optim.lr_scheduler.StepLR(optimizer, step_size=10, gamma=.5)"
   ]
  },
  {
   "cell_type": "code",
   "execution_count": 26,
   "id": "65b7be95",
   "metadata": {},
   "outputs": [],
   "source": [
    "# TODO\n",
    "\n",
    "def train_epoch(model, optimizer):\n",
    "    model.train()\n",
    "    losses = 0\n",
    "\n",
    "    for src, tgt in tqdm(train_dataloader, total=len(train_dataloader)):  #  text[1:], text[:-1]\n",
    "        src = src.transpose(0, 1).to(device)\n",
    "        tgt = tgt.transpose(0, 1).to(device)\n",
    "\n",
    "        tgt_out = src.contiguous().view(-1)\n",
    "\n",
    "        _, tgt_mask = create_masks(src, tgt)\n",
    "\n",
    "        logits = model(tgt, tgt_mask)\n",
    "\n",
    "        optimizer.zero_grad()\n",
    "        \n",
    "        loss = loss_fn(logits.reshape(-1, logits.size(-1)), tgt_out)\n",
    "        loss.backward()\n",
    "\n",
    "        optimizer.step()\n",
    "        losses += loss.item()\n",
    "    scheduler.step()\n",
    "    return losses / len(train_dataloader)\n",
    "\n",
    "def evaluate(model):\n",
    "    model.eval()\n",
    "    losses = 0    \n",
    "\n",
    "    for src, tgt in tqdm(valid_dataloader, total=len(valid_dataloader)):\n",
    "        src = src.transpose(0, 1).to(device)\n",
    "        tgt = tgt.transpose(0, 1).to(device)\n",
    "\n",
    "        tgt_out = src.contiguous().view(-1)\n",
    "\n",
    "        _, tgt_mask = create_masks(src, tgt)\n",
    "\n",
    "        logits = model(tgt, tgt_mask)\n",
    "        \n",
    "        loss = loss_fn(logits.reshape(-1, logits.size(-1)), tgt_out)\n",
    "        losses += loss.item()\n",
    "\n",
    "    return losses / len(valid_dataloader)"
   ]
  },
  {
   "cell_type": "code",
   "execution_count": 27,
   "id": "9a788869",
   "metadata": {
    "scrolled": false
   },
   "outputs": [
    {
     "name": "stderr",
     "output_type": "stream",
     "text": [
      "100%|████████████████████████████████████████████████████████████████████████████| 10841/10841 [04:16<00:00, 42.29it/s]\n",
      "100%|██████████████████████████████████████████████████████████████████████████████| 3614/3614 [01:12<00:00, 49.66it/s]\n"
     ]
    },
    {
     "name": "stdout",
     "output_type": "stream",
     "text": [
      "Epoch: 1, Train loss: 1.1254, Val loss: 1.0635\n"
     ]
    },
    {
     "name": "stderr",
     "output_type": "stream",
     "text": [
      "100%|████████████████████████████████████████████████████████████████████████████| 10841/10841 [04:20<00:00, 41.56it/s]\n",
      "100%|██████████████████████████████████████████████████████████████████████████████| 3614/3614 [01:21<00:00, 44.39it/s]\n"
     ]
    },
    {
     "name": "stdout",
     "output_type": "stream",
     "text": [
      "Epoch: 2, Train loss: 1.0732, Val loss: 1.0546\n",
      "Model saved to: model.pth\n"
     ]
    },
    {
     "name": "stderr",
     "output_type": "stream",
     "text": [
      "100%|████████████████████████████████████████████████████████████████████████████| 10841/10841 [04:35<00:00, 39.33it/s]\n",
      "100%|██████████████████████████████████████████████████████████████████████████████| 3614/3614 [01:16<00:00, 47.39it/s]\n"
     ]
    },
    {
     "name": "stdout",
     "output_type": "stream",
     "text": [
      "Epoch: 3, Train loss: 1.0637, Val loss: 1.0493\n",
      "Model saved to: model.pth\n"
     ]
    },
    {
     "name": "stderr",
     "output_type": "stream",
     "text": [
      "100%|████████████████████████████████████████████████████████████████████████████| 10841/10841 [04:28<00:00, 40.42it/s]\n",
      "100%|██████████████████████████████████████████████████████████████████████████████| 3614/3614 [01:16<00:00, 47.02it/s]\n"
     ]
    },
    {
     "name": "stdout",
     "output_type": "stream",
     "text": [
      "Epoch: 4, Train loss: 1.0586, Val loss: 1.0468\n",
      "Model saved to: model.pth\n"
     ]
    },
    {
     "name": "stderr",
     "output_type": "stream",
     "text": [
      "100%|████████████████████████████████████████████████████████████████████████████| 10841/10841 [04:28<00:00, 40.34it/s]\n",
      "100%|██████████████████████████████████████████████████████████████████████████████| 3614/3614 [01:16<00:00, 47.43it/s]\n"
     ]
    },
    {
     "name": "stdout",
     "output_type": "stream",
     "text": [
      "Epoch: 5, Train loss: 1.0560, Val loss: 1.0463\n",
      "Model saved to: model.pth\n"
     ]
    },
    {
     "name": "stderr",
     "output_type": "stream",
     "text": [
      "100%|████████████████████████████████████████████████████████████████████████████| 10841/10841 [04:28<00:00, 40.31it/s]\n",
      "100%|██████████████████████████████████████████████████████████████████████████████| 3614/3614 [01:18<00:00, 46.30it/s]\n"
     ]
    },
    {
     "name": "stdout",
     "output_type": "stream",
     "text": [
      "Epoch: 6, Train loss: 1.0531, Val loss: 1.0438\n",
      "Model saved to: model.pth\n"
     ]
    },
    {
     "name": "stderr",
     "output_type": "stream",
     "text": [
      "100%|████████████████████████████████████████████████████████████████████████████| 10841/10841 [04:30<00:00, 40.05it/s]\n",
      "100%|██████████████████████████████████████████████████████████████████████████████| 3614/3614 [01:17<00:00, 46.58it/s]\n"
     ]
    },
    {
     "name": "stdout",
     "output_type": "stream",
     "text": [
      "Epoch: 7, Train loss: 1.0512, Val loss: 1.0443\n",
      "INFO: Early stopping counter 1 of 3\n"
     ]
    },
    {
     "name": "stderr",
     "output_type": "stream",
     "text": [
      "100%|████████████████████████████████████████████████████████████████████████████| 10841/10841 [04:26<00:00, 40.71it/s]\n",
      "100%|██████████████████████████████████████████████████████████████████████████████| 3614/3614 [01:16<00:00, 47.49it/s]\n"
     ]
    },
    {
     "name": "stdout",
     "output_type": "stream",
     "text": [
      "Epoch: 8, Train loss: 1.0492, Val loss: 1.0405\n",
      "Model saved to: model.pth\n"
     ]
    },
    {
     "name": "stderr",
     "output_type": "stream",
     "text": [
      "100%|████████████████████████████████████████████████████████████████████████████| 10841/10841 [04:25<00:00, 40.87it/s]\n",
      "100%|██████████████████████████████████████████████████████████████████████████████| 3614/3614 [01:15<00:00, 47.58it/s]\n"
     ]
    },
    {
     "name": "stdout",
     "output_type": "stream",
     "text": [
      "Epoch: 9, Train loss: 1.0483, Val loss: 1.0417\n",
      "INFO: Early stopping counter 1 of 3\n"
     ]
    },
    {
     "name": "stderr",
     "output_type": "stream",
     "text": [
      "100%|████████████████████████████████████████████████████████████████████████████| 10841/10841 [04:25<00:00, 40.89it/s]\n",
      "100%|██████████████████████████████████████████████████████████████████████████████| 3614/3614 [01:16<00:00, 47.28it/s]\n"
     ]
    },
    {
     "name": "stdout",
     "output_type": "stream",
     "text": [
      "Epoch: 10, Train loss: 1.0478, Val loss: 1.0396\n",
      "Model saved to: model.pth\n"
     ]
    },
    {
     "name": "stderr",
     "output_type": "stream",
     "text": [
      "100%|████████████████████████████████████████████████████████████████████████████| 10841/10841 [04:26<00:00, 40.74it/s]\n",
      "100%|██████████████████████████████████████████████████████████████████████████████| 3614/3614 [01:16<00:00, 47.33it/s]\n"
     ]
    },
    {
     "name": "stdout",
     "output_type": "stream",
     "text": [
      "Epoch: 11, Train loss: 1.0453, Val loss: 1.0359\n",
      "Model saved to: model.pth\n"
     ]
    },
    {
     "name": "stderr",
     "output_type": "stream",
     "text": [
      "100%|████████████████████████████████████████████████████████████████████████████| 10841/10841 [04:25<00:00, 40.86it/s]\n",
      "100%|██████████████████████████████████████████████████████████████████████████████| 3614/3614 [01:16<00:00, 47.41it/s]\n"
     ]
    },
    {
     "name": "stdout",
     "output_type": "stream",
     "text": [
      "Epoch: 12, Train loss: 1.0450, Val loss: 1.0408\n",
      "INFO: Early stopping counter 1 of 3\n"
     ]
    },
    {
     "name": "stderr",
     "output_type": "stream",
     "text": [
      "100%|████████████████████████████████████████████████████████████████████████████| 10841/10841 [04:25<00:00, 40.80it/s]\n",
      "100%|██████████████████████████████████████████████████████████████████████████████| 3614/3614 [01:15<00:00, 47.61it/s]\n"
     ]
    },
    {
     "name": "stdout",
     "output_type": "stream",
     "text": [
      "Epoch: 13, Train loss: 1.0447, Val loss: 1.0362\n",
      "INFO: Early stopping counter 2 of 3\n"
     ]
    },
    {
     "name": "stderr",
     "output_type": "stream",
     "text": [
      "100%|████████████████████████████████████████████████████████████████████████████| 10841/10841 [04:25<00:00, 40.80it/s]\n",
      "100%|██████████████████████████████████████████████████████████████████████████████| 3614/3614 [01:16<00:00, 47.27it/s]\n"
     ]
    },
    {
     "name": "stdout",
     "output_type": "stream",
     "text": [
      "Epoch: 14, Train loss: 1.0436, Val loss: 1.0356\n",
      "Model saved to: model.pth\n"
     ]
    },
    {
     "name": "stderr",
     "output_type": "stream",
     "text": [
      "100%|████████████████████████████████████████████████████████████████████████████| 10841/10841 [04:25<00:00, 40.77it/s]\n",
      "100%|██████████████████████████████████████████████████████████████████████████████| 3614/3614 [01:16<00:00, 47.11it/s]\n"
     ]
    },
    {
     "name": "stdout",
     "output_type": "stream",
     "text": [
      "Epoch: 15, Train loss: 1.0441, Val loss: 1.0350\n",
      "Model saved to: model.pth\n"
     ]
    },
    {
     "name": "stderr",
     "output_type": "stream",
     "text": [
      "100%|████████████████████████████████████████████████████████████████████████████| 10841/10841 [04:25<00:00, 40.81it/s]\n",
      "100%|██████████████████████████████████████████████████████████████████████████████| 3614/3614 [01:16<00:00, 47.27it/s]\n"
     ]
    },
    {
     "name": "stdout",
     "output_type": "stream",
     "text": [
      "Epoch: 16, Train loss: 1.0434, Val loss: 1.0371\n",
      "INFO: Early stopping counter 1 of 3\n"
     ]
    },
    {
     "name": "stderr",
     "output_type": "stream",
     "text": [
      "100%|████████████████████████████████████████████████████████████████████████████| 10841/10841 [04:25<00:00, 40.84it/s]\n",
      "100%|██████████████████████████████████████████████████████████████████████████████| 3614/3614 [01:16<00:00, 47.25it/s]\n"
     ]
    },
    {
     "name": "stdout",
     "output_type": "stream",
     "text": [
      "Epoch: 17, Train loss: 1.0426, Val loss: 1.0348\n",
      "Model saved to: model.pth\n"
     ]
    },
    {
     "name": "stderr",
     "output_type": "stream",
     "text": [
      "100%|████████████████████████████████████████████████████████████████████████████| 10841/10841 [04:25<00:00, 40.78it/s]\n",
      "100%|██████████████████████████████████████████████████████████████████████████████| 3614/3614 [01:16<00:00, 47.19it/s]\n"
     ]
    },
    {
     "name": "stdout",
     "output_type": "stream",
     "text": [
      "Epoch: 18, Train loss: 1.0431, Val loss: 1.0353\n",
      "INFO: Early stopping counter 1 of 3\n"
     ]
    },
    {
     "name": "stderr",
     "output_type": "stream",
     "text": [
      "100%|████████████████████████████████████████████████████████████████████████████| 10841/10841 [04:25<00:00, 40.82it/s]\n",
      "100%|██████████████████████████████████████████████████████████████████████████████| 3614/3614 [01:16<00:00, 47.28it/s]\n"
     ]
    },
    {
     "name": "stdout",
     "output_type": "stream",
     "text": [
      "Epoch: 19, Train loss: 1.0419, Val loss: 1.0343\n",
      "Model saved to: model.pth\n"
     ]
    },
    {
     "name": "stderr",
     "output_type": "stream",
     "text": [
      "100%|████████████████████████████████████████████████████████████████████████████| 10841/10841 [04:25<00:00, 40.81it/s]\n",
      "100%|██████████████████████████████████████████████████████████████████████████████| 3614/3614 [01:16<00:00, 47.32it/s]\n"
     ]
    },
    {
     "name": "stdout",
     "output_type": "stream",
     "text": [
      "Epoch: 20, Train loss: 1.0423, Val loss: 1.0338\n",
      "Model saved to: model.pth\n"
     ]
    },
    {
     "name": "stderr",
     "output_type": "stream",
     "text": [
      "100%|████████████████████████████████████████████████████████████████████████████| 10841/10841 [04:26<00:00, 40.69it/s]\n",
      "100%|██████████████████████████████████████████████████████████████████████████████| 3614/3614 [01:16<00:00, 47.12it/s]\n"
     ]
    },
    {
     "name": "stdout",
     "output_type": "stream",
     "text": [
      "Epoch: 21, Train loss: 1.0415, Val loss: 1.0334\n",
      "Model saved to: model.pth\n"
     ]
    },
    {
     "name": "stderr",
     "output_type": "stream",
     "text": [
      "100%|████████████████████████████████████████████████████████████████████████████| 10841/10841 [04:26<00:00, 40.64it/s]\n",
      "100%|██████████████████████████████████████████████████████████████████████████████| 3614/3614 [01:16<00:00, 47.26it/s]\n"
     ]
    },
    {
     "name": "stdout",
     "output_type": "stream",
     "text": [
      "Epoch: 22, Train loss: 1.0412, Val loss: 1.0349\n",
      "INFO: Early stopping counter 1 of 3\n"
     ]
    },
    {
     "name": "stderr",
     "output_type": "stream",
     "text": [
      "100%|████████████████████████████████████████████████████████████████████████████| 10841/10841 [04:27<00:00, 40.58it/s]\n",
      "100%|██████████████████████████████████████████████████████████████████████████████| 3614/3614 [01:16<00:00, 47.15it/s]\n"
     ]
    },
    {
     "name": "stdout",
     "output_type": "stream",
     "text": [
      "Epoch: 23, Train loss: 1.0402, Val loss: 1.0329\n",
      "Model saved to: model.pth\n"
     ]
    },
    {
     "name": "stderr",
     "output_type": "stream",
     "text": [
      "100%|████████████████████████████████████████████████████████████████████████████| 10841/10841 [04:27<00:00, 40.47it/s]\n",
      "100%|██████████████████████████████████████████████████████████████████████████████| 3614/3614 [01:17<00:00, 46.59it/s]\n"
     ]
    },
    {
     "name": "stdout",
     "output_type": "stream",
     "text": [
      "Epoch: 24, Train loss: 1.0401, Val loss: 1.0329\n",
      "Model saved to: model.pth\n"
     ]
    },
    {
     "name": "stderr",
     "output_type": "stream",
     "text": [
      "100%|████████████████████████████████████████████████████████████████████████████| 10841/10841 [04:27<00:00, 40.59it/s]\n",
      "100%|██████████████████████████████████████████████████████████████████████████████| 3614/3614 [01:16<00:00, 47.19it/s]\n"
     ]
    },
    {
     "name": "stdout",
     "output_type": "stream",
     "text": [
      "Epoch: 25, Train loss: 1.0401, Val loss: 1.0328\n",
      "Model saved to: model.pth\n"
     ]
    },
    {
     "name": "stderr",
     "output_type": "stream",
     "text": [
      "100%|████████████████████████████████████████████████████████████████████████████| 10841/10841 [04:26<00:00, 40.65it/s]\n",
      "100%|██████████████████████████████████████████████████████████████████████████████| 3614/3614 [01:16<00:00, 47.16it/s]\n"
     ]
    },
    {
     "name": "stdout",
     "output_type": "stream",
     "text": [
      "Epoch: 26, Train loss: 1.0396, Val loss: 1.0329\n",
      "INFO: Early stopping counter 1 of 3\n"
     ]
    },
    {
     "name": "stderr",
     "output_type": "stream",
     "text": [
      "100%|████████████████████████████████████████████████████████████████████████████| 10841/10841 [04:25<00:00, 40.76it/s]\n",
      "100%|██████████████████████████████████████████████████████████████████████████████| 3614/3614 [01:16<00:00, 47.14it/s]\n"
     ]
    },
    {
     "name": "stdout",
     "output_type": "stream",
     "text": [
      "Epoch: 27, Train loss: 1.0397, Val loss: 1.0331\n",
      "INFO: Early stopping counter 2 of 3\n"
     ]
    },
    {
     "name": "stderr",
     "output_type": "stream",
     "text": [
      "100%|████████████████████████████████████████████████████████████████████████████| 10841/10841 [04:26<00:00, 40.64it/s]\n",
      "100%|██████████████████████████████████████████████████████████████████████████████| 3614/3614 [01:16<00:00, 46.98it/s]\n"
     ]
    },
    {
     "name": "stdout",
     "output_type": "stream",
     "text": [
      "Epoch: 28, Train loss: 1.0400, Val loss: 1.0326\n",
      "Model saved to: model.pth\n"
     ]
    },
    {
     "name": "stderr",
     "output_type": "stream",
     "text": [
      "100%|████████████████████████████████████████████████████████████████████████████| 10841/10841 [04:26<00:00, 40.69it/s]\n",
      "100%|██████████████████████████████████████████████████████████████████████████████| 3614/3614 [01:16<00:00, 47.05it/s]\n"
     ]
    },
    {
     "name": "stdout",
     "output_type": "stream",
     "text": [
      "Epoch: 29, Train loss: 1.0395, Val loss: 1.0326\n",
      "INFO: Early stopping counter 1 of 3\n"
     ]
    },
    {
     "name": "stderr",
     "output_type": "stream",
     "text": [
      "100%|████████████████████████████████████████████████████████████████████████████| 10841/10841 [04:26<00:00, 40.62it/s]\n",
      "100%|██████████████████████████████████████████████████████████████████████████████| 3614/3614 [01:16<00:00, 46.98it/s]\n"
     ]
    },
    {
     "name": "stdout",
     "output_type": "stream",
     "text": [
      "Epoch: 30, Train loss: 1.0399, Val loss: 1.0323\n",
      "Model saved to: model.pth\n"
     ]
    },
    {
     "name": "stderr",
     "output_type": "stream",
     "text": [
      "100%|████████████████████████████████████████████████████████████████████████████| 10841/10841 [04:26<00:00, 40.66it/s]\n",
      "100%|██████████████████████████████████████████████████████████████████████████████| 3614/3614 [01:17<00:00, 46.87it/s]\n"
     ]
    },
    {
     "name": "stdout",
     "output_type": "stream",
     "text": [
      "Epoch: 31, Train loss: 1.0392, Val loss: 1.0323\n",
      "Model saved to: model.pth\n"
     ]
    },
    {
     "name": "stderr",
     "output_type": "stream",
     "text": [
      "100%|████████████████████████████████████████████████████████████████████████████| 10841/10841 [04:27<00:00, 40.53it/s]\n",
      "100%|██████████████████████████████████████████████████████████████████████████████| 3614/3614 [01:16<00:00, 47.04it/s]\n"
     ]
    },
    {
     "name": "stdout",
     "output_type": "stream",
     "text": [
      "Epoch: 32, Train loss: 1.0389, Val loss: 1.0319\n",
      "Model saved to: model.pth\n"
     ]
    },
    {
     "name": "stderr",
     "output_type": "stream",
     "text": [
      "100%|████████████████████████████████████████████████████████████████████████████| 10841/10841 [04:26<00:00, 40.64it/s]\n",
      "100%|██████████████████████████████████████████████████████████████████████████████| 3614/3614 [01:16<00:00, 47.16it/s]\n"
     ]
    },
    {
     "name": "stdout",
     "output_type": "stream",
     "text": [
      "Epoch: 33, Train loss: 1.0390, Val loss: 1.0320\n",
      "INFO: Early stopping counter 1 of 3\n"
     ]
    },
    {
     "name": "stderr",
     "output_type": "stream",
     "text": [
      "100%|████████████████████████████████████████████████████████████████████████████| 10841/10841 [04:26<00:00, 40.64it/s]\n",
      "100%|██████████████████████████████████████████████████████████████████████████████| 3614/3614 [01:16<00:00, 47.10it/s]\n"
     ]
    },
    {
     "name": "stdout",
     "output_type": "stream",
     "text": [
      "Epoch: 34, Train loss: 1.0390, Val loss: 1.0331\n",
      "INFO: Early stopping counter 2 of 3\n"
     ]
    },
    {
     "name": "stderr",
     "output_type": "stream",
     "text": [
      "100%|████████████████████████████████████████████████████████████████████████████| 10841/10841 [04:26<00:00, 40.66it/s]\n",
      "100%|██████████████████████████████████████████████████████████████████████████████| 3614/3614 [01:17<00:00, 46.87it/s]"
     ]
    },
    {
     "name": "stdout",
     "output_type": "stream",
     "text": [
      "Epoch: 35, Train loss: 1.0385, Val loss: 1.0320\n",
      "INFO: Early stopping counter 3 of 3\n",
      "INFO: Early stopping\n"
     ]
    },
    {
     "name": "stderr",
     "output_type": "stream",
     "text": [
      "\n"
     ]
    }
   ],
   "source": [
    "NUM_EPOCHS = 50\n",
    "        \n",
    "for epoch in range(1, NUM_EPOCHS+1):\n",
    "    train_loss = train_epoch(model, optimizer)\n",
    "    val_loss = evaluate(model)\n",
    "    print((f\"Epoch: {epoch}, Train loss: {train_loss:.4f}, Val loss: {val_loss:.4f}\"))\n",
    "    early(val_loss, model)\n",
    "    if early.early_stop:\n",
    "        break"
   ]
  },
  {
   "cell_type": "code",
   "execution_count": 32,
   "id": "fa010e79",
   "metadata": {},
   "outputs": [],
   "source": [
    "model = torch.load(\"model.pth\")[\"model\"].to(device)"
   ]
  },
  {
   "cell_type": "code",
   "execution_count": 92,
   "id": "ab087991",
   "metadata": {},
   "outputs": [],
   "source": [
    "# TODO: give context [few first tokens] - start_symbols - tokenized inputs, add temperature\n",
    "def greedy_decode(model, start_symbols, max_len=50, temperature=1.0, greedy=True, topk=3):\n",
    "    ys = torch.LongTensor(start_symbols).to(device)\n",
    "\n",
    "    for i in range(max_len-1):\n",
    "        tgt_mask = create_trg_mask(ys.size(1)).type(torch.bool)\n",
    "        output = model.decoder(ys, tgt_mask)\n",
    "        prob = model.out(output[:, -1])\n",
    "        prob = torch.exp(prob/temperature) / torch.sum(torch.exp(prob/temperature))\n",
    "        if greedy:\n",
    "            _, next_word = torch.max(prob, dim=1)\n",
    "            next_word = next_word.item()\n",
    "        else:\n",
    "            next_words = torch.topk(prob, topk, dim=1).indices\n",
    "            next_words = next_words.detach().cpu().numpy()\n",
    "            next_word = int(np.random.choice(next_words.ravel()))\n",
    "        if next_word == EOS_IDX:\n",
    "            break\n",
    "        ys = torch.cat([ys, torch.ones(1, 1).type_as(ys.data).fill_(next_word)], dim=1)\n",
    "\n",
    "    return ys[:, start_symbols.size(1):]  # sequence of predictions, a tensor of integers"
   ]
  },
  {
   "cell_type": "code",
   "execution_count": 116,
   "id": "577d2a65",
   "metadata": {},
   "outputs": [],
   "source": [
    "@torch.no_grad()\n",
    "def predict(text, model, max_len=50, temperature=1.0, greedy=True, topk=3, unique=True):  # text latest sales history\n",
    "    model.eval()\n",
    "    \n",
    "    start_symbols = text_transform(text)[:-1].view(-1, 1)\n",
    "    start_symbols = start_symbols.transpose(0, 1)\n",
    "\n",
    "    tgt_tokens = greedy_decode(model, \n",
    "                               start_symbols, \n",
    "                               max_len=max_len, \n",
    "                               temperature=temperature, \n",
    "                               greedy=greedy, \n",
    "                               topk=topk).flatten()\n",
    "    result = \" \".join(vocab_transform.lookup_tokens(list(tgt_tokens.cpu().numpy())))\n",
    "    if unique:\n",
    "        output = []\n",
    "        result = result.split()\n",
    "        for res in result:\n",
    "            if res in output:\n",
    "                continue\n",
    "            output.append(res)\n",
    "            if len(output) == 3:\n",
    "                return \" \".join(output)\n",
    "    return result"
   ]
  },
  {
   "cell_type": "code",
   "execution_count": 117,
   "id": "c7eb77ca",
   "metadata": {},
   "outputs": [
    {
     "data": {
      "text/plain": [
       "'fourtw russianlot sixff'"
      ]
     },
     "execution_count": 117,
     "metadata": {},
     "output_type": "execute_result"
    }
   ],
   "source": [
    "predict(\"fourtw sixff russianlot\", model, temperature=10, greedy=False)"
   ]
  },
  {
   "cell_type": "code",
   "execution_count": 49,
   "id": "18a07d27",
   "metadata": {},
   "outputs": [
    {
     "data": {
      "text/plain": [
       "'sixff sixff sixff sixff sixff sixff sixff sixff sixff sixff sixff sixff sixff sixff sixff sixff sixff sixff sixff sixff sixff sixff sixff sixff sixff sixff sixff sixff sixff sixff sixff sixff sixff sixff sixff sixff sixff sixff sixff sixff sixff sixff sixff sixff sixff sixff sixff sixff sixff'"
      ]
     },
     "execution_count": 49,
     "metadata": {},
     "output_type": "execute_result"
    }
   ],
   "source": [
    "predict(\"fourtw sixff russianlot sixff\", model, greedy=True)"
   ]
  },
  {
   "cell_type": "code",
   "execution_count": 137,
   "id": "c037dfea",
   "metadata": {},
   "outputs": [],
   "source": [
    "test_data = valid_ds.data.sample(5000).copy(deep=True)"
   ]
  },
  {
   "cell_type": "code",
   "execution_count": 138,
   "id": "b5ddea87",
   "metadata": {
    "scrolled": false
   },
   "outputs": [],
   "source": [
    "test_data[\"recs\"] = test_data[\"GAME_NAME\"].apply(partial(predict, model=model, temperature=10, max_len=5, greedy=False))"
   ]
  },
  {
   "cell_type": "code",
   "execution_count": 139,
   "id": "2db93593",
   "metadata": {},
   "outputs": [
    {
     "name": "stdout",
     "output_type": "stream",
     "text": [
      "0.3425490196078431\n"
     ]
    }
   ],
   "source": [
    "test_data.columns = [\"PLAYER_GATE_ID\", \"GAME_NAME\", \"rapido\", \"rocket\", \"fivets\", \"zhilot\", \"vin\", \"sevenfn\", \"fourtw\",\n",
    "                     \"bigsport\", \"sixff\", \"russianlot\", \"duel\", \"specgame\", \"rapidotwo\", \"topthree\", \"zabava\", \"keno\", \n",
    "                     \"bingosf\", \"sixts\", \"goldenpod\", \"recs\"]\n",
    "\n",
    "target_cols = [\"rapido\", \"rocket\", \"fivets\", \"zhilot\", \"vin\", \"sevenfn\", \"fourtw\", \"bigsport\", \"sixff\", \"russianlot\", \"duel\", \n",
    "               \"specgame\", \"rapidotwo\", \"topthree\", \"zabava\", \"keno\", \"bingosf\", \"sixts\", \"goldenpod\"]\n",
    "\n",
    "metrics = []\n",
    "for ix, row in test_data.iterrows():\n",
    "    positive = row[target_cols]\n",
    "    positive = positive[positive == 1].index\n",
    "    for i, pred in enumerate(row[\"recs\"]):\n",
    "        if pred in positive:\n",
    "            metrics.append(1)\n",
    "            break\n",
    "        elif i == 2:\n",
    "            metrics.append(0)\n",
    "            \n",
    "print(np.mean(metrics))"
   ]
  }
 ],
 "metadata": {
  "kernelspec": {
   "display_name": "Python 3 (ipykernel)",
   "language": "python",
   "name": "python3"
  },
  "language_info": {
   "codemirror_mode": {
    "name": "ipython",
    "version": 3
   },
   "file_extension": ".py",
   "mimetype": "text/x-python",
   "name": "python",
   "nbconvert_exporter": "python",
   "pygments_lexer": "ipython3",
   "version": "3.9.16"
  }
 },
 "nbformat": 4,
 "nbformat_minor": 5
}
