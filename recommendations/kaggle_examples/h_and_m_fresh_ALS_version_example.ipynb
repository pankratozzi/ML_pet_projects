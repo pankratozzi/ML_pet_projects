{
 "cells": [
  {
   "cell_type": "markdown",
   "id": "316ddcec",
   "metadata": {
    "papermill": {
     "duration": 0.01778,
     "end_time": "2022-02-18T17:09:39.762770",
     "exception": false,
     "start_time": "2022-02-18T17:09:39.744990",
     "status": "completed"
    },
    "tags": []
   },
   "source": [
    "# H&M - Implicit ALS model\n",
    "![](https://storage.googleapis.com/kaggle-competitions/kaggle/31254/logos/header.png)\n",
    "\n",
    "## Implicit ALS base model for the competition [H&M Personalized Fashion Recommendations](https://www.kaggle.com/c/h-and-m-personalized-fashion-recommendations).\n",
    "\n",
    "\n",
    "[Implicit](https://github.com/benfred/implicit/) is a library for recommender models. In theory, it supports GPU out-of-the-box, but I haven't tried it yet.\n",
    "\n",
    "In this notebook we use ALS (Alternating Least Squares), but the library supports a lot of other models with not many changes.\n",
    "\n",
    "ALS is one of the most used ML models for recommender systems. It's a matrix factorization method based on SVD (it's actually an approximated, numerical version of SVD). Basically, ALS factorizes the interaction matrix (user x items) into two smaller matrices, one for item embeddings and one for user embeddings. These new matrices are built in a manner such that the multiplication of a user and an item gives (approximately) it's interaction score. This build embeddings for items and for users that live in the same vector space, allowing the implementation of recommendations as simple cosine distances between users and items. This is, the 12 items we recommend for a given user are the 12 items with their embedding vectors closer to the user embedding vector.\n",
    "\n",
    "There are a lot of online resources explaining it. For example, [here](https://towardsdatascience.com/prototyping-a-recommender-system-step-by-step-part-2-alternating-least-square-als-matrix-4a76c58714a1).\n",
    "\n",
    "\n",
    "Be aware that there was a breaking API change in a recent release of implicit (11 days ago): https://github.com/benfred/implicit/releases/tag/v0.5.0 so some thing in the documentation are off if you use the version that comes installed in the Kaggle environments. Anyway, this competition doesn't forbid Internet usage, so upgrading the package to its latest version fixes all.\n",
    "\n",
    "\n",
    "---\n",
    "\n",
    "**I have reverted the kernet to version 14 with a score of `0.014` for now. The scores above `0.014` are using the `0.02` model by Heng Zheng as the fallback strategy for cold-start users. Therefore, a `0.018` score is actually bad. I did those version with the hope that they would work nicely together, obtaining `>0.02`. Since it was not the case, reporting a `0.018` score is not accurate at all.**\n",
    "\n",
    "If I can obtain a score that surpasses the `0.02`, using ALS + Heng's baseline, I will roll back to those versions again.\n",
    "\n",
    "\n",
    "# Please, _DO_ upvote if you find this kernel useful or interesting!"
   ]
  },
  {
   "cell_type": "markdown",
   "id": "f52529f5",
   "metadata": {
    "papermill": {
     "duration": 0.016486,
     "end_time": "2022-02-18T17:09:39.796126",
     "exception": false,
     "start_time": "2022-02-18T17:09:39.779640",
     "status": "completed"
    },
    "tags": []
   },
   "source": [
    "# Imports"
   ]
  },
  {
   "cell_type": "code",
   "execution_count": 1,
   "id": "5f586c67",
   "metadata": {
    "execution": {
     "iopub.execute_input": "2022-02-18T17:09:39.841744Z",
     "iopub.status.busy": "2022-02-18T17:09:39.840933Z",
     "iopub.status.idle": "2022-02-18T17:27:33.864810Z",
     "shell.execute_reply": "2022-02-18T17:27:33.865309Z",
     "shell.execute_reply.started": "2022-02-08T23:03:41.915645Z"
    },
    "papermill": {
     "duration": 1074.052903,
     "end_time": "2022-02-18T17:27:33.865615",
     "exception": false,
     "start_time": "2022-02-18T17:09:39.812712",
     "status": "completed"
    },
    "tags": []
   },
   "outputs": [
    {
     "name": "stdout",
     "output_type": "stream",
     "text": [
      "Requirement already satisfied: implicit in /opt/conda/lib/python3.7/site-packages (0.4.4)\r\n",
      "Collecting implicit\r\n",
      "  Downloading implicit-0.5.2.tar.gz (71 kB)\r\n",
      "     |████████████████████████████████| 71 kB 945 kB/s            \r\n",
      "\u001b[?25h  Installing build dependencies ... \u001b[?25l-\b \b\\\b \b|\b \b/\b \b-\b \b\\\b \b|\b \b/\b \b-\b \b\\\b \b|\b \b/\b \b-\b \b\\\b \b|\b \bdone\r\n",
      "\u001b[?25h  Getting requirements to build wheel ... \u001b[?25l-\b \b\\\b \bdone\r\n",
      "\u001b[?25h  Installing backend dependencies ... \u001b[?25l-\b \b\\\b \b|\b \b/\b \bdone\r\n",
      "\u001b[?25h  Preparing metadata (pyproject.toml) ... \u001b[?25l-\b \b\\\b \bdone\r\n",
      "\u001b[?25hRequirement already satisfied: numpy in /opt/conda/lib/python3.7/site-packages (from implicit) (1.20.3)\r\n",
      "Requirement already satisfied: tqdm>=4.27 in /opt/conda/lib/python3.7/site-packages (from implicit) (4.62.3)\r\n",
      "Requirement already satisfied: scipy>=0.16 in /opt/conda/lib/python3.7/site-packages (from implicit) (1.7.3)\r\n",
      "Building wheels for collected packages: implicit\r\n",
      "  Building wheel for implicit (pyproject.toml) ... \u001b[?25l-\b \b\\\b \b|\b \b/\b \b-\b \b\\\b \b|\b \b/\b \b-\b \b\\\b \b|\b \b/\b \b-\b \b\\\b \b|\b \b/\b \b-\b \b\\\b \b|\b \b/\b \b-\b \b\\\b \b|\b \b/\b \b-\b \b\\\b \b|\b \b/\b \b-\b \b\\\b \b|\b \b/\b \b-\b \b\\\b \b|\b \b/\b \b-\b \b\\\b \b|\b \b/\b \b-\b \b\\\b \b|\b \b/\b \b-\b \b\\\b \b|\b \b/\b \b-\b \b\\\b \b|\b \b/\b \b-\b \b\\\b \b|\b \b/\b \b-\b \b\\\b \b|\b \b/\b \b-\b \b\\\b \b|\b \b/\b \b-\b \b\\\b \b|\b \bdone\r\n",
      "\u001b[?25h  Created wheel for implicit: filename=implicit-0.5.2-cp37-cp37m-linux_x86_64.whl size=14448954 sha256=3c54c216e93d929736ba8457fb3f99e0230da98831599844eb813eeb91518cc0\r\n",
      "  Stored in directory: /root/.cache/pip/wheels/3e/2c/6c/dddd8ae30a31d65c3287d074cd9c6f5af31b9819ec56607384\r\n",
      "Successfully built implicit\r\n",
      "Installing collected packages: implicit\r\n",
      "  Attempting uninstall: implicit\r\n",
      "    Found existing installation: implicit 0.4.4\r\n",
      "    Uninstalling implicit-0.4.4:\r\n",
      "      Successfully uninstalled implicit-0.4.4\r\n",
      "Successfully installed implicit-0.5.2\r\n",
      "\u001b[33mWARNING: Running pip as the 'root' user can result in broken permissions and conflicting behaviour with the system package manager. It is recommended to use a virtual environment instead: https://pip.pypa.io/warnings/venv\u001b[0m\r\n"
     ]
    }
   ],
   "source": [
    "# FYI:\n",
    "# This pip command takes a lot with GPU enabled (~15 min)\n",
    "# It works though. And GPU accelerates the process *a lot*.\n",
    "# I am developing with GPU turned off and submitting with GPU turned on\n",
    "!pip install --upgrade implicit"
   ]
  },
  {
   "cell_type": "code",
   "execution_count": 2,
   "id": "54d3cdcd",
   "metadata": {
    "execution": {
     "iopub.execute_input": "2022-02-18T17:27:33.958763Z",
     "iopub.status.busy": "2022-02-18T17:27:33.957969Z",
     "iopub.status.idle": "2022-02-18T17:27:34.304145Z",
     "shell.execute_reply": "2022-02-18T17:27:34.304892Z",
     "shell.execute_reply.started": "2022-02-09T14:22:41.427391Z"
    },
    "papermill": {
     "duration": 0.395686,
     "end_time": "2022-02-18T17:27:34.305088",
     "exception": false,
     "start_time": "2022-02-18T17:27:33.909402",
     "status": "completed"
    },
    "tags": []
   },
   "outputs": [],
   "source": [
    "import os; os.environ['OPENBLAS_NUM_THREADS']='1'\n",
    "import numpy as np\n",
    "import pandas as pd\n",
    "import implicit\n",
    "from scipy.sparse import coo_matrix\n",
    "from implicit.evaluation import mean_average_precision_at_k"
   ]
  },
  {
   "cell_type": "markdown",
   "id": "45b8cbda",
   "metadata": {
    "papermill": {
     "duration": 0.063617,
     "end_time": "2022-02-18T17:27:34.411884",
     "exception": false,
     "start_time": "2022-02-18T17:27:34.348267",
     "status": "completed"
    },
    "tags": []
   },
   "source": [
    "# Load dataframes"
   ]
  },
  {
   "cell_type": "code",
   "execution_count": 3,
   "id": "034cfa40",
   "metadata": {
    "_cell_guid": "b1076dfc-b9ad-4769-8c92-a6c4dae69d19",
    "_uuid": "8f2839f25d086af736a60e9eeb907d3b93b6e0e5",
    "execution": {
     "iopub.execute_input": "2022-02-18T17:27:34.563114Z",
     "iopub.status.busy": "2022-02-18T17:27:34.562287Z",
     "iopub.status.idle": "2022-02-18T17:28:58.130215Z",
     "shell.execute_reply": "2022-02-18T17:28:58.130727Z",
     "shell.execute_reply.started": "2022-02-09T14:22:41.771655Z"
    },
    "papermill": {
     "duration": 83.644804,
     "end_time": "2022-02-18T17:28:58.130895",
     "exception": false,
     "start_time": "2022-02-18T17:27:34.486091",
     "status": "completed"
    },
    "tags": []
   },
   "outputs": [
    {
     "name": "stdout",
     "output_type": "stream",
     "text": [
      "CPU times: user 46.1 s, sys: 4.86 s, total: 50.9 s\n",
      "Wall time: 1min 23s\n"
     ]
    }
   ],
   "source": [
    "%%time\n",
    "\n",
    "base_path = '../input/h-and-m-personalized-fashion-recommendations/'\n",
    "csv_train = f'{base_path}transactions_train.csv'\n",
    "csv_sub = f'{base_path}sample_submission.csv'\n",
    "csv_users = f'{base_path}customers.csv'\n",
    "csv_items = f'{base_path}articles.csv'\n",
    "\n",
    "df = pd.read_csv(csv_train, dtype={'article_id': str}, parse_dates=['t_dat'])\n",
    "df_sub = pd.read_csv(csv_sub)\n",
    "dfu = pd.read_csv(csv_users)\n",
    "dfi = pd.read_csv(csv_items, dtype={'article_id': str})"
   ]
  },
  {
   "cell_type": "code",
   "execution_count": 4,
   "id": "b24bb382",
   "metadata": {
    "execution": {
     "iopub.execute_input": "2022-02-18T17:28:58.238327Z",
     "iopub.status.busy": "2022-02-18T17:28:58.233566Z",
     "iopub.status.idle": "2022-02-18T17:28:59.164452Z",
     "shell.execute_reply": "2022-02-18T17:28:59.164876Z",
     "shell.execute_reply.started": "2022-02-09T14:24:33.178977Z"
    },
    "papermill": {
     "duration": 0.983481,
     "end_time": "2022-02-18T17:28:59.165040",
     "exception": false,
     "start_time": "2022-02-18T17:28:58.181559",
     "status": "completed"
    },
    "tags": []
   },
   "outputs": [
    {
     "data": {
      "text/plain": [
       "(1190911, 5)"
      ]
     },
     "execution_count": 4,
     "metadata": {},
     "output_type": "execute_result"
    }
   ],
   "source": [
    "# Trying with less data:\n",
    "# https://www.kaggle.com/tomooinubushi/folk-of-time-is-our-best-friend/notebook\n",
    "df = df[df['t_dat'] > '2020-08-21']\n",
    "df.shape"
   ]
  },
  {
   "cell_type": "code",
   "execution_count": 5,
   "id": "4a5582d5",
   "metadata": {
    "execution": {
     "iopub.execute_input": "2022-02-18T17:28:59.266077Z",
     "iopub.status.busy": "2022-02-18T17:28:59.265138Z",
     "iopub.status.idle": "2022-02-18T17:28:59.273820Z",
     "shell.execute_reply": "2022-02-18T17:28:59.274283Z",
     "shell.execute_reply.started": "2022-02-09T14:25:03.710286Z"
    },
    "papermill": {
     "duration": 0.061584,
     "end_time": "2022-02-18T17:28:59.274425",
     "exception": false,
     "start_time": "2022-02-18T17:28:59.212841",
     "status": "completed"
    },
    "tags": []
   },
   "outputs": [
    {
     "data": {
      "text/plain": [
       "Timestamp('2020-09-22 00:00:00')"
      ]
     },
     "execution_count": 5,
     "metadata": {},
     "output_type": "execute_result"
    }
   ],
   "source": [
    "# For validation this means 3 weeks of training and 1 week for validation\n",
    "# For submission, it means 4 weeks of training\n",
    "df['t_dat'].max()"
   ]
  },
  {
   "cell_type": "markdown",
   "id": "99d37940",
   "metadata": {
    "papermill": {
     "duration": 0.049554,
     "end_time": "2022-02-18T17:28:59.372939",
     "exception": false,
     "start_time": "2022-02-18T17:28:59.323385",
     "status": "completed"
    },
    "tags": []
   },
   "source": [
    "## Assign autoincrementing ids starting from 0 to both users and items"
   ]
  },
  {
   "cell_type": "code",
   "execution_count": 6,
   "id": "a395bc00",
   "metadata": {
    "execution": {
     "iopub.execute_input": "2022-02-18T17:28:59.574467Z",
     "iopub.status.busy": "2022-02-18T17:28:59.514896Z",
     "iopub.status.idle": "2022-02-18T17:29:02.374417Z",
     "shell.execute_reply": "2022-02-18T17:29:02.373635Z",
     "shell.execute_reply.started": "2022-02-08T23:07:41.919131Z"
    },
    "papermill": {
     "duration": 2.952554,
     "end_time": "2022-02-18T17:29:02.374562",
     "exception": false,
     "start_time": "2022-02-18T17:28:59.422008",
     "status": "completed"
    },
    "tags": []
   },
   "outputs": [],
   "source": [
    "ALL_USERS = dfu['customer_id'].unique().tolist()\n",
    "ALL_ITEMS = dfi['article_id'].unique().tolist()\n",
    "\n",
    "user_ids = dict(list(enumerate(ALL_USERS)))\n",
    "item_ids = dict(list(enumerate(ALL_ITEMS)))\n",
    "\n",
    "user_map = {u: uidx for uidx, u in user_ids.items()}\n",
    "item_map = {i: iidx for iidx, i in item_ids.items()}\n",
    "\n",
    "df['user_id'] = df['customer_id'].map(user_map)\n",
    "df['item_id'] = df['article_id'].map(item_map)\n",
    "\n",
    "del dfu, dfi"
   ]
  },
  {
   "cell_type": "markdown",
   "id": "2de811dd",
   "metadata": {
    "papermill": {
     "duration": 0.043894,
     "end_time": "2022-02-18T17:29:02.462641",
     "exception": false,
     "start_time": "2022-02-18T17:29:02.418747",
     "status": "completed"
    },
    "tags": []
   },
   "source": [
    "## Create coo_matrix (user x item) and csr matrix (user x item)\n",
    "\n",
    "It is common to use scipy sparse matrices in recommender systems, because the main core of the problem is typically modeled as a matrix with users and items, with the values representing whether the user purchased (or liked) an items. Since each user purchases only a small fraction of the catalog of products, this matrix is full of zero (aka: it's sparse).\n",
    "\n",
    "In a very recent release they did an API breaking change, so be aware of that: https://github.com/benfred/implicit/releases\n",
    "In this notebook we are using the latest version, so everything is aligned with (user x item)\n",
    "\n",
    "**We are using (user x item) matrices, both for training and for evaluating/recommender.**\n",
    "\n",
    "In the previous versions the training procedure required a COO item x user\n",
    "\n",
    "For evaluation and prediction, on the other hand, CSR matrices with users x items format should be provided.\n",
    "\n",
    "\n",
    "### About COO matrices\n",
    "COO matrices are a kind of sparse matrix.\n",
    "They store their values as tuples of `(row, column, value)` (the coordinates)\n",
    "\n",
    "You can read more about them here: \n",
    "* https://en.wikipedia.org/wiki/Sparse_matrix#Coordinate_list_(COO)\n",
    "* https://scipy-lectures.org/advanced/scipy_sparse/coo_matrix.html\n",
    "\n",
    "From https://het.as.utexas.edu/HET/Software/Scipy/generated/scipy.sparse.coo_matrix.html\n",
    "\n",
    "```python\n",
    ">>> row  = np.array([0,3,1,0]) # user_ids\n",
    ">>> col  = np.array([0,3,1,2]) # item_ids\n",
    ">>> data = np.array([4,5,7,9]) # a bunch of ones of lenght unique(user) x unique(items)\n",
    ">>> coo_matrix((data,(row,col)), shape=(4,4)).todense()\n",
    "matrix([[4, 0, 9, 0],\n",
    "        [0, 7, 0, 0],\n",
    "        [0, 0, 0, 0],\n",
    "        [0, 0, 0, 5]])\n",
    "```\n",
    "\n",
    "## About CSR matrices\n",
    "* https://en.wikipedia.org/wiki/Sparse_matrix#Compressed_sparse_row_(CSR,_CRS_or_Yale_format)\n"
   ]
  },
  {
   "cell_type": "code",
   "execution_count": 7,
   "id": "b237b8b0",
   "metadata": {
    "execution": {
     "iopub.execute_input": "2022-02-18T17:29:02.556129Z",
     "iopub.status.busy": "2022-02-18T17:29:02.555037Z",
     "iopub.status.idle": "2022-02-18T17:29:02.566994Z",
     "shell.execute_reply": "2022-02-18T17:29:02.567416Z",
     "shell.execute_reply.started": "2022-02-08T23:07:59.275017Z"
    },
    "papermill": {
     "duration": 0.061549,
     "end_time": "2022-02-18T17:29:02.567561",
     "exception": false,
     "start_time": "2022-02-18T17:29:02.506012",
     "status": "completed"
    },
    "tags": []
   },
   "outputs": [
    {
     "data": {
      "text/plain": [
       "<1371980x105542 sparse matrix of type '<class 'numpy.float64'>'\n",
       "\twith 1190911 stored elements in COOrdinate format>"
      ]
     },
     "execution_count": 7,
     "metadata": {},
     "output_type": "execute_result"
    }
   ],
   "source": [
    "row = df['user_id'].values\n",
    "col = df['item_id'].values\n",
    "data = np.ones(df.shape[0])\n",
    "coo_train = coo_matrix((data, (row, col)), shape=(len(ALL_USERS), len(ALL_ITEMS)))\n",
    "coo_train"
   ]
  },
  {
   "cell_type": "markdown",
   "id": "7cdc37ad",
   "metadata": {
    "papermill": {
     "duration": 0.043376,
     "end_time": "2022-02-18T17:29:02.655129",
     "exception": false,
     "start_time": "2022-02-18T17:29:02.611753",
     "status": "completed"
    },
    "tags": []
   },
   "source": [
    "# Check that model works ok with data"
   ]
  },
  {
   "cell_type": "code",
   "execution_count": 8,
   "id": "a2eb446a",
   "metadata": {
    "execution": {
     "iopub.execute_input": "2022-02-18T17:29:02.936298Z",
     "iopub.status.busy": "2022-02-18T17:29:02.934756Z",
     "iopub.status.idle": "2022-02-18T17:29:03.758209Z",
     "shell.execute_reply": "2022-02-18T17:29:03.758716Z",
     "shell.execute_reply.started": "2022-02-08T23:07:59.569383Z"
    },
    "papermill": {
     "duration": 1.059737,
     "end_time": "2022-02-18T17:29:03.758864",
     "exception": false,
     "start_time": "2022-02-18T17:29:02.699127",
     "status": "completed"
    },
    "tags": []
   },
   "outputs": [
    {
     "data": {
      "application/vnd.jupyter.widget-view+json": {
       "model_id": "42dffe3b8b7c491fb6affc410e4b9893",
       "version_major": 2,
       "version_minor": 0
      },
      "text/plain": [
       "  0%|          | 0/2 [00:00<?, ?it/s]"
      ]
     },
     "metadata": {},
     "output_type": "display_data"
    },
    {
     "name": "stdout",
     "output_type": "stream",
     "text": [
      "CPU times: user 392 ms, sys: 170 ms, total: 562 ms\n",
      "Wall time: 1.01 s\n"
     ]
    }
   ],
   "source": [
    "%%time\n",
    "model = implicit.als.AlternatingLeastSquares(factors=10, iterations=2)\n",
    "model.fit(coo_train)"
   ]
  },
  {
   "cell_type": "markdown",
   "id": "77b8c70a",
   "metadata": {
    "papermill": {
     "duration": 0.044875,
     "end_time": "2022-02-18T17:29:03.848752",
     "exception": false,
     "start_time": "2022-02-18T17:29:03.803877",
     "status": "completed"
    },
    "tags": []
   },
   "source": [
    "# Validation"
   ]
  },
  {
   "cell_type": "markdown",
   "id": "3eff7c2c",
   "metadata": {
    "papermill": {
     "duration": 0.043942,
     "end_time": "2022-02-18T17:29:03.936940",
     "exception": false,
     "start_time": "2022-02-18T17:29:03.892998",
     "status": "completed"
    },
    "tags": []
   },
   "source": [
    "## Functions required for validation"
   ]
  },
  {
   "cell_type": "code",
   "execution_count": 9,
   "id": "35ca060d",
   "metadata": {
    "execution": {
     "iopub.execute_input": "2022-02-18T17:29:04.039473Z",
     "iopub.status.busy": "2022-02-18T17:29:04.038608Z",
     "iopub.status.idle": "2022-02-18T17:29:04.040407Z",
     "shell.execute_reply": "2022-02-18T17:29:04.040901Z",
     "shell.execute_reply.started": "2022-02-08T23:11:16.952239Z"
    },
    "papermill": {
     "duration": 0.059458,
     "end_time": "2022-02-18T17:29:04.041032",
     "exception": false,
     "start_time": "2022-02-18T17:29:03.981574",
     "status": "completed"
    },
    "tags": []
   },
   "outputs": [],
   "source": [
    "def to_user_item_coo(df):\n",
    "    \"\"\" Turn a dataframe with transactions into a COO sparse items x users matrix\"\"\"\n",
    "    row = df['user_id'].values\n",
    "    col = df['item_id'].values\n",
    "    data = np.ones(df.shape[0])\n",
    "    coo = coo_matrix((data, (row, col)), shape=(len(ALL_USERS), len(ALL_ITEMS)))\n",
    "    return coo\n",
    "\n",
    "\n",
    "def split_data(df, validation_days=7):\n",
    "    \"\"\" Split a pandas dataframe into training and validation data, using <<validation_days>>\n",
    "    \"\"\"\n",
    "    validation_cut = df['t_dat'].max() - pd.Timedelta(validation_days)\n",
    "\n",
    "    df_train = df[df['t_dat'] < validation_cut]\n",
    "    df_val = df[df['t_dat'] >= validation_cut]\n",
    "    return df_train, df_val\n",
    "\n",
    "def get_val_matrices(df, validation_days=7):\n",
    "    \"\"\" Split into training and validation and create various matrices\n",
    "        \n",
    "        Returns a dictionary with the following keys:\n",
    "            coo_train: training data in COO sparse format and as (users x items)\n",
    "            csr_train: training data in CSR sparse format and as (users x items)\n",
    "            csr_val:  validation data in CSR sparse format and as (users x items)\n",
    "    \n",
    "    \"\"\"\n",
    "    df_train, df_val = split_data(df, validation_days=validation_days)\n",
    "    coo_train = to_user_item_coo(df_train)\n",
    "    coo_val = to_user_item_coo(df_val)\n",
    "\n",
    "    csr_train = coo_train.tocsr()\n",
    "    csr_val = coo_val.tocsr()\n",
    "    \n",
    "    return {'coo_train': coo_train,\n",
    "            'csr_train': csr_train,\n",
    "            'csr_val': csr_val\n",
    "          }\n",
    "\n",
    "\n",
    "def validate(matrices, factors=200, iterations=20, regularization=0.01, show_progress=True):\n",
    "    \"\"\" Train an ALS model with <<factors>> (embeddings dimension) \n",
    "    for <<iterations>> over matrices and validate with MAP@12\n",
    "    \"\"\"\n",
    "    coo_train, csr_train, csr_val = matrices['coo_train'], matrices['csr_train'], matrices['csr_val']\n",
    "    \n",
    "    model = implicit.als.AlternatingLeastSquares(factors=factors, \n",
    "                                                 iterations=iterations, \n",
    "                                                 regularization=regularization, \n",
    "                                                 random_state=42)\n",
    "    model.fit(coo_train, show_progress=show_progress)\n",
    "    \n",
    "    # The MAPK by implicit doesn't allow to calculate allowing repeated items, which is the case.\n",
    "    # TODO: change MAP@12 to a library that allows repeated items in prediction\n",
    "    map12 = mean_average_precision_at_k(model, csr_train, csr_val, K=12, show_progress=show_progress, num_threads=4)\n",
    "    print(f\"Factors: {factors:>3} - Iterations: {iterations:>2} - Regularization: {regularization:4.3f} ==> MAP@12: {map12:6.5f}\")\n",
    "    return map12"
   ]
  },
  {
   "cell_type": "code",
   "execution_count": 10,
   "id": "70bc42f4",
   "metadata": {
    "execution": {
     "iopub.execute_input": "2022-02-18T17:29:04.134735Z",
     "iopub.status.busy": "2022-02-18T17:29:04.134216Z",
     "iopub.status.idle": "2022-02-18T17:29:04.308467Z",
     "shell.execute_reply": "2022-02-18T17:29:04.307949Z",
     "shell.execute_reply.started": "2022-02-08T23:08:18.81345Z"
    },
    "papermill": {
     "duration": 0.223111,
     "end_time": "2022-02-18T17:29:04.308589",
     "exception": false,
     "start_time": "2022-02-18T17:29:04.085478",
     "status": "completed"
    },
    "tags": []
   },
   "outputs": [],
   "source": [
    "matrices = get_val_matrices(df)"
   ]
  },
  {
   "cell_type": "code",
   "execution_count": 11,
   "id": "7441b152",
   "metadata": {
    "execution": {
     "iopub.execute_input": "2022-02-18T17:29:04.404903Z",
     "iopub.status.busy": "2022-02-18T17:29:04.404081Z",
     "iopub.status.idle": "2022-02-18T17:34:47.997861Z",
     "shell.execute_reply": "2022-02-18T17:34:47.998298Z"
    },
    "papermill": {
     "duration": 343.644869,
     "end_time": "2022-02-18T17:34:47.998446",
     "exception": false,
     "start_time": "2022-02-18T17:29:04.353577",
     "status": "completed"
    },
    "tags": []
   },
   "outputs": [
    {
     "name": "stdout",
     "output_type": "stream",
     "text": [
      "Factors:  40 - Iterations:  3 - Regularization: 0.010 ==> MAP@12: 0.00470\n",
      "Best MAP@12 found. Updating: {'factors': 40, 'iterations': 3, 'regularization': 0.01}\n",
      "Factors:  40 - Iterations: 12 - Regularization: 0.010 ==> MAP@12: 0.00542\n",
      "Best MAP@12 found. Updating: {'factors': 40, 'iterations': 12, 'regularization': 0.01}\n",
      "Factors:  40 - Iterations: 14 - Regularization: 0.010 ==> MAP@12: 0.00526\n",
      "Factors:  40 - Iterations: 15 - Regularization: 0.010 ==> MAP@12: 0.00528\n",
      "Factors:  40 - Iterations: 20 - Regularization: 0.010 ==> MAP@12: 0.00518\n",
      "Factors:  50 - Iterations:  3 - Regularization: 0.010 ==> MAP@12: 0.00440\n",
      "Factors:  50 - Iterations: 12 - Regularization: 0.010 ==> MAP@12: 0.00529\n",
      "Factors:  50 - Iterations: 14 - Regularization: 0.010 ==> MAP@12: 0.00533\n",
      "Factors:  50 - Iterations: 15 - Regularization: 0.010 ==> MAP@12: 0.00538\n",
      "Factors:  50 - Iterations: 20 - Regularization: 0.010 ==> MAP@12: 0.00533\n",
      "Factors:  60 - Iterations:  3 - Regularization: 0.010 ==> MAP@12: 0.00477\n",
      "Factors:  60 - Iterations: 12 - Regularization: 0.010 ==> MAP@12: 0.00544\n",
      "Best MAP@12 found. Updating: {'factors': 60, 'iterations': 12, 'regularization': 0.01}\n",
      "Factors:  60 - Iterations: 14 - Regularization: 0.010 ==> MAP@12: 0.00556\n",
      "Best MAP@12 found. Updating: {'factors': 60, 'iterations': 14, 'regularization': 0.01}\n",
      "Factors:  60 - Iterations: 15 - Regularization: 0.010 ==> MAP@12: 0.00555\n",
      "Factors:  60 - Iterations: 20 - Regularization: 0.010 ==> MAP@12: 0.00556\n",
      "Factors: 100 - Iterations:  3 - Regularization: 0.010 ==> MAP@12: 0.00520\n",
      "Factors: 100 - Iterations: 12 - Regularization: 0.010 ==> MAP@12: 0.00638\n",
      "Best MAP@12 found. Updating: {'factors': 100, 'iterations': 12, 'regularization': 0.01}\n",
      "Factors: 100 - Iterations: 14 - Regularization: 0.010 ==> MAP@12: 0.00635\n",
      "Factors: 100 - Iterations: 15 - Regularization: 0.010 ==> MAP@12: 0.00633\n",
      "Factors: 100 - Iterations: 20 - Regularization: 0.010 ==> MAP@12: 0.00626\n",
      "Factors: 200 - Iterations:  3 - Regularization: 0.010 ==> MAP@12: 0.00639\n",
      "Best MAP@12 found. Updating: {'factors': 200, 'iterations': 3, 'regularization': 0.01}\n",
      "Factors: 200 - Iterations: 12 - Regularization: 0.010 ==> MAP@12: 0.00651\n",
      "Best MAP@12 found. Updating: {'factors': 200, 'iterations': 12, 'regularization': 0.01}\n",
      "Factors: 200 - Iterations: 14 - Regularization: 0.010 ==> MAP@12: 0.00648\n",
      "Factors: 200 - Iterations: 15 - Regularization: 0.010 ==> MAP@12: 0.00644\n",
      "Factors: 200 - Iterations: 20 - Regularization: 0.010 ==> MAP@12: 0.00639\n",
      "Factors: 500 - Iterations:  3 - Regularization: 0.010 ==> MAP@12: 0.00675\n",
      "Best MAP@12 found. Updating: {'factors': 500, 'iterations': 3, 'regularization': 0.01}\n",
      "Factors: 500 - Iterations: 12 - Regularization: 0.010 ==> MAP@12: 0.00581\n",
      "Factors: 500 - Iterations: 14 - Regularization: 0.010 ==> MAP@12: 0.00578\n",
      "Factors: 500 - Iterations: 15 - Regularization: 0.010 ==> MAP@12: 0.00570\n",
      "Factors: 500 - Iterations: 20 - Regularization: 0.010 ==> MAP@12: 0.00571\n",
      "Factors: 1000 - Iterations:  3 - Regularization: 0.010 ==> MAP@12: 0.00642\n",
      "Factors: 1000 - Iterations: 12 - Regularization: 0.010 ==> MAP@12: 0.00597\n",
      "Factors: 1000 - Iterations: 14 - Regularization: 0.010 ==> MAP@12: 0.00600\n",
      "Factors: 1000 - Iterations: 15 - Regularization: 0.010 ==> MAP@12: 0.00599\n",
      "Factors: 1000 - Iterations: 20 - Regularization: 0.010 ==> MAP@12: 0.00592\n",
      "CPU times: user 5min 40s, sys: 2.22 s, total: 5min 42s\n",
      "Wall time: 5min 43s\n"
     ]
    }
   ],
   "source": [
    "%%time\n",
    "best_map12 = 0\n",
    "for factors in [40, 50, 60, 100, 200, 500, 1000]:\n",
    "    for iterations in [3, 12, 14, 15, 20]:\n",
    "        for regularization in [0.01]:\n",
    "            map12 = validate(matrices, factors, iterations, regularization, show_progress=False)\n",
    "            if map12 > best_map12:\n",
    "                best_map12 = map12\n",
    "                best_params = {'factors': factors, 'iterations': iterations, 'regularization': regularization}\n",
    "                print(f\"Best MAP@12 found. Updating: {best_params}\")"
   ]
  },
  {
   "cell_type": "code",
   "execution_count": 12,
   "id": "b9d57811",
   "metadata": {
    "execution": {
     "iopub.execute_input": "2022-02-18T17:34:48.162525Z",
     "iopub.status.busy": "2022-02-18T17:34:48.161257Z",
     "iopub.status.idle": "2022-02-18T17:34:48.166569Z",
     "shell.execute_reply": "2022-02-18T17:34:48.169556Z"
    },
    "papermill": {
     "duration": 0.111483,
     "end_time": "2022-02-18T17:34:48.169777",
     "exception": false,
     "start_time": "2022-02-18T17:34:48.058294",
     "status": "completed"
    },
    "tags": []
   },
   "outputs": [],
   "source": [
    "del matrices"
   ]
  },
  {
   "cell_type": "markdown",
   "id": "e74008bb",
   "metadata": {
    "papermill": {
     "duration": 0.088285,
     "end_time": "2022-02-18T17:34:48.344673",
     "exception": false,
     "start_time": "2022-02-18T17:34:48.256388",
     "status": "completed"
    },
    "tags": []
   },
   "source": [
    "# Training over the full dataset"
   ]
  },
  {
   "cell_type": "code",
   "execution_count": 13,
   "id": "a9611f9b",
   "metadata": {
    "execution": {
     "iopub.execute_input": "2022-02-18T17:34:48.527544Z",
     "iopub.status.busy": "2022-02-18T17:34:48.526470Z",
     "iopub.status.idle": "2022-02-18T17:34:48.615864Z",
     "shell.execute_reply": "2022-02-18T17:34:48.616460Z",
     "shell.execute_reply.started": "2022-02-08T23:13:56.676873Z"
    },
    "papermill": {
     "duration": 0.183819,
     "end_time": "2022-02-18T17:34:48.616676",
     "exception": false,
     "start_time": "2022-02-18T17:34:48.432857",
     "status": "completed"
    },
    "tags": []
   },
   "outputs": [],
   "source": [
    "coo_train = to_user_item_coo(df)\n",
    "csr_train = coo_train.tocsr()"
   ]
  },
  {
   "cell_type": "code",
   "execution_count": 14,
   "id": "119a661a",
   "metadata": {
    "execution": {
     "iopub.execute_input": "2022-02-18T17:34:48.744495Z",
     "iopub.status.busy": "2022-02-18T17:34:48.742912Z",
     "iopub.status.idle": "2022-02-18T17:34:48.745073Z",
     "shell.execute_reply": "2022-02-18T17:34:48.745494Z",
     "shell.execute_reply.started": "2022-02-08T23:14:00.484562Z"
    },
    "papermill": {
     "duration": 0.061657,
     "end_time": "2022-02-18T17:34:48.745624",
     "exception": false,
     "start_time": "2022-02-18T17:34:48.683967",
     "status": "completed"
    },
    "tags": []
   },
   "outputs": [],
   "source": [
    "def train(coo_train, factors=200, iterations=15, regularization=0.01, show_progress=True):\n",
    "    model = implicit.als.AlternatingLeastSquares(factors=factors, \n",
    "                                                 iterations=iterations, \n",
    "                                                 regularization=regularization, \n",
    "                                                 random_state=42)\n",
    "    model.fit(coo_train, show_progress=show_progress)\n",
    "    return model"
   ]
  },
  {
   "cell_type": "code",
   "execution_count": 15,
   "id": "b74a7782",
   "metadata": {
    "execution": {
     "iopub.execute_input": "2022-02-18T17:34:48.858310Z",
     "iopub.status.busy": "2022-02-18T17:34:48.857673Z",
     "iopub.status.idle": "2022-02-18T17:34:48.860333Z",
     "shell.execute_reply": "2022-02-18T17:34:48.860735Z",
     "shell.execute_reply.started": "2022-02-08T23:14:14.063633Z"
    },
    "papermill": {
     "duration": 0.061654,
     "end_time": "2022-02-18T17:34:48.860866",
     "exception": false,
     "start_time": "2022-02-18T17:34:48.799212",
     "status": "completed"
    },
    "tags": []
   },
   "outputs": [
    {
     "data": {
      "text/plain": [
       "{'factors': 500, 'iterations': 3, 'regularization': 0.01}"
      ]
     },
     "execution_count": 15,
     "metadata": {},
     "output_type": "execute_result"
    }
   ],
   "source": [
    "best_params"
   ]
  },
  {
   "cell_type": "code",
   "execution_count": 16,
   "id": "c7bea69a",
   "metadata": {
    "execution": {
     "iopub.execute_input": "2022-02-18T17:34:48.973565Z",
     "iopub.status.busy": "2022-02-18T17:34:48.972741Z",
     "iopub.status.idle": "2022-02-18T17:34:52.022218Z",
     "shell.execute_reply": "2022-02-18T17:34:52.021764Z",
     "shell.execute_reply.started": "2022-02-08T23:14:17.223808Z"
    },
    "papermill": {
     "duration": 3.107602,
     "end_time": "2022-02-18T17:34:52.022338",
     "exception": false,
     "start_time": "2022-02-18T17:34:48.914736",
     "status": "completed"
    },
    "tags": []
   },
   "outputs": [
    {
     "data": {
      "application/vnd.jupyter.widget-view+json": {
       "model_id": "8c5ddc8a02f64f18a8fd79f2b3556c5f",
       "version_major": 2,
       "version_minor": 0
      },
      "text/plain": [
       "  0%|          | 0/3 [00:00<?, ?it/s]"
      ]
     },
     "metadata": {},
     "output_type": "display_data"
    }
   ],
   "source": [
    "model = train(coo_train, **best_params)"
   ]
  },
  {
   "cell_type": "markdown",
   "id": "63af8575",
   "metadata": {
    "papermill": {
     "duration": 0.056276,
     "end_time": "2022-02-18T17:34:52.134446",
     "exception": false,
     "start_time": "2022-02-18T17:34:52.078170",
     "status": "completed"
    },
    "tags": []
   },
   "source": [
    "# Submission"
   ]
  },
  {
   "cell_type": "markdown",
   "id": "765b9c36",
   "metadata": {
    "papermill": {
     "duration": 0.055891,
     "end_time": "2022-02-18T17:34:52.246601",
     "exception": false,
     "start_time": "2022-02-18T17:34:52.190710",
     "status": "completed"
    },
    "tags": []
   },
   "source": [
    "## Submission function"
   ]
  },
  {
   "cell_type": "code",
   "execution_count": 17,
   "id": "a550ba33",
   "metadata": {
    "execution": {
     "iopub.execute_input": "2022-02-18T17:34:52.369222Z",
     "iopub.status.busy": "2022-02-18T17:34:52.368307Z",
     "iopub.status.idle": "2022-02-18T17:34:52.370126Z",
     "shell.execute_reply": "2022-02-18T17:34:52.370568Z",
     "shell.execute_reply.started": "2022-02-08T23:15:20.278055Z"
    },
    "papermill": {
     "duration": 0.066799,
     "end_time": "2022-02-18T17:34:52.370711",
     "exception": false,
     "start_time": "2022-02-18T17:34:52.303912",
     "status": "completed"
    },
    "tags": []
   },
   "outputs": [],
   "source": [
    "def submit(model, csr_train, submission_name=\"submissions.csv\"):\n",
    "    preds = []\n",
    "    batch_size = 2000\n",
    "    to_generate = np.arange(len(ALL_USERS))\n",
    "    for startidx in range(0, len(to_generate), batch_size):\n",
    "        batch = to_generate[startidx : startidx + batch_size]\n",
    "        ids, scores = model.recommend(batch, csr_train[batch], N=12, filter_already_liked_items=False)\n",
    "        for i, userid in enumerate(batch):\n",
    "            customer_id = user_ids[userid]\n",
    "            user_items = ids[i]\n",
    "            article_ids = [item_ids[item_id] for item_id in user_items]\n",
    "            preds.append((customer_id, ' '.join(article_ids)))\n",
    "\n",
    "    df_preds = pd.DataFrame(preds, columns=['customer_id', 'prediction'])\n",
    "    df_preds.to_csv(submission_name, index=False)\n",
    "    \n",
    "    display(df_preds.head())\n",
    "    print(df_preds.shape)\n",
    "    \n",
    "    return df_preds"
   ]
  },
  {
   "cell_type": "code",
   "execution_count": 18,
   "id": "387357fa",
   "metadata": {
    "execution": {
     "iopub.execute_input": "2022-02-18T17:34:52.489815Z",
     "iopub.status.busy": "2022-02-18T17:34:52.488932Z",
     "iopub.status.idle": "2022-02-18T17:36:08.401153Z",
     "shell.execute_reply": "2022-02-18T17:36:08.400668Z"
    },
    "papermill": {
     "duration": 75.97385,
     "end_time": "2022-02-18T17:36:08.401276",
     "exception": false,
     "start_time": "2022-02-18T17:34:52.427426",
     "status": "completed"
    },
    "tags": []
   },
   "outputs": [
    {
     "data": {
      "text/html": [
       "<div>\n",
       "<style scoped>\n",
       "    .dataframe tbody tr th:only-of-type {\n",
       "        vertical-align: middle;\n",
       "    }\n",
       "\n",
       "    .dataframe tbody tr th {\n",
       "        vertical-align: top;\n",
       "    }\n",
       "\n",
       "    .dataframe thead th {\n",
       "        text-align: right;\n",
       "    }\n",
       "</style>\n",
       "<table border=\"1\" class=\"dataframe\">\n",
       "  <thead>\n",
       "    <tr style=\"text-align: right;\">\n",
       "      <th></th>\n",
       "      <th>customer_id</th>\n",
       "      <th>prediction</th>\n",
       "    </tr>\n",
       "  </thead>\n",
       "  <tbody>\n",
       "    <tr>\n",
       "      <th>0</th>\n",
       "      <td>00000dbacae5abe5e23885899a1fa44253a17956c6d1c3...</td>\n",
       "      <td>0568601043 0858856005 0779781015 0828991003 05...</td>\n",
       "    </tr>\n",
       "    <tr>\n",
       "      <th>1</th>\n",
       "      <td>0000423b00ade91418cceaf3b26c6af3dd342b51fd051e...</td>\n",
       "      <td>0187949032 0187949031 0187949030 0187949029 01...</td>\n",
       "    </tr>\n",
       "    <tr>\n",
       "      <th>2</th>\n",
       "      <td>000058a12d5b43e67d225668fa1f8d618c13dc232df0ca...</td>\n",
       "      <td>0794321007 0794321011 0765743007 0805000001 09...</td>\n",
       "    </tr>\n",
       "    <tr>\n",
       "      <th>3</th>\n",
       "      <td>00005ca1c9ed5f5146b52ac8639a40ca9d57aeff4d1bd2...</td>\n",
       "      <td>0187949032 0187949031 0187949030 0187949029 01...</td>\n",
       "    </tr>\n",
       "    <tr>\n",
       "      <th>4</th>\n",
       "      <td>00006413d8573cd20ed7128e53b7b13819fe5cfc2d801f...</td>\n",
       "      <td>0187949032 0187949031 0187949030 0187949029 01...</td>\n",
       "    </tr>\n",
       "  </tbody>\n",
       "</table>\n",
       "</div>"
      ],
      "text/plain": [
       "                                         customer_id  \\\n",
       "0  00000dbacae5abe5e23885899a1fa44253a17956c6d1c3...   \n",
       "1  0000423b00ade91418cceaf3b26c6af3dd342b51fd051e...   \n",
       "2  000058a12d5b43e67d225668fa1f8d618c13dc232df0ca...   \n",
       "3  00005ca1c9ed5f5146b52ac8639a40ca9d57aeff4d1bd2...   \n",
       "4  00006413d8573cd20ed7128e53b7b13819fe5cfc2d801f...   \n",
       "\n",
       "                                          prediction  \n",
       "0  0568601043 0858856005 0779781015 0828991003 05...  \n",
       "1  0187949032 0187949031 0187949030 0187949029 01...  \n",
       "2  0794321007 0794321011 0765743007 0805000001 09...  \n",
       "3  0187949032 0187949031 0187949030 0187949029 01...  \n",
       "4  0187949032 0187949031 0187949030 0187949029 01...  "
      ]
     },
     "metadata": {},
     "output_type": "display_data"
    },
    {
     "name": "stdout",
     "output_type": "stream",
     "text": [
      "(1371980, 2)\n",
      "CPU times: user 1min 14s, sys: 728 ms, total: 1min 15s\n",
      "Wall time: 1min 15s\n"
     ]
    }
   ],
   "source": [
    "%%time\n",
    "df_preds = submit(model, csr_train);"
   ]
  }
 ],
 "metadata": {
  "kernelspec": {
   "display_name": "Python 3",
   "language": "python",
   "name": "python3"
  },
  "language_info": {
   "codemirror_mode": {
    "name": "ipython",
    "version": 3
   },
   "file_extension": ".py",
   "mimetype": "text/x-python",
   "name": "python",
   "nbconvert_exporter": "python",
   "pygments_lexer": "ipython3",
   "version": "3.7.12"
  },
  "papermill": {
   "default_parameters": {},
   "duration": 1598.008711,
   "end_time": "2022-02-18T17:36:09.572084",
   "environment_variables": {},
   "exception": null,
   "input_path": "__notebook__.ipynb",
   "output_path": "__notebook__.ipynb",
   "parameters": {},
   "start_time": "2022-02-18T17:09:31.563373",
   "version": "2.3.3"
  },
  "widgets": {
   "application/vnd.jupyter.widget-state+json": {
    "state": {
     "1d165630053d40668cc7e63933195e35": {
      "model_module": "@jupyter-widgets/base",
      "model_module_version": "1.2.0",
      "model_name": "LayoutModel",
      "state": {
       "_model_module": "@jupyter-widgets/base",
       "_model_module_version": "1.2.0",
       "_model_name": "LayoutModel",
       "_view_count": null,
       "_view_module": "@jupyter-widgets/base",
       "_view_module_version": "1.2.0",
       "_view_name": "LayoutView",
       "align_content": null,
       "align_items": null,
       "align_self": null,
       "border": null,
       "bottom": null,
       "display": null,
       "flex": null,
       "flex_flow": null,
       "grid_area": null,
       "grid_auto_columns": null,
       "grid_auto_flow": null,
       "grid_auto_rows": null,
       "grid_column": null,
       "grid_gap": null,
       "grid_row": null,
       "grid_template_areas": null,
       "grid_template_columns": null,
       "grid_template_rows": null,
       "height": null,
       "justify_content": null,
       "justify_items": null,
       "left": null,
       "margin": null,
       "max_height": null,
       "max_width": null,
       "min_height": null,
       "min_width": null,
       "object_fit": null,
       "object_position": null,
       "order": null,
       "overflow": null,
       "overflow_x": null,
       "overflow_y": null,
       "padding": null,
       "right": null,
       "top": null,
       "visibility": null,
       "width": null
      }
     },
     "2257133873e7469e9a9a62d6955c6ad6": {
      "model_module": "@jupyter-widgets/controls",
      "model_module_version": "1.5.0",
      "model_name": "DescriptionStyleModel",
      "state": {
       "_model_module": "@jupyter-widgets/controls",
       "_model_module_version": "1.5.0",
       "_model_name": "DescriptionStyleModel",
       "_view_count": null,
       "_view_module": "@jupyter-widgets/base",
       "_view_module_version": "1.2.0",
       "_view_name": "StyleView",
       "description_width": ""
      }
     },
     "2826bbb094fb448cb5d3267525c5fb48": {
      "model_module": "@jupyter-widgets/base",
      "model_module_version": "1.2.0",
      "model_name": "LayoutModel",
      "state": {
       "_model_module": "@jupyter-widgets/base",
       "_model_module_version": "1.2.0",
       "_model_name": "LayoutModel",
       "_view_count": null,
       "_view_module": "@jupyter-widgets/base",
       "_view_module_version": "1.2.0",
       "_view_name": "LayoutView",
       "align_content": null,
       "align_items": null,
       "align_self": null,
       "border": null,
       "bottom": null,
       "display": null,
       "flex": null,
       "flex_flow": null,
       "grid_area": null,
       "grid_auto_columns": null,
       "grid_auto_flow": null,
       "grid_auto_rows": null,
       "grid_column": null,
       "grid_gap": null,
       "grid_row": null,
       "grid_template_areas": null,
       "grid_template_columns": null,
       "grid_template_rows": null,
       "height": null,
       "justify_content": null,
       "justify_items": null,
       "left": null,
       "margin": null,
       "max_height": null,
       "max_width": null,
       "min_height": null,
       "min_width": null,
       "object_fit": null,
       "object_position": null,
       "order": null,
       "overflow": null,
       "overflow_x": null,
       "overflow_y": null,
       "padding": null,
       "right": null,
       "top": null,
       "visibility": null,
       "width": null
      }
     },
     "34c245be9c824c7f880cb7e6212636ad": {
      "model_module": "@jupyter-widgets/controls",
      "model_module_version": "1.5.0",
      "model_name": "FloatProgressModel",
      "state": {
       "_dom_classes": [],
       "_model_module": "@jupyter-widgets/controls",
       "_model_module_version": "1.5.0",
       "_model_name": "FloatProgressModel",
       "_view_count": null,
       "_view_module": "@jupyter-widgets/controls",
       "_view_module_version": "1.5.0",
       "_view_name": "ProgressView",
       "bar_style": "success",
       "description": "",
       "description_tooltip": null,
       "layout": "IPY_MODEL_1d165630053d40668cc7e63933195e35",
       "max": 3.0,
       "min": 0.0,
       "orientation": "horizontal",
       "style": "IPY_MODEL_3787a1249676420cb8472fefc2ba0f3e",
       "value": 3.0
      }
     },
     "3787a1249676420cb8472fefc2ba0f3e": {
      "model_module": "@jupyter-widgets/controls",
      "model_module_version": "1.5.0",
      "model_name": "ProgressStyleModel",
      "state": {
       "_model_module": "@jupyter-widgets/controls",
       "_model_module_version": "1.5.0",
       "_model_name": "ProgressStyleModel",
       "_view_count": null,
       "_view_module": "@jupyter-widgets/base",
       "_view_module_version": "1.2.0",
       "_view_name": "StyleView",
       "bar_color": null,
       "description_width": ""
      }
     },
     "42dffe3b8b7c491fb6affc410e4b9893": {
      "model_module": "@jupyter-widgets/controls",
      "model_module_version": "1.5.0",
      "model_name": "HBoxModel",
      "state": {
       "_dom_classes": [],
       "_model_module": "@jupyter-widgets/controls",
       "_model_module_version": "1.5.0",
       "_model_name": "HBoxModel",
       "_view_count": null,
       "_view_module": "@jupyter-widgets/controls",
       "_view_module_version": "1.5.0",
       "_view_name": "HBoxView",
       "box_style": "",
       "children": [
        "IPY_MODEL_9ffd7fc8f33a43bbbeb7c3375f46ba8c",
        "IPY_MODEL_daebc114cd274aa6b131927f6be6ad03",
        "IPY_MODEL_ac122167f3794c1d973c96fd2e389b8c"
       ],
       "layout": "IPY_MODEL_2826bbb094fb448cb5d3267525c5fb48"
      }
     },
     "52a561a8da9d4ceba10082493966332b": {
      "model_module": "@jupyter-widgets/base",
      "model_module_version": "1.2.0",
      "model_name": "LayoutModel",
      "state": {
       "_model_module": "@jupyter-widgets/base",
       "_model_module_version": "1.2.0",
       "_model_name": "LayoutModel",
       "_view_count": null,
       "_view_module": "@jupyter-widgets/base",
       "_view_module_version": "1.2.0",
       "_view_name": "LayoutView",
       "align_content": null,
       "align_items": null,
       "align_self": null,
       "border": null,
       "bottom": null,
       "display": null,
       "flex": null,
       "flex_flow": null,
       "grid_area": null,
       "grid_auto_columns": null,
       "grid_auto_flow": null,
       "grid_auto_rows": null,
       "grid_column": null,
       "grid_gap": null,
       "grid_row": null,
       "grid_template_areas": null,
       "grid_template_columns": null,
       "grid_template_rows": null,
       "height": null,
       "justify_content": null,
       "justify_items": null,
       "left": null,
       "margin": null,
       "max_height": null,
       "max_width": null,
       "min_height": null,
       "min_width": null,
       "object_fit": null,
       "object_position": null,
       "order": null,
       "overflow": null,
       "overflow_x": null,
       "overflow_y": null,
       "padding": null,
       "right": null,
       "top": null,
       "visibility": null,
       "width": null
      }
     },
     "605d4d55496147e6ab2a7c37f3a36686": {
      "model_module": "@jupyter-widgets/controls",
      "model_module_version": "1.5.0",
      "model_name": "HTMLModel",
      "state": {
       "_dom_classes": [],
       "_model_module": "@jupyter-widgets/controls",
       "_model_module_version": "1.5.0",
       "_model_name": "HTMLModel",
       "_view_count": null,
       "_view_module": "@jupyter-widgets/controls",
       "_view_module_version": "1.5.0",
       "_view_name": "HTMLView",
       "description": "",
       "description_tooltip": null,
       "layout": "IPY_MODEL_9e2de1a5a81a41fcae23a2c97b15144d",
       "placeholder": "​",
       "style": "IPY_MODEL_ea244f04787f43b1b529ee5dbc02f7d2",
       "value": " 3/3 [00:02&lt;00:00,  1.03it/s]"
      }
     },
     "693cc6d653b444f8bd77f0d7dbea7f30": {
      "model_module": "@jupyter-widgets/base",
      "model_module_version": "1.2.0",
      "model_name": "LayoutModel",
      "state": {
       "_model_module": "@jupyter-widgets/base",
       "_model_module_version": "1.2.0",
       "_model_name": "LayoutModel",
       "_view_count": null,
       "_view_module": "@jupyter-widgets/base",
       "_view_module_version": "1.2.0",
       "_view_name": "LayoutView",
       "align_content": null,
       "align_items": null,
       "align_self": null,
       "border": null,
       "bottom": null,
       "display": null,
       "flex": null,
       "flex_flow": null,
       "grid_area": null,
       "grid_auto_columns": null,
       "grid_auto_flow": null,
       "grid_auto_rows": null,
       "grid_column": null,
       "grid_gap": null,
       "grid_row": null,
       "grid_template_areas": null,
       "grid_template_columns": null,
       "grid_template_rows": null,
       "height": null,
       "justify_content": null,
       "justify_items": null,
       "left": null,
       "margin": null,
       "max_height": null,
       "max_width": null,
       "min_height": null,
       "min_width": null,
       "object_fit": null,
       "object_position": null,
       "order": null,
       "overflow": null,
       "overflow_x": null,
       "overflow_y": null,
       "padding": null,
       "right": null,
       "top": null,
       "visibility": null,
       "width": null
      }
     },
     "6d284aa33b3d4ef488ebaf7f2a05c3a8": {
      "model_module": "@jupyter-widgets/controls",
      "model_module_version": "1.5.0",
      "model_name": "ProgressStyleModel",
      "state": {
       "_model_module": "@jupyter-widgets/controls",
       "_model_module_version": "1.5.0",
       "_model_name": "ProgressStyleModel",
       "_view_count": null,
       "_view_module": "@jupyter-widgets/base",
       "_view_module_version": "1.2.0",
       "_view_name": "StyleView",
       "bar_color": null,
       "description_width": ""
      }
     },
     "8bddb569d47d433bb3dda2dd37307dc0": {
      "model_module": "@jupyter-widgets/controls",
      "model_module_version": "1.5.0",
      "model_name": "DescriptionStyleModel",
      "state": {
       "_model_module": "@jupyter-widgets/controls",
       "_model_module_version": "1.5.0",
       "_model_name": "DescriptionStyleModel",
       "_view_count": null,
       "_view_module": "@jupyter-widgets/base",
       "_view_module_version": "1.2.0",
       "_view_name": "StyleView",
       "description_width": ""
      }
     },
     "8c5ddc8a02f64f18a8fd79f2b3556c5f": {
      "model_module": "@jupyter-widgets/controls",
      "model_module_version": "1.5.0",
      "model_name": "HBoxModel",
      "state": {
       "_dom_classes": [],
       "_model_module": "@jupyter-widgets/controls",
       "_model_module_version": "1.5.0",
       "_model_name": "HBoxModel",
       "_view_count": null,
       "_view_module": "@jupyter-widgets/controls",
       "_view_module_version": "1.5.0",
       "_view_name": "HBoxView",
       "box_style": "",
       "children": [
        "IPY_MODEL_902ad43f48a04425a4cb8ac6e9d8acf4",
        "IPY_MODEL_34c245be9c824c7f880cb7e6212636ad",
        "IPY_MODEL_605d4d55496147e6ab2a7c37f3a36686"
       ],
       "layout": "IPY_MODEL_c28672c5a77d465b82d8573186e4f91c"
      }
     },
     "8e8a6bdaf6c8470b9be2bb6d34e8c051": {
      "model_module": "@jupyter-widgets/base",
      "model_module_version": "1.2.0",
      "model_name": "LayoutModel",
      "state": {
       "_model_module": "@jupyter-widgets/base",
       "_model_module_version": "1.2.0",
       "_model_name": "LayoutModel",
       "_view_count": null,
       "_view_module": "@jupyter-widgets/base",
       "_view_module_version": "1.2.0",
       "_view_name": "LayoutView",
       "align_content": null,
       "align_items": null,
       "align_self": null,
       "border": null,
       "bottom": null,
       "display": null,
       "flex": null,
       "flex_flow": null,
       "grid_area": null,
       "grid_auto_columns": null,
       "grid_auto_flow": null,
       "grid_auto_rows": null,
       "grid_column": null,
       "grid_gap": null,
       "grid_row": null,
       "grid_template_areas": null,
       "grid_template_columns": null,
       "grid_template_rows": null,
       "height": null,
       "justify_content": null,
       "justify_items": null,
       "left": null,
       "margin": null,
       "max_height": null,
       "max_width": null,
       "min_height": null,
       "min_width": null,
       "object_fit": null,
       "object_position": null,
       "order": null,
       "overflow": null,
       "overflow_x": null,
       "overflow_y": null,
       "padding": null,
       "right": null,
       "top": null,
       "visibility": null,
       "width": null
      }
     },
     "902ad43f48a04425a4cb8ac6e9d8acf4": {
      "model_module": "@jupyter-widgets/controls",
      "model_module_version": "1.5.0",
      "model_name": "HTMLModel",
      "state": {
       "_dom_classes": [],
       "_model_module": "@jupyter-widgets/controls",
       "_model_module_version": "1.5.0",
       "_model_name": "HTMLModel",
       "_view_count": null,
       "_view_module": "@jupyter-widgets/controls",
       "_view_module_version": "1.5.0",
       "_view_name": "HTMLView",
       "description": "",
       "description_tooltip": null,
       "layout": "IPY_MODEL_693cc6d653b444f8bd77f0d7dbea7f30",
       "placeholder": "​",
       "style": "IPY_MODEL_f2752771af324722b2619a5f70d3e140",
       "value": "100%"
      }
     },
     "9e2de1a5a81a41fcae23a2c97b15144d": {
      "model_module": "@jupyter-widgets/base",
      "model_module_version": "1.2.0",
      "model_name": "LayoutModel",
      "state": {
       "_model_module": "@jupyter-widgets/base",
       "_model_module_version": "1.2.0",
       "_model_name": "LayoutModel",
       "_view_count": null,
       "_view_module": "@jupyter-widgets/base",
       "_view_module_version": "1.2.0",
       "_view_name": "LayoutView",
       "align_content": null,
       "align_items": null,
       "align_self": null,
       "border": null,
       "bottom": null,
       "display": null,
       "flex": null,
       "flex_flow": null,
       "grid_area": null,
       "grid_auto_columns": null,
       "grid_auto_flow": null,
       "grid_auto_rows": null,
       "grid_column": null,
       "grid_gap": null,
       "grid_row": null,
       "grid_template_areas": null,
       "grid_template_columns": null,
       "grid_template_rows": null,
       "height": null,
       "justify_content": null,
       "justify_items": null,
       "left": null,
       "margin": null,
       "max_height": null,
       "max_width": null,
       "min_height": null,
       "min_width": null,
       "object_fit": null,
       "object_position": null,
       "order": null,
       "overflow": null,
       "overflow_x": null,
       "overflow_y": null,
       "padding": null,
       "right": null,
       "top": null,
       "visibility": null,
       "width": null
      }
     },
     "9ffd7fc8f33a43bbbeb7c3375f46ba8c": {
      "model_module": "@jupyter-widgets/controls",
      "model_module_version": "1.5.0",
      "model_name": "HTMLModel",
      "state": {
       "_dom_classes": [],
       "_model_module": "@jupyter-widgets/controls",
       "_model_module_version": "1.5.0",
       "_model_name": "HTMLModel",
       "_view_count": null,
       "_view_module": "@jupyter-widgets/controls",
       "_view_module_version": "1.5.0",
       "_view_name": "HTMLView",
       "description": "",
       "description_tooltip": null,
       "layout": "IPY_MODEL_e850f9ed03544a36bf18cec4d0f0b090",
       "placeholder": "​",
       "style": "IPY_MODEL_8bddb569d47d433bb3dda2dd37307dc0",
       "value": "100%"
      }
     },
     "ac122167f3794c1d973c96fd2e389b8c": {
      "model_module": "@jupyter-widgets/controls",
      "model_module_version": "1.5.0",
      "model_name": "HTMLModel",
      "state": {
       "_dom_classes": [],
       "_model_module": "@jupyter-widgets/controls",
       "_model_module_version": "1.5.0",
       "_model_name": "HTMLModel",
       "_view_count": null,
       "_view_module": "@jupyter-widgets/controls",
       "_view_module_version": "1.5.0",
       "_view_name": "HTMLView",
       "description": "",
       "description_tooltip": null,
       "layout": "IPY_MODEL_8e8a6bdaf6c8470b9be2bb6d34e8c051",
       "placeholder": "​",
       "style": "IPY_MODEL_2257133873e7469e9a9a62d6955c6ad6",
       "value": " 2/2 [00:00&lt;00:00,  1.47it/s]"
      }
     },
     "c28672c5a77d465b82d8573186e4f91c": {
      "model_module": "@jupyter-widgets/base",
      "model_module_version": "1.2.0",
      "model_name": "LayoutModel",
      "state": {
       "_model_module": "@jupyter-widgets/base",
       "_model_module_version": "1.2.0",
       "_model_name": "LayoutModel",
       "_view_count": null,
       "_view_module": "@jupyter-widgets/base",
       "_view_module_version": "1.2.0",
       "_view_name": "LayoutView",
       "align_content": null,
       "align_items": null,
       "align_self": null,
       "border": null,
       "bottom": null,
       "display": null,
       "flex": null,
       "flex_flow": null,
       "grid_area": null,
       "grid_auto_columns": null,
       "grid_auto_flow": null,
       "grid_auto_rows": null,
       "grid_column": null,
       "grid_gap": null,
       "grid_row": null,
       "grid_template_areas": null,
       "grid_template_columns": null,
       "grid_template_rows": null,
       "height": null,
       "justify_content": null,
       "justify_items": null,
       "left": null,
       "margin": null,
       "max_height": null,
       "max_width": null,
       "min_height": null,
       "min_width": null,
       "object_fit": null,
       "object_position": null,
       "order": null,
       "overflow": null,
       "overflow_x": null,
       "overflow_y": null,
       "padding": null,
       "right": null,
       "top": null,
       "visibility": null,
       "width": null
      }
     },
     "daebc114cd274aa6b131927f6be6ad03": {
      "model_module": "@jupyter-widgets/controls",
      "model_module_version": "1.5.0",
      "model_name": "FloatProgressModel",
      "state": {
       "_dom_classes": [],
       "_model_module": "@jupyter-widgets/controls",
       "_model_module_version": "1.5.0",
       "_model_name": "FloatProgressModel",
       "_view_count": null,
       "_view_module": "@jupyter-widgets/controls",
       "_view_module_version": "1.5.0",
       "_view_name": "ProgressView",
       "bar_style": "success",
       "description": "",
       "description_tooltip": null,
       "layout": "IPY_MODEL_52a561a8da9d4ceba10082493966332b",
       "max": 2.0,
       "min": 0.0,
       "orientation": "horizontal",
       "style": "IPY_MODEL_6d284aa33b3d4ef488ebaf7f2a05c3a8",
       "value": 2.0
      }
     },
     "e850f9ed03544a36bf18cec4d0f0b090": {
      "model_module": "@jupyter-widgets/base",
      "model_module_version": "1.2.0",
      "model_name": "LayoutModel",
      "state": {
       "_model_module": "@jupyter-widgets/base",
       "_model_module_version": "1.2.0",
       "_model_name": "LayoutModel",
       "_view_count": null,
       "_view_module": "@jupyter-widgets/base",
       "_view_module_version": "1.2.0",
       "_view_name": "LayoutView",
       "align_content": null,
       "align_items": null,
       "align_self": null,
       "border": null,
       "bottom": null,
       "display": null,
       "flex": null,
       "flex_flow": null,
       "grid_area": null,
       "grid_auto_columns": null,
       "grid_auto_flow": null,
       "grid_auto_rows": null,
       "grid_column": null,
       "grid_gap": null,
       "grid_row": null,
       "grid_template_areas": null,
       "grid_template_columns": null,
       "grid_template_rows": null,
       "height": null,
       "justify_content": null,
       "justify_items": null,
       "left": null,
       "margin": null,
       "max_height": null,
       "max_width": null,
       "min_height": null,
       "min_width": null,
       "object_fit": null,
       "object_position": null,
       "order": null,
       "overflow": null,
       "overflow_x": null,
       "overflow_y": null,
       "padding": null,
       "right": null,
       "top": null,
       "visibility": null,
       "width": null
      }
     },
     "ea244f04787f43b1b529ee5dbc02f7d2": {
      "model_module": "@jupyter-widgets/controls",
      "model_module_version": "1.5.0",
      "model_name": "DescriptionStyleModel",
      "state": {
       "_model_module": "@jupyter-widgets/controls",
       "_model_module_version": "1.5.0",
       "_model_name": "DescriptionStyleModel",
       "_view_count": null,
       "_view_module": "@jupyter-widgets/base",
       "_view_module_version": "1.2.0",
       "_view_name": "StyleView",
       "description_width": ""
      }
     },
     "f2752771af324722b2619a5f70d3e140": {
      "model_module": "@jupyter-widgets/controls",
      "model_module_version": "1.5.0",
      "model_name": "DescriptionStyleModel",
      "state": {
       "_model_module": "@jupyter-widgets/controls",
       "_model_module_version": "1.5.0",
       "_model_name": "DescriptionStyleModel",
       "_view_count": null,
       "_view_module": "@jupyter-widgets/base",
       "_view_module_version": "1.2.0",
       "_view_name": "StyleView",
       "description_width": ""
      }
     }
    },
    "version_major": 2,
    "version_minor": 0
   }
  }
 },
 "nbformat": 4,
 "nbformat_minor": 5
}
