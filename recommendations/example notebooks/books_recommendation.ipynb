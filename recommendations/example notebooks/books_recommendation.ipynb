{
  "nbformat": 4,
  "nbformat_minor": 0,
  "metadata": {
    "colab": {
      "name": "books_recommendation.ipynb",
      "provenance": [],
      "collapsed_sections": []
    },
    "kernelspec": {
      "name": "python3",
      "display_name": "Python 3"
    },
    "language_info": {
      "name": "python"
    },
    "widgets": {
      "application/vnd.jupyter.widget-state+json": {
        "68ad471ac94d42549f8268ae28a46675": {
          "model_module": "@jupyter-widgets/controls",
          "model_name": "HBoxModel",
          "model_module_version": "1.5.0",
          "state": {
            "_view_name": "HBoxView",
            "_dom_classes": [],
            "_model_name": "HBoxModel",
            "_view_module": "@jupyter-widgets/controls",
            "_model_module_version": "1.5.0",
            "_view_count": null,
            "_view_module_version": "1.5.0",
            "box_style": "",
            "layout": "IPY_MODEL_56b81a020afb476d848f69472fd35f90",
            "_model_module": "@jupyter-widgets/controls",
            "children": [
              "IPY_MODEL_2e534075eb334116bc13ba2d7b533cb3",
              "IPY_MODEL_f73dac39a6754201bf87184d48fd4546",
              "IPY_MODEL_96a5c9ad3ffd4b7097a160eba6c75271"
            ]
          }
        },
        "56b81a020afb476d848f69472fd35f90": {
          "model_module": "@jupyter-widgets/base",
          "model_name": "LayoutModel",
          "model_module_version": "1.2.0",
          "state": {
            "_view_name": "LayoutView",
            "grid_template_rows": null,
            "right": null,
            "justify_content": null,
            "_view_module": "@jupyter-widgets/base",
            "overflow": null,
            "_model_module_version": "1.2.0",
            "_view_count": null,
            "flex_flow": null,
            "width": null,
            "min_width": null,
            "border": null,
            "align_items": null,
            "bottom": null,
            "_model_module": "@jupyter-widgets/base",
            "top": null,
            "grid_column": null,
            "overflow_y": null,
            "overflow_x": null,
            "grid_auto_flow": null,
            "grid_area": null,
            "grid_template_columns": null,
            "flex": null,
            "_model_name": "LayoutModel",
            "justify_items": null,
            "grid_row": null,
            "max_height": null,
            "align_content": null,
            "visibility": null,
            "align_self": null,
            "height": null,
            "min_height": null,
            "padding": null,
            "grid_auto_rows": null,
            "grid_gap": null,
            "max_width": null,
            "order": null,
            "_view_module_version": "1.2.0",
            "grid_template_areas": null,
            "object_position": null,
            "object_fit": null,
            "grid_auto_columns": null,
            "margin": null,
            "display": null,
            "left": null
          }
        },
        "2e534075eb334116bc13ba2d7b533cb3": {
          "model_module": "@jupyter-widgets/controls",
          "model_name": "HTMLModel",
          "model_module_version": "1.5.0",
          "state": {
            "_view_name": "HTMLView",
            "style": "IPY_MODEL_a8bd3d5be789405ebccf71080325589c",
            "_dom_classes": [],
            "description": "",
            "_model_name": "HTMLModel",
            "placeholder": "​",
            "_view_module": "@jupyter-widgets/controls",
            "_model_module_version": "1.5.0",
            "value": "100%",
            "_view_count": null,
            "_view_module_version": "1.5.0",
            "description_tooltip": null,
            "_model_module": "@jupyter-widgets/controls",
            "layout": "IPY_MODEL_4e5defbcf1af456c9a246feb67ce6aea"
          }
        },
        "f73dac39a6754201bf87184d48fd4546": {
          "model_module": "@jupyter-widgets/controls",
          "model_name": "FloatProgressModel",
          "model_module_version": "1.5.0",
          "state": {
            "_view_name": "ProgressView",
            "style": "IPY_MODEL_71d070e705fd4f758c9b3ff767cbc5a0",
            "_dom_classes": [],
            "description": "",
            "_model_name": "FloatProgressModel",
            "bar_style": "success",
            "max": 50,
            "_view_module": "@jupyter-widgets/controls",
            "_model_module_version": "1.5.0",
            "value": 50,
            "_view_count": null,
            "_view_module_version": "1.5.0",
            "orientation": "horizontal",
            "min": 0,
            "description_tooltip": null,
            "_model_module": "@jupyter-widgets/controls",
            "layout": "IPY_MODEL_ced76395b2fe42b3aa9ec6da1f119b78"
          }
        },
        "96a5c9ad3ffd4b7097a160eba6c75271": {
          "model_module": "@jupyter-widgets/controls",
          "model_name": "HTMLModel",
          "model_module_version": "1.5.0",
          "state": {
            "_view_name": "HTMLView",
            "style": "IPY_MODEL_66419bd6dce2443fbeb36fe7742f57f3",
            "_dom_classes": [],
            "description": "",
            "_model_name": "HTMLModel",
            "placeholder": "​",
            "_view_module": "@jupyter-widgets/controls",
            "_model_module_version": "1.5.0",
            "value": " 50/50 [00:52&lt;00:00,  1.18it/s]",
            "_view_count": null,
            "_view_module_version": "1.5.0",
            "description_tooltip": null,
            "_model_module": "@jupyter-widgets/controls",
            "layout": "IPY_MODEL_767fb7ff317146219389afd84629a35e"
          }
        },
        "a8bd3d5be789405ebccf71080325589c": {
          "model_module": "@jupyter-widgets/controls",
          "model_name": "DescriptionStyleModel",
          "model_module_version": "1.5.0",
          "state": {
            "_view_name": "StyleView",
            "_model_name": "DescriptionStyleModel",
            "description_width": "",
            "_view_module": "@jupyter-widgets/base",
            "_model_module_version": "1.5.0",
            "_view_count": null,
            "_view_module_version": "1.2.0",
            "_model_module": "@jupyter-widgets/controls"
          }
        },
        "4e5defbcf1af456c9a246feb67ce6aea": {
          "model_module": "@jupyter-widgets/base",
          "model_name": "LayoutModel",
          "model_module_version": "1.2.0",
          "state": {
            "_view_name": "LayoutView",
            "grid_template_rows": null,
            "right": null,
            "justify_content": null,
            "_view_module": "@jupyter-widgets/base",
            "overflow": null,
            "_model_module_version": "1.2.0",
            "_view_count": null,
            "flex_flow": null,
            "width": null,
            "min_width": null,
            "border": null,
            "align_items": null,
            "bottom": null,
            "_model_module": "@jupyter-widgets/base",
            "top": null,
            "grid_column": null,
            "overflow_y": null,
            "overflow_x": null,
            "grid_auto_flow": null,
            "grid_area": null,
            "grid_template_columns": null,
            "flex": null,
            "_model_name": "LayoutModel",
            "justify_items": null,
            "grid_row": null,
            "max_height": null,
            "align_content": null,
            "visibility": null,
            "align_self": null,
            "height": null,
            "min_height": null,
            "padding": null,
            "grid_auto_rows": null,
            "grid_gap": null,
            "max_width": null,
            "order": null,
            "_view_module_version": "1.2.0",
            "grid_template_areas": null,
            "object_position": null,
            "object_fit": null,
            "grid_auto_columns": null,
            "margin": null,
            "display": null,
            "left": null
          }
        },
        "71d070e705fd4f758c9b3ff767cbc5a0": {
          "model_module": "@jupyter-widgets/controls",
          "model_name": "ProgressStyleModel",
          "model_module_version": "1.5.0",
          "state": {
            "_view_name": "StyleView",
            "_model_name": "ProgressStyleModel",
            "description_width": "",
            "_view_module": "@jupyter-widgets/base",
            "_model_module_version": "1.5.0",
            "_view_count": null,
            "_view_module_version": "1.2.0",
            "bar_color": null,
            "_model_module": "@jupyter-widgets/controls"
          }
        },
        "ced76395b2fe42b3aa9ec6da1f119b78": {
          "model_module": "@jupyter-widgets/base",
          "model_name": "LayoutModel",
          "model_module_version": "1.2.0",
          "state": {
            "_view_name": "LayoutView",
            "grid_template_rows": null,
            "right": null,
            "justify_content": null,
            "_view_module": "@jupyter-widgets/base",
            "overflow": null,
            "_model_module_version": "1.2.0",
            "_view_count": null,
            "flex_flow": null,
            "width": null,
            "min_width": null,
            "border": null,
            "align_items": null,
            "bottom": null,
            "_model_module": "@jupyter-widgets/base",
            "top": null,
            "grid_column": null,
            "overflow_y": null,
            "overflow_x": null,
            "grid_auto_flow": null,
            "grid_area": null,
            "grid_template_columns": null,
            "flex": null,
            "_model_name": "LayoutModel",
            "justify_items": null,
            "grid_row": null,
            "max_height": null,
            "align_content": null,
            "visibility": null,
            "align_self": null,
            "height": null,
            "min_height": null,
            "padding": null,
            "grid_auto_rows": null,
            "grid_gap": null,
            "max_width": null,
            "order": null,
            "_view_module_version": "1.2.0",
            "grid_template_areas": null,
            "object_position": null,
            "object_fit": null,
            "grid_auto_columns": null,
            "margin": null,
            "display": null,
            "left": null
          }
        },
        "66419bd6dce2443fbeb36fe7742f57f3": {
          "model_module": "@jupyter-widgets/controls",
          "model_name": "DescriptionStyleModel",
          "model_module_version": "1.5.0",
          "state": {
            "_view_name": "StyleView",
            "_model_name": "DescriptionStyleModel",
            "description_width": "",
            "_view_module": "@jupyter-widgets/base",
            "_model_module_version": "1.5.0",
            "_view_count": null,
            "_view_module_version": "1.2.0",
            "_model_module": "@jupyter-widgets/controls"
          }
        },
        "767fb7ff317146219389afd84629a35e": {
          "model_module": "@jupyter-widgets/base",
          "model_name": "LayoutModel",
          "model_module_version": "1.2.0",
          "state": {
            "_view_name": "LayoutView",
            "grid_template_rows": null,
            "right": null,
            "justify_content": null,
            "_view_module": "@jupyter-widgets/base",
            "overflow": null,
            "_model_module_version": "1.2.0",
            "_view_count": null,
            "flex_flow": null,
            "width": null,
            "min_width": null,
            "border": null,
            "align_items": null,
            "bottom": null,
            "_model_module": "@jupyter-widgets/base",
            "top": null,
            "grid_column": null,
            "overflow_y": null,
            "overflow_x": null,
            "grid_auto_flow": null,
            "grid_area": null,
            "grid_template_columns": null,
            "flex": null,
            "_model_name": "LayoutModel",
            "justify_items": null,
            "grid_row": null,
            "max_height": null,
            "align_content": null,
            "visibility": null,
            "align_self": null,
            "height": null,
            "min_height": null,
            "padding": null,
            "grid_auto_rows": null,
            "grid_gap": null,
            "max_width": null,
            "order": null,
            "_view_module_version": "1.2.0",
            "grid_template_areas": null,
            "object_position": null,
            "object_fit": null,
            "grid_auto_columns": null,
            "margin": null,
            "display": null,
            "left": null
          }
        },
        "9fecc526438d4ac39c38a856c86ac542": {
          "model_module": "@jupyter-widgets/controls",
          "model_name": "HBoxModel",
          "model_module_version": "1.5.0",
          "state": {
            "_view_name": "HBoxView",
            "_dom_classes": [],
            "_model_name": "HBoxModel",
            "_view_module": "@jupyter-widgets/controls",
            "_model_module_version": "1.5.0",
            "_view_count": null,
            "_view_module_version": "1.5.0",
            "box_style": "",
            "layout": "IPY_MODEL_452b2bddd9ab4a70985a33bfe5975f23",
            "_model_module": "@jupyter-widgets/controls",
            "children": [
              "IPY_MODEL_ce470ccddb2f4a9487382b265f5b8dcf",
              "IPY_MODEL_e1e03e6cc71a4ef08b08094c5dd4c485",
              "IPY_MODEL_9988ec4e43064cdc9f72f4bc69dfdeb8"
            ]
          }
        },
        "452b2bddd9ab4a70985a33bfe5975f23": {
          "model_module": "@jupyter-widgets/base",
          "model_name": "LayoutModel",
          "model_module_version": "1.2.0",
          "state": {
            "_view_name": "LayoutView",
            "grid_template_rows": null,
            "right": null,
            "justify_content": null,
            "_view_module": "@jupyter-widgets/base",
            "overflow": null,
            "_model_module_version": "1.2.0",
            "_view_count": null,
            "flex_flow": null,
            "width": null,
            "min_width": null,
            "border": null,
            "align_items": null,
            "bottom": null,
            "_model_module": "@jupyter-widgets/base",
            "top": null,
            "grid_column": null,
            "overflow_y": null,
            "overflow_x": null,
            "grid_auto_flow": null,
            "grid_area": null,
            "grid_template_columns": null,
            "flex": null,
            "_model_name": "LayoutModel",
            "justify_items": null,
            "grid_row": null,
            "max_height": null,
            "align_content": null,
            "visibility": null,
            "align_self": null,
            "height": null,
            "min_height": null,
            "padding": null,
            "grid_auto_rows": null,
            "grid_gap": null,
            "max_width": null,
            "order": null,
            "_view_module_version": "1.2.0",
            "grid_template_areas": null,
            "object_position": null,
            "object_fit": null,
            "grid_auto_columns": null,
            "margin": null,
            "display": null,
            "left": null
          }
        },
        "ce470ccddb2f4a9487382b265f5b8dcf": {
          "model_module": "@jupyter-widgets/controls",
          "model_name": "HTMLModel",
          "model_module_version": "1.5.0",
          "state": {
            "_view_name": "HTMLView",
            "style": "IPY_MODEL_ea342c590d2f4c9eb03232ca757b730b",
            "_dom_classes": [],
            "description": "",
            "_model_name": "HTMLModel",
            "placeholder": "​",
            "_view_module": "@jupyter-widgets/controls",
            "_model_module_version": "1.5.0",
            "value": "100%",
            "_view_count": null,
            "_view_module_version": "1.5.0",
            "description_tooltip": null,
            "_model_module": "@jupyter-widgets/controls",
            "layout": "IPY_MODEL_8caed0e3a8fd4214a51be097e90e11ee"
          }
        },
        "e1e03e6cc71a4ef08b08094c5dd4c485": {
          "model_module": "@jupyter-widgets/controls",
          "model_name": "FloatProgressModel",
          "model_module_version": "1.5.0",
          "state": {
            "_view_name": "ProgressView",
            "style": "IPY_MODEL_19dbd1f4ae494de3831d9851f31436db",
            "_dom_classes": [],
            "description": "",
            "_model_name": "FloatProgressModel",
            "bar_style": "success",
            "max": 50,
            "_view_module": "@jupyter-widgets/controls",
            "_model_module_version": "1.5.0",
            "value": 50,
            "_view_count": null,
            "_view_module_version": "1.5.0",
            "orientation": "horizontal",
            "min": 0,
            "description_tooltip": null,
            "_model_module": "@jupyter-widgets/controls",
            "layout": "IPY_MODEL_c38a782b44ff40d3b190ab5ea197cba5"
          }
        },
        "9988ec4e43064cdc9f72f4bc69dfdeb8": {
          "model_module": "@jupyter-widgets/controls",
          "model_name": "HTMLModel",
          "model_module_version": "1.5.0",
          "state": {
            "_view_name": "HTMLView",
            "style": "IPY_MODEL_345764c060454f96b97d6ab7de59b610",
            "_dom_classes": [],
            "description": "",
            "_model_name": "HTMLModel",
            "placeholder": "​",
            "_view_module": "@jupyter-widgets/controls",
            "_model_module_version": "1.5.0",
            "value": " 50/50 [08:19&lt;00:00,  8.91s/it]",
            "_view_count": null,
            "_view_module_version": "1.5.0",
            "description_tooltip": null,
            "_model_module": "@jupyter-widgets/controls",
            "layout": "IPY_MODEL_f730704442054a66887598d2c500b5b1"
          }
        },
        "ea342c590d2f4c9eb03232ca757b730b": {
          "model_module": "@jupyter-widgets/controls",
          "model_name": "DescriptionStyleModel",
          "model_module_version": "1.5.0",
          "state": {
            "_view_name": "StyleView",
            "_model_name": "DescriptionStyleModel",
            "description_width": "",
            "_view_module": "@jupyter-widgets/base",
            "_model_module_version": "1.5.0",
            "_view_count": null,
            "_view_module_version": "1.2.0",
            "_model_module": "@jupyter-widgets/controls"
          }
        },
        "8caed0e3a8fd4214a51be097e90e11ee": {
          "model_module": "@jupyter-widgets/base",
          "model_name": "LayoutModel",
          "model_module_version": "1.2.0",
          "state": {
            "_view_name": "LayoutView",
            "grid_template_rows": null,
            "right": null,
            "justify_content": null,
            "_view_module": "@jupyter-widgets/base",
            "overflow": null,
            "_model_module_version": "1.2.0",
            "_view_count": null,
            "flex_flow": null,
            "width": null,
            "min_width": null,
            "border": null,
            "align_items": null,
            "bottom": null,
            "_model_module": "@jupyter-widgets/base",
            "top": null,
            "grid_column": null,
            "overflow_y": null,
            "overflow_x": null,
            "grid_auto_flow": null,
            "grid_area": null,
            "grid_template_columns": null,
            "flex": null,
            "_model_name": "LayoutModel",
            "justify_items": null,
            "grid_row": null,
            "max_height": null,
            "align_content": null,
            "visibility": null,
            "align_self": null,
            "height": null,
            "min_height": null,
            "padding": null,
            "grid_auto_rows": null,
            "grid_gap": null,
            "max_width": null,
            "order": null,
            "_view_module_version": "1.2.0",
            "grid_template_areas": null,
            "object_position": null,
            "object_fit": null,
            "grid_auto_columns": null,
            "margin": null,
            "display": null,
            "left": null
          }
        },
        "19dbd1f4ae494de3831d9851f31436db": {
          "model_module": "@jupyter-widgets/controls",
          "model_name": "ProgressStyleModel",
          "model_module_version": "1.5.0",
          "state": {
            "_view_name": "StyleView",
            "_model_name": "ProgressStyleModel",
            "description_width": "",
            "_view_module": "@jupyter-widgets/base",
            "_model_module_version": "1.5.0",
            "_view_count": null,
            "_view_module_version": "1.2.0",
            "bar_color": null,
            "_model_module": "@jupyter-widgets/controls"
          }
        },
        "c38a782b44ff40d3b190ab5ea197cba5": {
          "model_module": "@jupyter-widgets/base",
          "model_name": "LayoutModel",
          "model_module_version": "1.2.0",
          "state": {
            "_view_name": "LayoutView",
            "grid_template_rows": null,
            "right": null,
            "justify_content": null,
            "_view_module": "@jupyter-widgets/base",
            "overflow": null,
            "_model_module_version": "1.2.0",
            "_view_count": null,
            "flex_flow": null,
            "width": null,
            "min_width": null,
            "border": null,
            "align_items": null,
            "bottom": null,
            "_model_module": "@jupyter-widgets/base",
            "top": null,
            "grid_column": null,
            "overflow_y": null,
            "overflow_x": null,
            "grid_auto_flow": null,
            "grid_area": null,
            "grid_template_columns": null,
            "flex": null,
            "_model_name": "LayoutModel",
            "justify_items": null,
            "grid_row": null,
            "max_height": null,
            "align_content": null,
            "visibility": null,
            "align_self": null,
            "height": null,
            "min_height": null,
            "padding": null,
            "grid_auto_rows": null,
            "grid_gap": null,
            "max_width": null,
            "order": null,
            "_view_module_version": "1.2.0",
            "grid_template_areas": null,
            "object_position": null,
            "object_fit": null,
            "grid_auto_columns": null,
            "margin": null,
            "display": null,
            "left": null
          }
        },
        "345764c060454f96b97d6ab7de59b610": {
          "model_module": "@jupyter-widgets/controls",
          "model_name": "DescriptionStyleModel",
          "model_module_version": "1.5.0",
          "state": {
            "_view_name": "StyleView",
            "_model_name": "DescriptionStyleModel",
            "description_width": "",
            "_view_module": "@jupyter-widgets/base",
            "_model_module_version": "1.5.0",
            "_view_count": null,
            "_view_module_version": "1.2.0",
            "_model_module": "@jupyter-widgets/controls"
          }
        },
        "f730704442054a66887598d2c500b5b1": {
          "model_module": "@jupyter-widgets/base",
          "model_name": "LayoutModel",
          "model_module_version": "1.2.0",
          "state": {
            "_view_name": "LayoutView",
            "grid_template_rows": null,
            "right": null,
            "justify_content": null,
            "_view_module": "@jupyter-widgets/base",
            "overflow": null,
            "_model_module_version": "1.2.0",
            "_view_count": null,
            "flex_flow": null,
            "width": null,
            "min_width": null,
            "border": null,
            "align_items": null,
            "bottom": null,
            "_model_module": "@jupyter-widgets/base",
            "top": null,
            "grid_column": null,
            "overflow_y": null,
            "overflow_x": null,
            "grid_auto_flow": null,
            "grid_area": null,
            "grid_template_columns": null,
            "flex": null,
            "_model_name": "LayoutModel",
            "justify_items": null,
            "grid_row": null,
            "max_height": null,
            "align_content": null,
            "visibility": null,
            "align_self": null,
            "height": null,
            "min_height": null,
            "padding": null,
            "grid_auto_rows": null,
            "grid_gap": null,
            "max_width": null,
            "order": null,
            "_view_module_version": "1.2.0",
            "grid_template_areas": null,
            "object_position": null,
            "object_fit": null,
            "grid_auto_columns": null,
            "margin": null,
            "display": null,
            "left": null
          }
        }
      }
    }
  },
  "cells": [
    {
      "cell_type": "code",
      "metadata": {
        "colab": {
          "base_uri": "https://localhost:8080/"
        },
        "id": "GwFebDFLQEmx",
        "outputId": "4024d210-e6c1-46b3-ae3f-56591a16ba06"
      },
      "source": [
        "from google.colab import drive\n",
        "drive.mount('/content/drive')"
      ],
      "execution_count": 5,
      "outputs": [
        {
          "output_type": "stream",
          "name": "stdout",
          "text": [
            "Mounted at /content/drive\n"
          ]
        }
      ]
    },
    {
      "cell_type": "code",
      "metadata": {
        "id": "QfcGIl5QQa8o"
      },
      "source": [
        "!pip install -q implicit\n",
        "import implicit"
      ],
      "execution_count": 6,
      "outputs": []
    },
    {
      "cell_type": "code",
      "metadata": {
        "colab": {
          "base_uri": "https://localhost:8080/"
        },
        "id": "uNpq2_lsQUs5",
        "outputId": "d07fab2e-0a44-4510-992e-c01154201cc1"
      },
      "source": [
        "import pandas as pd\n",
        "import scipy.sparse as sparse\n",
        "import numpy as np\n",
        "import random\n",
        "import re\n",
        "import seaborn as sns\n",
        "from sklearn.metrics.pairwise import cosine_similarity  # ROUGE-L - for text similarity: https://www.tensorflow.org/text/tutorials/text_similarity\n",
        "from sklearn.feature_extraction.text import CountVectorizer, HashingVectorizer, TfidfVectorizer\n",
        "from sklearn.preprocessing import MinMaxScaler\n",
        "import tensorflow as tf\n",
        "import itertools\n",
        "from tensorflow.keras.layers import TextVectorization\n",
        "import warnings\n",
        "warnings.filterwarnings('ignore')\n",
        "import nltk\n",
        "from nltk.stem.snowball import SnowballStemmer\n",
        "nltk.download('stopwords')\n",
        "nltk.download('punkt')\n",
        "from nltk.corpus import stopwords\n",
        "%matplotlib inline"
      ],
      "execution_count": 7,
      "outputs": [
        {
          "output_type": "stream",
          "name": "stdout",
          "text": [
            "[nltk_data] Downloading package stopwords to /root/nltk_data...\n",
            "[nltk_data]   Package stopwords is already up-to-date!\n",
            "[nltk_data] Downloading package punkt to /root/nltk_data...\n",
            "[nltk_data]   Package punkt is already up-to-date!\n"
          ]
        }
      ]
    },
    {
      "cell_type": "code",
      "metadata": {
        "id": "VdE7gAahQfQD"
      },
      "source": [
        "np.random.seed(1)\n",
        "users_root = r'/content/drive/My Drive/data/books/Users.csv'\n",
        "books_root = r'/content/drive/My Drive/data/books/Books.csv'\n",
        "ratings_root = r'/content/drive/My Drive/data/books/Ratings.csv'"
      ],
      "execution_count": 8,
      "outputs": []
    },
    {
      "cell_type": "code",
      "metadata": {
        "id": "VNtoD6rPRQKm"
      },
      "source": [
        "users = pd.read_csv(users_root, encoding='utf-8')\n",
        "books = pd.read_csv(books_root, encoding='utf-8')\n",
        "ratings = pd.read_csv(ratings_root, encoding='utf-8')"
      ],
      "execution_count": 9,
      "outputs": []
    },
    {
      "cell_type": "code",
      "metadata": {
        "colab": {
          "base_uri": "https://localhost:8080/",
          "height": 112
        },
        "id": "Kxc3J8PdRlQY",
        "outputId": "25e846f1-4c3a-4ce1-87f3-5960611b8b6e"
      },
      "source": [
        "users.head(2)"
      ],
      "execution_count": null,
      "outputs": [
        {
          "output_type": "execute_result",
          "data": {
            "text/html": [
              "<div>\n",
              "<style scoped>\n",
              "    .dataframe tbody tr th:only-of-type {\n",
              "        vertical-align: middle;\n",
              "    }\n",
              "\n",
              "    .dataframe tbody tr th {\n",
              "        vertical-align: top;\n",
              "    }\n",
              "\n",
              "    .dataframe thead th {\n",
              "        text-align: right;\n",
              "    }\n",
              "</style>\n",
              "<table border=\"1\" class=\"dataframe\">\n",
              "  <thead>\n",
              "    <tr style=\"text-align: right;\">\n",
              "      <th></th>\n",
              "      <th>User-ID</th>\n",
              "      <th>Location</th>\n",
              "      <th>Age</th>\n",
              "    </tr>\n",
              "  </thead>\n",
              "  <tbody>\n",
              "    <tr>\n",
              "      <th>0</th>\n",
              "      <td>1</td>\n",
              "      <td>nyc, new york, usa</td>\n",
              "      <td>NaN</td>\n",
              "    </tr>\n",
              "    <tr>\n",
              "      <th>1</th>\n",
              "      <td>2</td>\n",
              "      <td>stockton, california, usa</td>\n",
              "      <td>18.0</td>\n",
              "    </tr>\n",
              "  </tbody>\n",
              "</table>\n",
              "</div>"
            ],
            "text/plain": [
              "   User-ID                   Location   Age\n",
              "0        1         nyc, new york, usa   NaN\n",
              "1        2  stockton, california, usa  18.0"
            ]
          },
          "metadata": {},
          "execution_count": 7
        }
      ]
    },
    {
      "cell_type": "code",
      "metadata": {
        "id": "v7TzXJjKX9OK"
      },
      "source": [
        "# fillna from normal distribution, as Age have to be normally distributed\n",
        "\"\"\"\n",
        "index = users[users.Age.isna()].index\n",
        "value = np.random.normal(loc=users.Age.mean(), scale=users.Age.std(), size=users.Age.isna().sum())\n",
        "users.Age.fillna(pd.Series(np.abs(value), index=index), inplace=True)\n",
        "index = users[users.Age < 2].index\n",
        "value = np.random.normal(loc=np.abs(users.Age.mean()), scale=users.Age.std(), size=len(users[users.Age<2]))\n",
        "\"\"\""
      ],
      "execution_count": null,
      "outputs": []
    },
    {
      "cell_type": "code",
      "metadata": {
        "id": "mHz75kVmZZsF"
      },
      "source": [
        "def snow_stem(text):\n",
        "    snow_stemmer = SnowballStemmer(language='english')\n",
        "    new_text = ''\n",
        "    for word in text.split():\n",
        "        new_text += snow_stemmer.stem(word) + ' '\n",
        "    return new_text"
      ],
      "execution_count": null,
      "outputs": []
    },
    {
      "cell_type": "code",
      "metadata": {
        "id": "f9rlIVmxeERB"
      },
      "source": [
        "q1 = np.quantile(users.Age.dropna(), q=0.25)\n",
        "q3 = np.quantile(users.Age.dropna(), q=0.75)\n",
        "iqr1, iqr2 = q3 + 1.5 * (q3 - q1) + users.Age.std(), q3 - 1.5 * (q3 - q1)\n",
        "\n",
        "users.loc[users.Age < iqr2, 'Age'] = iqr2\n",
        "users.loc[users.Age > iqr1, 'Age'] = iqr1\n",
        "\n",
        "users.Age.fillna('UNK', inplace=True)\n",
        "df = ratings.merge(users, on='User-ID', how='left')"
      ],
      "execution_count": null,
      "outputs": []
    },
    {
      "cell_type": "code",
      "metadata": {
        "id": "PasSJ5zDefSg"
      },
      "source": [
        "df = df.merge(books, on='ISBN', how='left')\n",
        "df.drop(['Image-URL-S', 'Image-URL-M', 'Image-URL-L'], axis=1, inplace=True)\n",
        "df.dropna(inplace=True)"
      ],
      "execution_count": null,
      "outputs": []
    },
    {
      "cell_type": "code",
      "metadata": {
        "id": "DGJSvwqohBf1"
      },
      "source": [
        "# content - based: use User-ID, ISBN, Book-Title, Book-Rating, Publisher, Book-Author, Location, Age\n",
        "# look for similar books with high rating\n",
        "# nltk stop words, cleaning if needed\n",
        "content_df = df.copy()[['User-ID', 'ISBN', 'Book-Title', 'Book-Author', 'Location', 'Book-Rating']]\n",
        "content_df.sample(2)"
      ],
      "execution_count": null,
      "outputs": []
    },
    {
      "cell_type": "code",
      "metadata": {
        "id": "gzqjcJ2olsnV"
      },
      "source": [
        "content_df['Location'] = content_df['Location'].apply(lambda x: x.split()[-1])\n",
        "loc_df = content_df.loc[content_df.Location == 'usa', :]\n",
        "loc_df.drop(columns=['Location'], inplace=True)\n",
        "# memory issues\n",
        "loc_df = loc_df.sample(int(len(loc_df)*0.05))\n",
        "# content_df.set_index('ISBN', drop=True, inplace=True)\n",
        "loc_df['Book-Author'] = loc_df['Book-Author'].apply(lambda x: str(x).lower().replace(' ', '').replace('.', ''))\n",
        "loc_df['Book-Title'] = loc_df['Book-Title'].apply(lambda x: re.sub(r'[^ \\w+]', '', x).lower())\n",
        "loc_df['vectorized'] = loc_df['Book-Author'] + ' ' + loc_df['Book-Title']\n",
        "stop = stopwords.words('english')\n",
        "loc_df['vectorized'] = loc_df['vectorized'].apply(lambda x: ' '.join([i for i in x.split() if i not in stop]))\n",
        "loc_df['vectorized'] = loc_df['vectorized'].apply(lambda x: snow_stem(x))"
      ],
      "execution_count": null,
      "outputs": []
    },
    {
      "cell_type": "code",
      "metadata": {
        "colab": {
          "base_uri": "https://localhost:8080/",
          "height": 112
        },
        "id": "r_lMv4pdnsuJ",
        "outputId": "4dc4a24b-1721-4d8b-fbb2-a864ca00f5bb"
      },
      "source": [
        "loc_df.sample(2)"
      ],
      "execution_count": null,
      "outputs": [
        {
          "output_type": "execute_result",
          "data": {
            "text/html": [
              "<div>\n",
              "<style scoped>\n",
              "    .dataframe tbody tr th:only-of-type {\n",
              "        vertical-align: middle;\n",
              "    }\n",
              "\n",
              "    .dataframe tbody tr th {\n",
              "        vertical-align: top;\n",
              "    }\n",
              "\n",
              "    .dataframe thead th {\n",
              "        text-align: right;\n",
              "    }\n",
              "</style>\n",
              "<table border=\"1\" class=\"dataframe\">\n",
              "  <thead>\n",
              "    <tr style=\"text-align: right;\">\n",
              "      <th></th>\n",
              "      <th>ISBN</th>\n",
              "      <th>vectorized</th>\n",
              "      <th>User-ID</th>\n",
              "      <th>Book-Rating</th>\n",
              "    </tr>\n",
              "  </thead>\n",
              "  <tbody>\n",
              "    <tr>\n",
              "      <th>17113</th>\n",
              "      <td>044651862X</td>\n",
              "      <td>jamesredfield celestin propheci celestin proph...</td>\n",
              "      <td>201593</td>\n",
              "      <td>0</td>\n",
              "    </tr>\n",
              "    <tr>\n",
              "      <th>12127</th>\n",
              "      <td>0385720106</td>\n",
              "      <td>janehamilton map world</td>\n",
              "      <td>237486</td>\n",
              "      <td>7</td>\n",
              "    </tr>\n",
              "  </tbody>\n",
              "</table>\n",
              "</div>"
            ],
            "text/plain": [
              "             ISBN  ... Book-Rating\n",
              "17113  044651862X  ...           0\n",
              "12127  0385720106  ...           7\n",
              "\n",
              "[2 rows x 4 columns]"
            ]
          },
          "metadata": {},
          "execution_count": 46
        }
      ]
    },
    {
      "cell_type": "code",
      "metadata": {
        "id": "juZe4DNB1G0j"
      },
      "source": [
        "loc_df = loc_df.groupby(['ISBN', 'vectorized', 'User-ID']).agg({'Book-Rating': 'mean'}).reset_index()"
      ],
      "execution_count": null,
      "outputs": []
    },
    {
      "cell_type": "code",
      "metadata": {
        "id": "0saq7CHiaRCT"
      },
      "source": [
        "# clear memory\n",
        "del users\n",
        "del books\n",
        "del ratings\n",
        "del content_df\n",
        "del df"
      ],
      "execution_count": null,
      "outputs": []
    },
    {
      "cell_type": "code",
      "metadata": {
        "id": "syixeg5vvBok"
      },
      "source": [
        "# CountVectorizer, TfidfVectorizer, HashingVectorizer fail as RAM memory is not enough to handle all transforms"
      ],
      "execution_count": null,
      "outputs": []
    },
    {
      "cell_type": "code",
      "metadata": {
        "id": "37JIZAAKhqS4"
      },
      "source": [
        "# vectorizer = HashingVectorizer(n_features=2**21, decode_error='ignore')\n",
        "tfid = TfidfVectorizer()"
      ],
      "execution_count": null,
      "outputs": []
    },
    {
      "cell_type": "code",
      "metadata": {
        "id": "-KYEsJwUi7qD"
      },
      "source": [
        "matrice = tfid.fit_transform(loc_df['vectorized'])"
      ],
      "execution_count": null,
      "outputs": []
    },
    {
      "cell_type": "code",
      "metadata": {
        "id": "ctm3QyaCyjko"
      },
      "source": [
        "# apply autoencoder to reduce dim of vectors, Embedding?"
      ],
      "execution_count": null,
      "outputs": []
    },
    {
      "cell_type": "code",
      "metadata": {
        "colab": {
          "base_uri": "https://localhost:8080/",
          "height": 81
        },
        "id": "uFM9KTXG_Eg0",
        "outputId": "195a569b-781c-4f2d-8acc-3e7e45a4af9c"
      },
      "source": [
        "loc_df.sample()"
      ],
      "execution_count": null,
      "outputs": [
        {
          "output_type": "execute_result",
          "data": {
            "text/html": [
              "<div>\n",
              "<style scoped>\n",
              "    .dataframe tbody tr th:only-of-type {\n",
              "        vertical-align: middle;\n",
              "    }\n",
              "\n",
              "    .dataframe tbody tr th {\n",
              "        vertical-align: top;\n",
              "    }\n",
              "\n",
              "    .dataframe thead th {\n",
              "        text-align: right;\n",
              "    }\n",
              "</style>\n",
              "<table border=\"1\" class=\"dataframe\">\n",
              "  <thead>\n",
              "    <tr style=\"text-align: right;\">\n",
              "      <th></th>\n",
              "      <th>ISBN</th>\n",
              "      <th>vectorized</th>\n",
              "      <th>User-ID</th>\n",
              "      <th>Book-Rating</th>\n",
              "    </tr>\n",
              "  </thead>\n",
              "  <tbody>\n",
              "    <tr>\n",
              "      <th>22829</th>\n",
              "      <td>0553289411</td>\n",
              "      <td>jeanmauel plain passag earth children paperback</td>\n",
              "      <td>115971</td>\n",
              "      <td>9</td>\n",
              "    </tr>\n",
              "  </tbody>\n",
              "</table>\n",
              "</div>"
            ],
            "text/plain": [
              "             ISBN  ... Book-Rating\n",
              "22829  0553289411  ...           9\n",
              "\n",
              "[1 rows x 4 columns]"
            ]
          },
          "metadata": {},
          "execution_count": 71
        }
      ]
    },
    {
      "cell_type": "code",
      "metadata": {
        "id": "VsYWs100kGWt"
      },
      "source": [
        "def get_cossim(bookid, top):\n",
        "    books_to_search = loc_df[['ISBN', 'Book-Rating']]\n",
        "    bookid_idx = books_to_search[books_to_search.ISBN == bookid].index\n",
        "    books_to_search['dist'] = 0\n",
        "    for idx, row in books_to_search.iterrows():\n",
        "        row['dist'] = cosine_similarity(matrice[idx], matrice[bookid_idx])\n",
        "    books_to_search.drop(bookid_idx, axis=0, inplace=True)\n",
        "    books_to_search = books_to_search.explode('dist').explode('dist')\n",
        "    return books_to_search.sort_values(by=['dist', 'Book-Rating'], ascending=False)['ISBN'].head(top).values"
      ],
      "execution_count": null,
      "outputs": []
    },
    {
      "cell_type": "code",
      "metadata": {
        "id": "5qm36wKo-FUV"
      },
      "source": [
        "top10 = get_cossim(bookid='0385720106', top=10)"
      ],
      "execution_count": null,
      "outputs": []
    },
    {
      "cell_type": "code",
      "metadata": {
        "colab": {
          "base_uri": "https://localhost:8080/",
          "height": 363
        },
        "id": "QOB56gg7ApLU",
        "outputId": "bd9c9e69-5ddd-4130-ec8b-2365b8fb82d9"
      },
      "source": [
        "loc_df[loc_df.ISBN.isin(top10)]"
      ],
      "execution_count": null,
      "outputs": [
        {
          "output_type": "execute_result",
          "data": {
            "text/html": [
              "<div>\n",
              "<style scoped>\n",
              "    .dataframe tbody tr th:only-of-type {\n",
              "        vertical-align: middle;\n",
              "    }\n",
              "\n",
              "    .dataframe tbody tr th {\n",
              "        vertical-align: top;\n",
              "    }\n",
              "\n",
              "    .dataframe thead th {\n",
              "        text-align: right;\n",
              "    }\n",
              "</style>\n",
              "<table border=\"1\" class=\"dataframe\">\n",
              "  <thead>\n",
              "    <tr style=\"text-align: right;\">\n",
              "      <th></th>\n",
              "      <th>ISBN</th>\n",
              "      <th>vectorized</th>\n",
              "      <th>Book-Rating</th>\n",
              "    </tr>\n",
              "  </thead>\n",
              "  <tbody>\n",
              "    <tr>\n",
              "      <th>10</th>\n",
              "      <td>000599134X</td>\n",
              "      <td>jacquesmusset collin bibl handbook</td>\n",
              "      <td>10.0</td>\n",
              "    </tr>\n",
              "    <tr>\n",
              "      <th>32</th>\n",
              "      <td>0020223722</td>\n",
              "      <td>richardllewellyn green valley</td>\n",
              "      <td>10.0</td>\n",
              "    </tr>\n",
              "    <tr>\n",
              "      <th>40</th>\n",
              "      <td>0020418809</td>\n",
              "      <td>carolryriebrink caddi woodlawn</td>\n",
              "      <td>10.0</td>\n",
              "    </tr>\n",
              "    <tr>\n",
              "      <th>48</th>\n",
              "      <td>0020442408</td>\n",
              "      <td>cslewi princ caspian</td>\n",
              "      <td>10.0</td>\n",
              "    </tr>\n",
              "    <tr>\n",
              "      <th>49</th>\n",
              "      <td>0020442505</td>\n",
              "      <td>cslewi silver chair</td>\n",
              "      <td>10.0</td>\n",
              "    </tr>\n",
              "    <tr>\n",
              "      <th>84</th>\n",
              "      <td>0026301253</td>\n",
              "      <td>justinwilson justin wilson homegrown louisiana...</td>\n",
              "      <td>10.0</td>\n",
              "    </tr>\n",
              "    <tr>\n",
              "      <th>86</th>\n",
              "      <td>0027197107</td>\n",
              "      <td>elizabethcoatsworth cat went heaven</td>\n",
              "      <td>10.0</td>\n",
              "    </tr>\n",
              "    <tr>\n",
              "      <th>101</th>\n",
              "      <td>0028621697</td>\n",
              "      <td>macmillanpublish new york public librari desk ...</td>\n",
              "      <td>10.0</td>\n",
              "    </tr>\n",
              "    <tr>\n",
              "      <th>106</th>\n",
              "      <td>0028632028</td>\n",
              "      <td>sheilarlow complet idiot guid handwrit analysi</td>\n",
              "      <td>10.0</td>\n",
              "    </tr>\n",
              "    <tr>\n",
              "      <th>110</th>\n",
              "      <td>0028643380</td>\n",
              "      <td>jaystevenson complet idiot guid philosophi 2nd...</td>\n",
              "      <td>10.0</td>\n",
              "    </tr>\n",
              "  </tbody>\n",
              "</table>\n",
              "</div>"
            ],
            "text/plain": [
              "           ISBN                                         vectorized  Book-Rating\n",
              "10   000599134X                jacquesmusset collin bibl handbook          10.0\n",
              "32   0020223722                     richardllewellyn green valley          10.0\n",
              "40   0020418809                    carolryriebrink caddi woodlawn          10.0\n",
              "48   0020442408                              cslewi princ caspian          10.0\n",
              "49   0020442505                               cslewi silver chair          10.0\n",
              "84   0026301253  justinwilson justin wilson homegrown louisiana...         10.0\n",
              "86   0027197107               elizabethcoatsworth cat went heaven          10.0\n",
              "101  0028621697  macmillanpublish new york public librari desk ...         10.0\n",
              "106  0028632028    sheilarlow complet idiot guid handwrit analysi          10.0\n",
              "110  0028643380  jaystevenson complet idiot guid philosophi 2nd...         10.0"
            ]
          },
          "metadata": {},
          "execution_count": 31
        }
      ]
    },
    {
      "cell_type": "code",
      "metadata": {
        "id": "9cYwPqkJCWwe"
      },
      "source": [
        "def get_similar(userid, rate=4.5):\n",
        "    books_read_by_user = loc_df[loc_df['User-ID'] == userid]\n",
        "    books_read_by_user = books_read_by_user[books_read_by_user['Book-Rating'] >= rate]\n",
        "    top_books_user = (books_read_by_user.sort_values(by=\"Book-Rating\", ascending=False).head(20))\n",
        "    top_books_user['read_bookId'] = top_books_user['ISBN']\n",
        "    top_books_user = top_books_user[['User-ID', 'read_bookId']]\n",
        "    top_books_user['similar'] = top_books_user['read_bookId'].apply(lambda x: (get_cossim(x, 5)))\n",
        "    result = [x for x in np.concatenate(top_books_user['similar'].values, axis=0).tolist() if x not in top_books_user.read_bookId.values.tolist()]\n",
        "    return result"
      ],
      "execution_count": null,
      "outputs": []
    },
    {
      "cell_type": "code",
      "metadata": {
        "id": "femZXKroGIjj"
      },
      "source": [
        "get_similar(115971, rate=0)"
      ],
      "execution_count": null,
      "outputs": []
    },
    {
      "cell_type": "code",
      "metadata": {
        "id": "MlWA5g1W8Pat"
      },
      "source": [
        "def get_top(id, top, rate=5):\n",
        "    smlr = get_similar(id)\n",
        "    print('got similar')    \n",
        "    ratings_mean_count = pd.DataFrame(loc_df.groupby('ISBN')['Book-Rating'].mean())\n",
        "    ratings_mean_count['rating_counts'] = pd.DataFrame(loc_df.groupby('ISBN')['Book-Rating'].count())\n",
        "    ratings_mean_count = ratings_mean_count[ratings_mean_count['rating_counts'] >= rate]\n",
        "    return ratings_mean_count[ratings_mean_count.index.isin(smlr)].sort_values(by=['Book-Rating'], ascending=False).head(top)"
      ],
      "execution_count": null,
      "outputs": []
    },
    {
      "cell_type": "code",
      "metadata": {
        "colab": {
          "base_uri": "https://localhost:8080/",
          "height": 255
        },
        "id": "DNqJbsgSESzT",
        "outputId": "71913bf6-0db8-4a5d-842c-32c7de548981"
      },
      "source": [
        "get_top(115971, 10, 0)"
      ],
      "execution_count": null,
      "outputs": [
        {
          "output_type": "stream",
          "name": "stdout",
          "text": [
            "got similar\n"
          ]
        },
        {
          "output_type": "execute_result",
          "data": {
            "text/html": [
              "<div>\n",
              "<style scoped>\n",
              "    .dataframe tbody tr th:only-of-type {\n",
              "        vertical-align: middle;\n",
              "    }\n",
              "\n",
              "    .dataframe tbody tr th {\n",
              "        vertical-align: top;\n",
              "    }\n",
              "\n",
              "    .dataframe thead th {\n",
              "        text-align: right;\n",
              "    }\n",
              "</style>\n",
              "<table border=\"1\" class=\"dataframe\">\n",
              "  <thead>\n",
              "    <tr style=\"text-align: right;\">\n",
              "      <th></th>\n",
              "      <th>Book-Rating</th>\n",
              "      <th>rating_counts</th>\n",
              "    </tr>\n",
              "    <tr>\n",
              "      <th>ISBN</th>\n",
              "      <th></th>\n",
              "      <th></th>\n",
              "    </tr>\n",
              "  </thead>\n",
              "  <tbody>\n",
              "    <tr>\n",
              "      <th>0006492347</th>\n",
              "      <td>10.0</td>\n",
              "      <td>1</td>\n",
              "    </tr>\n",
              "    <tr>\n",
              "      <th>0007123469</th>\n",
              "      <td>10.0</td>\n",
              "      <td>1</td>\n",
              "    </tr>\n",
              "    <tr>\n",
              "      <th>0020306652</th>\n",
              "      <td>10.0</td>\n",
              "      <td>1</td>\n",
              "    </tr>\n",
              "    <tr>\n",
              "      <th>0020310501</th>\n",
              "      <td>10.0</td>\n",
              "      <td>1</td>\n",
              "    </tr>\n",
              "    <tr>\n",
              "      <th>0020360487</th>\n",
              "      <td>10.0</td>\n",
              "      <td>1</td>\n",
              "    </tr>\n",
              "  </tbody>\n",
              "</table>\n",
              "</div>"
            ],
            "text/plain": [
              "            Book-Rating  rating_counts\n",
              "ISBN                                  \n",
              "0006492347         10.0              1\n",
              "0007123469         10.0              1\n",
              "0020306652         10.0              1\n",
              "0020310501         10.0              1\n",
              "0020360487         10.0              1"
            ]
          },
          "metadata": {},
          "execution_count": 83
        }
      ]
    },
    {
      "cell_type": "code",
      "metadata": {
        "colab": {
          "base_uri": "https://localhost:8080/",
          "height": 143
        },
        "id": "FG_iCelxNeGI",
        "outputId": "f8f5825f-0aaf-40a7-b519-8968f559aa60"
      },
      "source": [
        "loc_df[loc_df.ISBN.isin(['0006492347', '0007123469', '0020306652'])]"
      ],
      "execution_count": null,
      "outputs": [
        {
          "output_type": "execute_result",
          "data": {
            "text/html": [
              "<div>\n",
              "<style scoped>\n",
              "    .dataframe tbody tr th:only-of-type {\n",
              "        vertical-align: middle;\n",
              "    }\n",
              "\n",
              "    .dataframe tbody tr th {\n",
              "        vertical-align: top;\n",
              "    }\n",
              "\n",
              "    .dataframe thead th {\n",
              "        text-align: right;\n",
              "    }\n",
              "</style>\n",
              "<table border=\"1\" class=\"dataframe\">\n",
              "  <thead>\n",
              "    <tr style=\"text-align: right;\">\n",
              "      <th></th>\n",
              "      <th>ISBN</th>\n",
              "      <th>vectorized</th>\n",
              "      <th>User-ID</th>\n",
              "      <th>Book-Rating</th>\n",
              "    </tr>\n",
              "  </thead>\n",
              "  <tbody>\n",
              "    <tr>\n",
              "      <th>6</th>\n",
              "      <td>0006492347</td>\n",
              "      <td>charlesschulz insight outfield peanut work amp...</td>\n",
              "      <td>40943</td>\n",
              "      <td>10</td>\n",
              "    </tr>\n",
              "    <tr>\n",
              "      <th>10</th>\n",
              "      <td>0007123469</td>\n",
              "      <td>fionahorn 7 day magick new</td>\n",
              "      <td>56288</td>\n",
              "      <td>10</td>\n",
              "    </tr>\n",
              "    <tr>\n",
              "      <th>41</th>\n",
              "      <td>0020306652</td>\n",
              "      <td>jimbouton ball four</td>\n",
              "      <td>240370</td>\n",
              "      <td>10</td>\n",
              "    </tr>\n",
              "  </tbody>\n",
              "</table>\n",
              "</div>"
            ],
            "text/plain": [
              "          ISBN  ... Book-Rating\n",
              "6   0006492347  ...          10\n",
              "10  0007123469  ...          10\n",
              "41  0020306652  ...          10\n",
              "\n",
              "[3 rows x 4 columns]"
            ]
          },
          "metadata": {},
          "execution_count": 78
        }
      ]
    },
    {
      "cell_type": "code",
      "metadata": {
        "colab": {
          "base_uri": "https://localhost:8080/",
          "height": 143
        },
        "id": "pFcfAkTFN1p9",
        "outputId": "d2900450-c6de-4cb8-a411-2a89b352362c"
      },
      "source": [
        "loc_df.loc[loc_df['User-ID'] == 115971, :].sort_values('Book-Rating', ascending=False)"
      ],
      "execution_count": null,
      "outputs": [
        {
          "output_type": "execute_result",
          "data": {
            "text/html": [
              "<div>\n",
              "<style scoped>\n",
              "    .dataframe tbody tr th:only-of-type {\n",
              "        vertical-align: middle;\n",
              "    }\n",
              "\n",
              "    .dataframe tbody tr th {\n",
              "        vertical-align: top;\n",
              "    }\n",
              "\n",
              "    .dataframe thead th {\n",
              "        text-align: right;\n",
              "    }\n",
              "</style>\n",
              "<table border=\"1\" class=\"dataframe\">\n",
              "  <thead>\n",
              "    <tr style=\"text-align: right;\">\n",
              "      <th></th>\n",
              "      <th>ISBN</th>\n",
              "      <th>vectorized</th>\n",
              "      <th>User-ID</th>\n",
              "      <th>Book-Rating</th>\n",
              "    </tr>\n",
              "  </thead>\n",
              "  <tbody>\n",
              "    <tr>\n",
              "      <th>22298</th>\n",
              "      <td>0553250531</td>\n",
              "      <td>jeanmauel valley hors</td>\n",
              "      <td>115971</td>\n",
              "      <td>10</td>\n",
              "    </tr>\n",
              "    <tr>\n",
              "      <th>22829</th>\n",
              "      <td>0553289411</td>\n",
              "      <td>jeanmauel plain passag earth children paperback</td>\n",
              "      <td>115971</td>\n",
              "      <td>9</td>\n",
              "    </tr>\n",
              "    <tr>\n",
              "      <th>13281</th>\n",
              "      <td>0405101031</td>\n",
              "      <td>lucascleev tale sun folklor southern india int...</td>\n",
              "      <td>115971</td>\n",
              "      <td>7</td>\n",
              "    </tr>\n",
              "  </tbody>\n",
              "</table>\n",
              "</div>"
            ],
            "text/plain": [
              "             ISBN  ... Book-Rating\n",
              "22298  0553250531  ...          10\n",
              "22829  0553289411  ...           9\n",
              "13281  0405101031  ...           7\n",
              "\n",
              "[3 rows x 4 columns]"
            ]
          },
          "metadata": {},
          "execution_count": 80
        }
      ]
    },
    {
      "cell_type": "code",
      "metadata": {
        "id": "LRKxZ-VThdAO"
      },
      "source": [
        "to_adapt = list(set(itertools.chain.from_iterable(loc_df.vectorized.apply(lambda x: x.split()).to_list())))\n",
        "text_dataset = tf.data.Dataset.from_tensor_slices(to_adapt)\n",
        "max_features = 10000  # Maximum vocab size.\n",
        "max_len = 18  # Sequence length to pad the outputs to.\n",
        "\n",
        "# Create the layer.\n",
        "vectorize_layer = tf.keras.layers.TextVectorization(\n",
        " max_tokens=max_features,\n",
        " output_mode='int',\n",
        " output_sequence_length=max_len)\n",
        "\n",
        "# Now that the vocab layer has been created, call `adapt` on the text-only\n",
        "# dataset to create the vocabulary. You don't have to batch, but for large\n",
        "# datasets this means we're not keeping spare copies of the dataset.\n",
        "vectorize_layer.adapt(text_dataset.batch(64))\n",
        "\n",
        "# Create the model that uses the vectorize text layer\n",
        "model = tf.keras.models.Sequential()\n",
        "\n",
        "# Start by creating an explicit input layer. It needs to have a shape of\n",
        "# (1,) (because we need to guarantee that there is exactly one string\n",
        "# input per batch), and the dtype needs to be 'string'.\n",
        "model.add(tf.keras.Input(shape=(1,), dtype=tf.string))\n",
        "\n",
        "# The first layer in our model is the vectorization layer. After this\n",
        "# layer, we have a tensor of shape (batch_size, max_len) containing vocab\n",
        "# indices.\n",
        "model.add(vectorize_layer)"
      ],
      "execution_count": null,
      "outputs": []
    },
    {
      "cell_type": "code",
      "metadata": {
        "id": "dxQyp5wNvh6P"
      },
      "source": [
        "# Now, the model can map strings to integers, and you can add an embedding\n",
        "# layer to map these integers to learned embeddings.\n",
        "loc_df['vectorized'] = loc_df['vectorized'].apply(lambda x: model.predict([x]))"
      ],
      "execution_count": null,
      "outputs": []
    },
    {
      "cell_type": "code",
      "metadata": {
        "id": "uK84U_mr46Hw"
      },
      "source": [
        "# try content-based from ALS"
      ],
      "execution_count": null,
      "outputs": []
    },
    {
      "cell_type": "code",
      "metadata": {
        "id": "y5trk5wu481i"
      },
      "source": [
        "df = ratings.merge(books, on='ISBN', how='left')\n",
        "df.drop(['Image-URL-S', 'Image-URL-M', 'Image-URL-L'], axis=1, inplace=True)\n",
        "df.dropna(inplace=True)\n",
        "df.drop(['Book-Author', 'Year-Of-Publication', 'Publisher'], axis=1, inplace=True)"
      ],
      "execution_count": 30,
      "outputs": []
    },
    {
      "cell_type": "code",
      "metadata": {
        "colab": {
          "base_uri": "https://localhost:8080/",
          "height": 112
        },
        "id": "Hljvay7ZEdpJ",
        "outputId": "49259282-d60e-4e2a-dd3d-e5d07c40054d"
      },
      "source": [
        "df.head(2)"
      ],
      "execution_count": 31,
      "outputs": [
        {
          "output_type": "execute_result",
          "data": {
            "text/html": [
              "\n",
              "  <div id=\"df-af719c80-8fc5-4e9c-a61f-4a183245801e\">\n",
              "    <div class=\"colab-df-container\">\n",
              "      <div>\n",
              "<style scoped>\n",
              "    .dataframe tbody tr th:only-of-type {\n",
              "        vertical-align: middle;\n",
              "    }\n",
              "\n",
              "    .dataframe tbody tr th {\n",
              "        vertical-align: top;\n",
              "    }\n",
              "\n",
              "    .dataframe thead th {\n",
              "        text-align: right;\n",
              "    }\n",
              "</style>\n",
              "<table border=\"1\" class=\"dataframe\">\n",
              "  <thead>\n",
              "    <tr style=\"text-align: right;\">\n",
              "      <th></th>\n",
              "      <th>User-ID</th>\n",
              "      <th>ISBN</th>\n",
              "      <th>Book-Rating</th>\n",
              "      <th>Book-Title</th>\n",
              "    </tr>\n",
              "  </thead>\n",
              "  <tbody>\n",
              "    <tr>\n",
              "      <th>0</th>\n",
              "      <td>276725</td>\n",
              "      <td>034545104X</td>\n",
              "      <td>0</td>\n",
              "      <td>Flesh Tones: A Novel</td>\n",
              "    </tr>\n",
              "    <tr>\n",
              "      <th>1</th>\n",
              "      <td>276726</td>\n",
              "      <td>0155061224</td>\n",
              "      <td>5</td>\n",
              "      <td>Rites of Passage</td>\n",
              "    </tr>\n",
              "  </tbody>\n",
              "</table>\n",
              "</div>\n",
              "      <button class=\"colab-df-convert\" onclick=\"convertToInteractive('df-af719c80-8fc5-4e9c-a61f-4a183245801e')\"\n",
              "              title=\"Convert this dataframe to an interactive table.\"\n",
              "              style=\"display:none;\">\n",
              "        \n",
              "  <svg xmlns=\"http://www.w3.org/2000/svg\" height=\"24px\"viewBox=\"0 0 24 24\"\n",
              "       width=\"24px\">\n",
              "    <path d=\"M0 0h24v24H0V0z\" fill=\"none\"/>\n",
              "    <path d=\"M18.56 5.44l.94 2.06.94-2.06 2.06-.94-2.06-.94-.94-2.06-.94 2.06-2.06.94zm-11 1L8.5 8.5l.94-2.06 2.06-.94-2.06-.94L8.5 2.5l-.94 2.06-2.06.94zm10 10l.94 2.06.94-2.06 2.06-.94-2.06-.94-.94-2.06-.94 2.06-2.06.94z\"/><path d=\"M17.41 7.96l-1.37-1.37c-.4-.4-.92-.59-1.43-.59-.52 0-1.04.2-1.43.59L10.3 9.45l-7.72 7.72c-.78.78-.78 2.05 0 2.83L4 21.41c.39.39.9.59 1.41.59.51 0 1.02-.2 1.41-.59l7.78-7.78 2.81-2.81c.8-.78.8-2.07 0-2.86zM5.41 20L4 18.59l7.72-7.72 1.47 1.35L5.41 20z\"/>\n",
              "  </svg>\n",
              "      </button>\n",
              "      \n",
              "  <style>\n",
              "    .colab-df-container {\n",
              "      display:flex;\n",
              "      flex-wrap:wrap;\n",
              "      gap: 12px;\n",
              "    }\n",
              "\n",
              "    .colab-df-convert {\n",
              "      background-color: #E8F0FE;\n",
              "      border: none;\n",
              "      border-radius: 50%;\n",
              "      cursor: pointer;\n",
              "      display: none;\n",
              "      fill: #1967D2;\n",
              "      height: 32px;\n",
              "      padding: 0 0 0 0;\n",
              "      width: 32px;\n",
              "    }\n",
              "\n",
              "    .colab-df-convert:hover {\n",
              "      background-color: #E2EBFA;\n",
              "      box-shadow: 0px 1px 2px rgba(60, 64, 67, 0.3), 0px 1px 3px 1px rgba(60, 64, 67, 0.15);\n",
              "      fill: #174EA6;\n",
              "    }\n",
              "\n",
              "    [theme=dark] .colab-df-convert {\n",
              "      background-color: #3B4455;\n",
              "      fill: #D2E3FC;\n",
              "    }\n",
              "\n",
              "    [theme=dark] .colab-df-convert:hover {\n",
              "      background-color: #434B5C;\n",
              "      box-shadow: 0px 1px 3px 1px rgba(0, 0, 0, 0.15);\n",
              "      filter: drop-shadow(0px 1px 2px rgba(0, 0, 0, 0.3));\n",
              "      fill: #FFFFFF;\n",
              "    }\n",
              "  </style>\n",
              "\n",
              "      <script>\n",
              "        const buttonEl =\n",
              "          document.querySelector('#df-af719c80-8fc5-4e9c-a61f-4a183245801e button.colab-df-convert');\n",
              "        buttonEl.style.display =\n",
              "          google.colab.kernel.accessAllowed ? 'block' : 'none';\n",
              "\n",
              "        async function convertToInteractive(key) {\n",
              "          const element = document.querySelector('#df-af719c80-8fc5-4e9c-a61f-4a183245801e');\n",
              "          const dataTable =\n",
              "            await google.colab.kernel.invokeFunction('convertToInteractive',\n",
              "                                                     [key], {});\n",
              "          if (!dataTable) return;\n",
              "\n",
              "          const docLinkHtml = 'Like what you see? Visit the ' +\n",
              "            '<a target=\"_blank\" href=https://colab.research.google.com/notebooks/data_table.ipynb>data table notebook</a>'\n",
              "            + ' to learn more about interactive tables.';\n",
              "          element.innerHTML = '';\n",
              "          dataTable['output_type'] = 'display_data';\n",
              "          await google.colab.output.renderOutput(dataTable, element);\n",
              "          const docLink = document.createElement('div');\n",
              "          docLink.innerHTML = docLinkHtml;\n",
              "          element.appendChild(docLink);\n",
              "        }\n",
              "      </script>\n",
              "    </div>\n",
              "  </div>\n",
              "  "
            ],
            "text/plain": [
              "   User-ID        ISBN  Book-Rating            Book-Title\n",
              "0   276725  034545104X            0  Flesh Tones: A Novel\n",
              "1   276726  0155061224            5      Rites of Passage"
            ]
          },
          "metadata": {},
          "execution_count": 31
        }
      ]
    },
    {
      "cell_type": "code",
      "metadata": {
        "colab": {
          "base_uri": "https://localhost:8080/",
          "height": 282
        },
        "id": "ocTpCbcET01a",
        "outputId": "e15964e8-af8f-4760-aca2-bb32cddc7e59"
      },
      "source": [
        "df['Book-Rating'].hist(bins=10)"
      ],
      "execution_count": null,
      "outputs": [
        {
          "output_type": "execute_result",
          "data": {
            "text/plain": [
              "<matplotlib.axes._subplots.AxesSubplot at 0x7f4cce07ced0>"
            ]
          },
          "metadata": {},
          "execution_count": 46
        },
        {
          "output_type": "display_data",
          "data": {
            "image/png": "[encoded data removed]",
            "text/plain": [
              "<Figure size 432x288 with 1 Axes>"
            ]
          },
          "metadata": {
            "needs_background": "light"
          }
        }
      ]
    },
    {
      "cell_type": "code",
      "metadata": {
        "id": "3qI5xopfEzGU"
      },
      "source": [
        "grouped_df = df.groupby(['User-ID', 'ISBN', 'Book-Title']).mean().reset_index() # not a big sense as there is one rating for one book by user\n",
        "# implicit data. To make explicit we may add to rating author-score (mean author rating) and bookscore (mean book rating), we will do this in tf section\n",
        "grouped_df.drop_duplicates(inplace=True)\n",
        "grouped_df['Book-Title'] = grouped_df['Book-Title'].astype(\"category\")\n",
        "grouped_df['User-ID'] = grouped_df['User-ID'].astype(\"category\")\n",
        "grouped_df['ISBN'] = grouped_df['ISBN'].astype(\"category\")\n",
        "grouped_df['person_id'] = grouped_df['User-ID'].cat.codes # Return Series of codes as well as the index.\n",
        "grouped_df['content_id'] = grouped_df['ISBN'].cat.codes"
      ],
      "execution_count": 32,
      "outputs": []
    },
    {
      "cell_type": "code",
      "metadata": {
        "id": "jTWNmfjyFyAL"
      },
      "source": [
        "sparse_content_person = sparse.csr_matrix((grouped_df['Book-Rating'].astype(float), (grouped_df['content_id'], grouped_df['person_id'])))\n",
        "sparse_person_content = sparse.csr_matrix((grouped_df['Book-Rating'].astype(float), (grouped_df['person_id'], grouped_df['content_id'])))"
      ],
      "execution_count": 33,
      "outputs": []
    },
    {
      "cell_type": "code",
      "metadata": {
        "colab": {
          "base_uri": "https://localhost:8080/",
          "height": 49,
          "referenced_widgets": [
            "9fecc526438d4ac39c38a856c86ac542",
            "452b2bddd9ab4a70985a33bfe5975f23",
            "ce470ccddb2f4a9487382b265f5b8dcf",
            "e1e03e6cc71a4ef08b08094c5dd4c485",
            "9988ec4e43064cdc9f72f4bc69dfdeb8",
            "ea342c590d2f4c9eb03232ca757b730b",
            "8caed0e3a8fd4214a51be097e90e11ee",
            "19dbd1f4ae494de3831d9851f31436db",
            "c38a782b44ff40d3b190ab5ea197cba5",
            "345764c060454f96b97d6ab7de59b610",
            "f730704442054a66887598d2c500b5b1"
          ]
        },
        "id": "tAkzqccVGTFn",
        "outputId": "80e0bf36-0ab9-4ef4-c292-6d4a1f429092"
      },
      "source": [
        "model = implicit.als.AlternatingLeastSquares(factors=30, regularization=0.1, iterations=50, use_gpu=False,\n",
        "                                             random_state=1)\n",
        "alpha = 40\n",
        "data = (sparse_content_person * alpha).astype('double')\n",
        "model.fit(data)"
      ],
      "execution_count": 34,
      "outputs": [
        {
          "output_type": "display_data",
          "data": {
            "application/vnd.jupyter.widget-view+json": {
              "model_id": "9fecc526438d4ac39c38a856c86ac542",
              "version_minor": 0,
              "version_major": 2
            },
            "text/plain": [
              "  0%|          | 0/50 [00:00<?, ?it/s]"
            ]
          },
          "metadata": {}
        }
      ]
    },
    {
      "cell_type": "code",
      "metadata": {
        "id": "RkDyYmX3HvnY"
      },
      "source": [
        "# better use it for explicit data, not just for rating\n",
        "def recommend_similar(personid, top, rate=6, n_similar=10):\n",
        "    books_read_by_user = grouped_df.loc[grouped_df['User-ID'] == personid, 'ISBN'].to_list()\n",
        "    condition = ((grouped_df['User-ID'] == personid) & (grouped_df['Book-Rating'] >= rate))\n",
        "    books_highly_rated_by_user = grouped_df.loc[condition, 'ISBN'].to_list()\n",
        "\n",
        "    if len(books_highly_rated_by_user) == 0:\n",
        "        rate -= 1\n",
        "        if rate < 0:\n",
        "            print('No books found')\n",
        "            return None\n",
        "        return recommend_similar(personid, top, rate=rate)\n",
        "    \n",
        "    person_vecs = model.user_factors\n",
        "    content_vecs = model.item_factors\n",
        "    content_norms = np.sqrt((content_vecs * content_vecs).sum(axis=1))\n",
        "\n",
        "    data = pd.DataFrame(columns=['Title', 'Rating'])\n",
        "\n",
        "    for isbn in books_highly_rated_by_user:\n",
        "        content_id = grouped_df.loc[grouped_df['ISBN'] == isbn, 'content_id'].unique()[0]\n",
        "        scores = content_vecs.dot(content_vecs[content_id]) / content_norms\n",
        "        \n",
        "        top_idx = np.argpartition(scores, -n_similar)[-n_similar:]\n",
        "        similar = sorted(zip(top_idx, scores[top_idx] / content_norms[content_id]), key=lambda x: -x[1])\n",
        "\n",
        "        for content in similar:\n",
        "            idx, score = content\n",
        "            loc_data = {}\n",
        "            title = grouped_df['Book-Title'].loc[grouped_df.content_id == idx].iloc[0]\n",
        "            rating = grouped_df['Book-Rating'].loc[grouped_df.content_id == idx].mean()\n",
        "            if grouped_df['ISBN'].loc[grouped_df.content_id == idx].iloc[0] in books_read_by_user:\n",
        "                continue\n",
        "            loc_data['Title'] = title\n",
        "            loc_data['Rating'] = rating\n",
        "            data = data.append(loc_data, ignore_index=True)\n",
        "\n",
        "    return data.sort_values(by='Rating', ascending=False).head(top)"
      ],
      "execution_count": 15,
      "outputs": []
    },
    {
      "cell_type": "code",
      "metadata": {
        "colab": {
          "base_uri": "https://localhost:8080/",
          "height": 332
        },
        "id": "RG94e0GhZjvS",
        "outputId": "c5f4a954-ec52-4711-82f3-01ac6809e030"
      },
      "source": [
        "recommend_similar(13479, 10)"
      ],
      "execution_count": 24,
      "outputs": [
        {
          "output_type": "execute_result",
          "data": {
            "text/html": [
              "\n",
              "  <div id=\"df-5c726fb5-9588-418c-ae2f-72095eb4bb48\">\n",
              "    <div class=\"colab-df-container\">\n",
              "      <div>\n",
              "<style scoped>\n",
              "    .dataframe tbody tr th:only-of-type {\n",
              "        vertical-align: middle;\n",
              "    }\n",
              "\n",
              "    .dataframe tbody tr th {\n",
              "        vertical-align: top;\n",
              "    }\n",
              "\n",
              "    .dataframe thead th {\n",
              "        text-align: right;\n",
              "    }\n",
              "</style>\n",
              "<table border=\"1\" class=\"dataframe\">\n",
              "  <thead>\n",
              "    <tr style=\"text-align: right;\">\n",
              "      <th></th>\n",
              "      <th>Title</th>\n",
              "      <th>Rating</th>\n",
              "    </tr>\n",
              "  </thead>\n",
              "  <tbody>\n",
              "    <tr>\n",
              "      <th>5</th>\n",
              "      <td>For Whom Bell Tolls</td>\n",
              "      <td>9.000000</td>\n",
              "    </tr>\n",
              "    <tr>\n",
              "      <th>7</th>\n",
              "      <td>Tallulah, Darling: A Biography of Tallulah Ban...</td>\n",
              "      <td>5.666667</td>\n",
              "    </tr>\n",
              "    <tr>\n",
              "      <th>8</th>\n",
              "      <td>Nice Work (King Penguin)</td>\n",
              "      <td>3.000000</td>\n",
              "    </tr>\n",
              "    <tr>\n",
              "      <th>6</th>\n",
              "      <td>Ghostkiller</td>\n",
              "      <td>2.333333</td>\n",
              "    </tr>\n",
              "    <tr>\n",
              "      <th>3</th>\n",
              "      <td>The Country of the Pointed Firs : And Other St...</td>\n",
              "      <td>1.777778</td>\n",
              "    </tr>\n",
              "    <tr>\n",
              "      <th>2</th>\n",
              "      <td>A Poet's Guide to Poetry (Chicago Guides to Wr...</td>\n",
              "      <td>0.333333</td>\n",
              "    </tr>\n",
              "    <tr>\n",
              "      <th>0</th>\n",
              "      <td>Playboy In Pursuit (Australian Playboys) (Harl...</td>\n",
              "      <td>0.000000</td>\n",
              "    </tr>\n",
              "    <tr>\n",
              "      <th>1</th>\n",
              "      <td>Silverhair (Mammoth Trilogy)</td>\n",
              "      <td>0.000000</td>\n",
              "    </tr>\n",
              "    <tr>\n",
              "      <th>4</th>\n",
              "      <td>The Quest for Life in Amber (Helix Book)</td>\n",
              "      <td>0.000000</td>\n",
              "    </tr>\n",
              "  </tbody>\n",
              "</table>\n",
              "</div>\n",
              "      <button class=\"colab-df-convert\" onclick=\"convertToInteractive('df-5c726fb5-9588-418c-ae2f-72095eb4bb48')\"\n",
              "              title=\"Convert this dataframe to an interactive table.\"\n",
              "              style=\"display:none;\">\n",
              "        \n",
              "  <svg xmlns=\"http://www.w3.org/2000/svg\" height=\"24px\"viewBox=\"0 0 24 24\"\n",
              "       width=\"24px\">\n",
              "    <path d=\"M0 0h24v24H0V0z\" fill=\"none\"/>\n",
              "    <path d=\"M18.56 5.44l.94 2.06.94-2.06 2.06-.94-2.06-.94-.94-2.06-.94 2.06-2.06.94zm-11 1L8.5 8.5l.94-2.06 2.06-.94-2.06-.94L8.5 2.5l-.94 2.06-2.06.94zm10 10l.94 2.06.94-2.06 2.06-.94-2.06-.94-.94-2.06-.94 2.06-2.06.94z\"/><path d=\"M17.41 7.96l-1.37-1.37c-.4-.4-.92-.59-1.43-.59-.52 0-1.04.2-1.43.59L10.3 9.45l-7.72 7.72c-.78.78-.78 2.05 0 2.83L4 21.41c.39.39.9.59 1.41.59.51 0 1.02-.2 1.41-.59l7.78-7.78 2.81-2.81c.8-.78.8-2.07 0-2.86zM5.41 20L4 18.59l7.72-7.72 1.47 1.35L5.41 20z\"/>\n",
              "  </svg>\n",
              "      </button>\n",
              "      \n",
              "  <style>\n",
              "    .colab-df-container {\n",
              "      display:flex;\n",
              "      flex-wrap:wrap;\n",
              "      gap: 12px;\n",
              "    }\n",
              "\n",
              "    .colab-df-convert {\n",
              "      background-color: #E8F0FE;\n",
              "      border: none;\n",
              "      border-radius: 50%;\n",
              "      cursor: pointer;\n",
              "      display: none;\n",
              "      fill: #1967D2;\n",
              "      height: 32px;\n",
              "      padding: 0 0 0 0;\n",
              "      width: 32px;\n",
              "    }\n",
              "\n",
              "    .colab-df-convert:hover {\n",
              "      background-color: #E2EBFA;\n",
              "      box-shadow: 0px 1px 2px rgba(60, 64, 67, 0.3), 0px 1px 3px 1px rgba(60, 64, 67, 0.15);\n",
              "      fill: #174EA6;\n",
              "    }\n",
              "\n",
              "    [theme=dark] .colab-df-convert {\n",
              "      background-color: #3B4455;\n",
              "      fill: #D2E3FC;\n",
              "    }\n",
              "\n",
              "    [theme=dark] .colab-df-convert:hover {\n",
              "      background-color: #434B5C;\n",
              "      box-shadow: 0px 1px 3px 1px rgba(0, 0, 0, 0.15);\n",
              "      filter: drop-shadow(0px 1px 2px rgba(0, 0, 0, 0.3));\n",
              "      fill: #FFFFFF;\n",
              "    }\n",
              "  </style>\n",
              "\n",
              "      <script>\n",
              "        const buttonEl =\n",
              "          document.querySelector('#df-5c726fb5-9588-418c-ae2f-72095eb4bb48 button.colab-df-convert');\n",
              "        buttonEl.style.display =\n",
              "          google.colab.kernel.accessAllowed ? 'block' : 'none';\n",
              "\n",
              "        async function convertToInteractive(key) {\n",
              "          const element = document.querySelector('#df-5c726fb5-9588-418c-ae2f-72095eb4bb48');\n",
              "          const dataTable =\n",
              "            await google.colab.kernel.invokeFunction('convertToInteractive',\n",
              "                                                     [key], {});\n",
              "          if (!dataTable) return;\n",
              "\n",
              "          const docLinkHtml = 'Like what you see? Visit the ' +\n",
              "            '<a target=\"_blank\" href=https://colab.research.google.com/notebooks/data_table.ipynb>data table notebook</a>'\n",
              "            + ' to learn more about interactive tables.';\n",
              "          element.innerHTML = '';\n",
              "          dataTable['output_type'] = 'display_data';\n",
              "          await google.colab.output.renderOutput(dataTable, element);\n",
              "          const docLink = document.createElement('div');\n",
              "          docLink.innerHTML = docLinkHtml;\n",
              "          element.appendChild(docLink);\n",
              "        }\n",
              "      </script>\n",
              "    </div>\n",
              "  </div>\n",
              "  "
            ],
            "text/plain": [
              "                                               Title    Rating\n",
              "5                                For Whom Bell Tolls  9.000000\n",
              "7  Tallulah, Darling: A Biography of Tallulah Ban...  5.666667\n",
              "8                           Nice Work (King Penguin)  3.000000\n",
              "6                                        Ghostkiller  2.333333\n",
              "3  The Country of the Pointed Firs : And Other St...  1.777778\n",
              "2  A Poet's Guide to Poetry (Chicago Guides to Wr...  0.333333\n",
              "0  Playboy In Pursuit (Australian Playboys) (Harl...  0.000000\n",
              "1                       Silverhair (Mammoth Trilogy)  0.000000\n",
              "4           The Quest for Life in Amber (Helix Book)  0.000000"
            ]
          },
          "metadata": {},
          "execution_count": 24
        }
      ]
    },
    {
      "cell_type": "code",
      "metadata": {
        "colab": {
          "base_uri": "https://localhost:8080/",
          "height": 455
        },
        "id": "Zxtb6LtIOueM",
        "outputId": "5c25d83a-88ae-4839-cf63-b490eca39e7b"
      },
      "source": [
        "grouped_df.groupby('User-ID').count().sort_values(by='ISBN', ascending=False).iloc[30000:, :]"
      ],
      "execution_count": null,
      "outputs": [
        {
          "output_type": "execute_result",
          "data": {
            "text/html": [
              "<div>\n",
              "<style scoped>\n",
              "    .dataframe tbody tr th:only-of-type {\n",
              "        vertical-align: middle;\n",
              "    }\n",
              "\n",
              "    .dataframe tbody tr th {\n",
              "        vertical-align: top;\n",
              "    }\n",
              "\n",
              "    .dataframe thead th {\n",
              "        text-align: right;\n",
              "    }\n",
              "</style>\n",
              "<table border=\"1\" class=\"dataframe\">\n",
              "  <thead>\n",
              "    <tr style=\"text-align: right;\">\n",
              "      <th></th>\n",
              "      <th>ISBN</th>\n",
              "      <th>Book-Title</th>\n",
              "      <th>Book-Rating</th>\n",
              "      <th>person_id</th>\n",
              "      <th>content_id</th>\n",
              "    </tr>\n",
              "    <tr>\n",
              "      <th>User-ID</th>\n",
              "      <th></th>\n",
              "      <th></th>\n",
              "      <th></th>\n",
              "      <th></th>\n",
              "      <th></th>\n",
              "    </tr>\n",
              "  </thead>\n",
              "  <tbody>\n",
              "    <tr>\n",
              "      <th>51275</th>\n",
              "      <td>3</td>\n",
              "      <td>3</td>\n",
              "      <td>3</td>\n",
              "      <td>3</td>\n",
              "      <td>3</td>\n",
              "    </tr>\n",
              "    <tr>\n",
              "      <th>79146</th>\n",
              "      <td>3</td>\n",
              "      <td>3</td>\n",
              "      <td>3</td>\n",
              "      <td>3</td>\n",
              "      <td>3</td>\n",
              "    </tr>\n",
              "    <tr>\n",
              "      <th>13479</th>\n",
              "      <td>3</td>\n",
              "      <td>3</td>\n",
              "      <td>3</td>\n",
              "      <td>3</td>\n",
              "      <td>3</td>\n",
              "    </tr>\n",
              "    <tr>\n",
              "      <th>30359</th>\n",
              "      <td>3</td>\n",
              "      <td>3</td>\n",
              "      <td>3</td>\n",
              "      <td>3</td>\n",
              "      <td>3</td>\n",
              "    </tr>\n",
              "    <tr>\n",
              "      <th>236186</th>\n",
              "      <td>3</td>\n",
              "      <td>3</td>\n",
              "      <td>3</td>\n",
              "      <td>3</td>\n",
              "      <td>3</td>\n",
              "    </tr>\n",
              "    <tr>\n",
              "      <th>...</th>\n",
              "      <td>...</td>\n",
              "      <td>...</td>\n",
              "      <td>...</td>\n",
              "      <td>...</td>\n",
              "      <td>...</td>\n",
              "    </tr>\n",
              "    <tr>\n",
              "      <th>119065</th>\n",
              "      <td>1</td>\n",
              "      <td>1</td>\n",
              "      <td>1</td>\n",
              "      <td>1</td>\n",
              "      <td>1</td>\n",
              "    </tr>\n",
              "    <tr>\n",
              "      <th>119082</th>\n",
              "      <td>1</td>\n",
              "      <td>1</td>\n",
              "      <td>1</td>\n",
              "      <td>1</td>\n",
              "      <td>1</td>\n",
              "    </tr>\n",
              "    <tr>\n",
              "      <th>119085</th>\n",
              "      <td>1</td>\n",
              "      <td>1</td>\n",
              "      <td>1</td>\n",
              "      <td>1</td>\n",
              "      <td>1</td>\n",
              "    </tr>\n",
              "    <tr>\n",
              "      <th>119095</th>\n",
              "      <td>1</td>\n",
              "      <td>1</td>\n",
              "      <td>1</td>\n",
              "      <td>1</td>\n",
              "      <td>1</td>\n",
              "    </tr>\n",
              "    <tr>\n",
              "      <th>139230</th>\n",
              "      <td>1</td>\n",
              "      <td>1</td>\n",
              "      <td>1</td>\n",
              "      <td>1</td>\n",
              "      <td>1</td>\n",
              "    </tr>\n",
              "  </tbody>\n",
              "</table>\n",
              "<p>62106 rows × 5 columns</p>\n",
              "</div>"
            ],
            "text/plain": [
              "         ISBN  Book-Title  Book-Rating  person_id  content_id\n",
              "User-ID                                                      \n",
              "51275       3           3            3          3           3\n",
              "79146       3           3            3          3           3\n",
              "13479       3           3            3          3           3\n",
              "30359       3           3            3          3           3\n",
              "236186      3           3            3          3           3\n",
              "...       ...         ...          ...        ...         ...\n",
              "119065      1           1            1          1           1\n",
              "119082      1           1            1          1           1\n",
              "119085      1           1            1          1           1\n",
              "119095      1           1            1          1           1\n",
              "139230      1           1            1          1           1\n",
              "\n",
              "[62106 rows x 5 columns]"
            ]
          },
          "metadata": {},
          "execution_count": 51
        }
      ]
    },
    {
      "cell_type": "code",
      "metadata": {
        "colab": {
          "base_uri": "https://localhost:8080/",
          "height": 143
        },
        "id": "MyWsN5Rza7b3",
        "outputId": "5df2f03f-2201-48f5-e532-18153623a1e3"
      },
      "source": [
        "grouped_df[grouped_df['User-ID'] == 13479]"
      ],
      "execution_count": null,
      "outputs": [
        {
          "output_type": "execute_result",
          "data": {
            "text/html": [
              "<div>\n",
              "<style scoped>\n",
              "    .dataframe tbody tr th:only-of-type {\n",
              "        vertical-align: middle;\n",
              "    }\n",
              "\n",
              "    .dataframe tbody tr th {\n",
              "        vertical-align: top;\n",
              "    }\n",
              "\n",
              "    .dataframe thead th {\n",
              "        text-align: right;\n",
              "    }\n",
              "</style>\n",
              "<table border=\"1\" class=\"dataframe\">\n",
              "  <thead>\n",
              "    <tr style=\"text-align: right;\">\n",
              "      <th></th>\n",
              "      <th>User-ID</th>\n",
              "      <th>ISBN</th>\n",
              "      <th>Book-Title</th>\n",
              "      <th>Book-Rating</th>\n",
              "      <th>person_id</th>\n",
              "      <th>content_id</th>\n",
              "    </tr>\n",
              "  </thead>\n",
              "  <tbody>\n",
              "    <tr>\n",
              "      <th>48282</th>\n",
              "      <td>13479</td>\n",
              "      <td>0061059056</td>\n",
              "      <td>Hogfather</td>\n",
              "      <td>6</td>\n",
              "      <td>4174</td>\n",
              "      <td>9517</td>\n",
              "    </tr>\n",
              "    <tr>\n",
              "      <th>48283</th>\n",
              "      <td>13479</td>\n",
              "      <td>0304353493</td>\n",
              "      <td>Tales From/Kings African Rifles</td>\n",
              "      <td>0</td>\n",
              "      <td>4174</td>\n",
              "      <td>27941</td>\n",
              "    </tr>\n",
              "    <tr>\n",
              "      <th>48284</th>\n",
              "      <td>13479</td>\n",
              "      <td>0971880107</td>\n",
              "      <td>Wild Animus</td>\n",
              "      <td>4</td>\n",
              "      <td>4174</td>\n",
              "      <td>215952</td>\n",
              "    </tr>\n",
              "  </tbody>\n",
              "</table>\n",
              "</div>"
            ],
            "text/plain": [
              "      User-ID        ISBN  ... person_id  content_id\n",
              "48282   13479  0061059056  ...      4174        9517\n",
              "48283   13479  0304353493  ...      4174       27941\n",
              "48284   13479  0971880107  ...      4174      215952\n",
              "\n",
              "[3 rows x 6 columns]"
            ]
          },
          "metadata": {},
          "execution_count": 80
        }
      ]
    },
    {
      "cell_type": "code",
      "metadata": {
        "colab": {
          "base_uri": "https://localhost:8080/",
          "height": 112
        },
        "id": "Wv2F8bX0fcUK",
        "outputId": "825250d8-a2b4-4e0f-b867-cfbf43a90c65"
      },
      "source": [
        "grouped_df[grouped_df['ISBN'] == '0155061224']"
      ],
      "execution_count": null,
      "outputs": [
        {
          "output_type": "execute_result",
          "data": {
            "text/html": [
              "<div>\n",
              "<style scoped>\n",
              "    .dataframe tbody tr th:only-of-type {\n",
              "        vertical-align: middle;\n",
              "    }\n",
              "\n",
              "    .dataframe tbody tr th {\n",
              "        vertical-align: top;\n",
              "    }\n",
              "\n",
              "    .dataframe thead th {\n",
              "        text-align: right;\n",
              "    }\n",
              "</style>\n",
              "<table border=\"1\" class=\"dataframe\">\n",
              "  <thead>\n",
              "    <tr style=\"text-align: right;\">\n",
              "      <th></th>\n",
              "      <th>User-ID</th>\n",
              "      <th>ISBN</th>\n",
              "      <th>Book-Title</th>\n",
              "      <th>Book-Rating</th>\n",
              "      <th>person_id</th>\n",
              "      <th>content_id</th>\n",
              "    </tr>\n",
              "  </thead>\n",
              "  <tbody>\n",
              "    <tr>\n",
              "      <th>580157</th>\n",
              "      <td>159181</td>\n",
              "      <td>0155061224</td>\n",
              "      <td>Rites of Passage</td>\n",
              "      <td>0</td>\n",
              "      <td>52485</td>\n",
              "      <td>22731</td>\n",
              "    </tr>\n",
              "    <tr>\n",
              "      <th>1022705</th>\n",
              "      <td>276726</td>\n",
              "      <td>0155061224</td>\n",
              "      <td>Rites of Passage</td>\n",
              "      <td>5</td>\n",
              "      <td>91363</td>\n",
              "      <td>22731</td>\n",
              "    </tr>\n",
              "  </tbody>\n",
              "</table>\n",
              "</div>"
            ],
            "text/plain": [
              "        User-ID        ISBN  ... person_id  content_id\n",
              "580157   159181  0155061224  ...     52485       22731\n",
              "1022705  276726  0155061224  ...     91363       22731\n",
              "\n",
              "[2 rows x 6 columns]"
            ]
          },
          "metadata": {},
          "execution_count": 73
        }
      ]
    },
    {
      "cell_type": "code",
      "metadata": {
        "id": "kd0WNJmeiFO_"
      },
      "source": [
        "# ALS collaborative"
      ],
      "execution_count": null,
      "outputs": []
    },
    {
      "cell_type": "code",
      "metadata": {
        "id": "Z_P_JyODiH_-"
      },
      "source": [
        "def recommend(person_id, num_contents=10):\n",
        "    person_interactions = sparse_person_content[person_id,:].toarray()\n",
        "    person_interactions = person_interactions.reshape(-1) + 1\n",
        "    person_interactions[person_interactions > 1] = 0\n",
        "\n",
        "    person_vecs = sparse.csr_matrix(model.user_factors)\n",
        "    content_vecs = sparse.csr_matrix(model.item_factors)\n",
        "\n",
        "    rec_vector = person_vecs[person_id,:].dot(content_vecs.T).toarray()\n",
        "    \n",
        "    min_max = MinMaxScaler()\n",
        "    rec_vector_scaled = min_max.fit_transform(rec_vector.reshape(-1,1))[:,0]\n",
        "\n",
        "    print(person_interactions.shape, rec_vector_scaled.shape)\n",
        "    recommend_vector = person_interactions * rec_vector_scaled\n",
        "\n",
        "    content_idx = np.argsort(recommend_vector)[::-1][:num_contents]\n",
        "    \n",
        "    titles = []\n",
        "    ratings = []\n",
        "\n",
        "    for idx in content_idx:\n",
        "        titles.append(grouped_df['Book-Title'].loc[grouped_df.content_id == idx].iloc[0])\n",
        "        #ratings.append(recommend_vector[idx])\n",
        "        ratings.append(grouped_df['Book-Rating'].loc[grouped_df.content_id == idx].mean())\n",
        "\n",
        "    recommendations = pd.DataFrame({'Title': titles, 'Rating': ratings})\n",
        "\n",
        "    return recommendations"
      ],
      "execution_count": 43,
      "outputs": []
    },
    {
      "cell_type": "code",
      "metadata": {
        "colab": {
          "base_uri": "https://localhost:8080/",
          "height": 305
        },
        "id": "VsYHeyhDkKQ7",
        "outputId": "5ec5fcfc-4697-40dd-c07a-bdf685308c2b"
      },
      "source": [
        "recommend(13479, 10)"
      ],
      "execution_count": 44,
      "outputs": [
        {
          "output_type": "stream",
          "name": "stdout",
          "text": [
            "(270148,) (92106,)\n"
          ]
        },
        {
          "output_type": "error",
          "ename": "ValueError",
          "evalue": "ignored",
          "traceback": [
            "\u001b[0;31m---------------------------------------------------------------------------\u001b[0m",
            "\u001b[0;31mValueError\u001b[0m                                Traceback (most recent call last)",
            "\u001b[0;32m<ipython-input-44-e1af6e995a39>\u001b[0m in \u001b[0;36m<module>\u001b[0;34m()\u001b[0m\n\u001b[0;32m----> 1\u001b[0;31m \u001b[0mrecommend\u001b[0m\u001b[0;34m(\u001b[0m\u001b[0;36m13479\u001b[0m\u001b[0;34m,\u001b[0m \u001b[0;36m10\u001b[0m\u001b[0;34m)\u001b[0m\u001b[0;34m\u001b[0m\u001b[0;34m\u001b[0m\u001b[0m\n\u001b[0m",
            "\u001b[0;32m<ipython-input-43-f0ef26bc8b77>\u001b[0m in \u001b[0;36mrecommend\u001b[0;34m(person_id, num_contents)\u001b[0m\n\u001b[1;32m     13\u001b[0m \u001b[0;34m\u001b[0m\u001b[0m\n\u001b[1;32m     14\u001b[0m     \u001b[0mprint\u001b[0m\u001b[0;34m(\u001b[0m\u001b[0mperson_interactions\u001b[0m\u001b[0;34m.\u001b[0m\u001b[0mshape\u001b[0m\u001b[0;34m,\u001b[0m \u001b[0mrec_vector_scaled\u001b[0m\u001b[0;34m.\u001b[0m\u001b[0mshape\u001b[0m\u001b[0;34m)\u001b[0m\u001b[0;34m\u001b[0m\u001b[0;34m\u001b[0m\u001b[0m\n\u001b[0;32m---> 15\u001b[0;31m     \u001b[0mrecommend_vector\u001b[0m \u001b[0;34m=\u001b[0m \u001b[0mperson_interactions\u001b[0m \u001b[0;34m*\u001b[0m \u001b[0mrec_vector_scaled\u001b[0m\u001b[0;34m\u001b[0m\u001b[0;34m\u001b[0m\u001b[0m\n\u001b[0m\u001b[1;32m     16\u001b[0m \u001b[0;34m\u001b[0m\u001b[0m\n\u001b[1;32m     17\u001b[0m     \u001b[0mcontent_idx\u001b[0m \u001b[0;34m=\u001b[0m \u001b[0mnp\u001b[0m\u001b[0;34m.\u001b[0m\u001b[0margsort\u001b[0m\u001b[0;34m(\u001b[0m\u001b[0mrecommend_vector\u001b[0m\u001b[0;34m)\u001b[0m\u001b[0;34m[\u001b[0m\u001b[0;34m:\u001b[0m\u001b[0;34m:\u001b[0m\u001b[0;34m-\u001b[0m\u001b[0;36m1\u001b[0m\u001b[0;34m]\u001b[0m\u001b[0;34m[\u001b[0m\u001b[0;34m:\u001b[0m\u001b[0mnum_contents\u001b[0m\u001b[0;34m]\u001b[0m\u001b[0;34m\u001b[0m\u001b[0;34m\u001b[0m\u001b[0m\n",
            "\u001b[0;31mValueError\u001b[0m: operands could not be broadcast together with shapes (270148,) (92106,) "
          ]
        }
      ]
    },
    {
      "cell_type": "code",
      "metadata": {
        "id": "UVaTHbzBlnDD"
      },
      "source": [
        "# hybrid filtering\n",
        "content_data = recommend_similar(13479, 10)\n",
        "collab_data = recommend(13479, 10)\n",
        "pd.concat([content_data, collab_data], axis=0).sort_values('Rating', ascending=False).head(10)"
      ],
      "execution_count": null,
      "outputs": []
    },
    {
      "cell_type": "code",
      "metadata": {
        "id": "IeY5icBd9gCo"
      },
      "source": [
        "import pandas as pd\n",
        "import numpy as np\n",
        "import tensorflow as tf\n",
        "from tensorflow import keras\n",
        "from tensorflow.keras import layers\n",
        "import matplotlib.pyplot as plt\n",
        "from sklearn.model_selection import train_test_split\n",
        "from sklearn.preprocessing import MinMaxScaler\n",
        "import warnings\n",
        "warnings.filterwarnings('ignore')"
      ],
      "execution_count": null,
      "outputs": []
    },
    {
      "cell_type": "code",
      "metadata": {
        "id": "7-A6Dbft9qgc"
      },
      "source": [
        "tf.random.set_seed(1)\n",
        "model_dir = r'/content/drive/My Drive/data/books/'"
      ],
      "execution_count": null,
      "outputs": []
    },
    {
      "cell_type": "code",
      "metadata": {
        "id": "6bQr9Swz9_b6"
      },
      "source": [
        "df = ratings.merge(users, on=['User-ID'], how='left').dropna()\n",
        "df = df.merge(books, on=['ISBN'], how='left').drop_duplicates().drop(['Image-URL-S', 'Image-URL-M', 'Image-URL-L', 'Publisher', 'Year-Of-Publication'], axis=1)"
      ],
      "execution_count": null,
      "outputs": []
    },
    {
      "cell_type": "code",
      "metadata": {
        "id": "ZsVxFJGJEX3z"
      },
      "source": [
        "df.dropna(inplace=True)\n",
        "df['Book-Rating'] = df['Book-Rating'].astype(np.float32)"
      ],
      "execution_count": null,
      "outputs": []
    },
    {
      "cell_type": "code",
      "metadata": {
        "id": "J0-fYYrqElWO"
      },
      "source": [
        "# add mean rating by author\n",
        "# add mean rating by book\n",
        "# add mean rating by age"
      ],
      "execution_count": null,
      "outputs": []
    },
    {
      "cell_type": "code",
      "metadata": {
        "id": "rayA1QKMH2s-"
      },
      "source": [
        "df['Location'] = df['Location'].apply(lambda x: x.split()[-1])\n",
        "df['Book-Author'] = df['Book-Author'].apply(lambda x: x.lower().replace(' ', '').replace('.', ''))"
      ],
      "execution_count": null,
      "outputs": []
    },
    {
      "cell_type": "code",
      "metadata": {
        "colab": {
          "base_uri": "https://localhost:8080/",
          "height": 81
        },
        "id": "r1bCfrJEHwRi",
        "outputId": "a0309ab1-9793-4eb6-fe71-2542fc808969"
      },
      "source": [
        "df.sample()"
      ],
      "execution_count": null,
      "outputs": [
        {
          "output_type": "execute_result",
          "data": {
            "text/html": [
              "<div>\n",
              "<style scoped>\n",
              "    .dataframe tbody tr th:only-of-type {\n",
              "        vertical-align: middle;\n",
              "    }\n",
              "\n",
              "    .dataframe tbody tr th {\n",
              "        vertical-align: top;\n",
              "    }\n",
              "\n",
              "    .dataframe thead th {\n",
              "        text-align: right;\n",
              "    }\n",
              "</style>\n",
              "<table border=\"1\" class=\"dataframe\">\n",
              "  <thead>\n",
              "    <tr style=\"text-align: right;\">\n",
              "      <th></th>\n",
              "      <th>User-ID</th>\n",
              "      <th>ISBN</th>\n",
              "      <th>Book-Rating</th>\n",
              "      <th>Location</th>\n",
              "      <th>Age</th>\n",
              "      <th>Book-Title</th>\n",
              "      <th>Book-Author</th>\n",
              "    </tr>\n",
              "  </thead>\n",
              "  <tbody>\n",
              "    <tr>\n",
              "      <th>374468</th>\n",
              "      <td>125774</td>\n",
              "      <td>0441676308</td>\n",
              "      <td>9.0</td>\n",
              "      <td>iran</td>\n",
              "      <td>36.0</td>\n",
              "      <td>Power of Three</td>\n",
              "      <td>dianawynnejones</td>\n",
              "    </tr>\n",
              "  </tbody>\n",
              "</table>\n",
              "</div>"
            ],
            "text/plain": [
              "        User-ID        ISBN  Book-Rating  ...   Age      Book-Title      Book-Author\n",
              "374468   125774  0441676308          9.0  ...  36.0  Power of Three  dianawynnejones\n",
              "\n",
              "[1 rows x 7 columns]"
            ]
          },
          "metadata": {},
          "execution_count": 30
        }
      ]
    },
    {
      "cell_type": "code",
      "metadata": {
        "id": "2yfsA17DHLZY"
      },
      "source": [
        "data_il = df.groupby(['ISBN', 'Location']).agg({'Book-Rating': 'mean'}).reset_index() # mean by isbn-location\n",
        "data_il.rename(columns={'Book-Rating': 'Mean_ISBN_Loc'}, inplace=True)\n",
        "\n",
        "data_ia = df.groupby(['ISBN', 'Age']).agg({'Book-Rating': 'mean'}).reset_index() # mean by isbn-age\n",
        "data_ia.rename(columns={'Book-Rating': 'Mean_ISBN_age'}, inplace=True)\n",
        "\n",
        "popular_dict = df.groupby(['Book-Author'])['Book-Rating'].count().to_dict()  # popular authors"
      ],
      "execution_count": null,
      "outputs": []
    },
    {
      "cell_type": "code",
      "metadata": {
        "id": "VRo__E3IK2r_"
      },
      "source": [
        "df = df.merge(data_il, on=['ISBN', 'Location'], how='left')\n",
        "df = df.merge(data_ia, on=['ISBN', 'Age'], how='left')\n",
        "df['Popular_Author'] = df['Book-Author'].map(popular_dict)"
      ],
      "execution_count": null,
      "outputs": []
    },
    {
      "cell_type": "code",
      "metadata": {
        "colab": {
          "base_uri": "https://localhost:8080/",
          "height": 81
        },
        "id": "ZZ_AmIjBLNcE",
        "outputId": "9e430f8b-bc7b-4561-9401-27cdd941b186"
      },
      "source": [
        "df.sample()"
      ],
      "execution_count": null,
      "outputs": [
        {
          "output_type": "execute_result",
          "data": {
            "text/html": [
              "<div>\n",
              "<style scoped>\n",
              "    .dataframe tbody tr th:only-of-type {\n",
              "        vertical-align: middle;\n",
              "    }\n",
              "\n",
              "    .dataframe tbody tr th {\n",
              "        vertical-align: top;\n",
              "    }\n",
              "\n",
              "    .dataframe thead th {\n",
              "        text-align: right;\n",
              "    }\n",
              "</style>\n",
              "<table border=\"1\" class=\"dataframe\">\n",
              "  <thead>\n",
              "    <tr style=\"text-align: right;\">\n",
              "      <th></th>\n",
              "      <th>User-ID</th>\n",
              "      <th>ISBN</th>\n",
              "      <th>Book-Rating</th>\n",
              "      <th>Location</th>\n",
              "      <th>Age</th>\n",
              "      <th>Book-Title</th>\n",
              "      <th>Book-Author</th>\n",
              "      <th>Mean_ISBN_Loc</th>\n",
              "      <th>Mean_ISBN_age</th>\n",
              "      <th>Popular_Author</th>\n",
              "    </tr>\n",
              "  </thead>\n",
              "  <tbody>\n",
              "    <tr>\n",
              "      <th>534129</th>\n",
              "      <td>198699</td>\n",
              "      <td>0671887947</td>\n",
              "      <td>0.0</td>\n",
              "      <td>usa</td>\n",
              "      <td>49.0</td>\n",
              "      <td>The Whole Truth</td>\n",
              "      <td>nancypickard</td>\n",
              "      <td>1.0</td>\n",
              "      <td>0.0</td>\n",
              "      <td>139</td>\n",
              "    </tr>\n",
              "  </tbody>\n",
              "</table>\n",
              "</div>"
            ],
            "text/plain": [
              "        User-ID        ISBN  ...  Mean_ISBN_age Popular_Author\n",
              "534129   198699  0671887947  ...            0.0            139\n",
              "\n",
              "[1 rows x 10 columns]"
            ]
          },
          "metadata": {},
          "execution_count": 99
        }
      ]
    },
    {
      "cell_type": "code",
      "metadata": {
        "colab": {
          "base_uri": "https://localhost:8080/",
          "height": 164
        },
        "id": "M_yQLBNkLZRv",
        "outputId": "2dbb4308-fbd1-46ea-8389-8a6a73d81c76"
      },
      "source": [
        "user_ids = df[\"User-ID\"].unique().tolist()\n",
        "\n",
        "user2user_encoded = {x: i for i, x in enumerate(user_ids)}\n",
        "userencoded2user = {i: x for i, x in enumerate(user_ids)}\n",
        "\n",
        "books_ids = df[\"ISBN\"].unique().tolist()\n",
        "\n",
        "book2book_encoded = {x: i for i, x in enumerate(books_ids)}\n",
        "book_encoded2book = {i: x for i, x in enumerate(books_ids)}\n",
        "\n",
        "df[\"user\"] = df[\"User-ID\"].map(user2user_encoded)\n",
        "df[\"book\"] = df[\"ISBN\"].map(book2book_encoded)\n",
        "\n",
        "df.sample(2)"
      ],
      "execution_count": null,
      "outputs": [
        {
          "output_type": "execute_result",
          "data": {
            "text/html": [
              "<div>\n",
              "<style scoped>\n",
              "    .dataframe tbody tr th:only-of-type {\n",
              "        vertical-align: middle;\n",
              "    }\n",
              "\n",
              "    .dataframe tbody tr th {\n",
              "        vertical-align: top;\n",
              "    }\n",
              "\n",
              "    .dataframe thead th {\n",
              "        text-align: right;\n",
              "    }\n",
              "</style>\n",
              "<table border=\"1\" class=\"dataframe\">\n",
              "  <thead>\n",
              "    <tr style=\"text-align: right;\">\n",
              "      <th></th>\n",
              "      <th>User-ID</th>\n",
              "      <th>ISBN</th>\n",
              "      <th>Book-Rating</th>\n",
              "      <th>Location</th>\n",
              "      <th>Age</th>\n",
              "      <th>Book-Title</th>\n",
              "      <th>Book-Author</th>\n",
              "      <th>Mean_ISBN_Loc</th>\n",
              "      <th>Mean_ISBN_age</th>\n",
              "      <th>Popular_Author</th>\n",
              "      <th>user</th>\n",
              "      <th>book</th>\n",
              "    </tr>\n",
              "  </thead>\n",
              "  <tbody>\n",
              "    <tr>\n",
              "      <th>232655</th>\n",
              "      <td>88937</td>\n",
              "      <td>0451191706</td>\n",
              "      <td>0.0</td>\n",
              "      <td>usa</td>\n",
              "      <td>39.0</td>\n",
              "      <td>Critical Conditions</td>\n",
              "      <td>stephenwhite</td>\n",
              "      <td>1.52381</td>\n",
              "      <td>0.0</td>\n",
              "      <td>306</td>\n",
              "      <td>17655</td>\n",
              "      <td>28352</td>\n",
              "    </tr>\n",
              "    <tr>\n",
              "      <th>299282</th>\n",
              "      <td>111019</td>\n",
              "      <td>0060927542</td>\n",
              "      <td>6.0</td>\n",
              "      <td>usa</td>\n",
              "      <td>21.0</td>\n",
              "      <td>Mr. Ives' Christmas</td>\n",
              "      <td>oscarhijuelos</td>\n",
              "      <td>1.62500</td>\n",
              "      <td>6.0</td>\n",
              "      <td>79</td>\n",
              "      <td>21908</td>\n",
              "      <td>36162</td>\n",
              "    </tr>\n",
              "  </tbody>\n",
              "</table>\n",
              "</div>"
            ],
            "text/plain": [
              "        User-ID        ISBN  Book-Rating  ... Popular_Author   user   book\n",
              "232655    88937  0451191706          0.0  ...            306  17655  28352\n",
              "299282   111019  0060927542          6.0  ...             79  21908  36162\n",
              "\n",
              "[2 rows x 12 columns]"
            ]
          },
          "metadata": {},
          "execution_count": 73
        }
      ]
    },
    {
      "cell_type": "code",
      "source": [
        "# frequency encoding\n",
        "total = len(df.Location)\n",
        "loc_dict = df.Location.value_counts().to_dict()\n",
        "df.Location = df.Location.map(lambda x: loc_dict.get(x) / total)\n",
        "#loc_a_dict = df['Book-Author'].value_counts().to_dict()\n",
        "#df['Book-Author'] = df['Book-Author'].map(lambda x: loc_a_dict.get(x) / total)\n",
        "df.sample(2)"
      ],
      "metadata": {
        "colab": {
          "base_uri": "https://localhost:8080/",
          "height": 164
        },
        "id": "Z9QXkk5pNTec",
        "outputId": "91e484ea-74c8-4882-a7c5-3b9f3d8db5c3"
      },
      "execution_count": null,
      "outputs": [
        {
          "output_type": "execute_result",
          "data": {
            "text/html": [
              "<div>\n",
              "<style scoped>\n",
              "    .dataframe tbody tr th:only-of-type {\n",
              "        vertical-align: middle;\n",
              "    }\n",
              "\n",
              "    .dataframe tbody tr th {\n",
              "        vertical-align: top;\n",
              "    }\n",
              "\n",
              "    .dataframe thead th {\n",
              "        text-align: right;\n",
              "    }\n",
              "</style>\n",
              "<table border=\"1\" class=\"dataframe\">\n",
              "  <thead>\n",
              "    <tr style=\"text-align: right;\">\n",
              "      <th></th>\n",
              "      <th>User-ID</th>\n",
              "      <th>ISBN</th>\n",
              "      <th>Book-Rating</th>\n",
              "      <th>Location</th>\n",
              "      <th>Age</th>\n",
              "      <th>Book-Title</th>\n",
              "      <th>Book-Author</th>\n",
              "      <th>Mean_ISBN_Loc</th>\n",
              "      <th>Mean_ISBN_age</th>\n",
              "      <th>Popular_Author</th>\n",
              "      <th>user</th>\n",
              "      <th>book</th>\n",
              "    </tr>\n",
              "  </thead>\n",
              "  <tbody>\n",
              "    <tr>\n",
              "      <th>686063</th>\n",
              "      <td>251003</td>\n",
              "      <td>0517118238</td>\n",
              "      <td>8.0</td>\n",
              "      <td>0.735151</td>\n",
              "      <td>37.0</td>\n",
              "      <td>Margaret Truman: Three Complete Mysteries : Mu...</td>\n",
              "      <td>margarettruman</td>\n",
              "      <td>4.0</td>\n",
              "      <td>8.0</td>\n",
              "      <td>456</td>\n",
              "      <td>48894</td>\n",
              "      <td>129045</td>\n",
              "    </tr>\n",
              "    <tr>\n",
              "      <th>31144</th>\n",
              "      <td>13552</td>\n",
              "      <td>0446329436</td>\n",
              "      <td>0.0</td>\n",
              "      <td>0.735151</td>\n",
              "      <td>32.0</td>\n",
              "      <td>Chances</td>\n",
              "      <td>jackiecollins</td>\n",
              "      <td>0.0</td>\n",
              "      <td>0.0</td>\n",
              "      <td>413</td>\n",
              "      <td>2955</td>\n",
              "      <td>22824</td>\n",
              "    </tr>\n",
              "  </tbody>\n",
              "</table>\n",
              "</div>"
            ],
            "text/plain": [
              "        User-ID        ISBN  Book-Rating  ...  Popular_Author   user    book\n",
              "686063   251003  0517118238          8.0  ...             456  48894  129045\n",
              "31144     13552  0446329436          0.0  ...             413   2955   22824\n",
              "\n",
              "[2 rows x 12 columns]"
            ]
          },
          "metadata": {},
          "execution_count": 74
        }
      ]
    },
    {
      "cell_type": "code",
      "source": [
        "# may be better for book title, we can easily encode authors with classic methods\n",
        "vocab_size = 10000\n",
        "sequence_length = 30\n",
        "to_adapt = list(set(itertools.chain.from_iterable(df['Book-Title'].apply(lambda x: x.split()).to_list())))\n",
        "text_dataset = tf.data.Dataset.from_tensor_slices(to_adapt)\n",
        "vectorize_layer = layers.TextVectorization(\n",
        "                          max_tokens=vocab_size,\n",
        "                          output_mode='int',\n",
        "                          output_sequence_length=sequence_length)\n",
        "vectorize_layer.adapt(text_dataset.batch(64))"
      ],
      "metadata": {
        "id": "kc2zQOOvYFMz"
      },
      "execution_count": null,
      "outputs": []
    },
    {
      "cell_type": "code",
      "source": [
        "embedding_dim=16\n",
        "# seems like this is complex type of encoding, where we get single float value from small-size text\n",
        "model_author = keras.Sequential([\n",
        "  keras.Input(shape=(1,), dtype=tf.string),\n",
        "  vectorize_layer,\n",
        "  keras.layers.Embedding(vocab_size, embedding_dim, name=\"embedding\"),\n",
        "  keras.layers.GlobalAveragePooling1D(),\n",
        "  keras.layers.Dense(16, activation='relu'),\n",
        "  keras.layers.Dense(1)\n",
        "])\n",
        "#df['Book-Title'] = model_author.predict(df['Book-Title'].values)\n",
        "df['Book-Title_Vec'] = model_author.predict(df['Book-Title'].values)\n",
        "df.sample(2)"
      ],
      "metadata": {
        "colab": {
          "base_uri": "https://localhost:8080/",
          "height": 219
        },
        "id": "zi3-UnrFaZJp",
        "outputId": "2f8fa271-c414-4bc6-d505-a5f94239a4dd"
      },
      "execution_count": null,
      "outputs": [
        {
          "output_type": "execute_result",
          "data": {
            "text/html": [
              "<div>\n",
              "<style scoped>\n",
              "    .dataframe tbody tr th:only-of-type {\n",
              "        vertical-align: middle;\n",
              "    }\n",
              "\n",
              "    .dataframe tbody tr th {\n",
              "        vertical-align: top;\n",
              "    }\n",
              "\n",
              "    .dataframe thead th {\n",
              "        text-align: right;\n",
              "    }\n",
              "</style>\n",
              "<table border=\"1\" class=\"dataframe\">\n",
              "  <thead>\n",
              "    <tr style=\"text-align: right;\">\n",
              "      <th></th>\n",
              "      <th>User-ID</th>\n",
              "      <th>ISBN</th>\n",
              "      <th>Book-Rating</th>\n",
              "      <th>Location</th>\n",
              "      <th>Age</th>\n",
              "      <th>Book-Title</th>\n",
              "      <th>Book-Author</th>\n",
              "      <th>Mean_ISBN_Loc</th>\n",
              "      <th>Mean_ISBN_age</th>\n",
              "      <th>Popular_Author</th>\n",
              "      <th>user</th>\n",
              "      <th>book</th>\n",
              "      <th>Book-Title_Vec</th>\n",
              "    </tr>\n",
              "  </thead>\n",
              "  <tbody>\n",
              "    <tr>\n",
              "      <th>154822</th>\n",
              "      <td>59172</td>\n",
              "      <td>0446613436</td>\n",
              "      <td>10.0</td>\n",
              "      <td>0.086858</td>\n",
              "      <td>36.0</td>\n",
              "      <td>The Guardian</td>\n",
              "      <td>nicholassparks</td>\n",
              "      <td>6.666667</td>\n",
              "      <td>10.0</td>\n",
              "      <td>1900</td>\n",
              "      <td>11870</td>\n",
              "      <td>2798</td>\n",
              "      <td>-0.011749</td>\n",
              "    </tr>\n",
              "    <tr>\n",
              "      <th>711721</th>\n",
              "      <td>260183</td>\n",
              "      <td>067157745X</td>\n",
              "      <td>0.0</td>\n",
              "      <td>0.086858</td>\n",
              "      <td>25.0</td>\n",
              "      <td>Douglas Adams Starship Titanic</td>\n",
              "      <td>douglasadams</td>\n",
              "      <td>0.000000</td>\n",
              "      <td>0.0</td>\n",
              "      <td>1190</td>\n",
              "      <td>50755</td>\n",
              "      <td>193559</td>\n",
              "      <td>-0.010056</td>\n",
              "    </tr>\n",
              "  </tbody>\n",
              "</table>\n",
              "</div>"
            ],
            "text/plain": [
              "        User-ID        ISBN  Book-Rating  ...   user    book Book-Title_Vec\n",
              "154822    59172  0446613436         10.0  ...  11870    2798      -0.011749\n",
              "711721   260183  067157745X          0.0  ...  50755  193559      -0.010056\n",
              "\n",
              "[2 rows x 13 columns]"
            ]
          },
          "metadata": {},
          "execution_count": 76
        }
      ]
    },
    {
      "cell_type": "code",
      "source": [
        "# use book-title column in DL model and book-title-vec in clustering?"
      ],
      "metadata": {
        "id": "kisjvWDGfJTw"
      },
      "execution_count": null,
      "outputs": []
    },
    {
      "cell_type": "code",
      "source": [
        "df['Book-Author'].nunique()"
      ],
      "metadata": {
        "colab": {
          "base_uri": "https://localhost:8080/"
        },
        "id": "63lg_eCqgAWL",
        "outputId": "d5a44125-f356-4ec4-98b6-be5b18f1fbc0"
      },
      "execution_count": null,
      "outputs": [
        {
          "output_type": "execute_result",
          "data": {
            "text/plain": [
              "83296"
            ]
          },
          "metadata": {},
          "execution_count": 16
        }
      ]
    },
    {
      "cell_type": "code",
      "metadata": {
        "id": "SK0-Ym9GRpt1"
      },
      "source": [
        "df = df.sample(frac=1, random_state=42)\n",
        "X = df[[\"user\", \"book\", \"Location\", \"Age\", \"Book-Title\", \"Mean_ISBN_Loc\", \"Mean_ISBN_age\", \"Popular_Author\"]].values\n",
        "y = df[\"Book-Rating\"].values\n",
        "\n",
        "scaler = MinMaxScaler()\n",
        "scaler_X = MinMaxScaler()\n",
        "\n",
        "X_train, X_valid, y_train, y_valid = train_test_split(X, y, shuffle=True, test_size=0.1, random_state=42)\n",
        "y_train = scaler.fit_transform(y_train.reshape(-1,1))\n",
        "y_valid = scaler.transform(y_valid.reshape(-1,1))\n",
        "\n",
        "X_train[:, -3:] = scaler_X.fit_transform(X_train[:, -3:])\n",
        "X_valid[:, -3:] = scaler_X.transform(X_valid[:, -3:])"
      ],
      "execution_count": null,
      "outputs": []
    },
    {
      "cell_type": "code",
      "metadata": {
        "id": "UJEkvbG4UVyO"
      },
      "source": [
        "num_users = len(user2user_encoded)\n",
        "num_books = len(book_encoded2book)\n",
        "num_locations = df.Location.nunique()\n",
        "num_age = df.Age.nunique()\n",
        "num_isbn_loc = df.Mean_ISBN_Loc.nunique()\n",
        "num_isbn_age = df.Mean_ISBN_age.nunique()\n",
        "num_titles = df['Book-Title'].nunique()"
      ],
      "execution_count": null,
      "outputs": []
    },
    {
      "cell_type": "code",
      "metadata": {
        "id": "EH08fX16ViIO",
        "colab": {
          "base_uri": "https://localhost:8080/"
        },
        "outputId": "6f46e5d4-68fb-4b87-887b-b1c667e10c72"
      },
      "source": [
        "# add model with callbacks=early_stopping, model_checkpoint, reduce_lr\n",
        "# Embedding+dot for user-book + tf.concat with 3 exogenious variables: Mean_ISBN_age, Mean_ISBN_loc, Popular_Author\n",
        "# with Linear (+ regularizer) + Dropout\n",
        "# RMSE, MAE, MSE for model validation metrics\n",
        "X_train.shape[-1]"
      ],
      "execution_count": null,
      "outputs": [
        {
          "output_type": "execute_result",
          "data": {
            "text/plain": [
              "8"
            ]
          },
          "metadata": {},
          "execution_count": 30
        }
      ]
    },
    {
      "cell_type": "code",
      "metadata": {
        "id": "g1AMmvseUH5x",
        "colab": {
          "base_uri": "https://localhost:8080/",
          "height": 87
        },
        "outputId": "ff8ab100-2b25-4f3e-8e0a-b78352e81ad3"
      },
      "source": [
        "EMBEDDING_SIZE = 200  # was 50\n",
        "batch_size = 256\n",
        "checkpoint_path = \"cp.ckpt\"\n",
        "AUTOTUNE = tf.data.AUTOTUNE\n",
        "\n",
        "class RecommenderNet(keras.Model):\n",
        "    def __init__(self, num_users, num_books, num_isbn_age, num_isbn_loc, num_titles,\n",
        "                 embedding_size, exog=False, **kwargs):\n",
        "        super(RecommenderNet, self).__init__(**kwargs)\n",
        "        self.num_users = num_users\n",
        "        self.num_books = num_books\n",
        "        self.embedding_size = embedding_size\n",
        "        self.exog = exog\n",
        "        input_shape = X_train.shape[-1]-5 if self.exog else X_train.shape[-1]-4  # tune\n",
        "        self.user_embedding = layers.Embedding(\n",
        "            num_users,\n",
        "            embedding_size,\n",
        "            embeddings_initializer=\"he_normal\",\n",
        "            embeddings_regularizer=keras.regularizers.l2(1e-6),\n",
        "        )\n",
        "        self.user_bias = layers.Embedding(num_users, 1)\n",
        "        self.book_embedding = layers.Embedding( \n",
        "            num_books,\n",
        "            embedding_size,\n",
        "            embeddings_initializer=\"he_normal\",\n",
        "            embeddings_regularizer=keras.regularizers.l2(1e-6),\n",
        "        )\n",
        "        self.book_bias = layers.Embedding(num_books, 1)\n",
        "\n",
        "        self.dense = tf.keras.Sequential([\n",
        "                                          tf.keras.layers.Dense(64, activation='relu',\n",
        "                                                                input_shape=(input_shape,),\n",
        "                                                                kernel_regularizer=keras.regularizers.l2(1e-4)),\n",
        "                                          tf.keras.layers.Dropout(0.5),\n",
        "                                          tf.keras.layers.Dense(1)\n",
        "        ])\n",
        "        self.age = layers.Embedding(num_isbn_age, embedding_size, \n",
        "                                    embeddings_initializer=\"he_normal\",\n",
        "                                    embeddings_regularizer=keras.regularizers.l2(1e-6),)\n",
        "        self.age_bias = layers.Embedding(num_isbn_age, 1)\n",
        "        self.location = layers.Embedding(num_isbn_loc, embedding_size,\n",
        "                                         embeddings_initializer=\"he_normal\",\n",
        "                                         embeddings_regularizer=keras.regularizers.l2(1e-6))\n",
        "        self.location_bias = layers.Embedding(num_isbn_loc, 1)\n",
        "        self.titles = layers.Embedding(num_titles, embedding_size,\n",
        "                                        embeddings_initializer=\"he_normal\",\n",
        "                                        embeddings_regularizer=keras.regularizers.l2(1e-6))\n",
        "        self.titles_bias = layers.Embedding(num_titles, 1)\n",
        "\n",
        "    def call(self, inputs):  # side features help with users, that are inactive: like age, location or other \n",
        "                             # only users parameters, not books parameters. \n",
        "                             # For book parameters we already use encoded ISBN\n",
        "\n",
        "        user_vector = self.user_embedding(inputs[:, 0])\n",
        "        user_bias = self.user_bias(inputs[:, 0])\n",
        "        book_vector = self.book_embedding(inputs[:, 1])\n",
        "        book_bias = self.book_bias(inputs[:, 1])\n",
        "        dot_user_book = tf.tensordot(user_vector, book_vector, 2)\n",
        "        if self.exog is not None:\n",
        "            age_vector = self.age(inputs[:, 6])\n",
        "            age_bias = self.age_bias(inputs[:, 6])\n",
        "            dot_user_age = tf.tensordot(user_vector, age_vector, 2)\n",
        "        \n",
        "            loc_vector = self.location(inputs[:, 5])\n",
        "            loc_bias = self.location_bias(inputs[:, 5])\n",
        "            dot_user_loc = tf.tensordot(user_vector, loc_vector, 2)\n",
        "        \n",
        "            titles_vector = self.titles(inputs[:, 4])  # not! very useful for new users as this is characteristic of a book\n",
        "            titles_bias = self.titles_bias(inputs[:, 4])\n",
        "            dot_user_titles = tf.tensordot(user_vector, titles_vector, 2)\n",
        "        \n",
        "            vectors = dot_user_book + dot_user_age + dot_user_loc + dot_user_titles\n",
        "            biases = user_bias + book_bias + age_bias + loc_bias + titles_bias  \n",
        "            x = vectors + biases\n",
        "        else: \n",
        "            x = dot_user_book + user_bias + book_bias\n",
        "\n",
        "        # The sigmoid activation forces the rating to be between 0 and 1\n",
        "        if self.exog:\n",
        "            # var 2: learn dense on x2 and then add x+x2, pass to sigmoid\n",
        "            x2 = self.dense(inputs[:, -3:])\n",
        "            x = tf.nn.sigmoid(x)\n",
        "            x2 = tf.nn.sigmoid(x2)\n",
        "            return (x+x2)/2.\n",
        "        elif not self.exog:\n",
        "            # var 1 concatenate exogs with dot result and pass to dense\n",
        "            x = tf.concat([inputs[:, -3:], x], axis=1)\n",
        "            x = self.dense(x)\n",
        "            return tf.nn.sigmoid(x)\n",
        "        else:\n",
        "            return tf.nn.sigmoid(x)\n",
        "\n",
        "model = RecommenderNet(num_users, num_books, num_isbn_age, num_isbn_loc, num_titles, EMBEDDING_SIZE, exog=True)\n",
        "\n",
        "def R_squared(y, y_pred):\n",
        "  residual = tf.reduce_sum(tf.square(tf.subtract(y, y_pred)))\n",
        "  total = tf.reduce_sum(tf.square(tf.subtract(y, tf.reduce_mean(y))))\n",
        "  r2 = tf.subtract(1.0, tf.math.divide(residual, total))\n",
        "  return r2\n",
        "\n",
        "metrics = [\n",
        "           tf.keras.metrics.MeanAbsoluteError(name='MAE'),\n",
        "           tf.keras.metrics.MeanSquaredError(name='MSE'),\n",
        "           tf.keras.metrics.RootMeanSquaredError(name='RMSE'),\n",
        "           R_squared,\n",
        "]\n",
        "# BinaryCrossEntropy is ok as if we use sigmoid in output - probability distribution\n",
        "model.compile(\n",
        "    loss=tf.keras.losses.BinaryCrossentropy(), optimizer=keras.optimizers.Adam(lr=0.03), metrics=metrics,\n",
        ")\n",
        "callbacks = [tf.keras.callbacks.ModelCheckpoint(filepath=checkpoint_path, save_weights_only=False),\n",
        "             tf.keras.callbacks.ReduceLROnPlateau(patience=4),\n",
        "             tf.keras.callbacks.EarlyStopping(monitor='val_loss', patience=8, restore_best_weights=True),\n",
        "             tf.keras.callbacks.TensorBoard(log_dir=\"logs\"),\n",
        "            ]\n",
        "\"\"\" \n",
        "var 1 add padded tensors of x2 and dot result, pass to dense\n",
        "x2 = tf.cast(inputs[:, 2:], dtype=np.float32)\n",
        "paddings1 = tf.constant([[0,0], [3,0]])\n",
        "paddings2 = tf.constant([[0,0],[0,1]])\n",
        "x = tf.pad(x, paddings1) + tf.pad(x2, paddings2)\n",
        "a = tf.print(x)\n",
        "x1 = tf.expand_dims(x, axis=0) # add new dimension\n",
        "x = tf.concat((inputs[:, 2:], inputs[:, 2:]*0 + x), axis=0)  # trick to set dimendion of resulting vector as highest\n",
        "\"\"\""
      ],
      "execution_count": null,
      "outputs": [
        {
          "output_type": "execute_result",
          "data": {
            "application/vnd.google.colaboratory.intrinsic+json": {
              "type": "string"
            },
            "text/plain": [
              "' \\nvar 1 add padded tensors of x2 and dot result, pass to dense\\nx2 = tf.cast(inputs[:, 2:], dtype=np.float32)\\npaddings1 = tf.constant([[0,0], [3,0]])\\npaddings2 = tf.constant([[0,0],[0,1]])\\nx = tf.pad(x, paddings1) + tf.pad(x2, paddings2)\\na = tf.print(x)\\nx1 = tf.expand_dims(x, axis=0) # add new dimension\\nx = tf.concat((inputs[:, 2:], inputs[:, 2:]*0 + x), axis=0)  # trick to set dimendion of resulting vector as highest\\n'"
            ]
          },
          "metadata": {},
          "execution_count": 79
        }
      ]
    },
    {
      "cell_type": "code",
      "source": [
        "arr2 = tf.cast(X_train[:2, -3:], dtype=np.float32)\n",
        "arr1 = tf.constant([[10.], [9.]])\n",
        "tf.concat([arr1, arr2], axis=1)\n",
        "X_train[:2, :]"
      ],
      "metadata": {
        "id": "m97cR1vh9jLS"
      },
      "execution_count": null,
      "outputs": []
    },
    {
      "cell_type": "code",
      "metadata": {
        "id": "dbpzGq_xfQ7B"
      },
      "source": [
        "train_ds = tf.data.Dataset.from_tensor_slices((X_train, y_train)).cache().batch(batch_size).prefetch(buffer_size=AUTOTUNE)\n",
        "val_ds = tf.data.Dataset.from_tensor_slices((X_valid, y_valid)).cache()\n",
        "val_ds = val_ds.batch(batch_size).prefetch(buffer_size=AUTOTUNE) "
      ],
      "execution_count": null,
      "outputs": []
    },
    {
      "cell_type": "code",
      "metadata": {
        "colab": {
          "base_uri": "https://localhost:8080/"
        },
        "id": "Jk35dj21e96Q",
        "outputId": "616e87ca-6845-44d3-f2b7-6932f1b454fc"
      },
      "source": [
        "history = model.fit(train_ds, epochs=8, verbose=1, callbacks=callbacks, validation_data=val_ds) # epochs=20-30"
      ],
      "execution_count": null,
      "outputs": [
        {
          "output_type": "stream",
          "name": "stdout",
          "text": [
            "Epoch 1/8\n",
            "2649/2649 [==============================] - ETA: 0s - loss: 0.3093 - MAE: 0.1448 - MSE: 0.0566 - RMSE: 0.2378 - R_squared: 0.6202INFO:tensorflow:Assets written to: cp.ckpt/assets\n",
            "2649/2649 [==============================] - 226s 84ms/step - loss: 0.3093 - MAE: 0.1448 - MSE: 0.0566 - RMSE: 0.2378 - R_squared: 0.6202 - val_loss: 0.3033 - val_MAE: 0.1403 - val_MSE: 0.0552 - val_RMSE: 0.2351 - val_R_squared: 0.6286 - lr: 0.0300\n",
            "Epoch 2/8\n",
            "2649/2649 [==============================] - ETA: 0s - loss: 0.3371 - MAE: 0.1445 - MSE: 0.0565 - RMSE: 0.2377 - R_squared: 0.6207INFO:tensorflow:Assets written to: cp.ckpt/assets\n",
            "2649/2649 [==============================] - 223s 84ms/step - loss: 0.3371 - MAE: 0.1445 - MSE: 0.0565 - RMSE: 0.2377 - R_squared: 0.6207 - val_loss: 0.3207 - val_MAE: 0.1421 - val_MSE: 0.0555 - val_RMSE: 0.2355 - val_R_squared: 0.6270 - lr: 0.0300\n",
            "Epoch 3/8\n",
            "2649/2649 [==============================] - ETA: 0s - loss: 0.3183 - MAE: 0.1453 - MSE: 0.0570 - RMSE: 0.2387 - R_squared: 0.6175INFO:tensorflow:Assets written to: cp.ckpt/assets\n",
            "2649/2649 [==============================] - 222s 84ms/step - loss: 0.3183 - MAE: 0.1453 - MSE: 0.0570 - RMSE: 0.2387 - R_squared: 0.6175 - val_loss: 0.3052 - val_MAE: 0.1410 - val_MSE: 0.0556 - val_RMSE: 0.2359 - val_R_squared: 0.6257 - lr: 0.0300\n",
            "Epoch 4/8\n",
            "2649/2649 [==============================] - ETA: 0s - loss: 0.3134 - MAE: 0.1462 - MSE: 0.0579 - RMSE: 0.2406 - R_squared: 0.6111INFO:tensorflow:Assets written to: cp.ckpt/assets\n",
            "2649/2649 [==============================] - 223s 84ms/step - loss: 0.3134 - MAE: 0.1462 - MSE: 0.0579 - RMSE: 0.2406 - R_squared: 0.6111 - val_loss: 0.3058 - val_MAE: 0.1442 - val_MSE: 0.0571 - val_RMSE: 0.2390 - val_R_squared: 0.6157 - lr: 0.0300\n",
            "Epoch 5/8\n",
            "2649/2649 [==============================] - ETA: 0s - loss: 0.3279 - MAE: 0.1474 - MSE: 0.0587 - RMSE: 0.2423 - R_squared: 0.6056INFO:tensorflow:Assets written to: cp.ckpt/assets\n",
            "2649/2649 [==============================] - 223s 84ms/step - loss: 0.3279 - MAE: 0.1474 - MSE: 0.0587 - RMSE: 0.2423 - R_squared: 0.6056 - val_loss: 0.3122 - val_MAE: 0.1466 - val_MSE: 0.0581 - val_RMSE: 0.2411 - val_R_squared: 0.6091 - lr: 0.0300\n",
            "Epoch 6/8\n",
            "2649/2649 [==============================] - ETA: 0s - loss: 0.3154 - MAE: 0.1472 - MSE: 0.0589 - RMSE: 0.2427 - R_squared: 0.6044INFO:tensorflow:Assets written to: cp.ckpt/assets\n",
            "2649/2649 [==============================] - 220s 83ms/step - loss: 0.3154 - MAE: 0.1472 - MSE: 0.0589 - RMSE: 0.2427 - R_squared: 0.6044 - val_loss: 0.3097 - val_MAE: 0.1466 - val_MSE: 0.0578 - val_RMSE: 0.2405 - val_R_squared: 0.6109 - lr: 0.0030\n",
            "Epoch 7/8\n",
            "2649/2649 [==============================] - ETA: 0s - loss: 0.3176 - MAE: 0.1480 - MSE: 0.0593 - RMSE: 0.2435 - R_squared: 0.6016INFO:tensorflow:Assets written to: cp.ckpt/assets\n",
            "2649/2649 [==============================] - 222s 84ms/step - loss: 0.3176 - MAE: 0.1480 - MSE: 0.0593 - RMSE: 0.2435 - R_squared: 0.6016 - val_loss: 0.3109 - val_MAE: 0.1461 - val_MSE: 0.0572 - val_RMSE: 0.2392 - val_R_squared: 0.6151 - lr: 0.0030\n",
            "Epoch 8/8\n",
            "2649/2649 [==============================] - ETA: 0s - loss: 0.3315 - MAE: 0.1569 - MSE: 0.0638 - RMSE: 0.2526 - R_squared: 0.5714INFO:tensorflow:Assets written to: cp.ckpt/assets\n",
            "2649/2649 [==============================] - 222s 84ms/step - loss: 0.3315 - MAE: 0.1569 - MSE: 0.0638 - RMSE: 0.2526 - R_squared: 0.5714 - val_loss: 0.6352 - val_MAE: 0.3662 - val_MSE: 0.1745 - val_RMSE: 0.4177 - val_R_squared: -0.1796 - lr: 0.0030\n"
          ]
        }
      ]
    },
    {
      "cell_type": "code",
      "source": [
        "%load_ext tensorboard\n",
        "%tensorboard --logdir logs"
      ],
      "metadata": {
        "id": "zVe3YGGLbNml"
      },
      "execution_count": null,
      "outputs": []
    },
    {
      "cell_type": "code",
      "source": [
        "model.save(model_dir)"
      ],
      "metadata": {
        "colab": {
          "base_uri": "https://localhost:8080/"
        },
        "id": "umNInVpHB7G6",
        "outputId": "f126909a-4aae-4c8f-e49f-e1b075caad26"
      },
      "execution_count": null,
      "outputs": [
        {
          "output_type": "stream",
          "name": "stdout",
          "text": [
            "INFO:tensorflow:Assets written to: /content/drive/My Drive/data/books/assets\n"
          ]
        }
      ]
    },
    {
      "cell_type": "code",
      "source": [
        "model.summary()"
      ],
      "metadata": {
        "colab": {
          "base_uri": "https://localhost:8080/"
        },
        "id": "pgnvla1FXjBa",
        "outputId": "b4e50002-2a99-4749-a75b-c8f153d82f0b"
      },
      "execution_count": null,
      "outputs": [
        {
          "output_type": "stream",
          "name": "stdout",
          "text": [
            "Model: \"recommender_net_13\"\n",
            "_________________________________________________________________\n",
            " Layer (type)                Output Shape              Param #   \n",
            "=================================================================\n",
            " embedding_52 (Embedding)    multiple                  2694350   \n",
            "                                                                 \n",
            " embedding_53 (Embedding)    multiple                  53887     \n",
            "                                                                 \n",
            " embedding_54 (Embedding)    multiple                  11450000  \n",
            "                                                                 \n",
            " embedding_55 (Embedding)    multiple                  229000    \n",
            "                                                                 \n",
            " sequential_13 (Sequential)  (None, 1)                 385       \n",
            "                                                                 \n",
            "=================================================================\n",
            "Total params: 14,427,622\n",
            "Trainable params: 14,427,622\n",
            "Non-trainable params: 0\n",
            "_________________________________________________________________\n"
          ]
        }
      ]
    },
    {
      "cell_type": "code",
      "source": [
        "new_model = tf.keras.models.load_model(model_dir)"
      ],
      "metadata": {
        "id": "Ai2-jobIXOgt"
      },
      "execution_count": null,
      "outputs": []
    },
    {
      "cell_type": "code",
      "source": [
        "# without exogenious variables\n",
        "user_id = 13479\n",
        "books_read_by_user = df[df['User-ID'] == user_id]\n",
        "books_not_read = df[~df[\"ISBN\"].isin(books_read_by_user['ISBN'].values)][\"ISBN\"] ##\n",
        "books_not_read = list(set(books_not_read).intersection(set(book2book_encoded.keys()))) ##\n",
        "\n",
        "books_not_read = [[book2book_encoded.get(x)] for x in books_not_read] ##\n",
        "user_encoder = user2user_encoded.get(user_id)\n",
        "\n",
        "user_book_array = np.hstack(([[user_encoder]] * len(books_not_read), books_not_read)) ##"
      ],
      "metadata": {
        "id": "950TfXPkXq1w"
      },
      "execution_count": null,
      "outputs": []
    },
    {
      "cell_type": "code",
      "source": [
        "# with exogenious variables\n",
        "user_id = 13479\n",
        "books_read_by_user = df[df['User-ID'] == user_id]\n",
        "books_not_read = df[~df[\"ISBN\"].isin(books_read_by_user['ISBN'].values)][[\"ISBN\", \"Location\", \"Age\", \"Book-Title\", \"Mean_ISBN_Loc\", \"Mean_ISBN_age\", \"Popular_Author\"]]\n",
        "books_exog_vars = books_not_read.groupby('ISBN').mean().reset_index()[[\"Location\", \"Age\", \"Book-Title\", \"Mean_ISBN_Loc\", \"Mean_ISBN_age\", \"Popular_Author\"]]\n",
        "books_not_read_ = list(set(books_not_read[\"ISBN\"]).intersection(set(book2book_encoded.keys())))\n",
        "\n",
        "books_not_read_ = [[book2book_encoded.get(x)] for x in books_not_read_] \n",
        "user_encoder = user2user_encoded.get(user_id)\n",
        "\n",
        "user_book_array = np.hstack(([[user_encoder]] * len(books_not_read_), books_not_read_, books_exog_vars))"
      ],
      "metadata": {
        "id": "qs7GjZTr_pIo"
      },
      "execution_count": null,
      "outputs": []
    },
    {
      "cell_type": "code",
      "source": [
        "user_book_array[:3]"
      ],
      "metadata": {
        "colab": {
          "base_uri": "https://localhost:8080/"
        },
        "id": "EsLmUcoRBWxA",
        "outputId": "ce41f4d3-32f8-4ebc-99aa-4c4927af6db2"
      },
      "execution_count": null,
      "outputs": [
        {
          "output_type": "execute_result",
          "data": {
            "text/plain": [
              "array([[2.94400000e+03, 7.03790000e+04, 8.68578256e-02, 4.70000000e+01,\n",
              "        7.60276197e-03, 8.00000000e+00, 8.00000000e+00, 1.00000000e+00],\n",
              "       [2.94400000e+03, 6.81660000e+04, 3.56418426e-02, 5.70000000e+01,\n",
              "        9.45000071e-03, 0.00000000e+00, 0.00000000e+00, 1.10000000e+01],\n",
              "       [2.94400000e+03, 1.46121000e+05, 3.56418426e-02, 2.90000000e+01,\n",
              "        9.42021422e-03, 0.00000000e+00, 0.00000000e+00, 3.00000000e+00]])"
            ]
          },
          "metadata": {},
          "execution_count": 72
        }
      ]
    },
    {
      "cell_type": "code",
      "source": [
        "model.dense.input_shape"
      ],
      "metadata": {
        "colab": {
          "base_uri": "https://localhost:8080/"
        },
        "id": "lS8FZVixAWzo",
        "outputId": "77a6ca7a-0a9a-4134-bb83-ebd7fffae670"
      },
      "execution_count": null,
      "outputs": [
        {
          "output_type": "execute_result",
          "data": {
            "text/plain": [
              "(None, 4)"
            ]
          },
          "metadata": {},
          "execution_count": 69
        }
      ]
    },
    {
      "cell_type": "code",
      "source": [
        "ratings = model.predict(user_book_array).flatten()"
      ],
      "metadata": {
        "id": "MEiMfCnl0_lj"
      },
      "execution_count": null,
      "outputs": []
    },
    {
      "cell_type": "code",
      "source": [
        "ratings"
      ],
      "metadata": {
        "colab": {
          "base_uri": "https://localhost:8080/"
        },
        "id": "EYy4kL4xEgZm",
        "outputId": "fc1fe014-415f-441b-81b8-b409298b1f51"
      },
      "execution_count": null,
      "outputs": [
        {
          "output_type": "execute_result",
          "data": {
            "text/plain": [
              "array([0.56155264, 0.00467403, 0.00468318, ..., 0.00463469, 0.00459737,\n",
              "       0.00459003], dtype=float32)"
            ]
          },
          "metadata": {},
          "execution_count": 83
        }
      ]
    },
    {
      "cell_type": "code",
      "source": [
        "top_ratings_indices = ratings.argsort()[-20:][::-1]\n",
        "recommended_books_ids = [book_encoded2book.get(books_not_read_[x][0]) for x in top_ratings_indices]"
      ],
      "metadata": {
        "id": "aQIweVz51RKS"
      },
      "execution_count": null,
      "outputs": []
    },
    {
      "cell_type": "code",
      "source": [
        "rec_df = df[df.ISBN.isin(recommended_books_ids)][['Book-Title', 'Book-Rating']].groupby('Book-Title').mean().sort_values('Book-Rating', ascending=False).head(10)\n",
        "selected_isbn = df.loc[df['Book-Title'].isin(rec_df.index.to_list()), 'ISBN'].unique().tolist()\n",
        "df.loc[df.ISBN.isin(selected_isbn), ['ISBN', 'Book-Rating']].groupby('ISBN').mean().sort_values('Book-Rating', ascending=False).head(10)"
      ],
      "metadata": {
        "colab": {
          "base_uri": "https://localhost:8080/",
          "height": 394
        },
        "id": "ciEfLJXr8ldU",
        "outputId": "6f952aed-e003-45a4-d32b-a90b26247d25"
      },
      "execution_count": null,
      "outputs": [
        {
          "output_type": "execute_result",
          "data": {
            "text/html": [
              "<div>\n",
              "<style scoped>\n",
              "    .dataframe tbody tr th:only-of-type {\n",
              "        vertical-align: middle;\n",
              "    }\n",
              "\n",
              "    .dataframe tbody tr th {\n",
              "        vertical-align: top;\n",
              "    }\n",
              "\n",
              "    .dataframe thead th {\n",
              "        text-align: right;\n",
              "    }\n",
              "</style>\n",
              "<table border=\"1\" class=\"dataframe\">\n",
              "  <thead>\n",
              "    <tr style=\"text-align: right;\">\n",
              "      <th></th>\n",
              "      <th>Book-Rating</th>\n",
              "    </tr>\n",
              "    <tr>\n",
              "      <th>ISBN</th>\n",
              "      <th></th>\n",
              "    </tr>\n",
              "  </thead>\n",
              "  <tbody>\n",
              "    <tr>\n",
              "      <th>284055335X</th>\n",
              "      <td>10.0</td>\n",
              "    </tr>\n",
              "    <tr>\n",
              "      <th>0920656080</th>\n",
              "      <td>10.0</td>\n",
              "    </tr>\n",
              "    <tr>\n",
              "      <th>0553581031</th>\n",
              "      <td>9.0</td>\n",
              "    </tr>\n",
              "    <tr>\n",
              "      <th>0345444841</th>\n",
              "      <td>8.5</td>\n",
              "    </tr>\n",
              "    <tr>\n",
              "      <th>0764506927</th>\n",
              "      <td>8.0</td>\n",
              "    </tr>\n",
              "    <tr>\n",
              "      <th>0061051799</th>\n",
              "      <td>8.0</td>\n",
              "    </tr>\n",
              "    <tr>\n",
              "      <th>0887393187</th>\n",
              "      <td>7.0</td>\n",
              "    </tr>\n",
              "    <tr>\n",
              "      <th>1575667231</th>\n",
              "      <td>6.0</td>\n",
              "    </tr>\n",
              "    <tr>\n",
              "      <th>0670032050</th>\n",
              "      <td>4.5</td>\n",
              "    </tr>\n",
              "    <tr>\n",
              "      <th>0553130269</th>\n",
              "      <td>2.5</td>\n",
              "    </tr>\n",
              "  </tbody>\n",
              "</table>\n",
              "</div>"
            ],
            "text/plain": [
              "            Book-Rating\n",
              "ISBN                   \n",
              "284055335X         10.0\n",
              "0920656080         10.0\n",
              "0553581031          9.0\n",
              "0345444841          8.5\n",
              "0764506927          8.0\n",
              "0061051799          8.0\n",
              "0887393187          7.0\n",
              "1575667231          6.0\n",
              "0670032050          4.5\n",
              "0553130269          2.5"
            ]
          },
          "metadata": {},
          "execution_count": 100
        }
      ]
    },
    {
      "cell_type": "code",
      "source": [
        "# clusters\n",
        "# select user_id and look up for users from the same cluster\n",
        "# take best reted movies from that cluster, except that user_id had already watched\n",
        "# set_index: book\n",
        "\"\"\"\n",
        "emb_count_0 = df.loc[df[self.target] == 0, 'Region_Code'].count()\n",
        "emb_count_1 = df.loc[df[self.target] == 1, 'Region_Code'].count()\n",
        "\n",
        "for item in df.Region_Code.unique():\n",
        "    percent_non_event = df.loc[((df[self.target] == 0) & (df.Region_Code == item)), 'Region_Code'].count() / emb_count_0\n",
        "    percent_event = df.loc[((df[self.target] == 1) & (df.Region_Code == item)), 'Region_Code'].count() / emb_count_1\n",
        "    self.region_woe_vocab[item] = np.log(percent_non_event / percent_event)\n",
        "\n",
        "map\n",
        "\"\"\""
      ],
      "metadata": {
        "id": "He7sFRWn-T_W"
      },
      "execution_count": null,
      "outputs": []
    },
    {
      "cell_type": "code",
      "source": [
        "from sklearn.cluster import KMeans\n",
        "from sklearn.metrics import silhouette_score"
      ],
      "metadata": {
        "id": "gFsizfE-UEjo"
      },
      "execution_count": null,
      "outputs": []
    },
    {
      "cell_type": "code",
      "source": [
        "# frequency encoding\n",
        "loc_a_dict = df['Book-Author'].value_counts().to_dict()\n",
        "df['Book-Author'] = df['Book-Author'].apply(lambda x: loc_a_dict.get(x) / total) * 1000 # map?"
      ],
      "metadata": {
        "id": "Xt-315XHbQIu"
      },
      "execution_count": null,
      "outputs": []
    },
    {
      "cell_type": "code",
      "source": [
        "# weight of evidence encoding: takes enormous time to calculate due to having huge amount of unique categories\n",
        "\"\"\"\n",
        "vocab = {}\n",
        "emb_count_0 = df.loc[df['Book-Rating'] < 6, 'Book-Author'].count()\n",
        "emb_count_1 = df.loc[df['Book-Rating'] >= 6, 'Book-Author'].count()\n",
        "for item in df['Book-Author'].unique():\n",
        "    percent_non_event = df.loc[((df['Book-Rating'] < 6) & (df['Book-Author'] == item)), 'Book-Author'].count() / emb_count_0\n",
        "    percent_event = df.loc[((df['Book-Rating'] >= 6) & (df['Book-Author'] == item)), 'Book-Author'].count() / emb_count_1\n",
        "    vocab[item] = np.log(percent_non_event / percent_event + 1e-6)\n",
        "df['Book-Author'] = df['Book-Author'].map(vocab)\n",
        "\"\"\""
      ],
      "metadata": {
        "id": "6-A8CU-PYHFG"
      },
      "execution_count": null,
      "outputs": []
    },
    {
      "cell_type": "code",
      "source": [
        "df.sample(5)"
      ],
      "metadata": {
        "colab": {
          "base_uri": "https://localhost:8080/",
          "height": 397
        },
        "id": "IYOr2r0N-WeK",
        "outputId": "34b5a035-2561-453d-d429-edef8d3bb4bb"
      },
      "execution_count": null,
      "outputs": [
        {
          "output_type": "execute_result",
          "data": {
            "text/html": [
              "<div>\n",
              "<style scoped>\n",
              "    .dataframe tbody tr th:only-of-type {\n",
              "        vertical-align: middle;\n",
              "    }\n",
              "\n",
              "    .dataframe tbody tr th {\n",
              "        vertical-align: top;\n",
              "    }\n",
              "\n",
              "    .dataframe thead th {\n",
              "        text-align: right;\n",
              "    }\n",
              "</style>\n",
              "<table border=\"1\" class=\"dataframe\">\n",
              "  <thead>\n",
              "    <tr style=\"text-align: right;\">\n",
              "      <th></th>\n",
              "      <th>User-ID</th>\n",
              "      <th>ISBN</th>\n",
              "      <th>Book-Rating</th>\n",
              "      <th>Location</th>\n",
              "      <th>Age</th>\n",
              "      <th>Book-Title</th>\n",
              "      <th>Book-Author</th>\n",
              "      <th>Mean_ISBN_Loc</th>\n",
              "      <th>Mean_ISBN_age</th>\n",
              "      <th>Popular_Author</th>\n",
              "      <th>user</th>\n",
              "      <th>book</th>\n",
              "      <th>Book-Title_Vec</th>\n",
              "    </tr>\n",
              "  </thead>\n",
              "  <tbody>\n",
              "    <tr>\n",
              "      <th>450576</th>\n",
              "      <td>168245</td>\n",
              "      <td>0806913037</td>\n",
              "      <td>0.0</td>\n",
              "      <td>0.086858</td>\n",
              "      <td>37.0</td>\n",
              "      <td>Inspirational Christmas Crafts</td>\n",
              "      <td>0.001327</td>\n",
              "      <td>0.000000</td>\n",
              "      <td>0.0</td>\n",
              "      <td>1</td>\n",
              "      <td>32917</td>\n",
              "      <td>167630</td>\n",
              "      <td>-0.010393</td>\n",
              "    </tr>\n",
              "    <tr>\n",
              "      <th>716802</th>\n",
              "      <td>262399</td>\n",
              "      <td>0821772287</td>\n",
              "      <td>0.0</td>\n",
              "      <td>0.735151</td>\n",
              "      <td>48.0</td>\n",
              "      <td>The Awakening</td>\n",
              "      <td>0.347803</td>\n",
              "      <td>1.714286</td>\n",
              "      <td>0.0</td>\n",
              "      <td>262</td>\n",
              "      <td>51163</td>\n",
              "      <td>46422</td>\n",
              "      <td>-0.011954</td>\n",
              "    </tr>\n",
              "    <tr>\n",
              "      <th>491907</th>\n",
              "      <td>182053</td>\n",
              "      <td>088404632X</td>\n",
              "      <td>0.0</td>\n",
              "      <td>0.086858</td>\n",
              "      <td>30.0</td>\n",
              "      <td>Dianetics: The Modern Science of Mental Health</td>\n",
              "      <td>0.346476</td>\n",
              "      <td>0.000000</td>\n",
              "      <td>0.0</td>\n",
              "      <td>261</td>\n",
              "      <td>35614</td>\n",
              "      <td>34255</td>\n",
              "      <td>-0.010518</td>\n",
              "    </tr>\n",
              "    <tr>\n",
              "      <th>32666</th>\n",
              "      <td>14232</td>\n",
              "      <td>8874973632</td>\n",
              "      <td>0.0</td>\n",
              "      <td>0.013206</td>\n",
              "      <td>23.0</td>\n",
              "      <td>Lo schermo insanguinato: Il cinema italiano de...</td>\n",
              "      <td>0.001327</td>\n",
              "      <td>0.000000</td>\n",
              "      <td>0.0</td>\n",
              "      <td>1</td>\n",
              "      <td>3090</td>\n",
              "      <td>23767</td>\n",
              "      <td>-0.001984</td>\n",
              "    </tr>\n",
              "    <tr>\n",
              "      <th>80218</th>\n",
              "      <td>31826</td>\n",
              "      <td>0553575791</td>\n",
              "      <td>5.0</td>\n",
              "      <td>0.735151</td>\n",
              "      <td>54.0</td>\n",
              "      <td>Simeon's Bride</td>\n",
              "      <td>0.010620</td>\n",
              "      <td>1.250000</td>\n",
              "      <td>5.0</td>\n",
              "      <td>8</td>\n",
              "      <td>6559</td>\n",
              "      <td>49610</td>\n",
              "      <td>-0.011472</td>\n",
              "    </tr>\n",
              "  </tbody>\n",
              "</table>\n",
              "</div>"
            ],
            "text/plain": [
              "        User-ID        ISBN  Book-Rating  ...   user    book Book-Title_Vec\n",
              "450576   168245  0806913037          0.0  ...  32917  167630      -0.010393\n",
              "716802   262399  0821772287          0.0  ...  51163   46422      -0.011954\n",
              "491907   182053  088404632X          0.0  ...  35614   34255      -0.010518\n",
              "32666     14232  8874973632          0.0  ...   3090   23767      -0.001984\n",
              "80218     31826  0553575791          5.0  ...   6559   49610      -0.011472\n",
              "\n",
              "[5 rows x 13 columns]"
            ]
          },
          "metadata": {},
          "execution_count": 79
        }
      ]
    },
    {
      "cell_type": "code",
      "source": [
        "# train_data = df.values[:, np.arange(2,10)] # when there is no book-title-vec\n",
        "train_data = df.values[:, [2,3,4,6,7,8,9,12]]\n",
        "train_data = MinMaxScaler().fit_transform(train_data)"
      ],
      "metadata": {
        "id": "-dtxahX3hDij"
      },
      "execution_count": null,
      "outputs": []
    },
    {
      "cell_type": "code",
      "source": [
        "# to workout\n",
        "distortions, silhuettes = [], []\n",
        "max_k = 20\n",
        "\n",
        "for i in range(1, max_k + 1):\n",
        "    if train_data.shape[0] >= i:\n",
        "        kmeans = KMeans(n_clusters=i, init='k-means++', n_init=10, max_iter=300, random_state=1, tol=1e-04)\n",
        "        kmeans.fit(train_data)\n",
        "        distortions.append(kmeans.inertia_)\n",
        "        if i == 1:\n",
        "            continue\n",
        "        # silhuettes.append(silhouette_score(train_data, kmeans.predict(train_data), random_state=1))\n",
        "k = [i*100 for i in np.diff(distortions, 2)].index(min([i*100 for i in np.diff(distortions,2)]))\n",
        "\n",
        "fig, ax = plt.subplots()\n",
        "ax.plot(range(1, 21), distortions)\n",
        "ax.axvline(k, ls='--', color=\"red\", label=\"k = \" + str(k))\n",
        "ax.set(title='The Elbow Method', xlabel='Number of clusters', ylabel=\"Distortion\")\n",
        "plt.grid()\n",
        "plt.legend(loc='best')\n",
        "plt.show()"
      ],
      "metadata": {
        "colab": {
          "base_uri": "https://localhost:8080/",
          "height": 295
        },
        "id": "RrIMlJUpb5oX",
        "outputId": "c9351f91-cfc0-4e37-9a18-c40f4120b5cf"
      },
      "execution_count": null,
      "outputs": [
        {
          "output_type": "display_data",
          "data": {
            "image/png": "[encoded data removed]",
            "text/plain": [
              "<Figure size 432x288 with 1 Axes>"
            ]
          },
          "metadata": {
            "needs_background": "light"
          }
        }
      ]
    },
    {
      "cell_type": "code",
      "source": [
        "kmeans = KMeans(n_clusters=12, init='k-means++', n_init=10, max_iter=300, random_state=1, tol=1e-04)\n",
        "df['Cluster'] = kmeans.fit_predict(train_data)"
      ],
      "metadata": {
        "id": "0a8q4NWsb8Ku"
      },
      "execution_count": null,
      "outputs": []
    },
    {
      "cell_type": "code",
      "source": [
        "user_id = 13479\n",
        "df.loc[df['User-ID'] == user_id, :].groupby('Book-Rating').mean().sort_values('Book-Rating', ascending=False)['Cluster'].head(1)\n",
        "# so let's observe 8 cluster"
      ],
      "metadata": {
        "colab": {
          "base_uri": "https://localhost:8080/"
        },
        "id": "A6GC5l3rX3-3",
        "outputId": "b011348b-960e-40fa-eca1-c90131f05087"
      },
      "execution_count": null,
      "outputs": [
        {
          "output_type": "execute_result",
          "data": {
            "text/plain": [
              "Book-Rating\n",
              "6.0    8\n",
              "Name: Cluster, dtype: int32"
            ]
          },
          "metadata": {},
          "execution_count": 85
        }
      ]
    },
    {
      "cell_type": "code",
      "source": [
        "clust_df = df[df.Cluster == 8]"
      ],
      "metadata": {
        "id": "nHVnx5exZQu8"
      },
      "execution_count": null,
      "outputs": []
    },
    {
      "cell_type": "code",
      "source": [
        "clust_df.loc[clust_df['User-ID'] != user_id, :]"
      ],
      "metadata": {
        "colab": {
          "base_uri": "https://localhost:8080/",
          "height": 791
        },
        "id": "ff6uxLziZd7Y",
        "outputId": "7e4aab67-d8b4-4689-d71d-1600fd635ae8"
      },
      "execution_count": null,
      "outputs": [
        {
          "output_type": "execute_result",
          "data": {
            "text/html": [
              "<div>\n",
              "<style scoped>\n",
              "    .dataframe tbody tr th:only-of-type {\n",
              "        vertical-align: middle;\n",
              "    }\n",
              "\n",
              "    .dataframe tbody tr th {\n",
              "        vertical-align: top;\n",
              "    }\n",
              "\n",
              "    .dataframe thead th {\n",
              "        text-align: right;\n",
              "    }\n",
              "</style>\n",
              "<table border=\"1\" class=\"dataframe\">\n",
              "  <thead>\n",
              "    <tr style=\"text-align: right;\">\n",
              "      <th></th>\n",
              "      <th>User-ID</th>\n",
              "      <th>ISBN</th>\n",
              "      <th>Book-Rating</th>\n",
              "      <th>Location</th>\n",
              "      <th>Age</th>\n",
              "      <th>Book-Title</th>\n",
              "      <th>Book-Author</th>\n",
              "      <th>Mean_ISBN_Loc</th>\n",
              "      <th>Mean_ISBN_age</th>\n",
              "      <th>Popular_Author</th>\n",
              "      <th>user</th>\n",
              "      <th>book</th>\n",
              "      <th>Book-Title_Vec</th>\n",
              "      <th>Cluster</th>\n",
              "    </tr>\n",
              "  </thead>\n",
              "  <tbody>\n",
              "    <tr>\n",
              "      <th>2</th>\n",
              "      <td>276729</td>\n",
              "      <td>0521795028</td>\n",
              "      <td>6.0</td>\n",
              "      <td>0.000019</td>\n",
              "      <td>16.0</td>\n",
              "      <td>The Amsterdam Connection : Level 4 (Cambridge ...</td>\n",
              "      <td>0.002655</td>\n",
              "      <td>6.000000</td>\n",
              "      <td>6.000000</td>\n",
              "      <td>2</td>\n",
              "      <td>1</td>\n",
              "      <td>2</td>\n",
              "      <td>-0.008422</td>\n",
              "      <td>8</td>\n",
              "    </tr>\n",
              "    <tr>\n",
              "      <th>12</th>\n",
              "      <td>276748</td>\n",
              "      <td>0747558167</td>\n",
              "      <td>6.0</td>\n",
              "      <td>0.000020</td>\n",
              "      <td>39.0</td>\n",
              "      <td>Apricots on the Nile: A Memoir with Recipes</td>\n",
              "      <td>0.006637</td>\n",
              "      <td>6.000000</td>\n",
              "      <td>6.000000</td>\n",
              "      <td>5</td>\n",
              "      <td>4</td>\n",
              "      <td>12</td>\n",
              "      <td>-0.008424</td>\n",
              "      <td>8</td>\n",
              "    </tr>\n",
              "    <tr>\n",
              "      <th>14</th>\n",
              "      <td>276755</td>\n",
              "      <td>0451166892</td>\n",
              "      <td>5.0</td>\n",
              "      <td>0.026069</td>\n",
              "      <td>32.0</td>\n",
              "      <td>The Pillars of the Earth</td>\n",
              "      <td>1.668658</td>\n",
              "      <td>2.500000</td>\n",
              "      <td>1.333333</td>\n",
              "      <td>1257</td>\n",
              "      <td>6</td>\n",
              "      <td>14</td>\n",
              "      <td>-0.011402</td>\n",
              "      <td>8</td>\n",
              "    </tr>\n",
              "    <tr>\n",
              "      <th>17</th>\n",
              "      <td>276762</td>\n",
              "      <td>0380711524</td>\n",
              "      <td>5.0</td>\n",
              "      <td>0.026069</td>\n",
              "      <td>25.0</td>\n",
              "      <td>See Jane Run</td>\n",
              "      <td>0.658436</td>\n",
              "      <td>5.000000</td>\n",
              "      <td>5.000000</td>\n",
              "      <td>496</td>\n",
              "      <td>7</td>\n",
              "      <td>17</td>\n",
              "      <td>-0.009798</td>\n",
              "      <td>8</td>\n",
              "    </tr>\n",
              "    <tr>\n",
              "      <th>43</th>\n",
              "      <td>276786</td>\n",
              "      <td>8478442588</td>\n",
              "      <td>6.0</td>\n",
              "      <td>0.017357</td>\n",
              "      <td>34.0</td>\n",
              "      <td>El Elogio de La Sombra</td>\n",
              "      <td>0.003982</td>\n",
              "      <td>3.000000</td>\n",
              "      <td>6.000000</td>\n",
              "      <td>3</td>\n",
              "      <td>10</td>\n",
              "      <td>43</td>\n",
              "      <td>-0.009524</td>\n",
              "      <td>8</td>\n",
              "    </tr>\n",
              "    <tr>\n",
              "      <th>...</th>\n",
              "      <td>...</td>\n",
              "      <td>...</td>\n",
              "      <td>...</td>\n",
              "      <td>...</td>\n",
              "      <td>...</td>\n",
              "      <td>...</td>\n",
              "      <td>...</td>\n",
              "      <td>...</td>\n",
              "      <td>...</td>\n",
              "      <td>...</td>\n",
              "      <td>...</td>\n",
              "      <td>...</td>\n",
              "      <td>...</td>\n",
              "      <td>...</td>\n",
              "    </tr>\n",
              "    <tr>\n",
              "      <th>753062</th>\n",
              "      <td>276670</td>\n",
              "      <td>0804115761</td>\n",
              "      <td>8.0</td>\n",
              "      <td>0.086858</td>\n",
              "      <td>30.0</td>\n",
              "      <td>Thousand Acres</td>\n",
              "      <td>0.736758</td>\n",
              "      <td>3.000000</td>\n",
              "      <td>3.714286</td>\n",
              "      <td>555</td>\n",
              "      <td>53879</td>\n",
              "      <td>2277</td>\n",
              "      <td>-0.010983</td>\n",
              "      <td>8</td>\n",
              "    </tr>\n",
              "    <tr>\n",
              "      <th>753068</th>\n",
              "      <td>276670</td>\n",
              "      <td>1551520648</td>\n",
              "      <td>4.0</td>\n",
              "      <td>0.086858</td>\n",
              "      <td>30.0</td>\n",
              "      <td>Jane: A novel</td>\n",
              "      <td>0.002655</td>\n",
              "      <td>2.000000</td>\n",
              "      <td>4.000000</td>\n",
              "      <td>2</td>\n",
              "      <td>53879</td>\n",
              "      <td>98480</td>\n",
              "      <td>-0.012803</td>\n",
              "      <td>8</td>\n",
              "    </tr>\n",
              "    <tr>\n",
              "      <th>753073</th>\n",
              "      <td>276670</td>\n",
              "      <td>1569472041</td>\n",
              "      <td>8.0</td>\n",
              "      <td>0.086858</td>\n",
              "      <td>30.0</td>\n",
              "      <td>Adrian Mole: The Cappuccino Years</td>\n",
              "      <td>0.286738</td>\n",
              "      <td>4.000000</td>\n",
              "      <td>8.000000</td>\n",
              "      <td>216</td>\n",
              "      <td>53879</td>\n",
              "      <td>100097</td>\n",
              "      <td>-0.007101</td>\n",
              "      <td>8</td>\n",
              "    </tr>\n",
              "    <tr>\n",
              "      <th>753075</th>\n",
              "      <td>276670</td>\n",
              "      <td>1573220485</td>\n",
              "      <td>5.0</td>\n",
              "      <td>0.086858</td>\n",
              "      <td>30.0</td>\n",
              "      <td>The Beach</td>\n",
              "      <td>0.172574</td>\n",
              "      <td>4.200000</td>\n",
              "      <td>6.000000</td>\n",
              "      <td>130</td>\n",
              "      <td>53879</td>\n",
              "      <td>25995</td>\n",
              "      <td>-0.009749</td>\n",
              "      <td>8</td>\n",
              "    </tr>\n",
              "    <tr>\n",
              "      <th>753076</th>\n",
              "      <td>276670</td>\n",
              "      <td>1573227331</td>\n",
              "      <td>7.0</td>\n",
              "      <td>0.086858</td>\n",
              "      <td>30.0</td>\n",
              "      <td>About a Boy</td>\n",
              "      <td>1.166866</td>\n",
              "      <td>5.857143</td>\n",
              "      <td>5.166667</td>\n",
              "      <td>879</td>\n",
              "      <td>53879</td>\n",
              "      <td>9296</td>\n",
              "      <td>-0.012469</td>\n",
              "      <td>8</td>\n",
              "    </tr>\n",
              "  </tbody>\n",
              "</table>\n",
              "<p>36188 rows × 14 columns</p>\n",
              "</div>"
            ],
            "text/plain": [
              "        User-ID        ISBN  Book-Rating  ...    book  Book-Title_Vec Cluster\n",
              "2        276729  0521795028          6.0  ...       2       -0.008422       8\n",
              "12       276748  0747558167          6.0  ...      12       -0.008424       8\n",
              "14       276755  0451166892          5.0  ...      14       -0.011402       8\n",
              "17       276762  0380711524          5.0  ...      17       -0.009798       8\n",
              "43       276786  8478442588          6.0  ...      43       -0.009524       8\n",
              "...         ...         ...          ...  ...     ...             ...     ...\n",
              "753062   276670  0804115761          8.0  ...    2277       -0.010983       8\n",
              "753068   276670  1551520648          4.0  ...   98480       -0.012803       8\n",
              "753073   276670  1569472041          8.0  ...  100097       -0.007101       8\n",
              "753075   276670  1573220485          5.0  ...   25995       -0.009749       8\n",
              "753076   276670  1573227331          7.0  ...    9296       -0.012469       8\n",
              "\n",
              "[36188 rows x 14 columns]"
            ]
          },
          "metadata": {},
          "execution_count": 88
        }
      ]
    },
    {
      "cell_type": "code",
      "source": [
        "\"\"\"\n",
        "1) just get most rated books from clust_df, that user had not read\n",
        "2) get similar books for user using cosine_similarity for vectorized book-title or als with rating\n",
        "\"\"\""
      ],
      "metadata": {
        "id": "X7mwSaMMalUs"
      },
      "execution_count": null,
      "outputs": []
    },
    {
      "cell_type": "code",
      "source": [
        "# reassign user ids, because of issues in indexes in sparse_person_content matrix\n",
        "user_ids = clust_df[\"User-ID\"].unique().tolist()\n",
        "\n",
        "user2user_encoded = {x: i for i, x in enumerate(user_ids)}\n",
        "userencoded2user = {i: x for i, x in enumerate(user_ids)}\n",
        "\n",
        "books_ids = df[\"ISBN\"].unique().tolist()\n",
        "\n",
        "book2book_encoded = {x: i for i, x in enumerate(books_ids)}\n",
        "book_encoded2book = {i: x for i, x in enumerate(books_ids)}\n",
        "\n",
        "clust_df[\"user\"] = clust_df[\"User-ID\"].map(user2user_encoded)\n",
        "clust_df[\"book\"] = clust_df[\"ISBN\"].map(book2book_encoded)"
      ],
      "metadata": {
        "id": "A1CwfN1kgbft"
      },
      "execution_count": null,
      "outputs": []
    },
    {
      "cell_type": "code",
      "source": [
        "grouped_df = clust_df.groupby(['User-ID', 'ISBN', 'Book-Title']).mean().reset_index() \n",
        "grouped_df.drop_duplicates(inplace=True)\n",
        "grouped_df['Book-Title'] = grouped_df['Book-Title'].astype(\"category\")\n",
        "grouped_df['User-ID'] = grouped_df['User-ID'].astype(\"category\")\n",
        "grouped_df['ISBN'] = grouped_df['ISBN'].astype(\"category\")\n",
        "grouped_df['person_id'] = grouped_df['User-ID'].cat.codes # Return Series of codes as well as the index.\n",
        "grouped_df['content_id'] = grouped_df['ISBN'].cat.codes"
      ],
      "metadata": {
        "id": "9LcMMNwYa2AT"
      },
      "execution_count": null,
      "outputs": []
    },
    {
      "cell_type": "code",
      "source": [
        "sparse_content_person = sparse.csr_matrix((grouped_df['Book-Rating'].astype(float), (grouped_df['content_id'], grouped_df['person_id'])))\n",
        "sparse_person_content = sparse.csr_matrix((grouped_df['Book-Rating'].astype(float), (grouped_df['person_id'], grouped_df['content_id'])))"
      ],
      "metadata": {
        "id": "KG1DQ-y7c1zB"
      },
      "execution_count": null,
      "outputs": []
    },
    {
      "cell_type": "code",
      "source": [
        "model = implicit.als.AlternatingLeastSquares(factors=30, regularization=0.1, iterations=50, use_gpu=False,\n",
        "                                             random_state=1)\n",
        "alpha = 40\n",
        "data = (sparse_content_person * alpha).astype('double')\n",
        "model.fit(data)"
      ],
      "metadata": {
        "colab": {
          "base_uri": "https://localhost:8080/",
          "height": 49,
          "referenced_widgets": [
            "68ad471ac94d42549f8268ae28a46675",
            "56b81a020afb476d848f69472fd35f90",
            "2e534075eb334116bc13ba2d7b533cb3",
            "f73dac39a6754201bf87184d48fd4546",
            "96a5c9ad3ffd4b7097a160eba6c75271",
            "a8bd3d5be789405ebccf71080325589c",
            "4e5defbcf1af456c9a246feb67ce6aea",
            "71d070e705fd4f758c9b3ff767cbc5a0",
            "ced76395b2fe42b3aa9ec6da1f119b78",
            "66419bd6dce2443fbeb36fe7742f57f3",
            "767fb7ff317146219389afd84629a35e"
          ]
        },
        "id": "XTgqmr99dANW",
        "outputId": "6097b4fc-a6a5-499c-cb2e-9fbb211e65f4"
      },
      "execution_count": null,
      "outputs": [
        {
          "output_type": "display_data",
          "data": {
            "application/vnd.jupyter.widget-view+json": {
              "model_id": "68ad471ac94d42549f8268ae28a46675",
              "version_minor": 0,
              "version_major": 2
            },
            "text/plain": [
              "  0%|          | 0/50 [00:00<?, ?it/s]"
            ]
          },
          "metadata": {}
        }
      ]
    },
    {
      "cell_type": "code",
      "source": [
        "recommend_similar(user_id, 10)  # function form the beginning of notebook"
      ],
      "metadata": {
        "colab": {
          "base_uri": "https://localhost:8080/",
          "height": 332
        },
        "id": "loyD9_L6dKfp",
        "outputId": "454b68c5-d58f-48cc-b09f-f613db0e852f"
      },
      "execution_count": null,
      "outputs": [
        {
          "output_type": "execute_result",
          "data": {
            "text/html": [
              "<div>\n",
              "<style scoped>\n",
              "    .dataframe tbody tr th:only-of-type {\n",
              "        vertical-align: middle;\n",
              "    }\n",
              "\n",
              "    .dataframe tbody tr th {\n",
              "        vertical-align: top;\n",
              "    }\n",
              "\n",
              "    .dataframe thead th {\n",
              "        text-align: right;\n",
              "    }\n",
              "</style>\n",
              "<table border=\"1\" class=\"dataframe\">\n",
              "  <thead>\n",
              "    <tr style=\"text-align: right;\">\n",
              "      <th></th>\n",
              "      <th>Title</th>\n",
              "      <th>Rating</th>\n",
              "    </tr>\n",
              "  </thead>\n",
              "  <tbody>\n",
              "    <tr>\n",
              "      <th>1</th>\n",
              "      <td>Precipice: A Novel</td>\n",
              "      <td>9.0</td>\n",
              "    </tr>\n",
              "    <tr>\n",
              "      <th>2</th>\n",
              "      <td>Lines in the sand</td>\n",
              "      <td>7.0</td>\n",
              "    </tr>\n",
              "    <tr>\n",
              "      <th>0</th>\n",
              "      <td>That Old Devil Moon (Women Who Dare) (Harlequi...</td>\n",
              "      <td>5.0</td>\n",
              "    </tr>\n",
              "    <tr>\n",
              "      <th>3</th>\n",
              "      <td>JA zum Stress. HÃ?Â¶chstleistungen bringen und...</td>\n",
              "      <td>5.0</td>\n",
              "    </tr>\n",
              "    <tr>\n",
              "      <th>4</th>\n",
              "      <td>Im Atemhaus wohnen: Gedichte</td>\n",
              "      <td>5.0</td>\n",
              "    </tr>\n",
              "    <tr>\n",
              "      <th>5</th>\n",
              "      <td>Das Magazin.</td>\n",
              "      <td>5.0</td>\n",
              "    </tr>\n",
              "    <tr>\n",
              "      <th>6</th>\n",
              "      <td>Therapie.</td>\n",
              "      <td>5.0</td>\n",
              "    </tr>\n",
              "    <tr>\n",
              "      <th>7</th>\n",
              "      <td>Absahnen und abhauen. Deutschland vor dem Chaos.</td>\n",
              "      <td>5.0</td>\n",
              "    </tr>\n",
              "    <tr>\n",
              "      <th>8</th>\n",
              "      <td>Wie ein Vogel im Aquarium. Aus dem Leben eines...</td>\n",
              "      <td>5.0</td>\n",
              "    </tr>\n",
              "  </tbody>\n",
              "</table>\n",
              "</div>"
            ],
            "text/plain": [
              "                                               Title  Rating\n",
              "1                                 Precipice: A Novel     9.0\n",
              "2                                  Lines in the sand     7.0\n",
              "0  That Old Devil Moon (Women Who Dare) (Harlequi...     5.0\n",
              "3  JA zum Stress. HÃ?Â¶chstleistungen bringen und...     5.0\n",
              "4                       Im Atemhaus wohnen: Gedichte     5.0\n",
              "5                                       Das Magazin.     5.0\n",
              "6                                          Therapie.     5.0\n",
              "7   Absahnen und abhauen. Deutschland vor dem Chaos.     5.0\n",
              "8  Wie ein Vogel im Aquarium. Aus dem Leben eines...     5.0"
            ]
          },
          "metadata": {},
          "execution_count": 93
        }
      ]
    },
    {
      "cell_type": "code",
      "source": [
        "enc_user_id = user2user_encoded.get(user_id) \n",
        "content_data = recommend_similar(13479, 10)\n",
        "collab_data = recommend(enc_user_id, 10)  # ????\n",
        "pd.concat([content_data, collab_data], axis=0).sort_values('Rating', ascending=False).head(10)\n",
        "# get isbn by title value from clust_df and get book-title as string from books"
      ],
      "metadata": {
        "colab": {
          "base_uri": "https://localhost:8080/",
          "height": 363
        },
        "id": "v0pXm2XtdvTG",
        "outputId": "bf2bf3a9-44ff-4f5b-c9f5-63271a186fbe"
      },
      "execution_count": null,
      "outputs": [
        {
          "output_type": "execute_result",
          "data": {
            "text/html": [
              "<div>\n",
              "<style scoped>\n",
              "    .dataframe tbody tr th:only-of-type {\n",
              "        vertical-align: middle;\n",
              "    }\n",
              "\n",
              "    .dataframe tbody tr th {\n",
              "        vertical-align: top;\n",
              "    }\n",
              "\n",
              "    .dataframe thead th {\n",
              "        text-align: right;\n",
              "    }\n",
              "</style>\n",
              "<table border=\"1\" class=\"dataframe\">\n",
              "  <thead>\n",
              "    <tr style=\"text-align: right;\">\n",
              "      <th></th>\n",
              "      <th>Title</th>\n",
              "      <th>Rating</th>\n",
              "    </tr>\n",
              "  </thead>\n",
              "  <tbody>\n",
              "    <tr>\n",
              "      <th>1</th>\n",
              "      <td>Precipice: A Novel</td>\n",
              "      <td>9.000000</td>\n",
              "    </tr>\n",
              "    <tr>\n",
              "      <th>7</th>\n",
              "      <td>Einmal ist keinmal.</td>\n",
              "      <td>8.250000</td>\n",
              "    </tr>\n",
              "    <tr>\n",
              "      <th>2</th>\n",
              "      <td>Hin und weg.</td>\n",
              "      <td>8.000000</td>\n",
              "    </tr>\n",
              "    <tr>\n",
              "      <th>4</th>\n",
              "      <td>Der Hahn ist tot. Roman.</td>\n",
              "      <td>7.777778</td>\n",
              "    </tr>\n",
              "    <tr>\n",
              "      <th>3</th>\n",
              "      <td>Die Welle.</td>\n",
              "      <td>7.400000</td>\n",
              "    </tr>\n",
              "    <tr>\n",
              "      <th>5</th>\n",
              "      <td>Wild Animus</td>\n",
              "      <td>7.022727</td>\n",
              "    </tr>\n",
              "    <tr>\n",
              "      <th>2</th>\n",
              "      <td>Lines in the sand</td>\n",
              "      <td>7.000000</td>\n",
              "    </tr>\n",
              "    <tr>\n",
              "      <th>6</th>\n",
              "      <td>ZwÃ?Â¶lf.</td>\n",
              "      <td>7.000000</td>\n",
              "    </tr>\n",
              "    <tr>\n",
              "      <th>0</th>\n",
              "      <td>Russendisko.</td>\n",
              "      <td>6.680000</td>\n",
              "    </tr>\n",
              "    <tr>\n",
              "      <th>1</th>\n",
              "      <td>Regenroman.</td>\n",
              "      <td>6.625000</td>\n",
              "    </tr>\n",
              "  </tbody>\n",
              "</table>\n",
              "</div>"
            ],
            "text/plain": [
              "                      Title    Rating\n",
              "1        Precipice: A Novel  9.000000\n",
              "7       Einmal ist keinmal.  8.250000\n",
              "2              Hin und weg.  8.000000\n",
              "4  Der Hahn ist tot. Roman.  7.777778\n",
              "3                Die Welle.  7.400000\n",
              "5               Wild Animus  7.022727\n",
              "2         Lines in the sand  7.000000\n",
              "6                 ZwÃ?Â¶lf.  7.000000\n",
              "0              Russendisko.  6.680000\n",
              "1               Regenroman.  6.625000"
            ]
          },
          "metadata": {},
          "execution_count": 94
        }
      ]
    },
    {
      "cell_type": "code",
      "source": [
        "df['Book-Title'].nunique(), df['Book-Title_Vec'].nunique()"
      ],
      "metadata": {
        "colab": {
          "base_uri": "https://localhost:8080/"
        },
        "id": "frzgygLVon9G",
        "outputId": "52b13c18-8372-483d-ca33-b95e84b20a04"
      },
      "execution_count": null,
      "outputs": [
        {
          "output_type": "execute_result",
          "data": {
            "text/plain": [
              "(205173, 178198)"
            ]
          },
          "metadata": {},
          "execution_count": 95
        }
      ]
    },
    {
      "cell_type": "code",
      "source": [
        "grouped_df[grouped_df['User-ID'] == user_id]"
      ],
      "metadata": {
        "colab": {
          "base_uri": "https://localhost:8080/",
          "height": 118
        },
        "id": "bD7mae55idxV",
        "outputId": "e7e27e5a-7145-4bb9-d009-986e4dfd83cf"
      },
      "execution_count": null,
      "outputs": [
        {
          "output_type": "execute_result",
          "data": {
            "text/html": [
              "<div>\n",
              "<style scoped>\n",
              "    .dataframe tbody tr th:only-of-type {\n",
              "        vertical-align: middle;\n",
              "    }\n",
              "\n",
              "    .dataframe tbody tr th {\n",
              "        vertical-align: top;\n",
              "    }\n",
              "\n",
              "    .dataframe thead th {\n",
              "        text-align: right;\n",
              "    }\n",
              "</style>\n",
              "<table border=\"1\" class=\"dataframe\">\n",
              "  <thead>\n",
              "    <tr style=\"text-align: right;\">\n",
              "      <th></th>\n",
              "      <th>User-ID</th>\n",
              "      <th>ISBN</th>\n",
              "      <th>Book-Title</th>\n",
              "      <th>Book-Rating</th>\n",
              "      <th>Location</th>\n",
              "      <th>Age</th>\n",
              "      <th>Book-Author</th>\n",
              "      <th>Mean_ISBN_Loc</th>\n",
              "      <th>Mean_ISBN_age</th>\n",
              "      <th>Popular_Author</th>\n",
              "      <th>user</th>\n",
              "      <th>book</th>\n",
              "      <th>Book-Title_Vec</th>\n",
              "      <th>Cluster</th>\n",
              "      <th>person_id</th>\n",
              "      <th>content_id</th>\n",
              "    </tr>\n",
              "  </thead>\n",
              "  <tbody>\n",
              "    <tr>\n",
              "      <th>1353</th>\n",
              "      <td>13479</td>\n",
              "      <td>0061059056</td>\n",
              "      <td>Hogfather</td>\n",
              "      <td>6.0</td>\n",
              "      <td>0.005194</td>\n",
              "      <td>31.0</td>\n",
              "      <td>1.636798</td>\n",
              "      <td>3.0</td>\n",
              "      <td>6.0</td>\n",
              "      <td>1233</td>\n",
              "      <td>567</td>\n",
              "      <td>22606</td>\n",
              "      <td>-0.011395</td>\n",
              "      <td>8</td>\n",
              "      <td>484</td>\n",
              "      <td>721</td>\n",
              "    </tr>\n",
              "  </tbody>\n",
              "</table>\n",
              "</div>"
            ],
            "text/plain": [
              "     User-ID        ISBN Book-Title  ...  Cluster  person_id  content_id\n",
              "1353   13479  0061059056  Hogfather  ...        8        484         721\n",
              "\n",
              "[1 rows x 16 columns]"
            ]
          },
          "metadata": {},
          "execution_count": 96
        }
      ]
    },
    {
      "cell_type": "code",
      "source": [
        "grouped_df[grouped_df.user == enc_user_id]"
      ],
      "metadata": {
        "colab": {
          "base_uri": "https://localhost:8080/",
          "height": 118
        },
        "id": "dgvR0V3KilPa",
        "outputId": "3f3b9e8a-7175-427c-f812-b9cab9d547d7"
      },
      "execution_count": null,
      "outputs": [
        {
          "output_type": "execute_result",
          "data": {
            "text/html": [
              "<div>\n",
              "<style scoped>\n",
              "    .dataframe tbody tr th:only-of-type {\n",
              "        vertical-align: middle;\n",
              "    }\n",
              "\n",
              "    .dataframe tbody tr th {\n",
              "        vertical-align: top;\n",
              "    }\n",
              "\n",
              "    .dataframe thead th {\n",
              "        text-align: right;\n",
              "    }\n",
              "</style>\n",
              "<table border=\"1\" class=\"dataframe\">\n",
              "  <thead>\n",
              "    <tr style=\"text-align: right;\">\n",
              "      <th></th>\n",
              "      <th>User-ID</th>\n",
              "      <th>ISBN</th>\n",
              "      <th>Book-Title</th>\n",
              "      <th>Book-Rating</th>\n",
              "      <th>Location</th>\n",
              "      <th>Age</th>\n",
              "      <th>Book-Author</th>\n",
              "      <th>Mean_ISBN_Loc</th>\n",
              "      <th>Mean_ISBN_age</th>\n",
              "      <th>Popular_Author</th>\n",
              "      <th>user</th>\n",
              "      <th>book</th>\n",
              "      <th>Book-Title_Vec</th>\n",
              "      <th>Cluster</th>\n",
              "      <th>person_id</th>\n",
              "      <th>content_id</th>\n",
              "    </tr>\n",
              "  </thead>\n",
              "  <tbody>\n",
              "    <tr>\n",
              "      <th>1353</th>\n",
              "      <td>13479</td>\n",
              "      <td>0061059056</td>\n",
              "      <td>Hogfather</td>\n",
              "      <td>6.0</td>\n",
              "      <td>0.005194</td>\n",
              "      <td>31.0</td>\n",
              "      <td>1.636798</td>\n",
              "      <td>3.0</td>\n",
              "      <td>6.0</td>\n",
              "      <td>1233</td>\n",
              "      <td>567</td>\n",
              "      <td>22606</td>\n",
              "      <td>-0.011395</td>\n",
              "      <td>8</td>\n",
              "      <td>484</td>\n",
              "      <td>721</td>\n",
              "    </tr>\n",
              "  </tbody>\n",
              "</table>\n",
              "</div>"
            ],
            "text/plain": [
              "     User-ID        ISBN Book-Title  ...  Cluster  person_id  content_id\n",
              "1353   13479  0061059056  Hogfather  ...        8        484         721\n",
              "\n",
              "[1 rows x 16 columns]"
            ]
          },
          "metadata": {},
          "execution_count": 97
        }
      ]
    }
  ]
}