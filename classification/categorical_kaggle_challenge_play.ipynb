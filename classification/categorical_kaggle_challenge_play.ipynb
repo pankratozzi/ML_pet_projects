{
  "nbformat": 4,
  "nbformat_minor": 0,
  "metadata": {
    "colab": {
      "name": "categorical_kaggle_challenge_play.ipynb",
      "provenance": [],
      "collapsed_sections": []
    },
    "kernelspec": {
      "name": "python3",
      "display_name": "Python 3"
    },
    "language_info": {
      "name": "python"
    }
  },
  "cells": [
    {
      "cell_type": "code",
      "execution_count": 1,
      "metadata": {
        "id": "WEfBjdrmzcMz"
      },
      "outputs": [],
      "source": [
        "from IPython.display import clear_output\n",
        "from google.colab import files\n",
        "files.upload()\n",
        "!pip install -qU catboost category_encoders optuna\n",
        "!mkdir -p ~/.kaggle\n",
        "!cp kaggle.json ~/.kaggle/\n",
        "!ls ~/.kaggle\n",
        "!chmod 600 /root/.kaggle/kaggle.json\n",
        "!kaggle competitions download -c cat-in-the-dat\n",
        "!unzip cat-in-the-dat.zip\n",
        "!rm cat-in-the-dat.zip\n",
        "clear_output()"
      ]
    },
    {
      "cell_type": "code",
      "source": [
        "import warnings\n",
        "warnings.filterwarnings('ignore')\n",
        "\n",
        "import pandas as pd\n",
        "import numpy as np\n",
        "import matplotlib.pyplot as plt\n",
        "import seaborn as sns\n",
        "import string\n",
        "\n",
        "from sklearn.pipeline import Pipeline\n",
        "from sklearn.model_selection import train_test_split\n",
        "from sklearn.metrics import precision_score, recall_score, f1_score, confusion_matrix, roc_auc_score\n",
        "from sklearn.metrics import classification_report, accuracy_score, roc_curve\n",
        "from sklearn.model_selection import StratifiedKFold\n",
        "\n",
        "from sklearn.base import BaseEstimator, TransformerMixin\n",
        "from sklearn.compose import ColumnTransformer\n",
        "\n",
        "from imblearn.under_sampling import RandomUnderSampler\n",
        "from imblearn.pipeline import Pipeline as Pipe\n",
        "\n",
        "from catboost import Pool, CatBoostClassifier\n",
        "from lightgbm import LGBMClassifier\n",
        "import optuna\n",
        "from optuna.samplers import TPESampler\n",
        "\n",
        "import category_encoders as ce\n",
        "\n",
        "np.random.seed(123)"
      ],
      "metadata": {
        "id": "k062XY-OQoe1"
      },
      "execution_count": 2,
      "outputs": []
    },
    {
      "cell_type": "code",
      "source": [
        "train = pd.read_csv('train.csv')\n",
        "test = pd.read_csv('test.csv')\n",
        "TARGET_NAME = 'target'\n",
        "\n",
        "train.set_index('id', drop=True, inplace=True)\n",
        "test.set_index('id', drop=True, inplace=True)"
      ],
      "metadata": {
        "id": "Qix8Fj9NQR34"
      },
      "execution_count": 3,
      "outputs": []
    },
    {
      "cell_type": "code",
      "source": [
        "train.head().transpose()"
      ],
      "metadata": {
        "colab": {
          "base_uri": "https://localhost:8080/",
          "height": 802
        },
        "id": "AkggenK9TEWM",
        "outputId": "ec056160-cc5c-45bf-a760-d642ea1eb3ad"
      },
      "execution_count": 21,
      "outputs": [
        {
          "output_type": "execute_result",
          "data": {
            "text/plain": [
              "id                0            1          2            3            4\n",
              "bin_0             0            0          0            0            0\n",
              "bin_1             0            1          0            1            0\n",
              "bin_2             0            0          0            0            0\n",
              "bin_3             T            T          F            F            F\n",
              "bin_4             Y            Y          Y            Y            N\n",
              "nom_0         Green        Green       Blue          Red          Red\n",
              "nom_1      Triangle    Trapezoid  Trapezoid    Trapezoid    Trapezoid\n",
              "nom_2         Snake      Hamster       Lion        Snake         Lion\n",
              "nom_3       Finland       Russia     Russia       Canada       Canada\n",
              "nom_4       Bassoon        Piano   Theremin         Oboe         Oboe\n",
              "nom_5     50f116bcf    b3b4d25d0  3263bdce5    f12246592    5b0f5acd5\n",
              "nom_6     3ac1b8814    fbcb50fc1  0922e3cb8    50d7ad46a    1fe17a1fd\n",
              "nom_7     68f6ad3e9    3b6dd5612  a6a36f527    ec69236eb    04ddac2be\n",
              "nom_8     c389000ab    4cd920251  de9c9f684    4ade6ab69    cb43ab175\n",
              "nom_9     2f4cb3d51    f83c56c21  ae6800dd0    8270f0d71    b164b72a7\n",
              "ord_0             2            1          1            1            1\n",
              "ord_1   Grandmaster  Grandmaster     Expert  Grandmaster  Grandmaster\n",
              "ord_2          Cold          Hot   Lava Hot  Boiling Hot     Freezing\n",
              "ord_3             h            a          h            i            a\n",
              "ord_4             D            A          R            D            R\n",
              "ord_5            kr           bF         Jc           kW           qP\n",
              "day               2            7          7            2            7\n",
              "month             2            8          2            1            8\n",
              "target            0            0          0            1            0"
            ],
            "text/html": [
              "\n",
              "  <div id=\"df-dd310aec-7ab4-4171-81ab-59de8b569ca8\">\n",
              "    <div class=\"colab-df-container\">\n",
              "      <div>\n",
              "<style scoped>\n",
              "    .dataframe tbody tr th:only-of-type {\n",
              "        vertical-align: middle;\n",
              "    }\n",
              "\n",
              "    .dataframe tbody tr th {\n",
              "        vertical-align: top;\n",
              "    }\n",
              "\n",
              "    .dataframe thead th {\n",
              "        text-align: right;\n",
              "    }\n",
              "</style>\n",
              "<table border=\"1\" class=\"dataframe\">\n",
              "  <thead>\n",
              "    <tr style=\"text-align: right;\">\n",
              "      <th>id</th>\n",
              "      <th>0</th>\n",
              "      <th>1</th>\n",
              "      <th>2</th>\n",
              "      <th>3</th>\n",
              "      <th>4</th>\n",
              "    </tr>\n",
              "  </thead>\n",
              "  <tbody>\n",
              "    <tr>\n",
              "      <th>bin_0</th>\n",
              "      <td>0</td>\n",
              "      <td>0</td>\n",
              "      <td>0</td>\n",
              "      <td>0</td>\n",
              "      <td>0</td>\n",
              "    </tr>\n",
              "    <tr>\n",
              "      <th>bin_1</th>\n",
              "      <td>0</td>\n",
              "      <td>1</td>\n",
              "      <td>0</td>\n",
              "      <td>1</td>\n",
              "      <td>0</td>\n",
              "    </tr>\n",
              "    <tr>\n",
              "      <th>bin_2</th>\n",
              "      <td>0</td>\n",
              "      <td>0</td>\n",
              "      <td>0</td>\n",
              "      <td>0</td>\n",
              "      <td>0</td>\n",
              "    </tr>\n",
              "    <tr>\n",
              "      <th>bin_3</th>\n",
              "      <td>T</td>\n",
              "      <td>T</td>\n",
              "      <td>F</td>\n",
              "      <td>F</td>\n",
              "      <td>F</td>\n",
              "    </tr>\n",
              "    <tr>\n",
              "      <th>bin_4</th>\n",
              "      <td>Y</td>\n",
              "      <td>Y</td>\n",
              "      <td>Y</td>\n",
              "      <td>Y</td>\n",
              "      <td>N</td>\n",
              "    </tr>\n",
              "    <tr>\n",
              "      <th>nom_0</th>\n",
              "      <td>Green</td>\n",
              "      <td>Green</td>\n",
              "      <td>Blue</td>\n",
              "      <td>Red</td>\n",
              "      <td>Red</td>\n",
              "    </tr>\n",
              "    <tr>\n",
              "      <th>nom_1</th>\n",
              "      <td>Triangle</td>\n",
              "      <td>Trapezoid</td>\n",
              "      <td>Trapezoid</td>\n",
              "      <td>Trapezoid</td>\n",
              "      <td>Trapezoid</td>\n",
              "    </tr>\n",
              "    <tr>\n",
              "      <th>nom_2</th>\n",
              "      <td>Snake</td>\n",
              "      <td>Hamster</td>\n",
              "      <td>Lion</td>\n",
              "      <td>Snake</td>\n",
              "      <td>Lion</td>\n",
              "    </tr>\n",
              "    <tr>\n",
              "      <th>nom_3</th>\n",
              "      <td>Finland</td>\n",
              "      <td>Russia</td>\n",
              "      <td>Russia</td>\n",
              "      <td>Canada</td>\n",
              "      <td>Canada</td>\n",
              "    </tr>\n",
              "    <tr>\n",
              "      <th>nom_4</th>\n",
              "      <td>Bassoon</td>\n",
              "      <td>Piano</td>\n",
              "      <td>Theremin</td>\n",
              "      <td>Oboe</td>\n",
              "      <td>Oboe</td>\n",
              "    </tr>\n",
              "    <tr>\n",
              "      <th>nom_5</th>\n",
              "      <td>50f116bcf</td>\n",
              "      <td>b3b4d25d0</td>\n",
              "      <td>3263bdce5</td>\n",
              "      <td>f12246592</td>\n",
              "      <td>5b0f5acd5</td>\n",
              "    </tr>\n",
              "    <tr>\n",
              "      <th>nom_6</th>\n",
              "      <td>3ac1b8814</td>\n",
              "      <td>fbcb50fc1</td>\n",
              "      <td>0922e3cb8</td>\n",
              "      <td>50d7ad46a</td>\n",
              "      <td>1fe17a1fd</td>\n",
              "    </tr>\n",
              "    <tr>\n",
              "      <th>nom_7</th>\n",
              "      <td>68f6ad3e9</td>\n",
              "      <td>3b6dd5612</td>\n",
              "      <td>a6a36f527</td>\n",
              "      <td>ec69236eb</td>\n",
              "      <td>04ddac2be</td>\n",
              "    </tr>\n",
              "    <tr>\n",
              "      <th>nom_8</th>\n",
              "      <td>c389000ab</td>\n",
              "      <td>4cd920251</td>\n",
              "      <td>de9c9f684</td>\n",
              "      <td>4ade6ab69</td>\n",
              "      <td>cb43ab175</td>\n",
              "    </tr>\n",
              "    <tr>\n",
              "      <th>nom_9</th>\n",
              "      <td>2f4cb3d51</td>\n",
              "      <td>f83c56c21</td>\n",
              "      <td>ae6800dd0</td>\n",
              "      <td>8270f0d71</td>\n",
              "      <td>b164b72a7</td>\n",
              "    </tr>\n",
              "    <tr>\n",
              "      <th>ord_0</th>\n",
              "      <td>2</td>\n",
              "      <td>1</td>\n",
              "      <td>1</td>\n",
              "      <td>1</td>\n",
              "      <td>1</td>\n",
              "    </tr>\n",
              "    <tr>\n",
              "      <th>ord_1</th>\n",
              "      <td>Grandmaster</td>\n",
              "      <td>Grandmaster</td>\n",
              "      <td>Expert</td>\n",
              "      <td>Grandmaster</td>\n",
              "      <td>Grandmaster</td>\n",
              "    </tr>\n",
              "    <tr>\n",
              "      <th>ord_2</th>\n",
              "      <td>Cold</td>\n",
              "      <td>Hot</td>\n",
              "      <td>Lava Hot</td>\n",
              "      <td>Boiling Hot</td>\n",
              "      <td>Freezing</td>\n",
              "    </tr>\n",
              "    <tr>\n",
              "      <th>ord_3</th>\n",
              "      <td>h</td>\n",
              "      <td>a</td>\n",
              "      <td>h</td>\n",
              "      <td>i</td>\n",
              "      <td>a</td>\n",
              "    </tr>\n",
              "    <tr>\n",
              "      <th>ord_4</th>\n",
              "      <td>D</td>\n",
              "      <td>A</td>\n",
              "      <td>R</td>\n",
              "      <td>D</td>\n",
              "      <td>R</td>\n",
              "    </tr>\n",
              "    <tr>\n",
              "      <th>ord_5</th>\n",
              "      <td>kr</td>\n",
              "      <td>bF</td>\n",
              "      <td>Jc</td>\n",
              "      <td>kW</td>\n",
              "      <td>qP</td>\n",
              "    </tr>\n",
              "    <tr>\n",
              "      <th>day</th>\n",
              "      <td>2</td>\n",
              "      <td>7</td>\n",
              "      <td>7</td>\n",
              "      <td>2</td>\n",
              "      <td>7</td>\n",
              "    </tr>\n",
              "    <tr>\n",
              "      <th>month</th>\n",
              "      <td>2</td>\n",
              "      <td>8</td>\n",
              "      <td>2</td>\n",
              "      <td>1</td>\n",
              "      <td>8</td>\n",
              "    </tr>\n",
              "    <tr>\n",
              "      <th>target</th>\n",
              "      <td>0</td>\n",
              "      <td>0</td>\n",
              "      <td>0</td>\n",
              "      <td>1</td>\n",
              "      <td>0</td>\n",
              "    </tr>\n",
              "  </tbody>\n",
              "</table>\n",
              "</div>\n",
              "      <button class=\"colab-df-convert\" onclick=\"convertToInteractive('df-dd310aec-7ab4-4171-81ab-59de8b569ca8')\"\n",
              "              title=\"Convert this dataframe to an interactive table.\"\n",
              "              style=\"display:none;\">\n",
              "        \n",
              "  <svg xmlns=\"http://www.w3.org/2000/svg\" height=\"24px\"viewBox=\"0 0 24 24\"\n",
              "       width=\"24px\">\n",
              "    <path d=\"M0 0h24v24H0V0z\" fill=\"none\"/>\n",
              "    <path d=\"M18.56 5.44l.94 2.06.94-2.06 2.06-.94-2.06-.94-.94-2.06-.94 2.06-2.06.94zm-11 1L8.5 8.5l.94-2.06 2.06-.94-2.06-.94L8.5 2.5l-.94 2.06-2.06.94zm10 10l.94 2.06.94-2.06 2.06-.94-2.06-.94-.94-2.06-.94 2.06-2.06.94z\"/><path d=\"M17.41 7.96l-1.37-1.37c-.4-.4-.92-.59-1.43-.59-.52 0-1.04.2-1.43.59L10.3 9.45l-7.72 7.72c-.78.78-.78 2.05 0 2.83L4 21.41c.39.39.9.59 1.41.59.51 0 1.02-.2 1.41-.59l7.78-7.78 2.81-2.81c.8-.78.8-2.07 0-2.86zM5.41 20L4 18.59l7.72-7.72 1.47 1.35L5.41 20z\"/>\n",
              "  </svg>\n",
              "      </button>\n",
              "      \n",
              "  <style>\n",
              "    .colab-df-container {\n",
              "      display:flex;\n",
              "      flex-wrap:wrap;\n",
              "      gap: 12px;\n",
              "    }\n",
              "\n",
              "    .colab-df-convert {\n",
              "      background-color: #E8F0FE;\n",
              "      border: none;\n",
              "      border-radius: 50%;\n",
              "      cursor: pointer;\n",
              "      display: none;\n",
              "      fill: #1967D2;\n",
              "      height: 32px;\n",
              "      padding: 0 0 0 0;\n",
              "      width: 32px;\n",
              "    }\n",
              "\n",
              "    .colab-df-convert:hover {\n",
              "      background-color: #E2EBFA;\n",
              "      box-shadow: 0px 1px 2px rgba(60, 64, 67, 0.3), 0px 1px 3px 1px rgba(60, 64, 67, 0.15);\n",
              "      fill: #174EA6;\n",
              "    }\n",
              "\n",
              "    [theme=dark] .colab-df-convert {\n",
              "      background-color: #3B4455;\n",
              "      fill: #D2E3FC;\n",
              "    }\n",
              "\n",
              "    [theme=dark] .colab-df-convert:hover {\n",
              "      background-color: #434B5C;\n",
              "      box-shadow: 0px 1px 3px 1px rgba(0, 0, 0, 0.15);\n",
              "      filter: drop-shadow(0px 1px 2px rgba(0, 0, 0, 0.3));\n",
              "      fill: #FFFFFF;\n",
              "    }\n",
              "  </style>\n",
              "\n",
              "      <script>\n",
              "        const buttonEl =\n",
              "          document.querySelector('#df-dd310aec-7ab4-4171-81ab-59de8b569ca8 button.colab-df-convert');\n",
              "        buttonEl.style.display =\n",
              "          google.colab.kernel.accessAllowed ? 'block' : 'none';\n",
              "\n",
              "        async function convertToInteractive(key) {\n",
              "          const element = document.querySelector('#df-dd310aec-7ab4-4171-81ab-59de8b569ca8');\n",
              "          const dataTable =\n",
              "            await google.colab.kernel.invokeFunction('convertToInteractive',\n",
              "                                                     [key], {});\n",
              "          if (!dataTable) return;\n",
              "\n",
              "          const docLinkHtml = 'Like what you see? Visit the ' +\n",
              "            '<a target=\"_blank\" href=https://colab.research.google.com/notebooks/data_table.ipynb>data table notebook</a>'\n",
              "            + ' to learn more about interactive tables.';\n",
              "          element.innerHTML = '';\n",
              "          dataTable['output_type'] = 'display_data';\n",
              "          await google.colab.output.renderOutput(dataTable, element);\n",
              "          const docLink = document.createElement('div');\n",
              "          docLink.innerHTML = docLinkHtml;\n",
              "          element.appendChild(docLink);\n",
              "        }\n",
              "      </script>\n",
              "    </div>\n",
              "  </div>\n",
              "  "
            ]
          },
          "metadata": {},
          "execution_count": 21
        }
      ]
    },
    {
      "cell_type": "code",
      "source": [
        "train[TARGET_NAME].value_counts(normalize=True)"
      ],
      "metadata": {
        "colab": {
          "base_uri": "https://localhost:8080/"
        },
        "id": "drvspkbXTTk_",
        "outputId": "55bd2374-7d8d-4671-f345-e939d97a37c6"
      },
      "execution_count": 10,
      "outputs": [
        {
          "output_type": "execute_result",
          "data": {
            "text/plain": [
              "0    0.69412\n",
              "1    0.30588\n",
              "Name: target, dtype: float64"
            ]
          },
          "metadata": {},
          "execution_count": 10
        }
      ]
    },
    {
      "cell_type": "code",
      "source": [
        "train.describe(include=['object'])"
      ],
      "metadata": {
        "colab": {
          "base_uri": "https://localhost:8080/",
          "height": 239
        },
        "id": "qIAoPAebTZn1",
        "outputId": "a3eabcd8-2223-405b-84da-1a12234d5dc5"
      },
      "execution_count": 15,
      "outputs": [
        {
          "output_type": "execute_result",
          "data": {
            "text/plain": [
              "         bin_3   bin_4   nom_0      nom_1   nom_2   nom_3   nom_4      nom_5  \\\n",
              "count   300000  300000  300000     300000  300000  300000  300000     300000   \n",
              "unique       2       2       3          6       6       6       4        222   \n",
              "top          T       Y   Green  Trapezoid    Lion  Russia    Oboe  f7821e391   \n",
              "freq    153535  191633  127341     101181  101295  101123   92293       2801   \n",
              "\n",
              "            nom_6      nom_7      nom_8      nom_9   ord_1     ord_2   ord_3  \\\n",
              "count      300000     300000     300000     300000  300000    300000  300000   \n",
              "unique        522       1220       2215      11981       5         6      15   \n",
              "top     d173ac7ca  3a114adea  c720f85ca  163cc60fa  Novice  Freezing       g   \n",
              "freq         1218        534        299         72  126583     99816   36405   \n",
              "\n",
              "         ord_4   ord_5  \n",
              "count   300000  300000  \n",
              "unique      26     192  \n",
              "top          L      od  \n",
              "freq     19066    5019  "
            ],
            "text/html": [
              "\n",
              "  <div id=\"df-20aaf000-b392-491e-b8d3-08b74a3c4472\">\n",
              "    <div class=\"colab-df-container\">\n",
              "      <div>\n",
              "<style scoped>\n",
              "    .dataframe tbody tr th:only-of-type {\n",
              "        vertical-align: middle;\n",
              "    }\n",
              "\n",
              "    .dataframe tbody tr th {\n",
              "        vertical-align: top;\n",
              "    }\n",
              "\n",
              "    .dataframe thead th {\n",
              "        text-align: right;\n",
              "    }\n",
              "</style>\n",
              "<table border=\"1\" class=\"dataframe\">\n",
              "  <thead>\n",
              "    <tr style=\"text-align: right;\">\n",
              "      <th></th>\n",
              "      <th>bin_3</th>\n",
              "      <th>bin_4</th>\n",
              "      <th>nom_0</th>\n",
              "      <th>nom_1</th>\n",
              "      <th>nom_2</th>\n",
              "      <th>nom_3</th>\n",
              "      <th>nom_4</th>\n",
              "      <th>nom_5</th>\n",
              "      <th>nom_6</th>\n",
              "      <th>nom_7</th>\n",
              "      <th>nom_8</th>\n",
              "      <th>nom_9</th>\n",
              "      <th>ord_1</th>\n",
              "      <th>ord_2</th>\n",
              "      <th>ord_3</th>\n",
              "      <th>ord_4</th>\n",
              "      <th>ord_5</th>\n",
              "    </tr>\n",
              "  </thead>\n",
              "  <tbody>\n",
              "    <tr>\n",
              "      <th>count</th>\n",
              "      <td>300000</td>\n",
              "      <td>300000</td>\n",
              "      <td>300000</td>\n",
              "      <td>300000</td>\n",
              "      <td>300000</td>\n",
              "      <td>300000</td>\n",
              "      <td>300000</td>\n",
              "      <td>300000</td>\n",
              "      <td>300000</td>\n",
              "      <td>300000</td>\n",
              "      <td>300000</td>\n",
              "      <td>300000</td>\n",
              "      <td>300000</td>\n",
              "      <td>300000</td>\n",
              "      <td>300000</td>\n",
              "      <td>300000</td>\n",
              "      <td>300000</td>\n",
              "    </tr>\n",
              "    <tr>\n",
              "      <th>unique</th>\n",
              "      <td>2</td>\n",
              "      <td>2</td>\n",
              "      <td>3</td>\n",
              "      <td>6</td>\n",
              "      <td>6</td>\n",
              "      <td>6</td>\n",
              "      <td>4</td>\n",
              "      <td>222</td>\n",
              "      <td>522</td>\n",
              "      <td>1220</td>\n",
              "      <td>2215</td>\n",
              "      <td>11981</td>\n",
              "      <td>5</td>\n",
              "      <td>6</td>\n",
              "      <td>15</td>\n",
              "      <td>26</td>\n",
              "      <td>192</td>\n",
              "    </tr>\n",
              "    <tr>\n",
              "      <th>top</th>\n",
              "      <td>T</td>\n",
              "      <td>Y</td>\n",
              "      <td>Green</td>\n",
              "      <td>Trapezoid</td>\n",
              "      <td>Lion</td>\n",
              "      <td>Russia</td>\n",
              "      <td>Oboe</td>\n",
              "      <td>f7821e391</td>\n",
              "      <td>d173ac7ca</td>\n",
              "      <td>3a114adea</td>\n",
              "      <td>c720f85ca</td>\n",
              "      <td>163cc60fa</td>\n",
              "      <td>Novice</td>\n",
              "      <td>Freezing</td>\n",
              "      <td>g</td>\n",
              "      <td>L</td>\n",
              "      <td>od</td>\n",
              "    </tr>\n",
              "    <tr>\n",
              "      <th>freq</th>\n",
              "      <td>153535</td>\n",
              "      <td>191633</td>\n",
              "      <td>127341</td>\n",
              "      <td>101181</td>\n",
              "      <td>101295</td>\n",
              "      <td>101123</td>\n",
              "      <td>92293</td>\n",
              "      <td>2801</td>\n",
              "      <td>1218</td>\n",
              "      <td>534</td>\n",
              "      <td>299</td>\n",
              "      <td>72</td>\n",
              "      <td>126583</td>\n",
              "      <td>99816</td>\n",
              "      <td>36405</td>\n",
              "      <td>19066</td>\n",
              "      <td>5019</td>\n",
              "    </tr>\n",
              "  </tbody>\n",
              "</table>\n",
              "</div>\n",
              "      <button class=\"colab-df-convert\" onclick=\"convertToInteractive('df-20aaf000-b392-491e-b8d3-08b74a3c4472')\"\n",
              "              title=\"Convert this dataframe to an interactive table.\"\n",
              "              style=\"display:none;\">\n",
              "        \n",
              "  <svg xmlns=\"http://www.w3.org/2000/svg\" height=\"24px\"viewBox=\"0 0 24 24\"\n",
              "       width=\"24px\">\n",
              "    <path d=\"M0 0h24v24H0V0z\" fill=\"none\"/>\n",
              "    <path d=\"M18.56 5.44l.94 2.06.94-2.06 2.06-.94-2.06-.94-.94-2.06-.94 2.06-2.06.94zm-11 1L8.5 8.5l.94-2.06 2.06-.94-2.06-.94L8.5 2.5l-.94 2.06-2.06.94zm10 10l.94 2.06.94-2.06 2.06-.94-2.06-.94-.94-2.06-.94 2.06-2.06.94z\"/><path d=\"M17.41 7.96l-1.37-1.37c-.4-.4-.92-.59-1.43-.59-.52 0-1.04.2-1.43.59L10.3 9.45l-7.72 7.72c-.78.78-.78 2.05 0 2.83L4 21.41c.39.39.9.59 1.41.59.51 0 1.02-.2 1.41-.59l7.78-7.78 2.81-2.81c.8-.78.8-2.07 0-2.86zM5.41 20L4 18.59l7.72-7.72 1.47 1.35L5.41 20z\"/>\n",
              "  </svg>\n",
              "      </button>\n",
              "      \n",
              "  <style>\n",
              "    .colab-df-container {\n",
              "      display:flex;\n",
              "      flex-wrap:wrap;\n",
              "      gap: 12px;\n",
              "    }\n",
              "\n",
              "    .colab-df-convert {\n",
              "      background-color: #E8F0FE;\n",
              "      border: none;\n",
              "      border-radius: 50%;\n",
              "      cursor: pointer;\n",
              "      display: none;\n",
              "      fill: #1967D2;\n",
              "      height: 32px;\n",
              "      padding: 0 0 0 0;\n",
              "      width: 32px;\n",
              "    }\n",
              "\n",
              "    .colab-df-convert:hover {\n",
              "      background-color: #E2EBFA;\n",
              "      box-shadow: 0px 1px 2px rgba(60, 64, 67, 0.3), 0px 1px 3px 1px rgba(60, 64, 67, 0.15);\n",
              "      fill: #174EA6;\n",
              "    }\n",
              "\n",
              "    [theme=dark] .colab-df-convert {\n",
              "      background-color: #3B4455;\n",
              "      fill: #D2E3FC;\n",
              "    }\n",
              "\n",
              "    [theme=dark] .colab-df-convert:hover {\n",
              "      background-color: #434B5C;\n",
              "      box-shadow: 0px 1px 3px 1px rgba(0, 0, 0, 0.15);\n",
              "      filter: drop-shadow(0px 1px 2px rgba(0, 0, 0, 0.3));\n",
              "      fill: #FFFFFF;\n",
              "    }\n",
              "  </style>\n",
              "\n",
              "      <script>\n",
              "        const buttonEl =\n",
              "          document.querySelector('#df-20aaf000-b392-491e-b8d3-08b74a3c4472 button.colab-df-convert');\n",
              "        buttonEl.style.display =\n",
              "          google.colab.kernel.accessAllowed ? 'block' : 'none';\n",
              "\n",
              "        async function convertToInteractive(key) {\n",
              "          const element = document.querySelector('#df-20aaf000-b392-491e-b8d3-08b74a3c4472');\n",
              "          const dataTable =\n",
              "            await google.colab.kernel.invokeFunction('convertToInteractive',\n",
              "                                                     [key], {});\n",
              "          if (!dataTable) return;\n",
              "\n",
              "          const docLinkHtml = 'Like what you see? Visit the ' +\n",
              "            '<a target=\"_blank\" href=https://colab.research.google.com/notebooks/data_table.ipynb>data table notebook</a>'\n",
              "            + ' to learn more about interactive tables.';\n",
              "          element.innerHTML = '';\n",
              "          dataTable['output_type'] = 'display_data';\n",
              "          await google.colab.output.renderOutput(dataTable, element);\n",
              "          const docLink = document.createElement('div');\n",
              "          docLink.innerHTML = docLinkHtml;\n",
              "          element.appendChild(docLink);\n",
              "        }\n",
              "      </script>\n",
              "    </div>\n",
              "  </div>\n",
              "  "
            ]
          },
          "metadata": {},
          "execution_count": 15
        }
      ]
    },
    {
      "cell_type": "code",
      "source": [
        "def cyclical_encode(X: pd.Series, x_max: float) -> pd.DataFrame:\n",
        "    return pd.DataFrame(data=pd.concat([\n",
        "                      np.cos(2*np.pi * X / x_max),\n",
        "                      np.sin(2*np.pi * X / x_max)\n",
        "    ], axis=1).reset_index(drop=True).values, columns=[f'{X.name}_cos', f'{X.name}_sin'])"
      ],
      "metadata": {
        "id": "Un93tvxKVT6G"
      },
      "execution_count": 4,
      "outputs": []
    },
    {
      "cell_type": "code",
      "source": [
        "def report(y_train, y_train_pred, y_test, y_test_pred, y_train_proba=None, y_test_proba=None):\n",
        "    print('Train\\n', classification_report(y_train, y_train_pred, digits=3))\n",
        "    print('Test\\n', classification_report(y_test, y_test_pred, digits=3))\n",
        "    if y_train_proba is not None and y_test_proba is not None:\n",
        "        roc_train, roc_test = roc_auc_score(y_train, y_train_proba), roc_auc_score(y_test, y_test_proba)\n",
        "        print(f'Train ROC_AUC: {roc_train:.3f}, Test ROC_AUC: {roc_test:.3f}')\n",
        "    print('Confusion Matrix', '\\n', pd.crosstab(y_test, y_test_pred))"
      ],
      "metadata": {
        "id": "atwooWDyZQ5-"
      },
      "execution_count": 5,
      "outputs": []
    },
    {
      "cell_type": "code",
      "source": [
        "class CyclicEncoder(BaseEstimator, TransformerMixin):\n",
        "    def fit(self, X, y=None):\n",
        "        self.max_month = X['month'].max()\n",
        "        self.max_day = X['day'].max()\n",
        "        return self\n",
        "    def transform(self, X):\n",
        "        index = X.index\n",
        "        X_ = X.reset_index(drop=True)\n",
        "        month = pd.Series(data=X_['month'], index=X_.index, name='month')\n",
        "        day = pd.Series(data=X_['day'], index=X_.index, name='day')\n",
        "        m_df = cyclical_encode(month, self.max_month)\n",
        "        d_df = cyclical_encode(day, self.max_day)\n",
        "        X_ = pd.concat([X_, m_df], axis=1)\n",
        "        X_ = pd.concat([X_, d_df], axis=1)\n",
        "        #X_.drop(['month', 'day'], axis=1, inplace=True)\n",
        "        X_.index = index\n",
        "        return X_\n",
        "\n",
        "class DataFrameR(BaseEstimator, TransformerMixin):\n",
        "    def __init__(self, columns, index=None):\n",
        "        self.columns = columns\n",
        "        self.index = index\n",
        "\n",
        "    def fit(self, X, y=None):\n",
        "        return self\n",
        "    \n",
        "    def transform(self, X):\n",
        "        assert len(self.columns) == X.shape[1], f'Number of columns {len(self.columns)} is not equal to data shape {X.shape[1]}'\n",
        "        if self.index is not None:\n",
        "            X_ = pd.DataFrame(X, columns=self.columns, index=self.index)\n",
        "        else:\n",
        "            X_ = pd.DataFrame(X, columns=self.columns)\n",
        "        return X_"
      ],
      "metadata": {
        "id": "683oP1dYQq_i"
      },
      "execution_count": 6,
      "outputs": []
    },
    {
      "cell_type": "code",
      "source": [
        "X, y = train.drop(TARGET_NAME, axis=1), train[TARGET_NAME]\n",
        "\n",
        "X_train, X_valid, y_train, y_valid = train_test_split(X, y, test_size=0.3, shuffle=True, stratify=y, random_state=123)"
      ],
      "metadata": {
        "id": "YrVM4FRGQNbm"
      },
      "execution_count": 7,
      "outputs": []
    },
    {
      "cell_type": "code",
      "source": [
        "cols = ['bin_0', 'bin_1', 'bin_2', 'bin_3', 'bin_4', 'nom_0', 'nom_1', 'nom_2',\n",
        "       'nom_3', 'nom_4', 'nom_5', 'nom_6', 'nom_7', 'nom_8', 'nom_9', 'ord_0',\n",
        "       'ord_1', 'ord_2', 'ord_3', 'ord_4', 'ord_5', 'month_cos', 'month_sin',\n",
        "       'day_cos', 'day_sin']"
      ],
      "metadata": {
        "id": "yKlBWLzienzy"
      },
      "execution_count": 9,
      "outputs": []
    },
    {
      "cell_type": "code",
      "source": [
        "# cyclic encoding, undersmapler, transform to df (pipeline is not very comfortable here)\n",
        "# to make final predictions we have to obtain proper index from train ans valid\n",
        "test_index = test.index\n",
        "\n",
        "encoder = CyclicEncoder()\n",
        "sampler = RandomUnderSampler(random_state=123)\n",
        "df = DataFrameR(cols)\n",
        "\n",
        "\n",
        "X_train = encoder.fit_transform(X_train, y_train)\n",
        "#X_train, y_train = sampler.fit_resample(X_train, y_train)  # uncomment for to use sampler\n",
        "#X_train = df.fit_transform(X_train) # uncomment if sampler\n",
        "\n",
        "X_valid = encoder.transform(X_valid)"
      ],
      "metadata": {
        "id": "i4dApOjNcuek"
      },
      "execution_count": 10,
      "outputs": []
    },
    {
      "cell_type": "code",
      "source": [
        "cat_cols = X_train.select_dtypes(include=['object', np.int64]).columns.tolist()\n",
        "\n",
        "train_pool = Pool(X_train, y_train, cat_features=cat_cols)\n",
        "valid_pool = Pool(X_valid, y_valid, cat_features=cat_cols)"
      ],
      "metadata": {
        "id": "NQJfxVvTZn_i"
      },
      "execution_count": 11,
      "outputs": []
    },
    {
      "cell_type": "code",
      "source": [
        "# define catboost base model with default params and undersampling\n",
        "base = CatBoostClassifier(verbose=0)  # define default model\n",
        "base.fit(train_pool, eval_set=valid_pool)  # fit model\n",
        "base_train_pred = base.predict(X_train)\n",
        "base_test_pred = base.predict(X_valid)\n",
        "base_train_proba = base.predict_proba(X_train)[:,1]\n",
        "base_test_proba = base.predict_proba(X_valid)[:,1]\n",
        "# display metrics and statistics\n",
        "report(y_train, base_train_pred, y_valid, base_test_pred, base_train_proba, base_test_proba)"
      ],
      "metadata": {
        "colab": {
          "base_uri": "https://localhost:8080/"
        },
        "id": "WeaBkk_1aPBp",
        "outputId": "4f2c20a7-4a12-4396-db3d-774f97a1d2a5"
      },
      "execution_count": 132,
      "outputs": [
        {
          "output_type": "stream",
          "name": "stdout",
          "text": [
            "Train\n",
            "               precision    recall  f1-score   support\n",
            "\n",
            "           0      0.775     0.741     0.758     64235\n",
            "           1      0.752     0.784     0.768     64235\n",
            "\n",
            "    accuracy                          0.763    128470\n",
            "   macro avg      0.763     0.763     0.763    128470\n",
            "weighted avg      0.763     0.763     0.763    128470\n",
            "\n",
            "Test\n",
            "               precision    recall  f1-score   support\n",
            "\n",
            "           0      0.860     0.698     0.771     62471\n",
            "           1      0.520     0.743     0.612     27529\n",
            "\n",
            "    accuracy                          0.712     90000\n",
            "   macro avg      0.690     0.721     0.691     90000\n",
            "weighted avg      0.756     0.712     0.722     90000\n",
            "\n",
            "Train ROC_AUC: 0.846, Test ROC_AUC: 0.797\n",
            "Confusion Matrix \n",
            " col_0       0      1\n",
            "target              \n",
            "0       43604  18867\n",
            "1        7073  20456\n"
          ]
        }
      ]
    },
    {
      "cell_type": "code",
      "source": [
        "# constant model parameters\n",
        "params_model = {\n",
        "    'eval_metric': 'AUC', \n",
        "    'iterations': 1000,\n",
        "    'auto_class_weights': 'Balanced',\n",
        "    'silent': True,\n",
        "    'one_hot_max_size': 30,\n",
        "    'early_stopping_rounds': 10,\n",
        "    'grow_policy': 'SymmetricTree',\n",
        "    'allow_writing_files': False,\n",
        "    'use_best_model': True,\n",
        "    'random_seed': 123,\n",
        "    'max_ctr_complexity': 8,\n",
        "    'combinations_ctr': ['Counter:CtrBorderCount=40:Prior=0.5/1'],\n",
        "    'simple_ctr': ['Counter:CtrBorderCount=40:Prior=0.5/1'], \n",
        "    }"
      ],
      "metadata": {
        "id": "EokYsL8NbCzP"
      },
      "execution_count": 143,
      "outputs": []
    },
    {
      "cell_type": "code",
      "source": [
        "def objective(trial):\n",
        "    param_trials = {\n",
        "                    'depth': trial.suggest_int('depth', 3, 9),\n",
        "                    'learning_rate': trial.suggest_float('learning_rate', 0.01, 0.5),\n",
        "                    'l2_leaf_reg': trial.suggest_float('l2_leaf_reg', 1., 5.),\n",
        "                    'bagging_temperature': trial.suggest_float('bagging_temperature', 1., 3.),\n",
        "                    'subsample': trial.suggest_float('subsample', 0.5, 1.),\n",
        "                    'colsample_bylevel': trial.suggest_float('colsample_bylevel', 0.5, 1.),\n",
        "                    'boosting_type': trial.suggest_categorical('boosting_type', ['Ordered', 'Plain']),\n",
        "                    }\n",
        "    param_trials.update(params_model)\n",
        "    opt_model = CatBoostClassifier(**param_trials)\n",
        "    opt_model.fit(train_pool, eval_set=valid_pool)\n",
        "    \n",
        "    y_pred = opt_model.predict_proba(X_valid)[:,1]\n",
        "    score = roc_auc_score(y_valid, y_pred)\n",
        "    \n",
        "    return score"
      ],
      "metadata": {
        "id": "UQ2vWv2XbqCn"
      },
      "execution_count": 146,
      "outputs": []
    },
    {
      "cell_type": "code",
      "source": [
        "study = optuna.create_study(sampler=TPESampler(seed=123), direction=\"maximize\")\n",
        "study.optimize(objective, n_trials=100, timeout=6000)\n",
        "\n",
        "print(f'Number of completed trials: {len(study.trials)}')\n",
        "print('Best trial')\n",
        "trial = study.best_trial\n",
        "print(f'Best score: {trial.value}')\n",
        "print('Best params')\n",
        "for key, value in trial.params.items():\n",
        "    print(f'{key}: {value}')"
      ],
      "metadata": {
        "id": "dIchUl5yb0FS"
      },
      "execution_count": null,
      "outputs": []
    },
    {
      "cell_type": "code",
      "source": [
        "params_model = {\n",
        "                'eval_metric': 'AUC', \n",
        "                'iterations': 1000,\n",
        "                'auto_class_weights': 'Balanced',\n",
        "                'silent': True,\n",
        "                'one_hot_max_size': 30,\n",
        "                'early_stopping_rounds': 10,\n",
        "                'grow_policy': 'SymmetricTree',\n",
        "                'allow_writing_files': False,\n",
        "                'use_best_model': True,\n",
        "                'random_seed': 123,\n",
        "                'max_ctr_complexity': 8,\n",
        "                'combinations_ctr': ['Counter:CtrBorderCount=40:Prior=0.5/1'],\n",
        "                'simple_ctr': ['Counter:CtrBorderCount=40:Prior=0.5/1'],\n",
        "                'depth': 8,\n",
        "                'learning_rate': 0.23959129649837493,\n",
        "                'l2_leaf_reg': 4.033554446569162,\n",
        "                'bagging_temperature': 2.5818845042059597,\n",
        "                'subsample': 0.9242531365577448,\n",
        "                'colsample_bylevel': 0.972655865355131,\n",
        "                'boosting_type': 'Ordered',\n",
        "            }"
      ],
      "metadata": {
        "id": "pyYEIUH_b82q"
      },
      "execution_count": 12,
      "outputs": []
    },
    {
      "cell_type": "code",
      "source": [
        "cat = CatBoostClassifier(**params_model)\n",
        "cat.fit(train_pool, eval_set=valid_pool)\n",
        "\n",
        "cat_train_pred = cat.predict(X_train)\n",
        "cat_test_pred = cat.predict(X_valid)\n",
        "cat_train_proba = cat.predict_proba(X_train)[:,1]\n",
        "cat_test_proba = cat.predict_proba(X_valid)[:,1]\n",
        "\n",
        "report(y_train, cat_train_pred, y_valid, cat_test_pred, cat_train_proba, cat_test_proba)"
      ],
      "metadata": {
        "colab": {
          "base_uri": "https://localhost:8080/"
        },
        "id": "f5HxUpbRWCeO",
        "outputId": "f1fbb845-af60-469d-a8fe-d39c0724dfe7"
      },
      "execution_count": 14,
      "outputs": [
        {
          "output_type": "stream",
          "name": "stdout",
          "text": [
            "Train\n",
            "               precision    recall  f1-score   support\n",
            "\n",
            "           0      0.847     0.699     0.766    145765\n",
            "           1      0.511     0.713     0.595     64235\n",
            "\n",
            "    accuracy                          0.704    210000\n",
            "   macro avg      0.679     0.706     0.681    210000\n",
            "weighted avg      0.744     0.704     0.714    210000\n",
            "\n",
            "Test\n",
            "               precision    recall  f1-score   support\n",
            "\n",
            "           0      0.840     0.695     0.761     62471\n",
            "           1      0.503     0.701     0.586     27529\n",
            "\n",
            "    accuracy                          0.697     90000\n",
            "   macro avg      0.672     0.698     0.673     90000\n",
            "weighted avg      0.737     0.697     0.707     90000\n",
            "\n",
            "Train ROC_AUC: 0.780, Test ROC_AUC: 0.770\n",
            "Confusion Matrix \n",
            " col_0       0      1\n",
            "target              \n",
            "0       43417  19054\n",
            "1        8242  19287\n"
          ]
        }
      ]
    },
    {
      "cell_type": "code",
      "source": [
        "test = encoder.transform(test)"
      ],
      "metadata": {
        "id": "XYzlGtWyXrLx"
      },
      "execution_count": 17,
      "outputs": []
    },
    {
      "cell_type": "code",
      "source": [
        "submission = pd.DataFrame({'id': test.index, TARGET_NAME: cat.predict_proba(test)[:,1]})\n",
        "submission.to_csv('submission.csv', index=False, encoding='utf-8')"
      ],
      "metadata": {
        "id": "Om78eLMvYIbu"
      },
      "execution_count": 22,
      "outputs": []
    },
    {
      "cell_type": "code",
      "source": [
        "!kaggle competitions submit -c cat-in-the-dat -f submission.csv -m 'test1'\n",
        "# Score: 0.76877\n",
        "# Private score: 0.76349"
      ],
      "metadata": {
        "colab": {
          "base_uri": "https://localhost:8080/"
        },
        "id": "FT0_IxYZYxWY",
        "outputId": "98489be7-7762-4595-c7cd-f69bbbd2e8d6"
      },
      "execution_count": 23,
      "outputs": [
        {
          "output_type": "stream",
          "name": "stdout",
          "text": [
            "100% 5.00M/5.00M [00:03<00:00, 1.60MB/s]\n",
            "Successfully submitted to Categorical Feature Encoding Challenge"
          ]
        }
      ]
    },
    {
      "cell_type": "markdown",
      "source": [
        "The data contains binary features (bin_*), nominal features (nom_*), ordinal features (ord_*) as well as (potentially cyclical) day (of the week) and month features. The string ordinal features ord_{3-5} are lexically ordered according to string.ascii_letters."
      ],
      "metadata": {
        "id": "SSgt4-6iai1L"
      }
    },
    {
      "cell_type": "code",
      "source": [
        "# new features\n",
        "train['ord_5_n1'] = train['ord_5'].apply(lambda x:(string.ascii_letters.find(x[0])+1)).astype(np.float32)\n",
        "train['ord_5_n2'] = train['ord_5'].apply(lambda x:(string.ascii_letters.find(x[1])+1)).astype(np.float32)\n",
        "\n",
        "test['ord_5_n1'] = test['ord_5'].apply(lambda x:(string.ascii_letters.find(x[0])+1)).astype(np.float32)\n",
        "test['ord_5_n2'] = test['ord_5'].apply(lambda x:(string.ascii_letters.find(x[1])+1)).astype(np.float32)"
      ],
      "metadata": {
        "id": "ezrCMr_7ZozI"
      },
      "execution_count": 8,
      "outputs": []
    },
    {
      "cell_type": "code",
      "source": [
        "binary_cols = [col for col in train.columns if train[col].dtype == 'object' and col.startswith('bin')]\n",
        "nominal_one_hot = [col for col in train.columns if train[col].dtype == 'object' and train[col].nunique() < 10 and col.startswith('nom')]\n",
        "nominal_high_card = [col for col in train.columns if train[col].dtype == 'object' and train[col].nunique() >= 10 and col.startswith('nom')]\n",
        "ordinal_cols = [col for col in train.columns if col.startswith('ord')]\n",
        "cycle_cols = ['month', 'day']"
      ],
      "metadata": {
        "id": "7DvJl30YazbA"
      },
      "execution_count": 9,
      "outputs": []
    },
    {
      "cell_type": "code",
      "source": [
        "X, y = train.drop(TARGET_NAME, axis=1), train[TARGET_NAME]\n",
        "\n",
        "X_train, X_valid, y_train, y_valid = train_test_split(X, y, test_size=0.3, shuffle=True, stratify=y, random_state=123)"
      ],
      "metadata": {
        "id": "rKJ-bpHucMZ7"
      },
      "execution_count": 10,
      "outputs": []
    },
    {
      "cell_type": "code",
      "source": [
        "encoder = CyclicEncoder()\n",
        "X_train = encoder.fit_transform(X_train, y_train)\n",
        "X_valid = encoder.transform(X_valid)\n",
        "test_ = encoder.transform(test)\n",
        "final_cols = X_train.columns.tolist()\n",
        "test_index = test.index"
      ],
      "metadata": {
        "id": "pV10ZCuScaQI"
      },
      "execution_count": 97,
      "outputs": []
    },
    {
      "cell_type": "code",
      "source": [
        "columns_transformer = ColumnTransformer(transformers=[\n",
        "                              ('binary', ce.binary.BinaryEncoder(), binary_cols),\n",
        "                              ('one-hot', ce.one_hot.OneHotEncoder(), nominal_one_hot),\n",
        "                              ('target', ce.cat_boost.CatBoostEncoder(random_state=123, a=3), nominal_high_card),\n",
        "                              ('ordinal', ce.ordinal.OrdinalEncoder(), ordinal_cols),\n",
        "                                                      ], remainder='passthrough')\n",
        "\n",
        "X_train_ = columns_transformer.fit_transform(X_train, y_train)\n",
        "X_valid_ = columns_transformer.transform(X_valid)\n",
        "test_ = columns_transformer.transform(test_)"
      ],
      "metadata": {
        "id": "PxxZmtWZbyHz"
      },
      "execution_count": 98,
      "outputs": []
    },
    {
      "cell_type": "code",
      "source": [
        "model_params = {\n",
        "                'objective': 'cross_entropy', # binary\n",
        "                'n_estimators': 800,\n",
        "                'n_jobs': -1,\n",
        "                'is_unbalanced': True,\n",
        "                'random_state': 123\n",
        "}\n",
        "fit_params = {'early_stopping_rounds': 10,  \n",
        "              'eval_set': [(X_valid_, y_valid)],  \n",
        "              'eval_metric': 'auc',\n",
        "              'verbose': False\n",
        "}"
      ],
      "metadata": {
        "id": "vN9zHcVje9x2"
      },
      "execution_count": 29,
      "outputs": []
    },
    {
      "cell_type": "code",
      "source": [
        "def objective(trial):\n",
        "    param_trials = {\n",
        "                    'max_depth': trial.suggest_int('max_depth', 3, 9),\n",
        "                    'learning_rate': trial.suggest_float('learning_rate', 0.01, 0.5),\n",
        "                    'reg_alpha': trial.suggest_float('reg_alpha', 1., 5.),\n",
        "                    'reg_lambda': trial.suggest_float('reg_lambda', 1., 5.),\n",
        "                    'num_leaves': trial.suggest_int('num_leaves', 20, 265),\n",
        "                    'subsample': trial.suggest_float('subsample', 0.3, 1.),\n",
        "                    'colsample_bytree': trial.suggest_float('colsample_bytree', 0.3, 1.),\n",
        "                    'max_bin': trial.suggest_int('max_bin', 60, 260),\n",
        "                    'min_child_samples': trial.suggest_int('min_child_samples', 120, 260),\n",
        "                    'min_child_weight': trial.suggest_float('min_child_weight', 0.001, 0.1),\n",
        "                    'boosting_type': trial.suggest_categorical('boosting_type', ['goss', 'gbdt']),\n",
        "                    }\n",
        "    param_trials.update(model_params)\n",
        "    opt_model = LGBMClassifier(**param_trials)\n",
        "    opt_model.fit(X_train_, y_train, **fit_params)\n",
        "    \n",
        "    y_pred = opt_model.predict_proba(X_valid_)[:,1]\n",
        "    score = roc_auc_score(y_valid, y_pred)\n",
        "    \n",
        "    return score"
      ],
      "metadata": {
        "id": "d8tfwBvvhIy9"
      },
      "execution_count": 30,
      "outputs": []
    },
    {
      "cell_type": "code",
      "source": [
        "study = optuna.create_study(sampler=TPESampler(seed=123), direction=\"maximize\")\n",
        "study.optimize(objective, n_trials=100, timeout=6000)\n",
        "\n",
        "print(f'Number of completed trials: {len(study.trials)}')\n",
        "print('Best trial')\n",
        "trial = study.best_trial\n",
        "print(f'Best score: {trial.value}')\n",
        "print('Best params')\n",
        "for key, value in trial.params.items():\n",
        "    print(f'{key}: {value}')"
      ],
      "metadata": {
        "id": "FaGeL4lLkjmA"
      },
      "execution_count": null,
      "outputs": []
    },
    {
      "cell_type": "code",
      "source": [
        "# best params without month, day (only cyclical), without ord_5_n1, ord_5_n2, a=2 (in CatBoostEncoder)\n",
        "model_params = {\n",
        "                'max_depth': 3,\n",
        "                'learning_rate': 0.29375900834037568, # 0.19375900834037568\n",
        "                'reg_alpha': 2.126096090703706,\n",
        "                'reg_lambda': 4.0535041350353165,\n",
        "                'num_leaves': 221,\n",
        "                'subsample': 0.6556369768270103, # 0.5556369768270103\n",
        "                'colsample_bytree': 0.3020488780017279,\n",
        "                'max_bin': 253,\n",
        "                'min_child_samples': 208,\n",
        "                'min_child_weight': 0.0201242511324658,\n",
        "                'boosting_type': 'gbdt',\n",
        "                'objective': 'binary',\n",
        "                'n_estimators': 800,\n",
        "                'n_jobs': -1,\n",
        "                'is_unbalanced': True,\n",
        "                'random_state': 123,\n",
        "}\n",
        "fit_params = {'early_stopping_rounds': 20, # 10  \n",
        "              'eval_set': [(X_valid_, y_valid)],  \n",
        "              'eval_metric': 'auc',\n",
        "              'verbose': False\n",
        "}"
      ],
      "metadata": {
        "id": "T36cEtFipCSC"
      },
      "execution_count": 106,
      "outputs": []
    },
    {
      "cell_type": "code",
      "source": [
        "# best params with month and day, ord_5_n1, ord_5_n2, a=3 in CatBoostEncoder (Smoothing)\n",
        "model_params = {\n",
        "                'objective': 'cross_entropy',\n",
        "                'n_estimators': 800,\n",
        "                'n_jobs': -1,\n",
        "                'is_unbalanced': True,\n",
        "                'random_state': 123,\n",
        "                'max_depth': 3,\n",
        "                'learning_rate': 0.08558504736138631, # 0.08558504736138631\n",
        "                'reg_alpha': 4.6185587467243945,\n",
        "                'reg_lambda': 4.063505933330164,\n",
        "                'num_leaves': 255,\n",
        "                'subsample': 0.4461280745191487,\n",
        "                'colsample_bytree': 0.3032833481032431,\n",
        "                'max_bin': 254,\n",
        "                'min_child_samples': 214,\n",
        "                'min_child_weight': 0.09950864454542213,\n",
        "                'boosting_type': 'gbdt',\n",
        "}"
      ],
      "metadata": {
        "id": "Izzj7D6XhHGF"
      },
      "execution_count": 13,
      "outputs": []
    },
    {
      "cell_type": "code",
      "source": [
        "fit_params = {'early_stopping_rounds': 50, # 10  \n",
        "              'eval_set': [(X_valid_, y_valid)],  \n",
        "              'eval_metric': 'auc',\n",
        "              'verbose': False\n",
        "}"
      ],
      "metadata": {
        "id": "uEh-0eeQGu-l"
      },
      "execution_count": null,
      "outputs": []
    },
    {
      "cell_type": "code",
      "source": [
        "lgbm = LGBMClassifier(**model_params)\n",
        "lgbm.fit(X_train_, y_train, **fit_params)\n",
        "\n",
        "lgbm_train_pred = lgbm.predict(X_train_)\n",
        "lgbm_test_pred = lgbm.predict(X_valid_)\n",
        "lgbm_train_proba = lgbm.predict_proba(X_train_)[:,1]\n",
        "lgbm_test_proba = lgbm.predict_proba(X_valid_)[:,1]\n",
        "\n",
        "report(y_train, lgbm_train_pred, y_valid, lgbm_test_pred, lgbm_train_proba, lgbm_test_proba)"
      ],
      "metadata": {
        "colab": {
          "base_uri": "https://localhost:8080/"
        },
        "id": "MfXY0BFNsyrq",
        "outputId": "0ba36d12-8edf-4b16-b656-48d0a146b5fd"
      },
      "execution_count": 110,
      "outputs": [
        {
          "output_type": "stream",
          "name": "stdout",
          "text": [
            "Train\n",
            "               precision    recall  f1-score   support\n",
            "\n",
            "           0      0.783     0.905     0.840    145765\n",
            "           1      0.666     0.432     0.525     64235\n",
            "\n",
            "    accuracy                          0.760    210000\n",
            "   macro avg      0.725     0.669     0.682    210000\n",
            "weighted avg      0.748     0.760     0.743    210000\n",
            "\n",
            "Test\n",
            "               precision    recall  f1-score   support\n",
            "\n",
            "           0      0.784     0.909     0.842     62471\n",
            "           1      0.676     0.433     0.528     27529\n",
            "\n",
            "    accuracy                          0.763     90000\n",
            "   macro avg      0.730     0.671     0.685     90000\n",
            "weighted avg      0.751     0.763     0.746     90000\n",
            "\n",
            "Train ROC_AUC: 0.798, Test ROC_AUC: 0.800\n",
            "Confusion Matrix \n",
            " col_0       0      1\n",
            "target              \n",
            "0       56762   5709\n",
            "1       15615  11914\n"
          ]
        }
      ]
    },
    {
      "cell_type": "code",
      "source": [
        "submission = pd.DataFrame({'id': test_index, TARGET_NAME: lgbm.predict_proba(test_)[:,1]})\n",
        "submission.to_csv('submission.csv', index=False, encoding='utf-8')"
      ],
      "metadata": {
        "id": "a2Ndoi2atcaq"
      },
      "execution_count": 111,
      "outputs": []
    },
    {
      "cell_type": "code",
      "source": [
        "!kaggle competitions submit -c cat-in-the-dat -f submission.csv -m 'test1'"
      ],
      "metadata": {
        "colab": {
          "base_uri": "https://localhost:8080/"
        },
        "id": "xy0V81aRtqb7",
        "outputId": "e4838afe-ee8f-4c47-f431-631870fc3cb7"
      },
      "execution_count": 112,
      "outputs": [
        {
          "output_type": "stream",
          "name": "stdout",
          "text": [
            "100% 5.06M/5.06M [00:07<00:00, 675kB/s]\n",
            "Successfully submitted to Categorical Feature Encoding Challenge"
          ]
        }
      ]
    },
    {
      "cell_type": "code",
      "source": [
        "# load train, test\n",
        "# make new features\n",
        "# define X,y, columns lists\n",
        "# define model_params with cross_entropy objective"
      ],
      "metadata": {
        "id": "J29IGP_GoAbn"
      },
      "execution_count": 69,
      "outputs": []
    },
    {
      "cell_type": "code",
      "source": [
        "# average result with KFolds in pipeline style\n",
        "test_index = test.index\n",
        "\n",
        "test_results = []\n",
        "skf = StratifiedKFold(n_splits=3)\n",
        "encoder = CyclicEncoder()\n",
        "\n",
        "columns_transformer = ColumnTransformer(transformers=[\n",
        "                              ('binary', ce.binary.BinaryEncoder(), binary_cols),\n",
        "                              ('one-hot', ce.one_hot.OneHotEncoder(), nominal_one_hot),\n",
        "                              ('target', ce.cat_boost.CatBoostEncoder(random_state=123, a=3), nominal_high_card),\n",
        "                              ('ordinal', ce.ordinal.OrdinalEncoder(), ordinal_cols),\n",
        "                                                      ], remainder='passthrough')\n",
        "\n",
        "for train_index, valid_index in skf.split(X.values, y.values):\n",
        "    X_train, X_valid = X.iloc[train_index, :], X.iloc[valid_index, :]\n",
        "    y_train, y_valid = y.values[train_index], y.values[valid_index]\n",
        "\n",
        "    X_train = encoder.fit_transform(X_train, y_train)\n",
        "    X_train = columns_transformer.fit_transform(X_train, y_train)\n",
        "    X_valid = encoder.transform(X_valid)\n",
        "    X_valid = columns_transformer.transform(X_valid)\n",
        "\n",
        "    test_ = encoder.transform(test)\n",
        "    test_ = columns_transformer.transform(test_)\n",
        "\n",
        "    lgbm = LGBMClassifier(**model_params)\n",
        "    fit_params = {'early_stopping_rounds': 10,  \n",
        "              'eval_set': [(X_valid, y_valid)],  \n",
        "              'eval_metric': 'auc',\n",
        "              'verbose': False\n",
        "              }\n",
        "    lgbm.fit(X_train, y_train, **fit_params)\n",
        "\n",
        "    pred_test = lgbm.predict_proba(test_)[:,1]\n",
        "    test_results.append(pred_test)\n",
        "\n",
        "final_test = np.array(test_results).mean(axis=0)"
      ],
      "metadata": {
        "id": "fW5C-IiGcCk3"
      },
      "execution_count": 14,
      "outputs": []
    },
    {
      "cell_type": "code",
      "source": [
        "submission = pd.DataFrame({'id': test_index, TARGET_NAME: final_test})\n",
        "submission.to_csv('submission.csv', index=False, encoding='utf-8')"
      ],
      "metadata": {
        "id": "iDqoB5n0euWC"
      },
      "execution_count": 15,
      "outputs": []
    },
    {
      "cell_type": "code",
      "source": [
        "!kaggle competitions submit -c cat-in-the-dat -f submission.csv -m 'test1'"
      ],
      "metadata": {
        "colab": {
          "base_uri": "https://localhost:8080/"
        },
        "id": "Cv4TgQtNe282",
        "outputId": "9d19fdde-ea6a-4bee-d255-92d7c00fb8cc"
      },
      "execution_count": 16,
      "outputs": [
        {
          "output_type": "stream",
          "name": "stdout",
          "text": [
            "100% 5.05M/5.05M [00:00<00:00, 18.1MB/s]\n",
            "Successfully submitted to Categorical Feature Encoding Challenge"
          ]
        }
      ]
    },
    {
      "cell_type": "markdown",
      "source": [
        "\n",
        "\n",
        "```\n",
        "encoder = ce.BackwardDifferenceEncoder(cols=[...])\n",
        "encoder = ce.BaseNEncoder(cols=[...])\n",
        "encoder = ce.BinaryEncoder(cols=[...])\n",
        "encoder = ce.CatBoostEncoder(cols=[...])\n",
        "encoder = ce.CountEncoder(cols=[...])\n",
        "encoder = ce.GLMMEncoder(cols=[...])\n",
        "encoder = ce.HashingEncoder(cols=[...])\n",
        "encoder = ce.HelmertEncoder(cols=[...])\n",
        "encoder = ce.JamesSteinEncoder(cols=[...])\n",
        "encoder = ce.LeaveOneOutEncoder(cols=[...])\n",
        "encoder = ce.MEstimateEncoder(cols=[...])\n",
        "encoder = ce.OneHotEncoder(cols=[...])\n",
        "encoder = ce.OrdinalEncoder(cols=[...])\n",
        "encoder = ce.SumEncoder(cols=[...])\n",
        "encoder = ce.PolynomialEncoder(cols=[...])\n",
        "encoder = ce.TargetEncoder(cols=[...])\n",
        "encoder = ce.WOEEncoder(cols=[...])\n",
        "encoder = ce.QuantileEncoder(cols=[...])\n",
        "\n",
        "encoder.fit(X, y)\n",
        "X_cleaned = encoder.transform(X_dirty)\n",
        "```\n",
        "\n"
      ],
      "metadata": {
        "id": "CiKoeYbsTIeh"
      }
    },
    {
      "cell_type": "markdown",
      "source": [
        "\n",
        "Best params, Private - 0.79485, Public - 0.79988\n",
        "```\n",
        "model_params = {\n",
        "                'objective': 'cross_entropy',\n",
        "                'n_estimators': 800,\n",
        "                'n_jobs': -1,\n",
        "                'is_unbalanced': True,\n",
        "                'random_state': 123,\n",
        "                'max_depth': 3,\n",
        "                'learning_rate': 0.08558504736138631, \n",
        "                'reg_alpha': 4.6185587467243945,\n",
        "                'reg_lambda': 4.063505933330164,\n",
        "                'num_leaves': 255,\n",
        "                'subsample': 0.4461280745191487,\n",
        "                'colsample_bytree': 0.3032833481032431,\n",
        "                'max_bin': 254,\n",
        "                'min_child_samples': 214,\n",
        "                'min_child_weight': 0.09950864454542213,\n",
        "                'boosting_type': 'gbdt',\n",
        "}\n",
        "\n",
        "fit_params = {'early_stopping_rounds': 10,  \n",
        "              'eval_set': [(X_valid_, y_valid)],  \n",
        "              'eval_metric': 'auc',\n",
        "              'verbose': False\n",
        "}\n",
        "```\n",
        "\n"
      ],
      "metadata": {
        "id": "ikkWf333xagh"
      }
    }
  ]
}