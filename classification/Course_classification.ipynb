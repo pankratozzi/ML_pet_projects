{
  "nbformat": 4,
  "nbformat_minor": 5,
  "metadata": {
    "kernelspec": {
      "display_name": "Python 3",
      "language": "python",
      "name": "python3"
    },
    "language_info": {
      "codemirror_mode": {
        "name": "ipython",
        "version": 3
      },
      "file_extension": ".py",
      "mimetype": "text/x-python",
      "name": "python",
      "nbconvert_exporter": "python",
      "pygments_lexer": "ipython3",
      "version": "3.9.2"
    },
    "colab": {
      "name": "Course_classification.ipynb",
      "provenance": [],
      "collapsed_sections": []
    }
  },
  "cells": [
    {
      "cell_type": "code",
      "source": [
        "!pip install -qU category_encoders optuna"
      ],
      "metadata": {
        "colab": {
          "base_uri": "https://localhost:8080/"
        },
        "id": "vqLyFCebjlT1",
        "outputId": "fcb4ad35-23f0-4a2e-871f-311048c1077b"
      },
      "id": "vqLyFCebjlT1",
      "execution_count": 1,
      "outputs": [
        {
          "output_type": "stream",
          "name": "stdout",
          "text": [
            "\u001b[?25l\r\u001b[K     |███▉                            | 10 kB 22.2 MB/s eta 0:00:01\r\u001b[K     |███████▋                        | 20 kB 16.3 MB/s eta 0:00:01\r\u001b[K     |███████████▍                    | 30 kB 10.4 MB/s eta 0:00:01\r\u001b[K     |███████████████▏                | 40 kB 3.9 MB/s eta 0:00:01\r\u001b[K     |███████████████████             | 51 kB 3.9 MB/s eta 0:00:01\r\u001b[K     |██████████████████████▊         | 61 kB 4.6 MB/s eta 0:00:01\r\u001b[K     |██████████████████████████▌     | 71 kB 4.8 MB/s eta 0:00:01\r\u001b[K     |██████████████████████████████▎ | 81 kB 5.1 MB/s eta 0:00:01\r\u001b[K     |████████████████████████████████| 86 kB 2.6 MB/s \n",
            "\u001b[K     |████████████████████████████████| 308 kB 36.1 MB/s \n",
            "\u001b[K     |████████████████████████████████| 81 kB 6.5 MB/s \n",
            "\u001b[K     |████████████████████████████████| 210 kB 37.7 MB/s \n",
            "\u001b[K     |████████████████████████████████| 78 kB 5.6 MB/s \n",
            "\u001b[K     |████████████████████████████████| 150 kB 45.3 MB/s \n",
            "\u001b[K     |████████████████████████████████| 113 kB 49.1 MB/s \n",
            "\u001b[K     |████████████████████████████████| 49 kB 4.9 MB/s \n",
            "\u001b[?25h  Building wheel for pyperclip (setup.py) ... \u001b[?25l\u001b[?25hdone\n"
          ]
        }
      ]
    },
    {
      "cell_type": "code",
      "metadata": {
        "id": "fc469fc5"
      },
      "source": [
        "import warnings\n",
        "warnings.filterwarnings('ignore')\n",
        "\n",
        "import sys\n",
        "import pandas as pd\n",
        "import numpy as np\n",
        "import matplotlib.pyplot as plt\n",
        "import seaborn as sns\n",
        "\n",
        "from sklearn.linear_model import LogisticRegression\n",
        "from lightgbm import LGBMClassifier\n",
        "from sklearn.ensemble import RandomForestClassifier\n",
        "\n",
        "from sklearn.model_selection import train_test_split\n",
        "from sklearn.preprocessing import MinMaxScaler\n",
        "\n",
        "from tqdm.notebook import tqdm\n",
        "from sklearn.metrics import f1_score, roc_auc_score, classification_report, accuracy_score\n",
        "from sklearn.model_selection import cross_val_score, GridSearchCV\n",
        "\n",
        "from sklearn.pipeline import FeatureUnion\n",
        "from sklearn.compose import ColumnTransformer\n",
        "from sklearn.base import BaseEstimator, TransformerMixin\n",
        "\n",
        "from itertools import combinations\n",
        "from imblearn.combine import SMOTEENN\n",
        "from imblearn.pipeline import Pipeline\n",
        "\n",
        "import category_encoders as ce\n",
        "\n",
        "from sklearn.experimental import enable_iterative_imputer\n",
        "from sklearn.impute import IterativeImputer, SimpleImputer\n",
        "\n",
        "from scipy import stats\n",
        "\n",
        "import optuna\n",
        "from optuna.samplers import TPESampler"
      ],
      "id": "fc469fc5",
      "execution_count": 2,
      "outputs": []
    },
    {
      "cell_type": "code",
      "metadata": {
        "colab": {
          "base_uri": "https://localhost:8080/"
        },
        "id": "IJNBvQ9rLuZu",
        "outputId": "de51eea2-2e47-4738-8c78-13fdd539a40d"
      },
      "source": [
        "from google.colab import drive\n",
        "drive.mount('/content/drive')"
      ],
      "id": "IJNBvQ9rLuZu",
      "execution_count": 3,
      "outputs": [
        {
          "output_type": "stream",
          "name": "stdout",
          "text": [
            "Mounted at /content/drive\n"
          ]
        }
      ]
    },
    {
      "cell_type": "code",
      "metadata": {
        "id": "50990cbe"
      },
      "source": [
        "np.random.seed(1)\n",
        "train_root = '/content/drive/My Drive/data/titanic_set/train.csv'\n",
        "test_root = '/content/drive/My Drive/data/titanic_set/test.csv'"
      ],
      "id": "50990cbe",
      "execution_count": 4,
      "outputs": []
    },
    {
      "cell_type": "code",
      "metadata": {
        "id": "b77a1bde"
      },
      "source": [
        "train_df = pd.read_csv(train_root, index_col='PassengerId')\n",
        "test_df = pd.read_csv(test_root, index_col='PassengerId')\n",
        "TARGET_NAME = 'Survived'"
      ],
      "id": "b77a1bde",
      "execution_count": 5,
      "outputs": []
    },
    {
      "cell_type": "code",
      "source": [
        "train_df.head()"
      ],
      "metadata": {
        "colab": {
          "base_uri": "https://localhost:8080/",
          "height": 282
        },
        "id": "MWEdZXj7iyyu",
        "outputId": "48374d16-412c-4899-8138-9ddf2bdf7a8d"
      },
      "id": "MWEdZXj7iyyu",
      "execution_count": null,
      "outputs": [
        {
          "output_type": "execute_result",
          "data": {
            "text/html": [
              "\n",
              "  <div id=\"df-8973e88c-4dd5-462a-803b-e5717bc38358\">\n",
              "    <div class=\"colab-df-container\">\n",
              "      <div>\n",
              "<style scoped>\n",
              "    .dataframe tbody tr th:only-of-type {\n",
              "        vertical-align: middle;\n",
              "    }\n",
              "\n",
              "    .dataframe tbody tr th {\n",
              "        vertical-align: top;\n",
              "    }\n",
              "\n",
              "    .dataframe thead th {\n",
              "        text-align: right;\n",
              "    }\n",
              "</style>\n",
              "<table border=\"1\" class=\"dataframe\">\n",
              "  <thead>\n",
              "    <tr style=\"text-align: right;\">\n",
              "      <th></th>\n",
              "      <th>Survived</th>\n",
              "      <th>Pclass</th>\n",
              "      <th>Name</th>\n",
              "      <th>Sex</th>\n",
              "      <th>Age</th>\n",
              "      <th>SibSp</th>\n",
              "      <th>Parch</th>\n",
              "      <th>Ticket</th>\n",
              "      <th>Fare</th>\n",
              "      <th>Cabin</th>\n",
              "      <th>Embarked</th>\n",
              "    </tr>\n",
              "    <tr>\n",
              "      <th>PassengerId</th>\n",
              "      <th></th>\n",
              "      <th></th>\n",
              "      <th></th>\n",
              "      <th></th>\n",
              "      <th></th>\n",
              "      <th></th>\n",
              "      <th></th>\n",
              "      <th></th>\n",
              "      <th></th>\n",
              "      <th></th>\n",
              "      <th></th>\n",
              "    </tr>\n",
              "  </thead>\n",
              "  <tbody>\n",
              "    <tr>\n",
              "      <th>1</th>\n",
              "      <td>0</td>\n",
              "      <td>3</td>\n",
              "      <td>Braund, Mr. Owen Harris</td>\n",
              "      <td>male</td>\n",
              "      <td>22.0</td>\n",
              "      <td>1</td>\n",
              "      <td>0</td>\n",
              "      <td>A/5 21171</td>\n",
              "      <td>7.2500</td>\n",
              "      <td>NaN</td>\n",
              "      <td>S</td>\n",
              "    </tr>\n",
              "    <tr>\n",
              "      <th>2</th>\n",
              "      <td>1</td>\n",
              "      <td>1</td>\n",
              "      <td>Cumings, Mrs. John Bradley (Florence Briggs Th...</td>\n",
              "      <td>female</td>\n",
              "      <td>38.0</td>\n",
              "      <td>1</td>\n",
              "      <td>0</td>\n",
              "      <td>PC 17599</td>\n",
              "      <td>71.2833</td>\n",
              "      <td>C85</td>\n",
              "      <td>C</td>\n",
              "    </tr>\n",
              "    <tr>\n",
              "      <th>3</th>\n",
              "      <td>1</td>\n",
              "      <td>3</td>\n",
              "      <td>Heikkinen, Miss. Laina</td>\n",
              "      <td>female</td>\n",
              "      <td>26.0</td>\n",
              "      <td>0</td>\n",
              "      <td>0</td>\n",
              "      <td>STON/O2. 3101282</td>\n",
              "      <td>7.9250</td>\n",
              "      <td>NaN</td>\n",
              "      <td>S</td>\n",
              "    </tr>\n",
              "    <tr>\n",
              "      <th>4</th>\n",
              "      <td>1</td>\n",
              "      <td>1</td>\n",
              "      <td>Futrelle, Mrs. Jacques Heath (Lily May Peel)</td>\n",
              "      <td>female</td>\n",
              "      <td>35.0</td>\n",
              "      <td>1</td>\n",
              "      <td>0</td>\n",
              "      <td>113803</td>\n",
              "      <td>53.1000</td>\n",
              "      <td>C123</td>\n",
              "      <td>S</td>\n",
              "    </tr>\n",
              "    <tr>\n",
              "      <th>5</th>\n",
              "      <td>0</td>\n",
              "      <td>3</td>\n",
              "      <td>Allen, Mr. William Henry</td>\n",
              "      <td>male</td>\n",
              "      <td>35.0</td>\n",
              "      <td>0</td>\n",
              "      <td>0</td>\n",
              "      <td>373450</td>\n",
              "      <td>8.0500</td>\n",
              "      <td>NaN</td>\n",
              "      <td>S</td>\n",
              "    </tr>\n",
              "  </tbody>\n",
              "</table>\n",
              "</div>\n",
              "      <button class=\"colab-df-convert\" onclick=\"convertToInteractive('df-8973e88c-4dd5-462a-803b-e5717bc38358')\"\n",
              "              title=\"Convert this dataframe to an interactive table.\"\n",
              "              style=\"display:none;\">\n",
              "        \n",
              "  <svg xmlns=\"http://www.w3.org/2000/svg\" height=\"24px\"viewBox=\"0 0 24 24\"\n",
              "       width=\"24px\">\n",
              "    <path d=\"M0 0h24v24H0V0z\" fill=\"none\"/>\n",
              "    <path d=\"M18.56 5.44l.94 2.06.94-2.06 2.06-.94-2.06-.94-.94-2.06-.94 2.06-2.06.94zm-11 1L8.5 8.5l.94-2.06 2.06-.94-2.06-.94L8.5 2.5l-.94 2.06-2.06.94zm10 10l.94 2.06.94-2.06 2.06-.94-2.06-.94-.94-2.06-.94 2.06-2.06.94z\"/><path d=\"M17.41 7.96l-1.37-1.37c-.4-.4-.92-.59-1.43-.59-.52 0-1.04.2-1.43.59L10.3 9.45l-7.72 7.72c-.78.78-.78 2.05 0 2.83L4 21.41c.39.39.9.59 1.41.59.51 0 1.02-.2 1.41-.59l7.78-7.78 2.81-2.81c.8-.78.8-2.07 0-2.86zM5.41 20L4 18.59l7.72-7.72 1.47 1.35L5.41 20z\"/>\n",
              "  </svg>\n",
              "      </button>\n",
              "      \n",
              "  <style>\n",
              "    .colab-df-container {\n",
              "      display:flex;\n",
              "      flex-wrap:wrap;\n",
              "      gap: 12px;\n",
              "    }\n",
              "\n",
              "    .colab-df-convert {\n",
              "      background-color: #E8F0FE;\n",
              "      border: none;\n",
              "      border-radius: 50%;\n",
              "      cursor: pointer;\n",
              "      display: none;\n",
              "      fill: #1967D2;\n",
              "      height: 32px;\n",
              "      padding: 0 0 0 0;\n",
              "      width: 32px;\n",
              "    }\n",
              "\n",
              "    .colab-df-convert:hover {\n",
              "      background-color: #E2EBFA;\n",
              "      box-shadow: 0px 1px 2px rgba(60, 64, 67, 0.3), 0px 1px 3px 1px rgba(60, 64, 67, 0.15);\n",
              "      fill: #174EA6;\n",
              "    }\n",
              "\n",
              "    [theme=dark] .colab-df-convert {\n",
              "      background-color: #3B4455;\n",
              "      fill: #D2E3FC;\n",
              "    }\n",
              "\n",
              "    [theme=dark] .colab-df-convert:hover {\n",
              "      background-color: #434B5C;\n",
              "      box-shadow: 0px 1px 3px 1px rgba(0, 0, 0, 0.15);\n",
              "      filter: drop-shadow(0px 1px 2px rgba(0, 0, 0, 0.3));\n",
              "      fill: #FFFFFF;\n",
              "    }\n",
              "  </style>\n",
              "\n",
              "      <script>\n",
              "        const buttonEl =\n",
              "          document.querySelector('#df-8973e88c-4dd5-462a-803b-e5717bc38358 button.colab-df-convert');\n",
              "        buttonEl.style.display =\n",
              "          google.colab.kernel.accessAllowed ? 'block' : 'none';\n",
              "\n",
              "        async function convertToInteractive(key) {\n",
              "          const element = document.querySelector('#df-8973e88c-4dd5-462a-803b-e5717bc38358');\n",
              "          const dataTable =\n",
              "            await google.colab.kernel.invokeFunction('convertToInteractive',\n",
              "                                                     [key], {});\n",
              "          if (!dataTable) return;\n",
              "\n",
              "          const docLinkHtml = 'Like what you see? Visit the ' +\n",
              "            '<a target=\"_blank\" href=https://colab.research.google.com/notebooks/data_table.ipynb>data table notebook</a>'\n",
              "            + ' to learn more about interactive tables.';\n",
              "          element.innerHTML = '';\n",
              "          dataTable['output_type'] = 'display_data';\n",
              "          await google.colab.output.renderOutput(dataTable, element);\n",
              "          const docLink = document.createElement('div');\n",
              "          docLink.innerHTML = docLinkHtml;\n",
              "          element.appendChild(docLink);\n",
              "        }\n",
              "      </script>\n",
              "    </div>\n",
              "  </div>\n",
              "  "
            ],
            "text/plain": [
              "             Survived  Pclass  ... Cabin Embarked\n",
              "PassengerId                    ...               \n",
              "1                   0       3  ...   NaN        S\n",
              "2                   1       1  ...   C85        C\n",
              "3                   1       3  ...   NaN        S\n",
              "4                   1       1  ...  C123        S\n",
              "5                   0       3  ...   NaN        S\n",
              "\n",
              "[5 rows x 11 columns]"
            ]
          },
          "metadata": {},
          "execution_count": 6
        }
      ]
    },
    {
      "cell_type": "code",
      "source": [
        "def effect_size(factor_a, factor_b, cohen=True, desired_power=0.8, alpha=0.05):\n",
        "    n1, n2 = len(factor_a), len(factor_b)\n",
        "    s1, s2 = factor_a.std(ddof=1), factor_b.std(ddof=1)\n",
        "    df = (s1 ** 2 / n1 + s2 ** 2 / n2) ** 2 / \\\n",
        "          ((s1 ** 2 / n1) ** 2 / (n1 - 1) + (s2 ** 2 / n2) ** 2 / (n2 - 1))\n",
        "    if cohen:\n",
        "        sigma_pooled = np.sqrt(((n1 - 1) * s1**2 + (n2 - 1) * s2**2) / (n1 + n2 - 2))\n",
        "        return np.abs(factor_a.mean() - factor_b.mean()) / sigma_pooled, df\n",
        "    else:\n",
        "        return power.tt_ind_solve_power(effect_size=None, nobs1=len(factor_a), alpha=alpha, power=desired_power,\n",
        "                                        ratio=len(factor_b)/len(factor_a), alternative='two-sided'), df\n",
        "\n",
        "def statistic_output(*columns, df=train_df, cat=False, target=TARGET_NAME, alpha=0.05, sample_size=0):\n",
        "    data = df.copy()\n",
        "    data.drop_duplicates(inplace=True)\n",
        "    if sample_size == 0:\n",
        "        sample_size = int(0.05 * len(data))\n",
        "    if not cat:\n",
        "        columns = data.drop(target, axis=1).select_dtypes(exclude=['category', np.object]).columns\n",
        "        for column in columns:\n",
        "            df_sampled = data[[column, target]].sample(sample_size, random_state=1)\n",
        "            factor_a = df_sampled.loc[df_sampled[target] == 0][column]   \n",
        "            factor_b = df_sampled.loc[df_sampled[target] == 1][column]\n",
        "            var_a, var_b = factor_a.var(), factor_b.var()   \n",
        "            _, pvalue = stats.shapiro(df_sampled[column])\n",
        "            if pvalue >= alpha:\n",
        "                _, pvalue = stats.ttest_ind(factor_a, factor_b, equal_var=False)\n",
        "                test = power.TTestIndPower()\n",
        "                eff_size, deg_free = effect_size(factor_a, factor_b, cohen=False)\n",
        "                pow = test.power(effect_size=eff_size, nobs1=len(factor_a), alpha=alpha, df=deg_free, \n",
        "                                 ratio=len(factor_b)/len(factor_a), alternative='two-sided')\n",
        "            else:\n",
        "                _, pvalue = stats.mannwhitneyu(factor_a, factor_b)\n",
        "                pow, eff_size = None, None\n",
        "            if pvalue < alpha:\n",
        "                result = f'with effect_size = {eff_size:.4f} and ttest power {pow*100:.2f}%' if pow is not None else ''\n",
        "                print(f'Factor \"{column}\" has statistical influence on target (var_a: {var_a:.2f}, var_b: {var_b:.2f}). {result}')\n",
        "            else:\n",
        "                print(f'Factor \"{column}\" does not affect target.')\n",
        "    else:\n",
        "        for column in columns:\n",
        "            print(column)\n",
        "            data.reset_index(inplace=True)\n",
        "            categories = data[column].unique().tolist()\n",
        "            for pair in combinations(categories, r=2):\n",
        "                a, b = pair\n",
        "                if a != b:\n",
        "                    data_ = data.loc[data[column].isin(pair), ['PassengerId', column, target]].sample(sample_size, random_state=1)\n",
        "                    table = data_.pivot_table(values='PassengerId', index=column, columns=target, aggfunc='count')\n",
        "                    _, pvalue, _, _ = stats.chi2_contingency(table, correction=False)\n",
        "                    if pvalue >= alpha:  \n",
        "                        print(f'Categories {a} and {b} can be united.')\n",
        "                    else:\n",
        "                        print(f'Categories {a} and {b} have different frequencies with target.')\n",
        "\n",
        "def correlation(df: pd.DataFrame, target=TARGET_NAME, alpha=0.05, threshold=0.66, method='pearson'):\n",
        "    data = df.copy()\n",
        "    data = data.drop(target, axis=1)\n",
        "    columns = data.select_dtypes(exclude=['category', np.object]).columns\n",
        "    for pair in combinations(columns, r=2):\n",
        "        col1, col2 = pair\n",
        "        if method == 'pearson':\n",
        "            r, pvalue = stats.pearsonr(data[col1], data[col2])\n",
        "        elif method == 'kendall':\n",
        "            r, pvalue = stats.kendalltau(data[col1], data[col2])\n",
        "        elif method == 'spearman':\n",
        "            r, pvalue = stats.spearmanr(data[col1], data[col2])                   \n",
        "        else:\n",
        "            raise ValueError(f'Method should be \"spearman\", \"kendall\" or \"pearson\", got: {method}')\n",
        "        if r >= threshold:    \n",
        "            if pvalue < alpha:\n",
        "                print(f'Correlation ({method}) between {col1} and {col2} is statisticaly strong: {r:.4f}.')\n",
        "            else:\n",
        "                print(f'Correlation ({method}) between {col1} and {col2} is high but not statisticaly meaningful.')"
      ],
      "metadata": {
        "id": "vwnHXcxpiy2i"
      },
      "id": "vwnHXcxpiy2i",
      "execution_count": 6,
      "outputs": []
    },
    {
      "cell_type": "code",
      "source": [
        "train_df['Embarked'].fillna(train_df['Embarked'].mode()[0], inplace=True)\n",
        "statistic_output('Sex', 'Pclass', 'Embarked', cat=True, sample_size=100)"
      ],
      "metadata": {
        "colab": {
          "base_uri": "https://localhost:8080/"
        },
        "id": "hBS3emCbkrPu",
        "outputId": "f6e0ccaf-38ec-4bd9-fa89-82b2d15aff07"
      },
      "id": "hBS3emCbkrPu",
      "execution_count": null,
      "outputs": [
        {
          "output_type": "stream",
          "name": "stdout",
          "text": [
            "Sex\n",
            "Categories male and female have different frequencies with target.\n",
            "Pclass\n",
            "Categories 3 and 1 have different frequencies with target.\n",
            "Categories 3 and 2 have different frequencies with target.\n",
            "Categories 1 and 2 have different frequencies with target.\n",
            "Embarked\n",
            "Categories S and C can be united.\n",
            "Categories S and Q can be united.\n",
            "Categories C and Q can be united.\n"
          ]
        }
      ]
    },
    {
      "cell_type": "code",
      "metadata": {
        "id": "50d0f224",
        "outputId": "5883c3b7-d77a-4c54-8c9b-c0089a0b3510",
        "colab": {
          "base_uri": "https://localhost:8080/"
        }
      },
      "source": [
        "train_df[TARGET_NAME].value_counts(normalize=True)"
      ],
      "id": "50d0f224",
      "execution_count": null,
      "outputs": [
        {
          "output_type": "execute_result",
          "data": {
            "text/plain": [
              "0    0.616162\n",
              "1    0.383838\n",
              "Name: Survived, dtype: float64"
            ]
          },
          "metadata": {},
          "execution_count": 37
        }
      ]
    },
    {
      "cell_type": "code",
      "metadata": {
        "id": "003db12a",
        "outputId": "0d667224-afd0-45f9-b60f-7c903d0793d7",
        "colab": {
          "base_uri": "https://localhost:8080/",
          "height": 175
        }
      },
      "source": [
        "train_df.describe(include=np.object)"
      ],
      "id": "003db12a",
      "execution_count": null,
      "outputs": [
        {
          "output_type": "execute_result",
          "data": {
            "text/html": [
              "\n",
              "  <div id=\"df-ab36b121-bdda-42e7-b617-6ea656d1a2b1\">\n",
              "    <div class=\"colab-df-container\">\n",
              "      <div>\n",
              "<style scoped>\n",
              "    .dataframe tbody tr th:only-of-type {\n",
              "        vertical-align: middle;\n",
              "    }\n",
              "\n",
              "    .dataframe tbody tr th {\n",
              "        vertical-align: top;\n",
              "    }\n",
              "\n",
              "    .dataframe thead th {\n",
              "        text-align: right;\n",
              "    }\n",
              "</style>\n",
              "<table border=\"1\" class=\"dataframe\">\n",
              "  <thead>\n",
              "    <tr style=\"text-align: right;\">\n",
              "      <th></th>\n",
              "      <th>Name</th>\n",
              "      <th>Sex</th>\n",
              "      <th>Ticket</th>\n",
              "      <th>Cabin</th>\n",
              "      <th>Embarked</th>\n",
              "    </tr>\n",
              "  </thead>\n",
              "  <tbody>\n",
              "    <tr>\n",
              "      <th>count</th>\n",
              "      <td>891</td>\n",
              "      <td>891</td>\n",
              "      <td>891</td>\n",
              "      <td>204</td>\n",
              "      <td>891</td>\n",
              "    </tr>\n",
              "    <tr>\n",
              "      <th>unique</th>\n",
              "      <td>891</td>\n",
              "      <td>2</td>\n",
              "      <td>681</td>\n",
              "      <td>147</td>\n",
              "      <td>3</td>\n",
              "    </tr>\n",
              "    <tr>\n",
              "      <th>top</th>\n",
              "      <td>Cairns, Mr. Alexander</td>\n",
              "      <td>male</td>\n",
              "      <td>CA. 2343</td>\n",
              "      <td>C23 C25 C27</td>\n",
              "      <td>S</td>\n",
              "    </tr>\n",
              "    <tr>\n",
              "      <th>freq</th>\n",
              "      <td>1</td>\n",
              "      <td>577</td>\n",
              "      <td>7</td>\n",
              "      <td>4</td>\n",
              "      <td>646</td>\n",
              "    </tr>\n",
              "  </tbody>\n",
              "</table>\n",
              "</div>\n",
              "      <button class=\"colab-df-convert\" onclick=\"convertToInteractive('df-ab36b121-bdda-42e7-b617-6ea656d1a2b1')\"\n",
              "              title=\"Convert this dataframe to an interactive table.\"\n",
              "              style=\"display:none;\">\n",
              "        \n",
              "  <svg xmlns=\"http://www.w3.org/2000/svg\" height=\"24px\"viewBox=\"0 0 24 24\"\n",
              "       width=\"24px\">\n",
              "    <path d=\"M0 0h24v24H0V0z\" fill=\"none\"/>\n",
              "    <path d=\"M18.56 5.44l.94 2.06.94-2.06 2.06-.94-2.06-.94-.94-2.06-.94 2.06-2.06.94zm-11 1L8.5 8.5l.94-2.06 2.06-.94-2.06-.94L8.5 2.5l-.94 2.06-2.06.94zm10 10l.94 2.06.94-2.06 2.06-.94-2.06-.94-.94-2.06-.94 2.06-2.06.94z\"/><path d=\"M17.41 7.96l-1.37-1.37c-.4-.4-.92-.59-1.43-.59-.52 0-1.04.2-1.43.59L10.3 9.45l-7.72 7.72c-.78.78-.78 2.05 0 2.83L4 21.41c.39.39.9.59 1.41.59.51 0 1.02-.2 1.41-.59l7.78-7.78 2.81-2.81c.8-.78.8-2.07 0-2.86zM5.41 20L4 18.59l7.72-7.72 1.47 1.35L5.41 20z\"/>\n",
              "  </svg>\n",
              "      </button>\n",
              "      \n",
              "  <style>\n",
              "    .colab-df-container {\n",
              "      display:flex;\n",
              "      flex-wrap:wrap;\n",
              "      gap: 12px;\n",
              "    }\n",
              "\n",
              "    .colab-df-convert {\n",
              "      background-color: #E8F0FE;\n",
              "      border: none;\n",
              "      border-radius: 50%;\n",
              "      cursor: pointer;\n",
              "      display: none;\n",
              "      fill: #1967D2;\n",
              "      height: 32px;\n",
              "      padding: 0 0 0 0;\n",
              "      width: 32px;\n",
              "    }\n",
              "\n",
              "    .colab-df-convert:hover {\n",
              "      background-color: #E2EBFA;\n",
              "      box-shadow: 0px 1px 2px rgba(60, 64, 67, 0.3), 0px 1px 3px 1px rgba(60, 64, 67, 0.15);\n",
              "      fill: #174EA6;\n",
              "    }\n",
              "\n",
              "    [theme=dark] .colab-df-convert {\n",
              "      background-color: #3B4455;\n",
              "      fill: #D2E3FC;\n",
              "    }\n",
              "\n",
              "    [theme=dark] .colab-df-convert:hover {\n",
              "      background-color: #434B5C;\n",
              "      box-shadow: 0px 1px 3px 1px rgba(0, 0, 0, 0.15);\n",
              "      filter: drop-shadow(0px 1px 2px rgba(0, 0, 0, 0.3));\n",
              "      fill: #FFFFFF;\n",
              "    }\n",
              "  </style>\n",
              "\n",
              "      <script>\n",
              "        const buttonEl =\n",
              "          document.querySelector('#df-ab36b121-bdda-42e7-b617-6ea656d1a2b1 button.colab-df-convert');\n",
              "        buttonEl.style.display =\n",
              "          google.colab.kernel.accessAllowed ? 'block' : 'none';\n",
              "\n",
              "        async function convertToInteractive(key) {\n",
              "          const element = document.querySelector('#df-ab36b121-bdda-42e7-b617-6ea656d1a2b1');\n",
              "          const dataTable =\n",
              "            await google.colab.kernel.invokeFunction('convertToInteractive',\n",
              "                                                     [key], {});\n",
              "          if (!dataTable) return;\n",
              "\n",
              "          const docLinkHtml = 'Like what you see? Visit the ' +\n",
              "            '<a target=\"_blank\" href=https://colab.research.google.com/notebooks/data_table.ipynb>data table notebook</a>'\n",
              "            + ' to learn more about interactive tables.';\n",
              "          element.innerHTML = '';\n",
              "          dataTable['output_type'] = 'display_data';\n",
              "          await google.colab.output.renderOutput(dataTable, element);\n",
              "          const docLink = document.createElement('div');\n",
              "          docLink.innerHTML = docLinkHtml;\n",
              "          element.appendChild(docLink);\n",
              "        }\n",
              "      </script>\n",
              "    </div>\n",
              "  </div>\n",
              "  "
            ],
            "text/plain": [
              "                         Name   Sex    Ticket        Cabin Embarked\n",
              "count                     891   891       891          204      891\n",
              "unique                    891     2       681          147        3\n",
              "top     Cairns, Mr. Alexander  male  CA. 2343  C23 C25 C27        S\n",
              "freq                        1   577         7            4      646"
            ]
          },
          "metadata": {},
          "execution_count": 38
        }
      ]
    },
    {
      "cell_type": "code",
      "source": [
        "X, y = train_df.drop(TARGET_NAME, axis=1), train_df[TARGET_NAME]"
      ],
      "metadata": {
        "id": "99miMza_xLTa"
      },
      "id": "99miMza_xLTa",
      "execution_count": 7,
      "outputs": []
    },
    {
      "cell_type": "code",
      "source": [
        "X_train, X_test, y_train, y_test = train_test_split(X, y, test_size=0.2, shuffle=True, stratify=y, random_state=1)"
      ],
      "metadata": {
        "id": "JM8Jly8J22bm"
      },
      "id": "JM8Jly8J22bm",
      "execution_count": 8,
      "outputs": []
    },
    {
      "cell_type": "code",
      "source": [
        "class Preprocessor(BaseEstimator, TransformerMixin):\n",
        "    def __init__(self, columns=None, target=TARGET_NAME):\n",
        "        self.columns = columns\n",
        "        self.upper_bound = None\n",
        "        self.temp = None\n",
        "        self.target = target\n",
        "\n",
        "    def fit(self, X, y=None):\n",
        "        # mark ouliers\n",
        "        q1, q3 = np.quantile(X['Fare'], 0.25), np.quantile(X['Fare'], 0.75)\n",
        "        self.upper_bound = q3 + 1.5 * (q3 - q1)\n",
        "\n",
        "        # get aggregation\n",
        "        if y is not None:\n",
        "            X_ = pd.concat([X, y], axis=1)\n",
        "            self.temp = X_.groupby(['Sex', 'Pclass']).agg({self.target: 'count'}).reset_index()\n",
        "            self.temp = self.temp.rename(columns={self.target: 'tar_count'})\n",
        "\n",
        "        return self\n",
        "\n",
        "    def transform(self, X_):\n",
        "        X = X_.copy()\n",
        "        # mark outliers\n",
        "        X['Mark'] = 0\n",
        "        X.loc[X['Fare'] > self.upper_bound, 'Mark'] = 1\n",
        "        \n",
        "        # drop non-informative and na columns\n",
        "        X.drop(['Ticket', 'Cabin'], axis=1, inplace=True)\n",
        "\n",
        "        # unite freq equal categories\n",
        "        X.loc[X['Embarked'] == 'Q', 'Embarked'] = 'S'\n",
        "\n",
        "        # Add target count feature\n",
        "        if self.temp is not None:\n",
        "            X = X.merge(self.temp, on=['Sex', 'Pclass'], how='left')\n",
        "\n",
        "        # add status\n",
        "        X['Status'] = X['Name'].str.extract(' ([A-Za-z]+)\\.', expand=False)\n",
        "        X['Status'] = X['Status'].replace(['Lady', 'Countess','Capt', 'Col', 'Don', 'Dr', \n",
        "                                                 'Major', 'Rev', 'Sir', 'Jonkheer', 'Dona', 'Master'], 'Single')\n",
        "        X['Status'] = X['Status'].replace('Mlle', 'Miss')\n",
        "        X['Status'] = X['Status'].replace('Ms', 'Miss')\n",
        "        X['Status'] = X['Status'].replace('Mme', 'Mrs')\n",
        "        X.drop('Name', axis=1, inplace=True)\n",
        "\n",
        "        # add family\n",
        "        X['Family'] = X['SibSp'] + X['Parch']\n",
        "\n",
        "        X['Pclass'] = X['Pclass'].astype(np.object)\n",
        "\n",
        "        return X\n",
        "\n",
        "class DataFrameR(BaseEstimator, TransformerMixin):\n",
        "    def __init__(self, columns, index=None):\n",
        "        self.columns = columns\n",
        "        self.index = index\n",
        "\n",
        "    def fit(self, X, y=None):\n",
        "        return self\n",
        "    \n",
        "    def transform(self, X):\n",
        "        assert len(self.columns) == X.shape[1], f'Number of columns {len(self.columns)} is not equal to data shape {X.shape[1]}'\n",
        "        if self.index is not None:\n",
        "            X_ = pd.DataFrame(X, columns=self.columns, index=self.index)\n",
        "        else:\n",
        "            X_ = pd.DataFrame(X, columns=self.columns)\n",
        "        return X_\n",
        "\n",
        "class ColumnSelector(BaseEstimator, TransformerMixin):\n",
        "    def __init__(self, columns):\n",
        "        self.columns = columns\n",
        "        \n",
        "    def fit(self, X, y=None):\n",
        "        return self\n",
        "    \n",
        "    def transform(self, X):\n",
        "        if not isinstance(X, pd.DataFrame):\n",
        "            return X\n",
        "        return X[self.columns]\n",
        "\n",
        "class BestSet(BaseEstimator, TransformerMixin):\n",
        "    def __init__(self, k_features=12, scoring=f1_score, test_size=0.2):\n",
        "        self.scoring = scoring\n",
        "        self.k_features = k_features\n",
        "        self.test_size = test_size\n",
        "\n",
        "    def fit(self, X, y):\n",
        "        X_train, X_test, y_train, y_test = train_test_split(X,\n",
        "                                                            y, \n",
        "                                                            test_size=self.test_size, \n",
        "                                                            stratify=y,\n",
        "                                                            random_state=1)\n",
        "        dim = X_train.shape[1]\n",
        "        self.indices_ = tuple(range(dim))\n",
        "        self.subsets_ = [self.indices_]\n",
        "        score = self._calc_score(X_train, y_train, X_test, y_test, self.indices_)\n",
        "        self.scores_ = [score]\n",
        "\n",
        "        while dim > self.k_features:\n",
        "            scores, subsets = [], []\n",
        "            for p in combinations(self.indices_, r=dim-1):\n",
        "                score = self._calc_score(X_train, y_train, X_test, y_test, p)\n",
        "                scores.append(score)\n",
        "                subsets.append(p)\n",
        "            best = np.argmax(scores)\n",
        "            self.indices_ = subsets[best]\n",
        "            self.subsets_.append(self.indices_)\n",
        "            dim -= 1\n",
        "            self.scores_.append(scores[best])\n",
        "        self.k_score_ = self.scores_[-1]\n",
        "        return self\n",
        "\n",
        "    def transform(self, X):\n",
        "        best_indices = self.subsets_[np.argmax(self.scores_)]\n",
        "        return X[:, best_indices]\n",
        "\n",
        "    def _calc_score(self, X_train, y_train, X_test, y_test, indices):\n",
        "        model = LGBMClassifier(boosting_type='goss',\n",
        "                               is_unbalance=True,\n",
        "                               max_depth=3,\n",
        "                               random_state=1)\n",
        "        model.fit(X_train[:, indices], y_train)\n",
        "        y_pred = model.predict(X_test[:, indices])\n",
        "        score = self.scoring(y_test, y_pred)\n",
        "        return score"
      ],
      "metadata": {
        "id": "Qy0Wue2vwoAg"
      },
      "id": "Qy0Wue2vwoAg",
      "execution_count": 10,
      "outputs": []
    },
    {
      "cell_type": "code",
      "source": [
        "one_hot_cols = ['Pclass', 'Status']\n",
        "bin_cols = ['Sex', 'Embarked']\n",
        "numerical_cols = ['Age', 'SibSp', 'Parch', 'Fare', 'tar_count', 'Family', 'Mark']\n",
        "\n",
        "one_hot = Pipeline(steps=[('selector_1', ColumnSelector(one_hot_cols)),\n",
        "                          ('imputer_1', SimpleImputer(strategy='most_frequent')),\n",
        "                          ('one_hot', ce.OneHotEncoder(return_df=True))\n",
        "])\n",
        "\n",
        "bin_enc = Pipeline(steps=[('selector_2', ColumnSelector(bin_cols)),\n",
        "                          ('imputer_2', SimpleImputer(strategy='most_frequent')),\n",
        "                          ('bin_enc', ce.MEstimateEncoder(m=2, return_df=True))\n",
        "])\n",
        "\n",
        "numerical_transformer = Pipeline(steps=[('selector_3', ColumnSelector(numerical_cols)),\n",
        "                                       ('imputer_3', IterativeImputer(random_state=1)),\n",
        "                                       ('scaler', MinMaxScaler()),\n",
        "                                       ('to_df', DataFrameR(numerical_cols)),\n",
        "])\n",
        "\n",
        "union = FeatureUnion(transformer_list=[('u1', one_hot),\n",
        "                                       ('u2', bin_enc),\n",
        "                                       ('u3', numerical_transformer)])\n",
        "\n",
        "\"\"\" not using\n",
        "col_transformer = ColumnTransformer(transformers=[\n",
        "                                                  ('bin', bin_enc, bin_cols),\n",
        "                                                  ('hot', one_hot, one_hot_cols),\n",
        "                                                  ('num', numerical_transformer, numerical_cols)\n",
        "], remainder='passthrough')\n",
        "\"\"\"\n",
        "\"\"\" cannot transform validation data with given transformers\n",
        "fit_params = {'lgbm__early_stopping_rounds': 15,  \n",
        "              'lgbm__eval_set': [(X_test, y_test)],  \n",
        "              'lgbm__eval_metric': 'f1',\n",
        "              'lgbm__verbose': False\n",
        "}\n",
        "\"\"\"\n",
        "model_params = {\n",
        "                'boosting_type':'goss',\n",
        "                'max_depth': 4,\n",
        "                'learning_rate':0.1,\n",
        "                #'reg_alpha': 3.5,\n",
        "                'reg_lambda': 10.55,\n",
        "                'objective': 'binary',\n",
        "                'n_estimators': 800,\n",
        "                'n_jobs': -1,\n",
        "                'subsample': 0.6,\n",
        "                'colsample_bytree': 0.8,\n",
        "                'num_leaves': 31,\n",
        "                'is_unbalanced': True,\n",
        "                #'max_bin': 165,\n",
        "                #'min_child_samples': 253,\n",
        "                #'min_child_weight': 0.1, \n",
        "                #'min_split_gain': 0.18,\n",
        "                #'pos_bagging_fraction': 0.5,\n",
        "                'random_state': 1\n",
        "}\n",
        "\n",
        "prep_pipe = Pipeline(steps=[\n",
        "                            ('preprocessor', Preprocessor()),\n",
        "                            ('col_trans', union),\n",
        "                            ('best_cols', BestSet()),\n",
        "                            ('sampler', SMOTEENN(sampling_strategy=1., random_state=1)),\n",
        "                            #('lgbm', LGBMClassifier(**model_params))\n",
        "                            ('forest', RandomForestClassifier(n_estimators=100, \n",
        "                                                              max_depth=4,\n",
        "                                                              max_features='sqrt',\n",
        "                                                              class_weight='balanced_subsample',\n",
        "                                                              random_state=1))\n",
        "])"
      ],
      "metadata": {
        "id": "6fJvBxpB4zMd"
      },
      "id": "6fJvBxpB4zMd",
      "execution_count": 11,
      "outputs": []
    },
    {
      "cell_type": "code",
      "source": [
        "def objective(trial):\n",
        "    \"\"\"\n",
        "    param_boost = {\n",
        "                'boosting_type': trial.suggest_categorical('boosting_type', ['goss', 'gbdt']),\n",
        "                'max_depth': trial.suggest_int('max_depth', 3, 7),\n",
        "                'learning_rate': trial.suggest_float('learning_rate', 0.03, 0.5),\n",
        "                'reg_alpha': trial.suggest_float('reg_alpha', 1., 10.8),\n",
        "                'reg_lambda': trial.suggest_float('reg_lambda', 1., 10.8),\n",
        "                'objective': 'binary',\n",
        "                'n_estimators': trial.suggest_int('n_estimators', 50, 200),\n",
        "                'n_jobs': -1,\n",
        "                'subsample': trial.suggest_float('subsample', 0.3, 1.),\n",
        "                'colsample_bytree': trial.suggest_float('colsample_bytree', 0.3, 1.),\n",
        "                'num_leaves': trial.suggest_int('num_leaves', 5, 45),\n",
        "                'is_unbalanced': True,\n",
        "                'max_bin': trial.suggest_int('max_bin', 50, 255),\n",
        "                'min_child_samples': trial.suggest_int('min_child_samples', 165, 255),\n",
        "                'min_child_weight': trial.suggest_float('min_child_weight', 0.1, 0.5), \n",
        "                'min_split_gain': trial.suggest_float('min_split_gain', 0.05, 0.25),\n",
        "                'pos_bagging_fraction': trial.suggest_float('pos_bagging_fraction', 0.5, 0.7),\n",
        "                'random_state': 1\n",
        "    }\n",
        "    \"\"\"\n",
        "    param_forest = {\n",
        "                    'n_estimators': trial.suggest_int('n_estimators', 50, 1000),\n",
        "                    'criterion': trial.suggest_categorical('criterion', ['gini', 'entropy']),\n",
        "                    'max_depth': trial.suggest_int('max_depth', 3, 9),\n",
        "                    'min_samples_split': trial.suggest_int('min_samples_split', 2, 15),\n",
        "                    'min_samples_leaf': trial.suggest_int('min_samples_leaf', 1, 15),\n",
        "                    'min_weight_fraction_leaf': trial.suggest_float('min_weight_fraction_leaf', 0., .5),\n",
        "                    'max_features': trial.suggest_categorical('max_features', ['auto', 'sqrt', 'log2']),\n",
        "                    'min_impurity_decrease': trial.suggest_float('min_impurity_decrease', 0., 2.),\n",
        "                    'bootstrap': trial.suggest_int('bootstrap', 0, 1),\n",
        "                    'n_jobs': -1,\n",
        "                    'random_state': 1,\n",
        "                    'warm_start': trial.suggest_int('warm_start', 0, 1),\n",
        "                    'class_weight': trial.suggest_categorical('class_weight', ['balanced', 'balanced_subsample']),\n",
        "                    'ccp_alpha': trial.suggest_float('ccp_alpha', 0., 3.),\n",
        "                    'max_samples': trial.suggest_float('max_samples', 0., 1.)\n",
        "    }\n",
        "    if not param_forest['bootstrap']:\n",
        "        param_forest['max_samples'] = None\n",
        "    prep_pipe = Pipeline(steps=[\n",
        "                            ('preprocessor', Preprocessor()),\n",
        "                            ('col_trans', union),\n",
        "                            ('best_cols', BestSet()),\n",
        "                            ('sampler', SMOTEENN(sampling_strategy=1., random_state=1)),\n",
        "                            #('lgbm', LGBMClassifier(**param_boost))\n",
        "                            ('forest', RandomForestClassifier(**param_forest))\n",
        "    ])\n",
        "    prep_pipe.fit(X_train, y_train)\n",
        "    \n",
        "    y_score = prep_pipe.predict_proba(X_test)[:, 1]\n",
        "    score = roc_auc_score(y_test, y_score)\n",
        "    \n",
        "    #y_pred = prep_pipe.predict(X_test)\n",
        "    #score = accuracy_score(y_test, y_pred)\n",
        "    \n",
        "    return score"
      ],
      "metadata": {
        "id": "TovmIUEjPfT-"
      },
      "id": "TovmIUEjPfT-",
      "execution_count": 14,
      "outputs": []
    },
    {
      "cell_type": "code",
      "source": [
        "study = optuna.create_study(sampler=TPESampler(), direction='maximize')\n",
        "study.optimize(objective, n_trials=1000, timeout=3600)\n",
        "print(f'Number of completed trials: {len(study.trials)}')\n",
        "print('Best trial')\n",
        "trial = study.best_trial\n",
        "print(f'Best score: {trial.value}')\n",
        "print('Best params')\n",
        "for key, value in trial.params.items():\n",
        "    print(f'{key}: {value}')"
      ],
      "metadata": {
        "id": "AHgjRiadQOzu"
      },
      "id": "AHgjRiadQOzu",
      "execution_count": null,
      "outputs": []
    },
    {
      "cell_type": "code",
      "source": [
        "\"\"\"\n",
        "n_estimators: 459\n",
        "criterion: entropy\n",
        "max_depth: 8\n",
        "min_samples_split: 8\n",
        "min_samples_leaf: 2\n",
        "min_weight_fraction_leaf: 0.2782414067690383\n",
        "max_features: sqrt\n",
        "min_impurity_decrease: 0.1421249076762276\n",
        "bootstrap: 1\n",
        "warm_start: 1\n",
        "class_weight: balanced\n",
        "ccp_alpha: 0.2879036467270316\n",
        "max_samples: 0.3445511272954236\n",
        "\"\"\""
      ],
      "metadata": {
        "id": "I8fU4esHIUG0"
      },
      "id": "I8fU4esHIUG0",
      "execution_count": null,
      "outputs": []
    },
    {
      "cell_type": "code",
      "source": [
        "optuna.visualization.plot_param_importances(study)"
      ],
      "metadata": {
        "colab": {
          "base_uri": "https://localhost:8080/",
          "height": 542
        },
        "id": "KP_U_wM7ugLR",
        "outputId": "9e06fa23-91e6-4106-dba2-b323444fd02d"
      },
      "id": "KP_U_wM7ugLR",
      "execution_count": 21,
      "outputs": [
        {
          "output_type": "display_data",
          "data": {
            "text/html": [
              "<html>\n",
              "<head><meta charset=\"utf-8\" /></head>\n",
              "<body>\n",
              "    <div>            <script src=\"https://cdnjs.cloudflare.com/ajax/libs/mathjax/2.7.5/MathJax.js?config=TeX-AMS-MML_SVG\"></script><script type=\"text/javascript\">if (window.MathJax) {MathJax.Hub.Config({SVG: {font: \"STIX-Web\"}});}</script>                <script type=\"text/javascript\">window.PlotlyConfig = {MathJaxConfig: 'local'};</script>\n",
              "        <script src=\"https://cdn.plot.ly/plotly-2.8.3.min.js\"></script>                <div id=\"0e0bc07e-70c4-489f-b5bb-ac811da92eb9\" class=\"plotly-graph-div\" style=\"height:525px; width:100%;\"></div>            <script type=\"text/javascript\">                                    window.PLOTLYENV=window.PLOTLYENV || {};                                    if (document.getElementById(\"0e0bc07e-70c4-489f-b5bb-ac811da92eb9\")) {                    Plotly.newPlot(                        \"0e0bc07e-70c4-489f-b5bb-ac811da92eb9\",                        [{\"cliponaxis\":false,\"hovertemplate\":[\"min_samples_split (IntUniformDistribution): 0.0007652669194961869<extra></extra>\",\"class_weight (CategoricalDistribution): 0.0008703890774475732<extra></extra>\",\"max_features (CategoricalDistribution): 0.0011209537749949379<extra></extra>\",\"n_estimators (IntUniformDistribution): 0.0015062086560434108<extra></extra>\",\"bootstrap (IntUniformDistribution): 0.0016296265267069041<extra></extra>\",\"min_weight_fraction_leaf (UniformDistribution): 0.001683301520594172<extra></extra>\",\"warm_start (IntUniformDistribution): 0.0019955787364758846<extra></extra>\",\"max_depth (IntUniformDistribution): 0.002079213404486404<extra></extra>\",\"criterion (CategoricalDistribution): 0.0026148308057859656<extra></extra>\",\"min_samples_leaf (IntUniformDistribution): 0.00343640988802092<extra></extra>\",\"max_samples (UniformDistribution): 0.005685516584787623<extra></extra>\",\"min_impurity_decrease (UniformDistribution): 0.254701013583977<extra></extra>\",\"ccp_alpha (UniformDistribution): 0.7219116905211832<extra></extra>\"],\"marker\":{\"color\":\"rgb(66,146,198)\"},\"orientation\":\"h\",\"text\":[\"0.0007652669194961869\",\"0.0008703890774475732\",\"0.0011209537749949379\",\"0.0015062086560434108\",\"0.0016296265267069041\",\"0.001683301520594172\",\"0.0019955787364758846\",\"0.002079213404486404\",\"0.0026148308057859656\",\"0.00343640988802092\",\"0.005685516584787623\",\"0.254701013583977\",\"0.7219116905211832\"],\"textposition\":\"outside\",\"texttemplate\":\"%{text:.2f}\",\"x\":[0.0007652669194961869,0.0008703890774475732,0.0011209537749949379,0.0015062086560434108,0.0016296265267069041,0.001683301520594172,0.0019955787364758846,0.002079213404486404,0.0026148308057859656,0.00343640988802092,0.005685516584787623,0.254701013583977,0.7219116905211832],\"y\":[\"min_samples_split\",\"class_weight\",\"max_features\",\"n_estimators\",\"bootstrap\",\"min_weight_fraction_leaf\",\"warm_start\",\"max_depth\",\"criterion\",\"min_samples_leaf\",\"max_samples\",\"min_impurity_decrease\",\"ccp_alpha\"],\"type\":\"bar\"}],                        {\"showlegend\":false,\"title\":{\"text\":\"Hyperparameter Importances\"},\"xaxis\":{\"title\":{\"text\":\"Importance for Objective Value\"}},\"yaxis\":{\"title\":{\"text\":\"Hyperparameter\"}},\"template\":{\"data\":{\"bar\":[{\"error_x\":{\"color\":\"#2a3f5f\"},\"error_y\":{\"color\":\"#2a3f5f\"},\"marker\":{\"line\":{\"color\":\"#E5ECF6\",\"width\":0.5},\"pattern\":{\"fillmode\":\"overlay\",\"size\":10,\"solidity\":0.2}},\"type\":\"bar\"}],\"barpolar\":[{\"marker\":{\"line\":{\"color\":\"#E5ECF6\",\"width\":0.5},\"pattern\":{\"fillmode\":\"overlay\",\"size\":10,\"solidity\":0.2}},\"type\":\"barpolar\"}],\"carpet\":[{\"aaxis\":{\"endlinecolor\":\"#2a3f5f\",\"gridcolor\":\"white\",\"linecolor\":\"white\",\"minorgridcolor\":\"white\",\"startlinecolor\":\"#2a3f5f\"},\"baxis\":{\"endlinecolor\":\"#2a3f5f\",\"gridcolor\":\"white\",\"linecolor\":\"white\",\"minorgridcolor\":\"white\",\"startlinecolor\":\"#2a3f5f\"},\"type\":\"carpet\"}],\"choropleth\":[{\"colorbar\":{\"outlinewidth\":0,\"ticks\":\"\"},\"type\":\"choropleth\"}],\"contour\":[{\"colorbar\":{\"outlinewidth\":0,\"ticks\":\"\"},\"colorscale\":[[0.0,\"#0d0887\"],[0.1111111111111111,\"#46039f\"],[0.2222222222222222,\"#7201a8\"],[0.3333333333333333,\"#9c179e\"],[0.4444444444444444,\"#bd3786\"],[0.5555555555555556,\"#d8576b\"],[0.6666666666666666,\"#ed7953\"],[0.7777777777777778,\"#fb9f3a\"],[0.8888888888888888,\"#fdca26\"],[1.0,\"#f0f921\"]],\"type\":\"contour\"}],\"contourcarpet\":[{\"colorbar\":{\"outlinewidth\":0,\"ticks\":\"\"},\"type\":\"contourcarpet\"}],\"heatmap\":[{\"colorbar\":{\"outlinewidth\":0,\"ticks\":\"\"},\"colorscale\":[[0.0,\"#0d0887\"],[0.1111111111111111,\"#46039f\"],[0.2222222222222222,\"#7201a8\"],[0.3333333333333333,\"#9c179e\"],[0.4444444444444444,\"#bd3786\"],[0.5555555555555556,\"#d8576b\"],[0.6666666666666666,\"#ed7953\"],[0.7777777777777778,\"#fb9f3a\"],[0.8888888888888888,\"#fdca26\"],[1.0,\"#f0f921\"]],\"type\":\"heatmap\"}],\"heatmapgl\":[{\"colorbar\":{\"outlinewidth\":0,\"ticks\":\"\"},\"colorscale\":[[0.0,\"#0d0887\"],[0.1111111111111111,\"#46039f\"],[0.2222222222222222,\"#7201a8\"],[0.3333333333333333,\"#9c179e\"],[0.4444444444444444,\"#bd3786\"],[0.5555555555555556,\"#d8576b\"],[0.6666666666666666,\"#ed7953\"],[0.7777777777777778,\"#fb9f3a\"],[0.8888888888888888,\"#fdca26\"],[1.0,\"#f0f921\"]],\"type\":\"heatmapgl\"}],\"histogram\":[{\"marker\":{\"pattern\":{\"fillmode\":\"overlay\",\"size\":10,\"solidity\":0.2}},\"type\":\"histogram\"}],\"histogram2d\":[{\"colorbar\":{\"outlinewidth\":0,\"ticks\":\"\"},\"colorscale\":[[0.0,\"#0d0887\"],[0.1111111111111111,\"#46039f\"],[0.2222222222222222,\"#7201a8\"],[0.3333333333333333,\"#9c179e\"],[0.4444444444444444,\"#bd3786\"],[0.5555555555555556,\"#d8576b\"],[0.6666666666666666,\"#ed7953\"],[0.7777777777777778,\"#fb9f3a\"],[0.8888888888888888,\"#fdca26\"],[1.0,\"#f0f921\"]],\"type\":\"histogram2d\"}],\"histogram2dcontour\":[{\"colorbar\":{\"outlinewidth\":0,\"ticks\":\"\"},\"colorscale\":[[0.0,\"#0d0887\"],[0.1111111111111111,\"#46039f\"],[0.2222222222222222,\"#7201a8\"],[0.3333333333333333,\"#9c179e\"],[0.4444444444444444,\"#bd3786\"],[0.5555555555555556,\"#d8576b\"],[0.6666666666666666,\"#ed7953\"],[0.7777777777777778,\"#fb9f3a\"],[0.8888888888888888,\"#fdca26\"],[1.0,\"#f0f921\"]],\"type\":\"histogram2dcontour\"}],\"mesh3d\":[{\"colorbar\":{\"outlinewidth\":0,\"ticks\":\"\"},\"type\":\"mesh3d\"}],\"parcoords\":[{\"line\":{\"colorbar\":{\"outlinewidth\":0,\"ticks\":\"\"}},\"type\":\"parcoords\"}],\"pie\":[{\"automargin\":true,\"type\":\"pie\"}],\"scatter\":[{\"marker\":{\"colorbar\":{\"outlinewidth\":0,\"ticks\":\"\"}},\"type\":\"scatter\"}],\"scatter3d\":[{\"line\":{\"colorbar\":{\"outlinewidth\":0,\"ticks\":\"\"}},\"marker\":{\"colorbar\":{\"outlinewidth\":0,\"ticks\":\"\"}},\"type\":\"scatter3d\"}],\"scattercarpet\":[{\"marker\":{\"colorbar\":{\"outlinewidth\":0,\"ticks\":\"\"}},\"type\":\"scattercarpet\"}],\"scattergeo\":[{\"marker\":{\"colorbar\":{\"outlinewidth\":0,\"ticks\":\"\"}},\"type\":\"scattergeo\"}],\"scattergl\":[{\"marker\":{\"colorbar\":{\"outlinewidth\":0,\"ticks\":\"\"}},\"type\":\"scattergl\"}],\"scattermapbox\":[{\"marker\":{\"colorbar\":{\"outlinewidth\":0,\"ticks\":\"\"}},\"type\":\"scattermapbox\"}],\"scatterpolar\":[{\"marker\":{\"colorbar\":{\"outlinewidth\":0,\"ticks\":\"\"}},\"type\":\"scatterpolar\"}],\"scatterpolargl\":[{\"marker\":{\"colorbar\":{\"outlinewidth\":0,\"ticks\":\"\"}},\"type\":\"scatterpolargl\"}],\"scatterternary\":[{\"marker\":{\"colorbar\":{\"outlinewidth\":0,\"ticks\":\"\"}},\"type\":\"scatterternary\"}],\"surface\":[{\"colorbar\":{\"outlinewidth\":0,\"ticks\":\"\"},\"colorscale\":[[0.0,\"#0d0887\"],[0.1111111111111111,\"#46039f\"],[0.2222222222222222,\"#7201a8\"],[0.3333333333333333,\"#9c179e\"],[0.4444444444444444,\"#bd3786\"],[0.5555555555555556,\"#d8576b\"],[0.6666666666666666,\"#ed7953\"],[0.7777777777777778,\"#fb9f3a\"],[0.8888888888888888,\"#fdca26\"],[1.0,\"#f0f921\"]],\"type\":\"surface\"}],\"table\":[{\"cells\":{\"fill\":{\"color\":\"#EBF0F8\"},\"line\":{\"color\":\"white\"}},\"header\":{\"fill\":{\"color\":\"#C8D4E3\"},\"line\":{\"color\":\"white\"}},\"type\":\"table\"}]},\"layout\":{\"annotationdefaults\":{\"arrowcolor\":\"#2a3f5f\",\"arrowhead\":0,\"arrowwidth\":1},\"autotypenumbers\":\"strict\",\"coloraxis\":{\"colorbar\":{\"outlinewidth\":0,\"ticks\":\"\"}},\"colorscale\":{\"diverging\":[[0,\"#8e0152\"],[0.1,\"#c51b7d\"],[0.2,\"#de77ae\"],[0.3,\"#f1b6da\"],[0.4,\"#fde0ef\"],[0.5,\"#f7f7f7\"],[0.6,\"#e6f5d0\"],[0.7,\"#b8e186\"],[0.8,\"#7fbc41\"],[0.9,\"#4d9221\"],[1,\"#276419\"]],\"sequential\":[[0.0,\"#0d0887\"],[0.1111111111111111,\"#46039f\"],[0.2222222222222222,\"#7201a8\"],[0.3333333333333333,\"#9c179e\"],[0.4444444444444444,\"#bd3786\"],[0.5555555555555556,\"#d8576b\"],[0.6666666666666666,\"#ed7953\"],[0.7777777777777778,\"#fb9f3a\"],[0.8888888888888888,\"#fdca26\"],[1.0,\"#f0f921\"]],\"sequentialminus\":[[0.0,\"#0d0887\"],[0.1111111111111111,\"#46039f\"],[0.2222222222222222,\"#7201a8\"],[0.3333333333333333,\"#9c179e\"],[0.4444444444444444,\"#bd3786\"],[0.5555555555555556,\"#d8576b\"],[0.6666666666666666,\"#ed7953\"],[0.7777777777777778,\"#fb9f3a\"],[0.8888888888888888,\"#fdca26\"],[1.0,\"#f0f921\"]]},\"colorway\":[\"#636efa\",\"#EF553B\",\"#00cc96\",\"#ab63fa\",\"#FFA15A\",\"#19d3f3\",\"#FF6692\",\"#B6E880\",\"#FF97FF\",\"#FECB52\"],\"font\":{\"color\":\"#2a3f5f\"},\"geo\":{\"bgcolor\":\"white\",\"lakecolor\":\"white\",\"landcolor\":\"#E5ECF6\",\"showlakes\":true,\"showland\":true,\"subunitcolor\":\"white\"},\"hoverlabel\":{\"align\":\"left\"},\"hovermode\":\"closest\",\"mapbox\":{\"style\":\"light\"},\"paper_bgcolor\":\"white\",\"plot_bgcolor\":\"#E5ECF6\",\"polar\":{\"angularaxis\":{\"gridcolor\":\"white\",\"linecolor\":\"white\",\"ticks\":\"\"},\"bgcolor\":\"#E5ECF6\",\"radialaxis\":{\"gridcolor\":\"white\",\"linecolor\":\"white\",\"ticks\":\"\"}},\"scene\":{\"xaxis\":{\"backgroundcolor\":\"#E5ECF6\",\"gridcolor\":\"white\",\"gridwidth\":2,\"linecolor\":\"white\",\"showbackground\":true,\"ticks\":\"\",\"zerolinecolor\":\"white\"},\"yaxis\":{\"backgroundcolor\":\"#E5ECF6\",\"gridcolor\":\"white\",\"gridwidth\":2,\"linecolor\":\"white\",\"showbackground\":true,\"ticks\":\"\",\"zerolinecolor\":\"white\"},\"zaxis\":{\"backgroundcolor\":\"#E5ECF6\",\"gridcolor\":\"white\",\"gridwidth\":2,\"linecolor\":\"white\",\"showbackground\":true,\"ticks\":\"\",\"zerolinecolor\":\"white\"}},\"shapedefaults\":{\"line\":{\"color\":\"#2a3f5f\"}},\"ternary\":{\"aaxis\":{\"gridcolor\":\"white\",\"linecolor\":\"white\",\"ticks\":\"\"},\"baxis\":{\"gridcolor\":\"white\",\"linecolor\":\"white\",\"ticks\":\"\"},\"bgcolor\":\"#E5ECF6\",\"caxis\":{\"gridcolor\":\"white\",\"linecolor\":\"white\",\"ticks\":\"\"}},\"title\":{\"x\":0.05},\"xaxis\":{\"automargin\":true,\"gridcolor\":\"white\",\"linecolor\":\"white\",\"ticks\":\"\",\"title\":{\"standoff\":15},\"zerolinecolor\":\"white\",\"zerolinewidth\":2},\"yaxis\":{\"automargin\":true,\"gridcolor\":\"white\",\"linecolor\":\"white\",\"ticks\":\"\",\"title\":{\"standoff\":15},\"zerolinecolor\":\"white\",\"zerolinewidth\":2}}}},                        {\"responsive\": true}                    ).then(function(){\n",
              "                            \n",
              "var gd = document.getElementById('0e0bc07e-70c4-489f-b5bb-ac811da92eb9');\n",
              "var x = new MutationObserver(function (mutations, observer) {{\n",
              "        var display = window.getComputedStyle(gd).display;\n",
              "        if (!display || display === 'none') {{\n",
              "            console.log([gd, 'removed!']);\n",
              "            Plotly.purge(gd);\n",
              "            observer.disconnect();\n",
              "        }}\n",
              "}});\n",
              "\n",
              "// Listen for the removal of the full notebook cells\n",
              "var notebookContainer = gd.closest('#notebook-container');\n",
              "if (notebookContainer) {{\n",
              "    x.observe(notebookContainer, {childList: true});\n",
              "}}\n",
              "\n",
              "// Listen for the clearing of the current output cell\n",
              "var outputEl = gd.closest('.output');\n",
              "if (outputEl) {{\n",
              "    x.observe(outputEl, {childList: true});\n",
              "}}\n",
              "\n",
              "                        })                };                            </script>        </div>\n",
              "</body>\n",
              "</html>"
            ]
          },
          "metadata": {}
        }
      ]
    },
    {
      "cell_type": "code",
      "source": [
        "prep_pipe = Pipeline(steps=[\n",
        "                            ('preprocessor', Preprocessor()),\n",
        "                            ('col_trans', union),\n",
        "                            ('best_cols', BestSet()),\n",
        "                            ('sampler', SMOTEENN(sampling_strategy=1., random_state=1)),\n",
        "                            #('lgbm', LGBMClassifier(**trial.params,\n",
        "                            #                        is_unbalanced=True,\n",
        "                            #                       random_state=1))\n",
        "                            ('forest', RandomForestClassifier(**trial.params))\n",
        "])"
      ],
      "metadata": {
        "id": "XKVd-3bCUf6R"
      },
      "id": "XKVd-3bCUf6R",
      "execution_count": 19,
      "outputs": []
    },
    {
      "cell_type": "code",
      "source": [
        "prep_pipe[-1].bootstrap = True\n",
        "\n",
        "prep_pipe.fit(X_train, y_train)\n",
        "train_preds = prep_pipe.predict(X_train)\n",
        "test_preds = prep_pipe.predict(X_test)\n",
        "train_probas = prep_pipe.predict_proba(X_train)[:,1]\n",
        "test_probas = prep_pipe.predict_proba(X_test)[:,1]\n",
        "print('Train', classification_report(y_train, train_preds, digits=3), sep='\\n')\n",
        "print('Test', classification_report(y_test, test_preds, digits=3), sep='\\n')\n",
        "print(f'Train roc_auc: {roc_auc_score(y_train, train_probas):.4f}')\n",
        "print(f'Test roc_auc: {roc_auc_score(y_test, test_probas):.4f}')"
      ],
      "metadata": {
        "colab": {
          "base_uri": "https://localhost:8080/"
        },
        "id": "qAG-fm7K9YUk",
        "outputId": "7f364bcc-47e5-4062-9cf0-30935fee0203"
      },
      "id": "qAG-fm7K9YUk",
      "execution_count": 20,
      "outputs": [
        {
          "output_type": "stream",
          "name": "stdout",
          "text": [
            "Train\n",
            "              precision    recall  f1-score   support\n",
            "\n",
            "           0      0.806     0.852     0.828       439\n",
            "           1      0.738     0.670     0.702       273\n",
            "\n",
            "    accuracy                          0.782       712\n",
            "   macro avg      0.772     0.761     0.765       712\n",
            "weighted avg      0.780     0.782     0.780       712\n",
            "\n",
            "Test\n",
            "              precision    recall  f1-score   support\n",
            "\n",
            "           0      0.832     0.855     0.843       110\n",
            "           1      0.758     0.725     0.741        69\n",
            "\n",
            "    accuracy                          0.804       179\n",
            "   macro avg      0.795     0.790     0.792       179\n",
            "weighted avg      0.803     0.804     0.804       179\n",
            "\n",
            "Train roc_auc: 0.8448\n",
            "Test roc_auc: 0.8642\n"
          ]
        }
      ]
    },
    {
      "cell_type": "code",
      "metadata": {
        "id": "4be610e6"
      },
      "source": [
        "def cross_validation(clf, X, y, scoring='roc_auc'):\n",
        "    scores = cross_val_score(estimator=clf, X=X, y=y, cv=10, n_jobs=-1, scoring=scoring)\n",
        "    print(f'Меры правильности перекрекстной оценки: {scores}')\n",
        "    print(f'Точность перекретсной оценки: {np.mean(scores):.3f} +/- {np.std(scores):.3f}')        "
      ],
      "id": "4be610e6",
      "execution_count": 22,
      "outputs": []
    },
    {
      "cell_type": "code",
      "source": [
        "cross_validation(prep_pipe, X_train, y_train, scoring='roc_auc')"
      ],
      "metadata": {
        "colab": {
          "base_uri": "https://localhost:8080/"
        },
        "id": "639eECnDKRpn",
        "outputId": "00fd8837-067c-4117-dfea-59b966b4e250"
      },
      "id": "639eECnDKRpn",
      "execution_count": 23,
      "outputs": [
        {
          "output_type": "stream",
          "name": "stdout",
          "text": [
            "Меры правильности перекрекстной оценки: [0.84253247 0.90340909 0.80232558 0.8989899  0.78829966 0.87752525\n",
            " 0.80723906 0.93055556 0.85563973 0.75589226]\n",
            "Точность перекретсной оценки: 0.846 +/- 0.054\n"
          ]
        }
      ]
    },
    {
      "cell_type": "code",
      "metadata": {
        "id": "3fa172f3",
        "outputId": "21553920-824d-45c8-bd5d-1deca0d1d161"
      },
      "source": [
        "plt.figure(figsize=(10, 8))\n",
        "plt.barh(df_res.index, df_res['Train'], alpha=0.5, color='orange', label='train scores')\n",
        "plt.barh(df_res.index, df_res['Test'], alpha=0.5, color='gray', label='test scores')\n",
        "plt.axvline(0.825, color='green', linestyle='--', label='roc_auc threshold')\n",
        "plt.axvline(df_res['Test'].max(), color='red', linestyle=':', label='roc_auc max')\n",
        "for index, value in enumerate(df_res['Test']):\n",
        "    plt.text(value, index, f'{value:.3f}', fontsize=9)\n",
        "plt.legend(loc='best')\n",
        "plt.xscale('log')\n",
        "plt.show()"
      ],
      "id": "3fa172f3",
      "execution_count": null,
      "outputs": [
        {
          "data": {
            "image/png": "[encoded data removed]",
            "text/plain": [
              "<Figure size 720x576 with 1 Axes>"
            ]
          },
          "metadata": {
            "needs_background": "light"
          },
          "output_type": "display_data"
        }
      ]
    },
    {
      "cell_type": "code",
      "source": [
        "sub_preds = prep_pipe.predict(test_df)"
      ],
      "metadata": {
        "id": "bOd79IVhVtl3"
      },
      "id": "bOd79IVhVtl3",
      "execution_count": null,
      "outputs": []
    },
    {
      "cell_type": "code",
      "source": [
        "sub = pd.DataFrame(np.stack((test_df.index.values, sub_preds), axis=1), columns=['PassengerId', TARGET_NAME])"
      ],
      "metadata": {
        "id": "9ZB1fHvpV33U"
      },
      "id": "9ZB1fHvpV33U",
      "execution_count": null,
      "outputs": []
    },
    {
      "cell_type": "code",
      "source": [
        "sub.head()"
      ],
      "metadata": {
        "colab": {
          "base_uri": "https://localhost:8080/",
          "height": 206
        },
        "id": "yR_M1rCTXBrd",
        "outputId": "fe6712d7-34af-4a27-d6e1-24fa94f3cb57"
      },
      "id": "yR_M1rCTXBrd",
      "execution_count": null,
      "outputs": [
        {
          "output_type": "execute_result",
          "data": {
            "text/html": [
              "\n",
              "  <div id=\"df-5c638e1d-348f-4cb4-ba31-6f5e414cfdf6\">\n",
              "    <div class=\"colab-df-container\">\n",
              "      <div>\n",
              "<style scoped>\n",
              "    .dataframe tbody tr th:only-of-type {\n",
              "        vertical-align: middle;\n",
              "    }\n",
              "\n",
              "    .dataframe tbody tr th {\n",
              "        vertical-align: top;\n",
              "    }\n",
              "\n",
              "    .dataframe thead th {\n",
              "        text-align: right;\n",
              "    }\n",
              "</style>\n",
              "<table border=\"1\" class=\"dataframe\">\n",
              "  <thead>\n",
              "    <tr style=\"text-align: right;\">\n",
              "      <th></th>\n",
              "      <th>PassengerId</th>\n",
              "      <th>Survived</th>\n",
              "    </tr>\n",
              "  </thead>\n",
              "  <tbody>\n",
              "    <tr>\n",
              "      <th>0</th>\n",
              "      <td>892</td>\n",
              "      <td>0</td>\n",
              "    </tr>\n",
              "    <tr>\n",
              "      <th>1</th>\n",
              "      <td>893</td>\n",
              "      <td>1</td>\n",
              "    </tr>\n",
              "    <tr>\n",
              "      <th>2</th>\n",
              "      <td>894</td>\n",
              "      <td>0</td>\n",
              "    </tr>\n",
              "    <tr>\n",
              "      <th>3</th>\n",
              "      <td>895</td>\n",
              "      <td>0</td>\n",
              "    </tr>\n",
              "    <tr>\n",
              "      <th>4</th>\n",
              "      <td>896</td>\n",
              "      <td>1</td>\n",
              "    </tr>\n",
              "  </tbody>\n",
              "</table>\n",
              "</div>\n",
              "      <button class=\"colab-df-convert\" onclick=\"convertToInteractive('df-5c638e1d-348f-4cb4-ba31-6f5e414cfdf6')\"\n",
              "              title=\"Convert this dataframe to an interactive table.\"\n",
              "              style=\"display:none;\">\n",
              "        \n",
              "  <svg xmlns=\"http://www.w3.org/2000/svg\" height=\"24px\"viewBox=\"0 0 24 24\"\n",
              "       width=\"24px\">\n",
              "    <path d=\"M0 0h24v24H0V0z\" fill=\"none\"/>\n",
              "    <path d=\"M18.56 5.44l.94 2.06.94-2.06 2.06-.94-2.06-.94-.94-2.06-.94 2.06-2.06.94zm-11 1L8.5 8.5l.94-2.06 2.06-.94-2.06-.94L8.5 2.5l-.94 2.06-2.06.94zm10 10l.94 2.06.94-2.06 2.06-.94-2.06-.94-.94-2.06-.94 2.06-2.06.94z\"/><path d=\"M17.41 7.96l-1.37-1.37c-.4-.4-.92-.59-1.43-.59-.52 0-1.04.2-1.43.59L10.3 9.45l-7.72 7.72c-.78.78-.78 2.05 0 2.83L4 21.41c.39.39.9.59 1.41.59.51 0 1.02-.2 1.41-.59l7.78-7.78 2.81-2.81c.8-.78.8-2.07 0-2.86zM5.41 20L4 18.59l7.72-7.72 1.47 1.35L5.41 20z\"/>\n",
              "  </svg>\n",
              "      </button>\n",
              "      \n",
              "  <style>\n",
              "    .colab-df-container {\n",
              "      display:flex;\n",
              "      flex-wrap:wrap;\n",
              "      gap: 12px;\n",
              "    }\n",
              "\n",
              "    .colab-df-convert {\n",
              "      background-color: #E8F0FE;\n",
              "      border: none;\n",
              "      border-radius: 50%;\n",
              "      cursor: pointer;\n",
              "      display: none;\n",
              "      fill: #1967D2;\n",
              "      height: 32px;\n",
              "      padding: 0 0 0 0;\n",
              "      width: 32px;\n",
              "    }\n",
              "\n",
              "    .colab-df-convert:hover {\n",
              "      background-color: #E2EBFA;\n",
              "      box-shadow: 0px 1px 2px rgba(60, 64, 67, 0.3), 0px 1px 3px 1px rgba(60, 64, 67, 0.15);\n",
              "      fill: #174EA6;\n",
              "    }\n",
              "\n",
              "    [theme=dark] .colab-df-convert {\n",
              "      background-color: #3B4455;\n",
              "      fill: #D2E3FC;\n",
              "    }\n",
              "\n",
              "    [theme=dark] .colab-df-convert:hover {\n",
              "      background-color: #434B5C;\n",
              "      box-shadow: 0px 1px 3px 1px rgba(0, 0, 0, 0.15);\n",
              "      filter: drop-shadow(0px 1px 2px rgba(0, 0, 0, 0.3));\n",
              "      fill: #FFFFFF;\n",
              "    }\n",
              "  </style>\n",
              "\n",
              "      <script>\n",
              "        const buttonEl =\n",
              "          document.querySelector('#df-5c638e1d-348f-4cb4-ba31-6f5e414cfdf6 button.colab-df-convert');\n",
              "        buttonEl.style.display =\n",
              "          google.colab.kernel.accessAllowed ? 'block' : 'none';\n",
              "\n",
              "        async function convertToInteractive(key) {\n",
              "          const element = document.querySelector('#df-5c638e1d-348f-4cb4-ba31-6f5e414cfdf6');\n",
              "          const dataTable =\n",
              "            await google.colab.kernel.invokeFunction('convertToInteractive',\n",
              "                                                     [key], {});\n",
              "          if (!dataTable) return;\n",
              "\n",
              "          const docLinkHtml = 'Like what you see? Visit the ' +\n",
              "            '<a target=\"_blank\" href=https://colab.research.google.com/notebooks/data_table.ipynb>data table notebook</a>'\n",
              "            + ' to learn more about interactive tables.';\n",
              "          element.innerHTML = '';\n",
              "          dataTable['output_type'] = 'display_data';\n",
              "          await google.colab.output.renderOutput(dataTable, element);\n",
              "          const docLink = document.createElement('div');\n",
              "          docLink.innerHTML = docLinkHtml;\n",
              "          element.appendChild(docLink);\n",
              "        }\n",
              "      </script>\n",
              "    </div>\n",
              "  </div>\n",
              "  "
            ],
            "text/plain": [
              "   PassengerId  Survived\n",
              "0          892         0\n",
              "1          893         1\n",
              "2          894         0\n",
              "3          895         0\n",
              "4          896         1"
            ]
          },
          "metadata": {},
          "execution_count": 38
        }
      ]
    },
    {
      "cell_type": "code",
      "metadata": {
        "id": "f4cc216b"
      },
      "source": [
        "sub.to_csv('submission.csv', index=False, encoding='utf-8')"
      ],
      "id": "f4cc216b",
      "execution_count": null,
      "outputs": []
    },
    {
      "cell_type": "code",
      "source": [
        "from google.colab import files\n",
        "files.upload()\n",
        "!mkdir -p ~/.kaggle\n",
        "!cp kaggle.json ~/.kaggle/\n",
        "!ls ~/.kaggle\n",
        "!chmod 600 /root/.kaggle/kaggle.json\n",
        "!kaggle competitions submit -c titanic -f submission.csv -m 'test1'"
      ],
      "metadata": {
        "colab": {
          "resources": {
            "http://localhost:8080/nbextensions/google.colab/files.js": {
              "data": "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",
              "ok": true,
              "headers": [
                [
                  "content-type",
                  "application/javascript"
                ]
              ],
              "status": 200,
              "status_text": ""
            }
          },
          "base_uri": "https://localhost:8080/",
          "height": 142
        },
        "id": "HfZvgWwSWE0M",
        "outputId": "4351f73c-5154-46f2-a2e0-386d9b9797dd"
      },
      "id": "HfZvgWwSWE0M",
      "execution_count": null,
      "outputs": [
        {
          "output_type": "display_data",
          "data": {
            "text/html": [
              "\n",
              "     <input type=\"file\" id=\"files-9fc4c1fc-e190-4efb-ad31-f088b1aa7988\" name=\"files[]\" multiple disabled\n",
              "        style=\"border:none\" />\n",
              "     <output id=\"result-9fc4c1fc-e190-4efb-ad31-f088b1aa7988\">\n",
              "      Upload widget is only available when the cell has been executed in the\n",
              "      current browser session. Please rerun this cell to enable.\n",
              "      </output>\n",
              "      <script src=\"/nbextensions/google.colab/files.js\"></script> "
            ],
            "text/plain": [
              "<IPython.core.display.HTML object>"
            ]
          },
          "metadata": {}
        },
        {
          "output_type": "stream",
          "name": "stdout",
          "text": [
            "Saving kaggle.json to kaggle.json\n",
            "kaggle.json\n",
            "Warning: Looks like you're using an outdated API Version, please consider updating (server 1.5.12 / client 1.5.4)\n",
            "100% 2.77k/2.77k [00:00<00:00, 13.1kB/s]\n",
            "Successfully submitted to Titanic - Machine Learning from Disaster"
          ]
        }
      ]
    }
  ]
}