{
 "cells": [
  {
   "cell_type": "code",
   "execution_count": 315,
   "id": "1450a5d0",
   "metadata": {},
   "outputs": [],
   "source": [
    "import warnings\n",
    "warnings.filterwarnings('ignore')\n",
    "\n",
    "import pandas as pd\n",
    "import numpy as np\n",
    "import matplotlib.pyplot as plt\n",
    "import os\n",
    "import time\n",
    "import pickle\n",
    "import itertools\n",
    "from datetime import datetime, timedelta\n",
    "from tqdm.notebook import tqdm\n",
    "\n",
    "from scipy import stats\n",
    "import scipy.ndimage\n",
    "import gc\n",
    "\n",
    "from sklearn.model_selection import train_test_split, StratifiedKFold, learning_curve\n",
    "from sklearn.metrics import classification_report, precision_recall_curve, f1_score, confusion_matrix, roc_curve, auc\n",
    "from sklearn.decomposition import PCA\n",
    "from sklearn.base import BaseEstimator, TransformerMixin, ClassifierMixin\n",
    "from sklearn.pipeline import make_pipeline, make_union\n",
    "from sklearn.compose import make_column_transformer\n",
    "from sklearn.preprocessing import StandardScaler\n",
    "\n",
    "import dask.dataframe as dd\n",
    "from dask.distributed import Client, LocalCluster\n",
    "\n",
    "import catboost\n",
    "from catboost import CatBoostClassifier, Pool, EShapCalcType, EFeaturesSelectionAlgorithm\n",
    "\n",
    "import optuna\n",
    "from optuna.samplers import TPESampler\n",
    "\n",
    "np.set_printoptions(2)\n",
    "np.random.seed(42)\n",
    "gc.enable()"
   ]
  },
  {
   "cell_type": "code",
   "execution_count": 2,
   "id": "444b5a0c",
   "metadata": {},
   "outputs": [],
   "source": [
    "def reduce_memory(df, silent=False):\n",
    "    def time_format(sec):\n",
    "        return str(timedelta(seconds=sec))\n",
    "    assert isinstance(df, dd.DataFrame), 'This is not a dask dataframe'\n",
    "    start_t = time.time()\n",
    "    \n",
    "    if not silent:\n",
    "        start_memory_usage = client.compute(df.memory_usage(deep=True).sum() / 1024**2)\n",
    "        print('Start of dataframe memory optimization'.center(100,'*'))\n",
    "        print(f'Memory usage by dataframe: {start_memory_usage.result():.02f} MB')\n",
    "    \n",
    "    df_dtype = pd.DataFrame(df.dtypes, columns=['dtype'], index = df.columns)\n",
    "    \n",
    "    df_min = client.compute(df.select_dtypes(['int', 'float']).min())\n",
    "    df_max = client.compute(df.select_dtypes(['int', 'float']).max())\n",
    "    df_is_int = client.compute(~(df.select_dtypes(['int', 'float']).fillna(0).astype(int).sum() - df.select_dtypes(['int', 'float']).fillna(0).sum()).astype('bool_'))\n",
    "    \n",
    "    df_dtype['min'] = df_min.result()\n",
    "    df_dtype['max'] = df_max.result()\n",
    "    df_dtype['is_int'] = df_is_int.result()\n",
    "    \n",
    "    df_dtype.loc[(df_dtype['is_int'] == True),'dtype'] = 'int64'\n",
    "    df_dtype.loc[(df_dtype['is_int'] == True) & (df_dtype['min'] >= np.iinfo('int32').min) & (df_dtype['max'] <= np.iinfo('int32').max),'dtype'] = 'int32'\n",
    "    df_dtype.loc[(df_dtype['is_int'] == True) & (df_dtype['min'] >= np.iinfo('int16').min) & (df_dtype['max'] <= np.iinfo('int16').max),'dtype'] = 'int16'\n",
    "    df_dtype.loc[(df_dtype['is_int'] == True) & (df_dtype['min'] >= np.iinfo('int8').min) & (df_dtype['max'] <= np.iinfo('int8').max),'dtype'] = 'int8'\n",
    "    \n",
    "    df_dtype.loc[(df_dtype['is_int'] == True) & (df_dtype['min'] >= np.iinfo('uint64').min) ,'dtype'] = 'uint64'\n",
    "    df_dtype.loc[(df_dtype['is_int'] == True) & (df_dtype['min'] >= np.iinfo('uint32').min) & (df_dtype['max'] <= np.iinfo('uint32').max),'dtype'] = 'uint32'\n",
    "    df_dtype.loc[(df_dtype['is_int'] == True) & (df_dtype['min'] >= np.iinfo('uint16').min) & (df_dtype['max'] <= np.iinfo('uint16').max),'dtype'] = 'uint16'\n",
    "    df_dtype.loc[(df_dtype['is_int'] == True) & (df_dtype['min'] >= np.iinfo('uint8').min) & (df_dtype['max'] <= np.iinfo('uint8').max),'dtype'] = 'uint8'\n",
    "    \n",
    "    df_dtype.loc[(df_dtype['is_int'] == True) & (df_dtype['min'] == 0) & (df_dtype['max'] == 1),'dtype'] = 'bool_'\n",
    "    \n",
    "    df_dtype.loc[(df_dtype['is_int'] == False), 'dtype'] = 'float64'\n",
    "    df_dtype.loc[(df_dtype['is_int'] == False) & (df_dtype['min'] >= np.finfo('float32').min) & (df_dtype['max'] <= np.finfo('float32').max), 'dtype'] = 'float32'\n",
    "    df_dtype.loc[(df_dtype['is_int'] == False) & (df_dtype['min'] >= np.finfo('float16').min) & (df_dtype['max'] <= np.finfo('float16').max), 'dtype'] = 'float16'\n",
    "    \n",
    "    for col in df.select_dtypes('object').columns:\n",
    "        num_unique_values = client.compute(df[col].nunique())\n",
    "        num_total_values = client.compute(df['id'].shape)\n",
    "        if num_unique_values.result() / num_total_values[0].result() < 0.5:\n",
    "            df_dtype.loc[col, 'dtype'] = 'category'\n",
    "    \n",
    "    dtypes = df_dtype['dtype'].to_dict()\n",
    "    \n",
    "    df = df.astype(dtypes)\n",
    "    \n",
    "    if not silent:\n",
    "        memory_usage = client.compute(df.memory_usage(deep=True).sum() / 1024**2)\n",
    "        print('MEMORY USAGE AFTER COMPLETION:'.center(40,'_'))\n",
    "        print(f'Memory usage of properties dataframe is : {memory_usage.result():.02f} MB')\n",
    "        print(f'This is {100*memory_usage.result()/start_memory_usage.result():.02f} % of the initial size')\n",
    "        print(f'End of dataframe memory optimization, run time: {time_format(time.time()-start_t)}'.center(100,'*'))\n",
    "    return df"
   ]
  },
  {
   "cell_type": "code",
   "execution_count": 4,
   "id": "05b31276",
   "metadata": {},
   "outputs": [
    {
     "name": "stdout",
     "output_type": "stream",
     "text": [
      "*******************************Start of dataframe memory optimization*******************************\n",
      "Memory usage by dataframe: 8779.15 MB\n",
      "_____MEMORY USAGE AFTER COMPLETION:_____\n",
      "Memory usage of properties dataframe is : 2663.90 MB\n",
      "This is 30.34 % of the initial size\n",
      "*******************End of dataframe memory optimization, run time: 0:02:46.456361*******************\n"
     ]
    }
   ],
   "source": [
    "if not os.path.exists('features.pkl'):\n",
    "    cluster = LocalCluster(n_workers=4)\n",
    "    client = Client(cluster)\n",
    "    \n",
    "    features = dd.read_csv('features.csv', sep='\\t').drop('Unnamed: 0', axis=1)\n",
    "    \n",
    "    features = reduce_memory(features)\n",
    "    features = features.set_index('id')\n",
    "\n",
    "    features = features.compute()\n",
    "\n",
    "    features.to_pickle('features.pkl')    "
   ]
  },
  {
   "cell_type": "code",
   "execution_count": 142,
   "id": "74c27a80",
   "metadata": {},
   "outputs": [],
   "source": [
    "class ColumnSelector(BaseEstimator, TransformerMixin):\n",
    "    def __init__(self, columns):\n",
    "        self.columns = columns\n",
    "        \n",
    "    def fit(self, X, y=None):\n",
    "        return self\n",
    "    \n",
    "    def transform(self, X):\n",
    "        if not isinstance(X, pd.DataFrame):\n",
    "            return X\n",
    "        return X[self.columns]"
   ]
  },
  {
   "cell_type": "code",
   "execution_count": 288,
   "id": "e4d217f5",
   "metadata": {},
   "outputs": [],
   "source": [
    "train = pd.read_csv('data_train.csv').drop('Unnamed: 0', axis=1)\n",
    "test = pd.read_csv('data_test.csv').drop('Unnamed: 0', axis=1)"
   ]
  },
  {
   "cell_type": "code",
   "execution_count": 183,
   "id": "e3188ece",
   "metadata": {},
   "outputs": [
    {
     "data": {
      "text/plain": [
       "0.0    0.927631\n",
       "1.0    0.072369\n",
       "Name: target, dtype: float64"
      ]
     },
     "execution_count": 183,
     "metadata": {},
     "output_type": "execute_result"
    }
   ],
   "source": [
    "train.target.value_counts(normalize=True)"
   ]
  },
  {
   "cell_type": "code",
   "execution_count": 289,
   "id": "0a0182b5",
   "metadata": {},
   "outputs": [],
   "source": [
    "features = pd.read_pickle('features.pkl').reset_index()\n",
    "# features =  dd.from_pandas(features, npartitions=10)"
   ]
  },
  {
   "cell_type": "code",
   "execution_count": 185,
   "id": "60f6af3e",
   "metadata": {},
   "outputs": [
    {
     "data": {
      "text/plain": [
       "0.0"
      ]
     },
     "execution_count": 185,
     "metadata": {},
     "output_type": "execute_result"
    }
   ],
   "source": [
    "# missing values\n",
    "# outliers are not very important for boosting models\n",
    "features.isnull().sum().sum() / features.count().sum()"
   ]
  },
  {
   "cell_type": "code",
   "execution_count": 290,
   "id": "6da4f139",
   "metadata": {},
   "outputs": [
    {
     "name": "stdout",
     "output_type": "stream",
     "text": [
      "75\n",
      "81\n",
      "85\n",
      "139\n",
      "203\n"
     ]
    }
   ],
   "source": [
    "# constant features\n",
    "to_drop = []\n",
    "for column in features.columns:\n",
    "    unique = features[column].nunique()\n",
    "    if unique == 1:\n",
    "        to_drop.append(column)\n",
    "        print(column)"
   ]
  },
  {
   "cell_type": "markdown",
   "id": "07e0697a",
   "metadata": {},
   "source": [
    "**Dataset**"
   ]
  },
  {
   "cell_type": "code",
   "execution_count": 291,
   "id": "89e80cbb",
   "metadata": {},
   "outputs": [],
   "source": [
    "train['buy_time'] = train['buy_time'].astype(np.uint32)\n",
    "train['id'] = train['id'].astype(np.uint64)\n",
    "features = features.loc[(features['id'].isin(train['id'].unique()))]\n",
    "features.drop(to_drop, axis=1, inplace=True)\n",
    "\n",
    "train = train.sort_index()\n",
    "train = train.sort_values(by='buy_time')\n",
    "features = features.sort_values(by='buy_time')"
   ]
  },
  {
   "cell_type": "code",
   "execution_count": 292,
   "id": "ef18d613",
   "metadata": {},
   "outputs": [],
   "source": [
    "data_train = pd.merge_asof(train, features, on='buy_time', by='id', direction='nearest')\n",
    "del features, train"
   ]
  },
  {
   "cell_type": "code",
   "execution_count": 293,
   "id": "c08af154",
   "metadata": {},
   "outputs": [],
   "source": [
    "map_dict = {float(i): f'{i}' for i in range(100)}"
   ]
  },
  {
   "cell_type": "code",
   "execution_count": 294,
   "id": "cce2d389",
   "metadata": {},
   "outputs": [],
   "source": [
    "data_train['date'] = pd.to_datetime(data_train['buy_time'], unit='s')\n",
    "\n",
    "data_train['day'] = data_train['date'].dt.day\n",
    "data_train['week'] = data_train['date'].dt.week\n",
    "data_train['month'] = data_train['date'].dt.month\n",
    "data_train['dayweek'] = data_train['date'].dt.weekday\n",
    "# data_train['vas_id'] = data_train['vas_id'].map(map_dict).astype('category')\n",
    "data_train.set_index('id', inplace=True)\n",
    "\n",
    "data_train.drop('date', axis=1, inplace=True)"
   ]
  },
  {
   "cell_type": "code",
   "execution_count": 254,
   "id": "36631485",
   "metadata": {},
   "outputs": [],
   "source": [
    "# data_train.to_csv('megadata.csv', index=False, encoding='utf-8', compression='zip')"
   ]
  },
  {
   "cell_type": "code",
   "execution_count": 295,
   "id": "b904aa14",
   "metadata": {},
   "outputs": [],
   "source": [
    "X = data_train.drop(['target'], axis=1)\n",
    "y = data_train['target']\n",
    "X_train, X_valid, y_train, y_valid = train_test_split(X, y, shuffle=True, test_size=0.3, stratify=y, random_state=42)\n",
    "\n",
    "del data_train, X, y"
   ]
  },
  {
   "cell_type": "code",
   "execution_count": 79,
   "id": "f3ba25a6",
   "metadata": {},
   "outputs": [
    {
     "name": "stdout",
     "output_type": "stream",
     "text": [
      "Different dist. in 5, p-value: 0.0041\n",
      "Different dist. in 45, p-value: 0.0314\n",
      "Different dist. in 53, p-value: 0.0413\n",
      "Different dist. in 65, p-value: 0.0494\n",
      "Different dist. in 84, p-value: 0.0266\n",
      "Different dist. in 96, p-value: 0.0368\n",
      "Different dist. in 101, p-value: 0.0216\n",
      "Different dist. in 123, p-value: 0.0472\n",
      "Different dist. in 163, p-value: 0.0041\n",
      "Different dist. in 193, p-value: 0.0244\n",
      "Different dist. in 227, p-value: 0.0282\n",
      "Different dist. in 239, p-value: 0.0292\n"
     ]
    }
   ],
   "source": [
    "for col in X_train.select_dtypes('number').columns:\n",
    "    factor_a, factor_b = X_train[col].sample(int(0.05*len(X_train))), X_valid[col].sample(int(0.05*len(X_valid)))\n",
    "    _, pval = stats.shapiro(factor_a)\n",
    "    if pval > 0.05:\n",
    "        _, pval = stats.ttest_ind(factor_a, factor_b, equal_var=False)\n",
    "    else:\n",
    "        _, pval = stats.mannwhitneyu(factor_a, factor_b)\n",
    "    if pval < 0.05:\n",
    "        print(f'Different dist. in {col}, p-value: {pval:.4f}')"
   ]
  },
  {
   "cell_type": "code",
   "execution_count": 54,
   "id": "3860ef38",
   "metadata": {},
   "outputs": [],
   "source": [
    "cat_cols = X_valid.select_dtypes('category').columns.tolist()  # set vas_id to category first\n",
    "\n",
    "train_pool = Pool(X_train, y_train, cat_features=cat_cols)\n",
    "valid_pool = Pool(X_valid, y_valid, cat_features=cat_cols)"
   ]
  },
  {
   "cell_type": "code",
   "execution_count": 55,
   "id": "79fedc6f",
   "metadata": {},
   "outputs": [],
   "source": [
    "cat = CatBoostClassifier(task_type='GPU', iterations=300, auto_class_weights='SqrtBalanced', silent=True).fit(train_pool)\n",
    "# number of iterations was chosen from train-valid catboost plot"
   ]
  },
  {
   "cell_type": "code",
   "execution_count": 56,
   "id": "14629d1e",
   "metadata": {},
   "outputs": [
    {
     "name": "stdout",
     "output_type": "stream",
     "text": [
      "              precision    recall  f1-score   support\n",
      "\n",
      "         0.0     0.9815    0.9222    0.9510    540027\n",
      "         1.0     0.4383    0.7777    0.5606     42130\n",
      "\n",
      "    accuracy                         0.9118    582157\n",
      "   macro avg     0.7099    0.8500    0.7558    582157\n",
      "weighted avg     0.9422    0.9118    0.9227    582157\n",
      "\n",
      "              precision    recall  f1-score   support\n",
      "\n",
      "         0.0     0.9808    0.9222    0.9506    231440\n",
      "         1.0     0.4354    0.7688    0.5559     18056\n",
      "\n",
      "    accuracy                         0.9111    249496\n",
      "   macro avg     0.7081    0.8455    0.7533    249496\n",
      "weighted avg     0.9413    0.9111    0.9220    249496\n",
      "\n"
     ]
    }
   ],
   "source": [
    "train_preds = catboost.CatBoost.predict(cat, train_pool, prediction_type='Class')\n",
    "valid_preds = catboost.CatBoost.predict(cat, valid_pool, prediction_type='Class')\n",
    "\n",
    "print(classification_report(y_train, train_preds, digits=4))\n",
    "print(classification_report(y_valid, valid_preds, digits=4))"
   ]
  },
  {
   "cell_type": "code",
   "execution_count": 105,
   "id": "ec2c1573",
   "metadata": {},
   "outputs": [
    {
     "data": {
      "text/plain": [
       "0.0    0.927631\n",
       "1.0    0.072369\n",
       "Name: target, dtype: float64"
      ]
     },
     "execution_count": 105,
     "metadata": {},
     "output_type": "execute_result"
    }
   ],
   "source": [
    "y_train.value_counts(normalize=True)"
   ]
  },
  {
   "cell_type": "code",
   "execution_count": 108,
   "id": "6392ead0",
   "metadata": {},
   "outputs": [
    {
     "data": {
      "text/plain": [
       "(0, 0)"
      ]
     },
     "execution_count": 108,
     "metadata": {},
     "output_type": "execute_result"
    }
   ],
   "source": [
    "X_train.isna().sum().sum(), X_valid.isna().sum().sum()"
   ]
  },
  {
   "cell_type": "markdown",
   "id": "29eea531",
   "metadata": {},
   "source": [
    "**There are multiple ways to search and deal with outliers. Most common:**\n",
    "* statisctical\n",
    "    * Z-score: check if data lies between 2-3 $\\sigma$, assuming data follows normal distribution\n",
    "    * IQR score, where outliers fall out this region: $Q_1 - 1.5\\cdot (Q_3 - Q_1)< X_i < Q_3 + 1.5\\cdot (Q_3 - Q_1)$\n",
    "* visual\n",
    "    * scatterplots\n",
    "    * boxplots (graphical representation of IQR)\n",
    "* using ML models\n",
    "    * IsolationForest: $outlier_{index} = -1$\n",
    "    * DBSCAN clustering: $X_i > \\epsilon$\n",
    "\n",
    "**What to do?**\n",
    "* drop outliers if there few of them\n",
    "* replace by some statistical value (median, mode), some other insight\n",
    "* impute with ML model, e.g. sklearn IterativeImputer\n",
    "* define new binary (not neccessary binary) feature to indicate objects with outliers\n",
    "\n",
    "**CatBoost**\n",
    "\n",
    "Gradient Boosting models are not very sensitive to outliers, also it is computationally expensive to search and deal with ones here. The decision is to let it be as is."
   ]
  },
  {
   "cell_type": "markdown",
   "id": "5a6e60e0",
   "metadata": {},
   "source": [
    "#### Some statistical tests"
   ]
  },
  {
   "cell_type": "code",
   "execution_count": 149,
   "id": "cd5bb5e2",
   "metadata": {},
   "outputs": [
    {
     "name": "stdout",
     "output_type": "stream",
     "text": [
      "Number of statitically unimportant numerical columns: 216\n",
      "Number of features that have statistical impact on target variable: 36.\n"
     ]
    }
   ],
   "source": [
    "sample_size = int(0.001*len(X_train))\n",
    "imp = []\n",
    "counter = 0\n",
    "y_train.index = X_train.index\n",
    "for col in X_train.select_dtypes('number').columns:\n",
    "    factor_a = X_train.loc[y_train == 0, col].sample(sample_size)\n",
    "    factor_b =  X_train.loc[y_train == 1, col].sample(sample_size)\n",
    "    _, pval = stats.shapiro(factor_a)\n",
    "    if pval > 0.05:\n",
    "        _, pval = stats.ttest_ind(factor_a, factor_b, equal_var=False)\n",
    "    else:\n",
    "        _, pval = stats.mannwhitneyu(factor_a, factor_b)\n",
    "    if pval >= 0.05:\n",
    "        counter += 1\n",
    "    else:\n",
    "        imp.append(col)\n",
    "print(f'Number of statitically unimportant numerical columns: {counter}')\n",
    "print(f'Number of features that have statistical impact on target variable: {len(imp)}.')"
   ]
  },
  {
   "cell_type": "markdown",
   "id": "3fbc23e0",
   "metadata": {},
   "source": [
    "#### Attempt to make numerical columns more informative (Feature Engineering)"
   ]
  },
  {
   "cell_type": "code",
   "execution_count": 156,
   "id": "14f50c32",
   "metadata": {},
   "outputs": [
    {
     "name": "stdout",
     "output_type": "stream",
     "text": [
      "748465\n",
      "83188\n"
     ]
    }
   ],
   "source": [
    "# X = pd.concat([X_fold, X_test], axis=0)\n",
    "# y = pd.concat([y_fold, y_test], axis=0)\n",
    "# y.index = X.index\n",
    "\n",
    "df_test = X[X.columns[1:249].tolist()].values\n",
    "\n",
    "unique_samples = []\n",
    "unique_count = np.zeros_like(df_test)\n",
    "for feature in range(df_test.shape[1]):\n",
    "    _, index_, count_ = np.unique(df_test[:, feature], return_counts=True, return_index=True)\n",
    "    unique_count[index_[count_ == 1], feature] += 1\n",
    "\n",
    "real_samples_indexes = np.argwhere(np.sum(unique_count, axis=1) > 0)[:, 0]\n",
    "synthetic_samples_indexes = np.argwhere(np.sum(unique_count, axis=1) == 0)[:, 0]\n",
    "\n",
    "print(len(real_samples_indexes))\n",
    "print(len(synthetic_samples_indexes))"
   ]
  },
  {
   "cell_type": "code",
   "execution_count": 19,
   "id": "07a97f49",
   "metadata": {},
   "outputs": [],
   "source": [
    "pca_columns = X_train.columns[1:249].tolist()\n",
    "\n",
    "#scaler = StandardScaler()\n",
    "#pca = PCA(n_components=None, random_state=42).fit(scaler.fit_transform(X_train[pca_columns]))"
   ]
  },
  {
   "cell_type": "code",
   "execution_count": 170,
   "id": "f00f26b3",
   "metadata": {},
   "outputs": [
    {
     "data": {
      "text/plain": [
       "0.9914872861190183"
      ]
     },
     "execution_count": 170,
     "metadata": {},
     "output_type": "execute_result"
    }
   ],
   "source": [
    "total = np.sum(pca.explained_variance_)\n",
    "pca.explained_variance_[:185].sum() / total"
   ]
  },
  {
   "cell_type": "code",
   "execution_count": 20,
   "id": "765678e0",
   "metadata": {},
   "outputs": [
    {
     "data": {
      "text/plain": [
       "True"
      ]
     },
     "execution_count": 20,
     "metadata": {},
     "output_type": "execute_result"
    }
   ],
   "source": [
    "non_pca_columns = [X_train.columns[0]] + X_train.columns[249:].tolist()\n",
    "len(pca_columns) + len(non_pca_columns) == X_train.shape[1]"
   ]
  },
  {
   "cell_type": "code",
   "execution_count": 45,
   "id": "779746e8",
   "metadata": {},
   "outputs": [],
   "source": [
    "pca_pipe = make_pipeline(StandardScaler(), PCA(n_components=110, random_state=42))"
   ]
  },
  {
   "cell_type": "code",
   "execution_count": 46,
   "id": "50465648",
   "metadata": {},
   "outputs": [],
   "source": [
    "X_train_pca = pca_pipe.fit_transform(X_train[pca_columns])\n",
    "X_train_pca = np.concatenate([X_train[non_pca_columns[1:]].values, X_train_pca], axis=1).astype(np.float32)\n",
    "X_train_pca = pd.DataFrame(data=X_train_pca, index=X_train.index)\n",
    "X_train_pca['vas_id'] = X_train['vas_id'].copy()"
   ]
  },
  {
   "cell_type": "code",
   "execution_count": 47,
   "id": "f3377536",
   "metadata": {},
   "outputs": [],
   "source": [
    "X_valid_pca = pca_pipe.transform(X_valid[pca_columns])\n",
    "X_valid_pca = np.concatenate([X_valid[non_pca_columns[1:]].values, X_valid_pca], axis=1).astype(np.float32)\n",
    "X_valid_pca = pd.DataFrame(data=X_valid_pca, index=X_valid.index)\n",
    "X_valid_pca['vas_id'] = X_valid['vas_id'].copy()"
   ]
  },
  {
   "cell_type": "code",
   "execution_count": 48,
   "id": "700ba6e4",
   "metadata": {},
   "outputs": [],
   "source": [
    "cat_cols = X_valid.select_dtypes('category').columns.tolist()\n",
    "\n",
    "train_pool = Pool(X_train_pca, y_train, cat_features=cat_cols)\n",
    "valid_pool = Pool(X_valid_pca, y_valid, cat_features=cat_cols)"
   ]
  },
  {
   "cell_type": "code",
   "execution_count": 49,
   "id": "ff0e2696",
   "metadata": {},
   "outputs": [],
   "source": [
    "cat = CatBoostClassifier(task_type='GPU', auto_class_weights='SqrtBalanced', silent=True).fit(train_pool, eval_set=valid_pool)"
   ]
  },
  {
   "cell_type": "code",
   "execution_count": 56,
   "id": "c1bbcb78",
   "metadata": {},
   "outputs": [
    {
     "data": {
      "text/plain": [
       "{'nan_mode': 'Min',\n",
       " 'gpu_ram_part': 0.95,\n",
       " 'eval_metric': 'Logloss',\n",
       " 'combinations_ctr': ['Borders:CtrBorderCount=15:CtrBorderType=Uniform:TargetBorderCount=1:TargetBorderType=MinEntropy:Prior=0/1:Prior=0.5/1:Prior=1/1',\n",
       "  'FeatureFreq:CtrBorderCount=15:CtrBorderType=Median:Prior=0/1'],\n",
       " 'iterations': 1000,\n",
       " 'fold_permutation_block': 64,\n",
       " 'leaf_estimation_method': 'Newton',\n",
       " 'observations_to_bootstrap': 'TestOnly',\n",
       " 'counter_calc_method': 'SkipTest',\n",
       " 'grow_policy': 'SymmetricTree',\n",
       " 'boosting_type': 'Plain',\n",
       " 'ctr_history_unit': 'Sample',\n",
       " 'feature_border_type': 'GreedyLogSum',\n",
       " 'bayesian_matrix_reg': 0.10000000149011612,\n",
       " 'one_hot_max_size': 2,\n",
       " 'devices': '-1',\n",
       " 'pinned_memory_bytes': '104857600',\n",
       " 'force_unit_auto_pair_weights': False,\n",
       " 'l2_leaf_reg': 3,\n",
       " 'random_strength': 1,\n",
       " 'rsm': 1,\n",
       " 'boost_from_average': False,\n",
       " 'gpu_cat_features_storage': 'GpuRam',\n",
       " 'fold_size_loss_normalization': False,\n",
       " 'max_ctr_complexity': 4,\n",
       " 'model_size_reg': 0.5,\n",
       " 'simple_ctr': ['Borders:CtrBorderCount=15:CtrBorderType=Uniform:TargetBorderCount=1:TargetBorderType=MinEntropy:Prior=0/1:Prior=0.5/1:Prior=1/1',\n",
       "  'FeatureFreq:CtrBorderCount=15:CtrBorderType=MinEntropy:Prior=0/1'],\n",
       " 'pool_metainfo_options': {'tags': {}},\n",
       " 'use_best_model': True,\n",
       " 'meta_l2_frequency': 0,\n",
       " 'class_names': [0, 1],\n",
       " 'random_seed': 0,\n",
       " 'depth': 6,\n",
       " 'ctr_target_border_count': 1,\n",
       " 'has_time': False,\n",
       " 'border_count': 128,\n",
       " 'min_fold_size': 100,\n",
       " 'class_weights': [1, 3.5802388191223145],\n",
       " 'data_partition': 'FeatureParallel',\n",
       " 'bagging_temperature': 1,\n",
       " 'classes_count': 0,\n",
       " 'auto_class_weights': 'SqrtBalanced',\n",
       " 'leaf_estimation_backtracking': 'AnyImprovement',\n",
       " 'best_model_min_trees': 1,\n",
       " 'min_data_in_leaf': 1,\n",
       " 'add_ridge_penalty_to_loss_function': False,\n",
       " 'loss_function': 'Logloss',\n",
       " 'learning_rate': 0.041446998715400696,\n",
       " 'meta_l2_exponent': 1,\n",
       " 'score_function': 'Cosine',\n",
       " 'task_type': 'GPU',\n",
       " 'leaf_estimation_iterations': 10,\n",
       " 'bootstrap_type': 'Bayesian',\n",
       " 'max_leaves': 64,\n",
       " 'permutation_count': 4}"
      ]
     },
     "execution_count": 56,
     "metadata": {},
     "output_type": "execute_result"
    }
   ],
   "source": [
    "cat.get_all_params()"
   ]
  },
  {
   "cell_type": "code",
   "execution_count": 50,
   "id": "86ca3d45",
   "metadata": {},
   "outputs": [
    {
     "name": "stdout",
     "output_type": "stream",
     "text": [
      "              precision    recall  f1-score   support\n",
      "\n",
      "         0.0     0.9816    0.9211    0.9504    540027\n",
      "         1.0     0.4352    0.7792    0.5585     42130\n",
      "\n",
      "    accuracy                         0.9108    582157\n",
      "   macro avg     0.7084    0.8502    0.7545    582157\n",
      "weighted avg     0.9421    0.9108    0.9221    582157\n",
      "\n",
      "              precision    recall  f1-score   support\n",
      "\n",
      "         0.0     0.9810    0.9211    0.9501    231440\n",
      "         1.0     0.4328    0.7716    0.5546     18056\n",
      "\n",
      "    accuracy                         0.9103    249496\n",
      "   macro avg     0.7069    0.8464    0.7523    249496\n",
      "weighted avg     0.9413    0.9103    0.9215    249496\n",
      "\n"
     ]
    }
   ],
   "source": [
    "train_preds = catboost.CatBoost.predict(cat, train_pool, prediction_type='Class')\n",
    "valid_preds = catboost.CatBoost.predict(cat, valid_pool, prediction_type='Class')\n",
    "\n",
    "print(classification_report(y_train, train_preds, digits=4))\n",
    "print(classification_report(y_valid, valid_preds, digits=4))"
   ]
  },
  {
   "cell_type": "markdown",
   "id": "b1007abe",
   "metadata": {},
   "source": [
    "**with n_components=185 we got small decrease in metrics, but calculations became much faster due to dimensionality reduction**"
   ]
  },
  {
   "cell_type": "code",
   "execution_count": 353,
   "id": "5abf846f",
   "metadata": {},
   "outputs": [],
   "source": [
    "sigma_fac = 0.001\n",
    "sigma_base = 4\n",
    "features = X_train.columns.tolist()[1:-4]\n",
    "eps = 1e-10\n",
    "\n",
    "def get_count(X, features):\n",
    "    features_count = np.zeros((X.shape[0], len(features)))\n",
    "    features_density = np.zeros((X.shape[0], len(features)))\n",
    "    features_deviation = np.zeros((X.shape[0], len(features)))\n",
    "    \n",
    "    X_index = X.index\n",
    "    scaler = MinMaxScaler()\n",
    "    X = scaler.fit_transform(X)\n",
    "    X = pd.DataFrame(data=X, columns=features, index=X_index)\n",
    "    \n",
    "    sigmas = []\n",
    "\n",
    "    for i,var in enumerate(tqdm(features)):\n",
    "        X_var_int = (X[var].values * 1000000).round().astype(int)\n",
    "\n",
    "        lo = X_var_int.min()\n",
    "        X_var_int -= lo\n",
    "\n",
    "        hi = X_var_int.max()+1\n",
    "        counts_all = np.bincount(X_var_int, minlength=hi).astype(float)\n",
    "        # counts_all = np.histogram(X_var_int, bins=hi)[0].astype(float)\n",
    "        zeros = (counts_all == 0).astype(int)\n",
    "        before_zeros = np.concatenate([zeros[1:],[0]])\n",
    "        indices_all = np.arange(counts_all.shape[0])\n",
    "\n",
    "        sigma_scaled = counts_all.shape[0]*sigma_fac\n",
    "        sigma = np.power(sigma_base * sigma_base * sigma_scaled, 1/3)\n",
    "        sigmas.append(sigma)\n",
    "        counts_all_smooth = scipy.ndimage.filters.gaussian_filter1d(counts_all, sigma)\n",
    "        deviation = counts_all / (counts_all_smooth+eps)\n",
    "        indices = X_var_int\n",
    "        features_count[:,i] = counts_all[indices]\n",
    "        features_density[:,i] = counts_all_smooth[indices]\n",
    "        features_deviation[:,i] = deviation[indices]\n",
    "        \n",
    "    features_count_names = [var+'_count' for var in features]\n",
    "    features_density_names = [var+'_density' for var in features]\n",
    "    features_deviation_names = [var+'_deviation' for var in features]\n",
    "    X_count = pd.DataFrame(columns=features_count_names, data = features_count)\n",
    "    X_count.index = X.index\n",
    "    X_density = pd.DataFrame(columns=features_density_names, data = features_density)\n",
    "    X_density.index = X.index\n",
    "    X_deviation = pd.DataFrame(columns=features_deviation_names, data = features_deviation)\n",
    "    X_deviation.index = X.index\n",
    "    X = pd.concat([X, X_count, X_density, X_deviation], axis=1)   \n",
    "    \n",
    "    del X_count, X_density, X_deviation\n",
    "    del features_count_names, features_density_names, features_deviation_names\n",
    "    \n",
    "    return X"
   ]
  },
  {
   "cell_type": "code",
   "execution_count": 20,
   "id": "2b4dd685",
   "metadata": {},
   "outputs": [],
   "source": [
    "X_train_index = X_train.index\n",
    "X_valid_index = X_valid.index\n",
    "\n",
    "X = pd.concat([X_train, X_valid], axis=0)"
   ]
  },
  {
   "cell_type": "code",
   "execution_count": null,
   "id": "9c484520",
   "metadata": {},
   "outputs": [],
   "source": [
    "del X_train_pca, X_valid_pca, train_pool, valid_pool"
   ]
  },
  {
   "cell_type": "code",
   "execution_count": null,
   "id": "2b9ea961",
   "metadata": {},
   "outputs": [],
   "source": [
    "# X = get_count(X[features])  # not enough memory to finish calculations of new features!"
   ]
  },
  {
   "cell_type": "markdown",
   "id": "0e478cda",
   "metadata": {},
   "source": [
    "**CatBoost Feature Selection**\n",
    "    \n",
    "   * sklearn SelectFromModel, based on feature_importancies, the most important - most frequently used in node splits\n",
    "   * BorutaShap - great feature selector, based on statistical tests and shap values (slow for current task)\n",
    "   * CatBoost select_features, based on couple of approaches. The one is used here is Recursive algorithm with shap-values"
   ]
  },
  {
   "cell_type": "code",
   "execution_count": 55,
   "id": "f59e0698",
   "metadata": {},
   "outputs": [
    {
     "name": "stdout",
     "output_type": "stream",
     "text": [
      "Algorithm: EFeaturesSelectionAlgorithm.RecursiveByShapValues\n"
     ]
    },
    {
     "data": {
      "application/vnd.jupyter.widget-view+json": {
       "model_id": "def6842c9d1a4789b41b3f68537a1dd3",
       "version_major": 2,
       "version_minor": 0
      },
      "text/plain": [
       "MetricVisualizer(layout=Layout(align_self='stretch', height='500px'))"
      ]
     },
     "metadata": {},
     "output_type": "display_data"
    },
    {
     "data": {
      "application/vnd.plotly.v1+json": {
       "config": {
        "plotlyServerURL": "https://plot.ly"
       },
       "data": [
        {
         "line": {
          "color": "rgb(51,160,44)"
         },
         "mode": "lines+markers",
         "name": "",
         "text": [
          "",
          "43",
          "128",
          "223",
          "115",
          "241",
          "186",
          "247",
          "111",
          "6",
          "171",
          "188",
          "136",
          "243",
          "21",
          "116",
          "2",
          "112",
          "169",
          "191",
          "0",
          "61",
          "124",
          "50",
          "45",
          "42",
          "63",
          "7",
          "52",
          "60",
          "11",
          "62",
          "68",
          "13",
          "148",
          "251",
          "190",
          "194",
          "133",
          "164",
          "49",
          "4",
          "233",
          "106"
         ],
         "type": "scatter",
         "x": [
          0,
          1,
          2,
          3,
          4,
          5,
          6,
          7,
          8,
          9,
          10,
          11,
          12,
          13,
          14,
          15,
          16,
          17,
          18,
          19,
          20,
          21,
          22,
          23,
          24,
          25,
          26,
          27,
          28,
          29,
          30,
          31,
          32,
          33,
          34,
          35,
          36,
          37,
          38,
          39,
          40,
          41,
          42,
          43
         ],
         "y": [
          0.2585115461706605,
          0.2585013926658759,
          0.25849191273206595,
          0.25848425014260706,
          0.25847658761042724,
          0.25846895771332346,
          0.25841417045572435,
          0.2583753442932019,
          0.2583379709349471,
          0.25830518432568883,
          0.2582884575024018,
          0.25827935433690496,
          0.25827481947256237,
          0.2582706896841507,
          0.2582668471905877,
          0.25827867267680193,
          0.2582846698272714,
          0.2582896479008121,
          0.25829447876397954,
          0.25830838262543754,
          0.25832052103069225,
          0.258330816540456,
          0.25834063397477425,
          0.25835008407335536,
          0.2583730518356739,
          0.2583898312720123,
          0.25840501145429406,
          0.25841957195043214,
          0.2584130638466053,
          0.2584075608743165,
          0.2584028529722902,
          0.2583983209534868,
          0.2583993361598332,
          0.25840029841864665,
          0.2584012237811157,
          0.2584020954696644,
          0.25839582033046343,
          0.2583900153267545,
          0.2583842885710793,
          0.25838026751701754,
          0.2583006428520334,
          0.2582448575432554,
          0.2582022456933385,
          0.25816031909392384
         ]
        },
        {
         "marker": {
          "size": 10,
          "symbol": "square"
         },
         "mode": "markers",
         "name": "",
         "text": [
          "",
          "241",
          "6",
          "21",
          "169",
          "50",
          "7",
          "62",
          "251",
          "164",
          "106"
         ],
         "type": "scatter",
         "x": [
          0,
          5,
          9,
          14,
          18,
          23,
          27,
          31,
          35,
          39,
          43
         ],
         "y": [
          0.2585115461706605,
          0.25846895771332346,
          0.25830518432568883,
          0.2582668471905877,
          0.25829447876397954,
          0.25835008407335536,
          0.25841957195043214,
          0.2583983209534868,
          0.2584020954696644,
          0.25838026751701754,
          0.25816031909392384
         ]
        },
        {
         "mode": "text",
         "name": "",
         "text": [
          "",
          "44",
          "126",
          "219",
          "113",
          "237",
          "183",
          "243",
          "109",
          "7",
          "168",
          "185",
          "134",
          "239",
          "22",
          "114",
          "3",
          "110",
          "166",
          "188",
          "1",
          "62",
          "122",
          "51",
          "46",
          "43",
          "64",
          "8",
          "53",
          "61",
          "12",
          "63",
          "69",
          "14",
          "145",
          "247",
          "187",
          "191",
          "131",
          "161",
          "50",
          "5",
          "229",
          "104"
         ],
         "textfont": {
          "color": "rgb(51,160,44)",
          "family": "sans serif",
          "size": 18
         },
         "textposition": "bottom center",
         "type": "scatter",
         "visible": false,
         "x": [
          0,
          1,
          2,
          3,
          4,
          5,
          6,
          7,
          8,
          9,
          10,
          11,
          12,
          13,
          14,
          15,
          16,
          17,
          18,
          19,
          20,
          21,
          22,
          23,
          24,
          25,
          26,
          27,
          28,
          29,
          30,
          31,
          32,
          33,
          34,
          35,
          36,
          37,
          38,
          39,
          40,
          41,
          42,
          43
         ],
         "y": [
          0.2585115461706605,
          0.2585013926658759,
          0.25849191273206595,
          0.25848425014260706,
          0.25847658761042724,
          0.25846895771332346,
          0.25841417045572435,
          0.2583753442932019,
          0.2583379709349471,
          0.25830518432568883,
          0.2582884575024018,
          0.25827935433690496,
          0.25827481947256237,
          0.2582706896841507,
          0.2582668471905877,
          0.25827867267680193,
          0.2582846698272714,
          0.2582896479008121,
          0.25829447876397954,
          0.25830838262543754,
          0.25832052103069225,
          0.258330816540456,
          0.25834063397477425,
          0.25835008407335536,
          0.2583730518356739,
          0.2583898312720123,
          0.25840501145429406,
          0.25841957195043214,
          0.2584130638466053,
          0.2584075608743165,
          0.2584028529722902,
          0.2583983209534868,
          0.2583993361598332,
          0.25840029841864665,
          0.2584012237811157,
          0.2584020954696644,
          0.25839582033046343,
          0.2583900153267545,
          0.2583842885710793,
          0.25838026751701754,
          0.2583006428520334,
          0.2582448575432554,
          0.2582022456933385,
          0.25816031909392384
         ]
        },
        {
         "mode": "text",
         "name": "",
         "text": [
          "",
          "43",
          "128",
          "223",
          "115",
          "241",
          "186",
          "247",
          "111",
          "6",
          "171",
          "188",
          "136",
          "243",
          "21",
          "116",
          "2",
          "112",
          "169",
          "191",
          "0",
          "61",
          "124",
          "50",
          "45",
          "42",
          "63",
          "7",
          "52",
          "60",
          "11",
          "62",
          "68",
          "13",
          "148",
          "251",
          "190",
          "194",
          "133",
          "164",
          "49",
          "4",
          "233",
          "106"
         ],
         "textfont": {
          "color": "rgb(51,160,44)",
          "family": "sans serif",
          "size": 18
         },
         "textposition": "bottom center",
         "type": "scatter",
         "visible": false,
         "x": [
          0,
          1,
          2,
          3,
          4,
          5,
          6,
          7,
          8,
          9,
          10,
          11,
          12,
          13,
          14,
          15,
          16,
          17,
          18,
          19,
          20,
          21,
          22,
          23,
          24,
          25,
          26,
          27,
          28,
          29,
          30,
          31,
          32,
          33,
          34,
          35,
          36,
          37,
          38,
          39,
          40,
          41,
          42,
          43
         ],
         "y": [
          0.2585115461706605,
          0.2585013926658759,
          0.25849191273206595,
          0.25848425014260706,
          0.25847658761042724,
          0.25846895771332346,
          0.25841417045572435,
          0.2583753442932019,
          0.2583379709349471,
          0.25830518432568883,
          0.2582884575024018,
          0.25827935433690496,
          0.25827481947256237,
          0.2582706896841507,
          0.2582668471905877,
          0.25827867267680193,
          0.2582846698272714,
          0.2582896479008121,
          0.25829447876397954,
          0.25830838262543754,
          0.25832052103069225,
          0.258330816540456,
          0.25834063397477425,
          0.25835008407335536,
          0.2583730518356739,
          0.2583898312720123,
          0.25840501145429406,
          0.25841957195043214,
          0.2584130638466053,
          0.2584075608743165,
          0.2584028529722902,
          0.2583983209534868,
          0.2583993361598332,
          0.25840029841864665,
          0.2584012237811157,
          0.2584020954696644,
          0.25839582033046343,
          0.2583900153267545,
          0.2583842885710793,
          0.25838026751701754,
          0.2583006428520334,
          0.2582448575432554,
          0.2582022456933385,
          0.25816031909392384
         ]
        }
       ],
       "layout": {
        "showlegend": false,
        "template": {
         "data": {
          "bar": [
           {
            "error_x": {
             "color": "#2a3f5f"
            },
            "error_y": {
             "color": "#2a3f5f"
            },
            "marker": {
             "line": {
              "color": "#E5ECF6",
              "width": 0.5
             },
             "pattern": {
              "fillmode": "overlay",
              "size": 10,
              "solidity": 0.2
             }
            },
            "type": "bar"
           }
          ],
          "barpolar": [
           {
            "marker": {
             "line": {
              "color": "#E5ECF6",
              "width": 0.5
             },
             "pattern": {
              "fillmode": "overlay",
              "size": 10,
              "solidity": 0.2
             }
            },
            "type": "barpolar"
           }
          ],
          "carpet": [
           {
            "aaxis": {
             "endlinecolor": "#2a3f5f",
             "gridcolor": "white",
             "linecolor": "white",
             "minorgridcolor": "white",
             "startlinecolor": "#2a3f5f"
            },
            "baxis": {
             "endlinecolor": "#2a3f5f",
             "gridcolor": "white",
             "linecolor": "white",
             "minorgridcolor": "white",
             "startlinecolor": "#2a3f5f"
            },
            "type": "carpet"
           }
          ],
          "choropleth": [
           {
            "colorbar": {
             "outlinewidth": 0,
             "ticks": ""
            },
            "type": "choropleth"
           }
          ],
          "contour": [
           {
            "colorbar": {
             "outlinewidth": 0,
             "ticks": ""
            },
            "colorscale": [
             [
              0,
              "#0d0887"
             ],
             [
              0.1111111111111111,
              "#46039f"
             ],
             [
              0.2222222222222222,
              "#7201a8"
             ],
             [
              0.3333333333333333,
              "#9c179e"
             ],
             [
              0.4444444444444444,
              "#bd3786"
             ],
             [
              0.5555555555555556,
              "#d8576b"
             ],
             [
              0.6666666666666666,
              "#ed7953"
             ],
             [
              0.7777777777777778,
              "#fb9f3a"
             ],
             [
              0.8888888888888888,
              "#fdca26"
             ],
             [
              1,
              "#f0f921"
             ]
            ],
            "type": "contour"
           }
          ],
          "contourcarpet": [
           {
            "colorbar": {
             "outlinewidth": 0,
             "ticks": ""
            },
            "type": "contourcarpet"
           }
          ],
          "heatmap": [
           {
            "colorbar": {
             "outlinewidth": 0,
             "ticks": ""
            },
            "colorscale": [
             [
              0,
              "#0d0887"
             ],
             [
              0.1111111111111111,
              "#46039f"
             ],
             [
              0.2222222222222222,
              "#7201a8"
             ],
             [
              0.3333333333333333,
              "#9c179e"
             ],
             [
              0.4444444444444444,
              "#bd3786"
             ],
             [
              0.5555555555555556,
              "#d8576b"
             ],
             [
              0.6666666666666666,
              "#ed7953"
             ],
             [
              0.7777777777777778,
              "#fb9f3a"
             ],
             [
              0.8888888888888888,
              "#fdca26"
             ],
             [
              1,
              "#f0f921"
             ]
            ],
            "type": "heatmap"
           }
          ],
          "heatmapgl": [
           {
            "colorbar": {
             "outlinewidth": 0,
             "ticks": ""
            },
            "colorscale": [
             [
              0,
              "#0d0887"
             ],
             [
              0.1111111111111111,
              "#46039f"
             ],
             [
              0.2222222222222222,
              "#7201a8"
             ],
             [
              0.3333333333333333,
              "#9c179e"
             ],
             [
              0.4444444444444444,
              "#bd3786"
             ],
             [
              0.5555555555555556,
              "#d8576b"
             ],
             [
              0.6666666666666666,
              "#ed7953"
             ],
             [
              0.7777777777777778,
              "#fb9f3a"
             ],
             [
              0.8888888888888888,
              "#fdca26"
             ],
             [
              1,
              "#f0f921"
             ]
            ],
            "type": "heatmapgl"
           }
          ],
          "histogram": [
           {
            "marker": {
             "pattern": {
              "fillmode": "overlay",
              "size": 10,
              "solidity": 0.2
             }
            },
            "type": "histogram"
           }
          ],
          "histogram2d": [
           {
            "colorbar": {
             "outlinewidth": 0,
             "ticks": ""
            },
            "colorscale": [
             [
              0,
              "#0d0887"
             ],
             [
              0.1111111111111111,
              "#46039f"
             ],
             [
              0.2222222222222222,
              "#7201a8"
             ],
             [
              0.3333333333333333,
              "#9c179e"
             ],
             [
              0.4444444444444444,
              "#bd3786"
             ],
             [
              0.5555555555555556,
              "#d8576b"
             ],
             [
              0.6666666666666666,
              "#ed7953"
             ],
             [
              0.7777777777777778,
              "#fb9f3a"
             ],
             [
              0.8888888888888888,
              "#fdca26"
             ],
             [
              1,
              "#f0f921"
             ]
            ],
            "type": "histogram2d"
           }
          ],
          "histogram2dcontour": [
           {
            "colorbar": {
             "outlinewidth": 0,
             "ticks": ""
            },
            "colorscale": [
             [
              0,
              "#0d0887"
             ],
             [
              0.1111111111111111,
              "#46039f"
             ],
             [
              0.2222222222222222,
              "#7201a8"
             ],
             [
              0.3333333333333333,
              "#9c179e"
             ],
             [
              0.4444444444444444,
              "#bd3786"
             ],
             [
              0.5555555555555556,
              "#d8576b"
             ],
             [
              0.6666666666666666,
              "#ed7953"
             ],
             [
              0.7777777777777778,
              "#fb9f3a"
             ],
             [
              0.8888888888888888,
              "#fdca26"
             ],
             [
              1,
              "#f0f921"
             ]
            ],
            "type": "histogram2dcontour"
           }
          ],
          "mesh3d": [
           {
            "colorbar": {
             "outlinewidth": 0,
             "ticks": ""
            },
            "type": "mesh3d"
           }
          ],
          "parcoords": [
           {
            "line": {
             "colorbar": {
              "outlinewidth": 0,
              "ticks": ""
             }
            },
            "type": "parcoords"
           }
          ],
          "pie": [
           {
            "automargin": true,
            "type": "pie"
           }
          ],
          "scatter": [
           {
            "fillpattern": {
             "fillmode": "overlay",
             "size": 10,
             "solidity": 0.2
            },
            "type": "scatter"
           }
          ],
          "scatter3d": [
           {
            "line": {
             "colorbar": {
              "outlinewidth": 0,
              "ticks": ""
             }
            },
            "marker": {
             "colorbar": {
              "outlinewidth": 0,
              "ticks": ""
             }
            },
            "type": "scatter3d"
           }
          ],
          "scattercarpet": [
           {
            "marker": {
             "colorbar": {
              "outlinewidth": 0,
              "ticks": ""
             }
            },
            "type": "scattercarpet"
           }
          ],
          "scattergeo": [
           {
            "marker": {
             "colorbar": {
              "outlinewidth": 0,
              "ticks": ""
             }
            },
            "type": "scattergeo"
           }
          ],
          "scattergl": [
           {
            "marker": {
             "colorbar": {
              "outlinewidth": 0,
              "ticks": ""
             }
            },
            "type": "scattergl"
           }
          ],
          "scattermapbox": [
           {
            "marker": {
             "colorbar": {
              "outlinewidth": 0,
              "ticks": ""
             }
            },
            "type": "scattermapbox"
           }
          ],
          "scatterpolar": [
           {
            "marker": {
             "colorbar": {
              "outlinewidth": 0,
              "ticks": ""
             }
            },
            "type": "scatterpolar"
           }
          ],
          "scatterpolargl": [
           {
            "marker": {
             "colorbar": {
              "outlinewidth": 0,
              "ticks": ""
             }
            },
            "type": "scatterpolargl"
           }
          ],
          "scatterternary": [
           {
            "marker": {
             "colorbar": {
              "outlinewidth": 0,
              "ticks": ""
             }
            },
            "type": "scatterternary"
           }
          ],
          "surface": [
           {
            "colorbar": {
             "outlinewidth": 0,
             "ticks": ""
            },
            "colorscale": [
             [
              0,
              "#0d0887"
             ],
             [
              0.1111111111111111,
              "#46039f"
             ],
             [
              0.2222222222222222,
              "#7201a8"
             ],
             [
              0.3333333333333333,
              "#9c179e"
             ],
             [
              0.4444444444444444,
              "#bd3786"
             ],
             [
              0.5555555555555556,
              "#d8576b"
             ],
             [
              0.6666666666666666,
              "#ed7953"
             ],
             [
              0.7777777777777778,
              "#fb9f3a"
             ],
             [
              0.8888888888888888,
              "#fdca26"
             ],
             [
              1,
              "#f0f921"
             ]
            ],
            "type": "surface"
           }
          ],
          "table": [
           {
            "cells": {
             "fill": {
              "color": "#EBF0F8"
             },
             "line": {
              "color": "white"
             }
            },
            "header": {
             "fill": {
              "color": "#C8D4E3"
             },
             "line": {
              "color": "white"
             }
            },
            "type": "table"
           }
          ]
         },
         "layout": {
          "annotationdefaults": {
           "arrowcolor": "#2a3f5f",
           "arrowhead": 0,
           "arrowwidth": 1
          },
          "autotypenumbers": "strict",
          "coloraxis": {
           "colorbar": {
            "outlinewidth": 0,
            "ticks": ""
           }
          },
          "colorscale": {
           "diverging": [
            [
             0,
             "#8e0152"
            ],
            [
             0.1,
             "#c51b7d"
            ],
            [
             0.2,
             "#de77ae"
            ],
            [
             0.3,
             "#f1b6da"
            ],
            [
             0.4,
             "#fde0ef"
            ],
            [
             0.5,
             "#f7f7f7"
            ],
            [
             0.6,
             "#e6f5d0"
            ],
            [
             0.7,
             "#b8e186"
            ],
            [
             0.8,
             "#7fbc41"
            ],
            [
             0.9,
             "#4d9221"
            ],
            [
             1,
             "#276419"
            ]
           ],
           "sequential": [
            [
             0,
             "#0d0887"
            ],
            [
             0.1111111111111111,
             "#46039f"
            ],
            [
             0.2222222222222222,
             "#7201a8"
            ],
            [
             0.3333333333333333,
             "#9c179e"
            ],
            [
             0.4444444444444444,
             "#bd3786"
            ],
            [
             0.5555555555555556,
             "#d8576b"
            ],
            [
             0.6666666666666666,
             "#ed7953"
            ],
            [
             0.7777777777777778,
             "#fb9f3a"
            ],
            [
             0.8888888888888888,
             "#fdca26"
            ],
            [
             1,
             "#f0f921"
            ]
           ],
           "sequentialminus": [
            [
             0,
             "#0d0887"
            ],
            [
             0.1111111111111111,
             "#46039f"
            ],
            [
             0.2222222222222222,
             "#7201a8"
            ],
            [
             0.3333333333333333,
             "#9c179e"
            ],
            [
             0.4444444444444444,
             "#bd3786"
            ],
            [
             0.5555555555555556,
             "#d8576b"
            ],
            [
             0.6666666666666666,
             "#ed7953"
            ],
            [
             0.7777777777777778,
             "#fb9f3a"
            ],
            [
             0.8888888888888888,
             "#fdca26"
            ],
            [
             1,
             "#f0f921"
            ]
           ]
          },
          "colorway": [
           "#636efa",
           "#EF553B",
           "#00cc96",
           "#ab63fa",
           "#FFA15A",
           "#19d3f3",
           "#FF6692",
           "#B6E880",
           "#FF97FF",
           "#FECB52"
          ],
          "font": {
           "color": "#2a3f5f"
          },
          "geo": {
           "bgcolor": "white",
           "lakecolor": "white",
           "landcolor": "#E5ECF6",
           "showlakes": true,
           "showland": true,
           "subunitcolor": "white"
          },
          "hoverlabel": {
           "align": "left"
          },
          "hovermode": "closest",
          "mapbox": {
           "style": "light"
          },
          "paper_bgcolor": "white",
          "plot_bgcolor": "#E5ECF6",
          "polar": {
           "angularaxis": {
            "gridcolor": "white",
            "linecolor": "white",
            "ticks": ""
           },
           "bgcolor": "#E5ECF6",
           "radialaxis": {
            "gridcolor": "white",
            "linecolor": "white",
            "ticks": ""
           }
          },
          "scene": {
           "xaxis": {
            "backgroundcolor": "#E5ECF6",
            "gridcolor": "white",
            "gridwidth": 2,
            "linecolor": "white",
            "showbackground": true,
            "ticks": "",
            "zerolinecolor": "white"
           },
           "yaxis": {
            "backgroundcolor": "#E5ECF6",
            "gridcolor": "white",
            "gridwidth": 2,
            "linecolor": "white",
            "showbackground": true,
            "ticks": "",
            "zerolinecolor": "white"
           },
           "zaxis": {
            "backgroundcolor": "#E5ECF6",
            "gridcolor": "white",
            "gridwidth": 2,
            "linecolor": "white",
            "showbackground": true,
            "ticks": "",
            "zerolinecolor": "white"
           }
          },
          "shapedefaults": {
           "line": {
            "color": "#2a3f5f"
           }
          },
          "ternary": {
           "aaxis": {
            "gridcolor": "white",
            "linecolor": "white",
            "ticks": ""
           },
           "baxis": {
            "gridcolor": "white",
            "linecolor": "white",
            "ticks": ""
           },
           "bgcolor": "#E5ECF6",
           "caxis": {
            "gridcolor": "white",
            "linecolor": "white",
            "ticks": ""
           }
          },
          "title": {
           "x": 0.05
          },
          "xaxis": {
           "automargin": true,
           "gridcolor": "white",
           "linecolor": "white",
           "ticks": "",
           "title": {
            "standoff": 15
           },
           "zerolinecolor": "white",
           "zerolinewidth": 2
          },
          "yaxis": {
           "automargin": true,
           "gridcolor": "white",
           "linecolor": "white",
           "ticks": "",
           "title": {
            "standoff": 15
           },
           "zerolinecolor": "white",
           "zerolinewidth": 2
          }
         }
        },
        "title": {
         "text": "Loss by eliminated features"
        },
        "updatemenus": [
         {
          "active": 0,
          "buttons": [
           {
            "args": [
             {
              "visible": [
               true,
               true,
               false,
               false
              ]
             }
            ],
            "label": "Hide features",
            "method": "update"
           },
           {
            "args": [
             {
              "visible": [
               true,
               true,
               true,
               false
              ]
             }
            ],
            "label": "Show indices",
            "method": "update"
           },
           {
            "args": [
             {
              "visible": [
               true,
               true,
               false,
               true
              ]
             }
            ],
            "label": "Show names",
            "method": "update"
           }
          ],
          "pad": {
           "r": 10,
           "t": 10
          },
          "showactive": true,
          "x": -0.25,
          "xanchor": "left",
          "y": 1.03,
          "yanchor": "top"
         }
        ],
        "xaxis": {
         "gridcolor": "rgb(255,255,255)",
         "showgrid": true,
         "showline": false,
         "showticklabels": true,
         "tickcolor": "rgb(127,127,127)",
         "ticks": "outside",
         "title": {
          "text": "number of removed features"
         },
         "zeroline": false
        },
        "yaxis": {
         "gridcolor": "rgb(255,255,255)",
         "showgrid": true,
         "showline": false,
         "showticklabels": true,
         "tickcolor": "rgb(127,127,127)",
         "tickfont": {
          "color": "rgb(51,160,44)"
         },
         "ticks": "outside",
         "title": {
          "font": {
           "color": "rgb(51,160,44)"
          },
          "text": "loss value"
         },
         "zeroline": false
        }
       }
      },
      "text/html": [
       "<div>                            <div id=\"e6b93d7d-c40b-4184-8568-1dbce3718327\" class=\"plotly-graph-div\" style=\"height:525px; width:100%;\"></div>            <script type=\"text/javascript\">                require([\"plotly\"], function(Plotly) {                    window.PLOTLYENV=window.PLOTLYENV || {};                                    if (document.getElementById(\"e6b93d7d-c40b-4184-8568-1dbce3718327\")) {                    Plotly.newPlot(                        \"e6b93d7d-c40b-4184-8568-1dbce3718327\",                        [{\"line\":{\"color\":\"rgb(51,160,44)\"},\"mode\":\"lines+markers\",\"name\":\"\",\"text\":[\"\",\"43\",\"128\",\"223\",\"115\",\"241\",\"186\",\"247\",\"111\",\"6\",\"171\",\"188\",\"136\",\"243\",\"21\",\"116\",\"2\",\"112\",\"169\",\"191\",\"0\",\"61\",\"124\",\"50\",\"45\",\"42\",\"63\",\"7\",\"52\",\"60\",\"11\",\"62\",\"68\",\"13\",\"148\",\"251\",\"190\",\"194\",\"133\",\"164\",\"49\",\"4\",\"233\",\"106\"],\"x\":[0,1,2,3,4,5,6,7,8,9,10,11,12,13,14,15,16,17,18,19,20,21,22,23,24,25,26,27,28,29,30,31,32,33,34,35,36,37,38,39,40,41,42,43],\"y\":[0.2585115461706605,0.2585013926658759,0.25849191273206595,0.25848425014260706,0.25847658761042724,0.25846895771332346,0.25841417045572435,0.2583753442932019,0.2583379709349471,0.25830518432568883,0.2582884575024018,0.25827935433690496,0.25827481947256237,0.2582706896841507,0.2582668471905877,0.25827867267680193,0.2582846698272714,0.2582896479008121,0.25829447876397954,0.25830838262543754,0.25832052103069225,0.258330816540456,0.25834063397477425,0.25835008407335536,0.2583730518356739,0.2583898312720123,0.25840501145429406,0.25841957195043214,0.2584130638466053,0.2584075608743165,0.2584028529722902,0.2583983209534868,0.2583993361598332,0.25840029841864665,0.2584012237811157,0.2584020954696644,0.25839582033046343,0.2583900153267545,0.2583842885710793,0.25838026751701754,0.2583006428520334,0.2582448575432554,0.2582022456933385,0.25816031909392384],\"type\":\"scatter\"},{\"marker\":{\"size\":10,\"symbol\":\"square\"},\"mode\":\"markers\",\"name\":\"\",\"text\":[\"\",\"241\",\"6\",\"21\",\"169\",\"50\",\"7\",\"62\",\"251\",\"164\",\"106\"],\"x\":[0,5,9,14,18,23,27,31,35,39,43],\"y\":[0.2585115461706605,0.25846895771332346,0.25830518432568883,0.2582668471905877,0.25829447876397954,0.25835008407335536,0.25841957195043214,0.2583983209534868,0.2584020954696644,0.25838026751701754,0.25816031909392384],\"type\":\"scatter\"},{\"mode\":\"text\",\"name\":\"\",\"text\":[\"\",\"44\",\"126\",\"219\",\"113\",\"237\",\"183\",\"243\",\"109\",\"7\",\"168\",\"185\",\"134\",\"239\",\"22\",\"114\",\"3\",\"110\",\"166\",\"188\",\"1\",\"62\",\"122\",\"51\",\"46\",\"43\",\"64\",\"8\",\"53\",\"61\",\"12\",\"63\",\"69\",\"14\",\"145\",\"247\",\"187\",\"191\",\"131\",\"161\",\"50\",\"5\",\"229\",\"104\"],\"textfont\":{\"color\":\"rgb(51,160,44)\",\"family\":\"sans serif\",\"size\":18},\"textposition\":\"bottom center\",\"visible\":false,\"x\":[0,1,2,3,4,5,6,7,8,9,10,11,12,13,14,15,16,17,18,19,20,21,22,23,24,25,26,27,28,29,30,31,32,33,34,35,36,37,38,39,40,41,42,43],\"y\":[0.2585115461706605,0.2585013926658759,0.25849191273206595,0.25848425014260706,0.25847658761042724,0.25846895771332346,0.25841417045572435,0.2583753442932019,0.2583379709349471,0.25830518432568883,0.2582884575024018,0.25827935433690496,0.25827481947256237,0.2582706896841507,0.2582668471905877,0.25827867267680193,0.2582846698272714,0.2582896479008121,0.25829447876397954,0.25830838262543754,0.25832052103069225,0.258330816540456,0.25834063397477425,0.25835008407335536,0.2583730518356739,0.2583898312720123,0.25840501145429406,0.25841957195043214,0.2584130638466053,0.2584075608743165,0.2584028529722902,0.2583983209534868,0.2583993361598332,0.25840029841864665,0.2584012237811157,0.2584020954696644,0.25839582033046343,0.2583900153267545,0.2583842885710793,0.25838026751701754,0.2583006428520334,0.2582448575432554,0.2582022456933385,0.25816031909392384],\"type\":\"scatter\"},{\"mode\":\"text\",\"name\":\"\",\"text\":[\"\",\"43\",\"128\",\"223\",\"115\",\"241\",\"186\",\"247\",\"111\",\"6\",\"171\",\"188\",\"136\",\"243\",\"21\",\"116\",\"2\",\"112\",\"169\",\"191\",\"0\",\"61\",\"124\",\"50\",\"45\",\"42\",\"63\",\"7\",\"52\",\"60\",\"11\",\"62\",\"68\",\"13\",\"148\",\"251\",\"190\",\"194\",\"133\",\"164\",\"49\",\"4\",\"233\",\"106\"],\"textfont\":{\"color\":\"rgb(51,160,44)\",\"family\":\"sans serif\",\"size\":18},\"textposition\":\"bottom center\",\"visible\":false,\"x\":[0,1,2,3,4,5,6,7,8,9,10,11,12,13,14,15,16,17,18,19,20,21,22,23,24,25,26,27,28,29,30,31,32,33,34,35,36,37,38,39,40,41,42,43],\"y\":[0.2585115461706605,0.2585013926658759,0.25849191273206595,0.25848425014260706,0.25847658761042724,0.25846895771332346,0.25841417045572435,0.2583753442932019,0.2583379709349471,0.25830518432568883,0.2582884575024018,0.25827935433690496,0.25827481947256237,0.2582706896841507,0.2582668471905877,0.25827867267680193,0.2582846698272714,0.2582896479008121,0.25829447876397954,0.25830838262543754,0.25832052103069225,0.258330816540456,0.25834063397477425,0.25835008407335536,0.2583730518356739,0.2583898312720123,0.25840501145429406,0.25841957195043214,0.2584130638466053,0.2584075608743165,0.2584028529722902,0.2583983209534868,0.2583993361598332,0.25840029841864665,0.2584012237811157,0.2584020954696644,0.25839582033046343,0.2583900153267545,0.2583842885710793,0.25838026751701754,0.2583006428520334,0.2582448575432554,0.2582022456933385,0.25816031909392384],\"type\":\"scatter\"}],                        {\"template\":{\"data\":{\"histogram2dcontour\":[{\"type\":\"histogram2dcontour\",\"colorbar\":{\"outlinewidth\":0,\"ticks\":\"\"},\"colorscale\":[[0.0,\"#0d0887\"],[0.1111111111111111,\"#46039f\"],[0.2222222222222222,\"#7201a8\"],[0.3333333333333333,\"#9c179e\"],[0.4444444444444444,\"#bd3786\"],[0.5555555555555556,\"#d8576b\"],[0.6666666666666666,\"#ed7953\"],[0.7777777777777778,\"#fb9f3a\"],[0.8888888888888888,\"#fdca26\"],[1.0,\"#f0f921\"]]}],\"choropleth\":[{\"type\":\"choropleth\",\"colorbar\":{\"outlinewidth\":0,\"ticks\":\"\"}}],\"histogram2d\":[{\"type\":\"histogram2d\",\"colorbar\":{\"outlinewidth\":0,\"ticks\":\"\"},\"colorscale\":[[0.0,\"#0d0887\"],[0.1111111111111111,\"#46039f\"],[0.2222222222222222,\"#7201a8\"],[0.3333333333333333,\"#9c179e\"],[0.4444444444444444,\"#bd3786\"],[0.5555555555555556,\"#d8576b\"],[0.6666666666666666,\"#ed7953\"],[0.7777777777777778,\"#fb9f3a\"],[0.8888888888888888,\"#fdca26\"],[1.0,\"#f0f921\"]]}],\"heatmap\":[{\"type\":\"heatmap\",\"colorbar\":{\"outlinewidth\":0,\"ticks\":\"\"},\"colorscale\":[[0.0,\"#0d0887\"],[0.1111111111111111,\"#46039f\"],[0.2222222222222222,\"#7201a8\"],[0.3333333333333333,\"#9c179e\"],[0.4444444444444444,\"#bd3786\"],[0.5555555555555556,\"#d8576b\"],[0.6666666666666666,\"#ed7953\"],[0.7777777777777778,\"#fb9f3a\"],[0.8888888888888888,\"#fdca26\"],[1.0,\"#f0f921\"]]}],\"heatmapgl\":[{\"type\":\"heatmapgl\",\"colorbar\":{\"outlinewidth\":0,\"ticks\":\"\"},\"colorscale\":[[0.0,\"#0d0887\"],[0.1111111111111111,\"#46039f\"],[0.2222222222222222,\"#7201a8\"],[0.3333333333333333,\"#9c179e\"],[0.4444444444444444,\"#bd3786\"],[0.5555555555555556,\"#d8576b\"],[0.6666666666666666,\"#ed7953\"],[0.7777777777777778,\"#fb9f3a\"],[0.8888888888888888,\"#fdca26\"],[1.0,\"#f0f921\"]]}],\"contourcarpet\":[{\"type\":\"contourcarpet\",\"colorbar\":{\"outlinewidth\":0,\"ticks\":\"\"}}],\"contour\":[{\"type\":\"contour\",\"colorbar\":{\"outlinewidth\":0,\"ticks\":\"\"},\"colorscale\":[[0.0,\"#0d0887\"],[0.1111111111111111,\"#46039f\"],[0.2222222222222222,\"#7201a8\"],[0.3333333333333333,\"#9c179e\"],[0.4444444444444444,\"#bd3786\"],[0.5555555555555556,\"#d8576b\"],[0.6666666666666666,\"#ed7953\"],[0.7777777777777778,\"#fb9f3a\"],[0.8888888888888888,\"#fdca26\"],[1.0,\"#f0f921\"]]}],\"surface\":[{\"type\":\"surface\",\"colorbar\":{\"outlinewidth\":0,\"ticks\":\"\"},\"colorscale\":[[0.0,\"#0d0887\"],[0.1111111111111111,\"#46039f\"],[0.2222222222222222,\"#7201a8\"],[0.3333333333333333,\"#9c179e\"],[0.4444444444444444,\"#bd3786\"],[0.5555555555555556,\"#d8576b\"],[0.6666666666666666,\"#ed7953\"],[0.7777777777777778,\"#fb9f3a\"],[0.8888888888888888,\"#fdca26\"],[1.0,\"#f0f921\"]]}],\"mesh3d\":[{\"type\":\"mesh3d\",\"colorbar\":{\"outlinewidth\":0,\"ticks\":\"\"}}],\"scatter\":[{\"fillpattern\":{\"fillmode\":\"overlay\",\"size\":10,\"solidity\":0.2},\"type\":\"scatter\"}],\"parcoords\":[{\"type\":\"parcoords\",\"line\":{\"colorbar\":{\"outlinewidth\":0,\"ticks\":\"\"}}}],\"scatterpolargl\":[{\"type\":\"scatterpolargl\",\"marker\":{\"colorbar\":{\"outlinewidth\":0,\"ticks\":\"\"}}}],\"bar\":[{\"error_x\":{\"color\":\"#2a3f5f\"},\"error_y\":{\"color\":\"#2a3f5f\"},\"marker\":{\"line\":{\"color\":\"#E5ECF6\",\"width\":0.5},\"pattern\":{\"fillmode\":\"overlay\",\"size\":10,\"solidity\":0.2}},\"type\":\"bar\"}],\"scattergeo\":[{\"type\":\"scattergeo\",\"marker\":{\"colorbar\":{\"outlinewidth\":0,\"ticks\":\"\"}}}],\"scatterpolar\":[{\"type\":\"scatterpolar\",\"marker\":{\"colorbar\":{\"outlinewidth\":0,\"ticks\":\"\"}}}],\"histogram\":[{\"marker\":{\"pattern\":{\"fillmode\":\"overlay\",\"size\":10,\"solidity\":0.2}},\"type\":\"histogram\"}],\"scattergl\":[{\"type\":\"scattergl\",\"marker\":{\"colorbar\":{\"outlinewidth\":0,\"ticks\":\"\"}}}],\"scatter3d\":[{\"type\":\"scatter3d\",\"line\":{\"colorbar\":{\"outlinewidth\":0,\"ticks\":\"\"}},\"marker\":{\"colorbar\":{\"outlinewidth\":0,\"ticks\":\"\"}}}],\"scattermapbox\":[{\"type\":\"scattermapbox\",\"marker\":{\"colorbar\":{\"outlinewidth\":0,\"ticks\":\"\"}}}],\"scatterternary\":[{\"type\":\"scatterternary\",\"marker\":{\"colorbar\":{\"outlinewidth\":0,\"ticks\":\"\"}}}],\"scattercarpet\":[{\"type\":\"scattercarpet\",\"marker\":{\"colorbar\":{\"outlinewidth\":0,\"ticks\":\"\"}}}],\"carpet\":[{\"aaxis\":{\"endlinecolor\":\"#2a3f5f\",\"gridcolor\":\"white\",\"linecolor\":\"white\",\"minorgridcolor\":\"white\",\"startlinecolor\":\"#2a3f5f\"},\"baxis\":{\"endlinecolor\":\"#2a3f5f\",\"gridcolor\":\"white\",\"linecolor\":\"white\",\"minorgridcolor\":\"white\",\"startlinecolor\":\"#2a3f5f\"},\"type\":\"carpet\"}],\"table\":[{\"cells\":{\"fill\":{\"color\":\"#EBF0F8\"},\"line\":{\"color\":\"white\"}},\"header\":{\"fill\":{\"color\":\"#C8D4E3\"},\"line\":{\"color\":\"white\"}},\"type\":\"table\"}],\"barpolar\":[{\"marker\":{\"line\":{\"color\":\"#E5ECF6\",\"width\":0.5},\"pattern\":{\"fillmode\":\"overlay\",\"size\":10,\"solidity\":0.2}},\"type\":\"barpolar\"}],\"pie\":[{\"automargin\":true,\"type\":\"pie\"}]},\"layout\":{\"autotypenumbers\":\"strict\",\"colorway\":[\"#636efa\",\"#EF553B\",\"#00cc96\",\"#ab63fa\",\"#FFA15A\",\"#19d3f3\",\"#FF6692\",\"#B6E880\",\"#FF97FF\",\"#FECB52\"],\"font\":{\"color\":\"#2a3f5f\"},\"hovermode\":\"closest\",\"hoverlabel\":{\"align\":\"left\"},\"paper_bgcolor\":\"white\",\"plot_bgcolor\":\"#E5ECF6\",\"polar\":{\"bgcolor\":\"#E5ECF6\",\"angularaxis\":{\"gridcolor\":\"white\",\"linecolor\":\"white\",\"ticks\":\"\"},\"radialaxis\":{\"gridcolor\":\"white\",\"linecolor\":\"white\",\"ticks\":\"\"}},\"ternary\":{\"bgcolor\":\"#E5ECF6\",\"aaxis\":{\"gridcolor\":\"white\",\"linecolor\":\"white\",\"ticks\":\"\"},\"baxis\":{\"gridcolor\":\"white\",\"linecolor\":\"white\",\"ticks\":\"\"},\"caxis\":{\"gridcolor\":\"white\",\"linecolor\":\"white\",\"ticks\":\"\"}},\"coloraxis\":{\"colorbar\":{\"outlinewidth\":0,\"ticks\":\"\"}},\"colorscale\":{\"sequential\":[[0.0,\"#0d0887\"],[0.1111111111111111,\"#46039f\"],[0.2222222222222222,\"#7201a8\"],[0.3333333333333333,\"#9c179e\"],[0.4444444444444444,\"#bd3786\"],[0.5555555555555556,\"#d8576b\"],[0.6666666666666666,\"#ed7953\"],[0.7777777777777778,\"#fb9f3a\"],[0.8888888888888888,\"#fdca26\"],[1.0,\"#f0f921\"]],\"sequentialminus\":[[0.0,\"#0d0887\"],[0.1111111111111111,\"#46039f\"],[0.2222222222222222,\"#7201a8\"],[0.3333333333333333,\"#9c179e\"],[0.4444444444444444,\"#bd3786\"],[0.5555555555555556,\"#d8576b\"],[0.6666666666666666,\"#ed7953\"],[0.7777777777777778,\"#fb9f3a\"],[0.8888888888888888,\"#fdca26\"],[1.0,\"#f0f921\"]],\"diverging\":[[0,\"#8e0152\"],[0.1,\"#c51b7d\"],[0.2,\"#de77ae\"],[0.3,\"#f1b6da\"],[0.4,\"#fde0ef\"],[0.5,\"#f7f7f7\"],[0.6,\"#e6f5d0\"],[0.7,\"#b8e186\"],[0.8,\"#7fbc41\"],[0.9,\"#4d9221\"],[1,\"#276419\"]]},\"xaxis\":{\"gridcolor\":\"white\",\"linecolor\":\"white\",\"ticks\":\"\",\"title\":{\"standoff\":15},\"zerolinecolor\":\"white\",\"automargin\":true,\"zerolinewidth\":2},\"yaxis\":{\"gridcolor\":\"white\",\"linecolor\":\"white\",\"ticks\":\"\",\"title\":{\"standoff\":15},\"zerolinecolor\":\"white\",\"automargin\":true,\"zerolinewidth\":2},\"scene\":{\"xaxis\":{\"backgroundcolor\":\"#E5ECF6\",\"gridcolor\":\"white\",\"linecolor\":\"white\",\"showbackground\":true,\"ticks\":\"\",\"zerolinecolor\":\"white\",\"gridwidth\":2},\"yaxis\":{\"backgroundcolor\":\"#E5ECF6\",\"gridcolor\":\"white\",\"linecolor\":\"white\",\"showbackground\":true,\"ticks\":\"\",\"zerolinecolor\":\"white\",\"gridwidth\":2},\"zaxis\":{\"backgroundcolor\":\"#E5ECF6\",\"gridcolor\":\"white\",\"linecolor\":\"white\",\"showbackground\":true,\"ticks\":\"\",\"zerolinecolor\":\"white\",\"gridwidth\":2}},\"shapedefaults\":{\"line\":{\"color\":\"#2a3f5f\"}},\"annotationdefaults\":{\"arrowcolor\":\"#2a3f5f\",\"arrowhead\":0,\"arrowwidth\":1},\"geo\":{\"bgcolor\":\"white\",\"landcolor\":\"#E5ECF6\",\"subunitcolor\":\"white\",\"showland\":true,\"showlakes\":true,\"lakecolor\":\"white\"},\"title\":{\"x\":0.05},\"mapbox\":{\"style\":\"light\"}}},\"title\":{\"text\":\"Loss by eliminated features\"},\"xaxis\":{\"title\":{\"text\":\"number of removed features\"},\"gridcolor\":\"rgb(255,255,255)\",\"showgrid\":true,\"showline\":false,\"showticklabels\":true,\"tickcolor\":\"rgb(127,127,127)\",\"ticks\":\"outside\",\"zeroline\":false},\"yaxis\":{\"title\":{\"text\":\"loss value\",\"font\":{\"color\":\"rgb(51,160,44)\"}},\"tickfont\":{\"color\":\"rgb(51,160,44)\"},\"gridcolor\":\"rgb(255,255,255)\",\"showgrid\":true,\"showline\":false,\"showticklabels\":true,\"tickcolor\":\"rgb(127,127,127)\",\"ticks\":\"outside\",\"zeroline\":false},\"updatemenus\":[{\"active\":0,\"buttons\":[{\"args\":[{\"visible\":[true,true,false,false]}],\"label\":\"Hide features\",\"method\":\"update\"},{\"args\":[{\"visible\":[true,true,true,false]}],\"label\":\"Show indices\",\"method\":\"update\"},{\"args\":[{\"visible\":[true,true,false,true]}],\"label\":\"Show names\",\"method\":\"update\"}],\"pad\":{\"r\":10,\"t\":10},\"showactive\":true,\"x\":-0.25,\"xanchor\":\"left\",\"y\":1.03,\"yanchor\":\"top\"}],\"showlegend\":false},                        {\"responsive\": true}                    ).then(function(){\n",
       "                            \n",
       "var gd = document.getElementById('e6b93d7d-c40b-4184-8568-1dbce3718327');\n",
       "var x = new MutationObserver(function (mutations, observer) {{\n",
       "        var display = window.getComputedStyle(gd).display;\n",
       "        if (!display || display === 'none') {{\n",
       "            console.log([gd, 'removed!']);\n",
       "            Plotly.purge(gd);\n",
       "            observer.disconnect();\n",
       "        }}\n",
       "}});\n",
       "\n",
       "// Listen for the removal of the full notebook cells\n",
       "var notebookContainer = gd.closest('#notebook-container');\n",
       "if (notebookContainer) {{\n",
       "    x.observe(notebookContainer, {childList: true});\n",
       "}}\n",
       "\n",
       "// Listen for the clearing of the current output cell\n",
       "var outputEl = gd.closest('.output');\n",
       "if (outputEl) {{\n",
       "    x.observe(outputEl, {childList: true});\n",
       "}}\n",
       "\n",
       "                        })                };                });            </script>        </div>"
      ]
     },
     "metadata": {},
     "output_type": "display_data"
    },
    {
     "name": "stdout",
     "output_type": "stream",
     "text": [
      "Eliminated features: ['43', '128', '223', '115', '241', '186', '247', '111', '6', '171', '188', '136', '243', '21', '116', '2', '112', '169', '191', '0', '61', '124', '50', '45', '42', '63', '7', '52', '60', '11', '62', '68', '13', '148', '251', '190', '194', '133', '164', '49', '4', '233', '106']\n"
     ]
    }
   ],
   "source": [
    "def select_features(algorithm: EFeaturesSelectionAlgorithm, steps: int = 1):\n",
    "    print('Algorithm:', algorithm)\n",
    "    model = CatBoostClassifier(iterations=1000, \n",
    "                               task_type='GPU', \n",
    "                               auto_class_weights='SqrtBalanced', \n",
    "                               allow_writing_files=False,\n",
    "                               eval_metric='TotalF1:average=Macro',\n",
    "                               random_seed=42)\n",
    "    summary = model.select_features(\n",
    "                                    train_pool,\n",
    "                                    eval_set=valid_pool,\n",
    "                                    features_for_select=list(range(X_train.shape[1])),\n",
    "                                    num_features_to_select=210,\n",
    "                                    steps=steps,\n",
    "                                    algorithm=algorithm,\n",
    "                                    shap_calc_type=EShapCalcType.Exact,\n",
    "                                    train_final_model=True,\n",
    "                                    logging_level='Silent',\n",
    "                                    plot=True\n",
    "    )\n",
    "    print('Eliminated features:', summary['eliminated_features_names'])\n",
    "    return summary\n",
    "\n",
    "feature_set = select_features(algorithm=EFeaturesSelectionAlgorithm.RecursiveByShapValues, steps=10)"
   ]
  },
  {
   "cell_type": "code",
   "execution_count": 59,
   "id": "0b2d3e7d",
   "metadata": {},
   "outputs": [
    {
     "name": "stdout",
     "output_type": "stream",
     "text": [
      "              precision    recall  f1-score   support\n",
      "\n",
      "         0.0     0.9817    0.9213    0.9506    540027\n",
      "         1.0     0.4362    0.7802    0.5596     42130\n",
      "\n",
      "    accuracy                         0.9111    582157\n",
      "   macro avg     0.7090    0.8508    0.7551    582157\n",
      "weighted avg     0.9423    0.9111    0.9223    582157\n",
      "\n",
      "              precision    recall  f1-score   support\n",
      "\n",
      "         0.0     0.9809    0.9213    0.9502    231440\n",
      "         1.0     0.4331    0.7707    0.5545     18056\n",
      "\n",
      "    accuracy                         0.9104    249496\n",
      "   macro avg     0.7070    0.8460    0.7524    249496\n",
      "weighted avg     0.9413    0.9104    0.9216    249496\n",
      "\n"
     ]
    }
   ],
   "source": [
    "X_train_sel = X_train.drop(feature_set['eliminated_features_names'], axis=1)\n",
    "X_valid_sel = X_valid.drop(feature_set['eliminated_features_names'], axis=1)\n",
    "\n",
    "cat_cols = X_valid_sel.select_dtypes('category').columns.tolist()\n",
    "\n",
    "train_pool = Pool(X_train_sel, y_train, cat_features=cat_cols)\n",
    "valid_pool = Pool(X_valid_sel, y_valid, cat_features=cat_cols)\n",
    "\n",
    "cat = CatBoostClassifier(task_type='GPU', \n",
    "                         auto_class_weights='SqrtBalanced',\n",
    "                         allow_writing_files=False,\n",
    "                         # eval_metric='TotalF1:average=Macro',\n",
    "                         # random_seed=42,\n",
    "                         silent=True\n",
    "                                    ).fit(train_pool, eval_set=valid_pool)\n",
    "\n",
    "train_preds = catboost.CatBoost.predict(cat, train_pool, prediction_type='Class')\n",
    "valid_preds = catboost.CatBoost.predict(cat, valid_pool, prediction_type='Class')\n",
    "\n",
    "print(classification_report(y_train, train_preds, digits=4))\n",
    "print(classification_report(y_valid, valid_preds, digits=4))"
   ]
  },
  {
   "cell_type": "code",
   "execution_count": 60,
   "id": "95a1c98b",
   "metadata": {},
   "outputs": [],
   "source": [
    "del X_train_sel, X_valid_sel"
   ]
  },
  {
   "cell_type": "markdown",
   "id": "777b464d",
   "metadata": {},
   "source": [
    "**Dealing with imbalanced classes**\n",
    "* over_sampling - add copies of samples in minority class in train data: model will overfit (RandomOverSampler)\n",
    "* under_sampling - remove majority class samples from train data: loose a lot of useful information (RandomUnderSampler)\n",
    "* generating - generate new minority samples, that have close distance to real (SMOTE and it's derivatives)\n",
    "* combining - generate new minority samples and remove some near-classborder samples (SMOTEENN, SMOTETomek)\n",
    "* class_weights - strike the model more if it makes error on minority class (in tree leaves)\n",
    "\n",
    "We will apply class_weights as it is rather powerfull method. Besides all generating and oversampling methods is quite often leed to overfitting. It is also mentioned by computational issues (more samples - more memory required). As for undersampling - we don't want to loose information about users. "
   ]
  },
  {
   "cell_type": "markdown",
   "id": "8019693a",
   "metadata": {},
   "source": [
    "**Usefull functions to report and visualize**"
   ]
  },
  {
   "cell_type": "code",
   "execution_count": 317,
   "id": "104fb5ae",
   "metadata": {},
   "outputs": [],
   "source": [
    "# report\n",
    "def report(y_train, y_train_pred, y_test, y_test_pred, y_train_proba=None, y_test_proba=None):\n",
    "    print('Train\\n', classification_report(y_train, y_train_pred, digits=4))\n",
    "    print('Test\\n', classification_report(y_test, y_test_pred, digits=4))\n",
    "    if y_train_proba is not None and y_test_proba is not None:\n",
    "        roc_train, roc_test = roc_auc_score(y_train, y_train_proba), roc_auc_score(y_test, y_test_proba)\n",
    "        print(f'Train ROC_AUC: {roc_train:.3f}, Test ROC_AUC: {roc_test:.3f}')\n",
    "\n",
    "# confusion matrix\n",
    "def plot_confusion_matrix(cm, classes,\n",
    "                          normalize=False,\n",
    "                          title='Confusion matrix',\n",
    "                          cmap=plt.cm.Blues):\n",
    "    \"\"\"\n",
    "    This function prints and plots the confusion matrix.\n",
    "    Normalization can be applied by setting `normalize=True`.\n",
    "    \"\"\"\n",
    "    plt.imshow(cm, interpolation='nearest', cmap=cmap)\n",
    "    plt.title(title)\n",
    "    plt.colorbar()\n",
    "    tick_marks = np.arange(len(classes))\n",
    "    plt.xticks(tick_marks, classes, rotation=45)\n",
    "    plt.yticks(tick_marks, classes)\n",
    "\n",
    "    if normalize:\n",
    "        cm = cm.astype('float') / cm.sum(axis=1)[:, np.newaxis]\n",
    "        cm = np.around(cm, decimals=4)\n",
    "        print(\"Normalized confusion matrix\")\n",
    "    else:\n",
    "        print('Confusion matrix, without normalization')\n",
    "    # print(cm)\n",
    "\n",
    "    thresh = cm.max() / 2.\n",
    "    for i, j in itertools.product(range(cm.shape[0]), range(cm.shape[1])):\n",
    "        plt.text(j, i, cm[i, j],\n",
    "                 horizontalalignment=\"center\",\n",
    "                 color=\"white\" if cm[i, j] > thresh else \"black\")\n",
    "\n",
    "    plt.tight_layout()\n",
    "    plt.ylabel('True label')\n",
    "    plt.xlabel('Predicted label')\n",
    "    \n",
    "def plot_roc_curve(fpr, tpr, model_name=\"\", color=None):\n",
    "    plt.plot(fpr, tpr, label='%s: ROC curve (area = %0.2f)' %\n",
    "             (model_name, auc(fpr, tpr)), color=color)\n",
    "    plt.plot([0, 1], [0, 1], 'k--')\n",
    "    plt.axis([0.0, 1.0, 0.0, 1.05])\n",
    "    plt.xlabel('False Positive Rate')\n",
    "    plt.ylabel('True Positive Rate')\n",
    "    plt.title('%s: Receiver operating characteristic curve' % model_name)\n",
    "    plt.legend(loc=\"lower right\")\n",
    "    \n",
    "def plot_precision_recall_curve(recall, precision, model_name=\"\", color=None):\n",
    "    plt.plot(recall, precision, label='%s: Precision-Recall curve (area = %0.2f)' %\n",
    "             (model_name, auc(recall, precision)), color=color)\n",
    "    plt.xlabel('Recall')\n",
    "    plt.ylabel('Precision')\n",
    "    plt.title(\"%s: Precision-Recall curve\" % model_name)\n",
    "    plt.axis([0.0, 1.0, 0.0, 1.05])\n",
    "    plt.legend(loc=\"lower left\")\n",
    "\n",
    "# calibration probs\n",
    "def get_best_threshold(y_true, y_score):\n",
    "    precision, recall, thresholds = precision_recall_curve(y_true, y_score)\n",
    "    fscore = 2 * precision * recall / (precision + recall)\n",
    "    ix = np.argmax(fscore)\n",
    "    score_macro = f1_score(y_true, y_score >= thresholds[ix], average='macro')\n",
    "    return thresholds[ix], fscore[ix], score_macro"
   ]
  },
  {
   "cell_type": "markdown",
   "id": "837b0377",
   "metadata": {},
   "source": [
    "**Optuna Hyperparameters Search**"
   ]
  },
  {
   "cell_type": "code",
   "execution_count": 107,
   "id": "7d6cf0e2",
   "metadata": {},
   "outputs": [],
   "source": [
    "# optuna\n",
    "start_params = {\n",
    "                'iterations': 2000,\n",
    "                'silent': True,\n",
    "                'one_hot_max_size': 2,\n",
    "                'use_best_model': True,\n",
    "                'early_stopping_rounds': 100,\n",
    "                'allow_writing_files': False,\n",
    "                'random_seed': 42,\n",
    "                'grow_policy': 'Lossguide', # SymmetricTree\n",
    "                'boosting_type': 'Plain',\n",
    "                'eval_metric': 'TotalF1:average=Macro',\n",
    "                'auto_class_weights': 'SqrtBalanced',\n",
    "                'task_type': 'GPU',\n",
    "}"
   ]
  },
  {
   "cell_type": "code",
   "execution_count": 108,
   "id": "192cd9c8",
   "metadata": {},
   "outputs": [],
   "source": [
    "def objective(trial):\n",
    "    param_trials = {\n",
    "                    'depth': trial.suggest_int('depth', 3, 10),\n",
    "                    'learning_rate': trial.suggest_float('learning_rate', 0.01, 0.5),\n",
    "                    'l2_leaf_reg': trial.suggest_float('l2_leaf_reg', 2., 8.),\n",
    "                    'bagging_temperature': trial.suggest_float('bagging_temperature', 1., 5.),\n",
    "                    # 'subsample': trial.suggest_float('subsample', 0.5, 1.), # Bayesian bootstrap dont match (use Bernuolli)\n",
    "                    # 'rsm': trial.suggest_float('colsample_bylevel', 0.3, 1.), # CPU-only\n",
    "                    'min_data_in_leaf': trial.suggest_int('min_data_in_leaf', 5, 255),\n",
    "                    'max_leaves': trial.suggest_int('max_leaves', 5, 250), # Lossguide-only\n",
    "                    }\n",
    "    \n",
    "    param_trials.update(start_params)\n",
    "    \n",
    "    opt_model = CatBoostClassifier(**param_trials)\n",
    "    opt_model.fit(train_pool, eval_set=valid_pool)\n",
    "    \n",
    "    y_pred = catboost.CatBoost.predict(opt_model, valid_pool, prediction_type='Class')\n",
    "    score = f1_score(y_valid, y_pred, average='macro')\n",
    "    \n",
    "    return score"
   ]
  },
  {
   "cell_type": "code",
   "execution_count": null,
   "id": "c96128cb",
   "metadata": {
    "scrolled": false
   },
   "outputs": [],
   "source": [
    "optuna.logging.set_verbosity(optuna.logging.INFO)\n",
    "study = optuna.create_study(sampler=TPESampler(seed=42), direction=\"maximize\")\n",
    "study.optimize(objective, n_trials=100, timeout=3000)\n",
    "\n",
    "print(f'Number of completed trials: {len(study.trials)}')\n",
    "print('Best trial')\n",
    "trial = study.best_trial\n",
    "print(f'Best score: {trial.value}')\n",
    "print('Best params')\n",
    "for key, value in trial.params.items():\n",
    "    print(f'{key}: {value}')"
   ]
  },
  {
   "cell_type": "code",
   "execution_count": 57,
   "id": "072854d6",
   "metadata": {},
   "outputs": [],
   "source": [
    "boost_params = {\n",
    "                'iterations': 2000,\n",
    "                'silent': True,\n",
    "                'one_hot_max_size': 2,\n",
    "                'use_best_model': True,\n",
    "                'early_stopping_rounds': 100,\n",
    "                'allow_writing_files': False,\n",
    "                'random_seed': 42,\n",
    "                'grow_policy': 'Lossguide', # SymmetricTree\n",
    "                'boosting_type': 'Plain', \n",
    "                'eval_metric': 'TotalF1:average=Macro',\n",
    "                'auto_class_weights': 'SqrtBalanced',\n",
    "                'task_type': 'GPU',\n",
    "                # 'depth': 5,\n",
    "                # 'learning_rate': 0.40299504119267027,\n",
    "                # 'l2_leaf_reg': 2.9735248449224065,\n",
    "                # 'bagging_temperature': 2.319686325124222,\n",
    "                # 'min_data_in_leaf': 193\n",
    "                'depth': 10,\n",
    "                'learning_rate': 0.020830638552117038,\n",
    "                'l2_leaf_reg': 7.154375575436655,\n",
    "                'bagging_temperature': 1.0066114188862378,\n",
    "                'min_data_in_leaf': 41,\n",
    "                'max_leaves': 190\n",
    "}"
   ]
  },
  {
   "cell_type": "code",
   "execution_count": 58,
   "id": "acd49eb3",
   "metadata": {},
   "outputs": [
    {
     "name": "stdout",
     "output_type": "stream",
     "text": [
      "Train\n",
      "               precision    recall  f1-score   support\n",
      "\n",
      "         0.0     0.9823    0.9290    0.9549    540027\n",
      "         1.0     0.4635    0.7858    0.5831     42130\n",
      "\n",
      "    accuracy                         0.9187    582157\n",
      "   macro avg     0.7229    0.8574    0.7690    582157\n",
      "weighted avg     0.9448    0.9187    0.9280    582157\n",
      "\n",
      "Test\n",
      "               precision    recall  f1-score   support\n",
      "\n",
      "         0.0     0.9797    0.9261    0.9522    231440\n",
      "         1.0     0.4433    0.7543    0.5584     18056\n",
      "\n",
      "    accuracy                         0.9137    249496\n",
      "   macro avg     0.7115    0.8402    0.7553    249496\n",
      "weighted avg     0.9409    0.9137    0.9237    249496\n",
      "\n"
     ]
    }
   ],
   "source": [
    "cat = CatBoostClassifier(**boost_params).fit(train_pool, eval_set=valid_pool)\n",
    "\n",
    "train_preds = catboost.CatBoost.predict(cat, train_pool, prediction_type='Class')\n",
    "valid_preds = catboost.CatBoost.predict(cat, valid_pool, prediction_type='Class')\n",
    "\n",
    "report(y_train, train_preds, y_valid, valid_preds)"
   ]
  },
  {
   "cell_type": "code",
   "execution_count": 59,
   "id": "f4e9eaec",
   "metadata": {},
   "outputs": [
    {
     "name": "stdout",
     "output_type": "stream",
     "text": [
      "Best thres: 0.5398, f1-score: 0.5598, fmacro: 0.7574\n"
     ]
    }
   ],
   "source": [
    "valid_probs = catboost.CatBoost.predict(cat, valid_pool, prediction_type='Probability')[:,1]\n",
    "\n",
    "thres, fscore, fmacro = get_best_threshold(y_valid, valid_probs)\n",
    "print(f'Best thres: {thres:.4f}, f1-score: {fscore:.4f}, fmacro: {fmacro:.4f}')"
   ]
  },
  {
   "cell_type": "code",
   "execution_count": 24,
   "id": "b91e0028",
   "metadata": {},
   "outputs": [
    {
     "name": "stdout",
     "output_type": "stream",
     "text": [
      "Confusion matrix, without normalization\n"
     ]
    },
    {
     "data": {
      "image/png": "[encoded data removed]",
      "text/plain": [
       "<Figure size 360x360 with 2 Axes>"
      ]
     },
     "metadata": {
      "needs_background": "light"
     },
     "output_type": "display_data"
    }
   ],
   "source": [
    "cnf_matrix = confusion_matrix(y_valid, valid_probs>=thres)\n",
    "plt.figure(figsize=(5, 5))\n",
    "plot_confusion_matrix(cnf_matrix, classes=['refuse', 'accept'], normalize=False,\n",
    "                      title='Confusion matrix',)\n",
    "plt.show()"
   ]
  },
  {
   "cell_type": "markdown",
   "id": "90804e5e",
   "metadata": {},
   "source": [
    "**StratifiedKFold evaluation**"
   ]
  },
  {
   "cell_type": "code",
   "execution_count": 296,
   "id": "fb1ceb07",
   "metadata": {},
   "outputs": [],
   "source": [
    "X = pd.concat([X_train, X_valid], axis=0)\n",
    "y = pd.concat([y_train, y_valid], axis=0)\n",
    "assert len(X) == len(y)\n",
    "\n",
    "X_fold, X_test, y_fold, y_test = train_test_split(X, y, test_size=0.2, shuffle=True, stratify=y, random_state=42)\n",
    "del X, y"
   ]
  },
  {
   "cell_type": "code",
   "execution_count": 61,
   "id": "b4fc74f0",
   "metadata": {},
   "outputs": [
    {
     "name": "stdout",
     "output_type": "stream",
     "text": [
      "              precision    recall  f1-score   support\n",
      "\n",
      "         0.0     0.9797    0.9253    0.9517    154294\n",
      "         1.0     0.4406    0.7543    0.5563     12037\n",
      "\n",
      "    accuracy                         0.9129    166331\n",
      "   macro avg     0.7101    0.8398    0.7540    166331\n",
      "weighted avg     0.9407    0.9129    0.9231    166331\n",
      " \n",
      " ==============================\n",
      "              precision    recall  f1-score   support\n",
      "\n",
      "         0.0     0.9797    0.9257    0.9519    154294\n",
      "         1.0     0.4417    0.7540    0.5571     12037\n",
      "\n",
      "    accuracy                         0.9132    166331\n",
      "   macro avg     0.7107    0.8398    0.7545    166331\n",
      "weighted avg     0.9408    0.9132    0.9233    166331\n",
      " \n",
      " ==============================\n",
      "              precision    recall  f1-score   support\n",
      "\n",
      "         0.0     0.9796    0.9264    0.9523    154294\n",
      "         1.0     0.4441    0.7533    0.5588     12037\n",
      "\n",
      "    accuracy                         0.9139    166331\n",
      "   macro avg     0.7119    0.8398    0.7555    166331\n",
      "weighted avg     0.9409    0.9139    0.9238    166331\n",
      " \n",
      " ==============================\n",
      "CPU times: total: 2min 50s\n",
      "Wall time: 2min\n"
     ]
    }
   ],
   "source": [
    "%%time\n",
    "\n",
    "skf = StratifiedKFold(n_splits=3)\n",
    "models = []\n",
    "\n",
    "for train_index, valid_index in skf.split(X_fold, y_fold):\n",
    "    X_train, X_valid = X_fold.iloc[train_index, :], X_fold.iloc[valid_index, :]\n",
    "    y_train, y_valid = y_fold.iloc[train_index], y_fold.iloc[valid_index]\n",
    "    \n",
    "    train_pool = Pool(X_train, y_train, cat_features=cat_cols)\n",
    "    valid_pool = Pool(X_valid, y_valid, cat_features=cat_cols)\n",
    "    \n",
    "    cat = CatBoostClassifier(**boost_params).fit(train_pool, eval_set=valid_pool)\n",
    "    \n",
    "    test_labels = cat.predict(X_test)\n",
    "    print(classification_report(y_test, test_labels, digits=4), '\\n', '='*30)\n",
    "    \n",
    "    models.append(cat)"
   ]
  },
  {
   "cell_type": "code",
   "execution_count": 62,
   "id": "bd3e0028",
   "metadata": {},
   "outputs": [],
   "source": [
    "cat = models[-1]\n",
    "del models\n",
    "# cat.save_model('cat', format='cbm', pool=train_pool)"
   ]
  },
  {
   "cell_type": "code",
   "execution_count": 63,
   "id": "db7861dc",
   "metadata": {},
   "outputs": [
    {
     "name": "stdout",
     "output_type": "stream",
     "text": [
      "Best thres: 0.5268, f1-score: 0.5642, fmacro: 0.7601\n"
     ]
    }
   ],
   "source": [
    "test_probs = catboost.CatBoost.predict(cat, X_test, prediction_type='Probability')[:,1]\n",
    "\n",
    "thres, fscore, fmacro = get_best_threshold(y_test, test_probs)\n",
    "print(f'Best thres: {thres:.4f}, f1-score: {fscore:.4f}, fmacro: {fmacro:.4f}')"
   ]
  },
  {
   "cell_type": "code",
   "execution_count": 29,
   "id": "6494eac6",
   "metadata": {},
   "outputs": [
    {
     "name": "stdout",
     "output_type": "stream",
     "text": [
      "Confusion matrix, without normalization\n"
     ]
    },
    {
     "data": {
      "image/png": "[encoded data removed]",
      "text/plain": [
       "<Figure size 360x360 with 2 Axes>"
      ]
     },
     "metadata": {
      "needs_background": "light"
     },
     "output_type": "display_data"
    }
   ],
   "source": [
    "cnf_matrix = confusion_matrix(y_test, test_probs>=thres)\n",
    "plt.figure(figsize=(5, 5))\n",
    "plot_confusion_matrix(cnf_matrix, classes=['refuse', 'accept'], normalize=False,\n",
    "                      title='Confusion matrix',)\n",
    "plt.show()"
   ]
  },
  {
   "cell_type": "code",
   "execution_count": 30,
   "id": "7990e95b",
   "metadata": {},
   "outputs": [
    {
     "data": {
      "image/png": "[encoded data removed]",
      "text/plain": [
       "<Figure size 576x432 with 1 Axes>"
      ]
     },
     "metadata": {},
     "output_type": "display_data"
    }
   ],
   "source": [
    "plt.style.use('Solarize_Light2')\n",
    "plt.figure(figsize=(8,6))\n",
    "plt.hist(test_probs[y_test == 0], bins=100, color='orange')\n",
    "plt.hist(test_probs[y_test == 1], bins=100, color='green')\n",
    "plt.tight_layout()\n",
    "plt.show()"
   ]
  },
  {
   "cell_type": "markdown",
   "id": "1e06e34a",
   "metadata": {},
   "source": [
    "**Full dataset**"
   ]
  },
  {
   "cell_type": "code",
   "execution_count": 297,
   "id": "e3ee221c",
   "metadata": {},
   "outputs": [],
   "source": [
    "X = pd.concat([X_fold, X_test], axis=0)\n",
    "y = pd.concat([y_fold, y_test], axis=0)\n",
    "assert len(X) == len(y)\n",
    "\n",
    "del X_fold, X_test, y_fold, y_test"
   ]
  },
  {
   "cell_type": "code",
   "execution_count": 65,
   "id": "f405801d",
   "metadata": {},
   "outputs": [],
   "source": [
    "total_params = {\n",
    "                'iterations': 500,\n",
    "                'silent': True,\n",
    "                'one_hot_max_size': 2,\n",
    "                'allow_writing_files': False,\n",
    "                'random_seed': 42,\n",
    "                'auto_class_weights': 'SqrtBalanced',\n",
    "                'task_type': 'GPU',\n",
    "}"
   ]
  },
  {
   "cell_type": "code",
   "execution_count": 66,
   "id": "037109a0",
   "metadata": {},
   "outputs": [
    {
     "name": "stdout",
     "output_type": "stream",
     "text": [
      "1-fold score = 0.7503\n",
      "2-fold score = 0.7535\n",
      "3-fold score = 0.7537\n",
      "4-fold score = 0.7535\n",
      "5-fold score = 0.7525\n",
      "Точность перекретсной оценки: 0.7527 +/- 0.0013\n",
      "CPU times: total: 4min 13s\n",
      "Wall time: 3min 19s\n"
     ]
    }
   ],
   "source": [
    "%%time\n",
    "\n",
    "skf = StratifiedKFold(n_splits=5)\n",
    "scores = []\n",
    "\n",
    "for i, (train_index, valid_index) in enumerate(skf.split(X, y), 1):\n",
    "    X_train, X_test = X.iloc[train_index, :], X.iloc[valid_index, :]\n",
    "    y_train, y_test = y.iloc[train_index], y.iloc[valid_index]\n",
    "    \n",
    "    train_pool = Pool(X_train, y_train, cat_features=cat_cols)\n",
    "    test_pool = Pool(X_test, y_test, cat_features=cat_cols)\n",
    "    \n",
    "    cat = CatBoostClassifier(**total_params).fit(train_pool)\n",
    "    \n",
    "    labels = catboost.CatBoost.predict(cat, test_pool, prediction_type='Class')\n",
    "    score = f1_score(y_test, labels, average='macro')\n",
    "    print(f'{i}-fold score = {score:.4f}')\n",
    "    \n",
    "    scores.append(score)\n",
    "    \n",
    "print(f'Точность перекретсной оценки: {np.mean(scores):.4f} +/- {np.std(scores):.4f}')"
   ]
  },
  {
   "cell_type": "code",
   "execution_count": 299,
   "id": "83ff7ed9",
   "metadata": {},
   "outputs": [],
   "source": [
    "X_train, X_test, y_train, y_test = train_test_split(X, y, shuffle=True, test_size=166330, stratify=y, random_state=42)\n",
    "train_pool = Pool(X_train, y_train, cat_features=None)  # cat_cols, None if vas_id - ordinal\n",
    "\n",
    "del X, y"
   ]
  },
  {
   "cell_type": "code",
   "execution_count": 301,
   "id": "5612aba2",
   "metadata": {},
   "outputs": [
    {
     "name": "stdout",
     "output_type": "stream",
     "text": [
      "Algorithm: EFeaturesSelectionAlgorithm.RecursiveByShapValues\n"
     ]
    },
    {
     "data": {
      "application/vnd.jupyter.widget-view+json": {
       "model_id": "058300f3f1c444bd9a9fe271c4c10d16",
       "version_major": 2,
       "version_minor": 0
      },
      "text/plain": [
       "MetricVisualizer(layout=Layout(align_self='stretch', height='500px'))"
      ]
     },
     "metadata": {},
     "output_type": "display_data"
    },
    {
     "data": {
      "application/vnd.plotly.v1+json": {
       "config": {
        "plotlyServerURL": "https://plot.ly"
       },
       "data": [
        {
         "line": {
          "color": "rgb(51,160,44)"
         },
         "mode": "lines+markers",
         "name": "",
         "text": [
          "",
          "39",
          "145",
          "1",
          "59",
          "167",
          "169",
          "66",
          "140",
          "141",
          "63",
          "38",
          "114",
          "146",
          "213",
          "53",
          "247",
          "97",
          "233",
          "127",
          "240",
          "58",
          "71",
          "105",
          "143",
          "136",
          "40",
          "187",
          "60",
          "150",
          "230",
          "51",
          "3",
          "112",
          "166",
          "25",
          "64",
          "228",
          "61",
          "246",
          "160",
          "236",
          "68",
          "248",
          "113",
          "115",
          "210",
          "5",
          "241",
          "10",
          "77",
          "50",
          "234",
          "111",
          "135",
          "245",
          "52",
          "138",
          "164",
          "191",
          "2",
          "171",
          "226",
          "250",
          "18",
          "47",
          "49",
          "148",
          "109",
          "165",
          "190",
          "116",
          "208",
          "238",
          "55",
          "124",
          "189",
          "130",
          "0",
          "107",
          "36",
          "102",
          "82",
          "147",
          "137",
          "129",
          "20",
          "108",
          "151",
          "239",
          "4",
          "243",
          "142",
          "211",
          "229",
          "128",
          "37",
          "8",
          "156",
          "117",
          "181",
          "163",
          "237",
          "93",
          "222",
          "73",
          "185",
          "209",
          "103",
          "172",
          "14",
          "106",
          "242",
          "182",
          "231",
          "42",
          "161",
          "70",
          "9",
          "62",
          "92",
          "54",
          "48",
          "11",
          "76",
          "125",
          "194",
          "43",
          "27",
          "131",
          "34",
          "192",
          "44",
          "19",
          "159",
          "244",
          "174",
          "249",
          "200",
          "126",
          "170",
          "188",
          "162",
          "101",
          "21",
          "168",
          "144",
          "22",
          "184",
          "28",
          "183",
          "227",
          "13",
          "223",
          "100",
          "251",
          "158",
          "7",
          "110",
          "69",
          "41",
          "149",
          "118",
          "65",
          "56",
          "176",
          "104",
          "235",
          "232",
          "123",
          "91",
          "119",
          "201",
          "31",
          "217",
          "90",
          "57",
          "96",
          "80",
          "252",
          "29",
          "173",
          "215",
          "94",
          "45",
          "206",
          "207",
          "46",
          "89",
          "134",
          "74",
          "224",
          "205",
          "12",
          "87",
          "72",
          "79",
          "67",
          "98",
          "84",
          "225",
          "157",
          "186",
          "121",
          "133",
          "120",
          "204",
          "122",
          "155",
          "6",
          "99",
          "195",
          "198",
          "83",
          "212",
          "152",
          "30",
          "26",
          "153",
          "78",
          "180",
          "86",
          "221",
          "16",
          "132",
          "214",
          "177",
          "88",
          "178",
          "154",
          "216",
          "196",
          "179",
          "32",
          "175",
          "220",
          "17",
          "33",
          "15",
          "23",
          "24",
          "dayweek",
          "95",
          "218",
          "202",
          "35",
          "197",
          "199",
          "219",
          "193"
         ],
         "type": "scatter",
         "x": [
          0,
          1,
          2,
          3,
          4,
          5,
          6,
          7,
          8,
          9,
          10,
          11,
          12,
          13,
          14,
          15,
          16,
          17,
          18,
          19,
          20,
          21,
          22,
          23,
          24,
          25,
          26,
          27,
          28,
          29,
          30,
          31,
          32,
          33,
          34,
          35,
          36,
          37,
          38,
          39,
          40,
          41,
          42,
          43,
          44,
          45,
          46,
          47,
          48,
          49,
          50,
          51,
          52,
          53,
          54,
          55,
          56,
          57,
          58,
          59,
          60,
          61,
          62,
          63,
          64,
          65,
          66,
          67,
          68,
          69,
          70,
          71,
          72,
          73,
          74,
          75,
          76,
          77,
          78,
          79,
          80,
          81,
          82,
          83,
          84,
          85,
          86,
          87,
          88,
          89,
          90,
          91,
          92,
          93,
          94,
          95,
          96,
          97,
          98,
          99,
          100,
          101,
          102,
          103,
          104,
          105,
          106,
          107,
          108,
          109,
          110,
          111,
          112,
          113,
          114,
          115,
          116,
          117,
          118,
          119,
          120,
          121,
          122,
          123,
          124,
          125,
          126,
          127,
          128,
          129,
          130,
          131,
          132,
          133,
          134,
          135,
          136,
          137,
          138,
          139,
          140,
          141,
          142,
          143,
          144,
          145,
          146,
          147,
          148,
          149,
          150,
          151,
          152,
          153,
          154,
          155,
          156,
          157,
          158,
          159,
          160,
          161,
          162,
          163,
          164,
          165,
          166,
          167,
          168,
          169,
          170,
          171,
          172,
          173,
          174,
          175,
          176,
          177,
          178,
          179,
          180,
          181,
          182,
          183,
          184,
          185,
          186,
          187,
          188,
          189,
          190,
          191,
          192,
          193,
          194,
          195,
          196,
          197,
          198,
          199,
          200,
          201,
          202,
          203,
          204,
          205,
          206,
          207,
          208,
          209,
          210,
          211,
          212,
          213,
          214,
          215,
          216,
          217,
          218,
          219,
          220,
          221,
          222,
          223,
          224,
          225,
          226,
          227,
          228,
          229,
          230,
          231,
          232,
          233,
          234,
          235,
          236,
          237,
          238,
          239,
          240,
          241,
          242,
          243,
          244,
          245,
          246,
          247,
          248,
          249
         ],
         "y": [
          0.25293328627956196,
          0.2529236296266341,
          0.25291956850837555,
          0.25291613189838946,
          0.2529132302156344,
          0.25291086817907626,
          0.2529088666482885,
          0.25290703338527204,
          0.2529052580414509,
          0.2529035503024082,
          0.2529019136194507,
          0.25290028847609347,
          0.25289871047233237,
          0.25289726566893356,
          0.25289586050834056,
          0.2528943972589485,
          0.25289298947561795,
          0.2528916943730938,
          0.2528904614776083,
          0.2528892645876975,
          0.25288809262417805,
          0.2528869414028695,
          0.2528859553464619,
          0.25288497843463,
          0.25288400946282846,
          0.2528830490260967,
          0.25288210661410193,
          0.25288118028501927,
          0.2528802968802412,
          0.252879474912545,
          0.25287870719254063,
          0.25287799370669173,
          0.2528717586994625,
          0.2528669888641935,
          0.25286282311186786,
          0.2528589447697537,
          0.25285611583829565,
          0.25285378710392786,
          0.252851596988457,
          0.2528495277031139,
          0.25284750367305964,
          0.2528457251023919,
          0.2528440109720224,
          0.2528423146283745,
          0.2528405908710454,
          0.25283906571839426,
          0.25283763420616706,
          0.2528362210594264,
          0.25283476381839987,
          0.2528333648483975,
          0.2528319797327263,
          0.2528306033164501,
          0.25282926969084213,
          0.25282790660828885,
          0.25282666142145693,
          0.25282548817094624,
          0.2528243314463927,
          0.2528232550275991,
          0.25282219843548115,
          0.2528212332578911,
          0.2527947360969403,
          0.2527727153447175,
          0.252753533321911,
          0.2527354924014106,
          0.25271771007777527,
          0.2527007671885814,
          0.2526852126015487,
          0.2526702894554222,
          0.2526554112884729,
          0.25264083035949086,
          0.25262640352490146,
          0.25261239037142535,
          0.2525987563264782,
          0.25258585946649825,
          0.25257431589859297,
          0.25256300581980695,
          0.2525523353992135,
          0.2525421031721336,
          0.2525326190624384,
          0.2525235700629162,
          0.2525149325825742,
          0.252506703446564,
          0.25249858463256486,
          0.25249054218133016,
          0.2524924398121369,
          0.25249404270496584,
          0.2524954416663621,
          0.2524967594351742,
          0.25249805266414527,
          0.25249919164661166,
          0.25250030155274983,
          0.25250140607118654,
          0.25250250431617943,
          0.2525035291209154,
          0.2525045378730891,
          0.2525055048492976,
          0.252506344802495,
          0.25250715861522594,
          0.2525079445515072,
          0.2525087092905324,
          0.2525093216198131,
          0.25250987334756764,
          0.25251040972734046,
          0.2525109403060916,
          0.2525114542415332,
          0.25252624139551594,
          0.2525396156435104,
          0.2525519099994699,
          0.2525640679357517,
          0.2525751350271602,
          0.25258490880800855,
          0.2525943614587402,
          0.2526019556094096,
          0.252609282508104,
          0.2526160300516437,
          0.25262265013278107,
          0.25262881666724785,
          0.25263464773720273,
          0.25264030861435494,
          0.2526460658315316,
          0.25265112901580583,
          0.2526560447596823,
          0.2526606162085487,
          0.25259295619671757,
          0.2525374166431734,
          0.2525061730769322,
          0.2524783177825387,
          0.2524504378024883,
          0.2524259477652403,
          0.25240254054829203,
          0.2523795245702612,
          0.2523577991791764,
          0.2523370842474538,
          0.25231732763903336,
          0.2523000055400353,
          0.2522834088424687,
          0.25226846380365736,
          0.25225425627187004,
          0.2522414233835548,
          0.25224011600939894,
          0.2522392119204841,
          0.25223834430551284,
          0.2522374752565284,
          0.25223661259629204,
          0.2522358515505494,
          0.252235266234295,
          0.25223461203711683,
          0.2522340547886496,
          0.25223351140092,
          0.252233009218313,
          0.25223255398654826,
          0.2522321353929729,
          0.2522317757176659,
          0.2522221564517437,
          0.2522155748913562,
          0.25221079674712155,
          0.25220657193575685,
          0.25220278071125285,
          0.2521991097636152,
          0.2521955717730613,
          0.2521920798280155,
          0.25218939501006765,
          0.25218728769723886,
          0.2521852345353149,
          0.25218325166205247,
          0.25218139912187526,
          0.25216435300252865,
          0.25215609578024245,
          0.25214806225429126,
          0.2521421088722365,
          0.2521370298072731,
          0.2521326079528156,
          0.25212869820694833,
          0.2521254724844092,
          0.2521224860201584,
          0.2521195593191084,
          0.2521171849380523,
          0.2520959234286392,
          0.252078279606752,
          0.25206539180437426,
          0.2520551279759117,
          0.2520465452962986,
          0.25203938786454455,
          0.25203223706379824,
          0.25202511312540604,
          0.2520181989452974,
          0.25203158199400627,
          0.2520452053071178,
          0.2520527108683904,
          0.2520600095099874,
          0.252065872942102,
          0.25207117280145014,
          0.25207527273976044,
          0.2520790461162976,
          0.25208219416103955,
          0.25204743462633733,
          0.25202049760398065,
          0.252001894848219,
          0.2519885616972944,
          0.25197621247801055,
          0.25196568149287707,
          0.2519553145133988,
          0.2519239191247042,
          0.25191650693075174,
          0.2519099566264228,
          0.25190398217300963,
          0.25189822886920277,
          0.25189291206472014,
          0.2518879758585601,
          0.2518159475896258,
          0.25178499933927945,
          0.2517581245289448,
          0.25173306376471555,
          0.2517204932837888,
          0.2517556783910988,
          0.25178339733798605,
          0.2517997061267874,
          0.2518127301449199,
          0.2518237876267643,
          0.2517471739829251,
          0.2517280726591314,
          0.25171553788443557,
          0.25170701986731264,
          0.2517050025398624,
          0.2516904790304424,
          0.25168012298212544,
          0.2516730298286069,
          0.2516707835661009,
          0.25160118886643296,
          0.2516009592106148,
          0.2516009532019436,
          0.2516594263799064,
          0.25171444566481116,
          0.25171444566482043,
          0.25166912745376024,
          0.2516628606906313,
          0.25167500830425027,
          0.25167500830425027,
          0.25167500830425027,
          0.25163215020394486,
          0.25158929210363945,
          0.25166006457553347,
          0.2516542507906345,
          0.25164660057381844,
          0.25172715140480856,
          0.25171245367785583,
          0.25163086829748965,
          0.2516831904607789,
          0.251756847474612,
          0.25165292816861917
         ]
        },
        {
         "marker": {
          "size": 10,
          "symbol": "square"
         },
         "mode": "markers",
         "name": "",
         "text": [
          "",
          "51",
          "191",
          "147",
          "222",
          "48",
          "200",
          "13",
          "176",
          "57",
          "206",
          "87",
          "157",
          "155",
          "83",
          "153",
          "16",
          "88",
          "216",
          "32",
          "220",
          "15",
          "24",
          "dayweek",
          "218",
          "202",
          "197",
          "199",
          "219",
          "219",
          "193"
         ],
         "type": "scatter",
         "x": [
          0,
          31,
          59,
          83,
          104,
          122,
          138,
          152,
          165,
          176,
          185,
          194,
          201,
          208,
          213,
          218,
          223,
          227,
          230,
          233,
          235,
          238,
          240,
          241,
          243,
          244,
          246,
          247,
          248,
          248,
          249
         ],
         "y": [
          0.25293328627956196,
          0.25287799370669173,
          0.2528212332578911,
          0.25249054218133016,
          0.2525114542415332,
          0.2526606162085487,
          0.2522414233835548,
          0.2522317757176659,
          0.25218139912187526,
          0.2521171849380523,
          0.2520181989452974,
          0.25208219416103955,
          0.2519553145133988,
          0.2518879758585601,
          0.2517204932837888,
          0.2518237876267643,
          0.2517050025398624,
          0.2516707835661009,
          0.2516009532019436,
          0.25171444566482043,
          0.2516628606906313,
          0.25167500830425027,
          0.25158929210363945,
          0.25166006457553347,
          0.25164660057381844,
          0.25172715140480856,
          0.25163086829748965,
          0.2516831904607789,
          0.251756847474612,
          0.251756847474612,
          0.25165292816861917
         ]
        },
        {
         "mode": "text",
         "name": "",
         "text": [
          "",
          "41",
          "143",
          "3",
          "61",
          "165",
          "167",
          "68",
          "138",
          "139",
          "65",
          "40",
          "113",
          "144",
          "210",
          "55",
          "244",
          "96",
          "230",
          "126",
          "237",
          "60",
          "73",
          "104",
          "141",
          "135",
          "42",
          "185",
          "62",
          "148",
          "227",
          "53",
          "5",
          "111",
          "164",
          "27",
          "66",
          "225",
          "63",
          "243",
          "158",
          "233",
          "70",
          "245",
          "112",
          "114",
          "207",
          "7",
          "238",
          "12",
          "78",
          "52",
          "231",
          "110",
          "134",
          "242",
          "54",
          "137",
          "162",
          "189",
          "4",
          "169",
          "223",
          "247",
          "20",
          "49",
          "51",
          "146",
          "108",
          "163",
          "188",
          "115",
          "205",
          "235",
          "57",
          "123",
          "187",
          "129",
          "2",
          "106",
          "38",
          "101",
          "82",
          "145",
          "136",
          "128",
          "22",
          "107",
          "149",
          "236",
          "6",
          "240",
          "140",
          "208",
          "226",
          "127",
          "39",
          "10",
          "154",
          "116",
          "179",
          "161",
          "234",
          "92",
          "219",
          "75",
          "183",
          "206",
          "102",
          "170",
          "16",
          "105",
          "239",
          "180",
          "228",
          "44",
          "159",
          "72",
          "11",
          "64",
          "91",
          "56",
          "50",
          "13",
          "77",
          "124",
          "192",
          "45",
          "29",
          "130",
          "36",
          "190",
          "46",
          "21",
          "157",
          "241",
          "172",
          "246",
          "198",
          "125",
          "168",
          "186",
          "160",
          "100",
          "23",
          "166",
          "142",
          "24",
          "182",
          "30",
          "181",
          "224",
          "15",
          "220",
          "99",
          "248",
          "156",
          "9",
          "109",
          "71",
          "43",
          "147",
          "117",
          "67",
          "58",
          "174",
          "103",
          "232",
          "229",
          "122",
          "90",
          "118",
          "199",
          "33",
          "214",
          "89",
          "59",
          "95",
          "81",
          "249",
          "31",
          "171",
          "212",
          "93",
          "47",
          "203",
          "204",
          "48",
          "88",
          "133",
          "76",
          "221",
          "202",
          "14",
          "86",
          "74",
          "80",
          "69",
          "97",
          "84",
          "222",
          "155",
          "184",
          "120",
          "132",
          "119",
          "201",
          "121",
          "153",
          "8",
          "98",
          "193",
          "196",
          "83",
          "209",
          "150",
          "32",
          "28",
          "151",
          "79",
          "178",
          "85",
          "218",
          "18",
          "131",
          "211",
          "175",
          "87",
          "176",
          "152",
          "213",
          "194",
          "177",
          "34",
          "173",
          "217",
          "19",
          "35",
          "17",
          "25",
          "26",
          "253",
          "94",
          "215",
          "200",
          "37",
          "195",
          "197",
          "216",
          "191"
         ],
         "textfont": {
          "color": "rgb(51,160,44)",
          "family": "sans serif",
          "size": 18
         },
         "textposition": "bottom center",
         "type": "scatter",
         "visible": false,
         "x": [
          0,
          1,
          2,
          3,
          4,
          5,
          6,
          7,
          8,
          9,
          10,
          11,
          12,
          13,
          14,
          15,
          16,
          17,
          18,
          19,
          20,
          21,
          22,
          23,
          24,
          25,
          26,
          27,
          28,
          29,
          30,
          31,
          32,
          33,
          34,
          35,
          36,
          37,
          38,
          39,
          40,
          41,
          42,
          43,
          44,
          45,
          46,
          47,
          48,
          49,
          50,
          51,
          52,
          53,
          54,
          55,
          56,
          57,
          58,
          59,
          60,
          61,
          62,
          63,
          64,
          65,
          66,
          67,
          68,
          69,
          70,
          71,
          72,
          73,
          74,
          75,
          76,
          77,
          78,
          79,
          80,
          81,
          82,
          83,
          84,
          85,
          86,
          87,
          88,
          89,
          90,
          91,
          92,
          93,
          94,
          95,
          96,
          97,
          98,
          99,
          100,
          101,
          102,
          103,
          104,
          105,
          106,
          107,
          108,
          109,
          110,
          111,
          112,
          113,
          114,
          115,
          116,
          117,
          118,
          119,
          120,
          121,
          122,
          123,
          124,
          125,
          126,
          127,
          128,
          129,
          130,
          131,
          132,
          133,
          134,
          135,
          136,
          137,
          138,
          139,
          140,
          141,
          142,
          143,
          144,
          145,
          146,
          147,
          148,
          149,
          150,
          151,
          152,
          153,
          154,
          155,
          156,
          157,
          158,
          159,
          160,
          161,
          162,
          163,
          164,
          165,
          166,
          167,
          168,
          169,
          170,
          171,
          172,
          173,
          174,
          175,
          176,
          177,
          178,
          179,
          180,
          181,
          182,
          183,
          184,
          185,
          186,
          187,
          188,
          189,
          190,
          191,
          192,
          193,
          194,
          195,
          196,
          197,
          198,
          199,
          200,
          201,
          202,
          203,
          204,
          205,
          206,
          207,
          208,
          209,
          210,
          211,
          212,
          213,
          214,
          215,
          216,
          217,
          218,
          219,
          220,
          221,
          222,
          223,
          224,
          225,
          226,
          227,
          228,
          229,
          230,
          231,
          232,
          233,
          234,
          235,
          236,
          237,
          238,
          239,
          240,
          241,
          242,
          243,
          244,
          245,
          246,
          247,
          248,
          249
         ],
         "y": [
          0.25293328627956196,
          0.2529236296266341,
          0.25291956850837555,
          0.25291613189838946,
          0.2529132302156344,
          0.25291086817907626,
          0.2529088666482885,
          0.25290703338527204,
          0.2529052580414509,
          0.2529035503024082,
          0.2529019136194507,
          0.25290028847609347,
          0.25289871047233237,
          0.25289726566893356,
          0.25289586050834056,
          0.2528943972589485,
          0.25289298947561795,
          0.2528916943730938,
          0.2528904614776083,
          0.2528892645876975,
          0.25288809262417805,
          0.2528869414028695,
          0.2528859553464619,
          0.25288497843463,
          0.25288400946282846,
          0.2528830490260967,
          0.25288210661410193,
          0.25288118028501927,
          0.2528802968802412,
          0.252879474912545,
          0.25287870719254063,
          0.25287799370669173,
          0.2528717586994625,
          0.2528669888641935,
          0.25286282311186786,
          0.2528589447697537,
          0.25285611583829565,
          0.25285378710392786,
          0.252851596988457,
          0.2528495277031139,
          0.25284750367305964,
          0.2528457251023919,
          0.2528440109720224,
          0.2528423146283745,
          0.2528405908710454,
          0.25283906571839426,
          0.25283763420616706,
          0.2528362210594264,
          0.25283476381839987,
          0.2528333648483975,
          0.2528319797327263,
          0.2528306033164501,
          0.25282926969084213,
          0.25282790660828885,
          0.25282666142145693,
          0.25282548817094624,
          0.2528243314463927,
          0.2528232550275991,
          0.25282219843548115,
          0.2528212332578911,
          0.2527947360969403,
          0.2527727153447175,
          0.252753533321911,
          0.2527354924014106,
          0.25271771007777527,
          0.2527007671885814,
          0.2526852126015487,
          0.2526702894554222,
          0.2526554112884729,
          0.25264083035949086,
          0.25262640352490146,
          0.25261239037142535,
          0.2525987563264782,
          0.25258585946649825,
          0.25257431589859297,
          0.25256300581980695,
          0.2525523353992135,
          0.2525421031721336,
          0.2525326190624384,
          0.2525235700629162,
          0.2525149325825742,
          0.252506703446564,
          0.25249858463256486,
          0.25249054218133016,
          0.2524924398121369,
          0.25249404270496584,
          0.2524954416663621,
          0.2524967594351742,
          0.25249805266414527,
          0.25249919164661166,
          0.25250030155274983,
          0.25250140607118654,
          0.25250250431617943,
          0.2525035291209154,
          0.2525045378730891,
          0.2525055048492976,
          0.252506344802495,
          0.25250715861522594,
          0.2525079445515072,
          0.2525087092905324,
          0.2525093216198131,
          0.25250987334756764,
          0.25251040972734046,
          0.2525109403060916,
          0.2525114542415332,
          0.25252624139551594,
          0.2525396156435104,
          0.2525519099994699,
          0.2525640679357517,
          0.2525751350271602,
          0.25258490880800855,
          0.2525943614587402,
          0.2526019556094096,
          0.252609282508104,
          0.2526160300516437,
          0.25262265013278107,
          0.25262881666724785,
          0.25263464773720273,
          0.25264030861435494,
          0.2526460658315316,
          0.25265112901580583,
          0.2526560447596823,
          0.2526606162085487,
          0.25259295619671757,
          0.2525374166431734,
          0.2525061730769322,
          0.2524783177825387,
          0.2524504378024883,
          0.2524259477652403,
          0.25240254054829203,
          0.2523795245702612,
          0.2523577991791764,
          0.2523370842474538,
          0.25231732763903336,
          0.2523000055400353,
          0.2522834088424687,
          0.25226846380365736,
          0.25225425627187004,
          0.2522414233835548,
          0.25224011600939894,
          0.2522392119204841,
          0.25223834430551284,
          0.2522374752565284,
          0.25223661259629204,
          0.2522358515505494,
          0.252235266234295,
          0.25223461203711683,
          0.2522340547886496,
          0.25223351140092,
          0.252233009218313,
          0.25223255398654826,
          0.2522321353929729,
          0.2522317757176659,
          0.2522221564517437,
          0.2522155748913562,
          0.25221079674712155,
          0.25220657193575685,
          0.25220278071125285,
          0.2521991097636152,
          0.2521955717730613,
          0.2521920798280155,
          0.25218939501006765,
          0.25218728769723886,
          0.2521852345353149,
          0.25218325166205247,
          0.25218139912187526,
          0.25216435300252865,
          0.25215609578024245,
          0.25214806225429126,
          0.2521421088722365,
          0.2521370298072731,
          0.2521326079528156,
          0.25212869820694833,
          0.2521254724844092,
          0.2521224860201584,
          0.2521195593191084,
          0.2521171849380523,
          0.2520959234286392,
          0.252078279606752,
          0.25206539180437426,
          0.2520551279759117,
          0.2520465452962986,
          0.25203938786454455,
          0.25203223706379824,
          0.25202511312540604,
          0.2520181989452974,
          0.25203158199400627,
          0.2520452053071178,
          0.2520527108683904,
          0.2520600095099874,
          0.252065872942102,
          0.25207117280145014,
          0.25207527273976044,
          0.2520790461162976,
          0.25208219416103955,
          0.25204743462633733,
          0.25202049760398065,
          0.252001894848219,
          0.2519885616972944,
          0.25197621247801055,
          0.25196568149287707,
          0.2519553145133988,
          0.2519239191247042,
          0.25191650693075174,
          0.2519099566264228,
          0.25190398217300963,
          0.25189822886920277,
          0.25189291206472014,
          0.2518879758585601,
          0.2518159475896258,
          0.25178499933927945,
          0.2517581245289448,
          0.25173306376471555,
          0.2517204932837888,
          0.2517556783910988,
          0.25178339733798605,
          0.2517997061267874,
          0.2518127301449199,
          0.2518237876267643,
          0.2517471739829251,
          0.2517280726591314,
          0.25171553788443557,
          0.25170701986731264,
          0.2517050025398624,
          0.2516904790304424,
          0.25168012298212544,
          0.2516730298286069,
          0.2516707835661009,
          0.25160118886643296,
          0.2516009592106148,
          0.2516009532019436,
          0.2516594263799064,
          0.25171444566481116,
          0.25171444566482043,
          0.25166912745376024,
          0.2516628606906313,
          0.25167500830425027,
          0.25167500830425027,
          0.25167500830425027,
          0.25163215020394486,
          0.25158929210363945,
          0.25166006457553347,
          0.2516542507906345,
          0.25164660057381844,
          0.25172715140480856,
          0.25171245367785583,
          0.25163086829748965,
          0.2516831904607789,
          0.251756847474612,
          0.25165292816861917
         ]
        },
        {
         "mode": "text",
         "name": "",
         "text": [
          "",
          "39",
          "145",
          "1",
          "59",
          "167",
          "169",
          "66",
          "140",
          "141",
          "63",
          "38",
          "114",
          "146",
          "213",
          "53",
          "247",
          "97",
          "233",
          "127",
          "240",
          "58",
          "71",
          "105",
          "143",
          "136",
          "40",
          "187",
          "60",
          "150",
          "230",
          "51",
          "3",
          "112",
          "166",
          "25",
          "64",
          "228",
          "61",
          "246",
          "160",
          "236",
          "68",
          "248",
          "113",
          "115",
          "210",
          "5",
          "241",
          "10",
          "77",
          "50",
          "234",
          "111",
          "135",
          "245",
          "52",
          "138",
          "164",
          "191",
          "2",
          "171",
          "226",
          "250",
          "18",
          "47",
          "49",
          "148",
          "109",
          "165",
          "190",
          "116",
          "208",
          "238",
          "55",
          "124",
          "189",
          "130",
          "0",
          "107",
          "36",
          "102",
          "82",
          "147",
          "137",
          "129",
          "20",
          "108",
          "151",
          "239",
          "4",
          "243",
          "142",
          "211",
          "229",
          "128",
          "37",
          "8",
          "156",
          "117",
          "181",
          "163",
          "237",
          "93",
          "222",
          "73",
          "185",
          "209",
          "103",
          "172",
          "14",
          "106",
          "242",
          "182",
          "231",
          "42",
          "161",
          "70",
          "9",
          "62",
          "92",
          "54",
          "48",
          "11",
          "76",
          "125",
          "194",
          "43",
          "27",
          "131",
          "34",
          "192",
          "44",
          "19",
          "159",
          "244",
          "174",
          "249",
          "200",
          "126",
          "170",
          "188",
          "162",
          "101",
          "21",
          "168",
          "144",
          "22",
          "184",
          "28",
          "183",
          "227",
          "13",
          "223",
          "100",
          "251",
          "158",
          "7",
          "110",
          "69",
          "41",
          "149",
          "118",
          "65",
          "56",
          "176",
          "104",
          "235",
          "232",
          "123",
          "91",
          "119",
          "201",
          "31",
          "217",
          "90",
          "57",
          "96",
          "80",
          "252",
          "29",
          "173",
          "215",
          "94",
          "45",
          "206",
          "207",
          "46",
          "89",
          "134",
          "74",
          "224",
          "205",
          "12",
          "87",
          "72",
          "79",
          "67",
          "98",
          "84",
          "225",
          "157",
          "186",
          "121",
          "133",
          "120",
          "204",
          "122",
          "155",
          "6",
          "99",
          "195",
          "198",
          "83",
          "212",
          "152",
          "30",
          "26",
          "153",
          "78",
          "180",
          "86",
          "221",
          "16",
          "132",
          "214",
          "177",
          "88",
          "178",
          "154",
          "216",
          "196",
          "179",
          "32",
          "175",
          "220",
          "17",
          "33",
          "15",
          "23",
          "24",
          "dayweek",
          "95",
          "218",
          "202",
          "35",
          "197",
          "199",
          "219",
          "193"
         ],
         "textfont": {
          "color": "rgb(51,160,44)",
          "family": "sans serif",
          "size": 18
         },
         "textposition": "bottom center",
         "type": "scatter",
         "visible": false,
         "x": [
          0,
          1,
          2,
          3,
          4,
          5,
          6,
          7,
          8,
          9,
          10,
          11,
          12,
          13,
          14,
          15,
          16,
          17,
          18,
          19,
          20,
          21,
          22,
          23,
          24,
          25,
          26,
          27,
          28,
          29,
          30,
          31,
          32,
          33,
          34,
          35,
          36,
          37,
          38,
          39,
          40,
          41,
          42,
          43,
          44,
          45,
          46,
          47,
          48,
          49,
          50,
          51,
          52,
          53,
          54,
          55,
          56,
          57,
          58,
          59,
          60,
          61,
          62,
          63,
          64,
          65,
          66,
          67,
          68,
          69,
          70,
          71,
          72,
          73,
          74,
          75,
          76,
          77,
          78,
          79,
          80,
          81,
          82,
          83,
          84,
          85,
          86,
          87,
          88,
          89,
          90,
          91,
          92,
          93,
          94,
          95,
          96,
          97,
          98,
          99,
          100,
          101,
          102,
          103,
          104,
          105,
          106,
          107,
          108,
          109,
          110,
          111,
          112,
          113,
          114,
          115,
          116,
          117,
          118,
          119,
          120,
          121,
          122,
          123,
          124,
          125,
          126,
          127,
          128,
          129,
          130,
          131,
          132,
          133,
          134,
          135,
          136,
          137,
          138,
          139,
          140,
          141,
          142,
          143,
          144,
          145,
          146,
          147,
          148,
          149,
          150,
          151,
          152,
          153,
          154,
          155,
          156,
          157,
          158,
          159,
          160,
          161,
          162,
          163,
          164,
          165,
          166,
          167,
          168,
          169,
          170,
          171,
          172,
          173,
          174,
          175,
          176,
          177,
          178,
          179,
          180,
          181,
          182,
          183,
          184,
          185,
          186,
          187,
          188,
          189,
          190,
          191,
          192,
          193,
          194,
          195,
          196,
          197,
          198,
          199,
          200,
          201,
          202,
          203,
          204,
          205,
          206,
          207,
          208,
          209,
          210,
          211,
          212,
          213,
          214,
          215,
          216,
          217,
          218,
          219,
          220,
          221,
          222,
          223,
          224,
          225,
          226,
          227,
          228,
          229,
          230,
          231,
          232,
          233,
          234,
          235,
          236,
          237,
          238,
          239,
          240,
          241,
          242,
          243,
          244,
          245,
          246,
          247,
          248,
          249
         ],
         "y": [
          0.25293328627956196,
          0.2529236296266341,
          0.25291956850837555,
          0.25291613189838946,
          0.2529132302156344,
          0.25291086817907626,
          0.2529088666482885,
          0.25290703338527204,
          0.2529052580414509,
          0.2529035503024082,
          0.2529019136194507,
          0.25290028847609347,
          0.25289871047233237,
          0.25289726566893356,
          0.25289586050834056,
          0.2528943972589485,
          0.25289298947561795,
          0.2528916943730938,
          0.2528904614776083,
          0.2528892645876975,
          0.25288809262417805,
          0.2528869414028695,
          0.2528859553464619,
          0.25288497843463,
          0.25288400946282846,
          0.2528830490260967,
          0.25288210661410193,
          0.25288118028501927,
          0.2528802968802412,
          0.252879474912545,
          0.25287870719254063,
          0.25287799370669173,
          0.2528717586994625,
          0.2528669888641935,
          0.25286282311186786,
          0.2528589447697537,
          0.25285611583829565,
          0.25285378710392786,
          0.252851596988457,
          0.2528495277031139,
          0.25284750367305964,
          0.2528457251023919,
          0.2528440109720224,
          0.2528423146283745,
          0.2528405908710454,
          0.25283906571839426,
          0.25283763420616706,
          0.2528362210594264,
          0.25283476381839987,
          0.2528333648483975,
          0.2528319797327263,
          0.2528306033164501,
          0.25282926969084213,
          0.25282790660828885,
          0.25282666142145693,
          0.25282548817094624,
          0.2528243314463927,
          0.2528232550275991,
          0.25282219843548115,
          0.2528212332578911,
          0.2527947360969403,
          0.2527727153447175,
          0.252753533321911,
          0.2527354924014106,
          0.25271771007777527,
          0.2527007671885814,
          0.2526852126015487,
          0.2526702894554222,
          0.2526554112884729,
          0.25264083035949086,
          0.25262640352490146,
          0.25261239037142535,
          0.2525987563264782,
          0.25258585946649825,
          0.25257431589859297,
          0.25256300581980695,
          0.2525523353992135,
          0.2525421031721336,
          0.2525326190624384,
          0.2525235700629162,
          0.2525149325825742,
          0.252506703446564,
          0.25249858463256486,
          0.25249054218133016,
          0.2524924398121369,
          0.25249404270496584,
          0.2524954416663621,
          0.2524967594351742,
          0.25249805266414527,
          0.25249919164661166,
          0.25250030155274983,
          0.25250140607118654,
          0.25250250431617943,
          0.2525035291209154,
          0.2525045378730891,
          0.2525055048492976,
          0.252506344802495,
          0.25250715861522594,
          0.2525079445515072,
          0.2525087092905324,
          0.2525093216198131,
          0.25250987334756764,
          0.25251040972734046,
          0.2525109403060916,
          0.2525114542415332,
          0.25252624139551594,
          0.2525396156435104,
          0.2525519099994699,
          0.2525640679357517,
          0.2525751350271602,
          0.25258490880800855,
          0.2525943614587402,
          0.2526019556094096,
          0.252609282508104,
          0.2526160300516437,
          0.25262265013278107,
          0.25262881666724785,
          0.25263464773720273,
          0.25264030861435494,
          0.2526460658315316,
          0.25265112901580583,
          0.2526560447596823,
          0.2526606162085487,
          0.25259295619671757,
          0.2525374166431734,
          0.2525061730769322,
          0.2524783177825387,
          0.2524504378024883,
          0.2524259477652403,
          0.25240254054829203,
          0.2523795245702612,
          0.2523577991791764,
          0.2523370842474538,
          0.25231732763903336,
          0.2523000055400353,
          0.2522834088424687,
          0.25226846380365736,
          0.25225425627187004,
          0.2522414233835548,
          0.25224011600939894,
          0.2522392119204841,
          0.25223834430551284,
          0.2522374752565284,
          0.25223661259629204,
          0.2522358515505494,
          0.252235266234295,
          0.25223461203711683,
          0.2522340547886496,
          0.25223351140092,
          0.252233009218313,
          0.25223255398654826,
          0.2522321353929729,
          0.2522317757176659,
          0.2522221564517437,
          0.2522155748913562,
          0.25221079674712155,
          0.25220657193575685,
          0.25220278071125285,
          0.2521991097636152,
          0.2521955717730613,
          0.2521920798280155,
          0.25218939501006765,
          0.25218728769723886,
          0.2521852345353149,
          0.25218325166205247,
          0.25218139912187526,
          0.25216435300252865,
          0.25215609578024245,
          0.25214806225429126,
          0.2521421088722365,
          0.2521370298072731,
          0.2521326079528156,
          0.25212869820694833,
          0.2521254724844092,
          0.2521224860201584,
          0.2521195593191084,
          0.2521171849380523,
          0.2520959234286392,
          0.252078279606752,
          0.25206539180437426,
          0.2520551279759117,
          0.2520465452962986,
          0.25203938786454455,
          0.25203223706379824,
          0.25202511312540604,
          0.2520181989452974,
          0.25203158199400627,
          0.2520452053071178,
          0.2520527108683904,
          0.2520600095099874,
          0.252065872942102,
          0.25207117280145014,
          0.25207527273976044,
          0.2520790461162976,
          0.25208219416103955,
          0.25204743462633733,
          0.25202049760398065,
          0.252001894848219,
          0.2519885616972944,
          0.25197621247801055,
          0.25196568149287707,
          0.2519553145133988,
          0.2519239191247042,
          0.25191650693075174,
          0.2519099566264228,
          0.25190398217300963,
          0.25189822886920277,
          0.25189291206472014,
          0.2518879758585601,
          0.2518159475896258,
          0.25178499933927945,
          0.2517581245289448,
          0.25173306376471555,
          0.2517204932837888,
          0.2517556783910988,
          0.25178339733798605,
          0.2517997061267874,
          0.2518127301449199,
          0.2518237876267643,
          0.2517471739829251,
          0.2517280726591314,
          0.25171553788443557,
          0.25170701986731264,
          0.2517050025398624,
          0.2516904790304424,
          0.25168012298212544,
          0.2516730298286069,
          0.2516707835661009,
          0.25160118886643296,
          0.2516009592106148,
          0.2516009532019436,
          0.2516594263799064,
          0.25171444566481116,
          0.25171444566482043,
          0.25166912745376024,
          0.2516628606906313,
          0.25167500830425027,
          0.25167500830425027,
          0.25167500830425027,
          0.25163215020394486,
          0.25158929210363945,
          0.25166006457553347,
          0.2516542507906345,
          0.25164660057381844,
          0.25172715140480856,
          0.25171245367785583,
          0.25163086829748965,
          0.2516831904607789,
          0.251756847474612,
          0.25165292816861917
         ]
        }
       ],
       "layout": {
        "showlegend": false,
        "template": {
         "data": {
          "bar": [
           {
            "error_x": {
             "color": "#2a3f5f"
            },
            "error_y": {
             "color": "#2a3f5f"
            },
            "marker": {
             "line": {
              "color": "#E5ECF6",
              "width": 0.5
             },
             "pattern": {
              "fillmode": "overlay",
              "size": 10,
              "solidity": 0.2
             }
            },
            "type": "bar"
           }
          ],
          "barpolar": [
           {
            "marker": {
             "line": {
              "color": "#E5ECF6",
              "width": 0.5
             },
             "pattern": {
              "fillmode": "overlay",
              "size": 10,
              "solidity": 0.2
             }
            },
            "type": "barpolar"
           }
          ],
          "carpet": [
           {
            "aaxis": {
             "endlinecolor": "#2a3f5f",
             "gridcolor": "white",
             "linecolor": "white",
             "minorgridcolor": "white",
             "startlinecolor": "#2a3f5f"
            },
            "baxis": {
             "endlinecolor": "#2a3f5f",
             "gridcolor": "white",
             "linecolor": "white",
             "minorgridcolor": "white",
             "startlinecolor": "#2a3f5f"
            },
            "type": "carpet"
           }
          ],
          "choropleth": [
           {
            "colorbar": {
             "outlinewidth": 0,
             "ticks": ""
            },
            "type": "choropleth"
           }
          ],
          "contour": [
           {
            "colorbar": {
             "outlinewidth": 0,
             "ticks": ""
            },
            "colorscale": [
             [
              0,
              "#0d0887"
             ],
             [
              0.1111111111111111,
              "#46039f"
             ],
             [
              0.2222222222222222,
              "#7201a8"
             ],
             [
              0.3333333333333333,
              "#9c179e"
             ],
             [
              0.4444444444444444,
              "#bd3786"
             ],
             [
              0.5555555555555556,
              "#d8576b"
             ],
             [
              0.6666666666666666,
              "#ed7953"
             ],
             [
              0.7777777777777778,
              "#fb9f3a"
             ],
             [
              0.8888888888888888,
              "#fdca26"
             ],
             [
              1,
              "#f0f921"
             ]
            ],
            "type": "contour"
           }
          ],
          "contourcarpet": [
           {
            "colorbar": {
             "outlinewidth": 0,
             "ticks": ""
            },
            "type": "contourcarpet"
           }
          ],
          "heatmap": [
           {
            "colorbar": {
             "outlinewidth": 0,
             "ticks": ""
            },
            "colorscale": [
             [
              0,
              "#0d0887"
             ],
             [
              0.1111111111111111,
              "#46039f"
             ],
             [
              0.2222222222222222,
              "#7201a8"
             ],
             [
              0.3333333333333333,
              "#9c179e"
             ],
             [
              0.4444444444444444,
              "#bd3786"
             ],
             [
              0.5555555555555556,
              "#d8576b"
             ],
             [
              0.6666666666666666,
              "#ed7953"
             ],
             [
              0.7777777777777778,
              "#fb9f3a"
             ],
             [
              0.8888888888888888,
              "#fdca26"
             ],
             [
              1,
              "#f0f921"
             ]
            ],
            "type": "heatmap"
           }
          ],
          "heatmapgl": [
           {
            "colorbar": {
             "outlinewidth": 0,
             "ticks": ""
            },
            "colorscale": [
             [
              0,
              "#0d0887"
             ],
             [
              0.1111111111111111,
              "#46039f"
             ],
             [
              0.2222222222222222,
              "#7201a8"
             ],
             [
              0.3333333333333333,
              "#9c179e"
             ],
             [
              0.4444444444444444,
              "#bd3786"
             ],
             [
              0.5555555555555556,
              "#d8576b"
             ],
             [
              0.6666666666666666,
              "#ed7953"
             ],
             [
              0.7777777777777778,
              "#fb9f3a"
             ],
             [
              0.8888888888888888,
              "#fdca26"
             ],
             [
              1,
              "#f0f921"
             ]
            ],
            "type": "heatmapgl"
           }
          ],
          "histogram": [
           {
            "marker": {
             "pattern": {
              "fillmode": "overlay",
              "size": 10,
              "solidity": 0.2
             }
            },
            "type": "histogram"
           }
          ],
          "histogram2d": [
           {
            "colorbar": {
             "outlinewidth": 0,
             "ticks": ""
            },
            "colorscale": [
             [
              0,
              "#0d0887"
             ],
             [
              0.1111111111111111,
              "#46039f"
             ],
             [
              0.2222222222222222,
              "#7201a8"
             ],
             [
              0.3333333333333333,
              "#9c179e"
             ],
             [
              0.4444444444444444,
              "#bd3786"
             ],
             [
              0.5555555555555556,
              "#d8576b"
             ],
             [
              0.6666666666666666,
              "#ed7953"
             ],
             [
              0.7777777777777778,
              "#fb9f3a"
             ],
             [
              0.8888888888888888,
              "#fdca26"
             ],
             [
              1,
              "#f0f921"
             ]
            ],
            "type": "histogram2d"
           }
          ],
          "histogram2dcontour": [
           {
            "colorbar": {
             "outlinewidth": 0,
             "ticks": ""
            },
            "colorscale": [
             [
              0,
              "#0d0887"
             ],
             [
              0.1111111111111111,
              "#46039f"
             ],
             [
              0.2222222222222222,
              "#7201a8"
             ],
             [
              0.3333333333333333,
              "#9c179e"
             ],
             [
              0.4444444444444444,
              "#bd3786"
             ],
             [
              0.5555555555555556,
              "#d8576b"
             ],
             [
              0.6666666666666666,
              "#ed7953"
             ],
             [
              0.7777777777777778,
              "#fb9f3a"
             ],
             [
              0.8888888888888888,
              "#fdca26"
             ],
             [
              1,
              "#f0f921"
             ]
            ],
            "type": "histogram2dcontour"
           }
          ],
          "mesh3d": [
           {
            "colorbar": {
             "outlinewidth": 0,
             "ticks": ""
            },
            "type": "mesh3d"
           }
          ],
          "parcoords": [
           {
            "line": {
             "colorbar": {
              "outlinewidth": 0,
              "ticks": ""
             }
            },
            "type": "parcoords"
           }
          ],
          "pie": [
           {
            "automargin": true,
            "type": "pie"
           }
          ],
          "scatter": [
           {
            "fillpattern": {
             "fillmode": "overlay",
             "size": 10,
             "solidity": 0.2
            },
            "type": "scatter"
           }
          ],
          "scatter3d": [
           {
            "line": {
             "colorbar": {
              "outlinewidth": 0,
              "ticks": ""
             }
            },
            "marker": {
             "colorbar": {
              "outlinewidth": 0,
              "ticks": ""
             }
            },
            "type": "scatter3d"
           }
          ],
          "scattercarpet": [
           {
            "marker": {
             "colorbar": {
              "outlinewidth": 0,
              "ticks": ""
             }
            },
            "type": "scattercarpet"
           }
          ],
          "scattergeo": [
           {
            "marker": {
             "colorbar": {
              "outlinewidth": 0,
              "ticks": ""
             }
            },
            "type": "scattergeo"
           }
          ],
          "scattergl": [
           {
            "marker": {
             "colorbar": {
              "outlinewidth": 0,
              "ticks": ""
             }
            },
            "type": "scattergl"
           }
          ],
          "scattermapbox": [
           {
            "marker": {
             "colorbar": {
              "outlinewidth": 0,
              "ticks": ""
             }
            },
            "type": "scattermapbox"
           }
          ],
          "scatterpolar": [
           {
            "marker": {
             "colorbar": {
              "outlinewidth": 0,
              "ticks": ""
             }
            },
            "type": "scatterpolar"
           }
          ],
          "scatterpolargl": [
           {
            "marker": {
             "colorbar": {
              "outlinewidth": 0,
              "ticks": ""
             }
            },
            "type": "scatterpolargl"
           }
          ],
          "scatterternary": [
           {
            "marker": {
             "colorbar": {
              "outlinewidth": 0,
              "ticks": ""
             }
            },
            "type": "scatterternary"
           }
          ],
          "surface": [
           {
            "colorbar": {
             "outlinewidth": 0,
             "ticks": ""
            },
            "colorscale": [
             [
              0,
              "#0d0887"
             ],
             [
              0.1111111111111111,
              "#46039f"
             ],
             [
              0.2222222222222222,
              "#7201a8"
             ],
             [
              0.3333333333333333,
              "#9c179e"
             ],
             [
              0.4444444444444444,
              "#bd3786"
             ],
             [
              0.5555555555555556,
              "#d8576b"
             ],
             [
              0.6666666666666666,
              "#ed7953"
             ],
             [
              0.7777777777777778,
              "#fb9f3a"
             ],
             [
              0.8888888888888888,
              "#fdca26"
             ],
             [
              1,
              "#f0f921"
             ]
            ],
            "type": "surface"
           }
          ],
          "table": [
           {
            "cells": {
             "fill": {
              "color": "#EBF0F8"
             },
             "line": {
              "color": "white"
             }
            },
            "header": {
             "fill": {
              "color": "#C8D4E3"
             },
             "line": {
              "color": "white"
             }
            },
            "type": "table"
           }
          ]
         },
         "layout": {
          "annotationdefaults": {
           "arrowcolor": "#2a3f5f",
           "arrowhead": 0,
           "arrowwidth": 1
          },
          "autotypenumbers": "strict",
          "coloraxis": {
           "colorbar": {
            "outlinewidth": 0,
            "ticks": ""
           }
          },
          "colorscale": {
           "diverging": [
            [
             0,
             "#8e0152"
            ],
            [
             0.1,
             "#c51b7d"
            ],
            [
             0.2,
             "#de77ae"
            ],
            [
             0.3,
             "#f1b6da"
            ],
            [
             0.4,
             "#fde0ef"
            ],
            [
             0.5,
             "#f7f7f7"
            ],
            [
             0.6,
             "#e6f5d0"
            ],
            [
             0.7,
             "#b8e186"
            ],
            [
             0.8,
             "#7fbc41"
            ],
            [
             0.9,
             "#4d9221"
            ],
            [
             1,
             "#276419"
            ]
           ],
           "sequential": [
            [
             0,
             "#0d0887"
            ],
            [
             0.1111111111111111,
             "#46039f"
            ],
            [
             0.2222222222222222,
             "#7201a8"
            ],
            [
             0.3333333333333333,
             "#9c179e"
            ],
            [
             0.4444444444444444,
             "#bd3786"
            ],
            [
             0.5555555555555556,
             "#d8576b"
            ],
            [
             0.6666666666666666,
             "#ed7953"
            ],
            [
             0.7777777777777778,
             "#fb9f3a"
            ],
            [
             0.8888888888888888,
             "#fdca26"
            ],
            [
             1,
             "#f0f921"
            ]
           ],
           "sequentialminus": [
            [
             0,
             "#0d0887"
            ],
            [
             0.1111111111111111,
             "#46039f"
            ],
            [
             0.2222222222222222,
             "#7201a8"
            ],
            [
             0.3333333333333333,
             "#9c179e"
            ],
            [
             0.4444444444444444,
             "#bd3786"
            ],
            [
             0.5555555555555556,
             "#d8576b"
            ],
            [
             0.6666666666666666,
             "#ed7953"
            ],
            [
             0.7777777777777778,
             "#fb9f3a"
            ],
            [
             0.8888888888888888,
             "#fdca26"
            ],
            [
             1,
             "#f0f921"
            ]
           ]
          },
          "colorway": [
           "#636efa",
           "#EF553B",
           "#00cc96",
           "#ab63fa",
           "#FFA15A",
           "#19d3f3",
           "#FF6692",
           "#B6E880",
           "#FF97FF",
           "#FECB52"
          ],
          "font": {
           "color": "#2a3f5f"
          },
          "geo": {
           "bgcolor": "white",
           "lakecolor": "white",
           "landcolor": "#E5ECF6",
           "showlakes": true,
           "showland": true,
           "subunitcolor": "white"
          },
          "hoverlabel": {
           "align": "left"
          },
          "hovermode": "closest",
          "mapbox": {
           "style": "light"
          },
          "paper_bgcolor": "white",
          "plot_bgcolor": "#E5ECF6",
          "polar": {
           "angularaxis": {
            "gridcolor": "white",
            "linecolor": "white",
            "ticks": ""
           },
           "bgcolor": "#E5ECF6",
           "radialaxis": {
            "gridcolor": "white",
            "linecolor": "white",
            "ticks": ""
           }
          },
          "scene": {
           "xaxis": {
            "backgroundcolor": "#E5ECF6",
            "gridcolor": "white",
            "gridwidth": 2,
            "linecolor": "white",
            "showbackground": true,
            "ticks": "",
            "zerolinecolor": "white"
           },
           "yaxis": {
            "backgroundcolor": "#E5ECF6",
            "gridcolor": "white",
            "gridwidth": 2,
            "linecolor": "white",
            "showbackground": true,
            "ticks": "",
            "zerolinecolor": "white"
           },
           "zaxis": {
            "backgroundcolor": "#E5ECF6",
            "gridcolor": "white",
            "gridwidth": 2,
            "linecolor": "white",
            "showbackground": true,
            "ticks": "",
            "zerolinecolor": "white"
           }
          },
          "shapedefaults": {
           "line": {
            "color": "#2a3f5f"
           }
          },
          "ternary": {
           "aaxis": {
            "gridcolor": "white",
            "linecolor": "white",
            "ticks": ""
           },
           "baxis": {
            "gridcolor": "white",
            "linecolor": "white",
            "ticks": ""
           },
           "bgcolor": "#E5ECF6",
           "caxis": {
            "gridcolor": "white",
            "linecolor": "white",
            "ticks": ""
           }
          },
          "title": {
           "x": 0.05
          },
          "xaxis": {
           "automargin": true,
           "gridcolor": "white",
           "linecolor": "white",
           "ticks": "",
           "title": {
            "standoff": 15
           },
           "zerolinecolor": "white",
           "zerolinewidth": 2
          },
          "yaxis": {
           "automargin": true,
           "gridcolor": "white",
           "linecolor": "white",
           "ticks": "",
           "title": {
            "standoff": 15
           },
           "zerolinecolor": "white",
           "zerolinewidth": 2
          }
         }
        },
        "title": {
         "text": "Loss by eliminated features"
        },
        "updatemenus": [
         {
          "active": 0,
          "buttons": [
           {
            "args": [
             {
              "visible": [
               true,
               true,
               false,
               false
              ]
             }
            ],
            "label": "Hide features",
            "method": "update"
           },
           {
            "args": [
             {
              "visible": [
               true,
               true,
               true,
               false
              ]
             }
            ],
            "label": "Show indices",
            "method": "update"
           },
           {
            "args": [
             {
              "visible": [
               true,
               true,
               false,
               true
              ]
             }
            ],
            "label": "Show names",
            "method": "update"
           }
          ],
          "pad": {
           "r": 10,
           "t": 10
          },
          "showactive": true,
          "x": -0.25,
          "xanchor": "left",
          "y": 1.03,
          "yanchor": "top"
         }
        ],
        "xaxis": {
         "gridcolor": "rgb(255,255,255)",
         "showgrid": true,
         "showline": false,
         "showticklabels": true,
         "tickcolor": "rgb(127,127,127)",
         "ticks": "outside",
         "title": {
          "text": "number of removed features"
         },
         "zeroline": false
        },
        "yaxis": {
         "gridcolor": "rgb(255,255,255)",
         "showgrid": true,
         "showline": false,
         "showticklabels": true,
         "tickcolor": "rgb(127,127,127)",
         "tickfont": {
          "color": "rgb(51,160,44)"
         },
         "ticks": "outside",
         "title": {
          "font": {
           "color": "rgb(51,160,44)"
          },
          "text": "loss value"
         },
         "zeroline": false
        }
       }
      },
      "text/html": [
       "<div>                            <div id=\"601cff68-d647-4ebd-91b4-ac6fa77d169f\" class=\"plotly-graph-div\" style=\"height:525px; width:100%;\"></div>            <script type=\"text/javascript\">                require([\"plotly\"], function(Plotly) {                    window.PLOTLYENV=window.PLOTLYENV || {};                                    if (document.getElementById(\"601cff68-d647-4ebd-91b4-ac6fa77d169f\")) {                    Plotly.newPlot(                        \"601cff68-d647-4ebd-91b4-ac6fa77d169f\",                        [{\"line\":{\"color\":\"rgb(51,160,44)\"},\"mode\":\"lines+markers\",\"name\":\"\",\"text\":[\"\",\"39\",\"145\",\"1\",\"59\",\"167\",\"169\",\"66\",\"140\",\"141\",\"63\",\"38\",\"114\",\"146\",\"213\",\"53\",\"247\",\"97\",\"233\",\"127\",\"240\",\"58\",\"71\",\"105\",\"143\",\"136\",\"40\",\"187\",\"60\",\"150\",\"230\",\"51\",\"3\",\"112\",\"166\",\"25\",\"64\",\"228\",\"61\",\"246\",\"160\",\"236\",\"68\",\"248\",\"113\",\"115\",\"210\",\"5\",\"241\",\"10\",\"77\",\"50\",\"234\",\"111\",\"135\",\"245\",\"52\",\"138\",\"164\",\"191\",\"2\",\"171\",\"226\",\"250\",\"18\",\"47\",\"49\",\"148\",\"109\",\"165\",\"190\",\"116\",\"208\",\"238\",\"55\",\"124\",\"189\",\"130\",\"0\",\"107\",\"36\",\"102\",\"82\",\"147\",\"137\",\"129\",\"20\",\"108\",\"151\",\"239\",\"4\",\"243\",\"142\",\"211\",\"229\",\"128\",\"37\",\"8\",\"156\",\"117\",\"181\",\"163\",\"237\",\"93\",\"222\",\"73\",\"185\",\"209\",\"103\",\"172\",\"14\",\"106\",\"242\",\"182\",\"231\",\"42\",\"161\",\"70\",\"9\",\"62\",\"92\",\"54\",\"48\",\"11\",\"76\",\"125\",\"194\",\"43\",\"27\",\"131\",\"34\",\"192\",\"44\",\"19\",\"159\",\"244\",\"174\",\"249\",\"200\",\"126\",\"170\",\"188\",\"162\",\"101\",\"21\",\"168\",\"144\",\"22\",\"184\",\"28\",\"183\",\"227\",\"13\",\"223\",\"100\",\"251\",\"158\",\"7\",\"110\",\"69\",\"41\",\"149\",\"118\",\"65\",\"56\",\"176\",\"104\",\"235\",\"232\",\"123\",\"91\",\"119\",\"201\",\"31\",\"217\",\"90\",\"57\",\"96\",\"80\",\"252\",\"29\",\"173\",\"215\",\"94\",\"45\",\"206\",\"207\",\"46\",\"89\",\"134\",\"74\",\"224\",\"205\",\"12\",\"87\",\"72\",\"79\",\"67\",\"98\",\"84\",\"225\",\"157\",\"186\",\"121\",\"133\",\"120\",\"204\",\"122\",\"155\",\"6\",\"99\",\"195\",\"198\",\"83\",\"212\",\"152\",\"30\",\"26\",\"153\",\"78\",\"180\",\"86\",\"221\",\"16\",\"132\",\"214\",\"177\",\"88\",\"178\",\"154\",\"216\",\"196\",\"179\",\"32\",\"175\",\"220\",\"17\",\"33\",\"15\",\"23\",\"24\",\"dayweek\",\"95\",\"218\",\"202\",\"35\",\"197\",\"199\",\"219\",\"193\"],\"x\":[0,1,2,3,4,5,6,7,8,9,10,11,12,13,14,15,16,17,18,19,20,21,22,23,24,25,26,27,28,29,30,31,32,33,34,35,36,37,38,39,40,41,42,43,44,45,46,47,48,49,50,51,52,53,54,55,56,57,58,59,60,61,62,63,64,65,66,67,68,69,70,71,72,73,74,75,76,77,78,79,80,81,82,83,84,85,86,87,88,89,90,91,92,93,94,95,96,97,98,99,100,101,102,103,104,105,106,107,108,109,110,111,112,113,114,115,116,117,118,119,120,121,122,123,124,125,126,127,128,129,130,131,132,133,134,135,136,137,138,139,140,141,142,143,144,145,146,147,148,149,150,151,152,153,154,155,156,157,158,159,160,161,162,163,164,165,166,167,168,169,170,171,172,173,174,175,176,177,178,179,180,181,182,183,184,185,186,187,188,189,190,191,192,193,194,195,196,197,198,199,200,201,202,203,204,205,206,207,208,209,210,211,212,213,214,215,216,217,218,219,220,221,222,223,224,225,226,227,228,229,230,231,232,233,234,235,236,237,238,239,240,241,242,243,244,245,246,247,248,249],\"y\":[0.25293328627956196,0.2529236296266341,0.25291956850837555,0.25291613189838946,0.2529132302156344,0.25291086817907626,0.2529088666482885,0.25290703338527204,0.2529052580414509,0.2529035503024082,0.2529019136194507,0.25290028847609347,0.25289871047233237,0.25289726566893356,0.25289586050834056,0.2528943972589485,0.25289298947561795,0.2528916943730938,0.2528904614776083,0.2528892645876975,0.25288809262417805,0.2528869414028695,0.2528859553464619,0.25288497843463,0.25288400946282846,0.2528830490260967,0.25288210661410193,0.25288118028501927,0.2528802968802412,0.252879474912545,0.25287870719254063,0.25287799370669173,0.2528717586994625,0.2528669888641935,0.25286282311186786,0.2528589447697537,0.25285611583829565,0.25285378710392786,0.252851596988457,0.2528495277031139,0.25284750367305964,0.2528457251023919,0.2528440109720224,0.2528423146283745,0.2528405908710454,0.25283906571839426,0.25283763420616706,0.2528362210594264,0.25283476381839987,0.2528333648483975,0.2528319797327263,0.2528306033164501,0.25282926969084213,0.25282790660828885,0.25282666142145693,0.25282548817094624,0.2528243314463927,0.2528232550275991,0.25282219843548115,0.2528212332578911,0.2527947360969403,0.2527727153447175,0.252753533321911,0.2527354924014106,0.25271771007777527,0.2527007671885814,0.2526852126015487,0.2526702894554222,0.2526554112884729,0.25264083035949086,0.25262640352490146,0.25261239037142535,0.2525987563264782,0.25258585946649825,0.25257431589859297,0.25256300581980695,0.2525523353992135,0.2525421031721336,0.2525326190624384,0.2525235700629162,0.2525149325825742,0.252506703446564,0.25249858463256486,0.25249054218133016,0.2524924398121369,0.25249404270496584,0.2524954416663621,0.2524967594351742,0.25249805266414527,0.25249919164661166,0.25250030155274983,0.25250140607118654,0.25250250431617943,0.2525035291209154,0.2525045378730891,0.2525055048492976,0.252506344802495,0.25250715861522594,0.2525079445515072,0.2525087092905324,0.2525093216198131,0.25250987334756764,0.25251040972734046,0.2525109403060916,0.2525114542415332,0.25252624139551594,0.2525396156435104,0.2525519099994699,0.2525640679357517,0.2525751350271602,0.25258490880800855,0.2525943614587402,0.2526019556094096,0.252609282508104,0.2526160300516437,0.25262265013278107,0.25262881666724785,0.25263464773720273,0.25264030861435494,0.2526460658315316,0.25265112901580583,0.2526560447596823,0.2526606162085487,0.25259295619671757,0.2525374166431734,0.2525061730769322,0.2524783177825387,0.2524504378024883,0.2524259477652403,0.25240254054829203,0.2523795245702612,0.2523577991791764,0.2523370842474538,0.25231732763903336,0.2523000055400353,0.2522834088424687,0.25226846380365736,0.25225425627187004,0.2522414233835548,0.25224011600939894,0.2522392119204841,0.25223834430551284,0.2522374752565284,0.25223661259629204,0.2522358515505494,0.252235266234295,0.25223461203711683,0.2522340547886496,0.25223351140092,0.252233009218313,0.25223255398654826,0.2522321353929729,0.2522317757176659,0.2522221564517437,0.2522155748913562,0.25221079674712155,0.25220657193575685,0.25220278071125285,0.2521991097636152,0.2521955717730613,0.2521920798280155,0.25218939501006765,0.25218728769723886,0.2521852345353149,0.25218325166205247,0.25218139912187526,0.25216435300252865,0.25215609578024245,0.25214806225429126,0.2521421088722365,0.2521370298072731,0.2521326079528156,0.25212869820694833,0.2521254724844092,0.2521224860201584,0.2521195593191084,0.2521171849380523,0.2520959234286392,0.252078279606752,0.25206539180437426,0.2520551279759117,0.2520465452962986,0.25203938786454455,0.25203223706379824,0.25202511312540604,0.2520181989452974,0.25203158199400627,0.2520452053071178,0.2520527108683904,0.2520600095099874,0.252065872942102,0.25207117280145014,0.25207527273976044,0.2520790461162976,0.25208219416103955,0.25204743462633733,0.25202049760398065,0.252001894848219,0.2519885616972944,0.25197621247801055,0.25196568149287707,0.2519553145133988,0.2519239191247042,0.25191650693075174,0.2519099566264228,0.25190398217300963,0.25189822886920277,0.25189291206472014,0.2518879758585601,0.2518159475896258,0.25178499933927945,0.2517581245289448,0.25173306376471555,0.2517204932837888,0.2517556783910988,0.25178339733798605,0.2517997061267874,0.2518127301449199,0.2518237876267643,0.2517471739829251,0.2517280726591314,0.25171553788443557,0.25170701986731264,0.2517050025398624,0.2516904790304424,0.25168012298212544,0.2516730298286069,0.2516707835661009,0.25160118886643296,0.2516009592106148,0.2516009532019436,0.2516594263799064,0.25171444566481116,0.25171444566482043,0.25166912745376024,0.2516628606906313,0.25167500830425027,0.25167500830425027,0.25167500830425027,0.25163215020394486,0.25158929210363945,0.25166006457553347,0.2516542507906345,0.25164660057381844,0.25172715140480856,0.25171245367785583,0.25163086829748965,0.2516831904607789,0.251756847474612,0.25165292816861917],\"type\":\"scatter\"},{\"marker\":{\"size\":10,\"symbol\":\"square\"},\"mode\":\"markers\",\"name\":\"\",\"text\":[\"\",\"51\",\"191\",\"147\",\"222\",\"48\",\"200\",\"13\",\"176\",\"57\",\"206\",\"87\",\"157\",\"155\",\"83\",\"153\",\"16\",\"88\",\"216\",\"32\",\"220\",\"15\",\"24\",\"dayweek\",\"218\",\"202\",\"197\",\"199\",\"219\",\"219\",\"193\"],\"x\":[0,31,59,83,104,122,138,152,165,176,185,194,201,208,213,218,223,227,230,233,235,238,240,241,243,244,246,247,248,248,249],\"y\":[0.25293328627956196,0.25287799370669173,0.2528212332578911,0.25249054218133016,0.2525114542415332,0.2526606162085487,0.2522414233835548,0.2522317757176659,0.25218139912187526,0.2521171849380523,0.2520181989452974,0.25208219416103955,0.2519553145133988,0.2518879758585601,0.2517204932837888,0.2518237876267643,0.2517050025398624,0.2516707835661009,0.2516009532019436,0.25171444566482043,0.2516628606906313,0.25167500830425027,0.25158929210363945,0.25166006457553347,0.25164660057381844,0.25172715140480856,0.25163086829748965,0.2516831904607789,0.251756847474612,0.251756847474612,0.25165292816861917],\"type\":\"scatter\"},{\"mode\":\"text\",\"name\":\"\",\"text\":[\"\",\"41\",\"143\",\"3\",\"61\",\"165\",\"167\",\"68\",\"138\",\"139\",\"65\",\"40\",\"113\",\"144\",\"210\",\"55\",\"244\",\"96\",\"230\",\"126\",\"237\",\"60\",\"73\",\"104\",\"141\",\"135\",\"42\",\"185\",\"62\",\"148\",\"227\",\"53\",\"5\",\"111\",\"164\",\"27\",\"66\",\"225\",\"63\",\"243\",\"158\",\"233\",\"70\",\"245\",\"112\",\"114\",\"207\",\"7\",\"238\",\"12\",\"78\",\"52\",\"231\",\"110\",\"134\",\"242\",\"54\",\"137\",\"162\",\"189\",\"4\",\"169\",\"223\",\"247\",\"20\",\"49\",\"51\",\"146\",\"108\",\"163\",\"188\",\"115\",\"205\",\"235\",\"57\",\"123\",\"187\",\"129\",\"2\",\"106\",\"38\",\"101\",\"82\",\"145\",\"136\",\"128\",\"22\",\"107\",\"149\",\"236\",\"6\",\"240\",\"140\",\"208\",\"226\",\"127\",\"39\",\"10\",\"154\",\"116\",\"179\",\"161\",\"234\",\"92\",\"219\",\"75\",\"183\",\"206\",\"102\",\"170\",\"16\",\"105\",\"239\",\"180\",\"228\",\"44\",\"159\",\"72\",\"11\",\"64\",\"91\",\"56\",\"50\",\"13\",\"77\",\"124\",\"192\",\"45\",\"29\",\"130\",\"36\",\"190\",\"46\",\"21\",\"157\",\"241\",\"172\",\"246\",\"198\",\"125\",\"168\",\"186\",\"160\",\"100\",\"23\",\"166\",\"142\",\"24\",\"182\",\"30\",\"181\",\"224\",\"15\",\"220\",\"99\",\"248\",\"156\",\"9\",\"109\",\"71\",\"43\",\"147\",\"117\",\"67\",\"58\",\"174\",\"103\",\"232\",\"229\",\"122\",\"90\",\"118\",\"199\",\"33\",\"214\",\"89\",\"59\",\"95\",\"81\",\"249\",\"31\",\"171\",\"212\",\"93\",\"47\",\"203\",\"204\",\"48\",\"88\",\"133\",\"76\",\"221\",\"202\",\"14\",\"86\",\"74\",\"80\",\"69\",\"97\",\"84\",\"222\",\"155\",\"184\",\"120\",\"132\",\"119\",\"201\",\"121\",\"153\",\"8\",\"98\",\"193\",\"196\",\"83\",\"209\",\"150\",\"32\",\"28\",\"151\",\"79\",\"178\",\"85\",\"218\",\"18\",\"131\",\"211\",\"175\",\"87\",\"176\",\"152\",\"213\",\"194\",\"177\",\"34\",\"173\",\"217\",\"19\",\"35\",\"17\",\"25\",\"26\",\"253\",\"94\",\"215\",\"200\",\"37\",\"195\",\"197\",\"216\",\"191\"],\"textfont\":{\"color\":\"rgb(51,160,44)\",\"family\":\"sans serif\",\"size\":18},\"textposition\":\"bottom center\",\"visible\":false,\"x\":[0,1,2,3,4,5,6,7,8,9,10,11,12,13,14,15,16,17,18,19,20,21,22,23,24,25,26,27,28,29,30,31,32,33,34,35,36,37,38,39,40,41,42,43,44,45,46,47,48,49,50,51,52,53,54,55,56,57,58,59,60,61,62,63,64,65,66,67,68,69,70,71,72,73,74,75,76,77,78,79,80,81,82,83,84,85,86,87,88,89,90,91,92,93,94,95,96,97,98,99,100,101,102,103,104,105,106,107,108,109,110,111,112,113,114,115,116,117,118,119,120,121,122,123,124,125,126,127,128,129,130,131,132,133,134,135,136,137,138,139,140,141,142,143,144,145,146,147,148,149,150,151,152,153,154,155,156,157,158,159,160,161,162,163,164,165,166,167,168,169,170,171,172,173,174,175,176,177,178,179,180,181,182,183,184,185,186,187,188,189,190,191,192,193,194,195,196,197,198,199,200,201,202,203,204,205,206,207,208,209,210,211,212,213,214,215,216,217,218,219,220,221,222,223,224,225,226,227,228,229,230,231,232,233,234,235,236,237,238,239,240,241,242,243,244,245,246,247,248,249],\"y\":[0.25293328627956196,0.2529236296266341,0.25291956850837555,0.25291613189838946,0.2529132302156344,0.25291086817907626,0.2529088666482885,0.25290703338527204,0.2529052580414509,0.2529035503024082,0.2529019136194507,0.25290028847609347,0.25289871047233237,0.25289726566893356,0.25289586050834056,0.2528943972589485,0.25289298947561795,0.2528916943730938,0.2528904614776083,0.2528892645876975,0.25288809262417805,0.2528869414028695,0.2528859553464619,0.25288497843463,0.25288400946282846,0.2528830490260967,0.25288210661410193,0.25288118028501927,0.2528802968802412,0.252879474912545,0.25287870719254063,0.25287799370669173,0.2528717586994625,0.2528669888641935,0.25286282311186786,0.2528589447697537,0.25285611583829565,0.25285378710392786,0.252851596988457,0.2528495277031139,0.25284750367305964,0.2528457251023919,0.2528440109720224,0.2528423146283745,0.2528405908710454,0.25283906571839426,0.25283763420616706,0.2528362210594264,0.25283476381839987,0.2528333648483975,0.2528319797327263,0.2528306033164501,0.25282926969084213,0.25282790660828885,0.25282666142145693,0.25282548817094624,0.2528243314463927,0.2528232550275991,0.25282219843548115,0.2528212332578911,0.2527947360969403,0.2527727153447175,0.252753533321911,0.2527354924014106,0.25271771007777527,0.2527007671885814,0.2526852126015487,0.2526702894554222,0.2526554112884729,0.25264083035949086,0.25262640352490146,0.25261239037142535,0.2525987563264782,0.25258585946649825,0.25257431589859297,0.25256300581980695,0.2525523353992135,0.2525421031721336,0.2525326190624384,0.2525235700629162,0.2525149325825742,0.252506703446564,0.25249858463256486,0.25249054218133016,0.2524924398121369,0.25249404270496584,0.2524954416663621,0.2524967594351742,0.25249805266414527,0.25249919164661166,0.25250030155274983,0.25250140607118654,0.25250250431617943,0.2525035291209154,0.2525045378730891,0.2525055048492976,0.252506344802495,0.25250715861522594,0.2525079445515072,0.2525087092905324,0.2525093216198131,0.25250987334756764,0.25251040972734046,0.2525109403060916,0.2525114542415332,0.25252624139551594,0.2525396156435104,0.2525519099994699,0.2525640679357517,0.2525751350271602,0.25258490880800855,0.2525943614587402,0.2526019556094096,0.252609282508104,0.2526160300516437,0.25262265013278107,0.25262881666724785,0.25263464773720273,0.25264030861435494,0.2526460658315316,0.25265112901580583,0.2526560447596823,0.2526606162085487,0.25259295619671757,0.2525374166431734,0.2525061730769322,0.2524783177825387,0.2524504378024883,0.2524259477652403,0.25240254054829203,0.2523795245702612,0.2523577991791764,0.2523370842474538,0.25231732763903336,0.2523000055400353,0.2522834088424687,0.25226846380365736,0.25225425627187004,0.2522414233835548,0.25224011600939894,0.2522392119204841,0.25223834430551284,0.2522374752565284,0.25223661259629204,0.2522358515505494,0.252235266234295,0.25223461203711683,0.2522340547886496,0.25223351140092,0.252233009218313,0.25223255398654826,0.2522321353929729,0.2522317757176659,0.2522221564517437,0.2522155748913562,0.25221079674712155,0.25220657193575685,0.25220278071125285,0.2521991097636152,0.2521955717730613,0.2521920798280155,0.25218939501006765,0.25218728769723886,0.2521852345353149,0.25218325166205247,0.25218139912187526,0.25216435300252865,0.25215609578024245,0.25214806225429126,0.2521421088722365,0.2521370298072731,0.2521326079528156,0.25212869820694833,0.2521254724844092,0.2521224860201584,0.2521195593191084,0.2521171849380523,0.2520959234286392,0.252078279606752,0.25206539180437426,0.2520551279759117,0.2520465452962986,0.25203938786454455,0.25203223706379824,0.25202511312540604,0.2520181989452974,0.25203158199400627,0.2520452053071178,0.2520527108683904,0.2520600095099874,0.252065872942102,0.25207117280145014,0.25207527273976044,0.2520790461162976,0.25208219416103955,0.25204743462633733,0.25202049760398065,0.252001894848219,0.2519885616972944,0.25197621247801055,0.25196568149287707,0.2519553145133988,0.2519239191247042,0.25191650693075174,0.2519099566264228,0.25190398217300963,0.25189822886920277,0.25189291206472014,0.2518879758585601,0.2518159475896258,0.25178499933927945,0.2517581245289448,0.25173306376471555,0.2517204932837888,0.2517556783910988,0.25178339733798605,0.2517997061267874,0.2518127301449199,0.2518237876267643,0.2517471739829251,0.2517280726591314,0.25171553788443557,0.25170701986731264,0.2517050025398624,0.2516904790304424,0.25168012298212544,0.2516730298286069,0.2516707835661009,0.25160118886643296,0.2516009592106148,0.2516009532019436,0.2516594263799064,0.25171444566481116,0.25171444566482043,0.25166912745376024,0.2516628606906313,0.25167500830425027,0.25167500830425027,0.25167500830425027,0.25163215020394486,0.25158929210363945,0.25166006457553347,0.2516542507906345,0.25164660057381844,0.25172715140480856,0.25171245367785583,0.25163086829748965,0.2516831904607789,0.251756847474612,0.25165292816861917],\"type\":\"scatter\"},{\"mode\":\"text\",\"name\":\"\",\"text\":[\"\",\"39\",\"145\",\"1\",\"59\",\"167\",\"169\",\"66\",\"140\",\"141\",\"63\",\"38\",\"114\",\"146\",\"213\",\"53\",\"247\",\"97\",\"233\",\"127\",\"240\",\"58\",\"71\",\"105\",\"143\",\"136\",\"40\",\"187\",\"60\",\"150\",\"230\",\"51\",\"3\",\"112\",\"166\",\"25\",\"64\",\"228\",\"61\",\"246\",\"160\",\"236\",\"68\",\"248\",\"113\",\"115\",\"210\",\"5\",\"241\",\"10\",\"77\",\"50\",\"234\",\"111\",\"135\",\"245\",\"52\",\"138\",\"164\",\"191\",\"2\",\"171\",\"226\",\"250\",\"18\",\"47\",\"49\",\"148\",\"109\",\"165\",\"190\",\"116\",\"208\",\"238\",\"55\",\"124\",\"189\",\"130\",\"0\",\"107\",\"36\",\"102\",\"82\",\"147\",\"137\",\"129\",\"20\",\"108\",\"151\",\"239\",\"4\",\"243\",\"142\",\"211\",\"229\",\"128\",\"37\",\"8\",\"156\",\"117\",\"181\",\"163\",\"237\",\"93\",\"222\",\"73\",\"185\",\"209\",\"103\",\"172\",\"14\",\"106\",\"242\",\"182\",\"231\",\"42\",\"161\",\"70\",\"9\",\"62\",\"92\",\"54\",\"48\",\"11\",\"76\",\"125\",\"194\",\"43\",\"27\",\"131\",\"34\",\"192\",\"44\",\"19\",\"159\",\"244\",\"174\",\"249\",\"200\",\"126\",\"170\",\"188\",\"162\",\"101\",\"21\",\"168\",\"144\",\"22\",\"184\",\"28\",\"183\",\"227\",\"13\",\"223\",\"100\",\"251\",\"158\",\"7\",\"110\",\"69\",\"41\",\"149\",\"118\",\"65\",\"56\",\"176\",\"104\",\"235\",\"232\",\"123\",\"91\",\"119\",\"201\",\"31\",\"217\",\"90\",\"57\",\"96\",\"80\",\"252\",\"29\",\"173\",\"215\",\"94\",\"45\",\"206\",\"207\",\"46\",\"89\",\"134\",\"74\",\"224\",\"205\",\"12\",\"87\",\"72\",\"79\",\"67\",\"98\",\"84\",\"225\",\"157\",\"186\",\"121\",\"133\",\"120\",\"204\",\"122\",\"155\",\"6\",\"99\",\"195\",\"198\",\"83\",\"212\",\"152\",\"30\",\"26\",\"153\",\"78\",\"180\",\"86\",\"221\",\"16\",\"132\",\"214\",\"177\",\"88\",\"178\",\"154\",\"216\",\"196\",\"179\",\"32\",\"175\",\"220\",\"17\",\"33\",\"15\",\"23\",\"24\",\"dayweek\",\"95\",\"218\",\"202\",\"35\",\"197\",\"199\",\"219\",\"193\"],\"textfont\":{\"color\":\"rgb(51,160,44)\",\"family\":\"sans serif\",\"size\":18},\"textposition\":\"bottom center\",\"visible\":false,\"x\":[0,1,2,3,4,5,6,7,8,9,10,11,12,13,14,15,16,17,18,19,20,21,22,23,24,25,26,27,28,29,30,31,32,33,34,35,36,37,38,39,40,41,42,43,44,45,46,47,48,49,50,51,52,53,54,55,56,57,58,59,60,61,62,63,64,65,66,67,68,69,70,71,72,73,74,75,76,77,78,79,80,81,82,83,84,85,86,87,88,89,90,91,92,93,94,95,96,97,98,99,100,101,102,103,104,105,106,107,108,109,110,111,112,113,114,115,116,117,118,119,120,121,122,123,124,125,126,127,128,129,130,131,132,133,134,135,136,137,138,139,140,141,142,143,144,145,146,147,148,149,150,151,152,153,154,155,156,157,158,159,160,161,162,163,164,165,166,167,168,169,170,171,172,173,174,175,176,177,178,179,180,181,182,183,184,185,186,187,188,189,190,191,192,193,194,195,196,197,198,199,200,201,202,203,204,205,206,207,208,209,210,211,212,213,214,215,216,217,218,219,220,221,222,223,224,225,226,227,228,229,230,231,232,233,234,235,236,237,238,239,240,241,242,243,244,245,246,247,248,249],\"y\":[0.25293328627956196,0.2529236296266341,0.25291956850837555,0.25291613189838946,0.2529132302156344,0.25291086817907626,0.2529088666482885,0.25290703338527204,0.2529052580414509,0.2529035503024082,0.2529019136194507,0.25290028847609347,0.25289871047233237,0.25289726566893356,0.25289586050834056,0.2528943972589485,0.25289298947561795,0.2528916943730938,0.2528904614776083,0.2528892645876975,0.25288809262417805,0.2528869414028695,0.2528859553464619,0.25288497843463,0.25288400946282846,0.2528830490260967,0.25288210661410193,0.25288118028501927,0.2528802968802412,0.252879474912545,0.25287870719254063,0.25287799370669173,0.2528717586994625,0.2528669888641935,0.25286282311186786,0.2528589447697537,0.25285611583829565,0.25285378710392786,0.252851596988457,0.2528495277031139,0.25284750367305964,0.2528457251023919,0.2528440109720224,0.2528423146283745,0.2528405908710454,0.25283906571839426,0.25283763420616706,0.2528362210594264,0.25283476381839987,0.2528333648483975,0.2528319797327263,0.2528306033164501,0.25282926969084213,0.25282790660828885,0.25282666142145693,0.25282548817094624,0.2528243314463927,0.2528232550275991,0.25282219843548115,0.2528212332578911,0.2527947360969403,0.2527727153447175,0.252753533321911,0.2527354924014106,0.25271771007777527,0.2527007671885814,0.2526852126015487,0.2526702894554222,0.2526554112884729,0.25264083035949086,0.25262640352490146,0.25261239037142535,0.2525987563264782,0.25258585946649825,0.25257431589859297,0.25256300581980695,0.2525523353992135,0.2525421031721336,0.2525326190624384,0.2525235700629162,0.2525149325825742,0.252506703446564,0.25249858463256486,0.25249054218133016,0.2524924398121369,0.25249404270496584,0.2524954416663621,0.2524967594351742,0.25249805266414527,0.25249919164661166,0.25250030155274983,0.25250140607118654,0.25250250431617943,0.2525035291209154,0.2525045378730891,0.2525055048492976,0.252506344802495,0.25250715861522594,0.2525079445515072,0.2525087092905324,0.2525093216198131,0.25250987334756764,0.25251040972734046,0.2525109403060916,0.2525114542415332,0.25252624139551594,0.2525396156435104,0.2525519099994699,0.2525640679357517,0.2525751350271602,0.25258490880800855,0.2525943614587402,0.2526019556094096,0.252609282508104,0.2526160300516437,0.25262265013278107,0.25262881666724785,0.25263464773720273,0.25264030861435494,0.2526460658315316,0.25265112901580583,0.2526560447596823,0.2526606162085487,0.25259295619671757,0.2525374166431734,0.2525061730769322,0.2524783177825387,0.2524504378024883,0.2524259477652403,0.25240254054829203,0.2523795245702612,0.2523577991791764,0.2523370842474538,0.25231732763903336,0.2523000055400353,0.2522834088424687,0.25226846380365736,0.25225425627187004,0.2522414233835548,0.25224011600939894,0.2522392119204841,0.25223834430551284,0.2522374752565284,0.25223661259629204,0.2522358515505494,0.252235266234295,0.25223461203711683,0.2522340547886496,0.25223351140092,0.252233009218313,0.25223255398654826,0.2522321353929729,0.2522317757176659,0.2522221564517437,0.2522155748913562,0.25221079674712155,0.25220657193575685,0.25220278071125285,0.2521991097636152,0.2521955717730613,0.2521920798280155,0.25218939501006765,0.25218728769723886,0.2521852345353149,0.25218325166205247,0.25218139912187526,0.25216435300252865,0.25215609578024245,0.25214806225429126,0.2521421088722365,0.2521370298072731,0.2521326079528156,0.25212869820694833,0.2521254724844092,0.2521224860201584,0.2521195593191084,0.2521171849380523,0.2520959234286392,0.252078279606752,0.25206539180437426,0.2520551279759117,0.2520465452962986,0.25203938786454455,0.25203223706379824,0.25202511312540604,0.2520181989452974,0.25203158199400627,0.2520452053071178,0.2520527108683904,0.2520600095099874,0.252065872942102,0.25207117280145014,0.25207527273976044,0.2520790461162976,0.25208219416103955,0.25204743462633733,0.25202049760398065,0.252001894848219,0.2519885616972944,0.25197621247801055,0.25196568149287707,0.2519553145133988,0.2519239191247042,0.25191650693075174,0.2519099566264228,0.25190398217300963,0.25189822886920277,0.25189291206472014,0.2518879758585601,0.2518159475896258,0.25178499933927945,0.2517581245289448,0.25173306376471555,0.2517204932837888,0.2517556783910988,0.25178339733798605,0.2517997061267874,0.2518127301449199,0.2518237876267643,0.2517471739829251,0.2517280726591314,0.25171553788443557,0.25170701986731264,0.2517050025398624,0.2516904790304424,0.25168012298212544,0.2516730298286069,0.2516707835661009,0.25160118886643296,0.2516009592106148,0.2516009532019436,0.2516594263799064,0.25171444566481116,0.25171444566482043,0.25166912745376024,0.2516628606906313,0.25167500830425027,0.25167500830425027,0.25167500830425027,0.25163215020394486,0.25158929210363945,0.25166006457553347,0.2516542507906345,0.25164660057381844,0.25172715140480856,0.25171245367785583,0.25163086829748965,0.2516831904607789,0.251756847474612,0.25165292816861917],\"type\":\"scatter\"}],                        {\"template\":{\"data\":{\"histogram2dcontour\":[{\"type\":\"histogram2dcontour\",\"colorbar\":{\"outlinewidth\":0,\"ticks\":\"\"},\"colorscale\":[[0.0,\"#0d0887\"],[0.1111111111111111,\"#46039f\"],[0.2222222222222222,\"#7201a8\"],[0.3333333333333333,\"#9c179e\"],[0.4444444444444444,\"#bd3786\"],[0.5555555555555556,\"#d8576b\"],[0.6666666666666666,\"#ed7953\"],[0.7777777777777778,\"#fb9f3a\"],[0.8888888888888888,\"#fdca26\"],[1.0,\"#f0f921\"]]}],\"choropleth\":[{\"type\":\"choropleth\",\"colorbar\":{\"outlinewidth\":0,\"ticks\":\"\"}}],\"histogram2d\":[{\"type\":\"histogram2d\",\"colorbar\":{\"outlinewidth\":0,\"ticks\":\"\"},\"colorscale\":[[0.0,\"#0d0887\"],[0.1111111111111111,\"#46039f\"],[0.2222222222222222,\"#7201a8\"],[0.3333333333333333,\"#9c179e\"],[0.4444444444444444,\"#bd3786\"],[0.5555555555555556,\"#d8576b\"],[0.6666666666666666,\"#ed7953\"],[0.7777777777777778,\"#fb9f3a\"],[0.8888888888888888,\"#fdca26\"],[1.0,\"#f0f921\"]]}],\"heatmap\":[{\"type\":\"heatmap\",\"colorbar\":{\"outlinewidth\":0,\"ticks\":\"\"},\"colorscale\":[[0.0,\"#0d0887\"],[0.1111111111111111,\"#46039f\"],[0.2222222222222222,\"#7201a8\"],[0.3333333333333333,\"#9c179e\"],[0.4444444444444444,\"#bd3786\"],[0.5555555555555556,\"#d8576b\"],[0.6666666666666666,\"#ed7953\"],[0.7777777777777778,\"#fb9f3a\"],[0.8888888888888888,\"#fdca26\"],[1.0,\"#f0f921\"]]}],\"heatmapgl\":[{\"type\":\"heatmapgl\",\"colorbar\":{\"outlinewidth\":0,\"ticks\":\"\"},\"colorscale\":[[0.0,\"#0d0887\"],[0.1111111111111111,\"#46039f\"],[0.2222222222222222,\"#7201a8\"],[0.3333333333333333,\"#9c179e\"],[0.4444444444444444,\"#bd3786\"],[0.5555555555555556,\"#d8576b\"],[0.6666666666666666,\"#ed7953\"],[0.7777777777777778,\"#fb9f3a\"],[0.8888888888888888,\"#fdca26\"],[1.0,\"#f0f921\"]]}],\"contourcarpet\":[{\"type\":\"contourcarpet\",\"colorbar\":{\"outlinewidth\":0,\"ticks\":\"\"}}],\"contour\":[{\"type\":\"contour\",\"colorbar\":{\"outlinewidth\":0,\"ticks\":\"\"},\"colorscale\":[[0.0,\"#0d0887\"],[0.1111111111111111,\"#46039f\"],[0.2222222222222222,\"#7201a8\"],[0.3333333333333333,\"#9c179e\"],[0.4444444444444444,\"#bd3786\"],[0.5555555555555556,\"#d8576b\"],[0.6666666666666666,\"#ed7953\"],[0.7777777777777778,\"#fb9f3a\"],[0.8888888888888888,\"#fdca26\"],[1.0,\"#f0f921\"]]}],\"surface\":[{\"type\":\"surface\",\"colorbar\":{\"outlinewidth\":0,\"ticks\":\"\"},\"colorscale\":[[0.0,\"#0d0887\"],[0.1111111111111111,\"#46039f\"],[0.2222222222222222,\"#7201a8\"],[0.3333333333333333,\"#9c179e\"],[0.4444444444444444,\"#bd3786\"],[0.5555555555555556,\"#d8576b\"],[0.6666666666666666,\"#ed7953\"],[0.7777777777777778,\"#fb9f3a\"],[0.8888888888888888,\"#fdca26\"],[1.0,\"#f0f921\"]]}],\"mesh3d\":[{\"type\":\"mesh3d\",\"colorbar\":{\"outlinewidth\":0,\"ticks\":\"\"}}],\"scatter\":[{\"fillpattern\":{\"fillmode\":\"overlay\",\"size\":10,\"solidity\":0.2},\"type\":\"scatter\"}],\"parcoords\":[{\"type\":\"parcoords\",\"line\":{\"colorbar\":{\"outlinewidth\":0,\"ticks\":\"\"}}}],\"scatterpolargl\":[{\"type\":\"scatterpolargl\",\"marker\":{\"colorbar\":{\"outlinewidth\":0,\"ticks\":\"\"}}}],\"bar\":[{\"error_x\":{\"color\":\"#2a3f5f\"},\"error_y\":{\"color\":\"#2a3f5f\"},\"marker\":{\"line\":{\"color\":\"#E5ECF6\",\"width\":0.5},\"pattern\":{\"fillmode\":\"overlay\",\"size\":10,\"solidity\":0.2}},\"type\":\"bar\"}],\"scattergeo\":[{\"type\":\"scattergeo\",\"marker\":{\"colorbar\":{\"outlinewidth\":0,\"ticks\":\"\"}}}],\"scatterpolar\":[{\"type\":\"scatterpolar\",\"marker\":{\"colorbar\":{\"outlinewidth\":0,\"ticks\":\"\"}}}],\"histogram\":[{\"marker\":{\"pattern\":{\"fillmode\":\"overlay\",\"size\":10,\"solidity\":0.2}},\"type\":\"histogram\"}],\"scattergl\":[{\"type\":\"scattergl\",\"marker\":{\"colorbar\":{\"outlinewidth\":0,\"ticks\":\"\"}}}],\"scatter3d\":[{\"type\":\"scatter3d\",\"line\":{\"colorbar\":{\"outlinewidth\":0,\"ticks\":\"\"}},\"marker\":{\"colorbar\":{\"outlinewidth\":0,\"ticks\":\"\"}}}],\"scattermapbox\":[{\"type\":\"scattermapbox\",\"marker\":{\"colorbar\":{\"outlinewidth\":0,\"ticks\":\"\"}}}],\"scatterternary\":[{\"type\":\"scatterternary\",\"marker\":{\"colorbar\":{\"outlinewidth\":0,\"ticks\":\"\"}}}],\"scattercarpet\":[{\"type\":\"scattercarpet\",\"marker\":{\"colorbar\":{\"outlinewidth\":0,\"ticks\":\"\"}}}],\"carpet\":[{\"aaxis\":{\"endlinecolor\":\"#2a3f5f\",\"gridcolor\":\"white\",\"linecolor\":\"white\",\"minorgridcolor\":\"white\",\"startlinecolor\":\"#2a3f5f\"},\"baxis\":{\"endlinecolor\":\"#2a3f5f\",\"gridcolor\":\"white\",\"linecolor\":\"white\",\"minorgridcolor\":\"white\",\"startlinecolor\":\"#2a3f5f\"},\"type\":\"carpet\"}],\"table\":[{\"cells\":{\"fill\":{\"color\":\"#EBF0F8\"},\"line\":{\"color\":\"white\"}},\"header\":{\"fill\":{\"color\":\"#C8D4E3\"},\"line\":{\"color\":\"white\"}},\"type\":\"table\"}],\"barpolar\":[{\"marker\":{\"line\":{\"color\":\"#E5ECF6\",\"width\":0.5},\"pattern\":{\"fillmode\":\"overlay\",\"size\":10,\"solidity\":0.2}},\"type\":\"barpolar\"}],\"pie\":[{\"automargin\":true,\"type\":\"pie\"}]},\"layout\":{\"autotypenumbers\":\"strict\",\"colorway\":[\"#636efa\",\"#EF553B\",\"#00cc96\",\"#ab63fa\",\"#FFA15A\",\"#19d3f3\",\"#FF6692\",\"#B6E880\",\"#FF97FF\",\"#FECB52\"],\"font\":{\"color\":\"#2a3f5f\"},\"hovermode\":\"closest\",\"hoverlabel\":{\"align\":\"left\"},\"paper_bgcolor\":\"white\",\"plot_bgcolor\":\"#E5ECF6\",\"polar\":{\"bgcolor\":\"#E5ECF6\",\"angularaxis\":{\"gridcolor\":\"white\",\"linecolor\":\"white\",\"ticks\":\"\"},\"radialaxis\":{\"gridcolor\":\"white\",\"linecolor\":\"white\",\"ticks\":\"\"}},\"ternary\":{\"bgcolor\":\"#E5ECF6\",\"aaxis\":{\"gridcolor\":\"white\",\"linecolor\":\"white\",\"ticks\":\"\"},\"baxis\":{\"gridcolor\":\"white\",\"linecolor\":\"white\",\"ticks\":\"\"},\"caxis\":{\"gridcolor\":\"white\",\"linecolor\":\"white\",\"ticks\":\"\"}},\"coloraxis\":{\"colorbar\":{\"outlinewidth\":0,\"ticks\":\"\"}},\"colorscale\":{\"sequential\":[[0.0,\"#0d0887\"],[0.1111111111111111,\"#46039f\"],[0.2222222222222222,\"#7201a8\"],[0.3333333333333333,\"#9c179e\"],[0.4444444444444444,\"#bd3786\"],[0.5555555555555556,\"#d8576b\"],[0.6666666666666666,\"#ed7953\"],[0.7777777777777778,\"#fb9f3a\"],[0.8888888888888888,\"#fdca26\"],[1.0,\"#f0f921\"]],\"sequentialminus\":[[0.0,\"#0d0887\"],[0.1111111111111111,\"#46039f\"],[0.2222222222222222,\"#7201a8\"],[0.3333333333333333,\"#9c179e\"],[0.4444444444444444,\"#bd3786\"],[0.5555555555555556,\"#d8576b\"],[0.6666666666666666,\"#ed7953\"],[0.7777777777777778,\"#fb9f3a\"],[0.8888888888888888,\"#fdca26\"],[1.0,\"#f0f921\"]],\"diverging\":[[0,\"#8e0152\"],[0.1,\"#c51b7d\"],[0.2,\"#de77ae\"],[0.3,\"#f1b6da\"],[0.4,\"#fde0ef\"],[0.5,\"#f7f7f7\"],[0.6,\"#e6f5d0\"],[0.7,\"#b8e186\"],[0.8,\"#7fbc41\"],[0.9,\"#4d9221\"],[1,\"#276419\"]]},\"xaxis\":{\"gridcolor\":\"white\",\"linecolor\":\"white\",\"ticks\":\"\",\"title\":{\"standoff\":15},\"zerolinecolor\":\"white\",\"automargin\":true,\"zerolinewidth\":2},\"yaxis\":{\"gridcolor\":\"white\",\"linecolor\":\"white\",\"ticks\":\"\",\"title\":{\"standoff\":15},\"zerolinecolor\":\"white\",\"automargin\":true,\"zerolinewidth\":2},\"scene\":{\"xaxis\":{\"backgroundcolor\":\"#E5ECF6\",\"gridcolor\":\"white\",\"linecolor\":\"white\",\"showbackground\":true,\"ticks\":\"\",\"zerolinecolor\":\"white\",\"gridwidth\":2},\"yaxis\":{\"backgroundcolor\":\"#E5ECF6\",\"gridcolor\":\"white\",\"linecolor\":\"white\",\"showbackground\":true,\"ticks\":\"\",\"zerolinecolor\":\"white\",\"gridwidth\":2},\"zaxis\":{\"backgroundcolor\":\"#E5ECF6\",\"gridcolor\":\"white\",\"linecolor\":\"white\",\"showbackground\":true,\"ticks\":\"\",\"zerolinecolor\":\"white\",\"gridwidth\":2}},\"shapedefaults\":{\"line\":{\"color\":\"#2a3f5f\"}},\"annotationdefaults\":{\"arrowcolor\":\"#2a3f5f\",\"arrowhead\":0,\"arrowwidth\":1},\"geo\":{\"bgcolor\":\"white\",\"landcolor\":\"#E5ECF6\",\"subunitcolor\":\"white\",\"showland\":true,\"showlakes\":true,\"lakecolor\":\"white\"},\"title\":{\"x\":0.05},\"mapbox\":{\"style\":\"light\"}}},\"title\":{\"text\":\"Loss by eliminated features\"},\"xaxis\":{\"title\":{\"text\":\"number of removed features\"},\"gridcolor\":\"rgb(255,255,255)\",\"showgrid\":true,\"showline\":false,\"showticklabels\":true,\"tickcolor\":\"rgb(127,127,127)\",\"ticks\":\"outside\",\"zeroline\":false},\"yaxis\":{\"title\":{\"text\":\"loss value\",\"font\":{\"color\":\"rgb(51,160,44)\"}},\"tickfont\":{\"color\":\"rgb(51,160,44)\"},\"gridcolor\":\"rgb(255,255,255)\",\"showgrid\":true,\"showline\":false,\"showticklabels\":true,\"tickcolor\":\"rgb(127,127,127)\",\"ticks\":\"outside\",\"zeroline\":false},\"updatemenus\":[{\"active\":0,\"buttons\":[{\"args\":[{\"visible\":[true,true,false,false]}],\"label\":\"Hide features\",\"method\":\"update\"},{\"args\":[{\"visible\":[true,true,true,false]}],\"label\":\"Show indices\",\"method\":\"update\"},{\"args\":[{\"visible\":[true,true,false,true]}],\"label\":\"Show names\",\"method\":\"update\"}],\"pad\":{\"r\":10,\"t\":10},\"showactive\":true,\"x\":-0.25,\"xanchor\":\"left\",\"y\":1.03,\"yanchor\":\"top\"}],\"showlegend\":false},                        {\"responsive\": true}                    ).then(function(){\n",
       "                            \n",
       "var gd = document.getElementById('601cff68-d647-4ebd-91b4-ac6fa77d169f');\n",
       "var x = new MutationObserver(function (mutations, observer) {{\n",
       "        var display = window.getComputedStyle(gd).display;\n",
       "        if (!display || display === 'none') {{\n",
       "            console.log([gd, 'removed!']);\n",
       "            Plotly.purge(gd);\n",
       "            observer.disconnect();\n",
       "        }}\n",
       "}});\n",
       "\n",
       "// Listen for the removal of the full notebook cells\n",
       "var notebookContainer = gd.closest('#notebook-container');\n",
       "if (notebookContainer) {{\n",
       "    x.observe(notebookContainer, {childList: true});\n",
       "}}\n",
       "\n",
       "// Listen for the clearing of the current output cell\n",
       "var outputEl = gd.closest('.output');\n",
       "if (outputEl) {{\n",
       "    x.observe(outputEl, {childList: true});\n",
       "}}\n",
       "\n",
       "                        })                };                });            </script>        </div>"
      ]
     },
     "metadata": {},
     "output_type": "display_data"
    },
    {
     "name": "stdout",
     "output_type": "stream",
     "text": [
      "Eliminated features: ['39', '145', '1', '59', '167', '169', '66', '140', '141', '63', '38', '114', '146', '213', '53', '247', '97', '233', '127', '240', '58', '71', '105', '143', '136', '40', '187', '60', '150', '230', '51', '3', '112', '166', '25', '64', '228', '61', '246', '160', '236', '68', '248', '113', '115', '210', '5', '241', '10', '77', '50', '234', '111', '135', '245', '52', '138', '164', '191', '2', '171', '226', '250', '18', '47', '49', '148', '109', '165', '190', '116', '208', '238', '55', '124', '189', '130', '0', '107', '36', '102', '82', '147', '137', '129', '20', '108', '151', '239', '4', '243', '142', '211', '229', '128', '37', '8', '156', '117', '181', '163', '237', '93', '222', '73', '185', '209', '103', '172', '14', '106', '242', '182', '231', '42', '161', '70', '9', '62', '92', '54', '48', '11', '76', '125', '194', '43', '27', '131', '34', '192', '44', '19', '159', '244', '174', '249', '200', '126', '170', '188', '162', '101', '21', '168', '144', '22', '184', '28', '183', '227', '13', '223', '100', '251', '158', '7', '110', '69', '41', '149', '118', '65', '56', '176', '104', '235', '232', '123', '91', '119', '201', '31', '217', '90', '57', '96', '80', '252', '29', '173', '215', '94', '45', '206', '207', '46', '89', '134', '74', '224', '205', '12', '87', '72', '79', '67', '98', '84', '225', '157', '186', '121', '133', '120', '204', '122', '155', '6', '99', '195', '198', '83', '212', '152', '30', '26', '153', '78', '180', '86', '221', '16', '132', '214', '177', '88', '178', '154', '216', '196', '179', '32', '175', '220', '17', '33', '15', '23', '24', 'dayweek', '95', '218', '202', '35', '197', '199', '219', '193']\n"
     ]
    }
   ],
   "source": [
    "test_pool = Pool(X_test, y_test, cat_features=None) # cat_cols, None if vas_id - ordinal\n",
    "\n",
    "def select_features(algorithm: EFeaturesSelectionAlgorithm, steps: int = 1):\n",
    "    print('Algorithm:', algorithm)\n",
    "    model = CatBoostClassifier(eval_metric='TotalF1:average=Macro', \n",
    "                               **total_params)\n",
    "    summary = model.select_features(\n",
    "                                    train_pool,\n",
    "                                    eval_set=test_pool,\n",
    "                                    features_for_select=list(range(X_train.shape[1])),\n",
    "                                    num_features_to_select=5,\n",
    "                                    steps=steps,\n",
    "                                    algorithm=algorithm,\n",
    "                                    shap_calc_type=EShapCalcType.Exact,\n",
    "                                    train_final_model=True,\n",
    "                                    logging_level='Silent',\n",
    "                                    plot=True\n",
    "    )\n",
    "    print('Eliminated features:', summary['eliminated_features_names'])\n",
    "    return summary\n",
    "\n",
    "feature_set = select_features(algorithm=EFeaturesSelectionAlgorithm.RecursiveByShapValues, steps=30)\n",
    "del test_pool"
   ]
  },
  {
   "cell_type": "code",
   "execution_count": 339,
   "id": "345199d2",
   "metadata": {},
   "outputs": [],
   "source": [
    "losses = feature_set['loss_graph'].get('loss_values')\n",
    "names = feature_set['eliminated_features_names']\n",
    "\n",
    "eliminated_features = [names[i] for i in range(len(names) - 1) if losses[i+1] - losses[i] < 0]"
   ]
  },
  {
   "cell_type": "code",
   "execution_count": 304,
   "id": "07198146",
   "metadata": {},
   "outputs": [
    {
     "name": "stdout",
     "output_type": "stream",
     "text": [
      "39, 145, 1, 59, 167, 169, 66, 140, 141, 63, 38, 114, 146, 213, 53, 247, 97, 233, 127, 240, 58, 71, 105, 143, 136, 40, 187, 60, 150, 230, 51, 3, 112, 166, 25, 64, 228, 61, 246, 160, 236, 68, 248, 113, 115, 210, 5, 241, 10, 77, 50, 234, 111, 135, 245, 52, 138, 164, 191, 2, 171, 226, 250, 18, 47, 49, 148, 109, 165, 190, 116, 208, 238, 55, 124, 189, 130, 0, 107, 36, 102, 82, 147, 11, 76, 125, 194, 43, 27, 131, 34, 192, 44, 19, 159, 244, 174, 249, 200, 126, 170, 188, 162, 101, 21, 168, 144, 22, 184, 28, 183, 227, 13, 223, 100, 251, 158, 7, 110, 69, 41, 149, 118, 65, 56, 176, 104, 235, 232, 123, 91, 119, 201, 31, 217, 90, 57, 96, 80, 252, 29, 173, 215, 94, 45, 206, 72, 79, 67, 98, 84, 225, 157, 186, 121, 133, 120, 204, 122, 155, 6, 99, 195, 198, 83, 78, 180, 86, 221, 16, 132, 214, 177, 88, 178, 154, 216, 175, 220, 23, 24, 95, 218, 35, 197\n",
      "\n",
      "Number of eliminated features: 185/254\n"
     ]
    }
   ],
   "source": [
    "print(*eliminated_features, sep=', ')\n",
    "print(f'\\nNumber of eliminated features: {len(eliminated_features)}/{X_train.shape[1]}')"
   ]
  },
  {
   "cell_type": "markdown",
   "id": "eaecaabf",
   "metadata": {},
   "source": [
    "**Use features, selected by CatShap-values**"
   ]
  },
  {
   "cell_type": "code",
   "execution_count": 306,
   "id": "c65d8243",
   "metadata": {},
   "outputs": [],
   "source": [
    "cat_cols_ = [col for col in cat_cols if col not in eliminated_features]\n",
    "train_pool_ = Pool(X_train.drop(eliminated_features, axis=1), y_train, cat_features=None) # cat_cols, None if vas_id - ordinal\n",
    "X_test_ = X_test.drop(eliminated_features, axis=1)"
   ]
  },
  {
   "cell_type": "code",
   "execution_count": 307,
   "id": "7b7574b8",
   "metadata": {},
   "outputs": [
    {
     "name": "stdout",
     "output_type": "stream",
     "text": [
      "Train\n",
      "               precision    recall  f1-score   support\n",
      "\n",
      "         0.0     0.9810    0.9231    0.9512    617174\n",
      "         1.0     0.4388    0.7711    0.5593     48149\n",
      "\n",
      "    accuracy                         0.9121    665323\n",
      "   macro avg     0.7099    0.8471    0.7552    665323\n",
      "weighted avg     0.9418    0.9121    0.9228    665323\n",
      "\n",
      "Test\n",
      "               precision    recall  f1-score   support\n",
      "\n",
      "         0.0     0.9812    0.9232    0.9513    154293\n",
      "         1.0     0.4399    0.7733    0.5608     12037\n",
      "\n",
      "    accuracy                         0.9123    166330\n",
      "   macro avg     0.7105    0.8482    0.7560    166330\n",
      "weighted avg     0.9420    0.9123    0.9230    166330\n",
      "\n",
      "Best thres: 0.562386481759898, f1-score: 0.5680, fmacro: 0.7623\n"
     ]
    }
   ],
   "source": [
    "# features, dropped by shap-values\n",
    "cat_ = CatBoostClassifier(**total_params).fit(train_pool_)\n",
    "\n",
    "test_probs_ = catboost.CatBoost.predict(cat_, X_test_, prediction_type='Probability')[:, 1]\n",
    "train_preds_ = catboost.CatBoost.predict(cat_, train_pool_, prediction_type='Class')\n",
    "test_preds_ = catboost.CatBoost.predict(cat_, X_test_, prediction_type='Class')\n",
    "\n",
    "report(y_train, train_preds_, y_test, test_preds_)\n",
    "\n",
    "thres, fscore, fmacro = get_best_threshold(y_test, test_probs_)\n",
    "print(f'Best thres: {thres}, f1-score: {fscore:.4f}, fmacro: {fmacro:.4f}')"
   ]
  },
  {
   "cell_type": "code",
   "execution_count": 308,
   "id": "536ba9b9",
   "metadata": {},
   "outputs": [],
   "source": [
    "cat_.save_model('cat_reduced')"
   ]
  },
  {
   "cell_type": "code",
   "execution_count": 318,
   "id": "5c9aac24",
   "metadata": {},
   "outputs": [
    {
     "name": "stdout",
     "output_type": "stream",
     "text": [
      "AUC_ROC = 0.933\n"
     ]
    },
    {
     "data": {
      "image/png": "[encoded data removed]",
      "text/plain": [
       "<Figure size 504x504 with 1 Axes>"
      ]
     },
     "metadata": {},
     "output_type": "display_data"
    }
   ],
   "source": [
    "fpr, tpr, roc_thresholds = roc_curve(y_test, test_probs_)\n",
    "precision, recall, pr_thresholds = precision_recall_curve(y_test, test_probs_)\n",
    "\n",
    "plt.figure(figsize=(7, 7))\n",
    "plot_roc_curve(fpr, tpr, \"Reduced by shap-values\", color='r')\n",
    "print(\"AUC_ROC = %.3f\" % auc(fpr, tpr))"
   ]
  },
  {
   "cell_type": "code",
   "execution_count": 319,
   "id": "6a27dfe1",
   "metadata": {},
   "outputs": [
    {
     "name": "stdout",
     "output_type": "stream",
     "text": [
      "AUC_PR = 0.569\n"
     ]
    },
    {
     "data": {
      "image/png": "[encoded data removed]",
      "text/plain": [
       "<Figure size 504x504 with 1 Axes>"
      ]
     },
     "metadata": {},
     "output_type": "display_data"
    }
   ],
   "source": [
    "plt.figure(figsize=(7, 7))\n",
    "    \n",
    "plot_precision_recall_curve(recall, precision, \"Reduced by shap-values\", color='r')\n",
    "print(\"AUC_PR = %.3f\" % auc(recall, precision))"
   ]
  },
  {
   "cell_type": "markdown",
   "id": "0911ee56",
   "metadata": {},
   "source": [
    "**Use features, selected by LogisticRegression with L1 penalty**"
   ]
  },
  {
   "cell_type": "code",
   "execution_count": 175,
   "id": "c176221c",
   "metadata": {},
   "outputs": [],
   "source": [
    "from sklearn.preprocessing import MinMaxScaler, PowerTransformer\n",
    "from sklearn.linear_model import LogisticRegression\n",
    "from sklearn.feature_selection import SelectFromModel\n",
    "\n",
    "numerical = X_train.columns[2:-4].tolist()\n",
    "other = [col for col in X_train.columns if col not in numerical]\n",
    "\n",
    "estimator = make_pipeline(ColumnSelector(numerical),\n",
    "                          MinMaxScaler(),\n",
    "                          # PowerTransformer(method='yeo-johnson', standardize=False),\n",
    "                          LogisticRegression(penalty='l1', solver='saga', C=0.01, \n",
    "                                             class_weight='balanced', random_state=42, n_jobs=-1)).fit(X_train, y_train)"
   ]
  },
  {
   "cell_type": "code",
   "execution_count": 358,
   "id": "4a166df6",
   "metadata": {},
   "outputs": [],
   "source": [
    "union = make_union(make_pipeline(ColumnSelector(numerical),\n",
    "                                 SelectFromModel(estimator=estimator[-1], prefit=True, threshold=1e-5)),\n",
    "                   ColumnSelector(other), n_jobs=-1)\n",
    "\n",
    "X_train_ = union.transform(X_train)\n",
    "X_test_ = union.transform(X_test)"
   ]
  },
  {
   "cell_type": "code",
   "execution_count": 359,
   "id": "73f88a1c",
   "metadata": {},
   "outputs": [],
   "source": [
    "X_train_ = X_train_.astype(np.float32)\n",
    "X_test_ = X_test_.astype(np.float32)"
   ]
  },
  {
   "cell_type": "code",
   "execution_count": 178,
   "id": "96a2c514",
   "metadata": {},
   "outputs": [
    {
     "name": "stdout",
     "output_type": "stream",
     "text": [
      "Train\n",
      "               precision    recall  f1-score   support\n",
      "\n",
      "         0.0     0.9811    0.9231    0.9512    617174\n",
      "         1.0     0.4393    0.7719    0.5599     48149\n",
      "\n",
      "    accuracy                         0.9122    665323\n",
      "   macro avg     0.7102    0.8475    0.7556    665323\n",
      "weighted avg     0.9419    0.9122    0.9229    665323\n",
      "\n",
      "Test\n",
      "               precision    recall  f1-score   support\n",
      "\n",
      "         0.0     0.9811    0.9232    0.9513    154293\n",
      "         1.0     0.4398    0.7724    0.5605     12037\n",
      "\n",
      "    accuracy                         0.9123    166330\n",
      "   macro avg     0.7105    0.8478    0.7559    166330\n",
      "weighted avg     0.9420    0.9123    0.9230    166330\n",
      "\n",
      "Best thres: 0.5754577266802828, f1-score: 0.5683, fmacro: 0.7630\n"
     ]
    }
   ],
   "source": [
    "# features, dropped by SelectFromModel\n",
    "cat__ = CatBoostClassifier(**total_params).fit(X_train_, y_train)\n",
    "\n",
    "test_probs__ = catboost.CatBoost.predict(cat__, X_test_, prediction_type='Probability')[:, 1]\n",
    "train_preds__ = catboost.CatBoost.predict(cat__, X_train_, prediction_type='Class')\n",
    "test_preds__ = catboost.CatBoost.predict(cat__, X_test_, prediction_type='Class')\n",
    "\n",
    "report(y_train, train_preds__, y_test, test_preds__)\n",
    "\n",
    "thres, fscore, fmacro = get_best_threshold(y_test, test_probs__)\n",
    "print(f'Best thres: {thres}, f1-score: {fscore:.4f}, fmacro: {fmacro:.4f}')"
   ]
  },
  {
   "cell_type": "code",
   "execution_count": 380,
   "id": "95206f64",
   "metadata": {},
   "outputs": [
    {
     "data": {
      "text/plain": [
       "(array(['0', '1', '2', '3', '4', '5', '6', '7', '8', '9', '10', '11', '12',\n",
       "        '13', '14', '15', '16', '17', '18', '19', '20', '21', '22', '23',\n",
       "        '24', '25', '27', '28', '29', '30', '31', '32', '33', '34', '35',\n",
       "        '36', '37', '38', '39', '40', '41', '42', '43', '44', '45', '46',\n",
       "        '47', '48', '49', '50', '51', '52', '53', '54', '55', '56', '57',\n",
       "        '58', '62', '63', '64', '65', '66', '67', '68', '69', '70', '71',\n",
       "        '72', '73', '74', '76', '77', '78', '79', '80', '82', '83', '84',\n",
       "        '86', '87', '88', '89', '90', '91', '92', '93', '94', '95', '96',\n",
       "        '97', '98', '99', '100', '101', '102', '103', '104', '105', '106',\n",
       "        '107', '108', '109', '110', '111', '112', '113', '116', '117',\n",
       "        '118', '119', '120', '121', '122', '123', '124', '125', '127',\n",
       "        '129', '130', '133', '134', '135', '136', '137', '138', '140',\n",
       "        '141', '142', '143', '144', '146', '147', '149', '150', '151',\n",
       "        '152', '153', '154', '155', '156', '157', '158', '161', '162',\n",
       "        '163', '164', '165', '166', '167', '168', '169', '170', '171',\n",
       "        '172', '173', '174', '175', '176', '177', '178', '179', '180',\n",
       "        '181', '182', '183', '184', '185', '186', '187', '188', '189',\n",
       "        '190', '191', '197', '199', '200', '201', '202', '206', '207',\n",
       "        '208', '209', '210', '211', '212', '213', '214', '215', '216',\n",
       "        '217', '218', '219', '220', '221', '222', '223', '226', '227',\n",
       "        '228', '229', '230', '231', '232', '233', '234', '235', '236',\n",
       "        '237', '238', '239', '240', '241', '242', '243', '244', '245',\n",
       "        '246', '247', '248', '249', '250', '251', '252'], dtype='<U3'),\n",
       " ['vas_id', 'buy_time', 'day', 'week', 'month', 'dayweek'])"
      ]
     },
     "execution_count": 380,
     "metadata": {},
     "output_type": "execute_result"
    }
   ],
   "source": [
    "eliminated_features = np.array(numerical)[estimator[-1].coef_[0] == 0].tolist()\n",
    "np.array(numerical)[estimator[-1].coef_[0] == 0], other"
   ]
  },
  {
   "cell_type": "code",
   "execution_count": 345,
   "id": "ec4f917e",
   "metadata": {},
   "outputs": [],
   "source": [
    "cat__.save_model('cat_logreg')"
   ]
  },
  {
   "cell_type": "code",
   "execution_count": 337,
   "id": "1efe6ee0",
   "metadata": {},
   "outputs": [
    {
     "name": "stdout",
     "output_type": "stream",
     "text": [
      "AUC_ROC = 0.933\n"
     ]
    },
    {
     "data": {
      "image/png": "[encoded data removed]",
      "text/plain": [
       "<Figure size 504x504 with 1 Axes>"
      ]
     },
     "metadata": {},
     "output_type": "display_data"
    }
   ],
   "source": [
    "fpr, tpr, roc_thresholds = roc_curve(y_test, test_probs__)\n",
    "precision, recall, pr_thresholds = precision_recall_curve(y_test, test_probs__)\n",
    "\n",
    "plt.figure(figsize=(7, 7))\n",
    "plot_roc_curve(fpr, tpr, \"Reduced by shap-values\", color='r')\n",
    "print(\"AUC_ROC = %.3f\" % auc(fpr, tpr))"
   ]
  },
  {
   "cell_type": "code",
   "execution_count": 338,
   "id": "24845f23",
   "metadata": {},
   "outputs": [
    {
     "name": "stdout",
     "output_type": "stream",
     "text": [
      "AUC_PR = 0.568\n"
     ]
    },
    {
     "data": {
      "image/png": "[encoded data removed]",
      "text/plain": [
       "<Figure size 504x504 with 1 Axes>"
      ]
     },
     "metadata": {},
     "output_type": "display_data"
    }
   ],
   "source": [
    "plt.figure(figsize=(7, 7))\n",
    "    \n",
    "plot_precision_recall_curve(recall, precision, \"Reduced by shap-values\", color='r')\n",
    "print(\"AUC_PR = %.3f\" % auc(recall, precision))"
   ]
  },
  {
   "cell_type": "markdown",
   "id": "5d1e86c2",
   "metadata": {},
   "source": [
    "**Statistical features**"
   ]
  },
  {
   "cell_type": "code",
   "execution_count": 366,
   "id": "c3a7eba6",
   "metadata": {},
   "outputs": [],
   "source": [
    "X_ = np.concatenate([X_train_, X_test_], axis=0)\n",
    "y_ = np.concatenate([y_train, y_test], axis=0)\n",
    "\n",
    "X_ = pd.DataFrame(data=X_, columns=[f'feat_{i+1}' for i in range(X_.shape[1])])"
   ]
  },
  {
   "cell_type": "code",
   "execution_count": 367,
   "id": "836b5ac5",
   "metadata": {},
   "outputs": [
    {
     "data": {
      "application/vnd.jupyter.widget-view+json": {
       "model_id": "59277da2fe164f118cac09d2e7a83ed2",
       "version_major": 2,
       "version_minor": 0
      },
      "text/plain": [
       "  0%|          | 0/30 [00:00<?, ?it/s]"
      ]
     },
     "metadata": {},
     "output_type": "display_data"
    }
   ],
   "source": [
    "X_ = get_count(X_, X_.columns.tolist())"
   ]
  },
  {
   "cell_type": "code",
   "execution_count": 370,
   "id": "cebba86b",
   "metadata": {},
   "outputs": [],
   "source": [
    "X_train_add, X_test_add, y_train_add, y_test_add = train_test_split(X_, y_, shuffle=True, test_size=166330, stratify=y_, \n",
    "                                                                    random_state=42)\n",
    "train_pool_add = Pool(X_train_add, y_train_add)"
   ]
  },
  {
   "cell_type": "code",
   "execution_count": 371,
   "id": "2718a616",
   "metadata": {},
   "outputs": [
    {
     "name": "stdout",
     "output_type": "stream",
     "text": [
      "Train\n",
      "               precision    recall  f1-score   support\n",
      "\n",
      "         0.0     0.9813    0.9239    0.9517    617174\n",
      "         1.0     0.4426    0.7744    0.5632     48149\n",
      "\n",
      "    accuracy                         0.9131    665323\n",
      "   macro avg     0.7119    0.8492    0.7575    665323\n",
      "weighted avg     0.9423    0.9131    0.9236    665323\n",
      "\n",
      "Test\n",
      "               precision    recall  f1-score   support\n",
      "\n",
      "         0.0     0.9810    0.9242    0.9517    154293\n",
      "         1.0     0.4420    0.7700    0.5616     12037\n",
      "\n",
      "    accuracy                         0.9130    166330\n",
      "   macro avg     0.7115    0.8471    0.7567    166330\n",
      "weighted avg     0.9420    0.9130    0.9235    166330\n",
      "\n",
      "Best thres: 0.5634508147171587, f1-score: 0.5678, fmacro: 0.7623\n"
     ]
    }
   ],
   "source": [
    "cat_add = CatBoostClassifier(**total_params).fit(train_pool_add)\n",
    "\n",
    "test_probs_add = catboost.CatBoost.predict(cat_add, X_test_add, prediction_type='Probability')[:, 1]\n",
    "train_preds_add = catboost.CatBoost.predict(cat_add, train_pool_add, prediction_type='Class')\n",
    "test_preds_add = catboost.CatBoost.predict(cat_add, X_test_add, prediction_type='Class')\n",
    "\n",
    "report(y_train_add, train_preds_add, y_test_add, test_preds_add)\n",
    "\n",
    "thres, fscore, fmacro = get_best_threshold(y_test_add, test_probs_add)\n",
    "print(f'Best thres: {thres}, f1-score: {fscore:.4f}, fmacro: {fmacro:.4f}')"
   ]
  },
  {
   "cell_type": "code",
   "execution_count": 372,
   "id": "987b6e82",
   "metadata": {},
   "outputs": [
    {
     "data": {
      "text/plain": [
       "7876"
      ]
     },
     "execution_count": 372,
     "metadata": {},
     "output_type": "execute_result"
    }
   ],
   "source": [
    "# no improvement\n",
    "del cat_add, X_train_add, X_test_add, train_pool_add, test_probs_add, train_preds_add, test_preds_add, X_, y_\n",
    "gc.collect()"
   ]
  },
  {
   "cell_type": "markdown",
   "id": "e711e619",
   "metadata": {},
   "source": [
    "**Use full noisy dataset**"
   ]
  },
  {
   "cell_type": "code",
   "execution_count": 68,
   "id": "baed0e16",
   "metadata": {},
   "outputs": [
    {
     "name": "stdout",
     "output_type": "stream",
     "text": [
      "Train\n",
      "               precision    recall  f1-score   support\n",
      "\n",
      "         0.0     0.9813    0.9222    0.9508    617174\n",
      "         1.0     0.4372    0.7743    0.5589     48149\n",
      "\n",
      "    accuracy                         0.9115    665323\n",
      "   macro avg     0.7092    0.8483    0.7548    665323\n",
      "weighted avg     0.9419    0.9115    0.9225    665323\n",
      "\n",
      "Test\n",
      "               precision    recall  f1-score   support\n",
      "\n",
      "         0.0     0.9813    0.9226    0.9510    154293\n",
      "         1.0     0.4384    0.7749    0.5600     12037\n",
      "\n",
      "    accuracy                         0.9119    166330\n",
      "   macro avg     0.7099    0.8488    0.7555    166330\n",
      "weighted avg     0.9420    0.9119    0.9227    166330\n",
      "\n",
      "Best thres: 0.576908581841152, f1-score: 0.5669, fmacro: 0.7623\n"
     ]
    }
   ],
   "source": [
    "# Full dataset\n",
    "cat = CatBoostClassifier(**total_params).fit(train_pool)\n",
    "\n",
    "test_probs = catboost.CatBoost.predict(cat, X_test, prediction_type='Probability')[:, 1]\n",
    "train_preds = catboost.CatBoost.predict(cat, train_pool, prediction_type='Class')\n",
    "test_preds = catboost.CatBoost.predict(cat, X_test, prediction_type='Class')\n",
    "\n",
    "report(y_train, train_preds, y_test, test_preds)\n",
    "\n",
    "thres, fscore, fmacro = get_best_threshold(y_test, test_probs)\n",
    "print(f'Best thres: {thres}, f1-score: {fscore:.4f}, fmacro: {fmacro:.4f}')"
   ]
  },
  {
   "cell_type": "code",
   "execution_count": 69,
   "id": "5df34dda",
   "metadata": {},
   "outputs": [],
   "source": [
    "cat.save_model('cat')"
   ]
  },
  {
   "cell_type": "code",
   "execution_count": 70,
   "id": "a465ae29",
   "metadata": {},
   "outputs": [
    {
     "data": {
      "text/plain": [
       "<catboost.core.CatBoostClassifier at 0x21480841b80>"
      ]
     },
     "execution_count": 70,
     "metadata": {},
     "output_type": "execute_result"
    }
   ],
   "source": [
    "cat = CatBoostClassifier()\n",
    "cat.load_model('cat')"
   ]
  },
  {
   "cell_type": "markdown",
   "id": "03194c5f",
   "metadata": {},
   "source": [
    "**Data Transformations**"
   ]
  },
  {
   "cell_type": "code",
   "execution_count": 90,
   "id": "d5c938ec",
   "metadata": {},
   "outputs": [
    {
     "name": "stdout",
     "output_type": "stream",
     "text": [
      "Train\n",
      "               precision    recall  f1-score   support\n",
      "\n",
      "         0.0     0.9813    0.9220    0.9508    617174\n",
      "         1.0     0.4368    0.7749    0.5586     48149\n",
      "\n",
      "    accuracy                         0.9114    665323\n",
      "   macro avg     0.7090    0.8485    0.7547    665323\n",
      "weighted avg     0.9419    0.9114    0.9224    665323\n",
      "\n",
      "Test\n",
      "               precision    recall  f1-score   support\n",
      "\n",
      "         0.0     0.9813    0.9223    0.9509    154293\n",
      "         1.0     0.4377    0.7752    0.5595     12037\n",
      "\n",
      "    accuracy                         0.9117    166330\n",
      "   macro avg     0.7095    0.8488    0.7552    166330\n",
      "weighted avg     0.9420    0.9117    0.9226    166330\n",
      "\n",
      "Best thres: 0.5804547874021947, f1-score: 0.5662, fmacro: 0.7620\n"
     ]
    }
   ],
   "source": [
    "# try data transformations: exp and log lead to occur nans (log(neg. num))\n",
    "num_cols = X_train.columns[2:-4]\n",
    "other = [col for col in X_train.columns if col not in num_cols]\n",
    "\n",
    "X_train_ = pd.concat([X_train, X_train[num_cols].std(axis=1).rename('std'), \n",
    "                      X_train[num_cols].mean(axis=1).rename('mean'),\n",
    "                      X_train[num_cols].sum(axis=1).rename('sum'),\n",
    "                      X_train[num_cols].max(axis=1).rename('max'),\n",
    "                      X_train[num_cols].min(axis=1).rename('min')], axis=1)\n",
    "train_pool_ = Pool(X_train_, y_train, cat_features=cat_cols)\n",
    "X_test_ = pd.concat([X_test, X_test[num_cols].std(axis=1).rename('std'), \n",
    "                     X_test[num_cols].mean(axis=1).rename('mean'),\n",
    "                     X_test[num_cols].sum(axis=1).rename('sum'),\n",
    "                     X_test[num_cols].max(axis=1).rename('max'),\n",
    "                     X_test[num_cols].min(axis=1).rename('min'),\n",
    "                     ], axis=1)\n",
    "\n",
    "cat_ = CatBoostClassifier(**total_params).fit(train_pool_)\n",
    "\n",
    "test_probs_ = catboost.CatBoost.predict(cat_, X_test_, prediction_type='Probability')[:, 1]\n",
    "train_preds_ = catboost.CatBoost.predict(cat_, train_pool_, prediction_type='Class')\n",
    "test_preds_ = catboost.CatBoost.predict(cat_, X_test_, prediction_type='Class')\n",
    "\n",
    "report(y_train, train_preds_, y_test, test_preds_)\n",
    "\n",
    "thres, fscore, fmacro = get_best_threshold(y_test, test_probs_)\n",
    "print(f'Best thres: {thres}, f1-score: {fscore:.4f}, fmacro: {fmacro:.4f}')"
   ]
  },
  {
   "cell_type": "code",
   "execution_count": 91,
   "id": "83221b37",
   "metadata": {},
   "outputs": [
    {
     "data": {
      "text/plain": [
       "0"
      ]
     },
     "execution_count": 91,
     "metadata": {},
     "output_type": "execute_result"
    }
   ],
   "source": [
    "# no improvement\n",
    "del train_pool_, X_train_, X_test_, cat_, test_probs_, train_preds_, test_preds_\n",
    "gc.collect()"
   ]
  },
  {
   "cell_type": "markdown",
   "id": "0dbcf3d7",
   "metadata": {},
   "source": [
    "**Full sklearn pipeline: from raw test data to final submission**\n",
    "\n",
    "Quite redundant due to possibilty of predictions by 3 models (trained: full dataset, selected by Shap-values, selected by L1-penalty)"
   ]
  },
  {
   "cell_type": "code",
   "execution_count": 381,
   "id": "2feec2e6",
   "metadata": {},
   "outputs": [],
   "source": [
    "path='data_test.csv'\n",
    "\n",
    "data = pd.read_csv(path).drop('Unnamed: 0', axis=1)\n",
    "\n",
    "class Preprocessor(BaseEstimator, TransformerMixin):\n",
    "    \"\"\" \n",
    "    takes raw pandas dataframe, containing id, vas_id, buy_time as input\n",
    "    raw dataframe get merged with features[dataframe.id]\n",
    "    additional features created\n",
    "    output - full dataset, ready for train / prediction\n",
    "    \"\"\"\n",
    "    def __init__(self, path='data_test.csv', \n",
    "                 features_path='features.pkl', \n",
    "                 to_drop=['75', '81', '85', '139', '203'],\n",
    "                 eliminate_features=None,\n",
    "                 logreg=True,\n",
    "                 has_cat=False):  # set to False if model trained with vas_id as float\n",
    "        self.data = None\n",
    "        self.path = path\n",
    "        self.features = pd.read_pickle(features_path).reset_index().drop(to_drop, axis=1)\n",
    "        self.eliminate_features = eliminate_features\n",
    "        self.has_cat = has_cat\n",
    "        self.logreg = logreg\n",
    "        \n",
    "    def fit(self, X, y=None):\n",
    "        return self\n",
    "    \n",
    "    def transform(self, X):\n",
    "        self.data = X.copy()\n",
    "        self.data['buy_time'] = self.data['buy_time'].astype(np.uint32)\n",
    "        self.data['id'] = self.data['id'].astype(np.uint64)\n",
    "        self.features = self.features[self.features['id'].isin(self.data['id'].unique())]\n",
    "\n",
    "        self.data = self.data.sort_index()\n",
    "        self.data = self.data.sort_values(by='buy_time')\n",
    "        self.features = self.features.sort_values(by='buy_time')\n",
    "        \n",
    "        data_test = pd.merge_asof(self.data, self.features, on='buy_time', by='id', direction='nearest')\n",
    "        \n",
    "        map_dict = {float(i): f'{i}' for i in range(100)}\n",
    "        \n",
    "        data_test['date'] = pd.to_datetime(data_test['buy_time'], unit='s')\n",
    "\n",
    "        data_test['day'] = data_test['date'].dt.day\n",
    "        data_test['week'] = data_test['date'].dt.week\n",
    "        data_test['month'] = data_test['date'].dt.month\n",
    "        data_test['dayweek'] = data_test['date'].dt.weekday\n",
    "        if self.has_cat:\n",
    "            data_test['vas_id'] = data_test['vas_id'].map(map_dict).astype('category')\n",
    "        data_test.set_index('id', inplace=True)\n",
    "\n",
    "        data_test.drop('date', axis=1, inplace=True)\n",
    "        data_test.fillna(data_test.median(), inplace=True)  # define filling strategy\n",
    "        if self.eliminate_features is not None:\n",
    "            if self.logreg:\n",
    "                data_test = pd.concat([data_test[data_test.columns[2:-4].tolist()].drop(self.eliminate_features, axis=1), \n",
    "                                       data_test[other]], axis=1)\n",
    "            else:\n",
    "                data_test.drop(self.eliminate_features, axis=1, inplace=True)\n",
    "        return data_test\n",
    "    \n",
    "    def clear_ram(self):\n",
    "        del self.features, self.data\n",
    "        gc.collect()\n",
    "\n",
    "# SimpleImputer strategy = median, most_frequent\n",
    "\n",
    "class Predictor(BaseEstimator, ClassifierMixin):\n",
    "    \"\"\"\n",
    "    takes pretrained catboost model and pandas dataframe to predict on\n",
    "    output: pd.DataFrame with id, vas_id, buy_time, predicted target (calculated with threshold), saved to the same dir as input\n",
    "    if path to the model is None than the pipiline will fit on loaded dataframe\n",
    "    threshold cat reduced: 0.562386481759898, full: 0.576908581841152, logreg: 0.5754577266802828\n",
    "    \"\"\"\n",
    "    def __init__(self, threshold=0.562386481759898, model_name='cat_reduced', \n",
    "                 has_cat=False, raw=False, save=True, **model_params):\n",
    "        if model_name is None:\n",
    "            self.is_fitted = False\n",
    "        else:\n",
    "            try:\n",
    "                self.model = CatBoostClassifier()\n",
    "                self.model.load_model(model_name)\n",
    "                self.is_fitted = True\n",
    "            except:\n",
    "                self.is_fitted = False\n",
    "        self.threshold = threshold\n",
    "        self.raw = raw\n",
    "        self.save = save\n",
    "        self.has_cat = has_cat\n",
    "        if model_params is None:\n",
    "            self.model_params = {\n",
    "                                 'iterations': 500,\n",
    "                                 'silent': True,\n",
    "                                 'one_hot_max_size': 2,\n",
    "                                 'allow_writing_files': False,\n",
    "                                 'random_seed': 42,\n",
    "                                 'auto_class_weights': 'SqrtBalanced',\n",
    "                                 'task_type': 'GPU',\n",
    "                                 }\n",
    "            \n",
    "    def fit(self, X, y=None):\n",
    "        assert 'target' in X.columns, f'There is no target variable in given dataset'\n",
    "        if self.has_cat:\n",
    "            cat_cols = X.select_dtypes('category').columns.tolist()\n",
    "        else:\n",
    "            cat_cols = None\n",
    "        X, y = X.drop('target', axis=1), X['target']\n",
    "        train_pool = Pool(X, y, cat_features=cat_cols)\n",
    "        del X, y\n",
    "        self.model = CatBoostClassifier(**self.model_params).fit(train_pool)\n",
    "        del train_pool\n",
    "        gc.collect()\n",
    "        self.is_fitted = True\n",
    "        return self\n",
    "            \n",
    "    def predict(self, X):\n",
    "        X = X.copy()\n",
    "        preds = self.predict_proba(X)\n",
    "        preds = (preds >= self.threshold).astype(int)\n",
    "        if self.raw:\n",
    "            return preds\n",
    "        else:\n",
    "            X.reset_index(inplace=True)\n",
    "            X['target'] = preds.astype(int)\n",
    "            if self.save:\n",
    "                X[['id', 'vas_id', 'buy_time', 'target']].to_csv('predictions.csv', index=False)\n",
    "            return X[['id', 'vas_id', 'buy_time', 'target']]\n",
    "    \n",
    "    def predict_proba(self, X):\n",
    "        if self.is_fitted:\n",
    "            return catboost.CatBoost.predict(self.model, X, prediction_type='Probability')[:, 1]\n",
    "        else:\n",
    "            raise TypeError(f'Model is not fitted')"
   ]
  },
  {
   "cell_type": "code",
   "execution_count": 382,
   "id": "6d895e73",
   "metadata": {},
   "outputs": [],
   "source": [
    "pipe = make_pipeline(Preprocessor(eliminate_features=eliminated_features), \n",
    "                     Predictor(model_name='cat_logreg'))"
   ]
  },
  {
   "cell_type": "code",
   "execution_count": 383,
   "id": "20d02624",
   "metadata": {},
   "outputs": [],
   "source": [
    "output = pipe.predict(data)"
   ]
  },
  {
   "cell_type": "code",
   "execution_count": 384,
   "id": "2177e206",
   "metadata": {},
   "outputs": [
    {
     "data": {
      "text/html": [
       "<div>\n",
       "<style scoped>\n",
       "    .dataframe tbody tr th:only-of-type {\n",
       "        vertical-align: middle;\n",
       "    }\n",
       "\n",
       "    .dataframe tbody tr th {\n",
       "        vertical-align: top;\n",
       "    }\n",
       "\n",
       "    .dataframe thead th {\n",
       "        text-align: right;\n",
       "    }\n",
       "</style>\n",
       "<table border=\"1\" class=\"dataframe\">\n",
       "  <thead>\n",
       "    <tr style=\"text-align: right;\">\n",
       "      <th></th>\n",
       "      <th>id</th>\n",
       "      <th>vas_id</th>\n",
       "      <th>buy_time</th>\n",
       "      <th>pred</th>\n",
       "    </tr>\n",
       "  </thead>\n",
       "  <tbody>\n",
       "    <tr>\n",
       "      <th>0</th>\n",
       "      <td>2905850</td>\n",
       "      <td>5.0</td>\n",
       "      <td>1546808400</td>\n",
       "      <td>0</td>\n",
       "    </tr>\n",
       "    <tr>\n",
       "      <th>1</th>\n",
       "      <td>31619</td>\n",
       "      <td>2.0</td>\n",
       "      <td>1546808400</td>\n",
       "      <td>0</td>\n",
       "    </tr>\n",
       "    <tr>\n",
       "      <th>2</th>\n",
       "      <td>1427271</td>\n",
       "      <td>6.0</td>\n",
       "      <td>1546808400</td>\n",
       "      <td>1</td>\n",
       "    </tr>\n",
       "    <tr>\n",
       "      <th>3</th>\n",
       "      <td>2162521</td>\n",
       "      <td>6.0</td>\n",
       "      <td>1546808400</td>\n",
       "      <td>1</td>\n",
       "    </tr>\n",
       "    <tr>\n",
       "      <th>4</th>\n",
       "      <td>1529304</td>\n",
       "      <td>6.0</td>\n",
       "      <td>1546808400</td>\n",
       "      <td>0</td>\n",
       "    </tr>\n",
       "    <tr>\n",
       "      <th>...</th>\n",
       "      <td>...</td>\n",
       "      <td>...</td>\n",
       "      <td>...</td>\n",
       "      <td>...</td>\n",
       "    </tr>\n",
       "    <tr>\n",
       "      <th>71226</th>\n",
       "      <td>3145392</td>\n",
       "      <td>6.0</td>\n",
       "      <td>1548018000</td>\n",
       "      <td>1</td>\n",
       "    </tr>\n",
       "    <tr>\n",
       "      <th>71227</th>\n",
       "      <td>2452188</td>\n",
       "      <td>2.0</td>\n",
       "      <td>1548018000</td>\n",
       "      <td>0</td>\n",
       "    </tr>\n",
       "    <tr>\n",
       "      <th>71228</th>\n",
       "      <td>3145390</td>\n",
       "      <td>2.0</td>\n",
       "      <td>1548018000</td>\n",
       "      <td>0</td>\n",
       "    </tr>\n",
       "    <tr>\n",
       "      <th>71229</th>\n",
       "      <td>1447357</td>\n",
       "      <td>6.0</td>\n",
       "      <td>1548018000</td>\n",
       "      <td>1</td>\n",
       "    </tr>\n",
       "    <tr>\n",
       "      <th>71230</th>\n",
       "      <td>988236</td>\n",
       "      <td>2.0</td>\n",
       "      <td>1548018000</td>\n",
       "      <td>0</td>\n",
       "    </tr>\n",
       "  </tbody>\n",
       "</table>\n",
       "<p>71231 rows × 4 columns</p>\n",
       "</div>"
      ],
      "text/plain": [
       "            id  vas_id    buy_time  pred\n",
       "0      2905850     5.0  1546808400     0\n",
       "1        31619     2.0  1546808400     0\n",
       "2      1427271     6.0  1546808400     1\n",
       "3      2162521     6.0  1546808400     1\n",
       "4      1529304     6.0  1546808400     0\n",
       "...        ...     ...         ...   ...\n",
       "71226  3145392     6.0  1548018000     1\n",
       "71227  2452188     2.0  1548018000     0\n",
       "71228  3145390     2.0  1548018000     0\n",
       "71229  1447357     6.0  1548018000     1\n",
       "71230   988236     2.0  1548018000     0\n",
       "\n",
       "[71231 rows x 4 columns]"
      ]
     },
     "execution_count": 384,
     "metadata": {},
     "output_type": "execute_result"
    }
   ],
   "source": [
    "output"
   ]
  },
  {
   "cell_type": "code",
   "execution_count": 385,
   "id": "68306eb1",
   "metadata": {},
   "outputs": [],
   "source": [
    "pipe[0].clear_ram()"
   ]
  },
  {
   "cell_type": "code",
   "execution_count": 386,
   "id": "a64fcdc5",
   "metadata": {},
   "outputs": [
    {
     "data": {
      "text/plain": [
       "0    59567\n",
       "1    11664\n",
       "Name: pred, dtype: int64"
      ]
     },
     "execution_count": 386,
     "metadata": {},
     "output_type": "execute_result"
    }
   ],
   "source": [
    "output.pred.value_counts()"
   ]
  },
  {
   "cell_type": "markdown",
   "id": "34f20bf0",
   "metadata": {},
   "source": [
    "## $Luigi$"
   ]
  },
  {
   "cell_type": "code",
   "execution_count": 348,
   "id": "ba196e09",
   "metadata": {},
   "outputs": [],
   "source": [
    "import luigi"
   ]
  },
  {
   "cell_type": "code",
   "execution_count": 456,
   "id": "aab66a9d",
   "metadata": {},
   "outputs": [],
   "source": [
    "class Transformer(luigi.Task):\n",
    "    path_data_train = luigi.Parameter()\n",
    "    path_features = luigi.Parameter()\n",
    "    to_drop = ['75', '81', '85', '139', '203',] \n",
    "    eliminate = ['0', '1', '2', '3', '4', '5', '6', '7', '8', '9', '10', '11', '12',\n",
    "                 '13', '14', '15', '16', '17', '18', '19', '20', '21', '22', '23', '24', '25', '27', '28', '29', '30', '31', \n",
    "                 '32', '33', '34', '35', '36', '37', '38', '39', '40', '41', '42', '43', '44', '45', '46',\n",
    "                 '47', '48', '49', '50', '51', '52', '53', '54', '55', '56', '57', '58', '62', '63', '64', '65', '66', '67', \n",
    "                 '68', '69', '70', '71',  '72', '73', '74', '76', '77', '78', '79', '80', '82', '83', '84',\n",
    "                 '86', '87', '88', '89', '90', '91', '92', '93', '94', '95', '96', '97', '98', '99', '100', '101', '102', \n",
    "                 '103', '104', '105', '106', '107', '108', '109', '110', '111', '112', '113', '116', '117',\n",
    "                 '118', '119', '120', '121', '122', '123', '124', '125', '127', '129', '130', '133', '134', '135', '136', \n",
    "                 '137', '138', '140', '141', '142', '143', '144', '146', '147', '149', '150', '151',\n",
    "                 '152', '153', '154', '155', '156', '157', '158', '161', '162', '163', '164', '165', '166', '167', '168', \n",
    "                 '169', '170', '171', '172', '173', '174', '175', '176', '177', '178', '179', '180',\n",
    "                 '181', '182', '183', '184', '185', '186', '187', '188', '189', '190', '191', '197', '199', '200', '201', \n",
    "                 '202', '206', '207', '208', '209', '210', '211', '212', '213', '214', '215', '216',\n",
    "                 '217', '218', '219', '220', '221', '222', '223', '226', '227', '228', '229', '230', '231', '232', '233', \n",
    "                 '234', '235', '236', '237', '238', '239', '240', '241', '242', '243', '244', '245',\n",
    "                 '246', '247', '248', '249', '250', '251', '252']\n",
    "    other = ['vas_id', 'buy_time', 'day', 'week', 'month', 'dayweek']\n",
    "    \n",
    "    def output(self):\n",
    "        return luigi.LocalTarget('prepared_data_test.csv')\n",
    "    \n",
    "    def _prepare(self, data, features):\n",
    "        data = data.copy()\n",
    "        data['buy_time'] = data['buy_time'].astype(np.uint32)\n",
    "        data['id'] = data['id'].astype(np.uint64)\n",
    "        features = features[features['id'].isin(data['id'].unique())]\n",
    "\n",
    "        data = data.sort_index()\n",
    "        data = data.sort_values(by='buy_time')\n",
    "        features = features.sort_values(by='buy_time')\n",
    "        \n",
    "        data_test = pd.merge_asof(data, features, on='buy_time', by='id', direction='nearest')\n",
    "                \n",
    "        data_test['date'] = pd.to_datetime(data_test['buy_time'], unit='s')\n",
    "\n",
    "        data_test['day'] = data_test['date'].dt.day\n",
    "        data_test['week'] = data_test['date'].dt.week\n",
    "        data_test['month'] = data_test['date'].dt.month\n",
    "        data_test['dayweek'] = data_test['date'].dt.weekday\n",
    "\n",
    "        data_test.set_index('id', inplace=True)\n",
    "\n",
    "        data_test.drop('date', axis=1, inplace=True)\n",
    "        data_test.fillna(data_test.median(), inplace=True)\n",
    "        \n",
    "        data_test = pd.concat([data_test[data_test.columns[2:-4].tolist()].drop(self.eliminate, axis=1), \n",
    "                               data_test[other]], axis=1)\n",
    "        \n",
    "        return data_test\n",
    "    \n",
    "    def run(self):\n",
    "        df = pd.read_csv(self.path_data_train).drop('Unnamed: 0', axis=1)\n",
    "        features = pd.read_pickle(self.path_features).reset_index().drop(self.to_drop, axis=1)\n",
    "        df = self._prepare(df, features)\n",
    "        del features\n",
    "\n",
    "        with self.output().open('w') as f:\n",
    "            f.write(df.to_csv(index=True, encoding='utf-8'))\n",
    "        gc.collect()\n",
    "\n",
    "class Forecater(luigi.Task):\n",
    "    path_data_train = luigi.Parameter()\n",
    "    path_features = luigi.Parameter()\n",
    "    \n",
    "    def output(self):\n",
    "        return luigi.LocalTarget('luigi_predictions.csv')\n",
    "    \n",
    "    def requires(self):\n",
    "        return Transformer(self.path_data_train, self.path_features)\n",
    "    \n",
    "    def run(self):\n",
    "        df = pd.read_csv(self.input().open('r'), index_col='id')\n",
    "        model = CatBoostClassifier().load_model('cat_logreg')\n",
    "        \n",
    "        probas = catboost.CatBoost.predict(model, df, prediction_type='Probability')[:, 1]\n",
    "        preds = (probas >= 0.5754577266802828).astype(int)\n",
    "        df['target'] = preds\n",
    "        df.reset_index(inplace=True)\n",
    "        \n",
    "        with self.output().open('w') as f:\n",
    "            f.write(df[['id', 'vas_id', 'buy_time', 'target']].to_csv(index=False, encoding='utf8'))"
   ]
  },
  {
   "cell_type": "code",
   "execution_count": 457,
   "id": "70d9b371",
   "metadata": {
    "scrolled": false
   },
   "outputs": [
    {
     "name": "stderr",
     "output_type": "stream",
     "text": [
      "DEBUG: Checking if Forecater(path_data_train=data_test.csv, path_features=features.pkl) is complete\n",
      "DEBUG: Checking if Transformer(path_data_train=data_test.csv, path_features=features.pkl) is complete\n",
      "INFO: Informed scheduler that task   Forecater_data_test_csv_features_pkl_8c6c32ee54   has status   PENDING\n",
      "INFO: Informed scheduler that task   Transformer_data_test_csv_features_pkl_8c6c32ee54   has status   PENDING\n",
      "INFO: Done scheduling tasks\n",
      "INFO: Running Worker with 1 processes\n",
      "DEBUG: Asking scheduler for work...\n",
      "DEBUG: Pending tasks: 2\n",
      "INFO: [pid 4152] Worker Worker(salt=837565969, workers=1, host=LAPTOP-0V1S84ED, username=Daria, pid=4152) running   Transformer(path_data_train=data_test.csv, path_features=features.pkl)\n",
      "INFO: [pid 4152] Worker Worker(salt=837565969, workers=1, host=LAPTOP-0V1S84ED, username=Daria, pid=4152) done      Transformer(path_data_train=data_test.csv, path_features=features.pkl)\n",
      "DEBUG: 1 running tasks, waiting for next task to finish\n",
      "INFO: Informed scheduler that task   Transformer_data_test_csv_features_pkl_8c6c32ee54   has status   DONE\n",
      "DEBUG: Asking scheduler for work...\n",
      "DEBUG: Pending tasks: 1\n",
      "INFO: [pid 4152] Worker Worker(salt=837565969, workers=1, host=LAPTOP-0V1S84ED, username=Daria, pid=4152) running   Forecater(path_data_train=data_test.csv, path_features=features.pkl)\n",
      "INFO: [pid 4152] Worker Worker(salt=837565969, workers=1, host=LAPTOP-0V1S84ED, username=Daria, pid=4152) done      Forecater(path_data_train=data_test.csv, path_features=features.pkl)\n",
      "DEBUG: 1 running tasks, waiting for next task to finish\n",
      "INFO: Informed scheduler that task   Forecater_data_test_csv_features_pkl_8c6c32ee54   has status   DONE\n",
      "DEBUG: Asking scheduler for work...\n",
      "DEBUG: Done\n",
      "DEBUG: There are no more tasks to run at this time\n",
      "INFO: Worker Worker(salt=837565969, workers=1, host=LAPTOP-0V1S84ED, username=Daria, pid=4152) was stopped. Shutting down Keep-Alive thread\n",
      "INFO: \n",
      "===== Luigi Execution Summary =====\n",
      "\n",
      "Scheduled 2 tasks of which:\n",
      "* 2 ran successfully:\n",
      "    - 1 Forecater(path_data_train=data_test.csv, path_features=features.pkl)\n",
      "    - 1 Transformer(path_data_train=data_test.csv, path_features=features.pkl)\n",
      "\n",
      "This progress looks :) because there were no failed tasks or missing dependencies\n",
      "\n",
      "===== Luigi Execution Summary =====\n",
      "\n"
     ]
    }
   ],
   "source": [
    "if __name__ == '__main__':\n",
    "    luigi.build([Forecater('data_test.csv', 'features.pkl')])"
   ]
  }
 ],
 "metadata": {
  "kernelspec": {
   "display_name": "Python [conda env:test1] *",
   "language": "python",
   "name": "conda-env-test1-py"
  },
  "language_info": {
   "codemirror_mode": {
    "name": "ipython",
    "version": 3
   },
   "file_extension": ".py",
   "mimetype": "text/x-python",
   "name": "python",
   "nbconvert_exporter": "python",
   "pygments_lexer": "ipython3",
   "version": "3.9.12"
  }
 },
 "nbformat": 4,
 "nbformat_minor": 5
}
