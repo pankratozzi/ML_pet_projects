{
  "cells": [
    {
      "cell_type": "code",
      "execution_count": null,
      "metadata": {
        "id": "IcLafvCzCf8i"
      },
      "outputs": [],
      "source": [
        "from IPython.display import clear_output\n",
        "from google.colab import files\n",
        "files.upload()\n",
        "!mkdir -p ~/.kaggle\n",
        "!cp kaggle.json ~/.kaggle/\n",
        "!ls ~/.kaggle\n",
        "!chmod 600 /root/.kaggle/kaggle.json\n",
        "!kaggle competitions download -f train.csv -p . -c avito-demand-prediction\n",
        "!unzip train.csv.zip\n",
        "!rm train.csv.zip\n",
        "!pip install -qq category_encoders\n",
        "!pip install -qq transformers\n",
        "#!pip install -qq ruclip==0.0.2\n",
        "!pip install -qq pymorphy2\n",
        "clear_output()"
      ]
    },
    {
      "cell_type": "code",
      "source": [
        "import warnings\n",
        "warnings.filterwarnings(\"ignore\")\n",
        "import gc, os, re\n",
        "from tqdm import tqdm\n",
        "gc.enable()\n",
        "\n",
        "import pandas as pd\n",
        "import numpy as np\n",
        "import matplotlib.pyplot as plt\n",
        "import seaborn as sns\n",
        "import missingno\n",
        "\n",
        "import torch\n",
        "import torch.nn as nn\n",
        "from torch.utils.data import Dataset, DataLoader\n",
        "\n",
        "import category_encoders as ce\n",
        "\n",
        "from sklearn.model_selection import train_test_split, KFold, cross_val_score\n",
        "from sklearn.preprocessing import StandardScaler, LabelEncoder\n",
        "from sklearn.feature_extraction.text import TfidfVectorizer\n",
        "\n",
        "import gensim\n",
        "from gensim.models.doc2vec import Doc2Vec\n",
        "\n",
        "from nltk.corpus import stopwords\n",
        "import nltk\n",
        "nltk.download('stopwords')\n",
        "stop = stopwords.words('russian')"
      ],
      "metadata": {
        "colab": {
          "base_uri": "https://localhost:8080/"
        },
        "id": "f-LiVy09MqE-",
        "outputId": "fda5682a-716a-4a12-f76b-bfc1d2a6c4c3"
      },
      "execution_count": null,
      "outputs": [
        {
          "output_type": "stream",
          "name": "stderr",
          "text": [
            "[nltk_data] Downloading package stopwords to /root/nltk_data...\n",
            "[nltk_data]   Unzipping corpora/stopwords.zip.\n"
          ]
        }
      ]
    },
    {
      "cell_type": "code",
      "source": [
        "device = \"cuda\" if torch.cuda.is_available() else \"cpu\""
      ],
      "metadata": {
        "id": "p13BAgEZuKYg"
      },
      "execution_count": null,
      "outputs": []
    },
    {
      "cell_type": "markdown",
      "source": [
        "\n",
        "\n",
        "```\n",
        "import ruclip\n",
        "\n",
        "clip, processor = ruclip.load('ruclip-vit-base-patch32-384', device=device)\n",
        "predictor = ruclip.Predictor(clip, processor, device, bs=8,)\n",
        "with torch.no_grad():\n",
        "    text_latents = predictor.get_text_latents([\"создаем текстовые проекции\"])\n",
        "text_latents.shape\n",
        "```\n",
        "\n"
      ],
      "metadata": {
        "id": "y1Db97fruJAb"
      }
    },
    {
      "cell_type": "code",
      "source": [
        "from transformers import AutoTokenizer, AutoModel\n",
        "tokenizer = AutoTokenizer.from_pretrained(\"cointegrated/rubert-tiny\")\n",
        "rubert = AutoModel.from_pretrained(\"cointegrated/rubert-tiny\")"
      ],
      "metadata": {
        "colab": {
          "base_uri": "https://localhost:8080/",
          "height": 281,
          "referenced_widgets": [
            "e7c6244c80304d3493f7da8209442894",
            "c1596f968ea042778e85e637bee96e65",
            "6979237ec4f0458386d6241634946749",
            "57abf60651204faeb4d5e100a24d8d36",
            "1fe298aaa0da4d07a4d90e58440f308b",
            "712dd374d26b4342a201f01abbcb9974",
            "d253632396684580b6935ad71cbc3d97",
            "98202ff594d64adda68cf063fc7e17d2",
            "29365a526d2742d287d7c0800626aea8",
            "4164d9e17a5b4a66b010d0257bbcca3c",
            "4311f2d1e46a4a50bc8781f7a711d0bf",
            "fcdb3592b0e94832bb05c63617784c39",
            "2ff5629146ad4e6185fe9b3afd5152a1",
            "3e99fd81358543c8a8679424c8b66b6c",
            "9a4985132dc74d7e8cb4867a96ea35a5",
            "07bc8ea38a544a918c2f77ed371488c0",
            "78092f9c045847a3bda7b4378073d785",
            "a97f60d9028d47ccb8fd8423f79bc6ac",
            "349049d6b96a4d1ea6019abfceb2b610",
            "83537cb144fb480498cc89db15f99739",
            "2cdaf11b98274106869e21dda4f77e15",
            "7f65155b19ab4bf49953f2e24ba1048a",
            "aa7867bc70444a8985fbb00bd216ec82",
            "2c899c27fc604c1bbb91baec970a67ba",
            "c4deabf911c14251ad030164218f0b15",
            "e2abc693551e42159fb8f4122dbf1aa4",
            "d0e96bf14ceb4a4799b13db1247fd44b",
            "becfb5b67c4246929f073b5d4dfaa43c",
            "9bff43b70c24464b9d2e776bbc56e57f",
            "3987834eac954585b3894f92b19b93d2",
            "b9d684bfaab94f41958d5ca6492d3736",
            "319f87dfb8bf4cbf87b7d84be20d5103",
            "b34845fe9465409c88b1fb58224986e9",
            "1a25d99720c64522aef0e63c0faba857",
            "78a38f55920d46e694e3be56a322ccf0",
            "4fbc3aea1c66414985d25767973f7992",
            "f5579744233a43ffb80f2d7189dbe5a5",
            "e55f3ad39b2a4cc2a750d675701ed79f",
            "c10cf785b57d4b17b67e8bc19c7bd861",
            "77b1ce8979794d3f9b0fb806b43b7530",
            "8142ff5ee27544158190a18af6c4cef7",
            "15261e9a9acb4b1096ae206872389ca7",
            "566bcf2c4b1c443ebf1b932de8f921d4",
            "983bae6520154da696f450f44500c52e",
            "5336bbdd6f964aee8ff1ffd07c2e1545",
            "02a2b9f74f12468782022f5ed3dc9a38",
            "e04338b5399c44808b7d3ecc131814c1",
            "2c5593a274004ec187d22ac9a71513f4",
            "9bf9a2d419b64bc9953bacf582d44a95",
            "245be9aa500d4b4f99182ffcf25421dd",
            "256a1585a5ac4e0fa54a8c31826a9b78",
            "db5a32aca95340789c5d5f82002a1653",
            "0f377d3ddf3e44688d8f56148ae2dfe4",
            "3bd4602f028e45c48f50704c97245bb1",
            "39c2a0ce269b42b48cedc539fed42b0b",
            "1486ca00fb7c4d6a9e7486913c02994a",
            "73dda9160b6c428aa0ac6c1d5eb2adbc",
            "dd3394588e2c4f5c9aa4334d5b251806",
            "b64f11bce5284c4f8c8f69f22725e317",
            "4c9d4e119ec7400187dc6fe1916dce08",
            "6a2fb1983f8346d790244ae5068aec30",
            "d02a59c6b884494a973b8a23da1747e4",
            "73abe56d4b364f0d9c96049ccc1b28b6",
            "eee4fc89c8054928b91f0665365d4a52",
            "dd67f3005eb743d38e0319dc392ba2b3",
            "2f2a735e1ff84590af67b98251b0d3ae"
          ]
        },
        "id": "Q_p2L46LuHnV",
        "outputId": "41147aec-4046-4c61-cb75-c9041e8ace52"
      },
      "execution_count": null,
      "outputs": [
        {
          "output_type": "display_data",
          "data": {
            "text/plain": [
              "Downloading:   0%|          | 0.00/341 [00:00<?, ?B/s]"
            ],
            "application/vnd.jupyter.widget-view+json": {
              "version_major": 2,
              "version_minor": 0,
              "model_id": "e7c6244c80304d3493f7da8209442894"
            }
          },
          "metadata": {}
        },
        {
          "output_type": "display_data",
          "data": {
            "text/plain": [
              "Downloading:   0%|          | 0.00/632 [00:00<?, ?B/s]"
            ],
            "application/vnd.jupyter.widget-view+json": {
              "version_major": 2,
              "version_minor": 0,
              "model_id": "fcdb3592b0e94832bb05c63617784c39"
            }
          },
          "metadata": {}
        },
        {
          "output_type": "display_data",
          "data": {
            "text/plain": [
              "Downloading:   0%|          | 0.00/241k [00:00<?, ?B/s]"
            ],
            "application/vnd.jupyter.widget-view+json": {
              "version_major": 2,
              "version_minor": 0,
              "model_id": "aa7867bc70444a8985fbb00bd216ec82"
            }
          },
          "metadata": {}
        },
        {
          "output_type": "display_data",
          "data": {
            "text/plain": [
              "Downloading:   0%|          | 0.00/468k [00:00<?, ?B/s]"
            ],
            "application/vnd.jupyter.widget-view+json": {
              "version_major": 2,
              "version_minor": 0,
              "model_id": "1a25d99720c64522aef0e63c0faba857"
            }
          },
          "metadata": {}
        },
        {
          "output_type": "display_data",
          "data": {
            "text/plain": [
              "Downloading:   0%|          | 0.00/112 [00:00<?, ?B/s]"
            ],
            "application/vnd.jupyter.widget-view+json": {
              "version_major": 2,
              "version_minor": 0,
              "model_id": "5336bbdd6f964aee8ff1ffd07c2e1545"
            }
          },
          "metadata": {}
        },
        {
          "output_type": "display_data",
          "data": {
            "text/plain": [
              "Downloading:   0%|          | 0.00/47.7M [00:00<?, ?B/s]"
            ],
            "application/vnd.jupyter.widget-view+json": {
              "version_major": 2,
              "version_minor": 0,
              "model_id": "1486ca00fb7c4d6a9e7486913c02994a"
            }
          },
          "metadata": {}
        },
        {
          "output_type": "stream",
          "name": "stderr",
          "text": [
            "Some weights of the model checkpoint at cointegrated/rubert-tiny were not used when initializing BertModel: ['cls.seq_relationship.bias', 'cls.seq_relationship.weight', 'cls.predictions.decoder.bias', 'cls.predictions.transform.LayerNorm.bias', 'cls.predictions.transform.dense.bias', 'cls.predictions.transform.LayerNorm.weight', 'cls.predictions.transform.dense.weight', 'cls.predictions.decoder.weight', 'cls.predictions.bias']\n",
            "- This IS expected if you are initializing BertModel from the checkpoint of a model trained on another task or with another architecture (e.g. initializing a BertForSequenceClassification model from a BertForPreTraining model).\n",
            "- This IS NOT expected if you are initializing BertModel from the checkpoint of a model that you expect to be exactly identical (initializing a BertForSequenceClassification model from a BertForSequenceClassification model).\n"
          ]
        }
      ]
    },
    {
      "cell_type": "code",
      "source": [
        "seed = 42\n",
        "\n",
        "np.set_printoptions(2)\n",
        "pd.options.display.float_format = '{:.4f}'.format\n",
        "plt.style.use('ggplot')\n",
        "pd.set_option('display.max_columns', None)"
      ],
      "metadata": {
        "id": "9GtzqzYki2t5"
      },
      "execution_count": null,
      "outputs": []
    },
    {
      "cell_type": "code",
      "source": [
        "def seed_everything(seed=42):\n",
        "    os.environ['PYTHONHASHSEED'] = str(seed)\n",
        "    np.random.seed(seed)\n",
        "    torch.manual_seed(seed)\n",
        "    torch.cuda.manual_seed(seed)\n",
        "    torch.backends.cudnn.deterministic = True\n",
        "    torch.backends.cudnn.benchmark = True\n",
        "    \n",
        "seed_everything()"
      ],
      "metadata": {
        "id": "aKxPeCP_tG_v"
      },
      "execution_count": null,
      "outputs": []
    },
    {
      "cell_type": "code",
      "source": [
        "import requests\n",
        "from pathlib import Path\n",
        "from nltk import sent_tokenize, word_tokenize, regexp_tokenize\n",
        "from nltk.corpus import stopwords\n",
        "import pymorphy2\n",
        "from collections import Counter\n",
        "nltk.download('punkt')\n",
        "\n",
        "\n",
        "url_stopwords_ru = \"https://raw.githubusercontent.com/stopwords-iso/stopwords-ru/master/stopwords-ru.txt\"\n",
        "\n",
        "\n",
        "def get_text(url, encoding='utf-8', to_lower=True):\n",
        "    url = str(url)\n",
        "    if url.startswith('http'):\n",
        "        r = requests.get(url)\n",
        "        if not r.ok:\n",
        "            r.raise_for_status()\n",
        "        return r.text.lower() if to_lower else r.text\n",
        "    elif os.path.exists(url):\n",
        "        with open(url, encoding=encoding) as f:\n",
        "            return f.read().lower() if to_lower else f.read()\n",
        "    else:\n",
        "        raise Exception('parameter [url] can be either URL or a filename')\n",
        "\n",
        "\n",
        "def normalize_tokens(tokens):\n",
        "    morph = pymorphy2.MorphAnalyzer()\n",
        "    return [morph.parse(tok)[0].normal_form for tok in tokens]\n",
        "\n",
        "\n",
        "def remove_stopwords(tokens, stopwords=None, min_length=4):\n",
        "    if not stopwords:\n",
        "        return tokens\n",
        "    stopwords = set(stopwords)\n",
        "    tokens = [tok\n",
        "              for tok in tokens\n",
        "              if tok not in stopwords and len(tok) >= min_length]\n",
        "    return tokens\n",
        "\n",
        "\n",
        "def tokenize_n_lemmatize(\n",
        "    text, stopwords=None, normalize=True, \n",
        "    regexp=r'(?u)\\b\\w{4,}\\b'):\n",
        "    words = [w for sent in sent_tokenize(text)\n",
        "             for w in regexp_tokenize(sent, regexp)]\n",
        "    if normalize:\n",
        "        words = normalize_tokens(words)\n",
        "    if stopwords:\n",
        "        words = remove_stopwords(words, stopwords)\n",
        "    return words\n",
        "\n",
        "stopwords_ru = get_text(url_stopwords_ru).splitlines()"
      ],
      "metadata": {
        "colab": {
          "base_uri": "https://localhost:8080/"
        },
        "id": "d7RwFHjEqFCJ",
        "outputId": "fb40da6d-b871-4127-df77-65607fbcb5ea"
      },
      "execution_count": null,
      "outputs": [
        {
          "output_type": "stream",
          "name": "stderr",
          "text": [
            "[nltk_data] Downloading package punkt to /root/nltk_data...\n",
            "[nltk_data]   Unzipping tokenizers/punkt.zip.\n"
          ]
        }
      ]
    },
    {
      "cell_type": "code",
      "source": [
        "def check_missings(df: pd.DataFrame) -> pd.DataFrame:\n",
        "    na = df.isnull().sum()\n",
        "    result = pd.DataFrame({\n",
        "        \"Total\": na,\n",
        "        \"Percent\": 100*na/df.shape[0],\n",
        "        \"Types\": df.dtypes\n",
        "    })\n",
        "    result = result[result[\"Total\"] != 0]\n",
        "    print(f\"Total NA-values = {na.sum()}\")\n",
        "    return result.T\n",
        "\n",
        "def check_duplicates_and_constants(df_train, df_test=None, threshold=5e-5):\n",
        "    low_variance_cols = []\n",
        "    test_exist = True if df_test is not None else False\n",
        "    print(f\"Initial train shape: {df_train.shape}\")\n",
        "    if test_exist:\n",
        "        print(f\"Initial test shape: {df_test.shape}\")\n",
        "\n",
        "    print(f\"Duplicates in train: {df_train.duplicated().sum()}\")\n",
        "    if test_exist:\n",
        "        print(f\"Duplicates in test: {df_test.duplicated().sum()}\")\n",
        "\n",
        "    df_train.drop_duplicates(inplace=True)\n",
        "    for column in df_train.columns:\n",
        "        if df_train[column].nunique() < 2:\n",
        "            end_phrase = \"both from train and test sets\" if test_exist else \"from train set\"\n",
        "            print(f\"{column} in train set is constant, removed {end_phrase}.\")\n",
        "            df_train.drop(column, axis=1, inplace=True)\n",
        "            if test_exist:\n",
        "                df_test.drop(column, axis=1, inplace=True)\n",
        "        elif df_train[column].nunique() < 20:\n",
        "            freqs = df_train[column].value_counts(dropna=True)\n",
        "            freqs /= len(df_train)\n",
        "            if freqs.iloc[1] < threshold:\n",
        "                low_variance_cols.append(column)\n",
        "\n",
        "    print(f\"Final train shape: {df_train.shape}\", end=' ')\n",
        "    if test_exist:\n",
        "        print(f\", test shape: {df_test.shape}.\")\n",
        "    if len(low_variance_cols) > 0:\n",
        "        print(\"Check next columns for usability: \", *low_variance_cols)\n",
        "    if test_exist:\n",
        "        return df_train, df_test\n",
        "    else:\n",
        "        return df_train\n",
        "\n",
        "def preprocessor(text, stop=None):\n",
        "    text = text.lower()\n",
        "    text = re.sub('<[^>]*>', '', text)\n",
        "    text = re.sub('[\\W]+', ' ', text)\n",
        "    text = re.sub(' +', ' ', text)\n",
        "    if stop is not None:\n",
        "        text = \" \".join([w for w in text.split() if w not in stop])\n",
        "    return text.rstrip()\n",
        "\n",
        "def embed_bert(text, model, tokenizer):\n",
        "    t = tokenizer(text, padding=True, truncation=True, return_tensors='pt')\n",
        "    with torch.no_grad():\n",
        "        model_output = model(**{k: v.to(model.device) for k, v in t.items()})\n",
        "    embeddings = model_output.last_hidden_state[:, 0, :]  # CLS token\n",
        "    embeddings = nn.functional.normalize(embeddings)\n",
        "    return embeddings[0]"
      ],
      "metadata": {
        "id": "0QW0nGlCgYGY"
      },
      "execution_count": null,
      "outputs": []
    },
    {
      "cell_type": "code",
      "source": [
        "data = pd.read_csv(\"train.csv\", parse_dates=[\"activation_date\"], index_col=\"item_id\", usecols=[\"item_id\", \"region\", \"parent_category_name\", \"description\", \"price\", \"user_type\", \"param_1\", \"city\",\n",
        "                                                                                               \"item_seq_number\", \"activation_date\", \"image_top_1\", \"deal_probability\"])  # category_name?\n",
        "# user_id may be also useful as users on avito have ratings. User id with low rating has lower probability to sell goods"
      ],
      "metadata": {
        "id": "OynLx9jqOnc1"
      },
      "execution_count": null,
      "outputs": []
    },
    {
      "cell_type": "code",
      "source": [
        "data.head()"
      ],
      "metadata": {
        "colab": {
          "base_uri": "https://localhost:8080/",
          "height": 368
        },
        "id": "wwV5fx2jMtJb",
        "outputId": "cf100ff3-f7c0-4e78-da9e-76e3c5fca738"
      },
      "execution_count": null,
      "outputs": [
        {
          "output_type": "execute_result",
          "data": {
            "text/plain": [
              "                             region              city parent_category_name  \\\n",
              "item_id                                                                      \n",
              "b912c3c6a6ad   Свердловская область      Екатеринбург          Личные вещи   \n",
              "2dac0150717d      Самарская область            Самара      Для дома и дачи   \n",
              "ba83aefab5dc     Ростовская область    Ростов-на-Дону  Бытовая электроника   \n",
              "02996f1dd2ea              Татарстан  Набережные Челны          Личные вещи   \n",
              "7c90be56d2ab  Волгоградская область         Волгоград            Транспорт   \n",
              "\n",
              "                                  param_1  \\\n",
              "item_id                                     \n",
              "b912c3c6a6ad    Постельные принадлежности   \n",
              "2dac0150717d                       Другое   \n",
              "ba83aefab5dc  Видео, DVD и Blu-ray плееры   \n",
              "02996f1dd2ea         Автомобильные кресла   \n",
              "7c90be56d2ab                   С пробегом   \n",
              "\n",
              "                                                    description      price  \\\n",
              "item_id                                                                      \n",
              "b912c3c6a6ad  Кокон для сна малыша,пользовались меньше месяц...   400.0000   \n",
              "2dac0150717d          Стойка для одежды, под вешалки. С бутика.  3000.0000   \n",
              "ba83aefab5dc  В хорошем состоянии, домашний кинотеатр с blu ...  4000.0000   \n",
              "02996f1dd2ea                             Продам кресло от0-25кг  2200.0000   \n",
              "7c90be56d2ab                           Все вопросы по телефону. 40000.0000   \n",
              "\n",
              "              item_seq_number activation_date user_type  image_top_1  \\\n",
              "item_id                                                                \n",
              "b912c3c6a6ad                2      2017-03-28   Private    1008.0000   \n",
              "2dac0150717d               19      2017-03-26   Private     692.0000   \n",
              "ba83aefab5dc                9      2017-03-20   Private    3032.0000   \n",
              "02996f1dd2ea              286      2017-03-25   Company     796.0000   \n",
              "7c90be56d2ab                3      2017-03-16   Private    2264.0000   \n",
              "\n",
              "              deal_probability  \n",
              "item_id                         \n",
              "b912c3c6a6ad            0.1279  \n",
              "2dac0150717d            0.0000  \n",
              "ba83aefab5dc            0.4318  \n",
              "02996f1dd2ea            0.8032  \n",
              "7c90be56d2ab            0.2080  "
            ],
            "text/html": [
              "\n",
              "  <div id=\"df-e675b6f8-d65d-48e4-b2bf-72c13cc071ec\">\n",
              "    <div class=\"colab-df-container\">\n",
              "      <div>\n",
              "<style scoped>\n",
              "    .dataframe tbody tr th:only-of-type {\n",
              "        vertical-align: middle;\n",
              "    }\n",
              "\n",
              "    .dataframe tbody tr th {\n",
              "        vertical-align: top;\n",
              "    }\n",
              "\n",
              "    .dataframe thead th {\n",
              "        text-align: right;\n",
              "    }\n",
              "</style>\n",
              "<table border=\"1\" class=\"dataframe\">\n",
              "  <thead>\n",
              "    <tr style=\"text-align: right;\">\n",
              "      <th></th>\n",
              "      <th>region</th>\n",
              "      <th>city</th>\n",
              "      <th>parent_category_name</th>\n",
              "      <th>param_1</th>\n",
              "      <th>description</th>\n",
              "      <th>price</th>\n",
              "      <th>item_seq_number</th>\n",
              "      <th>activation_date</th>\n",
              "      <th>user_type</th>\n",
              "      <th>image_top_1</th>\n",
              "      <th>deal_probability</th>\n",
              "    </tr>\n",
              "    <tr>\n",
              "      <th>item_id</th>\n",
              "      <th></th>\n",
              "      <th></th>\n",
              "      <th></th>\n",
              "      <th></th>\n",
              "      <th></th>\n",
              "      <th></th>\n",
              "      <th></th>\n",
              "      <th></th>\n",
              "      <th></th>\n",
              "      <th></th>\n",
              "      <th></th>\n",
              "    </tr>\n",
              "  </thead>\n",
              "  <tbody>\n",
              "    <tr>\n",
              "      <th>b912c3c6a6ad</th>\n",
              "      <td>Свердловская область</td>\n",
              "      <td>Екатеринбург</td>\n",
              "      <td>Личные вещи</td>\n",
              "      <td>Постельные принадлежности</td>\n",
              "      <td>Кокон для сна малыша,пользовались меньше месяц...</td>\n",
              "      <td>400.0000</td>\n",
              "      <td>2</td>\n",
              "      <td>2017-03-28</td>\n",
              "      <td>Private</td>\n",
              "      <td>1008.0000</td>\n",
              "      <td>0.1279</td>\n",
              "    </tr>\n",
              "    <tr>\n",
              "      <th>2dac0150717d</th>\n",
              "      <td>Самарская область</td>\n",
              "      <td>Самара</td>\n",
              "      <td>Для дома и дачи</td>\n",
              "      <td>Другое</td>\n",
              "      <td>Стойка для одежды, под вешалки. С бутика.</td>\n",
              "      <td>3000.0000</td>\n",
              "      <td>19</td>\n",
              "      <td>2017-03-26</td>\n",
              "      <td>Private</td>\n",
              "      <td>692.0000</td>\n",
              "      <td>0.0000</td>\n",
              "    </tr>\n",
              "    <tr>\n",
              "      <th>ba83aefab5dc</th>\n",
              "      <td>Ростовская область</td>\n",
              "      <td>Ростов-на-Дону</td>\n",
              "      <td>Бытовая электроника</td>\n",
              "      <td>Видео, DVD и Blu-ray плееры</td>\n",
              "      <td>В хорошем состоянии, домашний кинотеатр с blu ...</td>\n",
              "      <td>4000.0000</td>\n",
              "      <td>9</td>\n",
              "      <td>2017-03-20</td>\n",
              "      <td>Private</td>\n",
              "      <td>3032.0000</td>\n",
              "      <td>0.4318</td>\n",
              "    </tr>\n",
              "    <tr>\n",
              "      <th>02996f1dd2ea</th>\n",
              "      <td>Татарстан</td>\n",
              "      <td>Набережные Челны</td>\n",
              "      <td>Личные вещи</td>\n",
              "      <td>Автомобильные кресла</td>\n",
              "      <td>Продам кресло от0-25кг</td>\n",
              "      <td>2200.0000</td>\n",
              "      <td>286</td>\n",
              "      <td>2017-03-25</td>\n",
              "      <td>Company</td>\n",
              "      <td>796.0000</td>\n",
              "      <td>0.8032</td>\n",
              "    </tr>\n",
              "    <tr>\n",
              "      <th>7c90be56d2ab</th>\n",
              "      <td>Волгоградская область</td>\n",
              "      <td>Волгоград</td>\n",
              "      <td>Транспорт</td>\n",
              "      <td>С пробегом</td>\n",
              "      <td>Все вопросы по телефону.</td>\n",
              "      <td>40000.0000</td>\n",
              "      <td>3</td>\n",
              "      <td>2017-03-16</td>\n",
              "      <td>Private</td>\n",
              "      <td>2264.0000</td>\n",
              "      <td>0.2080</td>\n",
              "    </tr>\n",
              "  </tbody>\n",
              "</table>\n",
              "</div>\n",
              "      <button class=\"colab-df-convert\" onclick=\"convertToInteractive('df-e675b6f8-d65d-48e4-b2bf-72c13cc071ec')\"\n",
              "              title=\"Convert this dataframe to an interactive table.\"\n",
              "              style=\"display:none;\">\n",
              "        \n",
              "  <svg xmlns=\"http://www.w3.org/2000/svg\" height=\"24px\"viewBox=\"0 0 24 24\"\n",
              "       width=\"24px\">\n",
              "    <path d=\"M0 0h24v24H0V0z\" fill=\"none\"/>\n",
              "    <path d=\"M18.56 5.44l.94 2.06.94-2.06 2.06-.94-2.06-.94-.94-2.06-.94 2.06-2.06.94zm-11 1L8.5 8.5l.94-2.06 2.06-.94-2.06-.94L8.5 2.5l-.94 2.06-2.06.94zm10 10l.94 2.06.94-2.06 2.06-.94-2.06-.94-.94-2.06-.94 2.06-2.06.94z\"/><path d=\"M17.41 7.96l-1.37-1.37c-.4-.4-.92-.59-1.43-.59-.52 0-1.04.2-1.43.59L10.3 9.45l-7.72 7.72c-.78.78-.78 2.05 0 2.83L4 21.41c.39.39.9.59 1.41.59.51 0 1.02-.2 1.41-.59l7.78-7.78 2.81-2.81c.8-.78.8-2.07 0-2.86zM5.41 20L4 18.59l7.72-7.72 1.47 1.35L5.41 20z\"/>\n",
              "  </svg>\n",
              "      </button>\n",
              "      \n",
              "  <style>\n",
              "    .colab-df-container {\n",
              "      display:flex;\n",
              "      flex-wrap:wrap;\n",
              "      gap: 12px;\n",
              "    }\n",
              "\n",
              "    .colab-df-convert {\n",
              "      background-color: #E8F0FE;\n",
              "      border: none;\n",
              "      border-radius: 50%;\n",
              "      cursor: pointer;\n",
              "      display: none;\n",
              "      fill: #1967D2;\n",
              "      height: 32px;\n",
              "      padding: 0 0 0 0;\n",
              "      width: 32px;\n",
              "    }\n",
              "\n",
              "    .colab-df-convert:hover {\n",
              "      background-color: #E2EBFA;\n",
              "      box-shadow: 0px 1px 2px rgba(60, 64, 67, 0.3), 0px 1px 3px 1px rgba(60, 64, 67, 0.15);\n",
              "      fill: #174EA6;\n",
              "    }\n",
              "\n",
              "    [theme=dark] .colab-df-convert {\n",
              "      background-color: #3B4455;\n",
              "      fill: #D2E3FC;\n",
              "    }\n",
              "\n",
              "    [theme=dark] .colab-df-convert:hover {\n",
              "      background-color: #434B5C;\n",
              "      box-shadow: 0px 1px 3px 1px rgba(0, 0, 0, 0.15);\n",
              "      filter: drop-shadow(0px 1px 2px rgba(0, 0, 0, 0.3));\n",
              "      fill: #FFFFFF;\n",
              "    }\n",
              "  </style>\n",
              "\n",
              "      <script>\n",
              "        const buttonEl =\n",
              "          document.querySelector('#df-e675b6f8-d65d-48e4-b2bf-72c13cc071ec button.colab-df-convert');\n",
              "        buttonEl.style.display =\n",
              "          google.colab.kernel.accessAllowed ? 'block' : 'none';\n",
              "\n",
              "        async function convertToInteractive(key) {\n",
              "          const element = document.querySelector('#df-e675b6f8-d65d-48e4-b2bf-72c13cc071ec');\n",
              "          const dataTable =\n",
              "            await google.colab.kernel.invokeFunction('convertToInteractive',\n",
              "                                                     [key], {});\n",
              "          if (!dataTable) return;\n",
              "\n",
              "          const docLinkHtml = 'Like what you see? Visit the ' +\n",
              "            '<a target=\"_blank\" href=https://colab.research.google.com/notebooks/data_table.ipynb>data table notebook</a>'\n",
              "            + ' to learn more about interactive tables.';\n",
              "          element.innerHTML = '';\n",
              "          dataTable['output_type'] = 'display_data';\n",
              "          await google.colab.output.renderOutput(dataTable, element);\n",
              "          const docLink = document.createElement('div');\n",
              "          docLink.innerHTML = docLinkHtml;\n",
              "          element.appendChild(docLink);\n",
              "        }\n",
              "      </script>\n",
              "    </div>\n",
              "  </div>\n",
              "  "
            ]
          },
          "metadata": {},
          "execution_count": 29
        }
      ]
    },
    {
      "cell_type": "code",
      "source": [
        "data.info()"
      ],
      "metadata": {
        "colab": {
          "base_uri": "https://localhost:8080/"
        },
        "id": "GafyQwsJTaz3",
        "outputId": "1464102a-57cd-4026-dc94-6ecac911b668"
      },
      "execution_count": null,
      "outputs": [
        {
          "output_type": "stream",
          "name": "stdout",
          "text": [
            "<class 'pandas.core.frame.DataFrame'>\n",
            "Index: 1503424 entries, b912c3c6a6ad to 9ad3b7bff1db\n",
            "Data columns (total 11 columns):\n",
            " #   Column                Non-Null Count    Dtype         \n",
            "---  ------                --------------    -----         \n",
            " 0   region                1503424 non-null  object        \n",
            " 1   city                  1503424 non-null  object        \n",
            " 2   parent_category_name  1503424 non-null  object        \n",
            " 3   param_1               1441848 non-null  object        \n",
            " 4   description           1387148 non-null  object        \n",
            " 5   price                 1418062 non-null  float64       \n",
            " 6   item_seq_number       1503424 non-null  int64         \n",
            " 7   activation_date       1503424 non-null  datetime64[ns]\n",
            " 8   user_type             1503424 non-null  object        \n",
            " 9   image_top_1           1390836 non-null  float64       \n",
            " 10  deal_probability      1503424 non-null  float64       \n",
            "dtypes: datetime64[ns](1), float64(3), int64(1), object(6)\n",
            "memory usage: 137.6+ MB\n"
          ]
        }
      ]
    },
    {
      "cell_type": "code",
      "source": [
        "sns.histplot(data[\"deal_probability\"], bins=10)\n",
        "plt.show()"
      ],
      "metadata": {
        "colab": {
          "base_uri": "https://localhost:8080/",
          "height": 293
        },
        "id": "9MHOGQntMtGm",
        "outputId": "6b1861bd-cd95-4022-8ef3-2a16b8551181"
      },
      "execution_count": null,
      "outputs": [
        {
          "output_type": "display_data",
          "data": {
            "text/plain": [
              "<Figure size 432x288 with 1 Axes>"
            ],
            "image/png": "[encoded data removed]"
          },
          "metadata": {}
        }
      ]
    },
    {
      "cell_type": "code",
      "source": [
        "class RMSLE(nn.Module):\n",
        "    def forward(self, y_pred, y_true, eps=1e-8):\n",
        "        y_pred = torch.clamp(y_pred, 0., 1.)\n",
        "        out = torch.square(torch.log(y_pred + eps) - torch.log(y_true + eps))\n",
        "        out = torch.nanmean(out)\n",
        "        return torch.sqrt(out + eps)\n",
        "\n",
        "# submission evaluation\n",
        "class RMSE(nn.Module):\n",
        "    def __init__(self):\n",
        "        super(RMSE, self).__init__()\n",
        "        self.mse = nn.MSELoss()\n",
        "\n",
        "    def forward(self, y_pred, y_true):\n",
        "        return torch.sqrt(self.mse(y_pred, y_true) + 1e-8)"
      ],
      "metadata": {
        "id": "iDDigsG3MtET"
      },
      "execution_count": null,
      "outputs": []
    },
    {
      "cell_type": "code",
      "source": [
        "data = check_duplicates_and_constants(data)"
      ],
      "metadata": {
        "colab": {
          "base_uri": "https://localhost:8080/"
        },
        "id": "5ZelPIvMSD5z",
        "outputId": "256a763a-6586-4d28-8eb7-14d1881eea9c"
      },
      "execution_count": null,
      "outputs": [
        {
          "output_type": "stream",
          "name": "stdout",
          "text": [
            "Initial train shape: (1503424, 11)\n",
            "Duplicates in train: 18\n",
            "Final train shape: (1503406, 11) "
          ]
        }
      ]
    },
    {
      "cell_type": "code",
      "source": [
        "check_missings(data)  # for boosting we may assume not filling nans to split them by min or max, here we can just drop nans"
      ],
      "metadata": {
        "colab": {
          "base_uri": "https://localhost:8080/",
          "height": 162
        },
        "id": "Gb2r3-NLVVS7",
        "outputId": "907c0331-9c7a-49f1-b423-82b356dd601b"
      },
      "execution_count": null,
      "outputs": [
        {
          "output_type": "stream",
          "name": "stdout",
          "text": [
            "Total NA-values = 375785\n"
          ]
        },
        {
          "output_type": "execute_result",
          "data": {
            "text/plain": [
              "        param_1 description    price image_top_1\n",
              "Total     61576      116260    85362      112587\n",
              "Percent  4.0958      7.7331   5.6779      7.4888\n",
              "Types    object      object  float64     float64"
            ],
            "text/html": [
              "\n",
              "  <div id=\"df-2d968eb8-617e-42a1-97fd-9d2cf8629e7b\">\n",
              "    <div class=\"colab-df-container\">\n",
              "      <div>\n",
              "<style scoped>\n",
              "    .dataframe tbody tr th:only-of-type {\n",
              "        vertical-align: middle;\n",
              "    }\n",
              "\n",
              "    .dataframe tbody tr th {\n",
              "        vertical-align: top;\n",
              "    }\n",
              "\n",
              "    .dataframe thead th {\n",
              "        text-align: right;\n",
              "    }\n",
              "</style>\n",
              "<table border=\"1\" class=\"dataframe\">\n",
              "  <thead>\n",
              "    <tr style=\"text-align: right;\">\n",
              "      <th></th>\n",
              "      <th>param_1</th>\n",
              "      <th>description</th>\n",
              "      <th>price</th>\n",
              "      <th>image_top_1</th>\n",
              "    </tr>\n",
              "  </thead>\n",
              "  <tbody>\n",
              "    <tr>\n",
              "      <th>Total</th>\n",
              "      <td>61576</td>\n",
              "      <td>116260</td>\n",
              "      <td>85362</td>\n",
              "      <td>112587</td>\n",
              "    </tr>\n",
              "    <tr>\n",
              "      <th>Percent</th>\n",
              "      <td>4.0958</td>\n",
              "      <td>7.7331</td>\n",
              "      <td>5.6779</td>\n",
              "      <td>7.4888</td>\n",
              "    </tr>\n",
              "    <tr>\n",
              "      <th>Types</th>\n",
              "      <td>object</td>\n",
              "      <td>object</td>\n",
              "      <td>float64</td>\n",
              "      <td>float64</td>\n",
              "    </tr>\n",
              "  </tbody>\n",
              "</table>\n",
              "</div>\n",
              "      <button class=\"colab-df-convert\" onclick=\"convertToInteractive('df-2d968eb8-617e-42a1-97fd-9d2cf8629e7b')\"\n",
              "              title=\"Convert this dataframe to an interactive table.\"\n",
              "              style=\"display:none;\">\n",
              "        \n",
              "  <svg xmlns=\"http://www.w3.org/2000/svg\" height=\"24px\"viewBox=\"0 0 24 24\"\n",
              "       width=\"24px\">\n",
              "    <path d=\"M0 0h24v24H0V0z\" fill=\"none\"/>\n",
              "    <path d=\"M18.56 5.44l.94 2.06.94-2.06 2.06-.94-2.06-.94-.94-2.06-.94 2.06-2.06.94zm-11 1L8.5 8.5l.94-2.06 2.06-.94-2.06-.94L8.5 2.5l-.94 2.06-2.06.94zm10 10l.94 2.06.94-2.06 2.06-.94-2.06-.94-.94-2.06-.94 2.06-2.06.94z\"/><path d=\"M17.41 7.96l-1.37-1.37c-.4-.4-.92-.59-1.43-.59-.52 0-1.04.2-1.43.59L10.3 9.45l-7.72 7.72c-.78.78-.78 2.05 0 2.83L4 21.41c.39.39.9.59 1.41.59.51 0 1.02-.2 1.41-.59l7.78-7.78 2.81-2.81c.8-.78.8-2.07 0-2.86zM5.41 20L4 18.59l7.72-7.72 1.47 1.35L5.41 20z\"/>\n",
              "  </svg>\n",
              "      </button>\n",
              "      \n",
              "  <style>\n",
              "    .colab-df-container {\n",
              "      display:flex;\n",
              "      flex-wrap:wrap;\n",
              "      gap: 12px;\n",
              "    }\n",
              "\n",
              "    .colab-df-convert {\n",
              "      background-color: #E8F0FE;\n",
              "      border: none;\n",
              "      border-radius: 50%;\n",
              "      cursor: pointer;\n",
              "      display: none;\n",
              "      fill: #1967D2;\n",
              "      height: 32px;\n",
              "      padding: 0 0 0 0;\n",
              "      width: 32px;\n",
              "    }\n",
              "\n",
              "    .colab-df-convert:hover {\n",
              "      background-color: #E2EBFA;\n",
              "      box-shadow: 0px 1px 2px rgba(60, 64, 67, 0.3), 0px 1px 3px 1px rgba(60, 64, 67, 0.15);\n",
              "      fill: #174EA6;\n",
              "    }\n",
              "\n",
              "    [theme=dark] .colab-df-convert {\n",
              "      background-color: #3B4455;\n",
              "      fill: #D2E3FC;\n",
              "    }\n",
              "\n",
              "    [theme=dark] .colab-df-convert:hover {\n",
              "      background-color: #434B5C;\n",
              "      box-shadow: 0px 1px 3px 1px rgba(0, 0, 0, 0.15);\n",
              "      filter: drop-shadow(0px 1px 2px rgba(0, 0, 0, 0.3));\n",
              "      fill: #FFFFFF;\n",
              "    }\n",
              "  </style>\n",
              "\n",
              "      <script>\n",
              "        const buttonEl =\n",
              "          document.querySelector('#df-2d968eb8-617e-42a1-97fd-9d2cf8629e7b button.colab-df-convert');\n",
              "        buttonEl.style.display =\n",
              "          google.colab.kernel.accessAllowed ? 'block' : 'none';\n",
              "\n",
              "        async function convertToInteractive(key) {\n",
              "          const element = document.querySelector('#df-2d968eb8-617e-42a1-97fd-9d2cf8629e7b');\n",
              "          const dataTable =\n",
              "            await google.colab.kernel.invokeFunction('convertToInteractive',\n",
              "                                                     [key], {});\n",
              "          if (!dataTable) return;\n",
              "\n",
              "          const docLinkHtml = 'Like what you see? Visit the ' +\n",
              "            '<a target=\"_blank\" href=https://colab.research.google.com/notebooks/data_table.ipynb>data table notebook</a>'\n",
              "            + ' to learn more about interactive tables.';\n",
              "          element.innerHTML = '';\n",
              "          dataTable['output_type'] = 'display_data';\n",
              "          await google.colab.output.renderOutput(dataTable, element);\n",
              "          const docLink = document.createElement('div');\n",
              "          docLink.innerHTML = docLinkHtml;\n",
              "          element.appendChild(docLink);\n",
              "        }\n",
              "      </script>\n",
              "    </div>\n",
              "  </div>\n",
              "  "
            ]
          },
          "metadata": {},
          "execution_count": 32
        }
      ]
    },
    {
      "cell_type": "code",
      "source": [
        "missingno.heatmap(data, figsize=(10, 6))"
      ],
      "metadata": {
        "colab": {
          "base_uri": "https://localhost:8080/",
          "height": 470
        },
        "id": "JbinwXITtKfE",
        "outputId": "1b010adf-4dc9-48c5-e1ca-43c12e07a04c"
      },
      "execution_count": null,
      "outputs": [
        {
          "output_type": "execute_result",
          "data": {
            "text/plain": [
              "<matplotlib.axes._subplots.AxesSubplot at 0x7f6149c80290>"
            ]
          },
          "metadata": {},
          "execution_count": 35
        },
        {
          "output_type": "display_data",
          "data": {
            "text/plain": [
              "<Figure size 720x432 with 2 Axes>"
            ],
            "image/png": "[encoded data removed]"
          },
          "metadata": {}
        }
      ]
    },
    {
      "cell_type": "code",
      "source": [
        "data.dropna(inplace=True)"
      ],
      "metadata": {
        "id": "ZI52hZ_zjlfI"
      },
      "execution_count": null,
      "outputs": []
    },
    {
      "cell_type": "code",
      "source": [
        "parent_counts = data.parent_category_name.value_counts(normalize=True)\n",
        "\n",
        "sns.barplot(x=parent_counts.index, y=parent_counts.values)\n",
        "plt.xticks(rotation=90)\n",
        "plt.show()"
      ],
      "metadata": {
        "colab": {
          "base_uri": "https://localhost:8080/",
          "height": 370
        },
        "id": "-H-u1S9TVVQN",
        "outputId": "182fc6ec-7046-49ca-82a6-6de80fb2f4a0"
      },
      "execution_count": null,
      "outputs": [
        {
          "output_type": "display_data",
          "data": {
            "text/plain": [
              "<Figure size 432x288 with 1 Axes>"
            ],
            "image/png": "[encoded data removed]"
          },
          "metadata": {}
        }
      ]
    },
    {
      "cell_type": "code",
      "source": [
        "region = data.region.value_counts(normalize=True)\n",
        "plt.figure(figsize=(10, 5))\n",
        "sns.barplot(x=region.index, y=region.values)\n",
        "plt.xticks(rotation=90)\n",
        "plt.show()"
      ],
      "metadata": {
        "colab": {
          "base_uri": "https://localhost:8080/",
          "height": 448
        },
        "id": "syYIfEt3gswP",
        "outputId": "59a2f10a-1109-45fc-eb9c-f6868326c563"
      },
      "execution_count": null,
      "outputs": [
        {
          "output_type": "display_data",
          "data": {
            "text/plain": [
              "<Figure size 720x360 with 1 Axes>"
            ],
            "image/png": "[encoded data removed]"
          },
          "metadata": {}
        }
      ]
    },
    {
      "cell_type": "code",
      "source": [
        "data.description.str.len().hist()"
      ],
      "metadata": {
        "colab": {
          "base_uri": "https://localhost:8080/",
          "height": 294
        },
        "id": "F5BE8LuLCni1",
        "outputId": "1c723199-56fe-4895-e5d0-d0b68a66ac41"
      },
      "execution_count": null,
      "outputs": [
        {
          "output_type": "execute_result",
          "data": {
            "text/plain": [
              "<matplotlib.axes._subplots.AxesSubplot at 0x7fe28377f410>"
            ]
          },
          "metadata": {},
          "execution_count": 13
        },
        {
          "output_type": "display_data",
          "data": {
            "text/plain": [
              "<Figure size 432x288 with 1 Axes>"
            ],
            "image/png": "[encoded data removed]"
          },
          "metadata": {}
        }
      ]
    },
    {
      "cell_type": "code",
      "source": [
        "data.describe()  # outliers: iqr, percentile clipping?"
      ],
      "metadata": {
        "colab": {
          "base_uri": "https://localhost:8080/",
          "height": 300
        },
        "id": "-QIx3L6mgst6",
        "outputId": "3e58b065-1225-4688-b989-501550d3e0b8"
      },
      "execution_count": null,
      "outputs": [
        {
          "output_type": "execute_result",
          "data": {
            "text/plain": [
              "                price  item_seq_number  image_top_1  deal_probability\n",
              "count    1221635.0000     1221635.0000 1221635.0000      1221635.0000\n",
              "mean      260599.4812         866.3180    1247.7858            0.1368\n",
              "std      4195423.8619        6076.2236     974.1476            0.2630\n",
              "min            0.0000           1.0000       0.0000            0.0000\n",
              "25%          500.0000          10.0000     425.0000            0.0000\n",
              "50%         1400.0000          32.0000    1071.0000            0.0000\n",
              "75%         7000.0000         100.0000    2218.0000            0.1299\n",
              "max   2000025000.0000      204429.0000    3066.0000            1.0000"
            ],
            "text/html": [
              "\n",
              "  <div id=\"df-b4ef869b-d952-4c03-99e5-881eb0ae69c5\">\n",
              "    <div class=\"colab-df-container\">\n",
              "      <div>\n",
              "<style scoped>\n",
              "    .dataframe tbody tr th:only-of-type {\n",
              "        vertical-align: middle;\n",
              "    }\n",
              "\n",
              "    .dataframe tbody tr th {\n",
              "        vertical-align: top;\n",
              "    }\n",
              "\n",
              "    .dataframe thead th {\n",
              "        text-align: right;\n",
              "    }\n",
              "</style>\n",
              "<table border=\"1\" class=\"dataframe\">\n",
              "  <thead>\n",
              "    <tr style=\"text-align: right;\">\n",
              "      <th></th>\n",
              "      <th>price</th>\n",
              "      <th>item_seq_number</th>\n",
              "      <th>image_top_1</th>\n",
              "      <th>deal_probability</th>\n",
              "    </tr>\n",
              "  </thead>\n",
              "  <tbody>\n",
              "    <tr>\n",
              "      <th>count</th>\n",
              "      <td>1221635.0000</td>\n",
              "      <td>1221635.0000</td>\n",
              "      <td>1221635.0000</td>\n",
              "      <td>1221635.0000</td>\n",
              "    </tr>\n",
              "    <tr>\n",
              "      <th>mean</th>\n",
              "      <td>260599.4812</td>\n",
              "      <td>866.3180</td>\n",
              "      <td>1247.7858</td>\n",
              "      <td>0.1368</td>\n",
              "    </tr>\n",
              "    <tr>\n",
              "      <th>std</th>\n",
              "      <td>4195423.8619</td>\n",
              "      <td>6076.2236</td>\n",
              "      <td>974.1476</td>\n",
              "      <td>0.2630</td>\n",
              "    </tr>\n",
              "    <tr>\n",
              "      <th>min</th>\n",
              "      <td>0.0000</td>\n",
              "      <td>1.0000</td>\n",
              "      <td>0.0000</td>\n",
              "      <td>0.0000</td>\n",
              "    </tr>\n",
              "    <tr>\n",
              "      <th>25%</th>\n",
              "      <td>500.0000</td>\n",
              "      <td>10.0000</td>\n",
              "      <td>425.0000</td>\n",
              "      <td>0.0000</td>\n",
              "    </tr>\n",
              "    <tr>\n",
              "      <th>50%</th>\n",
              "      <td>1400.0000</td>\n",
              "      <td>32.0000</td>\n",
              "      <td>1071.0000</td>\n",
              "      <td>0.0000</td>\n",
              "    </tr>\n",
              "    <tr>\n",
              "      <th>75%</th>\n",
              "      <td>7000.0000</td>\n",
              "      <td>100.0000</td>\n",
              "      <td>2218.0000</td>\n",
              "      <td>0.1299</td>\n",
              "    </tr>\n",
              "    <tr>\n",
              "      <th>max</th>\n",
              "      <td>2000025000.0000</td>\n",
              "      <td>204429.0000</td>\n",
              "      <td>3066.0000</td>\n",
              "      <td>1.0000</td>\n",
              "    </tr>\n",
              "  </tbody>\n",
              "</table>\n",
              "</div>\n",
              "      <button class=\"colab-df-convert\" onclick=\"convertToInteractive('df-b4ef869b-d952-4c03-99e5-881eb0ae69c5')\"\n",
              "              title=\"Convert this dataframe to an interactive table.\"\n",
              "              style=\"display:none;\">\n",
              "        \n",
              "  <svg xmlns=\"http://www.w3.org/2000/svg\" height=\"24px\"viewBox=\"0 0 24 24\"\n",
              "       width=\"24px\">\n",
              "    <path d=\"M0 0h24v24H0V0z\" fill=\"none\"/>\n",
              "    <path d=\"M18.56 5.44l.94 2.06.94-2.06 2.06-.94-2.06-.94-.94-2.06-.94 2.06-2.06.94zm-11 1L8.5 8.5l.94-2.06 2.06-.94-2.06-.94L8.5 2.5l-.94 2.06-2.06.94zm10 10l.94 2.06.94-2.06 2.06-.94-2.06-.94-.94-2.06-.94 2.06-2.06.94z\"/><path d=\"M17.41 7.96l-1.37-1.37c-.4-.4-.92-.59-1.43-.59-.52 0-1.04.2-1.43.59L10.3 9.45l-7.72 7.72c-.78.78-.78 2.05 0 2.83L4 21.41c.39.39.9.59 1.41.59.51 0 1.02-.2 1.41-.59l7.78-7.78 2.81-2.81c.8-.78.8-2.07 0-2.86zM5.41 20L4 18.59l7.72-7.72 1.47 1.35L5.41 20z\"/>\n",
              "  </svg>\n",
              "      </button>\n",
              "      \n",
              "  <style>\n",
              "    .colab-df-container {\n",
              "      display:flex;\n",
              "      flex-wrap:wrap;\n",
              "      gap: 12px;\n",
              "    }\n",
              "\n",
              "    .colab-df-convert {\n",
              "      background-color: #E8F0FE;\n",
              "      border: none;\n",
              "      border-radius: 50%;\n",
              "      cursor: pointer;\n",
              "      display: none;\n",
              "      fill: #1967D2;\n",
              "      height: 32px;\n",
              "      padding: 0 0 0 0;\n",
              "      width: 32px;\n",
              "    }\n",
              "\n",
              "    .colab-df-convert:hover {\n",
              "      background-color: #E2EBFA;\n",
              "      box-shadow: 0px 1px 2px rgba(60, 64, 67, 0.3), 0px 1px 3px 1px rgba(60, 64, 67, 0.15);\n",
              "      fill: #174EA6;\n",
              "    }\n",
              "\n",
              "    [theme=dark] .colab-df-convert {\n",
              "      background-color: #3B4455;\n",
              "      fill: #D2E3FC;\n",
              "    }\n",
              "\n",
              "    [theme=dark] .colab-df-convert:hover {\n",
              "      background-color: #434B5C;\n",
              "      box-shadow: 0px 1px 3px 1px rgba(0, 0, 0, 0.15);\n",
              "      filter: drop-shadow(0px 1px 2px rgba(0, 0, 0, 0.3));\n",
              "      fill: #FFFFFF;\n",
              "    }\n",
              "  </style>\n",
              "\n",
              "      <script>\n",
              "        const buttonEl =\n",
              "          document.querySelector('#df-b4ef869b-d952-4c03-99e5-881eb0ae69c5 button.colab-df-convert');\n",
              "        buttonEl.style.display =\n",
              "          google.colab.kernel.accessAllowed ? 'block' : 'none';\n",
              "\n",
              "        async function convertToInteractive(key) {\n",
              "          const element = document.querySelector('#df-b4ef869b-d952-4c03-99e5-881eb0ae69c5');\n",
              "          const dataTable =\n",
              "            await google.colab.kernel.invokeFunction('convertToInteractive',\n",
              "                                                     [key], {});\n",
              "          if (!dataTable) return;\n",
              "\n",
              "          const docLinkHtml = 'Like what you see? Visit the ' +\n",
              "            '<a target=\"_blank\" href=https://colab.research.google.com/notebooks/data_table.ipynb>data table notebook</a>'\n",
              "            + ' to learn more about interactive tables.';\n",
              "          element.innerHTML = '';\n",
              "          dataTable['output_type'] = 'display_data';\n",
              "          await google.colab.output.renderOutput(dataTable, element);\n",
              "          const docLink = document.createElement('div');\n",
              "          docLink.innerHTML = docLinkHtml;\n",
              "          element.appendChild(docLink);\n",
              "        }\n",
              "      </script>\n",
              "    </div>\n",
              "  </div>\n",
              "  "
            ]
          },
          "metadata": {},
          "execution_count": 77
        }
      ]
    },
    {
      "cell_type": "code",
      "source": [
        "data.describe(exclude=\"number\") "
      ],
      "metadata": {
        "colab": {
          "base_uri": "https://localhost:8080/",
          "height": 237
        },
        "id": "0SuYbATljQb4",
        "outputId": "4cb8f662-3cd0-45a2-f9e9-e8377908feff"
      },
      "execution_count": null,
      "outputs": [
        {
          "output_type": "execute_result",
          "data": {
            "text/plain": [
              "                    region parent_category_name          description  \\\n",
              "count              1221635              1221635              1221635   \n",
              "unique                  28                    9              1157109   \n",
              "top     Краснодарский край          Личные вещи  В хорошем состоянии   \n",
              "freq                114103               604522                 2185   \n",
              "first                  NaN                  NaN                  NaN   \n",
              "last                   NaN                  NaN                  NaN   \n",
              "\n",
              "            activation_date user_type  \n",
              "count               1221635   1221635  \n",
              "unique                   19         3  \n",
              "top     2017-03-27 00:00:00   Private  \n",
              "freq                  93352    856965  \n",
              "first   2017-03-15 00:00:00       NaN  \n",
              "last    2017-04-03 00:00:00       NaN  "
            ],
            "text/html": [
              "\n",
              "  <div id=\"df-251df9f6-7002-49b5-8c3b-2378abeebafe\">\n",
              "    <div class=\"colab-df-container\">\n",
              "      <div>\n",
              "<style scoped>\n",
              "    .dataframe tbody tr th:only-of-type {\n",
              "        vertical-align: middle;\n",
              "    }\n",
              "\n",
              "    .dataframe tbody tr th {\n",
              "        vertical-align: top;\n",
              "    }\n",
              "\n",
              "    .dataframe thead th {\n",
              "        text-align: right;\n",
              "    }\n",
              "</style>\n",
              "<table border=\"1\" class=\"dataframe\">\n",
              "  <thead>\n",
              "    <tr style=\"text-align: right;\">\n",
              "      <th></th>\n",
              "      <th>region</th>\n",
              "      <th>parent_category_name</th>\n",
              "      <th>description</th>\n",
              "      <th>activation_date</th>\n",
              "      <th>user_type</th>\n",
              "    </tr>\n",
              "  </thead>\n",
              "  <tbody>\n",
              "    <tr>\n",
              "      <th>count</th>\n",
              "      <td>1221635</td>\n",
              "      <td>1221635</td>\n",
              "      <td>1221635</td>\n",
              "      <td>1221635</td>\n",
              "      <td>1221635</td>\n",
              "    </tr>\n",
              "    <tr>\n",
              "      <th>unique</th>\n",
              "      <td>28</td>\n",
              "      <td>9</td>\n",
              "      <td>1157109</td>\n",
              "      <td>19</td>\n",
              "      <td>3</td>\n",
              "    </tr>\n",
              "    <tr>\n",
              "      <th>top</th>\n",
              "      <td>Краснодарский край</td>\n",
              "      <td>Личные вещи</td>\n",
              "      <td>В хорошем состоянии</td>\n",
              "      <td>2017-03-27 00:00:00</td>\n",
              "      <td>Private</td>\n",
              "    </tr>\n",
              "    <tr>\n",
              "      <th>freq</th>\n",
              "      <td>114103</td>\n",
              "      <td>604522</td>\n",
              "      <td>2185</td>\n",
              "      <td>93352</td>\n",
              "      <td>856965</td>\n",
              "    </tr>\n",
              "    <tr>\n",
              "      <th>first</th>\n",
              "      <td>NaN</td>\n",
              "      <td>NaN</td>\n",
              "      <td>NaN</td>\n",
              "      <td>2017-03-15 00:00:00</td>\n",
              "      <td>NaN</td>\n",
              "    </tr>\n",
              "    <tr>\n",
              "      <th>last</th>\n",
              "      <td>NaN</td>\n",
              "      <td>NaN</td>\n",
              "      <td>NaN</td>\n",
              "      <td>2017-04-03 00:00:00</td>\n",
              "      <td>NaN</td>\n",
              "    </tr>\n",
              "  </tbody>\n",
              "</table>\n",
              "</div>\n",
              "      <button class=\"colab-df-convert\" onclick=\"convertToInteractive('df-251df9f6-7002-49b5-8c3b-2378abeebafe')\"\n",
              "              title=\"Convert this dataframe to an interactive table.\"\n",
              "              style=\"display:none;\">\n",
              "        \n",
              "  <svg xmlns=\"http://www.w3.org/2000/svg\" height=\"24px\"viewBox=\"0 0 24 24\"\n",
              "       width=\"24px\">\n",
              "    <path d=\"M0 0h24v24H0V0z\" fill=\"none\"/>\n",
              "    <path d=\"M18.56 5.44l.94 2.06.94-2.06 2.06-.94-2.06-.94-.94-2.06-.94 2.06-2.06.94zm-11 1L8.5 8.5l.94-2.06 2.06-.94-2.06-.94L8.5 2.5l-.94 2.06-2.06.94zm10 10l.94 2.06.94-2.06 2.06-.94-2.06-.94-.94-2.06-.94 2.06-2.06.94z\"/><path d=\"M17.41 7.96l-1.37-1.37c-.4-.4-.92-.59-1.43-.59-.52 0-1.04.2-1.43.59L10.3 9.45l-7.72 7.72c-.78.78-.78 2.05 0 2.83L4 21.41c.39.39.9.59 1.41.59.51 0 1.02-.2 1.41-.59l7.78-7.78 2.81-2.81c.8-.78.8-2.07 0-2.86zM5.41 20L4 18.59l7.72-7.72 1.47 1.35L5.41 20z\"/>\n",
              "  </svg>\n",
              "      </button>\n",
              "      \n",
              "  <style>\n",
              "    .colab-df-container {\n",
              "      display:flex;\n",
              "      flex-wrap:wrap;\n",
              "      gap: 12px;\n",
              "    }\n",
              "\n",
              "    .colab-df-convert {\n",
              "      background-color: #E8F0FE;\n",
              "      border: none;\n",
              "      border-radius: 50%;\n",
              "      cursor: pointer;\n",
              "      display: none;\n",
              "      fill: #1967D2;\n",
              "      height: 32px;\n",
              "      padding: 0 0 0 0;\n",
              "      width: 32px;\n",
              "    }\n",
              "\n",
              "    .colab-df-convert:hover {\n",
              "      background-color: #E2EBFA;\n",
              "      box-shadow: 0px 1px 2px rgba(60, 64, 67, 0.3), 0px 1px 3px 1px rgba(60, 64, 67, 0.15);\n",
              "      fill: #174EA6;\n",
              "    }\n",
              "\n",
              "    [theme=dark] .colab-df-convert {\n",
              "      background-color: #3B4455;\n",
              "      fill: #D2E3FC;\n",
              "    }\n",
              "\n",
              "    [theme=dark] .colab-df-convert:hover {\n",
              "      background-color: #434B5C;\n",
              "      box-shadow: 0px 1px 3px 1px rgba(0, 0, 0, 0.15);\n",
              "      filter: drop-shadow(0px 1px 2px rgba(0, 0, 0, 0.3));\n",
              "      fill: #FFFFFF;\n",
              "    }\n",
              "  </style>\n",
              "\n",
              "      <script>\n",
              "        const buttonEl =\n",
              "          document.querySelector('#df-251df9f6-7002-49b5-8c3b-2378abeebafe button.colab-df-convert');\n",
              "        buttonEl.style.display =\n",
              "          google.colab.kernel.accessAllowed ? 'block' : 'none';\n",
              "\n",
              "        async function convertToInteractive(key) {\n",
              "          const element = document.querySelector('#df-251df9f6-7002-49b5-8c3b-2378abeebafe');\n",
              "          const dataTable =\n",
              "            await google.colab.kernel.invokeFunction('convertToInteractive',\n",
              "                                                     [key], {});\n",
              "          if (!dataTable) return;\n",
              "\n",
              "          const docLinkHtml = 'Like what you see? Visit the ' +\n",
              "            '<a target=\"_blank\" href=https://colab.research.google.com/notebooks/data_table.ipynb>data table notebook</a>'\n",
              "            + ' to learn more about interactive tables.';\n",
              "          element.innerHTML = '';\n",
              "          dataTable['output_type'] = 'display_data';\n",
              "          await google.colab.output.renderOutput(dataTable, element);\n",
              "          const docLink = document.createElement('div');\n",
              "          docLink.innerHTML = docLinkHtml;\n",
              "          element.appendChild(docLink);\n",
              "        }\n",
              "      </script>\n",
              "    </div>\n",
              "  </div>\n",
              "  "
            ]
          },
          "metadata": {},
          "execution_count": 78
        }
      ]
    },
    {
      "cell_type": "code",
      "source": [
        "data.activation_date.min(), data.activation_date.max()  # small delta, so splitting by time is unneccessary"
      ],
      "metadata": {
        "colab": {
          "base_uri": "https://localhost:8080/"
        },
        "id": "dOx8ZEvQjzbi",
        "outputId": "e5d55d79-bf63-46b4-e6b4-cd2021a472a1"
      },
      "execution_count": null,
      "outputs": [
        {
          "output_type": "execute_result",
          "data": {
            "text/plain": [
              "(Timestamp('2017-03-15 00:00:00'), Timestamp('2017-04-03 00:00:00'))"
            ]
          },
          "metadata": {},
          "execution_count": 79
        }
      ]
    },
    {
      "cell_type": "code",
      "source": [
        "condition = (data.price > np.percentile(data.price, 99.99)) & (data.parent_category_name == \"Недвижимость\")  # check by category\n",
        "data[condition].sort_values(\"price\", ascending=False).head(10)"
      ],
      "metadata": {
        "colab": {
          "base_uri": "https://localhost:8080/",
          "height": 394
        },
        "id": "_dbDXzbmlcAw",
        "outputId": "f18a7b2b-69ed-42f8-8774-dec70c9bddb4"
      },
      "execution_count": null,
      "outputs": [
        {
          "output_type": "execute_result",
          "data": {
            "text/plain": [
              "                           region parent_category_name  \\\n",
              "item_id                                                  \n",
              "6df9bb4c6120   Краснодарский край         Недвижимость   \n",
              "389de1e3c386   Краснодарский край         Недвижимость   \n",
              "7de3136be119   Краснодарский край         Недвижимость   \n",
              "8010077f857d    Самарская область         Недвижимость   \n",
              "e4c27e48bd61  Ставропольский край         Недвижимость   \n",
              "252fe752daaf   Краснодарский край         Недвижимость   \n",
              "0b506337759f   Краснодарский край         Недвижимость   \n",
              "fce21a488c96   Краснодарский край         Недвижимость   \n",
              "772e674791d3   Краснодарский край         Недвижимость   \n",
              "13744776a882   Краснодарский край         Недвижимость   \n",
              "\n",
              "                                                    description  \\\n",
              "item_id                                                           \n",
              "6df9bb4c6120  Хорошая чистая квартира. Тихий район. Имеется ...   \n",
              "389de1e3c386  Продаётся земельный участок в с.Ольгинка Туапс...   \n",
              "7de3136be119  Продается действующай торговый центр с арендат...   \n",
              "8010077f857d  ХАРАКТЕРИСТИКА ОБЪЕКТА/\\n /\\nОбъект – здание у...   \n",
              "e4c27e48bd61  Участок 14га, собственность, все центральные к...   \n",
              "252fe752daaf                             подробности по запросу   \n",
              "0b506337759f  Предлагается к продаже земельный участок в Эли...   \n",
              "fce21a488c96  Продаю участок в Красной Поляне 3.2гектара, на...   \n",
              "772e674791d3  Продаю участок в красной поляне 5 гектар, нахо...   \n",
              "13744776a882  Нижнеимеретинская бухта !!!/\\n/\\n6-тиэтажный ж...   \n",
              "\n",
              "                       price  item_seq_number activation_date user_type  \\\n",
              "item_id                                                                   \n",
              "6df9bb4c6120 1170000000.0000               22      2017-03-20   Company   \n",
              "389de1e3c386 1100000000.0000              261      2017-03-24   Company   \n",
              "7de3136be119 1000000000.0000            47160      2017-03-27      Shop   \n",
              "8010077f857d  652400000.0000               62      2017-03-16      Shop   \n",
              "e4c27e48bd61  630000000.0000              290      2017-03-27   Company   \n",
              "252fe752daaf  589540000.0000            35796      2017-03-15   Company   \n",
              "0b506337759f  500000000.0000               66      2017-03-27   Company   \n",
              "fce21a488c96  500000000.0000               93      2017-03-27   Company   \n",
              "772e674791d3  500000000.0000               94      2017-03-27   Company   \n",
              "13744776a882  467000000.0000                1      2017-03-25   Private   \n",
              "\n",
              "              image_top_1  deal_probability  \n",
              "item_id                                      \n",
              "6df9bb4c6120    2220.0000            0.0000  \n",
              "389de1e3c386    1694.0000            0.0000  \n",
              "7de3136be119    2280.0000            0.0684  \n",
              "8010077f857d    2218.0000            0.0000  \n",
              "e4c27e48bd61    1610.0000            0.2472  \n",
              "252fe752daaf    1698.0000            0.0857  \n",
              "0b506337759f    2218.0000            0.0000  \n",
              "fce21a488c96    1317.0000            0.0510  \n",
              "772e674791d3    2280.0000            0.0857  \n",
              "13744776a882    2218.0000            0.0000  "
            ],
            "text/html": [
              "\n",
              "  <div id=\"df-225a03fd-51d5-48ab-8cfe-bb7911d6e34e\">\n",
              "    <div class=\"colab-df-container\">\n",
              "      <div>\n",
              "<style scoped>\n",
              "    .dataframe tbody tr th:only-of-type {\n",
              "        vertical-align: middle;\n",
              "    }\n",
              "\n",
              "    .dataframe tbody tr th {\n",
              "        vertical-align: top;\n",
              "    }\n",
              "\n",
              "    .dataframe thead th {\n",
              "        text-align: right;\n",
              "    }\n",
              "</style>\n",
              "<table border=\"1\" class=\"dataframe\">\n",
              "  <thead>\n",
              "    <tr style=\"text-align: right;\">\n",
              "      <th></th>\n",
              "      <th>region</th>\n",
              "      <th>parent_category_name</th>\n",
              "      <th>description</th>\n",
              "      <th>price</th>\n",
              "      <th>item_seq_number</th>\n",
              "      <th>activation_date</th>\n",
              "      <th>user_type</th>\n",
              "      <th>image_top_1</th>\n",
              "      <th>deal_probability</th>\n",
              "    </tr>\n",
              "    <tr>\n",
              "      <th>item_id</th>\n",
              "      <th></th>\n",
              "      <th></th>\n",
              "      <th></th>\n",
              "      <th></th>\n",
              "      <th></th>\n",
              "      <th></th>\n",
              "      <th></th>\n",
              "      <th></th>\n",
              "      <th></th>\n",
              "    </tr>\n",
              "  </thead>\n",
              "  <tbody>\n",
              "    <tr>\n",
              "      <th>6df9bb4c6120</th>\n",
              "      <td>Краснодарский край</td>\n",
              "      <td>Недвижимость</td>\n",
              "      <td>Хорошая чистая квартира. Тихий район. Имеется ...</td>\n",
              "      <td>1170000000.0000</td>\n",
              "      <td>22</td>\n",
              "      <td>2017-03-20</td>\n",
              "      <td>Company</td>\n",
              "      <td>2220.0000</td>\n",
              "      <td>0.0000</td>\n",
              "    </tr>\n",
              "    <tr>\n",
              "      <th>389de1e3c386</th>\n",
              "      <td>Краснодарский край</td>\n",
              "      <td>Недвижимость</td>\n",
              "      <td>Продаётся земельный участок в с.Ольгинка Туапс...</td>\n",
              "      <td>1100000000.0000</td>\n",
              "      <td>261</td>\n",
              "      <td>2017-03-24</td>\n",
              "      <td>Company</td>\n",
              "      <td>1694.0000</td>\n",
              "      <td>0.0000</td>\n",
              "    </tr>\n",
              "    <tr>\n",
              "      <th>7de3136be119</th>\n",
              "      <td>Краснодарский край</td>\n",
              "      <td>Недвижимость</td>\n",
              "      <td>Продается действующай торговый центр с арендат...</td>\n",
              "      <td>1000000000.0000</td>\n",
              "      <td>47160</td>\n",
              "      <td>2017-03-27</td>\n",
              "      <td>Shop</td>\n",
              "      <td>2280.0000</td>\n",
              "      <td>0.0684</td>\n",
              "    </tr>\n",
              "    <tr>\n",
              "      <th>8010077f857d</th>\n",
              "      <td>Самарская область</td>\n",
              "      <td>Недвижимость</td>\n",
              "      <td>ХАРАКТЕРИСТИКА ОБЪЕКТА/\\n /\\nОбъект – здание у...</td>\n",
              "      <td>652400000.0000</td>\n",
              "      <td>62</td>\n",
              "      <td>2017-03-16</td>\n",
              "      <td>Shop</td>\n",
              "      <td>2218.0000</td>\n",
              "      <td>0.0000</td>\n",
              "    </tr>\n",
              "    <tr>\n",
              "      <th>e4c27e48bd61</th>\n",
              "      <td>Ставропольский край</td>\n",
              "      <td>Недвижимость</td>\n",
              "      <td>Участок 14га, собственность, все центральные к...</td>\n",
              "      <td>630000000.0000</td>\n",
              "      <td>290</td>\n",
              "      <td>2017-03-27</td>\n",
              "      <td>Company</td>\n",
              "      <td>1610.0000</td>\n",
              "      <td>0.2472</td>\n",
              "    </tr>\n",
              "    <tr>\n",
              "      <th>252fe752daaf</th>\n",
              "      <td>Краснодарский край</td>\n",
              "      <td>Недвижимость</td>\n",
              "      <td>подробности по запросу</td>\n",
              "      <td>589540000.0000</td>\n",
              "      <td>35796</td>\n",
              "      <td>2017-03-15</td>\n",
              "      <td>Company</td>\n",
              "      <td>1698.0000</td>\n",
              "      <td>0.0857</td>\n",
              "    </tr>\n",
              "    <tr>\n",
              "      <th>0b506337759f</th>\n",
              "      <td>Краснодарский край</td>\n",
              "      <td>Недвижимость</td>\n",
              "      <td>Предлагается к продаже земельный участок в Эли...</td>\n",
              "      <td>500000000.0000</td>\n",
              "      <td>66</td>\n",
              "      <td>2017-03-27</td>\n",
              "      <td>Company</td>\n",
              "      <td>2218.0000</td>\n",
              "      <td>0.0000</td>\n",
              "    </tr>\n",
              "    <tr>\n",
              "      <th>fce21a488c96</th>\n",
              "      <td>Краснодарский край</td>\n",
              "      <td>Недвижимость</td>\n",
              "      <td>Продаю участок в Красной Поляне 3.2гектара, на...</td>\n",
              "      <td>500000000.0000</td>\n",
              "      <td>93</td>\n",
              "      <td>2017-03-27</td>\n",
              "      <td>Company</td>\n",
              "      <td>1317.0000</td>\n",
              "      <td>0.0510</td>\n",
              "    </tr>\n",
              "    <tr>\n",
              "      <th>772e674791d3</th>\n",
              "      <td>Краснодарский край</td>\n",
              "      <td>Недвижимость</td>\n",
              "      <td>Продаю участок в красной поляне 5 гектар, нахо...</td>\n",
              "      <td>500000000.0000</td>\n",
              "      <td>94</td>\n",
              "      <td>2017-03-27</td>\n",
              "      <td>Company</td>\n",
              "      <td>2280.0000</td>\n",
              "      <td>0.0857</td>\n",
              "    </tr>\n",
              "    <tr>\n",
              "      <th>13744776a882</th>\n",
              "      <td>Краснодарский край</td>\n",
              "      <td>Недвижимость</td>\n",
              "      <td>Нижнеимеретинская бухта !!!/\\n/\\n6-тиэтажный ж...</td>\n",
              "      <td>467000000.0000</td>\n",
              "      <td>1</td>\n",
              "      <td>2017-03-25</td>\n",
              "      <td>Private</td>\n",
              "      <td>2218.0000</td>\n",
              "      <td>0.0000</td>\n",
              "    </tr>\n",
              "  </tbody>\n",
              "</table>\n",
              "</div>\n",
              "      <button class=\"colab-df-convert\" onclick=\"convertToInteractive('df-225a03fd-51d5-48ab-8cfe-bb7911d6e34e')\"\n",
              "              title=\"Convert this dataframe to an interactive table.\"\n",
              "              style=\"display:none;\">\n",
              "        \n",
              "  <svg xmlns=\"http://www.w3.org/2000/svg\" height=\"24px\"viewBox=\"0 0 24 24\"\n",
              "       width=\"24px\">\n",
              "    <path d=\"M0 0h24v24H0V0z\" fill=\"none\"/>\n",
              "    <path d=\"M18.56 5.44l.94 2.06.94-2.06 2.06-.94-2.06-.94-.94-2.06-.94 2.06-2.06.94zm-11 1L8.5 8.5l.94-2.06 2.06-.94-2.06-.94L8.5 2.5l-.94 2.06-2.06.94zm10 10l.94 2.06.94-2.06 2.06-.94-2.06-.94-.94-2.06-.94 2.06-2.06.94z\"/><path d=\"M17.41 7.96l-1.37-1.37c-.4-.4-.92-.59-1.43-.59-.52 0-1.04.2-1.43.59L10.3 9.45l-7.72 7.72c-.78.78-.78 2.05 0 2.83L4 21.41c.39.39.9.59 1.41.59.51 0 1.02-.2 1.41-.59l7.78-7.78 2.81-2.81c.8-.78.8-2.07 0-2.86zM5.41 20L4 18.59l7.72-7.72 1.47 1.35L5.41 20z\"/>\n",
              "  </svg>\n",
              "      </button>\n",
              "      \n",
              "  <style>\n",
              "    .colab-df-container {\n",
              "      display:flex;\n",
              "      flex-wrap:wrap;\n",
              "      gap: 12px;\n",
              "    }\n",
              "\n",
              "    .colab-df-convert {\n",
              "      background-color: #E8F0FE;\n",
              "      border: none;\n",
              "      border-radius: 50%;\n",
              "      cursor: pointer;\n",
              "      display: none;\n",
              "      fill: #1967D2;\n",
              "      height: 32px;\n",
              "      padding: 0 0 0 0;\n",
              "      width: 32px;\n",
              "    }\n",
              "\n",
              "    .colab-df-convert:hover {\n",
              "      background-color: #E2EBFA;\n",
              "      box-shadow: 0px 1px 2px rgba(60, 64, 67, 0.3), 0px 1px 3px 1px rgba(60, 64, 67, 0.15);\n",
              "      fill: #174EA6;\n",
              "    }\n",
              "\n",
              "    [theme=dark] .colab-df-convert {\n",
              "      background-color: #3B4455;\n",
              "      fill: #D2E3FC;\n",
              "    }\n",
              "\n",
              "    [theme=dark] .colab-df-convert:hover {\n",
              "      background-color: #434B5C;\n",
              "      box-shadow: 0px 1px 3px 1px rgba(0, 0, 0, 0.15);\n",
              "      filter: drop-shadow(0px 1px 2px rgba(0, 0, 0, 0.3));\n",
              "      fill: #FFFFFF;\n",
              "    }\n",
              "  </style>\n",
              "\n",
              "      <script>\n",
              "        const buttonEl =\n",
              "          document.querySelector('#df-225a03fd-51d5-48ab-8cfe-bb7911d6e34e button.colab-df-convert');\n",
              "        buttonEl.style.display =\n",
              "          google.colab.kernel.accessAllowed ? 'block' : 'none';\n",
              "\n",
              "        async function convertToInteractive(key) {\n",
              "          const element = document.querySelector('#df-225a03fd-51d5-48ab-8cfe-bb7911d6e34e');\n",
              "          const dataTable =\n",
              "            await google.colab.kernel.invokeFunction('convertToInteractive',\n",
              "                                                     [key], {});\n",
              "          if (!dataTable) return;\n",
              "\n",
              "          const docLinkHtml = 'Like what you see? Visit the ' +\n",
              "            '<a target=\"_blank\" href=https://colab.research.google.com/notebooks/data_table.ipynb>data table notebook</a>'\n",
              "            + ' to learn more about interactive tables.';\n",
              "          element.innerHTML = '';\n",
              "          dataTable['output_type'] = 'display_data';\n",
              "          await google.colab.output.renderOutput(dataTable, element);\n",
              "          const docLink = document.createElement('div');\n",
              "          docLink.innerHTML = docLinkHtml;\n",
              "          element.appendChild(docLink);\n",
              "        }\n",
              "      </script>\n",
              "    </div>\n",
              "  </div>\n",
              "  "
            ]
          },
          "metadata": {},
          "execution_count": 93
        }
      ]
    },
    {
      "cell_type": "code",
      "source": [
        "data.drop(\"6df9bb4c6120\", inplace=True)  # extremely expensive flat"
      ],
      "metadata": {
        "id": "oAYCNNijpc0u"
      },
      "execution_count": null,
      "outputs": []
    },
    {
      "cell_type": "code",
      "source": [
        "for category in data.parent_category_name.unique():\n",
        "    # iqr, percentile or drop: drop\n",
        "    prior = (data.parent_category_name == category)\n",
        "    percentile = np.percentile(data.loc[data.parent_category_name == category, \"price\"], 99.99)\n",
        "    condition = (data.price > percentile) & prior  # only extreme values dropped\n",
        "    data = data[~condition]\n",
        "\n",
        "data.shape"
      ],
      "metadata": {
        "colab": {
          "base_uri": "https://localhost:8080/"
        },
        "id": "NTuhuRrfmxJl",
        "outputId": "ca6e5930-da73-4efb-fd51-9a3f3e1c44aa"
      },
      "execution_count": null,
      "outputs": [
        {
          "output_type": "execute_result",
          "data": {
            "text/plain": [
              "(1172999, 11)"
            ]
          },
          "metadata": {},
          "execution_count": 13
        }
      ]
    },
    {
      "cell_type": "code",
      "source": [
        "# adversarial check is too computationally expensive: split with parent type - region stratification"
      ],
      "metadata": {
        "id": "1n013n5erw6w"
      },
      "execution_count": null,
      "outputs": []
    },
    {
      "cell_type": "code",
      "source": [
        "data[\"day\"] = data.activation_date.dt.day.astype(\"int\")\n",
        "data[\"weekday\"] = data.activation_date.dt.weekday.astype(\"int\")\n",
        "\n",
        "data.drop(\"activation_date\", axis=1, inplace=True)"
      ],
      "metadata": {
        "id": "dh5XVTlEzgY0"
      },
      "execution_count": null,
      "outputs": []
    },
    {
      "cell_type": "code",
      "source": [
        "region_encoder = LabelEncoder()\n",
        "param_encoder = LabelEncoder()\n",
        "\n",
        "parent_encoder = LabelEncoder()\n",
        "city_encoder = LabelEncoder()\n",
        "\n",
        "data[\"region\"] = region_encoder.fit_transform(data[\"region\"])\n",
        "data[\"param_1\"] = param_encoder.fit_transform(data[\"param_1\"])\n",
        "data[\"city\"] = city_encoder.fit_transform(data[\"city\"])\n",
        "data[\"parent_category_name\"] = parent_encoder.fit_transform(data[\"parent_category_name\"])"
      ],
      "metadata": {
        "id": "5ncK0AYkrBbI"
      },
      "execution_count": null,
      "outputs": []
    },
    {
      "cell_type": "code",
      "source": [
        "# clean text from redundant punctuation and symbols\n",
        "data[\"description\"] = data[\"description\"].apply(preprocessor)  # stop False if ruclip: to preserve context"
      ],
      "metadata": {
        "id": "HFyDFtwRrraL"
      },
      "execution_count": null,
      "outputs": []
    },
    {
      "cell_type": "code",
      "source": [
        "data = pd.get_dummies(data, columns=[\"user_type\"], drop_first=True)"
      ],
      "metadata": {
        "id": "C9G1aSW-zglb"
      },
      "execution_count": null,
      "outputs": []
    },
    {
      "cell_type": "code",
      "source": [
        "data[\"strat\"] = LabelEncoder().fit_transform(data[\"parent_category_name\"].astype(\"str\") + data[\"region\"].astype(\"str\")).astype(\"float\")\n",
        "\n",
        "x_train, x_valid = train_test_split(data, train_size=1_000_000, stratify=data[\"strat\"], random_state=seed)\n",
        "x_valid, x_test = train_test_split(x_valid, train_size=100_000, stratify=x_valid[\"strat\"], random_state=seed)\n",
        "del data; gc.collect()\n",
        "x_train.drop(\"strat\", axis=1, inplace=True)\n",
        "x_valid.drop(\"strat\", axis=1, inplace=True)\n",
        "x_test.drop(\"strat\", axis=1, inplace=True)\n",
        "\n",
        "x_train.shape, x_valid.shape, x_test.shape"
      ],
      "metadata": {
        "colab": {
          "base_uri": "https://localhost:8080/"
        },
        "id": "O3T6PVZ6zzx5",
        "outputId": "cb1f771b-b60a-4f5f-fdbe-14229f46a104"
      },
      "execution_count": null,
      "outputs": [
        {
          "output_type": "execute_result",
          "data": {
            "text/plain": [
              "((1000000, 13), (100000, 13), (72999, 13))"
            ]
          },
          "metadata": {},
          "execution_count": 18
        }
      ]
    },
    {
      "cell_type": "code",
      "source": [
        "city_parent_mean = x_train.groupby([\"city\", \"parent_category_name\"])[\"price\"].mean().reset_index().rename(columns={\"price\": \"city_parent_price\"})"
      ],
      "metadata": {
        "id": "ny8qR0aHqGHf"
      },
      "execution_count": null,
      "outputs": []
    },
    {
      "cell_type": "code",
      "source": [
        "x_train = x_train.merge(city_parent_mean, on=[\"city\", \"parent_category_name\"], how=\"left\")\n",
        "x_valid = x_valid.merge(city_parent_mean, on=[\"city\", \"parent_category_name\"], how=\"left\")\n",
        "x_test = x_test.merge(city_parent_mean, on=[\"city\", \"parent_category_name\"], how=\"left\")  # join is faster\n",
        "\n",
        "x_valid[\"city_parent_price\"].fillna(x_train[\"city_parent_price\"].mean(), inplace=True)\n",
        "x_test[\"city_parent_price\"].fillna(x_train[\"city_parent_price\"].mean(), inplace=True)\n",
        "\n",
        "del city_parent_mean; gc.collect()"
      ],
      "metadata": {
        "id": "EYCdwhX8qhsT",
        "colab": {
          "base_uri": "https://localhost:8080/"
        },
        "outputId": "eb7178cb-bea3-43ee-a36c-654cc7419998"
      },
      "execution_count": null,
      "outputs": [
        {
          "output_type": "execute_result",
          "data": {
            "text/plain": [
              "0"
            ]
          },
          "metadata": {},
          "execution_count": 20
        }
      ]
    },
    {
      "cell_type": "code",
      "source": [
        "# target_encoder = ce.cat_boost.CatBoostEncoder(random_state=seed)  # or practically may be better to add them as embeddings also\n",
        "\n",
        "# x_train[[\"parent_category_name\", \"city\"]] = target_encoder.fit_transform(x_train[[\"parent_category_name\", \"city\"]], x_train[\"deal_probability\"])\n",
        "# x_valid[[\"parent_category_name\", \"city\"]] = target_encoder.transform(x_valid[[\"parent_category_name\", \"city\"]])\n",
        "# x_test[[\"parent_category_name\", \"city\"]] = target_encoder.transform(x_test[[\"parent_category_name\", \"city\"]])"
      ],
      "metadata": {
        "id": "QYhze7SVzgWM"
      },
      "execution_count": null,
      "outputs": []
    },
    {
      "cell_type": "code",
      "source": [
        "columns_to_scale = [\"price\", \"item_seq_number\", \"image_top_1\", \"city_parent_price\"]\n",
        "\n",
        "scaler = StandardScaler()  # or MinMaxScaler to scale in range [0,1], which is closer to catboost encodings\n",
        "\n",
        "x_train[columns_to_scale] = scaler.fit_transform(x_train[columns_to_scale])\n",
        "x_valid[columns_to_scale] = scaler.transform(x_valid[columns_to_scale])\n",
        "x_test[columns_to_scale] = scaler.transform(x_test[columns_to_scale])"
      ],
      "metadata": {
        "id": "PaaQ8ODMzgTw"
      },
      "execution_count": null,
      "outputs": []
    },
    {
      "cell_type": "code",
      "source": [
        "region_embed_dim = x_train.region.nunique()\n",
        "param_embed_dim = x_train.param_1.nunique()\n",
        "day_embed_dim = x_train.day.nunique()\n",
        "weekday_embed_dim = x_train.weekday.nunique()"
      ],
      "metadata": {
        "id": "pLfFH-i66WmF"
      },
      "execution_count": null,
      "outputs": []
    },
    {
      "cell_type": "code",
      "source": [
        "def read_corpus(series, tokens_only=False):\n",
        "    for i, tokens in enumerate(series):\n",
        "        tokens = gensim.utils.simple_preprocess(tokens)\n",
        "        if tokens_only:\n",
        "            yield tokens\n",
        "        else:\n",
        "            yield gensim.models.doc2vec.TaggedDocument(tokens, [i])\n",
        "\n",
        "# train_corpus = list(read_corpus(x_train[\"description\"]))\n",
        "\n",
        "# dmodel = Doc2Vec(vector_size=50, min_count=2, epochs=20, window=10, hs=0, negative=10, alpha=0.03, min_alpha=0.0007, seed=seed)\n",
        "# dmodel.build_vocab(train_corpus)\n",
        "\n",
        "# dmodel.train(train_corpus, total_examples=dmodel.corpus_count, epochs=dmodel.epochs)"
      ],
      "metadata": {
        "id": "4LwZ2S-xrQog"
      },
      "execution_count": null,
      "outputs": []
    },
    {
      "cell_type": "code",
      "source": [
        "class DemandDataset(Dataset):\n",
        "    def __init__(self, data):\n",
        "        data = data.copy(deep=True)\n",
        "        self.data = data.reset_index(drop=True)\n",
        "\n",
        "    def __len__(self):\n",
        "        return len(self.data)\n",
        "\n",
        "    def __getitem__(self, ix):\n",
        "        row = self.data.loc[ix].squeeze()\n",
        "        numerical = row[[\"price\", \"item_seq_number\", \"image_top_1\", \"city_parent_price\", \"user_type_Private\", \"user_type_Shop\"]].values.astype(np.float32)\n",
        "        numerical = torch.as_tensor(numerical, dtype=torch.float32)\n",
        "        region = torch.as_tensor(row[\"region\"], dtype=torch.int32)\n",
        "        param = torch.as_tensor(row[\"param_1\"], dtype=torch.int32)\n",
        "        day = torch.as_tensor(row[\"day\"], dtype=torch.int32)\n",
        "        weekday = torch.as_tensor(row[\"weekday\"], dtype=torch.int32)\n",
        "        city = torch.as_tensor(row[\"city\"], dtype=torch.int32)\n",
        "        parent = torch.as_tensor(row[\"parent_category_name\"], dtype=torch.int32)\n",
        "\n",
        "        target = torch.as_tensor(row[\"deal_probability\"], dtype=torch.float32)\n",
        "        # ruclip\n",
        "        # with torch.no_grad():\n",
        "        #     description = predictor.get_text_latents([row[\"description\"][:500]]).squeeze(0)  # reduce number of tokens as 0.9 quantile = 489 words\n",
        "        description = embed_bert(row[\"description\"][:500], rubert, tokenizer)  # [312]\n",
        "        return numerical, region, param, day, weekday, description, city, parent, target"
      ],
      "metadata": {
        "id": "WZEIviwU_EX0"
      },
      "execution_count": null,
      "outputs": []
    },
    {
      "cell_type": "code",
      "source": [
        "train_ds = DemandDataset(x_train)\n",
        "valid_ds = DemandDataset(x_valid)\n",
        "test_ds = DemandDataset(x_test)\n",
        "\n",
        "train_dl = DataLoader(train_ds, batch_size=256, shuffle=True)\n",
        "valid_dl = DataLoader(valid_ds, batch_size=256, shuffle=False)\n",
        "test_dl = DataLoader(test_ds, batch_size=256, shuffle=False)"
      ],
      "metadata": {
        "id": "BIMF09X9C4C9"
      },
      "execution_count": null,
      "outputs": []
    },
    {
      "cell_type": "code",
      "source": [
        "class ResidualBlock(nn.Module):\n",
        "    \"\"\" Almost classic residual block: x + fn(x) or g(x) + f(x) \"\"\"\n",
        "    def __init__(self, in_channels, out_channels, stride=1, dropout=0.1):\n",
        "        super(ResidualBlock, self).__init__()\n",
        "        self.activation = nn.ReLU()\n",
        "        self.layer1 = nn.Sequential(\n",
        "                            nn.Conv1d(in_channels, out_channels, kernel_size=1, stride=stride, padding=0),\n",
        "                            nn.BatchNorm1d(out_channels),\n",
        "                            nn.ReLU()\n",
        "                )\n",
        "        self.layer2 = nn.Sequential(\n",
        "                            nn.Conv1d(out_channels, out_channels, kernel_size=3, stride=1, padding=1),\n",
        "                            nn.BatchNorm1d(out_channels)\n",
        "                )\n",
        "        if in_channels != out_channels or stride != 1:\n",
        "            self.downsample = nn.Sequential(\n",
        "                                    nn.Conv1d(in_channels, out_channels, kernel_size=1, stride=stride, padding=0),\n",
        "                                    nn.BatchNorm1d(out_channels),\n",
        "                    )\n",
        "        else:\n",
        "            self.downsample = None\n",
        "        self.dropout = nn.Dropout(p=dropout)\n",
        "            \n",
        "    def forward(self, x):\n",
        "        residual = x\n",
        "        x = self.layer1(x)\n",
        "        x = self.layer2(x)\n",
        "        if self.downsample is not None:\n",
        "            residual = self.downsample(residual)\n",
        "        x = x + residual\n",
        "        x = self.activation(x)\n",
        "        x = self.dropout(x)\n",
        "\n",
        "        return x"
      ],
      "metadata": {
        "id": "gJw5Nt2EQzuf"
      },
      "execution_count": null,
      "outputs": []
    },
    {
      "cell_type": "code",
      "source": [
        "class ResidualBlock_(nn.Module):\n",
        "    def __init__(self, in_channels, out_channels, kernel=1, stride=1, padding=0, dropout=0.1):\n",
        "        super(ResidualBlock, self).__init__()\n",
        "        self.layer1 = nn.Sequential(\n",
        "                            nn.Conv1d(in_channels, out_channels, kernel, stride, padding=padding),  # stride=2\n",
        "                            nn.BatchNorm1d(out_channels),\n",
        "                            nn.ReLU(),\n",
        "                            )\n",
        "        self.layer2 = nn.Sequential(\n",
        "                            nn.Conv1d(out_channels, out_channels, kernel, stride, padding=padding),  # stride=1\n",
        "                            nn.BatchNorm1d(out_channels),\n",
        "                            )\n",
        "        if in_channels != out_channels:  # assuming kernel = 1\n",
        "            self.residual = nn.Sequential(\n",
        "                                nn.Conv1d(in_channels, out_channels, kernel, stride, padding=padding),  # stride=2\n",
        "                                nn.BatchNorm1d(out_channels),\n",
        "                                )\n",
        "        else:\n",
        "            self.residual = None\n",
        "        self.activation = nn.ReLU()\n",
        "        self.dropout = nn.Dropout(p=dropout)\n",
        "\n",
        "    def forward(self, x):\n",
        "        residual = x\n",
        "        out = self.layer1(x)\n",
        "        out = self.layer2(out)\n",
        "        if self.residual is not None:\n",
        "            residual = self.residual(residual)  # as we are changing no of channels (resnet: in=out, in!=out+downsample)\n",
        "        out = out + residual\n",
        "        out = self.activation(out)\n",
        "        out = self.dropout(out)\n",
        "        return out\n",
        "\n",
        "class DemandModel(nn.Module):\n",
        "    def __init__(self,\n",
        "                 in_channels=1,\n",
        "                 out_channels=4,  # 32\n",
        "                 num_blocks=4,\n",
        "                 total_dim=386, \n",
        "                 region_embed_dim=region_embed_dim, \n",
        "                 param_embed_dim=param_embed_dim, \n",
        "                 day_embed_dim=31, \n",
        "                 weekday_embed_dim=7, \n",
        "                 city_dim=1692,\n",
        "                 parent_dim=9,\n",
        "                 dropout=0.1):\n",
        "        super(DemandModel, self).__init__()\n",
        "        self.region_emb = nn.Embedding(region_embed_dim, 10)\n",
        "        self.param_emb = nn.Embedding(param_embed_dim, 32)\n",
        "        self.day_emb = nn.Embedding(day_embed_dim, 6)\n",
        "        self.weekday_emb = nn.Embedding(weekday_embed_dim, 2)\n",
        "        self.city_emb = nn.Embedding(city_dim, 16)\n",
        "        self.parent_emb = nn.Embedding(parent_dim, 2)\n",
        "\n",
        "        self.dropout = nn.Dropout(p=dropout)\n",
        "        self.activation = nn.ReLU()\n",
        "        \"\"\"\n",
        "        layers = []\n",
        "        for _ in range(num_blocks):\n",
        "            layers.extend([\n",
        "                    nn.Conv1d(in_channels, out_channels, kernel_size=1, stride=1, padding=0),\n",
        "                    nn.BatchNorm1d(out_channels),\n",
        "                    nn.ReLU(),\n",
        "                    nn.Dropout(p=dropout),\n",
        "            ])\n",
        "            in_channels = out_channels\n",
        "            out_channels = out_channels // 2\n",
        "        self.conv = nn.Sequential(*layers)\n",
        "        \"\"\"\n",
        "        self.projection = nn.Sequential(\n",
        "            nn.Conv1d(in_channels, out_channels, kernel_size=1, stride=1, padding=0),  # in_channels, in_channels\n",
        "            nn.BatchNorm1d(out_channels),  # in_channels\n",
        "            nn.ReLU(),\n",
        "            nn.Dropout(p=dropout),\n",
        "            )\n",
        "        layers = []\n",
        "        in_channels = out_channels\n",
        "        for _ in range(num_blocks):\n",
        "            layers.extend([\n",
        "                    ResidualBlock(in_channels, in_channels, stride=1),\n",
        "                    ResidualBlock(in_channels, out_channels, stride=2),  # stride=1\n",
        "                ])\n",
        "            in_channels = out_channels  # in_channels = out_channels\n",
        "            out_channels *= 2  # out_channels = out_channels // 2\n",
        "        self.residuals = nn.Sequential(*layers)\n",
        "        \n",
        "        in_channels = (out_channels // 2) * 25  # total_dim\n",
        "        self.pool = nn.AvgPool1d(2)\n",
        "        self.batch5 = nn.BatchNorm1d(in_channels // 2)  # in_channels\n",
        "\n",
        "        self.fc1 = nn.Linear(in_channels // 2, in_channels // 4)  # in_cn, in_ch//2\n",
        "        self.batch6 = nn.BatchNorm1d(in_channels // 4)  # in_ch//2\n",
        "        self.fc2 = nn.Linear(in_channels // 4, 1)  # in_ch // 2\n",
        "\n",
        "        self.norm1 = nn.LayerNorm(68)\n",
        "        self.norm2 = nn.LayerNorm(total_dim)\n",
        "        encoder_layer = nn.TransformerEncoderLayer(68,\n",
        "                                                   nhead=2, \n",
        "                                                   dim_feedforward=136, \n",
        "                                                   dropout=dropout,\n",
        "                                                   activation=nn.ReLU(), \n",
        "                                                   batch_first=True,\n",
        "                                                   norm_first=False)\n",
        "        self.transformer = nn.TransformerEncoder(encoder_layer, num_layers=2)\n",
        "\n",
        "        self.apply(self.init_weights)\n",
        "\n",
        "    def init_weights(self, module):\n",
        "        for m in self.modules():\n",
        "            if isinstance(m, nn.Conv1d):\n",
        "                nn.init.kaiming_normal(m.weight, mode='fan_in')\n",
        "                if m.bias is not None:\n",
        "                    nn.init.constant(m.bias, 0)\n",
        "            elif isinstance(m, nn.BatchNorm1d):\n",
        "                nn.init.constant(m.weight, 1)\n",
        "                nn.init.constant(m.bias, 0)\n",
        "            elif isinstance(m, nn.Linear):\n",
        "                nn.init.kaiming_normal(m.weight, mode='fan_in')\n",
        "                if m.bias is not None:\n",
        "                    nn.init.constant(m.bias, 0) \n",
        "\n",
        "    def forward(self, data):\n",
        "        numerical, region, param, day, weekday, description, city, parent = data\n",
        "        batch_size = numerical.size(0)\n",
        "\n",
        "        emb1 = self.region_emb(region)\n",
        "        emb2 = self.param_emb(param)\n",
        "        emb3 = self.day_emb(day)\n",
        "        emb4 = self.weekday_emb(weekday)\n",
        "        emb5 = self.city_emb(city)\n",
        "        emb6 = self.parent_emb(parent)\n",
        "        \n",
        "        emb = torch.cat([emb1, emb2, emb3, emb4, emb5, emb6], dim=1).unsqueeze(1)\n",
        "        emb = self.norm1(emb)\n",
        "        emb = self.transformer(emb).squeeze(1)\n",
        "\n",
        "        x = torch.cat([emb, description, numerical], dim=1).unsqueeze(1)\n",
        "        x = self.norm2(x)\n",
        "        \n",
        "        # x = self.conv(x)\n",
        "        x = self.projection(x)\n",
        "        x = self.residuals(x)\n",
        "\n",
        "        x = x.view(batch_size, -1).contiguous()\n",
        "        x = self.batch5(self.pool(x))\n",
        "\n",
        "        x = self.batch6(self.fc1(x))\n",
        "        x = self.dropout(self.activation(x))\n",
        "\n",
        "        x = self.fc2(x)\n",
        "\n",
        "        return x"
      ],
      "metadata": {
        "id": "usZSrzcCINnG"
      },
      "execution_count": null,
      "outputs": []
    },
    {
      "cell_type": "code",
      "source": [
        "class EarlyStopping:\n",
        "    def __init__(self, patience=8, min_delta=0, path='model.pth'):\n",
        "        self.path = path\n",
        "        self.patience = patience\n",
        "        self.min_delta = min_delta\n",
        "        self.counter = 0\n",
        "        self.best_loss = None\n",
        "        self.early_stop = False\n",
        "\n",
        "    def __call__(self, val_loss, model=None):\n",
        "        if self.best_loss is None:\n",
        "            self.best_loss = val_loss\n",
        "        elif self.best_loss - val_loss > self.min_delta:\n",
        "            checkpoint = {\n",
        "                'model': model,\n",
        "            }\n",
        "            torch.save(checkpoint, self.path)\n",
        "            print(f'Model saved to: {self.path}')\n",
        "            self.best_loss = val_loss\n",
        "            self.counter = 0\n",
        "        elif self.best_loss - val_loss < self.min_delta:\n",
        "            self.counter += 1\n",
        "            print(f\"INFO: Early stopping counter {self.counter} of {self.patience}\")\n",
        "            if self.counter >= self.patience:\n",
        "                print('INFO: Early stopping')\n",
        "                self.early_stop = True"
      ],
      "metadata": {
        "id": "KXQxubh9a-5b"
      },
      "execution_count": null,
      "outputs": []
    },
    {
      "cell_type": "code",
      "source": [
        "model = DemandModel().to(device)\n",
        "# criterion = RMSLE()\n",
        "criterion = RMSE()\n",
        "\n",
        "optimizer = torch.optim.Adam(model.parameters(), lr=0.001)\n",
        "# scheduler = torch.optim.lr_scheduler.ReduceLROnPlateau(optimizer, factor=0.5, patience=5)\n",
        "scheduler = torch.optim.lr_scheduler.CosineAnnealingWarmRestarts(optimizer, T_0=300, eta_min=1e-8)\n",
        "# scheduler = torch.optim.lr_scheduler.StepLR(optimizer, step_size=1)  # for small amount of epochs\n",
        "\n",
        "stopper = EarlyStopping(patience=8)"
      ],
      "metadata": {
        "id": "hnPe_P0KW5f7"
      },
      "execution_count": null,
      "outputs": []
    },
    {
      "cell_type": "code",
      "source": [
        "def train_one_batch(data, model, optimizer, criterion):\n",
        "    model.train()\n",
        "    data = [p.to(device) for p in data]\n",
        "    \n",
        "    optimizer.zero_grad()\n",
        "    out = model(data[:-1])\n",
        "    \n",
        "    loss = criterion(out, data[-1]) \n",
        "\n",
        "    loss.backward()\n",
        "    optimizer.step()\n",
        "    # torch.nn.utils.clip_grad_norm_(model.parameters(), 1.0)\n",
        "    \n",
        "    return loss.item()\n",
        "\n",
        "@torch.no_grad()\n",
        "def validate_one_batch(data, model, criterion):\n",
        "    model.eval()\n",
        "    data = [p.to(device) for p in data]\n",
        "\n",
        "    out = model(data[:-1])\n",
        "    \n",
        "    loss = criterion(out, data[-1])\n",
        "    \n",
        "    return loss.item()"
      ],
      "metadata": {
        "id": "6G6z0Uh2blGN"
      },
      "execution_count": null,
      "outputs": []
    },
    {
      "cell_type": "code",
      "source": [
        "import time\n",
        "epochs = 3  # 50\n",
        "print_freq = 300\n",
        "\n",
        "for epoch in range(1, epochs+1):\n",
        "\n",
        "    train_loss = []\n",
        "    for step, batch in enumerate(train_dl, 1):\n",
        "        time_1 = time.time()\n",
        "        \n",
        "        loss = train_one_batch(batch, model, optimizer, criterion)\n",
        "\n",
        "        train_loss.append(loss)\n",
        "        \n",
        "        if step % print_freq == 0:\n",
        "            print('epoch:', epoch, \n",
        "                  '\\tstep:', step+1, '/', len(train_dl) + 1,\n",
        "                  '\\ttrain loss:', '{:.4f}'.format(loss),\n",
        "                  '\\ttime:', '{:.4f}'.format((time.time()-time_1)*print_freq), 's')\n",
        "    \n",
        "    valid_loss, valid_accs = [], []\n",
        "    for step, batch in enumerate(tqdm(valid_dl)):\n",
        "        loss = validate_one_batch(batch, model, criterion)\n",
        "        \n",
        "        valid_loss.append(loss)\n",
        "        \n",
        "    print('epoch:', epoch, '/', epochs+1,\n",
        "          '\\ttrain loss:', '{:.4f}'.format(np.mean(train_loss)),\n",
        "          '\\tvalid loss:', '{:.4f}'.format(np.mean(valid_loss)))\n",
        "        \n",
        "    stopper(np.mean(valid_loss))\n",
        "    scheduler.step(np.mean(valid_loss))"
      ],
      "metadata": {
        "colab": {
          "base_uri": "https://localhost:8080/",
          "height": 451
        },
        "id": "A_V7F6krbJXu",
        "outputId": "e2b7faf2-1fb9-49e4-e9f2-d56df751e595"
      },
      "execution_count": null,
      "outputs": [
        {
          "output_type": "stream",
          "name": "stdout",
          "text": [
            "epoch: 1 \tstep: 301 / 3908 \ttrain loss: 0.2889 \ttime: 15.2383 s\n",
            "epoch: 1 \tstep: 601 / 3908 \ttrain loss: 0.2799 \ttime: 15.7920 s\n",
            "epoch: 1 \tstep: 901 / 3908 \ttrain loss: 0.2590 \ttime: 15.0935 s\n",
            "epoch: 1 \tstep: 1201 / 3908 \ttrain loss: 0.2535 \ttime: 15.0815 s\n"
          ]
        },
        {
          "output_type": "error",
          "ename": "KeyboardInterrupt",
          "evalue": "ignored",
          "traceback": [
            "\u001b[0;31m---------------------------------------------------------------------------\u001b[0m",
            "\u001b[0;31mKeyboardInterrupt\u001b[0m                         Traceback (most recent call last)",
            "\u001b[0;32m<ipython-input-31-e717c2578593>\u001b[0m in \u001b[0;36m<module>\u001b[0;34m\u001b[0m\n\u001b[1;32m      6\u001b[0m \u001b[0;34m\u001b[0m\u001b[0m\n\u001b[1;32m      7\u001b[0m     \u001b[0mtrain_loss\u001b[0m \u001b[0;34m=\u001b[0m \u001b[0;34m[\u001b[0m\u001b[0;34m]\u001b[0m\u001b[0;34m\u001b[0m\u001b[0;34m\u001b[0m\u001b[0m\n\u001b[0;32m----> 8\u001b[0;31m     \u001b[0;32mfor\u001b[0m \u001b[0mstep\u001b[0m\u001b[0;34m,\u001b[0m \u001b[0mbatch\u001b[0m \u001b[0;32min\u001b[0m \u001b[0menumerate\u001b[0m\u001b[0;34m(\u001b[0m\u001b[0mtrain_dl\u001b[0m\u001b[0;34m,\u001b[0m \u001b[0;36m1\u001b[0m\u001b[0;34m)\u001b[0m\u001b[0;34m:\u001b[0m\u001b[0;34m\u001b[0m\u001b[0;34m\u001b[0m\u001b[0m\n\u001b[0m\u001b[1;32m      9\u001b[0m         \u001b[0mtime_1\u001b[0m \u001b[0;34m=\u001b[0m \u001b[0mtime\u001b[0m\u001b[0;34m.\u001b[0m\u001b[0mtime\u001b[0m\u001b[0;34m(\u001b[0m\u001b[0;34m)\u001b[0m\u001b[0;34m\u001b[0m\u001b[0;34m\u001b[0m\u001b[0m\n\u001b[1;32m     10\u001b[0m \u001b[0;34m\u001b[0m\u001b[0m\n",
            "\u001b[0;32m/usr/local/lib/python3.8/dist-packages/torch/utils/data/dataloader.py\u001b[0m in \u001b[0;36m__next__\u001b[0;34m(self)\u001b[0m\n\u001b[1;32m    679\u001b[0m                 \u001b[0;31m# TODO(https://github.com/pytorch/pytorch/issues/76750)\u001b[0m\u001b[0;34m\u001b[0m\u001b[0;34m\u001b[0m\u001b[0;34m\u001b[0m\u001b[0m\n\u001b[1;32m    680\u001b[0m                 \u001b[0mself\u001b[0m\u001b[0;34m.\u001b[0m\u001b[0m_reset\u001b[0m\u001b[0;34m(\u001b[0m\u001b[0;34m)\u001b[0m  \u001b[0;31m# type: ignore[call-arg]\u001b[0m\u001b[0;34m\u001b[0m\u001b[0;34m\u001b[0m\u001b[0m\n\u001b[0;32m--> 681\u001b[0;31m             \u001b[0mdata\u001b[0m \u001b[0;34m=\u001b[0m \u001b[0mself\u001b[0m\u001b[0;34m.\u001b[0m\u001b[0m_next_data\u001b[0m\u001b[0;34m(\u001b[0m\u001b[0;34m)\u001b[0m\u001b[0;34m\u001b[0m\u001b[0;34m\u001b[0m\u001b[0m\n\u001b[0m\u001b[1;32m    682\u001b[0m             \u001b[0mself\u001b[0m\u001b[0;34m.\u001b[0m\u001b[0m_num_yielded\u001b[0m \u001b[0;34m+=\u001b[0m \u001b[0;36m1\u001b[0m\u001b[0;34m\u001b[0m\u001b[0;34m\u001b[0m\u001b[0m\n\u001b[1;32m    683\u001b[0m             \u001b[0;32mif\u001b[0m \u001b[0mself\u001b[0m\u001b[0;34m.\u001b[0m\u001b[0m_dataset_kind\u001b[0m \u001b[0;34m==\u001b[0m \u001b[0m_DatasetKind\u001b[0m\u001b[0;34m.\u001b[0m\u001b[0mIterable\u001b[0m \u001b[0;32mand\u001b[0m\u001b[0;31m \u001b[0m\u001b[0;31m\\\u001b[0m\u001b[0;34m\u001b[0m\u001b[0;34m\u001b[0m\u001b[0m\n",
            "\u001b[0;32m/usr/local/lib/python3.8/dist-packages/torch/utils/data/dataloader.py\u001b[0m in \u001b[0;36m_next_data\u001b[0;34m(self)\u001b[0m\n\u001b[1;32m    719\u001b[0m     \u001b[0;32mdef\u001b[0m \u001b[0m_next_data\u001b[0m\u001b[0;34m(\u001b[0m\u001b[0mself\u001b[0m\u001b[0;34m)\u001b[0m\u001b[0;34m:\u001b[0m\u001b[0;34m\u001b[0m\u001b[0;34m\u001b[0m\u001b[0m\n\u001b[1;32m    720\u001b[0m         \u001b[0mindex\u001b[0m \u001b[0;34m=\u001b[0m \u001b[0mself\u001b[0m\u001b[0;34m.\u001b[0m\u001b[0m_next_index\u001b[0m\u001b[0;34m(\u001b[0m\u001b[0;34m)\u001b[0m  \u001b[0;31m# may raise StopIteration\u001b[0m\u001b[0;34m\u001b[0m\u001b[0;34m\u001b[0m\u001b[0m\n\u001b[0;32m--> 721\u001b[0;31m         \u001b[0mdata\u001b[0m \u001b[0;34m=\u001b[0m \u001b[0mself\u001b[0m\u001b[0;34m.\u001b[0m\u001b[0m_dataset_fetcher\u001b[0m\u001b[0;34m.\u001b[0m\u001b[0mfetch\u001b[0m\u001b[0;34m(\u001b[0m\u001b[0mindex\u001b[0m\u001b[0;34m)\u001b[0m  \u001b[0;31m# may raise StopIteration\u001b[0m\u001b[0;34m\u001b[0m\u001b[0;34m\u001b[0m\u001b[0m\n\u001b[0m\u001b[1;32m    722\u001b[0m         \u001b[0;32mif\u001b[0m \u001b[0mself\u001b[0m\u001b[0;34m.\u001b[0m\u001b[0m_pin_memory\u001b[0m\u001b[0;34m:\u001b[0m\u001b[0;34m\u001b[0m\u001b[0;34m\u001b[0m\u001b[0m\n\u001b[1;32m    723\u001b[0m             \u001b[0mdata\u001b[0m \u001b[0;34m=\u001b[0m \u001b[0m_utils\u001b[0m\u001b[0;34m.\u001b[0m\u001b[0mpin_memory\u001b[0m\u001b[0;34m.\u001b[0m\u001b[0mpin_memory\u001b[0m\u001b[0;34m(\u001b[0m\u001b[0mdata\u001b[0m\u001b[0;34m,\u001b[0m \u001b[0mself\u001b[0m\u001b[0;34m.\u001b[0m\u001b[0m_pin_memory_device\u001b[0m\u001b[0;34m)\u001b[0m\u001b[0;34m\u001b[0m\u001b[0;34m\u001b[0m\u001b[0m\n",
            "\u001b[0;32m/usr/local/lib/python3.8/dist-packages/torch/utils/data/_utils/fetch.py\u001b[0m in \u001b[0;36mfetch\u001b[0;34m(self, possibly_batched_index)\u001b[0m\n\u001b[1;32m     47\u001b[0m     \u001b[0;32mdef\u001b[0m \u001b[0mfetch\u001b[0m\u001b[0;34m(\u001b[0m\u001b[0mself\u001b[0m\u001b[0;34m,\u001b[0m \u001b[0mpossibly_batched_index\u001b[0m\u001b[0;34m)\u001b[0m\u001b[0;34m:\u001b[0m\u001b[0;34m\u001b[0m\u001b[0;34m\u001b[0m\u001b[0m\n\u001b[1;32m     48\u001b[0m         \u001b[0;32mif\u001b[0m \u001b[0mself\u001b[0m\u001b[0;34m.\u001b[0m\u001b[0mauto_collation\u001b[0m\u001b[0;34m:\u001b[0m\u001b[0;34m\u001b[0m\u001b[0;34m\u001b[0m\u001b[0m\n\u001b[0;32m---> 49\u001b[0;31m             \u001b[0mdata\u001b[0m \u001b[0;34m=\u001b[0m \u001b[0;34m[\u001b[0m\u001b[0mself\u001b[0m\u001b[0;34m.\u001b[0m\u001b[0mdataset\u001b[0m\u001b[0;34m[\u001b[0m\u001b[0midx\u001b[0m\u001b[0;34m]\u001b[0m \u001b[0;32mfor\u001b[0m \u001b[0midx\u001b[0m \u001b[0;32min\u001b[0m \u001b[0mpossibly_batched_index\u001b[0m\u001b[0;34m]\u001b[0m\u001b[0;34m\u001b[0m\u001b[0;34m\u001b[0m\u001b[0m\n\u001b[0m\u001b[1;32m     50\u001b[0m         \u001b[0;32melse\u001b[0m\u001b[0;34m:\u001b[0m\u001b[0;34m\u001b[0m\u001b[0;34m\u001b[0m\u001b[0m\n\u001b[1;32m     51\u001b[0m             \u001b[0mdata\u001b[0m \u001b[0;34m=\u001b[0m \u001b[0mself\u001b[0m\u001b[0;34m.\u001b[0m\u001b[0mdataset\u001b[0m\u001b[0;34m[\u001b[0m\u001b[0mpossibly_batched_index\u001b[0m\u001b[0;34m]\u001b[0m\u001b[0;34m\u001b[0m\u001b[0;34m\u001b[0m\u001b[0m\n",
            "\u001b[0;32m/usr/local/lib/python3.8/dist-packages/torch/utils/data/_utils/fetch.py\u001b[0m in \u001b[0;36m<listcomp>\u001b[0;34m(.0)\u001b[0m\n\u001b[1;32m     47\u001b[0m     \u001b[0;32mdef\u001b[0m \u001b[0mfetch\u001b[0m\u001b[0;34m(\u001b[0m\u001b[0mself\u001b[0m\u001b[0;34m,\u001b[0m \u001b[0mpossibly_batched_index\u001b[0m\u001b[0;34m)\u001b[0m\u001b[0;34m:\u001b[0m\u001b[0;34m\u001b[0m\u001b[0;34m\u001b[0m\u001b[0m\n\u001b[1;32m     48\u001b[0m         \u001b[0;32mif\u001b[0m \u001b[0mself\u001b[0m\u001b[0;34m.\u001b[0m\u001b[0mauto_collation\u001b[0m\u001b[0;34m:\u001b[0m\u001b[0;34m\u001b[0m\u001b[0;34m\u001b[0m\u001b[0m\n\u001b[0;32m---> 49\u001b[0;31m             \u001b[0mdata\u001b[0m \u001b[0;34m=\u001b[0m \u001b[0;34m[\u001b[0m\u001b[0mself\u001b[0m\u001b[0;34m.\u001b[0m\u001b[0mdataset\u001b[0m\u001b[0;34m[\u001b[0m\u001b[0midx\u001b[0m\u001b[0;34m]\u001b[0m \u001b[0;32mfor\u001b[0m \u001b[0midx\u001b[0m \u001b[0;32min\u001b[0m \u001b[0mpossibly_batched_index\u001b[0m\u001b[0;34m]\u001b[0m\u001b[0;34m\u001b[0m\u001b[0;34m\u001b[0m\u001b[0m\n\u001b[0m\u001b[1;32m     50\u001b[0m         \u001b[0;32melse\u001b[0m\u001b[0;34m:\u001b[0m\u001b[0;34m\u001b[0m\u001b[0;34m\u001b[0m\u001b[0m\n\u001b[1;32m     51\u001b[0m             \u001b[0mdata\u001b[0m \u001b[0;34m=\u001b[0m \u001b[0mself\u001b[0m\u001b[0;34m.\u001b[0m\u001b[0mdataset\u001b[0m\u001b[0;34m[\u001b[0m\u001b[0mpossibly_batched_index\u001b[0m\u001b[0;34m]\u001b[0m\u001b[0;34m\u001b[0m\u001b[0;34m\u001b[0m\u001b[0m\n",
            "\u001b[0;32m<ipython-input-23-a722b3142096>\u001b[0m in \u001b[0;36m__getitem__\u001b[0;34m(self, ix)\u001b[0m\n\u001b[1;32m     22\u001b[0m         \u001b[0;31m# with torch.no_grad():\u001b[0m\u001b[0;34m\u001b[0m\u001b[0;34m\u001b[0m\u001b[0;34m\u001b[0m\u001b[0m\n\u001b[1;32m     23\u001b[0m         \u001b[0;31m#     description = predictor.get_text_latents([row[\"description\"][:500]]).squeeze(0)  # reduce number of tokens as 0.9 quantile = 489 words\u001b[0m\u001b[0;34m\u001b[0m\u001b[0;34m\u001b[0m\u001b[0;34m\u001b[0m\u001b[0m\n\u001b[0;32m---> 24\u001b[0;31m         \u001b[0mdescription\u001b[0m \u001b[0;34m=\u001b[0m \u001b[0membed_bert\u001b[0m\u001b[0;34m(\u001b[0m\u001b[0mrow\u001b[0m\u001b[0;34m[\u001b[0m\u001b[0;34m\"description\"\u001b[0m\u001b[0;34m]\u001b[0m\u001b[0;34m[\u001b[0m\u001b[0;34m:\u001b[0m\u001b[0;36m500\u001b[0m\u001b[0;34m]\u001b[0m\u001b[0;34m,\u001b[0m \u001b[0mrubert\u001b[0m\u001b[0;34m,\u001b[0m \u001b[0mtokenizer\u001b[0m\u001b[0;34m)\u001b[0m  \u001b[0;31m# [312]\u001b[0m\u001b[0;34m\u001b[0m\u001b[0;34m\u001b[0m\u001b[0m\n\u001b[0m\u001b[1;32m     25\u001b[0m         \u001b[0;32mreturn\u001b[0m \u001b[0mnumerical\u001b[0m\u001b[0;34m,\u001b[0m \u001b[0mregion\u001b[0m\u001b[0;34m,\u001b[0m \u001b[0mparam\u001b[0m\u001b[0;34m,\u001b[0m \u001b[0mday\u001b[0m\u001b[0;34m,\u001b[0m \u001b[0mweekday\u001b[0m\u001b[0;34m,\u001b[0m \u001b[0mdescription\u001b[0m\u001b[0;34m,\u001b[0m \u001b[0mcity\u001b[0m\u001b[0;34m,\u001b[0m \u001b[0mparent\u001b[0m\u001b[0;34m,\u001b[0m \u001b[0mtarget\u001b[0m\u001b[0;34m\u001b[0m\u001b[0;34m\u001b[0m\u001b[0m\n",
            "\u001b[0;32m<ipython-input-7-a3f95de204c6>\u001b[0m in \u001b[0;36membed_bert\u001b[0;34m(text, model, tokenizer)\u001b[0m\n\u001b[1;32m     57\u001b[0m     \u001b[0mt\u001b[0m \u001b[0;34m=\u001b[0m \u001b[0mtokenizer\u001b[0m\u001b[0;34m(\u001b[0m\u001b[0mtext\u001b[0m\u001b[0;34m,\u001b[0m \u001b[0mpadding\u001b[0m\u001b[0;34m=\u001b[0m\u001b[0;32mTrue\u001b[0m\u001b[0;34m,\u001b[0m \u001b[0mtruncation\u001b[0m\u001b[0;34m=\u001b[0m\u001b[0;32mTrue\u001b[0m\u001b[0;34m,\u001b[0m \u001b[0mreturn_tensors\u001b[0m\u001b[0;34m=\u001b[0m\u001b[0;34m'pt'\u001b[0m\u001b[0;34m)\u001b[0m\u001b[0;34m\u001b[0m\u001b[0;34m\u001b[0m\u001b[0m\n\u001b[1;32m     58\u001b[0m     \u001b[0;32mwith\u001b[0m \u001b[0mtorch\u001b[0m\u001b[0;34m.\u001b[0m\u001b[0mno_grad\u001b[0m\u001b[0;34m(\u001b[0m\u001b[0;34m)\u001b[0m\u001b[0;34m:\u001b[0m\u001b[0;34m\u001b[0m\u001b[0;34m\u001b[0m\u001b[0m\n\u001b[0;32m---> 59\u001b[0;31m         \u001b[0mmodel_output\u001b[0m \u001b[0;34m=\u001b[0m \u001b[0mmodel\u001b[0m\u001b[0;34m(\u001b[0m\u001b[0;34m**\u001b[0m\u001b[0;34m{\u001b[0m\u001b[0mk\u001b[0m\u001b[0;34m:\u001b[0m \u001b[0mv\u001b[0m\u001b[0;34m.\u001b[0m\u001b[0mto\u001b[0m\u001b[0;34m(\u001b[0m\u001b[0mmodel\u001b[0m\u001b[0;34m.\u001b[0m\u001b[0mdevice\u001b[0m\u001b[0;34m)\u001b[0m \u001b[0;32mfor\u001b[0m \u001b[0mk\u001b[0m\u001b[0;34m,\u001b[0m \u001b[0mv\u001b[0m \u001b[0;32min\u001b[0m \u001b[0mt\u001b[0m\u001b[0;34m.\u001b[0m\u001b[0mitems\u001b[0m\u001b[0;34m(\u001b[0m\u001b[0;34m)\u001b[0m\u001b[0;34m}\u001b[0m\u001b[0;34m)\u001b[0m\u001b[0;34m\u001b[0m\u001b[0;34m\u001b[0m\u001b[0m\n\u001b[0m\u001b[1;32m     60\u001b[0m     \u001b[0membeddings\u001b[0m \u001b[0;34m=\u001b[0m \u001b[0mmodel_output\u001b[0m\u001b[0;34m.\u001b[0m\u001b[0mlast_hidden_state\u001b[0m\u001b[0;34m[\u001b[0m\u001b[0;34m:\u001b[0m\u001b[0;34m,\u001b[0m \u001b[0;36m0\u001b[0m\u001b[0;34m,\u001b[0m \u001b[0;34m:\u001b[0m\u001b[0;34m]\u001b[0m  \u001b[0;31m# CLS token\u001b[0m\u001b[0;34m\u001b[0m\u001b[0;34m\u001b[0m\u001b[0m\n\u001b[1;32m     61\u001b[0m     \u001b[0membeddings\u001b[0m \u001b[0;34m=\u001b[0m \u001b[0mnn\u001b[0m\u001b[0;34m.\u001b[0m\u001b[0mfunctional\u001b[0m\u001b[0;34m.\u001b[0m\u001b[0mnormalize\u001b[0m\u001b[0;34m(\u001b[0m\u001b[0membeddings\u001b[0m\u001b[0;34m)\u001b[0m\u001b[0;34m\u001b[0m\u001b[0;34m\u001b[0m\u001b[0m\n",
            "\u001b[0;32m/usr/local/lib/python3.8/dist-packages/torch/nn/modules/module.py\u001b[0m in \u001b[0;36m_call_impl\u001b[0;34m(self, *input, **kwargs)\u001b[0m\n\u001b[1;32m   1128\u001b[0m         if not (self._backward_hooks or self._forward_hooks or self._forward_pre_hooks or _global_backward_hooks\n\u001b[1;32m   1129\u001b[0m                 or _global_forward_hooks or _global_forward_pre_hooks):\n\u001b[0;32m-> 1130\u001b[0;31m             \u001b[0;32mreturn\u001b[0m \u001b[0mforward_call\u001b[0m\u001b[0;34m(\u001b[0m\u001b[0;34m*\u001b[0m\u001b[0minput\u001b[0m\u001b[0;34m,\u001b[0m \u001b[0;34m**\u001b[0m\u001b[0mkwargs\u001b[0m\u001b[0;34m)\u001b[0m\u001b[0;34m\u001b[0m\u001b[0;34m\u001b[0m\u001b[0m\n\u001b[0m\u001b[1;32m   1131\u001b[0m         \u001b[0;31m# Do not call functions when jit is used\u001b[0m\u001b[0;34m\u001b[0m\u001b[0;34m\u001b[0m\u001b[0;34m\u001b[0m\u001b[0m\n\u001b[1;32m   1132\u001b[0m         \u001b[0mfull_backward_hooks\u001b[0m\u001b[0;34m,\u001b[0m \u001b[0mnon_full_backward_hooks\u001b[0m \u001b[0;34m=\u001b[0m \u001b[0;34m[\u001b[0m\u001b[0;34m]\u001b[0m\u001b[0;34m,\u001b[0m \u001b[0;34m[\u001b[0m\u001b[0;34m]\u001b[0m\u001b[0;34m\u001b[0m\u001b[0;34m\u001b[0m\u001b[0m\n",
            "\u001b[0;32m/usr/local/lib/python3.8/dist-packages/transformers/models/bert/modeling_bert.py\u001b[0m in \u001b[0;36mforward\u001b[0;34m(self, input_ids, attention_mask, token_type_ids, position_ids, head_mask, inputs_embeds, encoder_hidden_states, encoder_attention_mask, past_key_values, use_cache, output_attentions, output_hidden_states, return_dict)\u001b[0m\n\u001b[1;32m   1019\u001b[0m             \u001b[0mpast_key_values_length\u001b[0m\u001b[0;34m=\u001b[0m\u001b[0mpast_key_values_length\u001b[0m\u001b[0;34m,\u001b[0m\u001b[0;34m\u001b[0m\u001b[0;34m\u001b[0m\u001b[0m\n\u001b[1;32m   1020\u001b[0m         )\n\u001b[0;32m-> 1021\u001b[0;31m         encoder_outputs = self.encoder(\n\u001b[0m\u001b[1;32m   1022\u001b[0m             \u001b[0membedding_output\u001b[0m\u001b[0;34m,\u001b[0m\u001b[0;34m\u001b[0m\u001b[0;34m\u001b[0m\u001b[0m\n\u001b[1;32m   1023\u001b[0m             \u001b[0mattention_mask\u001b[0m\u001b[0;34m=\u001b[0m\u001b[0mextended_attention_mask\u001b[0m\u001b[0;34m,\u001b[0m\u001b[0;34m\u001b[0m\u001b[0;34m\u001b[0m\u001b[0m\n",
            "\u001b[0;32m/usr/local/lib/python3.8/dist-packages/torch/nn/modules/module.py\u001b[0m in \u001b[0;36m_call_impl\u001b[0;34m(self, *input, **kwargs)\u001b[0m\n\u001b[1;32m   1128\u001b[0m         if not (self._backward_hooks or self._forward_hooks or self._forward_pre_hooks or _global_backward_hooks\n\u001b[1;32m   1129\u001b[0m                 or _global_forward_hooks or _global_forward_pre_hooks):\n\u001b[0;32m-> 1130\u001b[0;31m             \u001b[0;32mreturn\u001b[0m \u001b[0mforward_call\u001b[0m\u001b[0;34m(\u001b[0m\u001b[0;34m*\u001b[0m\u001b[0minput\u001b[0m\u001b[0;34m,\u001b[0m \u001b[0;34m**\u001b[0m\u001b[0mkwargs\u001b[0m\u001b[0;34m)\u001b[0m\u001b[0;34m\u001b[0m\u001b[0;34m\u001b[0m\u001b[0m\n\u001b[0m\u001b[1;32m   1131\u001b[0m         \u001b[0;31m# Do not call functions when jit is used\u001b[0m\u001b[0;34m\u001b[0m\u001b[0;34m\u001b[0m\u001b[0;34m\u001b[0m\u001b[0m\n\u001b[1;32m   1132\u001b[0m         \u001b[0mfull_backward_hooks\u001b[0m\u001b[0;34m,\u001b[0m \u001b[0mnon_full_backward_hooks\u001b[0m \u001b[0;34m=\u001b[0m \u001b[0;34m[\u001b[0m\u001b[0;34m]\u001b[0m\u001b[0;34m,\u001b[0m \u001b[0;34m[\u001b[0m\u001b[0;34m]\u001b[0m\u001b[0;34m\u001b[0m\u001b[0;34m\u001b[0m\u001b[0m\n",
            "\u001b[0;32m/usr/local/lib/python3.8/dist-packages/transformers/models/bert/modeling_bert.py\u001b[0m in \u001b[0;36mforward\u001b[0;34m(self, hidden_states, attention_mask, head_mask, encoder_hidden_states, encoder_attention_mask, past_key_values, use_cache, output_attentions, output_hidden_states, return_dict)\u001b[0m\n\u001b[1;32m    608\u001b[0m                 )\n\u001b[1;32m    609\u001b[0m             \u001b[0;32melse\u001b[0m\u001b[0;34m:\u001b[0m\u001b[0;34m\u001b[0m\u001b[0;34m\u001b[0m\u001b[0m\n\u001b[0;32m--> 610\u001b[0;31m                 layer_outputs = layer_module(\n\u001b[0m\u001b[1;32m    611\u001b[0m                     \u001b[0mhidden_states\u001b[0m\u001b[0;34m,\u001b[0m\u001b[0;34m\u001b[0m\u001b[0;34m\u001b[0m\u001b[0m\n\u001b[1;32m    612\u001b[0m                     \u001b[0mattention_mask\u001b[0m\u001b[0;34m,\u001b[0m\u001b[0;34m\u001b[0m\u001b[0;34m\u001b[0m\u001b[0m\n",
            "\u001b[0;32m/usr/local/lib/python3.8/dist-packages/torch/nn/modules/module.py\u001b[0m in \u001b[0;36m_call_impl\u001b[0;34m(self, *input, **kwargs)\u001b[0m\n\u001b[1;32m   1128\u001b[0m         if not (self._backward_hooks or self._forward_hooks or self._forward_pre_hooks or _global_backward_hooks\n\u001b[1;32m   1129\u001b[0m                 or _global_forward_hooks or _global_forward_pre_hooks):\n\u001b[0;32m-> 1130\u001b[0;31m             \u001b[0;32mreturn\u001b[0m \u001b[0mforward_call\u001b[0m\u001b[0;34m(\u001b[0m\u001b[0;34m*\u001b[0m\u001b[0minput\u001b[0m\u001b[0;34m,\u001b[0m \u001b[0;34m**\u001b[0m\u001b[0mkwargs\u001b[0m\u001b[0;34m)\u001b[0m\u001b[0;34m\u001b[0m\u001b[0;34m\u001b[0m\u001b[0m\n\u001b[0m\u001b[1;32m   1131\u001b[0m         \u001b[0;31m# Do not call functions when jit is used\u001b[0m\u001b[0;34m\u001b[0m\u001b[0;34m\u001b[0m\u001b[0;34m\u001b[0m\u001b[0m\n\u001b[1;32m   1132\u001b[0m         \u001b[0mfull_backward_hooks\u001b[0m\u001b[0;34m,\u001b[0m \u001b[0mnon_full_backward_hooks\u001b[0m \u001b[0;34m=\u001b[0m \u001b[0;34m[\u001b[0m\u001b[0;34m]\u001b[0m\u001b[0;34m,\u001b[0m \u001b[0;34m[\u001b[0m\u001b[0;34m]\u001b[0m\u001b[0;34m\u001b[0m\u001b[0;34m\u001b[0m\u001b[0m\n",
            "\u001b[0;32m/usr/local/lib/python3.8/dist-packages/transformers/models/bert/modeling_bert.py\u001b[0m in \u001b[0;36mforward\u001b[0;34m(self, hidden_states, attention_mask, head_mask, encoder_hidden_states, encoder_attention_mask, past_key_value, output_attentions)\u001b[0m\n\u001b[1;32m    494\u001b[0m         \u001b[0;31m# decoder uni-directional self-attention cached key/values tuple is at positions 1,2\u001b[0m\u001b[0;34m\u001b[0m\u001b[0;34m\u001b[0m\u001b[0;34m\u001b[0m\u001b[0m\n\u001b[1;32m    495\u001b[0m         \u001b[0mself_attn_past_key_value\u001b[0m \u001b[0;34m=\u001b[0m \u001b[0mpast_key_value\u001b[0m\u001b[0;34m[\u001b[0m\u001b[0;34m:\u001b[0m\u001b[0;36m2\u001b[0m\u001b[0;34m]\u001b[0m \u001b[0;32mif\u001b[0m \u001b[0mpast_key_value\u001b[0m \u001b[0;32mis\u001b[0m \u001b[0;32mnot\u001b[0m \u001b[0;32mNone\u001b[0m \u001b[0;32melse\u001b[0m \u001b[0;32mNone\u001b[0m\u001b[0;34m\u001b[0m\u001b[0;34m\u001b[0m\u001b[0m\n\u001b[0;32m--> 496\u001b[0;31m         self_attention_outputs = self.attention(\n\u001b[0m\u001b[1;32m    497\u001b[0m             \u001b[0mhidden_states\u001b[0m\u001b[0;34m,\u001b[0m\u001b[0;34m\u001b[0m\u001b[0;34m\u001b[0m\u001b[0m\n\u001b[1;32m    498\u001b[0m             \u001b[0mattention_mask\u001b[0m\u001b[0;34m,\u001b[0m\u001b[0;34m\u001b[0m\u001b[0;34m\u001b[0m\u001b[0m\n",
            "\u001b[0;32m/usr/local/lib/python3.8/dist-packages/torch/nn/modules/module.py\u001b[0m in \u001b[0;36m_call_impl\u001b[0;34m(self, *input, **kwargs)\u001b[0m\n\u001b[1;32m   1128\u001b[0m         if not (self._backward_hooks or self._forward_hooks or self._forward_pre_hooks or _global_backward_hooks\n\u001b[1;32m   1129\u001b[0m                 or _global_forward_hooks or _global_forward_pre_hooks):\n\u001b[0;32m-> 1130\u001b[0;31m             \u001b[0;32mreturn\u001b[0m \u001b[0mforward_call\u001b[0m\u001b[0;34m(\u001b[0m\u001b[0;34m*\u001b[0m\u001b[0minput\u001b[0m\u001b[0;34m,\u001b[0m \u001b[0;34m**\u001b[0m\u001b[0mkwargs\u001b[0m\u001b[0;34m)\u001b[0m\u001b[0;34m\u001b[0m\u001b[0;34m\u001b[0m\u001b[0m\n\u001b[0m\u001b[1;32m   1131\u001b[0m         \u001b[0;31m# Do not call functions when jit is used\u001b[0m\u001b[0;34m\u001b[0m\u001b[0;34m\u001b[0m\u001b[0;34m\u001b[0m\u001b[0m\n\u001b[1;32m   1132\u001b[0m         \u001b[0mfull_backward_hooks\u001b[0m\u001b[0;34m,\u001b[0m \u001b[0mnon_full_backward_hooks\u001b[0m \u001b[0;34m=\u001b[0m \u001b[0;34m[\u001b[0m\u001b[0;34m]\u001b[0m\u001b[0;34m,\u001b[0m \u001b[0;34m[\u001b[0m\u001b[0;34m]\u001b[0m\u001b[0;34m\u001b[0m\u001b[0;34m\u001b[0m\u001b[0m\n",
            "\u001b[0;32m/usr/local/lib/python3.8/dist-packages/transformers/models/bert/modeling_bert.py\u001b[0m in \u001b[0;36mforward\u001b[0;34m(self, hidden_states, attention_mask, head_mask, encoder_hidden_states, encoder_attention_mask, past_key_value, output_attentions)\u001b[0m\n\u001b[1;32m    424\u001b[0m         \u001b[0moutput_attentions\u001b[0m\u001b[0;34m:\u001b[0m \u001b[0mOptional\u001b[0m\u001b[0;34m[\u001b[0m\u001b[0mbool\u001b[0m\u001b[0;34m]\u001b[0m \u001b[0;34m=\u001b[0m \u001b[0;32mFalse\u001b[0m\u001b[0;34m,\u001b[0m\u001b[0;34m\u001b[0m\u001b[0;34m\u001b[0m\u001b[0m\n\u001b[1;32m    425\u001b[0m     ) -> Tuple[torch.Tensor]:\n\u001b[0;32m--> 426\u001b[0;31m         self_outputs = self.self(\n\u001b[0m\u001b[1;32m    427\u001b[0m             \u001b[0mhidden_states\u001b[0m\u001b[0;34m,\u001b[0m\u001b[0;34m\u001b[0m\u001b[0;34m\u001b[0m\u001b[0m\n\u001b[1;32m    428\u001b[0m             \u001b[0mattention_mask\u001b[0m\u001b[0;34m,\u001b[0m\u001b[0;34m\u001b[0m\u001b[0;34m\u001b[0m\u001b[0m\n",
            "\u001b[0;32m/usr/local/lib/python3.8/dist-packages/torch/nn/modules/module.py\u001b[0m in \u001b[0;36m_call_impl\u001b[0;34m(self, *input, **kwargs)\u001b[0m\n\u001b[1;32m   1128\u001b[0m         if not (self._backward_hooks or self._forward_hooks or self._forward_pre_hooks or _global_backward_hooks\n\u001b[1;32m   1129\u001b[0m                 or _global_forward_hooks or _global_forward_pre_hooks):\n\u001b[0;32m-> 1130\u001b[0;31m             \u001b[0;32mreturn\u001b[0m \u001b[0mforward_call\u001b[0m\u001b[0;34m(\u001b[0m\u001b[0;34m*\u001b[0m\u001b[0minput\u001b[0m\u001b[0;34m,\u001b[0m \u001b[0;34m**\u001b[0m\u001b[0mkwargs\u001b[0m\u001b[0;34m)\u001b[0m\u001b[0;34m\u001b[0m\u001b[0;34m\u001b[0m\u001b[0m\n\u001b[0m\u001b[1;32m   1131\u001b[0m         \u001b[0;31m# Do not call functions when jit is used\u001b[0m\u001b[0;34m\u001b[0m\u001b[0;34m\u001b[0m\u001b[0;34m\u001b[0m\u001b[0m\n\u001b[1;32m   1132\u001b[0m         \u001b[0mfull_backward_hooks\u001b[0m\u001b[0;34m,\u001b[0m \u001b[0mnon_full_backward_hooks\u001b[0m \u001b[0;34m=\u001b[0m \u001b[0;34m[\u001b[0m\u001b[0;34m]\u001b[0m\u001b[0;34m,\u001b[0m \u001b[0;34m[\u001b[0m\u001b[0;34m]\u001b[0m\u001b[0;34m\u001b[0m\u001b[0;34m\u001b[0m\u001b[0m\n",
            "\u001b[0;32m/usr/local/lib/python3.8/dist-packages/transformers/models/bert/modeling_bert.py\u001b[0m in \u001b[0;36mforward\u001b[0;34m(self, hidden_states, attention_mask, head_mask, encoder_hidden_states, encoder_attention_mask, past_key_value, output_attentions)\u001b[0m\n\u001b[1;32m    352\u001b[0m \u001b[0;34m\u001b[0m\u001b[0m\n\u001b[1;32m    353\u001b[0m         \u001b[0;31m# Normalize the attention scores to probabilities.\u001b[0m\u001b[0;34m\u001b[0m\u001b[0;34m\u001b[0m\u001b[0;34m\u001b[0m\u001b[0m\n\u001b[0;32m--> 354\u001b[0;31m         \u001b[0mattention_probs\u001b[0m \u001b[0;34m=\u001b[0m \u001b[0mnn\u001b[0m\u001b[0;34m.\u001b[0m\u001b[0mfunctional\u001b[0m\u001b[0;34m.\u001b[0m\u001b[0msoftmax\u001b[0m\u001b[0;34m(\u001b[0m\u001b[0mattention_scores\u001b[0m\u001b[0;34m,\u001b[0m \u001b[0mdim\u001b[0m\u001b[0;34m=\u001b[0m\u001b[0;34m-\u001b[0m\u001b[0;36m1\u001b[0m\u001b[0;34m)\u001b[0m\u001b[0;34m\u001b[0m\u001b[0;34m\u001b[0m\u001b[0m\n\u001b[0m\u001b[1;32m    355\u001b[0m \u001b[0;34m\u001b[0m\u001b[0m\n\u001b[1;32m    356\u001b[0m         \u001b[0;31m# This is actually dropping out entire tokens to attend to, which might\u001b[0m\u001b[0;34m\u001b[0m\u001b[0;34m\u001b[0m\u001b[0;34m\u001b[0m\u001b[0m\n",
            "\u001b[0;32m/usr/local/lib/python3.8/dist-packages/torch/nn/functional.py\u001b[0m in \u001b[0;36msoftmax\u001b[0;34m(input, dim, _stacklevel, dtype)\u001b[0m\n\u001b[1;32m   1832\u001b[0m         \u001b[0mdim\u001b[0m \u001b[0;34m=\u001b[0m \u001b[0m_get_softmax_dim\u001b[0m\u001b[0;34m(\u001b[0m\u001b[0;34m\"softmax\"\u001b[0m\u001b[0;34m,\u001b[0m \u001b[0minput\u001b[0m\u001b[0;34m.\u001b[0m\u001b[0mdim\u001b[0m\u001b[0;34m(\u001b[0m\u001b[0;34m)\u001b[0m\u001b[0;34m,\u001b[0m \u001b[0m_stacklevel\u001b[0m\u001b[0;34m)\u001b[0m\u001b[0;34m\u001b[0m\u001b[0;34m\u001b[0m\u001b[0m\n\u001b[1;32m   1833\u001b[0m     \u001b[0;32mif\u001b[0m \u001b[0mdtype\u001b[0m \u001b[0;32mis\u001b[0m \u001b[0;32mNone\u001b[0m\u001b[0;34m:\u001b[0m\u001b[0;34m\u001b[0m\u001b[0;34m\u001b[0m\u001b[0m\n\u001b[0;32m-> 1834\u001b[0;31m         \u001b[0mret\u001b[0m \u001b[0;34m=\u001b[0m \u001b[0minput\u001b[0m\u001b[0;34m.\u001b[0m\u001b[0msoftmax\u001b[0m\u001b[0;34m(\u001b[0m\u001b[0mdim\u001b[0m\u001b[0;34m)\u001b[0m\u001b[0;34m\u001b[0m\u001b[0;34m\u001b[0m\u001b[0m\n\u001b[0m\u001b[1;32m   1835\u001b[0m     \u001b[0;32melse\u001b[0m\u001b[0;34m:\u001b[0m\u001b[0;34m\u001b[0m\u001b[0;34m\u001b[0m\u001b[0m\n\u001b[1;32m   1836\u001b[0m         \u001b[0mret\u001b[0m \u001b[0;34m=\u001b[0m \u001b[0minput\u001b[0m\u001b[0;34m.\u001b[0m\u001b[0msoftmax\u001b[0m\u001b[0;34m(\u001b[0m\u001b[0mdim\u001b[0m\u001b[0;34m,\u001b[0m \u001b[0mdtype\u001b[0m\u001b[0;34m=\u001b[0m\u001b[0mdtype\u001b[0m\u001b[0;34m)\u001b[0m\u001b[0;34m\u001b[0m\u001b[0;34m\u001b[0m\u001b[0m\n",
            "\u001b[0;31mKeyboardInterrupt\u001b[0m: "
          ]
        }
      ]
    },
    {
      "cell_type": "code",
      "source": [
        "# try RMSProp, SGD"
      ],
      "metadata": {
        "id": "p5JYLG7ZW5do"
      },
      "execution_count": null,
      "outputs": []
    },
    {
      "cell_type": "code",
      "source": [
        "# test test with RMSLE\n",
        "metric = RMSLE()\n",
        "test_preds, losses = [], []\n",
        "model.eval()\n",
        "\n",
        "with torch.no_grad():\n",
        "    for i, batch in enumerate(tqdm(test_dl)):\n",
        "        \n",
        "        data = [p.to(device) for p in batch]\n",
        "        target = data[-1]\n",
        "\n",
        "        out = model(data[:-1])\n",
        "\n",
        "        loss = criterion(out, target)\n",
        "        mvalue = metric(out, target).item()\n",
        "        losses.append(loss.item())\n",
        "        test_preds.append(mvalue)\n",
        "\n",
        "test_preds = pd.Series(data=test_preds).fillna(0.).mean()\n",
        "losses = np.mean(losses)\n",
        "\n",
        "print(f\"test losses: {losses:.4f}, predictions: {test_preds:.4f}\")"
      ],
      "metadata": {
        "colab": {
          "base_uri": "https://localhost:8080/"
        },
        "id": "34yBuW9hipjI",
        "outputId": "79c5cba4-4801-4bf0-f9f7-9354553155d7"
      },
      "execution_count": null,
      "outputs": [
        {
          "output_type": "stream",
          "name": "stderr",
          "text": [
            "100%|██████████| 286/286 [13:47<00:00,  2.89s/it]"
          ]
        },
        {
          "output_type": "stream",
          "name": "stdout",
          "text": [
            "test losses: 0.2635, predictions: 1.0196\n"
          ]
        },
        {
          "output_type": "stream",
          "name": "stderr",
          "text": [
            "\n"
          ]
        }
      ]
    },
    {
      "cell_type": "code",
      "source": [
        "# poor"
      ],
      "metadata": {
        "id": "hd7XOUkDEVjE"
      },
      "execution_count": null,
      "outputs": []
    },
    {
      "cell_type": "markdown",
      "source": [
        "### CatBoost"
      ],
      "metadata": {
        "id": "N0mcSZNm_P8l"
      }
    },
    {
      "cell_type": "code",
      "source": [
        "# better solve this task with e.g. CatBoostRegressor"
      ],
      "metadata": {
        "id": "EHkUdAu2t_3b"
      },
      "execution_count": null,
      "outputs": []
    },
    {
      "cell_type": "code",
      "source": [
        "!pip install -qq catboost\n",
        "\n",
        "from catboost import CatBoostRegressor, Pool \n",
        "import catboost\n",
        "from sklearn.metrics import mean_squared_error, mean_squared_log_error"
      ],
      "metadata": {
        "colab": {
          "base_uri": "https://localhost:8080/"
        },
        "id": "mHYQpbJ3t_04",
        "outputId": "c98f4789-97ac-4a78-a3c3-3963fcef650a"
      },
      "execution_count": null,
      "outputs": [
        {
          "output_type": "stream",
          "name": "stdout",
          "text": [
            "\u001b[K     |████████████████████████████████| 76.6 MB 1.2 MB/s \n",
            "\u001b[?25h"
          ]
        }
      ]
    },
    {
      "cell_type": "code",
      "source": [
        "# preprocessing steps...\n",
        "\n",
        "data = pd.read_csv(\"train.csv\", parse_dates=[\"activation_date\"], index_col=\"item_id\", usecols=[\"item_id\", \"region\", \"user_id\", \"parent_category_name\", \"description\", \"price\", \"user_type\", \"param_1\", \"city\",\n",
        "                                                                                               \"item_seq_number\", \"activation_date\", \"category_name\", \"image_top_1\", \"title\", \"deal_probability\"])\n",
        "\n",
        "cat_features = ['region', 'city', 'parent_category_name', 'category_name', 'param_1', 'user_type', 'image_top_1', 'day', 'weekday']\n",
        "text_features = ['title', 'description']\n",
        "\n",
        "data = check_duplicates_and_constants(data)\n",
        "data.dropna(inplace=True)\n",
        "\n",
        "data.drop(\"6df9bb4c6120\", inplace=True)\n",
        "for category in data.parent_category_name.unique():\n",
        "    prior = (data.parent_category_name == category)\n",
        "    percentile = np.percentile(data.loc[data.parent_category_name == category, \"price\"], 99.99)\n",
        "    condition = (data.price > percentile) & prior\n",
        "    data = data[~condition]\n",
        "\n",
        "data[\"day\"] = data.activation_date.dt.day.astype(\"category\")\n",
        "data[\"weekday\"] = data.activation_date.dt.weekday.astype(\"category\")\n",
        "\n",
        "data.drop(\"activation_date\", axis=1, inplace=True)\n",
        "data[\"description\"] = data[\"description\"].apply(preprocessor, stop=stop)\n",
        "\n",
        "for col in cat_features:\n",
        "    data[col] = data[col].astype(\"str\")\n",
        "    \n",
        "for col in text_features:\n",
        "    data[col] = data[col].astype(\"str\")\n",
        "\n",
        "data[\"title_len\"] = data[\"title\"].str.len()\n",
        "data[\"description\"] = data[\"description\"].apply(lambda x: x[:500])\n",
        "\n",
        "data[\"strat\"] = LabelEncoder().fit_transform(data[\"parent_category_name\"].astype(\"str\") + data[\"region\"].astype(\"str\")).astype(\"float\")"
      ],
      "metadata": {
        "id": "_a0Kio_v_2Km",
        "colab": {
          "base_uri": "https://localhost:8080/"
        },
        "outputId": "189af512-a1f8-4395-a505-bd0b0df29578"
      },
      "execution_count": null,
      "outputs": [
        {
          "output_type": "stream",
          "name": "stdout",
          "text": [
            "Initial train shape: (1503424, 14)\n",
            "Duplicates in train: 0\n",
            "Final train shape: (1503424, 14) "
          ]
        }
      ]
    },
    {
      "cell_type": "code",
      "source": [
        "x_train, x_test, y_train, y_test = train_test_split(data.drop(\"deal_probability\", axis=1), data[\"deal_probability\"], train_size=1_100_000, stratify=data[\"strat\"], random_state=seed)\n",
        "\n",
        "del data; gc.collect()\n",
        "x_train.drop(\"strat\", axis=1, inplace=True)\n",
        "x_test.drop(\"strat\", axis=1, inplace=True)\n",
        "\n",
        "x_train.info()"
      ],
      "metadata": {
        "colab": {
          "base_uri": "https://localhost:8080/"
        },
        "id": "CwrmSzAkIG2B",
        "outputId": "8ced6c97-92d1-48a6-bffb-9dd00cc7086e"
      },
      "execution_count": null,
      "outputs": [
        {
          "output_type": "stream",
          "name": "stdout",
          "text": [
            "<class 'pandas.core.frame.DataFrame'>\n",
            "Index: 1100000 entries, ecc5aa4bb38b to abde558ed7bc\n",
            "Data columns (total 15 columns):\n",
            " #   Column                Non-Null Count    Dtype  \n",
            "---  ------                --------------    -----  \n",
            " 0   user_id               1100000 non-null  object \n",
            " 1   region                1100000 non-null  object \n",
            " 2   city                  1100000 non-null  object \n",
            " 3   parent_category_name  1100000 non-null  object \n",
            " 4   category_name         1100000 non-null  object \n",
            " 5   param_1               1100000 non-null  object \n",
            " 6   title                 1100000 non-null  object \n",
            " 7   description           1100000 non-null  object \n",
            " 8   price                 1100000 non-null  float64\n",
            " 9   item_seq_number       1100000 non-null  int64  \n",
            " 10  user_type             1100000 non-null  object \n",
            " 11  image_top_1           1100000 non-null  object \n",
            " 12  day                   1100000 non-null  object \n",
            " 13  weekday               1100000 non-null  object \n",
            " 14  title_len             1100000 non-null  int64  \n",
            "dtypes: float64(1), int64(2), object(12)\n",
            "memory usage: 134.3+ MB\n"
          ]
        }
      ]
    },
    {
      "cell_type": "code",
      "source": [
        "# feature selection: l1-score, permutation, boruta-shap, boostaruta..."
      ],
      "metadata": {
        "id": "pqsbSpx5m2aN"
      },
      "execution_count": null,
      "outputs": []
    },
    {
      "cell_type": "code",
      "source": [
        "x_train.reset_index(drop=True, inplace=True)\n",
        "x_test.reset_index(drop=True, inplace=True)\n",
        "y_train.reset_index(drop=True, inplace=True)\n",
        "y_test.reset_index(drop=True, inplace=True)"
      ],
      "metadata": {
        "id": "YtUbsUykIbvm"
      },
      "execution_count": null,
      "outputs": []
    },
    {
      "cell_type": "code",
      "source": [
        "city_parent_mean = x_train.groupby([\"city\", \"parent_category_name\"])[\"price\"].mean().reset_index().rename(columns={\"price\": \"city_parent_price\"})\n",
        "\n",
        "x_train = x_train.merge(city_parent_mean, on=[\"city\", \"parent_category_name\"], how=\"left\")\n",
        "x_test = x_test.merge(city_parent_mean, on=[\"city\", \"parent_category_name\"], how=\"left\") \n",
        "\n",
        "x_test[\"city_parent_price\"].fillna(x_train[\"city_parent_price\"].mean(), inplace=True)\n",
        "\n",
        "del city_parent_mean; gc.collect()"
      ],
      "metadata": {
        "colab": {
          "base_uri": "https://localhost:8080/"
        },
        "id": "QXWJnmPbUcPc",
        "outputId": "6282125e-9ccc-4034-c4b5-2461c758b0e4"
      },
      "execution_count": null,
      "outputs": [
        {
          "output_type": "execute_result",
          "data": {
            "text/plain": [
              "0"
            ]
          },
          "metadata": {},
          "execution_count": 11
        }
      ]
    },
    {
      "cell_type": "code",
      "source": [
        "def create_numerical_aggs(data: pd.DataFrame,\n",
        "                          groupby_id: str,\n",
        "                          aggs: dict,\n",
        "                          prefix: str = None,\n",
        "                          suffix: str = None,\n",
        "                          ) -> pd.DataFrame:\n",
        "    if not prefix:\n",
        "        prefix = \"\"\n",
        "    if not suffix:\n",
        "        suffix = \"\"\n",
        "\n",
        "    data_grouped = data.groupby(groupby_id)\n",
        "    stats = data_grouped.agg(aggs)\n",
        "    stats.columns = [f\"{prefix}{feature}_{stat}{suffix}\".lower() for feature, stat in stats]\n",
        "    stats = stats.reset_index()\n",
        "\n",
        "    return stats"
      ],
      "metadata": {
        "id": "SOo7qHEL8yWm"
      },
      "execution_count": null,
      "outputs": []
    },
    {
      "cell_type": "code",
      "source": [
        "aggs = {\"price\": [\"mean\", \"max\", \"sum\", \"count\"]}\n",
        "stats = create_numerical_aggs(x_train, \"user_id\", aggs, \"user_\", \"_by_price\")\n",
        "x_train = x_train.merge(stats, on=\"user_id\", how=\"left\")\n",
        "x_test = x_test.merge(stats, on=\"user_id\", how=\"left\")"
      ],
      "metadata": {
        "id": "ZZVG71AJ8yzz"
      },
      "execution_count": null,
      "outputs": []
    },
    {
      "cell_type": "code",
      "source": [
        "x_test.loc[x_test.isna().index, \"user_price_mean_by_price\"] = x_test.loc[x_test.isna().index, [\"user_id\", \"price\"]].groupby(\"user_id\")[\"price\"].transform(\"mean\")\n",
        "x_test.loc[x_test.isna().index, \"user_price_max_by_price\"] = x_test.loc[x_test.isna().index, [\"user_id\", \"price\"]].groupby(\"user_id\")[\"price\"].transform(\"max\")\n",
        "x_test.loc[x_test.isna().index, \"user_price_sum_by_price\"] = x_test.loc[x_test.isna().index, [\"user_id\", \"price\"]].groupby(\"user_id\")[\"price\"].transform(\"sum\")\n",
        "x_test.loc[x_test.isna().index, \"user_price_count_by_price\"] = x_test.loc[x_test.isna().index, [\"user_id\", \"price\"]].groupby(\"user_id\")[\"price\"].transform(\"count\")"
      ],
      "metadata": {
        "id": "ItpI8XEw54XM"
      },
      "execution_count": null,
      "outputs": []
    },
    {
      "cell_type": "code",
      "source": [
        "x_train.drop(\"user_id\", axis=1, inplace=True)\n",
        "x_test.drop(\"user_id\", axis=1, inplace=True)"
      ],
      "metadata": {
        "id": "rirem06l5_y4"
      },
      "execution_count": null,
      "outputs": []
    },
    {
      "cell_type": "code",
      "source": [
        "import time \n",
        "\n",
        "params = {\"learning_rate\": 0.1, \n",
        "          \"iterations\": 3000,  # default 1000; TODO: inspect learning curve and decide number of trees then remove early stopping, depth = 6 by default\n",
        "          \"eval_metric\": \"RMSE\",\n",
        "          \"metric_period\": 200, \n",
        "          \"task_type\": \"GPU\",\n",
        "          \"use_best_model\": True,\n",
        "          \"l2_leaf_reg\": 30.0,  # default 3.0\n",
        "          \"max_bin\": 255,  # default 128\n",
        "          \"depth\": 10,  # default 6\n",
        "          }\n",
        "\n",
        "def print_scores(folds_scores, train_scores):\n",
        "    print(f\"Train score by each fold: {train_scores}\")\n",
        "    print(f\"Valid score by each fold: {folds_scores}\")\n",
        "    print(f\"Train mean score by each fold:{np.mean(train_scores):.5f} +/- {np.std(train_scores):.5f}\")\n",
        "    print(f\"Valid mean score by each fold:{np.mean(folds_scores):.5f} +/- {np.std(folds_scores):.5f}\")\n",
        "    print(\"*\" * 50)\n",
        "\n",
        "def catboost_cross_validation(params, X, y, cv, categorical=None, textual=None, rounds=20):\n",
        "    estimators, folds_scores, train_scores = [], [], []\n",
        "\n",
        "    oof_preds = np.zeros(X.shape[0])\n",
        "    print(f\"{time.ctime()}, Cross-Validation, {X.shape[0]} rows, {X.shape[1]} cols\")\n",
        "\n",
        "    for fold, (train_idx, valid_idx) in enumerate(cv.split(X, y)):\n",
        "        x_train, x_valid = X.loc[train_idx], X.loc[valid_idx]\n",
        "        y_train, y_valid = y.loc[train_idx], y.loc[valid_idx]\n",
        "\n",
        "        model = CatBoostRegressor(**params)\n",
        "        train_pool = Pool(x_train, y_train, cat_features=categorical, text_features=textual)\n",
        "        valid_pool = Pool(x_valid, y_valid, cat_features=categorical, text_features=textual)\n",
        "        model.fit(\n",
        "            train_pool,\n",
        "            eval_set=valid_pool,\n",
        "            early_stopping_rounds=rounds\n",
        "        )\n",
        "        train_score = catboost.CatBoost.predict(model, train_pool, prediction_type='RawFormulaVal')\n",
        "        train_score = mean_squared_error(y_train, np.clip(train_score, a_min=0., a_max=1.), squared=False)\n",
        "\n",
        "        oof_preds[valid_idx] = catboost.CatBoost.predict(model, valid_pool, prediction_type='RawFormulaVal')\n",
        "        score = mean_squared_error(y_valid, np.clip(oof_preds[valid_idx], a_min=0., a_max=1.), squared=False)\n",
        "        folds_scores.append(round(score, 5))\n",
        "        train_scores.append(round(train_score, 5))\n",
        "        print(f\"Fold {fold + 1}, Train score = {train_score:.5f}, Valid score = {score:.5f}\")\n",
        "        estimators.append(model)\n",
        "\n",
        "    print_scores(folds_scores, train_scores)\n",
        "    print(f\"OOF-score (log): {mean_squared_log_error(y, np.clip(oof_preds, a_min=0., a_max=1.), squared=False):.5f}\", \\\n",
        "          f\"OOF-score (rmse): {mean_squared_error(y, np.clip(oof_preds, a_min=0., a_max=1.), squared=False):.5f}\")\n",
        "    return estimators, oof_preds"
      ],
      "metadata": {
        "id": "MdaFlB_R9ddm"
      },
      "execution_count": null,
      "outputs": []
    },
    {
      "cell_type": "code",
      "source": [
        "def create_bootstrap_samples(data: np.array, n_samples: int = 1000) -> np.array:\n",
        "    bootstrap_idx = np.random.randint(\n",
        "        low=0, high=len(data), size=(n_samples, len(data))\n",
        "    )\n",
        "    return bootstrap_idx\n",
        "\n",
        "\n",
        "def create_bootstrap_metrics(y_true: np.array,\n",
        "                             y_pred: np.array,\n",
        "                             metric: callable,\n",
        "                             squared=False,\n",
        "                             n_samples: int = 1000):\n",
        "    scores = []\n",
        "    y_pred = np.clip(y_pred, a_min=0., a_max=1.)\n",
        "    if isinstance(y_true, pd.Series):\n",
        "        y_true = y_true.values\n",
        "\n",
        "    bootstrap_idx = create_bootstrap_samples(y_true, n_samples)\n",
        "    for idx in bootstrap_idx:\n",
        "        y_true_bootstrap = y_true[idx]\n",
        "        y_pred_bootstrap = y_pred[idx]\n",
        "\n",
        "        score = metric(y_true_bootstrap, y_pred_bootstrap, squared=squared)\n",
        "        scores.append(score)\n",
        "\n",
        "    return scores\n",
        "\n",
        "\n",
        "def calculate_confidence_interval(scores: list, conf_interval: float = 0.95):\n",
        "    left_bound = np.percentile(\n",
        "        scores, ((1 - conf_interval) / 2) * 100\n",
        "    )\n",
        "    right_bound = np.percentile(\n",
        "        scores, (conf_interval + ((1 - conf_interval) / 2)) * 100\n",
        "    )\n",
        "\n",
        "    return left_bound, right_bound"
      ],
      "metadata": {
        "id": "ibiJ0o8T_Jac"
      },
      "execution_count": null,
      "outputs": []
    },
    {
      "cell_type": "code",
      "source": [
        "estimators, oof_preds = catboost_cross_validation(params, \n",
        "                                                  x_train, \n",
        "                                                  y_train,\n",
        "                                                  categorical=cat_features,\n",
        "                                                  textual=text_features,\n",
        "                                                  cv=KFold(n_splits=5, random_state=seed, shuffle=True), \n",
        "                                                  rounds=20)\n",
        "gc.collect()"
      ],
      "metadata": {
        "colab": {
          "base_uri": "https://localhost:8080/"
        },
        "id": "nsFiAVduDJRP",
        "outputId": "273ebdfb-7616-46d8-87b9-ad8a116c29b6"
      },
      "execution_count": null,
      "outputs": [
        {
          "output_type": "stream",
          "name": "stdout",
          "text": [
            "Thu Dec  1 20:46:08 2022, Cross-Validation, 1100000 rows, 19 cols\n",
            "0:\tlearn: 0.2582479\ttest: 0.2570379\tbest: 0.2570379 (0)\ttotal: 328ms\tremaining: 16m 24s\n",
            "200:\tlearn: 0.2278390\ttest: 0.2271076\tbest: 0.2271076 (200)\ttotal: 25.1s\tremaining: 5m 49s\n",
            "400:\tlearn: 0.2258904\ttest: 0.2258787\tbest: 0.2258787 (400)\ttotal: 46s\tremaining: 4m 58s\n",
            "600:\tlearn: 0.2245655\ttest: 0.2252094\tbest: 0.2252094 (600)\ttotal: 1m 6s\tremaining: 4m 25s\n",
            "800:\tlearn: 0.2234734\ttest: 0.2247527\tbest: 0.2247527 (800)\ttotal: 1m 28s\tremaining: 4m 2s\n",
            "1000:\tlearn: 0.2225622\ttest: 0.2244502\tbest: 0.2244502 (1000)\ttotal: 1m 49s\tremaining: 3m 38s\n",
            "1200:\tlearn: 0.2217069\ttest: 0.2242136\tbest: 0.2242136 (1200)\ttotal: 2m 11s\tremaining: 3m 17s\n",
            "1400:\tlearn: 0.2209188\ttest: 0.2240235\tbest: 0.2240235 (1400)\ttotal: 2m 33s\tremaining: 2m 55s\n",
            "1600:\tlearn: 0.2202006\ttest: 0.2238581\tbest: 0.2238581 (1600)\ttotal: 2m 57s\tremaining: 2m 35s\n",
            "1800:\tlearn: 0.2194677\ttest: 0.2237081\tbest: 0.2237081 (1800)\ttotal: 3m 19s\tremaining: 2m 12s\n",
            "2000:\tlearn: 0.2188015\ttest: 0.2236020\tbest: 0.2236020 (2000)\ttotal: 3m 41s\tremaining: 1m 50s\n",
            "2200:\tlearn: 0.2181967\ttest: 0.2234865\tbest: 0.2234865 (2200)\ttotal: 4m 3s\tremaining: 1m 28s\n",
            "2400:\tlearn: 0.2175789\ttest: 0.2233870\tbest: 0.2233870 (2400)\ttotal: 4m 26s\tremaining: 1m 6s\n",
            "2600:\tlearn: 0.2169595\ttest: 0.2232708\tbest: 0.2232708 (2600)\ttotal: 4m 47s\tremaining: 44.1s\n",
            "2800:\tlearn: 0.2164183\ttest: 0.2231984\tbest: 0.2231974 (2797)\ttotal: 5m 8s\tremaining: 21.9s\n",
            "2999:\tlearn: 0.2158576\ttest: 0.2231226\tbest: 0.2231226 (2999)\ttotal: 5m 30s\tremaining: 0us\n",
            "bestTest = 0.2231226226\n",
            "bestIteration = 2999\n",
            "Fold 1, Train score = 0.21493, Valid score = 0.22309\n",
            "0:\tlearn: 0.2579805\ttest: 0.2578672\tbest: 0.2578672 (0)\ttotal: 321ms\tremaining: 16m 4s\n",
            "200:\tlearn: 0.2275071\ttest: 0.2279659\tbest: 0.2279659 (200)\ttotal: 28.3s\tremaining: 6m 34s\n",
            "400:\tlearn: 0.2254931\ttest: 0.2267017\tbest: 0.2267017 (400)\ttotal: 48.7s\tremaining: 5m 15s\n",
            "600:\tlearn: 0.2241221\ttest: 0.2260602\tbest: 0.2260602 (600)\ttotal: 1m 9s\tremaining: 4m 38s\n",
            "800:\tlearn: 0.2230147\ttest: 0.2256223\tbest: 0.2256223 (800)\ttotal: 1m 31s\tremaining: 4m 10s\n",
            "1000:\tlearn: 0.2220508\ttest: 0.2253067\tbest: 0.2253067 (1000)\ttotal: 1m 52s\tremaining: 3m 45s\n",
            "1200:\tlearn: 0.2211668\ttest: 0.2250532\tbest: 0.2250532 (1200)\ttotal: 2m 15s\tremaining: 3m 22s\n",
            "1400:\tlearn: 0.2204076\ttest: 0.2248721\tbest: 0.2248721 (1400)\ttotal: 2m 36s\tremaining: 2m 58s\n",
            "1600:\tlearn: 0.2196917\ttest: 0.2247136\tbest: 0.2247135 (1599)\ttotal: 2m 58s\tremaining: 2m 35s\n",
            "1800:\tlearn: 0.2189729\ttest: 0.2245832\tbest: 0.2245832 (1800)\ttotal: 3m 19s\tremaining: 2m 12s\n",
            "2000:\tlearn: 0.2183164\ttest: 0.2244632\tbest: 0.2244632 (2000)\ttotal: 3m 43s\tremaining: 1m 51s\n",
            "2200:\tlearn: 0.2176679\ttest: 0.2243535\tbest: 0.2243529 (2198)\ttotal: 4m 5s\tremaining: 1m 29s\n",
            "2400:\tlearn: 0.2170571\ttest: 0.2242752\tbest: 0.2242752 (2400)\ttotal: 4m 27s\tremaining: 1m 6s\n",
            "2600:\tlearn: 0.2164615\ttest: 0.2241796\tbest: 0.2241796 (2600)\ttotal: 4m 51s\tremaining: 44.7s\n",
            "2800:\tlearn: 0.2158714\ttest: 0.2240855\tbest: 0.2240854 (2799)\ttotal: 5m 15s\tremaining: 22.4s\n",
            "2999:\tlearn: 0.2153325\ttest: 0.2240246\tbest: 0.2240246 (2999)\ttotal: 5m 36s\tremaining: 0us\n",
            "bestTest = 0.2240246477\n",
            "bestIteration = 2999\n",
            "Fold 2, Train score = 0.21425, Valid score = 0.22400\n",
            "0:\tlearn: 0.2578194\ttest: 0.2587602\tbest: 0.2587602 (0)\ttotal: 336ms\tremaining: 16m 47s\n",
            "200:\tlearn: 0.2275418\ttest: 0.2282755\tbest: 0.2282755 (200)\ttotal: 25.9s\tremaining: 6m 1s\n",
            "400:\tlearn: 0.2255800\ttest: 0.2270299\tbest: 0.2270299 (400)\ttotal: 45.6s\tremaining: 4m 55s\n",
            "600:\tlearn: 0.2242702\ttest: 0.2264000\tbest: 0.2264000 (600)\ttotal: 1m 6s\tremaining: 4m 26s\n",
            "800:\tlearn: 0.2231731\ttest: 0.2259546\tbest: 0.2259546 (800)\ttotal: 1m 27s\tremaining: 4m\n",
            "1000:\tlearn: 0.2222329\ttest: 0.2256352\tbest: 0.2256352 (1000)\ttotal: 1m 50s\tremaining: 3m 41s\n",
            "1200:\tlearn: 0.2213894\ttest: 0.2253925\tbest: 0.2253924 (1199)\ttotal: 2m 15s\tremaining: 3m 23s\n",
            "1400:\tlearn: 0.2205975\ttest: 0.2251900\tbest: 0.2251900 (1400)\ttotal: 2m 37s\tremaining: 2m 59s\n",
            "1600:\tlearn: 0.2198101\ttest: 0.2250058\tbest: 0.2250058 (1600)\ttotal: 2m 59s\tremaining: 2m 36s\n",
            "1800:\tlearn: 0.2190886\ttest: 0.2248409\tbest: 0.2248399 (1798)\ttotal: 3m 22s\tremaining: 2m 14s\n",
            "2000:\tlearn: 0.2184396\ttest: 0.2247174\tbest: 0.2247174 (2000)\ttotal: 3m 44s\tremaining: 1m 52s\n",
            "2200:\tlearn: 0.2177937\ttest: 0.2246018\tbest: 0.2246018 (2200)\ttotal: 4m 6s\tremaining: 1m 29s\n",
            "2400:\tlearn: 0.2171447\ttest: 0.2244909\tbest: 0.2244908 (2399)\ttotal: 4m 28s\tremaining: 1m 7s\n",
            "2600:\tlearn: 0.2165244\ttest: 0.2243747\tbest: 0.2243747 (2600)\ttotal: 4m 50s\tremaining: 44.6s\n",
            "2800:\tlearn: 0.2159820\ttest: 0.2242963\tbest: 0.2242963 (2800)\ttotal: 5m 11s\tremaining: 22.2s\n",
            "2999:\tlearn: 0.2154472\ttest: 0.2242240\tbest: 0.2242240 (2999)\ttotal: 5m 32s\tremaining: 0us\n",
            "bestTest = 0.2242240111\n",
            "bestIteration = 2999\n",
            "Fold 3, Train score = 0.21446, Valid score = 0.22420\n",
            "0:\tlearn: 0.2580618\ttest: 0.2581983\tbest: 0.2581983 (0)\ttotal: 320ms\tremaining: 15m 58s\n",
            "200:\tlearn: 0.2274670\ttest: 0.2281183\tbest: 0.2281183 (200)\ttotal: 25.8s\tremaining: 5m 58s\n",
            "400:\tlearn: 0.2256005\ttest: 0.2269590\tbest: 0.2269590 (400)\ttotal: 44.7s\tremaining: 4m 49s\n",
            "600:\tlearn: 0.2242185\ttest: 0.2262664\tbest: 0.2262664 (600)\ttotal: 1m 5s\tremaining: 4m 23s\n",
            "800:\tlearn: 0.2231095\ttest: 0.2258232\tbest: 0.2258232 (800)\ttotal: 1m 27s\tremaining: 4m\n",
            "1000:\tlearn: 0.2221913\ttest: 0.2255299\tbest: 0.2255299 (1000)\ttotal: 1m 49s\tremaining: 3m 38s\n",
            "1200:\tlearn: 0.2213492\ttest: 0.2253172\tbest: 0.2253168 (1199)\ttotal: 2m 10s\tremaining: 3m 16s\n",
            "1400:\tlearn: 0.2205725\ttest: 0.2251028\tbest: 0.2251028 (1400)\ttotal: 2m 32s\tremaining: 2m 54s\n",
            "1600:\tlearn: 0.2198304\ttest: 0.2249456\tbest: 0.2249456 (1600)\ttotal: 2m 54s\tremaining: 2m 32s\n",
            "1800:\tlearn: 0.2191246\ttest: 0.2247911\tbest: 0.2247911 (1800)\ttotal: 3m 17s\tremaining: 2m 11s\n",
            "2000:\tlearn: 0.2184447\ttest: 0.2246829\tbest: 0.2246829 (2000)\ttotal: 3m 39s\tremaining: 1m 49s\n",
            "2200:\tlearn: 0.2177937\ttest: 0.2245842\tbest: 0.2245842 (2200)\ttotal: 4m\tremaining: 1m 27s\n",
            "2400:\tlearn: 0.2171306\ttest: 0.2244936\tbest: 0.2244934 (2395)\ttotal: 4m 25s\tremaining: 1m 6s\n",
            "2600:\tlearn: 0.2165581\ttest: 0.2244174\tbest: 0.2244165 (2597)\ttotal: 4m 47s\tremaining: 44.1s\n",
            "2800:\tlearn: 0.2159523\ttest: 0.2243397\tbest: 0.2243397 (2800)\ttotal: 5m 9s\tremaining: 22s\n",
            "2999:\tlearn: 0.2153970\ttest: 0.2242773\tbest: 0.2242773 (2999)\ttotal: 5m 30s\tremaining: 0us\n",
            "bestTest = 0.2242773076\n",
            "bestIteration = 2999\n",
            "Fold 4, Train score = 0.21447, Valid score = 0.22425\n",
            "0:\tlearn: 0.2580014\ttest: 0.2579453\tbest: 0.2579453 (0)\ttotal: 326ms\tremaining: 16m 17s\n",
            "200:\tlearn: 0.2275817\ttest: 0.2284125\tbest: 0.2284125 (200)\ttotal: 25.5s\tremaining: 5m 54s\n",
            "400:\tlearn: 0.2256726\ttest: 0.2272117\tbest: 0.2272117 (400)\ttotal: 44.4s\tremaining: 4m 47s\n",
            "600:\tlearn: 0.2242674\ttest: 0.2265200\tbest: 0.2265200 (599)\ttotal: 1m 5s\tremaining: 4m 22s\n",
            "800:\tlearn: 0.2232218\ttest: 0.2261081\tbest: 0.2261081 (800)\ttotal: 1m 26s\tremaining: 3m 57s\n",
            "1000:\tlearn: 0.2222717\ttest: 0.2257696\tbest: 0.2257696 (1000)\ttotal: 1m 48s\tremaining: 3m 36s\n",
            "1200:\tlearn: 0.2214206\ttest: 0.2255471\tbest: 0.2255471 (1200)\ttotal: 2m 12s\tremaining: 3m 18s\n",
            "1400:\tlearn: 0.2206684\ttest: 0.2253706\tbest: 0.2253704 (1398)\ttotal: 2m 33s\tremaining: 2m 55s\n",
            "1600:\tlearn: 0.2198809\ttest: 0.2251921\tbest: 0.2251921 (1600)\ttotal: 2m 55s\tremaining: 2m 32s\n",
            "1800:\tlearn: 0.2191500\ttest: 0.2250475\tbest: 0.2250475 (1800)\ttotal: 3m 16s\tremaining: 2m 11s\n",
            "2000:\tlearn: 0.2184754\ttest: 0.2249203\tbest: 0.2249183 (1998)\ttotal: 3m 38s\tremaining: 1m 49s\n",
            "2200:\tlearn: 0.2178015\ttest: 0.2247998\tbest: 0.2247998 (2200)\ttotal: 4m\tremaining: 1m 27s\n",
            "2400:\tlearn: 0.2172060\ttest: 0.2246958\tbest: 0.2246953 (2399)\ttotal: 4m 22s\tremaining: 1m 5s\n",
            "2600:\tlearn: 0.2166155\ttest: 0.2246103\tbest: 0.2246103 (2600)\ttotal: 4m 44s\tremaining: 43.6s\n",
            "2800:\tlearn: 0.2160269\ttest: 0.2245334\tbest: 0.2245334 (2800)\ttotal: 5m 6s\tremaining: 21.7s\n",
            "2999:\tlearn: 0.2154311\ttest: 0.2244473\tbest: 0.2244473 (2999)\ttotal: 5m 28s\tremaining: 0us\n",
            "bestTest = 0.2244473366\n",
            "bestIteration = 2999\n",
            "Fold 5, Train score = 0.21447, Valid score = 0.22442\n",
            "Train score by each fold: [0.21493, 0.21425, 0.21446, 0.21447, 0.21447]\n",
            "Valid score by each fold: [0.22309, 0.224, 0.2242, 0.22425, 0.22442]\n",
            "Train mean score by each fold:0.21452 +/- 0.00022\n",
            "Valid mean score by each fold:0.22399 +/- 0.00047\n",
            "**************************************************\n",
            "OOF-score (log): 0.16687 OOF-score (rmse): 0.22399\n"
          ]
        },
        {
          "output_type": "execute_result",
          "data": {
            "text/plain": [
              "0"
            ]
          },
          "metadata": {},
          "execution_count": 19
        }
      ]
    },
    {
      "cell_type": "code",
      "source": [
        "params = {\"learning_rate\": 0.1, \n",
        "          \"iterations\": 5000,\n",
        "          \"task_type\": \"GPU\",\n",
        "          \"l2_leaf_reg\": 30.0,  \n",
        "          \"max_bin\": 255, \n",
        "          \"metric_period\": 300,\n",
        "          \"depth\": 10,\n",
        "          }\n",
        "\n",
        "train_pool = Pool(x_train, y_train, cat_features=cat_features, text_features=text_features)\n",
        "model = CatBoostRegressor(**params).fit(train_pool)"
      ],
      "metadata": {
        "colab": {
          "base_uri": "https://localhost:8080/"
        },
        "id": "xDE1a-3OCKmZ",
        "outputId": "e9928575-f0d9-43e7-fafd-b0367fa8d776"
      },
      "execution_count": null,
      "outputs": [
        {
          "output_type": "stream",
          "name": "stdout",
          "text": [
            "0:\tlearn: 0.2580219\ttotal: 435ms\tremaining: 36m 12s\n",
            "300:\tlearn: 0.2265462\ttotal: 45.6s\tremaining: 11m 51s\n",
            "600:\tlearn: 0.2243945\ttotal: 1m 23s\tremaining: 10m 8s\n",
            "900:\tlearn: 0.2228289\ttotal: 2m 6s\tremaining: 9m 35s\n",
            "1200:\tlearn: 0.2216404\ttotal: 2m 46s\tremaining: 8m 46s\n",
            "1500:\tlearn: 0.2205559\ttotal: 3m 27s\tremaining: 8m 2s\n",
            "1800:\tlearn: 0.2195284\ttotal: 4m 9s\tremaining: 7m 23s\n",
            "2100:\tlearn: 0.2185924\ttotal: 4m 50s\tremaining: 6m 41s\n",
            "2400:\tlearn: 0.2177285\ttotal: 5m 31s\tremaining: 5m 58s\n",
            "2700:\tlearn: 0.2169456\ttotal: 6m 13s\tremaining: 5m 17s\n",
            "3000:\tlearn: 0.2161512\ttotal: 6m 56s\tremaining: 4m 37s\n",
            "3300:\tlearn: 0.2153899\ttotal: 7m 36s\tremaining: 3m 55s\n",
            "3600:\tlearn: 0.2146795\ttotal: 8m 15s\tremaining: 3m 12s\n",
            "3900:\tlearn: 0.2139913\ttotal: 8m 55s\tremaining: 2m 30s\n",
            "4200:\tlearn: 0.2132987\ttotal: 9m 37s\tremaining: 1m 49s\n",
            "4500:\tlearn: 0.2126171\ttotal: 10m 20s\tremaining: 1m 8s\n",
            "4800:\tlearn: 0.2119521\ttotal: 11m 4s\tremaining: 27.5s\n",
            "4999:\tlearn: 0.2115162\ttotal: 11m 31s\tremaining: 0us\n"
          ]
        }
      ]
    },
    {
      "cell_type": "code",
      "source": [
        "# another way is to use CatBoostClassifier with cross entropy loss with binary target"
      ],
      "metadata": {
        "id": "8aGFb-0nYY3u"
      },
      "execution_count": null,
      "outputs": []
    },
    {
      "cell_type": "code",
      "source": [
        "# holdout check rmsle + CI\n",
        "indices = np.random.choice(np.arange(len(x_train)), size=100_000)\n",
        "\n",
        "calculate_confidence_interval(create_bootstrap_metrics(y_train[indices], oof_preds[indices], mean_squared_log_error, n_samples=2000))"
      ],
      "metadata": {
        "id": "74eJJt7b--_l",
        "colab": {
          "base_uri": "https://localhost:8080/"
        },
        "outputId": "6de85924-b7db-4faf-e6d8-31f3ddb56aa5"
      },
      "execution_count": null,
      "outputs": [
        {
          "output_type": "execute_result",
          "data": {
            "text/plain": [
              "(0.16646074189760987, 0.16845282445229262)"
            ]
          },
          "metadata": {},
          "execution_count": 25
        }
      ]
    },
    {
      "cell_type": "code",
      "source": [
        "indices = np.random.choice(np.arange(len(x_train)), size=100_000)\n",
        "\n",
        "calculate_confidence_interval(create_bootstrap_metrics(y_train[indices], oof_preds[indices], mean_squared_error, n_samples=2000))"
      ],
      "metadata": {
        "colab": {
          "base_uri": "https://localhost:8080/"
        },
        "id": "Tlx-DNX1XpS6",
        "outputId": "9d454a0f-1094-4ace-f926-007e95fef159"
      },
      "execution_count": null,
      "outputs": [
        {
          "output_type": "execute_result",
          "data": {
            "text/plain": [
              "(0.22352427899894586, 0.2266035767876454)"
            ]
          },
          "metadata": {},
          "execution_count": 26
        }
      ]
    },
    {
      "cell_type": "code",
      "source": [
        "# predict: blending\n",
        "\n",
        "test_preds = np.array([catboost.CatBoost.predict(estimator, x_test, prediction_type='RawFormulaVal') for estimator in estimators]).T\n",
        "test_preds = np.average(test_preds, axis=1)\n",
        "\n",
        "mean_squared_log_error(y_test, np.clip(test_preds, 0, 1), squared=False), mean_squared_error(y_test, np.clip(test_preds, 0, 1), squared=False)"
      ],
      "metadata": {
        "id": "u_iUlqkTEGzr",
        "colab": {
          "base_uri": "https://localhost:8080/"
        },
        "outputId": "bb54bdb2-f176-4f80-f22c-6feb6bae03c8"
      },
      "execution_count": null,
      "outputs": [
        {
          "output_type": "execute_result",
          "data": {
            "text/plain": [
              "(0.16734685920239242, 0.2241590244726029)"
            ]
          },
          "metadata": {},
          "execution_count": 21
        }
      ]
    },
    {
      "cell_type": "code",
      "source": [
        "# full\n",
        "test_preds = catboost.CatBoost.predict(model, x_test, prediction_type='RawFormulaVal')\n",
        "\n",
        "mean_squared_log_error(y_test, np.clip(test_preds, 0, 1), squared=False), mean_squared_error(y_test, np.clip(test_preds, 0, 1), squared=False)"
      ],
      "metadata": {
        "colab": {
          "base_uri": "https://localhost:8080/"
        },
        "id": "yT5LaVMVFKs-",
        "outputId": "4798796b-edd7-4873-b324-4b84f42e954d"
      },
      "execution_count": null,
      "outputs": [
        {
          "output_type": "execute_result",
          "data": {
            "text/plain": [
              "(0.16710225005477108, 0.22382981016062448)"
            ]
          },
          "metadata": {},
          "execution_count": 29
        }
      ]
    },
    {
      "cell_type": "code",
      "source": [
        "gc.collect()"
      ],
      "metadata": {
        "colab": {
          "base_uri": "https://localhost:8080/"
        },
        "id": "3rOI9upqipd_",
        "outputId": "d9fe59d6-5a22-4081-ce63-8250497e910e"
      },
      "execution_count": null,
      "outputs": [
        {
          "output_type": "execute_result",
          "data": {
            "text/plain": [
              "0"
            ]
          },
          "metadata": {},
          "execution_count": 28
        }
      ]
    }
  ],
  "metadata": {
    "kernelspec": {
      "display_name": "Python 3",
      "language": "python",
      "name": "python3"
    },
    "language_info": {
      "codemirror_mode": {
        "name": "ipython",
        "version": 3
      },
      "file_extension": ".py",
      "mimetype": "text/x-python",
      "name": "python",
      "nbconvert_exporter": "python",
      "pygments_lexer": "ipython3",
      "version": "3.7.4"
    },
    "colab": {
      "provenance": []
    },
    "accelerator": "GPU",
    "gpuClass": "standard",
    "widgets": {
      "application/vnd.jupyter.widget-state+json": {
        "e7c6244c80304d3493f7da8209442894": {
          "model_module": "@jupyter-widgets/controls",
          "model_name": "HBoxModel",
          "model_module_version": "1.5.0",
          "state": {
            "_dom_classes": [],
            "_model_module": "@jupyter-widgets/controls",
            "_model_module_version": "1.5.0",
            "_model_name": "HBoxModel",
            "_view_count": null,
            "_view_module": "@jupyter-widgets/controls",
            "_view_module_version": "1.5.0",
            "_view_name": "HBoxView",
            "box_style": "",
            "children": [
              "IPY_MODEL_c1596f968ea042778e85e637bee96e65",
              "IPY_MODEL_6979237ec4f0458386d6241634946749",
              "IPY_MODEL_57abf60651204faeb4d5e100a24d8d36"
            ],
            "layout": "IPY_MODEL_1fe298aaa0da4d07a4d90e58440f308b"
          }
        },
        "c1596f968ea042778e85e637bee96e65": {
          "model_module": "@jupyter-widgets/controls",
          "model_name": "HTMLModel",
          "model_module_version": "1.5.0",
          "state": {
            "_dom_classes": [],
            "_model_module": "@jupyter-widgets/controls",
            "_model_module_version": "1.5.0",
            "_model_name": "HTMLModel",
            "_view_count": null,
            "_view_module": "@jupyter-widgets/controls",
            "_view_module_version": "1.5.0",
            "_view_name": "HTMLView",
            "description": "",
            "description_tooltip": null,
            "layout": "IPY_MODEL_712dd374d26b4342a201f01abbcb9974",
            "placeholder": "​",
            "style": "IPY_MODEL_d253632396684580b6935ad71cbc3d97",
            "value": "Downloading: 100%"
          }
        },
        "6979237ec4f0458386d6241634946749": {
          "model_module": "@jupyter-widgets/controls",
          "model_name": "FloatProgressModel",
          "model_module_version": "1.5.0",
          "state": {
            "_dom_classes": [],
            "_model_module": "@jupyter-widgets/controls",
            "_model_module_version": "1.5.0",
            "_model_name": "FloatProgressModel",
            "_view_count": null,
            "_view_module": "@jupyter-widgets/controls",
            "_view_module_version": "1.5.0",
            "_view_name": "ProgressView",
            "bar_style": "success",
            "description": "",
            "description_tooltip": null,
            "layout": "IPY_MODEL_98202ff594d64adda68cf063fc7e17d2",
            "max": 341,
            "min": 0,
            "orientation": "horizontal",
            "style": "IPY_MODEL_29365a526d2742d287d7c0800626aea8",
            "value": 341
          }
        },
        "57abf60651204faeb4d5e100a24d8d36": {
          "model_module": "@jupyter-widgets/controls",
          "model_name": "HTMLModel",
          "model_module_version": "1.5.0",
          "state": {
            "_dom_classes": [],
            "_model_module": "@jupyter-widgets/controls",
            "_model_module_version": "1.5.0",
            "_model_name": "HTMLModel",
            "_view_count": null,
            "_view_module": "@jupyter-widgets/controls",
            "_view_module_version": "1.5.0",
            "_view_name": "HTMLView",
            "description": "",
            "description_tooltip": null,
            "layout": "IPY_MODEL_4164d9e17a5b4a66b010d0257bbcca3c",
            "placeholder": "​",
            "style": "IPY_MODEL_4311f2d1e46a4a50bc8781f7a711d0bf",
            "value": " 341/341 [00:00&lt;00:00, 8.38kB/s]"
          }
        },
        "1fe298aaa0da4d07a4d90e58440f308b": {
          "model_module": "@jupyter-widgets/base",
          "model_name": "LayoutModel",
          "model_module_version": "1.2.0",
          "state": {
            "_model_module": "@jupyter-widgets/base",
            "_model_module_version": "1.2.0",
            "_model_name": "LayoutModel",
            "_view_count": null,
            "_view_module": "@jupyter-widgets/base",
            "_view_module_version": "1.2.0",
            "_view_name": "LayoutView",
            "align_content": null,
            "align_items": null,
            "align_self": null,
            "border": null,
            "bottom": null,
            "display": null,
            "flex": null,
            "flex_flow": null,
            "grid_area": null,
            "grid_auto_columns": null,
            "grid_auto_flow": null,
            "grid_auto_rows": null,
            "grid_column": null,
            "grid_gap": null,
            "grid_row": null,
            "grid_template_areas": null,
            "grid_template_columns": null,
            "grid_template_rows": null,
            "height": null,
            "justify_content": null,
            "justify_items": null,
            "left": null,
            "margin": null,
            "max_height": null,
            "max_width": null,
            "min_height": null,
            "min_width": null,
            "object_fit": null,
            "object_position": null,
            "order": null,
            "overflow": null,
            "overflow_x": null,
            "overflow_y": null,
            "padding": null,
            "right": null,
            "top": null,
            "visibility": null,
            "width": null
          }
        },
        "712dd374d26b4342a201f01abbcb9974": {
          "model_module": "@jupyter-widgets/base",
          "model_name": "LayoutModel",
          "model_module_version": "1.2.0",
          "state": {
            "_model_module": "@jupyter-widgets/base",
            "_model_module_version": "1.2.0",
            "_model_name": "LayoutModel",
            "_view_count": null,
            "_view_module": "@jupyter-widgets/base",
            "_view_module_version": "1.2.0",
            "_view_name": "LayoutView",
            "align_content": null,
            "align_items": null,
            "align_self": null,
            "border": null,
            "bottom": null,
            "display": null,
            "flex": null,
            "flex_flow": null,
            "grid_area": null,
            "grid_auto_columns": null,
            "grid_auto_flow": null,
            "grid_auto_rows": null,
            "grid_column": null,
            "grid_gap": null,
            "grid_row": null,
            "grid_template_areas": null,
            "grid_template_columns": null,
            "grid_template_rows": null,
            "height": null,
            "justify_content": null,
            "justify_items": null,
            "left": null,
            "margin": null,
            "max_height": null,
            "max_width": null,
            "min_height": null,
            "min_width": null,
            "object_fit": null,
            "object_position": null,
            "order": null,
            "overflow": null,
            "overflow_x": null,
            "overflow_y": null,
            "padding": null,
            "right": null,
            "top": null,
            "visibility": null,
            "width": null
          }
        },
        "d253632396684580b6935ad71cbc3d97": {
          "model_module": "@jupyter-widgets/controls",
          "model_name": "DescriptionStyleModel",
          "model_module_version": "1.5.0",
          "state": {
            "_model_module": "@jupyter-widgets/controls",
            "_model_module_version": "1.5.0",
            "_model_name": "DescriptionStyleModel",
            "_view_count": null,
            "_view_module": "@jupyter-widgets/base",
            "_view_module_version": "1.2.0",
            "_view_name": "StyleView",
            "description_width": ""
          }
        },
        "98202ff594d64adda68cf063fc7e17d2": {
          "model_module": "@jupyter-widgets/base",
          "model_name": "LayoutModel",
          "model_module_version": "1.2.0",
          "state": {
            "_model_module": "@jupyter-widgets/base",
            "_model_module_version": "1.2.0",
            "_model_name": "LayoutModel",
            "_view_count": null,
            "_view_module": "@jupyter-widgets/base",
            "_view_module_version": "1.2.0",
            "_view_name": "LayoutView",
            "align_content": null,
            "align_items": null,
            "align_self": null,
            "border": null,
            "bottom": null,
            "display": null,
            "flex": null,
            "flex_flow": null,
            "grid_area": null,
            "grid_auto_columns": null,
            "grid_auto_flow": null,
            "grid_auto_rows": null,
            "grid_column": null,
            "grid_gap": null,
            "grid_row": null,
            "grid_template_areas": null,
            "grid_template_columns": null,
            "grid_template_rows": null,
            "height": null,
            "justify_content": null,
            "justify_items": null,
            "left": null,
            "margin": null,
            "max_height": null,
            "max_width": null,
            "min_height": null,
            "min_width": null,
            "object_fit": null,
            "object_position": null,
            "order": null,
            "overflow": null,
            "overflow_x": null,
            "overflow_y": null,
            "padding": null,
            "right": null,
            "top": null,
            "visibility": null,
            "width": null
          }
        },
        "29365a526d2742d287d7c0800626aea8": {
          "model_module": "@jupyter-widgets/controls",
          "model_name": "ProgressStyleModel",
          "model_module_version": "1.5.0",
          "state": {
            "_model_module": "@jupyter-widgets/controls",
            "_model_module_version": "1.5.0",
            "_model_name": "ProgressStyleModel",
            "_view_count": null,
            "_view_module": "@jupyter-widgets/base",
            "_view_module_version": "1.2.0",
            "_view_name": "StyleView",
            "bar_color": null,
            "description_width": ""
          }
        },
        "4164d9e17a5b4a66b010d0257bbcca3c": {
          "model_module": "@jupyter-widgets/base",
          "model_name": "LayoutModel",
          "model_module_version": "1.2.0",
          "state": {
            "_model_module": "@jupyter-widgets/base",
            "_model_module_version": "1.2.0",
            "_model_name": "LayoutModel",
            "_view_count": null,
            "_view_module": "@jupyter-widgets/base",
            "_view_module_version": "1.2.0",
            "_view_name": "LayoutView",
            "align_content": null,
            "align_items": null,
            "align_self": null,
            "border": null,
            "bottom": null,
            "display": null,
            "flex": null,
            "flex_flow": null,
            "grid_area": null,
            "grid_auto_columns": null,
            "grid_auto_flow": null,
            "grid_auto_rows": null,
            "grid_column": null,
            "grid_gap": null,
            "grid_row": null,
            "grid_template_areas": null,
            "grid_template_columns": null,
            "grid_template_rows": null,
            "height": null,
            "justify_content": null,
            "justify_items": null,
            "left": null,
            "margin": null,
            "max_height": null,
            "max_width": null,
            "min_height": null,
            "min_width": null,
            "object_fit": null,
            "object_position": null,
            "order": null,
            "overflow": null,
            "overflow_x": null,
            "overflow_y": null,
            "padding": null,
            "right": null,
            "top": null,
            "visibility": null,
            "width": null
          }
        },
        "4311f2d1e46a4a50bc8781f7a711d0bf": {
          "model_module": "@jupyter-widgets/controls",
          "model_name": "DescriptionStyleModel",
          "model_module_version": "1.5.0",
          "state": {
            "_model_module": "@jupyter-widgets/controls",
            "_model_module_version": "1.5.0",
            "_model_name": "DescriptionStyleModel",
            "_view_count": null,
            "_view_module": "@jupyter-widgets/base",
            "_view_module_version": "1.2.0",
            "_view_name": "StyleView",
            "description_width": ""
          }
        },
        "fcdb3592b0e94832bb05c63617784c39": {
          "model_module": "@jupyter-widgets/controls",
          "model_name": "HBoxModel",
          "model_module_version": "1.5.0",
          "state": {
            "_dom_classes": [],
            "_model_module": "@jupyter-widgets/controls",
            "_model_module_version": "1.5.0",
            "_model_name": "HBoxModel",
            "_view_count": null,
            "_view_module": "@jupyter-widgets/controls",
            "_view_module_version": "1.5.0",
            "_view_name": "HBoxView",
            "box_style": "",
            "children": [
              "IPY_MODEL_2ff5629146ad4e6185fe9b3afd5152a1",
              "IPY_MODEL_3e99fd81358543c8a8679424c8b66b6c",
              "IPY_MODEL_9a4985132dc74d7e8cb4867a96ea35a5"
            ],
            "layout": "IPY_MODEL_07bc8ea38a544a918c2f77ed371488c0"
          }
        },
        "2ff5629146ad4e6185fe9b3afd5152a1": {
          "model_module": "@jupyter-widgets/controls",
          "model_name": "HTMLModel",
          "model_module_version": "1.5.0",
          "state": {
            "_dom_classes": [],
            "_model_module": "@jupyter-widgets/controls",
            "_model_module_version": "1.5.0",
            "_model_name": "HTMLModel",
            "_view_count": null,
            "_view_module": "@jupyter-widgets/controls",
            "_view_module_version": "1.5.0",
            "_view_name": "HTMLView",
            "description": "",
            "description_tooltip": null,
            "layout": "IPY_MODEL_78092f9c045847a3bda7b4378073d785",
            "placeholder": "​",
            "style": "IPY_MODEL_a97f60d9028d47ccb8fd8423f79bc6ac",
            "value": "Downloading: 100%"
          }
        },
        "3e99fd81358543c8a8679424c8b66b6c": {
          "model_module": "@jupyter-widgets/controls",
          "model_name": "FloatProgressModel",
          "model_module_version": "1.5.0",
          "state": {
            "_dom_classes": [],
            "_model_module": "@jupyter-widgets/controls",
            "_model_module_version": "1.5.0",
            "_model_name": "FloatProgressModel",
            "_view_count": null,
            "_view_module": "@jupyter-widgets/controls",
            "_view_module_version": "1.5.0",
            "_view_name": "ProgressView",
            "bar_style": "success",
            "description": "",
            "description_tooltip": null,
            "layout": "IPY_MODEL_349049d6b96a4d1ea6019abfceb2b610",
            "max": 632,
            "min": 0,
            "orientation": "horizontal",
            "style": "IPY_MODEL_83537cb144fb480498cc89db15f99739",
            "value": 632
          }
        },
        "9a4985132dc74d7e8cb4867a96ea35a5": {
          "model_module": "@jupyter-widgets/controls",
          "model_name": "HTMLModel",
          "model_module_version": "1.5.0",
          "state": {
            "_dom_classes": [],
            "_model_module": "@jupyter-widgets/controls",
            "_model_module_version": "1.5.0",
            "_model_name": "HTMLModel",
            "_view_count": null,
            "_view_module": "@jupyter-widgets/controls",
            "_view_module_version": "1.5.0",
            "_view_name": "HTMLView",
            "description": "",
            "description_tooltip": null,
            "layout": "IPY_MODEL_2cdaf11b98274106869e21dda4f77e15",
            "placeholder": "​",
            "style": "IPY_MODEL_7f65155b19ab4bf49953f2e24ba1048a",
            "value": " 632/632 [00:00&lt;00:00, 13.5kB/s]"
          }
        },
        "07bc8ea38a544a918c2f77ed371488c0": {
          "model_module": "@jupyter-widgets/base",
          "model_name": "LayoutModel",
          "model_module_version": "1.2.0",
          "state": {
            "_model_module": "@jupyter-widgets/base",
            "_model_module_version": "1.2.0",
            "_model_name": "LayoutModel",
            "_view_count": null,
            "_view_module": "@jupyter-widgets/base",
            "_view_module_version": "1.2.0",
            "_view_name": "LayoutView",
            "align_content": null,
            "align_items": null,
            "align_self": null,
            "border": null,
            "bottom": null,
            "display": null,
            "flex": null,
            "flex_flow": null,
            "grid_area": null,
            "grid_auto_columns": null,
            "grid_auto_flow": null,
            "grid_auto_rows": null,
            "grid_column": null,
            "grid_gap": null,
            "grid_row": null,
            "grid_template_areas": null,
            "grid_template_columns": null,
            "grid_template_rows": null,
            "height": null,
            "justify_content": null,
            "justify_items": null,
            "left": null,
            "margin": null,
            "max_height": null,
            "max_width": null,
            "min_height": null,
            "min_width": null,
            "object_fit": null,
            "object_position": null,
            "order": null,
            "overflow": null,
            "overflow_x": null,
            "overflow_y": null,
            "padding": null,
            "right": null,
            "top": null,
            "visibility": null,
            "width": null
          }
        },
        "78092f9c045847a3bda7b4378073d785": {
          "model_module": "@jupyter-widgets/base",
          "model_name": "LayoutModel",
          "model_module_version": "1.2.0",
          "state": {
            "_model_module": "@jupyter-widgets/base",
            "_model_module_version": "1.2.0",
            "_model_name": "LayoutModel",
            "_view_count": null,
            "_view_module": "@jupyter-widgets/base",
            "_view_module_version": "1.2.0",
            "_view_name": "LayoutView",
            "align_content": null,
            "align_items": null,
            "align_self": null,
            "border": null,
            "bottom": null,
            "display": null,
            "flex": null,
            "flex_flow": null,
            "grid_area": null,
            "grid_auto_columns": null,
            "grid_auto_flow": null,
            "grid_auto_rows": null,
            "grid_column": null,
            "grid_gap": null,
            "grid_row": null,
            "grid_template_areas": null,
            "grid_template_columns": null,
            "grid_template_rows": null,
            "height": null,
            "justify_content": null,
            "justify_items": null,
            "left": null,
            "margin": null,
            "max_height": null,
            "max_width": null,
            "min_height": null,
            "min_width": null,
            "object_fit": null,
            "object_position": null,
            "order": null,
            "overflow": null,
            "overflow_x": null,
            "overflow_y": null,
            "padding": null,
            "right": null,
            "top": null,
            "visibility": null,
            "width": null
          }
        },
        "a97f60d9028d47ccb8fd8423f79bc6ac": {
          "model_module": "@jupyter-widgets/controls",
          "model_name": "DescriptionStyleModel",
          "model_module_version": "1.5.0",
          "state": {
            "_model_module": "@jupyter-widgets/controls",
            "_model_module_version": "1.5.0",
            "_model_name": "DescriptionStyleModel",
            "_view_count": null,
            "_view_module": "@jupyter-widgets/base",
            "_view_module_version": "1.2.0",
            "_view_name": "StyleView",
            "description_width": ""
          }
        },
        "349049d6b96a4d1ea6019abfceb2b610": {
          "model_module": "@jupyter-widgets/base",
          "model_name": "LayoutModel",
          "model_module_version": "1.2.0",
          "state": {
            "_model_module": "@jupyter-widgets/base",
            "_model_module_version": "1.2.0",
            "_model_name": "LayoutModel",
            "_view_count": null,
            "_view_module": "@jupyter-widgets/base",
            "_view_module_version": "1.2.0",
            "_view_name": "LayoutView",
            "align_content": null,
            "align_items": null,
            "align_self": null,
            "border": null,
            "bottom": null,
            "display": null,
            "flex": null,
            "flex_flow": null,
            "grid_area": null,
            "grid_auto_columns": null,
            "grid_auto_flow": null,
            "grid_auto_rows": null,
            "grid_column": null,
            "grid_gap": null,
            "grid_row": null,
            "grid_template_areas": null,
            "grid_template_columns": null,
            "grid_template_rows": null,
            "height": null,
            "justify_content": null,
            "justify_items": null,
            "left": null,
            "margin": null,
            "max_height": null,
            "max_width": null,
            "min_height": null,
            "min_width": null,
            "object_fit": null,
            "object_position": null,
            "order": null,
            "overflow": null,
            "overflow_x": null,
            "overflow_y": null,
            "padding": null,
            "right": null,
            "top": null,
            "visibility": null,
            "width": null
          }
        },
        "83537cb144fb480498cc89db15f99739": {
          "model_module": "@jupyter-widgets/controls",
          "model_name": "ProgressStyleModel",
          "model_module_version": "1.5.0",
          "state": {
            "_model_module": "@jupyter-widgets/controls",
            "_model_module_version": "1.5.0",
            "_model_name": "ProgressStyleModel",
            "_view_count": null,
            "_view_module": "@jupyter-widgets/base",
            "_view_module_version": "1.2.0",
            "_view_name": "StyleView",
            "bar_color": null,
            "description_width": ""
          }
        },
        "2cdaf11b98274106869e21dda4f77e15": {
          "model_module": "@jupyter-widgets/base",
          "model_name": "LayoutModel",
          "model_module_version": "1.2.0",
          "state": {
            "_model_module": "@jupyter-widgets/base",
            "_model_module_version": "1.2.0",
            "_model_name": "LayoutModel",
            "_view_count": null,
            "_view_module": "@jupyter-widgets/base",
            "_view_module_version": "1.2.0",
            "_view_name": "LayoutView",
            "align_content": null,
            "align_items": null,
            "align_self": null,
            "border": null,
            "bottom": null,
            "display": null,
            "flex": null,
            "flex_flow": null,
            "grid_area": null,
            "grid_auto_columns": null,
            "grid_auto_flow": null,
            "grid_auto_rows": null,
            "grid_column": null,
            "grid_gap": null,
            "grid_row": null,
            "grid_template_areas": null,
            "grid_template_columns": null,
            "grid_template_rows": null,
            "height": null,
            "justify_content": null,
            "justify_items": null,
            "left": null,
            "margin": null,
            "max_height": null,
            "max_width": null,
            "min_height": null,
            "min_width": null,
            "object_fit": null,
            "object_position": null,
            "order": null,
            "overflow": null,
            "overflow_x": null,
            "overflow_y": null,
            "padding": null,
            "right": null,
            "top": null,
            "visibility": null,
            "width": null
          }
        },
        "7f65155b19ab4bf49953f2e24ba1048a": {
          "model_module": "@jupyter-widgets/controls",
          "model_name": "DescriptionStyleModel",
          "model_module_version": "1.5.0",
          "state": {
            "_model_module": "@jupyter-widgets/controls",
            "_model_module_version": "1.5.0",
            "_model_name": "DescriptionStyleModel",
            "_view_count": null,
            "_view_module": "@jupyter-widgets/base",
            "_view_module_version": "1.2.0",
            "_view_name": "StyleView",
            "description_width": ""
          }
        },
        "aa7867bc70444a8985fbb00bd216ec82": {
          "model_module": "@jupyter-widgets/controls",
          "model_name": "HBoxModel",
          "model_module_version": "1.5.0",
          "state": {
            "_dom_classes": [],
            "_model_module": "@jupyter-widgets/controls",
            "_model_module_version": "1.5.0",
            "_model_name": "HBoxModel",
            "_view_count": null,
            "_view_module": "@jupyter-widgets/controls",
            "_view_module_version": "1.5.0",
            "_view_name": "HBoxView",
            "box_style": "",
            "children": [
              "IPY_MODEL_2c899c27fc604c1bbb91baec970a67ba",
              "IPY_MODEL_c4deabf911c14251ad030164218f0b15",
              "IPY_MODEL_e2abc693551e42159fb8f4122dbf1aa4"
            ],
            "layout": "IPY_MODEL_d0e96bf14ceb4a4799b13db1247fd44b"
          }
        },
        "2c899c27fc604c1bbb91baec970a67ba": {
          "model_module": "@jupyter-widgets/controls",
          "model_name": "HTMLModel",
          "model_module_version": "1.5.0",
          "state": {
            "_dom_classes": [],
            "_model_module": "@jupyter-widgets/controls",
            "_model_module_version": "1.5.0",
            "_model_name": "HTMLModel",
            "_view_count": null,
            "_view_module": "@jupyter-widgets/controls",
            "_view_module_version": "1.5.0",
            "_view_name": "HTMLView",
            "description": "",
            "description_tooltip": null,
            "layout": "IPY_MODEL_becfb5b67c4246929f073b5d4dfaa43c",
            "placeholder": "​",
            "style": "IPY_MODEL_9bff43b70c24464b9d2e776bbc56e57f",
            "value": "Downloading: 100%"
          }
        },
        "c4deabf911c14251ad030164218f0b15": {
          "model_module": "@jupyter-widgets/controls",
          "model_name": "FloatProgressModel",
          "model_module_version": "1.5.0",
          "state": {
            "_dom_classes": [],
            "_model_module": "@jupyter-widgets/controls",
            "_model_module_version": "1.5.0",
            "_model_name": "FloatProgressModel",
            "_view_count": null,
            "_view_module": "@jupyter-widgets/controls",
            "_view_module_version": "1.5.0",
            "_view_name": "ProgressView",
            "bar_style": "success",
            "description": "",
            "description_tooltip": null,
            "layout": "IPY_MODEL_3987834eac954585b3894f92b19b93d2",
            "max": 241082,
            "min": 0,
            "orientation": "horizontal",
            "style": "IPY_MODEL_b9d684bfaab94f41958d5ca6492d3736",
            "value": 241082
          }
        },
        "e2abc693551e42159fb8f4122dbf1aa4": {
          "model_module": "@jupyter-widgets/controls",
          "model_name": "HTMLModel",
          "model_module_version": "1.5.0",
          "state": {
            "_dom_classes": [],
            "_model_module": "@jupyter-widgets/controls",
            "_model_module_version": "1.5.0",
            "_model_name": "HTMLModel",
            "_view_count": null,
            "_view_module": "@jupyter-widgets/controls",
            "_view_module_version": "1.5.0",
            "_view_name": "HTMLView",
            "description": "",
            "description_tooltip": null,
            "layout": "IPY_MODEL_319f87dfb8bf4cbf87b7d84be20d5103",
            "placeholder": "​",
            "style": "IPY_MODEL_b34845fe9465409c88b1fb58224986e9",
            "value": " 241k/241k [00:00&lt;00:00, 884kB/s]"
          }
        },
        "d0e96bf14ceb4a4799b13db1247fd44b": {
          "model_module": "@jupyter-widgets/base",
          "model_name": "LayoutModel",
          "model_module_version": "1.2.0",
          "state": {
            "_model_module": "@jupyter-widgets/base",
            "_model_module_version": "1.2.0",
            "_model_name": "LayoutModel",
            "_view_count": null,
            "_view_module": "@jupyter-widgets/base",
            "_view_module_version": "1.2.0",
            "_view_name": "LayoutView",
            "align_content": null,
            "align_items": null,
            "align_self": null,
            "border": null,
            "bottom": null,
            "display": null,
            "flex": null,
            "flex_flow": null,
            "grid_area": null,
            "grid_auto_columns": null,
            "grid_auto_flow": null,
            "grid_auto_rows": null,
            "grid_column": null,
            "grid_gap": null,
            "grid_row": null,
            "grid_template_areas": null,
            "grid_template_columns": null,
            "grid_template_rows": null,
            "height": null,
            "justify_content": null,
            "justify_items": null,
            "left": null,
            "margin": null,
            "max_height": null,
            "max_width": null,
            "min_height": null,
            "min_width": null,
            "object_fit": null,
            "object_position": null,
            "order": null,
            "overflow": null,
            "overflow_x": null,
            "overflow_y": null,
            "padding": null,
            "right": null,
            "top": null,
            "visibility": null,
            "width": null
          }
        },
        "becfb5b67c4246929f073b5d4dfaa43c": {
          "model_module": "@jupyter-widgets/base",
          "model_name": "LayoutModel",
          "model_module_version": "1.2.0",
          "state": {
            "_model_module": "@jupyter-widgets/base",
            "_model_module_version": "1.2.0",
            "_model_name": "LayoutModel",
            "_view_count": null,
            "_view_module": "@jupyter-widgets/base",
            "_view_module_version": "1.2.0",
            "_view_name": "LayoutView",
            "align_content": null,
            "align_items": null,
            "align_self": null,
            "border": null,
            "bottom": null,
            "display": null,
            "flex": null,
            "flex_flow": null,
            "grid_area": null,
            "grid_auto_columns": null,
            "grid_auto_flow": null,
            "grid_auto_rows": null,
            "grid_column": null,
            "grid_gap": null,
            "grid_row": null,
            "grid_template_areas": null,
            "grid_template_columns": null,
            "grid_template_rows": null,
            "height": null,
            "justify_content": null,
            "justify_items": null,
            "left": null,
            "margin": null,
            "max_height": null,
            "max_width": null,
            "min_height": null,
            "min_width": null,
            "object_fit": null,
            "object_position": null,
            "order": null,
            "overflow": null,
            "overflow_x": null,
            "overflow_y": null,
            "padding": null,
            "right": null,
            "top": null,
            "visibility": null,
            "width": null
          }
        },
        "9bff43b70c24464b9d2e776bbc56e57f": {
          "model_module": "@jupyter-widgets/controls",
          "model_name": "DescriptionStyleModel",
          "model_module_version": "1.5.0",
          "state": {
            "_model_module": "@jupyter-widgets/controls",
            "_model_module_version": "1.5.0",
            "_model_name": "DescriptionStyleModel",
            "_view_count": null,
            "_view_module": "@jupyter-widgets/base",
            "_view_module_version": "1.2.0",
            "_view_name": "StyleView",
            "description_width": ""
          }
        },
        "3987834eac954585b3894f92b19b93d2": {
          "model_module": "@jupyter-widgets/base",
          "model_name": "LayoutModel",
          "model_module_version": "1.2.0",
          "state": {
            "_model_module": "@jupyter-widgets/base",
            "_model_module_version": "1.2.0",
            "_model_name": "LayoutModel",
            "_view_count": null,
            "_view_module": "@jupyter-widgets/base",
            "_view_module_version": "1.2.0",
            "_view_name": "LayoutView",
            "align_content": null,
            "align_items": null,
            "align_self": null,
            "border": null,
            "bottom": null,
            "display": null,
            "flex": null,
            "flex_flow": null,
            "grid_area": null,
            "grid_auto_columns": null,
            "grid_auto_flow": null,
            "grid_auto_rows": null,
            "grid_column": null,
            "grid_gap": null,
            "grid_row": null,
            "grid_template_areas": null,
            "grid_template_columns": null,
            "grid_template_rows": null,
            "height": null,
            "justify_content": null,
            "justify_items": null,
            "left": null,
            "margin": null,
            "max_height": null,
            "max_width": null,
            "min_height": null,
            "min_width": null,
            "object_fit": null,
            "object_position": null,
            "order": null,
            "overflow": null,
            "overflow_x": null,
            "overflow_y": null,
            "padding": null,
            "right": null,
            "top": null,
            "visibility": null,
            "width": null
          }
        },
        "b9d684bfaab94f41958d5ca6492d3736": {
          "model_module": "@jupyter-widgets/controls",
          "model_name": "ProgressStyleModel",
          "model_module_version": "1.5.0",
          "state": {
            "_model_module": "@jupyter-widgets/controls",
            "_model_module_version": "1.5.0",
            "_model_name": "ProgressStyleModel",
            "_view_count": null,
            "_view_module": "@jupyter-widgets/base",
            "_view_module_version": "1.2.0",
            "_view_name": "StyleView",
            "bar_color": null,
            "description_width": ""
          }
        },
        "319f87dfb8bf4cbf87b7d84be20d5103": {
          "model_module": "@jupyter-widgets/base",
          "model_name": "LayoutModel",
          "model_module_version": "1.2.0",
          "state": {
            "_model_module": "@jupyter-widgets/base",
            "_model_module_version": "1.2.0",
            "_model_name": "LayoutModel",
            "_view_count": null,
            "_view_module": "@jupyter-widgets/base",
            "_view_module_version": "1.2.0",
            "_view_name": "LayoutView",
            "align_content": null,
            "align_items": null,
            "align_self": null,
            "border": null,
            "bottom": null,
            "display": null,
            "flex": null,
            "flex_flow": null,
            "grid_area": null,
            "grid_auto_columns": null,
            "grid_auto_flow": null,
            "grid_auto_rows": null,
            "grid_column": null,
            "grid_gap": null,
            "grid_row": null,
            "grid_template_areas": null,
            "grid_template_columns": null,
            "grid_template_rows": null,
            "height": null,
            "justify_content": null,
            "justify_items": null,
            "left": null,
            "margin": null,
            "max_height": null,
            "max_width": null,
            "min_height": null,
            "min_width": null,
            "object_fit": null,
            "object_position": null,
            "order": null,
            "overflow": null,
            "overflow_x": null,
            "overflow_y": null,
            "padding": null,
            "right": null,
            "top": null,
            "visibility": null,
            "width": null
          }
        },
        "b34845fe9465409c88b1fb58224986e9": {
          "model_module": "@jupyter-widgets/controls",
          "model_name": "DescriptionStyleModel",
          "model_module_version": "1.5.0",
          "state": {
            "_model_module": "@jupyter-widgets/controls",
            "_model_module_version": "1.5.0",
            "_model_name": "DescriptionStyleModel",
            "_view_count": null,
            "_view_module": "@jupyter-widgets/base",
            "_view_module_version": "1.2.0",
            "_view_name": "StyleView",
            "description_width": ""
          }
        },
        "1a25d99720c64522aef0e63c0faba857": {
          "model_module": "@jupyter-widgets/controls",
          "model_name": "HBoxModel",
          "model_module_version": "1.5.0",
          "state": {
            "_dom_classes": [],
            "_model_module": "@jupyter-widgets/controls",
            "_model_module_version": "1.5.0",
            "_model_name": "HBoxModel",
            "_view_count": null,
            "_view_module": "@jupyter-widgets/controls",
            "_view_module_version": "1.5.0",
            "_view_name": "HBoxView",
            "box_style": "",
            "children": [
              "IPY_MODEL_78a38f55920d46e694e3be56a322ccf0",
              "IPY_MODEL_4fbc3aea1c66414985d25767973f7992",
              "IPY_MODEL_f5579744233a43ffb80f2d7189dbe5a5"
            ],
            "layout": "IPY_MODEL_e55f3ad39b2a4cc2a750d675701ed79f"
          }
        },
        "78a38f55920d46e694e3be56a322ccf0": {
          "model_module": "@jupyter-widgets/controls",
          "model_name": "HTMLModel",
          "model_module_version": "1.5.0",
          "state": {
            "_dom_classes": [],
            "_model_module": "@jupyter-widgets/controls",
            "_model_module_version": "1.5.0",
            "_model_name": "HTMLModel",
            "_view_count": null,
            "_view_module": "@jupyter-widgets/controls",
            "_view_module_version": "1.5.0",
            "_view_name": "HTMLView",
            "description": "",
            "description_tooltip": null,
            "layout": "IPY_MODEL_c10cf785b57d4b17b67e8bc19c7bd861",
            "placeholder": "​",
            "style": "IPY_MODEL_77b1ce8979794d3f9b0fb806b43b7530",
            "value": "Downloading: 100%"
          }
        },
        "4fbc3aea1c66414985d25767973f7992": {
          "model_module": "@jupyter-widgets/controls",
          "model_name": "FloatProgressModel",
          "model_module_version": "1.5.0",
          "state": {
            "_dom_classes": [],
            "_model_module": "@jupyter-widgets/controls",
            "_model_module_version": "1.5.0",
            "_model_name": "FloatProgressModel",
            "_view_count": null,
            "_view_module": "@jupyter-widgets/controls",
            "_view_module_version": "1.5.0",
            "_view_name": "ProgressView",
            "bar_style": "success",
            "description": "",
            "description_tooltip": null,
            "layout": "IPY_MODEL_8142ff5ee27544158190a18af6c4cef7",
            "max": 468145,
            "min": 0,
            "orientation": "horizontal",
            "style": "IPY_MODEL_15261e9a9acb4b1096ae206872389ca7",
            "value": 468145
          }
        },
        "f5579744233a43ffb80f2d7189dbe5a5": {
          "model_module": "@jupyter-widgets/controls",
          "model_name": "HTMLModel",
          "model_module_version": "1.5.0",
          "state": {
            "_dom_classes": [],
            "_model_module": "@jupyter-widgets/controls",
            "_model_module_version": "1.5.0",
            "_model_name": "HTMLModel",
            "_view_count": null,
            "_view_module": "@jupyter-widgets/controls",
            "_view_module_version": "1.5.0",
            "_view_name": "HTMLView",
            "description": "",
            "description_tooltip": null,
            "layout": "IPY_MODEL_566bcf2c4b1c443ebf1b932de8f921d4",
            "placeholder": "​",
            "style": "IPY_MODEL_983bae6520154da696f450f44500c52e",
            "value": " 468k/468k [00:00&lt;00:00, 829kB/s]"
          }
        },
        "e55f3ad39b2a4cc2a750d675701ed79f": {
          "model_module": "@jupyter-widgets/base",
          "model_name": "LayoutModel",
          "model_module_version": "1.2.0",
          "state": {
            "_model_module": "@jupyter-widgets/base",
            "_model_module_version": "1.2.0",
            "_model_name": "LayoutModel",
            "_view_count": null,
            "_view_module": "@jupyter-widgets/base",
            "_view_module_version": "1.2.0",
            "_view_name": "LayoutView",
            "align_content": null,
            "align_items": null,
            "align_self": null,
            "border": null,
            "bottom": null,
            "display": null,
            "flex": null,
            "flex_flow": null,
            "grid_area": null,
            "grid_auto_columns": null,
            "grid_auto_flow": null,
            "grid_auto_rows": null,
            "grid_column": null,
            "grid_gap": null,
            "grid_row": null,
            "grid_template_areas": null,
            "grid_template_columns": null,
            "grid_template_rows": null,
            "height": null,
            "justify_content": null,
            "justify_items": null,
            "left": null,
            "margin": null,
            "max_height": null,
            "max_width": null,
            "min_height": null,
            "min_width": null,
            "object_fit": null,
            "object_position": null,
            "order": null,
            "overflow": null,
            "overflow_x": null,
            "overflow_y": null,
            "padding": null,
            "right": null,
            "top": null,
            "visibility": null,
            "width": null
          }
        },
        "c10cf785b57d4b17b67e8bc19c7bd861": {
          "model_module": "@jupyter-widgets/base",
          "model_name": "LayoutModel",
          "model_module_version": "1.2.0",
          "state": {
            "_model_module": "@jupyter-widgets/base",
            "_model_module_version": "1.2.0",
            "_model_name": "LayoutModel",
            "_view_count": null,
            "_view_module": "@jupyter-widgets/base",
            "_view_module_version": "1.2.0",
            "_view_name": "LayoutView",
            "align_content": null,
            "align_items": null,
            "align_self": null,
            "border": null,
            "bottom": null,
            "display": null,
            "flex": null,
            "flex_flow": null,
            "grid_area": null,
            "grid_auto_columns": null,
            "grid_auto_flow": null,
            "grid_auto_rows": null,
            "grid_column": null,
            "grid_gap": null,
            "grid_row": null,
            "grid_template_areas": null,
            "grid_template_columns": null,
            "grid_template_rows": null,
            "height": null,
            "justify_content": null,
            "justify_items": null,
            "left": null,
            "margin": null,
            "max_height": null,
            "max_width": null,
            "min_height": null,
            "min_width": null,
            "object_fit": null,
            "object_position": null,
            "order": null,
            "overflow": null,
            "overflow_x": null,
            "overflow_y": null,
            "padding": null,
            "right": null,
            "top": null,
            "visibility": null,
            "width": null
          }
        },
        "77b1ce8979794d3f9b0fb806b43b7530": {
          "model_module": "@jupyter-widgets/controls",
          "model_name": "DescriptionStyleModel",
          "model_module_version": "1.5.0",
          "state": {
            "_model_module": "@jupyter-widgets/controls",
            "_model_module_version": "1.5.0",
            "_model_name": "DescriptionStyleModel",
            "_view_count": null,
            "_view_module": "@jupyter-widgets/base",
            "_view_module_version": "1.2.0",
            "_view_name": "StyleView",
            "description_width": ""
          }
        },
        "8142ff5ee27544158190a18af6c4cef7": {
          "model_module": "@jupyter-widgets/base",
          "model_name": "LayoutModel",
          "model_module_version": "1.2.0",
          "state": {
            "_model_module": "@jupyter-widgets/base",
            "_model_module_version": "1.2.0",
            "_model_name": "LayoutModel",
            "_view_count": null,
            "_view_module": "@jupyter-widgets/base",
            "_view_module_version": "1.2.0",
            "_view_name": "LayoutView",
            "align_content": null,
            "align_items": null,
            "align_self": null,
            "border": null,
            "bottom": null,
            "display": null,
            "flex": null,
            "flex_flow": null,
            "grid_area": null,
            "grid_auto_columns": null,
            "grid_auto_flow": null,
            "grid_auto_rows": null,
            "grid_column": null,
            "grid_gap": null,
            "grid_row": null,
            "grid_template_areas": null,
            "grid_template_columns": null,
            "grid_template_rows": null,
            "height": null,
            "justify_content": null,
            "justify_items": null,
            "left": null,
            "margin": null,
            "max_height": null,
            "max_width": null,
            "min_height": null,
            "min_width": null,
            "object_fit": null,
            "object_position": null,
            "order": null,
            "overflow": null,
            "overflow_x": null,
            "overflow_y": null,
            "padding": null,
            "right": null,
            "top": null,
            "visibility": null,
            "width": null
          }
        },
        "15261e9a9acb4b1096ae206872389ca7": {
          "model_module": "@jupyter-widgets/controls",
          "model_name": "ProgressStyleModel",
          "model_module_version": "1.5.0",
          "state": {
            "_model_module": "@jupyter-widgets/controls",
            "_model_module_version": "1.5.0",
            "_model_name": "ProgressStyleModel",
            "_view_count": null,
            "_view_module": "@jupyter-widgets/base",
            "_view_module_version": "1.2.0",
            "_view_name": "StyleView",
            "bar_color": null,
            "description_width": ""
          }
        },
        "566bcf2c4b1c443ebf1b932de8f921d4": {
          "model_module": "@jupyter-widgets/base",
          "model_name": "LayoutModel",
          "model_module_version": "1.2.0",
          "state": {
            "_model_module": "@jupyter-widgets/base",
            "_model_module_version": "1.2.0",
            "_model_name": "LayoutModel",
            "_view_count": null,
            "_view_module": "@jupyter-widgets/base",
            "_view_module_version": "1.2.0",
            "_view_name": "LayoutView",
            "align_content": null,
            "align_items": null,
            "align_self": null,
            "border": null,
            "bottom": null,
            "display": null,
            "flex": null,
            "flex_flow": null,
            "grid_area": null,
            "grid_auto_columns": null,
            "grid_auto_flow": null,
            "grid_auto_rows": null,
            "grid_column": null,
            "grid_gap": null,
            "grid_row": null,
            "grid_template_areas": null,
            "grid_template_columns": null,
            "grid_template_rows": null,
            "height": null,
            "justify_content": null,
            "justify_items": null,
            "left": null,
            "margin": null,
            "max_height": null,
            "max_width": null,
            "min_height": null,
            "min_width": null,
            "object_fit": null,
            "object_position": null,
            "order": null,
            "overflow": null,
            "overflow_x": null,
            "overflow_y": null,
            "padding": null,
            "right": null,
            "top": null,
            "visibility": null,
            "width": null
          }
        },
        "983bae6520154da696f450f44500c52e": {
          "model_module": "@jupyter-widgets/controls",
          "model_name": "DescriptionStyleModel",
          "model_module_version": "1.5.0",
          "state": {
            "_model_module": "@jupyter-widgets/controls",
            "_model_module_version": "1.5.0",
            "_model_name": "DescriptionStyleModel",
            "_view_count": null,
            "_view_module": "@jupyter-widgets/base",
            "_view_module_version": "1.2.0",
            "_view_name": "StyleView",
            "description_width": ""
          }
        },
        "5336bbdd6f964aee8ff1ffd07c2e1545": {
          "model_module": "@jupyter-widgets/controls",
          "model_name": "HBoxModel",
          "model_module_version": "1.5.0",
          "state": {
            "_dom_classes": [],
            "_model_module": "@jupyter-widgets/controls",
            "_model_module_version": "1.5.0",
            "_model_name": "HBoxModel",
            "_view_count": null,
            "_view_module": "@jupyter-widgets/controls",
            "_view_module_version": "1.5.0",
            "_view_name": "HBoxView",
            "box_style": "",
            "children": [
              "IPY_MODEL_02a2b9f74f12468782022f5ed3dc9a38",
              "IPY_MODEL_e04338b5399c44808b7d3ecc131814c1",
              "IPY_MODEL_2c5593a274004ec187d22ac9a71513f4"
            ],
            "layout": "IPY_MODEL_9bf9a2d419b64bc9953bacf582d44a95"
          }
        },
        "02a2b9f74f12468782022f5ed3dc9a38": {
          "model_module": "@jupyter-widgets/controls",
          "model_name": "HTMLModel",
          "model_module_version": "1.5.0",
          "state": {
            "_dom_classes": [],
            "_model_module": "@jupyter-widgets/controls",
            "_model_module_version": "1.5.0",
            "_model_name": "HTMLModel",
            "_view_count": null,
            "_view_module": "@jupyter-widgets/controls",
            "_view_module_version": "1.5.0",
            "_view_name": "HTMLView",
            "description": "",
            "description_tooltip": null,
            "layout": "IPY_MODEL_245be9aa500d4b4f99182ffcf25421dd",
            "placeholder": "​",
            "style": "IPY_MODEL_256a1585a5ac4e0fa54a8c31826a9b78",
            "value": "Downloading: 100%"
          }
        },
        "e04338b5399c44808b7d3ecc131814c1": {
          "model_module": "@jupyter-widgets/controls",
          "model_name": "FloatProgressModel",
          "model_module_version": "1.5.0",
          "state": {
            "_dom_classes": [],
            "_model_module": "@jupyter-widgets/controls",
            "_model_module_version": "1.5.0",
            "_model_name": "FloatProgressModel",
            "_view_count": null,
            "_view_module": "@jupyter-widgets/controls",
            "_view_module_version": "1.5.0",
            "_view_name": "ProgressView",
            "bar_style": "success",
            "description": "",
            "description_tooltip": null,
            "layout": "IPY_MODEL_db5a32aca95340789c5d5f82002a1653",
            "max": 112,
            "min": 0,
            "orientation": "horizontal",
            "style": "IPY_MODEL_0f377d3ddf3e44688d8f56148ae2dfe4",
            "value": 112
          }
        },
        "2c5593a274004ec187d22ac9a71513f4": {
          "model_module": "@jupyter-widgets/controls",
          "model_name": "HTMLModel",
          "model_module_version": "1.5.0",
          "state": {
            "_dom_classes": [],
            "_model_module": "@jupyter-widgets/controls",
            "_model_module_version": "1.5.0",
            "_model_name": "HTMLModel",
            "_view_count": null,
            "_view_module": "@jupyter-widgets/controls",
            "_view_module_version": "1.5.0",
            "_view_name": "HTMLView",
            "description": "",
            "description_tooltip": null,
            "layout": "IPY_MODEL_3bd4602f028e45c48f50704c97245bb1",
            "placeholder": "​",
            "style": "IPY_MODEL_39c2a0ce269b42b48cedc539fed42b0b",
            "value": " 112/112 [00:00&lt;00:00, 1.40kB/s]"
          }
        },
        "9bf9a2d419b64bc9953bacf582d44a95": {
          "model_module": "@jupyter-widgets/base",
          "model_name": "LayoutModel",
          "model_module_version": "1.2.0",
          "state": {
            "_model_module": "@jupyter-widgets/base",
            "_model_module_version": "1.2.0",
            "_model_name": "LayoutModel",
            "_view_count": null,
            "_view_module": "@jupyter-widgets/base",
            "_view_module_version": "1.2.0",
            "_view_name": "LayoutView",
            "align_content": null,
            "align_items": null,
            "align_self": null,
            "border": null,
            "bottom": null,
            "display": null,
            "flex": null,
            "flex_flow": null,
            "grid_area": null,
            "grid_auto_columns": null,
            "grid_auto_flow": null,
            "grid_auto_rows": null,
            "grid_column": null,
            "grid_gap": null,
            "grid_row": null,
            "grid_template_areas": null,
            "grid_template_columns": null,
            "grid_template_rows": null,
            "height": null,
            "justify_content": null,
            "justify_items": null,
            "left": null,
            "margin": null,
            "max_height": null,
            "max_width": null,
            "min_height": null,
            "min_width": null,
            "object_fit": null,
            "object_position": null,
            "order": null,
            "overflow": null,
            "overflow_x": null,
            "overflow_y": null,
            "padding": null,
            "right": null,
            "top": null,
            "visibility": null,
            "width": null
          }
        },
        "245be9aa500d4b4f99182ffcf25421dd": {
          "model_module": "@jupyter-widgets/base",
          "model_name": "LayoutModel",
          "model_module_version": "1.2.0",
          "state": {
            "_model_module": "@jupyter-widgets/base",
            "_model_module_version": "1.2.0",
            "_model_name": "LayoutModel",
            "_view_count": null,
            "_view_module": "@jupyter-widgets/base",
            "_view_module_version": "1.2.0",
            "_view_name": "LayoutView",
            "align_content": null,
            "align_items": null,
            "align_self": null,
            "border": null,
            "bottom": null,
            "display": null,
            "flex": null,
            "flex_flow": null,
            "grid_area": null,
            "grid_auto_columns": null,
            "grid_auto_flow": null,
            "grid_auto_rows": null,
            "grid_column": null,
            "grid_gap": null,
            "grid_row": null,
            "grid_template_areas": null,
            "grid_template_columns": null,
            "grid_template_rows": null,
            "height": null,
            "justify_content": null,
            "justify_items": null,
            "left": null,
            "margin": null,
            "max_height": null,
            "max_width": null,
            "min_height": null,
            "min_width": null,
            "object_fit": null,
            "object_position": null,
            "order": null,
            "overflow": null,
            "overflow_x": null,
            "overflow_y": null,
            "padding": null,
            "right": null,
            "top": null,
            "visibility": null,
            "width": null
          }
        },
        "256a1585a5ac4e0fa54a8c31826a9b78": {
          "model_module": "@jupyter-widgets/controls",
          "model_name": "DescriptionStyleModel",
          "model_module_version": "1.5.0",
          "state": {
            "_model_module": "@jupyter-widgets/controls",
            "_model_module_version": "1.5.0",
            "_model_name": "DescriptionStyleModel",
            "_view_count": null,
            "_view_module": "@jupyter-widgets/base",
            "_view_module_version": "1.2.0",
            "_view_name": "StyleView",
            "description_width": ""
          }
        },
        "db5a32aca95340789c5d5f82002a1653": {
          "model_module": "@jupyter-widgets/base",
          "model_name": "LayoutModel",
          "model_module_version": "1.2.0",
          "state": {
            "_model_module": "@jupyter-widgets/base",
            "_model_module_version": "1.2.0",
            "_model_name": "LayoutModel",
            "_view_count": null,
            "_view_module": "@jupyter-widgets/base",
            "_view_module_version": "1.2.0",
            "_view_name": "LayoutView",
            "align_content": null,
            "align_items": null,
            "align_self": null,
            "border": null,
            "bottom": null,
            "display": null,
            "flex": null,
            "flex_flow": null,
            "grid_area": null,
            "grid_auto_columns": null,
            "grid_auto_flow": null,
            "grid_auto_rows": null,
            "grid_column": null,
            "grid_gap": null,
            "grid_row": null,
            "grid_template_areas": null,
            "grid_template_columns": null,
            "grid_template_rows": null,
            "height": null,
            "justify_content": null,
            "justify_items": null,
            "left": null,
            "margin": null,
            "max_height": null,
            "max_width": null,
            "min_height": null,
            "min_width": null,
            "object_fit": null,
            "object_position": null,
            "order": null,
            "overflow": null,
            "overflow_x": null,
            "overflow_y": null,
            "padding": null,
            "right": null,
            "top": null,
            "visibility": null,
            "width": null
          }
        },
        "0f377d3ddf3e44688d8f56148ae2dfe4": {
          "model_module": "@jupyter-widgets/controls",
          "model_name": "ProgressStyleModel",
          "model_module_version": "1.5.0",
          "state": {
            "_model_module": "@jupyter-widgets/controls",
            "_model_module_version": "1.5.0",
            "_model_name": "ProgressStyleModel",
            "_view_count": null,
            "_view_module": "@jupyter-widgets/base",
            "_view_module_version": "1.2.0",
            "_view_name": "StyleView",
            "bar_color": null,
            "description_width": ""
          }
        },
        "3bd4602f028e45c48f50704c97245bb1": {
          "model_module": "@jupyter-widgets/base",
          "model_name": "LayoutModel",
          "model_module_version": "1.2.0",
          "state": {
            "_model_module": "@jupyter-widgets/base",
            "_model_module_version": "1.2.0",
            "_model_name": "LayoutModel",
            "_view_count": null,
            "_view_module": "@jupyter-widgets/base",
            "_view_module_version": "1.2.0",
            "_view_name": "LayoutView",
            "align_content": null,
            "align_items": null,
            "align_self": null,
            "border": null,
            "bottom": null,
            "display": null,
            "flex": null,
            "flex_flow": null,
            "grid_area": null,
            "grid_auto_columns": null,
            "grid_auto_flow": null,
            "grid_auto_rows": null,
            "grid_column": null,
            "grid_gap": null,
            "grid_row": null,
            "grid_template_areas": null,
            "grid_template_columns": null,
            "grid_template_rows": null,
            "height": null,
            "justify_content": null,
            "justify_items": null,
            "left": null,
            "margin": null,
            "max_height": null,
            "max_width": null,
            "min_height": null,
            "min_width": null,
            "object_fit": null,
            "object_position": null,
            "order": null,
            "overflow": null,
            "overflow_x": null,
            "overflow_y": null,
            "padding": null,
            "right": null,
            "top": null,
            "visibility": null,
            "width": null
          }
        },
        "39c2a0ce269b42b48cedc539fed42b0b": {
          "model_module": "@jupyter-widgets/controls",
          "model_name": "DescriptionStyleModel",
          "model_module_version": "1.5.0",
          "state": {
            "_model_module": "@jupyter-widgets/controls",
            "_model_module_version": "1.5.0",
            "_model_name": "DescriptionStyleModel",
            "_view_count": null,
            "_view_module": "@jupyter-widgets/base",
            "_view_module_version": "1.2.0",
            "_view_name": "StyleView",
            "description_width": ""
          }
        },
        "1486ca00fb7c4d6a9e7486913c02994a": {
          "model_module": "@jupyter-widgets/controls",
          "model_name": "HBoxModel",
          "model_module_version": "1.5.0",
          "state": {
            "_dom_classes": [],
            "_model_module": "@jupyter-widgets/controls",
            "_model_module_version": "1.5.0",
            "_model_name": "HBoxModel",
            "_view_count": null,
            "_view_module": "@jupyter-widgets/controls",
            "_view_module_version": "1.5.0",
            "_view_name": "HBoxView",
            "box_style": "",
            "children": [
              "IPY_MODEL_73dda9160b6c428aa0ac6c1d5eb2adbc",
              "IPY_MODEL_dd3394588e2c4f5c9aa4334d5b251806",
              "IPY_MODEL_b64f11bce5284c4f8c8f69f22725e317"
            ],
            "layout": "IPY_MODEL_4c9d4e119ec7400187dc6fe1916dce08"
          }
        },
        "73dda9160b6c428aa0ac6c1d5eb2adbc": {
          "model_module": "@jupyter-widgets/controls",
          "model_name": "HTMLModel",
          "model_module_version": "1.5.0",
          "state": {
            "_dom_classes": [],
            "_model_module": "@jupyter-widgets/controls",
            "_model_module_version": "1.5.0",
            "_model_name": "HTMLModel",
            "_view_count": null,
            "_view_module": "@jupyter-widgets/controls",
            "_view_module_version": "1.5.0",
            "_view_name": "HTMLView",
            "description": "",
            "description_tooltip": null,
            "layout": "IPY_MODEL_6a2fb1983f8346d790244ae5068aec30",
            "placeholder": "​",
            "style": "IPY_MODEL_d02a59c6b884494a973b8a23da1747e4",
            "value": "Downloading: 100%"
          }
        },
        "dd3394588e2c4f5c9aa4334d5b251806": {
          "model_module": "@jupyter-widgets/controls",
          "model_name": "FloatProgressModel",
          "model_module_version": "1.5.0",
          "state": {
            "_dom_classes": [],
            "_model_module": "@jupyter-widgets/controls",
            "_model_module_version": "1.5.0",
            "_model_name": "FloatProgressModel",
            "_view_count": null,
            "_view_module": "@jupyter-widgets/controls",
            "_view_module_version": "1.5.0",
            "_view_name": "ProgressView",
            "bar_style": "success",
            "description": "",
            "description_tooltip": null,
            "layout": "IPY_MODEL_73abe56d4b364f0d9c96049ccc1b28b6",
            "max": 47679974,
            "min": 0,
            "orientation": "horizontal",
            "style": "IPY_MODEL_eee4fc89c8054928b91f0665365d4a52",
            "value": 47679974
          }
        },
        "b64f11bce5284c4f8c8f69f22725e317": {
          "model_module": "@jupyter-widgets/controls",
          "model_name": "HTMLModel",
          "model_module_version": "1.5.0",
          "state": {
            "_dom_classes": [],
            "_model_module": "@jupyter-widgets/controls",
            "_model_module_version": "1.5.0",
            "_model_name": "HTMLModel",
            "_view_count": null,
            "_view_module": "@jupyter-widgets/controls",
            "_view_module_version": "1.5.0",
            "_view_name": "HTMLView",
            "description": "",
            "description_tooltip": null,
            "layout": "IPY_MODEL_dd67f3005eb743d38e0319dc392ba2b3",
            "placeholder": "​",
            "style": "IPY_MODEL_2f2a735e1ff84590af67b98251b0d3ae",
            "value": " 47.7M/47.7M [00:01&lt;00:00, 29.8MB/s]"
          }
        },
        "4c9d4e119ec7400187dc6fe1916dce08": {
          "model_module": "@jupyter-widgets/base",
          "model_name": "LayoutModel",
          "model_module_version": "1.2.0",
          "state": {
            "_model_module": "@jupyter-widgets/base",
            "_model_module_version": "1.2.0",
            "_model_name": "LayoutModel",
            "_view_count": null,
            "_view_module": "@jupyter-widgets/base",
            "_view_module_version": "1.2.0",
            "_view_name": "LayoutView",
            "align_content": null,
            "align_items": null,
            "align_self": null,
            "border": null,
            "bottom": null,
            "display": null,
            "flex": null,
            "flex_flow": null,
            "grid_area": null,
            "grid_auto_columns": null,
            "grid_auto_flow": null,
            "grid_auto_rows": null,
            "grid_column": null,
            "grid_gap": null,
            "grid_row": null,
            "grid_template_areas": null,
            "grid_template_columns": null,
            "grid_template_rows": null,
            "height": null,
            "justify_content": null,
            "justify_items": null,
            "left": null,
            "margin": null,
            "max_height": null,
            "max_width": null,
            "min_height": null,
            "min_width": null,
            "object_fit": null,
            "object_position": null,
            "order": null,
            "overflow": null,
            "overflow_x": null,
            "overflow_y": null,
            "padding": null,
            "right": null,
            "top": null,
            "visibility": null,
            "width": null
          }
        },
        "6a2fb1983f8346d790244ae5068aec30": {
          "model_module": "@jupyter-widgets/base",
          "model_name": "LayoutModel",
          "model_module_version": "1.2.0",
          "state": {
            "_model_module": "@jupyter-widgets/base",
            "_model_module_version": "1.2.0",
            "_model_name": "LayoutModel",
            "_view_count": null,
            "_view_module": "@jupyter-widgets/base",
            "_view_module_version": "1.2.0",
            "_view_name": "LayoutView",
            "align_content": null,
            "align_items": null,
            "align_self": null,
            "border": null,
            "bottom": null,
            "display": null,
            "flex": null,
            "flex_flow": null,
            "grid_area": null,
            "grid_auto_columns": null,
            "grid_auto_flow": null,
            "grid_auto_rows": null,
            "grid_column": null,
            "grid_gap": null,
            "grid_row": null,
            "grid_template_areas": null,
            "grid_template_columns": null,
            "grid_template_rows": null,
            "height": null,
            "justify_content": null,
            "justify_items": null,
            "left": null,
            "margin": null,
            "max_height": null,
            "max_width": null,
            "min_height": null,
            "min_width": null,
            "object_fit": null,
            "object_position": null,
            "order": null,
            "overflow": null,
            "overflow_x": null,
            "overflow_y": null,
            "padding": null,
            "right": null,
            "top": null,
            "visibility": null,
            "width": null
          }
        },
        "d02a59c6b884494a973b8a23da1747e4": {
          "model_module": "@jupyter-widgets/controls",
          "model_name": "DescriptionStyleModel",
          "model_module_version": "1.5.0",
          "state": {
            "_model_module": "@jupyter-widgets/controls",
            "_model_module_version": "1.5.0",
            "_model_name": "DescriptionStyleModel",
            "_view_count": null,
            "_view_module": "@jupyter-widgets/base",
            "_view_module_version": "1.2.0",
            "_view_name": "StyleView",
            "description_width": ""
          }
        },
        "73abe56d4b364f0d9c96049ccc1b28b6": {
          "model_module": "@jupyter-widgets/base",
          "model_name": "LayoutModel",
          "model_module_version": "1.2.0",
          "state": {
            "_model_module": "@jupyter-widgets/base",
            "_model_module_version": "1.2.0",
            "_model_name": "LayoutModel",
            "_view_count": null,
            "_view_module": "@jupyter-widgets/base",
            "_view_module_version": "1.2.0",
            "_view_name": "LayoutView",
            "align_content": null,
            "align_items": null,
            "align_self": null,
            "border": null,
            "bottom": null,
            "display": null,
            "flex": null,
            "flex_flow": null,
            "grid_area": null,
            "grid_auto_columns": null,
            "grid_auto_flow": null,
            "grid_auto_rows": null,
            "grid_column": null,
            "grid_gap": null,
            "grid_row": null,
            "grid_template_areas": null,
            "grid_template_columns": null,
            "grid_template_rows": null,
            "height": null,
            "justify_content": null,
            "justify_items": null,
            "left": null,
            "margin": null,
            "max_height": null,
            "max_width": null,
            "min_height": null,
            "min_width": null,
            "object_fit": null,
            "object_position": null,
            "order": null,
            "overflow": null,
            "overflow_x": null,
            "overflow_y": null,
            "padding": null,
            "right": null,
            "top": null,
            "visibility": null,
            "width": null
          }
        },
        "eee4fc89c8054928b91f0665365d4a52": {
          "model_module": "@jupyter-widgets/controls",
          "model_name": "ProgressStyleModel",
          "model_module_version": "1.5.0",
          "state": {
            "_model_module": "@jupyter-widgets/controls",
            "_model_module_version": "1.5.0",
            "_model_name": "ProgressStyleModel",
            "_view_count": null,
            "_view_module": "@jupyter-widgets/base",
            "_view_module_version": "1.2.0",
            "_view_name": "StyleView",
            "bar_color": null,
            "description_width": ""
          }
        },
        "dd67f3005eb743d38e0319dc392ba2b3": {
          "model_module": "@jupyter-widgets/base",
          "model_name": "LayoutModel",
          "model_module_version": "1.2.0",
          "state": {
            "_model_module": "@jupyter-widgets/base",
            "_model_module_version": "1.2.0",
            "_model_name": "LayoutModel",
            "_view_count": null,
            "_view_module": "@jupyter-widgets/base",
            "_view_module_version": "1.2.0",
            "_view_name": "LayoutView",
            "align_content": null,
            "align_items": null,
            "align_self": null,
            "border": null,
            "bottom": null,
            "display": null,
            "flex": null,
            "flex_flow": null,
            "grid_area": null,
            "grid_auto_columns": null,
            "grid_auto_flow": null,
            "grid_auto_rows": null,
            "grid_column": null,
            "grid_gap": null,
            "grid_row": null,
            "grid_template_areas": null,
            "grid_template_columns": null,
            "grid_template_rows": null,
            "height": null,
            "justify_content": null,
            "justify_items": null,
            "left": null,
            "margin": null,
            "max_height": null,
            "max_width": null,
            "min_height": null,
            "min_width": null,
            "object_fit": null,
            "object_position": null,
            "order": null,
            "overflow": null,
            "overflow_x": null,
            "overflow_y": null,
            "padding": null,
            "right": null,
            "top": null,
            "visibility": null,
            "width": null
          }
        },
        "2f2a735e1ff84590af67b98251b0d3ae": {
          "model_module": "@jupyter-widgets/controls",
          "model_name": "DescriptionStyleModel",
          "model_module_version": "1.5.0",
          "state": {
            "_model_module": "@jupyter-widgets/controls",
            "_model_module_version": "1.5.0",
            "_model_name": "DescriptionStyleModel",
            "_view_count": null,
            "_view_module": "@jupyter-widgets/base",
            "_view_module_version": "1.2.0",
            "_view_name": "StyleView",
            "description_width": ""
          }
        }
      }
    }
  },
  "nbformat": 4,
  "nbformat_minor": 0
}