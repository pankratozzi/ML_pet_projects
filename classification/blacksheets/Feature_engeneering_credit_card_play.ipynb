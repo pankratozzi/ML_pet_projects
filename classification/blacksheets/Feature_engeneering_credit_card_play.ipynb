{
  "nbformat": 4,
  "nbformat_minor": 0,
  "metadata": {
    "colab": {
      "name": "Feature_engeneering_credit_card_play.ipynb",
      "provenance": []
    },
    "kernelspec": {
      "name": "python3",
      "display_name": "Python 3"
    },
    "language_info": {
      "name": "python"
    },
    "accelerator": "GPU",
    "widgets": {
      "application/vnd.jupyter.widget-state+json": {
        "7512656b055f45009870cc67ef4eb7c7": {
          "model_module": "@jupyter-widgets/controls",
          "model_name": "HBoxModel",
          "model_module_version": "1.5.0",
          "state": {
            "_dom_classes": [],
            "_model_module": "@jupyter-widgets/controls",
            "_model_module_version": "1.5.0",
            "_model_name": "HBoxModel",
            "_view_count": null,
            "_view_module": "@jupyter-widgets/controls",
            "_view_module_version": "1.5.0",
            "_view_name": "HBoxView",
            "box_style": "",
            "children": [
              "IPY_MODEL_a05e66b429134e7382ae24ff4cc52f61",
              "IPY_MODEL_dba29a686bf541a08ba7e944720cb3cf",
              "IPY_MODEL_b502e335ecde4ffc9ade77764b881ff9"
            ],
            "layout": "IPY_MODEL_e7407d8c36c7475c9d9f8cf4207fc00e"
          }
        },
        "a05e66b429134e7382ae24ff4cc52f61": {
          "model_module": "@jupyter-widgets/controls",
          "model_name": "HTMLModel",
          "model_module_version": "1.5.0",
          "state": {
            "_dom_classes": [],
            "_model_module": "@jupyter-widgets/controls",
            "_model_module_version": "1.5.0",
            "_model_name": "HTMLModel",
            "_view_count": null,
            "_view_module": "@jupyter-widgets/controls",
            "_view_module_version": "1.5.0",
            "_view_name": "HTMLView",
            "description": "",
            "description_tooltip": null,
            "layout": "IPY_MODEL_3d5d031e4ccf4baf9171d9568e959699",
            "placeholder": "​",
            "style": "IPY_MODEL_54f86e2f4e91467780dc3e4b10125ee6",
            "value": "100%"
          }
        },
        "dba29a686bf541a08ba7e944720cb3cf": {
          "model_module": "@jupyter-widgets/controls",
          "model_name": "FloatProgressModel",
          "model_module_version": "1.5.0",
          "state": {
            "_dom_classes": [],
            "_model_module": "@jupyter-widgets/controls",
            "_model_module_version": "1.5.0",
            "_model_name": "FloatProgressModel",
            "_view_count": null,
            "_view_module": "@jupyter-widgets/controls",
            "_view_module_version": "1.5.0",
            "_view_name": "ProgressView",
            "bar_style": "success",
            "description": "",
            "description_tooltip": null,
            "layout": "IPY_MODEL_1c3f3cc947024f6380e4897afbc2f519",
            "max": 28,
            "min": 0,
            "orientation": "horizontal",
            "style": "IPY_MODEL_b8028ee39f1d4156ba5c2a09a5e787e3",
            "value": 28
          }
        },
        "b502e335ecde4ffc9ade77764b881ff9": {
          "model_module": "@jupyter-widgets/controls",
          "model_name": "HTMLModel",
          "model_module_version": "1.5.0",
          "state": {
            "_dom_classes": [],
            "_model_module": "@jupyter-widgets/controls",
            "_model_module_version": "1.5.0",
            "_model_name": "HTMLModel",
            "_view_count": null,
            "_view_module": "@jupyter-widgets/controls",
            "_view_module_version": "1.5.0",
            "_view_name": "HTMLView",
            "description": "",
            "description_tooltip": null,
            "layout": "IPY_MODEL_45b4d9aa41c3459487d9df9f61d74fc5",
            "placeholder": "​",
            "style": "IPY_MODEL_399821ef110a4d588e29a06599f2b532",
            "value": " 28/28 [00:02&lt;00:00, 16.79it/s]"
          }
        },
        "e7407d8c36c7475c9d9f8cf4207fc00e": {
          "model_module": "@jupyter-widgets/base",
          "model_name": "LayoutModel",
          "model_module_version": "1.2.0",
          "state": {
            "_model_module": "@jupyter-widgets/base",
            "_model_module_version": "1.2.0",
            "_model_name": "LayoutModel",
            "_view_count": null,
            "_view_module": "@jupyter-widgets/base",
            "_view_module_version": "1.2.0",
            "_view_name": "LayoutView",
            "align_content": null,
            "align_items": null,
            "align_self": null,
            "border": null,
            "bottom": null,
            "display": null,
            "flex": null,
            "flex_flow": null,
            "grid_area": null,
            "grid_auto_columns": null,
            "grid_auto_flow": null,
            "grid_auto_rows": null,
            "grid_column": null,
            "grid_gap": null,
            "grid_row": null,
            "grid_template_areas": null,
            "grid_template_columns": null,
            "grid_template_rows": null,
            "height": null,
            "justify_content": null,
            "justify_items": null,
            "left": null,
            "margin": null,
            "max_height": null,
            "max_width": null,
            "min_height": null,
            "min_width": null,
            "object_fit": null,
            "object_position": null,
            "order": null,
            "overflow": null,
            "overflow_x": null,
            "overflow_y": null,
            "padding": null,
            "right": null,
            "top": null,
            "visibility": null,
            "width": null
          }
        },
        "3d5d031e4ccf4baf9171d9568e959699": {
          "model_module": "@jupyter-widgets/base",
          "model_name": "LayoutModel",
          "model_module_version": "1.2.0",
          "state": {
            "_model_module": "@jupyter-widgets/base",
            "_model_module_version": "1.2.0",
            "_model_name": "LayoutModel",
            "_view_count": null,
            "_view_module": "@jupyter-widgets/base",
            "_view_module_version": "1.2.0",
            "_view_name": "LayoutView",
            "align_content": null,
            "align_items": null,
            "align_self": null,
            "border": null,
            "bottom": null,
            "display": null,
            "flex": null,
            "flex_flow": null,
            "grid_area": null,
            "grid_auto_columns": null,
            "grid_auto_flow": null,
            "grid_auto_rows": null,
            "grid_column": null,
            "grid_gap": null,
            "grid_row": null,
            "grid_template_areas": null,
            "grid_template_columns": null,
            "grid_template_rows": null,
            "height": null,
            "justify_content": null,
            "justify_items": null,
            "left": null,
            "margin": null,
            "max_height": null,
            "max_width": null,
            "min_height": null,
            "min_width": null,
            "object_fit": null,
            "object_position": null,
            "order": null,
            "overflow": null,
            "overflow_x": null,
            "overflow_y": null,
            "padding": null,
            "right": null,
            "top": null,
            "visibility": null,
            "width": null
          }
        },
        "54f86e2f4e91467780dc3e4b10125ee6": {
          "model_module": "@jupyter-widgets/controls",
          "model_name": "DescriptionStyleModel",
          "model_module_version": "1.5.0",
          "state": {
            "_model_module": "@jupyter-widgets/controls",
            "_model_module_version": "1.5.0",
            "_model_name": "DescriptionStyleModel",
            "_view_count": null,
            "_view_module": "@jupyter-widgets/base",
            "_view_module_version": "1.2.0",
            "_view_name": "StyleView",
            "description_width": ""
          }
        },
        "1c3f3cc947024f6380e4897afbc2f519": {
          "model_module": "@jupyter-widgets/base",
          "model_name": "LayoutModel",
          "model_module_version": "1.2.0",
          "state": {
            "_model_module": "@jupyter-widgets/base",
            "_model_module_version": "1.2.0",
            "_model_name": "LayoutModel",
            "_view_count": null,
            "_view_module": "@jupyter-widgets/base",
            "_view_module_version": "1.2.0",
            "_view_name": "LayoutView",
            "align_content": null,
            "align_items": null,
            "align_self": null,
            "border": null,
            "bottom": null,
            "display": null,
            "flex": null,
            "flex_flow": null,
            "grid_area": null,
            "grid_auto_columns": null,
            "grid_auto_flow": null,
            "grid_auto_rows": null,
            "grid_column": null,
            "grid_gap": null,
            "grid_row": null,
            "grid_template_areas": null,
            "grid_template_columns": null,
            "grid_template_rows": null,
            "height": null,
            "justify_content": null,
            "justify_items": null,
            "left": null,
            "margin": null,
            "max_height": null,
            "max_width": null,
            "min_height": null,
            "min_width": null,
            "object_fit": null,
            "object_position": null,
            "order": null,
            "overflow": null,
            "overflow_x": null,
            "overflow_y": null,
            "padding": null,
            "right": null,
            "top": null,
            "visibility": null,
            "width": null
          }
        },
        "b8028ee39f1d4156ba5c2a09a5e787e3": {
          "model_module": "@jupyter-widgets/controls",
          "model_name": "ProgressStyleModel",
          "model_module_version": "1.5.0",
          "state": {
            "_model_module": "@jupyter-widgets/controls",
            "_model_module_version": "1.5.0",
            "_model_name": "ProgressStyleModel",
            "_view_count": null,
            "_view_module": "@jupyter-widgets/base",
            "_view_module_version": "1.2.0",
            "_view_name": "StyleView",
            "bar_color": null,
            "description_width": ""
          }
        },
        "45b4d9aa41c3459487d9df9f61d74fc5": {
          "model_module": "@jupyter-widgets/base",
          "model_name": "LayoutModel",
          "model_module_version": "1.2.0",
          "state": {
            "_model_module": "@jupyter-widgets/base",
            "_model_module_version": "1.2.0",
            "_model_name": "LayoutModel",
            "_view_count": null,
            "_view_module": "@jupyter-widgets/base",
            "_view_module_version": "1.2.0",
            "_view_name": "LayoutView",
            "align_content": null,
            "align_items": null,
            "align_self": null,
            "border": null,
            "bottom": null,
            "display": null,
            "flex": null,
            "flex_flow": null,
            "grid_area": null,
            "grid_auto_columns": null,
            "grid_auto_flow": null,
            "grid_auto_rows": null,
            "grid_column": null,
            "grid_gap": null,
            "grid_row": null,
            "grid_template_areas": null,
            "grid_template_columns": null,
            "grid_template_rows": null,
            "height": null,
            "justify_content": null,
            "justify_items": null,
            "left": null,
            "margin": null,
            "max_height": null,
            "max_width": null,
            "min_height": null,
            "min_width": null,
            "object_fit": null,
            "object_position": null,
            "order": null,
            "overflow": null,
            "overflow_x": null,
            "overflow_y": null,
            "padding": null,
            "right": null,
            "top": null,
            "visibility": null,
            "width": null
          }
        },
        "399821ef110a4d588e29a06599f2b532": {
          "model_module": "@jupyter-widgets/controls",
          "model_name": "DescriptionStyleModel",
          "model_module_version": "1.5.0",
          "state": {
            "_model_module": "@jupyter-widgets/controls",
            "_model_module_version": "1.5.0",
            "_model_name": "DescriptionStyleModel",
            "_view_count": null,
            "_view_module": "@jupyter-widgets/base",
            "_view_module_version": "1.2.0",
            "_view_name": "StyleView",
            "description_width": ""
          }
        }
      }
    }
  },
  "cells": [
    {
      "cell_type": "code",
      "execution_count": 1,
      "metadata": {
        "colab": {
          "base_uri": "https://localhost:8080/"
        },
        "id": "02Qnun6-ML20",
        "outputId": "6de6d383-099f-478a-f1ff-e31ceea54971"
      },
      "outputs": [
        {
          "output_type": "stream",
          "name": "stdout",
          "text": [
            "Mounted at /content/drive\n"
          ]
        }
      ],
      "source": [
        "from google.colab import drive\n",
        "drive.mount('/content/drive')"
      ]
    },
    {
      "cell_type": "code",
      "source": [
        "import warnings\n",
        "warnings.filterwarnings('ignore')\n",
        "\n",
        "import pandas as pd\n",
        "import numpy as np\n",
        "import matplotlib.pyplot as plt\n",
        "import seaborn as sns\n",
        "\n",
        "from sklearn.model_selection import train_test_split, StratifiedKFold\n",
        "from sklearn.preprocessing import StandardScaler\n",
        "from sklearn.metrics import classification_report, roc_auc_score, confusion_matrix\n",
        "\n",
        "import tensorflow as tf\n",
        "import keras\n",
        "from tensorflow.keras import Sequential, Model\n",
        "from tensorflow.keras.layers import Dense, Dropout\n",
        "from tensorflow.keras.losses import MeanSquaredLogarithmicError\n",
        "from tensorflow.keras import regularizers\n",
        "\n",
        "from tqdm.notebook import tqdm"
      ],
      "metadata": {
        "id": "Vpi3gcDkMbbO"
      },
      "execution_count": 40,
      "outputs": []
    },
    {
      "cell_type": "code",
      "source": [
        "np.random.seed(1)\n",
        "tf.random.set_seed(1)\n",
        "data_root = r'/content/drive/My Drive/data/card/creditcard.csv'\n",
        "TARGET_NAME = 'Class'"
      ],
      "metadata": {
        "id": "Kiyivn5hMbqq"
      },
      "execution_count": 3,
      "outputs": []
    },
    {
      "cell_type": "code",
      "source": [
        "df = pd.read_csv(data_root)\n",
        "df.drop_duplicates(inplace=True)"
      ],
      "metadata": {
        "id": "FnbCg5geM4VC"
      },
      "execution_count": 4,
      "outputs": []
    },
    {
      "cell_type": "code",
      "source": [
        "df_test = df.values\n",
        "\n",
        "unique_samples = []\n",
        "unique_count = np.zeros_like(df_test)\n",
        "for feature in range(df_test.shape[1]):\n",
        "    _, index_, count_ = np.unique(df_test[:, feature], return_counts=True, return_index=True)\n",
        "    unique_count[index_[count_ == 1], feature] += 1\n",
        "\n",
        "real_samples_indexes = np.argwhere(np.sum(unique_count, axis=1) > 0)[:, 0]\n",
        "synthetic_samples_indexes = np.argwhere(np.sum(unique_count, axis=1) == 0)[:, 0]\n",
        "\n",
        "print(len(real_samples_indexes))\n",
        "print(len(synthetic_samples_indexes))"
      ],
      "metadata": {
        "colab": {
          "base_uri": "https://localhost:8080/"
        },
        "id": "HwEEWnRvM8-5",
        "outputId": "4e4299e7-74ca-47ce-fa67-8980fb464135"
      },
      "execution_count": 5,
      "outputs": [
        {
          "output_type": "stream",
          "name": "stdout",
          "text": [
            "273052\n",
            "10674\n"
          ]
        }
      ]
    },
    {
      "cell_type": "code",
      "source": [
        "features = [c for c in df.columns if c not in ['Time', 'Amount', 'Class']]\n",
        "print(len(features))"
      ],
      "metadata": {
        "colab": {
          "base_uri": "https://localhost:8080/"
        },
        "id": "8bkBAhBKOF5I",
        "outputId": "d13a1e04-85d9-4dbc-9668-2dde56e764a9"
      },
      "execution_count": 6,
      "outputs": [
        {
          "output_type": "stream",
          "name": "stdout",
          "text": [
            "28\n"
          ]
        }
      ]
    },
    {
      "cell_type": "code",
      "source": [
        "import scipy.ndimage\n",
        "\n",
        "sigma_fac = 0.001\n",
        "sigma_base = 4\n",
        "\n",
        "eps = 0.00000001\n",
        "\n",
        "def get_count(X_all, X_fake):\n",
        "    features_count = np.zeros((X_all.shape[0], len(features)))\n",
        "    features_density = np.zeros((X_all.shape[0], len(features)))\n",
        "    features_deviation = np.zeros((X_all.shape[0], len(features)))\n",
        "\n",
        "    features_count_fake = np.zeros((X_fake.shape[0], len(features)))\n",
        "    features_density_fake = np.zeros((X_fake.shape[0], len(features)))\n",
        "    features_deviation_fake = np.zeros((X_fake.shape[0], len(features)))\n",
        "    sigmas = []\n",
        "\n",
        "    for i,var in enumerate(tqdm(features)):\n",
        "        X_all_var_int = (X_all[var].values * 10000).round().astype(int)\n",
        "        X_fake_var_int = (X_fake[var].values * 10000).round().astype(int)\n",
        "        lo = X_all_var_int.min()\n",
        "        X_all_var_int -= lo\n",
        "        X_fake_var_int -= lo\n",
        "        hi = X_all_var_int.max()+1\n",
        "        counts_all = np.bincount(X_all_var_int, minlength=hi).astype(float)\n",
        "        zeros = (counts_all == 0).astype(int)\n",
        "        before_zeros = np.concatenate([zeros[1:],[0]])\n",
        "        indices_all = np.arange(counts_all.shape[0])\n",
        "        # Geometric mean of twice sigma_base and a sigma_scaled which is scaled to the length of array \n",
        "        sigma_scaled = counts_all.shape[0]*sigma_fac\n",
        "        sigma = np.power(sigma_base * sigma_base * sigma_scaled, 1/3)\n",
        "        sigmas.append(sigma)\n",
        "        counts_all_smooth = scipy.ndimage.filters.gaussian_filter1d(counts_all, sigma)\n",
        "        deviation = counts_all / (counts_all_smooth+eps)\n",
        "        indices = X_all_var_int\n",
        "        features_count[:,i] = counts_all[indices]\n",
        "        features_density[:,i] = counts_all_smooth[indices]\n",
        "        features_deviation[:,i] = deviation[indices]\n",
        "        indices_fake = X_fake_var_int\n",
        "        features_count_fake[:,i] = counts_all[indices_fake]\n",
        "        features_density_fake[:,i] = counts_all_smooth[indices_fake]\n",
        "        features_deviation_fake[:,i] = deviation[indices_fake]\n",
        "        \n",
        "    features_count_names = [var+'_count' for var in features]\n",
        "    features_density_names = [var+'_density' for var in features]\n",
        "    features_deviation_names = [var+'_deviation' for var in features]\n",
        "    X_all_count = pd.DataFrame(columns=features_count_names, data = features_count)\n",
        "    X_all_count.index = X_all.index\n",
        "    X_all_density = pd.DataFrame(columns=features_density_names, data = features_density)\n",
        "    X_all_density.index = X_all.index\n",
        "    X_all_deviation = pd.DataFrame(columns=features_deviation_names, data = features_deviation)\n",
        "    X_all_deviation.index = X_all.index\n",
        "    X_all = pd.concat([X_all,X_all_count, X_all_density, X_all_deviation], axis=1)\n",
        "    \n",
        "    X_fake_count = pd.DataFrame(columns=features_count_names, data = features_count_fake)\n",
        "    X_fake_count.index = X_fake.index\n",
        "    X_fake_density = pd.DataFrame(columns=features_density_names, data = features_density_fake)\n",
        "    X_fake_density.index = X_fake.index\n",
        "    X_fake_deviation = pd.DataFrame(columns=features_deviation_names, data = features_deviation_fake)\n",
        "    X_fake_deviation.index = X_fake.index\n",
        "    X_fake = pd.concat([X_fake,X_fake_count, X_fake_density, X_fake_deviation], axis=1)    \n",
        "\n",
        "    features_count = features_count_names\n",
        "    features_density = features_density_names\n",
        "    features_deviation = features_deviation_names\n",
        "    return X_all, features_count, features_density, features_deviation, X_fake"
      ],
      "metadata": {
        "id": "z1tCFfydNjcb"
      },
      "execution_count": 7,
      "outputs": []
    },
    {
      "cell_type": "code",
      "source": [
        "X_all, X_fake = df.iloc[list(real_samples_indexes), 1:-2], df.iloc[list(synthetic_samples_indexes), 1:-2]"
      ],
      "metadata": {
        "id": "HILhX3HIO3Mb"
      },
      "execution_count": 8,
      "outputs": []
    },
    {
      "cell_type": "code",
      "source": [
        "X_num_all, features_count, features_density, features_deviation, X_num_fake = get_count(X_all, X_fake)"
      ],
      "metadata": {
        "colab": {
          "base_uri": "https://localhost:8080/",
          "height": 49,
          "referenced_widgets": [
            "7512656b055f45009870cc67ef4eb7c7",
            "a05e66b429134e7382ae24ff4cc52f61",
            "dba29a686bf541a08ba7e944720cb3cf",
            "b502e335ecde4ffc9ade77764b881ff9",
            "e7407d8c36c7475c9d9f8cf4207fc00e",
            "3d5d031e4ccf4baf9171d9568e959699",
            "54f86e2f4e91467780dc3e4b10125ee6",
            "1c3f3cc947024f6380e4897afbc2f519",
            "b8028ee39f1d4156ba5c2a09a5e787e3",
            "45b4d9aa41c3459487d9df9f61d74fc5",
            "399821ef110a4d588e29a06599f2b532"
          ]
        },
        "id": "fQafin6DOirv",
        "outputId": "22d5ced5-e605-4b38-cf92-976a4b016c3e"
      },
      "execution_count": 9,
      "outputs": [
        {
          "output_type": "display_data",
          "data": {
            "text/plain": [
              "  0%|          | 0/28 [00:00<?, ?it/s]"
            ],
            "application/vnd.jupyter.widget-view+json": {
              "version_major": 2,
              "version_minor": 0,
              "model_id": "7512656b055f45009870cc67ef4eb7c7"
            }
          },
          "metadata": {}
        }
      ]
    },
    {
      "cell_type": "code",
      "source": [
        "X_train_real = pd.concat([X_num_all, df.iloc[list(real_samples_indexes), [0,-2,-1]]], axis=1)\n",
        "X_train_fake = pd.concat([X_num_fake, df.iloc[list(synthetic_samples_indexes), [0,-2,-1]]], axis=1)"
      ],
      "metadata": {
        "id": "r8_y__GhQMOx"
      },
      "execution_count": 10,
      "outputs": []
    },
    {
      "cell_type": "code",
      "source": [
        "features_to_scale = [features, features_count, ['Time', 'Amount']]\n",
        "\n",
        "def get_standardized(X_all, X_fake):\n",
        "    scaler = StandardScaler()\n",
        "    features_to_scale_flatten = [var for sublist in features_to_scale for var in sublist]\n",
        "    scaler.fit(X_all[features_to_scale_flatten])\n",
        "    features_scaled = scaler.transform(X_all[features_to_scale_flatten])\n",
        "    features_scaled_fake = scaler.transform(X_fake[features_to_scale_flatten])\n",
        "    X_all[features_to_scale_flatten] = features_scaled\n",
        "    X_fake[features_to_scale_flatten] = features_scaled_fake\n",
        "    return X_all, X_fake"
      ],
      "metadata": {
        "id": "iPbTcThMTC8u"
      },
      "execution_count": 11,
      "outputs": []
    },
    {
      "cell_type": "code",
      "source": [
        "X_train_real, X_train_fake = get_standardized(X_train_real, X_train_fake)"
      ],
      "metadata": {
        "id": "mhzlIaGMTMcr"
      },
      "execution_count": 12,
      "outputs": []
    },
    {
      "cell_type": "code",
      "source": [
        "X_real, y_real = X_train_real.drop(TARGET_NAME, axis=1), X_train_real[TARGET_NAME]\n",
        "X_fake, y_fake = X_train_fake.drop(TARGET_NAME, axis=1), X_train_fake[TARGET_NAME]"
      ],
      "metadata": {
        "id": "4RJyV5VRVLwW"
      },
      "execution_count": 13,
      "outputs": []
    },
    {
      "cell_type": "code",
      "source": [
        "y_real.value_counts(normalize=True)"
      ],
      "metadata": {
        "colab": {
          "base_uri": "https://localhost:8080/"
        },
        "id": "GkxCFiOjVl0R",
        "outputId": "675b6418-b0c5-4d55-8c4a-9c7407c707b1"
      },
      "execution_count": 49,
      "outputs": [
        {
          "output_type": "execute_result",
          "data": {
            "text/plain": [
              "0    0.998268\n",
              "1    0.001732\n",
              "Name: Class, dtype: float64"
            ]
          },
          "metadata": {},
          "execution_count": 49
        }
      ]
    },
    {
      "cell_type": "code",
      "source": [
        "y_fake.value_counts()  # as all classes here are 0 we may just drop these samples as some kind of undersampling"
      ],
      "metadata": {
        "colab": {
          "base_uri": "https://localhost:8080/"
        },
        "id": "XIu4S-LiVrwM",
        "outputId": "5741daaa-ece7-4399-dd5b-7566040c5d5c"
      },
      "execution_count": 51,
      "outputs": [
        {
          "output_type": "execute_result",
          "data": {
            "text/plain": [
              "0    10674\n",
              "Name: Class, dtype: int64"
            ]
          },
          "metadata": {},
          "execution_count": 51
        }
      ]
    },
    {
      "cell_type": "code",
      "source": [
        "X_train, X_test, y_train, y_test = train_test_split(X_real, y_real, test_size=0.25, shuffle=True, stratify=y_real, random_state=42)\n",
        "X_train, X_valid, y_train, y_valid = train_test_split(X_train, y_train, test_size=0.15, shuffle=True, stratify=y_train, random_state=42)\n",
        "print(f'Train size: {X_train.shape[0]}, valid size: {X_valid.shape[0]}, test size: {X_test.shape[0]}')"
      ],
      "metadata": {
        "colab": {
          "base_uri": "https://localhost:8080/"
        },
        "id": "3NBgK5JpV6MM",
        "outputId": "f99712e3-55dc-48e7-e1f0-98de7d686bf0"
      },
      "execution_count": 14,
      "outputs": [
        {
          "output_type": "stream",
          "name": "stdout",
          "text": [
            "Train size: 174070, valid size: 30719, test size: 68263\n"
          ]
        }
      ]
    },
    {
      "cell_type": "code",
      "source": [
        "buffer_size = 100000\n",
        "batch_size = 1024"
      ],
      "metadata": {
        "id": "cMKvNSu0W-uU"
      },
      "execution_count": 15,
      "outputs": []
    },
    {
      "cell_type": "code",
      "source": [
        "model = tf.keras.Sequential([\n",
        "                            Dense(256, activation='relu', \n",
        "                                  input_shape=(X_train.shape[-1], ), \n",
        "                                  kernel_regularizer=regularizers.l2(0.001)),\n",
        "                            Dropout(0.5),\n",
        "                            Dense(128, activation='relu',\n",
        "                                  kernel_regularizer=regularizers.l2(0.001)),\n",
        "                            Dropout(0.5),\n",
        "                            Dense(64, activation='relu',\n",
        "                                  kernel_regularizer=regularizers.l2(0.001)),\n",
        "                            Dropout(0.5),\n",
        "                            Dense(1, activation='sigmoid')\n",
        "])\n",
        "metrics = [\n",
        "           tf.keras.metrics.Precision(name='precision'),\n",
        "           tf.keras.metrics.Recall(name='recall'),\n",
        "           tf.keras.metrics.AUC(name='roc_auc')\n",
        "]\n",
        "\n",
        "model.compile(optimizer=tf.keras.optimizers.Adam(1e-3), loss='binary_crossentropy', metrics=metrics)\n",
        "\n",
        "callbacks = [tf.keras.callbacks.ModelCheckpoint('model_epoch_{epoch}.h5'),\n",
        "             tf.keras.callbacks.ReduceLROnPlateau(patience=5),\n",
        "             tf.keras.callbacks.EarlyStopping(monitor='val_loss', patience=10, restore_best_weights=True),\n",
        "            ]\n",
        "model.summary()"
      ],
      "metadata": {
        "colab": {
          "base_uri": "https://localhost:8080/"
        },
        "id": "QjHXDaW1XZKH",
        "outputId": "5c2d92bc-72bf-4883-f032-3a152db70217"
      },
      "execution_count": 30,
      "outputs": [
        {
          "output_type": "stream",
          "name": "stdout",
          "text": [
            "Model: \"sequential_1\"\n",
            "_________________________________________________________________\n",
            " Layer (type)                Output Shape              Param #   \n",
            "=================================================================\n",
            " dense_4 (Dense)             (None, 256)               29440     \n",
            "                                                                 \n",
            " dropout_3 (Dropout)         (None, 256)               0         \n",
            "                                                                 \n",
            " dense_5 (Dense)             (None, 128)               32896     \n",
            "                                                                 \n",
            " dropout_4 (Dropout)         (None, 128)               0         \n",
            "                                                                 \n",
            " dense_6 (Dense)             (None, 64)                8256      \n",
            "                                                                 \n",
            " dropout_5 (Dropout)         (None, 64)                0         \n",
            "                                                                 \n",
            " dense_7 (Dense)             (None, 1)                 65        \n",
            "                                                                 \n",
            "=================================================================\n",
            "Total params: 70,657\n",
            "Trainable params: 70,657\n",
            "Non-trainable params: 0\n",
            "_________________________________________________________________\n"
          ]
        }
      ]
    },
    {
      "cell_type": "code",
      "source": [
        "bool_train_labels = y_train != 0\n",
        "pos_features = X_train[bool_train_labels]\n",
        "neg_features = X_train[~bool_train_labels]\n",
        "pos_labels = y_train[bool_train_labels]\n",
        "neg_labels = y_train[~bool_train_labels]"
      ],
      "metadata": {
        "id": "1f_CYH76XzO8"
      },
      "execution_count": 17,
      "outputs": []
    },
    {
      "cell_type": "code",
      "source": [
        "ids = np.arange(len(pos_features))\n",
        "choices = np.random.choice(ids, int(len(neg_features)*0.4)) \n",
        "\n",
        "res_pos_features = pos_features.values[choices]\n",
        "res_pos_labels = pos_labels.values[choices]\n",
        "\n",
        "res_pos_features.shape"
      ],
      "metadata": {
        "colab": {
          "base_uri": "https://localhost:8080/"
        },
        "id": "pRQkTjVzYAIV",
        "outputId": "ea82a077-5789-4e59-a6c0-0299f305dff8"
      },
      "execution_count": 18,
      "outputs": [
        {
          "output_type": "execute_result",
          "data": {
            "text/plain": [
              "(69507, 114)"
            ]
          },
          "metadata": {},
          "execution_count": 18
        }
      ]
    },
    {
      "cell_type": "code",
      "source": [
        "resampled_features = np.concatenate([res_pos_features, neg_features], axis=0)\n",
        "resampled_labels = np.concatenate([res_pos_labels, neg_labels], axis=0)\n",
        "\n",
        "order = np.arange(len(resampled_labels))\n",
        "np.random.shuffle(order)\n",
        "resampled_features = resampled_features[order]\n",
        "resampled_labels = resampled_labels[order]\n",
        "\n",
        "resampled_features.shape"
      ],
      "metadata": {
        "colab": {
          "base_uri": "https://localhost:8080/"
        },
        "id": "bdtPvbwsYNmQ",
        "outputId": "c4a6c635-1fff-41b5-95ea-5ab0adecb6ab"
      },
      "execution_count": 19,
      "outputs": [
        {
          "output_type": "execute_result",
          "data": {
            "text/plain": [
              "(243275, 114)"
            ]
          },
          "metadata": {},
          "execution_count": 19
        }
      ]
    },
    {
      "cell_type": "code",
      "source": [
        "pos = resampled_labels[resampled_labels == 1].astype(int).sum()\n",
        "neg = resampled_labels.shape[0] - pos\n",
        "total = resampled_features.shape[0]\n",
        "weight_for_0 = (1 / neg) * (total / 2.0)\n",
        "weight_for_1 = (1 / pos) * (total / 2.0)\n",
        "class_weight = {0: weight_for_0, 1: weight_for_1}\n",
        "class_weight"
      ],
      "metadata": {
        "colab": {
          "base_uri": "https://localhost:8080/"
        },
        "id": "s0ZeW5PPYTDY",
        "outputId": "ed31acc7-3440-4d0b-a7db-3142541a167f"
      },
      "execution_count": 20,
      "outputs": [
        {
          "output_type": "execute_result",
          "data": {
            "text/plain": [
              "{0: 0.6999994245200497, 1: 1.7500035967600387}"
            ]
          },
          "metadata": {},
          "execution_count": 20
        }
      ]
    },
    {
      "cell_type": "code",
      "source": [
        "resampled_steps_per_epoch = np.ceil((neg+pos)/batch_size)\n",
        "resampled_steps_per_epoch"
      ],
      "metadata": {
        "colab": {
          "base_uri": "https://localhost:8080/"
        },
        "id": "gs1ocBrEYaz0",
        "outputId": "5c3c1590-81ad-4c21-9abb-4ec4d183e285"
      },
      "execution_count": 21,
      "outputs": [
        {
          "output_type": "execute_result",
          "data": {
            "text/plain": [
              "238.0"
            ]
          },
          "metadata": {},
          "execution_count": 21
        }
      ]
    },
    {
      "cell_type": "code",
      "source": [
        "output_layer = model.layers[-1] \n",
        "#output_layer.bias.assign([0]) # as if we use balanced dataset\n",
        "output_bias = tf.keras.initializers.Constant(np.log([pos/neg])) # as if dataset is unbalanced\n",
        "output_layer.bias_initializer = output_bias"
      ],
      "metadata": {
        "id": "LRplRokoYfIf"
      },
      "execution_count": 22,
      "outputs": []
    },
    {
      "cell_type": "code",
      "source": [
        "train_ds = tf.data.Dataset.from_tensor_slices((resampled_features, resampled_labels)).cache().batch(batch_size).prefetch(0)\n",
        "val_ds = tf.data.Dataset.from_tensor_slices((X_valid, y_valid)).cache()\n",
        "val_ds = val_ds.batch(batch_size).prefetch(2)"
      ],
      "metadata": {
        "id": "OtfYi4kiYjKH"
      },
      "execution_count": 23,
      "outputs": []
    },
    {
      "cell_type": "code",
      "source": [
        "history = model.fit(train_ds, epochs=100, verbose=2, callbacks=callbacks,\n",
        "                     validation_data=val_ds, class_weight=class_weight, \n",
        "                     steps_per_epoch=resampled_steps_per_epoch)"
      ],
      "metadata": {
        "colab": {
          "base_uri": "https://localhost:8080/"
        },
        "id": "lgmz3xa_YqQX",
        "outputId": "97ca1b1c-9052-4b52-f3da-50ed6b41a820"
      },
      "execution_count": 31,
      "outputs": [
        {
          "output_type": "stream",
          "name": "stdout",
          "text": [
            "Epoch 1/100\n",
            "238/238 - 3s - loss: 0.7670 - precision: 0.8181 - recall: 0.8675 - roc_auc: 0.9407 - val_loss: 0.4660 - val_precision: 0.1596 - val_recall: 0.8491 - val_roc_auc: 0.9612 - lr: 0.0010 - 3s/epoch - 13ms/step\n",
            "Epoch 2/100\n",
            "238/238 - 1s - loss: 0.3791 - precision: 0.9332 - recall: 0.9414 - roc_auc: 0.9923 - val_loss: 0.2837 - val_precision: 0.0869 - val_recall: 0.8491 - val_roc_auc: 0.9601 - lr: 0.0010 - 1s/epoch - 6ms/step\n",
            "Epoch 3/100\n",
            "238/238 - 1s - loss: 0.2547 - precision: 0.9567 - recall: 0.9849 - roc_auc: 0.9984 - val_loss: 0.2050 - val_precision: 0.1618 - val_recall: 0.8302 - val_roc_auc: 0.9661 - lr: 0.0010 - 1s/epoch - 6ms/step\n",
            "Epoch 4/100\n",
            "238/238 - 1s - loss: 0.1858 - precision: 0.9738 - recall: 0.9946 - roc_auc: 0.9993 - val_loss: 0.1551 - val_precision: 0.2810 - val_recall: 0.8113 - val_roc_auc: 0.9220 - lr: 0.0010 - 1s/epoch - 6ms/step\n",
            "Epoch 5/100\n",
            "238/238 - 1s - loss: 0.1420 - precision: 0.9809 - recall: 0.9967 - roc_auc: 0.9995 - val_loss: 0.1210 - val_precision: 0.3590 - val_recall: 0.7925 - val_roc_auc: 0.9223 - lr: 0.0010 - 1s/epoch - 6ms/step\n",
            "Epoch 6/100\n",
            "238/238 - 1s - loss: 0.1100 - precision: 0.9859 - recall: 0.9978 - roc_auc: 0.9996 - val_loss: 0.0962 - val_precision: 0.4300 - val_recall: 0.8113 - val_roc_auc: 0.9320 - lr: 0.0010 - 1s/epoch - 6ms/step\n",
            "Epoch 7/100\n",
            "238/238 - 1s - loss: 0.0888 - precision: 0.9876 - recall: 0.9981 - roc_auc: 0.9997 - val_loss: 0.0796 - val_precision: 0.3644 - val_recall: 0.8113 - val_roc_auc: 0.9311 - lr: 0.0010 - 1s/epoch - 6ms/step\n",
            "Epoch 8/100\n",
            "238/238 - 1s - loss: 0.0726 - precision: 0.9880 - recall: 0.9984 - roc_auc: 0.9998 - val_loss: 0.0656 - val_precision: 0.4886 - val_recall: 0.8113 - val_roc_auc: 0.9226 - lr: 0.0010 - 1s/epoch - 6ms/step\n",
            "Epoch 9/100\n",
            "238/238 - 1s - loss: 0.0616 - precision: 0.9884 - recall: 0.9986 - roc_auc: 0.9997 - val_loss: 0.0572 - val_precision: 0.4020 - val_recall: 0.7736 - val_roc_auc: 0.9224 - lr: 0.0010 - 1s/epoch - 6ms/step\n",
            "Epoch 10/100\n",
            "238/238 - 1s - loss: 0.0552 - precision: 0.9877 - recall: 0.9982 - roc_auc: 0.9997 - val_loss: 0.0510 - val_precision: 0.4095 - val_recall: 0.8113 - val_roc_auc: 0.9317 - lr: 0.0010 - 1s/epoch - 6ms/step\n",
            "Epoch 11/100\n",
            "238/238 - 1s - loss: 0.0500 - precision: 0.9867 - recall: 0.9978 - roc_auc: 0.9997 - val_loss: 0.0457 - val_precision: 0.4231 - val_recall: 0.8302 - val_roc_auc: 0.9504 - lr: 0.0010 - 1s/epoch - 6ms/step\n",
            "Epoch 12/100\n",
            "238/238 - 1s - loss: 0.0417 - precision: 0.9899 - recall: 0.9989 - roc_auc: 0.9998 - val_loss: 0.0389 - val_precision: 0.5185 - val_recall: 0.7925 - val_roc_auc: 0.9133 - lr: 0.0010 - 1s/epoch - 6ms/step\n",
            "Epoch 13/100\n",
            "238/238 - 1s - loss: 0.0400 - precision: 0.9880 - recall: 0.9985 - roc_auc: 0.9997 - val_loss: 0.0388 - val_precision: 0.4216 - val_recall: 0.8113 - val_roc_auc: 0.9322 - lr: 0.0010 - 1s/epoch - 6ms/step\n",
            "Epoch 14/100\n",
            "238/238 - 1s - loss: 0.0360 - precision: 0.9906 - recall: 0.9989 - roc_auc: 0.9998 - val_loss: 0.0357 - val_precision: 0.4713 - val_recall: 0.7736 - val_roc_auc: 0.9138 - lr: 0.0010 - 1s/epoch - 6ms/step\n",
            "Epoch 15/100\n",
            "238/238 - 1s - loss: 0.0356 - precision: 0.9883 - recall: 0.9987 - roc_auc: 0.9998 - val_loss: 0.0349 - val_precision: 0.4421 - val_recall: 0.7925 - val_roc_auc: 0.9323 - lr: 0.0010 - 1s/epoch - 6ms/step\n",
            "Epoch 16/100\n",
            "238/238 - 1s - loss: 0.0354 - precision: 0.9875 - recall: 0.9987 - roc_auc: 0.9998 - val_loss: 0.0323 - val_precision: 0.5316 - val_recall: 0.7925 - val_roc_auc: 0.9136 - lr: 0.0010 - 1s/epoch - 6ms/step\n",
            "Epoch 17/100\n",
            "238/238 - 1s - loss: 0.0306 - precision: 0.9906 - recall: 0.9991 - roc_auc: 0.9998 - val_loss: 0.0315 - val_precision: 0.4184 - val_recall: 0.7736 - val_roc_auc: 0.9224 - lr: 0.0010 - 1s/epoch - 6ms/step\n",
            "Epoch 18/100\n",
            "238/238 - 1s - loss: 0.0306 - precision: 0.9893 - recall: 0.9992 - roc_auc: 0.9998 - val_loss: 0.0326 - val_precision: 0.3981 - val_recall: 0.7736 - val_roc_auc: 0.9319 - lr: 0.0010 - 1s/epoch - 6ms/step\n",
            "Epoch 19/100\n",
            "238/238 - 1s - loss: 0.0304 - precision: 0.9885 - recall: 0.9990 - roc_auc: 0.9998 - val_loss: 0.0338 - val_precision: 0.2971 - val_recall: 0.7736 - val_roc_auc: 0.9204 - lr: 0.0010 - 1s/epoch - 6ms/step\n",
            "Epoch 20/100\n",
            "238/238 - 1s - loss: 0.0354 - precision: 0.9839 - recall: 0.9980 - roc_auc: 0.9997 - val_loss: 0.0321 - val_precision: 0.4184 - val_recall: 0.7736 - val_roc_auc: 0.9229 - lr: 0.0010 - 1s/epoch - 6ms/step\n",
            "Epoch 21/100\n",
            "238/238 - 1s - loss: 0.0310 - precision: 0.9882 - recall: 0.9991 - roc_auc: 0.9997 - val_loss: 0.0311 - val_precision: 0.5125 - val_recall: 0.7736 - val_roc_auc: 0.9234 - lr: 0.0010 - 1s/epoch - 6ms/step\n",
            "Epoch 22/100\n",
            "238/238 - 1s - loss: 0.0294 - precision: 0.9898 - recall: 0.9993 - roc_auc: 0.9998 - val_loss: 0.0296 - val_precision: 0.5263 - val_recall: 0.7547 - val_roc_auc: 0.8951 - lr: 0.0010 - 1s/epoch - 6ms/step\n",
            "Epoch 23/100\n",
            "238/238 - 1s - loss: 0.0266 - precision: 0.9912 - recall: 0.9995 - roc_auc: 0.9998 - val_loss: 0.0287 - val_precision: 0.5000 - val_recall: 0.7547 - val_roc_auc: 0.9043 - lr: 0.0010 - 1s/epoch - 6ms/step\n",
            "Epoch 24/100\n",
            "238/238 - 1s - loss: 0.0311 - precision: 0.9867 - recall: 0.9987 - roc_auc: 0.9997 - val_loss: 0.0287 - val_precision: 0.5125 - val_recall: 0.7736 - val_roc_auc: 0.9139 - lr: 0.0010 - 1s/epoch - 6ms/step\n",
            "Epoch 25/100\n",
            "238/238 - 1s - loss: 0.0314 - precision: 0.9863 - recall: 0.9988 - roc_auc: 0.9997 - val_loss: 0.0302 - val_precision: 0.4706 - val_recall: 0.7547 - val_roc_auc: 0.9045 - lr: 0.0010 - 1s/epoch - 6ms/step\n",
            "Epoch 26/100\n",
            "238/238 - 1s - loss: 0.0282 - precision: 0.9895 - recall: 0.9992 - roc_auc: 0.9997 - val_loss: 0.0286 - val_precision: 0.5333 - val_recall: 0.7547 - val_roc_auc: 0.9138 - lr: 0.0010 - 1s/epoch - 6ms/step\n",
            "Epoch 27/100\n",
            "238/238 - 1s - loss: 0.0290 - precision: 0.9886 - recall: 0.9993 - roc_auc: 0.9997 - val_loss: 0.0274 - val_precision: 0.5417 - val_recall: 0.7358 - val_roc_auc: 0.9048 - lr: 0.0010 - 1s/epoch - 6ms/step\n",
            "Epoch 28/100\n",
            "238/238 - 1s - loss: 0.0247 - precision: 0.9915 - recall: 0.9996 - roc_auc: 0.9998 - val_loss: 0.0259 - val_precision: 0.6212 - val_recall: 0.7736 - val_roc_auc: 0.9051 - lr: 0.0010 - 1s/epoch - 6ms/step\n",
            "Epoch 29/100\n",
            "238/238 - 1s - loss: 0.0303 - precision: 0.9851 - recall: 0.9985 - roc_auc: 0.9997 - val_loss: 0.0314 - val_precision: 0.4409 - val_recall: 0.7736 - val_roc_auc: 0.9326 - lr: 0.0010 - 1s/epoch - 6ms/step\n",
            "Epoch 30/100\n",
            "238/238 - 1s - loss: 0.0284 - precision: 0.9886 - recall: 0.9992 - roc_auc: 0.9997 - val_loss: 0.0293 - val_precision: 0.5541 - val_recall: 0.7736 - val_roc_auc: 0.9049 - lr: 0.0010 - 1s/epoch - 6ms/step\n",
            "Epoch 31/100\n",
            "238/238 - 1s - loss: 0.0292 - precision: 0.9865 - recall: 0.9990 - roc_auc: 0.9997 - val_loss: 0.0315 - val_precision: 0.4556 - val_recall: 0.7736 - val_roc_auc: 0.9137 - lr: 0.0010 - 1s/epoch - 6ms/step\n",
            "Epoch 32/100\n",
            "238/238 - 1s - loss: 0.0295 - precision: 0.9882 - recall: 0.9992 - roc_auc: 0.9997 - val_loss: 0.0274 - val_precision: 0.5541 - val_recall: 0.7736 - val_roc_auc: 0.8954 - lr: 0.0010 - 1s/epoch - 6ms/step\n",
            "Epoch 33/100\n",
            "238/238 - 1s - loss: 0.0243 - precision: 0.9915 - recall: 0.9996 - roc_auc: 0.9998 - val_loss: 0.0271 - val_precision: 0.5467 - val_recall: 0.7736 - val_roc_auc: 0.9049 - lr: 0.0010 - 1s/epoch - 6ms/step\n",
            "Epoch 34/100\n",
            "238/238 - 1s - loss: 0.0204 - precision: 0.9953 - recall: 0.9999 - roc_auc: 0.9998 - val_loss: 0.0246 - val_precision: 0.6667 - val_recall: 0.7547 - val_roc_auc: 0.8863 - lr: 1.0000e-04 - 1s/epoch - 6ms/step\n",
            "Epoch 35/100\n",
            "238/238 - 1s - loss: 0.0186 - precision: 0.9962 - recall: 1.0000 - roc_auc: 0.9999 - val_loss: 0.0237 - val_precision: 0.7143 - val_recall: 0.7547 - val_roc_auc: 0.8864 - lr: 1.0000e-04 - 1s/epoch - 6ms/step\n",
            "Epoch 36/100\n",
            "238/238 - 1s - loss: 0.0179 - precision: 0.9964 - recall: 1.0000 - roc_auc: 0.9999 - val_loss: 0.0232 - val_precision: 0.7143 - val_recall: 0.7547 - val_roc_auc: 0.8864 - lr: 1.0000e-04 - 1s/epoch - 6ms/step\n",
            "Epoch 37/100\n",
            "238/238 - 1s - loss: 0.0171 - precision: 0.9969 - recall: 1.0000 - roc_auc: 0.9999 - val_loss: 0.0226 - val_precision: 0.7407 - val_recall: 0.7547 - val_roc_auc: 0.8864 - lr: 1.0000e-04 - 1s/epoch - 6ms/step\n",
            "Epoch 38/100\n",
            "238/238 - 1s - loss: 0.0170 - precision: 0.9961 - recall: 1.0000 - roc_auc: 0.9999 - val_loss: 0.0222 - val_precision: 0.7407 - val_recall: 0.7547 - val_roc_auc: 0.8864 - lr: 1.0000e-04 - 1s/epoch - 6ms/step\n",
            "Epoch 39/100\n",
            "238/238 - 1s - loss: 0.0164 - precision: 0.9967 - recall: 1.0000 - roc_auc: 0.9999 - val_loss: 0.0217 - val_precision: 0.7273 - val_recall: 0.7547 - val_roc_auc: 0.8864 - lr: 1.0000e-04 - 1s/epoch - 6ms/step\n",
            "Epoch 40/100\n",
            "238/238 - 1s - loss: 0.0163 - precision: 0.9963 - recall: 1.0000 - roc_auc: 0.9999 - val_loss: 0.0214 - val_precision: 0.7407 - val_recall: 0.7547 - val_roc_auc: 0.8864 - lr: 1.0000e-04 - 1s/epoch - 6ms/step\n",
            "Epoch 41/100\n",
            "238/238 - 2s - loss: 0.0158 - precision: 0.9965 - recall: 1.0000 - roc_auc: 0.9999 - val_loss: 0.0214 - val_precision: 0.7407 - val_recall: 0.7547 - val_roc_auc: 0.8864 - lr: 1.0000e-04 - 2s/epoch - 7ms/step\n",
            "Epoch 42/100\n",
            "238/238 - 2s - loss: 0.0157 - precision: 0.9966 - recall: 1.0000 - roc_auc: 0.9999 - val_loss: 0.0211 - val_precision: 0.7547 - val_recall: 0.7547 - val_roc_auc: 0.8864 - lr: 1.0000e-04 - 2s/epoch - 8ms/step\n",
            "Epoch 43/100\n",
            "238/238 - 2s - loss: 0.0154 - precision: 0.9964 - recall: 1.0000 - roc_auc: 0.9999 - val_loss: 0.0208 - val_precision: 0.7407 - val_recall: 0.7547 - val_roc_auc: 0.8864 - lr: 1.0000e-04 - 2s/epoch - 8ms/step\n",
            "Epoch 44/100\n",
            "238/238 - 2s - loss: 0.0149 - precision: 0.9970 - recall: 1.0000 - roc_auc: 0.9999 - val_loss: 0.0205 - val_precision: 0.7273 - val_recall: 0.7547 - val_roc_auc: 0.8864 - lr: 1.0000e-04 - 2s/epoch - 10ms/step\n",
            "Epoch 45/100\n",
            "238/238 - 2s - loss: 0.0148 - precision: 0.9965 - recall: 1.0000 - roc_auc: 0.9999 - val_loss: 0.0202 - val_precision: 0.7273 - val_recall: 0.7547 - val_roc_auc: 0.8864 - lr: 1.0000e-04 - 2s/epoch - 9ms/step\n",
            "Epoch 46/100\n",
            "238/238 - 2s - loss: 0.0145 - precision: 0.9966 - recall: 1.0000 - roc_auc: 0.9999 - val_loss: 0.0200 - val_precision: 0.7273 - val_recall: 0.7547 - val_roc_auc: 0.8864 - lr: 1.0000e-04 - 2s/epoch - 9ms/step\n",
            "Epoch 47/100\n",
            "238/238 - 2s - loss: 0.0144 - precision: 0.9966 - recall: 1.0000 - roc_auc: 0.9999 - val_loss: 0.0199 - val_precision: 0.7143 - val_recall: 0.7547 - val_roc_auc: 0.8864 - lr: 1.0000e-04 - 2s/epoch - 8ms/step\n",
            "Epoch 48/100\n",
            "238/238 - 2s - loss: 0.0141 - precision: 0.9968 - recall: 1.0000 - roc_auc: 0.9999 - val_loss: 0.0196 - val_precision: 0.7407 - val_recall: 0.7547 - val_roc_auc: 0.8864 - lr: 1.0000e-04 - 2s/epoch - 7ms/step\n",
            "Epoch 49/100\n",
            "238/238 - 2s - loss: 0.0139 - precision: 0.9968 - recall: 1.0000 - roc_auc: 0.9999 - val_loss: 0.0193 - val_precision: 0.7273 - val_recall: 0.7547 - val_roc_auc: 0.8864 - lr: 1.0000e-04 - 2s/epoch - 9ms/step\n",
            "Epoch 50/100\n",
            "238/238 - 2s - loss: 0.0136 - precision: 0.9967 - recall: 1.0000 - roc_auc: 0.9999 - val_loss: 0.0193 - val_precision: 0.7407 - val_recall: 0.7547 - val_roc_auc: 0.8864 - lr: 1.0000e-04 - 2s/epoch - 7ms/step\n",
            "Epoch 51/100\n",
            "238/238 - 2s - loss: 0.0132 - precision: 0.9971 - recall: 1.0000 - roc_auc: 0.9999 - val_loss: 0.0190 - val_precision: 0.7273 - val_recall: 0.7547 - val_roc_auc: 0.8864 - lr: 1.0000e-04 - 2s/epoch - 8ms/step\n",
            "Epoch 52/100\n",
            "238/238 - 2s - loss: 0.0133 - precision: 0.9966 - recall: 1.0000 - roc_auc: 0.9999 - val_loss: 0.0190 - val_precision: 0.7593 - val_recall: 0.7736 - val_roc_auc: 0.8864 - lr: 1.0000e-04 - 2s/epoch - 10ms/step\n",
            "Epoch 53/100\n",
            "238/238 - 2s - loss: 0.0131 - precision: 0.9969 - recall: 1.0000 - roc_auc: 0.9999 - val_loss: 0.0189 - val_precision: 0.7736 - val_recall: 0.7736 - val_roc_auc: 0.8864 - lr: 1.0000e-04 - 2s/epoch - 9ms/step\n",
            "Epoch 54/100\n",
            "238/238 - 2s - loss: 0.0131 - precision: 0.9966 - recall: 1.0000 - roc_auc: 0.9999 - val_loss: 0.0186 - val_precision: 0.7143 - val_recall: 0.7547 - val_roc_auc: 0.8864 - lr: 1.0000e-04 - 2s/epoch - 9ms/step\n",
            "Epoch 55/100\n",
            "238/238 - 2s - loss: 0.0128 - precision: 0.9968 - recall: 1.0000 - roc_auc: 0.9999 - val_loss: 0.0185 - val_precision: 0.7193 - val_recall: 0.7736 - val_roc_auc: 0.8864 - lr: 1.0000e-04 - 2s/epoch - 7ms/step\n",
            "Epoch 56/100\n",
            "238/238 - 1s - loss: 0.0126 - precision: 0.9968 - recall: 1.0000 - roc_auc: 0.9999 - val_loss: 0.0183 - val_precision: 0.7547 - val_recall: 0.7547 - val_roc_auc: 0.8864 - lr: 1.0000e-04 - 1s/epoch - 6ms/step\n",
            "Epoch 57/100\n",
            "238/238 - 1s - loss: 0.0124 - precision: 0.9970 - recall: 1.0000 - roc_auc: 0.9999 - val_loss: 0.0182 - val_precision: 0.7321 - val_recall: 0.7736 - val_roc_auc: 0.8864 - lr: 1.0000e-04 - 1s/epoch - 6ms/step\n",
            "Epoch 58/100\n",
            "238/238 - 1s - loss: 0.0124 - precision: 0.9968 - recall: 1.0000 - roc_auc: 0.9999 - val_loss: 0.0181 - val_precision: 0.7547 - val_recall: 0.7547 - val_roc_auc: 0.8864 - lr: 1.0000e-04 - 1s/epoch - 6ms/step\n",
            "Epoch 59/100\n",
            "238/238 - 1s - loss: 0.0121 - precision: 0.9970 - recall: 1.0000 - roc_auc: 0.9999 - val_loss: 0.0180 - val_precision: 0.7593 - val_recall: 0.7736 - val_roc_auc: 0.8864 - lr: 1.0000e-04 - 1s/epoch - 6ms/step\n",
            "Epoch 60/100\n",
            "238/238 - 1s - loss: 0.0118 - precision: 0.9972 - recall: 1.0000 - roc_auc: 0.9999 - val_loss: 0.0180 - val_precision: 0.7593 - val_recall: 0.7736 - val_roc_auc: 0.8864 - lr: 1.0000e-04 - 1s/epoch - 6ms/step\n",
            "Epoch 61/100\n",
            "238/238 - 1s - loss: 0.0119 - precision: 0.9972 - recall: 1.0000 - roc_auc: 0.9999 - val_loss: 0.0176 - val_precision: 0.7143 - val_recall: 0.7547 - val_roc_auc: 0.8864 - lr: 1.0000e-04 - 1s/epoch - 6ms/step\n",
            "Epoch 62/100\n",
            "238/238 - 1s - loss: 0.0119 - precision: 0.9966 - recall: 1.0000 - roc_auc: 0.9999 - val_loss: 0.0175 - val_precision: 0.7455 - val_recall: 0.7736 - val_roc_auc: 0.8864 - lr: 1.0000e-04 - 1s/epoch - 6ms/step\n",
            "Epoch 63/100\n",
            "238/238 - 1s - loss: 0.0115 - precision: 0.9973 - recall: 1.0000 - roc_auc: 0.9999 - val_loss: 0.0175 - val_precision: 0.7593 - val_recall: 0.7736 - val_roc_auc: 0.8864 - lr: 1.0000e-04 - 1s/epoch - 6ms/step\n",
            "Epoch 64/100\n",
            "238/238 - 1s - loss: 0.0114 - precision: 0.9971 - recall: 1.0000 - roc_auc: 0.9999 - val_loss: 0.0174 - val_precision: 0.7321 - val_recall: 0.7736 - val_roc_auc: 0.8864 - lr: 1.0000e-04 - 1s/epoch - 6ms/step\n",
            "Epoch 65/100\n",
            "238/238 - 1s - loss: 0.0114 - precision: 0.9975 - recall: 1.0000 - roc_auc: 0.9999 - val_loss: 0.0173 - val_precision: 0.7321 - val_recall: 0.7736 - val_roc_auc: 0.8864 - lr: 1.0000e-04 - 1s/epoch - 6ms/step\n",
            "Epoch 66/100\n",
            "238/238 - 1s - loss: 0.0115 - precision: 0.9969 - recall: 1.0000 - roc_auc: 0.9999 - val_loss: 0.0173 - val_precision: 0.7692 - val_recall: 0.7547 - val_roc_auc: 0.8864 - lr: 1.0000e-04 - 1s/epoch - 6ms/step\n",
            "Epoch 67/100\n",
            "238/238 - 1s - loss: 0.0112 - precision: 0.9974 - recall: 1.0000 - roc_auc: 0.9999 - val_loss: 0.0171 - val_precision: 0.7455 - val_recall: 0.7736 - val_roc_auc: 0.8864 - lr: 1.0000e-04 - 1s/epoch - 6ms/step\n",
            "Epoch 68/100\n",
            "238/238 - 1s - loss: 0.0112 - precision: 0.9969 - recall: 1.0000 - roc_auc: 0.9999 - val_loss: 0.0172 - val_precision: 0.7069 - val_recall: 0.7736 - val_roc_auc: 0.8864 - lr: 1.0000e-04 - 1s/epoch - 6ms/step\n",
            "Epoch 69/100\n",
            "238/238 - 1s - loss: 0.0110 - precision: 0.9973 - recall: 1.0000 - roc_auc: 0.9999 - val_loss: 0.0170 - val_precision: 0.7593 - val_recall: 0.7736 - val_roc_auc: 0.8864 - lr: 1.0000e-04 - 1s/epoch - 6ms/step\n",
            "Epoch 70/100\n",
            "238/238 - 1s - loss: 0.0108 - precision: 0.9973 - recall: 1.0000 - roc_auc: 0.9999 - val_loss: 0.0169 - val_precision: 0.7547 - val_recall: 0.7547 - val_roc_auc: 0.8864 - lr: 1.0000e-04 - 1s/epoch - 6ms/step\n",
            "Epoch 71/100\n",
            "238/238 - 1s - loss: 0.0110 - precision: 0.9971 - recall: 1.0000 - roc_auc: 0.9999 - val_loss: 0.0169 - val_precision: 0.6721 - val_recall: 0.7736 - val_roc_auc: 0.8864 - lr: 1.0000e-04 - 1s/epoch - 6ms/step\n",
            "Epoch 72/100\n",
            "238/238 - 2s - loss: 0.0110 - precision: 0.9971 - recall: 1.0000 - roc_auc: 0.9999 - val_loss: 0.0168 - val_precision: 0.7193 - val_recall: 0.7736 - val_roc_auc: 0.8864 - lr: 1.0000e-04 - 2s/epoch - 8ms/step\n",
            "Epoch 73/100\n",
            "238/238 - 2s - loss: 0.0106 - precision: 0.9974 - recall: 1.0000 - roc_auc: 0.9999 - val_loss: 0.0165 - val_precision: 0.7193 - val_recall: 0.7736 - val_roc_auc: 0.8864 - lr: 1.0000e-04 - 2s/epoch - 7ms/step\n",
            "Epoch 74/100\n",
            "238/238 - 2s - loss: 0.0106 - precision: 0.9972 - recall: 1.0000 - roc_auc: 0.9999 - val_loss: 0.0168 - val_precision: 0.7455 - val_recall: 0.7736 - val_roc_auc: 0.8864 - lr: 1.0000e-04 - 2s/epoch - 7ms/step\n",
            "Epoch 75/100\n",
            "238/238 - 2s - loss: 0.0108 - precision: 0.9971 - recall: 1.0000 - roc_auc: 0.9999 - val_loss: 0.0166 - val_precision: 0.7736 - val_recall: 0.7736 - val_roc_auc: 0.8864 - lr: 1.0000e-04 - 2s/epoch - 9ms/step\n",
            "Epoch 76/100\n",
            "238/238 - 2s - loss: 0.0104 - precision: 0.9974 - recall: 1.0000 - roc_auc: 0.9999 - val_loss: 0.0165 - val_precision: 0.7321 - val_recall: 0.7736 - val_roc_auc: 0.8864 - lr: 1.0000e-04 - 2s/epoch - 9ms/step\n",
            "Epoch 77/100\n",
            "238/238 - 2s - loss: 0.0104 - precision: 0.9972 - recall: 1.0000 - roc_auc: 0.9999 - val_loss: 0.0163 - val_precision: 0.6949 - val_recall: 0.7736 - val_roc_auc: 0.8864 - lr: 1.0000e-04 - 2s/epoch - 10ms/step\n",
            "Epoch 78/100\n",
            "238/238 - 2s - loss: 0.0103 - precision: 0.9976 - recall: 1.0000 - roc_auc: 0.9999 - val_loss: 0.0164 - val_precision: 0.7407 - val_recall: 0.7547 - val_roc_auc: 0.8864 - lr: 1.0000e-04 - 2s/epoch - 9ms/step\n",
            "Epoch 79/100\n",
            "238/238 - 2s - loss: 0.0101 - precision: 0.9975 - recall: 1.0000 - roc_auc: 0.9999 - val_loss: 0.0163 - val_precision: 0.7547 - val_recall: 0.7547 - val_roc_auc: 0.8865 - lr: 1.0000e-04 - 2s/epoch - 7ms/step\n",
            "Epoch 80/100\n",
            "238/238 - 1s - loss: 0.0103 - precision: 0.9974 - recall: 1.0000 - roc_auc: 0.9999 - val_loss: 0.0163 - val_precision: 0.7455 - val_recall: 0.7736 - val_roc_auc: 0.8864 - lr: 1.0000e-04 - 1s/epoch - 6ms/step\n",
            "Epoch 81/100\n",
            "238/238 - 1s - loss: 0.0102 - precision: 0.9975 - recall: 1.0000 - roc_auc: 0.9999 - val_loss: 0.0165 - val_precision: 0.7069 - val_recall: 0.7736 - val_roc_auc: 0.8864 - lr: 1.0000e-04 - 1s/epoch - 6ms/step\n",
            "Epoch 82/100\n",
            "238/238 - 1s - loss: 0.0100 - precision: 0.9975 - recall: 1.0000 - roc_auc: 0.9999 - val_loss: 0.0162 - val_precision: 0.7321 - val_recall: 0.7736 - val_roc_auc: 0.8865 - lr: 1.0000e-04 - 1s/epoch - 6ms/step\n",
            "Epoch 83/100\n",
            "238/238 - 1s - loss: 0.0099 - precision: 0.9976 - recall: 1.0000 - roc_auc: 0.9999 - val_loss: 0.0163 - val_precision: 0.7321 - val_recall: 0.7736 - val_roc_auc: 0.8865 - lr: 1.0000e-04 - 1s/epoch - 6ms/step\n",
            "Epoch 84/100\n",
            "238/238 - 1s - loss: 0.0101 - precision: 0.9974 - recall: 1.0000 - roc_auc: 0.9999 - val_loss: 0.0163 - val_precision: 0.7069 - val_recall: 0.7736 - val_roc_auc: 0.8864 - lr: 1.0000e-04 - 1s/epoch - 6ms/step\n",
            "Epoch 85/100\n",
            "238/238 - 1s - loss: 0.0097 - precision: 0.9976 - recall: 1.0000 - roc_auc: 0.9999 - val_loss: 0.0161 - val_precision: 0.7321 - val_recall: 0.7736 - val_roc_auc: 0.8864 - lr: 1.0000e-04 - 1s/epoch - 6ms/step\n",
            "Epoch 86/100\n",
            "238/238 - 1s - loss: 0.0097 - precision: 0.9976 - recall: 1.0000 - roc_auc: 0.9999 - val_loss: 0.0158 - val_precision: 0.7736 - val_recall: 0.7736 - val_roc_auc: 0.8865 - lr: 1.0000e-04 - 1s/epoch - 6ms/step\n",
            "Epoch 87/100\n",
            "238/238 - 1s - loss: 0.0097 - precision: 0.9974 - recall: 1.0000 - roc_auc: 0.9999 - val_loss: 0.0160 - val_precision: 0.7321 - val_recall: 0.7736 - val_roc_auc: 0.8864 - lr: 1.0000e-04 - 1s/epoch - 6ms/step\n",
            "Epoch 88/100\n",
            "238/238 - 1s - loss: 0.0097 - precision: 0.9973 - recall: 1.0000 - roc_auc: 0.9999 - val_loss: 0.0160 - val_precision: 0.7547 - val_recall: 0.7547 - val_roc_auc: 0.8864 - lr: 1.0000e-04 - 1s/epoch - 6ms/step\n",
            "Epoch 89/100\n",
            "238/238 - 1s - loss: 0.0096 - precision: 0.9976 - recall: 1.0000 - roc_auc: 0.9999 - val_loss: 0.0159 - val_precision: 0.7143 - val_recall: 0.7547 - val_roc_auc: 0.8864 - lr: 1.0000e-04 - 1s/epoch - 6ms/step\n",
            "Epoch 90/100\n",
            "238/238 - 1s - loss: 0.0095 - precision: 0.9975 - recall: 1.0000 - roc_auc: 0.9999 - val_loss: 0.0159 - val_precision: 0.7593 - val_recall: 0.7736 - val_roc_auc: 0.8864 - lr: 1.0000e-04 - 1s/epoch - 6ms/step\n",
            "Epoch 91/100\n",
            "238/238 - 2s - loss: 0.0095 - precision: 0.9976 - recall: 1.0000 - roc_auc: 0.9999 - val_loss: 0.0157 - val_precision: 0.7321 - val_recall: 0.7736 - val_roc_auc: 0.8864 - lr: 1.0000e-04 - 2s/epoch - 8ms/step\n",
            "Epoch 92/100\n",
            "238/238 - 1s - loss: 0.0091 - precision: 0.9978 - recall: 1.0000 - roc_auc: 0.9999 - val_loss: 0.0154 - val_precision: 0.7736 - val_recall: 0.7736 - val_roc_auc: 0.8865 - lr: 1.0000e-05 - 1s/epoch - 6ms/step\n",
            "Epoch 93/100\n",
            "238/238 - 1s - loss: 0.0091 - precision: 0.9977 - recall: 1.0000 - roc_auc: 0.9999 - val_loss: 0.0152 - val_precision: 0.7736 - val_recall: 0.7736 - val_roc_auc: 0.8865 - lr: 1.0000e-05 - 1s/epoch - 6ms/step\n",
            "Epoch 94/100\n",
            "238/238 - 1s - loss: 0.0088 - precision: 0.9980 - recall: 1.0000 - roc_auc: 1.0000 - val_loss: 0.0152 - val_precision: 0.7736 - val_recall: 0.7736 - val_roc_auc: 0.8865 - lr: 1.0000e-05 - 1s/epoch - 6ms/step\n",
            "Epoch 95/100\n",
            "238/238 - 1s - loss: 0.0087 - precision: 0.9983 - recall: 1.0000 - roc_auc: 1.0000 - val_loss: 0.0151 - val_precision: 0.7736 - val_recall: 0.7736 - val_roc_auc: 0.8865 - lr: 1.0000e-05 - 1s/epoch - 6ms/step\n",
            "Epoch 96/100\n",
            "238/238 - 1s - loss: 0.0088 - precision: 0.9981 - recall: 1.0000 - roc_auc: 1.0000 - val_loss: 0.0151 - val_precision: 0.7736 - val_recall: 0.7736 - val_roc_auc: 0.8865 - lr: 1.0000e-05 - 1s/epoch - 6ms/step\n",
            "Epoch 97/100\n",
            "238/238 - 1s - loss: 0.0088 - precision: 0.9979 - recall: 1.0000 - roc_auc: 1.0000 - val_loss: 0.0151 - val_precision: 0.7736 - val_recall: 0.7736 - val_roc_auc: 0.8865 - lr: 1.0000e-05 - 1s/epoch - 6ms/step\n",
            "Epoch 98/100\n",
            "238/238 - 1s - loss: 0.0087 - precision: 0.9981 - recall: 1.0000 - roc_auc: 1.0000 - val_loss: 0.0150 - val_precision: 0.7593 - val_recall: 0.7736 - val_roc_auc: 0.8865 - lr: 1.0000e-05 - 1s/epoch - 6ms/step\n",
            "Epoch 99/100\n",
            "238/238 - 1s - loss: 0.0088 - precision: 0.9980 - recall: 1.0000 - roc_auc: 1.0000 - val_loss: 0.0149 - val_precision: 0.7593 - val_recall: 0.7736 - val_roc_auc: 0.8865 - lr: 1.0000e-05 - 1s/epoch - 6ms/step\n",
            "Epoch 100/100\n",
            "238/238 - 1s - loss: 0.0088 - precision: 0.9981 - recall: 1.0000 - roc_auc: 0.9999 - val_loss: 0.0150 - val_precision: 0.7593 - val_recall: 0.7736 - val_roc_auc: 0.8865 - lr: 1.0000e-05 - 1s/epoch - 6ms/step\n"
          ]
        }
      ]
    },
    {
      "cell_type": "code",
      "source": [
        "k_pred_train = model.predict(X_train)\n",
        "k_pred_test = model.predict(X_test)"
      ],
      "metadata": {
        "id": "ZR1ff8WCaPdW"
      },
      "execution_count": 32,
      "outputs": []
    },
    {
      "cell_type": "code",
      "source": [
        "k_train_label = np.where(k_pred_train >= 0.5, 1, 0).flatten()\n",
        "k_test_label = np.where(k_pred_test >= 0.5, 1, 0).flatten()"
      ],
      "metadata": {
        "id": "rZl6HuHqalDG"
      },
      "execution_count": 33,
      "outputs": []
    },
    {
      "cell_type": "code",
      "source": [
        "print(classification_report(y_train, k_train_label, digits=3))\n",
        "print(classification_report(y_test, k_test_label, digits=3))\n",
        "print(f'roc_auc train: {roc_auc_score(y_train, k_pred_train):.3f}, roc_auc test: {roc_auc_score(y_test, k_pred_test):.3f}')"
      ],
      "metadata": {
        "colab": {
          "base_uri": "https://localhost:8080/"
        },
        "id": "erbUzEjyal4W",
        "outputId": "f1ad2b29-0a4c-4854-a760-fcfd22626f3a"
      },
      "execution_count": 34,
      "outputs": [
        {
          "output_type": "stream",
          "name": "stdout",
          "text": [
            "              precision    recall  f1-score   support\n",
            "\n",
            "           0      1.000     1.000     1.000    173768\n",
            "           1      0.926     1.000     0.962       302\n",
            "\n",
            "    accuracy                          1.000    174070\n",
            "   macro avg      0.963     1.000     0.981    174070\n",
            "weighted avg      1.000     1.000     1.000    174070\n",
            "\n",
            "              precision    recall  f1-score   support\n",
            "\n",
            "           0      1.000     1.000     1.000     68145\n",
            "           1      0.818     0.763     0.789       118\n",
            "\n",
            "    accuracy                          0.999     68263\n",
            "   macro avg      0.909     0.881     0.895     68263\n",
            "weighted avg      0.999     0.999     0.999     68263\n",
            "\n",
            "roc_auc train: 1.000, roc_auc test: 0.953\n"
          ]
        }
      ]
    },
    {
      "cell_type": "code",
      "source": [
        "confusion_matrix(y_test, k_test_label)"
      ],
      "metadata": {
        "colab": {
          "base_uri": "https://localhost:8080/"
        },
        "id": "Kgz66i0bcV43",
        "outputId": "09acb8e0-465d-4fdc-a8b1-143293b8565f"
      },
      "execution_count": 37,
      "outputs": [
        {
          "output_type": "execute_result",
          "data": {
            "text/plain": [
              "array([[68125,    20],\n",
              "       [   28,    90]])"
            ]
          },
          "metadata": {},
          "execution_count": 37
        }
      ]
    },
    {
      "cell_type": "code",
      "source": [
        "y_test.value_counts(normalize=True)"
      ],
      "metadata": {
        "colab": {
          "base_uri": "https://localhost:8080/"
        },
        "id": "Gby84GszcmrT",
        "outputId": "a30cda03-891f-43df-84d0-bea25adb0440"
      },
      "execution_count": 39,
      "outputs": [
        {
          "output_type": "execute_result",
          "data": {
            "text/plain": [
              "0    0.998271\n",
              "1    0.001729\n",
              "Name: Class, dtype: float64"
            ]
          },
          "metadata": {},
          "execution_count": 39
        }
      ]
    },
    {
      "cell_type": "markdown",
      "source": [
        "Experimaental"
      ],
      "metadata": {
        "id": "geaViNv0oh7W"
      }
    },
    {
      "cell_type": "code",
      "source": [
        "num_features = X_real.shape[1]\n",
        "num_preds = 1\n",
        "\n",
        "def get_model_cnn():\n",
        "    inp = keras.layers.Input((num_features*num_preds,))\n",
        "    x = keras.layers.Reshape((num_features*num_preds,1))(inp)\n",
        "    x = keras.layers.Conv1D(32,num_preds,strides=num_preds, activation='elu')(x)\n",
        "    x = keras.layers.BatchNormalization()(x)\n",
        "    x = keras.layers.Conv1D(24,1, activation='elu')(x)\n",
        "    x = keras.layers.BatchNormalization()(x)\n",
        "    x = keras.layers.Conv1D(16,1, activation='elu')(x)\n",
        "    x = keras.layers.BatchNormalization()(x)\n",
        "    x = keras.layers.Conv1D(4,1, activation='elu')(x)\n",
        "    x = keras.layers.Flatten()(x)\n",
        "    x = keras.layers.Reshape((num_features*4,1))(x)\n",
        "    x = keras.layers.AveragePooling1D(2)(x)\n",
        "    x = keras.layers.Flatten()(x)\n",
        "    x = keras.layers.BatchNormalization()(x)\n",
        "    out = keras.layers.Dense(1, activation='sigmoid')(x)\n",
        "    return keras.Model(inputs=inp, outputs=out)\n",
        "\n",
        "cnn_model = get_model_cnn()\n",
        "cnn_model.summary()"
      ],
      "metadata": {
        "colab": {
          "base_uri": "https://localhost:8080/"
        },
        "id": "iVlJ7wVNbMcm",
        "outputId": "2891330e-c0e6-4e1e-fbee-a66fcb03eeb0"
      },
      "execution_count": 46,
      "outputs": [
        {
          "output_type": "stream",
          "name": "stdout",
          "text": [
            "Model: \"model_2\"\n",
            "_________________________________________________________________\n",
            " Layer (type)                Output Shape              Param #   \n",
            "=================================================================\n",
            " input_3 (InputLayer)        [(None, 114)]             0         \n",
            "                                                                 \n",
            " reshape_4 (Reshape)         (None, 114, 1)            0         \n",
            "                                                                 \n",
            " conv1d_8 (Conv1D)           (None, 114, 32)           64        \n",
            "                                                                 \n",
            " batch_normalization_8 (Batc  (None, 114, 32)          128       \n",
            " hNormalization)                                                 \n",
            "                                                                 \n",
            " conv1d_9 (Conv1D)           (None, 114, 24)           792       \n",
            "                                                                 \n",
            " batch_normalization_9 (Batc  (None, 114, 24)          96        \n",
            " hNormalization)                                                 \n",
            "                                                                 \n",
            " conv1d_10 (Conv1D)          (None, 114, 16)           400       \n",
            "                                                                 \n",
            " batch_normalization_10 (Bat  (None, 114, 16)          64        \n",
            " chNormalization)                                                \n",
            "                                                                 \n",
            " conv1d_11 (Conv1D)          (None, 114, 4)            68        \n",
            "                                                                 \n",
            " flatten_4 (Flatten)         (None, 456)               0         \n",
            "                                                                 \n",
            " reshape_5 (Reshape)         (None, 456, 1)            0         \n",
            "                                                                 \n",
            " average_pooling1d_2 (Averag  (None, 228, 1)           0         \n",
            " ePooling1D)                                                     \n",
            "                                                                 \n",
            " flatten_5 (Flatten)         (None, 228)               0         \n",
            "                                                                 \n",
            " batch_normalization_11 (Bat  (None, 228)              912       \n",
            " chNormalization)                                                \n",
            "                                                                 \n",
            " dense_10 (Dense)            (None, 1)                 229       \n",
            "                                                                 \n",
            "=================================================================\n",
            "Total params: 2,753\n",
            "Trainable params: 2,153\n",
            "Non-trainable params: 600\n",
            "_________________________________________________________________\n"
          ]
        }
      ]
    },
    {
      "cell_type": "code",
      "source": [
        "pos = y_real[y_real == 1].astype(int).sum()\n",
        "neg = y_real.shape[0] - pos\n",
        "total = X_real.shape[0]\n",
        "weight_for_0 = (1 / neg) * (total / 2.0)\n",
        "weight_for_1 = (1 / pos) * (total / 2.0)\n",
        "class_weight = {0: weight_for_0, 1: weight_for_1}\n",
        "class_weight"
      ],
      "metadata": {
        "colab": {
          "base_uri": "https://localhost:8080/"
        },
        "id": "6eoducpNg3EF",
        "outputId": "9e21c546-3d74-41cc-a34c-e905ab9e3558"
      },
      "execution_count": 45,
      "outputs": [
        {
          "output_type": "execute_result",
          "data": {
            "text/plain": [
              "{0: 0.5008676383727286, 1: 288.6384778012685}"
            ]
          },
          "metadata": {},
          "execution_count": 45
        }
      ]
    },
    {
      "cell_type": "code",
      "source": [
        "X_fold, X_test, y_fold, y_test = train_test_split(X_real, y_real, test_size=0.25, shuffle=True, stratify=y_real, random_state=42)"
      ],
      "metadata": {
        "id": "-dZTT_Gphqb1"
      },
      "execution_count": 48,
      "outputs": []
    },
    {
      "cell_type": "code",
      "source": [
        "probs_train, probs_test = [], []\n",
        "\n",
        "skf = StratifiedKFold(n_splits=5, shuffle=True, random_state=42)\n",
        "\n",
        "for train_index, valid_index in skf.split(X_fold, y_fold):\n",
        "    X_train, X_valid = X_fold.iloc[train_index, :], X_fold.iloc[valid_index, :]\n",
        "    y_train, y_valid = y_fold.iloc[train_index], y_fold.iloc[valid_index]\n",
        "\n",
        "    train_ds = tf.data.Dataset.from_tensor_slices((X_train, y_train)).cache().batch(batch_size).prefetch(0)\n",
        "    val_ds = tf.data.Dataset.from_tensor_slices((X_valid, y_valid)).cache()\n",
        "    val_ds = val_ds.batch(batch_size).prefetch(2)\n",
        "\n",
        "    cnn_model = get_model_cnn()\n",
        "    optimizer = tf.keras.optimizers.Adam(lr=0.001, decay=0.00001)\n",
        "    cnn_model.compile(optimizer=optimizer, loss='binary_crossentropy', metrics=metrics)\n",
        "    cnn_model.fit(train_ds, epochs=100, verbose=0, callbacks=callbacks,\n",
        "                     validation_data=val_ds, class_weight=class_weight, \n",
        "                     steps_per_epoch=np.ceil((X_train.shape[0])/batch_size))\n",
        "    \n",
        "    probs_train.append(cnn_model.predict(X_train))\n",
        "    probs_test.append(cnn_model.predict(X_test))"
      ],
      "metadata": {
        "id": "My0uqyhxeOY6"
      },
      "execution_count": 52,
      "outputs": []
    },
    {
      "cell_type": "code",
      "source": [
        "test_probs = np.array(probs_test).squeeze().mean(axis=0)\n",
        "test_labels = np.where(test_probs >=0.5, 1, 0)"
      ],
      "metadata": {
        "id": "d5dNNJzqgpBz"
      },
      "execution_count": 61,
      "outputs": []
    },
    {
      "cell_type": "code",
      "source": [
        "print(classification_report(y_test, test_labels, digits=3))\n",
        "print(f'roc_auc test: {roc_auc_score(y_test, test_probs):.3f}')"
      ],
      "metadata": {
        "colab": {
          "base_uri": "https://localhost:8080/"
        },
        "id": "wumItFVTn9fb",
        "outputId": "2bb2427a-1682-4ad7-b961-09efdc85c4ba"
      },
      "execution_count": 62,
      "outputs": [
        {
          "output_type": "stream",
          "name": "stdout",
          "text": [
            "              precision    recall  f1-score   support\n",
            "\n",
            "           0      1.000     0.995     0.997     68145\n",
            "           1      0.228     0.847     0.359       118\n",
            "\n",
            "    accuracy                          0.995     68263\n",
            "   macro avg      0.614     0.921     0.678     68263\n",
            "weighted avg      0.998     0.995     0.996     68263\n",
            "\n",
            "roc_auc test: 0.974\n"
          ]
        }
      ]
    }
  ]
}