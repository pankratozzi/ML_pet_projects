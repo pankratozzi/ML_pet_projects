{
 "cells": [
  {
   "cell_type": "code",
   "execution_count": 1,
   "id": "d5f293c0",
   "metadata": {},
   "outputs": [],
   "source": [
    "import warnings\n",
    "warnings.filterwarnings('ignore')\n",
    "\n",
    "import pandas as pd\n",
    "import numpy as np\n",
    "import matplotlib.pyplot as plt\n",
    "import seaborn as sns\n",
    "from typing import Optional, List, Tuple\n",
    "from pprint import pprint\n",
    "from tqdm import tqdm\n",
    "import time\n",
    "from scipy import stats\n",
    "from scipy.optimize import minimize\n",
    "\n",
    "from itertools import combinations\n",
    "\n",
    "import missingno as msno\n",
    "from sklearn.metrics import roc_auc_score\n",
    "from sklearn.model_selection import train_test_split, cross_val_score, KFold, StratifiedKFold\n",
    "from sklearn.preprocessing import StandardScaler, MinMaxScaler, LabelEncoder\n",
    "from sklearn.discriminant_analysis import LinearDiscriminantAnalysis\n",
    "from sklearn.base import BaseEstimator, TransformerMixin\n",
    "from sklearn.utils.class_weight import compute_class_weight\n",
    "\n",
    "from BorutaShap import BorutaShap\n",
    "import category_encoders as ce\n",
    "\n",
    "from lightgbm import LGBMClassifier\n",
    "from catboost import CatBoostClassifier, Pool, EFeaturesSelectionAlgorithm, EShapCalcType\n",
    "import xgboost as xgb\n",
    "\n",
    "import optuna\n",
    "from optuna.samplers import TPESampler\n",
    "\n",
    "import tensorflow as tf  # another kernel: work in progress - MLP with BatchNorm, Convolutional\n",
    "\n",
    "from utils import *\n",
    "import gc\n",
    "gc.enable()"
   ]
  },
  {
   "cell_type": "code",
   "execution_count": 2,
   "id": "c888e3a0",
   "metadata": {},
   "outputs": [],
   "source": [
    "seed = 42\n",
    "np.random.seed(seed)\n",
    "np.set_printoptions(2)\n",
    "pd.options.display.float_format = '{:.4f}'.format\n",
    "plt.style.use('ggplot')\n",
    "pd.set_option('display.max_columns', None)\n",
    "\n",
    "ID_COL = 'APPLICATION_NUMBER'\n",
    "TARGET= 'TARGET'"
   ]
  },
  {
   "cell_type": "code",
   "execution_count": 55,
   "id": "533d0b22",
   "metadata": {},
   "outputs": [],
   "source": [
    "train = pd.read_csv('train.csv')\n",
    "test = pd.read_csv('test.csv')"
   ]
  },
  {
   "cell_type": "markdown",
   "id": "d1a1642b",
   "metadata": {},
   "source": [
    "**models based on profile data**"
   ]
  },
  {
   "cell_type": "code",
   "execution_count": 56,
   "id": "359691e9",
   "metadata": {},
   "outputs": [
    {
     "name": "stdout",
     "output_type": "stream",
     "text": [
      "Memory usage of dataframe is 182.15 MB\n",
      "Memory usage after optimization is: 86.31 MB\n",
      "Decreased by 52.6%\n"
     ]
    },
    {
     "data": {
      "text/plain": [
       "(110093, 117)"
      ]
     },
     "execution_count": 56,
     "metadata": {},
     "output_type": "execute_result"
    }
   ],
   "source": [
    "data = pd.concat([train, test], axis=0)\n",
    "df = prepare_cp_sec(data, dropna=False, create_features=True, is_category_encode=False)\n",
    "\n",
    "df_cat_cols = [column for column in df.columns if df[column].dtype in [\"object\", \"category\"]]\n",
    "for col in df_cat_cols:\n",
    "    if df[col].nunique() > 20:\n",
    "        encoder = LabelEncoder()\n",
    "        df[col] = encoder.fit_transform(df[col].astype(str).fillna(\"NA\"))\n",
    "df, _ = get_encoded(df)\n",
    "\n",
    "data_border = len(data) - df[TARGET].isna().sum()\n",
    "data_train, data_test = df.iloc[:data_border, :], df.iloc[data_border:, :]\n",
    "X, y = data_train.drop(TARGET, axis=1), data_train[TARGET]\n",
    "\n",
    "X = X.drop(ID_COL, axis=1)\n",
    "\n",
    "X.shape\n",
    "# pay attention at EXTERNAL_WEIGHTED_SCORE: lots of NA values due to NA in additive terms (next hypothesis to fillna(0) in sum)"
   ]
  },
  {
   "cell_type": "code",
   "execution_count": 5,
   "id": "2d9dd62f",
   "metadata": {},
   "outputs": [],
   "source": [
    "# features, selected by BorutaShap and handy elimination\n",
    "boruta = ['NEW_CREDIT_TO_ANNUITY_RATIO_MEAN_GENDER_AGE_BIN', 'AGE', 'NEW_CREDIT_TO_ANNUITY_RATIO', \n",
    "          'DAYS_ON_LAST_JOB', 'ANNUITY_JOB', 'RATIO_CREDIT_TO_AGE', 'RATIO_CAR_TO_EXPERIENCE', 'RATIO_CAR_TO_AGE', \n",
    "          'AMOUNT_ANNUITY_MEAN_BY_EDUCATION', 'AMT_REQ_CREDIT_BUREAU_YEAR', 'SALARY_JOB', \n",
    "          'AMOUNT_ANNUITY_MIN_BY_EDUCATION', 'AMOUNT_CREDIT_MEAN_BY_EDUCATION', 'EXTERNAL_SCORING_RATING_3', \n",
    "          'NAME_CONTRACT_TYPE', 'CREDIT_JOB', 'AMOUNT_CREDIT', 'TOTAL_SALARY_MEAN_BY_EDUCATION', \n",
    "          'EXTERNAL_SCORE_WEIGHTED', 'TOTAL_SALARY_MEAN_AGE_INTERVAL', 'EXTERNAL_SCORING_RATING_2', \n",
    "          'EDUCATION_FAMILY_STATUS', 'GENDER', 'RATIO_ANNUITY_TO_AGE', 'TOTAL_SALARY_MIN_BY_EDUCATION', \n",
    "          'RATIO_AMOUNT_ANNUITY_TO_SALARY', 'AMOUNT_ANNUITY', 'OWN_CAR_AGE', 'RATIO_AGE_TO_EXPERIENCE', \n",
    "          'RATIO_SALARY_TO_AMOUNT_CREDIT_MEAN_GENDER_AGE_BIN', 'EXTERNAL_SCORING_RATING_1', \n",
    "          'TOTAL_SALARY_COUNT_BY_EDUCATION', 'AMOUNT_ANNUITY_MAX_BY_EDUCATION', 'AMOUNT_CREDIT_MAX_BY_EDUCATION', \n",
    "          'RATIO_SALARY_TO_AGE', 'TOTAL_SALARY_COUNT_AGE_INTERVAL', 'AMT_REQ_CREDIT_BUREAU_QRT', \n",
    "          'SALARY_REGION_POPULATION', 'AGE_BIN', 'TOTAL_SALARY_MAX_BY_EDUCATION', 'NEW_STATUS_FMarried', \n",
    "          'RATIO_SALARY_TO_AMOUNT_CREDIT']"
   ]
  },
  {
   "cell_type": "markdown",
   "id": "f8e58791",
   "metadata": {},
   "source": [
    "**LGBM Base model (boruta features from profile.csv)**\n",
    "\n",
    "Predictions for test are obtained by averaging CV estimators"
   ]
  },
  {
   "cell_type": "code",
   "execution_count": 6,
   "id": "88ed37a4",
   "metadata": {},
   "outputs": [
    {
     "name": "stdout",
     "output_type": "stream",
     "text": [
      "Sun Sep  4 09:07:30 2022, Cross-Validation, 110093 rows, 42 cols\n",
      "Fold 1, Train score = 0.75245, Valid score = 0.74478\n",
      "Fold 2, Train score = 0.76315, Valid score = 0.72618\n",
      "Fold 3, Train score = 0.74952, Valid score = 0.72751\n",
      "Fold 4, Train score = 0.76255, Valid score = 0.73424\n",
      "Fold 5, Train score = 0.75703, Valid score = 0.71899\n",
      "Train score by each fold: [0.75245, 0.76315, 0.74952, 0.76255, 0.75703]\n",
      "Valid score by each fold: [0.74478, 0.72618, 0.72751, 0.73424, 0.71899]\n",
      "Train mean score by each fold:0.75694 +/- 0.00539\n",
      "Valid mean score by each fold:0.73034 +/- 0.00869\n",
      "**************************************************\n",
      "OOF-score: 0.72938\n"
     ]
    }
   ],
   "source": [
    "# got 0.73211 on LB\n",
    "lgbm_params_my = {  # initial params\n",
    "    'metric':\"auc\", \n",
    "    'boosting_type': 'gbdt',\n",
    "    'n_estimators': 1000,\n",
    "    'learning_rate': 0.03,\n",
    "    'num_leaves': 42,\n",
    "    'max_depth': 10,\n",
    "    'reg_alpha': 0.05,\n",
    "    'reg_lambda': 0.06,\n",
    "    'subsample': 0.8,\n",
    "    'min_child_weight': 60,\n",
    "    'random_state': seed\n",
    "}\n",
    "\n",
    "adv_params = {\n",
    "              'metric':\"auc\", \n",
    "              'boosting_type': 'gbdt',\n",
    "              'n_estimators': 2000,\n",
    "              'reg_alpha': 0.436193,\n",
    "              'reg_lambda': 0.479169,\n",
    "              'subsample': 0.7,\n",
    "              'min_split_gain': 0.024766,\n",
    "              'subsample_for_bin': 240000,\n",
    "              'colsample_bytree': 0.508716,\n",
    "              'is_unbalance': False,\n",
    "              'random_state': seed,\n",
    "              'learning_rate': 0.06922946617835303,\n",
    "              'max_depth': 10,\n",
    "              'min_child_weight': 129,\n",
    "              'num_leaves': 18\n",
    "}\n",
    "\n",
    "estimators_lgbm, oof_preds_lgbm = lightgbm_cross_validation(adv_params, \n",
    "                                                            X[boruta], \n",
    "                                                            y, \n",
    "                                                            cv=KFold(n_splits=5, random_state=seed, shuffle=True), \n",
    "                                                            rounds=50)"
   ]
  },
  {
   "cell_type": "code",
   "execution_count": 7,
   "id": "7fcd86fa",
   "metadata": {},
   "outputs": [
    {
     "data": {
      "text/plain": [
       "(0.7239667937574639, 0.7348498780254732)"
      ]
     },
     "execution_count": 7,
     "metadata": {},
     "output_type": "execute_result"
    }
   ],
   "source": [
    "# this is no quite fair as we used oof values for early stopping in CV loop. CI would be optimistic\n",
    "calculate_confidence_interval(create_bootstrap_metrics(y, oof_preds_lgbm, roc_auc_score))"
   ]
  },
  {
   "cell_type": "code",
   "execution_count": 8,
   "id": "c6d85c46",
   "metadata": {},
   "outputs": [],
   "source": [
    "test_preds = np.array([model.predict_proba(data_test[boruta])[:,1] for model in estimators_lgbm])\n",
    "# test_preds1 = pd.DataFrame({ID_COL: test_index, TARGET: test_preds.T.mean(axis=1)})\n",
    "test_preds1 = test_preds.T.mean(axis=1)"
   ]
  },
  {
   "cell_type": "markdown",
   "id": "d9da61cd",
   "metadata": {},
   "source": [
    "**CatBoost Base model**"
   ]
  },
  {
   "cell_type": "code",
   "execution_count": 9,
   "id": "b1a544b6",
   "metadata": {},
   "outputs": [
    {
     "name": "stdout",
     "output_type": "stream",
     "text": [
      "Sun Sep  4 09:08:13 2022, Cross-Validation, 110093 rows, 42 cols\n",
      "Fold 1, Train score = 0.75819, Valid score = 0.74345\n",
      "Fold 2, Train score = 0.75763, Valid score = 0.72580\n",
      "Fold 3, Train score = 0.75460, Valid score = 0.72823\n",
      "Fold 4, Train score = 0.75738, Valid score = 0.72935\n",
      "Fold 5, Train score = 0.76206, Valid score = 0.71923\n",
      "Train score by each fold: [0.75819, 0.75763, 0.7546, 0.75738, 0.76206]\n",
      "Valid score by each fold: [0.74345, 0.7258, 0.72823, 0.72935, 0.71923]\n",
      "Train mean score by each fold:0.75797 +/- 0.00239\n",
      "Valid mean score by each fold:0.72921 +/- 0.00794\n",
      "**************************************************\n",
      "OOF-score: 0.72831\n"
     ]
    }
   ],
   "source": [
    "# 0.72989\n",
    "cat_params = { # initial params\n",
    "                'silent': True,  \n",
    "                'one_hot_max_size': 2,  \n",
    "                'iterations': 1000, \n",
    "                'eval_metric': 'AUC',  \n",
    "                'allow_writing_files': False,  \n",
    "                'random_seed': seed,  \n",
    "                #'auto_class_weights': 'SqrtBalanced',  \n",
    "                'grow_policy': 'SymmetricTree', \n",
    "                'objective': 'Logloss',  \n",
    "                'boosting_type': 'Ordered', \n",
    "                'score_function': 'Cosine',  \n",
    "                'bootstrap_type': 'MVS',  \n",
    "                'bagging_temperature': 3.68,  \n",
    "                'colsample_bylevel': 0.839,  \n",
    "                'depth': 6, \n",
    "                'l2_leaf_reg': 3,  \n",
    "                'learning_rate': 0.05, \n",
    "                'max_ctr_complexity': 2, \n",
    "                'subsample': 0.86,  \n",
    "                'max_bin': 254,  \n",
    "}\n",
    "    \n",
    "cat_cols = [column for column in X.columns if X[column].dtype in [\"object\", \"category\"]]\n",
    "# there are no cat features as they all were encoded earlier. Which is not recommended by catboost developers\n",
    "estimators_cat, oof_preds_cat = catboost_cross_validation(cat_params, \n",
    "                                                          X[boruta], \n",
    "                                                          y, \n",
    "                                                          cv=KFold(n_splits=5, random_state=seed, shuffle=True), \n",
    "                                                          rounds=50)"
   ]
  },
  {
   "cell_type": "code",
   "execution_count": 10,
   "id": "2fe51f14",
   "metadata": {},
   "outputs": [
    {
     "data": {
      "text/plain": [
       "(0.7230139582496385, 0.7335391322984915)"
      ]
     },
     "execution_count": 10,
     "metadata": {},
     "output_type": "execute_result"
    }
   ],
   "source": [
    "calculate_confidence_interval(create_bootstrap_metrics(y, oof_preds_cat, roc_auc_score))"
   ]
  },
  {
   "cell_type": "code",
   "execution_count": 11,
   "id": "cf279c3c",
   "metadata": {},
   "outputs": [],
   "source": [
    "test_preds = np.array([model.predict_proba(data_test[boruta])[:,1] for model in estimators_cat])\n",
    "# test_preds2 = pd.DataFrame({ID_COL: test_index, TARGET: test_preds.T.mean(axis=1)})\n",
    "test_preds2 = test_preds.T.mean(axis=1)"
   ]
  },
  {
   "cell_type": "markdown",
   "id": "7ca609c1",
   "metadata": {},
   "source": [
    "**Add Bureau features and new models**"
   ]
  },
  {
   "cell_type": "code",
   "execution_count": 12,
   "id": "8ba7ebd0",
   "metadata": {},
   "outputs": [
    {
     "data": {
      "text/plain": [
       "(273131, 34)"
      ]
     },
     "execution_count": 12,
     "metadata": {},
     "output_type": "execute_result"
    }
   ],
   "source": [
    "bureau = bki_cr()\n",
    "bureau.shape"
   ]
  },
  {
   "cell_type": "code",
   "execution_count": 13,
   "id": "8a3ebb2f",
   "metadata": {},
   "outputs": [],
   "source": [
    "X, y = data_train.drop(TARGET, axis=1), data_train[TARGET]\n",
    "X = X.merge(bureau, on=ID_COL, how='left')\n",
    "X_index = X[ID_COL]\n",
    "X = X.drop(ID_COL, axis=1)"
   ]
  },
  {
   "cell_type": "code",
   "execution_count": null,
   "id": "6f812a29",
   "metadata": {},
   "outputs": [],
   "source": [
    "# select informative features with less overfitting params\n",
    "lgbm_params = { \n",
    "                'metric':\"auc\", \n",
    "                'boosting_type': 'goss',\n",
    "                'is_unbalance': True,\n",
    "                'n_estimators': 212, \n",
    "                'learning_rate': 0.01, \n",
    "                'min_child_weight': 350, \n",
    "                'min_split_gain': 0.024766,\n",
    "                'max_depth': 3,\n",
    "                'verbose': -1,\n",
    "                'reg_alpha': 30,\n",
    "                'reg_lambda': 30,\n",
    "                'colsample_bytree': 0.33,\n",
    "                'num_leaves': 42,\n",
    "                'subsample': 0.33,\n",
    "                'max_bin': 128,\n",
    "                'random_state': seed\n",
    "}\n",
    "\n",
    "selector = BorutaShap(model=LGBMClassifier(**lgbm_params), importance_measure='shap', classification=True)\n",
    "selector.fit(X, y, n_trials=20, sample=False, normalize=True, verbose=True)"
   ]
  },
  {
   "cell_type": "code",
   "execution_count": 15,
   "id": "8ad2a756",
   "metadata": {},
   "outputs": [],
   "source": [
    "boruta_bureau = ['EXTERNAL_SCORE_WEIGHTED', 'AMOUNT_ANNUITY_MAX_BY_EDUCATION', 'DAYS_ON_LAST_JOB', \n",
    "                 'AMOUNT_CREDIT_MEAN_BY_EDUCATION', 'RATIO_AMOUNT_ANNUITY_TO_SALARY', 'ANNUITY_JOB', \n",
    "                 'EXTERNAL_SCORING_RATING_2', 'AMOUNT_CREDIT', 'EXTERNAL_SCORING_RATING_3', 'AGE', 'AMOUNT_ANNUITY', \n",
    "                 'AMT_REQ_CREDIT_BUREAU_YEAR', 'RATIO_SALARY_TO_AMOUNT_CREDIT_MEAN_GENDER_AGE_BIN', 'RATIO_SALARY_TO_AGE', \n",
    "                 'EXTERNAL_SCORING_RATING_1', 'EXT_SCORE_3_ANNUITY', 'EXT_SCORE_3_AMT_CREDIT', 'RATIO_SALARY_TO_AMOUNT_CREDIT', \n",
    "                 'EXT_SCORE_2_ANNUITY', 'GENDER', 'EDUCATION_LEVEL_Higher education', 'EXT_SCORE_2_AMT_CREDIT', \n",
    "                 'TOTAL_SALARY_MEAN_AGE_INTERVAL', 'TOTAL_SALARY_MEAN_BY_EDUCATION', 'TOTAL_SALARY_MIN_BY_EDUCATION', \n",
    "                 'OWN_CAR_AGE', 'RATIO_SALARY_TO_AMOUNT_CREDIT_BY_FAMILY', 'EDUCATION_FAMILY_STATUS', 'RATIO_CREDIT_TO_AGE', \n",
    "                 'NEW_STATUS_FMarried', 'AMOUNT_CREDIT_MAX_BY_EDUCATION', 'RATIO_CAR_TO_AGE', 'CREDIT_JOB',\n",
    "                 'AMOUNT_ANNUITY_MEAN_BY_EDUCATION', 'NEW_CREDIT_TO_ANNUITY_RATIO_MEAN_GENDER_AGE_BIN', \n",
    "                 'AMOUNT_ANNUITY_MIN_BY_EDUCATION', 'RATIO_CAR_TO_EXPERIENCE', 'NEW_CREDIT_TO_ANNUITY_RATIO', \n",
    "                 'RATIO_ANNUITY_TO_AGE', 'NAME_CONTRACT_TYPE', 'RATIO_AGE_TO_EXPERIENCE', \n",
    "                 'AMOUNT_ANNUITY_MEAN_BY_FAMILY_STATUS', 'TOTAL_SALARY_MAX_BY_FAMILY_STATUS', 'SALARY_JOB', \n",
    "                 'AMOUNT_CREDIT_COUNT_BY_EDUCATION', 'AMT_REQ_CREDIT_BUREAU_QRT', 'AMOUNT_CREDIT_COUNT_AGE_INTERVAL', \n",
    "                 'TOTAL_SALARY_MAX_AGE_INTERVAL', 'TOTAL_SALARY_COUNT_AGE_INTERVAL', 'TOTAL_SALARY_MAX_BY_EDUCATION', \n",
    "                 'AMOUNT_ANNUITY_MAX_BY_FAMILY_STATUS', 'AMOUNT_CREDIT_MAX_AGE_INTERVAL', 'AGE_BIN', 'REGION_POPULATION', \n",
    "                 'TOTAL_SALARY_COUNT_BY_EDUCATION', 'BURO_CREDIT_TYPE_Consumer credit_MEAN']"
   ]
  },
  {
   "cell_type": "markdown",
   "id": "f535d36e",
   "metadata": {},
   "source": [
    "**LGBM model 2**"
   ]
  },
  {
   "cell_type": "code",
   "execution_count": 16,
   "id": "10921d96",
   "metadata": {},
   "outputs": [
    {
     "name": "stdout",
     "output_type": "stream",
     "text": [
      "Sun Sep  4 09:10:10 2022, Cross-Validation, 110093 rows, 56 cols\n",
      "Fold 1, Train score = 0.76069, Valid score = 0.72400\n",
      "Fold 2, Train score = 0.77439, Valid score = 0.73674\n",
      "Fold 3, Train score = 0.76865, Valid score = 0.72287\n",
      "Fold 4, Train score = 0.77386, Valid score = 0.73067\n",
      "Fold 5, Train score = 0.77367, Valid score = 0.73574\n",
      "Train score by each fold: [0.76069, 0.77439, 0.76865, 0.77386, 0.77367]\n",
      "Valid score by each fold: [0.724, 0.73674, 0.72287, 0.73067, 0.73574]\n",
      "Train mean score by each fold:0.77025 +/- 0.00521\n",
      "Valid mean score by each fold:0.73000 +/- 0.00576\n",
      "**************************************************\n",
      "OOF-score: 0.72969\n"
     ]
    }
   ],
   "source": [
    "# 0.73209\n",
    "lgbm_params_my = {  # initial params\n",
    "    'metric':\"auc\", \n",
    "    'boosting_type': 'gbdt',\n",
    "    'n_estimators': 1000,\n",
    "    'learning_rate': 0.05,\n",
    "    'num_leaves': 42,\n",
    "    'max_depth': 5,\n",
    "    'reg_alpha': 0.05,\n",
    "    'reg_lambda': 0.06,\n",
    "    'subsample': 0.8,\n",
    "    'min_child_weight': 60,\n",
    "    'random_state': seed\n",
    "}\n",
    "\n",
    "adv_params = {'metric':\"auc\", \n",
    "              'boosting_type': 'gbdt',\n",
    "              'n_estimators': 2000,\n",
    "              'reg_alpha': 0.436193,\n",
    "              'reg_lambda': 0.479169,\n",
    "              'subsample': 0.7,\n",
    "              'min_split_gain': 0.024766,\n",
    "              'subsample_for_bin': 240000,\n",
    "              'colsample_bytree': 0.508716,\n",
    "              'is_unbalance': False,\n",
    "              'random_state': seed,\n",
    "              'learning_rate': 0.022145586882939203,\n",
    "              'max_depth': 12,\n",
    "              'min_child_weight': 92,\n",
    "              'num_leaves': 28\n",
    "             }\n",
    "    \n",
    "estimators_lgbm2, oof_preds_lgbm2 = lightgbm_cross_validation(adv_params, \n",
    "                                                              X[boruta_bureau], \n",
    "                                                              y, \n",
    "                                                              cv=KFold(n_splits=5, random_state=seed//2, shuffle=True), \n",
    "                                                              rounds=50)"
   ]
  },
  {
   "cell_type": "code",
   "execution_count": 17,
   "id": "735b2b75",
   "metadata": {},
   "outputs": [
    {
     "data": {
      "text/plain": [
       "(0.7245716096041863, 0.7349120586413377)"
      ]
     },
     "execution_count": 17,
     "metadata": {},
     "output_type": "execute_result"
    }
   ],
   "source": [
    "calculate_confidence_interval(create_bootstrap_metrics(y, oof_preds_lgbm2, roc_auc_score))"
   ]
  },
  {
   "cell_type": "code",
   "execution_count": 18,
   "id": "70f02c2f",
   "metadata": {},
   "outputs": [
    {
     "name": "stdout",
     "output_type": "stream",
     "text": [
      "AMean score: 0.76473\n",
      "GMean score: 0.76426\n",
      "Rank  score: 0.76422\n",
      "GMean  rank: 0.76373\n"
     ]
    }
   ],
   "source": [
    "preds = pd.DataFrame(data=np.array([model.predict_proba(X[boruta_bureau])[:,1] for model in estimators_lgbm2]).T)\n",
    "mean_scores(preds, y)\n",
    "# weights optimization do not improve LB"
   ]
  },
  {
   "cell_type": "code",
   "execution_count": 19,
   "id": "dc9cf050",
   "metadata": {},
   "outputs": [],
   "source": [
    "data_test.drop(TARGET, axis=1, inplace=True)\n",
    "data_test = data_test.merge(bureau, on=ID_COL, how='left')\n",
    "test_index = data_test[ID_COL]\n",
    "data_test.drop(ID_COL, axis=1, inplace=True)"
   ]
  },
  {
   "cell_type": "code",
   "execution_count": 20,
   "id": "c5cb561d",
   "metadata": {},
   "outputs": [],
   "source": [
    "test_preds = np.array([model.predict_proba(data_test[boruta_bureau])[:,1] for model in estimators_lgbm2])\n",
    "# test_preds3 = pd.DataFrame({ID_COL: test_index, TARGET: test_preds.T.mean(axis=1)})\n",
    "test_preds3 = test_preds.T.mean(axis=1)"
   ]
  },
  {
   "cell_type": "code",
   "execution_count": 29,
   "id": "7e8d4f0f",
   "metadata": {},
   "outputs": [
    {
     "name": "stdout",
     "output_type": "stream",
     "text": [
      "Successfully submitted to GeekBrains Competitive Data Analysis\n"
     ]
    },
    {
     "name": "stderr",
     "output_type": "stream",
     "text": [
      "\n",
      "  0%|          | 0.00/4.90M [00:00<?, ?B/s]\n",
      "  4%|4         | 216k/4.90M [00:00<00:02, 1.65MB/s]\n",
      " 38%|###7      | 1.85M/4.90M [00:00<00:00, 3.67MB/s]\n",
      " 93%|#########2| 4.55M/4.90M [00:00<00:00, 9.04MB/s]\n",
      "100%|##########| 4.90M/4.90M [00:02<00:00, 2.34MB/s]\n"
     ]
    }
   ],
   "source": [
    "test_preds3.to_csv('submission.csv', index=False)\n",
    "#!kaggle competitions submit -c geekbrains-competitive-data-analysis -f submission.csv -m \"Message\""
   ]
  },
  {
   "cell_type": "markdown",
   "id": "ff4c33d8",
   "metadata": {},
   "source": [
    "**CatBoost model 2**"
   ]
  },
  {
   "cell_type": "code",
   "execution_count": 21,
   "id": "7f9cef2e",
   "metadata": {},
   "outputs": [
    {
     "name": "stdout",
     "output_type": "stream",
     "text": [
      "Sun Sep  4 09:10:44 2022, Cross-Validation, 110093 rows, 56 cols\n",
      "Fold 1, Train score = 0.77565, Valid score = 0.72249\n",
      "Fold 2, Train score = 0.78895, Valid score = 0.73915\n",
      "Fold 3, Train score = 0.77649, Valid score = 0.72203\n",
      "Fold 4, Train score = 0.77664, Valid score = 0.73224\n",
      "Fold 5, Train score = 0.76654, Valid score = 0.73775\n",
      "Train score by each fold: [0.77565, 0.78895, 0.77649, 0.77664, 0.76654]\n",
      "Valid score by each fold: [0.72249, 0.73915, 0.72203, 0.73224, 0.73775]\n",
      "Train mean score by each fold:0.77685 +/- 0.00713\n",
      "Valid mean score by each fold:0.73073 +/- 0.00729\n",
      "**************************************************\n",
      "OOF-score: 0.73043\n"
     ]
    }
   ],
   "source": [
    "# 0.73096\n",
    "cat_params2 = {  # initial params\n",
    "                'silent': True,  \n",
    "                'one_hot_max_size': 2,  \n",
    "                'iterations': 2000, \n",
    "                'eval_metric': 'AUC',  \n",
    "                'allow_writing_files': False,  \n",
    "                'random_seed': seed,  \n",
    "                'grow_policy': 'SymmetricTree', \n",
    "                'objective': 'Logloss',  \n",
    "                'boosting_type': 'Ordered', \n",
    "                'score_function': 'Cosine',  \n",
    "                'bootstrap_type': 'MVS',  \n",
    "                'bagging_temperature': 3.68,  \n",
    "                'colsample_bylevel': 0.839,  \n",
    "                'depth': 8, \n",
    "                'l2_leaf_reg': 30,  \n",
    "                'learning_rate': 0.05, \n",
    "                'max_ctr_complexity': 2, \n",
    "                'subsample': 0.86,  \n",
    "                'max_bin': 254,  \n",
    "}\n",
    "\n",
    "cat_cols = [column for column in X.columns if X[column].dtype in [\"object\", \"category\"]]\n",
    "\n",
    "estimators_cat2, oof_preds_cat2 = catboost_cross_validation(cat_params2, \n",
    "                                                            X[boruta_bureau], \n",
    "                                                            y, \n",
    "                                                            cv=KFold(n_splits=5, random_state=seed//2, shuffle=True), \n",
    "                                                            rounds=50)"
   ]
  },
  {
   "cell_type": "code",
   "execution_count": 22,
   "id": "c1173842",
   "metadata": {},
   "outputs": [
    {
     "data": {
      "text/plain": [
       "(0.7253213297226465, 0.7362038943905735)"
      ]
     },
     "execution_count": 22,
     "metadata": {},
     "output_type": "execute_result"
    }
   ],
   "source": [
    "calculate_confidence_interval(create_bootstrap_metrics(y, oof_preds_cat2, roc_auc_score))"
   ]
  },
  {
   "cell_type": "code",
   "execution_count": 23,
   "id": "2644033a",
   "metadata": {},
   "outputs": [],
   "source": [
    "test_preds = np.array([model.predict_proba(data_test[boruta_bureau])[:,1] for model in estimators_cat2])\n",
    "# test_preds4 = pd.DataFrame({ID_COL: test_index, TARGET: test_preds.T.mean(axis=1)})\n",
    "test_preds4 = test_preds.T.mean(axis=1)"
   ]
  },
  {
   "cell_type": "code",
   "execution_count": 51,
   "id": "946d58bc",
   "metadata": {},
   "outputs": [
    {
     "name": "stdout",
     "output_type": "stream",
     "text": [
      "Successfully submitted to GeekBrains Competitive Data Analysis\n"
     ]
    },
    {
     "name": "stderr",
     "output_type": "stream",
     "text": [
      "\n",
      "  0%|          | 0.00/4.90M [00:00<?, ?B/s]\n",
      "  5%|4         | 240k/4.90M [00:00<00:03, 1.55MB/s]\n",
      " 41%|####      | 2.00M/4.90M [00:00<00:00, 3.83MB/s]\n",
      "100%|##########| 4.90M/4.90M [00:02<00:00, 2.38MB/s]\n"
     ]
    }
   ],
   "source": [
    "test_preds4.to_csv('submission.csv', index=False)\n",
    "#!kaggle competitions submit -c geekbrains-competitive-data-analysis -f submission.csv -m \"Message\""
   ]
  },
  {
   "cell_type": "markdown",
   "id": "8c9171d6",
   "metadata": {},
   "source": [
    "**Models built on permutation data**"
   ]
  },
  {
   "cell_type": "code",
   "execution_count": 24,
   "id": "58f21a5e",
   "metadata": {},
   "outputs": [
    {
     "name": "stderr",
     "output_type": "stream",
     "text": [
      "100%|████████████████████████████████████████████████████████████████████████████████| 151/151 [00:29<00:00,  5.06it/s]\n"
     ]
    }
   ],
   "source": [
    "x_train, x_test, y_train, y_test = train_test_split(X, y, test_size=0.2, random_state=seed)\n",
    "scores, deltas = calculate_permutation_importance(LGBMClassifier(**lgbm_params_my).fit(x_train, y_train), \n",
    "                                                  x_valid=x_test, \n",
    "                                                  y_valid=y_test,\n",
    "                                                  probas=True, \n",
    "                                                  metric=roc_auc_score)"
   ]
  },
  {
   "cell_type": "code",
   "execution_count": 25,
   "id": "2ab12de3",
   "metadata": {},
   "outputs": [],
   "source": [
    "deltas = deltas[deltas>0].index.tolist()\n",
    "# deltas = [delt for delt in deltas if delt not in history_features]  # in case historu data added"
   ]
  },
  {
   "cell_type": "code",
   "execution_count": 26,
   "id": "d07efe69",
   "metadata": {},
   "outputs": [
    {
     "name": "stdout",
     "output_type": "stream",
     "text": [
      "Sun Sep  4 09:15:16 2022, Cross-Validation, 110093 rows, 61 cols\n",
      "Fold 1, Train score = 0.81799, Valid score = 0.74355\n",
      "Fold 2, Train score = 0.81972, Valid score = 0.72696\n",
      "Fold 3, Train score = 0.79696, Valid score = 0.73163\n",
      "Fold 4, Train score = 0.82070, Valid score = 0.73090\n",
      "Fold 5, Train score = 0.84094, Valid score = 0.71976\n",
      "Train score by each fold: [0.81799, 0.81972, 0.79696, 0.8207, 0.84094]\n",
      "Valid score by each fold: [0.74355, 0.72696, 0.73163, 0.7309, 0.71976]\n",
      "Train mean score by each fold:0.81926 +/- 0.01394\n",
      "Valid mean score by each fold:0.73056 +/- 0.00774\n",
      "**************************************************\n",
      "OOF-score: 0.72973\n"
     ]
    }
   ],
   "source": [
    "lgbm_params_my = {  # initial params\n",
    "                    'boosting_type': 'gbdt',\n",
    "                    'n_estimators': 1000,\n",
    "                    'learning_rate': 0.01,\n",
    "                    'num_leaves': 44,\n",
    "                    'max_depth': 8,\n",
    "                    'subsample_for_bin': 240000,\n",
    "                    'reg_alpha': 0.436193,\n",
    "                    'reg_lambda': 0.479169,\n",
    "                    'colsample_bytree': 0.508716,\n",
    "                    'min_split_gain': 0.024766,\n",
    "                    'subsample': 0.8,\n",
    "                    'is_unbalance': False,\n",
    "                    'random_state': seed,\n",
    "}\n",
    "\n",
    "estimators_lgbm4, oof_preds_lgbm4 = lightgbm_cross_validation(lgbm_params_my, \n",
    "                                                              X[deltas], \n",
    "                                                              y, \n",
    "                                                              cv=KFold(n_splits=5, random_state=seed, shuffle=True), \n",
    "                                                              rounds=50)"
   ]
  },
  {
   "cell_type": "code",
   "execution_count": 27,
   "id": "f26667cf",
   "metadata": {},
   "outputs": [
    {
     "data": {
      "text/plain": [
       "(0.7248195441139904, 0.735168760814787)"
      ]
     },
     "execution_count": 27,
     "metadata": {},
     "output_type": "execute_result"
    }
   ],
   "source": [
    "calculate_confidence_interval(create_bootstrap_metrics(y, oof_preds_lgbm4, roc_auc_score))"
   ]
  },
  {
   "cell_type": "code",
   "execution_count": 28,
   "id": "fca179a1",
   "metadata": {},
   "outputs": [],
   "source": [
    "test_preds = np.array([model.predict_proba(data_test[deltas])[:,1] for model in estimators_lgbm4])\n",
    "# test_preds7 = pd.DataFrame({ID_COL: test_index, TARGET: test_preds.T.mean(axis=1)})\n",
    "test_preds7 = test_preds.T.mean(axis=1)"
   ]
  },
  {
   "cell_type": "code",
   "execution_count": 90,
   "id": "a62a7e11",
   "metadata": {},
   "outputs": [
    {
     "name": "stdout",
     "output_type": "stream",
     "text": [
      "Successfully submitted to GeekBrains Competitive Data Analysis\n"
     ]
    },
    {
     "name": "stderr",
     "output_type": "stream",
     "text": [
      "\n",
      "  0%|          | 0.00/4.90M [00:00<?, ?B/s]\n",
      "  4%|4         | 224k/4.90M [00:00<00:03, 1.59MB/s]\n",
      " 45%|####4     | 2.18M/4.90M [00:00<00:00, 10.5MB/s]\n",
      " 67%|######7   | 3.29M/4.90M [00:00<00:00, 3.33MB/s]\n",
      " 81%|########1 | 3.97M/4.90M [00:01<00:00, 3.52MB/s]\n",
      " 93%|#########2| 4.54M/4.90M [00:01<00:00, 3.67MB/s]\n",
      "100%|##########| 4.90M/4.90M [00:02<00:00, 1.77MB/s]\n"
     ]
    }
   ],
   "source": [
    "test_preds7.to_csv('submission.csv', index=False) # 0.73250\n",
    "# !kaggle competitions submit -c geekbrains-competitive-data-analysis -f submission.csv -m \"Message\""
   ]
  },
  {
   "cell_type": "markdown",
   "id": "c0c6bb09",
   "metadata": {},
   "source": [
    "**Model built on exhaustive feature selection**"
   ]
  },
  {
   "cell_type": "code",
   "execution_count": 29,
   "id": "d552ae8e",
   "metadata": {},
   "outputs": [],
   "source": [
    "exhaust = ['EXT_SCORES_mean', 'NEW_CREDIT_TO_ANNUITY_RATIO', 'ANNUITY_JOB', 'EXTERNAL_SCORING_RATING_3', 'NAME_CONTRACT_TYPE',\n",
    "           'NEW_CREDIT_TO_ANNUITY_RATIO_MEAN_GENDER_AGE_BIN', 'AMOUNT_ANNUITY', 'EXTERNAL_SCORING_RATING_2', 'AGE', \n",
    "           'AMT_REQ_CREDIT_BUREAU_QRT', 'RATIO_AMOUNT_ANNUITY_TO_SALARY', 'TOTAL_SALARY_COUNT_AGE_INTERVAL',\n",
    "           'EDUCATION_FAMILY_STATUS', 'TOTAL_SALARY_MEAN_AGE_INTERVAL', 'AMOUNT_CREDIT', 'RATIO_AGE_TO_EXPERIENCE', \n",
    "           'RATIO_CAR_TO_AGE', 'EXT_SCORES_min', 'RATIO_SALARY_TO_AMOUNT_CREDIT_BY_FAMILY', 'AMOUNT_CREDIT_MEAN_AGE_INTERVAL',\n",
    "           'AMOUNT_ANNUITY_MIN_BY_FAMILY_STATUS', 'RATIO_CREDIT_TO_AGE', 'TOTAL_SALARY_MAX_AGE_INTERVAL', \n",
    "           'NEW_STATUS_MSeparated', 'EXT_SCORE_3_ANNUITY', 'NEW_STATUS_MMarried', 'TOTAL_SALARY_MEAN_BY_EDUCATION',\n",
    "           'DELTA_SALARY_TO_MEAN_SALARY_BY_EDUCATION', 'AMT_REQ_CREDIT_BUREAU_YEAR', 'CHILDRENS', \n",
    "           'AMOUNT_CREDIT_MEAN_BY_EDUCATION', 'TOTAL_SALARY_MIN_AGE_INTERVAL', 'AMOUNT_CREDIT_MEAN_BY_FAMILY_STATUS', \n",
    "           'NEW_STATUS_MCivil marriage', 'EXT_SCORE_1_AMT_CREDIT', 'AMT_REQ_CREDIT_BUREAU_HOUR', 'GENDER',\n",
    "           'AMOUNT_ANNUITY_MEAN_BY_FAMILY_STATUS', 'EXTERNAL_SCORE_WEIGHTED', 'EXTERNAL_SCORING_RATING_1']"
   ]
  },
  {
   "cell_type": "code",
   "execution_count": 30,
   "id": "fb89dc60",
   "metadata": {},
   "outputs": [
    {
     "name": "stdout",
     "output_type": "stream",
     "text": [
      "Sun Sep  4 09:16:07 2022, Cross-Validation, 110093 rows, 40 cols\n",
      "Fold 1, Train score = 0.76472, Valid score = 0.73400\n",
      "Fold 2, Train score = 0.75854, Valid score = 0.72328\n",
      "Fold 3, Train score = 0.74957, Valid score = 0.73210\n",
      "Fold 4, Train score = 0.75951, Valid score = 0.73036\n",
      "Fold 5, Train score = 0.75894, Valid score = 0.73375\n",
      "Train score by each fold: [0.76472, 0.75854, 0.74957, 0.75951, 0.75894]\n",
      "Valid score by each fold: [0.734, 0.72328, 0.7321, 0.73036, 0.73375]\n",
      "Train mean score by each fold:0.75826 +/- 0.00489\n",
      "Valid mean score by each fold:0.73070 +/- 0.00393\n",
      "**************************************************\n",
      "OOF-score: 0.72991\n"
     ]
    }
   ],
   "source": [
    "lgbm_params_my = {  # initial params\n",
    "    'metric':\"auc\", \n",
    "    'boosting_type': 'gbdt',\n",
    "    'n_estimators': 1000,\n",
    "    'learning_rate': 0.035,\n",
    "    'num_leaves': 12,\n",
    "    'max_depth': 12,\n",
    "    'reg_alpha': 0.05,\n",
    "    'reg_lambda': 0.06,\n",
    "    'subsample': 0.8,\n",
    "    'min_child_weight': 56,\n",
    "    'random_state': seed\n",
    "}\n",
    "\n",
    "adv_params = {'metric':\"auc\", \n",
    "              'boosting_type': 'gbdt',\n",
    "              'n_estimators': 2000,\n",
    "              'reg_alpha': 0.436193,\n",
    "              'reg_lambda': 0.479169,\n",
    "              'subsample': 0.7,\n",
    "              'min_split_gain': 0.024766,\n",
    "              'subsample_for_bin': 240000,\n",
    "              'colsample_bytree': 0.508716,\n",
    "              'is_unbalance': False,\n",
    "              'random_state': seed,\n",
    "              'learning_rate': 0.07698408707853092,\n",
    "              'max_depth': 4,\n",
    "              'min_child_weight': 103,\n",
    "              'num_leaves': 13\n",
    "             }\n",
    "\n",
    "estimators_lgbm3, oof_preds_lgbm3 = lightgbm_cross_validation(adv_params, \n",
    "                                                              X[exhaust], \n",
    "                                                              y, \n",
    "                                                              cv=KFold(n_splits=5, random_state=seed//3, shuffle=True), \n",
    "                                                              rounds=50)"
   ]
  },
  {
   "cell_type": "code",
   "execution_count": 31,
   "id": "36c98d3d",
   "metadata": {},
   "outputs": [
    {
     "data": {
      "text/plain": [
       "(0.7246834668226677, 0.7353616326292972)"
      ]
     },
     "execution_count": 31,
     "metadata": {},
     "output_type": "execute_result"
    }
   ],
   "source": [
    "calculate_confidence_interval(create_bootstrap_metrics(y, oof_preds_lgbm3, roc_auc_score))"
   ]
  },
  {
   "cell_type": "code",
   "execution_count": 32,
   "id": "faa882a2",
   "metadata": {},
   "outputs": [],
   "source": [
    "test_preds = np.array([model.predict_proba(data_test[exhaust])[:,1] for model in estimators_lgbm3])\n",
    "# test_preds5 = pd.DataFrame({ID_COL: test_index, TARGET: test_preds.T.mean(axis=1)})\n",
    "test_preds5 = test_preds.T.mean(axis=1)"
   ]
  },
  {
   "cell_type": "code",
   "execution_count": 198,
   "id": "d713fd75",
   "metadata": {},
   "outputs": [
    {
     "name": "stdout",
     "output_type": "stream",
     "text": [
      "Successfully submitted to GeekBrains Competitive Data Analysis\n"
     ]
    },
    {
     "name": "stderr",
     "output_type": "stream",
     "text": [
      "\n",
      "  0%|          | 0.00/4.90M [00:00<?, ?B/s]\n",
      "  4%|4         | 208k/4.90M [00:00<00:03, 1.49MB/s]\n",
      " 41%|####1     | 2.02M/4.90M [00:00<00:01, 2.74MB/s]\n",
      "100%|##########| 4.90M/4.90M [00:02<00:00, 2.29MB/s]\n"
     ]
    }
   ],
   "source": [
    "test_preds5.to_csv('submission.csv', index=False) # 0.73197\n",
    "# !kaggle competitions submit -c geekbrains-competitive-data-analysis -f submission.csv -m \"Message\""
   ]
  },
  {
   "cell_type": "markdown",
   "id": "88888753",
   "metadata": {},
   "source": [
    "**CatBoost**"
   ]
  },
  {
   "cell_type": "code",
   "execution_count": 35,
   "id": "86d3de48",
   "metadata": {},
   "outputs": [
    {
     "name": "stdout",
     "output_type": "stream",
     "text": [
      "Sun Sep  4 09:17:25 2022, Cross-Validation, 110093 rows, 40 cols\n",
      "Fold 1, Train score = 0.77245, Valid score = 0.73177\n",
      "Fold 2, Train score = 0.78081, Valid score = 0.72589\n",
      "Fold 3, Train score = 0.76774, Valid score = 0.73145\n",
      "Fold 4, Train score = 0.78305, Valid score = 0.73075\n",
      "Fold 5, Train score = 0.76688, Valid score = 0.73423\n",
      "Train score by each fold: [0.77245, 0.78081, 0.76774, 0.78305, 0.76688]\n",
      "Valid score by each fold: [0.73177, 0.72589, 0.73145, 0.73075, 0.73423]\n",
      "Train mean score by each fold:0.77419 +/- 0.00664\n",
      "Valid mean score by each fold:0.73082 +/- 0.00273\n",
      "**************************************************\n",
      "OOF-score: 0.73033\n"
     ]
    }
   ],
   "source": [
    "cat_params = {  # initial params\n",
    "                'silent': True,  \n",
    "                'one_hot_max_size': 2,  \n",
    "                'iterations': 1000, \n",
    "                'eval_metric': 'AUC',  \n",
    "                'allow_writing_files': False,  \n",
    "                'random_seed': seed,  \n",
    "                #'auto_class_weights': 'SqrtBalanced',  \n",
    "                'grow_policy': 'Lossguide', \n",
    "                'objective': 'Logloss',  \n",
    "                'boosting_type': 'Plain', \n",
    "                'score_function': 'L2',  # do not use Cosine as to catboost guide\n",
    "                'bootstrap_type': 'MVS',  \n",
    "                'bagging_temperature': 3.68,  \n",
    "                'colsample_bylevel': 0.9,  \n",
    "                'depth': 4, \n",
    "                'l2_leaf_reg': 3,  \n",
    "                'learning_rate': 0.05, \n",
    "                'max_ctr_complexity': 2, \n",
    "                'subsample': 0.86,  \n",
    "                'max_bin': 254,\n",
    "                'num_leaves': 32\n",
    "}\n",
    "\n",
    "estimators_cat3, oof_preds_cat3 = catboost_cross_validation(cat_params, \n",
    "                                                            X[exhaust], \n",
    "                                                            y, \n",
    "                                                            cv=KFold(n_splits=5, random_state=seed%5, shuffle=True), \n",
    "                                                            rounds=50)"
   ]
  },
  {
   "cell_type": "code",
   "execution_count": 36,
   "id": "97943e8b",
   "metadata": {},
   "outputs": [
    {
     "data": {
      "text/plain": [
       "(0.7249411230081115, 0.7355825598477274)"
      ]
     },
     "execution_count": 36,
     "metadata": {},
     "output_type": "execute_result"
    }
   ],
   "source": [
    "calculate_confidence_interval(create_bootstrap_metrics(y, oof_preds_cat3, roc_auc_score))"
   ]
  },
  {
   "cell_type": "code",
   "execution_count": 37,
   "id": "705a8bc3",
   "metadata": {},
   "outputs": [],
   "source": [
    "test_preds = np.array([model.predict_proba(data_test[exhaust])[:,1] for model in estimators_cat3])\n",
    "# test_preds6 = pd.DataFrame({ID_COL: test_index, TARGET: test_preds.T.mean(axis=1)})\n",
    "test_preds6 = test_preds.T.mean(axis=1)"
   ]
  },
  {
   "cell_type": "code",
   "execution_count": 227,
   "id": "565b67ff",
   "metadata": {},
   "outputs": [
    {
     "name": "stdout",
     "output_type": "stream",
     "text": [
      "Successfully submitted to GeekBrains Competitive Data Analysis\n"
     ]
    },
    {
     "name": "stderr",
     "output_type": "stream",
     "text": [
      "\n",
      "  0%|          | 0.00/4.87M [00:00<?, ?B/s]\n",
      "  4%|4         | 208k/4.87M [00:00<00:03, 1.45MB/s]\n",
      " 38%|###8      | 1.88M/4.87M [00:00<00:00, 3.61MB/s]\n",
      " 96%|#########5| 4.66M/4.87M [00:00<00:00, 8.91MB/s]\n",
      "100%|##########| 4.87M/4.87M [00:02<00:00, 2.38MB/s]\n"
     ]
    }
   ],
   "source": [
    "test_preds6.to_csv('submission.csv', index=False) # 0.73229\n",
    "# !kaggle competitions submit -c geekbrains-competitive-data-analysis -f submission.csv -m \"Message\""
   ]
  },
  {
   "cell_type": "markdown",
   "id": "c8c40a74",
   "metadata": {},
   "source": [
    "### Add history data"
   ]
  },
  {
   "cell_type": "code",
   "execution_count": 47,
   "id": "e746e2ce",
   "metadata": {},
   "outputs": [
    {
     "name": "stdout",
     "output_type": "stream",
     "text": [
      "Final shapes: (110093, 172) (165141, 172)\n"
     ]
    }
   ],
   "source": [
    "history_train, target, history_test = prepare_history()"
   ]
  },
  {
   "cell_type": "code",
   "execution_count": 48,
   "id": "581aab55",
   "metadata": {},
   "outputs": [],
   "source": [
    "hist_importance = calculate_feature_separating_ability(history_train, target)"
   ]
  },
  {
   "cell_type": "code",
   "execution_count": 49,
   "id": "2fd05dbd",
   "metadata": {},
   "outputs": [],
   "source": [
    "history_features = hist_importance[hist_importance > 0.005].index.tolist()"
   ]
  },
  {
   "cell_type": "code",
   "execution_count": 50,
   "id": "bfef0aa8",
   "metadata": {},
   "outputs": [],
   "source": [
    "history_train = history_train[history_features + [ID_COL]]\n",
    "history_test = history_test[history_features + [ID_COL]]"
   ]
  },
  {
   "cell_type": "code",
   "execution_count": null,
   "id": "d0895e6b",
   "metadata": {},
   "outputs": [],
   "source": [
    "# restart prepare profile"
   ]
  },
  {
   "cell_type": "code",
   "execution_count": 57,
   "id": "e700cc77",
   "metadata": {},
   "outputs": [],
   "source": [
    "X, y = data_train.drop(TARGET, axis=1), data_train[TARGET]\n",
    "X = X.merge(bureau, on=ID_COL, how='left')\n",
    "X = X.merge(history_train, on=ID_COL, how='left')\n",
    "X_index = X[ID_COL]\n",
    "X = X.drop(ID_COL, axis=1)"
   ]
  },
  {
   "cell_type": "code",
   "execution_count": 58,
   "id": "9f5a0506",
   "metadata": {},
   "outputs": [],
   "source": [
    "data_test = data_test.merge(bureau, on=ID_COL, how='left')\n",
    "data_test = data_test.merge(history_test, on=ID_COL, how='left')\n",
    "test_index = data_test[ID_COL]\n",
    "data_test.drop([ID_COL, TARGET], axis=1, inplace=True)"
   ]
  },
  {
   "cell_type": "code",
   "execution_count": null,
   "id": "8dc62b9b",
   "metadata": {},
   "outputs": [],
   "source": [
    "selector = BorutaShap(model=LGBMClassifier(**lgbm_params), importance_measure='shap', classification=True)\n",
    "selector.fit(X, y, n_trials=20, sample=False, normalize=True, verbose=True)"
   ]
  },
  {
   "cell_type": "code",
   "execution_count": 107,
   "id": "9fd0f0fc",
   "metadata": {},
   "outputs": [],
   "source": [
    "total_boruta = ['EXTERNAL_SCORING_RATING_2', 'EXT_SCORE_1_AMT_CREDIT', 'TOTAL_SALARY_MEAN_BY_EDUCATION', \n",
    "                'AMOUNT_CREDIT_MAX_AGE_INTERVAL', 'CREDIT_JOB', 'AMOUNT_ANNUITY_MAX_BY_EDUCATION', 'EXT_SCORES_max',\n",
    "                'AMOUNT_CREDIT_MAX_BY_EDUCATION', 'RATIO_SALARY_TO_AMOUNT_CREDIT_MEAN_GENDER_AGE_BIN', \n",
    "                'NEW_CREDIT_TO_ANNUITY_RATIO', 'EXT_SCORE_1_ANNUITY', 'OWN_CAR_AGE', 'EXT_SCORES_nanmedian', \n",
    "                'RATIO_CREDIT_TO_AGE', 'EXT_SCORE_3_AMT_CREDIT', 'EXT_SCORES_var', 'EXTERNAL_SCORING_RATING_3', \n",
    "                'TOTAL_SALARY_MEAN_AGE_INTERVAL', 'EXT_SCORES_min', 'RATIO_SALARY_TO_AGE', 'RATIO_CAR_TO_AGE', \n",
    "                'EXT_SCORE_2_AMT_CREDIT', 'AMOUNT_ANNUITY', 'NAME_CONTRACT_TYPE', 'EDUCATION_LEVEL_Higher education', \n",
    "                'RATIO_AMOUNT_ANNUITY_TO_SALARY', 'EXTERNAL_SCORE_WEIGHTED', 'AMOUNT_CREDIT', 'DAYS_ON_LAST_JOB', \n",
    "                'NEW_STATUS_FMarried', 'RATIO_CAR_TO_EXPERIENCE', 'RATIO_ANNUITY_TO_AGE', 'TOTAL_SALARY_MIN_BY_EDUCATION', \n",
    "                'AMOUNT_ANNUITY_MEAN_BY_EDUCATION', 'EXTERNAL_SCORING_RATING_1', 'GENDER', 'AMOUNT_CREDIT_MEAN_BY_EDUCATION', \n",
    "                'EXT_SCORE_3_ANNUITY', 'ANNUITY_JOB', 'NEW_CREDIT_TO_ANNUITY_RATIO_MEAN_GENDER_AGE_BIN', \n",
    "                'RATIO_AGE_TO_EXPERIENCE', 'SALARY_JOB', 'AGE', 'EXT_SCORES_mean', 'AMT_REQ_CREDIT_BUREAU_YEAR', 'AGE_BIN', \n",
    "                'EDUCATION_FAMILY_STATUS', 'RATIO_SALARY_TO_AMOUNT_CREDIT_BY_FAMILY', 'AMOUNT_CREDIT_COUNT_BY_EDUCATION', \n",
    "                'SALARY_REGION_POPULATION', 'TOTAL_SALARY_COUNT_AGE_INTERVAL', 'TOTAL_SALARY_COUNT_BY_FAMILY_STATUS', \n",
    "                'TOTAL_SALARY_MAX_AGE_INTERVAL', 'TOTAL_SALARY_MAX_BY_FAMILY_STATUS', 'AMOUNT_CREDIT_COUNT_BY_FAMILY_STATUS',\n",
    "                'AMOUNT_CREDIT_COUNT_AGE_INTERVAL', 'TOTAL_SALARY_COUNT_BY_EDUCATION', 'RATIO_SALARY_TO_AMOUNT_CREDIT', \n",
    "                'EXT_SCORE_2_ANNUITY', 'AMOUNT_ANNUITY_MIN_BY_EDUCATION', 'AMT_REQ_CREDIT_BUREAU_QRT', \n",
    "                'AMT_REQ_CREDIT_BUREAU_WEEK', 'REGION_POPULATION']\n",
    "\n",
    "total_boruta2 = total_boruta + history_features"
   ]
  },
  {
   "cell_type": "code",
   "execution_count": 120,
   "id": "be6a75f1",
   "metadata": {},
   "outputs": [
    {
     "name": "stdout",
     "output_type": "stream",
     "text": [
      "Sat Aug 27 22:52:32 2022, Cross-Validation, 110093 rows, 63 cols\n",
      "Fold 1, Train score = 0.76534, Valid score = 0.73181\n",
      "Fold 2, Train score = 0.77584, Valid score = 0.72142\n",
      "Fold 3, Train score = 0.77393, Valid score = 0.73361\n",
      "Fold 4, Train score = 0.77253, Valid score = 0.73284\n",
      "Fold 5, Train score = 0.76557, Valid score = 0.73244\n",
      "Train score by each fold: [0.76534, 0.77584, 0.77393, 0.77253, 0.76557]\n",
      "Valid score by each fold: [0.73181, 0.72142, 0.73361, 0.73284, 0.73244]\n",
      "Train mean score by each fold:0.77064 +/- 0.00436\n",
      "Valid mean score by each fold:0.73042 +/- 0.00454\n",
      "**************************************************\n",
      "OOF-score: 0.72972\n"
     ]
    }
   ],
   "source": [
    "lgbm_params_my = {  # initial params\n",
    "    'metric':\"auc\", \n",
    "    'boosting_type': 'gbdt',\n",
    "    'n_estimators': 1000,\n",
    "    'learning_rate': 0.045,\n",
    "    'num_leaves': 12,\n",
    "    'max_depth': 10,\n",
    "    'reg_alpha': 0.05,\n",
    "    'reg_lambda': 0.06,\n",
    "    'subsample': 0.8,\n",
    "    'min_child_weight': 20,\n",
    "    'random_state': seed\n",
    "}\n",
    "\n",
    "estimators_lgbm5, oof_preds_lgbm5 = lightgbm_cross_validation(lgbm_params_my, \n",
    "                                                              X[total_boruta2], \n",
    "                                                              y, \n",
    "                                                              cv=KFold(n_splits=5, random_state=seed//3, shuffle=True), \n",
    "                                                              rounds=50)"
   ]
  },
  {
   "cell_type": "markdown",
   "id": "af9f2e38",
   "metadata": {},
   "source": [
    "### XGBoost model (profile + bki + history)"
   ]
  },
  {
   "cell_type": "code",
   "execution_count": 112,
   "id": "89f478b6",
   "metadata": {},
   "outputs": [],
   "source": [
    "xgb_params = {  # initial params\n",
    "                \"objective\": \"binary:logistic\",\n",
    "                \"booster\": \"gbtree\",\n",
    "                \"eval_metric\": \"auc\",\n",
    "                \"n_estimators\": 250,\n",
    "                \"eta\": 0.05,\n",
    "                \"max_depth\": 4,\n",
    "                \"gamma\": 10,\n",
    "                \"subsample\": 0.85,\n",
    "                \"colsample_bytree\": 0.7,\n",
    "                \"colsample_bylevel\": 0.632,\n",
    "                \"min_child_weight\": 30,\n",
    "                \"alpha\": 0.05,\n",
    "                \"lambda\": 0.067,\n",
    "                \"random_state\": seed,\n",
    "}"
   ]
  },
  {
   "cell_type": "code",
   "execution_count": 128,
   "id": "0b21dbd1",
   "metadata": {},
   "outputs": [
    {
     "name": "stderr",
     "output_type": "stream",
     "text": [
      "100%|██████████████████████████████████████████████████████████████████████████████████| 62/62 [00:01<00:00, 37.30it/s]\n"
     ]
    }
   ],
   "source": [
    "x_train, x_test, y_train, y_test = train_test_split(X[bureau.columns.tolist() + history_features], y, \n",
    "                                                    test_size=0.2, random_state=seed)\n",
    "scores, deltas = calculate_permutation_importance(xgb.XGBClassifier(**xgb_params).fit(x_train, y_train), \n",
    "                                                  x_valid=x_test, \n",
    "                                                  y_valid=y_test,\n",
    "                                                  probas=True, \n",
    "                                                  metric=roc_auc_score)\n",
    "\n",
    "deltas = deltas[deltas > 0].index.tolist()"
   ]
  },
  {
   "cell_type": "code",
   "execution_count": 45,
   "id": "7ea228c8",
   "metadata": {},
   "outputs": [],
   "source": [
    "overall = ['NEW_CREDIT_TO_ANNUITY_RATIO', 'ANNUITY_JOB', 'EXTERNAL_SCORING_RATING_3', 'NAME_CONTRACT_TYPE',\n",
    "           'NEW_CREDIT_TO_ANNUITY_RATIO_MEAN_GENDER_AGE_BIN', 'AMOUNT_ANNUITY', 'EXTERNAL_SCORING_RATING_2', 'AGE', \n",
    "           'AMT_REQ_CREDIT_BUREAU_QRT', 'RATIO_AMOUNT_ANNUITY_TO_SALARY', 'TOTAL_SALARY_COUNT_AGE_INTERVAL',\n",
    "           'EDUCATION_FAMILY_STATUS', 'TOTAL_SALARY_MEAN_AGE_INTERVAL', 'AMOUNT_CREDIT', 'RATIO_AGE_TO_EXPERIENCE', \n",
    "           'RATIO_CAR_TO_AGE', 'RATIO_SALARY_TO_AMOUNT_CREDIT_BY_FAMILY', 'AMOUNT_CREDIT_MEAN_AGE_INTERVAL',\n",
    "           'AMOUNT_ANNUITY_MIN_BY_FAMILY_STATUS', 'RATIO_CREDIT_TO_AGE', 'TOTAL_SALARY_MAX_AGE_INTERVAL', \n",
    "           'NEW_STATUS_MSeparated', 'NEW_STATUS_MMarried', 'TOTAL_SALARY_MEAN_BY_EDUCATION',\n",
    "           'DELTA_SALARY_TO_MEAN_SALARY_BY_EDUCATION', 'AMT_REQ_CREDIT_BUREAU_YEAR', 'CHILDRENS', \n",
    "           'AMOUNT_CREDIT_MEAN_BY_EDUCATION', 'TOTAL_SALARY_MIN_AGE_INTERVAL', 'AMOUNT_CREDIT_MEAN_BY_FAMILY_STATUS', \n",
    "           'NEW_STATUS_MCivil marriage', 'AMT_REQ_CREDIT_BUREAU_HOUR', 'GENDER',\n",
    "           'AMOUNT_ANNUITY_MEAN_BY_FAMILY_STATUS', 'EXTERNAL_SCORE_WEIGHTED', 'EXTERNAL_SCORING_RATING_1', \n",
    "           'BURO_CREDIT_ACTIVE_Active_MEAN', 'AMOUNT_PAYMENT_MAX', 'CLOSED_AMT_CREDIT_MAX_OVERDUE_MEAN', 'DAYS_FIRST_DUE_SUM',\n",
    "           'BURO_CREDIT_TYPE_Consumer credit_MEAN', 'NAME_GOODS_CATEGORY_MOBILE_MAX', 'NAME_CLIENT_TYPE_NEW_SUM',\n",
    "           'NAME_CLIENT_TYPE_REFRESHED_SUM', 'BURO_CREDIT_TYPE_Car loan_MEAN', 'BURO_CREDIT_TYPE_Microloan_MEAN',\n",
    "           'BURO_CREDIT_TYPE_Credit card_MEAN', 'BURO_AMT_CREDIT_MAX_OVERDUE_MEAN', 'NAME_PAYMENT_TYPE_XNA_MAX',\n",
    "           'NAME_PRODUCT_TYPE_WALKIN_MAX', 'NAME_YIELD_GROUP_XNA_SUM', 'BURO_CREDIT_DAY_OVERDUE_MEAN']"
   ]
  },
  {
   "cell_type": "code",
   "execution_count": 41,
   "id": "bd885cf3",
   "metadata": {},
   "outputs": [
    {
     "name": "stdout",
     "output_type": "stream",
     "text": [
      "Sun Sep  4 09:18:47 2022, Cross-Validation, 110093 rows, 21 cols\n",
      "Fold 1, Train score = 0.76231, Valid score = 0.74798\n",
      "Fold 2, Train score = 0.76341, Valid score = 0.72944\n",
      "Fold 3, Train score = 0.76821, Valid score = 0.73379\n",
      "Fold 4, Train score = 0.76785, Valid score = 0.73400\n",
      "Fold 5, Train score = 0.77366, Valid score = 0.72386\n",
      "Train score by each fold: [0.76231, 0.76341, 0.76821, 0.76785, 0.77366]\n",
      "Valid score by each fold: [0.74798, 0.72944, 0.73379, 0.734, 0.72386]\n",
      "Train mean score by each fold:0.76709 +/- 0.00403\n",
      "Valid mean score by each fold:0.73381 +/- 0.00799\n",
      "**************************************************\n",
      "OOF-score: 0.73339\n"
     ]
    }
   ],
   "source": [
    "xgb_params = {  # initial params\n",
    "                \"objective\": \"binary:logistic\",\n",
    "                \"booster\": \"gbtree\",\n",
    "                \"eval_metric\": \"auc\",\n",
    "                \"eta\": 0.05,\n",
    "                \"max_depth\": 6,\n",
    "                \"gamma\": 10,\n",
    "                \"subsample\": 0.85,\n",
    "                \"colsample_bytree\": 0.7,\n",
    "                \"colsample_bylevel\": 0.632,\n",
    "                \"min_child_weight\": 30,\n",
    "                \"alpha\": 0.05,\n",
    "                \"lambda\": 0.067,\n",
    "                \"random_state\": seed,\n",
    "                \"n_jobs\": -1\n",
    "}\n",
    "\n",
    "adv_params = {\n",
    "                \"objective\": \"binary:logistic\",\n",
    "                \"booster\": \"gbtree\",\n",
    "                \"eval_metric\": \"auc\",\n",
    "                \"subsample\": 0.85,\n",
    "                \"colsample_bytree\": 0.7,\n",
    "                \"colsample_bylevel\": 0.632,\n",
    "                \"alpha\": 0.05,\n",
    "                \"lambda\": 0.067,\n",
    "                \"random_state\": seed,\n",
    "                \"n_jobs\": -1,\n",
    "                \"eta\": 0.02515321125271333,\n",
    "                \"gamma\": 8.09734583146528,\n",
    "                \"max_depth\": 6,\n",
    "                \"min_child_weight\": 36\n",
    "}\n",
    "\n",
    "estimators_xgb, _, oof_preds_xgb = xgboost_cross_validation(adv_params, \n",
    "                                                            X[ex_overall], \n",
    "                                                            y, \n",
    "                                                            cv=KFold(n_splits=5, random_state=seed, shuffle=True), \n",
    "                                                            rounds=50)"
   ]
  },
  {
   "cell_type": "code",
   "execution_count": 42,
   "id": "645c0806",
   "metadata": {},
   "outputs": [
    {
     "data": {
      "text/plain": [
       "(0.727847114017356, 0.7384597390372186)"
      ]
     },
     "execution_count": 42,
     "metadata": {},
     "output_type": "execute_result"
    }
   ],
   "source": [
    "calculate_confidence_interval(create_bootstrap_metrics(y, oof_preds_xgb, roc_auc_score))"
   ]
  },
  {
   "cell_type": "code",
   "execution_count": 43,
   "id": "dc9e9619",
   "metadata": {},
   "outputs": [],
   "source": [
    "test_preds = np.array([model.predict(xgb.DMatrix(data_test[ex_overall])) for model in estimators_xgb])\n",
    "# test_preds9 = pd.DataFrame({ID_COL: test_index, TARGET: test_preds.T.mean(axis=1)})\n",
    "test_preds9 = test_preds.T.mean(axis=1)"
   ]
  },
  {
   "cell_type": "code",
   "execution_count": 397,
   "id": "846e1c90",
   "metadata": {},
   "outputs": [
    {
     "name": "stdout",
     "output_type": "stream",
     "text": [
      "Successfully submitted to GeekBrains Competitive Data Analysis\n"
     ]
    },
    {
     "name": "stderr",
     "output_type": "stream",
     "text": [
      "\n",
      "  0%|          | 0.00/3.52M [00:00<?, ?B/s]\n",
      "  6%|6         | 224k/3.52M [00:00<00:02, 1.63MB/s]\n",
      " 35%|###4      | 1.23M/3.52M [00:00<00:01, 2.33MB/s]\n",
      "100%|##########| 3.52M/3.52M [00:02<00:00, 1.73MB/s]\n"
     ]
    }
   ],
   "source": [
    "test_preds9.to_csv('submission.csv', index=False) # 0.73306\n",
    "# !kaggle competitions submit -c geekbrains-competitive-data-analysis -f submission.csv -m \"Message\""
   ]
  },
  {
   "cell_type": "markdown",
   "id": "ad94e0b2",
   "metadata": {},
   "source": [
    "**Again LGBM on overall**"
   ]
  },
  {
   "cell_type": "code",
   "execution_count": 59,
   "id": "15f58d94",
   "metadata": {},
   "outputs": [
    {
     "name": "stdout",
     "output_type": "stream",
     "text": [
      "Sun Sep  4 09:25:15 2022, Cross-Validation, 110093 rows, 52 cols\n",
      "Fold 1, Train score = 0.75829, Valid score = 0.74305\n",
      "Fold 2, Train score = 0.75216, Valid score = 0.72345\n",
      "Fold 3, Train score = 0.76047, Valid score = 0.73114\n",
      "Fold 4, Train score = 0.76523, Valid score = 0.72981\n",
      "Fold 5, Train score = 0.77314, Valid score = 0.71755\n",
      "Train score by each fold: [0.75829, 0.75216, 0.76047, 0.76523, 0.77314]\n",
      "Valid score by each fold: [0.74305, 0.72345, 0.73114, 0.72981, 0.71755]\n",
      "Train mean score by each fold:0.76186 +/- 0.00703\n",
      "Valid mean score by each fold:0.72900 +/- 0.00854\n",
      "**************************************************\n",
      "OOF-score: 0.72864\n"
     ]
    }
   ],
   "source": [
    "lgbm_params_my = {  # initial params\n",
    "    'metric':\"auc\", \n",
    "    'boosting_type': 'gbdt',\n",
    "    'n_estimators': 1000,\n",
    "    'learning_rate': 0.035,\n",
    "    'num_leaves': 12,\n",
    "    'max_depth': 10,\n",
    "    'reg_alpha': 0.05,\n",
    "    'reg_lambda': 0.06,\n",
    "    'subsample': 0.8,\n",
    "    'min_child_weight': 56,\n",
    "    'random_state': seed\n",
    "}\n",
    "\n",
    "adv_params = {\n",
    "            'metric':\"auc\", \n",
    "            'boosting_type': 'gbdt',\n",
    "            'n_estimators': 2000,\n",
    "            'reg_alpha': 0.436193,\n",
    "            'reg_lambda': 0.479169,\n",
    "            'subsample': 0.7,\n",
    "            'min_split_gain': 0.024766,\n",
    "            'subsample_for_bin': 240000,\n",
    "            'colsample_bytree': 0.508716,\n",
    "            'is_unbalance': False,\n",
    "            'random_state': seed,\n",
    "            'learning_rate': 0.01416245563248196,\n",
    "            'max_depth': 12,\n",
    "            'min_child_weight': 286,\n",
    "            'num_leaves': 23\n",
    "}\n",
    "\n",
    "estimators_lgbm5, oof_preds_lgbm5 = lightgbm_cross_validation(adv_params, \n",
    "                                                              X[overall], \n",
    "                                                              y, \n",
    "                                                              cv=KFold(n_splits=5, random_state=seed, shuffle=True), \n",
    "                                                              rounds=50)"
   ]
  },
  {
   "cell_type": "code",
   "execution_count": 60,
   "id": "bd97859f",
   "metadata": {},
   "outputs": [],
   "source": [
    "test_preds = np.array([model.predict_proba(data_test[overall])[:,1] for model in estimators_lgbm5])\n",
    "test_preds8 = test_preds.T.mean(axis=1)"
   ]
  },
  {
   "cell_type": "markdown",
   "id": "032cd603",
   "metadata": {},
   "source": [
    "**LGBM on exhaust overall**"
   ]
  },
  {
   "cell_type": "code",
   "execution_count": 40,
   "id": "81a98e86",
   "metadata": {},
   "outputs": [],
   "source": [
    "ex_overall = ['NEW_CREDIT_TO_ANNUITY_RATIO', 'EXTERNAL_SCORING_RATING_3',\n",
    "             'NAME_CONTRACT_TYPE', 'AMOUNT_ANNUITY', 'EXTERNAL_SCORING_RATING_2',\n",
    "             'AGE', 'AMT_REQ_CREDIT_BUREAU_QRT', 'RATIO_AMOUNT_ANNUITY_TO_SALARY',\n",
    "             'TOTAL_SALARY_COUNT_AGE_INTERVAL', 'RATIO_AGE_TO_EXPERIENCE',\n",
    "             'RATIO_CAR_TO_AGE', 'RATIO_SALARY_TO_AMOUNT_CREDIT_BY_FAMILY',\n",
    "             'RATIO_CREDIT_TO_AGE', 'TOTAL_SALARY_MEAN_BY_EDUCATION',\n",
    "             'AMT_REQ_CREDIT_BUREAU_YEAR', 'GENDER',\n",
    "             'AMOUNT_ANNUITY_MEAN_BY_FAMILY_STATUS', 'EXTERNAL_SCORE_WEIGHTED',\n",
    "             'EXTERNAL_SCORING_RATING_1', 'BURO_CREDIT_TYPE_Credit card_MEAN',\n",
    "             'BURO_AMT_CREDIT_MAX_OVERDUE_MEAN']"
   ]
  },
  {
   "cell_type": "code",
   "execution_count": 61,
   "id": "41a7f3e4",
   "metadata": {},
   "outputs": [
    {
     "name": "stdout",
     "output_type": "stream",
     "text": [
      "Sun Sep  4 09:26:28 2022, Cross-Validation, 110093 rows, 21 cols\n",
      "Fold 1, Train score = 0.75895, Valid score = 0.72765\n",
      "Fold 2, Train score = 0.74796, Valid score = 0.73474\n",
      "Fold 3, Train score = 0.75474, Valid score = 0.74172\n",
      "Fold 4, Train score = 0.75566, Valid score = 0.72032\n",
      "Fold 5, Train score = 0.75898, Valid score = 0.73139\n",
      "Train score by each fold: [0.75895, 0.74796, 0.75474, 0.75566, 0.75898]\n",
      "Valid score by each fold: [0.72765, 0.73474, 0.74172, 0.72032, 0.73139]\n",
      "Train mean score by each fold:0.75526 +/- 0.00403\n",
      "Valid mean score by each fold:0.73116 +/- 0.00713\n",
      "**************************************************\n",
      "OOF-score: 0.73100\n"
     ]
    }
   ],
   "source": [
    "params = {  # optuna params\n",
    "        'boosting_type': 'gbdt',\n",
    "        'n_estimators': 10000,\n",
    "        'subsample_for_bin': 240000,\n",
    "        'reg_alpha': 0.436193,\n",
    "        'reg_lambda': 0.479169,\n",
    "        'colsample_bytree': 0.508716,\n",
    "        'min_split_gain': 0.024766,\n",
    "        'subsample': 0.7,\n",
    "        'is_unbalance': False,\n",
    "        'random_state': seed,\n",
    "        'silent': -1,\n",
    "        'learning_rate': 0.10582747734730867,\n",
    "        'max_depth': 4,\n",
    "        'min_child_weight': 262,\n",
    "        'num_leaves': 10\n",
    "}\n",
    "\n",
    "estimators_lgbm6, oof_preds_lgbm6 = lightgbm_cross_validation(params, \n",
    "                                                              X[ex_overall], \n",
    "                                                              y, \n",
    "                                                              cv=KFold(n_splits=5, random_state=seed%13, shuffle=True), \n",
    "                                                              rounds=100)"
   ]
  },
  {
   "cell_type": "code",
   "execution_count": 62,
   "id": "3f9649b1",
   "metadata": {},
   "outputs": [],
   "source": [
    "test_preds = np.array([model.predict_proba(data_test[ex_overall])[:,1] for model in estimators_lgbm6])\n",
    "test_preds10 = test_preds.T.mean(axis=1)\n",
    "# test_preds10 = pd.DataFrame({ID_COL: test_index, TARGET: test_preds.T.mean(axis=1)})"
   ]
  },
  {
   "cell_type": "code",
   "execution_count": 276,
   "id": "d4bb2c8b",
   "metadata": {},
   "outputs": [
    {
     "name": "stdout",
     "output_type": "stream",
     "text": [
      "Successfully submitted to GeekBrains Competitive Data Analysis\n"
     ]
    },
    {
     "name": "stderr",
     "output_type": "stream",
     "text": [
      "\n",
      "  0%|          | 0.00/4.89M [00:00<?, ?B/s]\n",
      "  4%|4         | 208k/4.89M [00:00<00:03, 1.33MB/s]\n",
      " 42%|####2     | 2.08M/4.89M [00:00<00:00, 4.09MB/s]\n",
      "100%|##########| 4.89M/4.89M [00:01<00:00, 2.61MB/s]\n"
     ]
    }
   ],
   "source": [
    "test_preds10.to_csv('submission.csv', index=False) # 0.73052\n",
    "# !kaggle competitions submit -c geekbrains-competitive-data-analysis -f submission.csv -m \"Message\""
   ]
  },
  {
   "cell_type": "markdown",
   "id": "2dd5f0b4",
   "metadata": {},
   "source": [
    "**Combining oof predictions**"
   ]
  },
  {
   "cell_type": "code",
   "execution_count": 63,
   "id": "8a17396d",
   "metadata": {},
   "outputs": [],
   "source": [
    "oof_predictions = pd.DataFrame(data={'m1': oof_preds_lgbm, 'm2': oof_preds_cat, 'm3': oof_preds_lgbm2, 'm4': oof_preds_cat2,\n",
    "                                     'm5': oof_preds_lgbm3, 'm6': oof_preds_cat3, 'm7': oof_preds_lgbm4,\n",
    "                                     'm8': oof_preds_lgbm5, 'm9': oof_preds_xgb, 'm10': oof_preds_lgbm6\n",
    "                                    })\n",
    "# best for now: 1-7 models"
   ]
  },
  {
   "cell_type": "code",
   "execution_count": 64,
   "id": "1af01372",
   "metadata": {},
   "outputs": [],
   "source": [
    "test_probs = pd.DataFrame(data={'m1': test_preds1, 'm2': test_preds2, 'm3': test_preds3, 'm4': test_preds4,\n",
    "                                'm5': test_preds5, 'm6': test_preds6, 'm7': test_preds7, \n",
    "                                'm8': test_preds8, 'm9': test_preds9, 'm10': test_preds10\n",
    "                               })"
   ]
  },
  {
   "cell_type": "code",
   "execution_count": 65,
   "id": "928b164a",
   "metadata": {},
   "outputs": [
    {
     "data": {
      "image/png": "[encoded data removed]",
      "text/plain": [
       "<Figure size 720x720 with 2 Axes>"
      ]
     },
     "metadata": {
      "needs_background": "light"
     },
     "output_type": "display_data"
    }
   ],
   "source": [
    "corr = oof_predictions.corr()\n",
    "mask = np.zeros_like(corr, dtype=np.bool)\n",
    "mask[np.triu_indices_from(mask)] = True\n",
    "\n",
    "fig, axes = plt.subplots(1, 1, figsize=(10, 10))\n",
    "sns.heatmap(corr, mask=mask, annot=True, fmt=\".4g\", square=True, cmap=\"viridis\", ax=axes)\n",
    "plt.show()"
   ]
  },
  {
   "cell_type": "code",
   "execution_count": 66,
   "id": "4a995c53",
   "metadata": {},
   "outputs": [
    {
     "data": {
      "image/png": "[encoded data removed]",
      "text/plain": [
       "<Figure size 720x720 with 2 Axes>"
      ]
     },
     "metadata": {
      "needs_background": "light"
     },
     "output_type": "display_data"
    }
   ],
   "source": [
    "corr = test_probs.corr()\n",
    "mask = np.zeros_like(corr, dtype=np.bool)\n",
    "mask[np.triu_indices_from(mask)] = True\n",
    "\n",
    "fig, axes = plt.subplots(1, 1, figsize=(10, 10))\n",
    "sns.heatmap(corr, mask=mask, annot=True, fmt=\".4g\", square=True, cmap=\"viridis\", ax=axes)\n",
    "plt.show()\n",
    "# the idea is to get train corrs close to test. Every CV model is overfitted but compensated by ensemble"
   ]
  },
  {
   "cell_type": "code",
   "execution_count": 330,
   "id": "5a526988",
   "metadata": {},
   "outputs": [
    {
     "name": "stdout",
     "output_type": "stream",
     "text": [
      "['m4', 'm6', 'm9', 'm10'] 0.7345597091515608\n"
     ]
    }
   ],
   "source": [
    "d = oof_predictions.shape[1]\n",
    "stat_max = stats.gmean(oof_predictions, axis=1)\n",
    "roc_max = roc_auc_score(y, stat_max)\n",
    "while d > 4: \n",
    "    for subscores in combinations(oof_predictions.columns, r=d-1):\n",
    "        stat = stats.gmean(oof_predictions[list(subscores)], axis=1)\n",
    "        stat = roc_auc_score(y, stat)\n",
    "        if stat > roc_max:\n",
    "            roc_max = stat\n",
    "            best_sub = list(subscores)\n",
    "    d-=1\n",
    "print(best_sub, roc_max)"
   ]
  },
  {
   "cell_type": "code",
   "execution_count": 67,
   "id": "548f6800",
   "metadata": {},
   "outputs": [
    {
     "name": "stdout",
     "output_type": "stream",
     "text": [
      "AMean score: 0.73368\n",
      "GMean score: 0.73364\n",
      "Rank  score: 0.73345\n",
      "GMean  rank: 0.73338\n"
     ]
    }
   ],
   "source": [
    "mean_scores(oof_predictions, y)"
   ]
  },
  {
   "cell_type": "code",
   "execution_count": 68,
   "id": "5225dc6a",
   "metadata": {},
   "outputs": [
    {
     "name": "stdout",
     "output_type": "stream",
     "text": [
      "Fold 1, Train score: 0.73251, Valid score = 0.74901\n",
      "Fold 2, Train score: 0.73272, Valid score = 0.74553\n",
      "Fold 3, Train score: 0.73428, Valid score = 0.73273\n",
      "Fold 4, Train score: 0.73486, Valid score = 0.72679\n",
      "Fold 5, Train score: 0.73352, Valid score = 0.73743\n",
      "Fold 6, Train score: 0.73438, Valid score = 0.73046\n",
      "Fold 7, Train score: 0.73315, Valid score = 0.74111\n",
      "Fold 8, Train score: 0.73449, Valid score = 0.73067\n",
      "Fold 9, Train score: 0.73481, Valid score = 0.72766\n",
      "Fold 10, Train score: 0.73596, Valid score = 0.71804\n",
      "Train score by each fold: [0.73251, 0.73272, 0.73428, 0.73486, 0.73352, 0.73438, 0.73315, 0.73449, 0.73481, 0.73596]\n",
      "Valid score by each fold: [0.74901, 0.74553, 0.73273, 0.72679, 0.73743, 0.73046, 0.74111, 0.73067, 0.72766, 0.71804]\n",
      "Train mean score by each fold:0.73407 +/- 0.00102\n",
      "Valid mean score by each fold:0.73394 +/- 0.00890\n",
      "**************************************************\n"
     ]
    }
   ],
   "source": [
    "lda = LinearDiscriminantAnalysis(\n",
    "                                 solver='eigen',  # lsqr: same LB score\n",
    "                                 shrinkage='auto',\n",
    "                                 store_covariance=True,\n",
    "                                 n_components=1\n",
    "                                )\n",
    "\n",
    "estimators_lda, oof_preds_lda, mean_score = cross_validation(model=lda,\n",
    "                                                             X=oof_predictions,\n",
    "                                                             y=y,\n",
    "                                                             cv=KFold(n_splits=10, shuffle=True, random_state=seed))"
   ]
  },
  {
   "cell_type": "markdown",
   "id": "2191aa7e",
   "metadata": {},
   "source": [
    "* Geometric mean by lda estimators"
   ]
  },
  {
   "cell_type": "code",
   "execution_count": 69,
   "id": "f86e4193",
   "metadata": {},
   "outputs": [
    {
     "data": {
      "text/plain": [
       "(0.7283631167733792, 0.738689416496379)"
      ]
     },
     "execution_count": 69,
     "metadata": {},
     "output_type": "execute_result"
    }
   ],
   "source": [
    "train_preds = np.array([estimator.predict_proba(oof_predictions)[:,1] for estimator in estimators_lda]).T\n",
    "train_preds = stats.gmean(train_preds, axis=1)\n",
    "\n",
    "# calculate_confidence_interval(create_bootstrap_metrics(y, train_preds, roc_auc_score))\n",
    "calculate_confidence_interval(create_bootstrap_metrics(y, oof_preds_lda, roc_auc_score))"
   ]
  },
  {
   "cell_type": "code",
   "execution_count": 70,
   "id": "6bd5364f",
   "metadata": {},
   "outputs": [],
   "source": [
    "test_fin = np.array([estimator.predict_proba(test_probs)[:,1] for estimator in estimators_lda]).T\n",
    "test_fin = pd.DataFrame(data=test_fin)\n",
    "#test_fin = np.average(test_fin, axis=1)\n",
    "\n",
    "test_fin = stats.gmean(test_fin, axis=1)"
   ]
  },
  {
   "cell_type": "code",
   "execution_count": 71,
   "id": "4b8dc494",
   "metadata": {},
   "outputs": [
    {
     "name": "stdout",
     "output_type": "stream",
     "text": [
      "Successfully submitted to GeekBrains Competitive Data Analysis\n"
     ]
    },
    {
     "name": "stderr",
     "output_type": "stream",
     "text": [
      "\n",
      "  0%|          | 0.00/4.91M [00:00<?, ?B/s]\n",
      "  4%|4         | 216k/4.91M [00:00<00:03, 1.55MB/s]\n",
      " 39%|###9      | 1.93M/4.91M [00:00<00:00, 7.89MB/s]\n",
      " 55%|#####4    | 2.68M/4.91M [00:00<00:00, 4.37MB/s]\n",
      "100%|##########| 4.91M/4.91M [00:02<00:00, 2.52MB/s]\n"
     ]
    }
   ],
   "source": [
    "# 0.73420 on first 7 models with initial params. All models: 0.73404\n",
    "fin_sub = pd.DataFrame({ID_COL: test_index, TARGET: test_fin})\n",
    "fin_sub.to_csv('submission.csv', index=False)\n",
    "!kaggle competitions submit -c geekbrains-competitive-data-analysis -f submission.csv -m \"Message\""
   ]
  },
  {
   "cell_type": "markdown",
   "id": "7fc6d9c6",
   "metadata": {},
   "source": [
    "* Geometric mean on test probabilities, obtained from base CV models"
   ]
  },
  {
   "cell_type": "code",
   "execution_count": 408,
   "id": "10993461",
   "metadata": {},
   "outputs": [
    {
     "name": "stdout",
     "output_type": "stream",
     "text": [
      "Successfully submitted to GeekBrains Competitive Data Analysis\n"
     ]
    },
    {
     "name": "stderr",
     "output_type": "stream",
     "text": [
      "\n",
      "  0%|          | 0.00/4.90M [00:00<?, ?B/s]\n",
      "  4%|4         | 208k/4.90M [00:00<00:03, 1.56MB/s]\n",
      " 43%|####2     | 2.09M/4.90M [00:00<00:00, 4.03MB/s]\n",
      "100%|##########| 4.90M/4.90M [00:00<00:00, 9.40MB/s]\n",
      "100%|##########| 4.90M/4.90M [00:02<00:00, 2.48MB/s]\n"
     ]
    }
   ],
   "source": [
    "# 0.73393: on 7 models, 0.73375 - 10 models\n",
    "test_fin = stats.gmean(test_probs, axis=1)\n",
    "fin_sub = pd.DataFrame({ID_COL: test_index, TARGET: test_fin})\n",
    "fin_sub.to_csv('submission.csv', index=False)\n",
    "!kaggle competitions submit -c geekbrains-competitive-data-analysis -f submission.csv -m \"Message\""
   ]
  },
  {
   "cell_type": "code",
   "execution_count": 434,
   "id": "4266ab1a",
   "metadata": {},
   "outputs": [],
   "source": [
    "oof_total_scores = stats.gmean(oof_predictions, axis=1)\n",
    "stability = create_bootstrap_metrics(y, oof_total_scores, roc_auc_score)"
   ]
  },
  {
   "cell_type": "code",
   "execution_count": 435,
   "id": "ec4f927e",
   "metadata": {},
   "outputs": [
    {
     "data": {
      "image/png": "[encoded data removed]",
      "text/plain": [
       "<Figure size 1080x360 with 2 Axes>"
      ]
     },
     "metadata": {
      "needs_background": "light"
     },
     "output_type": "display_data"
    }
   ],
   "source": [
    "fig, axes = plt.subplots(1, 2, figsize=(15, 5))\n",
    "plt.suptitle(\"Bootstrap for evaluating validation stability\", size=15)\n",
    "axes[1].scatter(range(len(stability)), stability, alpha=0.25, color=\"blue\")\n",
    "axes[1].set_xlabel(\"Number of samples\", size=15)\n",
    "axes[1].set_ylabel(\"$F_1$ score\", size=15)\n",
    "distribution = \"Normal\" if stats.shapiro(stability)[1] >= 0.05 else \"Not normal\"\n",
    "\n",
    "axes[0].axvline(np.mean(stability), lw=2, ls='--', c='red')\n",
    "axes[1].axhline(np.mean(stability), lw=2, ls='--', c='red')\n",
    "sns.histplot(stability, ax=axes[0], color=\"green\", bins=20, kde=True)\n",
    "axes[0].set_xlabel(f\"Number of samples, distribution: {distribution}\", size=15)\n",
    "plt.show()"
   ]
  },
  {
   "cell_type": "code",
   "execution_count": 46,
   "id": "8089704a",
   "metadata": {},
   "outputs": [
    {
     "name": "stdout",
     "output_type": "stream",
     "text": [
      "\n",
      "Optimized weights:\n",
      "Best score: 0.7328\n"
     ]
    }
   ],
   "source": [
    "# optimization with gmean: 0.73348\n",
    "\n",
    "results_list = []   \n",
    "weights_list = []  \n",
    "preds = oof_predictions.values\n",
    "\n",
    "def weights_objective(weights):\n",
    "    # y_ens = np.average(preds, axis=1, weights=weights)\n",
    "    y_ens = stats.gmean(preds, axis=1, weights=weights)\n",
    "    return roc_auc_score(y, y_ens)\n",
    "\n",
    "for k in range(100):\n",
    "  \n",
    "    w0 = np.random.uniform(size=preds.shape[1])\n",
    "    bounds = [(0,1)] * preds.shape[1]\n",
    "\n",
    "    cons = [{'type': 'eq',\n",
    "             'fun': lambda w: w.sum() - 1}]\n",
    "\n",
    "    res = minimize(weights_objective,\n",
    "                   w0,\n",
    "                   method='SLSQP',\n",
    "                   bounds=bounds,\n",
    "                   options={'disp':False, 'maxiter':10000},\n",
    "                   constraints=cons)\n",
    "\n",
    "    results_list.append(res.fun)\n",
    "    weights_list.append(res.x)\n",
    "\n",
    "best_score = np.max(results_list)    \n",
    "best_weights = weights_list[results_list.index(best_score)]\n",
    "\n",
    "print('\\nOptimized weights:')\n",
    "print('Best score: {:.4f}'.format(best_score))  # 0.73395 with gmean on test_scores"
   ]
  },
  {
   "cell_type": "code",
   "execution_count": 443,
   "id": "994bed5c",
   "metadata": {},
   "outputs": [
    {
     "name": "stdout",
     "output_type": "stream",
     "text": [
      "Fold 1, Train score: 0.73195, Valid score = 0.75092\n",
      "Fold 2, Train score: 0.73264, Valid score = 0.74441\n",
      "Fold 3, Train score: 0.73386, Valid score = 0.73313\n",
      "Fold 4, Train score: 0.73451, Valid score = 0.72754\n",
      "Fold 5, Train score: 0.73323, Valid score = 0.73817\n",
      "Fold 6, Train score: 0.73413, Valid score = 0.73088\n",
      "Fold 7, Train score: 0.73279, Valid score = 0.74247\n",
      "Fold 8, Train score: 0.73438, Valid score = 0.72823\n",
      "Fold 9, Train score: 0.73451, Valid score = 0.72697\n",
      "Fold 10, Train score: 0.73555, Valid score = 0.71856\n",
      "Train score by each fold: [0.73195, 0.73264, 0.73386, 0.73451, 0.73323, 0.73413, 0.73279, 0.73438, 0.73451, 0.73555]\n",
      "Valid score by each fold: [0.75092, 0.74441, 0.73313, 0.72754, 0.73817, 0.73088, 0.74247, 0.72823, 0.72697, 0.71856]\n",
      "Train mean score by each fold:0.73376 +/- 0.00103\n",
      "Valid mean score by each fold:0.73413 +/- 0.00926\n",
      "**************************************************\n"
     ]
    }
   ],
   "source": [
    "from sklearn.linear_model import LogisticRegression\n",
    "from sklearn.pipeline import make_pipeline\n",
    "from sklearn.decomposition import PCA\n",
    "\n",
    "logreg = LogisticRegression(class_weight=None, \n",
    "                            solver='liblinear', \n",
    "                            penalty='l2', \n",
    "                            C=0.1, \n",
    "                            random_state=seed,\n",
    "                            n_jobs=-1)\n",
    "\n",
    "pipe = make_pipeline(PCA(n_components=6, random_state=seed), logreg)\n",
    "\n",
    "estimators_log, oof_preds_log, mean_score_log = cross_validation(model=pipe,\n",
    "                                                                 X=oof_predictions,\n",
    "                                                                 y=y,\n",
    "                                                                 cv=KFold(n_splits=10, shuffle=True, random_state=seed))"
   ]
  },
  {
   "cell_type": "code",
   "execution_count": 444,
   "id": "185da5cc",
   "metadata": {},
   "outputs": [],
   "source": [
    "test_fin = np.array([estimator.predict_proba(test_probs)[:,1] for estimator in estimators_log]).T\n",
    "test_fin = pd.DataFrame(data=test_fin)\n",
    "test_fin = np.average(test_fin, axis=1)"
   ]
  },
  {
   "cell_type": "code",
   "execution_count": 445,
   "id": "65e94d95",
   "metadata": {},
   "outputs": [
    {
     "name": "stdout",
     "output_type": "stream",
     "text": [
      "Successfully submitted to GeekBrains Competitive Data Analysis\n"
     ]
    },
    {
     "name": "stderr",
     "output_type": "stream",
     "text": [
      "\n",
      "  0%|          | 0.00/4.88M [00:00<?, ?B/s]\n",
      "  4%|4         | 208k/4.88M [00:00<00:03, 1.56MB/s]\n",
      " 44%|####3     | 2.14M/4.88M [00:01<00:01, 2.01MB/s]\n",
      " 90%|######### | 4.40M/4.88M [00:01<00:00, 4.53MB/s]\n",
      "100%|##########| 4.88M/4.88M [00:02<00:00, 1.89MB/s]\n"
     ]
    }
   ],
   "source": [
    "fin_sub = pd.DataFrame({ID_COL: test_index, TARGET: test_fin})  # 0.73397 on LB\n",
    "fin_sub.to_csv('submission.csv', index=False)\n",
    "!kaggle competitions submit -c geekbrains-competitive-data-analysis -f submission.csv -m \"Message\""
   ]
  },
  {
   "cell_type": "markdown",
   "id": "ad9a7142",
   "metadata": {},
   "source": [
    "**Merge part 1 and part 2**"
   ]
  },
  {
   "cell_type": "code",
   "execution_count": 310,
   "id": "ba863e8f",
   "metadata": {},
   "outputs": [],
   "source": [
    "nonzero = pd.read_csv('nonzero.csv')\n",
    "fin_sub = pd.DataFrame({ID_COL: test_index, TARGET: test_fin})"
   ]
  },
  {
   "cell_type": "code",
   "execution_count": 311,
   "id": "6d2b6c2f",
   "metadata": {},
   "outputs": [],
   "source": [
    "fin_sub = fin_sub.merge(nonzero, on=ID_COL, how='left')"
   ]
  },
  {
   "cell_type": "code",
   "execution_count": 312,
   "id": "7cd4e4d6",
   "metadata": {},
   "outputs": [],
   "source": [
    "# fin_sub[TARGET] = np.where(fin_sub['TARGET_y'].isna(), fin_sub['TARGET_x'], fin_sub['TARGET_y'])  # 0.73289\n",
    "\n",
    "fin_sub[TARGET] = (fin_sub['TARGET_x'] * fin_sub['TARGET_y'])**(1/2)  # 0.73371\n",
    "fin_sub.loc[fin_sub[TARGET].isna(), TARGET] = fin_sub.loc[fin_sub[TARGET].isna(), 'TARGET_x']"
   ]
  },
  {
   "cell_type": "code",
   "execution_count": 313,
   "id": "b6b61afb",
   "metadata": {},
   "outputs": [],
   "source": [
    "fin_sub.drop(['TARGET_y', 'TARGET_x'], axis=1, inplace=True)"
   ]
  },
  {
   "cell_type": "code",
   "execution_count": 364,
   "id": "d950bda6",
   "metadata": {},
   "outputs": [
    {
     "name": "stdout",
     "output_type": "stream",
     "text": [
      "400 - Bad Request\n"
     ]
    },
    {
     "name": "stderr",
     "output_type": "stream",
     "text": [
      "\n",
      "  0%|          | 0.00/4.92M [00:00<?, ?B/s]\n",
      "  4%|4         | 208k/4.92M [00:00<00:03, 1.40MB/s]\n",
      " 29%|##8       | 1.41M/4.92M [00:00<00:01, 2.74MB/s]\n",
      " 39%|###8      | 1.91M/4.92M [00:00<00:00, 3.29MB/s]\n",
      " 55%|#####5    | 2.71M/4.92M [00:00<00:00, 4.42MB/s]\n",
      " 71%|#######1  | 3.50M/4.92M [00:00<00:00, 5.38MB/s]\n",
      " 87%|########6 | 4.27M/4.92M [00:00<00:00, 6.08MB/s]\n",
      "100%|##########| 4.92M/4.92M [00:02<00:00, 2.12MB/s]\n"
     ]
    }
   ],
   "source": [
    "fin_sub.to_csv('submission.csv', index=False)\n",
    "!kaggle competitions submit -c geekbrains-competitive-data-analysis -f submission.csv -m \"Message\""
   ]
  },
  {
   "cell_type": "markdown",
   "id": "29c1c95d",
   "metadata": {},
   "source": [
    "## Appendix\n",
    "### Feature selection"
   ]
  },
  {
   "cell_type": "code",
   "execution_count": 108,
   "id": "413295de",
   "metadata": {},
   "outputs": [],
   "source": [
    "x_train, x_test, y_train, y_test = train_test_split(X, y, test_size=0.2, random_state=seed)"
   ]
  },
  {
   "cell_type": "code",
   "execution_count": 109,
   "id": "29ebdbed",
   "metadata": {},
   "outputs": [
    {
     "name": "stdout",
     "output_type": "stream",
     "text": [
      "CV-score: 0.5004\n"
     ]
    }
   ],
   "source": [
    "X_inspect = pd.concat([x_train, x_test], axis=0)\n",
    "y_inspect = np.hstack((np.ones(x_train.shape[0]), np.zeros(x_test.shape[0])))\n",
    "\n",
    "inspector = LGBMClassifier(max_depth=4, \n",
    "                           n_estimators=100,\n",
    "                           verbose=-1,\n",
    "                           is_unbalance=True,\n",
    "                           learning_rate=0.05,   \n",
    "                           random_seed=seed).fit(X_inspect, y_inspect)\n",
    "\n",
    "cv = cross_val_score(\n",
    "    estimator=inspector,\n",
    "    X=X_inspect, y=y_inspect,\n",
    "    scoring=\"roc_auc\",\n",
    "    cv=KFold(n_splits=5, shuffle=True, random_state=42)\n",
    ")\n",
    "\n",
    "print(f\"CV-score: {round(np.mean(cv), 4)}\")"
   ]
  },
  {
   "cell_type": "code",
   "execution_count": 111,
   "id": "f192ea7a",
   "metadata": {},
   "outputs": [
    {
     "name": "stderr",
     "output_type": "stream",
     "text": [
      "100%|████████████████████████████████████████████████████████████████████████████████| 117/117 [00:33<00:00,  3.51it/s]\n"
     ]
    }
   ],
   "source": [
    "scores, deltas = calculate_permutation_importance(LGBMClassifier(**lgbm_params_my).fit(x_train, y_train), \n",
    "                                                  x_valid=x_test, \n",
    "                                                  y_valid=y_test,\n",
    "                                                  probas=True, \n",
    "                                                  metric=roc_auc_score)"
   ]
  },
  {
   "cell_type": "code",
   "execution_count": 116,
   "id": "3d2e40a8",
   "metadata": {},
   "outputs": [],
   "source": [
    "perm = deltas[deltas >= 0].index.tolist()"
   ]
  },
  {
   "cell_type": "code",
   "execution_count": 133,
   "id": "906bf2c8",
   "metadata": {},
   "outputs": [],
   "source": [
    "perm = perm + [\"EXTERNAL_SCORE_WEIGHTED\", \"EXTERNAL_SCORING_RATING_1\"]"
   ]
  },
  {
   "cell_type": "code",
   "execution_count": 142,
   "id": "2eff854e",
   "metadata": {},
   "outputs": [
    {
     "name": "stderr",
     "output_type": "stream",
     "text": [
      "                                                                                                                       \r"
     ]
    }
   ],
   "source": [
    "# select best feature set by exhaustive method\n",
    "lgbm_params_my = {\n",
    "                'metric':\"auc\", \n",
    "                'boosting_type': 'gbdt',\n",
    "                'n_estimators': 1000,\n",
    "                'learning_rate': 0.03,\n",
    "                'num_leaves': 42,\n",
    "                'max_depth': 10,\n",
    "                'reg_alpha': 0.05,\n",
    "                'reg_lambda': 0.06,\n",
    "                'subsample': 0.8,\n",
    "                'min_child_weight': 60,\n",
    "                'random_state': seed\n",
    "}\n",
    "\n",
    "best_selector = BestSet(lgbm_params_my, k_features=40).fit(X[perm], y)"
   ]
  },
  {
   "cell_type": "code",
   "execution_count": null,
   "id": "40641d27",
   "metadata": {},
   "outputs": [],
   "source": [
    "max(best_selector.scores_), X[perm][list(best_selector.subsets_[np.argmax(best_selector.scores_)])]"
   ]
  },
  {
   "cell_type": "code",
   "execution_count": 153,
   "id": "a1f4750d",
   "metadata": {},
   "outputs": [
    {
     "data": {
      "text/plain": [
       "(Index(['EXT_SCORES_mean', 'NEW_CREDIT_TO_ANNUITY_RATIO', 'ANNUITY_JOB',\n",
       "        'EXTERNAL_SCORING_RATING_3', 'NAME_CONTRACT_TYPE',\n",
       "        'NEW_CREDIT_TO_ANNUITY_RATIO_MEAN_GENDER_AGE_BIN', 'AMOUNT_ANNUITY',\n",
       "        'EXTERNAL_SCORING_RATING_2', 'AGE', 'AMT_REQ_CREDIT_BUREAU_QRT',\n",
       "        'RATIO_AMOUNT_ANNUITY_TO_SALARY', 'TOTAL_SALARY_COUNT_AGE_INTERVAL',\n",
       "        'EDUCATION_FAMILY_STATUS', 'TOTAL_SALARY_MEAN_AGE_INTERVAL',\n",
       "        'AMOUNT_CREDIT', 'RATIO_AGE_TO_EXPERIENCE', 'RATIO_CAR_TO_AGE',\n",
       "        'EXT_SCORES_min', 'RATIO_SALARY_TO_AMOUNT_CREDIT_BY_FAMILY',\n",
       "        'AMOUNT_CREDIT_MEAN_AGE_INTERVAL',\n",
       "        'AMOUNT_ANNUITY_MIN_BY_FAMILY_STATUS', 'RATIO_CREDIT_TO_AGE',\n",
       "        'TOTAL_SALARY_MAX_AGE_INTERVAL', 'NEW_STATUS_MSeparated',\n",
       "        'EXT_SCORE_3_ANNUITY', 'NEW_STATUS_MMarried',\n",
       "        'TOTAL_SALARY_MEAN_BY_EDUCATION',\n",
       "        'DELTA_SALARY_TO_MEAN_SALARY_BY_EDUCATION',\n",
       "        'AMT_REQ_CREDIT_BUREAU_YEAR', 'CHILDRENS',\n",
       "        'AMOUNT_CREDIT_MEAN_BY_EDUCATION', 'TOTAL_SALARY_MIN_AGE_INTERVAL',\n",
       "        'AMOUNT_CREDIT_MEAN_BY_FAMILY_STATUS', 'NEW_STATUS_MCivil marriage',\n",
       "        'EXT_SCORE_1_AMT_CREDIT', 'AMT_REQ_CREDIT_BUREAU_HOUR', 'GENDER',\n",
       "        'AMOUNT_ANNUITY_MEAN_BY_FAMILY_STATUS', 'EXTERNAL_SCORE_WEIGHTED',\n",
       "        'EXTERNAL_SCORING_RATING_1'],\n",
       "       dtype='object'),\n",
       " 0.729712998948225)"
      ]
     },
     "execution_count": 153,
     "metadata": {},
     "output_type": "execute_result"
    }
   ],
   "source": [
    "X[perm].columns[list(best_selector.subsets_[np.argmax(best_selector.scores_)])], max(best_selector.scores_)"
   ]
  },
  {
   "cell_type": "code",
   "execution_count": 234,
   "id": "081d801e",
   "metadata": {},
   "outputs": [
    {
     "name": "stderr",
     "output_type": "stream",
     "text": [
      "                                                                                                                       \r"
     ]
    }
   ],
   "source": [
    "lgbm_params_my = {\n",
    "    'metric':\"auc\", \n",
    "    'boosting_type': 'gbdt',\n",
    "    'n_estimators': 1000,\n",
    "    'learning_rate': 0.035,\n",
    "    'num_leaves': 12,\n",
    "    'max_depth': 10,\n",
    "    'reg_alpha': 0.05,\n",
    "    'reg_lambda': 0.06,\n",
    "    'subsample': 0.8,\n",
    "    'min_child_weight': 56,\n",
    "    'random_state': seed\n",
    "}\n",
    "\n",
    "best_selector = BestSet(lgbm_params_my, k_features=20).fit(X[overall], y)"
   ]
  },
  {
   "cell_type": "code",
   "execution_count": 235,
   "id": "971fe122",
   "metadata": {},
   "outputs": [
    {
     "data": {
      "text/plain": [
       "(Index(['NEW_CREDIT_TO_ANNUITY_RATIO', 'EXTERNAL_SCORING_RATING_3',\n",
       "        'NAME_CONTRACT_TYPE', 'AMOUNT_ANNUITY', 'EXTERNAL_SCORING_RATING_2',\n",
       "        'AGE', 'AMT_REQ_CREDIT_BUREAU_QRT', 'RATIO_AMOUNT_ANNUITY_TO_SALARY',\n",
       "        'TOTAL_SALARY_COUNT_AGE_INTERVAL', 'RATIO_AGE_TO_EXPERIENCE',\n",
       "        'RATIO_CAR_TO_AGE', 'RATIO_SALARY_TO_AMOUNT_CREDIT_BY_FAMILY',\n",
       "        'RATIO_CREDIT_TO_AGE', 'TOTAL_SALARY_MEAN_BY_EDUCATION',\n",
       "        'AMT_REQ_CREDIT_BUREAU_YEAR', 'GENDER',\n",
       "        'AMOUNT_ANNUITY_MEAN_BY_FAMILY_STATUS', 'EXTERNAL_SCORE_WEIGHTED',\n",
       "        'EXTERNAL_SCORING_RATING_1', 'BURO_CREDIT_TYPE_Credit card_MEAN',\n",
       "        'BURO_AMT_CREDIT_MAX_OVERDUE_MEAN'],\n",
       "       dtype='object'),\n",
       " 0.7336162564182418)"
      ]
     },
     "execution_count": 235,
     "metadata": {},
     "output_type": "execute_result"
    }
   ],
   "source": [
    "X[overall].columns[list(best_selector.subsets_[np.argmax(best_selector.scores_)])], max(best_selector.scores_)"
   ]
  },
  {
   "cell_type": "markdown",
   "id": "cbc8535d",
   "metadata": {},
   "source": [
    "#### Watch profile features combinations (fillna before add, multiply, etc.) - new ipynb - did not work\n",
    "#### target encoding did not work\n",
    "#### adding history features did not work"
   ]
  },
  {
   "cell_type": "markdown",
   "id": "58e95e3c",
   "metadata": {},
   "source": [
    "### PART I \n",
    "\n",
    "Train CV ensemble models on existing profile data only with hold-out set, CI.\n",
    "\n",
    "Combine part I and part II: replace samples scores, amean, gmean\n",
    "\n",
    "did not work well"
   ]
  },
  {
   "cell_type": "markdown",
   "id": "9f1fc655",
   "metadata": {},
   "source": [
    "#### Train models without high error samples"
   ]
  },
  {
   "cell_type": "markdown",
   "id": "1bb56a35",
   "metadata": {},
   "source": [
    "### Optuna search"
   ]
  },
  {
   "cell_type": "code",
   "execution_count": 350,
   "id": "48abb766",
   "metadata": {},
   "outputs": [],
   "source": [
    "# tune lgbm\n",
    "start_params = {\n",
    "                'metric':\"auc\", \n",
    "                'boosting_type': 'gbdt',\n",
    "                'n_estimators': 2000,\n",
    "                'reg_alpha': 0.436193,\n",
    "                'reg_lambda': 0.479169,\n",
    "                'subsample': 0.7,\n",
    "                'min_split_gain': 0.024766,\n",
    "                'min_child_weight': 56,\n",
    "                'subsample_for_bin': 240000,\n",
    "                'colsample_bytree': 0.508716,\n",
    "                'is_unbalance': False,\n",
    "                'random_state': seed\n",
    "}\n",
    "\n",
    "\n",
    "def objective(trial):\n",
    "    param_trials = {\n",
    "                    'max_depth': trial.suggest_int('max_depth', 4, 12),\n",
    "                    'learning_rate': trial.suggest_float('learning_rate', 0.003, 0.3),\n",
    "                    'num_leaves': trial.suggest_int('num_leaves', 6, 100),\n",
    "                    'min_child_weight': trial.suggest_int('min_child_weight', 2, 300)\n",
    "                    }\n",
    "    \n",
    "    param_trials.update(start_params)\n",
    "\n",
    "    fold = KFold(n_splits=5, shuffle=True, random_state=seed)\n",
    "    \n",
    "    _, _, score = lightgbm_cross_validation_mean(param_trials, \n",
    "                                                 X[exhaust], \n",
    "                                                 y, \n",
    "                                                 cv=fold, \n",
    "                                                 rounds=50,\n",
    "                                                 verbose=False)\n",
    "    \n",
    "    \n",
    "    return score"
   ]
  },
  {
   "cell_type": "code",
   "execution_count": 352,
   "id": "9c21e7aa",
   "metadata": {},
   "outputs": [
    {
     "name": "stdout",
     "output_type": "stream",
     "text": [
      "Number of completed trials: 1500\n",
      "Best trial\n",
      "Best score: 0.732934\n",
      "Best params\n",
      "{'learning_rate': 0.07698408707853092,\n",
      " 'max_depth': 4,\n",
      " 'min_child_weight': 103,\n",
      " 'num_leaves': 13}\n",
      "CPU times: total: 1d 17h 46min 33s\n",
      "Wall time: 2h 46min 16s\n"
     ]
    }
   ],
   "source": [
    "%%time\n",
    "optuna.logging.set_verbosity(optuna.logging.FATAL)\n",
    "study = optuna.create_study(sampler=TPESampler(seed=seed), direction=\"maximize\")\n",
    "study.optimize(objective, n_trials=1500, timeout=10000)\n",
    "\n",
    "print(f'Number of completed trials: {len(study.trials)}')\n",
    "print('Best trial')\n",
    "trial = study.best_trial\n",
    "print(f'Best score: {trial.value}')\n",
    "print('Best params')\n",
    "pprint(trial.params)"
   ]
  },
  {
   "cell_type": "code",
   "execution_count": null,
   "id": "4512f05b",
   "metadata": {},
   "outputs": [],
   "source": [
    "for subset in (overall, deltas):\n",
    "    def objective(trial):\n",
    "        param_trials = {\n",
    "                        'max_depth': trial.suggest_int('max_depth', 4, 12),\n",
    "                        'learning_rate': trial.suggest_float('learning_rate', 0.003, 0.3),\n",
    "                        'num_leaves': trial.suggest_int('num_leaves', 6, 100),\n",
    "                        'min_child_weight': trial.suggest_int('min_child_weight', 2, 300)\n",
    "                        }\n",
    "\n",
    "        param_trials.update(start_params)\n",
    "\n",
    "        fold = KFold(n_splits=5, shuffle=True, random_state=seed)\n",
    "\n",
    "        _, _, score = lightgbm_cross_validation_mean(param_trials, \n",
    "                                                     X[subset], \n",
    "                                                     y, \n",
    "                                                     cv=fold, \n",
    "                                                     rounds=50,\n",
    "                                                     verbose=False)\n",
    "\n",
    "\n",
    "        return score\n",
    "\n",
    "    optuna.logging.set_verbosity(optuna.logging.FATAL)\n",
    "    study = optuna.create_study(sampler=TPESampler(seed=seed), direction=\"maximize\")\n",
    "    study.optimize(objective, n_trials=1500, timeout=10000)\n",
    "\n",
    "    print(f'Number of completed trials: {len(study.trials)}')\n",
    "    print('Best trial')\n",
    "    trial = study.best_trial\n",
    "    print(f'Best score: {trial.value}')\n",
    "    print('Best params')\n",
    "    pprint(trial.params)"
   ]
  },
  {
   "cell_type": "code",
   "execution_count": 392,
   "id": "2332e978",
   "metadata": {},
   "outputs": [
    {
     "name": "stdout",
     "output_type": "stream",
     "text": [
      "Number of completed trials: 81\n",
      "Best trial\n",
      "Best score: 0.733814\n",
      "Best params\n",
      "{'eta': 0.02515321125271333,\n",
      " 'gamma': 8.09734583146528,\n",
      " 'max_depth': 6,\n",
      " 'min_child_weight': 36}\n"
     ]
    }
   ],
   "source": [
    "start_params = {\n",
    "                \"objective\": \"binary:logistic\",\n",
    "                \"booster\": \"gbtree\",\n",
    "                \"eval_metric\": \"auc\",\n",
    "                \"subsample\": 0.85,\n",
    "                \"colsample_bytree\": 0.7,\n",
    "                \"colsample_bylevel\": 0.632,\n",
    "                \"alpha\": 0.05,\n",
    "                \"lambda\": 0.067,\n",
    "                \"random_state\": seed,\n",
    "                \"n_jobs\": -1\n",
    "}\n",
    "\n",
    "def objective(trial):\n",
    "    param_trials = {\n",
    "                    'max_depth': trial.suggest_int('max_depth', 4, 12),\n",
    "                    'eta': trial.suggest_float('eta', 0.003, 0.3),\n",
    "                    'gamma': trial.suggest_float('gamma', 0, 25),\n",
    "                    'min_child_weight': trial.suggest_int('min_child_weight', 2, 300)\n",
    "                    }\n",
    "\n",
    "    param_trials.update(start_params)\n",
    "\n",
    "    fold = KFold(n_splits=5, shuffle=True, random_state=seed)\n",
    "\n",
    "    _, _, _, score = xgboost_cross_validation(param_trials, \n",
    "                                              X[ex_overall], \n",
    "                                              y, \n",
    "                                              cv=fold, \n",
    "                                              rounds=50,\n",
    "                                              verbose=False,\n",
    "                                              return_valid_mean=True)\n",
    "\n",
    "\n",
    "    return score\n",
    "\n",
    "optuna.logging.set_verbosity(optuna.logging.FATAL)\n",
    "study = optuna.create_study(sampler=TPESampler(seed=seed), direction=\"maximize\")\n",
    "study.optimize(objective, n_trials=1500, timeout=10000)\n",
    "\n",
    "print(f'Number of completed trials: {len(study.trials)}')\n",
    "print('Best trial')\n",
    "trial = study.best_trial\n",
    "print(f'Best score: {trial.value}')\n",
    "print('Best params')\n",
    "pprint(trial.params)"
   ]
  },
  {
   "cell_type": "code",
   "execution_count": null,
   "id": "84b6dcd8",
   "metadata": {},
   "outputs": [],
   "source": [
    "start_params = {  \n",
    "                'silent': True,  \n",
    "                'iterations': 1000, \n",
    "                'eval_metric': 'AUC',  \n",
    "                'allow_writing_files': False,  \n",
    "                'random_seed': seed,  \n",
    "                'grow_policy': 'Lossguide', \n",
    "                'boosting_type': 'Plain', \n",
    "                'colsample_bylevel': 0.8,  \n",
    "                'l2_leaf_reg': 30,  \n",
    "                'subsample': 0.86,  \n",
    "}\n",
    "\n",
    "for subset in (boruta, boruta_bureau, exhaust):\n",
    "    def objective(trial):\n",
    "        param_trials = {\n",
    "                        'depth': trial.suggest_int('depth', 4, 12),\n",
    "                        'learning_rate': trial.suggest_float('learning_rate', 0.003, 0.3),\n",
    "                        'num_leaves': trial.suggest_int('num_leaves', 6, 128),\n",
    "                        'min_child_samples': trial.suggest_int('min_child_samples', 1, 300)\n",
    "                        }\n",
    "\n",
    "        param_trials.update(start_params)\n",
    "\n",
    "        fold = KFold(n_splits=5, shuffle=True, random_state=seed)\n",
    "\n",
    "        _, _, score = catboost_cross_validation(cat_params, \n",
    "                                                X[subset], \n",
    "                                                y, \n",
    "                                                cv=fold, \n",
    "                                                rounds=50,\n",
    "                                                verbose=False,\n",
    "                                                return_valid_mean=True)\n",
    "\n",
    "\n",
    "        return score\n",
    "\n",
    "    optuna.logging.set_verbosity(optuna.logging.FATAL)\n",
    "    study = optuna.create_study(sampler=TPESampler(seed=seed), direction=\"maximize\")\n",
    "    study.optimize(objective, n_trials=1500, timeout=10000)\n",
    "\n",
    "    print(f'Number of completed trials: {len(study.trials)}')\n",
    "    print('Best trial')\n",
    "    trial = study.best_trial\n",
    "    print(f'Best score: {trial.value}')\n",
    "    print('Best params')\n",
    "    pprint(trial.params)"
   ]
  }
 ],
 "metadata": {
  "kernelspec": {
   "display_name": "Python 3 (ipykernel)",
   "language": "python",
   "name": "python3"
  },
  "language_info": {
   "codemirror_mode": {
    "name": "ipython",
    "version": 3
   },
   "file_extension": ".py",
   "mimetype": "text/x-python",
   "name": "python",
   "nbconvert_exporter": "python",
   "pygments_lexer": "ipython3",
   "version": "3.10.4"
  }
 },
 "nbformat": 4,
 "nbformat_minor": 5
}
