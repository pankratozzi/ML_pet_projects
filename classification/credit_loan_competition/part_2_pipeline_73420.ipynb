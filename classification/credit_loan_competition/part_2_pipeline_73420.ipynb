{
 "cells": [
  {
   "cell_type": "code",
   "execution_count": 1,
   "id": "03e03dbf",
   "metadata": {},
   "outputs": [],
   "source": [
    "import warnings\n",
    "warnings.filterwarnings('ignore')\n",
    "\n",
    "import pandas as pd\n",
    "import numpy as np\n",
    "import matplotlib.pyplot as plt\n",
    "import seaborn as sns\n",
    "from typing import Optional, List, Tuple\n",
    "from pprint import pprint\n",
    "from tqdm import tqdm\n",
    "import time\n",
    "from scipy import stats\n",
    "from scipy.optimize import minimize\n",
    "\n",
    "from itertools import combinations\n",
    "\n",
    "import missingno as msno\n",
    "from sklearn.metrics import roc_auc_score\n",
    "from sklearn.model_selection import train_test_split, cross_val_score, KFold, StratifiedKFold\n",
    "from sklearn.preprocessing import StandardScaler, MinMaxScaler, LabelEncoder\n",
    "from sklearn.discriminant_analysis import LinearDiscriminantAnalysis\n",
    "from sklearn.base import BaseEstimator, TransformerMixin\n",
    "from sklearn.utils.class_weight import compute_class_weight\n",
    "\n",
    "from BorutaShap import BorutaShap\n",
    "import category_encoders as ce\n",
    "\n",
    "from lightgbm import LGBMClassifier\n",
    "from catboost import CatBoostClassifier, Pool, EFeaturesSelectionAlgorithm, EShapCalcType\n",
    "\n",
    "import optuna\n",
    "from optuna.samplers import TPESampler\n",
    "\n",
    "import tensorflow as tf  # another kernel: work in progress - MLP with BatchNorm, Convolutional\n",
    "\n",
    "from utils import *\n",
    "import gc\n",
    "gc.enable()"
   ]
  },
  {
   "cell_type": "code",
   "execution_count": 2,
   "id": "86e7f16e",
   "metadata": {},
   "outputs": [],
   "source": [
    "seed = 42\n",
    "np.random.seed(seed)\n",
    "np.set_printoptions(2)\n",
    "pd.options.display.float_format = '{:.4f}'.format\n",
    "plt.style.use('ggplot')\n",
    "pd.set_option('display.max_columns', None)\n",
    "\n",
    "ID_COL = 'APPLICATION_NUMBER'\n",
    "TARGET= 'TARGET'"
   ]
  },
  {
   "cell_type": "code",
   "execution_count": 3,
   "id": "604f2864",
   "metadata": {},
   "outputs": [],
   "source": [
    "train = pd.read_csv('train.csv')\n",
    "test = pd.read_csv('test.csv')"
   ]
  },
  {
   "cell_type": "markdown",
   "id": "f4733a0d",
   "metadata": {},
   "source": [
    "**models based on profile data**"
   ]
  },
  {
   "cell_type": "code",
   "execution_count": 4,
   "id": "0cc26f24",
   "metadata": {},
   "outputs": [
    {
     "name": "stdout",
     "output_type": "stream",
     "text": [
      "Memory usage of dataframe is 182.15 MB\n",
      "Memory usage after optimization is: 86.31 MB\n",
      "Decreased by 52.6%\n"
     ]
    },
    {
     "data": {
      "text/plain": [
       "(110093, 117)"
      ]
     },
     "execution_count": 4,
     "metadata": {},
     "output_type": "execute_result"
    }
   ],
   "source": [
    "data = pd.concat([train, test], axis=0)\n",
    "df = prepare_cp_sec(data, dropna=False, create_features=True, is_category_encode=False)\n",
    "\n",
    "df_cat_cols = [column for column in df.columns if df[column].dtype in [\"object\", \"category\"]]\n",
    "for col in df_cat_cols:\n",
    "    if df[col].nunique() > 20:\n",
    "        encoder = LabelEncoder()\n",
    "        df[col] = encoder.fit_transform(df[col].astype(str).fillna(\"NA\"))\n",
    "df, _ = get_encoded(df)\n",
    "\n",
    "data_border = len(data) - df[TARGET].isna().sum()\n",
    "data_train, data_test = df.iloc[:data_border, :], df.iloc[data_border:, :]\n",
    "X, y = data_train.drop(TARGET, axis=1), data_train[TARGET]\n",
    "\n",
    "X = X.drop(ID_COL, axis=1)\n",
    "\n",
    "X.shape\n",
    "# pay attention at EXTERNAL_WEIGHTED_SCORE: lots of NA values due to NA in additive terms (next hypothesis to fillna(0) in sum)"
   ]
  },
  {
   "cell_type": "code",
   "execution_count": 5,
   "id": "142c8242",
   "metadata": {},
   "outputs": [],
   "source": [
    "# features, selected by BorutaShap and handy elimination\n",
    "boruta = ['NEW_CREDIT_TO_ANNUITY_RATIO_MEAN_GENDER_AGE_BIN', 'AGE', 'NEW_CREDIT_TO_ANNUITY_RATIO', \n",
    "          'DAYS_ON_LAST_JOB', 'ANNUITY_JOB', 'RATIO_CREDIT_TO_AGE', 'RATIO_CAR_TO_EXPERIENCE', 'RATIO_CAR_TO_AGE', \n",
    "          'AMOUNT_ANNUITY_MEAN_BY_EDUCATION', 'AMT_REQ_CREDIT_BUREAU_YEAR', 'SALARY_JOB', \n",
    "          'AMOUNT_ANNUITY_MIN_BY_EDUCATION', 'AMOUNT_CREDIT_MEAN_BY_EDUCATION', 'EXTERNAL_SCORING_RATING_3', \n",
    "          'NAME_CONTRACT_TYPE', 'CREDIT_JOB', 'AMOUNT_CREDIT', 'TOTAL_SALARY_MEAN_BY_EDUCATION', \n",
    "          'EXTERNAL_SCORE_WEIGHTED', 'TOTAL_SALARY_MEAN_AGE_INTERVAL', 'EXTERNAL_SCORING_RATING_2', \n",
    "          'EDUCATION_FAMILY_STATUS', 'GENDER', 'RATIO_ANNUITY_TO_AGE', 'TOTAL_SALARY_MIN_BY_EDUCATION', \n",
    "          'RATIO_AMOUNT_ANNUITY_TO_SALARY', 'AMOUNT_ANNUITY', 'OWN_CAR_AGE', 'RATIO_AGE_TO_EXPERIENCE', \n",
    "          'RATIO_SALARY_TO_AMOUNT_CREDIT_MEAN_GENDER_AGE_BIN', 'EXTERNAL_SCORING_RATING_1', \n",
    "          'TOTAL_SALARY_COUNT_BY_EDUCATION', 'AMOUNT_ANNUITY_MAX_BY_EDUCATION', 'AMOUNT_CREDIT_MAX_BY_EDUCATION', \n",
    "          'RATIO_SALARY_TO_AGE', 'TOTAL_SALARY_COUNT_AGE_INTERVAL', 'AMT_REQ_CREDIT_BUREAU_QRT', \n",
    "          'SALARY_REGION_POPULATION', 'AGE_BIN', 'TOTAL_SALARY_MAX_BY_EDUCATION', 'NEW_STATUS_FMarried', \n",
    "          'RATIO_SALARY_TO_AMOUNT_CREDIT']"
   ]
  },
  {
   "cell_type": "markdown",
   "id": "2c099d3c",
   "metadata": {},
   "source": [
    "**LGBM Base model (boruta features from profile.csv)**\n",
    "\n",
    "Predictions for test are obtained by averaging CV estimators"
   ]
  },
  {
   "cell_type": "code",
   "execution_count": 6,
   "id": "c40dcf13",
   "metadata": {},
   "outputs": [
    {
     "name": "stdout",
     "output_type": "stream",
     "text": [
      "Mon Aug 29 01:18:57 2022, Cross-Validation, 110093 rows, 42 cols\n",
      "Fold 1, Train score = 0.76313, Valid score = 0.74097\n",
      "Fold 2, Train score = 0.78009, Valid score = 0.72522\n",
      "Fold 3, Train score = 0.77006, Valid score = 0.73068\n",
      "Fold 4, Train score = 0.78626, Valid score = 0.73238\n",
      "Fold 5, Train score = 0.78299, Valid score = 0.71769\n",
      "Train score by each fold: [0.76313, 0.78009, 0.77006, 0.78626, 0.78299]\n",
      "Valid score by each fold: [0.74097, 0.72522, 0.73068, 0.73238, 0.71769]\n",
      "Train mean score by each fold:0.77651 +/- 0.00861\n",
      "Valid mean score by each fold:0.72939 +/- 0.00773\n",
      "**************************************************\n",
      "OOF-score: 0.72810\n"
     ]
    }
   ],
   "source": [
    "# got 0.73211 on LB\n",
    "lgbm_params_my = {\n",
    "    'metric':\"auc\", \n",
    "    'boosting_type': 'gbdt',\n",
    "    'n_estimators': 1000,\n",
    "    'learning_rate': 0.03,\n",
    "    'num_leaves': 42,\n",
    "    'max_depth': 10,\n",
    "    'reg_alpha': 0.05,\n",
    "    'reg_lambda': 0.06,\n",
    "    'subsample': 0.8,\n",
    "    'min_child_weight': 60,\n",
    "    'random_state': seed\n",
    "}\n",
    "\n",
    "estimators_lgbm, oof_preds_lgbm = lightgbm_cross_validation(lgbm_params_my, \n",
    "                                                            X[boruta], \n",
    "                                                            y, \n",
    "                                                            cv=KFold(n_splits=5, random_state=seed, shuffle=True), \n",
    "                                                            rounds=50)"
   ]
  },
  {
   "cell_type": "code",
   "execution_count": 7,
   "id": "3deb9dd1",
   "metadata": {},
   "outputs": [
    {
     "data": {
      "text/plain": [
       "(0.7228434154984971, 0.7334154541859734)"
      ]
     },
     "execution_count": 7,
     "metadata": {},
     "output_type": "execute_result"
    }
   ],
   "source": [
    "# this is no quite fair as we used oof values for early stopping in CV loop. CI would be optimistic\n",
    "calculate_confidence_interval(create_bootstrap_metrics(y, oof_preds_lgbm, roc_auc_score))"
   ]
  },
  {
   "cell_type": "code",
   "execution_count": 8,
   "id": "839002fa",
   "metadata": {},
   "outputs": [],
   "source": [
    "test_preds = np.array([model.predict_proba(data_test[boruta])[:,1] for model in estimators_lgbm])\n",
    "# test_preds1 = pd.DataFrame({ID_COL: test_index, TARGET: test_preds.T.mean(axis=1)})\n",
    "test_preds1 = test_preds.T.mean(axis=1)"
   ]
  },
  {
   "cell_type": "markdown",
   "id": "7625b592",
   "metadata": {},
   "source": [
    "**CatBoost Base model**"
   ]
  },
  {
   "cell_type": "code",
   "execution_count": 9,
   "id": "73633b0e",
   "metadata": {},
   "outputs": [
    {
     "name": "stdout",
     "output_type": "stream",
     "text": [
      "Mon Aug 29 01:19:26 2022, Cross-Validation, 110093 rows, 42 cols\n",
      "Fold 1, Train score = 0.75819, Valid score = 0.74345\n",
      "Fold 2, Train score = 0.75763, Valid score = 0.72580\n",
      "Fold 3, Train score = 0.75460, Valid score = 0.72823\n",
      "Fold 4, Train score = 0.75738, Valid score = 0.72935\n",
      "Fold 5, Train score = 0.76206, Valid score = 0.71923\n",
      "Train score by each fold: [0.75819, 0.75763, 0.7546, 0.75738, 0.76206]\n",
      "Valid score by each fold: [0.74345, 0.7258, 0.72823, 0.72935, 0.71923]\n",
      "Train mean score by each fold:0.75797 +/- 0.00239\n",
      "Valid mean score by each fold:0.72921 +/- 0.00794\n",
      "**************************************************\n",
      "OOF-score: 0.72831\n"
     ]
    }
   ],
   "source": [
    "# 0.72989\n",
    "cat_params = {\n",
    "                'silent': True,  \n",
    "                'one_hot_max_size': 2,  \n",
    "                'iterations': 1000, \n",
    "                'eval_metric': 'AUC',  \n",
    "                'allow_writing_files': False,  \n",
    "                'random_seed': seed,  \n",
    "                #'auto_class_weights': 'SqrtBalanced',  \n",
    "                'grow_policy': 'SymmetricTree', \n",
    "                'objective': 'Logloss',  \n",
    "                'boosting_type': 'Ordered', \n",
    "                'score_function': 'Cosine',  \n",
    "                'bootstrap_type': 'MVS',  \n",
    "                'bagging_temperature': 3.68,  \n",
    "                'colsample_bylevel': 0.839,  \n",
    "                'depth': 6, \n",
    "                'l2_leaf_reg': 3,  \n",
    "                'learning_rate': 0.05, \n",
    "                'max_ctr_complexity': 2, \n",
    "                'subsample': 0.86,  \n",
    "                'max_bin': 254,  \n",
    "}\n",
    "cat_cols = [column for column in X.columns if X[column].dtype in [\"object\", \"category\"]]\n",
    "\n",
    "estimators_cat, oof_preds_cat = catboost_cross_validation(cat_params, \n",
    "                                                          X[boruta], \n",
    "                                                          y, \n",
    "                                                          cv=KFold(n_splits=5, random_state=seed, shuffle=True), \n",
    "                                                          rounds=50)"
   ]
  },
  {
   "cell_type": "code",
   "execution_count": 10,
   "id": "c851ddbf",
   "metadata": {},
   "outputs": [
    {
     "data": {
      "text/plain": [
       "(0.7230139582496385, 0.7335391322984915)"
      ]
     },
     "execution_count": 10,
     "metadata": {},
     "output_type": "execute_result"
    }
   ],
   "source": [
    "calculate_confidence_interval(create_bootstrap_metrics(y, oof_preds_cat, roc_auc_score))"
   ]
  },
  {
   "cell_type": "code",
   "execution_count": 11,
   "id": "69182603",
   "metadata": {},
   "outputs": [],
   "source": [
    "test_preds = np.array([model.predict_proba(data_test[boruta])[:,1] for model in estimators_cat])\n",
    "# test_preds2 = pd.DataFrame({ID_COL: test_index, TARGET: test_preds.T.mean(axis=1)})\n",
    "test_preds2 = test_preds.T.mean(axis=1)"
   ]
  },
  {
   "cell_type": "markdown",
   "id": "544a4a2c",
   "metadata": {},
   "source": [
    "**Add Bureau features and new models**"
   ]
  },
  {
   "cell_type": "code",
   "execution_count": 12,
   "id": "11ee8428",
   "metadata": {},
   "outputs": [
    {
     "data": {
      "text/plain": [
       "(273131, 34)"
      ]
     },
     "execution_count": 12,
     "metadata": {},
     "output_type": "execute_result"
    }
   ],
   "source": [
    "bureau = bki_cr()\n",
    "bureau.shape"
   ]
  },
  {
   "cell_type": "code",
   "execution_count": 13,
   "id": "90f08dd6",
   "metadata": {},
   "outputs": [],
   "source": [
    "X, y = data_train.drop(TARGET, axis=1), data_train[TARGET]\n",
    "X = X.merge(bureau, on=ID_COL, how='left')\n",
    "X_index = X[ID_COL]\n",
    "X = X.drop(ID_COL, axis=1)"
   ]
  },
  {
   "cell_type": "code",
   "execution_count": null,
   "id": "0ad5b1e2",
   "metadata": {},
   "outputs": [],
   "source": [
    "# select informative features with less overfitting params\n",
    "lgbm_params = {\n",
    "                'metric':\"auc\", \n",
    "                'boosting_type': 'goss',\n",
    "                'is_unbalance': True,\n",
    "                'n_estimators': 212, \n",
    "                'learning_rate': 0.01, \n",
    "                'min_child_weight': 350, \n",
    "                'min_split_gain': 0.024766,\n",
    "                'max_depth': 3,\n",
    "                'verbose': -1,\n",
    "                'reg_alpha': 30,\n",
    "                'reg_lambda': 30,\n",
    "                'colsample_bytree': 0.33,\n",
    "                'num_leaves': 42,\n",
    "                'subsample': 0.33,\n",
    "                'max_bin': 128,\n",
    "                'random_state': seed\n",
    "}\n",
    "\n",
    "selector = BorutaShap(model=LGBMClassifier(**lgbm_params), importance_measure='shap', classification=True)\n",
    "selector.fit(X, y, n_trials=20, sample=False, normalize=True, verbose=True)"
   ]
  },
  {
   "cell_type": "code",
   "execution_count": 14,
   "id": "c8dd2423",
   "metadata": {},
   "outputs": [],
   "source": [
    "boruta_bureau = ['EXTERNAL_SCORE_WEIGHTED', 'AMOUNT_ANNUITY_MAX_BY_EDUCATION', 'DAYS_ON_LAST_JOB', \n",
    "                 'AMOUNT_CREDIT_MEAN_BY_EDUCATION', 'RATIO_AMOUNT_ANNUITY_TO_SALARY', 'ANNUITY_JOB', \n",
    "                 'EXTERNAL_SCORING_RATING_2', 'AMOUNT_CREDIT', 'EXTERNAL_SCORING_RATING_3', 'AGE', 'AMOUNT_ANNUITY', \n",
    "                 'AMT_REQ_CREDIT_BUREAU_YEAR', 'RATIO_SALARY_TO_AMOUNT_CREDIT_MEAN_GENDER_AGE_BIN', 'RATIO_SALARY_TO_AGE', \n",
    "                 'EXTERNAL_SCORING_RATING_1', 'EXT_SCORE_3_ANNUITY', 'EXT_SCORE_3_AMT_CREDIT', 'RATIO_SALARY_TO_AMOUNT_CREDIT', \n",
    "                 'EXT_SCORE_2_ANNUITY', 'GENDER', 'EDUCATION_LEVEL_Higher education', 'EXT_SCORE_2_AMT_CREDIT', \n",
    "                 'TOTAL_SALARY_MEAN_AGE_INTERVAL', 'TOTAL_SALARY_MEAN_BY_EDUCATION', 'TOTAL_SALARY_MIN_BY_EDUCATION', \n",
    "                 'OWN_CAR_AGE', 'RATIO_SALARY_TO_AMOUNT_CREDIT_BY_FAMILY', 'EDUCATION_FAMILY_STATUS', 'RATIO_CREDIT_TO_AGE', \n",
    "                 'NEW_STATUS_FMarried', 'AMOUNT_CREDIT_MAX_BY_EDUCATION', 'RATIO_CAR_TO_AGE', 'CREDIT_JOB',\n",
    "                 'AMOUNT_ANNUITY_MEAN_BY_EDUCATION', 'NEW_CREDIT_TO_ANNUITY_RATIO_MEAN_GENDER_AGE_BIN', \n",
    "                 'AMOUNT_ANNUITY_MIN_BY_EDUCATION', 'RATIO_CAR_TO_EXPERIENCE', 'NEW_CREDIT_TO_ANNUITY_RATIO', \n",
    "                 'RATIO_ANNUITY_TO_AGE', 'NAME_CONTRACT_TYPE', 'RATIO_AGE_TO_EXPERIENCE', \n",
    "                 'AMOUNT_ANNUITY_MEAN_BY_FAMILY_STATUS', 'TOTAL_SALARY_MAX_BY_FAMILY_STATUS', 'SALARY_JOB', \n",
    "                 'AMOUNT_CREDIT_COUNT_BY_EDUCATION', 'AMT_REQ_CREDIT_BUREAU_QRT', 'AMOUNT_CREDIT_COUNT_AGE_INTERVAL', \n",
    "                 'TOTAL_SALARY_MAX_AGE_INTERVAL', 'TOTAL_SALARY_COUNT_AGE_INTERVAL', 'TOTAL_SALARY_MAX_BY_EDUCATION', \n",
    "                 'AMOUNT_ANNUITY_MAX_BY_FAMILY_STATUS', 'AMOUNT_CREDIT_MAX_AGE_INTERVAL', 'AGE_BIN', 'REGION_POPULATION', \n",
    "                 'TOTAL_SALARY_COUNT_BY_EDUCATION', 'BURO_CREDIT_TYPE_Consumer credit_MEAN']"
   ]
  },
  {
   "cell_type": "markdown",
   "id": "b3d581d4",
   "metadata": {},
   "source": [
    "**LGBM model 2**"
   ]
  },
  {
   "cell_type": "code",
   "execution_count": 15,
   "id": "53b2e182",
   "metadata": {},
   "outputs": [
    {
     "name": "stdout",
     "output_type": "stream",
     "text": [
      "Mon Aug 29 01:21:05 2022, Cross-Validation, 110093 rows, 56 cols\n",
      "Fold 1, Train score = 0.76725, Valid score = 0.72320\n",
      "Fold 2, Train score = 0.76841, Valid score = 0.73593\n",
      "Fold 3, Train score = 0.76600, Valid score = 0.71998\n",
      "Fold 4, Train score = 0.77442, Valid score = 0.72993\n",
      "Fold 5, Train score = 0.77007, Valid score = 0.73611\n",
      "Train score by each fold: [0.76725, 0.76841, 0.766, 0.77442, 0.77007]\n",
      "Valid score by each fold: [0.7232, 0.73593, 0.71998, 0.72993, 0.73611]\n",
      "Train mean score by each fold:0.76923 +/- 0.00292\n",
      "Valid mean score by each fold:0.72903 +/- 0.00655\n",
      "**************************************************\n",
      "OOF-score: 0.72869\n"
     ]
    }
   ],
   "source": [
    "# 0.73209\n",
    "lgbm_params_my = {\n",
    "    'metric':\"auc\", \n",
    "    'boosting_type': 'gbdt',\n",
    "    'n_estimators': 1000,\n",
    "    'learning_rate': 0.05,\n",
    "    'num_leaves': 42,\n",
    "    'max_depth': 5,\n",
    "    'reg_alpha': 0.05,\n",
    "    'reg_lambda': 0.06,\n",
    "    'subsample': 0.8,\n",
    "    'min_child_weight': 60,\n",
    "    'random_state': seed\n",
    "}\n",
    "\n",
    "estimators_lgbm2, oof_preds_lgbm2 = lightgbm_cross_validation(lgbm_params_my, \n",
    "                                                              X[boruta_bureau], \n",
    "                                                              y, \n",
    "                                                              cv=KFold(n_splits=5, random_state=seed//2, shuffle=True), \n",
    "                                                              rounds=50)"
   ]
  },
  {
   "cell_type": "code",
   "execution_count": 16,
   "id": "9f6371f0",
   "metadata": {},
   "outputs": [
    {
     "data": {
      "text/plain": [
       "(0.7233100120323647, 0.7339496113680317)"
      ]
     },
     "execution_count": 16,
     "metadata": {},
     "output_type": "execute_result"
    }
   ],
   "source": [
    "calculate_confidence_interval(create_bootstrap_metrics(y, oof_preds_lgbm2, roc_auc_score))"
   ]
  },
  {
   "cell_type": "code",
   "execution_count": 17,
   "id": "ccd7f129",
   "metadata": {},
   "outputs": [
    {
     "name": "stdout",
     "output_type": "stream",
     "text": [
      "AMean score: 0.76454\n",
      "GMean score: 0.76409\n",
      "Rank  score: 0.76389\n",
      "GMean  rank: 0.76346\n"
     ]
    }
   ],
   "source": [
    "preds = pd.DataFrame(data=np.array([model.predict_proba(X[boruta_bureau])[:,1] for model in estimators_lgbm2]).T)\n",
    "mean_scores(preds, y)\n",
    "# weights optimization do not improve LB"
   ]
  },
  {
   "cell_type": "code",
   "execution_count": 18,
   "id": "5211f2d9",
   "metadata": {},
   "outputs": [],
   "source": [
    "data_test.drop(TARGET, axis=1, inplace=True)\n",
    "data_test = data_test.merge(bureau, on=ID_COL, how='left')\n",
    "test_index = data_test[ID_COL]\n",
    "data_test.drop(ID_COL, axis=1, inplace=True)"
   ]
  },
  {
   "cell_type": "code",
   "execution_count": 19,
   "id": "ec30b99b",
   "metadata": {},
   "outputs": [],
   "source": [
    "test_preds = np.array([model.predict_proba(data_test[boruta_bureau])[:,1] for model in estimators_lgbm2])\n",
    "# test_preds3 = pd.DataFrame({ID_COL: test_index, TARGET: test_preds.T.mean(axis=1)})\n",
    "test_preds3 = test_preds.T.mean(axis=1)"
   ]
  },
  {
   "cell_type": "code",
   "execution_count": 29,
   "id": "c34219f5",
   "metadata": {},
   "outputs": [
    {
     "name": "stdout",
     "output_type": "stream",
     "text": [
      "Successfully submitted to GeekBrains Competitive Data Analysis\n"
     ]
    },
    {
     "name": "stderr",
     "output_type": "stream",
     "text": [
      "\n",
      "  0%|          | 0.00/4.90M [00:00<?, ?B/s]\n",
      "  4%|4         | 216k/4.90M [00:00<00:02, 1.65MB/s]\n",
      " 38%|###7      | 1.85M/4.90M [00:00<00:00, 3.67MB/s]\n",
      " 93%|#########2| 4.55M/4.90M [00:00<00:00, 9.04MB/s]\n",
      "100%|##########| 4.90M/4.90M [00:02<00:00, 2.34MB/s]\n"
     ]
    }
   ],
   "source": [
    "test_preds3.to_csv('submission.csv', index=False)\n",
    "#!kaggle competitions submit -c geekbrains-competitive-data-analysis -f submission.csv -m \"Message\""
   ]
  },
  {
   "cell_type": "markdown",
   "id": "7ee8f45f",
   "metadata": {},
   "source": [
    "**CatBoost model 2**"
   ]
  },
  {
   "cell_type": "code",
   "execution_count": 20,
   "id": "306bad8a",
   "metadata": {},
   "outputs": [
    {
     "name": "stdout",
     "output_type": "stream",
     "text": [
      "Mon Aug 29 01:21:37 2022, Cross-Validation, 110093 rows, 56 cols\n",
      "Fold 1, Train score = 0.77565, Valid score = 0.72249\n",
      "Fold 2, Train score = 0.78895, Valid score = 0.73915\n",
      "Fold 3, Train score = 0.77649, Valid score = 0.72203\n",
      "Fold 4, Train score = 0.77664, Valid score = 0.73224\n",
      "Fold 5, Train score = 0.76654, Valid score = 0.73775\n",
      "Train score by each fold: [0.77565, 0.78895, 0.77649, 0.77664, 0.76654]\n",
      "Valid score by each fold: [0.72249, 0.73915, 0.72203, 0.73224, 0.73775]\n",
      "Train mean score by each fold:0.77685 +/- 0.00713\n",
      "Valid mean score by each fold:0.73073 +/- 0.00729\n",
      "**************************************************\n",
      "OOF-score: 0.73043\n"
     ]
    }
   ],
   "source": [
    "# 0.73096\n",
    "cat_params2 = {\n",
    "                'silent': True,  \n",
    "                'one_hot_max_size': 2,  \n",
    "                'iterations': 2000, \n",
    "                'eval_metric': 'AUC',  \n",
    "                'allow_writing_files': False,  \n",
    "                'random_seed': seed,  \n",
    "                'grow_policy': 'SymmetricTree', \n",
    "                'objective': 'Logloss',  \n",
    "                'boosting_type': 'Ordered', \n",
    "                'score_function': 'Cosine',  \n",
    "                'bootstrap_type': 'MVS',  \n",
    "                'bagging_temperature': 3.68,  \n",
    "                'colsample_bylevel': 0.839,  \n",
    "                'depth': 8, \n",
    "                'l2_leaf_reg': 30,  \n",
    "                'learning_rate': 0.05, \n",
    "                'max_ctr_complexity': 2, \n",
    "                'subsample': 0.86,  \n",
    "                'max_bin': 254,  \n",
    "}\n",
    "cat_cols = [column for column in X.columns if X[column].dtype in [\"object\", \"category\"]]\n",
    "\n",
    "estimators_cat2, oof_preds_cat2 = catboost_cross_validation(cat_params2, \n",
    "                                                            X[boruta_bureau], \n",
    "                                                            y, \n",
    "                                                            cv=KFold(n_splits=5, random_state=seed//2, shuffle=True), \n",
    "                                                            rounds=50)"
   ]
  },
  {
   "cell_type": "code",
   "execution_count": 21,
   "id": "ef4a035f",
   "metadata": {},
   "outputs": [
    {
     "data": {
      "text/plain": [
       "(0.725024009134159, 0.7354853051903805)"
      ]
     },
     "execution_count": 21,
     "metadata": {},
     "output_type": "execute_result"
    }
   ],
   "source": [
    "calculate_confidence_interval(create_bootstrap_metrics(y, oof_preds_cat2, roc_auc_score))"
   ]
  },
  {
   "cell_type": "code",
   "execution_count": 22,
   "id": "46a22224",
   "metadata": {},
   "outputs": [],
   "source": [
    "test_preds = np.array([model.predict_proba(data_test[boruta_bureau])[:,1] for model in estimators_cat2])\n",
    "# test_preds4 = pd.DataFrame({ID_COL: test_index, TARGET: test_preds.T.mean(axis=1)})\n",
    "test_preds4 = test_preds.T.mean(axis=1)"
   ]
  },
  {
   "cell_type": "code",
   "execution_count": 51,
   "id": "b3dde0e8",
   "metadata": {},
   "outputs": [
    {
     "name": "stdout",
     "output_type": "stream",
     "text": [
      "Successfully submitted to GeekBrains Competitive Data Analysis\n"
     ]
    },
    {
     "name": "stderr",
     "output_type": "stream",
     "text": [
      "\n",
      "  0%|          | 0.00/4.90M [00:00<?, ?B/s]\n",
      "  5%|4         | 240k/4.90M [00:00<00:03, 1.55MB/s]\n",
      " 41%|####      | 2.00M/4.90M [00:00<00:00, 3.83MB/s]\n",
      "100%|##########| 4.90M/4.90M [00:02<00:00, 2.38MB/s]\n"
     ]
    }
   ],
   "source": [
    "test_preds4.to_csv('submission.csv', index=False)\n",
    "#!kaggle competitions submit -c geekbrains-competitive-data-analysis -f submission.csv -m \"Message\""
   ]
  },
  {
   "cell_type": "markdown",
   "id": "cbaa6a00",
   "metadata": {},
   "source": [
    "**Models built on permutation data**"
   ]
  },
  {
   "cell_type": "code",
   "execution_count": 23,
   "id": "50c35ac8",
   "metadata": {},
   "outputs": [
    {
     "name": "stderr",
     "output_type": "stream",
     "text": [
      "100%|████████████████████████████████████████████████████████████████████████████████| 151/151 [00:32<00:00,  4.59it/s]\n"
     ]
    }
   ],
   "source": [
    "x_train, x_test, y_train, y_test = train_test_split(X, y, test_size=0.2, random_state=seed)\n",
    "scores, deltas = calculate_permutation_importance(LGBMClassifier(**lgbm_params_my).fit(x_train, y_train), \n",
    "                                                  x_valid=x_test, \n",
    "                                                  y_valid=y_test,\n",
    "                                                  probas=True, \n",
    "                                                  metric=roc_auc_score)"
   ]
  },
  {
   "cell_type": "code",
   "execution_count": 24,
   "id": "f5217606",
   "metadata": {},
   "outputs": [],
   "source": [
    "deltas = deltas[deltas>0].index.tolist()"
   ]
  },
  {
   "cell_type": "code",
   "execution_count": 25,
   "id": "5766cf16",
   "metadata": {},
   "outputs": [
    {
     "name": "stdout",
     "output_type": "stream",
     "text": [
      "Mon Aug 29 01:26:16 2022, Cross-Validation, 110093 rows, 61 cols\n",
      "Fold 1, Train score = 0.81799, Valid score = 0.74355\n",
      "Fold 2, Train score = 0.81972, Valid score = 0.72696\n",
      "Fold 3, Train score = 0.79696, Valid score = 0.73163\n",
      "Fold 4, Train score = 0.82070, Valid score = 0.73090\n",
      "Fold 5, Train score = 0.84094, Valid score = 0.71976\n",
      "Train score by each fold: [0.81799, 0.81972, 0.79696, 0.8207, 0.84094]\n",
      "Valid score by each fold: [0.74355, 0.72696, 0.73163, 0.7309, 0.71976]\n",
      "Train mean score by each fold:0.81926 +/- 0.01394\n",
      "Valid mean score by each fold:0.73056 +/- 0.00774\n",
      "**************************************************\n",
      "OOF-score: 0.72973\n"
     ]
    }
   ],
   "source": [
    "lgbm_params_my = {\n",
    "                    'boosting_type': 'gbdt',\n",
    "                    'n_estimators': 1000,\n",
    "                    'learning_rate': 0.01,\n",
    "                    'num_leaves': 44,\n",
    "                    'max_depth': 8,\n",
    "                    'subsample_for_bin': 240000,\n",
    "                    'reg_alpha': 0.436193,\n",
    "                    'reg_lambda': 0.479169,\n",
    "                    'colsample_bytree': 0.508716,\n",
    "                    'min_split_gain': 0.024766,\n",
    "                    'subsample': 0.8,\n",
    "                    'is_unbalance': False,\n",
    "                    'random_state': seed,\n",
    "}\n",
    "\n",
    "estimators_lgbm4, oof_preds_lgbm4 = lightgbm_cross_validation(lgbm_params_my, \n",
    "                                                              X[deltas], \n",
    "                                                              y, \n",
    "                                                              cv=KFold(n_splits=5, random_state=seed, shuffle=True), \n",
    "                                                              rounds=50)"
   ]
  },
  {
   "cell_type": "code",
   "execution_count": 26,
   "id": "d5d42bc3",
   "metadata": {},
   "outputs": [
    {
     "data": {
      "text/plain": [
       "(0.7248195441139904, 0.735168760814787)"
      ]
     },
     "execution_count": 26,
     "metadata": {},
     "output_type": "execute_result"
    }
   ],
   "source": [
    "calculate_confidence_interval(create_bootstrap_metrics(y, oof_preds_lgbm4, roc_auc_score))"
   ]
  },
  {
   "cell_type": "code",
   "execution_count": 27,
   "id": "529e1b85",
   "metadata": {},
   "outputs": [],
   "source": [
    "test_preds = np.array([model.predict_proba(data_test[deltas])[:,1] for model in estimators_lgbm4])\n",
    "# test_preds7 = pd.DataFrame({ID_COL: test_index, TARGET: test_preds.T.mean(axis=1)})\n",
    "test_preds7 = test_preds.T.mean(axis=1)"
   ]
  },
  {
   "cell_type": "code",
   "execution_count": 90,
   "id": "247212b2",
   "metadata": {},
   "outputs": [
    {
     "name": "stdout",
     "output_type": "stream",
     "text": [
      "Successfully submitted to GeekBrains Competitive Data Analysis\n"
     ]
    },
    {
     "name": "stderr",
     "output_type": "stream",
     "text": [
      "\n",
      "  0%|          | 0.00/4.90M [00:00<?, ?B/s]\n",
      "  4%|4         | 224k/4.90M [00:00<00:03, 1.59MB/s]\n",
      " 45%|####4     | 2.18M/4.90M [00:00<00:00, 10.5MB/s]\n",
      " 67%|######7   | 3.29M/4.90M [00:00<00:00, 3.33MB/s]\n",
      " 81%|########1 | 3.97M/4.90M [00:01<00:00, 3.52MB/s]\n",
      " 93%|#########2| 4.54M/4.90M [00:01<00:00, 3.67MB/s]\n",
      "100%|##########| 4.90M/4.90M [00:02<00:00, 1.77MB/s]\n"
     ]
    }
   ],
   "source": [
    "test_preds7.to_csv('submission.csv', index=False) # 0.73250\n",
    "# !kaggle competitions submit -c geekbrains-competitive-data-analysis -f submission.csv -m \"Message\""
   ]
  },
  {
   "cell_type": "markdown",
   "id": "1193d142",
   "metadata": {},
   "source": [
    "**Model built on exhaustive feature selection**"
   ]
  },
  {
   "cell_type": "code",
   "execution_count": 28,
   "id": "8bbb308d",
   "metadata": {},
   "outputs": [],
   "source": [
    "exhaust = ['EXT_SCORES_mean', 'NEW_CREDIT_TO_ANNUITY_RATIO', 'ANNUITY_JOB', 'EXTERNAL_SCORING_RATING_3', 'NAME_CONTRACT_TYPE',\n",
    "           'NEW_CREDIT_TO_ANNUITY_RATIO_MEAN_GENDER_AGE_BIN', 'AMOUNT_ANNUITY', 'EXTERNAL_SCORING_RATING_2', 'AGE', \n",
    "           'AMT_REQ_CREDIT_BUREAU_QRT', 'RATIO_AMOUNT_ANNUITY_TO_SALARY', 'TOTAL_SALARY_COUNT_AGE_INTERVAL',\n",
    "           'EDUCATION_FAMILY_STATUS', 'TOTAL_SALARY_MEAN_AGE_INTERVAL', 'AMOUNT_CREDIT', 'RATIO_AGE_TO_EXPERIENCE', \n",
    "           'RATIO_CAR_TO_AGE', 'EXT_SCORES_min', 'RATIO_SALARY_TO_AMOUNT_CREDIT_BY_FAMILY', 'AMOUNT_CREDIT_MEAN_AGE_INTERVAL',\n",
    "           'AMOUNT_ANNUITY_MIN_BY_FAMILY_STATUS', 'RATIO_CREDIT_TO_AGE', 'TOTAL_SALARY_MAX_AGE_INTERVAL', \n",
    "           'NEW_STATUS_MSeparated', 'EXT_SCORE_3_ANNUITY', 'NEW_STATUS_MMarried', 'TOTAL_SALARY_MEAN_BY_EDUCATION',\n",
    "           'DELTA_SALARY_TO_MEAN_SALARY_BY_EDUCATION', 'AMT_REQ_CREDIT_BUREAU_YEAR', 'CHILDRENS', \n",
    "           'AMOUNT_CREDIT_MEAN_BY_EDUCATION', 'TOTAL_SALARY_MIN_AGE_INTERVAL', 'AMOUNT_CREDIT_MEAN_BY_FAMILY_STATUS', \n",
    "           'NEW_STATUS_MCivil marriage', 'EXT_SCORE_1_AMT_CREDIT', 'AMT_REQ_CREDIT_BUREAU_HOUR', 'GENDER',\n",
    "           'AMOUNT_ANNUITY_MEAN_BY_FAMILY_STATUS', 'EXTERNAL_SCORE_WEIGHTED', 'EXTERNAL_SCORING_RATING_1']"
   ]
  },
  {
   "cell_type": "code",
   "execution_count": 29,
   "id": "d86cc471",
   "metadata": {},
   "outputs": [
    {
     "name": "stdout",
     "output_type": "stream",
     "text": [
      "Mon Aug 29 01:27:07 2022, Cross-Validation, 110093 rows, 40 cols\n",
      "Fold 1, Train score = 0.75927, Valid score = 0.73333\n",
      "Fold 2, Train score = 0.76277, Valid score = 0.72310\n",
      "Fold 3, Train score = 0.75986, Valid score = 0.73337\n",
      "Fold 4, Train score = 0.75252, Valid score = 0.73130\n",
      "Fold 5, Train score = 0.75996, Valid score = 0.73244\n",
      "Train score by each fold: [0.75927, 0.76277, 0.75986, 0.75252, 0.75996]\n",
      "Valid score by each fold: [0.73333, 0.7231, 0.73337, 0.7313, 0.73244]\n",
      "Train mean score by each fold:0.75888 +/- 0.00340\n",
      "Valid mean score by each fold:0.73071 +/- 0.00388\n",
      "**************************************************\n",
      "OOF-score: 0.73011\n"
     ]
    }
   ],
   "source": [
    "lgbm_params_my = {\n",
    "    'metric':\"auc\", \n",
    "    'boosting_type': 'gbdt',\n",
    "    'n_estimators': 1000,\n",
    "    'learning_rate': 0.035,\n",
    "    'num_leaves': 12,\n",
    "    'max_depth': 12,\n",
    "    'reg_alpha': 0.05,\n",
    "    'reg_lambda': 0.06,\n",
    "    'subsample': 0.8,\n",
    "    'min_child_weight': 56,\n",
    "    'random_state': seed\n",
    "}\n",
    "\n",
    "estimators_lgbm3, oof_preds_lgbm3 = lightgbm_cross_validation(lgbm_params_my, \n",
    "                                                              X[exhaust], \n",
    "                                                              y, \n",
    "                                                              cv=KFold(n_splits=5, random_state=seed//3, shuffle=True), \n",
    "                                                              rounds=50)"
   ]
  },
  {
   "cell_type": "code",
   "execution_count": 30,
   "id": "4be0be35",
   "metadata": {},
   "outputs": [
    {
     "data": {
      "text/plain": [
       "(0.7250045614988524, 0.7355482310519273)"
      ]
     },
     "execution_count": 30,
     "metadata": {},
     "output_type": "execute_result"
    }
   ],
   "source": [
    "calculate_confidence_interval(create_bootstrap_metrics(y, oof_preds_lgbm3, roc_auc_score))"
   ]
  },
  {
   "cell_type": "code",
   "execution_count": 31,
   "id": "c551133a",
   "metadata": {},
   "outputs": [],
   "source": [
    "test_preds = np.array([model.predict_proba(data_test[exhaust])[:,1] for model in estimators_lgbm3])\n",
    "# test_preds5 = pd.DataFrame({ID_COL: test_index, TARGET: test_preds.T.mean(axis=1)})\n",
    "test_preds5 = test_preds.T.mean(axis=1)"
   ]
  },
  {
   "cell_type": "code",
   "execution_count": 198,
   "id": "f63cbc5b",
   "metadata": {},
   "outputs": [
    {
     "name": "stdout",
     "output_type": "stream",
     "text": [
      "Successfully submitted to GeekBrains Competitive Data Analysis\n"
     ]
    },
    {
     "name": "stderr",
     "output_type": "stream",
     "text": [
      "\n",
      "  0%|          | 0.00/4.90M [00:00<?, ?B/s]\n",
      "  4%|4         | 208k/4.90M [00:00<00:03, 1.49MB/s]\n",
      " 41%|####1     | 2.02M/4.90M [00:00<00:01, 2.74MB/s]\n",
      "100%|##########| 4.90M/4.90M [00:02<00:00, 2.29MB/s]\n"
     ]
    }
   ],
   "source": [
    "test_preds5.to_csv('submission.csv', index=False) # 0.73197\n",
    "# !kaggle competitions submit -c geekbrains-competitive-data-analysis -f submission.csv -m \"Message\""
   ]
  },
  {
   "cell_type": "markdown",
   "id": "4966e422",
   "metadata": {},
   "source": [
    "**CatBoost**"
   ]
  },
  {
   "cell_type": "code",
   "execution_count": 32,
   "id": "93dcc023",
   "metadata": {},
   "outputs": [
    {
     "name": "stdout",
     "output_type": "stream",
     "text": [
      "Mon Aug 29 01:27:38 2022, Cross-Validation, 110093 rows, 40 cols\n",
      "Fold 1, Train score = 0.76307, Valid score = 0.73005\n",
      "Fold 2, Train score = 0.77400, Valid score = 0.72514\n",
      "Fold 3, Train score = 0.76700, Valid score = 0.73300\n",
      "Fold 4, Train score = 0.77475, Valid score = 0.73151\n",
      "Fold 5, Train score = 0.76443, Valid score = 0.73446\n",
      "Train score by each fold: [0.76307, 0.774, 0.767, 0.77475, 0.76443]\n",
      "Valid score by each fold: [0.73005, 0.72514, 0.733, 0.73151, 0.73446]\n",
      "Train mean score by each fold:0.76865 +/- 0.00485\n",
      "Valid mean score by each fold:0.73083 +/- 0.00320\n",
      "**************************************************\n",
      "OOF-score: 0.73047\n"
     ]
    }
   ],
   "source": [
    "cat_params = {\n",
    "                'silent': True,  \n",
    "                'one_hot_max_size': 2,  \n",
    "                'iterations': 1000, \n",
    "                'eval_metric': 'AUC',  \n",
    "                'allow_writing_files': False,  \n",
    "                'random_seed': seed,  \n",
    "                #'auto_class_weights': 'SqrtBalanced',  \n",
    "                'grow_policy': 'Lossguide', \n",
    "                'objective': 'Logloss',  \n",
    "                'boosting_type': 'Plain', \n",
    "                'score_function': 'Cosine',  \n",
    "                'bootstrap_type': 'MVS',  \n",
    "                'bagging_temperature': 3.68,  \n",
    "                'colsample_bylevel': 0.9,  \n",
    "                'depth': 4, \n",
    "                'l2_leaf_reg': 3,  \n",
    "                'learning_rate': 0.05, \n",
    "                'max_ctr_complexity': 2, \n",
    "                'subsample': 0.86,  \n",
    "                'max_bin': 254,\n",
    "                'num_leaves': 32\n",
    "}\n",
    "\n",
    "estimators_cat3, oof_preds_cat3 = catboost_cross_validation(cat_params, \n",
    "                                                            X[exhaust], \n",
    "                                                            y, \n",
    "                                                            cv=KFold(n_splits=5, random_state=seed%5, shuffle=True), \n",
    "                                                            rounds=50)"
   ]
  },
  {
   "cell_type": "code",
   "execution_count": 33,
   "id": "4a6d448b",
   "metadata": {},
   "outputs": [
    {
     "data": {
      "text/plain": [
       "(0.7252068965100898, 0.7355778761126314)"
      ]
     },
     "execution_count": 33,
     "metadata": {},
     "output_type": "execute_result"
    }
   ],
   "source": [
    "calculate_confidence_interval(create_bootstrap_metrics(y, oof_preds_cat3, roc_auc_score))"
   ]
  },
  {
   "cell_type": "code",
   "execution_count": 34,
   "id": "30e5db11",
   "metadata": {},
   "outputs": [],
   "source": [
    "test_preds = np.array([model.predict_proba(data_test[exhaust])[:,1] for model in estimators_cat3])\n",
    "# test_preds6 = pd.DataFrame({ID_COL: test_index, TARGET: test_preds.T.mean(axis=1)})\n",
    "test_preds6 = test_preds.T.mean(axis=1)"
   ]
  },
  {
   "cell_type": "code",
   "execution_count": 227,
   "id": "249b52da",
   "metadata": {},
   "outputs": [
    {
     "name": "stdout",
     "output_type": "stream",
     "text": [
      "Successfully submitted to GeekBrains Competitive Data Analysis\n"
     ]
    },
    {
     "name": "stderr",
     "output_type": "stream",
     "text": [
      "\n",
      "  0%|          | 0.00/4.87M [00:00<?, ?B/s]\n",
      "  4%|4         | 208k/4.87M [00:00<00:03, 1.45MB/s]\n",
      " 38%|###8      | 1.88M/4.87M [00:00<00:00, 3.61MB/s]\n",
      " 96%|#########5| 4.66M/4.87M [00:00<00:00, 8.91MB/s]\n",
      "100%|##########| 4.87M/4.87M [00:02<00:00, 2.38MB/s]\n"
     ]
    }
   ],
   "source": [
    "test_preds6.to_csv('submission.csv', index=False) # 0.73229\n",
    "# !kaggle competitions submit -c geekbrains-competitive-data-analysis -f submission.csv -m \"Message\""
   ]
  },
  {
   "cell_type": "markdown",
   "id": "2025e179",
   "metadata": {},
   "source": [
    "### Add history data"
   ]
  },
  {
   "cell_type": "code",
   "execution_count": 57,
   "id": "b1e1e458",
   "metadata": {},
   "outputs": [
    {
     "name": "stdout",
     "output_type": "stream",
     "text": [
      "Final shapes: (110093, 172) (165141, 172)\n"
     ]
    }
   ],
   "source": [
    "history_train, target, history_test = prepare_history()"
   ]
  },
  {
   "cell_type": "code",
   "execution_count": 58,
   "id": "501150b1",
   "metadata": {},
   "outputs": [],
   "source": [
    "hist_importance = calculate_feature_separating_ability(history_train, target)"
   ]
  },
  {
   "cell_type": "code",
   "execution_count": 61,
   "id": "acfbf868",
   "metadata": {},
   "outputs": [],
   "source": [
    "history_features = hist_importance[hist_importance > 0.005].index.tolist()"
   ]
  },
  {
   "cell_type": "code",
   "execution_count": 63,
   "id": "96d32a3d",
   "metadata": {},
   "outputs": [],
   "source": [
    "history_train = history_train[history_features + [ID_COL]]\n",
    "history_test = history_test[history_features + [ID_COL]]"
   ]
  },
  {
   "cell_type": "code",
   "execution_count": null,
   "id": "e5413d8c",
   "metadata": {},
   "outputs": [],
   "source": [
    "# restart prepare profile"
   ]
  },
  {
   "cell_type": "code",
   "execution_count": 103,
   "id": "7d84a67f",
   "metadata": {},
   "outputs": [],
   "source": [
    "X, y = data_train.drop(TARGET, axis=1), data_train[TARGET]\n",
    "X = X.merge(bureau, on=ID_COL, how='left')\n",
    "X = X.merge(history_train, on=ID_COL, how='left')\n",
    "X_index = X[ID_COL]\n",
    "X = X.drop(ID_COL, axis=1)"
   ]
  },
  {
   "cell_type": "code",
   "execution_count": 104,
   "id": "e51fddec",
   "metadata": {},
   "outputs": [],
   "source": [
    "data_test = data_test.merge(bureau, on=ID_COL, how='left')\n",
    "data_test = data_test.merge(history_test, on=ID_COL, how='left')\n",
    "test_index = data_test[ID_COL]\n",
    "data_test.drop(ID_COL, axis=1, inplace=True)"
   ]
  },
  {
   "cell_type": "code",
   "execution_count": null,
   "id": "dca318b6",
   "metadata": {},
   "outputs": [],
   "source": [
    "selector = BorutaShap(model=LGBMClassifier(**lgbm_params), importance_measure='shap', classification=True)\n",
    "selector.fit(X, y, n_trials=20, sample=False, normalize=True, verbose=True)"
   ]
  },
  {
   "cell_type": "code",
   "execution_count": 107,
   "id": "04e586be",
   "metadata": {},
   "outputs": [],
   "source": [
    "total_boruta = ['EXTERNAL_SCORING_RATING_2', 'EXT_SCORE_1_AMT_CREDIT', 'TOTAL_SALARY_MEAN_BY_EDUCATION', \n",
    "                'AMOUNT_CREDIT_MAX_AGE_INTERVAL', 'CREDIT_JOB', 'AMOUNT_ANNUITY_MAX_BY_EDUCATION', 'EXT_SCORES_max',\n",
    "                'AMOUNT_CREDIT_MAX_BY_EDUCATION', 'RATIO_SALARY_TO_AMOUNT_CREDIT_MEAN_GENDER_AGE_BIN', \n",
    "                'NEW_CREDIT_TO_ANNUITY_RATIO', 'EXT_SCORE_1_ANNUITY', 'OWN_CAR_AGE', 'EXT_SCORES_nanmedian', \n",
    "                'RATIO_CREDIT_TO_AGE', 'EXT_SCORE_3_AMT_CREDIT', 'EXT_SCORES_var', 'EXTERNAL_SCORING_RATING_3', \n",
    "                'TOTAL_SALARY_MEAN_AGE_INTERVAL', 'EXT_SCORES_min', 'RATIO_SALARY_TO_AGE', 'RATIO_CAR_TO_AGE', \n",
    "                'EXT_SCORE_2_AMT_CREDIT', 'AMOUNT_ANNUITY', 'NAME_CONTRACT_TYPE', 'EDUCATION_LEVEL_Higher education', \n",
    "                'RATIO_AMOUNT_ANNUITY_TO_SALARY', 'EXTERNAL_SCORE_WEIGHTED', 'AMOUNT_CREDIT', 'DAYS_ON_LAST_JOB', \n",
    "                'NEW_STATUS_FMarried', 'RATIO_CAR_TO_EXPERIENCE', 'RATIO_ANNUITY_TO_AGE', 'TOTAL_SALARY_MIN_BY_EDUCATION', \n",
    "                'AMOUNT_ANNUITY_MEAN_BY_EDUCATION', 'EXTERNAL_SCORING_RATING_1', 'GENDER', 'AMOUNT_CREDIT_MEAN_BY_EDUCATION', \n",
    "                'EXT_SCORE_3_ANNUITY', 'ANNUITY_JOB', 'NEW_CREDIT_TO_ANNUITY_RATIO_MEAN_GENDER_AGE_BIN', \n",
    "                'RATIO_AGE_TO_EXPERIENCE', 'SALARY_JOB', 'AGE', 'EXT_SCORES_mean', 'AMT_REQ_CREDIT_BUREAU_YEAR', 'AGE_BIN', \n",
    "                'EDUCATION_FAMILY_STATUS', 'RATIO_SALARY_TO_AMOUNT_CREDIT_BY_FAMILY', 'AMOUNT_CREDIT_COUNT_BY_EDUCATION', \n",
    "                'SALARY_REGION_POPULATION', 'TOTAL_SALARY_COUNT_AGE_INTERVAL', 'TOTAL_SALARY_COUNT_BY_FAMILY_STATUS', \n",
    "                'TOTAL_SALARY_MAX_AGE_INTERVAL', 'TOTAL_SALARY_MAX_BY_FAMILY_STATUS', 'AMOUNT_CREDIT_COUNT_BY_FAMILY_STATUS',\n",
    "                'AMOUNT_CREDIT_COUNT_AGE_INTERVAL', 'TOTAL_SALARY_COUNT_BY_EDUCATION', 'RATIO_SALARY_TO_AMOUNT_CREDIT', \n",
    "                'EXT_SCORE_2_ANNUITY', 'AMOUNT_ANNUITY_MIN_BY_EDUCATION', 'AMT_REQ_CREDIT_BUREAU_QRT', \n",
    "                'AMT_REQ_CREDIT_BUREAU_WEEK', 'REGION_POPULATION']\n",
    "\n",
    "total_boruta2 = total_boruta + history_features"
   ]
  },
  {
   "cell_type": "code",
   "execution_count": 120,
   "id": "f3367335",
   "metadata": {},
   "outputs": [
    {
     "name": "stdout",
     "output_type": "stream",
     "text": [
      "Sat Aug 27 22:52:32 2022, Cross-Validation, 110093 rows, 63 cols\n",
      "Fold 1, Train score = 0.76534, Valid score = 0.73181\n",
      "Fold 2, Train score = 0.77584, Valid score = 0.72142\n",
      "Fold 3, Train score = 0.77393, Valid score = 0.73361\n",
      "Fold 4, Train score = 0.77253, Valid score = 0.73284\n",
      "Fold 5, Train score = 0.76557, Valid score = 0.73244\n",
      "Train score by each fold: [0.76534, 0.77584, 0.77393, 0.77253, 0.76557]\n",
      "Valid score by each fold: [0.73181, 0.72142, 0.73361, 0.73284, 0.73244]\n",
      "Train mean score by each fold:0.77064 +/- 0.00436\n",
      "Valid mean score by each fold:0.73042 +/- 0.00454\n",
      "**************************************************\n",
      "OOF-score: 0.72972\n"
     ]
    }
   ],
   "source": [
    "lgbm_params_my = {\n",
    "    'metric':\"auc\", \n",
    "    'boosting_type': 'gbdt',\n",
    "    'n_estimators': 1000,\n",
    "    'learning_rate': 0.045,\n",
    "    'num_leaves': 12,\n",
    "    'max_depth': 10,\n",
    "    'reg_alpha': 0.05,\n",
    "    'reg_lambda': 0.06,\n",
    "    'subsample': 0.8,\n",
    "    'min_child_weight': 20,\n",
    "    'random_state': seed\n",
    "}\n",
    "\n",
    "estimators_lgbm5, oof_preds_lgbm5 = lightgbm_cross_validation(lgbm_params_my, \n",
    "                                                              X[total_boruta], \n",
    "                                                              y, \n",
    "                                                              cv=KFold(n_splits=5, random_state=seed//3, shuffle=True), \n",
    "                                                              rounds=50)"
   ]
  },
  {
   "cell_type": "markdown",
   "id": "5278c929",
   "metadata": {},
   "source": [
    "**Combining oof predictions**"
   ]
  },
  {
   "cell_type": "code",
   "execution_count": 76,
   "id": "3a96d7ca",
   "metadata": {},
   "outputs": [],
   "source": [
    "oof_predictions = pd.DataFrame(data={'m1': oof_preds_lgbm, 'm2': oof_preds_cat, 'm3': oof_preds_lgbm2, 'm4': oof_preds_cat2,\n",
    "                                     'm5': oof_preds_lgbm3, 'm6': oof_preds_cat3, 'm7': oof_preds_lgbm4})"
   ]
  },
  {
   "cell_type": "code",
   "execution_count": 77,
   "id": "7dc5664c",
   "metadata": {},
   "outputs": [],
   "source": [
    "test_probs = pd.DataFrame(data={'m1': test_preds1, 'm2': test_preds2, 'm3': test_preds3, 'm4': test_preds4,\n",
    "                                'm5': test_preds5, 'm6': test_preds6, 'm7': test_preds7})"
   ]
  },
  {
   "cell_type": "code",
   "execution_count": 37,
   "id": "8ddee555",
   "metadata": {},
   "outputs": [
    {
     "data": {
      "image/png": "[encoded data removed]",
      "text/plain": [
       "<Figure size 720x720 with 2 Axes>"
      ]
     },
     "metadata": {
      "needs_background": "light"
     },
     "output_type": "display_data"
    }
   ],
   "source": [
    "corr = oof_predictions.corr()\n",
    "mask = np.zeros_like(corr, dtype=np.bool)\n",
    "mask[np.triu_indices_from(mask)] = True\n",
    "\n",
    "fig, axes = plt.subplots(1, 1, figsize=(10, 10))\n",
    "sns.heatmap(corr, mask=mask, annot=True, fmt=\".4g\", square=True, cmap=\"viridis\", ax=axes)\n",
    "plt.show()"
   ]
  },
  {
   "cell_type": "code",
   "execution_count": 38,
   "id": "38f976cb",
   "metadata": {},
   "outputs": [
    {
     "data": {
      "image/png": "[encoded data removed]",
      "text/plain": [
       "<Figure size 720x720 with 2 Axes>"
      ]
     },
     "metadata": {
      "needs_background": "light"
     },
     "output_type": "display_data"
    }
   ],
   "source": [
    "corr = test_probs.corr()\n",
    "mask = np.zeros_like(corr, dtype=np.bool)\n",
    "mask[np.triu_indices_from(mask)] = True\n",
    "\n",
    "fig, axes = plt.subplots(1, 1, figsize=(10, 10))\n",
    "sns.heatmap(corr, mask=mask, annot=True, fmt=\".4g\", square=True, cmap=\"viridis\", ax=axes)\n",
    "plt.show()"
   ]
  },
  {
   "cell_type": "code",
   "execution_count": 72,
   "id": "cda86ec5",
   "metadata": {},
   "outputs": [
    {
     "name": "stdout",
     "output_type": "stream",
     "text": [
      "AMean score: 0.73233\n",
      "GMean score: 0.73236\n",
      "Rank  score: 0.73243\n",
      "GMean  rank: 0.73243\n"
     ]
    }
   ],
   "source": [
    "mean_scores(oof_predictions, y)"
   ]
  },
  {
   "cell_type": "code",
   "execution_count": 40,
   "id": "0ee8484c",
   "metadata": {},
   "outputs": [
    {
     "name": "stdout",
     "output_type": "stream",
     "text": [
      "Fold 1, Train score: 0.73061, Valid score = 0.74871\n",
      "Fold 2, Train score: 0.73137, Valid score = 0.74279\n",
      "Fold 3, Train score: 0.73269, Valid score = 0.72872\n",
      "Fold 4, Train score: 0.73300, Valid score = 0.72740\n",
      "Fold 5, Train score: 0.73172, Valid score = 0.73742\n",
      "Fold 6, Train score: 0.73284, Valid score = 0.72975\n",
      "Fold 7, Train score: 0.73145, Valid score = 0.74154\n",
      "Fold 8, Train score: 0.73280, Valid score = 0.72821\n",
      "Fold 9, Train score: 0.73315, Valid score = 0.72579\n",
      "Fold 10, Train score: 0.73424, Valid score = 0.71511\n",
      "Train score by each fold: [0.73061, 0.73137, 0.73269, 0.733, 0.73172, 0.73284, 0.73145, 0.7328, 0.73315, 0.73424]\n",
      "Valid score by each fold: [0.74871, 0.74279, 0.72872, 0.7274, 0.73742, 0.72975, 0.74154, 0.72821, 0.72579, 0.71511]\n",
      "Train mean score by each fold:0.73239 +/- 0.00102\n",
      "Valid mean score by each fold:0.73254 +/- 0.00942\n",
      "**************************************************\n"
     ]
    }
   ],
   "source": [
    "lda = LinearDiscriminantAnalysis(\n",
    "                                 solver='eigen',  # lsqr: same LB score\n",
    "                                 shrinkage='auto',\n",
    "                                 store_covariance=True,\n",
    "                                 n_components=1\n",
    "                                )\n",
    "\n",
    "estimators_lda, oof_preds_lda, mean_score = cross_validation(model=lda,\n",
    "                                                             X=oof_predictions,\n",
    "                                                             y=y,\n",
    "                                                             cv=KFold(n_splits=10, shuffle=True, random_state=seed))"
   ]
  },
  {
   "cell_type": "code",
   "execution_count": 89,
   "id": "cad3eb59",
   "metadata": {},
   "outputs": [],
   "source": [
    "test_fin = np.array([estimator.predict_proba(test_probs)[:,1] for estimator in estimators_lda]).T\n",
    "test_fin = pd.DataFrame(data=test_fin)\n",
    "#test_fin = np.average(test_fin, axis=1)\n",
    "test_fin = stats.gmean(test_fin, axis=1)"
   ]
  },
  {
   "cell_type": "code",
   "execution_count": 90,
   "id": "aaae7ad8",
   "metadata": {},
   "outputs": [
    {
     "name": "stdout",
     "output_type": "stream",
     "text": [
      "Successfully submitted to GeekBrains Competitive Data Analysis\n"
     ]
    },
    {
     "name": "stderr",
     "output_type": "stream",
     "text": [
      "\n",
      "  0%|          | 0.00/4.91M [00:00<?, ?B/s]\n",
      "  4%|4         | 216k/4.91M [00:00<00:03, 1.38MB/s]\n",
      " 25%|##5       | 1.23M/4.91M [00:00<00:00, 5.53MB/s]\n",
      " 38%|###7      | 1.84M/4.91M [00:00<00:01, 3.07MB/s]\n",
      " 66%|######5   | 3.23M/4.91M [00:00<00:00, 5.54MB/s]\n",
      " 99%|#########9| 4.88M/4.91M [00:00<00:00, 8.20MB/s]\n",
      "100%|##########| 4.91M/4.91M [00:02<00:00, 2.46MB/s]\n"
     ]
    }
   ],
   "source": [
    "# 0.73420 on 7 models\n",
    "fin_sub = pd.DataFrame({ID_COL: test_index, TARGET: test_fin})\n",
    "fin_sub.to_csv('submission.csv', index=False)\n",
    "!kaggle competitions submit -c geekbrains-competitive-data-analysis -f submission.csv -m \"Message\""
   ]
  },
  {
   "cell_type": "code",
   "execution_count": 47,
   "id": "2ec65eab",
   "metadata": {},
   "outputs": [
    {
     "name": "stdout",
     "output_type": "stream",
     "text": [
      "Successfully submitted to GeekBrains Competitive Data Analysis\n"
     ]
    },
    {
     "name": "stderr",
     "output_type": "stream",
     "text": [
      "\n",
      "  0%|          | 0.00/4.90M [00:00<?, ?B/s]\n",
      "  4%|4         | 216k/4.90M [00:00<00:03, 1.29MB/s]\n",
      " 40%|###9      | 1.95M/4.90M [00:00<00:00, 8.58MB/s]\n",
      " 60%|#####9    | 2.92M/4.90M [00:00<00:00, 4.27MB/s]\n",
      " 74%|#######3  | 3.61M/4.90M [00:00<00:00, 4.86MB/s]\n",
      "100%|##########| 4.90M/4.90M [00:02<00:00, 1.89MB/s]\n"
     ]
    }
   ],
   "source": [
    "# 0.73393: on 7 models\n",
    "test_fin = stats.gmean(test_probs, axis=1)\n",
    "fin_sub = pd.DataFrame({ID_COL: test_index, TARGET: test_fin})\n",
    "fin_sub.to_csv('submission.csv', index=False)\n",
    "!kaggle competitions submit -c geekbrains-competitive-data-analysis -f submission.csv -m \"Message\""
   ]
  },
  {
   "cell_type": "code",
   "execution_count": 42,
   "id": "789090ac",
   "metadata": {},
   "outputs": [],
   "source": [
    "oof_total_scores = stats.gmean(oof_predictions, axis=1)\n",
    "stability = create_bootstrap_metrics(y, oof_total_scores, roc_auc_score)"
   ]
  },
  {
   "cell_type": "code",
   "execution_count": 43,
   "id": "dd67a650",
   "metadata": {},
   "outputs": [
    {
     "data": {
      "image/png": "[encoded data removed]",
      "text/plain": [
       "<Figure size 1080x360 with 2 Axes>"
      ]
     },
     "metadata": {
      "needs_background": "light"
     },
     "output_type": "display_data"
    }
   ],
   "source": [
    "fig, axes = plt.subplots(1, 2, figsize=(15, 5))\n",
    "plt.suptitle(\"Bootstrap for evaluating validation stability\", size=15)\n",
    "axes[1].scatter(range(len(stability)), stability, alpha=0.25, color=\"blue\")\n",
    "axes[1].set_xlabel(\"Number of samples\", size=15)\n",
    "axes[1].set_ylabel(\"$F_1$ score\", size=15)\n",
    "distribution = \"Normal\" if stats.shapiro(stability)[1] >= 0.05 else \"Not normal\"\n",
    "\n",
    "axes[0].axvline(np.mean(stability), lw=2, ls='--', c='red')\n",
    "axes[1].axhline(np.mean(stability), lw=2, ls='--', c='red')\n",
    "sns.histplot(stability, ax=axes[0], color=\"green\", bins=20, kde=True)\n",
    "axes[0].set_xlabel(f\"Number of samples, distribution: {distribution}\", size=15)\n",
    "plt.show()"
   ]
  },
  {
   "cell_type": "code",
   "execution_count": 46,
   "id": "230215c9",
   "metadata": {},
   "outputs": [
    {
     "name": "stdout",
     "output_type": "stream",
     "text": [
      "\n",
      "Optimized weights:\n",
      "Best score: 0.7328\n"
     ]
    }
   ],
   "source": [
    "# optimization with gmean: 0.73348\n",
    "\n",
    "results_list = []   \n",
    "weights_list = []  \n",
    "preds = oof_predictions.values\n",
    "\n",
    "def weights_objective(weights):\n",
    "    # y_ens = np.average(preds, axis=1, weights=weights)\n",
    "    y_ens = stats.gmean(preds, axis=1, weights=weights)\n",
    "    return roc_auc_score(y, y_ens)\n",
    "\n",
    "for k in range(100):\n",
    "  \n",
    "    w0 = np.random.uniform(size=preds.shape[1])\n",
    "    bounds = [(0,1)] * preds.shape[1]\n",
    "\n",
    "    cons = [{'type': 'eq',\n",
    "             'fun': lambda w: w.sum() - 1}]\n",
    "\n",
    "    res = minimize(weights_objective,\n",
    "                   w0,\n",
    "                   method='SLSQP',\n",
    "                   bounds=bounds,\n",
    "                   options={'disp':False, 'maxiter':10000},\n",
    "                   constraints=cons)\n",
    "\n",
    "    results_list.append(res.fun)\n",
    "    weights_list.append(res.x)\n",
    "\n",
    "best_score = np.max(results_list)    \n",
    "best_weights = weights_list[results_list.index(best_score)]\n",
    "\n",
    "print('\\nOptimized weights:')\n",
    "print('Best score: {:.4f}'.format(best_score))  # 0.73395 with gmean on test_scores"
   ]
  },
  {
   "cell_type": "code",
   "execution_count": 48,
   "id": "d5cfb0b6",
   "metadata": {},
   "outputs": [
    {
     "name": "stdout",
     "output_type": "stream",
     "text": [
      "Fold 1, Train score: 0.73055, Valid score = 0.74906\n",
      "Fold 2, Train score: 0.73120, Valid score = 0.74344\n",
      "Fold 3, Train score: 0.73252, Valid score = 0.73039\n",
      "Fold 4, Train score: 0.73294, Valid score = 0.72688\n",
      "Fold 5, Train score: 0.73176, Valid score = 0.73674\n",
      "Fold 6, Train score: 0.73274, Valid score = 0.72926\n",
      "Fold 7, Train score: 0.73132, Valid score = 0.74129\n",
      "Fold 8, Train score: 0.73270, Valid score = 0.72867\n",
      "Fold 9, Train score: 0.73295, Valid score = 0.72647\n",
      "Fold 10, Train score: 0.73417, Valid score = 0.71613\n",
      "Train score by each fold: [0.73055, 0.7312, 0.73252, 0.73294, 0.73176, 0.73274, 0.73132, 0.7327, 0.73295, 0.73417]\n",
      "Valid score by each fold: [0.74906, 0.74344, 0.73039, 0.72688, 0.73674, 0.72926, 0.74129, 0.72867, 0.72647, 0.71613]\n",
      "Train mean score by each fold:0.73228 +/- 0.00101\n",
      "Valid mean score by each fold:0.73283 +/- 0.00924\n",
      "**************************************************\n"
     ]
    }
   ],
   "source": [
    "from sklearn.linear_model import LogisticRegression\n",
    "from sklearn.pipeline import make_pipeline\n",
    "from sklearn.decomposition import PCA\n",
    "\n",
    "logreg = LogisticRegression(class_weight=None, \n",
    "                            solver='liblinear', \n",
    "                            penalty='l2', \n",
    "                            C=0.1, \n",
    "                            random_state=seed,\n",
    "                            n_jobs=-1)\n",
    "\n",
    "pipe = make_pipeline(PCA(n_components=6, random_state=seed), logreg)\n",
    "\n",
    "estimators_log, oof_preds_log, mean_score_log = cross_validation(model=pipe,\n",
    "                                                                 X=oof_predictions,\n",
    "                                                                 y=y,\n",
    "                                                                 cv=KFold(n_splits=10, shuffle=True, random_state=seed))"
   ]
  },
  {
   "cell_type": "code",
   "execution_count": 49,
   "id": "b262727d",
   "metadata": {},
   "outputs": [],
   "source": [
    "test_fin = np.array([estimator.predict_proba(test_probs)[:,1] for estimator in estimators_log]).T\n",
    "test_fin = pd.DataFrame(data=test_fin)\n",
    "test_fin = np.average(test_fin, axis=1)"
   ]
  },
  {
   "cell_type": "code",
   "execution_count": 50,
   "id": "ff5fc0d6",
   "metadata": {},
   "outputs": [
    {
     "name": "stdout",
     "output_type": "stream",
     "text": [
      "Successfully submitted to GeekBrains Competitive Data Analysis"
     ]
    },
    {
     "name": "stderr",
     "output_type": "stream",
     "text": [
      "\n",
      "  0%|          | 0.00/4.89M [00:00<?, ?B/s]\n",
      "  4%|4         | 208k/4.89M [00:00<00:03, 1.50MB/s]\n",
      " 34%|###4      | 1.68M/4.89M [00:00<00:00, 7.94MB/s]\n",
      " 51%|#####1    | 2.50M/4.89M [00:00<00:00, 3.86MB/s]\n",
      " 80%|#######9  | 3.91M/4.89M [00:00<00:00, 6.05MB/s]\n",
      "100%|##########| 4.89M/4.89M [00:02<00:00, 2.33MB/s]\n"
     ]
    },
    {
     "name": "stdout",
     "output_type": "stream",
     "text": [
      "\n"
     ]
    }
   ],
   "source": [
    "fin_sub = pd.DataFrame({ID_COL: test_index, TARGET: test_fin})  # 0.73397 on LB\n",
    "fin_sub.to_csv('submission.csv', index=False)\n",
    "!kaggle competitions submit -c geekbrains-competitive-data-analysis -f submission.csv -m \"Message\""
   ]
  },
  {
   "cell_type": "markdown",
   "id": "38038e83",
   "metadata": {},
   "source": [
    "**Merge part 1 and part 2**"
   ]
  },
  {
   "cell_type": "code",
   "execution_count": 57,
   "id": "a422836d",
   "metadata": {},
   "outputs": [],
   "source": [
    "nonzero = pd.read_csv('nonzero.csv')\n",
    "fin_sub = pd.DataFrame({ID_COL: test_index, TARGET: test_fin})"
   ]
  },
  {
   "cell_type": "code",
   "execution_count": 58,
   "id": "7419563d",
   "metadata": {},
   "outputs": [],
   "source": [
    "fin_sub = fin_sub.merge(nonzero, on=ID_COL, how='left')"
   ]
  },
  {
   "cell_type": "code",
   "execution_count": 59,
   "id": "7fe7382c",
   "metadata": {},
   "outputs": [],
   "source": [
    "# fin_sub[TARGET] = np.where(fin_sub['TARGET_y'].isna(), fin_sub['TARGET_x'], fin_sub['TARGET_y'])  # 0.73289\n",
    "\n",
    "fin_sub[TARGET] = (fin_sub['TARGET_x'] * fin_sub['TARGET_y'])**(1/2)  # 0.73371\n",
    "fin_sub.loc[fin_sub[TARGET].isna(), TARGET] = fin_sub.loc[fin_sub[TARGET].isna(), 'TARGET_x']"
   ]
  },
  {
   "cell_type": "code",
   "execution_count": 60,
   "id": "67fb545c",
   "metadata": {},
   "outputs": [],
   "source": [
    "fin_sub.drop(['TARGET_y', 'TARGET_x'], axis=1, inplace=True)"
   ]
  },
  {
   "cell_type": "code",
   "execution_count": 61,
   "id": "a13039b8",
   "metadata": {},
   "outputs": [
    {
     "name": "stdout",
     "output_type": "stream",
     "text": [
      "Successfully submitted to GeekBrains Competitive Data Analysis\n"
     ]
    },
    {
     "name": "stderr",
     "output_type": "stream",
     "text": [
      "\n",
      "  0%|          | 0.00/4.74M [00:00<?, ?B/s]\n",
      "  4%|4         | 208k/4.74M [00:00<00:03, 1.23MB/s]\n",
      "  7%|6         | 336k/4.74M [00:00<00:08, 538kB/s] \n",
      " 13%|#2        | 624k/4.74M [00:00<00:04, 1.05MB/s]\n",
      " 20%|##        | 992k/4.74M [00:00<00:02, 1.67MB/s]\n",
      " 28%|##7       | 1.31M/4.74M [00:00<00:01, 2.13MB/s]\n",
      " 35%|###4      | 1.64M/4.74M [00:00<00:01, 2.45MB/s]\n",
      " 42%|####1     | 1.98M/4.74M [00:01<00:01, 2.75MB/s]\n",
      " 48%|####8     | 2.30M/4.74M [00:01<00:00, 2.90MB/s]\n",
      " 56%|#####5    | 2.65M/4.74M [00:01<00:00, 3.09MB/s]\n",
      " 63%|######3   | 2.99M/4.74M [00:01<00:00, 3.19MB/s]\n",
      " 70%|#######   | 3.34M/4.74M [00:01<00:00, 3.30MB/s]\n",
      " 79%|#######8  | 3.73M/4.74M [00:01<00:00, 3.52MB/s]\n",
      " 87%|########7 | 4.14M/4.74M [00:01<00:00, 3.71MB/s]\n",
      " 97%|#########6| 4.59M/4.74M [00:01<00:00, 3.92MB/s]\n",
      "100%|##########| 4.74M/4.74M [00:03<00:00, 1.62MB/s]\n"
     ]
    }
   ],
   "source": [
    "fin_sub.to_csv('submission.csv', index=False)\n",
    "!kaggle competitions submit -c geekbrains-competitive-data-analysis -f submission.csv -m \"Message\""
   ]
  },
  {
   "cell_type": "markdown",
   "id": "baa9cd3d",
   "metadata": {},
   "source": [
    "### Feature selection"
   ]
  },
  {
   "cell_type": "code",
   "execution_count": 108,
   "id": "69414838",
   "metadata": {},
   "outputs": [],
   "source": [
    "x_train, x_test, y_train, y_test = train_test_split(X, y, test_size=0.2, random_state=seed)"
   ]
  },
  {
   "cell_type": "code",
   "execution_count": 109,
   "id": "3bb0ae6f",
   "metadata": {},
   "outputs": [
    {
     "name": "stdout",
     "output_type": "stream",
     "text": [
      "CV-score: 0.5004\n"
     ]
    }
   ],
   "source": [
    "X_inspect = pd.concat([x_train, x_test], axis=0)\n",
    "y_inspect = np.hstack((np.ones(x_train.shape[0]), np.zeros(x_test.shape[0])))\n",
    "\n",
    "inspector = LGBMClassifier(max_depth=4, \n",
    "                           n_estimators=100,\n",
    "                           verbose=-1,\n",
    "                           is_unbalance=True,\n",
    "                           learning_rate=0.05,   \n",
    "                           random_seed=seed).fit(X_inspect, y_inspect)\n",
    "\n",
    "cv = cross_val_score(\n",
    "    estimator=inspector,\n",
    "    X=X_inspect, y=y_inspect,\n",
    "    scoring=\"roc_auc\",\n",
    "    cv=KFold(n_splits=5, shuffle=True, random_state=42)\n",
    ")\n",
    "\n",
    "print(f\"CV-score: {round(np.mean(cv), 4)}\")"
   ]
  },
  {
   "cell_type": "code",
   "execution_count": 111,
   "id": "7a4b8adf",
   "metadata": {},
   "outputs": [
    {
     "name": "stderr",
     "output_type": "stream",
     "text": [
      "100%|████████████████████████████████████████████████████████████████████████████████| 117/117 [00:33<00:00,  3.51it/s]\n"
     ]
    }
   ],
   "source": [
    "scores, deltas = calculate_permutation_importance(LGBMClassifier(**lgbm_params_my).fit(x_train, y_train), \n",
    "                                                  x_valid=x_test, \n",
    "                                                  y_valid=y_test,\n",
    "                                                  probas=True, \n",
    "                                                  metric=roc_auc_score)"
   ]
  },
  {
   "cell_type": "code",
   "execution_count": 116,
   "id": "ddf70f6c",
   "metadata": {},
   "outputs": [],
   "source": [
    "perm = deltas[deltas >= 0].index.tolist()"
   ]
  },
  {
   "cell_type": "code",
   "execution_count": 133,
   "id": "4b458bfe",
   "metadata": {},
   "outputs": [],
   "source": [
    "perm = perm + [\"EXTERNAL_SCORE_WEIGHTED\", \"EXTERNAL_SCORING_RATING_1\"]"
   ]
  },
  {
   "cell_type": "code",
   "execution_count": 142,
   "id": "5e511c26",
   "metadata": {},
   "outputs": [
    {
     "name": "stderr",
     "output_type": "stream",
     "text": [
      "                                                                                                                       \r"
     ]
    }
   ],
   "source": [
    "# select best feature set by exhaustive method\n",
    "lgbm_params_my = {\n",
    "                'metric':\"auc\", \n",
    "                'boosting_type': 'gbdt',\n",
    "                'n_estimators': 1000,\n",
    "                'learning_rate': 0.03,\n",
    "                'num_leaves': 42,\n",
    "                'max_depth': 10,\n",
    "                'reg_alpha': 0.05,\n",
    "                'reg_lambda': 0.06,\n",
    "                'subsample': 0.8,\n",
    "                'min_child_weight': 60,\n",
    "                'random_state': seed\n",
    "}\n",
    "\n",
    "best_selector = BestSet(lgbm_params_my, k_features=40).fit(X[perm], y)"
   ]
  },
  {
   "cell_type": "code",
   "execution_count": null,
   "id": "74640429",
   "metadata": {},
   "outputs": [],
   "source": [
    "max(best_selector.scores_), X[perm][list(best_selector.subsets_[np.argmax(best_selector.scores_)])]"
   ]
  },
  {
   "cell_type": "code",
   "execution_count": 153,
   "id": "f40ae0ae",
   "metadata": {},
   "outputs": [
    {
     "data": {
      "text/plain": [
       "(Index(['EXT_SCORES_mean', 'NEW_CREDIT_TO_ANNUITY_RATIO', 'ANNUITY_JOB',\n",
       "        'EXTERNAL_SCORING_RATING_3', 'NAME_CONTRACT_TYPE',\n",
       "        'NEW_CREDIT_TO_ANNUITY_RATIO_MEAN_GENDER_AGE_BIN', 'AMOUNT_ANNUITY',\n",
       "        'EXTERNAL_SCORING_RATING_2', 'AGE', 'AMT_REQ_CREDIT_BUREAU_QRT',\n",
       "        'RATIO_AMOUNT_ANNUITY_TO_SALARY', 'TOTAL_SALARY_COUNT_AGE_INTERVAL',\n",
       "        'EDUCATION_FAMILY_STATUS', 'TOTAL_SALARY_MEAN_AGE_INTERVAL',\n",
       "        'AMOUNT_CREDIT', 'RATIO_AGE_TO_EXPERIENCE', 'RATIO_CAR_TO_AGE',\n",
       "        'EXT_SCORES_min', 'RATIO_SALARY_TO_AMOUNT_CREDIT_BY_FAMILY',\n",
       "        'AMOUNT_CREDIT_MEAN_AGE_INTERVAL',\n",
       "        'AMOUNT_ANNUITY_MIN_BY_FAMILY_STATUS', 'RATIO_CREDIT_TO_AGE',\n",
       "        'TOTAL_SALARY_MAX_AGE_INTERVAL', 'NEW_STATUS_MSeparated',\n",
       "        'EXT_SCORE_3_ANNUITY', 'NEW_STATUS_MMarried',\n",
       "        'TOTAL_SALARY_MEAN_BY_EDUCATION',\n",
       "        'DELTA_SALARY_TO_MEAN_SALARY_BY_EDUCATION',\n",
       "        'AMT_REQ_CREDIT_BUREAU_YEAR', 'CHILDRENS',\n",
       "        'AMOUNT_CREDIT_MEAN_BY_EDUCATION', 'TOTAL_SALARY_MIN_AGE_INTERVAL',\n",
       "        'AMOUNT_CREDIT_MEAN_BY_FAMILY_STATUS', 'NEW_STATUS_MCivil marriage',\n",
       "        'EXT_SCORE_1_AMT_CREDIT', 'AMT_REQ_CREDIT_BUREAU_HOUR', 'GENDER',\n",
       "        'AMOUNT_ANNUITY_MEAN_BY_FAMILY_STATUS', 'EXTERNAL_SCORE_WEIGHTED',\n",
       "        'EXTERNAL_SCORING_RATING_1'],\n",
       "       dtype='object'),\n",
       " 0.729712998948225)"
      ]
     },
     "execution_count": 153,
     "metadata": {},
     "output_type": "execute_result"
    }
   ],
   "source": [
    "X[perm].columns[list(best_selector.subsets_[np.argmax(best_selector.scores_)])], max(best_selector.scores_)"
   ]
  },
  {
   "cell_type": "markdown",
   "id": "2351cf52",
   "metadata": {},
   "source": [
    "#### Watch profile features combinations (fillna before add, multiply, etc.) - new ipynb - did not work\n",
    "#### target encoding did not work\n",
    "#### adding history features did not work"
   ]
  },
  {
   "cell_type": "markdown",
   "id": "e5c04521",
   "metadata": {},
   "source": [
    "### PART I \n",
    "\n",
    "Train CV ensemble models on existing profile data only with hold-out set, CI.\n",
    "\n",
    "Combine part I and part II: replace samples scores, amean, gmean"
   ]
  },
  {
   "cell_type": "markdown",
   "id": "4001fef4",
   "metadata": {},
   "source": [
    "### Optuna search"
   ]
  }
 ],
 "metadata": {
  "kernelspec": {
   "display_name": "Python 3 (ipykernel)",
   "language": "python",
   "name": "python3"
  },
  "language_info": {
   "codemirror_mode": {
    "name": "ipython",
    "version": 3
   },
   "file_extension": ".py",
   "mimetype": "text/x-python",
   "name": "python",
   "nbconvert_exporter": "python",
   "pygments_lexer": "ipython3",
   "version": "3.10.4"
  }
 },
 "nbformat": 4,
 "nbformat_minor": 5
}
