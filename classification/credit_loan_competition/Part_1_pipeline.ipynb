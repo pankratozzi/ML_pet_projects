{
 "cells": [
  {
   "cell_type": "code",
   "execution_count": 254,
   "id": "45820a67",
   "metadata": {},
   "outputs": [],
   "source": [
    "import warnings\n",
    "warnings.filterwarnings('ignore')\n",
    "\n",
    "import pandas as pd\n",
    "import numpy as np\n",
    "import matplotlib.pyplot as plt\n",
    "import seaborn as sns\n",
    "from typing import Optional, List, Tuple\n",
    "from pprint import pprint\n",
    "from tqdm import tqdm\n",
    "import time\n",
    "from scipy import stats\n",
    "from scipy.optimize import minimize\n",
    "\n",
    "from itertools import combinations\n",
    "\n",
    "import missingno as msno\n",
    "from sklearn.metrics import roc_auc_score\n",
    "from sklearn.model_selection import train_test_split, cross_val_score, KFold, StratifiedKFold\n",
    "from sklearn.preprocessing import StandardScaler, MinMaxScaler, LabelEncoder\n",
    "from sklearn.discriminant_analysis import LinearDiscriminantAnalysis\n",
    "from sklearn.base import BaseEstimator, TransformerMixin\n",
    "\n",
    "from BorutaShap import BorutaShap\n",
    "import category_encoders as ce\n",
    "\n",
    "from lightgbm import LGBMClassifier\n",
    "from catboost import CatBoostClassifier, Pool, EFeaturesSelectionAlgorithm, EShapCalcType\n",
    "import xgboost as xgb\n",
    "\n",
    "import optuna\n",
    "from optuna.samplers import TPESampler\n",
    "\n",
    "from utils import *\n",
    "import gc\n",
    "gc.enable()"
   ]
  },
  {
   "cell_type": "code",
   "execution_count": 2,
   "id": "31c40efe",
   "metadata": {},
   "outputs": [],
   "source": [
    "seed = 42\n",
    "np.random.seed(seed)\n",
    "np.set_printoptions(2)\n",
    "pd.options.display.float_format = '{:.4f}'.format\n",
    "plt.style.use('ggplot')\n",
    "pd.set_option('display.max_columns', None)\n",
    "\n",
    "ID_COL = 'APPLICATION_NUMBER'\n",
    "TARGET= 'TARGET'"
   ]
  },
  {
   "cell_type": "code",
   "execution_count": 3,
   "id": "d4f522d7",
   "metadata": {},
   "outputs": [],
   "source": [
    "train = pd.read_csv('train.csv')\n",
    "test = pd.read_csv('test.csv')"
   ]
  },
  {
   "cell_type": "code",
   "execution_count": 39,
   "id": "55351cfd",
   "metadata": {},
   "outputs": [
    {
     "name": "stdout",
     "output_type": "stream",
     "text": [
      "Memory usage of dataframe is 182.15 MB\n",
      "Memory usage after optimization is: 90.60 MB\n",
      "Decreased by 50.3%\n"
     ]
    },
    {
     "data": {
      "text/plain": [
       "((89539, 151), (134175, 151))"
      ]
     },
     "execution_count": 39,
     "metadata": {},
     "output_type": "execute_result"
    }
   ],
   "source": [
    "data = pd.concat([train, test], axis=0)\n",
    "df = prepare_cp_sec(data, dropna=True, create_features=True, is_category_encode=False)\n",
    "\n",
    "df_cat_cols = [column for column in df.columns if df[column].dtype in [\"object\", \"category\"]]\n",
    "for col in df_cat_cols:\n",
    "    if df[col].nunique() > 20:\n",
    "        encoder = LabelEncoder()\n",
    "        df[col] = encoder.fit_transform(df[col].astype(str).fillna(\"NA\"))\n",
    "df, _ = get_encoded(df)\n",
    "\n",
    "data_border = len(df) - df[TARGET].isna().sum()\n",
    "data_train, data_test = df.iloc[:data_border, :], df.iloc[data_border:, :]\n",
    "\n",
    "bureau = bki_cr()\n",
    "\n",
    "X, y = data_train.drop(TARGET, axis=1), data_train[TARGET]\n",
    "X = X.merge(bureau, on=ID_COL, how='left')\n",
    "X_index = X[ID_COL]\n",
    "X = X.drop(ID_COL, axis=1)\n",
    "\n",
    "data_test.drop(TARGET, axis=1, inplace=True)\n",
    "data_test = data_test.merge(bureau, on=ID_COL, how='left')\n",
    "test_index = data_test[ID_COL]\n",
    "data_test.drop(ID_COL, axis=1, inplace=True)\n",
    "\n",
    "X.reset_index(drop=True, inplace=True)\n",
    "X.shape, data_test.shape"
   ]
  },
  {
   "cell_type": "code",
   "execution_count": 50,
   "id": "bc82ece7",
   "metadata": {},
   "outputs": [
    {
     "data": {
      "text/plain": [
       "(10000, 151)"
      ]
     },
     "execution_count": 50,
     "metadata": {},
     "output_type": "execute_result"
    }
   ],
   "source": [
    "x_train, x_test, y_train, y_test = train_test_split(X, y, test_size=10000, shuffle=True, random_state=seed)\n",
    "x_train.reset_index(drop=True, inplace=True)\n",
    "x_test.reset_index(drop=True, inplace=True)\n",
    "y_train.reset_index(drop=True, inplace=True)\n",
    "y_test.reset_index(drop=True, inplace=True)\n",
    "x_test.shape"
   ]
  },
  {
   "cell_type": "code",
   "execution_count": 31,
   "id": "1b5ed35c",
   "metadata": {},
   "outputs": [
    {
     "name": "stdout",
     "output_type": "stream",
     "text": [
      "CV-score: 0.5001\n"
     ]
    }
   ],
   "source": [
    "X_inspect = pd.concat([x_train, x_test], axis=0)\n",
    "y_inspect = np.hstack((np.ones(x_train.shape[0]), np.zeros(x_test.shape[0])))\n",
    "\n",
    "inspector = LGBMClassifier(max_depth=3, \n",
    "                           n_estimators=100,\n",
    "                           verbose=-1,\n",
    "                           is_unbalance=True,\n",
    "                           learning_rate=0.08,   \n",
    "                           random_seed=seed).fit(X_inspect, y_inspect)\n",
    "\n",
    "cv = cross_val_score(\n",
    "                     estimator=inspector,\n",
    "                     X=X_inspect, \n",
    "                     y=y_inspect,\n",
    "                     scoring=\"roc_auc\",\n",
    "                     cv=KFold(n_splits=5, shuffle=True, random_state=seed)\n",
    ")\n",
    "\n",
    "print(f\"CV-score: {round(np.mean(cv), 4)}\")"
   ]
  },
  {
   "cell_type": "code",
   "execution_count": null,
   "id": "25e2badc",
   "metadata": {},
   "outputs": [],
   "source": [
    "lgbm_params = {\n",
    "                'metric':\"auc\", \n",
    "                'boosting_type': 'goss',\n",
    "                'is_unbalance': True,\n",
    "                'n_estimators': 212, \n",
    "                'learning_rate': 0.01, \n",
    "                'min_child_weight': 350, \n",
    "                'min_split_gain': 0.024766,\n",
    "                'max_depth': 3,\n",
    "                'verbose': -1,\n",
    "                'reg_alpha': 30,\n",
    "                'reg_lambda': 30,\n",
    "                'colsample_bytree': 0.33,\n",
    "                'num_leaves': 42,\n",
    "                'subsample': 0.33,\n",
    "                'max_bin': 128,\n",
    "                'random_state': seed\n",
    "}\n",
    "\n",
    "selector = BorutaShap(model=LGBMClassifier(**lgbm_params), importance_measure='shap', classification=True)\n",
    "selector.fit(x_train, y_train, n_trials=20, sample=False, normalize=True, verbose=True)"
   ]
  },
  {
   "cell_type": "code",
   "execution_count": 33,
   "id": "06467709",
   "metadata": {},
   "outputs": [],
   "source": [
    "boruta = ['EXT_SCORES_var', 'NAME_CONTRACT_TYPE', 'RATIO_SALARY_TO_AMOUNT_CREDIT_MEAN_GENDER_AGE_BIN', 'EXT_SCORES_max', \n",
    "          'RATIO_CREDIT_TO_AGE', 'EXT_SCORE_3_ANNUITY', 'RATIO_AGE_TO_EXPERIENCE', 'AGE', 'EXT_SCORE_1_AMT_CREDIT', \n",
    "          'EXTERNAL_SCORING_RATING_3', 'AMT_REQ_CREDIT_BUREAU_YEAR', 'EXTERNAL_SCORING_RATING_1', 'AGE_BIN', 'CREDIT_JOB', \n",
    "          'DAYS_ON_LAST_JOB', 'EXT_SCORES_mean', 'AMOUNT_ANNUITY_MEAN_BY_EDUCATION', 'RATIO_AMOUNT_ANNUITY_TO_SALARY', \n",
    "          'TOTAL_SALARY_MEAN_BY_EDUCATION', 'EXT_SCORE_2_AMT_CREDIT', 'GENDER', 'TOTAL_SALARY_MIN_BY_EDUCATION', \n",
    "          'AMOUNT_ANNUITY', 'ANNUITY_JOB', 'AMOUNT_ANNUITY_MAX_BY_EDUCATION', 'EXTERNAL_SCORE_WEIGHTED', \n",
    "          'AMOUNT_CREDIT_MEAN_BY_EDUCATION', 'OWN_CAR_AGE', 'EXT_SCORE_2_ANNUITY', 'AMOUNT_ANNUITY_MIN_BY_EDUCATION', \n",
    "          'RATIO_CAR_TO_AGE', 'EXT_SCORES_min', 'EXT_SCORES_nanmedian', 'EXTERNAL_SCORING_RATING_2', \n",
    "          'NEW_CREDIT_TO_ANNUITY_RATIO_MEAN_GENDER_AGE_BIN', 'EDUCATION_FAMILY_STATUS', 'NEW_CREDIT_TO_ANNUITY_RATIO', \n",
    "          'EXT_SCORE_3_AMT_CREDIT', 'RATIO_ANNUITY_TO_AGE', 'EDUCATION_LEVEL_Secondary / secondary special', \n",
    "          'AMOUNT_CREDIT_COUNT_BY_EDUCATION', 'EDUCATION_LEVEL_Higher education', 'RATIO_SALARY_TO_AMOUNT_CREDIT', \n",
    "          'SALARY_JOB', 'NEW_STATUS_FMarried', 'REGION_POPULATION', 'AMT_REQ_CREDIT_BUREAU_QRT', \n",
    "          'RATIO_SALARY_TO_AMOUNT_CREDIT_BY_FAMILY', 'TOTAL_SALARY_MEAN_AGE_INTERVAL', 'AMOUNT_CREDIT_MAX_BY_EDUCATION', \n",
    "          'AMOUNT_CREDIT_COUNT_AGE_INTERVAL', 'AMOUNT_CREDIT', 'AMT_REQ_CREDIT_BUREAU_WEEK', 'RATIO_SALARY_TO_AGE', \n",
    "          'EXT_SCORE_1_ANNUITY', 'TOTAL_SALARY_COUNT_AGE_INTERVAL', 'AMOUNT_ANNUITY_COUNT_AGE_INTERVAL', \n",
    "          'SALARY_REGION_POPULATION', 'AMOUNT_ANNUITY_COUNT_BY_EDUCATION', 'RATIO_CAR_TO_EXPERIENCE']"
   ]
  },
  {
   "cell_type": "code",
   "execution_count": 80,
   "id": "48f1e7fe",
   "metadata": {},
   "outputs": [
    {
     "name": "stdout",
     "output_type": "stream",
     "text": [
      "Sun Aug 28 15:52:37 2022, Cross-Validation, 79539 rows, 60 cols\n",
      "Fold 1, Train score = 0.80430, Valid score = 0.74063\n",
      "Fold 2, Train score = 0.78733, Valid score = 0.75802\n",
      "Fold 3, Train score = 0.80481, Valid score = 0.76250\n",
      "Fold 4, Train score = 0.80137, Valid score = 0.75706\n",
      "Fold 5, Train score = 0.78996, Valid score = 0.76161\n",
      "Train score by each fold: [0.8043, 0.78733, 0.80481, 0.80137, 0.78996]\n",
      "Valid score by each fold: [0.74063, 0.75802, 0.7625, 0.75706, 0.76161]\n",
      "Train mean score by each fold:0.79755 +/- 0.00742\n",
      "Valid mean score by each fold:0.75596 +/- 0.00794\n",
      "**************************************************\n",
      "OOF-score: 0.75596\n"
     ]
    }
   ],
   "source": [
    "lgbm_params1 = {\n",
    "                'metric':\"auc\", \n",
    "                'boosting_type': 'gbdt',\n",
    "                'n_estimators': 1000,\n",
    "                'learning_rate': 0.035,\n",
    "                'num_leaves': 12,\n",
    "                'max_depth': 12,\n",
    "                'reg_alpha': 0.05,\n",
    "                'reg_lambda': 0.06,\n",
    "                'subsample': 0.8,\n",
    "                'min_child_weight': 56,\n",
    "                'random_state': seed,\n",
    "                'zero_as_missing': False\n",
    "}\n",
    "\n",
    "estimators_lgbm1, oof_preds_lgbm1 = lightgbm_cross_validation(lgbm_params1, \n",
    "                                                              x_train[boruta], \n",
    "                                                              y_train, \n",
    "                                                              cv=KFold(n_splits=5, random_state=seed, shuffle=True), \n",
    "                                                              rounds=50)"
   ]
  },
  {
   "cell_type": "code",
   "execution_count": 81,
   "id": "58c4b05d",
   "metadata": {},
   "outputs": [
    {
     "data": {
      "text/plain": [
       "0.7569927989130436"
      ]
     },
     "execution_count": 81,
     "metadata": {},
     "output_type": "execute_result"
    }
   ],
   "source": [
    "preds = np.array([estimator.predict_proba(x_test[boruta])[:,1] for estimator in estimators_lgbm1]).T\n",
    "# preds = np.mean(preds, axis=1)\n",
    "preds = stats.gmean(preds, axis=1)\n",
    "roc_auc_score(y_test, preds)"
   ]
  },
  {
   "cell_type": "code",
   "execution_count": 82,
   "id": "fcc24ba3",
   "metadata": {},
   "outputs": [
    {
     "data": {
      "text/plain": [
       "(0.7394677882461692, 0.7738677300013224)"
      ]
     },
     "execution_count": 82,
     "metadata": {},
     "output_type": "execute_result"
    }
   ],
   "source": [
    "calculate_confidence_interval(create_bootstrap_metrics(y_test, preds, roc_auc_score))"
   ]
  },
  {
   "cell_type": "code",
   "execution_count": 83,
   "id": "d9c7f772",
   "metadata": {},
   "outputs": [
    {
     "name": "stdout",
     "output_type": "stream",
     "text": [
      "Sun Aug 28 15:53:12 2022, Cross-Validation, 89539 rows, 60 cols\n",
      "Fold 1, Train score = 0.79869, Valid score = 0.75708\n",
      "Fold 2, Train score = 0.79305, Valid score = 0.75414\n",
      "Fold 3, Train score = 0.80603, Valid score = 0.75727\n",
      "Fold 4, Train score = 0.79681, Valid score = 0.75590\n",
      "Fold 5, Train score = 0.78148, Valid score = 0.75683\n",
      "Train score by each fold: [0.79869, 0.79305, 0.80603, 0.79681, 0.78148]\n",
      "Valid score by each fold: [0.75708, 0.75414, 0.75727, 0.7559, 0.75683]\n",
      "Train mean score by each fold:0.79521 +/- 0.00806\n",
      "Valid mean score by each fold:0.75624 +/- 0.00115\n",
      "**************************************************\n",
      "OOF-score: 0.75617\n"
     ]
    }
   ],
   "source": [
    "# obtain CV estimators from full dataset after HO check\n",
    "estimators_lgbm1, oof_preds_lgbm1 = lightgbm_cross_validation(lgbm_params1, \n",
    "                                                              X[boruta], \n",
    "                                                              y.reset_index(drop=True), \n",
    "                                                              cv=KFold(n_splits=5, random_state=seed, shuffle=True), \n",
    "                                                              rounds=50)"
   ]
  },
  {
   "cell_type": "code",
   "execution_count": 84,
   "id": "ddba16ec",
   "metadata": {},
   "outputs": [],
   "source": [
    "test_preds = np.array([model.predict_proba(data_test[boruta])[:,1] for model in estimators_lgbm1]).T\n",
    "# test_preds1 = pd.DataFrame({ID_COL: test_index, TARGET: test_preds.mean(axis=1)})\n",
    "# test_preds1 = test_preds.mean(axis=1)\n",
    "test_preds1 = stats.gmean(test_preds, axis=1)"
   ]
  },
  {
   "cell_type": "markdown",
   "id": "3b23287f",
   "metadata": {},
   "source": [
    "**LGBM with exhustive**"
   ]
  },
  {
   "cell_type": "code",
   "execution_count": 220,
   "id": "3a717f8c",
   "metadata": {},
   "outputs": [],
   "source": [
    "exhaust = ['NAME_CONTRACT_TYPE', 'RATIO_CREDIT_TO_AGE', 'EXT_SCORE_3_ANNUITY',  'AGE', 'EXTERNAL_SCORING_RATING_3', \n",
    "           'AMT_REQ_CREDIT_BUREAU_YEAR', 'EXTERNAL_SCORING_RATING_1', 'EXT_SCORES_mean', 'RATIO_AMOUNT_ANNUITY_TO_SALARY', \n",
    "           'GENDER', 'AMOUNT_ANNUITY', 'ANNUITY_JOB', 'RATIO_CAR_TO_AGE', 'EXT_SCORES_min', \n",
    "           'NEW_CREDIT_TO_ANNUITY_RATIO_MEAN_GENDER_AGE_BIN', 'EDUCATION_FAMILY_STATUS', 'NEW_CREDIT_TO_ANNUITY_RATIO',\n",
    "           'EXT_SCORE_3_AMT_CREDIT', 'SALARY_JOB', 'REGION_POPULATION']"
   ]
  },
  {
   "cell_type": "code",
   "execution_count": 223,
   "id": "23131983",
   "metadata": {},
   "outputs": [
    {
     "name": "stdout",
     "output_type": "stream",
     "text": [
      "Sun Aug 28 21:44:52 2022, Cross-Validation, 79539 rows, 20 cols\n",
      "Fold 1, Train score = 0.80468, Valid score = 0.74794\n",
      "Fold 2, Train score = 0.80378, Valid score = 0.74181\n",
      "Fold 3, Train score = 0.78105, Valid score = 0.77163\n",
      "Fold 4, Train score = 0.81417, Valid score = 0.77234\n",
      "Fold 5, Train score = 0.80722, Valid score = 0.76203\n",
      "Fold 6, Train score = 0.78740, Valid score = 0.76456\n",
      "Fold 7, Train score = 0.79774, Valid score = 0.75979\n",
      "Train score by each fold: [0.80468, 0.80378, 0.78105, 0.81417, 0.80722, 0.7874, 0.79774]\n",
      "Valid score by each fold: [0.74794, 0.74181, 0.77163, 0.77234, 0.76203, 0.76456, 0.75979]\n",
      "Train mean score by each fold:0.79943 +/- 0.01076\n",
      "Valid mean score by each fold:0.76001 +/- 0.01062\n",
      "**************************************************\n",
      "OOF-score: 0.75984\n"
     ]
    }
   ],
   "source": [
    "lgbm_params2 = {\n",
    "                'metric':\"auc\", \n",
    "                'boosting_type': 'gbdt',\n",
    "                'n_estimators': 2000,\n",
    "                'learning_rate': 0.035,\n",
    "                'num_leaves': 12,\n",
    "                'max_depth': 8,\n",
    "                'reg_alpha': 0.05,\n",
    "                'reg_lambda': 0.06,\n",
    "                'subsample': 0.8,\n",
    "                'min_child_weight': 56,\n",
    "                'colsample_bytree': 0.67,\n",
    "                'max_bin': 255,\n",
    "                'is_unbalance': False,\n",
    "                'random_state': seed,\n",
    "                'zero_as_missing': True,\n",
    "                'min_split_gain': 0.024766,\n",
    "                'subsample_for_bin': 240000,\n",
    "                \n",
    "}\n",
    "\n",
    "\n",
    "estimators_lgbm2, oof_preds_lgbm2 = lightgbm_cross_validation(lgbm_params2, \n",
    "                                                              x_train[exhaust], \n",
    "                                                              y_train, \n",
    "                                                              cv=KFold(n_splits=7, random_state=seed, shuffle=True), \n",
    "                                                              rounds=50)"
   ]
  },
  {
   "cell_type": "code",
   "execution_count": 224,
   "id": "b5ad51d5",
   "metadata": {},
   "outputs": [
    {
     "data": {
      "text/plain": [
       "0.7573384510869565"
      ]
     },
     "execution_count": 224,
     "metadata": {},
     "output_type": "execute_result"
    }
   ],
   "source": [
    "preds = np.array([estimator.predict_proba(x_test[exhaust])[:,1] for estimator in estimators_lgbm2]).T\n",
    "# preds = np.mean(preds, axis=1)\n",
    "preds = stats.gmean(preds, axis=1)\n",
    "roc_auc_score(y_test, preds)"
   ]
  },
  {
   "cell_type": "code",
   "execution_count": 225,
   "id": "bd068b08",
   "metadata": {},
   "outputs": [
    {
     "data": {
      "text/plain": [
       "(0.7409764628349254, 0.775147742457603)"
      ]
     },
     "execution_count": 225,
     "metadata": {},
     "output_type": "execute_result"
    }
   ],
   "source": [
    "calculate_confidence_interval(create_bootstrap_metrics(y_test, preds, roc_auc_score))"
   ]
  },
  {
   "cell_type": "code",
   "execution_count": 226,
   "id": "c9bab4b2",
   "metadata": {},
   "outputs": [
    {
     "name": "stdout",
     "output_type": "stream",
     "text": [
      "Sun Aug 28 21:45:09 2022, Cross-Validation, 89539 rows, 20 cols\n",
      "Fold 1, Train score = 0.80237, Valid score = 0.75214\n",
      "Fold 2, Train score = 0.79580, Valid score = 0.76570\n",
      "Fold 3, Train score = 0.79613, Valid score = 0.75690\n",
      "Fold 4, Train score = 0.79688, Valid score = 0.75790\n",
      "Fold 5, Train score = 0.79248, Valid score = 0.76615\n",
      "Fold 6, Train score = 0.79461, Valid score = 0.76985\n",
      "Fold 7, Train score = 0.79997, Valid score = 0.75640\n",
      "Train score by each fold: [0.80237, 0.7958, 0.79613, 0.79688, 0.79248, 0.79461, 0.79997]\n",
      "Valid score by each fold: [0.75214, 0.7657, 0.7569, 0.7579, 0.76615, 0.76985, 0.7564]\n",
      "Train mean score by each fold:0.79689 +/- 0.00307\n",
      "Valid mean score by each fold:0.76072 +/- 0.00601\n",
      "**************************************************\n",
      "OOF-score: 0.76040\n"
     ]
    }
   ],
   "source": [
    "estimators_lgbm2, oof_preds_lgbm2 = lightgbm_cross_validation(lgbm_params2, \n",
    "                                                              X[exhaust], \n",
    "                                                              y.reset_index(drop=True), \n",
    "                                                              cv=KFold(n_splits=7, random_state=seed//3, shuffle=True), \n",
    "                                                              rounds=50)"
   ]
  },
  {
   "cell_type": "code",
   "execution_count": 227,
   "id": "07f25858",
   "metadata": {},
   "outputs": [],
   "source": [
    "test_preds = np.array([model.predict_proba(data_test[exhaust])[:,1] for model in estimators_lgbm2]).T\n",
    "# test_preds2 = pd.DataFrame({ID_COL: test_index, TARGET: test_preds.mean(axis=1)})\n",
    "# test_preds2 = test_preds.mean(axis=1)\n",
    "test_preds2 = stats.gmean(test_preds, axis=1)"
   ]
  },
  {
   "cell_type": "code",
   "execution_count": 228,
   "id": "4472713e",
   "metadata": {},
   "outputs": [
    {
     "data": {
      "text/html": [
       "<div>\n",
       "<style scoped>\n",
       "    .dataframe tbody tr th:only-of-type {\n",
       "        vertical-align: middle;\n",
       "    }\n",
       "\n",
       "    .dataframe tbody tr th {\n",
       "        vertical-align: top;\n",
       "    }\n",
       "\n",
       "    .dataframe thead th {\n",
       "        text-align: right;\n",
       "    }\n",
       "</style>\n",
       "<table border=\"1\" class=\"dataframe\">\n",
       "  <thead>\n",
       "    <tr style=\"text-align: right;\">\n",
       "      <th></th>\n",
       "      <th>m1</th>\n",
       "      <th>m2</th>\n",
       "    </tr>\n",
       "  </thead>\n",
       "  <tbody>\n",
       "    <tr>\n",
       "      <th>m1</th>\n",
       "      <td>1.0000</td>\n",
       "      <td>0.9866</td>\n",
       "    </tr>\n",
       "    <tr>\n",
       "      <th>m2</th>\n",
       "      <td>0.9866</td>\n",
       "      <td>1.0000</td>\n",
       "    </tr>\n",
       "  </tbody>\n",
       "</table>\n",
       "</div>"
      ],
      "text/plain": [
       "       m1     m2\n",
       "m1 1.0000 0.9866\n",
       "m2 0.9866 1.0000"
      ]
     },
     "execution_count": 228,
     "metadata": {},
     "output_type": "execute_result"
    }
   ],
   "source": [
    "pd.DataFrame({'m1': test_preds1, 'm2': test_preds2}).corr()  # not good: need <=0.97"
   ]
  },
  {
   "cell_type": "markdown",
   "id": "8d9a8e22",
   "metadata": {},
   "source": [
    "**CatBoost**"
   ]
  },
  {
   "cell_type": "code",
   "execution_count": null,
   "id": "de264383",
   "metadata": {},
   "outputs": [],
   "source": [
    "# boruta catboost\n",
    "cat_params = {\n",
    "                'silent': True,  \n",
    "                'one_hot_max_size': 2,  \n",
    "                'iterations': 255, \n",
    "                'eval_metric': 'AUC',  \n",
    "                'allow_writing_files': False,  \n",
    "                'random_seed': seed,  \n",
    "                'grow_policy': 'Lossguide', \n",
    "                'objective': 'Logloss',  \n",
    "                'boosting_type': 'Plain', \n",
    "                'score_function': 'Cosine',  \n",
    "                'bootstrap_type': 'MVS',  \n",
    "                'bagging_temperature': 3.68,  \n",
    "                'colsample_bylevel': 0.9,  \n",
    "                'depth': 3, \n",
    "                'l2_leaf_reg': 3,  \n",
    "                'learning_rate': 0.05, \n",
    "                'subsample': 0.86,  \n",
    "                'num_leaves': 32\n",
    "}\n",
    "\n",
    "selector = BorutaShap(model=CatBoostClassifier(**cat_params), importance_measure='shap', classification=True)\n",
    "selector.fit(x_train, y_train, n_trials=20, sample=False, normalize=True, verbose=True)"
   ]
  },
  {
   "cell_type": "code",
   "execution_count": 268,
   "id": "1f4b238d",
   "metadata": {},
   "outputs": [],
   "source": [
    "boruta = ['GENDER', 'EXT_SCORES_nanmedian', 'EXT_SCORES_min', 'AGE', 'EXTERNAL_SCORING_RATING_3', 'NAME_CONTRACT_TYPE', \n",
    "          'EXTERNAL_SCORING_RATING_1', 'ANNUITY_JOB', 'CREDIT_JOB', 'EXTERNAL_SCORE_WEIGHTED', 'EXT_SCORES_max', \n",
    "          'EXT_SCORES_mean', 'RATIO_CREDIT_TO_AGE', 'NEW_CREDIT_TO_ANNUITY_RATIO', 'RATIO_AMOUNT_ANNUITY_TO_SALARY', \n",
    "          'RATIO_AGE_TO_EXPERIENCE', 'EXT_SCORES_var', 'TOTAL_SALARY_MAX_BY_EDUCATION', \n",
    "          'RATIO_SALARY_TO_AMOUNT_CREDIT_MEAN_GENDER_AGE_BIN', 'RATIO_ANNUITY_TO_AGE', 'DAYS_ON_LAST_JOB', 'SALARY_JOB', \n",
    "          'AMOUNT_ANNUITY_MEAN_BY_EDUCATION', 'TOTAL_SALARY_MEAN_BY_EDUCATION', 'AMT_REQ_CREDIT_BUREAU_QRT', \n",
    "          'TOTAL_SALARY_MIN_BY_EDUCATION', 'AMOUNT_ANNUITY', 'AMOUNT_ANNUITY_MAX_BY_EDUCATION', 'NEW_STATUS_MCivil marriage', \n",
    "          'AMOUNT_CREDIT_MEAN_BY_EDUCATION', 'OWN_CAR_AGE', 'EXT_SCORE_2_ANNUITY', 'AMOUNT_CREDIT_MAX_BY_EDUCATION', \n",
    "          'AMOUNT_ANNUITY_MIN_BY_EDUCATION', 'AMOUNT_CREDIT_COUNT_AGE_INTERVAL', 'RATIO_CAR_TO_AGE', \n",
    "          'EXTERNAL_SCORING_RATING_2', 'NEW_CREDIT_TO_ANNUITY_RATIO_MEAN_GENDER_AGE_BIN', 'EDUCATION_FAMILY_STATUS', \n",
    "          'AMOUNT_ANNUITY_COUNT_AGE_INTERVAL', 'RATIO_CAR_TO_EXPERIENCE', 'EXT_SCORE_3_AMT_CREDIT', 'AGE_BIN']"
   ]
  },
  {
   "cell_type": "code",
   "execution_count": 269,
   "id": "70ad2c65",
   "metadata": {},
   "outputs": [
    {
     "name": "stdout",
     "output_type": "stream",
     "text": [
      "Sun Aug 28 23:46:41 2022, Cross-Validation, 79539 rows, 43 cols\n",
      "Fold 1, Train score = 0.83240, Valid score = 0.74053\n",
      "Fold 2, Train score = 0.85262, Valid score = 0.73531\n",
      "Fold 3, Train score = 0.84183, Valid score = 0.77143\n",
      "Fold 4, Train score = 0.85164, Valid score = 0.76202\n",
      "Fold 5, Train score = 0.85711, Valid score = 0.75789\n",
      "Fold 6, Train score = 0.83513, Valid score = 0.75818\n",
      "Fold 7, Train score = 0.83048, Valid score = 0.75894\n",
      "Train score by each fold: [0.8324, 0.85262, 0.84183, 0.85164, 0.85711, 0.83513, 0.83048]\n",
      "Valid score by each fold: [0.74053, 0.73531, 0.77143, 0.76202, 0.75789, 0.75818, 0.75894]\n",
      "Train mean score by each fold:0.84303 +/- 0.00999\n",
      "Valid mean score by each fold:0.75490 +/- 0.01165\n",
      "**************************************************\n",
      "OOF-score: 0.75482\n"
     ]
    }
   ],
   "source": [
    "cat_params = {\n",
    "                'silent': True,  \n",
    "                'iterations': 2000, \n",
    "                'eval_metric': 'AUC',  \n",
    "                'allow_writing_files': False,  \n",
    "                'random_seed': seed,  \n",
    "                'grow_policy': 'Lossguide', \n",
    "                'boosting_type': 'Plain', \n",
    "                'bootstrap_type': 'MVS',  \n",
    "                'bagging_temperature': 3.68,  \n",
    "                'colsample_bylevel': 0.9,  \n",
    "                'depth': 8, \n",
    "                'l2_leaf_reg': 3,  \n",
    "                'learning_rate': 0.05, \n",
    "                'subsample': 0.86,  \n",
    "                'num_leaves': 12,\n",
    "                'use_best_model': True,\n",
    "                'min_data_in_leaf': 100,\n",
    "}\n",
    "\n",
    "estimators_cat1, oof_preds_cat1 = catboost_cross_validation(cat_params, \n",
    "                                                            x_train[boruta], \n",
    "                                                            y_train, \n",
    "                                                            cv=KFold(n_splits=7, random_state=seed, shuffle=True), \n",
    "                                                            rounds=50)"
   ]
  },
  {
   "cell_type": "code",
   "execution_count": 272,
   "id": "994167a1",
   "metadata": {},
   "outputs": [
    {
     "data": {
      "text/plain": [
       "0.7581605978260869"
      ]
     },
     "execution_count": 272,
     "metadata": {},
     "output_type": "execute_result"
    }
   ],
   "source": [
    "preds = np.array([estimator.predict_proba(x_test[boruta])[:,1] for estimator in estimators_cat1]).T\n",
    "preds = stats.gmean(preds, axis=1)\n",
    "roc_auc_score(y_test, preds)"
   ]
  },
  {
   "cell_type": "code",
   "execution_count": 273,
   "id": "c1896b0c",
   "metadata": {},
   "outputs": [
    {
     "data": {
      "text/plain": [
       "(0.7402246159404027, 0.7743613008383707)"
      ]
     },
     "execution_count": 273,
     "metadata": {},
     "output_type": "execute_result"
    }
   ],
   "source": [
    "calculate_confidence_interval(create_bootstrap_metrics(y_test, preds, roc_auc_score))"
   ]
  },
  {
   "cell_type": "code",
   "execution_count": 275,
   "id": "a55b4adc",
   "metadata": {},
   "outputs": [
    {
     "name": "stdout",
     "output_type": "stream",
     "text": [
      "Sun Aug 28 23:54:30 2022, Cross-Validation, 89539 rows, 43 cols\n",
      "Fold 1, Train score = 0.84548, Valid score = 0.76057\n",
      "Fold 2, Train score = 0.82765, Valid score = 0.74232\n",
      "Fold 3, Train score = 0.82625, Valid score = 0.76140\n",
      "Fold 4, Train score = 0.83147, Valid score = 0.75385\n",
      "Fold 5, Train score = 0.83014, Valid score = 0.75700\n",
      "Fold 6, Train score = 0.81945, Valid score = 0.75743\n",
      "Fold 7, Train score = 0.83253, Valid score = 0.75842\n",
      "Train score by each fold: [0.84548, 0.82765, 0.82625, 0.83147, 0.83014, 0.81945, 0.83253]\n",
      "Valid score by each fold: [0.76057, 0.74232, 0.7614, 0.75385, 0.757, 0.75743, 0.75842]\n",
      "Train mean score by each fold:0.83042 +/- 0.00735\n",
      "Valid mean score by each fold:0.75586 +/- 0.00598\n",
      "**************************************************\n",
      "OOF-score: 0.75580\n"
     ]
    }
   ],
   "source": [
    "estimators_cat1, oof_preds_cat1 = catboost_cross_validation(cat_params, \n",
    "                                                            X[boruta], \n",
    "                                                            y.reset_index(drop=True), \n",
    "                                                            cv=KFold(n_splits=7, random_state=seed, shuffle=True), \n",
    "                                                            rounds=50)"
   ]
  },
  {
   "cell_type": "code",
   "execution_count": 277,
   "id": "3a60ee16",
   "metadata": {},
   "outputs": [],
   "source": [
    "test_preds = np.array([model.predict_proba(data_test[boruta])[:,1] for model in estimators_cat1]).T\n",
    "\n",
    "test_preds3 = stats.gmean(test_preds, axis=1)"
   ]
  },
  {
   "cell_type": "code",
   "execution_count": 278,
   "id": "eb3cabdf",
   "metadata": {},
   "outputs": [
    {
     "data": {
      "text/html": [
       "<div>\n",
       "<style scoped>\n",
       "    .dataframe tbody tr th:only-of-type {\n",
       "        vertical-align: middle;\n",
       "    }\n",
       "\n",
       "    .dataframe tbody tr th {\n",
       "        vertical-align: top;\n",
       "    }\n",
       "\n",
       "    .dataframe thead th {\n",
       "        text-align: right;\n",
       "    }\n",
       "</style>\n",
       "<table border=\"1\" class=\"dataframe\">\n",
       "  <thead>\n",
       "    <tr style=\"text-align: right;\">\n",
       "      <th></th>\n",
       "      <th>m1</th>\n",
       "      <th>m2</th>\n",
       "      <th>m3</th>\n",
       "    </tr>\n",
       "  </thead>\n",
       "  <tbody>\n",
       "    <tr>\n",
       "      <th>m1</th>\n",
       "      <td>1.0000</td>\n",
       "      <td>0.9866</td>\n",
       "      <td>0.9760</td>\n",
       "    </tr>\n",
       "    <tr>\n",
       "      <th>m2</th>\n",
       "      <td>0.9866</td>\n",
       "      <td>1.0000</td>\n",
       "      <td>0.9700</td>\n",
       "    </tr>\n",
       "    <tr>\n",
       "      <th>m3</th>\n",
       "      <td>0.9760</td>\n",
       "      <td>0.9700</td>\n",
       "      <td>1.0000</td>\n",
       "    </tr>\n",
       "  </tbody>\n",
       "</table>\n",
       "</div>"
      ],
      "text/plain": [
       "       m1     m2     m3\n",
       "m1 1.0000 0.9866 0.9760\n",
       "m2 0.9866 1.0000 0.9700\n",
       "m3 0.9760 0.9700 1.0000"
      ]
     },
     "execution_count": 278,
     "metadata": {},
     "output_type": "execute_result"
    }
   ],
   "source": [
    "pd.DataFrame({'m1': test_preds1, 'm2': test_preds2, 'm3': test_preds3}).corr()"
   ]
  },
  {
   "cell_type": "markdown",
   "id": "6707c44d",
   "metadata": {},
   "source": [
    "#### XGBoost"
   ]
  },
  {
   "cell_type": "code",
   "execution_count": null,
   "id": "86cd1faa",
   "metadata": {},
   "outputs": [],
   "source": [
    "# boruta xgboost\n",
    "xgb_params = {\n",
    "                \"objective\": \"binary:logistic\",\n",
    "                \"booster\": \"gbtree\",\n",
    "                \"eval_metric\": \"auc\",\n",
    "                \"n_estimators\": 250,\n",
    "                \"eta\": 0.05,\n",
    "                \"max_depth\": 4,\n",
    "                \"gamma\": 10,\n",
    "                \"subsample\": 0.85,\n",
    "                \"colsample_bytree\": 0.7,\n",
    "                \"colsample_bylevel\": 0.632,\n",
    "                \"min_child_weight\": 30,\n",
    "                \"alpha\": 0.05,\n",
    "                \"lambda\": 0.067,\n",
    "                \"random_state\": seed,\n",
    "}\n",
    "\n",
    "selector = BorutaShap(model=xgb.XGBClassifier(**xgb_params), importance_measure='shap', classification=True)\n",
    "selector.fit(x_train, y_train, n_trials=20, sample=False, normalize=True, verbose=True)"
   ]
  },
  {
   "cell_type": "code",
   "execution_count": 280,
   "id": "07d9f5e3",
   "metadata": {},
   "outputs": [],
   "source": [
    "boruta = ['NAME_CONTRACT_TYPE', 'EXT_SCORES_max', 'RATIO_CREDIT_TO_AGE', 'RATIO_AGE_TO_EXPERIENCE', 'AGE', \n",
    "          'EXTERNAL_SCORING_RATING_3', 'EXTERNAL_SCORING_RATING_1', 'DAYS_ON_LAST_JOB', 'EXT_SCORES_mean', \n",
    "          'RATIO_AMOUNT_ANNUITY_TO_SALARY', 'GENDER', 'ANNUITY_JOB', 'EXTERNAL_SCORE_WEIGHTED', 'OWN_CAR_AGE', \n",
    "          'EXT_SCORES_nanmedian', 'EXT_SCORES_min', 'RATIO_CAR_TO_AGE', 'EXTERNAL_SCORING_RATING_2', \n",
    "          'EDUCATION_FAMILY_STATUS', 'NEW_CREDIT_TO_ANNUITY_RATIO', 'AMT_REQ_CREDIT_BUREAU_QRT', \n",
    "          'TOTAL_SALARY_MIN_BY_EDUCATION', 'AMOUNT_ANNUITY', 'CREDIT_JOB', 'RATIO_SALARY_TO_AMOUNT_CREDIT_MEAN_GENDER_AGE_BIN', \n",
    "          'TOTAL_SALARY_MEAN_BY_EDUCATION', 'RATIO_ANNUITY_TO_AGE']"
   ]
  },
  {
   "cell_type": "code",
   "execution_count": 283,
   "id": "cbdffcc5",
   "metadata": {},
   "outputs": [],
   "source": [
    "xgb_params = {\n",
    "                \"objective\": \"binary:logistic\",\n",
    "                \"booster\": \"gbtree\",\n",
    "                \"eval_metric\": \"auc\",\n",
    "                \"eta\": 0.05,\n",
    "                \"max_depth\": 6,\n",
    "                \"gamma\": 10,\n",
    "                \"subsample\": 0.85,\n",
    "                \"colsample_bytree\": 0.7,\n",
    "                \"colsample_bylevel\": 0.632,\n",
    "                \"min_child_weight\": 30,\n",
    "                \"alpha\": 0.05,\n",
    "                \"lambda\": 0.067,\n",
    "                \"random_state\": seed,\n",
    "                \"n_jobs\": -1\n",
    "}"
   ]
  },
  {
   "cell_type": "code",
   "execution_count": 284,
   "id": "31308e75",
   "metadata": {},
   "outputs": [
    {
     "name": "stdout",
     "output_type": "stream",
     "text": [
      "Mon Aug 29 00:08:05 2022, Cross-Validation, 79539 rows, 27 cols\n",
      "Fold 1, Train score = 0.80456, Valid score = 0.74666\n",
      "Fold 2, Train score = 0.80158, Valid score = 0.74008\n",
      "Fold 3, Train score = 0.78807, Valid score = 0.76917\n",
      "Fold 4, Train score = 0.79592, Valid score = 0.76667\n",
      "Fold 5, Train score = 0.80025, Valid score = 0.76294\n",
      "Fold 6, Train score = 0.79068, Valid score = 0.76337\n",
      "Fold 7, Train score = 0.79174, Valid score = 0.76126\n",
      "Train score by each fold: [0.80456, 0.80158, 0.78807, 0.79592, 0.80025, 0.79068, 0.79174]\n",
      "Valid score by each fold: [0.74666, 0.74008, 0.76917, 0.76667, 0.76294, 0.76337, 0.76126]\n",
      "Train mean score by each fold:0.79611 +/- 0.00575\n",
      "Valid mean score by each fold:0.75859 +/- 0.01008\n",
      "**************************************************\n",
      "OOF-score: 0.75846\n"
     ]
    }
   ],
   "source": [
    "estimators_xgb, _, oof_preds_xgb = xgboost_cross_validation(xgb_params, \n",
    "                                                            x_train[boruta], \n",
    "                                                            y_train, \n",
    "                                                            cv=KFold(n_splits=7, random_state=seed, shuffle=True), \n",
    "                                                            rounds=50)"
   ]
  },
  {
   "cell_type": "code",
   "execution_count": 287,
   "id": "f1640f3f",
   "metadata": {},
   "outputs": [
    {
     "data": {
      "text/plain": [
       "0.7584173913043478"
      ]
     },
     "execution_count": 287,
     "metadata": {},
     "output_type": "execute_result"
    }
   ],
   "source": [
    "preds = np.array([estimator.predict(xgb.DMatrix(x_test[boruta])) for estimator in estimators_xgb]).T\n",
    "preds = stats.gmean(preds, axis=1)\n",
    "roc_auc_score(y_test, preds)"
   ]
  },
  {
   "cell_type": "code",
   "execution_count": 288,
   "id": "759f5466",
   "metadata": {},
   "outputs": [
    {
     "data": {
      "text/plain": [
       "(0.741429045334615, 0.7745216898698617)"
      ]
     },
     "execution_count": 288,
     "metadata": {},
     "output_type": "execute_result"
    }
   ],
   "source": [
    "calculate_confidence_interval(create_bootstrap_metrics(y_test, preds, roc_auc_score))"
   ]
  },
  {
   "cell_type": "code",
   "execution_count": 289,
   "id": "e7e80a17",
   "metadata": {},
   "outputs": [
    {
     "name": "stdout",
     "output_type": "stream",
     "text": [
      "Mon Aug 29 00:12:26 2022, Cross-Validation, 89539 rows, 27 cols\n",
      "Fold 1, Train score = 0.80057, Valid score = 0.76509\n",
      "Fold 2, Train score = 0.79554, Valid score = 0.74509\n",
      "Fold 3, Train score = 0.79347, Valid score = 0.76817\n",
      "Fold 4, Train score = 0.79275, Valid score = 0.75790\n",
      "Fold 5, Train score = 0.79405, Valid score = 0.75977\n",
      "Fold 6, Train score = 0.79449, Valid score = 0.76123\n",
      "Fold 7, Train score = 0.79654, Valid score = 0.75923\n",
      "Train score by each fold: [0.80057, 0.79554, 0.79347, 0.79275, 0.79405, 0.79449, 0.79654]\n",
      "Valid score by each fold: [0.76509, 0.74509, 0.76817, 0.7579, 0.75977, 0.76123, 0.75923]\n",
      "Train mean score by each fold:0.79534 +/- 0.00243\n",
      "Valid mean score by each fold:0.75950 +/- 0.00676\n",
      "**************************************************\n",
      "OOF-score: 0.75947\n"
     ]
    }
   ],
   "source": [
    "estimators_xgb, _, oof_preds_xgb = xgboost_cross_validation(xgb_params, \n",
    "                                                            X[boruta], \n",
    "                                                            y.reset_index(drop=True), \n",
    "                                                            cv=KFold(n_splits=7, random_state=seed, shuffle=True), \n",
    "                                                            rounds=50)"
   ]
  },
  {
   "cell_type": "code",
   "execution_count": 293,
   "id": "5e58507e",
   "metadata": {},
   "outputs": [],
   "source": [
    "xgb_data_test = data_test[boruta].copy(deep=True)\n",
    "\n",
    "for col in xgb_data_test.columns:\n",
    "    xgb_data_test[col] = xgb_data_test[col].replace(np.inf, 0)"
   ]
  },
  {
   "cell_type": "code",
   "execution_count": 294,
   "id": "688d720a",
   "metadata": {},
   "outputs": [],
   "source": [
    "test_preds = np.array([model.predict(xgb.DMatrix(xgb_data_test)) for model in estimators_xgb]).T\n",
    "\n",
    "test_preds4 = stats.gmean(test_preds, axis=1)"
   ]
  },
  {
   "cell_type": "code",
   "execution_count": 296,
   "id": "051864e8",
   "metadata": {},
   "outputs": [
    {
     "data": {
      "text/html": [
       "<div>\n",
       "<style scoped>\n",
       "    .dataframe tbody tr th:only-of-type {\n",
       "        vertical-align: middle;\n",
       "    }\n",
       "\n",
       "    .dataframe tbody tr th {\n",
       "        vertical-align: top;\n",
       "    }\n",
       "\n",
       "    .dataframe thead th {\n",
       "        text-align: right;\n",
       "    }\n",
       "</style>\n",
       "<table border=\"1\" class=\"dataframe\">\n",
       "  <thead>\n",
       "    <tr style=\"text-align: right;\">\n",
       "      <th></th>\n",
       "      <th>lgbm</th>\n",
       "      <th>lgbm2</th>\n",
       "      <th>cat</th>\n",
       "      <th>xgb</th>\n",
       "    </tr>\n",
       "  </thead>\n",
       "  <tbody>\n",
       "    <tr>\n",
       "      <th>lgbm</th>\n",
       "      <td>1.0000</td>\n",
       "      <td>0.9866</td>\n",
       "      <td>0.9760</td>\n",
       "      <td>0.9903</td>\n",
       "    </tr>\n",
       "    <tr>\n",
       "      <th>lgbm2</th>\n",
       "      <td>0.9866</td>\n",
       "      <td>1.0000</td>\n",
       "      <td>0.9700</td>\n",
       "      <td>0.9830</td>\n",
       "    </tr>\n",
       "    <tr>\n",
       "      <th>cat</th>\n",
       "      <td>0.9760</td>\n",
       "      <td>0.9700</td>\n",
       "      <td>1.0000</td>\n",
       "      <td>0.9802</td>\n",
       "    </tr>\n",
       "    <tr>\n",
       "      <th>xgb</th>\n",
       "      <td>0.9903</td>\n",
       "      <td>0.9830</td>\n",
       "      <td>0.9802</td>\n",
       "      <td>1.0000</td>\n",
       "    </tr>\n",
       "  </tbody>\n",
       "</table>\n",
       "</div>"
      ],
      "text/plain": [
       "        lgbm  lgbm2    cat    xgb\n",
       "lgbm  1.0000 0.9866 0.9760 0.9903\n",
       "lgbm2 0.9866 1.0000 0.9700 0.9830\n",
       "cat   0.9760 0.9700 1.0000 0.9802\n",
       "xgb   0.9903 0.9830 0.9802 1.0000"
      ]
     },
     "execution_count": 296,
     "metadata": {},
     "output_type": "execute_result"
    }
   ],
   "source": [
    "pd.DataFrame({'lgbm': test_preds1, 'lgbm2': test_preds2, 'cat': test_preds3, 'xgb': test_preds4}).corr()"
   ]
  },
  {
   "cell_type": "markdown",
   "id": "1766a8a6",
   "metadata": {},
   "source": [
    "### Averaging"
   ]
  },
  {
   "cell_type": "code",
   "execution_count": 297,
   "id": "3765b4cc",
   "metadata": {},
   "outputs": [],
   "source": [
    "oof_predictions = pd.DataFrame(data={'m1': oof_preds_lgbm1, 'm2': oof_preds_lgbm2, 'm3': oof_preds_cat1, 'm4': oof_preds_xgb})\n",
    "test_predictions = pd.DataFrame(data={'m1': test_preds1, 'm2': test_preds2, 'm3': test_preds3, 'm4': test_preds4})"
   ]
  },
  {
   "cell_type": "code",
   "execution_count": 298,
   "id": "8da5de09",
   "metadata": {},
   "outputs": [
    {
     "data": {
      "image/png": "[encoded data removed]",
      "text/plain": [
       "<Figure size 720x720 with 2 Axes>"
      ]
     },
     "metadata": {
      "needs_background": "light"
     },
     "output_type": "display_data"
    }
   ],
   "source": [
    "corr = oof_predictions.corr()\n",
    "mask = np.zeros_like(corr, dtype=np.bool)\n",
    "mask[np.triu_indices_from(mask)] = True\n",
    "\n",
    "fig, axes = plt.subplots(1, 1, figsize=(10, 10))\n",
    "sns.heatmap(corr, mask=mask, annot=True, fmt=\".4g\", square=True, cmap=\"viridis\", ax=axes)\n",
    "plt.show()"
   ]
  },
  {
   "cell_type": "code",
   "execution_count": 299,
   "id": "a4f39699",
   "metadata": {},
   "outputs": [
    {
     "name": "stdout",
     "output_type": "stream",
     "text": [
      "AMean score: 0.76046\n",
      "GMean score: 0.76051\n",
      "Rank  score: 0.76049\n",
      "GMean  rank: 0.76050\n"
     ]
    }
   ],
   "source": [
    "mean_scores(oof_predictions, y)"
   ]
  },
  {
   "cell_type": "code",
   "execution_count": 301,
   "id": "a3184f34",
   "metadata": {},
   "outputs": [
    {
     "name": "stdout",
     "output_type": "stream",
     "text": [
      "Fold 1, Train score: 0.76227, Valid score = 0.75547\n",
      "Fold 2, Train score: 0.76103, Valid score = 0.76666\n",
      "Fold 3, Train score: 0.76307, Valid score = 0.74825\n",
      "Fold 4, Train score: 0.76037, Valid score = 0.77219\n",
      "Fold 5, Train score: 0.76139, Valid score = 0.76309\n",
      "Fold 6, Train score: 0.76200, Valid score = 0.75774\n",
      "Fold 7, Train score: 0.76138, Valid score = 0.76363\n",
      "Fold 8, Train score: 0.76159, Valid score = 0.76176\n",
      "Fold 9, Train score: 0.76105, Valid score = 0.76602\n",
      "Fold 10, Train score: 0.76172, Valid score = 0.75950\n",
      "Train score by each fold: [0.76227, 0.76103, 0.76307, 0.76037, 0.76139, 0.762, 0.76138, 0.76159, 0.76105, 0.76172]\n",
      "Valid score by each fold: [0.75547, 0.76666, 0.74825, 0.77219, 0.76309, 0.75774, 0.76363, 0.76176, 0.76602, 0.7595]\n",
      "Train mean score by each fold:0.76159 +/- 0.00071\n",
      "Valid mean score by each fold:0.76143 +/- 0.00631\n",
      "**************************************************\n"
     ]
    }
   ],
   "source": [
    "lda = LinearDiscriminantAnalysis(\n",
    "                                 solver='eigen',  \n",
    "                                 shrinkage='auto',\n",
    "                                 store_covariance=True,\n",
    "                                 n_components=1\n",
    "                                )\n",
    "\n",
    "estimators_lda, oof_preds_lda, mean_score = cross_validation(model=lda,\n",
    "                                                             X=oof_predictions,\n",
    "                                                             y=y.reset_index(drop=True),\n",
    "                                                             cv=KFold(n_splits=10, shuffle=True, random_state=seed))"
   ]
  },
  {
   "cell_type": "code",
   "execution_count": 303,
   "id": "925165aa",
   "metadata": {},
   "outputs": [
    {
     "data": {
      "text/plain": [
       "0.7614681110254293"
      ]
     },
     "execution_count": 303,
     "metadata": {},
     "output_type": "execute_result"
    }
   ],
   "source": [
    "roc_auc_score(y, oof_preds_lda)"
   ]
  },
  {
   "cell_type": "code",
   "execution_count": 305,
   "id": "2d69738f",
   "metadata": {},
   "outputs": [],
   "source": [
    "test_fin = np.array([estimator.predict_proba(test_predictions)[:,1] for estimator in estimators_lda]).T\n",
    "test_fin = pd.DataFrame(data=test_fin)\n",
    "test_fin = stats.gmean(test_fin, axis=1)"
   ]
  },
  {
   "cell_type": "code",
   "execution_count": 308,
   "id": "06625517",
   "metadata": {},
   "outputs": [],
   "source": [
    "# saving predicted scores to csv, columns: test_index, scores\n",
    "\n",
    "final_predictions = pd.DataFrame({ID_COL: test_index, TARGET: test_fin})\n",
    "final_predictions.to_csv('nonzero.csv', index=False)"
   ]
  },
  {
   "cell_type": "markdown",
   "id": "fc5cc170",
   "metadata": {},
   "source": [
    "### exhaustive selection"
   ]
  },
  {
   "cell_type": "code",
   "execution_count": 61,
   "id": "efdb83c6",
   "metadata": {},
   "outputs": [
    {
     "name": "stderr",
     "output_type": "stream",
     "text": [
      "                                                                                                                       \r"
     ]
    }
   ],
   "source": [
    "selector = BestSet(lgbm_params1, k_features=20).fit(x_train[boruta], y_train)  # boruta lgbm"
   ]
  },
  {
   "cell_type": "code",
   "execution_count": 63,
   "id": "5acd055a",
   "metadata": {},
   "outputs": [
    {
     "data": {
      "text/plain": [
       "(Index(['NAME_CONTRACT_TYPE', 'RATIO_CREDIT_TO_AGE', 'EXT_SCORE_3_ANNUITY',\n",
       "        'AGE', 'EXTERNAL_SCORING_RATING_3', 'AMT_REQ_CREDIT_BUREAU_YEAR',\n",
       "        'EXTERNAL_SCORING_RATING_1', 'EXT_SCORES_mean',\n",
       "        'RATIO_AMOUNT_ANNUITY_TO_SALARY', 'GENDER', 'AMOUNT_ANNUITY',\n",
       "        'ANNUITY_JOB', 'RATIO_CAR_TO_AGE', 'EXT_SCORES_min',\n",
       "        'NEW_CREDIT_TO_ANNUITY_RATIO_MEAN_GENDER_AGE_BIN',\n",
       "        'EDUCATION_FAMILY_STATUS', 'NEW_CREDIT_TO_ANNUITY_RATIO',\n",
       "        'EXT_SCORE_3_AMT_CREDIT', 'SALARY_JOB', 'REGION_POPULATION'],\n",
       "       dtype='object'),\n",
       " 0.7587457766304515)"
      ]
     },
     "execution_count": 63,
     "metadata": {},
     "output_type": "execute_result"
    }
   ],
   "source": [
    "x_train[boruta].columns[list(selector.subsets_[np.argmax(selector.scores_)])], max(selector.scores_)"
   ]
  },
  {
   "cell_type": "code",
   "execution_count": null,
   "id": "293ee613",
   "metadata": {},
   "outputs": [],
   "source": [
    "# optuna for every model"
   ]
  }
 ],
 "metadata": {
  "kernelspec": {
   "display_name": "Python 3 (ipykernel)",
   "language": "python",
   "name": "python3"
  },
  "language_info": {
   "codemirror_mode": {
    "name": "ipython",
    "version": 3
   },
   "file_extension": ".py",
   "mimetype": "text/x-python",
   "name": "python",
   "nbconvert_exporter": "python",
   "pygments_lexer": "ipython3",
   "version": "3.10.4"
  }
 },
 "nbformat": 4,
 "nbformat_minor": 5
}
