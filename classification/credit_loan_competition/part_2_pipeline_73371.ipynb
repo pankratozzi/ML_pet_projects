{
 "cells": [
  {
   "cell_type": "code",
   "execution_count": 2,
   "id": "a4dc9eae",
   "metadata": {},
   "outputs": [],
   "source": [
    "import warnings\n",
    "warnings.filterwarnings('ignore')\n",
    "\n",
    "import pandas as pd\n",
    "import numpy as np\n",
    "import matplotlib.pyplot as plt\n",
    "import seaborn as sns\n",
    "from typing import Optional, List, Tuple\n",
    "from pprint import pprint\n",
    "from tqdm import tqdm\n",
    "import time\n",
    "from scipy import stats\n",
    "from scipy.optimize import minimize\n",
    "\n",
    "from itertools import combinations\n",
    "\n",
    "import missingno as msno\n",
    "from sklearn.metrics import roc_auc_score\n",
    "from sklearn.model_selection import train_test_split, cross_val_score, KFold, StratifiedKFold\n",
    "from sklearn.preprocessing import StandardScaler, MinMaxScaler, LabelEncoder\n",
    "from sklearn.discriminant_analysis import LinearDiscriminantAnalysis\n",
    "from sklearn.base import BaseEstimator, TransformerMixin\n",
    "from sklearn.utils.class_weight import compute_class_weight\n",
    "\n",
    "from BorutaShap import BorutaShap\n",
    "import category_encoders as ce\n",
    "\n",
    "from lightgbm import LGBMClassifier\n",
    "from catboost import CatBoostClassifier, Pool, EFeaturesSelectionAlgorithm, EShapCalcType\n",
    "\n",
    "import optuna\n",
    "from optuna.samplers import TPESampler\n",
    "\n",
    "import tensorflow as tf  # another kernel: work in progress - MLP with BatchNorm, Convolutional\n",
    "\n",
    "from utils import *\n",
    "import gc\n",
    "gc.enable()"
   ]
  },
  {
   "cell_type": "code",
   "execution_count": 3,
   "id": "61be525b",
   "metadata": {},
   "outputs": [],
   "source": [
    "seed = 42\n",
    "np.random.seed(seed)\n",
    "np.set_printoptions(2)\n",
    "pd.options.display.float_format = '{:.4f}'.format\n",
    "plt.style.use('ggplot')\n",
    "pd.set_option('display.max_columns', None)\n",
    "\n",
    "ID_COL = 'APPLICATION_NUMBER'\n",
    "TARGET= 'TARGET'"
   ]
  },
  {
   "cell_type": "code",
   "execution_count": 4,
   "id": "088cc78a",
   "metadata": {},
   "outputs": [],
   "source": [
    "train = pd.read_csv('train.csv')\n",
    "test = pd.read_csv('test.csv')"
   ]
  },
  {
   "cell_type": "markdown",
   "id": "7b866848",
   "metadata": {},
   "source": [
    "**models based on profile data**"
   ]
  },
  {
   "cell_type": "code",
   "execution_count": 102,
   "id": "20f7e624",
   "metadata": {},
   "outputs": [
    {
     "name": "stdout",
     "output_type": "stream",
     "text": [
      "Memory usage of dataframe is 182.15 MB\n",
      "Memory usage after optimization is: 90.60 MB\n",
      "Decreased by 50.3%\n"
     ]
    },
    {
     "data": {
      "text/plain": [
       "(110093, 117)"
      ]
     },
     "execution_count": 102,
     "metadata": {},
     "output_type": "execute_result"
    }
   ],
   "source": [
    "data = pd.concat([train, test], axis=0)\n",
    "df = prepare_cp_sec(data, dropna=False, create_features=True, is_category_encode=False)\n",
    "\n",
    "df_cat_cols = [column for column in df.columns if df[column].dtype in [\"object\", \"category\"]]\n",
    "for col in df_cat_cols:\n",
    "    if df[col].nunique() > 20:\n",
    "        encoder = LabelEncoder()\n",
    "        df[col] = encoder.fit_transform(df[col].astype(str).fillna(\"NA\"))\n",
    "df, _ = get_encoded(df)\n",
    "\n",
    "data_border = len(data) - df[TARGET].isna().sum()\n",
    "data_train, data_test = df.iloc[:data_border, :], df.iloc[data_border:, :]\n",
    "X, y = data_train.drop(TARGET, axis=1), data_train[TARGET]\n",
    "\n",
    "X = X.drop(ID_COL, axis=1)\n",
    "\n",
    "X.shape\n",
    "# pay attention at EXTERNAL_WEIGHTED_SCORE: lots of NA values due to NA in additive terms (next hypothesis to fillna(0) in sum)"
   ]
  },
  {
   "cell_type": "code",
   "execution_count": 38,
   "id": "7973c0ac",
   "metadata": {},
   "outputs": [],
   "source": [
    "# features, selected by BorutaShap and handy elimination\n",
    "boruta = ['NEW_CREDIT_TO_ANNUITY_RATIO_MEAN_GENDER_AGE_BIN', 'AGE', 'NEW_CREDIT_TO_ANNUITY_RATIO', \n",
    "          'DAYS_ON_LAST_JOB', 'ANNUITY_JOB', 'RATIO_CREDIT_TO_AGE', 'RATIO_CAR_TO_EXPERIENCE', 'RATIO_CAR_TO_AGE', \n",
    "          'AMOUNT_ANNUITY_MEAN_BY_EDUCATION', 'AMT_REQ_CREDIT_BUREAU_YEAR', 'SALARY_JOB', \n",
    "          'AMOUNT_ANNUITY_MIN_BY_EDUCATION', 'AMOUNT_CREDIT_MEAN_BY_EDUCATION', 'EXTERNAL_SCORING_RATING_3', \n",
    "          'NAME_CONTRACT_TYPE', 'CREDIT_JOB', 'AMOUNT_CREDIT', 'TOTAL_SALARY_MEAN_BY_EDUCATION', \n",
    "          'EXTERNAL_SCORE_WEIGHTED', 'TOTAL_SALARY_MEAN_AGE_INTERVAL', 'EXTERNAL_SCORING_RATING_2', \n",
    "          'EDUCATION_FAMILY_STATUS', 'GENDER', 'RATIO_ANNUITY_TO_AGE', 'TOTAL_SALARY_MIN_BY_EDUCATION', \n",
    "          'RATIO_AMOUNT_ANNUITY_TO_SALARY', 'AMOUNT_ANNUITY', 'OWN_CAR_AGE', 'RATIO_AGE_TO_EXPERIENCE', \n",
    "          'RATIO_SALARY_TO_AMOUNT_CREDIT_MEAN_GENDER_AGE_BIN', 'EXTERNAL_SCORING_RATING_1', \n",
    "          'TOTAL_SALARY_COUNT_BY_EDUCATION', 'AMOUNT_ANNUITY_MAX_BY_EDUCATION', 'AMOUNT_CREDIT_MAX_BY_EDUCATION', \n",
    "          'RATIO_SALARY_TO_AGE', 'TOTAL_SALARY_COUNT_AGE_INTERVAL', 'AMT_REQ_CREDIT_BUREAU_QRT', \n",
    "          'SALARY_REGION_POPULATION', 'AGE_BIN', 'TOTAL_SALARY_MAX_BY_EDUCATION', 'NEW_STATUS_FMarried', \n",
    "          'RATIO_SALARY_TO_AMOUNT_CREDIT']"
   ]
  },
  {
   "cell_type": "markdown",
   "id": "cb479b4d",
   "metadata": {},
   "source": [
    "**LGBM Base model (boruta features from profile.csv)**\n",
    "\n",
    "Predictions for test are obtained by averaging CV estimators"
   ]
  },
  {
   "cell_type": "code",
   "execution_count": 39,
   "id": "3a767928",
   "metadata": {},
   "outputs": [
    {
     "name": "stdout",
     "output_type": "stream",
     "text": [
      "Sat Aug 27 22:10:51 2022, Cross-Validation, 110093 rows, 42 cols\n",
      "Fold 1, Train score = 0.76910, Valid score = 0.74159\n",
      "Fold 2, Train score = 0.78003, Valid score = 0.72489\n",
      "Fold 3, Train score = 0.77269, Valid score = 0.73070\n",
      "Fold 4, Train score = 0.77758, Valid score = 0.73267\n",
      "Fold 5, Train score = 0.78181, Valid score = 0.71679\n",
      "Train score by each fold: [0.7691, 0.78003, 0.77269, 0.77758, 0.78181]\n",
      "Valid score by each fold: [0.74159, 0.72489, 0.7307, 0.73267, 0.71679]\n",
      "Train mean score by each fold:0.77624 +/- 0.00471\n",
      "Valid mean score by each fold:0.72933 +/- 0.00825\n",
      "**************************************************\n",
      "OOF-score: 0.72830\n"
     ]
    }
   ],
   "source": [
    "# got 0.73211 on LB\n",
    "lgbm_params_my = {\n",
    "    'metric':\"auc\", \n",
    "    'boosting_type': 'gbdt',\n",
    "    'n_estimators': 1000,\n",
    "    'learning_rate': 0.03,\n",
    "    'num_leaves': 42,\n",
    "    'max_depth': 10,\n",
    "    'reg_alpha': 0.05,\n",
    "    'reg_lambda': 0.06,\n",
    "    'subsample': 0.8,\n",
    "    'min_child_weight': 60,\n",
    "    'random_state': seed\n",
    "}\n",
    "\n",
    "estimators_lgbm, oof_preds_lgbm = lightgbm_cross_validation(lgbm_params_my, \n",
    "                                                            X[boruta], \n",
    "                                                            y, \n",
    "                                                            cv=KFold(n_splits=5, random_state=seed, shuffle=True), \n",
    "                                                            rounds=50)"
   ]
  },
  {
   "cell_type": "code",
   "execution_count": 7,
   "id": "97af2cd4",
   "metadata": {},
   "outputs": [
    {
     "data": {
      "text/plain": [
       "(0.7229144948491019, 0.7335425679214886)"
      ]
     },
     "execution_count": 7,
     "metadata": {},
     "output_type": "execute_result"
    }
   ],
   "source": [
    "# this is no quite fair as we used oof values for early stopping in CV loop. CI would be optimistic\n",
    "calculate_confidence_interval(create_bootstrap_metrics(y, oof_preds_lgbm, roc_auc_score))"
   ]
  },
  {
   "cell_type": "code",
   "execution_count": 40,
   "id": "b8994a4e",
   "metadata": {},
   "outputs": [],
   "source": [
    "test_preds = np.array([model.predict_proba(data_test[boruta])[:,1] for model in estimators_lgbm])\n",
    "# test_preds1 = pd.DataFrame({ID_COL: test_index, TARGET: test_preds.T.mean(axis=1)})\n",
    "test_preds1 = test_preds.T.mean(axis=1)"
   ]
  },
  {
   "cell_type": "markdown",
   "id": "572f62d6",
   "metadata": {},
   "source": [
    "**CatBoost Base model**"
   ]
  },
  {
   "cell_type": "code",
   "execution_count": 9,
   "id": "cbb9e1b9",
   "metadata": {},
   "outputs": [
    {
     "name": "stdout",
     "output_type": "stream",
     "text": [
      "Sat Aug 27 21:53:56 2022, Cross-Validation, 110093 rows, 42 cols\n",
      "Fold 1, Train score = 0.75958, Valid score = 0.74136\n",
      "Fold 2, Train score = 0.75875, Valid score = 0.72563\n",
      "Fold 3, Train score = 0.75672, Valid score = 0.72853\n",
      "Fold 4, Train score = 0.77492, Valid score = 0.73394\n",
      "Fold 5, Train score = 0.76380, Valid score = 0.71967\n",
      "Train score by each fold: [0.75958, 0.75875, 0.75672, 0.77492, 0.7638]\n",
      "Valid score by each fold: [0.74136, 0.72563, 0.72853, 0.73394, 0.71967]\n",
      "Train mean score by each fold:0.76275 +/- 0.00651\n",
      "Valid mean score by each fold:0.72983 +/- 0.00738\n",
      "**************************************************\n",
      "OOF-score: 0.72913\n"
     ]
    }
   ],
   "source": [
    "# 0.72989\n",
    "cat_params = {\n",
    "                'silent': True,  \n",
    "                'one_hot_max_size': 2,  \n",
    "                'iterations': 1000, \n",
    "                'eval_metric': 'AUC',  \n",
    "                'allow_writing_files': False,  \n",
    "                'random_seed': seed,  \n",
    "                #'auto_class_weights': 'SqrtBalanced',  \n",
    "                'grow_policy': 'SymmetricTree', \n",
    "                'objective': 'Logloss',  \n",
    "                'boosting_type': 'Ordered', \n",
    "                'score_function': 'Cosine',  \n",
    "                'bootstrap_type': 'MVS',  \n",
    "                'bagging_temperature': 3.68,  \n",
    "                'colsample_bylevel': 0.839,  \n",
    "                'depth': 6, \n",
    "                'l2_leaf_reg': 3,  \n",
    "                'learning_rate': 0.05, \n",
    "                'max_ctr_complexity': 2, \n",
    "                'subsample': 0.86,  \n",
    "                'max_bin': 254,  \n",
    "}\n",
    "cat_cols = [column for column in X.columns if X[column].dtype in [\"object\", \"category\"]]\n",
    "\n",
    "estimators_cat, oof_preds_cat = catboost_cross_validation(cat_params, \n",
    "                                                          X[boruta], \n",
    "                                                          y, \n",
    "                                                          cv=KFold(n_splits=5, random_state=seed, shuffle=True), \n",
    "                                                          rounds=50)"
   ]
  },
  {
   "cell_type": "code",
   "execution_count": 10,
   "id": "a62aa14c",
   "metadata": {},
   "outputs": [
    {
     "data": {
      "text/plain": [
       "(0.7241683790973656, 0.7342181540766775)"
      ]
     },
     "execution_count": 10,
     "metadata": {},
     "output_type": "execute_result"
    }
   ],
   "source": [
    "calculate_confidence_interval(create_bootstrap_metrics(y, oof_preds_cat, roc_auc_score))"
   ]
  },
  {
   "cell_type": "code",
   "execution_count": 10,
   "id": "02f7fc5f",
   "metadata": {},
   "outputs": [],
   "source": [
    "test_preds = np.array([model.predict_proba(data_test[boruta])[:,1] for model in estimators_cat])\n",
    "# test_preds2 = pd.DataFrame({ID_COL: test_index, TARGET: test_preds.T.mean(axis=1)})\n",
    "test_preds2 = test_preds.T.mean(axis=1)"
   ]
  },
  {
   "cell_type": "markdown",
   "id": "3fc31d82",
   "metadata": {},
   "source": [
    "**Add Bureau features and new models**"
   ]
  },
  {
   "cell_type": "code",
   "execution_count": 11,
   "id": "5cfb5e93",
   "metadata": {},
   "outputs": [
    {
     "data": {
      "text/plain": [
       "(273131, 34)"
      ]
     },
     "execution_count": 11,
     "metadata": {},
     "output_type": "execute_result"
    }
   ],
   "source": [
    "bureau = bki_cr()\n",
    "bureau.shape"
   ]
  },
  {
   "cell_type": "code",
   "execution_count": 41,
   "id": "fd01c03a",
   "metadata": {},
   "outputs": [],
   "source": [
    "X, y = data_train.drop(TARGET, axis=1), data_train[TARGET]\n",
    "X = X.merge(bureau, on=ID_COL, how='left')\n",
    "X_index = X[ID_COL]\n",
    "X = X.drop(ID_COL, axis=1)"
   ]
  },
  {
   "cell_type": "code",
   "execution_count": null,
   "id": "10f3472d",
   "metadata": {},
   "outputs": [],
   "source": [
    "# select informative features with less overfitting params\n",
    "lgbm_params = {\n",
    "                'metric':\"auc\", \n",
    "                'boosting_type': 'goss',\n",
    "                'is_unbalance': True,\n",
    "                'n_estimators': 212, \n",
    "                'learning_rate': 0.01, \n",
    "                'min_child_weight': 350, \n",
    "                'min_split_gain': 0.024766,\n",
    "                'max_depth': 3,\n",
    "                'verbose': -1,\n",
    "                'reg_alpha': 30,\n",
    "                'reg_lambda': 30,\n",
    "                'colsample_bytree': 0.33,\n",
    "                'num_leaves': 42,\n",
    "                'subsample': 0.33,\n",
    "                'max_bin': 128,\n",
    "                'random_state': seed\n",
    "}\n",
    "\n",
    "selector = BorutaShap(model=LGBMClassifier(**lgbm_params), importance_measure='shap', classification=True)\n",
    "selector.fit(X, y, n_trials=20, sample=False, normalize=True, verbose=True)"
   ]
  },
  {
   "cell_type": "code",
   "execution_count": 43,
   "id": "dfdb1de1",
   "metadata": {},
   "outputs": [],
   "source": [
    "boruta_bureau = ['EXTERNAL_SCORE_WEIGHTED', 'AMOUNT_ANNUITY_MAX_BY_EDUCATION', 'DAYS_ON_LAST_JOB', \n",
    "                 'AMOUNT_CREDIT_MEAN_BY_EDUCATION', 'RATIO_AMOUNT_ANNUITY_TO_SALARY', 'ANNUITY_JOB', \n",
    "                 'EXTERNAL_SCORING_RATING_2', 'AMOUNT_CREDIT', 'EXTERNAL_SCORING_RATING_3', 'AGE', 'AMOUNT_ANNUITY', \n",
    "                 'AMT_REQ_CREDIT_BUREAU_YEAR', 'RATIO_SALARY_TO_AMOUNT_CREDIT_MEAN_GENDER_AGE_BIN', 'RATIO_SALARY_TO_AGE', \n",
    "                 'EXTERNAL_SCORING_RATING_1', 'EXT_SCORE_3_ANNUITY', 'EXT_SCORE_3_AMT_CREDIT', 'RATIO_SALARY_TO_AMOUNT_CREDIT', \n",
    "                 'EXT_SCORE_2_ANNUITY', 'GENDER', 'EDUCATION_LEVEL_Higher education', 'EXT_SCORE_2_AMT_CREDIT', \n",
    "                 'TOTAL_SALARY_MEAN_AGE_INTERVAL', 'TOTAL_SALARY_MEAN_BY_EDUCATION', 'TOTAL_SALARY_MIN_BY_EDUCATION', \n",
    "                 'OWN_CAR_AGE', 'RATIO_SALARY_TO_AMOUNT_CREDIT_BY_FAMILY', 'EDUCATION_FAMILY_STATUS', 'RATIO_CREDIT_TO_AGE', \n",
    "                 'NEW_STATUS_FMarried', 'AMOUNT_CREDIT_MAX_BY_EDUCATION', 'RATIO_CAR_TO_AGE', 'CREDIT_JOB',\n",
    "                 'AMOUNT_ANNUITY_MEAN_BY_EDUCATION', 'NEW_CREDIT_TO_ANNUITY_RATIO_MEAN_GENDER_AGE_BIN', \n",
    "                 'AMOUNT_ANNUITY_MIN_BY_EDUCATION', 'RATIO_CAR_TO_EXPERIENCE', 'NEW_CREDIT_TO_ANNUITY_RATIO', \n",
    "                 'RATIO_ANNUITY_TO_AGE', 'NAME_CONTRACT_TYPE', 'RATIO_AGE_TO_EXPERIENCE', \n",
    "                 'AMOUNT_ANNUITY_MEAN_BY_FAMILY_STATUS', 'TOTAL_SALARY_MAX_BY_FAMILY_STATUS', 'SALARY_JOB', \n",
    "                 'AMOUNT_CREDIT_COUNT_BY_EDUCATION', 'AMT_REQ_CREDIT_BUREAU_QRT', 'AMOUNT_CREDIT_COUNT_AGE_INTERVAL', \n",
    "                 'TOTAL_SALARY_MAX_AGE_INTERVAL', 'TOTAL_SALARY_COUNT_AGE_INTERVAL', 'TOTAL_SALARY_MAX_BY_EDUCATION', \n",
    "                 'AMOUNT_ANNUITY_MAX_BY_FAMILY_STATUS', 'AMOUNT_CREDIT_MAX_AGE_INTERVAL', 'AGE_BIN', 'REGION_POPULATION', \n",
    "                 'TOTAL_SALARY_COUNT_BY_EDUCATION', 'BURO_CREDIT_TYPE_Consumer credit_MEAN']"
   ]
  },
  {
   "cell_type": "markdown",
   "id": "8bf2ade8",
   "metadata": {},
   "source": [
    "**LGBM model 2**"
   ]
  },
  {
   "cell_type": "code",
   "execution_count": 44,
   "id": "badadb00",
   "metadata": {},
   "outputs": [
    {
     "name": "stdout",
     "output_type": "stream",
     "text": [
      "Sat Aug 27 22:12:53 2022, Cross-Validation, 110093 rows, 56 cols\n",
      "Fold 1, Train score = 0.76513, Valid score = 0.72499\n",
      "Fold 2, Train score = 0.76073, Valid score = 0.73407\n",
      "Fold 3, Train score = 0.78405, Valid score = 0.72414\n",
      "Fold 4, Train score = 0.77584, Valid score = 0.73040\n",
      "Fold 5, Train score = 0.78912, Valid score = 0.73853\n",
      "Train score by each fold: [0.76513, 0.76073, 0.78405, 0.77584, 0.78912]\n",
      "Valid score by each fold: [0.72499, 0.73407, 0.72414, 0.7304, 0.73853]\n",
      "Train mean score by each fold:0.77497 +/- 0.01080\n",
      "Valid mean score by each fold:0.73043 +/- 0.00544\n",
      "**************************************************\n",
      "OOF-score: 0.73003\n"
     ]
    }
   ],
   "source": [
    "# 0.73209\n",
    "lgbm_params_my = {\n",
    "    'metric':\"auc\", \n",
    "    'boosting_type': 'gbdt',\n",
    "    'n_estimators': 1000,\n",
    "    'learning_rate': 0.05,\n",
    "    'num_leaves': 42,\n",
    "    'max_depth': 5,\n",
    "    'reg_alpha': 0.05,\n",
    "    'reg_lambda': 0.06,\n",
    "    'subsample': 0.8,\n",
    "    'min_child_weight': 60,\n",
    "    'random_state': seed\n",
    "}\n",
    "\n",
    "estimators_lgbm2, oof_preds_lgbm2 = lightgbm_cross_validation(lgbm_params_my, \n",
    "                                                              X[boruta_bureau], \n",
    "                                                              y, \n",
    "                                                              cv=KFold(n_splits=5, random_state=seed//2, shuffle=True), \n",
    "                                                              rounds=50)"
   ]
  },
  {
   "cell_type": "code",
   "execution_count": 17,
   "id": "00936b1d",
   "metadata": {},
   "outputs": [
    {
     "data": {
      "text/plain": [
       "(0.7246335209094215, 0.7355713388651984)"
      ]
     },
     "execution_count": 17,
     "metadata": {},
     "output_type": "execute_result"
    }
   ],
   "source": [
    "calculate_confidence_interval(create_bootstrap_metrics(y, oof_preds_lgbm2, roc_auc_score))"
   ]
  },
  {
   "cell_type": "code",
   "execution_count": 16,
   "id": "4a64a986",
   "metadata": {},
   "outputs": [
    {
     "name": "stdout",
     "output_type": "stream",
     "text": [
      "AMean score: 0.77067\n",
      "GMean score: 0.76982\n",
      "Rank  score: 0.76950\n",
      "GMean  rank: 0.76875\n"
     ]
    }
   ],
   "source": [
    "preds = pd.DataFrame(data=np.array([model.predict_proba(X[boruta_bureau])[:,1] for model in estimators_lgbm2]).T)\n",
    "mean_scores(preds, y)\n",
    "# weights optimization do not improve LB"
   ]
  },
  {
   "cell_type": "code",
   "execution_count": 17,
   "id": "4672c736",
   "metadata": {},
   "outputs": [],
   "source": [
    "data_test.drop(TARGET, axis=1, inplace=True)\n",
    "data_test = data_test.merge(bureau, on=ID_COL, how='left')\n",
    "test_index = data_test[ID_COL]\n",
    "data_test.drop(ID_COL, axis=1, inplace=True)"
   ]
  },
  {
   "cell_type": "code",
   "execution_count": 18,
   "id": "3164a4f7",
   "metadata": {},
   "outputs": [],
   "source": [
    "test_preds = np.array([model.predict_proba(data_test[boruta_bureau])[:,1] for model in estimators_lgbm2])\n",
    "# test_preds3 = pd.DataFrame({ID_COL: test_index, TARGET: test_preds.T.mean(axis=1)})\n",
    "test_preds3 = test_preds.T.mean(axis=1)"
   ]
  },
  {
   "cell_type": "code",
   "execution_count": 29,
   "id": "0ecf339d",
   "metadata": {},
   "outputs": [
    {
     "name": "stdout",
     "output_type": "stream",
     "text": [
      "Successfully submitted to GeekBrains Competitive Data Analysis\n"
     ]
    },
    {
     "name": "stderr",
     "output_type": "stream",
     "text": [
      "\n",
      "  0%|          | 0.00/4.90M [00:00<?, ?B/s]\n",
      "  4%|4         | 216k/4.90M [00:00<00:02, 1.65MB/s]\n",
      " 38%|###7      | 1.85M/4.90M [00:00<00:00, 3.67MB/s]\n",
      " 93%|#########2| 4.55M/4.90M [00:00<00:00, 9.04MB/s]\n",
      "100%|##########| 4.90M/4.90M [00:02<00:00, 2.34MB/s]\n"
     ]
    }
   ],
   "source": [
    "test_preds3.to_csv('submission.csv', index=False)\n",
    "#!kaggle competitions submit -c geekbrains-competitive-data-analysis -f submission.csv -m \"Message\""
   ]
  },
  {
   "cell_type": "markdown",
   "id": "ffd62fd0",
   "metadata": {},
   "source": [
    "**CatBoost model 2**"
   ]
  },
  {
   "cell_type": "code",
   "execution_count": 19,
   "id": "282c35df",
   "metadata": {},
   "outputs": [
    {
     "name": "stdout",
     "output_type": "stream",
     "text": [
      "Sat Aug 27 21:57:17 2022, Cross-Validation, 110093 rows, 56 cols\n",
      "Fold 1, Train score = 0.76455, Valid score = 0.72262\n",
      "Fold 2, Train score = 0.78430, Valid score = 0.73747\n",
      "Fold 3, Train score = 0.77374, Valid score = 0.72104\n",
      "Fold 4, Train score = 0.77971, Valid score = 0.73249\n",
      "Fold 5, Train score = 0.77683, Valid score = 0.73974\n",
      "Train score by each fold: [0.76455, 0.7843, 0.77374, 0.77971, 0.77683]\n",
      "Valid score by each fold: [0.72262, 0.73747, 0.72104, 0.73249, 0.73974]\n",
      "Train mean score by each fold:0.77583 +/- 0.00662\n",
      "Valid mean score by each fold:0.73067 +/- 0.00761\n",
      "**************************************************\n",
      "OOF-score: 0.73052\n"
     ]
    }
   ],
   "source": [
    "# 0.73096\n",
    "cat_params2 = {\n",
    "                'silent': True,  \n",
    "                'one_hot_max_size': 2,  \n",
    "                'iterations': 2000, \n",
    "                'eval_metric': 'AUC',  \n",
    "                'allow_writing_files': False,  \n",
    "                'random_seed': seed,  \n",
    "                'grow_policy': 'SymmetricTree', \n",
    "                'objective': 'Logloss',  \n",
    "                'boosting_type': 'Ordered', \n",
    "                'score_function': 'Cosine',  \n",
    "                'bootstrap_type': 'MVS',  \n",
    "                'bagging_temperature': 3.68,  \n",
    "                'colsample_bylevel': 0.839,  \n",
    "                'depth': 8, \n",
    "                'l2_leaf_reg': 30,  \n",
    "                'learning_rate': 0.05, \n",
    "                'max_ctr_complexity': 2, \n",
    "                'subsample': 0.86,  \n",
    "                'max_bin': 254,  \n",
    "}\n",
    "cat_cols = [column for column in X.columns if X[column].dtype in [\"object\", \"category\"]]\n",
    "\n",
    "estimators_cat2, oof_preds_cat2 = catboost_cross_validation(cat_params2, \n",
    "                                                            X[boruta_bureau], \n",
    "                                                            y, \n",
    "                                                            cv=KFold(n_splits=5, random_state=seed//2, shuffle=True), \n",
    "                                                            rounds=50)"
   ]
  },
  {
   "cell_type": "code",
   "execution_count": 22,
   "id": "8bec7367",
   "metadata": {},
   "outputs": [
    {
     "data": {
      "text/plain": [
       "(0.7252160055955358, 0.7357849516453057)"
      ]
     },
     "execution_count": 22,
     "metadata": {},
     "output_type": "execute_result"
    }
   ],
   "source": [
    "calculate_confidence_interval(create_bootstrap_metrics(y, oof_preds_cat2, roc_auc_score))"
   ]
  },
  {
   "cell_type": "code",
   "execution_count": 20,
   "id": "6c2bd4dd",
   "metadata": {},
   "outputs": [],
   "source": [
    "test_preds = np.array([model.predict_proba(data_test[boruta_bureau])[:,1] for model in estimators_cat2])\n",
    "# test_preds4 = pd.DataFrame({ID_COL: test_index, TARGET: test_preds.T.mean(axis=1)})\n",
    "test_preds4 = test_preds.T.mean(axis=1)"
   ]
  },
  {
   "cell_type": "code",
   "execution_count": 51,
   "id": "112555b1",
   "metadata": {},
   "outputs": [
    {
     "name": "stdout",
     "output_type": "stream",
     "text": [
      "Successfully submitted to GeekBrains Competitive Data Analysis\n"
     ]
    },
    {
     "name": "stderr",
     "output_type": "stream",
     "text": [
      "\n",
      "  0%|          | 0.00/4.90M [00:00<?, ?B/s]\n",
      "  5%|4         | 240k/4.90M [00:00<00:03, 1.55MB/s]\n",
      " 41%|####      | 2.00M/4.90M [00:00<00:00, 3.83MB/s]\n",
      "100%|##########| 4.90M/4.90M [00:02<00:00, 2.38MB/s]\n"
     ]
    }
   ],
   "source": [
    "test_preds4.to_csv('submission.csv', index=False)\n",
    "#!kaggle competitions submit -c geekbrains-competitive-data-analysis -f submission.csv -m \"Message\""
   ]
  },
  {
   "cell_type": "markdown",
   "id": "302290eb",
   "metadata": {},
   "source": [
    "**Models built on permutation data**"
   ]
  },
  {
   "cell_type": "code",
   "execution_count": 21,
   "id": "9d2925a1",
   "metadata": {},
   "outputs": [
    {
     "name": "stderr",
     "output_type": "stream",
     "text": [
      "100%|████████████████████████████████████████████████████████████████████████████████| 151/151 [00:35<00:00,  4.24it/s]\n"
     ]
    }
   ],
   "source": [
    "x_train, x_test, y_train, y_test = train_test_split(X, y, test_size=0.2, random_state=seed)\n",
    "scores, deltas = calculate_permutation_importance(LGBMClassifier(**lgbm_params_my).fit(x_train, y_train), \n",
    "                                                  x_valid=x_test, \n",
    "                                                  y_valid=y_test,\n",
    "                                                  probas=True, \n",
    "                                                  metric=roc_auc_score)"
   ]
  },
  {
   "cell_type": "code",
   "execution_count": 22,
   "id": "1b2b051e",
   "metadata": {},
   "outputs": [],
   "source": [
    "deltas = deltas[deltas>0].index.tolist()"
   ]
  },
  {
   "cell_type": "code",
   "execution_count": 23,
   "id": "c45319e6",
   "metadata": {},
   "outputs": [
    {
     "name": "stdout",
     "output_type": "stream",
     "text": [
      "Sat Aug 27 22:02:00 2022, Cross-Validation, 110093 rows, 63 cols\n",
      "Fold 1, Train score = 0.81922, Valid score = 0.74542\n",
      "Fold 2, Train score = 0.81756, Valid score = 0.72643\n",
      "Fold 3, Train score = 0.79086, Valid score = 0.73290\n",
      "Fold 4, Train score = 0.82197, Valid score = 0.73211\n",
      "Fold 5, Train score = 0.81063, Valid score = 0.71904\n",
      "Train score by each fold: [0.81922, 0.81756, 0.79086, 0.82197, 0.81063]\n",
      "Valid score by each fold: [0.74542, 0.72643, 0.7329, 0.73211, 0.71904]\n",
      "Train mean score by each fold:0.81205 +/- 0.01124\n",
      "Valid mean score by each fold:0.73118 +/- 0.00868\n",
      "**************************************************\n",
      "OOF-score: 0.73046\n"
     ]
    }
   ],
   "source": [
    "lgbm_params_my = {\n",
    "                    'boosting_type': 'gbdt',\n",
    "                    'n_estimators': 1000,\n",
    "                    'learning_rate': 0.01,\n",
    "                    'num_leaves': 44,\n",
    "                    'max_depth': 8,\n",
    "                    'subsample_for_bin': 240000,\n",
    "                    'reg_alpha': 0.436193,\n",
    "                    'reg_lambda': 0.479169,\n",
    "                    'colsample_bytree': 0.508716,\n",
    "                    'min_split_gain': 0.024766,\n",
    "                    'subsample': 0.8,\n",
    "                    'is_unbalance': False,\n",
    "                    'random_state': seed,\n",
    "}\n",
    "\n",
    "estimators_lgbm4, oof_preds_lgbm4 = lightgbm_cross_validation(lgbm_params_my, \n",
    "                                                              X[deltas], \n",
    "                                                              y, \n",
    "                                                              cv=KFold(n_splits=5, random_state=seed, shuffle=True), \n",
    "                                                              rounds=50)"
   ]
  },
  {
   "cell_type": "code",
   "execution_count": 81,
   "id": "7e04dd3b",
   "metadata": {},
   "outputs": [
    {
     "data": {
      "text/plain": [
       "(0.7253414680696273, 0.7355875521562709)"
      ]
     },
     "execution_count": 81,
     "metadata": {},
     "output_type": "execute_result"
    }
   ],
   "source": [
    "calculate_confidence_interval(create_bootstrap_metrics(y, oof_preds_lgbm4, roc_auc_score))"
   ]
  },
  {
   "cell_type": "code",
   "execution_count": 24,
   "id": "86aa7bc2",
   "metadata": {},
   "outputs": [],
   "source": [
    "test_preds = np.array([model.predict_proba(data_test[deltas])[:,1] for model in estimators_lgbm4])\n",
    "# test_preds7 = pd.DataFrame({ID_COL: test_index, TARGET: test_preds.T.mean(axis=1)})\n",
    "test_preds7 = test_preds.T.mean(axis=1)"
   ]
  },
  {
   "cell_type": "code",
   "execution_count": 90,
   "id": "5b0113d0",
   "metadata": {},
   "outputs": [
    {
     "name": "stdout",
     "output_type": "stream",
     "text": [
      "Successfully submitted to GeekBrains Competitive Data Analysis\n"
     ]
    },
    {
     "name": "stderr",
     "output_type": "stream",
     "text": [
      "\n",
      "  0%|          | 0.00/4.90M [00:00<?, ?B/s]\n",
      "  4%|4         | 224k/4.90M [00:00<00:03, 1.59MB/s]\n",
      " 45%|####4     | 2.18M/4.90M [00:00<00:00, 10.5MB/s]\n",
      " 67%|######7   | 3.29M/4.90M [00:00<00:00, 3.33MB/s]\n",
      " 81%|########1 | 3.97M/4.90M [00:01<00:00, 3.52MB/s]\n",
      " 93%|#########2| 4.54M/4.90M [00:01<00:00, 3.67MB/s]\n",
      "100%|##########| 4.90M/4.90M [00:02<00:00, 1.77MB/s]\n"
     ]
    }
   ],
   "source": [
    "test_preds7.to_csv('submission.csv', index=False) # 0.73250\n",
    "# !kaggle competitions submit -c geekbrains-competitive-data-analysis -f submission.csv -m \"Message\""
   ]
  },
  {
   "cell_type": "markdown",
   "id": "41300cda",
   "metadata": {},
   "source": [
    "**Model built on exhaustive feature selection**"
   ]
  },
  {
   "cell_type": "code",
   "execution_count": 25,
   "id": "02cb1478",
   "metadata": {},
   "outputs": [],
   "source": [
    "exhaust = ['EXT_SCORES_mean', 'NEW_CREDIT_TO_ANNUITY_RATIO', 'ANNUITY_JOB', 'EXTERNAL_SCORING_RATING_3', 'NAME_CONTRACT_TYPE',\n",
    "           'NEW_CREDIT_TO_ANNUITY_RATIO_MEAN_GENDER_AGE_BIN', 'AMOUNT_ANNUITY', 'EXTERNAL_SCORING_RATING_2', 'AGE', \n",
    "           'AMT_REQ_CREDIT_BUREAU_QRT', 'RATIO_AMOUNT_ANNUITY_TO_SALARY', 'TOTAL_SALARY_COUNT_AGE_INTERVAL',\n",
    "           'EDUCATION_FAMILY_STATUS', 'TOTAL_SALARY_MEAN_AGE_INTERVAL', 'AMOUNT_CREDIT', 'RATIO_AGE_TO_EXPERIENCE', \n",
    "           'RATIO_CAR_TO_AGE', 'EXT_SCORES_min', 'RATIO_SALARY_TO_AMOUNT_CREDIT_BY_FAMILY', 'AMOUNT_CREDIT_MEAN_AGE_INTERVAL',\n",
    "           'AMOUNT_ANNUITY_MIN_BY_FAMILY_STATUS', 'RATIO_CREDIT_TO_AGE', 'TOTAL_SALARY_MAX_AGE_INTERVAL', \n",
    "           'NEW_STATUS_MSeparated', 'EXT_SCORE_3_ANNUITY', 'NEW_STATUS_MMarried', 'TOTAL_SALARY_MEAN_BY_EDUCATION',\n",
    "           'DELTA_SALARY_TO_MEAN_SALARY_BY_EDUCATION', 'AMT_REQ_CREDIT_BUREAU_YEAR', 'CHILDRENS', \n",
    "           'AMOUNT_CREDIT_MEAN_BY_EDUCATION', 'TOTAL_SALARY_MIN_AGE_INTERVAL', 'AMOUNT_CREDIT_MEAN_BY_FAMILY_STATUS', \n",
    "           'NEW_STATUS_MCivil marriage', 'EXT_SCORE_1_AMT_CREDIT', 'AMT_REQ_CREDIT_BUREAU_HOUR', 'GENDER',\n",
    "           'AMOUNT_ANNUITY_MEAN_BY_FAMILY_STATUS', 'EXTERNAL_SCORE_WEIGHTED', 'EXTERNAL_SCORING_RATING_1']"
   ]
  },
  {
   "cell_type": "code",
   "execution_count": 26,
   "id": "77a7dc64",
   "metadata": {},
   "outputs": [
    {
     "name": "stdout",
     "output_type": "stream",
     "text": [
      "Sat Aug 27 22:02:28 2022, Cross-Validation, 110093 rows, 40 cols\n",
      "Fold 1, Train score = 0.76411, Valid score = 0.73506\n",
      "Fold 2, Train score = 0.75483, Valid score = 0.72234\n",
      "Fold 3, Train score = 0.76071, Valid score = 0.73413\n",
      "Fold 4, Train score = 0.76178, Valid score = 0.73187\n",
      "Fold 5, Train score = 0.76075, Valid score = 0.73313\n",
      "Train score by each fold: [0.76411, 0.75483, 0.76071, 0.76178, 0.76075]\n",
      "Valid score by each fold: [0.73506, 0.72234, 0.73413, 0.73187, 0.73313]\n",
      "Train mean score by each fold:0.76044 +/- 0.00306\n",
      "Valid mean score by each fold:0.73131 +/- 0.00461\n",
      "**************************************************\n",
      "OOF-score: 0.73059\n"
     ]
    }
   ],
   "source": [
    "# got 0.73211 on LB\n",
    "lgbm_params_my = {\n",
    "    'metric':\"auc\", \n",
    "    'boosting_type': 'gbdt',\n",
    "    'n_estimators': 1000,\n",
    "    'learning_rate': 0.035,\n",
    "    'num_leaves': 12,\n",
    "    'max_depth': 12,\n",
    "    'reg_alpha': 0.05,\n",
    "    'reg_lambda': 0.06,\n",
    "    'subsample': 0.8,\n",
    "    'min_child_weight': 56,\n",
    "    'random_state': seed\n",
    "}\n",
    "\n",
    "estimators_lgbm3, oof_preds_lgbm3 = lightgbm_cross_validation(lgbm_params_my, \n",
    "                                                              X[exhaust], \n",
    "                                                              y, \n",
    "                                                              cv=KFold(n_splits=5, random_state=seed//3, shuffle=True), \n",
    "                                                              rounds=50)"
   ]
  },
  {
   "cell_type": "code",
   "execution_count": 26,
   "id": "962558e3",
   "metadata": {},
   "outputs": [
    {
     "data": {
      "text/plain": [
       "(0.7253662532140501, 0.7360132526893445)"
      ]
     },
     "execution_count": 26,
     "metadata": {},
     "output_type": "execute_result"
    }
   ],
   "source": [
    "calculate_confidence_interval(create_bootstrap_metrics(y, oof_preds_lgbm3, roc_auc_score))"
   ]
  },
  {
   "cell_type": "code",
   "execution_count": 27,
   "id": "d623bb4a",
   "metadata": {},
   "outputs": [],
   "source": [
    "test_preds = np.array([model.predict_proba(data_test[exhaust])[:,1] for model in estimators_lgbm3])\n",
    "# test_preds5 = pd.DataFrame({ID_COL: test_index, TARGET: test_preds.T.mean(axis=1)})\n",
    "test_preds5 = test_preds.T.mean(axis=1)"
   ]
  },
  {
   "cell_type": "code",
   "execution_count": 198,
   "id": "d1aaa9a5",
   "metadata": {},
   "outputs": [
    {
     "name": "stdout",
     "output_type": "stream",
     "text": [
      "Successfully submitted to GeekBrains Competitive Data Analysis\n"
     ]
    },
    {
     "name": "stderr",
     "output_type": "stream",
     "text": [
      "\n",
      "  0%|          | 0.00/4.90M [00:00<?, ?B/s]\n",
      "  4%|4         | 208k/4.90M [00:00<00:03, 1.49MB/s]\n",
      " 41%|####1     | 2.02M/4.90M [00:00<00:01, 2.74MB/s]\n",
      "100%|##########| 4.90M/4.90M [00:02<00:00, 2.29MB/s]\n"
     ]
    }
   ],
   "source": [
    "test_preds5.to_csv('submission.csv', index=False) # 0.73197\n",
    "# !kaggle competitions submit -c geekbrains-competitive-data-analysis -f submission.csv -m \"Message\""
   ]
  },
  {
   "cell_type": "markdown",
   "id": "b9733674",
   "metadata": {},
   "source": [
    "**CatBoost**"
   ]
  },
  {
   "cell_type": "code",
   "execution_count": 28,
   "id": "9a5432c8",
   "metadata": {},
   "outputs": [
    {
     "name": "stdout",
     "output_type": "stream",
     "text": [
      "Sat Aug 27 22:02:37 2022, Cross-Validation, 110093 rows, 40 cols\n",
      "Fold 1, Train score = 0.76473, Valid score = 0.73199\n",
      "Fold 2, Train score = 0.77973, Valid score = 0.72455\n",
      "Fold 3, Train score = 0.74876, Valid score = 0.73054\n",
      "Fold 4, Train score = 0.76708, Valid score = 0.73217\n",
      "Fold 5, Train score = 0.77533, Valid score = 0.73549\n",
      "Train score by each fold: [0.76473, 0.77973, 0.74876, 0.76708, 0.77533]\n",
      "Valid score by each fold: [0.73199, 0.72455, 0.73054, 0.73217, 0.73549]\n",
      "Train mean score by each fold:0.76713 +/- 0.01067\n",
      "Valid mean score by each fold:0.73095 +/- 0.00359\n",
      "**************************************************\n",
      "OOF-score: 0.73049\n"
     ]
    }
   ],
   "source": [
    "cat_params = {\n",
    "                'silent': True,  \n",
    "                'one_hot_max_size': 2,  \n",
    "                'iterations': 1000, \n",
    "                'eval_metric': 'AUC',  \n",
    "                'allow_writing_files': False,  \n",
    "                'random_seed': seed,  \n",
    "                #'auto_class_weights': 'SqrtBalanced',  \n",
    "                'grow_policy': 'Lossguide', \n",
    "                'objective': 'Logloss',  \n",
    "                'boosting_type': 'Plain', \n",
    "                'score_function': 'Cosine',  \n",
    "                'bootstrap_type': 'MVS',  \n",
    "                'bagging_temperature': 3.68,  \n",
    "                'colsample_bylevel': 0.9,  \n",
    "                'depth': 4, \n",
    "                'l2_leaf_reg': 3,  \n",
    "                'learning_rate': 0.05, \n",
    "                'max_ctr_complexity': 2, \n",
    "                'subsample': 0.86,  \n",
    "                'max_bin': 254,\n",
    "                'num_leaves': 32\n",
    "}\n",
    "\n",
    "estimators_cat3, oof_preds_cat3 = catboost_cross_validation(cat_params, \n",
    "                                                            X[exhaust], \n",
    "                                                            y, \n",
    "                                                            cv=KFold(n_splits=5, random_state=seed%5, shuffle=True), \n",
    "                                                            rounds=50)"
   ]
  },
  {
   "cell_type": "code",
   "execution_count": 29,
   "id": "1c83c3f5",
   "metadata": {},
   "outputs": [
    {
     "data": {
      "text/plain": [
       "(0.7250682605387699, 0.7357072568958616)"
      ]
     },
     "execution_count": 29,
     "metadata": {},
     "output_type": "execute_result"
    }
   ],
   "source": [
    "calculate_confidence_interval(create_bootstrap_metrics(y, oof_preds_cat3, roc_auc_score))"
   ]
  },
  {
   "cell_type": "code",
   "execution_count": 29,
   "id": "2b16d328",
   "metadata": {},
   "outputs": [],
   "source": [
    "test_preds = np.array([model.predict_proba(data_test[exhaust])[:,1] for model in estimators_cat3])\n",
    "# test_preds6 = pd.DataFrame({ID_COL: test_index, TARGET: test_preds.T.mean(axis=1)})\n",
    "test_preds6 = test_preds.T.mean(axis=1)"
   ]
  },
  {
   "cell_type": "code",
   "execution_count": 227,
   "id": "07ebe96a",
   "metadata": {},
   "outputs": [
    {
     "name": "stdout",
     "output_type": "stream",
     "text": [
      "Successfully submitted to GeekBrains Competitive Data Analysis\n"
     ]
    },
    {
     "name": "stderr",
     "output_type": "stream",
     "text": [
      "\n",
      "  0%|          | 0.00/4.87M [00:00<?, ?B/s]\n",
      "  4%|4         | 208k/4.87M [00:00<00:03, 1.45MB/s]\n",
      " 38%|###8      | 1.88M/4.87M [00:00<00:00, 3.61MB/s]\n",
      " 96%|#########5| 4.66M/4.87M [00:00<00:00, 8.91MB/s]\n",
      "100%|##########| 4.87M/4.87M [00:02<00:00, 2.38MB/s]\n"
     ]
    }
   ],
   "source": [
    "test_preds6.to_csv('submission.csv', index=False) # 0.73229\n",
    "# !kaggle competitions submit -c geekbrains-competitive-data-analysis -f submission.csv -m \"Message\""
   ]
  },
  {
   "cell_type": "markdown",
   "id": "05707df8",
   "metadata": {},
   "source": [
    "### Add history data"
   ]
  },
  {
   "cell_type": "code",
   "execution_count": 57,
   "id": "01ee9362",
   "metadata": {},
   "outputs": [
    {
     "name": "stdout",
     "output_type": "stream",
     "text": [
      "Final shapes: (110093, 172) (165141, 172)\n"
     ]
    }
   ],
   "source": [
    "history_train, target, history_test = prepare_history()"
   ]
  },
  {
   "cell_type": "code",
   "execution_count": 58,
   "id": "ebb2b2cc",
   "metadata": {},
   "outputs": [],
   "source": [
    "hist_importance = calculate_feature_separating_ability(history_train, target)"
   ]
  },
  {
   "cell_type": "code",
   "execution_count": 61,
   "id": "287e344f",
   "metadata": {},
   "outputs": [],
   "source": [
    "history_features = hist_importance[hist_importance > 0.005].index.tolist()"
   ]
  },
  {
   "cell_type": "code",
   "execution_count": 63,
   "id": "daaf39cc",
   "metadata": {},
   "outputs": [],
   "source": [
    "history_train = history_train[history_features + [ID_COL]]\n",
    "history_test = history_test[history_features + [ID_COL]]"
   ]
  },
  {
   "cell_type": "code",
   "execution_count": null,
   "id": "6c150ea9",
   "metadata": {},
   "outputs": [],
   "source": [
    "# restart prepare profile"
   ]
  },
  {
   "cell_type": "code",
   "execution_count": 103,
   "id": "f442e488",
   "metadata": {},
   "outputs": [],
   "source": [
    "X, y = data_train.drop(TARGET, axis=1), data_train[TARGET]\n",
    "X = X.merge(bureau, on=ID_COL, how='left')\n",
    "X = X.merge(history_train, on=ID_COL, how='left')\n",
    "X_index = X[ID_COL]\n",
    "X = X.drop(ID_COL, axis=1)"
   ]
  },
  {
   "cell_type": "code",
   "execution_count": 104,
   "id": "ed156396",
   "metadata": {},
   "outputs": [],
   "source": [
    "data_test = data_test.merge(bureau, on=ID_COL, how='left')\n",
    "data_test = data_test.merge(history_test, on=ID_COL, how='left')\n",
    "test_index = data_test[ID_COL]\n",
    "data_test.drop(ID_COL, axis=1, inplace=True)"
   ]
  },
  {
   "cell_type": "code",
   "execution_count": null,
   "id": "6f3df3c4",
   "metadata": {},
   "outputs": [],
   "source": [
    "selector = BorutaShap(model=LGBMClassifier(**lgbm_params), importance_measure='shap', classification=True)\n",
    "selector.fit(X, y, n_trials=20, sample=False, normalize=True, verbose=True)"
   ]
  },
  {
   "cell_type": "code",
   "execution_count": 107,
   "id": "c100cc8f",
   "metadata": {},
   "outputs": [],
   "source": [
    "total_boruta = ['EXTERNAL_SCORING_RATING_2', 'EXT_SCORE_1_AMT_CREDIT', 'TOTAL_SALARY_MEAN_BY_EDUCATION', \n",
    "                'AMOUNT_CREDIT_MAX_AGE_INTERVAL', 'CREDIT_JOB', 'AMOUNT_ANNUITY_MAX_BY_EDUCATION', 'EXT_SCORES_max',\n",
    "                'AMOUNT_CREDIT_MAX_BY_EDUCATION', 'RATIO_SALARY_TO_AMOUNT_CREDIT_MEAN_GENDER_AGE_BIN', \n",
    "                'NEW_CREDIT_TO_ANNUITY_RATIO', 'EXT_SCORE_1_ANNUITY', 'OWN_CAR_AGE', 'EXT_SCORES_nanmedian', \n",
    "                'RATIO_CREDIT_TO_AGE', 'EXT_SCORE_3_AMT_CREDIT', 'EXT_SCORES_var', 'EXTERNAL_SCORING_RATING_3', \n",
    "                'TOTAL_SALARY_MEAN_AGE_INTERVAL', 'EXT_SCORES_min', 'RATIO_SALARY_TO_AGE', 'RATIO_CAR_TO_AGE', \n",
    "                'EXT_SCORE_2_AMT_CREDIT', 'AMOUNT_ANNUITY', 'NAME_CONTRACT_TYPE', 'EDUCATION_LEVEL_Higher education', \n",
    "                'RATIO_AMOUNT_ANNUITY_TO_SALARY', 'EXTERNAL_SCORE_WEIGHTED', 'AMOUNT_CREDIT', 'DAYS_ON_LAST_JOB', \n",
    "                'NEW_STATUS_FMarried', 'RATIO_CAR_TO_EXPERIENCE', 'RATIO_ANNUITY_TO_AGE', 'TOTAL_SALARY_MIN_BY_EDUCATION', \n",
    "                'AMOUNT_ANNUITY_MEAN_BY_EDUCATION', 'EXTERNAL_SCORING_RATING_1', 'GENDER', 'AMOUNT_CREDIT_MEAN_BY_EDUCATION', \n",
    "                'EXT_SCORE_3_ANNUITY', 'ANNUITY_JOB', 'NEW_CREDIT_TO_ANNUITY_RATIO_MEAN_GENDER_AGE_BIN', \n",
    "                'RATIO_AGE_TO_EXPERIENCE', 'SALARY_JOB', 'AGE', 'EXT_SCORES_mean', 'AMT_REQ_CREDIT_BUREAU_YEAR', 'AGE_BIN', \n",
    "                'EDUCATION_FAMILY_STATUS', 'RATIO_SALARY_TO_AMOUNT_CREDIT_BY_FAMILY', 'AMOUNT_CREDIT_COUNT_BY_EDUCATION', \n",
    "                'SALARY_REGION_POPULATION', 'TOTAL_SALARY_COUNT_AGE_INTERVAL', 'TOTAL_SALARY_COUNT_BY_FAMILY_STATUS', \n",
    "                'TOTAL_SALARY_MAX_AGE_INTERVAL', 'TOTAL_SALARY_MAX_BY_FAMILY_STATUS', 'AMOUNT_CREDIT_COUNT_BY_FAMILY_STATUS',\n",
    "                'AMOUNT_CREDIT_COUNT_AGE_INTERVAL', 'TOTAL_SALARY_COUNT_BY_EDUCATION', 'RATIO_SALARY_TO_AMOUNT_CREDIT', \n",
    "                'EXT_SCORE_2_ANNUITY', 'AMOUNT_ANNUITY_MIN_BY_EDUCATION', 'AMT_REQ_CREDIT_BUREAU_QRT', \n",
    "                'AMT_REQ_CREDIT_BUREAU_WEEK', 'REGION_POPULATION']\n",
    "\n",
    "total_boruta2 = total_boruta + history_features"
   ]
  },
  {
   "cell_type": "code",
   "execution_count": 120,
   "id": "bd45ef39",
   "metadata": {},
   "outputs": [
    {
     "name": "stdout",
     "output_type": "stream",
     "text": [
      "Sat Aug 27 22:52:32 2022, Cross-Validation, 110093 rows, 63 cols\n",
      "Fold 1, Train score = 0.76534, Valid score = 0.73181\n",
      "Fold 2, Train score = 0.77584, Valid score = 0.72142\n",
      "Fold 3, Train score = 0.77393, Valid score = 0.73361\n",
      "Fold 4, Train score = 0.77253, Valid score = 0.73284\n",
      "Fold 5, Train score = 0.76557, Valid score = 0.73244\n",
      "Train score by each fold: [0.76534, 0.77584, 0.77393, 0.77253, 0.76557]\n",
      "Valid score by each fold: [0.73181, 0.72142, 0.73361, 0.73284, 0.73244]\n",
      "Train mean score by each fold:0.77064 +/- 0.00436\n",
      "Valid mean score by each fold:0.73042 +/- 0.00454\n",
      "**************************************************\n",
      "OOF-score: 0.72972\n"
     ]
    }
   ],
   "source": [
    "lgbm_params_my = {\n",
    "    'metric':\"auc\", \n",
    "    'boosting_type': 'gbdt',\n",
    "    'n_estimators': 1000,\n",
    "    'learning_rate': 0.045,\n",
    "    'num_leaves': 12,\n",
    "    'max_depth': 10,\n",
    "    'reg_alpha': 0.05,\n",
    "    'reg_lambda': 0.06,\n",
    "    'subsample': 0.8,\n",
    "    'min_child_weight': 20,\n",
    "    'random_state': seed\n",
    "}\n",
    "\n",
    "estimators_lgbm5, oof_preds_lgbm5 = lightgbm_cross_validation(lgbm_params_my, \n",
    "                                                              X[total_boruta], \n",
    "                                                              y, \n",
    "                                                              cv=KFold(n_splits=5, random_state=seed//3, shuffle=True), \n",
    "                                                              rounds=50)"
   ]
  },
  {
   "cell_type": "markdown",
   "id": "ee7a1dee",
   "metadata": {},
   "source": [
    "**Combining oof predictions**"
   ]
  },
  {
   "cell_type": "code",
   "execution_count": 54,
   "id": "36ce1192",
   "metadata": {},
   "outputs": [],
   "source": [
    "oof_predictions = pd.DataFrame(data={'m1': oof_preds_lgbm, 'm2': oof_preds_cat, 'm3': oof_preds_lgbm2, 'm4': oof_preds_cat2,\n",
    "                                     'm5': oof_preds_lgbm3, 'm6': oof_preds_cat3, 'm7': oof_preds_lgbm4})"
   ]
  },
  {
   "cell_type": "code",
   "execution_count": 55,
   "id": "e576deb6",
   "metadata": {},
   "outputs": [],
   "source": [
    "test_probs = pd.DataFrame(data={'m1': test_preds1, 'm2': test_preds2, 'm3': test_preds3, 'm4': test_preds4,\n",
    "                                'm5': test_preds5, 'm6': test_preds6, 'm7': test_preds7})"
   ]
  },
  {
   "cell_type": "code",
   "execution_count": 45,
   "id": "97637fd8",
   "metadata": {},
   "outputs": [
    {
     "data": {
      "image/png": "[encoded data removed]",
      "text/plain": [
       "<Figure size 720x720 with 2 Axes>"
      ]
     },
     "metadata": {
      "needs_background": "light"
     },
     "output_type": "display_data"
    }
   ],
   "source": [
    "corr = oof_predictions.corr()\n",
    "mask = np.zeros_like(corr, dtype=np.bool)\n",
    "mask[np.triu_indices_from(mask)] = True\n",
    "\n",
    "fig, axes = plt.subplots(1, 1, figsize=(10, 10))\n",
    "sns.heatmap(corr, mask=mask, annot=True, fmt=\".4g\", square=True, cmap=\"viridis\", ax=axes)\n",
    "plt.show()"
   ]
  },
  {
   "cell_type": "code",
   "execution_count": 46,
   "id": "223484ec",
   "metadata": {},
   "outputs": [
    {
     "data": {
      "image/png": "[encoded data removed]",
      "text/plain": [
       "<Figure size 720x720 with 2 Axes>"
      ]
     },
     "metadata": {
      "needs_background": "light"
     },
     "output_type": "display_data"
    }
   ],
   "source": [
    "corr = test_probs.corr()\n",
    "mask = np.zeros_like(corr, dtype=np.bool)\n",
    "mask[np.triu_indices_from(mask)] = True\n",
    "\n",
    "fig, axes = plt.subplots(1, 1, figsize=(10, 10))\n",
    "sns.heatmap(corr, mask=mask, annot=True, fmt=\".4g\", square=True, cmap=\"viridis\", ax=axes)\n",
    "plt.show()"
   ]
  },
  {
   "cell_type": "code",
   "execution_count": 49,
   "id": "7e3b2e3e",
   "metadata": {},
   "outputs": [
    {
     "name": "stdout",
     "output_type": "stream",
     "text": [
      "AMean score: 0.73285\n",
      "GMean score: 0.73302\n",
      "Rank  score: 0.73304\n",
      "GMean  rank: 0.73302\n"
     ]
    }
   ],
   "source": [
    "mean_scores(oof_predictions, y)"
   ]
  },
  {
   "cell_type": "code",
   "execution_count": 153,
   "id": "e1a72a3d",
   "metadata": {},
   "outputs": [
    {
     "name": "stdout",
     "output_type": "stream",
     "text": [
      "Fold 1, Train score: 0.73121, Valid score = 0.74916\n",
      "Fold 2, Train score: 0.73181, Valid score = 0.74376\n",
      "Fold 3, Train score: 0.73329, Valid score = 0.72918\n",
      "Fold 4, Train score: 0.73354, Valid score = 0.72829\n",
      "Fold 5, Train score: 0.73214, Valid score = 0.73926\n",
      "Fold 6, Train score: 0.73326, Valid score = 0.73053\n",
      "Fold 7, Train score: 0.73198, Valid score = 0.73982\n",
      "Fold 8, Train score: 0.73324, Valid score = 0.72932\n",
      "Fold 9, Train score: 0.73370, Valid score = 0.72554\n",
      "Fold 10, Train score: 0.73473, Valid score = 0.71518\n",
      "Train score by each fold: [0.73121, 0.73181, 0.73329, 0.73354, 0.73214, 0.73326, 0.73198, 0.73324, 0.7337, 0.73473]\n",
      "Valid score by each fold: [0.74916, 0.74376, 0.72918, 0.72829, 0.73926, 0.73053, 0.73982, 0.72932, 0.72554, 0.71518]\n",
      "Train mean score by each fold:0.73289 +/- 0.00101\n",
      "Valid mean score by each fold:0.73300 +/- 0.00945\n",
      "**************************************************\n"
     ]
    }
   ],
   "source": [
    "lda = LinearDiscriminantAnalysis(\n",
    "                                 solver='eigen',  # lsqr: same LB score\n",
    "                                 shrinkage='auto',\n",
    "                                 store_covariance=True,\n",
    "                                 n_components=1\n",
    "                                )\n",
    "\n",
    "estimators_lda, oof_preds_lda, mean_score = cross_validation(model=lda,\n",
    "                                                             X=oof_predictions,\n",
    "                                                             y=y,\n",
    "                                                             cv=KFold(n_splits=10, shuffle=True, random_state=seed))"
   ]
  },
  {
   "cell_type": "code",
   "execution_count": 154,
   "id": "95d7150a",
   "metadata": {},
   "outputs": [],
   "source": [
    "test_fin = np.array([estimator.predict_proba(test_probs)[:,1] for estimator in estimators_lda]).T\n",
    "test_fin = pd.DataFrame(data=test_fin)\n",
    "#test_fin = np.average(test_fin, axis=1)\n",
    "test_fin = stats.gmean(test_fin, axis=1)"
   ]
  },
  {
   "cell_type": "code",
   "execution_count": 155,
   "id": "75dac77a",
   "metadata": {},
   "outputs": [],
   "source": [
    "# LDA predictions: 0.73312 on first 2 cat and lgbm models # 0.73337 - 5 models; 0.73358 - 6 models, 0.73342 on 7 models\n",
    "fin_sub = pd.DataFrame({ID_COL: test_index, TARGET: test_fin})\n",
    "fin_sub.to_csv('submission.csv', index=False)\n",
    "!kaggle competitions submit -c geekbrains-competitive-data-analysis -f submission.csv -m \"Message\""
   ]
  },
  {
   "cell_type": "code",
   "execution_count": 53,
   "id": "7a0a7cb3",
   "metadata": {},
   "outputs": [
    {
     "name": "stdout",
     "output_type": "stream",
     "text": [
      "Successfully submitted to GeekBrains Competitive Data Analysis\n"
     ]
    },
    {
     "name": "stderr",
     "output_type": "stream",
     "text": [
      "\n",
      "  0%|          | 0.00/4.89M [00:00<?, ?B/s]\n",
      "  4%|4         | 224k/4.89M [00:00<00:03, 1.33MB/s]\n",
      " 39%|###8      | 1.89M/4.89M [00:00<00:00, 3.67MB/s]\n",
      "100%|##########| 4.89M/4.89M [00:02<00:00, 2.25MB/s]\n"
     ]
    }
   ],
   "source": [
    "# 0.73371: 6 models with simple gmean averaging on obtained test scores; 0.73370 on 7 models\n",
    "test_fin = stats.gmean(test_probs, axis=1)\n",
    "fin_sub = pd.DataFrame({ID_COL: test_index, TARGET: test_fin})\n",
    "fin_sub.to_csv('submission.csv', index=False)\n",
    "!kaggle competitions submit -c geekbrains-competitive-data-analysis -f submission.csv -m \"Message\""
   ]
  },
  {
   "cell_type": "code",
   "execution_count": 101,
   "id": "ef4e357f",
   "metadata": {},
   "outputs": [],
   "source": [
    "oof_total_scores = stats.gmean(oof_predictions, axis=1)\n",
    "stability = create_bootstrap_metrics(y, oof_total_scores, roc_auc_score)"
   ]
  },
  {
   "cell_type": "code",
   "execution_count": 102,
   "id": "fd3af558",
   "metadata": {},
   "outputs": [
    {
     "data": {
      "image/png": "[encoded data removed]",
      "text/plain": [
       "<Figure size 1080x360 with 2 Axes>"
      ]
     },
     "metadata": {
      "needs_background": "light"
     },
     "output_type": "display_data"
    }
   ],
   "source": [
    "fig, axes = plt.subplots(1, 2, figsize=(15, 5))\n",
    "plt.suptitle(\"Bootstrap for evaluating validation stability\", size=15)\n",
    "axes[1].scatter(range(len(stability)), stability, alpha=0.25, color=\"blue\")\n",
    "axes[1].set_xlabel(\"Number of samples\", size=15)\n",
    "axes[1].set_ylabel(\"$F_1$ score\", size=15)\n",
    "distribution = \"Normal\" if stats.shapiro(stability)[1] >= 0.05 else \"Not normal\"\n",
    "\n",
    "axes[0].axvline(np.mean(stability), lw=2, ls='--', c='red')\n",
    "axes[1].axhline(np.mean(stability), lw=2, ls='--', c='red')\n",
    "sns.histplot(stability, ax=axes[0], color=\"green\", bins=20, kde=True)\n",
    "axes[0].set_xlabel(f\"Number of samples, distribution: {distribution}\", size=15)\n",
    "plt.show()"
   ]
  },
  {
   "cell_type": "code",
   "execution_count": 105,
   "id": "dfc559bb",
   "metadata": {},
   "outputs": [
    {
     "name": "stdout",
     "output_type": "stream",
     "text": [
      "\n",
      "Optimized weights:\n",
      "Best score: 0.7331\n"
     ]
    }
   ],
   "source": [
    "# optimization with gmean: 0.73348\n",
    "\n",
    "results_list = []   \n",
    "weights_list = []  \n",
    "preds = oof_predictions.values\n",
    "\n",
    "def weights_objective(weights):\n",
    "    # y_ens = np.average(preds, axis=1, weights=weights)\n",
    "    y_ens = stats.gmean(preds, axis=1, weights=weights)\n",
    "    return roc_auc_score(y, y_ens)\n",
    "\n",
    "for k in range(100):\n",
    "  \n",
    "    w0 = np.random.uniform(size=preds.shape[1])\n",
    "    bounds = [(0,1)] * preds.shape[1]\n",
    "\n",
    "    cons = [{'type': 'eq',\n",
    "             'fun': lambda w: w.sum() - 1}]\n",
    "\n",
    "    res = minimize(weights_objective,\n",
    "                   w0,\n",
    "                   method='SLSQP',\n",
    "                   bounds=bounds,\n",
    "                   options={'disp':False, 'maxiter':10000},\n",
    "                   constraints=cons)\n",
    "\n",
    "    results_list.append(res.fun)\n",
    "    weights_list.append(res.x)\n",
    "\n",
    "best_score = np.max(results_list)    \n",
    "best_weights = weights_list[results_list.index(best_score)]\n",
    "\n",
    "print('\\nOptimized weights:')\n",
    "print('Best score: {:.4f}'.format(best_score))"
   ]
  },
  {
   "cell_type": "code",
   "execution_count": 147,
   "id": "515280b8",
   "metadata": {},
   "outputs": [
    {
     "name": "stdout",
     "output_type": "stream",
     "text": [
      "Fold 1, Train score: 0.73131, Valid score = 0.74930\n",
      "Fold 2, Train score: 0.73192, Valid score = 0.74367\n",
      "Fold 3, Train score: 0.73329, Valid score = 0.73053\n",
      "Fold 4, Train score: 0.73365, Valid score = 0.72793\n",
      "Fold 5, Train score: 0.73232, Valid score = 0.73917\n",
      "Fold 6, Train score: 0.73341, Valid score = 0.73019\n",
      "Fold 7, Train score: 0.73214, Valid score = 0.74082\n",
      "Fold 8, Train score: 0.73332, Valid score = 0.73023\n",
      "Fold 9, Train score: 0.73385, Valid score = 0.72529\n",
      "Fold 10, Train score: 0.73490, Valid score = 0.71706\n",
      "Train score by each fold: [0.73131, 0.73192, 0.73329, 0.73365, 0.73232, 0.73341, 0.73214, 0.73332, 0.73385, 0.7349]\n",
      "Valid score by each fold: [0.7493, 0.74367, 0.73053, 0.72793, 0.73917, 0.73019, 0.74082, 0.73023, 0.72529, 0.71706]\n",
      "Train mean score by each fold:0.73301 +/- 0.00102\n",
      "Valid mean score by each fold:0.73342 +/- 0.00915\n",
      "**************************************************\n"
     ]
    }
   ],
   "source": [
    "from sklearn.linear_model import LogisticRegression\n",
    "from sklearn.pipeline import make_pipeline\n",
    "from sklearn.decomposition import PCA\n",
    "\n",
    "logreg = LogisticRegression(class_weight=None, \n",
    "                            solver='liblinear', \n",
    "                            penalty='l2', \n",
    "                            C=0.1, \n",
    "                            random_state=seed,\n",
    "                            n_jobs=-1)\n",
    "\n",
    "pipe = make_pipeline(PCA(n_components=6, random_state=seed), logreg)\n",
    "\n",
    "estimators_log, oof_preds_log, mean_score_log = cross_validation(model=pipe,\n",
    "                                                                 X=oof_predictions,\n",
    "                                                                 y=y,\n",
    "                                                                 cv=KFold(n_splits=10, shuffle=True, random_state=seed))"
   ]
  },
  {
   "cell_type": "code",
   "execution_count": 148,
   "id": "0cd458df",
   "metadata": {},
   "outputs": [],
   "source": [
    "test_fin = np.array([estimator.predict_proba(test_probs)[:,1] for estimator in estimators_log]).T\n",
    "test_fin = pd.DataFrame(data=test_fin)\n",
    "test_fin = np.average(test_fin, axis=1)"
   ]
  },
  {
   "cell_type": "code",
   "execution_count": 149,
   "id": "5acf99ae",
   "metadata": {},
   "outputs": [
    {
     "name": "stdout",
     "output_type": "stream",
     "text": [
      "Successfully submitted to GeekBrains Competitive Data Analysis\n"
     ]
    },
    {
     "name": "stderr",
     "output_type": "stream",
     "text": [
      "\n",
      "  0%|          | 0.00/4.89M [00:00<?, ?B/s]\n",
      "  5%|4         | 240k/4.89M [00:00<00:02, 1.96MB/s]\n",
      " 40%|###9      | 1.94M/4.89M [00:00<00:00, 3.77MB/s]\n",
      "100%|##########| 4.89M/4.89M [00:02<00:00, 2.40MB/s]\n"
     ]
    }
   ],
   "source": [
    "fin_sub = pd.DataFrame({ID_COL: test_index, TARGET: test_fin})  # 0.73345 on LB\n",
    "fin_sub.to_csv('submission.csv', index=False)\n",
    "!kaggle competitions submit -c geekbrains-competitive-data-analysis -f submission.csv -m \"Message\""
   ]
  },
  {
   "cell_type": "markdown",
   "id": "643e7c08",
   "metadata": {},
   "source": [
    "**Merge part 1 and part 2**"
   ]
  },
  {
   "cell_type": "code",
   "execution_count": 165,
   "id": "8e76f5aa",
   "metadata": {},
   "outputs": [],
   "source": [
    "nonzero = pd.read_csv('nonzero.csv')\n",
    "fin_sub = pd.DataFrame({ID_COL: test_index, TARGET: test_fin})"
   ]
  },
  {
   "cell_type": "code",
   "execution_count": 166,
   "id": "01ec9834",
   "metadata": {},
   "outputs": [],
   "source": [
    "fin_sub = fin_sub.merge(nonzero, on=ID_COL, how='left')"
   ]
  },
  {
   "cell_type": "code",
   "execution_count": 169,
   "id": "361e3cb9",
   "metadata": {},
   "outputs": [],
   "source": [
    "# fin_sub[TARGET] = np.where(fin_sub['TARGET_y'].isna(), fin_sub['TARGET_x'], fin_sub['TARGET_y'])  # 0.73290\n",
    "\n",
    "fin_sub[TARGET] = (fin_sub['TARGET_x'] * fin_sub['TARGET_y'])**(1/2)  # 0.73337\n",
    "fin_sub.loc[fin_sub[TARGET].isna(), TARGET] = fin_sub.loc[fin_sub[TARGET].isna(), 'TARGET_x']"
   ]
  },
  {
   "cell_type": "code",
   "execution_count": 170,
   "id": "ec259e5e",
   "metadata": {},
   "outputs": [],
   "source": [
    "fin_sub.drop(['TARGET_y', 'TARGET_x'], axis=1, inplace=True)"
   ]
  },
  {
   "cell_type": "code",
   "execution_count": 171,
   "id": "822bf658",
   "metadata": {},
   "outputs": [
    {
     "name": "stdout",
     "output_type": "stream",
     "text": [
      "Successfully submitted to GeekBrains Competitive Data Analysis\n"
     ]
    },
    {
     "name": "stderr",
     "output_type": "stream",
     "text": [
      "\n",
      "  0%|          | 0.00/4.91M [00:00<?, ?B/s]\n",
      "  5%|4         | 248k/4.91M [00:00<00:02, 1.79MB/s]\n",
      " 15%|#5        | 768k/4.91M [00:00<00:02, 1.63MB/s]\n",
      " 46%|####6     | 2.27M/4.91M [00:00<00:00, 4.97MB/s]\n",
      " 86%|########6 | 4.23M/4.91M [00:00<00:00, 8.40MB/s]\n",
      "100%|##########| 4.91M/4.91M [00:02<00:00, 2.47MB/s]\n"
     ]
    }
   ],
   "source": [
    "fin_sub.to_csv('submission.csv', index=False)\n",
    "!kaggle competitions submit -c geekbrains-competitive-data-analysis -f submission.csv -m \"Message\""
   ]
  },
  {
   "cell_type": "markdown",
   "id": "a1d1380a",
   "metadata": {},
   "source": [
    "### Feature selection"
   ]
  },
  {
   "cell_type": "code",
   "execution_count": 108,
   "id": "3bcdc34f",
   "metadata": {},
   "outputs": [],
   "source": [
    "x_train, x_test, y_train, y_test = train_test_split(X, y, test_size=0.2, random_state=seed)"
   ]
  },
  {
   "cell_type": "code",
   "execution_count": 109,
   "id": "b51dd531",
   "metadata": {},
   "outputs": [
    {
     "name": "stdout",
     "output_type": "stream",
     "text": [
      "CV-score: 0.5004\n"
     ]
    }
   ],
   "source": [
    "X_inspect = pd.concat([x_train, x_test], axis=0)\n",
    "y_inspect = np.hstack((np.ones(x_train.shape[0]), np.zeros(x_test.shape[0])))\n",
    "\n",
    "inspector = LGBMClassifier(max_depth=4, \n",
    "                           n_estimators=100,\n",
    "                           verbose=-1,\n",
    "                           is_unbalance=True,\n",
    "                           learning_rate=0.05,   \n",
    "                           random_seed=seed).fit(X_inspect, y_inspect)\n",
    "\n",
    "cv = cross_val_score(\n",
    "    estimator=inspector,\n",
    "    X=X_inspect, y=y_inspect,\n",
    "    scoring=\"roc_auc\",\n",
    "    cv=KFold(n_splits=5, shuffle=True, random_state=42)\n",
    ")\n",
    "\n",
    "print(f\"CV-score: {round(np.mean(cv), 4)}\")"
   ]
  },
  {
   "cell_type": "code",
   "execution_count": 111,
   "id": "a5ac928c",
   "metadata": {},
   "outputs": [
    {
     "name": "stderr",
     "output_type": "stream",
     "text": [
      "100%|████████████████████████████████████████████████████████████████████████████████| 117/117 [00:33<00:00,  3.51it/s]\n"
     ]
    }
   ],
   "source": [
    "scores, deltas = calculate_permutation_importance(LGBMClassifier(**lgbm_params_my).fit(x_train, y_train), \n",
    "                                                  x_valid=x_test, \n",
    "                                                  y_valid=y_test,\n",
    "                                                  probas=True, \n",
    "                                                  metric=roc_auc_score)"
   ]
  },
  {
   "cell_type": "code",
   "execution_count": 116,
   "id": "80254230",
   "metadata": {},
   "outputs": [],
   "source": [
    "perm = deltas[deltas >= 0].index.tolist()"
   ]
  },
  {
   "cell_type": "code",
   "execution_count": 133,
   "id": "1b33888f",
   "metadata": {},
   "outputs": [],
   "source": [
    "perm = perm + [\"EXTERNAL_SCORE_WEIGHTED\", \"EXTERNAL_SCORING_RATING_1\"]"
   ]
  },
  {
   "cell_type": "code",
   "execution_count": 142,
   "id": "83ed25f6",
   "metadata": {},
   "outputs": [
    {
     "name": "stderr",
     "output_type": "stream",
     "text": [
      "                                                                                                                       \r"
     ]
    }
   ],
   "source": [
    "# select best feature set by exhaustive method\n",
    "lgbm_params_my = {\n",
    "                'metric':\"auc\", \n",
    "                'boosting_type': 'gbdt',\n",
    "                'n_estimators': 1000,\n",
    "                'learning_rate': 0.03,\n",
    "                'num_leaves': 42,\n",
    "                'max_depth': 10,\n",
    "                'reg_alpha': 0.05,\n",
    "                'reg_lambda': 0.06,\n",
    "                'subsample': 0.8,\n",
    "                'min_child_weight': 60,\n",
    "                'random_state': seed\n",
    "}\n",
    "\n",
    "best_selector = BestSet(lgbm_params_my, k_features=40).fit(X[perm], y)"
   ]
  },
  {
   "cell_type": "code",
   "execution_count": null,
   "id": "8a9aeec9",
   "metadata": {},
   "outputs": [],
   "source": [
    "max(best_selector.scores_), X[perm][list(best_selector.subsets_[np.argmax(best_selector.scores_)])]"
   ]
  },
  {
   "cell_type": "code",
   "execution_count": 153,
   "id": "9f87d275",
   "metadata": {},
   "outputs": [
    {
     "data": {
      "text/plain": [
       "(Index(['EXT_SCORES_mean', 'NEW_CREDIT_TO_ANNUITY_RATIO', 'ANNUITY_JOB',\n",
       "        'EXTERNAL_SCORING_RATING_3', 'NAME_CONTRACT_TYPE',\n",
       "        'NEW_CREDIT_TO_ANNUITY_RATIO_MEAN_GENDER_AGE_BIN', 'AMOUNT_ANNUITY',\n",
       "        'EXTERNAL_SCORING_RATING_2', 'AGE', 'AMT_REQ_CREDIT_BUREAU_QRT',\n",
       "        'RATIO_AMOUNT_ANNUITY_TO_SALARY', 'TOTAL_SALARY_COUNT_AGE_INTERVAL',\n",
       "        'EDUCATION_FAMILY_STATUS', 'TOTAL_SALARY_MEAN_AGE_INTERVAL',\n",
       "        'AMOUNT_CREDIT', 'RATIO_AGE_TO_EXPERIENCE', 'RATIO_CAR_TO_AGE',\n",
       "        'EXT_SCORES_min', 'RATIO_SALARY_TO_AMOUNT_CREDIT_BY_FAMILY',\n",
       "        'AMOUNT_CREDIT_MEAN_AGE_INTERVAL',\n",
       "        'AMOUNT_ANNUITY_MIN_BY_FAMILY_STATUS', 'RATIO_CREDIT_TO_AGE',\n",
       "        'TOTAL_SALARY_MAX_AGE_INTERVAL', 'NEW_STATUS_MSeparated',\n",
       "        'EXT_SCORE_3_ANNUITY', 'NEW_STATUS_MMarried',\n",
       "        'TOTAL_SALARY_MEAN_BY_EDUCATION',\n",
       "        'DELTA_SALARY_TO_MEAN_SALARY_BY_EDUCATION',\n",
       "        'AMT_REQ_CREDIT_BUREAU_YEAR', 'CHILDRENS',\n",
       "        'AMOUNT_CREDIT_MEAN_BY_EDUCATION', 'TOTAL_SALARY_MIN_AGE_INTERVAL',\n",
       "        'AMOUNT_CREDIT_MEAN_BY_FAMILY_STATUS', 'NEW_STATUS_MCivil marriage',\n",
       "        'EXT_SCORE_1_AMT_CREDIT', 'AMT_REQ_CREDIT_BUREAU_HOUR', 'GENDER',\n",
       "        'AMOUNT_ANNUITY_MEAN_BY_FAMILY_STATUS', 'EXTERNAL_SCORE_WEIGHTED',\n",
       "        'EXTERNAL_SCORING_RATING_1'],\n",
       "       dtype='object'),\n",
       " 0.729712998948225)"
      ]
     },
     "execution_count": 153,
     "metadata": {},
     "output_type": "execute_result"
    }
   ],
   "source": [
    "X[perm].columns[list(best_selector.subsets_[np.argmax(best_selector.scores_)])], max(best_selector.scores_)"
   ]
  },
  {
   "cell_type": "markdown",
   "id": "0e766b38",
   "metadata": {},
   "source": [
    "#### Watch profile features combinations (fillna before add, multiply, etc.) - new ipynb - did not work\n",
    "#### target encoding did not work\n",
    "#### adding history features did not work"
   ]
  },
  {
   "cell_type": "markdown",
   "id": "8d97daed",
   "metadata": {},
   "source": [
    "### PART I \n",
    "\n",
    "Train CV ensemble models on existing profile data only with hold-out set, CI.\n",
    "\n",
    "Combine part I and part II: replace samples scores, amean, gmean"
   ]
  },
  {
   "cell_type": "markdown",
   "id": "fe8196d5",
   "metadata": {},
   "source": [
    "### Optuna search"
   ]
  }
 ],
 "metadata": {
  "kernelspec": {
   "display_name": "Python 3 (ipykernel)",
   "language": "python",
   "name": "python3"
  },
  "language_info": {
   "codemirror_mode": {
    "name": "ipython",
    "version": 3
   },
   "file_extension": ".py",
   "mimetype": "text/x-python",
   "name": "python",
   "nbconvert_exporter": "python",
   "pygments_lexer": "ipython3",
   "version": "3.10.4"
  }
 },
 "nbformat": 4,
 "nbformat_minor": 5
}
