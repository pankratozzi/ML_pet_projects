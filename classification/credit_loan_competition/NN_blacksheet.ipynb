{
  "cells": [
    {
      "cell_type": "code",
      "execution_count": null,
      "metadata": {
        "colab": {
          "base_uri": "https://localhost:8080/",
          "height": 310,
          "resources": {
            "http://localhost:8080/nbextensions/google.colab/files.js": {
              "data": "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",
              "headers": [
                [
                  "content-type",
                  "application/javascript"
                ]
              ],
              "ok": true,
              "status": 200,
              "status_text": ""
            }
          }
        },
        "id": "2530f762",
        "outputId": "a8417fa3-40b9-49d9-a714-b8213f14a5e6"
      },
      "outputs": [
        {
          "output_type": "stream",
          "name": "stdout",
          "text": [
            "\u001b[K     |████████████████████████████████| 76.6 MB 1.3 MB/s \n",
            "\u001b[K     |████████████████████████████████| 348 kB 55.1 MB/s \n",
            "\u001b[K     |████████████████████████████████| 569 kB 52.2 MB/s \n",
            "\u001b[K     |████████████████████████████████| 209 kB 45.5 MB/s \n",
            "\u001b[K     |████████████████████████████████| 81 kB 7.9 MB/s \n",
            "\u001b[K     |████████████████████████████████| 78 kB 7.4 MB/s \n",
            "\u001b[K     |████████████████████████████████| 49 kB 5.6 MB/s \n",
            "\u001b[K     |████████████████████████████████| 147 kB 49.1 MB/s \n",
            "\u001b[K     |████████████████████████████████| 112 kB 46.5 MB/s \n",
            "\u001b[?25h  Building wheel for pyperclip (setup.py) ... \u001b[?25l\u001b[?25hdone\n",
            "\u001b[K     |████████████████████████████████| 69 kB 3.3 MB/s \n",
            "\u001b[?25h"
          ]
        }
      ],
      "source": [
        "from IPython.display import clear_output\n",
        "from google.colab import files\n",
        "files.upload()\n",
        "!mkdir -p ~/.kaggle\n",
        "!cp kaggle.json ~/.kaggle/\n",
        "!ls ~/.kaggle\n",
        "!chmod 600 /root/.kaggle/kaggle.json\n",
        "!kaggle competitions download -c geekbrains-competitive-data-analysis\n",
        "!unzip geekbrains-competitive-data-analysis.zip\n",
        "!rm geekbrains-competitive-data-analysis.zip\n",
        "clear_output()\n",
        "\n",
        "!pip install -qq BorutaShap catboost optuna \n",
        "!pip install -qq category_encoders\n",
        "\n",
        "import warnings\n",
        "warnings.filterwarnings('ignore')\n",
        "\n",
        "import pandas as pd\n",
        "import numpy as np\n",
        "import matplotlib.pyplot as plt\n",
        "import seaborn as sns\n",
        "from typing import Optional, List, Tuple\n",
        "from pprint import pprint\n",
        "from tqdm import tqdm\n",
        "import time\n",
        "import re\n",
        "from scipy import stats\n",
        "\n",
        "import missingno as msno\n",
        "from sklearn.metrics import roc_auc_score\n",
        "from sklearn.model_selection import train_test_split, cross_val_score, KFold, StratifiedKFold\n",
        "from sklearn.preprocessing import StandardScaler, PolynomialFeatures, MinMaxScaler, LabelEncoder\n",
        "from sklearn.linear_model import LogisticRegression\n",
        "from sklearn.pipeline import make_pipeline\n",
        "from sklearn.base import clone\n",
        "from sklearn.decomposition import PCA\n",
        "\n",
        "from BorutaShap import BorutaShap\n",
        "import category_encoders as ce\n",
        "\n",
        "from lightgbm import LGBMClassifier\n",
        "import optuna\n",
        "from optuna.samplers import TPESampler\n",
        "\n",
        "import gc\n",
        "gc.enable()"
      ],
      "id": "2530f762"
    },
    {
      "cell_type": "code",
      "execution_count": null,
      "metadata": {
        "id": "ba049b01"
      },
      "outputs": [],
      "source": [
        "seed = 42\n",
        "np.random.seed(seed)\n",
        "np.set_printoptions(2)\n",
        "pd.options.display.float_format = '{:.4f}'.format\n",
        "plt.style.use('ggplot')\n",
        "pd.set_option('display.max_columns', None)\n",
        "\n",
        "ID_COL = 'APPLICATION_NUMBER'\n",
        "TARGET= 'TARGET'"
      ],
      "id": "ba049b01"
    },
    {
      "cell_type": "code",
      "execution_count": null,
      "metadata": {
        "id": "30af9d21"
      },
      "outputs": [],
      "source": [
        "train = pd.read_csv('train.csv')\n",
        "test = pd.read_csv('test.csv')\n",
        "cp = pd.read_csv('client_profile.csv')\n",
        "payments = pd.read_csv('payments.csv')\n",
        "history = pd.read_csv('applications_history.csv')\n",
        "bki = pd.read_csv('bki.csv')"
      ],
      "id": "30af9d21"
    },
    {
      "cell_type": "code",
      "execution_count": null,
      "metadata": {
        "id": "fed94f8c",
        "outputId": "62b3a9a0-d687-440b-b31b-75d5b00f9ba1"
      },
      "outputs": [
        {
          "data": {
            "text/plain": [
              "0"
            ]
          },
          "execution_count": 38,
          "metadata": {},
          "output_type": "execute_result"
        }
      ],
      "source": [
        "bki.duplicated().sum()"
      ],
      "id": "fed94f8c"
    },
    {
      "cell_type": "code",
      "execution_count": null,
      "metadata": {
        "id": "95cfd87a"
      },
      "outputs": [],
      "source": [
        "for column in bki.columns:\n",
        "    if bki[column].nunique() < 2:\n",
        "        print(column)"
      ],
      "id": "95cfd87a"
    },
    {
      "cell_type": "code",
      "execution_count": null,
      "metadata": {
        "id": "8f3cb3e3",
        "outputId": "ed08e266-9eb4-4eb7-f568-0dbff7cd9788"
      },
      "outputs": [
        {
          "data": {
            "text/plain": [
              "0   0.9192\n",
              "1   0.0808\n",
              "Name: TARGET, dtype: float64"
            ]
          },
          "execution_count": 24,
          "metadata": {},
          "output_type": "execute_result"
        }
      ],
      "source": [
        "train[TARGET].value_counts(normalize=True)"
      ],
      "id": "8f3cb3e3"
    },
    {
      "cell_type": "code",
      "execution_count": null,
      "metadata": {
        "id": "32d81e94"
      },
      "outputs": [],
      "source": [
        "def check_missings(df: pd.DataFrame) -> pd.DataFrame:\n",
        "    na = df.isnull().sum()\n",
        "    result = pd.DataFrame({\n",
        "        \"Total\": na,\n",
        "        \"Percent\": 100*na/df.shape[0],\n",
        "        \"Types\": df.dtypes\n",
        "    })\n",
        "    result = result[result[\"Total\"] != 0]\n",
        "    print(f\"Total NA-values = {na.sum()}\")\n",
        "    return result.T\n",
        "\n",
        "def create_numerical_aggs(data: pd.DataFrame,\n",
        "                          groupby_id: str,\n",
        "                          aggs: dict,\n",
        "                          prefix: Optional[str] = None,\n",
        "                          suffix: Optional[str] = None,\n",
        "                          ) -> pd.DataFrame:    \n",
        "    if not prefix:\n",
        "        prefix = \"\"\n",
        "    if not suffix:\n",
        "        suffix = \"\"\n",
        "\n",
        "    data_grouped = data.groupby(groupby_id)\n",
        "    stats = data_grouped.agg(aggs)\n",
        "    stats.columns = [f\"{prefix}{feature}_{stat}{suffix}\".upper() for feature, stat in stats]\n",
        "    stats = stats.reset_index()\n",
        "\n",
        "    return stats\n",
        "\n",
        "def create_categorical_aggs(data: pd.DataFrame,\n",
        "                            groupby_id: str,\n",
        "                            features: List[str],\n",
        "                            prefix: Optional[str] = None,\n",
        "                            suffix: Optional[str] = None,\n",
        "                            ) -> pd.DataFrame:\n",
        "    if not prefix:\n",
        "        prefix = \"\"\n",
        "    if not suffix:\n",
        "        suffix = \"\"\n",
        "\n",
        "    categorical = pd.get_dummies(data[features])\n",
        "    columns_to_agg = categorical.columns\n",
        "\n",
        "    categorical[groupby_id] = data[groupby_id]\n",
        "    data_grouped = categorical.groupby(groupby_id)\n",
        "    stats = data_grouped.agg({col: [\"mean\", \"sum\"] for col in columns_to_agg})\n",
        "    stats.columns = [f\"{prefix}{feature}_{stat}{suffix}\".upper() for feature, stat in stats]\n",
        "    stats.columns = [col.replace(\"MEAN\", \"RATIO\") for col in stats.columns]\n",
        "    stats.columns = [col.replace(\"SUM\", \"TOTAL\") for col in stats.columns]\n",
        "    stats = stats.reset_index()\n",
        "\n",
        "    return stats\n",
        "\n",
        "def calculate_feature_separating_ability(\n",
        "    features: pd.DataFrame, target: pd.Series, fill_value: float = -9999) -> pd.DataFrame:\n",
        "\n",
        "    scores = {}\n",
        "    for feature in features:\n",
        "        score = roc_auc_score(\n",
        "            target, features[feature].fillna(fill_value)\n",
        "        )\n",
        "        scores[feature] = 2*score - 1\n",
        "\n",
        "    scores = pd.Series(scores)\n",
        "    scores = scores.sort_values(ascending=False)\n",
        "\n",
        "    return scores\n",
        "\n",
        "def _predict(estimator, x_valid, probas=True):\n",
        "    if hasattr(estimator, \"predict_proba\") and probas:\n",
        "        y_pred = estimator.predict_proba(x_valid)[:, 1]\n",
        "    else:\n",
        "        y_pred = estimator.predict(x_valid)\n",
        "\n",
        "    return y_pred\n",
        "\n",
        "def calculate_permutation_importance(estimator,\n",
        "                                     metric: callable,\n",
        "                                     x_valid: pd.DataFrame,\n",
        "                                     y_valid: pd.DataFrame,\n",
        "                                     maximize: bool = True,\n",
        "                                     probas: bool = False\n",
        "                                     ) -> pd.Series:\n",
        "    y_pred = _predict(estimator, x_valid, probas)\n",
        "    base_score = metric(y_valid, y_pred)\n",
        "    scores, delta = {}, {}\n",
        "\n",
        "    for feature in tqdm(x_valid.columns):\n",
        "        x_valid_ = x_valid.copy(deep=True)\n",
        "        np.random.seed(seed)\n",
        "        x_valid_[feature] = np.random.permutation(x_valid_[feature])\n",
        "\n",
        "        y_pred = _predict(estimator, x_valid_, probas)\n",
        "        feature_score = metric(y_valid, y_pred)\n",
        "\n",
        "        if maximize:\n",
        "            delta[feature] = base_score - feature_score\n",
        "        else:\n",
        "            delta[feature] = feature_score - base_score\n",
        "\n",
        "        scores[feature] = feature_score\n",
        "\n",
        "    scores, delta = pd.Series(scores), pd.Series(delta)\n",
        "    scores = scores.sort_values(ascending=False)\n",
        "    delta = delta.sort_values(ascending=False)\n",
        "\n",
        "    return scores, delta\n",
        "\n",
        "def make_modify_cross_validation(X: pd.DataFrame,\n",
        "                                 y: pd.Series,\n",
        "                                 estimator: object,\n",
        "                                 metric: callable,\n",
        "                                 cv_strategy,\n",
        "                                 error_to_be_outlier: None,\n",
        "                                 verbose: bool = True,\n",
        "                                 proba: bool = True,\n",
        "                                 early: bool = False):\n",
        "\n",
        "    estimators, fold_train_scores, fold_valid_scores = [], [], []\n",
        "    oof_predictions = np.zeros(X.shape[0])\n",
        "\n",
        "    for fold_number, (train_idx, valid_idx) in enumerate(cv_strategy.split(X, y)):\n",
        "        x_train, x_valid = X.iloc[train_idx], X.iloc[valid_idx]\n",
        "        y_train, y_valid = y.iloc[train_idx], y.iloc[valid_idx]\n",
        "        \n",
        "        if early:\n",
        "            estimator.fit(x_train, y_train, \n",
        "                          eval_metric=\"auc\",\n",
        "                          eval_set=[(x_train, y_train), (x_valid, y_valid)], \n",
        "                          early_stopping_rounds=early,\n",
        "                          verbose=-1)\n",
        "        else:\n",
        "            estimator.fit(x_train, y_train)\n",
        "        if proba:\n",
        "            y_train_pred = estimator.predict_proba(x_train)[:,1]\n",
        "            y_valid_pred = estimator.predict_proba(x_valid)[:,1]\n",
        "        else:\n",
        "            y_train_pred = estimator.predict(x_train)\n",
        "            y_valid_pred = estimator.predict(x_valid)\n",
        "\n",
        "        fold_train_scores.append(metric(y_train, y_train_pred))\n",
        "        if not error_to_be_outlier:\n",
        "            fold_valid_scores.append(metric(y_valid, y_valid_pred))\n",
        "        else:\n",
        "            # mask = ((y_valid - y_valid_pred) / y_valid) < error_to_be_outlier  # for regression task: 0.05\n",
        "            y_valid_pred = pd.Series(data=y_valid_pred, index=y_valid.index, name='predictions')\n",
        "            outliers = iso.predict(x_valid.select_dtypes(include=\"number\"))\n",
        "            mask = y_valid[outliers == 1].index\n",
        "            fold_valid_scores.append(metric(y_valid.loc[mask], y_valid_pred.loc[mask]))\n",
        "        oof_predictions[valid_idx] = y_valid_pred\n",
        "\n",
        "        msg = (\n",
        "            f\"Fold: {fold_number+1}, train-observations = {len(train_idx)}, \"\n",
        "            f\"valid-observations = {len(valid_idx)}\\n\"\n",
        "            f\"train-score = {round(fold_train_scores[fold_number], 4)}, \"\n",
        "            f\"valid-score = {round(fold_valid_scores[fold_number], 4)}\" \n",
        "        )\n",
        "        if verbose:\n",
        "            print(msg)\n",
        "            print(\"=\"*69)\n",
        "        if hasattr(estimator, \"copy\"):\n",
        "            est = estimator.copy()\n",
        "            estimators.append(est)\n",
        "        else:\n",
        "            estimators.append(estimator)\n",
        "\n",
        "    if not error_to_be_outlier:\n",
        "        oof_score = metric(y, oof_predictions)\n",
        "    else:\n",
        "        # mask = ((y - oof_predictions) / y) < error_to_be_outlier  # for regression task\n",
        "        oof_predictions = pd.Series(data=oof_predictions, index=y.index, name=\"oof_predictions\")\n",
        "        outliers = iso.predict(X.select_dtypes(include=\"number\"))\n",
        "        mask = y[outliers == 1].index\n",
        "        oof_score = metric(y.loc[mask], oof_predictions.loc[mask])\n",
        "\n",
        "    print(f\"CV-results train: {round(np.mean(fold_train_scores), 4)} +/- {round(np.std(fold_train_scores), 3)}\")\n",
        "    print(f\"CV-results valid: {round(np.mean(fold_valid_scores), 4)} +/- {round(np.std(fold_valid_scores), 3)}\")\n",
        "    print(f\"OOF-score = {round(oof_score, 4)}\")\n",
        "\n",
        "    return estimators, oof_score, fold_train_scores, fold_valid_scores, oof_predictions\n",
        "\n",
        "def reduce_memory_df(df):\n",
        "    \"\"\"Reduce memory usage by converting data to more appropriate dtypes\"\"\"\n",
        "    start_mem = df.memory_usage().sum() / 1024 ** 2\n",
        "    print('Memory usage of dataframe is {:.2f} MB'.format(start_mem))\n",
        "    for col in df.columns:\n",
        "        col_type = df[col].dtype\n",
        "        if col_type != object and str(col_type)[:4] != 'uint' and str(col_type) != 'category':\n",
        "            c_min = df[col].min()\n",
        "            c_max = df[col].max()\n",
        "            if str(col_type)[:3] == 'int':\n",
        "                if c_min > np.iinfo(np.int8).min and c_max < np.iinfo(np.int8).max:\n",
        "                    df[col] = df[col].astype(np.int8)\n",
        "                elif c_min > np.iinfo(np.int16).min and c_max < np.iinfo(np.int16).max:\n",
        "                    df[col] = df[col].astype(np.int16)\n",
        "                elif c_min > np.iinfo(np.int32).min and c_max < np.iinfo(np.int32).max:\n",
        "                    df[col] = df[col].astype(np.int32)\n",
        "                elif c_min > np.iinfo(np.int64).min and c_max < np.iinfo(np.int64).max:\n",
        "                    df[col] = df[col].astype(np.int64)\n",
        "            else:\n",
        "                if c_min > np.finfo(np.float32).min and c_max < np.finfo(np.float32).max:\n",
        "                    df[col] = df[col].astype(np.float32)\n",
        "                else:\n",
        "                    df[col] = df[col].astype(np.float64)\n",
        "        elif str(col_type)[:4] != 'uint':\n",
        "            df[col] = df[col].astype('category')\n",
        "    end_mem = df.memory_usage().sum() / 1024 ** 2\n",
        "    print('Memory usage after optimization is: {:.2f} MB'.format(end_mem))\n",
        "    print('Decreased by {:.1f}%'.format(100 * (start_mem - end_mem) / start_mem))\n",
        "    return df\n",
        "\n",
        "def create_bootstrap_samples(data: np.array, n_samples: int = 1000) -> np.array:\n",
        "    bootstrap_idx = np.random.randint(\n",
        "        low=0, high=len(data), size=(n_samples, len(data))\n",
        "    )\n",
        "    return bootstrap_idx\n",
        "\n",
        "\n",
        "def create_bootstrap_metrics(y_true: np.array,\n",
        "                             y_pred: np.array,\n",
        "                             metric: callable,\n",
        "                             n_samlpes: int = 1000) -> List[float]:\n",
        "    scores = []\n",
        "\n",
        "    if isinstance(y_true, pd.Series):\n",
        "        y_true = y_true.values\n",
        "\n",
        "    bootstrap_idx = create_bootstrap_samples(y_true)\n",
        "    for idx in bootstrap_idx:\n",
        "        y_true_bootstrap = y_true[idx]\n",
        "        y_pred_bootstrap = y_pred[idx]\n",
        "\n",
        "        score = metric(y_true_bootstrap, y_pred_bootstrap)\n",
        "        scores.append(score)\n",
        "\n",
        "    return scores\n",
        "\n",
        "\n",
        "def calculate_confidence_interval(scores: list, conf_interval: float = 0.95) -> Tuple[float]:\n",
        "    left_bound = np.percentile(\n",
        "        scores, ((1 - conf_interval) / 2) * 100\n",
        "    )\n",
        "    right_bound = np.percentile(\n",
        "        scores, (conf_interval + ((1 - conf_interval) / 2)) * 100\n",
        "    )\n",
        "\n",
        "    return left_bound, right_bound\n",
        "\n",
        "def mean_scores(scores, target):\n",
        "    scores_list = [\n",
        "        (scores.mean(axis=1), 'AMean score: '),\n",
        "        (stats.gmean(scores, axis=1), 'GMean score: '),\n",
        "        (scores.rank().mean(axis=1), 'Rank  score: '),\n",
        "        (stats.gmean(scores.rank(), axis=1), 'GMean  rank: ')\n",
        "    ]\n",
        "\n",
        "    for scores_mean in scores_list:\n",
        "        score = roc_auc_score(target, scores_mean[0])\n",
        "        print(f\"{scores_mean[1]}{score:.5f}\")"
      ],
      "id": "32d81e94"
    },
    {
      "cell_type": "code",
      "execution_count": null,
      "metadata": {
        "id": "41371de5"
      },
      "outputs": [],
      "source": [
        "train_ids = set(train[ID_COL])\n",
        "test_ids = set(test[ID_COL])\n",
        "\n",
        "hist_ids = set(history[ID_COL])\n",
        "bki_ids = set(bki[ID_COL])\n",
        "pay_ids = set(payments[ID_COL])\n",
        "cp_ids = set(cp[ID_COL])"
      ],
      "id": "41371de5"
    },
    {
      "cell_type": "markdown",
      "metadata": {
        "id": "4b5841c1"
      },
      "source": [
        "### Profile"
      ],
      "id": "4b5841c1"
    },
    {
      "cell_type": "code",
      "execution_count": null,
      "metadata": {
        "id": "95894d35",
        "outputId": "9cfe2a47-7618-4b41-a30f-2ec9a5dc48a3"
      },
      "outputs": [
        {
          "data": {
            "text/html": [
              "<div>\n",
              "<style scoped>\n",
              "    .dataframe tbody tr th:only-of-type {\n",
              "        vertical-align: middle;\n",
              "    }\n",
              "\n",
              "    .dataframe tbody tr th {\n",
              "        vertical-align: top;\n",
              "    }\n",
              "\n",
              "    .dataframe thead th {\n",
              "        text-align: right;\n",
              "    }\n",
              "</style>\n",
              "<table border=\"1\" class=\"dataframe\">\n",
              "  <thead>\n",
              "    <tr style=\"text-align: right;\">\n",
              "      <th></th>\n",
              "      <th>APPLICATION_NUMBER</th>\n",
              "      <th>CHILDRENS</th>\n",
              "      <th>TOTAL_SALARY</th>\n",
              "      <th>AMOUNT_CREDIT</th>\n",
              "      <th>AMOUNT_ANNUITY</th>\n",
              "      <th>REGION_POPULATION</th>\n",
              "      <th>AGE</th>\n",
              "      <th>DAYS_ON_LAST_JOB</th>\n",
              "      <th>OWN_CAR_AGE</th>\n",
              "      <th>FLAG_PHONE</th>\n",
              "      <th>FLAG_EMAIL</th>\n",
              "      <th>FAMILY_SIZE</th>\n",
              "      <th>EXTERNAL_SCORING_RATING_1</th>\n",
              "      <th>EXTERNAL_SCORING_RATING_2</th>\n",
              "      <th>EXTERNAL_SCORING_RATING_3</th>\n",
              "      <th>AMT_REQ_CREDIT_BUREAU_HOUR</th>\n",
              "      <th>AMT_REQ_CREDIT_BUREAU_DAY</th>\n",
              "      <th>AMT_REQ_CREDIT_BUREAU_WEEK</th>\n",
              "      <th>AMT_REQ_CREDIT_BUREAU_MON</th>\n",
              "      <th>AMT_REQ_CREDIT_BUREAU_QRT</th>\n",
              "      <th>AMT_REQ_CREDIT_BUREAU_YEAR</th>\n",
              "    </tr>\n",
              "  </thead>\n",
              "  <tbody>\n",
              "    <tr>\n",
              "      <th>count</th>\n",
              "      <td>250000.0000</td>\n",
              "      <td>250000.0000</td>\n",
              "      <td>250000.0000</td>\n",
              "      <td>250000.0000</td>\n",
              "      <td>249989.0000</td>\n",
              "      <td>250000.0000</td>\n",
              "      <td>250000.0000</td>\n",
              "      <td>250000.0000</td>\n",
              "      <td>85041.0000</td>\n",
              "      <td>250000.0000</td>\n",
              "      <td>250000.0000</td>\n",
              "      <td>249998.0000</td>\n",
              "      <td>109121.0000</td>\n",
              "      <td>249468.0000</td>\n",
              "      <td>200462.0000</td>\n",
              "      <td>216293.0000</td>\n",
              "      <td>216293.0000</td>\n",
              "      <td>216293.0000</td>\n",
              "      <td>216293.0000</td>\n",
              "      <td>216293.0000</td>\n",
              "      <td>216293.0000</td>\n",
              "    </tr>\n",
              "    <tr>\n",
              "      <th>mean</th>\n",
              "      <td>123577106.0131</td>\n",
              "      <td>0.4176</td>\n",
              "      <td>169066.1513</td>\n",
              "      <td>599305.1255</td>\n",
              "      <td>27125.2096</td>\n",
              "      <td>0.0209</td>\n",
              "      <td>16033.4605</td>\n",
              "      <td>67505.8833</td>\n",
              "      <td>12.0302</td>\n",
              "      <td>0.2802</td>\n",
              "      <td>0.0571</td>\n",
              "      <td>2.1540</td>\n",
              "      <td>0.5021</td>\n",
              "      <td>0.5142</td>\n",
              "      <td>0.5108</td>\n",
              "      <td>0.0063</td>\n",
              "      <td>0.0069</td>\n",
              "      <td>0.0342</td>\n",
              "      <td>0.2675</td>\n",
              "      <td>0.2668</td>\n",
              "      <td>1.8990</td>\n",
              "    </tr>\n",
              "    <tr>\n",
              "      <th>std</th>\n",
              "      <td>88777.2224</td>\n",
              "      <td>0.7225</td>\n",
              "      <td>258847.9858</td>\n",
              "      <td>402272.0241</td>\n",
              "      <td>14503.9304</td>\n",
              "      <td>0.0138</td>\n",
              "      <td>4361.3323</td>\n",
              "      <td>139261.0996</td>\n",
              "      <td>11.8994</td>\n",
              "      <td>0.4491</td>\n",
              "      <td>0.2320</td>\n",
              "      <td>0.9115</td>\n",
              "      <td>0.2108</td>\n",
              "      <td>0.1911</td>\n",
              "      <td>0.1951</td>\n",
              "      <td>0.0838</td>\n",
              "      <td>0.1080</td>\n",
              "      <td>0.2040</td>\n",
              "      <td>0.9145</td>\n",
              "      <td>0.8315</td>\n",
              "      <td>1.8688</td>\n",
              "    </tr>\n",
              "    <tr>\n",
              "      <th>min</th>\n",
              "      <td>123423341.0000</td>\n",
              "      <td>0.0000</td>\n",
              "      <td>25650.0000</td>\n",
              "      <td>45000.0000</td>\n",
              "      <td>1615.5000</td>\n",
              "      <td>0.0003</td>\n",
              "      <td>7489.0000</td>\n",
              "      <td>0.0000</td>\n",
              "      <td>0.0000</td>\n",
              "      <td>0.0000</td>\n",
              "      <td>0.0000</td>\n",
              "      <td>1.0000</td>\n",
              "      <td>0.0147</td>\n",
              "      <td>0.0000</td>\n",
              "      <td>0.0005</td>\n",
              "      <td>0.0000</td>\n",
              "      <td>0.0000</td>\n",
              "      <td>0.0000</td>\n",
              "      <td>0.0000</td>\n",
              "      <td>0.0000</td>\n",
              "      <td>0.0000</td>\n",
              "    </tr>\n",
              "    <tr>\n",
              "      <th>25%</th>\n",
              "      <td>123500214.5000</td>\n",
              "      <td>0.0000</td>\n",
              "      <td>112500.0000</td>\n",
              "      <td>270000.0000</td>\n",
              "      <td>16524.0000</td>\n",
              "      <td>0.0100</td>\n",
              "      <td>12415.0000</td>\n",
              "      <td>931.0000</td>\n",
              "      <td>5.0000</td>\n",
              "      <td>0.0000</td>\n",
              "      <td>0.0000</td>\n",
              "      <td>2.0000</td>\n",
              "      <td>0.3342</td>\n",
              "      <td>0.3920</td>\n",
              "      <td>0.3706</td>\n",
              "      <td>0.0000</td>\n",
              "      <td>0.0000</td>\n",
              "      <td>0.0000</td>\n",
              "      <td>0.0000</td>\n",
              "      <td>0.0000</td>\n",
              "      <td>0.0000</td>\n",
              "    </tr>\n",
              "    <tr>\n",
              "      <th>50%</th>\n",
              "      <td>123577184.5000</td>\n",
              "      <td>0.0000</td>\n",
              "      <td>148500.0000</td>\n",
              "      <td>514777.5000</td>\n",
              "      <td>24930.0000</td>\n",
              "      <td>0.0188</td>\n",
              "      <td>15744.0000</td>\n",
              "      <td>2217.0000</td>\n",
              "      <td>9.0000</td>\n",
              "      <td>0.0000</td>\n",
              "      <td>0.0000</td>\n",
              "      <td>2.0000</td>\n",
              "      <td>0.5060</td>\n",
              "      <td>0.5657</td>\n",
              "      <td>0.5353</td>\n",
              "      <td>0.0000</td>\n",
              "      <td>0.0000</td>\n",
              "      <td>0.0000</td>\n",
              "      <td>0.0000</td>\n",
              "      <td>0.0000</td>\n",
              "      <td>1.0000</td>\n",
              "    </tr>\n",
              "    <tr>\n",
              "      <th>75%</th>\n",
              "      <td>123653961.2500</td>\n",
              "      <td>1.0000</td>\n",
              "      <td>202500.0000</td>\n",
              "      <td>808650.0000</td>\n",
              "      <td>34618.5000</td>\n",
              "      <td>0.0287</td>\n",
              "      <td>19681.0000</td>\n",
              "      <td>5678.0000</td>\n",
              "      <td>15.0000</td>\n",
              "      <td>1.0000</td>\n",
              "      <td>0.0000</td>\n",
              "      <td>3.0000</td>\n",
              "      <td>0.6748</td>\n",
              "      <td>0.6635</td>\n",
              "      <td>0.6691</td>\n",
              "      <td>0.0000</td>\n",
              "      <td>0.0000</td>\n",
              "      <td>0.0000</td>\n",
              "      <td>0.0000</td>\n",
              "      <td>0.0000</td>\n",
              "      <td>3.0000</td>\n",
              "    </tr>\n",
              "    <tr>\n",
              "      <th>max</th>\n",
              "      <td>123730851.0000</td>\n",
              "      <td>19.0000</td>\n",
              "      <td>117000000.0000</td>\n",
              "      <td>4050000.0000</td>\n",
              "      <td>230161.5000</td>\n",
              "      <td>0.0725</td>\n",
              "      <td>25229.0000</td>\n",
              "      <td>365243.0000</td>\n",
              "      <td>69.0000</td>\n",
              "      <td>1.0000</td>\n",
              "      <td>1.0000</td>\n",
              "      <td>20.0000</td>\n",
              "      <td>0.9627</td>\n",
              "      <td>0.8550</td>\n",
              "      <td>0.8960</td>\n",
              "      <td>4.0000</td>\n",
              "      <td>9.0000</td>\n",
              "      <td>8.0000</td>\n",
              "      <td>27.0000</td>\n",
              "      <td>261.0000</td>\n",
              "      <td>25.0000</td>\n",
              "    </tr>\n",
              "  </tbody>\n",
              "</table>\n",
              "</div>"
            ],
            "text/plain": [
              "       APPLICATION_NUMBER   CHILDRENS   TOTAL_SALARY  AMOUNT_CREDIT  \\\n",
              "count         250000.0000 250000.0000    250000.0000    250000.0000   \n",
              "mean       123577106.0131      0.4176    169066.1513    599305.1255   \n",
              "std            88777.2224      0.7225    258847.9858    402272.0241   \n",
              "min        123423341.0000      0.0000     25650.0000     45000.0000   \n",
              "25%        123500214.5000      0.0000    112500.0000    270000.0000   \n",
              "50%        123577184.5000      0.0000    148500.0000    514777.5000   \n",
              "75%        123653961.2500      1.0000    202500.0000    808650.0000   \n",
              "max        123730851.0000     19.0000 117000000.0000   4050000.0000   \n",
              "\n",
              "       AMOUNT_ANNUITY  REGION_POPULATION         AGE  DAYS_ON_LAST_JOB  \\\n",
              "count     249989.0000        250000.0000 250000.0000       250000.0000   \n",
              "mean       27125.2096             0.0209  16033.4605        67505.8833   \n",
              "std        14503.9304             0.0138   4361.3323       139261.0996   \n",
              "min         1615.5000             0.0003   7489.0000            0.0000   \n",
              "25%        16524.0000             0.0100  12415.0000          931.0000   \n",
              "50%        24930.0000             0.0188  15744.0000         2217.0000   \n",
              "75%        34618.5000             0.0287  19681.0000         5678.0000   \n",
              "max       230161.5000             0.0725  25229.0000       365243.0000   \n",
              "\n",
              "       OWN_CAR_AGE  FLAG_PHONE  FLAG_EMAIL  FAMILY_SIZE  \\\n",
              "count   85041.0000 250000.0000 250000.0000  249998.0000   \n",
              "mean       12.0302      0.2802      0.0571       2.1540   \n",
              "std        11.8994      0.4491      0.2320       0.9115   \n",
              "min         0.0000      0.0000      0.0000       1.0000   \n",
              "25%         5.0000      0.0000      0.0000       2.0000   \n",
              "50%         9.0000      0.0000      0.0000       2.0000   \n",
              "75%        15.0000      1.0000      0.0000       3.0000   \n",
              "max        69.0000      1.0000      1.0000      20.0000   \n",
              "\n",
              "       EXTERNAL_SCORING_RATING_1  EXTERNAL_SCORING_RATING_2  \\\n",
              "count                109121.0000                249468.0000   \n",
              "mean                      0.5021                     0.5142   \n",
              "std                       0.2108                     0.1911   \n",
              "min                       0.0147                     0.0000   \n",
              "25%                       0.3342                     0.3920   \n",
              "50%                       0.5060                     0.5657   \n",
              "75%                       0.6748                     0.6635   \n",
              "max                       0.9627                     0.8550   \n",
              "\n",
              "       EXTERNAL_SCORING_RATING_3  AMT_REQ_CREDIT_BUREAU_HOUR  \\\n",
              "count                200462.0000                 216293.0000   \n",
              "mean                      0.5108                      0.0063   \n",
              "std                       0.1951                      0.0838   \n",
              "min                       0.0005                      0.0000   \n",
              "25%                       0.3706                      0.0000   \n",
              "50%                       0.5353                      0.0000   \n",
              "75%                       0.6691                      0.0000   \n",
              "max                       0.8960                      4.0000   \n",
              "\n",
              "       AMT_REQ_CREDIT_BUREAU_DAY  AMT_REQ_CREDIT_BUREAU_WEEK  \\\n",
              "count                216293.0000                 216293.0000   \n",
              "mean                      0.0069                      0.0342   \n",
              "std                       0.1080                      0.2040   \n",
              "min                       0.0000                      0.0000   \n",
              "25%                       0.0000                      0.0000   \n",
              "50%                       0.0000                      0.0000   \n",
              "75%                       0.0000                      0.0000   \n",
              "max                       9.0000                      8.0000   \n",
              "\n",
              "       AMT_REQ_CREDIT_BUREAU_MON  AMT_REQ_CREDIT_BUREAU_QRT  \\\n",
              "count                216293.0000                216293.0000   \n",
              "mean                      0.2675                     0.2668   \n",
              "std                       0.9145                     0.8315   \n",
              "min                       0.0000                     0.0000   \n",
              "25%                       0.0000                     0.0000   \n",
              "50%                       0.0000                     0.0000   \n",
              "75%                       0.0000                     0.0000   \n",
              "max                      27.0000                   261.0000   \n",
              "\n",
              "       AMT_REQ_CREDIT_BUREAU_YEAR  \n",
              "count                 216293.0000  \n",
              "mean                       1.8990  \n",
              "std                        1.8688  \n",
              "min                        0.0000  \n",
              "25%                        0.0000  \n",
              "50%                        1.0000  \n",
              "75%                        3.0000  \n",
              "max                       25.0000  "
            ]
          },
          "execution_count": 406,
          "metadata": {},
          "output_type": "execute_result"
        }
      ],
      "source": [
        "cp.describe()"
      ],
      "id": "95894d35"
    },
    {
      "cell_type": "code",
      "execution_count": null,
      "metadata": {
        "id": "e2b2575b",
        "outputId": "deba9929-7efe-41fe-d55b-09dfbb47ae4d"
      },
      "outputs": [
        {
          "data": {
            "text/plain": [
              "0"
            ]
          },
          "execution_count": 408,
          "metadata": {},
          "output_type": "execute_result"
        }
      ],
      "source": [
        "cp.duplicated().sum()"
      ],
      "id": "e2b2575b"
    },
    {
      "cell_type": "code",
      "execution_count": null,
      "metadata": {
        "id": "38c18d5b"
      },
      "outputs": [],
      "source": [
        "for column in cp.columns:\n",
        "    if cp[column].nunique() < 2:\n",
        "        print(column)"
      ],
      "id": "38c18d5b"
    },
    {
      "cell_type": "code",
      "execution_count": null,
      "metadata": {
        "id": "08d8afdb",
        "outputId": "0bf56662-5359-40a9-bd51-39b3371cd415"
      },
      "outputs": [
        {
          "data": {
            "text/plain": [
              "<AxesSubplot:>"
            ]
          },
          "execution_count": 410,
          "metadata": {},
          "output_type": "execute_result"
        },
        {
          "data": {
            "image/png": "[encoded data removed]",
            "text/plain": [
              "<Figure size 1800x720 with 2 Axes>"
            ]
          },
          "metadata": {},
          "output_type": "display_data"
        }
      ],
      "source": [
        "#missing / outliers\n",
        "msno.matrix(cp)"
      ],
      "id": "08d8afdb"
    },
    {
      "cell_type": "code",
      "execution_count": null,
      "metadata": {
        "id": "8538bb49",
        "outputId": "5a4d23a5-489c-4321-d53c-58c90dc0c35b"
      },
      "outputs": [
        {
          "data": {
            "text/plain": [
              "(89539, 191604, 68723)"
            ]
          },
          "execution_count": 413,
          "metadata": {},
          "output_type": "execute_result"
        }
      ],
      "source": [
        "len(cp_ids & train_ids), len(cp_ids & bki_ids), len(train_ids & (cp_ids & bki_ids))"
      ],
      "id": "8538bb49"
    },
    {
      "cell_type": "code",
      "execution_count": null,
      "metadata": {
        "id": "060556f8",
        "outputId": "566302c3-9c27-4c6e-c807-bb5c829c8b2a"
      },
      "outputs": [
        {
          "data": {
            "text/plain": [
              "<AxesSubplot:>"
            ]
          },
          "execution_count": 414,
          "metadata": {},
          "output_type": "execute_result"
        },
        {
          "data": {
            "image/png": "[encoded data removed]",
            "text/plain": [
              "<Figure size 1440x864 with 2 Axes>"
            ]
          },
          "metadata": {},
          "output_type": "display_data"
        }
      ],
      "source": [
        "msno.heatmap(cp)"
      ],
      "id": "060556f8"
    },
    {
      "cell_type": "code",
      "execution_count": null,
      "metadata": {
        "id": "77a517ca",
        "outputId": "d81e2da4-c371-4cd6-97be-cf6eac45238d"
      },
      "outputs": [
        {
          "name": "stdout",
          "output_type": "stream",
          "text": [
            "Total NA-values = 558163\n"
          ]
        },
        {
          "data": {
            "text/html": [
              "<div>\n",
              "<style scoped>\n",
              "    .dataframe tbody tr th:only-of-type {\n",
              "        vertical-align: middle;\n",
              "    }\n",
              "\n",
              "    .dataframe tbody tr th {\n",
              "        vertical-align: top;\n",
              "    }\n",
              "\n",
              "    .dataframe thead th {\n",
              "        text-align: right;\n",
              "    }\n",
              "</style>\n",
              "<table border=\"1\" class=\"dataframe\">\n",
              "  <thead>\n",
              "    <tr style=\"text-align: right;\">\n",
              "      <th></th>\n",
              "      <th>AMOUNT_ANNUITY</th>\n",
              "      <th>OWN_CAR_AGE</th>\n",
              "      <th>FAMILY_SIZE</th>\n",
              "      <th>EXTERNAL_SCORING_RATING_1</th>\n",
              "      <th>EXTERNAL_SCORING_RATING_2</th>\n",
              "      <th>EXTERNAL_SCORING_RATING_3</th>\n",
              "      <th>AMT_REQ_CREDIT_BUREAU_HOUR</th>\n",
              "      <th>AMT_REQ_CREDIT_BUREAU_DAY</th>\n",
              "      <th>AMT_REQ_CREDIT_BUREAU_WEEK</th>\n",
              "      <th>AMT_REQ_CREDIT_BUREAU_MON</th>\n",
              "      <th>AMT_REQ_CREDIT_BUREAU_QRT</th>\n",
              "      <th>AMT_REQ_CREDIT_BUREAU_YEAR</th>\n",
              "    </tr>\n",
              "  </thead>\n",
              "  <tbody>\n",
              "    <tr>\n",
              "      <th>Total</th>\n",
              "      <td>11</td>\n",
              "      <td>164959</td>\n",
              "      <td>2</td>\n",
              "      <td>140879</td>\n",
              "      <td>532</td>\n",
              "      <td>49538</td>\n",
              "      <td>33707</td>\n",
              "      <td>33707</td>\n",
              "      <td>33707</td>\n",
              "      <td>33707</td>\n",
              "      <td>33707</td>\n",
              "      <td>33707</td>\n",
              "    </tr>\n",
              "    <tr>\n",
              "      <th>Percent</th>\n",
              "      <td>0.0044</td>\n",
              "      <td>65.9836</td>\n",
              "      <td>0.0008</td>\n",
              "      <td>56.3516</td>\n",
              "      <td>0.2128</td>\n",
              "      <td>19.8152</td>\n",
              "      <td>13.4828</td>\n",
              "      <td>13.4828</td>\n",
              "      <td>13.4828</td>\n",
              "      <td>13.4828</td>\n",
              "      <td>13.4828</td>\n",
              "      <td>13.4828</td>\n",
              "    </tr>\n",
              "    <tr>\n",
              "      <th>Types</th>\n",
              "      <td>float64</td>\n",
              "      <td>float64</td>\n",
              "      <td>float64</td>\n",
              "      <td>float64</td>\n",
              "      <td>float64</td>\n",
              "      <td>float64</td>\n",
              "      <td>float64</td>\n",
              "      <td>float64</td>\n",
              "      <td>float64</td>\n",
              "      <td>float64</td>\n",
              "      <td>float64</td>\n",
              "      <td>float64</td>\n",
              "    </tr>\n",
              "  </tbody>\n",
              "</table>\n",
              "</div>"
            ],
            "text/plain": [
              "        AMOUNT_ANNUITY OWN_CAR_AGE FAMILY_SIZE EXTERNAL_SCORING_RATING_1  \\\n",
              "Total               11      164959           2                    140879   \n",
              "Percent         0.0044     65.9836      0.0008                   56.3516   \n",
              "Types          float64     float64     float64                   float64   \n",
              "\n",
              "        EXTERNAL_SCORING_RATING_2 EXTERNAL_SCORING_RATING_3  \\\n",
              "Total                         532                     49538   \n",
              "Percent                    0.2128                   19.8152   \n",
              "Types                     float64                   float64   \n",
              "\n",
              "        AMT_REQ_CREDIT_BUREAU_HOUR AMT_REQ_CREDIT_BUREAU_DAY  \\\n",
              "Total                        33707                     33707   \n",
              "Percent                    13.4828                   13.4828   \n",
              "Types                      float64                   float64   \n",
              "\n",
              "        AMT_REQ_CREDIT_BUREAU_WEEK AMT_REQ_CREDIT_BUREAU_MON  \\\n",
              "Total                        33707                     33707   \n",
              "Percent                    13.4828                   13.4828   \n",
              "Types                      float64                   float64   \n",
              "\n",
              "        AMT_REQ_CREDIT_BUREAU_QRT AMT_REQ_CREDIT_BUREAU_YEAR  \n",
              "Total                       33707                      33707  \n",
              "Percent                   13.4828                    13.4828  \n",
              "Types                     float64                    float64  "
            ]
          },
          "execution_count": 418,
          "metadata": {},
          "output_type": "execute_result"
        }
      ],
      "source": [
        "check_missings(cp)"
      ],
      "id": "77a517ca"
    },
    {
      "cell_type": "code",
      "execution_count": null,
      "metadata": {
        "id": "ed7a4788"
      },
      "outputs": [],
      "source": [
        "cp.fillna(0, inplace=True)"
      ],
      "id": "ed7a4788"
    },
    {
      "cell_type": "code",
      "execution_count": null,
      "metadata": {
        "id": "820b1a7d",
        "outputId": "50e39c48-5700-44fc-986c-4346528b14f3"
      },
      "outputs": [
        {
          "data": {
            "text/plain": [
              "(250000, 250000)"
            ]
          },
          "execution_count": 420,
          "metadata": {},
          "output_type": "execute_result"
        }
      ],
      "source": [
        "cp.shape[0], cp[ID_COL].nunique()"
      ],
      "id": "820b1a7d"
    },
    {
      "cell_type": "code",
      "execution_count": null,
      "metadata": {
        "id": "6797e2e3",
        "outputId": "da8f3f3b-a193-479d-b01a-a8acdd86a72d"
      },
      "outputs": [
        {
          "data": {
            "text/html": [
              "<div>\n",
              "<style scoped>\n",
              "    .dataframe tbody tr th:only-of-type {\n",
              "        vertical-align: middle;\n",
              "    }\n",
              "\n",
              "    .dataframe tbody tr th {\n",
              "        vertical-align: top;\n",
              "    }\n",
              "\n",
              "    .dataframe thead th {\n",
              "        text-align: right;\n",
              "    }\n",
              "</style>\n",
              "<table border=\"1\" class=\"dataframe\">\n",
              "  <thead>\n",
              "    <tr style=\"text-align: right;\">\n",
              "      <th></th>\n",
              "      <th>GENDER</th>\n",
              "      <th>EDUCATION_LEVEL</th>\n",
              "      <th>FAMILY_STATUS</th>\n",
              "    </tr>\n",
              "  </thead>\n",
              "  <tbody>\n",
              "    <tr>\n",
              "      <th>count</th>\n",
              "      <td>250000</td>\n",
              "      <td>250000</td>\n",
              "      <td>250000</td>\n",
              "    </tr>\n",
              "    <tr>\n",
              "      <th>unique</th>\n",
              "      <td>3</td>\n",
              "      <td>5</td>\n",
              "      <td>6</td>\n",
              "    </tr>\n",
              "    <tr>\n",
              "      <th>top</th>\n",
              "      <td>F</td>\n",
              "      <td>Secondary / secondary special</td>\n",
              "      <td>Married</td>\n",
              "    </tr>\n",
              "    <tr>\n",
              "      <th>freq</th>\n",
              "      <td>164645</td>\n",
              "      <td>177562</td>\n",
              "      <td>159846</td>\n",
              "    </tr>\n",
              "  </tbody>\n",
              "</table>\n",
              "</div>"
            ],
            "text/plain": [
              "        GENDER                EDUCATION_LEVEL FAMILY_STATUS\n",
              "count   250000                         250000        250000\n",
              "unique       3                              5             6\n",
              "top          F  Secondary / secondary special       Married\n",
              "freq    164645                         177562        159846"
            ]
          },
          "execution_count": 422,
          "metadata": {},
          "output_type": "execute_result"
        }
      ],
      "source": [
        "cp.describe(include=\"object\")"
      ],
      "id": "6797e2e3"
    },
    {
      "cell_type": "code",
      "execution_count": null,
      "metadata": {
        "id": "6c68ff32",
        "outputId": "de43a1c0-a30f-404c-9e94-497ad7843da4"
      },
      "outputs": [
        {
          "data": {
            "image/png": "[encoded data removed]",
            "text/plain": [
              "<Figure size 1440x1440 with 21 Axes>"
            ]
          },
          "metadata": {},
          "output_type": "display_data"
        }
      ],
      "source": [
        "# log for outliers\n",
        "numerical_columns = cp.select_dtypes(\"number\").columns\n",
        "plt.figure(figsize=(20,20))\n",
        "for idx, column in enumerate(numerical_columns, 1):\n",
        "    plt.subplot(5, 5, idx)\n",
        "    sns.boxplot(y=cp[column], data=cp)\n",
        "    plt.title(f'{column}')\n",
        "plt.tight_layout()\n",
        "plt.show()"
      ],
      "id": "6c68ff32"
    },
    {
      "cell_type": "code",
      "execution_count": null,
      "metadata": {
        "id": "0dff47d7",
        "outputId": "586f9e81-297d-47d2-d9a2-435e094240be"
      },
      "outputs": [
        {
          "data": {
            "text/html": [
              "<div>\n",
              "<style scoped>\n",
              "    .dataframe tbody tr th:only-of-type {\n",
              "        vertical-align: middle;\n",
              "    }\n",
              "\n",
              "    .dataframe tbody tr th {\n",
              "        vertical-align: top;\n",
              "    }\n",
              "\n",
              "    .dataframe thead th {\n",
              "        text-align: right;\n",
              "    }\n",
              "</style>\n",
              "<table border=\"1\" class=\"dataframe\">\n",
              "  <thead>\n",
              "    <tr style=\"text-align: right;\">\n",
              "      <th></th>\n",
              "      <th>APPLICATION_NUMBER</th>\n",
              "      <th>GENDER</th>\n",
              "      <th>CHILDRENS</th>\n",
              "      <th>TOTAL_SALARY</th>\n",
              "      <th>AMOUNT_CREDIT</th>\n",
              "      <th>AMOUNT_ANNUITY</th>\n",
              "      <th>EDUCATION_LEVEL</th>\n",
              "      <th>FAMILY_STATUS</th>\n",
              "      <th>REGION_POPULATION</th>\n",
              "      <th>AGE</th>\n",
              "      <th>DAYS_ON_LAST_JOB</th>\n",
              "      <th>OWN_CAR_AGE</th>\n",
              "      <th>FLAG_PHONE</th>\n",
              "      <th>FLAG_EMAIL</th>\n",
              "      <th>FAMILY_SIZE</th>\n",
              "      <th>EXTERNAL_SCORING_RATING_1</th>\n",
              "      <th>EXTERNAL_SCORING_RATING_2</th>\n",
              "      <th>EXTERNAL_SCORING_RATING_3</th>\n",
              "      <th>AMT_REQ_CREDIT_BUREAU_HOUR</th>\n",
              "      <th>AMT_REQ_CREDIT_BUREAU_DAY</th>\n",
              "      <th>AMT_REQ_CREDIT_BUREAU_WEEK</th>\n",
              "      <th>AMT_REQ_CREDIT_BUREAU_MON</th>\n",
              "      <th>AMT_REQ_CREDIT_BUREAU_QRT</th>\n",
              "      <th>AMT_REQ_CREDIT_BUREAU_YEAR</th>\n",
              "    </tr>\n",
              "  </thead>\n",
              "  <tbody>\n",
              "    <tr>\n",
              "      <th>146538</th>\n",
              "      <td>123436181</td>\n",
              "      <td>F</td>\n",
              "      <td>1</td>\n",
              "      <td>117000000.0000</td>\n",
              "      <td>562491.0000</td>\n",
              "      <td>26194.5000</td>\n",
              "      <td>Secondary / secondary special</td>\n",
              "      <td>Married</td>\n",
              "      <td>0.0106</td>\n",
              "      <td>12615</td>\n",
              "      <td>922</td>\n",
              "      <td>0.0000</td>\n",
              "      <td>0</td>\n",
              "      <td>0</td>\n",
              "      <td>3.0000</td>\n",
              "      <td>0.4608</td>\n",
              "      <td>0.1132</td>\n",
              "      <td>0.1455</td>\n",
              "      <td>0.0000</td>\n",
              "      <td>0.0000</td>\n",
              "      <td>0.0000</td>\n",
              "      <td>0.0000</td>\n",
              "      <td>0.0000</td>\n",
              "      <td>1.0000</td>\n",
              "    </tr>\n",
              "  </tbody>\n",
              "</table>\n",
              "</div>"
            ],
            "text/plain": [
              "        APPLICATION_NUMBER GENDER  CHILDRENS   TOTAL_SALARY  AMOUNT_CREDIT  \\\n",
              "146538           123436181      F          1 117000000.0000    562491.0000   \n",
              "\n",
              "        AMOUNT_ANNUITY                EDUCATION_LEVEL FAMILY_STATUS  \\\n",
              "146538      26194.5000  Secondary / secondary special       Married   \n",
              "\n",
              "        REGION_POPULATION    AGE  DAYS_ON_LAST_JOB  OWN_CAR_AGE  FLAG_PHONE  \\\n",
              "146538             0.0106  12615               922       0.0000           0   \n",
              "\n",
              "        FLAG_EMAIL  FAMILY_SIZE  EXTERNAL_SCORING_RATING_1  \\\n",
              "146538           0       3.0000                     0.4608   \n",
              "\n",
              "        EXTERNAL_SCORING_RATING_2  EXTERNAL_SCORING_RATING_3  \\\n",
              "146538                     0.1132                     0.1455   \n",
              "\n",
              "        AMT_REQ_CREDIT_BUREAU_HOUR  AMT_REQ_CREDIT_BUREAU_DAY  \\\n",
              "146538                      0.0000                     0.0000   \n",
              "\n",
              "        AMT_REQ_CREDIT_BUREAU_WEEK  AMT_REQ_CREDIT_BUREAU_MON  \\\n",
              "146538                      0.0000                     0.0000   \n",
              "\n",
              "        AMT_REQ_CREDIT_BUREAU_QRT  AMT_REQ_CREDIT_BUREAU_YEAR  \n",
              "146538                     0.0000                      1.0000  "
            ]
          },
          "execution_count": 646,
          "metadata": {},
          "output_type": "execute_result"
        }
      ],
      "source": [
        "# single point inspectation (dealing) + new feature based on IQR?\n",
        "### cp[cp.AMT_REQ_CREDIT_BUREAU_QRT > 50] -> cp[cp.AMT_REQ_CREDIT_BUREAU_QRT <= 50].max() + 1\n",
        "### cp[cp.DAYS_ON_LAST_JOB > 50000] -> 365.25\n",
        "    # cp.REGION_POPULATION.hist(bins=10) OK - big cities\n",
        "    # CHILDREN corresponds to FAMILY_SIZE\n",
        "### cp[cp.TOTAL_SALARY < 1e+8]['TOTAL_SALARY'] /= 1000\n",
        "cp[cp.TOTAL_SALARY > 1e+8]"
      ],
      "id": "0dff47d7"
    },
    {
      "cell_type": "code",
      "execution_count": null,
      "metadata": {
        "id": "ea844e36",
        "outputId": "044261ab-88f8-4a5a-fdc5-327722d97bd6"
      },
      "outputs": [
        {
          "name": "stdout",
          "output_type": "stream",
          "text": [
            "F      164645\n",
            "M       85351\n",
            "XNA         4\n",
            "Name: GENDER, dtype: int64 \n",
            " ========================================\n",
            "Secondary / secondary special    177562\n",
            "Higher education                  60864\n",
            "Incomplete higher                  8357\n",
            "Lower secondary                    3081\n",
            "Academic degree                     136\n",
            "Name: EDUCATION_LEVEL, dtype: int64 \n",
            " ========================================\n",
            "Married                 159846\n",
            "Single / not married     36883\n",
            "Civil marriage           24252\n",
            "Separated                15984\n",
            "Widow                    13033\n",
            "Unknown                      2\n",
            "Name: FAMILY_STATUS, dtype: int64 \n",
            " ========================================\n"
          ]
        }
      ],
      "source": [
        "for column in cp.select_dtypes(include=\"object\").columns:\n",
        "    print(cp[column].value_counts(), '\\n', '='*40)\n",
        "# replace XNA with mode\n",
        "# education: catboost target encoding df[edu] = ce.fit_transform/transform(df[edu], TARGET) (target from train)\n",
        "# family status: union unknown with civil marriage"
      ],
      "id": "ea844e36"
    },
    {
      "cell_type": "code",
      "execution_count": null,
      "metadata": {
        "id": "4c727ccd"
      },
      "outputs": [],
      "source": [
        "def prepare_cp(labels: pd.DataFrame, dropna: bool = True, create_features: bool = False) -> pd.DataFrame:\n",
        "    df = pd.read_csv('client_profile.csv')\n",
        "    # fill missing values: 0 is reasonable\n",
        "    df.fillna(0, inplace=True)\n",
        "\n",
        "    # deal with extreme outliers\n",
        "    df.loc[df['AMT_REQ_CREDIT_BUREAU_QRT'] > 50] = df.loc[df['AMT_REQ_CREDIT_BUREAU_QRT'] <= 50, 'AMT_REQ_CREDIT_BUREAU_QRT'].max() + 1\n",
        "    df.loc[df['DAYS_ON_LAST_JOB'] > 50000, 'DAYS_ON_LAST_JOB'] = 366\n",
        "    df.loc[df['TOTAL_SALARY'] > 1e+8, 'TOTAL_SALARY'] /= 1000.\n",
        "\n",
        "    # IQR mark\n",
        "    df['IS_OUTLIER'] = 0\n",
        "    for column in df.select_dtypes(include=\"number\").columns:\n",
        "        q1, q3 = np.quantile(df[column], 0.25), np.quantile(df[column], 0.75)\n",
        "        iqr = q3 - q1\n",
        "        upper_bound = q3 + 1.5 * iqr\n",
        "        lower_bound = q1 - 1.5 * iqr\n",
        "        condition = ((df[column] > upper_bound) | (df[column] < lower_bound))\n",
        "        df.loc[condition, 'IS_OUTLIER'] = 1\n",
        "\n",
        "    # transform categorical columns\n",
        "    df.loc[df['GENDER'] == 'XNA', 'GENDER'] = df['GENDER'].mode()[0]\n",
        "    df['GENDER'] = df['GENDER'].map({'F': 0, 'M': 1})\n",
        "    df.loc[df['FAMILY_STATUS'] == 'Unknown', 'FAMILY_STATUS'] = 'Civil marriage'\n",
        "    \n",
        "    df['AGE'] = df['AGE'] / 365.25\n",
        "    df['AGE_BIN'] = pd.cut(df['AGE'], bins=np.linspace(18, 70, 10), labels=False) + 1\n",
        "    \n",
        "    df = pd.merge(labels, df, on=ID_COL, how='left')\n",
        "    df['NAME_CONTRACT_TYPE'] = df['NAME_CONTRACT_TYPE'].map({'Cash': 0, 'Credit Card': 1})\n",
        "\n",
        "    if dropna:\n",
        "        df.dropna(subset=df.columns.tolist()[3:], inplace=True) \n",
        "    if create_features:\n",
        "        df['NEW_CREDIT_TO_ANNUITY_RATIO'] = df['AMOUNT_CREDIT'] / (df['AMOUNT_ANNUITY'] + 1)\n",
        "        df['NEW_STATUS'] = df['GENDER'].map({0: 'F', 1: 'M'}) + df['FAMILY_STATUS'].astype(str)\n",
        "        df[\"RATIO_ANNUITY_TO_AGE\"] = df[\"AMOUNT_ANNUITY\"] / df[\"AGE\"]\n",
        "        df[\"RATIO_CREDIT_TO_AGE\"] = df[\"AMOUNT_CREDIT\"] / df[\"AGE\"]\n",
        "        df[\"RATIO_SALARY_TO_AGE\"] = df[\"TOTAL_SALARY\"] / df[\"AGE\"]\n",
        "        df[\"RATIO_AGE_TO_EXPERIENCE\"] = df[\"AGE\"] / (df[\"DAYS_ON_LAST_JOB\"] / 365.25 + 1)\n",
        "        df[\"RATIO_CAR_TO_EXPERIENCE\"] = df[\"OWN_CAR_AGE\"] / (df[\"DAYS_ON_LAST_JOB\"] / 365.25 + 1)\n",
        "        df[\"RATIO_CAR_TO_AGE\"] = df[\"OWN_CAR_AGE\"] / df[\"AGE\"]\n",
        "        aggs = {\n",
        "                \"TOTAL_SALARY\": [\"mean\", \"max\", \"min\", \"count\"],\n",
        "                \"AMOUNT_CREDIT\": [\"mean\", \"max\", \"min\", \"count\"],\n",
        "                \"AMOUNT_ANNUITY\": [\"mean\", \"max\", \"min\", \"count\"]\n",
        "                }\n",
        "\n",
        "        stat = create_numerical_aggs(df, groupby_id=\"EDUCATION_LEVEL\", aggs=aggs, suffix=\"_BY_EDUCATION\")\n",
        "        df = df.merge(stat, on='EDUCATION_LEVEL', how='left')\n",
        "        df[\"TOTAL_SALARY_TO_MEAN_SALARY_BY_EDUCATION\"] = df[\"TOTAL_SALARY\"] / (df[\"TOTAL_SALARY_MEAN_BY_EDUCATION\"] + 1)\n",
        "        df[\"DELTA_SALARY_TO_MEAN_SALARY_BY_EDUCATION\"] = df[\"TOTAL_SALARY\"] - df[\"TOTAL_SALARY_MEAN_BY_EDUCATION\"]\n",
        "        df[\"RATIO_SALARY_TO_AMOUNT_CREDIT\"] = df[\"TOTAL_SALARY\"] / df[\"AMOUNT_CREDIT\"]\n",
        "        df[\"RATIO_SALARY_TO_AMOUNT_CREDIT_BY_FAMILY\"] = df[\"TOTAL_SALARY\"] / (df[\"AMOUNT_CREDIT\"] / (df[\"FAMILY_SIZE\"] + 1))\n",
        "        df[\"RATIO_AMOUNT_ANNUITY_TO_SALARY\"] = df[\"AMOUNT_ANNUITY\"] / (df[\"TOTAL_SALARY\"]) # redundant\n",
        "        df[\"RATIO_SALARY_TO_PER_FAMILY_SIZE\"] = df[\"TOTAL_SALARY\"] / (df[\"FAMILY_SIZE\"] + 1)\n",
        "        df[\"FLG_MORE_THAN_30PERCENT_FOR_CREDIT\"] = np.where(df[\"RATIO_AMOUNT_ANNUITY_TO_SALARY\"] > 0.3, 1, 0)\n",
        "        df[\"EDUCATION_FAMILY_STATUS\"] = df[\"EDUCATION_LEVEL\"] + \" | \" + df[\"FAMILY_STATUS\"]\n",
        "        stat = create_numerical_aggs(df, groupby_id=\"AGE_BIN\", aggs=aggs, suffix=\"_AGE_INTERVAL\")\n",
        "        df = df.merge(stat, on='AGE_BIN', how='left')\n",
        "        stat = create_numerical_aggs(df, groupby_id=\"FAMILY_STATUS\", aggs=aggs, suffix=\"_BY_FAMILY_STATUS\")\n",
        "        df = df.merge(stat, on='FAMILY_STATUS', how='left')\n",
        "\n",
        "        aggs = {\"NEW_CREDIT_TO_ANNUITY_RATIO\": [\"mean\"],\n",
        "                \"RATIO_SALARY_TO_AMOUNT_CREDIT\": [\"mean\"]}\n",
        "        stat = create_numerical_aggs(df, groupby_id=[\"GENDER\", \"AGE_BIN\"], aggs=aggs, suffix=\"_GENDER_AGE_BIN\")\n",
        "        df = df.merge(stat, on=[\"GENDER\", \"AGE_BIN\"], how='left')\n",
        "        df['EXT_SCORE_1_AMT_CREDIT'] = df['EXTERNAL_SCORING_RATING_1'] * df['AMOUNT_CREDIT']\n",
        "        df['EXT_SCORE_2_AMT_CREDIT'] = df['EXTERNAL_SCORING_RATING_2'] * df['AMOUNT_CREDIT']\n",
        "        df['EXT_SCORE_3_AMT_CREDIT'] = df['EXTERNAL_SCORING_RATING_3'] * df['AMOUNT_CREDIT']\n",
        "        \n",
        "        df['EXT_SCORE_1_ANNUITY'] = df['EXTERNAL_SCORING_RATING_1'] * df['AMOUNT_ANNUITY']\n",
        "        df['EXT_SCORE_2_ANNUITY'] = df['EXTERNAL_SCORING_RATING_2'] * df['AMOUNT_ANNUITY']\n",
        "        df['EXT_SCORE_3_ANNUITY'] = df['EXTERNAL_SCORING_RATING_3'] * df['AMOUNT_ANNUITY']\n",
        "        \n",
        "        df['SALARY_REGION_POPULATION'] = df['TOTAL_SALARY'] * df['REGION_POPULATION']\n",
        "        df['SALARY_JOB'] = df['TOTAL_SALARY'] / (df[\"DAYS_ON_LAST_JOB\"] / 365.25 + 1)\n",
        "        df['CREDIT_JOB'] = df['AMOUNT_CREDIT'] / (df[\"DAYS_ON_LAST_JOB\"] / 365.25 + 1)\n",
        "        df['ANNUITY_JOB'] = df['AMOUNT_ANNUITY'] / (df[\"DAYS_ON_LAST_JOB\"] / 365.25 + 1)\n",
        "        funcs = [\"min\", \"max\", \"mean\", \"nanmedian\", \"var\"]\n",
        "        for func in funcs:\n",
        "            df[f\"EXT_SCORES_{func}\"] = eval(\"np.{}\".format(func))(df[['EXTERNAL_SCORING_RATING_1',\n",
        "                                                                      'EXTERNAL_SCORING_RATING_2',\n",
        "                                                                      'EXTERNAL_SCORING_RATING_3']], axis=1)\n",
        "\n",
        "    df = reduce_memory_df(df)\n",
        "    df.set_index(ID_COL, inplace=True)\n",
        "\n",
        "    return df"
      ],
      "id": "4c727ccd"
    },
    {
      "cell_type": "code",
      "execution_count": null,
      "metadata": {
        "id": "91546eb7",
        "outputId": "27f4037f-527e-417a-c82d-5e0b4befafc2"
      },
      "outputs": [
        {
          "data": {
            "text/plain": [
              "((223714, 96), 223715, (89539, 96), (134175, 96))"
            ]
          },
          "execution_count": 1391,
          "metadata": {},
          "output_type": "execute_result"
        }
      ],
      "source": [
        "data.shape, len((train_ids | test_ids) & cp_ids), data_train.shape, data_test.shape"
      ],
      "id": "91546eb7"
    },
    {
      "cell_type": "code",
      "execution_count": null,
      "metadata": {
        "id": "7369c5aa",
        "outputId": "87370c7f-ff5c-47ff-f3d5-61827955fbed"
      },
      "outputs": [
        {
          "name": "stdout",
          "output_type": "stream",
          "text": [
            "Memory usage of dataframe is 166.41 MB\n",
            "Memory usage after optimization is: 80.65 MB\n",
            "Decreased by 51.5%\n"
          ]
        }
      ],
      "source": [
        "data = pd.concat([train, test], axis=0)\n",
        "data = prepare_cp(data, create_features=True, dropna=True)\n",
        "train_bound = len(data) - data[TARGET].isna().sum()"
      ],
      "id": "7369c5aa"
    },
    {
      "cell_type": "code",
      "execution_count": null,
      "metadata": {
        "id": "b6ea2275"
      },
      "outputs": [],
      "source": [
        "# data_train, data_test = data[~data[TARGET].isna()], data[data[TARGET].isna()]\n",
        "data_train, data_test = data.iloc[:train_bound, :], data.iloc[train_bound:, :]\n",
        "data_train[TARGET] = data_train[TARGET].astype(int)"
      ],
      "id": "b6ea2275"
    },
    {
      "cell_type": "code",
      "execution_count": null,
      "metadata": {
        "id": "0c0e74ac",
        "outputId": "f6a91d85-364e-4b88-e90f-44cb272c3810"
      },
      "outputs": [
        {
          "data": {
            "text/plain": [
              "0   0.9195\n",
              "1   0.0805\n",
              "Name: TARGET, dtype: float64"
            ]
          },
          "execution_count": 1478,
          "metadata": {},
          "output_type": "execute_result"
        }
      ],
      "source": [
        "data_train[TARGET].value_counts(normalize=True)"
      ],
      "id": "0c0e74ac"
    },
    {
      "cell_type": "code",
      "execution_count": null,
      "metadata": {
        "id": "ccfb39ec"
      },
      "outputs": [],
      "source": [
        "x_train, x_test, y_learn, y_valid = train_test_split(data_train.drop(TARGET, axis=1), data_train[TARGET], \n",
        "                                                     test_size=0.2, shuffle=True,\n",
        "                                                     random_state=seed)"
      ],
      "id": "ccfb39ec"
    },
    {
      "cell_type": "code",
      "execution_count": null,
      "metadata": {
        "id": "705c9679",
        "outputId": "59890082-4dba-4e21-e4b6-463cb37cf543"
      },
      "outputs": [
        {
          "name": "stdout",
          "output_type": "stream",
          "text": [
            "CV-score: 0.5\n"
          ]
        }
      ],
      "source": [
        "X_inspect = pd.concat([x_train, x_test], axis=0)\n",
        "y_inspect = np.hstack((np.ones(x_train.shape[0]), np.zeros(x_test.shape[0])))\n",
        "\n",
        "inspector = LGBMClassifier(max_depth=4, \n",
        "                           n_estimators=100,\n",
        "                           verbose=-1,\n",
        "                           is_unbalance=True,\n",
        "                           learning_rate=0.05,   \n",
        "                           random_seed=seed)\n",
        "model.fit(X_inspect, y_inspect)\n",
        "\n",
        "cv = cross_val_score(\n",
        "    estimator=model,\n",
        "    X=X_inspect, y=y_inspect,\n",
        "    scoring=\"roc_auc\",\n",
        "    cv=KFold(n_splits=5, shuffle=True, random_state=42)\n",
        ")\n",
        "\n",
        "print(f\"CV-score: {round(np.mean(cv), 4)}\")\n",
        "\n",
        "# the split is ok"
      ],
      "id": "705c9679"
    },
    {
      "cell_type": "code",
      "execution_count": null,
      "metadata": {
        "id": "d17119fa",
        "outputId": "9a427e28-30ba-4081-cf5f-e09d71512118"
      },
      "outputs": [
        {
          "data": {
            "text/html": [
              "<div>\n",
              "<style scoped>\n",
              "    .dataframe tbody tr th:only-of-type {\n",
              "        vertical-align: middle;\n",
              "    }\n",
              "\n",
              "    .dataframe tbody tr th {\n",
              "        vertical-align: top;\n",
              "    }\n",
              "\n",
              "    .dataframe thead th {\n",
              "        text-align: right;\n",
              "    }\n",
              "</style>\n",
              "<table border=\"1\" class=\"dataframe\">\n",
              "  <thead>\n",
              "    <tr style=\"text-align: right;\">\n",
              "      <th></th>\n",
              "      <th>EDUCATION_LEVEL</th>\n",
              "      <th>FAMILY_STATUS</th>\n",
              "      <th>NEW_STATUS</th>\n",
              "      <th>EDUCATION_FAMILY_STATUS</th>\n",
              "    </tr>\n",
              "  </thead>\n",
              "  <tbody>\n",
              "    <tr>\n",
              "      <th>count</th>\n",
              "      <td>88074</td>\n",
              "      <td>88074</td>\n",
              "      <td>88074</td>\n",
              "      <td>88074</td>\n",
              "    </tr>\n",
              "    <tr>\n",
              "      <th>unique</th>\n",
              "      <td>5</td>\n",
              "      <td>5</td>\n",
              "      <td>10</td>\n",
              "      <td>25</td>\n",
              "    </tr>\n",
              "    <tr>\n",
              "      <th>top</th>\n",
              "      <td>Secondary / secondary special</td>\n",
              "      <td>Married</td>\n",
              "      <td>FMarried</td>\n",
              "      <td>Secondary / secondary special | Married</td>\n",
              "    </tr>\n",
              "    <tr>\n",
              "      <th>freq</th>\n",
              "      <td>62417</td>\n",
              "      <td>56171</td>\n",
              "      <td>35067</td>\n",
              "      <td>39854</td>\n",
              "    </tr>\n",
              "  </tbody>\n",
              "</table>\n",
              "</div>"
            ],
            "text/plain": [
              "                      EDUCATION_LEVEL FAMILY_STATUS NEW_STATUS  \\\n",
              "count                           88074         88074      88074   \n",
              "unique                              5             5         10   \n",
              "top     Secondary / secondary special       Married   FMarried   \n",
              "freq                            62417         56171      35067   \n",
              "\n",
              "                        EDUCATION_FAMILY_STATUS  \n",
              "count                                     88074  \n",
              "unique                                       25  \n",
              "top     Secondary / secondary special | Married  \n",
              "freq                                      39854  "
            ]
          },
          "execution_count": 1448,
          "metadata": {},
          "output_type": "execute_result"
        }
      ],
      "source": [
        "x_train.describe(include=\"category\")"
      ],
      "id": "d17119fa"
    },
    {
      "cell_type": "code",
      "execution_count": null,
      "metadata": {
        "id": "23626694"
      },
      "outputs": [],
      "source": [
        "# WoE for x_train | catboost\n",
        "encoder = ce.woe.WOEEncoder(random_state=seed)\n",
        "x_train[['EDUCATION_LEVEL', 'FAMILY_STATUS', 'NEW_STATUS', 'EDUCATION_FAMILY_STATUS']] = \\\n",
        "        encoder.fit_transform(x_train[['EDUCATION_LEVEL', 'FAMILY_STATUS', \n",
        "                                       'NEW_STATUS', 'EDUCATION_FAMILY_STATUS']], y_learn)\n",
        "x_test[['EDUCATION_LEVEL', 'FAMILY_STATUS', 'NEW_STATUS', 'EDUCATION_FAMILY_STATUS']] = \\\n",
        "        encoder.transform(x_test[['EDUCATION_LEVEL', 'FAMILY_STATUS', \n",
        "                                   'NEW_STATUS', 'EDUCATION_FAMILY_STATUS']])"
      ],
      "id": "23626694"
    },
    {
      "cell_type": "code",
      "execution_count": null,
      "metadata": {
        "colab": {
          "referenced_widgets": [
            "8939fa7e891f43ecb7b04e77d5f46126"
          ]
        },
        "id": "3732fc96",
        "outputId": "ba0ecd61-8405-4f7e-86b2-b24564f4c926"
      },
      "outputs": [
        {
          "data": {
            "application/vnd.jupyter.widget-view+json": {
              "model_id": "8939fa7e891f43ecb7b04e77d5f46126",
              "version_major": 2,
              "version_minor": 0
            },
            "text/plain": [
              "  0%|          | 0/25 [00:00<?, ?it/s]"
            ]
          },
          "metadata": {},
          "output_type": "display_data"
        },
        {
          "name": "stdout",
          "output_type": "stream",
          "text": [
            "38 attributes confirmed important: ['RATIO_AMOUNT_ANNUITY_TO_SALARY', 'CREDIT_JOB', 'ANNUITY_JOB', 'RATIO_CAR_TO_AGE', 'AGE', 'DAYS_ON_LAST_JOB', 'RATIO_CREDIT_TO_AGE', 'EXT_SCORE_2_AMT_CREDIT', 'RATIO_SALARY_TO_AMOUNT_CREDIT_MEAN_GENDER_AGE_BIN', 'EXT_SCORES_mean', 'AMOUNT_CREDIT_MEAN_BY_EDUCATION', 'EDUCATION_FAMILY_STATUS', 'RATIO_SALARY_TO_AMOUNT_CREDIT', 'EXT_SCORE_1_AMT_CREDIT', 'EXTERNAL_SCORING_RATING_2', 'TOTAL_SALARY_MAX_AGE_INTERVAL', 'EXT_SCORE_3_AMT_CREDIT', 'EXT_SCORES_nanmedian', 'RATIO_AGE_TO_EXPERIENCE', 'GENDER', 'EXT_SCORE_2_ANNUITY', 'EXT_SCORES_max', 'EXT_SCORES_var', 'EXT_SCORES_min', 'EDUCATION_LEVEL', 'NAME_CONTRACT_TYPE', 'EXTERNAL_SCORING_RATING_3', 'RATIO_ANNUITY_TO_AGE', 'TOTAL_SALARY_MEAN_BY_EDUCATION', 'NEW_CREDIT_TO_ANNUITY_RATIO', 'EXT_SCORE_3_ANNUITY', 'EXTERNAL_SCORING_RATING_1', 'AGE_BIN', 'EXT_SCORE_1_ANNUITY', 'AMOUNT_ANNUITY_MEAN_BY_EDUCATION', 'AMOUNT_CREDIT_MAX_BY_EDUCATION', 'NEW_STATUS', 'AMOUNT_CREDIT']\n",
            "45 attributes confirmed unimportant: ['CHILDRENS', 'AMOUNT_ANNUITY_MIN_BY_EDUCATION', 'AMT_REQ_CREDIT_BUREAU_WEEK', 'FLG_MORE_THAN_30PERCENT_FOR_CREDIT', 'AMOUNT_ANNUITY_MEAN_BY_FAMILY_STATUS', 'TOTAL_SALARY_MIN_BY_EDUCATION', 'TOTAL_SALARY_MEAN_AGE_INTERVAL', 'AMT_REQ_CREDIT_BUREAU_DAY', 'SALARY_REGION_POPULATION', 'TOTAL_SALARY_MIN_BY_FAMILY_STATUS', 'AMOUNT_ANNUITY_MAX_BY_FAMILY_STATUS', 'AMOUNT_ANNUITY_MEAN_AGE_INTERVAL', 'AMT_REQ_CREDIT_BUREAU_YEAR', 'AMOUNT_CREDIT_MAX_BY_FAMILY_STATUS', 'AMT_REQ_CREDIT_BUREAU_QRT', 'AMOUNT_CREDIT_MIN_AGE_INTERVAL', 'FLAG_EMAIL', 'AMOUNT_ANNUITY_MAX_AGE_INTERVAL', 'DELTA_SALARY_TO_MEAN_SALARY_BY_EDUCATION', 'AMT_REQ_CREDIT_BUREAU_HOUR', 'AMT_REQ_CREDIT_BUREAU_MON', 'TOTAL_SALARY_MAX_BY_EDUCATION', 'AMOUNT_ANNUITY_MIN_AGE_INTERVAL', 'AMOUNT_CREDIT_COUNT_BY_EDUCATION', 'TOTAL_SALARY_COUNT_AGE_INTERVAL', 'RATIO_SALARY_TO_PER_FAMILY_SIZE', 'FAMILY_SIZE', 'AMOUNT_ANNUITY_COUNT_AGE_INTERVAL', 'TOTAL_SALARY_TO_MEAN_SALARY_BY_EDUCATION', 'TOTAL_SALARY_MEAN_BY_FAMILY_STATUS', 'NEW_CREDIT_TO_ANNUITY_RATIO_MEAN_GENDER_AGE_BIN', 'AMOUNT_CREDIT_MEAN_BY_FAMILY_STATUS', 'TOTAL_SALARY_COUNT_BY_FAMILY_STATUS', 'AMOUNT_ANNUITY_MIN_BY_FAMILY_STATUS', 'AMOUNT_CREDIT_MAX_AGE_INTERVAL', 'AMOUNT_CREDIT_MIN_BY_FAMILY_STATUS', 'AMOUNT_CREDIT_COUNT_BY_FAMILY_STATUS', 'AMOUNT_CREDIT_MIN_BY_EDUCATION', 'IS_OUTLIER', 'AMOUNT_CREDIT_COUNT_AGE_INTERVAL', 'FLAG_PHONE', 'AMOUNT_ANNUITY_COUNT_BY_FAMILY_STATUS', 'TOTAL_SALARY', 'FAMILY_STATUS', 'RATIO_CAR_TO_EXPERIENCE']\n",
            "12 tentative attributes remains: ['OWN_CAR_AGE', 'REGION_POPULATION', 'AMOUNT_ANNUITY_MAX_BY_EDUCATION', 'AMOUNT_CREDIT_MEAN_AGE_INTERVAL', 'RATIO_SALARY_TO_AMOUNT_CREDIT_BY_FAMILY', 'AMOUNT_ANNUITY_COUNT_BY_EDUCATION', 'TOTAL_SALARY_COUNT_BY_EDUCATION', 'TOTAL_SALARY_MAX_BY_FAMILY_STATUS', 'TOTAL_SALARY_MIN_AGE_INTERVAL', 'SALARY_JOB', 'AMOUNT_ANNUITY', 'RATIO_SALARY_TO_AGE']\n"
          ]
        }
      ],
      "source": [
        "boruta_params = {\n",
        "                'metric':\"auc\", \n",
        "                'boosting_type': 'gbdt',\n",
        "                'is_unbalance': True,\n",
        "                'n_estimators': 150,\n",
        "                'learning_rate': 0.01,\n",
        "                'min_child_weight': 600,\n",
        "                'max_depth': 3,\n",
        "                'verbose': -1,\n",
        "                'reg_alpha': 25,\n",
        "                'reg_lambda': 25,\n",
        "                'colsample_bytree': 0.33,\n",
        "                'num_leaves': 42,\n",
        "                'subsample': 0.33,\n",
        "                'random_state': seed\n",
        "}\n",
        "\n",
        "selector = BorutaShap(model=LGBMClassifier(**boruta_params), importance_measure='shap', classification=True)\n",
        "selector.fit(x_train, y_learn, n_trials=25, sample=True, normalize=True, verbose=True)"
      ],
      "id": "3732fc96"
    },
    {
      "cell_type": "code",
      "execution_count": null,
      "metadata": {
        "id": "92acca07"
      },
      "outputs": [],
      "source": [
        "features = ['RATIO_AMOUNT_ANNUITY_TO_SALARY', 'RATIO_CAR_TO_AGE', 'AGE', 'DAYS_ON_LAST_JOB', 'RATIO_CREDIT_TO_AGE', \n",
        "            'RATIO_SALARY_TO_AMOUNT_CREDIT_MEAN_GENDER_AGE_BIN', 'AMOUNT_CREDIT_MEAN_BY_EDUCATION', 'EDUCATION_FAMILY_STATUS', \n",
        "            'RATIO_SALARY_TO_AMOUNT_CREDIT', 'EXTERNAL_SCORING_RATING_2', 'TOTAL_SALARY_COUNT_BY_EDUCATION', \n",
        "            'RATIO_AGE_TO_EXPERIENCE', 'GENDER', 'OWN_CAR_AGE', 'AMOUNT_ANNUITY_COUNT_AGE_INTERVAL', \n",
        "            'AMOUNT_ANNUITY_MAX_BY_EDUCATION', 'NEW_CREDIT_TO_ANNUITY_RATIO_MEAN_GENDER_AGE_BIN', 'EDUCATION_LEVEL', \n",
        "            'NAME_CONTRACT_TYPE', 'EXTERNAL_SCORING_RATING_3', 'REGION_POPULATION', 'RATIO_ANNUITY_TO_AGE', \n",
        "            'NEW_CREDIT_TO_ANNUITY_RATIO', 'TOTAL_SALARY_MEAN_BY_EDUCATION', 'EXTERNAL_SCORING_RATING_1', \n",
        "            'AGE_BIN', 'AMOUNT_ANNUITY_MEAN_BY_EDUCATION', 'AMOUNT_CREDIT_MAX_BY_EDUCATION', 'NEW_STATUS', \n",
        "            'AMOUNT_ANNUITY', 'AMOUNT_CREDIT', 'TOTAL_SALARY_MEAN_BY_FAMILY_STATUS', 'TOTAL_SALARY_MAX_AGE_INTERVAL', \n",
        "            'TOTAL_SALARY', 'TOTAL_SALARY_MIN_BY_EDUCATION', 'RATIO_SALARY_TO_AMOUNT_CREDIT_BY_FAMILY', \n",
        "            'TOTAL_SALARY_MAX_BY_FAMILY_STATUS', 'AMOUNT_CREDIT_COUNT_BY_FAMILY_STATUS', 'RATIO_SALARY_TO_AGE', \n",
        "            'FAMILY_STATUS', 'AMOUNT_CREDIT_COUNT_BY_EDUCATION', 'RATIO_CAR_TO_EXPERIENCE']\n",
        "\n",
        "features = ['RATIO_AMOUNT_ANNUITY_TO_SALARY', 'CREDIT_JOB', 'ANNUITY_JOB', 'RATIO_CAR_TO_AGE', 'AGE', 'DAYS_ON_LAST_JOB', \n",
        "            'RATIO_CREDIT_TO_AGE', 'EXT_SCORE_2_AMT_CREDIT', 'RATIO_SALARY_TO_AMOUNT_CREDIT_MEAN_GENDER_AGE_BIN', \n",
        "            'EXT_SCORES_mean', 'AMOUNT_CREDIT_MEAN_BY_EDUCATION', 'EDUCATION_FAMILY_STATUS', 'RATIO_SALARY_TO_AMOUNT_CREDIT', \n",
        "            'EXT_SCORE_1_AMT_CREDIT', 'EXTERNAL_SCORING_RATING_2', 'TOTAL_SALARY_MAX_AGE_INTERVAL', 'EXT_SCORE_3_AMT_CREDIT', \n",
        "            'EXT_SCORES_nanmedian', 'RATIO_AGE_TO_EXPERIENCE', 'GENDER', 'EXT_SCORE_2_ANNUITY', 'EXT_SCORES_max', \n",
        "            'EXT_SCORES_var', 'EXT_SCORES_min', 'EDUCATION_LEVEL', 'NAME_CONTRACT_TYPE', 'EXTERNAL_SCORING_RATING_3', \n",
        "            'RATIO_ANNUITY_TO_AGE', 'TOTAL_SALARY_MEAN_BY_EDUCATION', 'NEW_CREDIT_TO_ANNUITY_RATIO', 'EXT_SCORE_3_ANNUITY', \n",
        "            'EXTERNAL_SCORING_RATING_1', 'AGE_BIN', 'EXT_SCORE_1_ANNUITY', 'AMOUNT_ANNUITY_MEAN_BY_EDUCATION', \n",
        "            'AMOUNT_CREDIT_MAX_BY_EDUCATION', 'NEW_STATUS', 'AMOUNT_CREDIT', 'OWN_CAR_AGE', 'REGION_POPULATION', \n",
        "            'AMOUNT_ANNUITY_MAX_BY_EDUCATION', 'AMOUNT_CREDIT_MEAN_AGE_INTERVAL', 'RATIO_SALARY_TO_AMOUNT_CREDIT_BY_FAMILY', \n",
        "            'AMOUNT_ANNUITY_COUNT_BY_EDUCATION', 'TOTAL_SALARY_COUNT_BY_EDUCATION', 'TOTAL_SALARY_MAX_BY_FAMILY_STATUS', \n",
        "            'TOTAL_SALARY_MIN_AGE_INTERVAL', 'SALARY_JOB', 'AMOUNT_ANNUITY', 'RATIO_SALARY_TO_AGE']"
      ],
      "id": "92acca07"
    },
    {
      "cell_type": "markdown",
      "metadata": {
        "id": "96214b7b"
      },
      "source": [
        "**LGBM**"
      ],
      "id": "96214b7b"
    },
    {
      "cell_type": "code",
      "execution_count": null,
      "metadata": {
        "id": "7857003d",
        "outputId": "ff14a619-c317-4131-8b4e-6b69388f5af7"
      },
      "outputs": [
        {
          "name": "stdout",
          "output_type": "stream",
          "text": [
            "Fold: 1, train-observations = 64467, valid-observations = 7164\n",
            "train-score = 0.7671, valid-score = 0.7658\n",
            "=====================================================================\n",
            "Fold: 2, train-observations = 64468, valid-observations = 7163\n",
            "train-score = 0.7687, valid-score = 0.7501\n",
            "=====================================================================\n",
            "Fold: 3, train-observations = 64468, valid-observations = 7163\n",
            "train-score = 0.7695, valid-score = 0.7458\n",
            "=====================================================================\n",
            "Fold: 4, train-observations = 64468, valid-observations = 7163\n",
            "train-score = 0.7686, valid-score = 0.753\n",
            "=====================================================================\n",
            "Fold: 5, train-observations = 64468, valid-observations = 7163\n",
            "train-score = 0.7683, valid-score = 0.7503\n",
            "=====================================================================\n",
            "Fold: 6, train-observations = 64468, valid-observations = 7163\n",
            "train-score = 0.7695, valid-score = 0.7416\n",
            "=====================================================================\n",
            "Fold: 7, train-observations = 64468, valid-observations = 7163\n",
            "train-score = 0.7697, valid-score = 0.7429\n",
            "=====================================================================\n",
            "Fold: 8, train-observations = 64468, valid-observations = 7163\n",
            "train-score = 0.7683, valid-score = 0.7535\n",
            "=====================================================================\n",
            "Fold: 9, train-observations = 64468, valid-observations = 7163\n",
            "train-score = 0.7678, valid-score = 0.7543\n",
            "=====================================================================\n",
            "Fold: 10, train-observations = 64468, valid-observations = 7163\n",
            "train-score = 0.7677, valid-score = 0.757\n",
            "=====================================================================\n",
            "CV-results train: 0.7685 +/- 0.001\n",
            "CV-results valid: 0.7514 +/- 0.007\n",
            "OOF-score = 0.7513\n"
          ]
        }
      ],
      "source": [
        "lgbm_params = {\n",
        "                'metric':\"auc\", \n",
        "                'boosting_type': 'goss',\n",
        "                'is_unbalance': True,\n",
        "                'n_estimators': 200, \n",
        "                'learning_rate': 0.05, \n",
        "                'min_child_weight': 650, \n",
        "                'min_split_gain': 0.024766,\n",
        "                'max_depth': 3,\n",
        "                'verbose': -1,\n",
        "                'reg_alpha': 30,\n",
        "                'reg_lambda': 30,\n",
        "                'colsample_bytree': 0.33,\n",
        "                'num_leaves': 42,\n",
        "                'subsample': 0.33,\n",
        "                'max_bin': 128,\n",
        "                'random_state': seed\n",
        "}\n",
        "\n",
        "lgbm_estimators, oof_score, fold_train_scores, fold_valid_scores, oof_lgbm = make_modify_cross_validation(\n",
        "        x_train[features], \n",
        "        y_learn, \n",
        "        LGBMClassifier(**lgbm_params), \n",
        "        metric=roc_auc_score, \n",
        "        cv_strategy=KFold(n_splits=10, shuffle=True, random_state=seed), \n",
        "        error_to_be_outlier=False,\n",
        "        early=False\n",
        "        )"
      ],
      "id": "7857003d"
    },
    {
      "cell_type": "code",
      "execution_count": null,
      "metadata": {
        "id": "dee1e307",
        "outputId": "1f9ffe32-1d6f-4ee9-b103-0e2257420e0b"
      },
      "outputs": [
        {
          "name": "stdout",
          "output_type": "stream",
          "text": [
            "0.7672399564739565\n",
            "0.7516373903862517\n"
          ]
        }
      ],
      "source": [
        "lgbm = LGBMClassifier(**lgbm_params).fit(x_train[features], y_learn)\n",
        "valid_lgbm_predictions = lgbm.predict_proba(x_test[features])[:,1]\n",
        "\n",
        "print(roc_auc_score(y_learn, lgbm.predict_proba(x_train[features])[:,1]))\n",
        "print(roc_auc_score(y_valid, lgbm.predict_proba(x_test[features])[:,1]))"
      ],
      "id": "dee1e307"
    },
    {
      "cell_type": "code",
      "execution_count": null,
      "metadata": {
        "id": "570cadde",
        "outputId": "6d6bd120-180d-4d18-b454-572058685e59"
      },
      "outputs": [
        {
          "data": {
            "text/plain": [
              "(0.7388627721331597, 0.7643936086485015)"
            ]
          },
          "execution_count": 1535,
          "metadata": {},
          "output_type": "execute_result"
        }
      ],
      "source": [
        "scores = create_bootstrap_metrics(y_valid, lgbm.predict_proba(x_test[features])[:,1], roc_auc_score)\n",
        "\n",
        "calculate_confidence_interval(scores)"
      ],
      "id": "570cadde"
    },
    {
      "cell_type": "markdown",
      "metadata": {
        "id": "e2e0c013"
      },
      "source": [
        "**XGBoost**"
      ],
      "id": "e2e0c013"
    },
    {
      "cell_type": "code",
      "execution_count": null,
      "metadata": {
        "id": "36c94594",
        "outputId": "c1af5253-457c-43d6-8a98-ba37d8cd7cb3"
      },
      "outputs": [
        {
          "name": "stdout",
          "output_type": "stream",
          "text": [
            "Fold: 1, train-observations = 64467, valid-observations = 7164\n",
            "train-score = 0.7529, valid-score = 0.7622\n",
            "=====================================================================\n",
            "Fold: 2, train-observations = 64468, valid-observations = 7163\n",
            "train-score = 0.753, valid-score = 0.7406\n",
            "=====================================================================\n",
            "Fold: 3, train-observations = 64468, valid-observations = 7163\n",
            "train-score = 0.7551, valid-score = 0.7359\n",
            "=====================================================================\n",
            "Fold: 4, train-observations = 64468, valid-observations = 7163\n",
            "train-score = 0.7547, valid-score = 0.7442\n",
            "=====================================================================\n",
            "Fold: 5, train-observations = 64468, valid-observations = 7163\n",
            "train-score = 0.7541, valid-score = 0.7407\n",
            "=====================================================================\n",
            "Fold: 6, train-observations = 64468, valid-observations = 7163\n",
            "train-score = 0.7557, valid-score = 0.7344\n",
            "=====================================================================\n",
            "Fold: 7, train-observations = 64468, valid-observations = 7163\n",
            "train-score = 0.7555, valid-score = 0.7322\n",
            "=====================================================================\n",
            "Fold: 8, train-observations = 64468, valid-observations = 7163\n",
            "train-score = 0.7539, valid-score = 0.7419\n",
            "=====================================================================\n",
            "Fold: 9, train-observations = 64468, valid-observations = 7163\n",
            "train-score = 0.7539, valid-score = 0.7386\n",
            "=====================================================================\n",
            "Fold: 10, train-observations = 64468, valid-observations = 7163\n",
            "train-score = 0.7534, valid-score = 0.7508\n",
            "=====================================================================\n",
            "CV-results train: 0.7542 +/- 0.001\n",
            "CV-results valid: 0.7421 +/- 0.008\n",
            "OOF-score = 0.7419\n"
          ]
        }
      ],
      "source": [
        "xg_params = {\n",
        "        \"booster\": \"gbtree\",\n",
        "        # \"scale_pos_weight\": np.sum(y==0)/np.sum(y==1),\n",
        "        \"n_estimators\": 200,\n",
        "        \"objective\": \"binary:logistic\",\n",
        "        \"eval_metric\": \"auc\",\n",
        "        \"learning_rate\": 0.05,\n",
        "        \"reg_lambda\": 10,\n",
        "        \"min_child_weight\": 600,\n",
        "        \"colsample_bylevel\": 0.8,\n",
        "        \"max_depth\": 4,\n",
        "        \"gamma\": 10,\n",
        "        \"nthread\": -1,\n",
        "        \"grow_policy\": \"depthwise\",\n",
        "        \"seed\": seed,\n",
        "}\n",
        "xgb_estimators, oof_score, fold_train_scores, fold_valid_scores, oof_xgb = make_modify_cross_validation(\n",
        "                            x_train[features], \n",
        "                            y_learn, \n",
        "                            XGBClassifier(**xg_params), \n",
        "                            metric=roc_auc_score, \n",
        "                            cv_strategy=KFold(n_splits=10, shuffle=True, random_state=seed), \n",
        "                            error_to_be_outlier=False\n",
        "                        )"
      ],
      "id": "36c94594"
    },
    {
      "cell_type": "code",
      "execution_count": null,
      "metadata": {
        "id": "a3b11340",
        "outputId": "7034980f-bb82-4bae-8c27-2f532a16dcdc"
      },
      "outputs": [
        {
          "name": "stdout",
          "output_type": "stream",
          "text": [
            "0.7567557936296271\n",
            "0.7424985989516812\n"
          ]
        }
      ],
      "source": [
        "xgb = XGBClassifier(**xg_params).fit(x_train[features], y_learn)\n",
        "valid_xgb_predictions = xgb.predict_proba(x_test[features])[:,1]\n",
        "\n",
        "print(roc_auc_score(y_learn, xgb.predict_proba(x_train[features])[:,1]))\n",
        "print(roc_auc_score(y_valid, xgb.predict_proba(x_test[features])[:,1]))"
      ],
      "id": "a3b11340"
    },
    {
      "cell_type": "code",
      "execution_count": null,
      "metadata": {
        "id": "79a9103f",
        "outputId": "cdcfd1b6-de3d-46e9-e517-112e1b3d9426"
      },
      "outputs": [
        {
          "data": {
            "text/plain": [
              "(0.7297199771442415, 0.7557449048001685)"
            ]
          },
          "execution_count": 1538,
          "metadata": {},
          "output_type": "execute_result"
        }
      ],
      "source": [
        "scores = create_bootstrap_metrics(y_valid, xgb.predict_proba(x_test[features])[:,1], roc_auc_score)\n",
        "\n",
        "calculate_confidence_interval(scores)"
      ],
      "id": "79a9103f"
    },
    {
      "cell_type": "markdown",
      "metadata": {
        "id": "aa433110"
      },
      "source": [
        "**Logreg**"
      ],
      "id": "aa433110"
    },
    {
      "cell_type": "code",
      "execution_count": null,
      "metadata": {
        "id": "ad7dbf1f",
        "outputId": "7ebd4f1d-35c0-47ef-e735-be1851679cce"
      },
      "outputs": [
        {
          "data": {
            "image/png": "[encoded data removed]",
            "text/plain": [
              "<Figure size 1080x360 with 1 Axes>"
            ]
          },
          "metadata": {},
          "output_type": "display_data"
        }
      ],
      "source": [
        "train_correlations = x_train[features].corr()\n",
        "train_correlations = train_correlations.values.flatten()\n",
        "train_correlations = train_correlations[train_correlations != 1]\n",
        "\n",
        "columns = X_train[selected].columns.tolist()\n",
        "\n",
        "plt.figure(figsize=(15,5))\n",
        "sns.distplot(train_correlations, color=\"Blue\", label=\"full dataset\")\n",
        "\n",
        "plt.xlabel(\"Correlation values found in train (except 1)\", size=14)\n",
        "plt.title(\"Are there correlations between features?\", size=14)\n",
        "plt.legend(loc=\"best\", fontsize=14)\n",
        "plt.ylabel(\"Density\", size=14)\n",
        "plt.show()"
      ],
      "id": "ad7dbf1f"
    },
    {
      "cell_type": "code",
      "execution_count": null,
      "metadata": {
        "id": "eb6724bd",
        "outputId": "341920b3-702e-4021-acd8-d8b1c81be7cc"
      },
      "outputs": [
        {
          "name": "stdout",
          "output_type": "stream",
          "text": [
            "Fold: 1, train-observations = 64467, valid-observations = 7164\n",
            "train-score = 0.7245, valid-score = 0.7438\n",
            "=====================================================================\n",
            "Fold: 2, train-observations = 64468, valid-observations = 7163\n",
            "train-score = 0.7262, valid-score = 0.7279\n",
            "=====================================================================\n",
            "Fold: 3, train-observations = 64468, valid-observations = 7163\n",
            "train-score = 0.7271, valid-score = 0.7189\n",
            "=====================================================================\n",
            "Fold: 4, train-observations = 64468, valid-observations = 7163\n",
            "train-score = 0.727, valid-score = 0.7215\n",
            "=====================================================================\n",
            "Fold: 5, train-observations = 64468, valid-observations = 7163\n",
            "train-score = 0.7272, valid-score = 0.7177\n",
            "=====================================================================\n",
            "Fold: 6, train-observations = 64468, valid-observations = 7163\n",
            "train-score = 0.7278, valid-score = 0.7145\n",
            "=====================================================================\n",
            "Fold: 7, train-observations = 64468, valid-observations = 7163\n",
            "train-score = 0.7274, valid-score = 0.7177\n",
            "=====================================================================\n",
            "Fold: 8, train-observations = 64468, valid-observations = 7163\n",
            "train-score = 0.7265, valid-score = 0.7264\n",
            "=====================================================================\n",
            "Fold: 9, train-observations = 64468, valid-observations = 7163\n",
            "train-score = 0.7272, valid-score = 0.7187\n",
            "=====================================================================\n",
            "Fold: 10, train-observations = 64468, valid-observations = 7163\n",
            "train-score = 0.726, valid-score = 0.7298\n",
            "=====================================================================\n",
            "CV-results train: 0.7267 +/- 0.001\n",
            "CV-results valid: 0.7237 +/- 0.008\n",
            "OOF-score = 0.7237\n"
          ]
        }
      ],
      "source": [
        "logreg = make_pipeline(StandardScaler(),\n",
        "                       PCA(n_components=x_train[features].shape[1]-5, random_state=seed),\n",
        "                       LogisticRegression(class_weight='balanced', \n",
        "                                          solver='liblinear', \n",
        "                                          penalty='l1', \n",
        "                                          C=10,\n",
        "                                          random_state=seed,\n",
        "                                          n_jobs=-1))\n",
        "\n",
        "log_estimators, oof_score, fold_train_scores, fold_valid_scores, oof_log = make_modify_cross_validation(\n",
        "                            x_train[features], \n",
        "                            y_learn, \n",
        "                            logreg, \n",
        "                            metric=roc_auc_score, \n",
        "                            cv_strategy=KFold(n_splits=10, shuffle=True, random_state=seed), \n",
        "                            error_to_be_outlier=False\n",
        "                        )"
      ],
      "id": "eb6724bd"
    },
    {
      "cell_type": "code",
      "execution_count": null,
      "metadata": {
        "id": "2a269fa2",
        "outputId": "6ee13496-2d5b-484d-ce41-959f7e2e0da4"
      },
      "outputs": [
        {
          "name": "stdout",
          "output_type": "stream",
          "text": [
            "0.7265344638194042\n",
            "0.7247908002842712\n"
          ]
        }
      ],
      "source": [
        "logreg = logreg.fit(x_train[features], y_learn)\n",
        "valid_log_predictions = logreg.predict_proba(x_test[features])[:,1]\n",
        "\n",
        "print(roc_auc_score(y_learn, logreg.predict_proba(x_train[features])[:,1]))\n",
        "print(roc_auc_score(y_valid, logreg.predict_proba(x_test[features])[:,1]))"
      ],
      "id": "2a269fa2"
    },
    {
      "cell_type": "code",
      "execution_count": null,
      "metadata": {
        "id": "612334f1",
        "outputId": "1fb68257-12a4-449c-f2ce-881141b8fd33"
      },
      "outputs": [
        {
          "data": {
            "text/plain": [
              "(0.7115792895125729, 0.737306074606931)"
            ]
          },
          "execution_count": 1542,
          "metadata": {},
          "output_type": "execute_result"
        }
      ],
      "source": [
        "scores = create_bootstrap_metrics(y_valid, logreg.predict_proba(x_test[features])[:,1], roc_auc_score)\n",
        "\n",
        "calculate_confidence_interval(scores)"
      ],
      "id": "612334f1"
    },
    {
      "cell_type": "markdown",
      "metadata": {
        "id": "1180b843"
      },
      "source": [
        "**catboost**"
      ],
      "id": "1180b843"
    },
    {
      "cell_type": "code",
      "execution_count": null,
      "metadata": {
        "id": "304a2428"
      },
      "outputs": [],
      "source": [
        "# preserve cat features\n",
        "x_train, x_test, y_learn, y_valid = train_test_split(data_train.drop(TARGET, axis=1), data_train[TARGET], \n",
        "                                                     test_size=0.2, shuffle=True,\n",
        "                                                     random_state=seed)"
      ],
      "id": "304a2428"
    },
    {
      "cell_type": "code",
      "execution_count": null,
      "metadata": {
        "id": "507ef451",
        "outputId": "a74c9d1b-e423-4d59-c388-c7cfd5897bcd"
      },
      "outputs": [
        {
          "name": "stdout",
          "output_type": "stream",
          "text": [
            "Fold: 1, train-observations = 64467, valid-observations = 7164\n",
            "train-score = 0.7466, valid-score = 0.7612\n",
            "=====================================================================\n",
            "Fold: 2, train-observations = 64468, valid-observations = 7163\n",
            "train-score = 0.7482, valid-score = 0.7464\n",
            "=====================================================================\n",
            "Fold: 3, train-observations = 64468, valid-observations = 7163\n",
            "train-score = 0.7487, valid-score = 0.738\n",
            "=====================================================================\n",
            "Fold: 4, train-observations = 64468, valid-observations = 7163\n",
            "train-score = 0.7492, valid-score = 0.7425\n",
            "=====================================================================\n",
            "Fold: 5, train-observations = 64468, valid-observations = 7163\n",
            "train-score = 0.7487, valid-score = 0.7415\n",
            "=====================================================================\n",
            "Fold: 6, train-observations = 64468, valid-observations = 7163\n",
            "train-score = 0.7503, valid-score = 0.7306\n",
            "=====================================================================\n",
            "Fold: 7, train-observations = 64468, valid-observations = 7163\n",
            "train-score = 0.7494, valid-score = 0.7322\n",
            "=====================================================================\n",
            "Fold: 8, train-observations = 64468, valid-observations = 7163\n",
            "train-score = 0.7484, valid-score = 0.7422\n",
            "=====================================================================\n",
            "Fold: 9, train-observations = 64468, valid-observations = 7163\n",
            "train-score = 0.7484, valid-score = 0.7403\n",
            "=====================================================================\n",
            "Fold: 10, train-observations = 64468, valid-observations = 7163\n",
            "train-score = 0.748, valid-score = 0.7509\n",
            "=====================================================================\n",
            "CV-results train: 0.7486 +/- 0.001\n",
            "CV-results valid: 0.7426 +/- 0.008\n",
            "OOF-score = 0.7425\n"
          ]
        }
      ],
      "source": [
        "cat_params = {\n",
        "                'silent': True, \n",
        "                'one_hot_max_size': 2,  \n",
        "                'iterations': 200, \n",
        "                'eval_metric': 'AUC',\n",
        "                'allow_writing_files': False, \n",
        "                'random_seed': seed,\n",
        "                'auto_class_weights': 'SqrtBalanced',\n",
        "                'grow_policy': 'SymmetricTree', \n",
        "                'objective': 'Logloss',\n",
        "                'boosting_type': 'Ordered', \n",
        "                'score_function': 'Cosine', \n",
        "                'bootstrap_type': 'MVS', \n",
        "                'bagging_temperature': 10, \n",
        "                'colsample_bylevel': 0.8, \n",
        "                'depth': 3, \n",
        "                'l2_leaf_reg': 40, \n",
        "                'learning_rate': 0.03,\n",
        "                'max_ctr_complexity': 3, \n",
        "                'od_type': 'Iter',\n",
        "                'subsample': 0.8, \n",
        "                'max_bin': 128,  \n",
        "} \n",
        "\n",
        "cat_features = ['EDUCATION_FAMILY_STATUS', 'EDUCATION_LEVEL', 'NEW_STATUS',] # 'FAMILY_STATUS']\n",
        "\n",
        "cat_estimators, oof_score, fold_train_scores, fold_valid_scores, oof_cat = make_modify_cross_validation(\n",
        "                            x_train[features], \n",
        "                            y_learn, \n",
        "                            CatBoostClassifier(cat_features=cat_features, **cat_params), \n",
        "                            metric=roc_auc_score, \n",
        "                            cv_strategy=KFold(n_splits=10, shuffle=True, random_state=seed), \n",
        "                            error_to_be_outlier=False,\n",
        "                        )"
      ],
      "id": "507ef451"
    },
    {
      "cell_type": "code",
      "execution_count": null,
      "metadata": {
        "id": "39607d5f",
        "outputId": "97e7c0bc-aae9-4ef1-8645-dfed3d185ee3"
      },
      "outputs": [
        {
          "name": "stdout",
          "output_type": "stream",
          "text": [
            "0.7487080671474996\n",
            "0.7408580202992593\n"
          ]
        }
      ],
      "source": [
        "cat = CatBoostClassifier(cat_features=cat_features, **cat_params).fit(x_train[features], y_learn)\n",
        "valid_cat_predictions = cat.predict_proba(x_test[features])[:,1]\n",
        "\n",
        "print(roc_auc_score(y_learn, cat.predict_proba(x_train[features])[:,1]))\n",
        "print(roc_auc_score(y_valid, cat.predict_proba(x_test[features])[:,1]))"
      ],
      "id": "39607d5f"
    },
    {
      "cell_type": "code",
      "execution_count": null,
      "metadata": {
        "id": "20e0c690",
        "outputId": "e6997b61-c217-4837-bf0a-65407fe7e017"
      },
      "outputs": [
        {
          "data": {
            "text/plain": [
              "(0.7291963826719704, 0.7543980178969778)"
            ]
          },
          "execution_count": 1556,
          "metadata": {},
          "output_type": "execute_result"
        }
      ],
      "source": [
        "scores = create_bootstrap_metrics(y_valid, cat.predict_proba(x_test[features])[:,1], roc_auc_score)\n",
        "\n",
        "calculate_confidence_interval(scores)"
      ],
      "id": "20e0c690"
    },
    {
      "cell_type": "markdown",
      "metadata": {
        "id": "e21b485d"
      },
      "source": [
        "**ensembling & stacking**"
      ],
      "id": "e21b485d"
    },
    {
      "cell_type": "code",
      "execution_count": null,
      "metadata": {
        "id": "a0cfb025",
        "outputId": "fa6c9d2c-e280-44dc-b492-dd0abb87a423"
      },
      "outputs": [
        {
          "data": {
            "text/html": [
              "<div>\n",
              "<style scoped>\n",
              "    .dataframe tbody tr th:only-of-type {\n",
              "        vertical-align: middle;\n",
              "    }\n",
              "\n",
              "    .dataframe tbody tr th {\n",
              "        vertical-align: top;\n",
              "    }\n",
              "\n",
              "    .dataframe thead th {\n",
              "        text-align: right;\n",
              "    }\n",
              "</style>\n",
              "<table border=\"1\" class=\"dataframe\">\n",
              "  <thead>\n",
              "    <tr style=\"text-align: right;\">\n",
              "      <th></th>\n",
              "      <th>logreg</th>\n",
              "      <th>lgbm</th>\n",
              "      <th>xgb</th>\n",
              "      <th>cat</th>\n",
              "    </tr>\n",
              "  </thead>\n",
              "  <tbody>\n",
              "    <tr>\n",
              "      <th>6730</th>\n",
              "      <td>0.6216</td>\n",
              "      <td>0.5285</td>\n",
              "      <td>0.0963</td>\n",
              "      <td>0.2662</td>\n",
              "    </tr>\n",
              "    <tr>\n",
              "      <th>50767</th>\n",
              "      <td>0.4497</td>\n",
              "      <td>0.4418</td>\n",
              "      <td>0.0558</td>\n",
              "      <td>0.2005</td>\n",
              "    </tr>\n",
              "    <tr>\n",
              "      <th>18799</th>\n",
              "      <td>0.3291</td>\n",
              "      <td>0.1503</td>\n",
              "      <td>0.0311</td>\n",
              "      <td>0.0926</td>\n",
              "    </tr>\n",
              "    <tr>\n",
              "      <th>26942</th>\n",
              "      <td>0.3004</td>\n",
              "      <td>0.1933</td>\n",
              "      <td>0.0314</td>\n",
              "      <td>0.1194</td>\n",
              "    </tr>\n",
              "    <tr>\n",
              "      <th>14543</th>\n",
              "      <td>0.5356</td>\n",
              "      <td>0.4820</td>\n",
              "      <td>0.0841</td>\n",
              "      <td>0.2197</td>\n",
              "    </tr>\n",
              "  </tbody>\n",
              "</table>\n",
              "</div>"
            ],
            "text/plain": [
              "       logreg   lgbm    xgb    cat\n",
              "6730   0.6216 0.5285 0.0963 0.2662\n",
              "50767  0.4497 0.4418 0.0558 0.2005\n",
              "18799  0.3291 0.1503 0.0311 0.0926\n",
              "26942  0.3004 0.1933 0.0314 0.1194\n",
              "14543  0.5356 0.4820 0.0841 0.2197"
            ]
          },
          "execution_count": 1557,
          "metadata": {},
          "output_type": "execute_result"
        }
      ],
      "source": [
        "oof_predictions = pd.DataFrame({'logreg': oof_log, 'lgbm': oof_lgbm, 'xgb': oof_xgb, 'cat': oof_cat})\n",
        "oof_predictions.sample(5)"
      ],
      "id": "a0cfb025"
    },
    {
      "cell_type": "code",
      "execution_count": null,
      "metadata": {
        "id": "98216eff",
        "outputId": "f136e86a-0996-4116-81f1-59234847c02f"
      },
      "outputs": [
        {
          "data": {
            "image/png": "[encoded data removed]",
            "text/plain": [
              "<Figure size 720x720 with 2 Axes>"
            ]
          },
          "metadata": {},
          "output_type": "display_data"
        }
      ],
      "source": [
        "corr = oof_predictions.corr()\n",
        "mask = np.zeros_like(corr, dtype=np.bool)\n",
        "mask[np.triu_indices_from(mask)] = True\n",
        "\n",
        "fig, axes = plt.subplots(1, 1, figsize=(10, 10))\n",
        "sns.heatmap(corr, mask=mask, annot=True, fmt=\".4g\", square=True, cmap=\"viridis\", ax=axes)\n",
        "plt.show()"
      ],
      "id": "98216eff"
    },
    {
      "cell_type": "code",
      "execution_count": null,
      "metadata": {
        "id": "77774163",
        "outputId": "7ead71df-d55d-4305-904b-1187db8a470f"
      },
      "outputs": [
        {
          "name": "stdout",
          "output_type": "stream",
          "text": [
            "AMean score: 0.74454\n",
            "GMean score: 0.74497\n",
            "Rank  score: 0.74437\n",
            "GMean  rank: 0.74444\n"
          ]
        }
      ],
      "source": [
        "mean_scores(oof_predictions, y_learn)"
      ],
      "id": "77774163"
    },
    {
      "cell_type": "code",
      "execution_count": null,
      "metadata": {
        "id": "362aa5e5",
        "outputId": "b75720e4-c568-49fc-ffd3-ba35bf5d7238"
      },
      "outputs": [
        {
          "name": "stdout",
          "output_type": "stream",
          "text": [
            "\n",
            "Optimized weights:\n",
            "Best score: 0.7507\n"
          ]
        }
      ],
      "source": [
        "from scipy.optimize import minimize\n",
        "\n",
        "results_list = []   \n",
        "weights_list = []  \n",
        "preds = oof_predictions.values\n",
        "\n",
        "def weights_objective(weights):\n",
        "    y_ens = np.average(preds, axis=1, weights=weights)\n",
        "    return roc_auc_score(y_learn, y_ens)\n",
        "\n",
        "for k in range(100):\n",
        "  \n",
        "    w0 = np.random.uniform(size=preds.shape[1])\n",
        "    bounds = [(0,1)] * preds.shape[1]\n",
        "\n",
        "    cons = [{'type': 'eq',\n",
        "             'fun': lambda w: w.sum() - 1}]\n",
        "\n",
        "    res = minimize(weights_objective,\n",
        "                   w0,\n",
        "                   method='SLSQP',\n",
        "                   bounds=bounds,\n",
        "                   options={'disp':False, 'maxiter':10000},\n",
        "                   constraints=cons)\n",
        "\n",
        "    results_list.append(res.fun)\n",
        "    weights_list.append(res.x)\n",
        "\n",
        "best_score = np.max(results_list)    \n",
        "best_weights = weights_list[results_list.index(best_score)]\n",
        "\n",
        "print('\\nOptimized weights:')\n",
        "print('Best score: {:.4f}'.format(best_score))"
      ],
      "id": "362aa5e5"
    },
    {
      "cell_type": "code",
      "execution_count": null,
      "metadata": {
        "id": "4a78b143",
        "outputId": "565ea04c-6afc-49aa-d3a2-28d31af6a99d"
      },
      "outputs": [
        {
          "data": {
            "text/html": [
              "<div>\n",
              "<style scoped>\n",
              "    .dataframe tbody tr th:only-of-type {\n",
              "        vertical-align: middle;\n",
              "    }\n",
              "\n",
              "    .dataframe tbody tr th {\n",
              "        vertical-align: top;\n",
              "    }\n",
              "\n",
              "    .dataframe thead th {\n",
              "        text-align: right;\n",
              "    }\n",
              "</style>\n",
              "<table border=\"1\" class=\"dataframe\">\n",
              "  <thead>\n",
              "    <tr style=\"text-align: right;\">\n",
              "      <th></th>\n",
              "      <th>logreg</th>\n",
              "      <th>lgbm</th>\n",
              "      <th>xgb</th>\n",
              "      <th>cat</th>\n",
              "    </tr>\n",
              "  </thead>\n",
              "  <tbody>\n",
              "    <tr>\n",
              "      <th>14249</th>\n",
              "      <td>0.5940</td>\n",
              "      <td>0.5673</td>\n",
              "      <td>0.1000</td>\n",
              "      <td>0.2791</td>\n",
              "    </tr>\n",
              "    <tr>\n",
              "      <th>574</th>\n",
              "      <td>0.4850</td>\n",
              "      <td>0.5706</td>\n",
              "      <td>0.1068</td>\n",
              "      <td>0.2467</td>\n",
              "    </tr>\n",
              "    <tr>\n",
              "      <th>14696</th>\n",
              "      <td>0.3837</td>\n",
              "      <td>0.3359</td>\n",
              "      <td>0.0384</td>\n",
              "      <td>0.1703</td>\n",
              "    </tr>\n",
              "    <tr>\n",
              "      <th>2559</th>\n",
              "      <td>0.2270</td>\n",
              "      <td>0.2011</td>\n",
              "      <td>0.0309</td>\n",
              "      <td>0.1112</td>\n",
              "    </tr>\n",
              "    <tr>\n",
              "      <th>9771</th>\n",
              "      <td>0.4070</td>\n",
              "      <td>0.3172</td>\n",
              "      <td>0.0514</td>\n",
              "      <td>0.1754</td>\n",
              "    </tr>\n",
              "  </tbody>\n",
              "</table>\n",
              "</div>"
            ],
            "text/plain": [
              "       logreg   lgbm    xgb    cat\n",
              "14249  0.5940 0.5673 0.1000 0.2791\n",
              "574    0.4850 0.5706 0.1068 0.2467\n",
              "14696  0.3837 0.3359 0.0384 0.1703\n",
              "2559   0.2270 0.2011 0.0309 0.1112\n",
              "9771   0.4070 0.3172 0.0514 0.1754"
            ]
          },
          "execution_count": 1562,
          "metadata": {},
          "output_type": "execute_result"
        }
      ],
      "source": [
        "valid_predictions = pd.DataFrame({'logreg': valid_log_predictions, \n",
        "                                  'lgbm': valid_lgbm_predictions, \n",
        "                                  'xgb': valid_xgb_predictions, \n",
        "                                  'cat': valid_cat_predictions})\n",
        "valid_predictions.sample(5)"
      ],
      "id": "4a78b143"
    },
    {
      "cell_type": "code",
      "execution_count": null,
      "metadata": {
        "id": "6a6a3e6b",
        "outputId": "f21db878-98f1-4b92-9c8f-f243664e709d"
      },
      "outputs": [
        {
          "data": {
            "text/plain": [
              "0.7504572057866926"
            ]
          },
          "execution_count": 1563,
          "metadata": {},
          "output_type": "execute_result"
        }
      ],
      "source": [
        "optimized_scores = np.average(valid_predictions, axis=1, weights=best_weights)\n",
        "roc_auc_score(y_valid, optimized_scores)"
      ],
      "id": "6a6a3e6b"
    },
    {
      "cell_type": "code",
      "execution_count": null,
      "metadata": {
        "id": "16e60de8",
        "outputId": "73e134ba-436b-4b0f-8787-7006f093d63c"
      },
      "outputs": [
        {
          "data": {
            "text/plain": [
              "(0.737174339382868, 0.7633692382258066)"
            ]
          },
          "execution_count": 1564,
          "metadata": {},
          "output_type": "execute_result"
        }
      ],
      "source": [
        "# CI optimized\n",
        "scores = create_bootstrap_metrics(y_valid, optimized_scores, roc_auc_score)\n",
        "\n",
        "calculate_confidence_interval(scores)"
      ],
      "id": "16e60de8"
    },
    {
      "cell_type": "code",
      "execution_count": null,
      "metadata": {
        "id": "d951fb3b",
        "outputId": "5f772158-1be7-4b36-caaf-e03fcfd97c26"
      },
      "outputs": [
        {
          "data": {
            "text/plain": [
              "0.747725229960274"
            ]
          },
          "execution_count": 1565,
          "metadata": {},
          "output_type": "execute_result"
        }
      ],
      "source": [
        "geo_optimized_scores = stats.gmean(valid_predictions, axis=1, weights=best_weights)\n",
        "roc_auc_score(y_valid, geo_optimized_scores)"
      ],
      "id": "d951fb3b"
    },
    {
      "cell_type": "code",
      "execution_count": null,
      "metadata": {
        "id": "034f8940",
        "outputId": "7c36c990-e278-4aad-84aa-963a6b64fee2"
      },
      "outputs": [
        {
          "data": {
            "text/plain": [
              "(0.7351149630015194, 0.75997103367366)"
            ]
          },
          "execution_count": 1566,
          "metadata": {},
          "output_type": "execute_result"
        }
      ],
      "source": [
        "scores = create_bootstrap_metrics(y_valid, geo_optimized_scores, roc_auc_score)\n",
        "\n",
        "calculate_confidence_interval(scores)"
      ],
      "id": "034f8940"
    },
    {
      "cell_type": "code",
      "execution_count": null,
      "metadata": {
        "id": "2186a974",
        "outputId": "7473c9a0-3d77-4f11-fab9-96edcf11b571"
      },
      "outputs": [
        {
          "name": "stdout",
          "output_type": "stream",
          "text": [
            "Fold: 1, train-observations = 64467, valid-observations = 7164\n",
            "train-score = 0.7457, valid-score = 0.7644\n",
            "=====================================================================\n",
            "Fold: 2, train-observations = 64468, valid-observations = 7163\n",
            "train-score = 0.7478, valid-score = 0.7444\n",
            "=====================================================================\n",
            "Fold: 3, train-observations = 64468, valid-observations = 7163\n",
            "train-score = 0.7481, valid-score = 0.7419\n",
            "=====================================================================\n",
            "Fold: 4, train-observations = 64468, valid-observations = 7163\n",
            "train-score = 0.7473, valid-score = 0.7503\n",
            "=====================================================================\n",
            "Fold: 5, train-observations = 64468, valid-observations = 7163\n",
            "train-score = 0.7475, valid-score = 0.7483\n",
            "=====================================================================\n",
            "Fold: 6, train-observations = 64468, valid-observations = 7163\n",
            "train-score = 0.7482, valid-score = 0.7386\n",
            "=====================================================================\n",
            "Fold: 7, train-observations = 64468, valid-observations = 7163\n",
            "train-score = 0.7485, valid-score = 0.7378\n",
            "=====================================================================\n",
            "Fold: 8, train-observations = 64468, valid-observations = 7163\n",
            "train-score = 0.7475, valid-score = 0.7474\n",
            "=====================================================================\n",
            "Fold: 9, train-observations = 64468, valid-observations = 7163\n",
            "train-score = 0.7477, valid-score = 0.7489\n",
            "=====================================================================\n",
            "Fold: 10, train-observations = 64468, valid-observations = 7163\n",
            "train-score = 0.747, valid-score = 0.7547\n",
            "=====================================================================\n",
            "CV-results train: 0.7475 +/- 0.001\n",
            "CV-results valid: 0.7477 +/- 0.007\n",
            "OOF-score = 0.7472\n"
          ]
        }
      ],
      "source": [
        "# LDA assumes correletions between variables\n",
        "lda = LinearDiscriminantAnalysis(\n",
        "                                 solver='eigen',\n",
        "                                 shrinkage='auto',\n",
        "                                 store_covariance=True,\n",
        "                                 n_components=1\n",
        "                                )\n",
        "\n",
        "lda_estimators, _, _, _, oof_lda = make_modify_cross_validation(\n",
        "                                                          oof_predictions, \n",
        "                                                          y_learn, \n",
        "                                                          lda, \n",
        "                                                          metric=roc_auc_score, \n",
        "                                                          cv_strategy=KFold(n_splits=10, shuffle=True, random_state=seed), \n",
        "                                                          error_to_be_outlier=False\n",
        "                                                          )"
      ],
      "id": "2186a974"
    },
    {
      "cell_type": "code",
      "execution_count": null,
      "metadata": {
        "id": "4189f50f"
      },
      "outputs": [],
      "source": [
        "lda_train_predictions = pd.DataFrame(data=np.array([model.predict_proba(oof_predictions)[:,1] for model in lda_estimators]).T)\n",
        "\n",
        "lda_valid_predictions = pd.DataFrame(data=np.array([model.predict_proba(valid_predictions)[:,1] for model in lda_estimators]).T)"
      ],
      "id": "4189f50f"
    },
    {
      "cell_type": "code",
      "execution_count": null,
      "metadata": {
        "id": "1663c229",
        "outputId": "c4a17d96-28d4-4468-d266-dd09a065eee1"
      },
      "outputs": [
        {
          "name": "stdout",
          "output_type": "stream",
          "text": [
            "AMean score: 0.74702\n",
            "GMean score: 0.74702\n",
            "Rank  score: 0.74702\n",
            "GMean  rank: 0.74702\n"
          ]
        }
      ],
      "source": [
        "mean_scores(lda_valid_predictions, y_valid)"
      ],
      "id": "1663c229"
    },
    {
      "cell_type": "code",
      "execution_count": null,
      "metadata": {
        "id": "aa1853c0",
        "outputId": "42bc89a1-4601-47d4-e7b7-8bc2e98f4b66"
      },
      "outputs": [
        {
          "name": "stdout",
          "output_type": "stream",
          "text": [
            "\n",
            "Optimized weights:\n",
            "Best score: 0.7477\n"
          ]
        }
      ],
      "source": [
        "results_list_lda = []   \n",
        "weights_list_lda = []  \n",
        "preds_lda = lda_train_predictions.values\n",
        "\n",
        "def weights_objective(weights):\n",
        "    y_ens = np.average(preds_lda, axis=1, weights=weights)\n",
        "    return roc_auc_score(y_learn, y_ens)\n",
        "\n",
        "for _ in range(100):\n",
        "  \n",
        "    w0 = np.random.uniform(size=preds_lda.shape[1])\n",
        "    bounds = [(0,1)] * preds_lda.shape[1]\n",
        "\n",
        "    cons = [{'type': 'eq',\n",
        "             'fun': lambda w: w.sum() - 1}]\n",
        "\n",
        "    res = minimize(weights_objective,\n",
        "                   w0,\n",
        "                   method='SLSQP',\n",
        "                   bounds=bounds,\n",
        "                   options={'disp':False, 'maxiter':10000},\n",
        "                   constraints=cons)\n",
        "\n",
        "    results_list_lda.append(res.fun)\n",
        "    weights_list_lda.append(res.x)\n",
        "\n",
        "best_score_lda = np.max(results_list_lda)    \n",
        "best_weights_lda = weights_list_lda[results_list_lda.index(best_score_lda)]\n",
        "\n",
        "print('\\nOptimized weights:')\n",
        "print('Best score: {:.4f}'.format(best_score_lda))"
      ],
      "id": "aa1853c0"
    },
    {
      "cell_type": "code",
      "execution_count": null,
      "metadata": {
        "id": "326c4f33",
        "outputId": "f21ef267-2779-4638-b663-c6356ccc8252"
      },
      "outputs": [
        {
          "data": {
            "text/plain": [
              "0.7472106459048456"
            ]
          },
          "execution_count": 1575,
          "metadata": {},
          "output_type": "execute_result"
        }
      ],
      "source": [
        "lda_optimized_amean_scores = np.average(lda_valid_predictions, axis=1, weights=best_weights_lda)\n",
        "\n",
        "roc_auc_score(y_valid, lda_optimized_amean_scores)"
      ],
      "id": "326c4f33"
    },
    {
      "cell_type": "code",
      "execution_count": null,
      "metadata": {
        "id": "0bc94ae9",
        "outputId": "bdfe8304-da8e-4546-9a7a-6df3eaf30ac4"
      },
      "outputs": [
        {
          "data": {
            "text/plain": [
              "(0.7340142084978389, 0.7599700668380024)"
            ]
          },
          "execution_count": 1576,
          "metadata": {},
          "output_type": "execute_result"
        }
      ],
      "source": [
        "# CI\n",
        "scores = create_bootstrap_metrics(y_valid, lda_optimized_amean_scores, roc_auc_score)\n",
        "\n",
        "calculate_confidence_interval(scores)"
      ],
      "id": "0bc94ae9"
    },
    {
      "cell_type": "code",
      "execution_count": null,
      "metadata": {
        "id": "a675060b",
        "outputId": "198452e3-4c63-4849-fc7f-068b16474f70"
      },
      "outputs": [
        {
          "data": {
            "text/plain": [
              "0.7467766961428476"
            ]
          },
          "execution_count": 1353,
          "metadata": {},
          "output_type": "execute_result"
        }
      ],
      "source": [
        "np.mean((0.7335965635883693, 0.7599568286973258))"
      ],
      "id": "a675060b"
    },
    {
      "cell_type": "code",
      "execution_count": null,
      "metadata": {
        "id": "8fb53754",
        "outputId": "cb5451fd-96ea-433a-aa92-535277ba0741"
      },
      "outputs": [
        {
          "data": {
            "text/plain": [
              "APPLICATION_NUMBER\n",
              "123652302   0.9859\n",
              "123500545   0.9857\n",
              "123543140   0.9853\n",
              "123462701   0.9842\n",
              "123650750   0.9839\n",
              "             ...  \n",
              "123713359   0.0136\n",
              "123682785   0.0135\n",
              "123521494   0.0132\n",
              "123618322   0.0132\n",
              "123712454   0.0128\n",
              "Name: TARGET, Length: 17908, dtype: float64"
            ]
          },
          "execution_count": 1354,
          "metadata": {},
          "output_type": "execute_result"
        }
      ],
      "source": [
        "pd.Series(data=np.abs(lda_optimized_amean_scores - y_valid)).sort_values(ascending=False)"
      ],
      "id": "8fb53754"
    },
    {
      "cell_type": "code",
      "execution_count": null,
      "metadata": {
        "id": "d49d096a"
      },
      "outputs": [],
      "source": [
        "test_preds_cat = cat.predict_proba(data_test[features])[:,1]"
      ],
      "id": "d49d096a"
    },
    {
      "cell_type": "code",
      "execution_count": null,
      "metadata": {
        "id": "c52e966e"
      },
      "outputs": [],
      "source": [
        "data_test_num = data_test.copy()"
      ],
      "id": "c52e966e"
    },
    {
      "cell_type": "code",
      "execution_count": null,
      "metadata": {
        "id": "acd08fe3"
      },
      "outputs": [],
      "source": [
        "data_test_num[['EDUCATION_LEVEL', 'FAMILY_STATUS', 'NEW_STATUS', 'EDUCATION_FAMILY_STATUS']] = \\\n",
        "        encoder.transform(data_test_num[['EDUCATION_LEVEL', 'FAMILY_STATUS', \n",
        "                                   'NEW_STATUS', 'EDUCATION_FAMILY_STATUS']])"
      ],
      "id": "acd08fe3"
    },
    {
      "cell_type": "code",
      "execution_count": null,
      "metadata": {
        "id": "be542a3f"
      },
      "outputs": [],
      "source": [
        "test_preds_lgbm = lgbm.predict_proba(data_test_num[features])[:,1]\n",
        "test_preds_log = logreg.predict_proba(data_test_num[features])[:,1]\n",
        "test_preds_xgb = xgb.predict_proba(data_test_num[features])[:,1]"
      ],
      "id": "be542a3f"
    },
    {
      "cell_type": "code",
      "execution_count": null,
      "metadata": {
        "id": "ec5a3bab"
      },
      "outputs": [],
      "source": [
        "final_predictions = pd.DataFrame({'logreg': test_preds_log, \n",
        "                                  'lgbm': test_preds_lgbm, \n",
        "                                  'xgb': test_preds_xgb, \n",
        "                                  'cat': test_preds_cat})"
      ],
      "id": "ec5a3bab"
    },
    {
      "cell_type": "code",
      "execution_count": null,
      "metadata": {
        "id": "21065e56"
      },
      "outputs": [],
      "source": [
        "final_scores = np.average(final_predictions, axis=1, weights=best_weights)"
      ],
      "id": "21065e56"
    },
    {
      "cell_type": "code",
      "execution_count": null,
      "metadata": {
        "id": "8cd96213"
      },
      "outputs": [],
      "source": [
        "data_test[TARGET] = final_scores\n",
        "final_part_one = data_test.reset_index()[[ID_COL, TARGET]]"
      ],
      "id": "8cd96213"
    },
    {
      "cell_type": "code",
      "execution_count": null,
      "metadata": {
        "id": "85b399c5",
        "outputId": "56cb78b9-b305-4e2f-a271-658f40b299f2"
      },
      "outputs": [
        {
          "data": {
            "text/html": [
              "<div>\n",
              "<style scoped>\n",
              "    .dataframe tbody tr th:only-of-type {\n",
              "        vertical-align: middle;\n",
              "    }\n",
              "\n",
              "    .dataframe tbody tr th {\n",
              "        vertical-align: top;\n",
              "    }\n",
              "\n",
              "    .dataframe thead th {\n",
              "        text-align: right;\n",
              "    }\n",
              "</style>\n",
              "<table border=\"1\" class=\"dataframe\">\n",
              "  <thead>\n",
              "    <tr style=\"text-align: right;\">\n",
              "      <th></th>\n",
              "      <th>APPLICATION_NUMBER</th>\n",
              "      <th>TARGET</th>\n",
              "    </tr>\n",
              "  </thead>\n",
              "  <tbody>\n",
              "    <tr>\n",
              "      <th>0</th>\n",
              "      <td>123724268</td>\n",
              "      <td>0.3551</td>\n",
              "    </tr>\n",
              "    <tr>\n",
              "      <th>1</th>\n",
              "      <td>123456549</td>\n",
              "      <td>0.6315</td>\n",
              "    </tr>\n",
              "    <tr>\n",
              "      <th>2</th>\n",
              "      <td>123428178</td>\n",
              "      <td>0.5747</td>\n",
              "    </tr>\n",
              "    <tr>\n",
              "      <th>3</th>\n",
              "      <td>123671104</td>\n",
              "      <td>0.1046</td>\n",
              "    </tr>\n",
              "    <tr>\n",
              "      <th>4</th>\n",
              "      <td>123632747</td>\n",
              "      <td>0.1684</td>\n",
              "    </tr>\n",
              "    <tr>\n",
              "      <th>...</th>\n",
              "      <td>...</td>\n",
              "      <td>...</td>\n",
              "    </tr>\n",
              "    <tr>\n",
              "      <th>134170</th>\n",
              "      <td>123642343</td>\n",
              "      <td>0.0854</td>\n",
              "    </tr>\n",
              "    <tr>\n",
              "      <th>134171</th>\n",
              "      <td>123484380</td>\n",
              "      <td>0.0807</td>\n",
              "    </tr>\n",
              "    <tr>\n",
              "      <th>134172</th>\n",
              "      <td>123536402</td>\n",
              "      <td>0.2547</td>\n",
              "    </tr>\n",
              "    <tr>\n",
              "      <th>134173</th>\n",
              "      <td>123631557</td>\n",
              "      <td>0.1674</td>\n",
              "    </tr>\n",
              "    <tr>\n",
              "      <th>134174</th>\n",
              "      <td>123433260</td>\n",
              "      <td>0.2797</td>\n",
              "    </tr>\n",
              "  </tbody>\n",
              "</table>\n",
              "<p>134175 rows × 2 columns</p>\n",
              "</div>"
            ],
            "text/plain": [
              "        APPLICATION_NUMBER  TARGET\n",
              "0                123724268  0.3551\n",
              "1                123456549  0.6315\n",
              "2                123428178  0.5747\n",
              "3                123671104  0.1046\n",
              "4                123632747  0.1684\n",
              "...                    ...     ...\n",
              "134170           123642343  0.0854\n",
              "134171           123484380  0.0807\n",
              "134172           123536402  0.2547\n",
              "134173           123631557  0.1674\n",
              "134174           123433260  0.2797\n",
              "\n",
              "[134175 rows x 2 columns]"
            ]
          },
          "execution_count": 1590,
          "metadata": {},
          "output_type": "execute_result"
        }
      ],
      "source": [
        "final_part_one"
      ],
      "id": "85b399c5"
    },
    {
      "cell_type": "markdown",
      "metadata": {
        "id": "e80bb11d"
      },
      "source": [
        "**Conclusion: predict scores by logreg, lgbm, xgb, catboost, init test_df with scores, apply optimized_scores = np.average(valid_predictions, axis=1, weights=best_weights)**"
      ],
      "id": "e80bb11d"
    },
    {
      "cell_type": "code",
      "execution_count": null,
      "metadata": {
        "id": "407b0a21"
      },
      "outputs": [],
      "source": [
        "\"\"\"\n",
        "5) optuna night optimizing x3 cells\n",
        "BEST: 0.73700, BASE: 0.73199\n",
        "\n",
        "I.\n",
        "1) predict 81% by cp features (features stats from overall train+test)\n",
        "2) predict 18.7 % by merged cp, pay, hist, bki (model from part II)\n",
        "3) 0.3% would be zero trash: mean by 1) and 2)\n",
        "II.\n",
        "1) concat train and test, preserve test_ids -> data\n",
        "2) data + cp + bki + pay + hist\n",
        "3) train cat -> lgbm -> xgb -> logreg\n",
        "4) means, weighted means, lda stack\n",
        "\"\"\""
      ],
      "id": "407b0a21"
    },
    {
      "cell_type": "markdown",
      "metadata": {
        "id": "8c81704d"
      },
      "source": [
        "## Part II"
      ],
      "id": "8c81704d"
    },
    {
      "cell_type": "code",
      "execution_count": null,
      "metadata": {
        "id": "c380e373"
      },
      "outputs": [],
      "source": [
        "def get_encoded(df, nan_as_category = True):\n",
        "    original_columns = list(df.columns)\n",
        "    categorical_columns = [col for col in df.columns if df[col].dtype == 'category']\n",
        "    df = pd.get_dummies(df, columns = categorical_columns, dummy_na = nan_as_category)\n",
        "    new_columns = [c for c in df.columns if c not in original_columns]\n",
        "    return df, new_columns"
      ],
      "id": "c380e373"
    },
    {
      "cell_type": "code",
      "execution_count": null,
      "metadata": {
        "id": "1f80890e"
      },
      "outputs": [],
      "source": [
        "def fill_nan_by_median_one(train_cleaned):\n",
        "    for i in train_cleaned.columns:        \n",
        "        train_cleaned[i] = train_cleaned[i].fillna(train_cleaned[i].median())\n",
        "    return train_cleaned\n",
        "\n",
        "def prepare_history():\n",
        "    df_train = pd.read_csv('train.csv')\n",
        "    df_test = pd.read_csv('test.csv')\n",
        "    df_applications_history = pd.read_csv('applications_history.csv')\n",
        "    \n",
        "    df_applications_history.drop('PREV_APPLICATION_NUMBER', axis=1, inplace=True)\n",
        "    \n",
        "    categorical_feats = df_applications_history.select_dtypes(include=\"object\").columns.tolist()\n",
        "    df_applications_history = pd.get_dummies(df_applications_history, columns=categorical_feats)\n",
        "    \n",
        "    df_applications_history = df_applications_history.rename(columns=lambda x:re.sub('[^A-Za-z0-9_]+', '', x))    \n",
        "    \n",
        "    df_applications_history = fill_nan_by_median_one(df_applications_history)\n",
        "\n",
        "    apps=df_applications_history\n",
        "\n",
        "    aggs ={column: [\"max\", \"sum\"] for column in df_applications_history.columns[1:]}\n",
        "\n",
        "    df_applications_history = create_numerical_aggs(apps, groupby_id=ID_COL, aggs=aggs)\n",
        "\n",
        "    df_applications_history = fill_nan_by_median_one(df_applications_history)  \n",
        "    \"\"\"\n",
        "    print('Original shapes:', df_train.shape, df_test.shape)\n",
        "    applications_numbers = set(df_applications_history[ID_COL].values)\n",
        "    train_numbers = set(df_train[ID_COL].values)\n",
        "    test_numbers  = set(df_test[ID_COL].values)    \n",
        "    train_in_profiles = list(train_numbers & applications_numbers)\n",
        "    test_in_profiles = list(test_numbers & applications_numbers)      \n",
        "    df_train = df_train[(df_train[ID_COL].isin(train_in_profiles))]\n",
        "    df_test = df_test[(df_test[ID_COL].isin(test_in_profiles))]    \n",
        "    \"\"\"\n",
        "    target = df_train['TARGET']\n",
        "    df_train = df_train.drop(['TARGET'], axis=1)\n",
        "    \n",
        "    contract_dict = {'Cash': 1, 'Credit Card': 2}\n",
        "    df_train['NAME_CONTRACT_TYPE'] = df_train['NAME_CONTRACT_TYPE'].map(contract_dict)\n",
        "    df_test['NAME_CONTRACT_TYPE'] = df_test['NAME_CONTRACT_TYPE'].map(contract_dict)\n",
        "\n",
        "    df_train = pd.merge(df_train, df_applications_history, how='left', on=ID_COL)\n",
        "    df_test = pd.merge(df_test, df_applications_history, how='left', on=ID_COL)    \n",
        "    \n",
        "    print('Final shapes:', df_train.shape, df_test.shape)    \n",
        "          \n",
        "    return df_train, target, df_test"
      ],
      "id": "1f80890e"
    },
    {
      "cell_type": "code",
      "execution_count": null,
      "metadata": {
        "colab": {
          "base_uri": "https://localhost:8080/"
        },
        "id": "77d10051",
        "outputId": "a7f457ee-c201-4f45-e3c7-388275ae9cab"
      },
      "outputs": [
        {
          "output_type": "stream",
          "name": "stdout",
          "text": [
            "Final shapes: (110093, 172) (165141, 172)\n"
          ]
        }
      ],
      "source": [
        "df_train, target, df_test = prepare_history()"
      ],
      "id": "77d10051"
    },
    {
      "cell_type": "code",
      "execution_count": null,
      "metadata": {
        "id": "a1a9aa6d"
      },
      "outputs": [],
      "source": [
        "hist_imp = calculate_feature_separating_ability(df_train, target)"
      ],
      "id": "a1a9aa6d"
    },
    {
      "cell_type": "code",
      "execution_count": null,
      "metadata": {
        "id": "d7965ed3"
      },
      "outputs": [],
      "source": [
        "history_features = hist_imp[hist_imp > 0.005].index.tolist()"
      ],
      "id": "d7965ed3"
    },
    {
      "cell_type": "code",
      "execution_count": null,
      "metadata": {
        "id": "b3918736"
      },
      "outputs": [],
      "source": [
        "df_train = df_train[history_features + [ID_COL]]\n",
        "df_test = df_test[history_features + [ID_COL]]"
      ],
      "id": "b3918736"
    },
    {
      "cell_type": "code",
      "execution_count": null,
      "metadata": {
        "id": "e551fc8d"
      },
      "outputs": [],
      "source": [
        "def bki_cr(num_rows = None, nan_as_category = True):\n",
        "    bureau = pd.read_csv('bki.csv', nrows = num_rows)\n",
        "    bureau, bureau_cat = get_encoded(bureau, nan_as_category)\n",
        "\n",
        "    bureau.drop(['BUREAU_ID'], axis=1, inplace= True)\n",
        "    \n",
        "    num_aggregations = {\n",
        "        'CREDIT_DAY_OVERDUE': ['mean'],\n",
        "        'AMT_CREDIT_MAX_OVERDUE': ['mean'],\n",
        "        'AMT_CREDIT_SUM_OVERDUE': ['mean']\n",
        "    }\n",
        "    cat_aggregations = {}\n",
        "    for cat in bureau_cat: cat_aggregations[cat] = ['mean']\n",
        "    \n",
        "    bureau_agg = bureau.groupby(ID_COL).agg({**num_aggregations, **cat_aggregations})\n",
        "    bureau_agg.columns = pd.Index(['BURO_' + e[0] + \"_\" + e[1].upper() for e in bureau_agg.columns.tolist()])\n",
        "    \n",
        "    active = bureau[bureau['CREDIT_ACTIVE_Active'] == 1]\n",
        "    active_agg = active.groupby(ID_COL).agg(num_aggregations)\n",
        "    active_agg.columns = pd.Index(['ACTIVE_' + e[0] + \"_\" + e[1].upper() for e in active_agg.columns.tolist()])\n",
        "    bureau_agg = bureau_agg.join(active_agg, how='left', on=ID_COL)\n",
        "\n",
        "    closed = bureau[bureau['CREDIT_ACTIVE_Closed'] == 1]\n",
        "    closed_agg = closed.groupby(ID_COL).agg(num_aggregations)\n",
        "    closed_agg.columns = pd.Index(['CLOSED_' + e[0] + \"_\" + e[1].upper() for e in closed_agg.columns.tolist()])\n",
        "    bureau_agg = bureau_agg.join(closed_agg, how='left', on=ID_COL)\n",
        "\n",
        "    return bureau_agg\n",
        "\n",
        "def get_encoded(df, nan_as_category = True):\n",
        "    original_columns = list(df.columns)\n",
        "    categorical_columns = [col for col in df.columns if df[col].dtype in ['object', 'category']]\n",
        "    df = pd.get_dummies(df, columns = categorical_columns, dummy_na = nan_as_category)\n",
        "    new_columns = [c for c in df.columns if c not in original_columns]\n",
        "    \n",
        "    return df, new_columns"
      ],
      "id": "e551fc8d"
    },
    {
      "cell_type": "code",
      "execution_count": null,
      "metadata": {
        "id": "1c4b1bbe"
      },
      "outputs": [],
      "source": [
        "def prepare_cp_sec(data: pd.DataFrame, \n",
        "                   dropna: bool = True, \n",
        "                   create_features: bool = False,\n",
        "                   is_category_encode: bool = False) -> pd.DataFrame:\n",
        "    df = pd.read_csv('client_profile.csv')\n",
        "    # fill missing values: 0 is reasonable\n",
        "    # df.fillna(0, inplace=True)\n",
        "\n",
        "    # deal with extreme outliers\n",
        "    df.loc[df['AMT_REQ_CREDIT_BUREAU_QRT'] > 50] = df.loc[df['AMT_REQ_CREDIT_BUREAU_QRT'] <= 50, 'AMT_REQ_CREDIT_BUREAU_QRT'].max() + 1\n",
        "    # df.loc[df['DAYS_ON_LAST_JOB'] > 50000, 'DAYS_ON_LAST_JOB'] = 366\n",
        "    df['DAYS_ON_LAST_JOB'] = df['DAYS_ON_LAST_JOB'].replace(365243, np.nan)\n",
        "    df.loc[df['TOTAL_SALARY'] > 1e+8, 'TOTAL_SALARY'] /= 1000.\n",
        "\n",
        "    # IQR mark\n",
        "    \"\"\"\n",
        "    df['IS_OUTLIER'] = 0\n",
        "    for column in df.select_dtypes(include=\"number\").columns:\n",
        "        q1, q3 = np.quantile(df[column], 0.25), np.quantile(df[column], 0.75)\n",
        "        iqr = q3 - q1\n",
        "        upper_bound = q3 + 1.5 * iqr\n",
        "        lower_bound = q1 - 1.5 * iqr\n",
        "        condition = ((df[column] > upper_bound) | (df[column] < lower_bound))\n",
        "        df.loc[condition, 'IS_OUTLIER'] = 1\n",
        "    \"\"\"\n",
        "    \n",
        "    # transform categorical columns\n",
        "    df.loc[df['GENDER'] == 'XNA', 'GENDER'] = df['GENDER'].mode()[0]\n",
        "    df['GENDER'] = df['GENDER'].map({'F': 0, 'M': 1})\n",
        "    df.loc[df['FAMILY_STATUS'] == 'Unknown', 'FAMILY_STATUS'] = 'Civil marriage'\n",
        "    \n",
        "    df['AGE'] = df['AGE'] / 365.25\n",
        "    df['AGE_BIN'] = pd.cut(df['AGE'], bins=np.linspace(18, 70, 10), labels=False) + 1\n",
        "\n",
        "    if create_features:\n",
        "        df['NEW_CREDIT_TO_ANNUITY_RATIO'] = df['AMOUNT_CREDIT'] / (df['AMOUNT_ANNUITY'] + 1)\n",
        "        df['NEW_STATUS'] = df['GENDER'].map({0: 'F', 1: 'M'}) + df['FAMILY_STATUS'].astype(str)\n",
        "        df[\"RATIO_ANNUITY_TO_AGE\"] = df[\"AMOUNT_ANNUITY\"] / df[\"AGE\"]\n",
        "        df[\"RATIO_CREDIT_TO_AGE\"] = df[\"AMOUNT_CREDIT\"] / df[\"AGE\"]\n",
        "        df[\"RATIO_SALARY_TO_AGE\"] = df[\"TOTAL_SALARY\"] / df[\"AGE\"]\n",
        "        df[\"RATIO_AGE_TO_EXPERIENCE\"] = df[\"AGE\"] / (df[\"DAYS_ON_LAST_JOB\"] / 365.25)\n",
        "        df[\"RATIO_CAR_TO_EXPERIENCE\"] = df[\"OWN_CAR_AGE\"] / df[\"DAYS_ON_LAST_JOB\"]\n",
        "        df[\"RATIO_CAR_TO_AGE\"] = df[\"OWN_CAR_AGE\"] / df[\"AGE\"]\n",
        "        aggs = {\n",
        "                \"TOTAL_SALARY\": [\"mean\", \"max\", \"min\", \"count\", \"sum\"],\n",
        "                \"AMOUNT_CREDIT\": [\"mean\", \"max\", \"min\", \"count\", \"sum\"],\n",
        "                \"AMOUNT_ANNUITY\": [\"mean\", \"max\", \"min\", \"count\", \"sum\"]\n",
        "                }\n",
        "\n",
        "        stat = create_numerical_aggs(df, groupby_id=\"EDUCATION_LEVEL\", aggs=aggs, suffix=\"_BY_EDUCATION\")\n",
        "        df = df.merge(stat, on='EDUCATION_LEVEL', how='left')\n",
        "        df[\"TOTAL_SALARY_TO_MEAN_SALARY_BY_EDUCATION\"] = df[\"TOTAL_SALARY\"] / (df[\"TOTAL_SALARY_MEAN_BY_EDUCATION\"] + 1)\n",
        "        df[\"DELTA_SALARY_TO_MEAN_SALARY_BY_EDUCATION\"] = df[\"TOTAL_SALARY\"] - df[\"TOTAL_SALARY_MEAN_BY_EDUCATION\"]\n",
        "        df[\"RATIO_SALARY_TO_AMOUNT_CREDIT\"] = df[\"AMOUNT_CREDIT\"] / df[\"TOTAL_SALARY\"]\n",
        "        df[\"RATIO_SALARY_TO_AMOUNT_CREDIT_BY_FAMILY\"] = df[\"TOTAL_SALARY\"] / (df[\"AMOUNT_CREDIT\"] / (df[\"FAMILY_SIZE\"] + 1))\n",
        "        df[\"RATIO_AMOUNT_ANNUITY_TO_SALARY\"] = df[\"AMOUNT_ANNUITY\"] / (df[\"TOTAL_SALARY\"] + 1) # redundant\n",
        "        df[\"RATIO_SALARY_TO_PER_FAMILY_SIZE\"] = df[\"TOTAL_SALARY\"] / (df[\"FAMILY_SIZE\"] + 1)\n",
        "        df[\"FLG_MORE_THAN_30PERCENT_FOR_CREDIT\"] = np.where(df[\"RATIO_AMOUNT_ANNUITY_TO_SALARY\"] > 0.3, 1, 0)\n",
        "        df[\"EDUCATION_FAMILY_STATUS\"] = df[\"EDUCATION_LEVEL\"].apply(str) + \" | \" + df[\"FAMILY_STATUS\"].apply(str)\n",
        "        stat = create_numerical_aggs(df, groupby_id=\"AGE_BIN\", aggs=aggs, suffix=\"_AGE_INTERVAL\")\n",
        "        df = df.merge(stat, on='AGE_BIN', how='left')\n",
        "        stat = create_numerical_aggs(df, groupby_id=\"FAMILY_STATUS\", aggs=aggs, suffix=\"_BY_FAMILY_STATUS\")\n",
        "        df = df.merge(stat, on='FAMILY_STATUS', how='left')\n",
        "\n",
        "        aggs = {\"NEW_CREDIT_TO_ANNUITY_RATIO\": [\"mean\"],\n",
        "                \"RATIO_SALARY_TO_AMOUNT_CREDIT\": [\"mean\"]}\n",
        "        stat = create_numerical_aggs(df, groupby_id=[\"GENDER\", \"AGE_BIN\"], aggs=aggs, suffix=\"_GENDER_AGE_BIN\")\n",
        "        df = df.merge(stat, on=[\"GENDER\", \"AGE_BIN\"], how='left')\n",
        "        \n",
        "        df['EXTERNAL_SCORE_WEIGHTED'] = df['EXTERNAL_SCORING_RATING_1'] * 2 + df['EXTERNAL_SCORING_RATING_2'] + df['EXTERNAL_SCORING_RATING_3'] * 3\n",
        "        \n",
        "        df['EXT_SCORE_1_AMT_CREDIT'] = df['EXTERNAL_SCORING_RATING_1'] * df['AMOUNT_CREDIT']\n",
        "        df['EXT_SCORE_2_AMT_CREDIT'] = df['EXTERNAL_SCORING_RATING_2'] * df['AMOUNT_CREDIT']\n",
        "        df['EXT_SCORE_3_AMT_CREDIT'] = df['EXTERNAL_SCORING_RATING_3'] * df['AMOUNT_CREDIT']\n",
        "        \n",
        "        df['EXT_SCORE_1_ANNUITY'] = df['EXTERNAL_SCORING_RATING_1'] * df['AMOUNT_ANNUITY']\n",
        "        df['EXT_SCORE_2_ANNUITY'] = df['EXTERNAL_SCORING_RATING_2'] * df['AMOUNT_ANNUITY']\n",
        "        df['EXT_SCORE_3_ANNUITY'] = df['EXTERNAL_SCORING_RATING_3'] * df['AMOUNT_ANNUITY']\n",
        "        \n",
        "        df['SALARY_REGION_POPULATION'] = df['TOTAL_SALARY'] * df['REGION_POPULATION']\n",
        "        df['SALARY_JOB'] = df['TOTAL_SALARY'] / df[\"DAYS_ON_LAST_JOB\"]\n",
        "        df['CREDIT_JOB'] = df['AMOUNT_CREDIT'] / df[\"DAYS_ON_LAST_JOB\"]\n",
        "        df['ANNUITY_JOB'] = df['AMOUNT_ANNUITY'] / df[\"DAYS_ON_LAST_JOB\"]\n",
        "        funcs = [\"min\", \"max\", \"mean\", \"nanmedian\", \"var\"]\n",
        "        for func in funcs:\n",
        "            df[f\"EXT_SCORES_{func}\"] = eval(\"np.{}\".format(func))(df[['EXTERNAL_SCORING_RATING_1',\n",
        "                                                                      'EXTERNAL_SCORING_RATING_2',\n",
        "                                                                      'EXTERNAL_SCORING_RATING_3']], axis=1)\n",
        "            \n",
        "        df[\"GRNDER_AGE_REQ_CREDIT_SUM\"] = df.groupby([\"GENDER\", \"AGE_BIN\", \"AMT_REQ_CREDIT_BUREAU_YEAR\"])[\"AMOUNT_CREDIT\"].transform(\"sum\")\n",
        "        df[\"GENDER_AGE_REQ_AMT\"] = df.groupby([\"GENDER\", \"AGE\"])[\"AMT_REQ_CREDIT_BUREAU_YEAR\"].transform(\"mean\")\n",
        "\n",
        "    if is_category_encode:\n",
        "        df, _ = get_encoded(df)\n",
        "    \n",
        "    df = reduce_memory_df(df)\n",
        "    df = data.merge(df, on=ID_COL, how='left')\n",
        "    df['NAME_CONTRACT_TYPE'] = df['NAME_CONTRACT_TYPE'].map({'Cash': 0, 'Credit Card': 1})\n",
        "\n",
        "    if dropna:\n",
        "        df.dropna(subset=df.columns.tolist()[3:], how='all', inplace=True) \n",
        "    # df.set_index(ID_COL, inplace=True)\n",
        "\n",
        "    return df"
      ],
      "id": "1c4b1bbe"
    },
    {
      "cell_type": "code",
      "source": [
        "def prepare_cp_sec(data: pd.DataFrame,\n",
        "                   dropna: bool = True,\n",
        "                   create_features: bool = False,\n",
        "                   is_category_encode: bool = False) -> pd.DataFrame:\n",
        "    df = pd.read_csv('client_profile.csv')\n",
        "    # fill missing values: 0 is reasonable\n",
        "    # df.fillna(0, inplace=True)\n",
        "\n",
        "    # deal with extreme outliers\n",
        "    df.loc[df['AMT_REQ_CREDIT_BUREAU_QRT'] > 50] = df.loc[df['AMT_REQ_CREDIT_BUREAU_QRT'] <= 50, 'AMT_REQ_CREDIT_BUREAU_QRT'].max() + 1\n",
        "    df.loc[df['DAYS_ON_LAST_JOB'] > 50000, 'DAYS_ON_LAST_JOB'] = 366\n",
        "    # df['DAYS_ON_LAST_JOB'] = df['DAYS_ON_LAST_JOB'].replace(365243, np.nan)\n",
        "    df.loc[df['TOTAL_SALARY'] > 1e+8, 'TOTAL_SALARY'] /= 1000.\n",
        "\n",
        "    # IQR mark\n",
        "    \"\"\"\n",
        "    df['IS_OUTLIER'] = 0\n",
        "    for column in df.select_dtypes(include=\"number\").columns:\n",
        "        q1, q3 = np.quantile(df[column], 0.25), np.quantile(df[column], 0.75)\n",
        "        iqr = q3 - q1\n",
        "        upper_bound = q3 + 1.5 * iqr\n",
        "        lower_bound = q1 - 1.5 * iqr\n",
        "        condition = ((df[column] > upper_bound) | (df[column] < lower_bound))\n",
        "        df.loc[condition, 'IS_OUTLIER'] = 1\n",
        "    \"\"\"\n",
        "\n",
        "    # transform categorical columns\n",
        "    df.loc[df['GENDER'] == 'XNA', 'GENDER'] = df['GENDER'].mode()[0]\n",
        "    df['GENDER'] = df['GENDER'].map({'F': 0, 'M': 1})\n",
        "    df.loc[df['FAMILY_STATUS'] == 'Unknown', 'FAMILY_STATUS'] = 'Civil marriage'\n",
        "\n",
        "    df['AGE'] = df['AGE'] / 365.25\n",
        "    df['AGE_BIN'] = pd.cut(df['AGE'], bins=np.linspace(18, 70, 10), labels=False) + 1\n",
        "\n",
        "    if create_features:\n",
        "        df['NEW_CREDIT_TO_ANNUITY_RATIO'] = df['AMOUNT_CREDIT'] / (df['AMOUNT_ANNUITY'] + 1)\n",
        "        df['NEW_STATUS'] = df['GENDER'].map({0: 'F', 1: 'M'}) + df['FAMILY_STATUS'].astype(str)\n",
        "        df[\"RATIO_ANNUITY_TO_AGE\"] = df[\"AMOUNT_ANNUITY\"] / df[\"AGE\"]\n",
        "        df[\"RATIO_CREDIT_TO_AGE\"] = df[\"AMOUNT_CREDIT\"] / df[\"AGE\"]\n",
        "        df[\"RATIO_SALARY_TO_AGE\"] = df[\"TOTAL_SALARY\"] / df[\"AGE\"]\n",
        "        df[\"RATIO_AGE_TO_EXPERIENCE\"] = df[\"AGE\"] / (df[\"DAYS_ON_LAST_JOB\"] / 365.25 + 1)\n",
        "        df[\"RATIO_CAR_TO_EXPERIENCE\"] = df[\"OWN_CAR_AGE\"] / (df[\"DAYS_ON_LAST_JOB\"] / 365.25 + 1)\n",
        "        df[\"RATIO_CAR_TO_AGE\"] = df[\"OWN_CAR_AGE\"] / df[\"AGE\"]\n",
        "        aggs = {\n",
        "            \"TOTAL_SALARY\": [\"mean\", \"max\", \"min\", \"count\"],\n",
        "            \"AMOUNT_CREDIT\": [\"mean\", \"max\", \"min\", \"count\"],\n",
        "            \"AMOUNT_ANNUITY\": [\"mean\", \"max\", \"min\", \"count\"]\n",
        "        }\n",
        "\n",
        "        stat = create_numerical_aggs(df, groupby_id=\"EDUCATION_LEVEL\", aggs=aggs, suffix=\"_BY_EDUCATION\")\n",
        "        df = df.merge(stat, on='EDUCATION_LEVEL', how='left')\n",
        "        df[\"TOTAL_SALARY_TO_MEAN_SALARY_BY_EDUCATION\"] = df[\"TOTAL_SALARY\"] / (df[\"TOTAL_SALARY_MEAN_BY_EDUCATION\"] + 1)\n",
        "        df[\"DELTA_SALARY_TO_MEAN_SALARY_BY_EDUCATION\"] = df[\"TOTAL_SALARY\"] - df[\"TOTAL_SALARY_MEAN_BY_EDUCATION\"]\n",
        "        df[\"RATIO_SALARY_TO_AMOUNT_CREDIT\"] = df[\"AMOUNT_CREDIT\"] / df[\"TOTAL_SALARY\"]\n",
        "        df[\"RATIO_SALARY_TO_AMOUNT_CREDIT_BY_FAMILY\"] = df[\"TOTAL_SALARY\"] / (\n",
        "                    df[\"AMOUNT_CREDIT\"] / (df[\"FAMILY_SIZE\"] + 1))\n",
        "        df[\"RATIO_AMOUNT_ANNUITY_TO_SALARY\"] = df[\"AMOUNT_ANNUITY\"] / (df[\"TOTAL_SALARY\"] + 1)  # redundant\n",
        "        df[\"RATIO_SALARY_TO_PER_FAMILY_SIZE\"] = df[\"TOTAL_SALARY\"] / (df[\"FAMILY_SIZE\"] + 1)\n",
        "        df[\"FLG_MORE_THAN_30PERCENT_FOR_CREDIT\"] = np.where(df[\"RATIO_AMOUNT_ANNUITY_TO_SALARY\"] > 0.3, 1, 0)\n",
        "        df[\"EDUCATION_FAMILY_STATUS\"] = df[\"EDUCATION_LEVEL\"].apply(str) + \" | \" + df[\"FAMILY_STATUS\"].apply(str)\n",
        "        stat = create_numerical_aggs(df, groupby_id=\"AGE_BIN\", aggs=aggs, suffix=\"_AGE_INTERVAL\")\n",
        "        df = df.merge(stat, on='AGE_BIN', how='left')\n",
        "        stat = create_numerical_aggs(df, groupby_id=\"FAMILY_STATUS\", aggs=aggs, suffix=\"_BY_FAMILY_STATUS\")\n",
        "        df = df.merge(stat, on='FAMILY_STATUS', how='left')\n",
        "\n",
        "        aggs = {\"NEW_CREDIT_TO_ANNUITY_RATIO\": [\"mean\"],\n",
        "                \"RATIO_SALARY_TO_AMOUNT_CREDIT\": [\"mean\"]}\n",
        "        stat = create_numerical_aggs(df, groupby_id=[\"GENDER\", \"AGE_BIN\"], aggs=aggs, suffix=\"_GENDER_AGE_BIN\")\n",
        "        df = df.merge(stat, on=[\"GENDER\", \"AGE_BIN\"], how='left')\n",
        "\n",
        "        df['EXTERNAL_SCORE_WEIGHTED'] = df['EXTERNAL_SCORING_RATING_1'] * 2 + df['EXTERNAL_SCORING_RATING_2'] + df[\n",
        "            'EXTERNAL_SCORING_RATING_3'] * 3\n",
        "\n",
        "        df['EXT_SCORE_1_AMT_CREDIT'] = df['EXTERNAL_SCORING_RATING_1'] * df['AMOUNT_CREDIT']\n",
        "        df['EXT_SCORE_2_AMT_CREDIT'] = df['EXTERNAL_SCORING_RATING_2'] * df['AMOUNT_CREDIT']\n",
        "        df['EXT_SCORE_3_AMT_CREDIT'] = df['EXTERNAL_SCORING_RATING_3'] * df['AMOUNT_CREDIT']\n",
        "\n",
        "        df['EXT_SCORE_1_ANNUITY'] = df['EXTERNAL_SCORING_RATING_1'] * df['AMOUNT_ANNUITY']\n",
        "        df['EXT_SCORE_2_ANNUITY'] = df['EXTERNAL_SCORING_RATING_2'] * df['AMOUNT_ANNUITY']\n",
        "        df['EXT_SCORE_3_ANNUITY'] = df['EXTERNAL_SCORING_RATING_3'] * df['AMOUNT_ANNUITY']\n",
        "\n",
        "        df['SALARY_REGION_POPULATION'] = df['TOTAL_SALARY'] * df['REGION_POPULATION']\n",
        "        df['SALARY_JOB'] = df['TOTAL_SALARY'] / (df[\"DAYS_ON_LAST_JOB\"] / 365.25 + 1)\n",
        "        df['CREDIT_JOB'] = df['AMOUNT_CREDIT'] / (df[\"DAYS_ON_LAST_JOB\"] / 365.25 + 1)\n",
        "        df['ANNUITY_JOB'] = df['AMOUNT_ANNUITY'] / (df[\"DAYS_ON_LAST_JOB\"] / 365.25 + 1)\n",
        "        funcs = [\"min\", \"max\", \"mean\", \"nanmedian\", \"var\"]\n",
        "        for func in funcs:\n",
        "            df[f\"EXT_SCORES_{func}\"] = eval(\"np.{}\".format(func))(df[['EXTERNAL_SCORING_RATING_1',\n",
        "                                                                      'EXTERNAL_SCORING_RATING_2',\n",
        "                                                                      'EXTERNAL_SCORING_RATING_3']], axis=1)\n",
        "\n",
        "    if is_category_encode:\n",
        "        df, _ = get_encoded(df)\n",
        "\n",
        "    # df = reduce_memory_df(df)\n",
        "    df = data.merge(df, on=ID_COL, how='left')\n",
        "    df['NAME_CONTRACT_TYPE'] = df['NAME_CONTRACT_TYPE'].map({'Cash': 0, 'Credit Card': 1})\n",
        "\n",
        "    if dropna:\n",
        "        df.dropna(subset=df.columns.tolist()[3:], how='all', inplace=True)\n",
        "        # df.set_index(ID_COL, inplace=True)\n",
        "\n",
        "    return df"
      ],
      "metadata": {
        "id": "a0evcRDsRx08"
      },
      "id": "a0evcRDsRx08",
      "execution_count": null,
      "outputs": []
    },
    {
      "cell_type": "code",
      "execution_count": null,
      "metadata": {
        "colab": {
          "base_uri": "https://localhost:8080/"
        },
        "id": "2a21634f",
        "outputId": "9a83c088-32fc-4bb7-bbc3-e7150d791e15"
      },
      "outputs": [
        {
          "output_type": "execute_result",
          "data": {
            "text/plain": [
              "(110093, 116)"
            ]
          },
          "metadata": {},
          "execution_count": 14
        }
      ],
      "source": [
        "data = pd.concat([train, test], axis=0)\n",
        "df = prepare_cp_sec(data, dropna=False, create_features=True, is_category_encode=False)\n",
        "\n",
        "df_cat_cols = [column for column in df.columns if df[column].dtype in [\"object\", \"category\"]]\n",
        "for col in df_cat_cols:\n",
        "    if df[col].nunique() > 20:\n",
        "        encoder = LabelEncoder()\n",
        "        df[col] = encoder.fit_transform(df[col].astype(str).fillna(\"NA\"))\n",
        "df, _ = get_encoded(df)\n",
        "\n",
        "data_border = len(data) - df[TARGET].isna().sum()\n",
        "data_train, data_test = df.iloc[:data_border, :], df.iloc[data_border:, :]\n",
        "X, y = data_train.drop(TARGET, axis=1), data_train[TARGET]\n",
        "X.shape"
      ],
      "id": "2a21634f"
    },
    {
      "cell_type": "code",
      "execution_count": null,
      "metadata": {
        "colab": {
          "base_uri": "https://localhost:8080/"
        },
        "id": "88d1a240",
        "outputId": "8a609840-177d-4ac5-afbd-7a70d3f2ec26"
      },
      "outputs": [
        {
          "output_type": "execute_result",
          "data": {
            "text/plain": [
              "(273131, 34)"
            ]
          },
          "metadata": {},
          "execution_count": 15
        }
      ],
      "source": [
        "bureau = bki_cr()\n",
        "bureau.shape"
      ],
      "id": "88d1a240"
    },
    {
      "cell_type": "code",
      "execution_count": null,
      "metadata": {
        "colab": {
          "base_uri": "https://localhost:8080/"
        },
        "id": "0e298e51",
        "outputId": "208ac4b6-a85a-4569-f837-059e41d2a1ee"
      },
      "outputs": [
        {
          "output_type": "execute_result",
          "data": {
            "text/plain": [
              "(110093, 149)"
            ]
          },
          "metadata": {},
          "execution_count": 16
        }
      ],
      "source": [
        "X = X.merge(bureau, on=ID_COL, how='left')\n",
        "#X = X.merge(df_train, on=ID_COL, how='left')\n",
        "X_index = X[ID_COL]\n",
        "X = X.drop(ID_COL, axis=1)\n",
        "X.shape"
      ],
      "id": "0e298e51"
    },
    {
      "cell_type": "code",
      "execution_count": null,
      "metadata": {
        "id": "se-t0I-M9Aar"
      },
      "outputs": [],
      "source": [
        "# X = X.drop(ID_COL, axis=1)"
      ],
      "id": "se-t0I-M9Aar"
    },
    {
      "cell_type": "code",
      "execution_count": null,
      "metadata": {
        "id": "984246ad"
      },
      "outputs": [],
      "source": [
        "data_test.drop(TARGET, axis=1, inplace=True)\n",
        "data_test = data_test.merge(bureau, on=ID_COL, how='left')\n",
        "#data_test = data_test.merge(df_test, on=ID_COL, how='left')\n",
        "test_index = data_test[ID_COL]\n",
        "data_test.drop(ID_COL, axis=1, inplace=True)"
      ],
      "id": "984246ad"
    },
    {
      "cell_type": "code",
      "execution_count": null,
      "metadata": {
        "id": "YPQwSIR0taUj"
      },
      "outputs": [],
      "source": [
        "x_train, x_test, y_train, y_test = train_test_split(X, y, test_size=0.2, random_state=seed)"
      ],
      "id": "YPQwSIR0taUj"
    },
    {
      "cell_type": "code",
      "execution_count": null,
      "metadata": {
        "colab": {
          "base_uri": "https://localhost:8080/"
        },
        "id": "ae55591e",
        "outputId": "37bf5634-7cef-46bc-8475-c4400882edf1"
      },
      "outputs": [
        {
          "output_type": "stream",
          "name": "stdout",
          "text": [
            "CV-score: 0.5006\n"
          ]
        }
      ],
      "source": [
        "################ check split equality ####################\n",
        "X_inspect = pd.concat([x_train, x_test], axis=0)\n",
        "y_inspect = np.hstack((np.ones(x_train.shape[0]), np.zeros(x_test.shape[0])))\n",
        "\n",
        "inspector = LGBMClassifier(max_depth=4, \n",
        "                           n_estimators=100,\n",
        "                           verbose=-1,\n",
        "                           is_unbalance=True,\n",
        "                           learning_rate=0.05,   \n",
        "                           random_seed=seed).fit(X_inspect, y_inspect)\n",
        "\n",
        "cv = cross_val_score(\n",
        "    estimator=inspector,\n",
        "    X=X_inspect, y=y_inspect,\n",
        "    scoring=\"roc_auc\",\n",
        "    cv=KFold(n_splits=5, shuffle=True, random_state=42)\n",
        ")\n",
        "\n",
        "print(f\"CV-score: {round(np.mean(cv), 4)}\")"
      ],
      "id": "ae55591e"
    },
    {
      "cell_type": "code",
      "execution_count": null,
      "metadata": {
        "id": "5c96ab44"
      },
      "outputs": [],
      "source": [
        "lgbm_params = {\n",
        "                'metric':\"auc\", \n",
        "                'boosting_type': 'goss',\n",
        "                'is_unbalance': True,\n",
        "                'n_estimators': 212, \n",
        "                'learning_rate': 0.01, \n",
        "                'min_child_weight': 350, \n",
        "                'min_split_gain': 0.024766,\n",
        "                'max_depth': 3,\n",
        "                'verbose': -1,\n",
        "                'reg_alpha': 30,\n",
        "                'reg_lambda': 30,\n",
        "                'colsample_bytree': 0.33,\n",
        "                'num_leaves': 42,\n",
        "                'subsample': 0.33,\n",
        "                'max_bin': 128,\n",
        "                'random_state': seed\n",
        "}"
      ],
      "id": "5c96ab44"
    },
    {
      "cell_type": "code",
      "execution_count": null,
      "metadata": {
        "colab": {
          "base_uri": "https://localhost:8080/",
          "height": 138,
          "referenced_widgets": [
            "8b1282acd7b54d18a56dbb3d933bf5a8",
            "02bb9538d82f41b68439f7c2d3adf4e9",
            "7a72339b435e45018cac5a5144d5a46d",
            "b8073e5f2c8442bcaceb0d381fbc7299",
            "a76d3b7e3e1945aea522b135a7e73ca4",
            "87fa1db0717a4efe9425f81d724d601e",
            "4a5f49dc1248430195fbd915babf526d",
            "7a5bd1d937a3481f806a6dabaa0200c1",
            "eba7abab6ab847aa932914d1f6d6d369",
            "4154f13d295d4008bfa5a9b18623bc90",
            "25c35bc672ea496bb9e5f1a02ccdd348"
          ]
        },
        "id": "ae8736ca",
        "outputId": "a0066c24-8b36-4a9d-9ee5-7d5af8ce7f45"
      },
      "outputs": [
        {
          "output_type": "stream",
          "name": "stdout",
          "text": [
            "Warning there are missing values in your data !\n"
          ]
        },
        {
          "output_type": "display_data",
          "data": {
            "text/plain": [
              "  0%|          | 0/20 [00:00<?, ?it/s]"
            ],
            "application/vnd.jupyter.widget-view+json": {
              "version_major": 2,
              "version_minor": 0,
              "model_id": "8b1282acd7b54d18a56dbb3d933bf5a8"
            }
          },
          "metadata": {}
        },
        {
          "output_type": "stream",
          "name": "stdout",
          "text": [
            "39 attributes confirmed important: ['ANNUITY_JOB', 'RATIO_SALARY_TO_AMOUNT_CREDIT_MEAN_GENDER_AGE_BIN', 'EDUCATION_FAMILY_STATUS', 'EXT_SCORES_var', 'NEW_CREDIT_TO_ANNUITY_RATIO_MEAN_GENDER_AGE_BIN', 'EXT_SCORES_mean', 'AMOUNT_ANNUITY_MEAN_BY_EDUCATION', 'EXTERNAL_SCORING_RATING_2', 'EXT_SCORE_1_ANNUITY', 'AMOUNT_ANNUITY_MIN_BY_EDUCATION', 'EXT_SCORE_3_AMT_CREDIT', 'EXTERNAL_SCORING_RATING_3', 'AMOUNT_CREDIT_MEAN_BY_EDUCATION', 'RATIO_CAR_TO_AGE', 'EXT_SCORE_3_ANNUITY', 'GENDER', 'DAYS_ON_LAST_JOB', 'EXTERNAL_SCORING_RATING_1', 'AGE_BIN', 'RATIO_AMOUNT_ANNUITY_TO_SALARY', 'TOTAL_SALARY_MEAN_BY_EDUCATION', 'EXTERNAL_SCORE_WEIGHTED', 'AGE', 'RATIO_CREDIT_TO_AGE', 'TOTAL_SALARY_MIN_BY_EDUCATION', 'NEW_CREDIT_TO_ANNUITY_RATIO', 'NAME_CONTRACT_TYPE', 'AMOUNT_ANNUITY', 'TOTAL_SALARY_MEAN_AGE_INTERVAL', 'OWN_CAR_AGE', 'AMT_REQ_CREDIT_BUREAU_YEAR', 'CREDIT_JOB', 'EXT_SCORES_max', 'EXT_SCORES_nanmedian', 'AMOUNT_CREDIT', 'RATIO_CAR_TO_EXPERIENCE', 'EXT_SCORES_min', 'RATIO_AGE_TO_EXPERIENCE', 'RATIO_ANNUITY_TO_AGE']\n",
            "90 attributes confirmed unimportant: ['BURO_AMT_CREDIT_SUM_OVERDUE_MEAN', 'AMT_REQ_CREDIT_BUREAU_QRT', 'BURO_CREDIT_TYPE_Real estate loan_MEAN', 'NEW_STATUS_FWidow', 'BURO_CREDIT_TYPE_Unknown type of loan_MEAN', 'BURO_AMT_CREDIT_MAX_OVERDUE_MEAN', 'AMOUNT_CREDIT_MEAN_BY_FAMILY_STATUS', 'FLAG_EMAIL', 'BURO_CREDIT_TYPE_nan_MEAN', 'BURO_CREDIT_TYPE_Another type of loan_MEAN', 'AMOUNT_CREDIT_MEAN_AGE_INTERVAL', 'ACTIVE_AMT_CREDIT_SUM_OVERDUE_MEAN', 'NEW_STATUS_FSingle / not married', 'BURO_CREDIT_TYPE_Cash loan (non-earmarked)_MEAN', 'EDUCATION_LEVEL_Lower secondary', 'AMT_REQ_CREDIT_BUREAU_WEEK', 'AMOUNT_CREDIT_MAX_BY_FAMILY_STATUS', 'AMT_REQ_CREDIT_BUREAU_DAY', 'EDUCATION_LEVEL_Incomplete higher', 'AMOUNT_CREDIT_COUNT_BY_EDUCATION', 'AMOUNT_ANNUITY_MAX_BY_FAMILY_STATUS', 'AMOUNT_ANNUITY_MEAN_AGE_INTERVAL', 'BURO_CREDIT_TYPE_Consumer credit_MEAN', 'BURO_CREDIT_CURRENCY_currency 1_MEAN', 'AMOUNT_CREDIT_MIN_BY_EDUCATION', 'NEW_STATUS_MMarried', 'CHILDRENS', 'REGION_POPULATION', 'ACTIVE_AMT_CREDIT_MAX_OVERDUE_MEAN', 'FAMILY_STATUS_Single / not married', 'AMOUNT_ANNUITY_COUNT_BY_FAMILY_STATUS', 'NEW_STATUS_FCivil marriage', 'BURO_CREDIT_ACTIVE_Sold_MEAN', 'AMT_REQ_CREDIT_BUREAU_MON', 'BURO_CREDIT_ACTIVE_Bad debt_MEAN', 'BURO_CREDIT_CURRENCY_nan_MEAN', 'TOTAL_SALARY_COUNT_BY_FAMILY_STATUS', 'FAMILY_STATUS_nan', 'RATIO_SALARY_TO_PER_FAMILY_SIZE', 'AMOUNT_CREDIT_MAX_AGE_INTERVAL', 'TOTAL_SALARY_MEAN_BY_FAMILY_STATUS', 'NEW_STATUS_nan', 'FLAG_PHONE', 'BURO_CREDIT_CURRENCY_currency 3_MEAN', 'BURO_CREDIT_TYPE_Loan for working capital replenishment_MEAN', 'NEW_STATUS_FSeparated', 'BURO_CREDIT_TYPE_Credit card_MEAN', 'AMOUNT_CREDIT_MIN_BY_FAMILY_STATUS', 'BURO_CREDIT_TYPE_Mobile operator loan_MEAN', 'CLOSED_CREDIT_DAY_OVERDUE_MEAN', 'NEW_STATUS_MSingle / not married', 'NEW_STATUS_MSeparated', 'BURO_CREDIT_ACTIVE_Active_MEAN', 'ACTIVE_CREDIT_DAY_OVERDUE_MEAN', 'NEW_STATUS_MCivil marriage', 'FAMILY_STATUS_Married', 'TOTAL_SALARY_MAX_BY_FAMILY_STATUS', 'BURO_CREDIT_CURRENCY_currency 4_MEAN', 'BURO_CREDIT_CURRENCY_currency 2_MEAN', 'BURO_CREDIT_ACTIVE_nan_MEAN', 'TOTAL_SALARY', 'FAMILY_SIZE', 'FAMILY_STATUS_Civil marriage', 'TOTAL_SALARY_TO_MEAN_SALARY_BY_EDUCATION', 'AMOUNT_CREDIT_COUNT_BY_FAMILY_STATUS', 'CLOSED_AMT_CREDIT_SUM_OVERDUE_MEAN', 'AMT_REQ_CREDIT_BUREAU_HOUR', 'BURO_CREDIT_TYPE_Microloan_MEAN', 'AMOUNT_ANNUITY_MAX_AGE_INTERVAL', 'BURO_CREDIT_TYPE_Loan for the purchase of equipment_MEAN', 'BURO_CREDIT_TYPE_Car loan_MEAN', 'BURO_CREDIT_TYPE_Loan for business development_MEAN', 'CLOSED_AMT_CREDIT_MAX_OVERDUE_MEAN', 'AMOUNT_ANNUITY_MEAN_BY_FAMILY_STATUS', 'EDUCATION_LEVEL_Academic degree', 'AMOUNT_ANNUITY_MIN_BY_FAMILY_STATUS', 'AMOUNT_ANNUITY_COUNT_AGE_INTERVAL', 'BURO_CREDIT_TYPE_Loan for purchase of shares (margin lending)_MEAN', 'FAMILY_STATUS_Separated', 'DELTA_SALARY_TO_MEAN_SALARY_BY_EDUCATION', 'FLG_MORE_THAN_30PERCENT_FOR_CREDIT', 'BURO_CREDIT_DAY_OVERDUE_MEAN', 'BURO_CREDIT_ACTIVE_Closed_MEAN', 'FAMILY_STATUS_Widow', 'EDUCATION_LEVEL_nan', 'BURO_CREDIT_TYPE_Mortgage_MEAN', 'TOTAL_SALARY_MIN_BY_FAMILY_STATUS', 'AMOUNT_CREDIT_MIN_AGE_INTERVAL', 'NEW_STATUS_MWidow', 'EDUCATION_LEVEL_Secondary / secondary special']\n",
            "20 tentative attributes remains: ['TOTAL_SALARY_COUNT_BY_EDUCATION', 'EXT_SCORE_1_AMT_CREDIT', 'SALARY_REGION_POPULATION', 'AMOUNT_ANNUITY_COUNT_BY_EDUCATION', 'NEW_STATUS_FMarried', 'TOTAL_SALARY_COUNT_AGE_INTERVAL', 'EXT_SCORE_2_ANNUITY', 'RATIO_SALARY_TO_AMOUNT_CREDIT_BY_FAMILY', 'RATIO_SALARY_TO_AGE', 'TOTAL_SALARY_MIN_AGE_INTERVAL', 'AMOUNT_ANNUITY_MIN_AGE_INTERVAL', 'SALARY_JOB', 'TOTAL_SALARY_MAX_BY_EDUCATION', 'AMOUNT_CREDIT_COUNT_AGE_INTERVAL', 'RATIO_SALARY_TO_AMOUNT_CREDIT', 'EXT_SCORE_2_AMT_CREDIT', 'AMOUNT_CREDIT_MAX_BY_EDUCATION', 'AMOUNT_ANNUITY_MAX_BY_EDUCATION', 'TOTAL_SALARY_MAX_AGE_INTERVAL', 'EDUCATION_LEVEL_Higher education']\n"
          ]
        }
      ],
      "source": [
        "selector = BorutaShap(model=LGBMClassifier(**lgbm_params), importance_measure='shap', classification=True)\n",
        "selector.fit(x_train, y_train, n_trials=20, sample=False, normalize=True, verbose=True)"
      ],
      "id": "ae8736ca"
    },
    {
      "cell_type": "code",
      "execution_count": null,
      "metadata": {
        "id": "0d764103"
      },
      "outputs": [],
      "source": [
        "borimp = ['ANNUITY_JOB', 'RATIO_SALARY_TO_AMOUNT_CREDIT_MEAN_GENDER_AGE_BIN', 'EDUCATION_FAMILY_STATUS', 'EXT_SCORES_var', \n",
        "          'NEW_CREDIT_TO_ANNUITY_RATIO_MEAN_GENDER_AGE_BIN', 'EXT_SCORES_mean', 'AMOUNT_ANNUITY_MEAN_BY_EDUCATION', \n",
        "          'EXTERNAL_SCORING_RATING_2', 'EXT_SCORE_1_ANNUITY', 'AMOUNT_ANNUITY_MIN_BY_EDUCATION', 'EXT_SCORE_3_AMT_CREDIT', \n",
        "          'EXTERNAL_SCORING_RATING_3', 'AMOUNT_CREDIT_MEAN_BY_EDUCATION', 'RATIO_CAR_TO_AGE', 'EXT_SCORE_3_ANNUITY', 'GENDER', \n",
        "          'DAYS_ON_LAST_JOB', 'EXTERNAL_SCORING_RATING_1', 'AGE_BIN', 'RATIO_AMOUNT_ANNUITY_TO_SALARY', \n",
        "          'TOTAL_SALARY_MEAN_BY_EDUCATION', 'EXTERNAL_SCORE_WEIGHTED', 'AGE', 'RATIO_CREDIT_TO_AGE', 'TOTAL_SALARY_MIN_BY_EDUCATION', \n",
        "          'NEW_CREDIT_TO_ANNUITY_RATIO', 'NAME_CONTRACT_TYPE', 'AMOUNT_ANNUITY', 'TOTAL_SALARY_MEAN_AGE_INTERVAL', \n",
        "          'OWN_CAR_AGE', 'AMT_REQ_CREDIT_BUREAU_YEAR', 'CREDIT_JOB', 'EXT_SCORES_max', 'EXT_SCORES_nanmedian', 'AMOUNT_CREDIT', \n",
        "          'RATIO_CAR_TO_EXPERIENCE', 'EXT_SCORES_min', 'RATIO_AGE_TO_EXPERIENCE', 'RATIO_ANNUITY_TO_AGE',\n",
        "          #'TOTAL_SALARY_COUNT_BY_EDUCATION', 'EXT_SCORE_1_AMT_CREDIT', 'SALARY_REGION_POPULATION', 'AMOUNT_ANNUITY_COUNT_BY_EDUCATION', 'NEW_STATUS_FMarried', 'TOTAL_SALARY_COUNT_AGE_INTERVAL', 'EXT_SCORE_2_ANNUITY', 'RATIO_SALARY_TO_AMOUNT_CREDIT_BY_FAMILY', 'RATIO_SALARY_TO_AGE', 'TOTAL_SALARY_MIN_AGE_INTERVAL', 'AMOUNT_ANNUITY_MIN_AGE_INTERVAL', 'SALARY_JOB', 'TOTAL_SALARY_MAX_BY_EDUCATION', 'AMOUNT_CREDIT_COUNT_AGE_INTERVAL', 'RATIO_SALARY_TO_AMOUNT_CREDIT', 'EXT_SCORE_2_AMT_CREDIT', 'AMOUNT_CREDIT_MAX_BY_EDUCATION', 'AMOUNT_ANNUITY_MAX_BY_EDUCATION', 'TOTAL_SALARY_MAX_AGE_INTERVAL', 'EDUCATION_LEVEL_Higher education'\n",
        "          ]"
      ],
      "id": "0d764103"
    },
    {
      "cell_type": "code",
      "execution_count": null,
      "metadata": {
        "colab": {
          "base_uri": "https://localhost:8080/"
        },
        "id": "Ghzk1MyzIDxH",
        "outputId": "81f8cde5-f0e8-438f-f64b-7354ccb25d41"
      },
      "outputs": [
        {
          "name": "stderr",
          "output_type": "stream",
          "text": [
            "100%|██████████| 117/117 [00:31<00:00,  3.68it/s]\n"
          ]
        }
      ],
      "source": [
        "scores, deltas = calculate_permutation_importance(estimator=LGBMClassifier(**lgbm_params).fit(x_train, y_train), x_valid=x_test, y_valid=y_test,\n",
        "                                 probas=True, metric=roc_auc_score)"
      ],
      "id": "Ghzk1MyzIDxH"
    },
    {
      "cell_type": "code",
      "execution_count": null,
      "metadata": {
        "id": "Eh2Pkdc5JYsk"
      },
      "outputs": [],
      "source": [
        "deltas = deltas[deltas>0].index.tolist()"
      ],
      "id": "Eh2Pkdc5JYsk"
    },
    {
      "cell_type": "code",
      "execution_count": null,
      "metadata": {
        "id": "a8884e0d"
      },
      "outputs": [],
      "source": [
        "from sklearn.base import BaseEstimator, TransformerMixin\n",
        "from itertools import combinations\n",
        "\n",
        "class BestSet(BaseEstimator, TransformerMixin):\n",
        "    def __init__(self, model, k_features=10, scoring=\"roc_auc\"):\n",
        "        self.scoring = scoring\n",
        "        self.k_features = k_features\n",
        "        self.model = model\n",
        "\n",
        "    def fit(self, X, y):\n",
        "        dim = X.shape[1]\n",
        "        self.indices_ = tuple(range(dim))\n",
        "        self.subsets_ = [self.indices_]\n",
        "        score = self._calc_score(X, y, self.indices_)\n",
        "        self.scores_ = [score]\n",
        "\n",
        "        while dim > self.k_features:\n",
        "            scores, subsets = [], []\n",
        "            for p in tqdm(combinations(self.indices_, r=dim-1), total=dim, leave=False):\n",
        "                score = self._calc_score(X, y, p)\n",
        "                scores.append(score)\n",
        "                subsets.append(p)\n",
        "            best = np.argmax(scores)\n",
        "            self.indices_ = subsets[best]\n",
        "            self.subsets_.append(self.indices_)\n",
        "            dim -= 1\n",
        "            self.scores_.append(scores[best])\n",
        "        return self\n",
        "    def transform(self, X):\n",
        "        best_indices = list(self.subsets_[np.argmax(self.scores_)])\n",
        "        return X.iloc[:, best_indices]\n",
        "\n",
        "    def _calc_score(self, X, y, indices):\n",
        "        fold = KFold(n_splits=5, shuffle=True, random_state=seed)\n",
        "        scores = cross_val_score(\n",
        "                                 estimator=self.model,\n",
        "                                 X=X.iloc[:, list(indices)], \n",
        "                                 y=y, \n",
        "                                 cv=fold, \n",
        "                                 scoring=self.scoring,\n",
        "                                 n_jobs=-1\n",
        "                                 )\n",
        "        score = np.mean(scores)\n",
        "        return score"
      ],
      "id": "a8884e0d"
    },
    {
      "cell_type": "code",
      "execution_count": null,
      "metadata": {
        "id": "ad0ae0f3",
        "outputId": "3605071e-5194-43cf-e7f1-a02ff9079532",
        "colab": {
          "base_uri": "https://localhost:8080/"
        }
      },
      "outputs": [
        {
          "output_type": "stream",
          "name": "stderr",
          "text": []
        }
      ],
      "source": [
        "best_selector = BestSet(model=LGBMClassifier(**lgbm_params), k_features=15).fit(X[boruta], y)"
      ],
      "id": "ad0ae0f3"
    },
    {
      "cell_type": "code",
      "execution_count": null,
      "metadata": {
        "id": "5b20dfd3",
        "colab": {
          "base_uri": "https://localhost:8080/"
        },
        "outputId": "7da2bbb2-8133-4fee-ab84-ba303b034676"
      },
      "outputs": [
        {
          "output_type": "execute_result",
          "data": {
            "text/plain": [
              "(0.7178938377058642,\n",
              " Index(['EXT_SCORES_mean', 'TOTAL_SALARY_MEAN_BY_EDUCATION',\n",
              "        'EXT_SCORE_3_AMT_CREDIT',\n",
              "        'NEW_CREDIT_TO_ANNUITY_RATIO_MEAN_GENDER_AGE_BIN',\n",
              "        'RATIO_SALARY_TO_AMOUNT_CREDIT_MEAN_GENDER_AGE_BIN', 'CREDIT_JOB',\n",
              "        'EXT_SCORES_var', 'TOTAL_SALARY_MEAN_AGE_INTERVAL', 'AGE',\n",
              "        'AMOUNT_ANNUITY_MIN_BY_EDUCATION', 'OWN_CAR_AGE', 'RATIO_CREDIT_TO_AGE',\n",
              "        'RATIO_AGE_TO_EXPERIENCE', 'NAME_CONTRACT_TYPE', 'GENDER',\n",
              "        'EXT_SCORE_1_AMT_CREDIT', 'RATIO_CAR_TO_AGE', 'EXT_SCORE_1_ANNUITY',\n",
              "        'NEW_CREDIT_TO_ANNUITY_RATIO', 'RATIO_ANNUITY_TO_AGE'],\n",
              "       dtype='object'))"
            ]
          },
          "metadata": {},
          "execution_count": 46
        }
      ],
      "source": [
        "max(best_selector.scores_), X[boruta].columns[list(best_selector.subsets_[np.argmax(best_selector.scores_)])]"
      ],
      "id": "5b20dfd3"
    },
    {
      "cell_type": "code",
      "execution_count": null,
      "metadata": {
        "id": "502f4aa9"
      },
      "outputs": [],
      "source": [
        "boruta_selected = ['RATIO_AMOUNT_ANNUITY_TO_SALARY', 'TOTAL_SALARY_MIN_BY_EDUCATION',\n",
        "                   'ANNUITY_JOB', 'DAYS_ON_LAST_JOB', 'TOTAL_SALARY_MEAN_AGE_INTERVAL',\n",
        "                   'AMOUNT_CREDIT_MEAN_BY_EDUCATION', 'EXTERNAL_SCORING_RATING_2',\n",
        "                   'NAME_CONTRACT_TYPE', 'EXTERNAL_SCORING_RATING_3',\n",
        "                   'NEW_CREDIT_TO_ANNUITY_RATIO', 'EXTERNAL_SCORING_RATING_1', 'AGE_BIN',\n",
        "                   'AMOUNT_ANNUITY_MEAN_BY_EDUCATION', 'NEW_STATUS', 'AMOUNT_CREDIT',\n",
        "                   'OWN_CAR_AGE', 'REGION_POPULATION', 'TOTAL_SALARY_MAX_BY_EDUCATION',\n",
        "                   'RATIO_SALARY_TO_AGE', 'RATIO_SALARY_TO_AMOUNT_CREDIT',\n",
        "                   'TOTAL_SALARY_COUNT_AGE_INTERVAL',\n",
        "                   'RATIO_SALARY_TO_AMOUNT_CREDIT_BY_FAMILY']\n",
        "\n",
        "selected = ['EXT_SCORES_mean', 'TOTAL_SALARY_MEAN_BY_EDUCATION',\n",
        "        'EXT_SCORE_3_AMT_CREDIT',\n",
        "        'NEW_CREDIT_TO_ANNUITY_RATIO_MEAN_GENDER_AGE_BIN',\n",
        "        'RATIO_SALARY_TO_AMOUNT_CREDIT_MEAN_GENDER_AGE_BIN', 'CREDIT_JOB',\n",
        "        'EXT_SCORES_var', 'TOTAL_SALARY_MEAN_AGE_INTERVAL', 'AGE',\n",
        "        'AMOUNT_ANNUITY_MIN_BY_EDUCATION', 'OWN_CAR_AGE', 'RATIO_CREDIT_TO_AGE',\n",
        "        'RATIO_AGE_TO_EXPERIENCE', 'NAME_CONTRACT_TYPE', 'GENDER',\n",
        "        'EXT_SCORE_1_AMT_CREDIT', 'RATIO_CAR_TO_AGE', 'EXT_SCORE_1_ANNUITY',\n",
        "        'NEW_CREDIT_TO_ANNUITY_RATIO', 'RATIO_ANNUITY_TO_AGE']"
      ],
      "id": "502f4aa9"
    },
    {
      "cell_type": "code",
      "execution_count": null,
      "metadata": {
        "id": "c808144a"
      },
      "outputs": [],
      "source": [
        "cat_boruta_cols = [column for column in X[borimp].columns if X[column].dtype == \"category\"]\n",
        "cat_boruta_scols = [column for column in X[boruta_selected].columns if X[column].dtype == \"category\"]"
      ],
      "id": "c808144a"
    },
    {
      "cell_type": "code",
      "execution_count": null,
      "metadata": {
        "id": "6ee859ac"
      },
      "outputs": [],
      "source": [
        "# model 1: cp + bki + hist boruta selected\n",
        "params = {\n",
        "    'metric': 'auc',\n",
        "    'boosting_type': 'goss',\n",
        "    'n_estimators': 750,\n",
        "    'learning_rate': 0.005134,\n",
        "    'num_leaves': 54,\n",
        "    'max_depth': 10,\n",
        "    'subsample_for_bin': 240000,\n",
        "    'reg_alpha': 0.436193,\n",
        "    'reg_lambda': 0.479169,\n",
        "    'colsample_bytree': 0.508716,\n",
        "    'min_split_gain': 0.024766,\n",
        "    'subsample': 0.7,\n",
        "    'is_unbalance': False,\n",
        "    'random_state': 42,\n",
        "    'silent': -1,\n",
        "}"
      ],
      "id": "6ee859ac"
    },
    {
      "cell_type": "code",
      "source": [
        "# 0.73211\n",
        "lgbm_params_my = {\n",
        "    'metric':\"auc\", \n",
        "    'boosting_type': 'gbdt',\n",
        "    'n_estimators': 1000,\n",
        "    'learning_rate': 0.05,\n",
        "    'num_leaves': 42,\n",
        "    'max_depth': 10,\n",
        "    'reg_alpha': 0.05,\n",
        "    'reg_lambda': 0.06,\n",
        "    'subsample': 0.8,\n",
        "    'min_child_weight': 60,\n",
        "    'random_state': seed\n",
        "}\n",
        "\n",
        "estimators_lgbm, oof_preds_lgbm = lightgbm_cross_validation(lgbm_params_my, \n",
        "                                                            X[borimp], \n",
        "                                                            y, \n",
        "                                                            cv=KFold(n_splits=5, random_state=seed,\n",
        "                                                            shuffle=True), \n",
        "                                                            rounds=50)\n",
        "\n",
        "error_index = y[(np.abs(y - oof_preds_lgbm) < 0.9)].index\n",
        "# X.loc[error_index, borimp]"
      ],
      "metadata": {
        "colab": {
          "base_uri": "https://localhost:8080/"
        },
        "id": "A6_4oPLwYnxp",
        "outputId": "725f2a5d-d0fa-4cda-d87d-088fd4df0be9"
      },
      "id": "A6_4oPLwYnxp",
      "execution_count": null,
      "outputs": [
        {
          "output_type": "stream",
          "name": "stdout",
          "text": [
            "Tue Aug 30 19:19:07 2022, Cross-Validation, 110093 rows, 39 cols\n",
            "Fold 1, Train score = 0.76741, Valid score = 0.74076\n",
            "Fold 2, Train score = 0.77913, Valid score = 0.72177\n",
            "Fold 3, Train score = 0.77264, Valid score = 0.72945\n",
            "Fold 4, Train score = 0.78826, Valid score = 0.73103\n",
            "Fold 5, Train score = 0.78743, Valid score = 0.71534\n",
            "Train score by each fold: [0.76741, 0.77913, 0.77264, 0.78826, 0.78743]\n",
            "Valid score by each fold: [0.74076, 0.72177, 0.72945, 0.73103, 0.71534]\n",
            "Train mean score by each fold:0.77897 +/- 0.00814\n",
            "Valid mean score by each fold:0.72767 +/- 0.00863\n",
            "**************************************************\n",
            "OOF-score: 0.72665\n"
          ]
        }
      ]
    },
    {
      "cell_type": "code",
      "execution_count": null,
      "metadata": {
        "colab": {
          "base_uri": "https://localhost:8080/"
        },
        "id": "WAigN21DStdM",
        "outputId": "e7bfbc2c-2fb1-4893-a2a3-f01de7ced7f2"
      },
      "outputs": [
        {
          "output_type": "stream",
          "name": "stdout",
          "text": [
            "Tue Aug 30 19:19:58 2022, Cross-Validation, 105484 rows, 39 cols\n",
            "Fold 1, Train score = 0.95982, Valid score = 0.92733\n",
            "Fold 2, Train score = 0.95855, Valid score = 0.93184\n",
            "Fold 3, Train score = 0.95925, Valid score = 0.92941\n",
            "Fold 4, Train score = 0.95462, Valid score = 0.93098\n",
            "Fold 5, Train score = 0.95828, Valid score = 0.92863\n",
            "Train score by each fold: [0.95982, 0.95855, 0.95925, 0.95462, 0.95828]\n",
            "Valid score by each fold: [0.92733, 0.93184, 0.92941, 0.93098, 0.92863]\n",
            "Train mean score by each fold:0.95810 +/- 0.00182\n",
            "Valid mean score by each fold:0.92964 +/- 0.00162\n",
            "**************************************************\n",
            "OOF-score: 0.92955\n"
          ]
        }
      ],
      "source": [
        "# 0.73211\n",
        "lgbm_params_my = {\n",
        "    'metric':\"auc\", \n",
        "    'boosting_type': 'gbdt',\n",
        "    'n_estimators': 1000,\n",
        "    'learning_rate': 0.05,\n",
        "    'num_leaves': 42,\n",
        "    'max_depth': 10,\n",
        "    'reg_alpha': 0.05,\n",
        "    'reg_lambda': 0.06,\n",
        "    'subsample': 0.8,\n",
        "    'min_child_weight': 60,\n",
        "    'random_state': seed\n",
        "}\n",
        "\n",
        "estimators_lgbm, oof_preds_lgbm = lightgbm_cross_validation(lgbm_params_my, \n",
        "                                                            X.loc[error_index, borimp].reset_index(drop=True), \n",
        "                                                            y.loc[error_index].reset_index(drop=True), \n",
        "                                                            cv=KFold(n_splits=5, random_state=seed,\n",
        "                                                            shuffle=True), \n",
        "                                                            rounds=50)"
      ],
      "id": "WAigN21DStdM"
    },
    {
      "cell_type": "code",
      "execution_count": null,
      "metadata": {
        "id": "xkZUC8I983IW"
      },
      "outputs": [],
      "source": [
        "calculate_confidence_interval(create_bootstrap_metrics(y, oof_preds_lgbm, roc_auc_score))"
      ],
      "id": "xkZUC8I983IW"
    },
    {
      "cell_type": "code",
      "execution_count": null,
      "metadata": {
        "colab": {
          "base_uri": "https://localhost:8080/"
        },
        "id": "BS8dnJxr-fmb",
        "outputId": "bc0a34cf-0f67-447c-ab1d-8503410492b3"
      },
      "outputs": [
        {
          "output_type": "stream",
          "name": "stdout",
          "text": [
            "AMean score: 0.95494\n",
            "GMean score: 0.95416\n",
            "Rank  score: 0.95407\n",
            "GMean  rank: 0.95398\n"
          ]
        }
      ],
      "source": [
        "preds = pd.DataFrame(data=np.array([model.predict_proba(X.loc[error_index, borimp])[:,1] for model in estimators_lgbm]).T)\n",
        "mean_scores(preds, y.loc[error_index])"
      ],
      "id": "BS8dnJxr-fmb"
    },
    {
      "cell_type": "code",
      "execution_count": null,
      "metadata": {
        "colab": {
          "base_uri": "https://localhost:8080/"
        },
        "id": "BCKt2oQX2i9a",
        "outputId": "53a2175c-db2d-40a3-c7c9-7126a34d863d"
      },
      "outputs": [
        {
          "output_type": "stream",
          "name": "stdout",
          "text": [
            "100% 4.93M/4.93M [00:02<00:00, 2.46MB/s]\n",
            "400 - Bad Request\n"
          ]
        }
      ],
      "source": [
        "test_preds = np.array([model.predict_proba(data_test[borimp])[:,1] for model in estimators_lgbm]).T\n",
        "# test_preds = stats.gmean(test_preds, axis=1)\n",
        "test_preds = np.mean(test_preds, axis=1)\n",
        "test_preds = pd.DataFrame({ID_COL: test_index, TARGET: test_preds})\n",
        "test_preds.to_csv('submission.csv', index=False)\n",
        "!kaggle competitions submit -c geekbrains-competitive-data-analysis -f submission.csv -m \"Message\""
      ],
      "id": "BCKt2oQX2i9a"
    },
    {
      "cell_type": "code",
      "execution_count": null,
      "metadata": {
        "colab": {
          "base_uri": "https://localhost:8080/"
        },
        "id": "IJ5hviSqzziU",
        "outputId": "ded45331-6bdc-422b-922b-a6ad17bd257b"
      },
      "outputs": [
        {
          "name": "stdout",
          "output_type": "stream",
          "text": [
            "0.8529762399706385 0.7314464352154593\n"
          ]
        }
      ],
      "source": [
        "lgbm = LGBMClassifier(**lgbm_params_).fit(x_train, y_train)\n",
        "\n",
        "trainroc = roc_auc_score(y_train, lgbm.predict_proba(x_train)[:,1])\n",
        "testroc = roc_auc_score(y_test, lgbm.predict_proba(x_test)[:,1])\n",
        "print(trainroc, testroc)"
      ],
      "id": "IJ5hviSqzziU"
    },
    {
      "cell_type": "code",
      "execution_count": null,
      "metadata": {
        "id": "5Bw4dXzRVJNW"
      },
      "outputs": [],
      "source": [
        "imp = pd.DataFrame({'col': x_train.columns.tolist(), 'imp': lgbm.feature_importances_}).sort_values('imp', ascending=False)\n",
        "imp"
      ],
      "id": "5Bw4dXzRVJNW"
    },
    {
      "cell_type": "code",
      "execution_count": null,
      "metadata": {
        "colab": {
          "base_uri": "https://localhost:8080/"
        },
        "id": "2e37a951",
        "outputId": "c08b7530-062f-4015-c7a1-11aa115f0052"
      },
      "outputs": [
        {
          "data": {
            "text/plain": [
              "(0.7279158479455375, 0.7607449960927233)"
            ]
          },
          "execution_count": 41,
          "metadata": {},
          "output_type": "execute_result"
        }
      ],
      "source": [
        "calculate_confidence_interval(create_bootstrap_metrics(y_test, lgbm.predict_proba(x_test)[:,1], roc_auc_score))"
      ],
      "id": "2e37a951"
    },
    {
      "cell_type": "code",
      "execution_count": null,
      "metadata": {
        "id": "UkSrjg9R9uOa"
      },
      "outputs": [],
      "source": [],
      "id": "UkSrjg9R9uOa"
    },
    {
      "cell_type": "code",
      "execution_count": null,
      "metadata": {
        "id": "3eb13715"
      },
      "outputs": [],
      "source": [
        "model1_test_preds = np.array([estimator.predict_proba(data_test[borimp])[:,1] for estimator in model1_estimators]).T\n",
        "model1_test_preds = np.mean(model1_test_preds, axis=1)"
      ],
      "id": "3eb13715"
    },
    {
      "cell_type": "code",
      "execution_count": null,
      "metadata": {
        "id": "u0wvjTJh_957"
      },
      "outputs": [],
      "source": [
        "from catboost import CatBoostClassifier"
      ],
      "id": "u0wvjTJh_957"
    },
    {
      "cell_type": "code",
      "execution_count": null,
      "metadata": {
        "id": "_eI1pIJ-BA8C"
      },
      "outputs": [],
      "source": [
        "# cat X\n"
      ],
      "id": "_eI1pIJ-BA8C"
    },
    {
      "cell_type": "code",
      "execution_count": null,
      "metadata": {
        "colab": {
          "base_uri": "https://localhost:8080/"
        },
        "id": "b5bd2de8",
        "outputId": "4d502f54-41ea-44f9-98a7-f83bc0d2aa72"
      },
      "outputs": [
        {
          "name": "stdout",
          "output_type": "stream",
          "text": [
            "Thu Aug 25 13:17:56 2022, Cross-Validation, 110093 rows, 42 cols\n",
            "Fold 1, Train score = 0.76299, Valid score = 0.74430\n",
            "Fold 2, Train score = 0.75774, Valid score = 0.72518\n",
            "Fold 3, Train score = 0.75361, Valid score = 0.72841\n",
            "Fold 4, Train score = 0.76977, Valid score = 0.73322\n",
            "Fold 5, Train score = 0.75777, Valid score = 0.71800\n",
            "Train score by each fold: [0.76299, 0.75774, 0.75361, 0.76977, 0.75777]\n",
            "Valid score by each fold: [0.7443, 0.72518, 0.72841, 0.73322, 0.718]\n",
            "Train mean score by each fold:0.76038 +/- 0.00556\n",
            "Valid mean score by each fold:0.72982 +/- 0.00877\n",
            "**************************************************\n",
            "OOF-score: 0.72902\n"
          ]
        }
      ],
      "source": [
        "# 0.72989\n",
        "cat_params = {\n",
        "                'silent': True,  \n",
        "                'one_hot_max_size': 2,  \n",
        "                'iterations': 1000, \n",
        "                'eval_metric': 'AUC',  \n",
        "                'allow_writing_files': False,  \n",
        "                'random_seed': seed,  \n",
        "                #'auto_class_weights': 'SqrtBalanced',  \n",
        "                'grow_policy': 'SymmetricTree', \n",
        "                'objective': 'Logloss',  \n",
        "                'boosting_type': 'Ordered', \n",
        "                'score_function': 'Cosine',  \n",
        "                'bootstrap_type': 'MVS',  \n",
        "                'bagging_temperature': 3.68,  \n",
        "                'colsample_bylevel': 0.839,  \n",
        "                'depth': 6, \n",
        "                'l2_leaf_reg': 3,  \n",
        "                'learning_rate': 0.05, \n",
        "                'max_ctr_complexity': 2, \n",
        "                'subsample': 0.86,  \n",
        "                'max_bin': 254,  \n",
        "}\n",
        "cat_cols = [column for column in X.columns if X[column].dtype in [\"object\", \"category\"]]\n",
        "X2 = X.copy(deep=True)\n",
        "#X2[cat_boruta_scols] = X2[cat_boruta_scols].astype(\"object\")\n",
        "#X2[cat_boruta_scols] = X2[cat_boruta_scols].fillna(\"None\")\n",
        "#X2[cat_boruta_scols] = X2[cat_boruta_scols].astype(\"category\")\n",
        "\n",
        "estimators_cat, oof_preds_cat = catboost_cross_validation(cat_params, X[boruta], y, cv=KFold(n_splits=5, random_state=seed,\n",
        "                                                                                             shuffle=True), rounds=50)"
      ],
      "id": "b5bd2de8"
    },
    {
      "cell_type": "code",
      "execution_count": null,
      "metadata": {
        "colab": {
          "base_uri": "https://localhost:8080/"
        },
        "id": "4O4YFu2vMK1t",
        "outputId": "b6ad6687-d215-4823-fae3-e6084bf67940"
      },
      "outputs": [
        {
          "name": "stdout",
          "output_type": "stream",
          "text": [
            "AMean score: 0.75688\n",
            "GMean score: 0.75623\n",
            "Rank  score: 0.75607\n",
            "GMean  rank: 0.75554\n"
          ]
        }
      ],
      "source": [
        "preds = pd.DataFrame(data=np.array([model.predict_proba(X[boruta])[:,1] for model in estimators_cat]).T)\n",
        "mean_scores(preds, y)"
      ],
      "id": "4O4YFu2vMK1t"
    },
    {
      "cell_type": "code",
      "execution_count": null,
      "metadata": {
        "colab": {
          "base_uri": "https://localhost:8080/"
        },
        "id": "NFv35fZfQQ9t",
        "outputId": "1a75c543-642c-4d11-ee3d-19dd59039adc"
      },
      "outputs": [
        {
          "data": {
            "text/plain": [
              "(0.7237128908220349, 0.7340458046989323)"
            ]
          },
          "execution_count": 124,
          "metadata": {},
          "output_type": "execute_result"
        }
      ],
      "source": [
        "calculate_confidence_interval(create_bootstrap_metrics(y, oof_preds_cat, roc_auc_score))"
      ],
      "id": "NFv35fZfQQ9t"
    },
    {
      "cell_type": "code",
      "execution_count": null,
      "metadata": {
        "colab": {
          "base_uri": "https://localhost:8080/"
        },
        "id": "71TS7cBGN8Jg",
        "outputId": "e1ed5d1e-9d1a-4116-a631-14b72f52c619"
      },
      "outputs": [
        {
          "name": "stdout",
          "output_type": "stream",
          "text": [
            "\n",
            "Optimized weights:\n",
            "Best score: 0.7633\n"
          ]
        }
      ],
      "source": [
        "from scipy.optimize import minimize\n",
        "\n",
        "results_list = []   \n",
        "weights_list = []  \n",
        "preds_two = preds.values\n",
        "\n",
        "def weights_objective(weights):\n",
        "    y_ens = np.average(preds_two, axis=1, weights=weights)\n",
        "    return roc_auc_score(y, y_ens)\n",
        "\n",
        "for _ in range(100):\n",
        "  \n",
        "    w0 = np.random.uniform(size=preds_two.shape[1])\n",
        "    bounds = [(0,1)] * preds_two.shape[1]\n",
        "\n",
        "    cons = [{'type': 'eq',\n",
        "             'fun': lambda w: w.sum() - 1}]\n",
        "\n",
        "    res = minimize(weights_objective,\n",
        "                   w0,\n",
        "                   method='SLSQP',\n",
        "                   bounds=bounds,\n",
        "                   options={'disp':False, 'maxiter':10000},\n",
        "                   constraints=cons)\n",
        "\n",
        "    results_list.append(res.fun)\n",
        "    weights_list.append(res.x)\n",
        "\n",
        "best_score = np.max(results_list)    \n",
        "best_weights = weights_list[results_list.index(best_score)]\n",
        "\n",
        "print('\\nOptimized weights:')\n",
        "print('Best score: {:.4f}'.format(best_score))"
      ],
      "id": "71TS7cBGN8Jg"
    },
    {
      "cell_type": "code",
      "execution_count": null,
      "metadata": {
        "colab": {
          "base_uri": "https://localhost:8080/"
        },
        "id": "a_ZlCgc2L3Sr",
        "outputId": "54d63395-182c-4fbe-cd92-7906f390db74"
      },
      "outputs": [
        {
          "name": "stdout",
          "output_type": "stream",
          "text": [
            "100% 4.74M/4.74M [00:00<00:00, 17.7MB/s]\n",
            "Successfully submitted to GeekBrains Competitive Data Analysis"
          ]
        }
      ],
      "source": [
        "test_preds = np.array([model.predict_proba(data_test[boruta])[:,1] for model in estimators_cat])\n",
        "test_preds = pd.DataFrame({ID_COL: test_index, TARGET: test_preds.T.mean(axis=1)})  # 0.72940\n",
        "test_preds.to_csv('submission.csv', index=False)\n",
        "!kaggle competitions submit -c geekbrains-competitive-data-analysis -f submission.csv -m \"Message\""
      ],
      "id": "a_ZlCgc2L3Sr"
    },
    {
      "cell_type": "code",
      "execution_count": null,
      "metadata": {
        "colab": {
          "base_uri": "https://localhost:8080/",
          "height": 112
        },
        "id": "ycL3XmlNZSh6",
        "outputId": "b682be1a-3e20-4046-c771-a6b5fdbcd84a"
      },
      "outputs": [
        {
          "data": {
            "text/html": [
              "\n",
              "  <div id=\"df-b422b217-6472-4f5c-8587-97d86e94e89b\">\n",
              "    <div class=\"colab-df-container\">\n",
              "      <div>\n",
              "<style scoped>\n",
              "    .dataframe tbody tr th:only-of-type {\n",
              "        vertical-align: middle;\n",
              "    }\n",
              "\n",
              "    .dataframe tbody tr th {\n",
              "        vertical-align: top;\n",
              "    }\n",
              "\n",
              "    .dataframe thead th {\n",
              "        text-align: right;\n",
              "    }\n",
              "</style>\n",
              "<table border=\"1\" class=\"dataframe\">\n",
              "  <thead>\n",
              "    <tr style=\"text-align: right;\">\n",
              "      <th></th>\n",
              "      <th>oof1</th>\n",
              "      <th>oof2</th>\n",
              "    </tr>\n",
              "  </thead>\n",
              "  <tbody>\n",
              "    <tr>\n",
              "      <th>oof1</th>\n",
              "      <td>1.0000</td>\n",
              "      <td>0.9565</td>\n",
              "    </tr>\n",
              "    <tr>\n",
              "      <th>oof2</th>\n",
              "      <td>0.9565</td>\n",
              "      <td>1.0000</td>\n",
              "    </tr>\n",
              "  </tbody>\n",
              "</table>\n",
              "</div>\n",
              "      <button class=\"colab-df-convert\" onclick=\"convertToInteractive('df-b422b217-6472-4f5c-8587-97d86e94e89b')\"\n",
              "              title=\"Convert this dataframe to an interactive table.\"\n",
              "              style=\"display:none;\">\n",
              "        \n",
              "  <svg xmlns=\"http://www.w3.org/2000/svg\" height=\"24px\"viewBox=\"0 0 24 24\"\n",
              "       width=\"24px\">\n",
              "    <path d=\"M0 0h24v24H0V0z\" fill=\"none\"/>\n",
              "    <path d=\"M18.56 5.44l.94 2.06.94-2.06 2.06-.94-2.06-.94-.94-2.06-.94 2.06-2.06.94zm-11 1L8.5 8.5l.94-2.06 2.06-.94-2.06-.94L8.5 2.5l-.94 2.06-2.06.94zm10 10l.94 2.06.94-2.06 2.06-.94-2.06-.94-.94-2.06-.94 2.06-2.06.94z\"/><path d=\"M17.41 7.96l-1.37-1.37c-.4-.4-.92-.59-1.43-.59-.52 0-1.04.2-1.43.59L10.3 9.45l-7.72 7.72c-.78.78-.78 2.05 0 2.83L4 21.41c.39.39.9.59 1.41.59.51 0 1.02-.2 1.41-.59l7.78-7.78 2.81-2.81c.8-.78.8-2.07 0-2.86zM5.41 20L4 18.59l7.72-7.72 1.47 1.35L5.41 20z\"/>\n",
              "  </svg>\n",
              "      </button>\n",
              "      \n",
              "  <style>\n",
              "    .colab-df-container {\n",
              "      display:flex;\n",
              "      flex-wrap:wrap;\n",
              "      gap: 12px;\n",
              "    }\n",
              "\n",
              "    .colab-df-convert {\n",
              "      background-color: #E8F0FE;\n",
              "      border: none;\n",
              "      border-radius: 50%;\n",
              "      cursor: pointer;\n",
              "      display: none;\n",
              "      fill: #1967D2;\n",
              "      height: 32px;\n",
              "      padding: 0 0 0 0;\n",
              "      width: 32px;\n",
              "    }\n",
              "\n",
              "    .colab-df-convert:hover {\n",
              "      background-color: #E2EBFA;\n",
              "      box-shadow: 0px 1px 2px rgba(60, 64, 67, 0.3), 0px 1px 3px 1px rgba(60, 64, 67, 0.15);\n",
              "      fill: #174EA6;\n",
              "    }\n",
              "\n",
              "    [theme=dark] .colab-df-convert {\n",
              "      background-color: #3B4455;\n",
              "      fill: #D2E3FC;\n",
              "    }\n",
              "\n",
              "    [theme=dark] .colab-df-convert:hover {\n",
              "      background-color: #434B5C;\n",
              "      box-shadow: 0px 1px 3px 1px rgba(0, 0, 0, 0.15);\n",
              "      filter: drop-shadow(0px 1px 2px rgba(0, 0, 0, 0.3));\n",
              "      fill: #FFFFFF;\n",
              "    }\n",
              "  </style>\n",
              "\n",
              "      <script>\n",
              "        const buttonEl =\n",
              "          document.querySelector('#df-b422b217-6472-4f5c-8587-97d86e94e89b button.colab-df-convert');\n",
              "        buttonEl.style.display =\n",
              "          google.colab.kernel.accessAllowed ? 'block' : 'none';\n",
              "\n",
              "        async function convertToInteractive(key) {\n",
              "          const element = document.querySelector('#df-b422b217-6472-4f5c-8587-97d86e94e89b');\n",
              "          const dataTable =\n",
              "            await google.colab.kernel.invokeFunction('convertToInteractive',\n",
              "                                                     [key], {});\n",
              "          if (!dataTable) return;\n",
              "\n",
              "          const docLinkHtml = 'Like what you see? Visit the ' +\n",
              "            '<a target=\"_blank\" href=https://colab.research.google.com/notebooks/data_table.ipynb>data table notebook</a>'\n",
              "            + ' to learn more about interactive tables.';\n",
              "          element.innerHTML = '';\n",
              "          dataTable['output_type'] = 'display_data';\n",
              "          await google.colab.output.renderOutput(dataTable, element);\n",
              "          const docLink = document.createElement('div');\n",
              "          docLink.innerHTML = docLinkHtml;\n",
              "          element.appendChild(docLink);\n",
              "        }\n",
              "      </script>\n",
              "    </div>\n",
              "  </div>\n",
              "  "
            ],
            "text/plain": [
              "       oof1   oof2\n",
              "oof1 1.0000 0.9565\n",
              "oof2 0.9565 1.0000"
            ]
          },
          "execution_count": 149,
          "metadata": {},
          "output_type": "execute_result"
        }
      ],
      "source": [
        "pd.DataFrame(data={'oof1': oof_preds_lgbm, 'oof2': oof_preds_cat}).corr()"
      ],
      "id": "ycL3XmlNZSh6"
    },
    {
      "cell_type": "code",
      "execution_count": null,
      "metadata": {
        "id": "E_JMDg0qZSei"
      },
      "outputs": [],
      "source": [],
      "id": "E_JMDg0qZSei"
    },
    {
      "cell_type": "code",
      "execution_count": null,
      "metadata": {
        "id": "Ka5UDL6cZSbI"
      },
      "outputs": [],
      "source": [],
      "id": "Ka5UDL6cZSbI"
    },
    {
      "cell_type": "code",
      "execution_count": null,
      "metadata": {
        "id": "4a45621b",
        "outputId": "932e4410-66ac-4b0a-a776-6d82a3932374"
      },
      "outputs": [
        {
          "data": {
            "text/plain": [
              "(0.7062079082497474, 0.7171828725660462)"
            ]
          },
          "execution_count": 2281,
          "metadata": {},
          "output_type": "execute_result"
        }
      ],
      "source": [
        "calculate_confidence_interval(create_bootstrap_metrics(y, oof_scores2, roc_auc_score))"
      ],
      "id": "4a45621b"
    },
    {
      "cell_type": "code",
      "execution_count": null,
      "metadata": {
        "id": "6a178700"
      },
      "outputs": [],
      "source": [
        "data_test2 = data_test.copy(deep=True)\n",
        "data_test2[cat_boruta_scols] = data_test2[cat_boruta_scols].astype(\"object\")\n",
        "data_test2[cat_boruta_scols] = data_test2[cat_boruta_scols].fillna(\"None\")\n",
        "data_test2[cat_boruta_scols] = data_test2[cat_boruta_scols].astype(\"category\")\n",
        "\n",
        "model2_test_preds = np.array([estimator.predict_proba(data_test2[boruta_selected])[:,1] for estimator in model2_estimators]).T\n",
        "model2_test_preds = np.mean(model2_test_preds, axis=1)"
      ],
      "id": "6a178700"
    },
    {
      "cell_type": "code",
      "execution_count": null,
      "metadata": {
        "id": "76c4ad8a",
        "outputId": "24d2a5f4-54d6-4db4-807d-ab87ef7ef4d1"
      },
      "outputs": [
        {
          "name": "stdout",
          "output_type": "stream",
          "text": [
            "Fold: 1, train-observations = 99083, valid-observations = 11010\n",
            "train-score = 0.7248, valid-score = 0.7244\n",
            "=====================================================================\n",
            "Fold: 2, train-observations = 99083, valid-observations = 11010\n",
            "train-score = 0.7289, valid-score = 0.7085\n",
            "=====================================================================\n",
            "Fold: 3, train-observations = 99083, valid-observations = 11010\n",
            "train-score = 0.727, valid-score = 0.7252\n",
            "=====================================================================\n",
            "Fold: 4, train-observations = 99084, valid-observations = 11009\n",
            "train-score = 0.7221, valid-score = 0.7156\n",
            "=====================================================================\n",
            "Fold: 5, train-observations = 99084, valid-observations = 11009\n",
            "train-score = 0.7273, valid-score = 0.7207\n",
            "=====================================================================\n",
            "Fold: 6, train-observations = 99084, valid-observations = 11009\n",
            "train-score = 0.7286, valid-score = 0.7156\n",
            "=====================================================================\n",
            "Fold: 7, train-observations = 99084, valid-observations = 11009\n",
            "train-score = 0.7204, valid-score = 0.7261\n",
            "=====================================================================\n",
            "Fold: 8, train-observations = 99084, valid-observations = 11009\n",
            "train-score = 0.7225, valid-score = 0.7089\n",
            "=====================================================================\n",
            "Fold: 9, train-observations = 99084, valid-observations = 11009\n",
            "train-score = 0.7273, valid-score = 0.7213\n",
            "=====================================================================\n",
            "Fold: 10, train-observations = 99084, valid-observations = 11009\n",
            "train-score = 0.7228, valid-score = 0.7252\n",
            "=====================================================================\n",
            "CV-results train: 0.7252 +/- 0.003\n",
            "CV-results valid: 0.7191 +/- 0.006\n",
            "OOF-score = 0.7178\n"
          ]
        }
      ],
      "source": [
        "lgbm_params3 = {\n",
        "                'metric':\"auc\", \n",
        "                'is_unbalance': True,\n",
        "                'verbose': -1,\n",
        "                'random_state': seed,\n",
        "                'boosting_type': 'goss',\n",
        "                'colsample_bytree': 0.33,\n",
        "                'learning_rate': 0.01,\n",
        "                'max_bin': 80,\n",
        "                'max_depth': 3,\n",
        "                'min_child_weight': 567,\n",
        "                'min_split_gain': 0.002,\n",
        "                'n_estimators': 858,\n",
        "                'num_leaves': 4,\n",
        "                'min_child_samples': 100,\n",
        "                'reg_alpha': 1.95,\n",
        "                'reg_lambda': 40.15,\n",
        "                'subsample': 0.79,\n",
        "}\n",
        "\n",
        "model3_estimators, _, _, _, oof_scores3 = make_modify_cross_validation(\n",
        "                                                        X, \n",
        "                                                        y, \n",
        "                                                        LGBMClassifier(**lgbm_params3), \n",
        "                                                        metric=roc_auc_score, \n",
        "                                                        cv_strategy=KFold(n_splits=10, shuffle=True, random_state=seed+seed), \n",
        "                                                        error_to_be_outlier=False,\n",
        "                                                        early=30\n",
        "                                                        )"
      ],
      "id": "76c4ad8a"
    },
    {
      "cell_type": "code",
      "execution_count": null,
      "metadata": {
        "id": "dfc0eaf6",
        "outputId": "b9c1d6cc-2277-4104-82c8-492e7a8e63e6"
      },
      "outputs": [
        {
          "data": {
            "text/plain": [
              "(0.7126162635419374, 0.7234303071684319)"
            ]
          },
          "execution_count": 2286,
          "metadata": {},
          "output_type": "execute_result"
        }
      ],
      "source": [
        "calculate_confidence_interval(create_bootstrap_metrics(y, oof_scores3, roc_auc_score))"
      ],
      "id": "dfc0eaf6"
    },
    {
      "cell_type": "code",
      "execution_count": null,
      "metadata": {
        "id": "7b6b177d"
      },
      "outputs": [],
      "source": [
        "model3_test_preds = np.array([estimator.predict_proba(data_test)[:,1] for estimator in model3_estimators]).T\n",
        "model3_test_preds = np.mean(model3_test_preds, axis=1)"
      ],
      "id": "7b6b177d"
    },
    {
      "cell_type": "code",
      "execution_count": null,
      "metadata": {
        "id": "e56a3f38",
        "outputId": "e11b5473-ecab-4a64-e18d-b80fbb4415c9"
      },
      "outputs": [
        {
          "name": "stdout",
          "output_type": "stream",
          "text": [
            "Fold: 1, train-observations = 99083, valid-observations = 11010\n",
            "train-score = 0.7949, valid-score = 0.7213\n",
            "=====================================================================\n",
            "Fold: 2, train-observations = 99083, valid-observations = 11010\n",
            "train-score = 0.7948, valid-score = 0.7314\n",
            "=====================================================================\n",
            "Fold: 3, train-observations = 99083, valid-observations = 11010\n",
            "train-score = 0.7945, valid-score = 0.7302\n",
            "=====================================================================\n",
            "Fold: 4, train-observations = 99084, valid-observations = 11009\n",
            "train-score = 0.7942, valid-score = 0.7309\n",
            "=====================================================================\n",
            "Fold: 5, train-observations = 99084, valid-observations = 11009\n",
            "train-score = 0.7942, valid-score = 0.726\n",
            "=====================================================================\n",
            "Fold: 6, train-observations = 99084, valid-observations = 11009\n",
            "train-score = 0.7951, valid-score = 0.7202\n",
            "=====================================================================\n",
            "Fold: 7, train-observations = 99084, valid-observations = 11009\n",
            "train-score = 0.7941, valid-score = 0.7384\n",
            "=====================================================================\n",
            "Fold: 8, train-observations = 99084, valid-observations = 11009\n",
            "train-score = 0.7949, valid-score = 0.7248\n",
            "=====================================================================\n",
            "Fold: 9, train-observations = 99084, valid-observations = 11009\n",
            "train-score = 0.7949, valid-score = 0.728\n",
            "=====================================================================\n",
            "Fold: 10, train-observations = 99084, valid-observations = 11009\n",
            "train-score = 0.7948, valid-score = 0.7117\n",
            "=====================================================================\n",
            "CV-results train: 0.7946 +/- 0.0\n",
            "CV-results valid: 0.7263 +/- 0.007\n",
            "OOF-score = 0.7254\n"
          ]
        }
      ],
      "source": [
        "lgbm_params4 = {\n",
        "    'boosting_type': 'goss',\n",
        "    'n_estimators': 750,\n",
        "    'learning_rate': 0.005134,\n",
        "    'num_leaves': 54,\n",
        "    'max_depth': 10,\n",
        "    'subsample_for_bin': 240000,\n",
        "    'reg_alpha': 0.436193,\n",
        "    'reg_lambda': 0.479169,\n",
        "    'colsample_bytree': 0.508716,\n",
        "    'min_split_gain': 0.024766,\n",
        "    'subsample': 0.7,\n",
        "    'is_unbalance': False,\n",
        "    'random_state': seed,\n",
        "    'silent': -1,\n",
        "}\n",
        "\n",
        "model4_estimators, _, _, _, oof_scores4 = make_modify_cross_validation(\n",
        "                                                        X[borimp], \n",
        "                                                        y, \n",
        "                                                        LGBMClassifier(**lgbm_params4), \n",
        "                                                        metric=roc_auc_score, \n",
        "                                                        cv_strategy=KFold(n_splits=10, shuffle=True, random_state=seed%2), \n",
        "                                                        error_to_be_outlier=False,\n",
        "                                                        early=50\n",
        "                                                        )"
      ],
      "id": "e56a3f38"
    },
    {
      "cell_type": "code",
      "execution_count": null,
      "metadata": {
        "id": "ebae677f",
        "outputId": "d96f017c-8104-4c21-ef1a-c422863c33db"
      },
      "outputs": [
        {
          "data": {
            "text/plain": [
              "(0.7200714109711599, 0.7310863905784573)"
            ]
          },
          "execution_count": 2289,
          "metadata": {},
          "output_type": "execute_result"
        }
      ],
      "source": [
        "calculate_confidence_interval(create_bootstrap_metrics(y, oof_scores4, roc_auc_score))"
      ],
      "id": "ebae677f"
    },
    {
      "cell_type": "code",
      "execution_count": null,
      "metadata": {
        "id": "64577d8d"
      },
      "outputs": [],
      "source": [
        "model4_test_preds = np.array([estimator.predict_proba(data_test[borimp])[:,1] for estimator in model4_estimators]).T\n",
        "model4_test_preds = np.mean(model4_test_preds, axis=1)"
      ],
      "id": "64577d8d"
    },
    {
      "cell_type": "code",
      "execution_count": null,
      "metadata": {
        "id": "d5b8b1fe"
      },
      "outputs": [],
      "source": [
        "import tensorflow as tf\n",
        "from sklearn.utils.class_weight import compute_class_weight"
      ],
      "id": "d5b8b1fe"
    },
    {
      "cell_type": "code",
      "execution_count": null,
      "metadata": {
        "colab": {
          "base_uri": "https://localhost:8080/"
        },
        "id": "3f5304c6",
        "outputId": "416c76a9-86d3-4321-f672-ea5707f604a4"
      },
      "outputs": [
        {
          "data": {
            "text/plain": [
              "0"
            ]
          },
          "execution_count": 49,
          "metadata": {},
          "output_type": "execute_result"
        }
      ],
      "source": [
        "X_, _ = get_encoded(X)\n",
        "X_.fillna(0, inplace=True)\n",
        "X_.isna().sum().sum()"
      ],
      "id": "3f5304c6"
    },
    {
      "cell_type": "code",
      "execution_count": null,
      "metadata": {
        "colab": {
          "base_uri": "https://localhost:8080/"
        },
        "id": "4Kc5aQwL1hjI",
        "outputId": "3b988e86-268e-4529-c875-2ae3154e5a9a"
      },
      "outputs": [
        {
          "output_type": "execute_result",
          "data": {
            "text/plain": [
              "0"
            ]
          },
          "metadata": {},
          "execution_count": 63
        }
      ],
      "source": [
        "data_test_, _ = get_encoded(data_test)\n",
        "data_test_.fillna(0, inplace=True)\n",
        "data_test_.isna().sum().sum()"
      ],
      "id": "4Kc5aQwL1hjI"
    },
    {
      "cell_type": "code",
      "execution_count": null,
      "metadata": {
        "id": "QbNWgj1fBQsN"
      },
      "outputs": [],
      "source": [
        "for col in X_.columns:\n",
        "    X_[col] = X[col].replace(np.inf, 0)\n",
        "    data_test_[col] = data_test_[col].replace(np.inf, 0)"
      ],
      "id": "QbNWgj1fBQsN"
    },
    {
      "cell_type": "code",
      "execution_count": null,
      "metadata": {
        "id": "5L2IcH1sKCk9"
      },
      "outputs": [],
      "source": [
        "tf.config.run_functions_eagerly(False)"
      ],
      "id": "5L2IcH1sKCk9"
    },
    {
      "cell_type": "code",
      "execution_count": null,
      "metadata": {
        "colab": {
          "base_uri": "https://localhost:8080/"
        },
        "id": "h-BjQso53DfL",
        "outputId": "7175a08c-9f7c-42e0-ce86-c57e28eaff04"
      },
      "outputs": [
        {
          "output_type": "stream",
          "name": "stdout",
          "text": [
            "Fold 1, Train score: 0.71523, Valid score: 0.72884\n",
            "Fold 2, Train score: 0.71650, Valid score: 0.71025\n",
            "Fold 3, Train score: 0.72002, Valid score: 0.71939\n",
            "Fold 4, Train score: 0.72020, Valid score: 0.71632\n",
            "Fold 5, Train score: 0.72386, Valid score: 0.70825\n",
            "Train mean scores: 0.71916 +/- 0.00305\n",
            "Valid mean scores: 0.71661 +/- 0.00732\n",
            "OOF-score: 0.65529\n"
          ]
        }
      ],
      "source": [
        "fold = KFold(n_splits=5, shuffle=True, random_state=seed)\n",
        "\n",
        "metrics = [\n",
        "           tf.keras.metrics.AUC(name='roc_auc'),\n",
        "]\n",
        "callbacks = [\n",
        "             tf.keras.callbacks.ReduceLROnPlateau(patience=5, monitor='val_roc_auc', min_lr=1e-6),\n",
        "             tf.keras.callbacks.EarlyStopping(monitor='val_roc_auc', patience=10, restore_best_weights=True),\n",
        "            ]\n",
        "\n",
        "columns = X_.columns.tolist()\n",
        "models, scalers = [], []\n",
        "train_scores, valid_scores, colsamples = [], [], []\n",
        "batch_size = 128\n",
        "\n",
        "oof_preds = np.zeros((len(y),))\n",
        "\n",
        "for i, (train_idx, valid_idx) in enumerate(fold.split(X_, y)):\n",
        "    #colsample = np.random.choice(columns, size=int(X.shape[1]*0.8), replace=False)\n",
        "    #colsamples.append(colsample)\n",
        "    x_train, x_valid = X_.loc[train_idx, :], X_.loc[valid_idx, :]\n",
        "    y_train, y_valid = y.loc[train_idx], y.loc[valid_idx]\n",
        "\n",
        "    is_weighted = np.random.randint(0,2)\n",
        "    if is_weighted:\n",
        "        class_weights = compute_class_weight(class_weight='balanced', classes=np.unique(y), y=y_train)\n",
        "        class_weights = {i: weight for i, weight in enumerate(class_weights)}\n",
        "    else:\n",
        "        class_weights = None\n",
        "\n",
        "    scaler = StandardScaler() if is_weighted else MinMaxScaler()\n",
        "    x_train_scaled = scaler.fit_transform(x_train)\n",
        "    x_valid_scaled = scaler.transform(x_valid)\n",
        "    scalers.append(scaler)\n",
        "\n",
        "    train_ds = tf.data.Dataset.from_tensor_slices((x_train_scaled, y_train)).cache().batch(batch_size).prefetch(0)\n",
        "    val_ds = tf.data.Dataset.from_tensor_slices((x_valid_scaled, y_valid)).cache().batch(batch_size).prefetch(2)\n",
        "\n",
        "    num_features = x_train_scaled.shape[1]\n",
        "    num_preds = 1\n",
        "\n",
        "    model = get_model()\n",
        "    model.compile(optimizer=tf.keras.optimizers.Adam(1e-3), loss='binary_crossentropy', metrics=metrics)\n",
        "    # tf.config.run_functions_eagerly(True)\n",
        "    history = model.fit(train_ds, epochs=25, verbose=0, callbacks=callbacks, validation_data=val_ds, class_weight=class_weights)\n",
        "    models.append(model)\n",
        "\n",
        "    train_score = roc_auc_score(y_train, model.predict(x_train_scaled).ravel())\n",
        "    valid_score = roc_auc_score(y_valid, model.predict(x_valid_scaled).ravel())\n",
        "    train_scores.append(train_score)\n",
        "    valid_scores.append(valid_score)\n",
        "    oof_preds[valid_idx] = model.predict(x_valid_scaled).ravel()\n",
        "    print(f\"Fold {i+1}, Train score: {train_score:.5f}, Valid score: {valid_score:.5f}\")\n",
        "\n",
        "print(f\"Train mean scores: {np.mean(train_scores):.5f} +/- {np.std(train_scores):.5f}\")\n",
        "print(f\"Valid mean scores: {np.mean(valid_scores):.5f} +/- {np.std(valid_scores):.5f}\")\n",
        "\n",
        "print(f\"OOF-score: {roc_auc_score(y, oof_preds):.5f}\")"
      ],
      "id": "h-BjQso53DfL"
    },
    {
      "cell_type": "code",
      "source": [
        "test_preds = np.array([model.predict(scaler.transform(data_test_)).ravel() for model, scaler in zip(models, scalers)]).T\n",
        "test_preds = pd.DataFrame({ID_COL: test_index, TARGET: test_preds.mean(axis=1)})   \n",
        "test_preds.head()"
      ],
      "metadata": {
        "colab": {
          "base_uri": "https://localhost:8080/",
          "height": 206
        },
        "id": "pWLbN053RI2o",
        "outputId": "d6a19b6c-8c26-4b82-d145-99a9133bd247"
      },
      "id": "pWLbN053RI2o",
      "execution_count": null,
      "outputs": [
        {
          "output_type": "execute_result",
          "data": {
            "text/plain": [
              "        APPLICATION_NUMBER  TARGET\n",
              "110093           123724268  0.3485\n",
              "110094           123456549  0.6548\n",
              "110095           123428178  0.6028\n",
              "110096           123619984  0.4312\n",
              "110097           123671104  0.1597"
            ],
            "text/html": [
              "\n",
              "  <div id=\"df-60161b71-9ed5-4726-ab24-df55b12faaaf\">\n",
              "    <div class=\"colab-df-container\">\n",
              "      <div>\n",
              "<style scoped>\n",
              "    .dataframe tbody tr th:only-of-type {\n",
              "        vertical-align: middle;\n",
              "    }\n",
              "\n",
              "    .dataframe tbody tr th {\n",
              "        vertical-align: top;\n",
              "    }\n",
              "\n",
              "    .dataframe thead th {\n",
              "        text-align: right;\n",
              "    }\n",
              "</style>\n",
              "<table border=\"1\" class=\"dataframe\">\n",
              "  <thead>\n",
              "    <tr style=\"text-align: right;\">\n",
              "      <th></th>\n",
              "      <th>APPLICATION_NUMBER</th>\n",
              "      <th>TARGET</th>\n",
              "    </tr>\n",
              "  </thead>\n",
              "  <tbody>\n",
              "    <tr>\n",
              "      <th>110093</th>\n",
              "      <td>123724268</td>\n",
              "      <td>0.3485</td>\n",
              "    </tr>\n",
              "    <tr>\n",
              "      <th>110094</th>\n",
              "      <td>123456549</td>\n",
              "      <td>0.6548</td>\n",
              "    </tr>\n",
              "    <tr>\n",
              "      <th>110095</th>\n",
              "      <td>123428178</td>\n",
              "      <td>0.6028</td>\n",
              "    </tr>\n",
              "    <tr>\n",
              "      <th>110096</th>\n",
              "      <td>123619984</td>\n",
              "      <td>0.4312</td>\n",
              "    </tr>\n",
              "    <tr>\n",
              "      <th>110097</th>\n",
              "      <td>123671104</td>\n",
              "      <td>0.1597</td>\n",
              "    </tr>\n",
              "  </tbody>\n",
              "</table>\n",
              "</div>\n",
              "      <button class=\"colab-df-convert\" onclick=\"convertToInteractive('df-60161b71-9ed5-4726-ab24-df55b12faaaf')\"\n",
              "              title=\"Convert this dataframe to an interactive table.\"\n",
              "              style=\"display:none;\">\n",
              "        \n",
              "  <svg xmlns=\"http://www.w3.org/2000/svg\" height=\"24px\"viewBox=\"0 0 24 24\"\n",
              "       width=\"24px\">\n",
              "    <path d=\"M0 0h24v24H0V0z\" fill=\"none\"/>\n",
              "    <path d=\"M18.56 5.44l.94 2.06.94-2.06 2.06-.94-2.06-.94-.94-2.06-.94 2.06-2.06.94zm-11 1L8.5 8.5l.94-2.06 2.06-.94-2.06-.94L8.5 2.5l-.94 2.06-2.06.94zm10 10l.94 2.06.94-2.06 2.06-.94-2.06-.94-.94-2.06-.94 2.06-2.06.94z\"/><path d=\"M17.41 7.96l-1.37-1.37c-.4-.4-.92-.59-1.43-.59-.52 0-1.04.2-1.43.59L10.3 9.45l-7.72 7.72c-.78.78-.78 2.05 0 2.83L4 21.41c.39.39.9.59 1.41.59.51 0 1.02-.2 1.41-.59l7.78-7.78 2.81-2.81c.8-.78.8-2.07 0-2.86zM5.41 20L4 18.59l7.72-7.72 1.47 1.35L5.41 20z\"/>\n",
              "  </svg>\n",
              "      </button>\n",
              "      \n",
              "  <style>\n",
              "    .colab-df-container {\n",
              "      display:flex;\n",
              "      flex-wrap:wrap;\n",
              "      gap: 12px;\n",
              "    }\n",
              "\n",
              "    .colab-df-convert {\n",
              "      background-color: #E8F0FE;\n",
              "      border: none;\n",
              "      border-radius: 50%;\n",
              "      cursor: pointer;\n",
              "      display: none;\n",
              "      fill: #1967D2;\n",
              "      height: 32px;\n",
              "      padding: 0 0 0 0;\n",
              "      width: 32px;\n",
              "    }\n",
              "\n",
              "    .colab-df-convert:hover {\n",
              "      background-color: #E2EBFA;\n",
              "      box-shadow: 0px 1px 2px rgba(60, 64, 67, 0.3), 0px 1px 3px 1px rgba(60, 64, 67, 0.15);\n",
              "      fill: #174EA6;\n",
              "    }\n",
              "\n",
              "    [theme=dark] .colab-df-convert {\n",
              "      background-color: #3B4455;\n",
              "      fill: #D2E3FC;\n",
              "    }\n",
              "\n",
              "    [theme=dark] .colab-df-convert:hover {\n",
              "      background-color: #434B5C;\n",
              "      box-shadow: 0px 1px 3px 1px rgba(0, 0, 0, 0.15);\n",
              "      filter: drop-shadow(0px 1px 2px rgba(0, 0, 0, 0.3));\n",
              "      fill: #FFFFFF;\n",
              "    }\n",
              "  </style>\n",
              "\n",
              "      <script>\n",
              "        const buttonEl =\n",
              "          document.querySelector('#df-60161b71-9ed5-4726-ab24-df55b12faaaf button.colab-df-convert');\n",
              "        buttonEl.style.display =\n",
              "          google.colab.kernel.accessAllowed ? 'block' : 'none';\n",
              "\n",
              "        async function convertToInteractive(key) {\n",
              "          const element = document.querySelector('#df-60161b71-9ed5-4726-ab24-df55b12faaaf');\n",
              "          const dataTable =\n",
              "            await google.colab.kernel.invokeFunction('convertToInteractive',\n",
              "                                                     [key], {});\n",
              "          if (!dataTable) return;\n",
              "\n",
              "          const docLinkHtml = 'Like what you see? Visit the ' +\n",
              "            '<a target=\"_blank\" href=https://colab.research.google.com/notebooks/data_table.ipynb>data table notebook</a>'\n",
              "            + ' to learn more about interactive tables.';\n",
              "          element.innerHTML = '';\n",
              "          dataTable['output_type'] = 'display_data';\n",
              "          await google.colab.output.renderOutput(dataTable, element);\n",
              "          const docLink = document.createElement('div');\n",
              "          docLink.innerHTML = docLinkHtml;\n",
              "          element.appendChild(docLink);\n",
              "        }\n",
              "      </script>\n",
              "    </div>\n",
              "  </div>\n",
              "  "
            ]
          },
          "metadata": {},
          "execution_count": 65
        }
      ]
    },
    {
      "cell_type": "code",
      "source": [
        "test_preds.to_csv('submission.csv', index=False)  # 0.71785\n",
        "!kaggle competitions submit -c geekbrains-competitive-data-analysis -f submission.csv -m \"Message\""
      ],
      "metadata": {
        "colab": {
          "base_uri": "https://localhost:8080/"
        },
        "id": "y4RYxMw1RyG4",
        "outputId": "e6aade51-c80b-437e-e8c0-1d30cd77e317"
      },
      "id": "y4RYxMw1RyG4",
      "execution_count": null,
      "outputs": [
        {
          "output_type": "stream",
          "name": "stdout",
          "text": [
            "100% 3.26M/3.26M [00:00<00:00, 8.79MB/s]\n",
            "Successfully submitted to GeekBrains Competitive Data Analysis"
          ]
        }
      ]
    },
    {
      "cell_type": "code",
      "execution_count": null,
      "metadata": {
        "id": "78e2bfa0"
      },
      "outputs": [],
      "source": [
        "x_train, x_test, y_train, y_test = train_test_split(X_, y, test_size=0.2, random_state=seed)"
      ],
      "id": "78e2bfa0"
    },
    {
      "cell_type": "code",
      "execution_count": null,
      "metadata": {
        "colab": {
          "base_uri": "https://localhost:8080/"
        },
        "id": "7cc15cd4",
        "outputId": "508c8113-65e8-4341-d71d-d4f55f6139fe"
      },
      "outputs": [
        {
          "data": {
            "text/plain": [
              "{0: 0.5444059834342935, 1: 6.129871937639198}"
            ]
          },
          "execution_count": 30,
          "metadata": {},
          "output_type": "execute_result"
        }
      ],
      "source": [
        "class_weights = compute_class_weight(class_weight='balanced', classes=np.unique(y), y=y_train)\n",
        "class_weights = {i: weight for i, weight in enumerate(class_weights)}\n",
        "class_weights"
      ],
      "id": "7cc15cd4"
    },
    {
      "cell_type": "code",
      "execution_count": null,
      "metadata": {
        "id": "56460e28"
      },
      "outputs": [],
      "source": [
        "scaler = StandardScaler()\n",
        "x_train_scaled = scaler.fit_transform(x_train)\n",
        "x_test_scaled = scaler.transform(x_test)\n",
        "# SMOTE"
      ],
      "id": "56460e28"
    },
    {
      "cell_type": "code",
      "execution_count": null,
      "metadata": {
        "id": "0d2ef63c"
      },
      "outputs": [],
      "source": [
        "batch_size = 128\n",
        "\n",
        "train_ds = tf.data.Dataset.from_tensor_slices((x_train_scaled, y_train)).cache().batch(batch_size).prefetch(0)\n",
        "val_ds = tf.data.Dataset.from_tensor_slices((x_test_scaled, y_test)).cache().batch(batch_size).prefetch(2)"
      ],
      "id": "0d2ef63c"
    },
    {
      "cell_type": "code",
      "execution_count": null,
      "metadata": {
        "id": "59e30854"
      },
      "outputs": [],
      "source": [
        "tf_model1 = tf.keras.Sequential([\n",
        "                            tf.keras.layers.Dense(256, activation='relu', input_shape=(x_train_scaled.shape[-1], ), \n",
        "                                                  kernel_regularizer=tf.keras.regularizers.l2(0.001)),\n",
        "                            tf.keras.layers.BatchNormalization(),\n",
        "                            tf.keras.layers.Dropout(0.5),\n",
        "                            tf.keras.layers.Dense(128, activation='relu', kernel_regularizer=tf.keras.regularizers.l2(0.001)),\n",
        "                            tf.keras.layers.BatchNormalization(),\n",
        "                            tf.keras.layers.Dropout(0.5),\n",
        "                            tf.keras.layers.Dense(64, activation='relu', kernel_regularizer=tf.keras.regularizers.l2(0.001)),\n",
        "                            tf.keras.layers.BatchNormalization(),\n",
        "                            tf.keras.layers.Dropout(0.5),\n",
        "                            tf.keras.layers.Dense(1, activation='sigmoid')\n",
        "                            ])"
      ],
      "id": "59e30854"
    },
    {
      "cell_type": "code",
      "execution_count": null,
      "metadata": {
        "id": "4d2eaa3e"
      },
      "outputs": [],
      "source": [
        "num_features = x_train.shape[1]\n",
        "num_preds = 1\n",
        "\n",
        "def get_model():\n",
        "    inp = tf.keras.layers.Input((num_features*num_preds,))\n",
        "    x = tf.keras.layers.Reshape((num_features*num_preds,1))(inp)\n",
        "    x = tf.keras.layers.Conv1D(32,num_preds,strides=num_preds, activation='elu')(x)\n",
        "    x = tf.keras.layers.BatchNormalization()(x)\n",
        "    x = tf.keras.layers.Conv1D(24,1, activation='elu')(x)\n",
        "    x = tf.keras.layers.BatchNormalization()(x)\n",
        "    x = tf.keras.layers.Conv1D(16,1, activation='elu')(x)\n",
        "    x = tf.keras.layers.BatchNormalization()(x)\n",
        "    x = tf.keras.layers.Conv1D(4,1, activation='elu')(x)\n",
        "    x = tf.keras.layers.Flatten()(x)\n",
        "    x = tf.keras.layers.Reshape((num_features*4,1))(x)\n",
        "    x = tf.keras.layers.AveragePooling1D(2)(x)\n",
        "    x = tf.keras.layers.Flatten()(x)\n",
        "    x = tf.keras.layers.BatchNormalization()(x)\n",
        "    out = tf.keras.layers.Dense(1, activation='sigmoid')(x)\n",
        "    return tf.keras.Model(inputs=inp, outputs=out)\n",
        "\n",
        "tf_model2 = get_model()"
      ],
      "id": "4d2eaa3e"
    },
    {
      "cell_type": "code",
      "execution_count": null,
      "metadata": {
        "id": "19cf907a"
      },
      "outputs": [],
      "source": [
        "metrics = [\n",
        "           tf.keras.metrics.AUC(name='roc_auc'),\n",
        "]\n",
        "\n",
        "tf_model1.compile(optimizer=tf.keras.optimizers.Adam(1e-3), loss='binary_crossentropy', metrics=metrics)\n",
        "tf_model2.compile(optimizer=tf.keras.optimizers.Adam(1e-3), loss='binary_crossentropy', metrics=metrics)\n",
        "\n",
        "callbacks = [\n",
        "             tf.keras.callbacks.ReduceLROnPlateau(patience=5, monitor='val_roc_auc', min_lr=1e-6),\n",
        "             tf.keras.callbacks.EarlyStopping(monitor='val_roc_auc', patience=10, restore_best_weights=True),\n",
        "            ]"
      ],
      "id": "19cf907a"
    },
    {
      "cell_type": "code",
      "execution_count": null,
      "metadata": {
        "id": "d2fc89a7"
      },
      "outputs": [],
      "source": [
        "history = tf_model1.fit(train_ds, epochs=25, verbose=2, callbacks=callbacks,\n",
        "                     validation_data=val_ds, class_weight=class_weights, \n",
        "                     )"
      ],
      "id": "d2fc89a7"
    },
    {
      "cell_type": "code",
      "execution_count": null,
      "metadata": {
        "id": "92ebff4f"
      },
      "outputs": [],
      "source": [
        "# fit on full X, based on profiles only\n",
        "history = tf_model2.fit(train_ds, epochs=25, verbose=2, callbacks=callbacks,\n",
        "                        validation_data=val_ds, class_weight=class_weights, \n",
        "                        )"
      ],
      "id": "92ebff4f"
    },
    {
      "cell_type": "code",
      "execution_count": null,
      "metadata": {
        "id": "d700e685"
      },
      "outputs": [],
      "source": [
        "#tf1_total = tf_model1.predict(scaler.transform(X_)).ravel()\n",
        "tf2_total = tf_model2.predict(scaler.transform(X_)).ravel()\n",
        "\n",
        "tf_data_test = data_test.copy(deep=True)\n",
        "tf_data_test, _ = get_encoded(tf_data_test)\n",
        "tf_data_test.fillna(0, inplace=True)\n",
        "for col in tf_data_test.columns:\n",
        "    tf_data_test[col] = tf_data_test[col].replace(np.inf, 0)\n",
        "\n",
        "#tf1_total_test = tf_model1.predict(scaler.transform(tf_data_test)).ravel()\n",
        "tf2_total_test = tf_model2.predict(scaler.transform(tf_data_test)).ravel()"
      ],
      "id": "d700e685"
    },
    {
      "cell_type": "code",
      "execution_count": null,
      "metadata": {
        "colab": {
          "base_uri": "https://localhost:8080/"
        },
        "id": "eimsbg4_WLEL",
        "outputId": "30c7dd68-730e-4c84-db01-3ddba1966d05"
      },
      "outputs": [
        {
          "data": {
            "text/plain": [
              "0.7205963262498424"
            ]
          },
          "execution_count": 143,
          "metadata": {},
          "output_type": "execute_result"
        }
      ],
      "source": [
        "roc_auc_score(y, tf2_total)"
      ],
      "id": "eimsbg4_WLEL"
    },
    {
      "cell_type": "code",
      "execution_count": null,
      "metadata": {
        "id": "u79z8zXQWHUo"
      },
      "outputs": [],
      "source": [
        "tf2_total_test = tf_model2.predict(scaler.transform(tf_data_test)).ravel()  # 0.71732"
      ],
      "id": "u79z8zXQWHUo"
    },
    {
      "cell_type": "code",
      "execution_count": null,
      "metadata": {
        "colab": {
          "base_uri": "https://localhost:8080/"
        },
        "id": "BVTVpe2CVHv6",
        "outputId": "941c50e8-fcc0-4c2e-db3c-1f266a21a129"
      },
      "outputs": [
        {
          "name": "stdout",
          "output_type": "stream",
          "text": [
            "100% 3.23M/3.23M [00:00<00:00, 12.4MB/s]\n",
            "Successfully submitted to GeekBrains Competitive Data Analysis"
          ]
        }
      ],
      "source": [
        "test_preds = pd.DataFrame({ID_COL: test_index, TARGET: tf2_total_test})\n",
        "test_preds.to_csv('submission.csv', index=False) \n",
        "!kaggle competitions submit -c geekbrains-competitive-data-analysis -f submission.csv -m \"Message\"  "
      ],
      "id": "BVTVpe2CVHv6"
    },
    {
      "cell_type": "markdown",
      "metadata": {
        "id": "07d74684"
      },
      "source": [
        "**make oof dataset**"
      ],
      "id": "07d74684"
    },
    {
      "cell_type": "code",
      "execution_count": null,
      "metadata": {
        "id": "4e5975b3",
        "outputId": "c70249a7-55bf-4395-af75-39e1455a4c0a"
      },
      "outputs": [
        {
          "data": {
            "text/html": [
              "<div>\n",
              "<style scoped>\n",
              "    .dataframe tbody tr th:only-of-type {\n",
              "        vertical-align: middle;\n",
              "    }\n",
              "\n",
              "    .dataframe tbody tr th {\n",
              "        vertical-align: top;\n",
              "    }\n",
              "\n",
              "    .dataframe thead th {\n",
              "        text-align: right;\n",
              "    }\n",
              "</style>\n",
              "<table border=\"1\" class=\"dataframe\">\n",
              "  <thead>\n",
              "    <tr style=\"text-align: right;\">\n",
              "      <th></th>\n",
              "      <th>model_1</th>\n",
              "      <th>model_2</th>\n",
              "      <th>model_3</th>\n",
              "      <th>model_4</th>\n",
              "      <th>model_5</th>\n",
              "      <th>model_6</th>\n",
              "    </tr>\n",
              "  </thead>\n",
              "  <tbody>\n",
              "    <tr>\n",
              "      <th>18454</th>\n",
              "      <td>0.7098</td>\n",
              "      <td>0.3884</td>\n",
              "      <td>0.7321</td>\n",
              "      <td>0.1635</td>\n",
              "      <td>0.6793</td>\n",
              "      <td>0.7130</td>\n",
              "    </tr>\n",
              "    <tr>\n",
              "      <th>18385</th>\n",
              "      <td>0.5037</td>\n",
              "      <td>0.2568</td>\n",
              "      <td>0.5121</td>\n",
              "      <td>0.0862</td>\n",
              "      <td>0.5096</td>\n",
              "      <td>0.5021</td>\n",
              "    </tr>\n",
              "    <tr>\n",
              "      <th>150</th>\n",
              "      <td>0.3276</td>\n",
              "      <td>0.1840</td>\n",
              "      <td>0.3766</td>\n",
              "      <td>0.0422</td>\n",
              "      <td>0.4471</td>\n",
              "      <td>0.4255</td>\n",
              "    </tr>\n",
              "    <tr>\n",
              "      <th>32091</th>\n",
              "      <td>0.2040</td>\n",
              "      <td>0.0906</td>\n",
              "      <td>0.1839</td>\n",
              "      <td>0.0263</td>\n",
              "      <td>0.1828</td>\n",
              "      <td>0.1935</td>\n",
              "    </tr>\n",
              "    <tr>\n",
              "      <th>54954</th>\n",
              "      <td>0.8814</td>\n",
              "      <td>0.4766</td>\n",
              "      <td>0.8637</td>\n",
              "      <td>0.3986</td>\n",
              "      <td>0.7525</td>\n",
              "      <td>0.8133</td>\n",
              "    </tr>\n",
              "  </tbody>\n",
              "</table>\n",
              "</div>"
            ],
            "text/plain": [
              "       model_1  model_2  model_3  model_4  model_5  model_6\n",
              "18454   0.7098   0.3884   0.7321   0.1635   0.6793   0.7130\n",
              "18385   0.5037   0.2568   0.5121   0.0862   0.5096   0.5021\n",
              "150     0.3276   0.1840   0.3766   0.0422   0.4471   0.4255\n",
              "32091   0.2040   0.0906   0.1839   0.0263   0.1828   0.1935\n",
              "54954   0.8814   0.4766   0.8637   0.3986   0.7525   0.8133"
            ]
          },
          "execution_count": 2333,
          "metadata": {},
          "output_type": "execute_result"
        }
      ],
      "source": [
        "oof_predictions_two = pd.DataFrame({f\"model_{i}\": mdl for i, mdl in enumerate((oof_scores1, \n",
        "                                                                               oof_scores2,\n",
        "                                                                               oof_scores3, \n",
        "                                                                               oof_scores4,\n",
        "                                                                               tf1_total,\n",
        "                                                                               tf2_total), 1)})\n",
        "oof_predictions_two.sample(5)"
      ],
      "id": "4e5975b3"
    },
    {
      "cell_type": "code",
      "execution_count": null,
      "metadata": {
        "id": "607bd1b7",
        "outputId": "255f694b-e1f6-412d-b59e-5692bab44185"
      },
      "outputs": [
        {
          "data": {
            "image/png": "[encoded data removed]",
            "text/plain": [
              "<Figure size 720x720 with 2 Axes>"
            ]
          },
          "metadata": {},
          "output_type": "display_data"
        }
      ],
      "source": [
        "corr = oof_predictions_two.corr()\n",
        "mask = np.zeros_like(corr, dtype=np.bool)\n",
        "mask[np.triu_indices_from(mask)] = True\n",
        "\n",
        "fig, axes = plt.subplots(1, 1, figsize=(10, 10))\n",
        "sns.heatmap(corr, mask=mask, annot=True, fmt=\".4g\", square=True, cmap=\"viridis\", ax=axes)\n",
        "plt.show()"
      ],
      "id": "607bd1b7"
    },
    {
      "cell_type": "code",
      "execution_count": null,
      "metadata": {
        "id": "05e5c0d6"
      },
      "outputs": [],
      "source": [
        "test_predictions_two = pd.DataFrame({f\"model_{i}\": mdl for i, mdl in enumerate((model1_test_preds,\n",
        "                                                                                model2_test_preds,\n",
        "                                                                                model3_test_preds,\n",
        "                                                                                model4_test_preds,\n",
        "                                                                                tf1_total_test,\n",
        "                                                                                tf2_total_test), 1)})"
      ],
      "id": "05e5c0d6"
    },
    {
      "cell_type": "code",
      "execution_count": null,
      "metadata": {
        "id": "c1f728a0",
        "outputId": "d1cf2e84-1c4f-4e3c-d0a8-711aee10e59b"
      },
      "outputs": [
        {
          "data": {
            "image/png": "[encoded data removed]",
            "text/plain": [
              "<Figure size 720x720 with 2 Axes>"
            ]
          },
          "metadata": {},
          "output_type": "display_data"
        }
      ],
      "source": [
        "corr = test_predictions_two.corr()\n",
        "mask = np.zeros_like(corr, dtype=np.bool)\n",
        "mask[np.triu_indices_from(mask)] = True\n",
        "\n",
        "fig, axes = plt.subplots(1, 1, figsize=(10, 10))\n",
        "sns.heatmap(corr, mask=mask, annot=True, fmt=\".4g\", square=True, cmap=\"viridis\", ax=axes)\n",
        "plt.show()"
      ],
      "id": "c1f728a0"
    },
    {
      "cell_type": "code",
      "execution_count": null,
      "metadata": {
        "id": "16c6cc6b",
        "outputId": "9bb9ab79-8a91-463f-d3c0-a03a9ce863fc"
      },
      "outputs": [
        {
          "name": "stdout",
          "output_type": "stream",
          "text": [
            "AMean score: 0.72532\n",
            "GMean score: 0.72633\n",
            "Rank  score: 0.72386\n",
            "GMean  rank: 0.72405\n"
          ]
        }
      ],
      "source": [
        "mean_scores(oof_predictions_two, y)"
      ],
      "id": "16c6cc6b"
    },
    {
      "cell_type": "code",
      "execution_count": null,
      "metadata": {
        "id": "0d66ef0e",
        "outputId": "cf10f70f-c140-4bcb-99c5-9a70ac5c756c"
      },
      "outputs": [
        {
          "name": "stdout",
          "output_type": "stream",
          "text": [
            "\n",
            "Optimized weights:\n",
            "Best score: 0.7292\n"
          ]
        }
      ],
      "source": [
        "results_list_two = []   \n",
        "weights_list_two = []  \n",
        "preds_two = oof_predictions_two.values\n",
        "\n",
        "def weights_objective(weights):\n",
        "    y_ens = np.average(preds_two, axis=1, weights=weights)\n",
        "    return roc_auc_score(y2, y_ens)\n",
        "\n",
        "for _ in range(100):\n",
        "  \n",
        "    w0 = np.random.uniform(size=preds_two.shape[1])\n",
        "    bounds = [(0,1)] * preds_two.shape[1]\n",
        "\n",
        "    cons = [{'type': 'eq',\n",
        "             'fun': lambda w: w.sum() - 1}]\n",
        "\n",
        "    res = minimize(weights_objective,\n",
        "                   w0,\n",
        "                   method='SLSQP',\n",
        "                   bounds=bounds,\n",
        "                   options={'disp':False, 'maxiter':10000},\n",
        "                   constraints=cons)\n",
        "\n",
        "    results_list_two.append(res.fun)\n",
        "    weights_list_two.append(res.x)\n",
        "\n",
        "best_score_two = np.max(results_list_two)    \n",
        "best_weights_two = weights_list_two[results_list_two.index(best_score_two)]\n",
        "\n",
        "print('\\nOptimized weights:')\n",
        "print('Best score: {:.4f}'.format(best_score_two))"
      ],
      "id": "0d66ef0e"
    },
    {
      "cell_type": "code",
      "execution_count": null,
      "metadata": {
        "id": "efc4b2eb",
        "outputId": "042fad09-150a-4f25-d2df-3577bee029a2"
      },
      "outputs": [
        {
          "data": {
            "text/plain": [
              "0.7291933807172566"
            ]
          },
          "execution_count": 2339,
          "metadata": {},
          "output_type": "execute_result"
        }
      ],
      "source": [
        "optimized_scores_two = np.average(oof_predictions_two, axis=1, weights=best_weights_two)\n",
        "roc_auc_score(y, optimized_scores_two)"
      ],
      "id": "efc4b2eb"
    },
    {
      "cell_type": "code",
      "execution_count": null,
      "metadata": {
        "id": "2443427c",
        "outputId": "95c8fe9c-9021-411e-d4d6-b58a8527b85a"
      },
      "outputs": [
        {
          "name": "stdout",
          "output_type": "stream",
          "text": [
            "Fold: 1, train-observations = 99083, valid-observations = 11010\n",
            "train-score = 0.7316, valid-score = 0.7344\n",
            "=====================================================================\n",
            "Fold: 2, train-observations = 99083, valid-observations = 11010\n",
            "train-score = 0.7319, valid-score = 0.731\n",
            "=====================================================================\n",
            "Fold: 3, train-observations = 99083, valid-observations = 11010\n",
            "train-score = 0.7316, valid-score = 0.7334\n",
            "=====================================================================\n",
            "Fold: 4, train-observations = 99084, valid-observations = 11009\n",
            "train-score = 0.7322, valid-score = 0.7287\n",
            "=====================================================================\n",
            "Fold: 5, train-observations = 99084, valid-observations = 11009\n",
            "train-score = 0.7319, valid-score = 0.7308\n",
            "=====================================================================\n",
            "Fold: 6, train-observations = 99084, valid-observations = 11009\n",
            "train-score = 0.7317, valid-score = 0.7322\n",
            "=====================================================================\n",
            "Fold: 7, train-observations = 99084, valid-observations = 11009\n",
            "train-score = 0.7309, valid-score = 0.7409\n",
            "=====================================================================\n",
            "Fold: 8, train-observations = 99084, valid-observations = 11009\n",
            "train-score = 0.7319, valid-score = 0.7313\n",
            "=====================================================================\n",
            "Fold: 9, train-observations = 99084, valid-observations = 11009\n",
            "train-score = 0.7321, valid-score = 0.729\n",
            "=====================================================================\n",
            "Fold: 10, train-observations = 99084, valid-observations = 11009\n",
            "train-score = 0.7329, valid-score = 0.7228\n",
            "=====================================================================\n",
            "CV-results train: 0.7319 +/- 0.0\n",
            "CV-results valid: 0.7315 +/- 0.004\n",
            "OOF-score = 0.7311\n"
          ]
        }
      ],
      "source": [
        "lda2 = LinearDiscriminantAnalysis(\n",
        "                                 solver='eigen',\n",
        "                                 shrinkage='auto',\n",
        "                                 store_covariance=True,\n",
        "                                 n_components=1\n",
        "                                )\n",
        "\n",
        "lda_estimators2, _, _, _, oof_lda2 = make_modify_cross_validation(\n",
        "                                                          oof_predictions_two, \n",
        "                                                          y, \n",
        "                                                          lda2, \n",
        "                                                          metric=roc_auc_score, \n",
        "                                                          cv_strategy=KFold(n_splits=10, shuffle=True, random_state=seed), \n",
        "                                                          error_to_be_outlier=False\n",
        "                                                          )"
      ],
      "id": "2443427c"
    },
    {
      "cell_type": "code",
      "execution_count": null,
      "metadata": {
        "id": "101b6ca0",
        "outputId": "af17aa37-527f-4159-81dc-74540d413cc6"
      },
      "outputs": [
        {
          "name": "stdout",
          "output_type": "stream",
          "text": [
            "AMean score: 0.73186\n",
            "GMean score: 0.73186\n",
            "Rank  score: 0.73185\n",
            "GMean  rank: 0.73185\n"
          ]
        }
      ],
      "source": [
        "train_lda_preds = np.array([estimator.predict_proba(oof_predictions_two)[:,1] for estimator in lda_estimators2]).T\n",
        "train_lda_preds = pd.DataFrame(data=train_lda_preds)\n",
        "mean_scores(train_lda_preds, y)"
      ],
      "id": "101b6ca0"
    },
    {
      "cell_type": "code",
      "execution_count": null,
      "metadata": {
        "id": "fedd7b09",
        "outputId": "03c7bd33-ea63-4c13-8d5b-dd370607fcdc"
      },
      "outputs": [
        {
          "name": "stdout",
          "output_type": "stream",
          "text": [
            "\n",
            "Optimized weights:\n",
            "Best score: 0.7319\n"
          ]
        }
      ],
      "source": [
        "results_list_two_lda = []   \n",
        "weights_list_two_lda = []  \n",
        "preds_two_lda = train_lda_preds.values\n",
        "\n",
        "def weights_objective(weights):\n",
        "    y_ens = np.average(preds_two_lda, axis=1, weights=weights)\n",
        "    return roc_auc_score(y, y_ens)\n",
        "\n",
        "for _ in range(100):\n",
        "  \n",
        "    w0 = np.random.uniform(size=preds_two_lda.shape[1])\n",
        "    bounds = [(0,1)] * preds_two_lda.shape[1]\n",
        "\n",
        "    cons = [{'type': 'eq',\n",
        "             'fun': lambda w: w.sum() - 1}]\n",
        "\n",
        "    res = minimize(weights_objective,\n",
        "                   w0,\n",
        "                   method='SLSQP',\n",
        "                   bounds=bounds,\n",
        "                   options={'disp':False, 'maxiter':10000},\n",
        "                   constraints=cons)\n",
        "\n",
        "    results_list_two_lda.append(res.fun)\n",
        "    weights_list_two_lda.append(res.x)\n",
        "\n",
        "best_score_two_lda = np.max(results_list_two_lda)    \n",
        "best_weights_two_lda = weights_list_two_lda[results_list_two_lda.index(best_score_two_lda)]\n",
        "\n",
        "print('\\nOptimized weights:')\n",
        "print('Best score: {:.4f}'.format(best_score_two_lda))"
      ],
      "id": "fedd7b09"
    },
    {
      "cell_type": "code",
      "execution_count": null,
      "metadata": {
        "id": "b2a0d906",
        "outputId": "83698248-58df-4c26-c89b-9f078080369b"
      },
      "outputs": [
        {
          "data": {
            "text/plain": [
              "0.7318844305593912"
            ]
          },
          "execution_count": 2343,
          "metadata": {},
          "output_type": "execute_result"
        }
      ],
      "source": [
        "optimized_scores_two_lda = np.average(train_lda_preds, axis=1, weights=best_weights_two_lda)\n",
        "roc_auc_score(y, optimized_scores_two_lda)"
      ],
      "id": "b2a0d906"
    },
    {
      "cell_type": "code",
      "execution_count": null,
      "metadata": {
        "id": "0a853b92",
        "outputId": "0c7a612e-783e-4457-8495-e571e772a748"
      },
      "outputs": [
        {
          "data": {
            "text/plain": [
              "(0.7267196527865419, 0.7370103694488828)"
            ]
          },
          "execution_count": 2344,
          "metadata": {},
          "output_type": "execute_result"
        }
      ],
      "source": [
        "calculate_confidence_interval(create_bootstrap_metrics(y, optimized_scores_two_lda, roc_auc_score))"
      ],
      "id": "0a853b92"
    },
    {
      "cell_type": "code",
      "execution_count": null,
      "metadata": {
        "id": "51c2346d"
      },
      "outputs": [],
      "source": [
        "test_lda_preds = np.array([estimator.predict_proba(test_predictions_two)[:,1] for estimator in lda_estimators2]).T"
      ],
      "id": "51c2346d"
    },
    {
      "cell_type": "code",
      "execution_count": null,
      "metadata": {
        "id": "e58e1ce9"
      },
      "outputs": [],
      "source": [
        "test_lda_preds_scores = np.average(test_lda_preds, axis=1, weights=best_weights_two_lda)"
      ],
      "id": "e58e1ce9"
    },
    {
      "cell_type": "code",
      "execution_count": null,
      "metadata": {
        "id": "6019a8bf"
      },
      "outputs": [],
      "source": [
        "final_part_two = pd.DataFrame({ID_COL: test[ID_COL], TARGET: test_lda_preds_scores})"
      ],
      "id": "6019a8bf"
    },
    {
      "cell_type": "code",
      "execution_count": null,
      "metadata": {
        "id": "5a150e80"
      },
      "outputs": [],
      "source": [
        "submission = test.merge(final_part_one, on=ID_COL, how='left')\n",
        "submission.drop('NAME_CONTRACT_TYPE', axis=1, inplace=True)"
      ],
      "id": "5a150e80"
    },
    {
      "cell_type": "code",
      "execution_count": null,
      "metadata": {
        "id": "4a4b3efb"
      },
      "outputs": [],
      "source": [
        "submission.loc[submission[TARGET].isna(), TARGET] = final_part_two.loc[submission[TARGET].isna(), TARGET]"
      ],
      "id": "4a4b3efb"
    },
    {
      "cell_type": "code",
      "execution_count": null,
      "metadata": {
        "id": "cdc3e8aa"
      },
      "outputs": [],
      "source": [
        "submission.to_csv('submission.csv', index=False)"
      ],
      "id": "cdc3e8aa"
    },
    {
      "cell_type": "code",
      "execution_count": null,
      "metadata": {
        "id": "a92de77c",
        "outputId": "62b9d893-7257-4255-bb5a-094610c6be5f"
      },
      "outputs": [
        {
          "name": "stdout",
          "output_type": "stream",
          "text": [
            "Successfully submitted to GeekBrains Competitive Data Analysis\n"
          ]
        },
        {
          "name": "stderr",
          "output_type": "stream",
          "text": [
            "\n",
            "  0%|          | 0.00/4.91M [00:00<?, ?B/s]\n",
            "  4%|4         | 216k/4.91M [00:00<00:05, 918kB/s]\n",
            " 23%|##2       | 1.12M/4.91M [00:00<00:00, 4.10MB/s]\n",
            " 34%|###4      | 1.69M/4.91M [00:00<00:01, 2.55MB/s]\n",
            " 64%|######3   | 3.14M/4.91M [00:00<00:00, 5.21MB/s]\n",
            "100%|##########| 4.91M/4.91M [00:00<00:00, 8.12MB/s]\n",
            "100%|##########| 4.91M/4.91M [00:02<00:00, 2.38MB/s]\n"
          ]
        }
      ],
      "source": [
        "!kaggle competitions submit -c geekbrains-competitive-data-analysis -f submission.csv -m \"test1\""
      ],
      "id": "a92de77c"
    },
    {
      "cell_type": "code",
      "execution_count": null,
      "metadata": {
        "id": "89cc925e"
      },
      "outputs": [],
      "source": [
        "# boruta\n",
        "# models CV (boosting), optimization (auc -> 0.735), optuna CV (np.mean or np.min or np.std(minimize) score)\n",
        "# CI\n",
        "# oof preds mean_scores, weighted mean_scores, lda/log stack\n",
        "# concat predictions (check first submit and compare with CI, define next steps)"
      ],
      "id": "89cc925e"
    },
    {
      "cell_type": "code",
      "execution_count": null,
      "metadata": {
        "id": "392f5e45"
      },
      "outputs": [],
      "source": [
        "def profiling(df):\n",
        "    \n",
        "    df['DAYS_ON_LAST_JOB'].replace(365243, np.nan, inplace= True)\n",
        "    df['NEW_CREDIT_TO_ANNUITY_RATIO'] = df['AMOUNT_CREDIT'] / df['AMOUNT_ANNUITY']\n",
        "    df['NEW_STATUS'] = df['GENDER'] + df['FAMILY_STATUS'].astype(str)\n",
        "    \n",
        "    df, cat_cols = get_encoded(df, nan_as_category=False)\n",
        "    \n",
        "    return df\n",
        "\n",
        "def get_encoded(df, nan_as_category = True):\n",
        "    original_columns = list(df.columns)\n",
        "    categorical_columns = [col for col in df.columns if df[col].dtype in ['object', 'category']]\n",
        "    df = pd.get_dummies(df, columns = categorical_columns, dummy_na = nan_as_category)\n",
        "    new_columns = [c for c in df.columns if c not in original_columns]\n",
        "    return df, new_columns\n",
        "\n",
        "\n",
        "raw_train = pd.read_csv('train.csv')\n",
        "raw_cp = pd.read_csv('client_profile.csv')\n",
        "\n",
        "train_ = raw_train.merge(raw_cp, on=ID_COL, how='left')\n",
        "\n",
        "target_ = train_[TARGET]\n",
        "\n",
        "train_ = train_.drop([ID_COL, TARGET], axis=1)\n",
        "\n",
        "train_ = profiling(train_)\n",
        "\n",
        "train_['NEW_STATUS_FUnknown'] = 0\n",
        "train_['NEW_STATUS_XNACivil marriage'] = 0"
      ],
      "id": "392f5e45"
    },
    {
      "cell_type": "code",
      "execution_count": null,
      "metadata": {
        "id": "b33914ed"
      },
      "outputs": [],
      "source": [
        "def lightgbm_cross_validation(params, X, y, cv, categorical=None, rounds=50):\n",
        "\n",
        "    estimators, folds_scores, train_scores = [], [], []\n",
        "    \n",
        "    if not categorical:\n",
        "        categorical = \"auto\"\n",
        "\n",
        "    oof_preds = np.zeros(X.shape[0])\n",
        "    print(f\"{time.ctime()}, Cross-Validation, {X.shape[0]} rows, {X.shape[1]} cols\")\n",
        "\n",
        "    for fold, (train_idx, valid_idx) in enumerate(cv.split(X, y)):\n",
        "        x_train, x_valid = X.loc[train_idx], X.loc[valid_idx]\n",
        "        y_train, y_valid = y[train_idx], y[valid_idx]\n",
        "        \n",
        "        model = LGBMClassifier(**params)\n",
        "        model.fit(\n",
        "            x_train, y_train,\n",
        "            eval_set=[(x_valid, y_valid)],\n",
        "            eval_metric=\"auc\", \n",
        "            verbose=0, \n",
        "            early_stopping_rounds=rounds\n",
        "        )\n",
        "        train_score = model.predict_proba(x_train)[:,1]\n",
        "        train_score = roc_auc_score(y_train, train_score)\n",
        "        oof_preds[valid_idx] = model.predict_proba(x_valid)[:, 1]\n",
        "        score = roc_auc_score(y_valid, oof_preds[valid_idx])\n",
        "        folds_scores.append(round(score, 5))\n",
        "        train_scores.append(round(train_score, 5))\n",
        "        print(f\"Fold {fold + 1}, Train score = {train_score:.5f}, Valid score = {score:.5f}\")\n",
        "        estimators.append(model)\n",
        "\n",
        "    print_scores(folds_scores, train_scores)\n",
        "    print(f\"OOF-score: {roc_auc_score(y, oof_preds):.5f}\")\n",
        "    return estimators, oof_preds\n",
        "\n",
        "def catboost_cross_validation(params, X, y, cv, categorical=None, rounds=50):\n",
        "\n",
        "    estimators, folds_scores, train_scores = [], [], []\n",
        "\n",
        "    oof_preds = np.zeros(X.shape[0])\n",
        "    print(f\"{time.ctime()}, Cross-Validation, {X.shape[0]} rows, {X.shape[1]} cols\")\n",
        "\n",
        "    for fold, (train_idx, valid_idx) in enumerate(cv.split(X, y)):\n",
        "        x_train, x_valid = X.loc[train_idx], X.loc[valid_idx]\n",
        "        y_train, y_valid = y[train_idx], y[valid_idx]\n",
        "        \n",
        "        model = CatBoostClassifier(cat_features=categorical, **params)\n",
        "        model.fit(\n",
        "            x_train, y_train,\n",
        "            eval_set=[(x_valid, y_valid)],\n",
        "            early_stopping_rounds=rounds\n",
        "        )\n",
        "        train_score = model.predict_proba(x_train)[:,1]\n",
        "        train_score = roc_auc_score(y_train, train_score)\n",
        "        oof_preds[valid_idx] = model.predict_proba(x_valid)[:, 1]\n",
        "        score = roc_auc_score(y_valid, oof_preds[valid_idx])\n",
        "        folds_scores.append(round(score, 5))\n",
        "        train_scores.append(round(train_score, 5))\n",
        "        print(f\"Fold {fold + 1}, Train score = {train_score:.5f}, Valid score = {score:.5f}\")\n",
        "        estimators.append(model)\n",
        "\n",
        "    print_scores(folds_scores, train_scores)\n",
        "    print(f\"OOF-score: {roc_auc_score(y, oof_preds):.5f}\")\n",
        "    return estimators, oof_preds\n",
        "\n",
        "def print_scores(folds_scores, train_scores):\n",
        "    print(f\"Train score by each fold: {train_scores}\")\n",
        "    print(f\"Valid score by each fold: {folds_scores}\")\n",
        "    print(f\"Train mean score by each fold:{np.mean(train_scores):.5f} +/- {np.std(train_scores):.5f}\")\n",
        "    print(f\"Valid mean score by each fold:{np.mean(folds_scores):.5f} +/- {np.std(folds_scores):.5f}\")\n",
        "    print(\"*\" * 50)"
      ],
      "id": "b33914ed"
    },
    {
      "cell_type": "code",
      "execution_count": null,
      "metadata": {
        "colab": {
          "base_uri": "https://localhost:8080/"
        },
        "id": "c5b46e91",
        "outputId": "12c401dd-1e09-40b7-cbe2-e3251d5eb657"
      },
      "outputs": [
        {
          "name": "stdout",
          "output_type": "stream",
          "text": [
            "Thu Aug 25 11:19:40 2022, Cross-Validation, 110093 rows, 51 cols\n",
            "Fold 1, Train score = 0.78336, Valid score = 0.74392\n",
            "Fold 2, Train score = 0.78505, Valid score = 0.72345\n",
            "Fold 3, Train score = 0.77757, Valid score = 0.73236\n",
            "Fold 4, Train score = 0.78079, Valid score = 0.73205\n",
            "Fold 5, Train score = 0.79660, Valid score = 0.71923\n",
            "Train score by each fold: [0.78336, 0.78505, 0.77757, 0.78079, 0.7966]\n",
            "Valid score by each fold: [0.74392, 0.72345, 0.73236, 0.73205, 0.71923]\n",
            "Train mean score by each fold:0.78467\n",
            "Valid mean score by each fold:0.73020\n",
            "**************************************************\n",
            "OOF-score: 0.72913\n"
          ]
        }
      ],
      "source": [
        "lgbm_params_ = {\n",
        "    'metric':\"auc\", \n",
        "    'boosting_type': 'gbdt',\n",
        "    'n_estimators': 1000,\n",
        "    'learning_rate': 0.03,\n",
        "    'num_leaves': 42,\n",
        "    'max_depth': 10,\n",
        "    'reg_alpha': 0.05,\n",
        "    'reg_lambda': 0.06,\n",
        "    'subsample': 0.8,\n",
        "    'min_child_weight': 60,\n",
        "    'random_state': seed\n",
        "}\n",
        "cv_strategy = KFold(n_splits=5, random_state=seed, shuffle=True)\n",
        "\n",
        "estimators_lgbm, oof_preds_lgbm = lightgbm_cross_validation(lgbm_params_, train_, target_, cv=cv_strategy)"
      ],
      "id": "c5b46e91"
    },
    {
      "cell_type": "code",
      "execution_count": null,
      "metadata": {
        "colab": {
          "base_uri": "https://localhost:8080/"
        },
        "id": "Pp8ZqPaRo5Lp",
        "outputId": "420b3835-85e2-4af4-c7ec-c59f6aa1feb9"
      },
      "outputs": [
        {
          "data": {
            "text/plain": [
              "0.7291312037068914"
            ]
          },
          "execution_count": 39,
          "metadata": {},
          "output_type": "execute_result"
        }
      ],
      "source": [
        "roc_auc_score(target_, oof_preds_lgbm)"
      ],
      "id": "Pp8ZqPaRo5Lp"
    },
    {
      "cell_type": "code",
      "execution_count": null,
      "metadata": {
        "id": "b07531a8"
      },
      "outputs": [],
      "source": [
        "def bki_cr(num_rows = None, nan_as_category = True):\n",
        "    bureau = pd.read_csv('bki.csv', nrows = num_rows)\n",
        "    bureau, bureau_cat = get_encoded(bureau, nan_as_category)\n",
        "\n",
        "    bureau.drop(['BUREAU_ID'], axis=1, inplace= True)\n",
        "    \n",
        "    num_aggregations = {\n",
        "        'CREDIT_DAY_OVERDUE': ['mean'],\n",
        "        'AMT_CREDIT_MAX_OVERDUE': ['mean'],\n",
        "        'AMT_CREDIT_SUM_OVERDUE': ['mean']\n",
        "    }\n",
        "    cat_aggregations = {}\n",
        "    for cat in bureau_cat: cat_aggregations[cat] = ['mean']\n",
        "    \n",
        "    bureau_agg = bureau.groupby(ID_COL).agg({**num_aggregations, **cat_aggregations})\n",
        "    bureau_agg.columns = pd.Index(['BURO_' + e[0] + \"_\" + e[1].upper() for e in bureau_agg.columns.tolist()])\n",
        "    \n",
        "    active = bureau[bureau['CREDIT_ACTIVE_Active'] == 1]\n",
        "    active_agg = active.groupby(ID_COL).agg(num_aggregations)\n",
        "    active_agg.columns = pd.Index(['ACTIVE_' + e[0] + \"_\" + e[1].upper() for e in active_agg.columns.tolist()])\n",
        "    bureau_agg = bureau_agg.join(active_agg, how='left', on=ID_COL)\n",
        "\n",
        "    closed = bureau[bureau['CREDIT_ACTIVE_Closed'] == 1]\n",
        "    closed_agg = closed.groupby(ID_COL).agg(num_aggregations)\n",
        "    closed_agg.columns = pd.Index(['CLOSED_' + e[0] + \"_\" + e[1].upper() for e in closed_agg.columns.tolist()])\n",
        "    bureau_agg = bureau_agg.join(closed_agg, how='left', on=ID_COL)\n",
        "\n",
        "    return bureau_agg\n",
        "def get_encoded(df, nan_as_category = True):\n",
        "    original_columns = list(df.columns)\n",
        "    categorical_columns = [col for col in df.columns if df[col].dtype == 'object']\n",
        "    df = pd.get_dummies(df, columns = categorical_columns, dummy_na = nan_as_category)\n",
        "    new_columns = [c for c in df.columns if c not in original_columns]\n",
        "    return df, new_columns"
      ],
      "id": "b07531a8"
    },
    {
      "cell_type": "code",
      "execution_count": null,
      "metadata": {
        "id": "aa5ea0ad"
      },
      "outputs": [],
      "source": [
        "def prepare_bki_sec() -> pd.DataFrame:\n",
        "    df = pd.read_csv('bki.csv')\n",
        "    df.drop('BUREAU_ID', axis=1, inplace=True)\n",
        "    # fill nans with zeros\n",
        "    df.fillna(0, inplace=True)\n",
        "\n",
        "    # large values \n",
        "    df['susp'] = 0\n",
        "    \n",
        "    sharp_columns = {column: df[column].kurtosis() for column in df.select_dtypes(include=\"number\").columns}\n",
        "    for column, value in sharp_columns.items():\n",
        "        if np.abs(value) > 10:\n",
        "            condition = ((df[column] < np.percentile(df[column], 1)) | (df[column] > np.percentile(df[column], 99)))\n",
        "            df.loc[condition, 'susp'] = 1\n",
        "            # p1 = np.percentile(df[column], 1)\n",
        "            # p2 = np.percentile(df[column], 99)\n",
        "            # df[column] = np.clip(df[column], p1, p2)\n",
        "    \n",
        "    # create new features: mean and sum of AMTs grouped by credit-type\n",
        "    amount_cols = [col for col in df.columns if col.startswith('AMT')]\n",
        "    for i, column in enumerate(amount_cols, 1):\n",
        "        df[f\"{column}_CREDIT_TYPE\"] = df.groupby('CREDIT_TYPE')[column].transform(\"mean\")\n",
        "    \n",
        "    df['AMT_SUM'] = df[amount_cols].sum(axis=1)\n",
        "    df['AMT_KUR'] = df[amount_cols].kurtosis(axis=1)\n",
        "\n",
        "    # reduce dataset size\n",
        "    df = df[df[ID_COL].isin(list(train_ids | test_ids))]\n",
        "\n",
        "    # mean and sum \n",
        "    agg_funcs = dict(zip(amount_cols, [[\"mean\", \"sum\"]]*len(amount_cols)))\n",
        "    mask = df['CREDIT_ACTIVE'] == 'Active'\n",
        "    active_agg = create_numerical_aggs(data=df[mask], groupby_id=ID_COL, aggs=agg_funcs, suffix=\"_BY_CREDIT_ACTIVE\").fillna(0)\n",
        "\n",
        "    mask = df['CREDIT_ACTIVE'] == 'Closed'\n",
        "    inactive_agg = create_numerical_aggs(data=df[mask], groupby_id=ID_COL, aggs=agg_funcs, suffix=\"_BY_CREDIT_INACTIVE\").fillna(0)\n",
        "\n",
        "    # aggregate by ID_COL with different statistics to preserve individual loans info\n",
        "    agg_funcs = {column: [\"mean\", \"count\", \"min\", \"max\", \"std\", \"sum\"] for column in df.select_dtypes(exclude=\"object\").columns[1:]}\n",
        "    num_df = create_numerical_aggs(data=df.select_dtypes(exclude=\"object\"), groupby_id=ID_COL, aggs=agg_funcs).fillna(0)\n",
        "\n",
        "    cat_df = create_categorical_aggs(data=df, groupby_id=ID_COL, features=['CREDIT_CURRENCY', 'CREDIT_TYPE']).fillna(0)\n",
        "\n",
        "    df = pd.merge(num_df, cat_df, on=ID_COL, how='left')\n",
        "    # df = pd.merge(df, num_cat, on=ID_COL, how='left')\n",
        "    df = df.merge(active_agg, how='left', on=ID_COL)\n",
        "    df= df.merge(inactive_agg, on=ID_COL, how='left')\n",
        "    del cat_df, num_df, active_agg, inactive_agg\n",
        "\n",
        "    df.fillna(0, inplace=True)\n",
        "    # reduce memory usage\n",
        "    df = reduce_memory_df(df)\n",
        "\n",
        "    return df\n",
        "select = [sel for sel in selected if not sel.startswith('NAME')]\n",
        "bki_fin = prepare_bki_sec()[select + [ID_COL]]\n",
        "bki_fin_train = bki_fin[bki_fin[ID_COL].isin(train_ids)]\n",
        "bki_fin_test = bki_fin[bki_fin[ID_COL].isin(test_ids)]"
      ],
      "id": "aa5ea0ad"
    }
  ],
  "metadata": {
    "colab": {
      "collapsed_sections": [
        "4b5841c1"
      ],
      "name": "NN_blacksheet.ipynb",
      "provenance": []
    },
    "gpuClass": "standard",
    "kernelspec": {
      "display_name": "Python 3 (ipykernel)",
      "language": "python",
      "name": "python3"
    },
    "language_info": {
      "codemirror_mode": {
        "name": "ipython",
        "version": 3
      },
      "file_extension": ".py",
      "mimetype": "text/x-python",
      "name": "python",
      "nbconvert_exporter": "python",
      "pygments_lexer": "ipython3",
      "version": "3.10.4"
    },
    "widgets": {
      "application/vnd.jupyter.widget-state+json": {
        "8b1282acd7b54d18a56dbb3d933bf5a8": {
          "model_module": "@jupyter-widgets/controls",
          "model_name": "HBoxModel",
          "model_module_version": "1.5.0",
          "state": {
            "_dom_classes": [],
            "_model_module": "@jupyter-widgets/controls",
            "_model_module_version": "1.5.0",
            "_model_name": "HBoxModel",
            "_view_count": null,
            "_view_module": "@jupyter-widgets/controls",
            "_view_module_version": "1.5.0",
            "_view_name": "HBoxView",
            "box_style": "",
            "children": [
              "IPY_MODEL_02bb9538d82f41b68439f7c2d3adf4e9",
              "IPY_MODEL_7a72339b435e45018cac5a5144d5a46d",
              "IPY_MODEL_b8073e5f2c8442bcaceb0d381fbc7299"
            ],
            "layout": "IPY_MODEL_a76d3b7e3e1945aea522b135a7e73ca4"
          }
        },
        "02bb9538d82f41b68439f7c2d3adf4e9": {
          "model_module": "@jupyter-widgets/controls",
          "model_name": "HTMLModel",
          "model_module_version": "1.5.0",
          "state": {
            "_dom_classes": [],
            "_model_module": "@jupyter-widgets/controls",
            "_model_module_version": "1.5.0",
            "_model_name": "HTMLModel",
            "_view_count": null,
            "_view_module": "@jupyter-widgets/controls",
            "_view_module_version": "1.5.0",
            "_view_name": "HTMLView",
            "description": "",
            "description_tooltip": null,
            "layout": "IPY_MODEL_87fa1db0717a4efe9425f81d724d601e",
            "placeholder": "​",
            "style": "IPY_MODEL_4a5f49dc1248430195fbd915babf526d",
            "value": "100%"
          }
        },
        "7a72339b435e45018cac5a5144d5a46d": {
          "model_module": "@jupyter-widgets/controls",
          "model_name": "FloatProgressModel",
          "model_module_version": "1.5.0",
          "state": {
            "_dom_classes": [],
            "_model_module": "@jupyter-widgets/controls",
            "_model_module_version": "1.5.0",
            "_model_name": "FloatProgressModel",
            "_view_count": null,
            "_view_module": "@jupyter-widgets/controls",
            "_view_module_version": "1.5.0",
            "_view_name": "ProgressView",
            "bar_style": "success",
            "description": "",
            "description_tooltip": null,
            "layout": "IPY_MODEL_7a5bd1d937a3481f806a6dabaa0200c1",
            "max": 20,
            "min": 0,
            "orientation": "horizontal",
            "style": "IPY_MODEL_eba7abab6ab847aa932914d1f6d6d369",
            "value": 20
          }
        },
        "b8073e5f2c8442bcaceb0d381fbc7299": {
          "model_module": "@jupyter-widgets/controls",
          "model_name": "HTMLModel",
          "model_module_version": "1.5.0",
          "state": {
            "_dom_classes": [],
            "_model_module": "@jupyter-widgets/controls",
            "_model_module_version": "1.5.0",
            "_model_name": "HTMLModel",
            "_view_count": null,
            "_view_module": "@jupyter-widgets/controls",
            "_view_module_version": "1.5.0",
            "_view_name": "HTMLView",
            "description": "",
            "description_tooltip": null,
            "layout": "IPY_MODEL_4154f13d295d4008bfa5a9b18623bc90",
            "placeholder": "​",
            "style": "IPY_MODEL_25c35bc672ea496bb9e5f1a02ccdd348",
            "value": " 20/20 [06:58&lt;00:00, 18.48s/it]"
          }
        },
        "a76d3b7e3e1945aea522b135a7e73ca4": {
          "model_module": "@jupyter-widgets/base",
          "model_name": "LayoutModel",
          "model_module_version": "1.2.0",
          "state": {
            "_model_module": "@jupyter-widgets/base",
            "_model_module_version": "1.2.0",
            "_model_name": "LayoutModel",
            "_view_count": null,
            "_view_module": "@jupyter-widgets/base",
            "_view_module_version": "1.2.0",
            "_view_name": "LayoutView",
            "align_content": null,
            "align_items": null,
            "align_self": null,
            "border": null,
            "bottom": null,
            "display": null,
            "flex": null,
            "flex_flow": null,
            "grid_area": null,
            "grid_auto_columns": null,
            "grid_auto_flow": null,
            "grid_auto_rows": null,
            "grid_column": null,
            "grid_gap": null,
            "grid_row": null,
            "grid_template_areas": null,
            "grid_template_columns": null,
            "grid_template_rows": null,
            "height": null,
            "justify_content": null,
            "justify_items": null,
            "left": null,
            "margin": null,
            "max_height": null,
            "max_width": null,
            "min_height": null,
            "min_width": null,
            "object_fit": null,
            "object_position": null,
            "order": null,
            "overflow": null,
            "overflow_x": null,
            "overflow_y": null,
            "padding": null,
            "right": null,
            "top": null,
            "visibility": null,
            "width": null
          }
        },
        "87fa1db0717a4efe9425f81d724d601e": {
          "model_module": "@jupyter-widgets/base",
          "model_name": "LayoutModel",
          "model_module_version": "1.2.0",
          "state": {
            "_model_module": "@jupyter-widgets/base",
            "_model_module_version": "1.2.0",
            "_model_name": "LayoutModel",
            "_view_count": null,
            "_view_module": "@jupyter-widgets/base",
            "_view_module_version": "1.2.0",
            "_view_name": "LayoutView",
            "align_content": null,
            "align_items": null,
            "align_self": null,
            "border": null,
            "bottom": null,
            "display": null,
            "flex": null,
            "flex_flow": null,
            "grid_area": null,
            "grid_auto_columns": null,
            "grid_auto_flow": null,
            "grid_auto_rows": null,
            "grid_column": null,
            "grid_gap": null,
            "grid_row": null,
            "grid_template_areas": null,
            "grid_template_columns": null,
            "grid_template_rows": null,
            "height": null,
            "justify_content": null,
            "justify_items": null,
            "left": null,
            "margin": null,
            "max_height": null,
            "max_width": null,
            "min_height": null,
            "min_width": null,
            "object_fit": null,
            "object_position": null,
            "order": null,
            "overflow": null,
            "overflow_x": null,
            "overflow_y": null,
            "padding": null,
            "right": null,
            "top": null,
            "visibility": null,
            "width": null
          }
        },
        "4a5f49dc1248430195fbd915babf526d": {
          "model_module": "@jupyter-widgets/controls",
          "model_name": "DescriptionStyleModel",
          "model_module_version": "1.5.0",
          "state": {
            "_model_module": "@jupyter-widgets/controls",
            "_model_module_version": "1.5.0",
            "_model_name": "DescriptionStyleModel",
            "_view_count": null,
            "_view_module": "@jupyter-widgets/base",
            "_view_module_version": "1.2.0",
            "_view_name": "StyleView",
            "description_width": ""
          }
        },
        "7a5bd1d937a3481f806a6dabaa0200c1": {
          "model_module": "@jupyter-widgets/base",
          "model_name": "LayoutModel",
          "model_module_version": "1.2.0",
          "state": {
            "_model_module": "@jupyter-widgets/base",
            "_model_module_version": "1.2.0",
            "_model_name": "LayoutModel",
            "_view_count": null,
            "_view_module": "@jupyter-widgets/base",
            "_view_module_version": "1.2.0",
            "_view_name": "LayoutView",
            "align_content": null,
            "align_items": null,
            "align_self": null,
            "border": null,
            "bottom": null,
            "display": null,
            "flex": null,
            "flex_flow": null,
            "grid_area": null,
            "grid_auto_columns": null,
            "grid_auto_flow": null,
            "grid_auto_rows": null,
            "grid_column": null,
            "grid_gap": null,
            "grid_row": null,
            "grid_template_areas": null,
            "grid_template_columns": null,
            "grid_template_rows": null,
            "height": null,
            "justify_content": null,
            "justify_items": null,
            "left": null,
            "margin": null,
            "max_height": null,
            "max_width": null,
            "min_height": null,
            "min_width": null,
            "object_fit": null,
            "object_position": null,
            "order": null,
            "overflow": null,
            "overflow_x": null,
            "overflow_y": null,
            "padding": null,
            "right": null,
            "top": null,
            "visibility": null,
            "width": null
          }
        },
        "eba7abab6ab847aa932914d1f6d6d369": {
          "model_module": "@jupyter-widgets/controls",
          "model_name": "ProgressStyleModel",
          "model_module_version": "1.5.0",
          "state": {
            "_model_module": "@jupyter-widgets/controls",
            "_model_module_version": "1.5.0",
            "_model_name": "ProgressStyleModel",
            "_view_count": null,
            "_view_module": "@jupyter-widgets/base",
            "_view_module_version": "1.2.0",
            "_view_name": "StyleView",
            "bar_color": null,
            "description_width": ""
          }
        },
        "4154f13d295d4008bfa5a9b18623bc90": {
          "model_module": "@jupyter-widgets/base",
          "model_name": "LayoutModel",
          "model_module_version": "1.2.0",
          "state": {
            "_model_module": "@jupyter-widgets/base",
            "_model_module_version": "1.2.0",
            "_model_name": "LayoutModel",
            "_view_count": null,
            "_view_module": "@jupyter-widgets/base",
            "_view_module_version": "1.2.0",
            "_view_name": "LayoutView",
            "align_content": null,
            "align_items": null,
            "align_self": null,
            "border": null,
            "bottom": null,
            "display": null,
            "flex": null,
            "flex_flow": null,
            "grid_area": null,
            "grid_auto_columns": null,
            "grid_auto_flow": null,
            "grid_auto_rows": null,
            "grid_column": null,
            "grid_gap": null,
            "grid_row": null,
            "grid_template_areas": null,
            "grid_template_columns": null,
            "grid_template_rows": null,
            "height": null,
            "justify_content": null,
            "justify_items": null,
            "left": null,
            "margin": null,
            "max_height": null,
            "max_width": null,
            "min_height": null,
            "min_width": null,
            "object_fit": null,
            "object_position": null,
            "order": null,
            "overflow": null,
            "overflow_x": null,
            "overflow_y": null,
            "padding": null,
            "right": null,
            "top": null,
            "visibility": null,
            "width": null
          }
        },
        "25c35bc672ea496bb9e5f1a02ccdd348": {
          "model_module": "@jupyter-widgets/controls",
          "model_name": "DescriptionStyleModel",
          "model_module_version": "1.5.0",
          "state": {
            "_model_module": "@jupyter-widgets/controls",
            "_model_module_version": "1.5.0",
            "_model_name": "DescriptionStyleModel",
            "_view_count": null,
            "_view_module": "@jupyter-widgets/base",
            "_view_module_version": "1.2.0",
            "_view_name": "StyleView",
            "description_width": ""
          }
        }
      }
    }
  },
  "nbformat": 4,
  "nbformat_minor": 5
}