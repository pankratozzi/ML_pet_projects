{
  "nbformat": 4,
  "nbformat_minor": 0,
  "metadata": {
    "colab": {
      "name": "weather_experimental.ipynb",
      "provenance": [],
      "collapsed_sections": []
    },
    "kernelspec": {
      "name": "python3",
      "display_name": "Python 3"
    },
    "language_info": {
      "name": "python"
    },
    "widgets": {
      "application/vnd.jupyter.widget-state+json": {
        "e20aa1fd899a4ae98ff15b37f7cb2d21": {
          "model_module": "@jupyter-widgets/controls",
          "model_name": "HBoxModel",
          "model_module_version": "1.5.0",
          "state": {
            "_dom_classes": [],
            "_model_module": "@jupyter-widgets/controls",
            "_model_module_version": "1.5.0",
            "_model_name": "HBoxModel",
            "_view_count": null,
            "_view_module": "@jupyter-widgets/controls",
            "_view_module_version": "1.5.0",
            "_view_name": "HBoxView",
            "box_style": "",
            "children": [
              "IPY_MODEL_c9648624a2bd449287869eeefcd1f0b6",
              "IPY_MODEL_dd7bcaa737e944ff9c3c90a01fedd11b",
              "IPY_MODEL_71b9dda3f53743b3af13316deb3d6f30"
            ],
            "layout": "IPY_MODEL_64e571deb36b4b3a8829353978e82bf2"
          }
        },
        "c9648624a2bd449287869eeefcd1f0b6": {
          "model_module": "@jupyter-widgets/controls",
          "model_name": "HTMLModel",
          "model_module_version": "1.5.0",
          "state": {
            "_dom_classes": [],
            "_model_module": "@jupyter-widgets/controls",
            "_model_module_version": "1.5.0",
            "_model_name": "HTMLModel",
            "_view_count": null,
            "_view_module": "@jupyter-widgets/controls",
            "_view_module_version": "1.5.0",
            "_view_name": "HTMLView",
            "description": "",
            "description_tooltip": null,
            "layout": "IPY_MODEL_1cebcf66ffa74fdd82749c04760fc86b",
            "placeholder": "​",
            "style": "IPY_MODEL_04db13bb1c1d48dfa18a03db2e076954",
            "value": " 96%"
          }
        },
        "dd7bcaa737e944ff9c3c90a01fedd11b": {
          "model_module": "@jupyter-widgets/controls",
          "model_name": "FloatProgressModel",
          "model_module_version": "1.5.0",
          "state": {
            "_dom_classes": [],
            "_model_module": "@jupyter-widgets/controls",
            "_model_module_version": "1.5.0",
            "_model_name": "FloatProgressModel",
            "_view_count": null,
            "_view_module": "@jupyter-widgets/controls",
            "_view_module_version": "1.5.0",
            "_view_name": "ProgressView",
            "bar_style": "danger",
            "description": "",
            "description_tooltip": null,
            "layout": "IPY_MODEL_bb5f641030c346179be75ff63ff28781",
            "max": 271,
            "min": 0,
            "orientation": "horizontal",
            "style": "IPY_MODEL_943dabf6b31d4410b34f2240c20c8a7a",
            "value": 261
          }
        },
        "71b9dda3f53743b3af13316deb3d6f30": {
          "model_module": "@jupyter-widgets/controls",
          "model_name": "HTMLModel",
          "model_module_version": "1.5.0",
          "state": {
            "_dom_classes": [],
            "_model_module": "@jupyter-widgets/controls",
            "_model_module_version": "1.5.0",
            "_model_name": "HTMLModel",
            "_view_count": null,
            "_view_module": "@jupyter-widgets/controls",
            "_view_module_version": "1.5.0",
            "_view_name": "HTMLView",
            "description": "",
            "description_tooltip": null,
            "layout": "IPY_MODEL_8c7d2bece8604cbc910d5944ae9ddd16",
            "placeholder": "​",
            "style": "IPY_MODEL_0c9ff9d0475e49f9b7d7149873f17113",
            "value": " 261/271 [00:02&lt;00:00, 97.37it/s]"
          }
        },
        "64e571deb36b4b3a8829353978e82bf2": {
          "model_module": "@jupyter-widgets/base",
          "model_name": "LayoutModel",
          "model_module_version": "1.2.0",
          "state": {
            "_model_module": "@jupyter-widgets/base",
            "_model_module_version": "1.2.0",
            "_model_name": "LayoutModel",
            "_view_count": null,
            "_view_module": "@jupyter-widgets/base",
            "_view_module_version": "1.2.0",
            "_view_name": "LayoutView",
            "align_content": null,
            "align_items": null,
            "align_self": null,
            "border": null,
            "bottom": null,
            "display": null,
            "flex": null,
            "flex_flow": null,
            "grid_area": null,
            "grid_auto_columns": null,
            "grid_auto_flow": null,
            "grid_auto_rows": null,
            "grid_column": null,
            "grid_gap": null,
            "grid_row": null,
            "grid_template_areas": null,
            "grid_template_columns": null,
            "grid_template_rows": null,
            "height": null,
            "justify_content": null,
            "justify_items": null,
            "left": null,
            "margin": null,
            "max_height": null,
            "max_width": null,
            "min_height": null,
            "min_width": null,
            "object_fit": null,
            "object_position": null,
            "order": null,
            "overflow": null,
            "overflow_x": null,
            "overflow_y": null,
            "padding": null,
            "right": null,
            "top": null,
            "visibility": null,
            "width": null
          }
        },
        "1cebcf66ffa74fdd82749c04760fc86b": {
          "model_module": "@jupyter-widgets/base",
          "model_name": "LayoutModel",
          "model_module_version": "1.2.0",
          "state": {
            "_model_module": "@jupyter-widgets/base",
            "_model_module_version": "1.2.0",
            "_model_name": "LayoutModel",
            "_view_count": null,
            "_view_module": "@jupyter-widgets/base",
            "_view_module_version": "1.2.0",
            "_view_name": "LayoutView",
            "align_content": null,
            "align_items": null,
            "align_self": null,
            "border": null,
            "bottom": null,
            "display": null,
            "flex": null,
            "flex_flow": null,
            "grid_area": null,
            "grid_auto_columns": null,
            "grid_auto_flow": null,
            "grid_auto_rows": null,
            "grid_column": null,
            "grid_gap": null,
            "grid_row": null,
            "grid_template_areas": null,
            "grid_template_columns": null,
            "grid_template_rows": null,
            "height": null,
            "justify_content": null,
            "justify_items": null,
            "left": null,
            "margin": null,
            "max_height": null,
            "max_width": null,
            "min_height": null,
            "min_width": null,
            "object_fit": null,
            "object_position": null,
            "order": null,
            "overflow": null,
            "overflow_x": null,
            "overflow_y": null,
            "padding": null,
            "right": null,
            "top": null,
            "visibility": null,
            "width": null
          }
        },
        "04db13bb1c1d48dfa18a03db2e076954": {
          "model_module": "@jupyter-widgets/controls",
          "model_name": "DescriptionStyleModel",
          "model_module_version": "1.5.0",
          "state": {
            "_model_module": "@jupyter-widgets/controls",
            "_model_module_version": "1.5.0",
            "_model_name": "DescriptionStyleModel",
            "_view_count": null,
            "_view_module": "@jupyter-widgets/base",
            "_view_module_version": "1.2.0",
            "_view_name": "StyleView",
            "description_width": ""
          }
        },
        "bb5f641030c346179be75ff63ff28781": {
          "model_module": "@jupyter-widgets/base",
          "model_name": "LayoutModel",
          "model_module_version": "1.2.0",
          "state": {
            "_model_module": "@jupyter-widgets/base",
            "_model_module_version": "1.2.0",
            "_model_name": "LayoutModel",
            "_view_count": null,
            "_view_module": "@jupyter-widgets/base",
            "_view_module_version": "1.2.0",
            "_view_name": "LayoutView",
            "align_content": null,
            "align_items": null,
            "align_self": null,
            "border": null,
            "bottom": null,
            "display": null,
            "flex": null,
            "flex_flow": null,
            "grid_area": null,
            "grid_auto_columns": null,
            "grid_auto_flow": null,
            "grid_auto_rows": null,
            "grid_column": null,
            "grid_gap": null,
            "grid_row": null,
            "grid_template_areas": null,
            "grid_template_columns": null,
            "grid_template_rows": null,
            "height": null,
            "justify_content": null,
            "justify_items": null,
            "left": null,
            "margin": null,
            "max_height": null,
            "max_width": null,
            "min_height": null,
            "min_width": null,
            "object_fit": null,
            "object_position": null,
            "order": null,
            "overflow": null,
            "overflow_x": null,
            "overflow_y": null,
            "padding": null,
            "right": null,
            "top": null,
            "visibility": null,
            "width": null
          }
        },
        "943dabf6b31d4410b34f2240c20c8a7a": {
          "model_module": "@jupyter-widgets/controls",
          "model_name": "ProgressStyleModel",
          "model_module_version": "1.5.0",
          "state": {
            "_model_module": "@jupyter-widgets/controls",
            "_model_module_version": "1.5.0",
            "_model_name": "ProgressStyleModel",
            "_view_count": null,
            "_view_module": "@jupyter-widgets/base",
            "_view_module_version": "1.2.0",
            "_view_name": "StyleView",
            "bar_color": null,
            "description_width": ""
          }
        },
        "8c7d2bece8604cbc910d5944ae9ddd16": {
          "model_module": "@jupyter-widgets/base",
          "model_name": "LayoutModel",
          "model_module_version": "1.2.0",
          "state": {
            "_model_module": "@jupyter-widgets/base",
            "_model_module_version": "1.2.0",
            "_model_name": "LayoutModel",
            "_view_count": null,
            "_view_module": "@jupyter-widgets/base",
            "_view_module_version": "1.2.0",
            "_view_name": "LayoutView",
            "align_content": null,
            "align_items": null,
            "align_self": null,
            "border": null,
            "bottom": null,
            "display": null,
            "flex": null,
            "flex_flow": null,
            "grid_area": null,
            "grid_auto_columns": null,
            "grid_auto_flow": null,
            "grid_auto_rows": null,
            "grid_column": null,
            "grid_gap": null,
            "grid_row": null,
            "grid_template_areas": null,
            "grid_template_columns": null,
            "grid_template_rows": null,
            "height": null,
            "justify_content": null,
            "justify_items": null,
            "left": null,
            "margin": null,
            "max_height": null,
            "max_width": null,
            "min_height": null,
            "min_width": null,
            "object_fit": null,
            "object_position": null,
            "order": null,
            "overflow": null,
            "overflow_x": null,
            "overflow_y": null,
            "padding": null,
            "right": null,
            "top": null,
            "visibility": null,
            "width": null
          }
        },
        "0c9ff9d0475e49f9b7d7149873f17113": {
          "model_module": "@jupyter-widgets/controls",
          "model_name": "DescriptionStyleModel",
          "model_module_version": "1.5.0",
          "state": {
            "_model_module": "@jupyter-widgets/controls",
            "_model_module_version": "1.5.0",
            "_model_name": "DescriptionStyleModel",
            "_view_count": null,
            "_view_module": "@jupyter-widgets/base",
            "_view_module_version": "1.2.0",
            "_view_name": "StyleView",
            "description_width": ""
          }
        },
        "f021a1dc6ff1423688fcacc340a77ba8": {
          "model_module": "@jupyter-widgets/controls",
          "model_name": "HBoxModel",
          "model_module_version": "1.5.0",
          "state": {
            "_dom_classes": [],
            "_model_module": "@jupyter-widgets/controls",
            "_model_module_version": "1.5.0",
            "_model_name": "HBoxModel",
            "_view_count": null,
            "_view_module": "@jupyter-widgets/controls",
            "_view_module_version": "1.5.0",
            "_view_name": "HBoxView",
            "box_style": "",
            "children": [
              "IPY_MODEL_63dbc382ba714688a221f04a02afb34f",
              "IPY_MODEL_5385a628d5a14f389897c1c43fe923fd",
              "IPY_MODEL_59b0281d0a974378af2e06f3fdf1fb72"
            ],
            "layout": "IPY_MODEL_f73e5df3b8f84c05a2b931c8d46d17c2"
          }
        },
        "63dbc382ba714688a221f04a02afb34f": {
          "model_module": "@jupyter-widgets/controls",
          "model_name": "HTMLModel",
          "model_module_version": "1.5.0",
          "state": {
            "_dom_classes": [],
            "_model_module": "@jupyter-widgets/controls",
            "_model_module_version": "1.5.0",
            "_model_name": "HTMLModel",
            "_view_count": null,
            "_view_module": "@jupyter-widgets/controls",
            "_view_module_version": "1.5.0",
            "_view_name": "HTMLView",
            "description": "",
            "description_tooltip": null,
            "layout": "IPY_MODEL_0cc1ed02b9c145868e90a0014eb58b47",
            "placeholder": "​",
            "style": "IPY_MODEL_f2c8f505e01445c7a0c81fff6b626450",
            "value": " 95%"
          }
        },
        "5385a628d5a14f389897c1c43fe923fd": {
          "model_module": "@jupyter-widgets/controls",
          "model_name": "FloatProgressModel",
          "model_module_version": "1.5.0",
          "state": {
            "_dom_classes": [],
            "_model_module": "@jupyter-widgets/controls",
            "_model_module_version": "1.5.0",
            "_model_name": "FloatProgressModel",
            "_view_count": null,
            "_view_module": "@jupyter-widgets/controls",
            "_view_module_version": "1.5.0",
            "_view_name": "ProgressView",
            "bar_style": "danger",
            "description": "",
            "description_tooltip": null,
            "layout": "IPY_MODEL_268ef243a00a4a648f83610958a5a0f8",
            "max": 271,
            "min": 0,
            "orientation": "horizontal",
            "style": "IPY_MODEL_a7633b24de5c408697a3d20a4792902a",
            "value": 257
          }
        },
        "59b0281d0a974378af2e06f3fdf1fb72": {
          "model_module": "@jupyter-widgets/controls",
          "model_name": "HTMLModel",
          "model_module_version": "1.5.0",
          "state": {
            "_dom_classes": [],
            "_model_module": "@jupyter-widgets/controls",
            "_model_module_version": "1.5.0",
            "_model_name": "HTMLModel",
            "_view_count": null,
            "_view_module": "@jupyter-widgets/controls",
            "_view_module_version": "1.5.0",
            "_view_name": "HTMLView",
            "description": "",
            "description_tooltip": null,
            "layout": "IPY_MODEL_7cb6b5a887494c96998c7fdb809faae8",
            "placeholder": "​",
            "style": "IPY_MODEL_ee21842d8873436c814eb34f92e8ff1b",
            "value": " 257/271 [00:02&lt;00:00, 95.27it/s]"
          }
        },
        "f73e5df3b8f84c05a2b931c8d46d17c2": {
          "model_module": "@jupyter-widgets/base",
          "model_name": "LayoutModel",
          "model_module_version": "1.2.0",
          "state": {
            "_model_module": "@jupyter-widgets/base",
            "_model_module_version": "1.2.0",
            "_model_name": "LayoutModel",
            "_view_count": null,
            "_view_module": "@jupyter-widgets/base",
            "_view_module_version": "1.2.0",
            "_view_name": "LayoutView",
            "align_content": null,
            "align_items": null,
            "align_self": null,
            "border": null,
            "bottom": null,
            "display": null,
            "flex": null,
            "flex_flow": null,
            "grid_area": null,
            "grid_auto_columns": null,
            "grid_auto_flow": null,
            "grid_auto_rows": null,
            "grid_column": null,
            "grid_gap": null,
            "grid_row": null,
            "grid_template_areas": null,
            "grid_template_columns": null,
            "grid_template_rows": null,
            "height": null,
            "justify_content": null,
            "justify_items": null,
            "left": null,
            "margin": null,
            "max_height": null,
            "max_width": null,
            "min_height": null,
            "min_width": null,
            "object_fit": null,
            "object_position": null,
            "order": null,
            "overflow": null,
            "overflow_x": null,
            "overflow_y": null,
            "padding": null,
            "right": null,
            "top": null,
            "visibility": null,
            "width": null
          }
        },
        "0cc1ed02b9c145868e90a0014eb58b47": {
          "model_module": "@jupyter-widgets/base",
          "model_name": "LayoutModel",
          "model_module_version": "1.2.0",
          "state": {
            "_model_module": "@jupyter-widgets/base",
            "_model_module_version": "1.2.0",
            "_model_name": "LayoutModel",
            "_view_count": null,
            "_view_module": "@jupyter-widgets/base",
            "_view_module_version": "1.2.0",
            "_view_name": "LayoutView",
            "align_content": null,
            "align_items": null,
            "align_self": null,
            "border": null,
            "bottom": null,
            "display": null,
            "flex": null,
            "flex_flow": null,
            "grid_area": null,
            "grid_auto_columns": null,
            "grid_auto_flow": null,
            "grid_auto_rows": null,
            "grid_column": null,
            "grid_gap": null,
            "grid_row": null,
            "grid_template_areas": null,
            "grid_template_columns": null,
            "grid_template_rows": null,
            "height": null,
            "justify_content": null,
            "justify_items": null,
            "left": null,
            "margin": null,
            "max_height": null,
            "max_width": null,
            "min_height": null,
            "min_width": null,
            "object_fit": null,
            "object_position": null,
            "order": null,
            "overflow": null,
            "overflow_x": null,
            "overflow_y": null,
            "padding": null,
            "right": null,
            "top": null,
            "visibility": null,
            "width": null
          }
        },
        "f2c8f505e01445c7a0c81fff6b626450": {
          "model_module": "@jupyter-widgets/controls",
          "model_name": "DescriptionStyleModel",
          "model_module_version": "1.5.0",
          "state": {
            "_model_module": "@jupyter-widgets/controls",
            "_model_module_version": "1.5.0",
            "_model_name": "DescriptionStyleModel",
            "_view_count": null,
            "_view_module": "@jupyter-widgets/base",
            "_view_module_version": "1.2.0",
            "_view_name": "StyleView",
            "description_width": ""
          }
        },
        "268ef243a00a4a648f83610958a5a0f8": {
          "model_module": "@jupyter-widgets/base",
          "model_name": "LayoutModel",
          "model_module_version": "1.2.0",
          "state": {
            "_model_module": "@jupyter-widgets/base",
            "_model_module_version": "1.2.0",
            "_model_name": "LayoutModel",
            "_view_count": null,
            "_view_module": "@jupyter-widgets/base",
            "_view_module_version": "1.2.0",
            "_view_name": "LayoutView",
            "align_content": null,
            "align_items": null,
            "align_self": null,
            "border": null,
            "bottom": null,
            "display": null,
            "flex": null,
            "flex_flow": null,
            "grid_area": null,
            "grid_auto_columns": null,
            "grid_auto_flow": null,
            "grid_auto_rows": null,
            "grid_column": null,
            "grid_gap": null,
            "grid_row": null,
            "grid_template_areas": null,
            "grid_template_columns": null,
            "grid_template_rows": null,
            "height": null,
            "justify_content": null,
            "justify_items": null,
            "left": null,
            "margin": null,
            "max_height": null,
            "max_width": null,
            "min_height": null,
            "min_width": null,
            "object_fit": null,
            "object_position": null,
            "order": null,
            "overflow": null,
            "overflow_x": null,
            "overflow_y": null,
            "padding": null,
            "right": null,
            "top": null,
            "visibility": null,
            "width": null
          }
        },
        "a7633b24de5c408697a3d20a4792902a": {
          "model_module": "@jupyter-widgets/controls",
          "model_name": "ProgressStyleModel",
          "model_module_version": "1.5.0",
          "state": {
            "_model_module": "@jupyter-widgets/controls",
            "_model_module_version": "1.5.0",
            "_model_name": "ProgressStyleModel",
            "_view_count": null,
            "_view_module": "@jupyter-widgets/base",
            "_view_module_version": "1.2.0",
            "_view_name": "StyleView",
            "bar_color": null,
            "description_width": ""
          }
        },
        "7cb6b5a887494c96998c7fdb809faae8": {
          "model_module": "@jupyter-widgets/base",
          "model_name": "LayoutModel",
          "model_module_version": "1.2.0",
          "state": {
            "_model_module": "@jupyter-widgets/base",
            "_model_module_version": "1.2.0",
            "_model_name": "LayoutModel",
            "_view_count": null,
            "_view_module": "@jupyter-widgets/base",
            "_view_module_version": "1.2.0",
            "_view_name": "LayoutView",
            "align_content": null,
            "align_items": null,
            "align_self": null,
            "border": null,
            "bottom": null,
            "display": null,
            "flex": null,
            "flex_flow": null,
            "grid_area": null,
            "grid_auto_columns": null,
            "grid_auto_flow": null,
            "grid_auto_rows": null,
            "grid_column": null,
            "grid_gap": null,
            "grid_row": null,
            "grid_template_areas": null,
            "grid_template_columns": null,
            "grid_template_rows": null,
            "height": null,
            "justify_content": null,
            "justify_items": null,
            "left": null,
            "margin": null,
            "max_height": null,
            "max_width": null,
            "min_height": null,
            "min_width": null,
            "object_fit": null,
            "object_position": null,
            "order": null,
            "overflow": null,
            "overflow_x": null,
            "overflow_y": null,
            "padding": null,
            "right": null,
            "top": null,
            "visibility": null,
            "width": null
          }
        },
        "ee21842d8873436c814eb34f92e8ff1b": {
          "model_module": "@jupyter-widgets/controls",
          "model_name": "DescriptionStyleModel",
          "model_module_version": "1.5.0",
          "state": {
            "_model_module": "@jupyter-widgets/controls",
            "_model_module_version": "1.5.0",
            "_model_name": "DescriptionStyleModel",
            "_view_count": null,
            "_view_module": "@jupyter-widgets/base",
            "_view_module_version": "1.2.0",
            "_view_name": "StyleView",
            "description_width": ""
          }
        },
        "c664e9159e6e407aa0611998a051e909": {
          "model_module": "@jupyter-widgets/controls",
          "model_name": "HBoxModel",
          "model_module_version": "1.5.0",
          "state": {
            "_dom_classes": [],
            "_model_module": "@jupyter-widgets/controls",
            "_model_module_version": "1.5.0",
            "_model_name": "HBoxModel",
            "_view_count": null,
            "_view_module": "@jupyter-widgets/controls",
            "_view_module_version": "1.5.0",
            "_view_name": "HBoxView",
            "box_style": "",
            "children": [
              "IPY_MODEL_09e8407ae13d46658526d07c65812ed5",
              "IPY_MODEL_02615dee03b44f6db95949b7a3579abf",
              "IPY_MODEL_82424d28ccf44f9aa0b5223db4303445"
            ],
            "layout": "IPY_MODEL_fcec345155e74d939ac57ef944a2511d"
          }
        },
        "09e8407ae13d46658526d07c65812ed5": {
          "model_module": "@jupyter-widgets/controls",
          "model_name": "HTMLModel",
          "model_module_version": "1.5.0",
          "state": {
            "_dom_classes": [],
            "_model_module": "@jupyter-widgets/controls",
            "_model_module_version": "1.5.0",
            "_model_name": "HTMLModel",
            "_view_count": null,
            "_view_module": "@jupyter-widgets/controls",
            "_view_module_version": "1.5.0",
            "_view_name": "HTMLView",
            "description": "",
            "description_tooltip": null,
            "layout": "IPY_MODEL_fc398136661d428f823f64b95948ac14",
            "placeholder": "​",
            "style": "IPY_MODEL_7118e229c591475ca5099a4ba43219e7",
            "value": " 96%"
          }
        },
        "02615dee03b44f6db95949b7a3579abf": {
          "model_module": "@jupyter-widgets/controls",
          "model_name": "FloatProgressModel",
          "model_module_version": "1.5.0",
          "state": {
            "_dom_classes": [],
            "_model_module": "@jupyter-widgets/controls",
            "_model_module_version": "1.5.0",
            "_model_name": "FloatProgressModel",
            "_view_count": null,
            "_view_module": "@jupyter-widgets/controls",
            "_view_module_version": "1.5.0",
            "_view_name": "ProgressView",
            "bar_style": "danger",
            "description": "",
            "description_tooltip": null,
            "layout": "IPY_MODEL_faedbe69b5764524ba41c8a13a49f66f",
            "max": 271,
            "min": 0,
            "orientation": "horizontal",
            "style": "IPY_MODEL_97f37d80dea94a8d871a0972a919cf61",
            "value": 259
          }
        },
        "82424d28ccf44f9aa0b5223db4303445": {
          "model_module": "@jupyter-widgets/controls",
          "model_name": "HTMLModel",
          "model_module_version": "1.5.0",
          "state": {
            "_dom_classes": [],
            "_model_module": "@jupyter-widgets/controls",
            "_model_module_version": "1.5.0",
            "_model_name": "HTMLModel",
            "_view_count": null,
            "_view_module": "@jupyter-widgets/controls",
            "_view_module_version": "1.5.0",
            "_view_name": "HTMLView",
            "description": "",
            "description_tooltip": null,
            "layout": "IPY_MODEL_0f1ee872c9d34e71915090af06f7ed0c",
            "placeholder": "​",
            "style": "IPY_MODEL_28bb2c93ccc54cd1900324425a6b59d9",
            "value": " 259/271 [00:02&lt;00:00, 165.11it/s]"
          }
        },
        "fcec345155e74d939ac57ef944a2511d": {
          "model_module": "@jupyter-widgets/base",
          "model_name": "LayoutModel",
          "model_module_version": "1.2.0",
          "state": {
            "_model_module": "@jupyter-widgets/base",
            "_model_module_version": "1.2.0",
            "_model_name": "LayoutModel",
            "_view_count": null,
            "_view_module": "@jupyter-widgets/base",
            "_view_module_version": "1.2.0",
            "_view_name": "LayoutView",
            "align_content": null,
            "align_items": null,
            "align_self": null,
            "border": null,
            "bottom": null,
            "display": null,
            "flex": null,
            "flex_flow": null,
            "grid_area": null,
            "grid_auto_columns": null,
            "grid_auto_flow": null,
            "grid_auto_rows": null,
            "grid_column": null,
            "grid_gap": null,
            "grid_row": null,
            "grid_template_areas": null,
            "grid_template_columns": null,
            "grid_template_rows": null,
            "height": null,
            "justify_content": null,
            "justify_items": null,
            "left": null,
            "margin": null,
            "max_height": null,
            "max_width": null,
            "min_height": null,
            "min_width": null,
            "object_fit": null,
            "object_position": null,
            "order": null,
            "overflow": null,
            "overflow_x": null,
            "overflow_y": null,
            "padding": null,
            "right": null,
            "top": null,
            "visibility": null,
            "width": null
          }
        },
        "fc398136661d428f823f64b95948ac14": {
          "model_module": "@jupyter-widgets/base",
          "model_name": "LayoutModel",
          "model_module_version": "1.2.0",
          "state": {
            "_model_module": "@jupyter-widgets/base",
            "_model_module_version": "1.2.0",
            "_model_name": "LayoutModel",
            "_view_count": null,
            "_view_module": "@jupyter-widgets/base",
            "_view_module_version": "1.2.0",
            "_view_name": "LayoutView",
            "align_content": null,
            "align_items": null,
            "align_self": null,
            "border": null,
            "bottom": null,
            "display": null,
            "flex": null,
            "flex_flow": null,
            "grid_area": null,
            "grid_auto_columns": null,
            "grid_auto_flow": null,
            "grid_auto_rows": null,
            "grid_column": null,
            "grid_gap": null,
            "grid_row": null,
            "grid_template_areas": null,
            "grid_template_columns": null,
            "grid_template_rows": null,
            "height": null,
            "justify_content": null,
            "justify_items": null,
            "left": null,
            "margin": null,
            "max_height": null,
            "max_width": null,
            "min_height": null,
            "min_width": null,
            "object_fit": null,
            "object_position": null,
            "order": null,
            "overflow": null,
            "overflow_x": null,
            "overflow_y": null,
            "padding": null,
            "right": null,
            "top": null,
            "visibility": null,
            "width": null
          }
        },
        "7118e229c591475ca5099a4ba43219e7": {
          "model_module": "@jupyter-widgets/controls",
          "model_name": "DescriptionStyleModel",
          "model_module_version": "1.5.0",
          "state": {
            "_model_module": "@jupyter-widgets/controls",
            "_model_module_version": "1.5.0",
            "_model_name": "DescriptionStyleModel",
            "_view_count": null,
            "_view_module": "@jupyter-widgets/base",
            "_view_module_version": "1.2.0",
            "_view_name": "StyleView",
            "description_width": ""
          }
        },
        "faedbe69b5764524ba41c8a13a49f66f": {
          "model_module": "@jupyter-widgets/base",
          "model_name": "LayoutModel",
          "model_module_version": "1.2.0",
          "state": {
            "_model_module": "@jupyter-widgets/base",
            "_model_module_version": "1.2.0",
            "_model_name": "LayoutModel",
            "_view_count": null,
            "_view_module": "@jupyter-widgets/base",
            "_view_module_version": "1.2.0",
            "_view_name": "LayoutView",
            "align_content": null,
            "align_items": null,
            "align_self": null,
            "border": null,
            "bottom": null,
            "display": null,
            "flex": null,
            "flex_flow": null,
            "grid_area": null,
            "grid_auto_columns": null,
            "grid_auto_flow": null,
            "grid_auto_rows": null,
            "grid_column": null,
            "grid_gap": null,
            "grid_row": null,
            "grid_template_areas": null,
            "grid_template_columns": null,
            "grid_template_rows": null,
            "height": null,
            "justify_content": null,
            "justify_items": null,
            "left": null,
            "margin": null,
            "max_height": null,
            "max_width": null,
            "min_height": null,
            "min_width": null,
            "object_fit": null,
            "object_position": null,
            "order": null,
            "overflow": null,
            "overflow_x": null,
            "overflow_y": null,
            "padding": null,
            "right": null,
            "top": null,
            "visibility": null,
            "width": null
          }
        },
        "97f37d80dea94a8d871a0972a919cf61": {
          "model_module": "@jupyter-widgets/controls",
          "model_name": "ProgressStyleModel",
          "model_module_version": "1.5.0",
          "state": {
            "_model_module": "@jupyter-widgets/controls",
            "_model_module_version": "1.5.0",
            "_model_name": "ProgressStyleModel",
            "_view_count": null,
            "_view_module": "@jupyter-widgets/base",
            "_view_module_version": "1.2.0",
            "_view_name": "StyleView",
            "bar_color": null,
            "description_width": ""
          }
        },
        "0f1ee872c9d34e71915090af06f7ed0c": {
          "model_module": "@jupyter-widgets/base",
          "model_name": "LayoutModel",
          "model_module_version": "1.2.0",
          "state": {
            "_model_module": "@jupyter-widgets/base",
            "_model_module_version": "1.2.0",
            "_model_name": "LayoutModel",
            "_view_count": null,
            "_view_module": "@jupyter-widgets/base",
            "_view_module_version": "1.2.0",
            "_view_name": "LayoutView",
            "align_content": null,
            "align_items": null,
            "align_self": null,
            "border": null,
            "bottom": null,
            "display": null,
            "flex": null,
            "flex_flow": null,
            "grid_area": null,
            "grid_auto_columns": null,
            "grid_auto_flow": null,
            "grid_auto_rows": null,
            "grid_column": null,
            "grid_gap": null,
            "grid_row": null,
            "grid_template_areas": null,
            "grid_template_columns": null,
            "grid_template_rows": null,
            "height": null,
            "justify_content": null,
            "justify_items": null,
            "left": null,
            "margin": null,
            "max_height": null,
            "max_width": null,
            "min_height": null,
            "min_width": null,
            "object_fit": null,
            "object_position": null,
            "order": null,
            "overflow": null,
            "overflow_x": null,
            "overflow_y": null,
            "padding": null,
            "right": null,
            "top": null,
            "visibility": null,
            "width": null
          }
        },
        "28bb2c93ccc54cd1900324425a6b59d9": {
          "model_module": "@jupyter-widgets/controls",
          "model_name": "DescriptionStyleModel",
          "model_module_version": "1.5.0",
          "state": {
            "_model_module": "@jupyter-widgets/controls",
            "_model_module_version": "1.5.0",
            "_model_name": "DescriptionStyleModel",
            "_view_count": null,
            "_view_module": "@jupyter-widgets/base",
            "_view_module_version": "1.2.0",
            "_view_name": "StyleView",
            "description_width": ""
          }
        }
      }
    }
  },
  "cells": [
    {
      "cell_type": "code",
      "execution_count": 324,
      "metadata": {
        "id": "PhfzehhoXSXG"
      },
      "outputs": [],
      "source": [
        "import warnings\n",
        "warnings.filterwarnings('ignore')\n",
        "\n",
        "from IPython.display import clear_output\n",
        "\n",
        "from google.colab import drive\n",
        "drive.mount('/content/drive')\n",
        "\n",
        "!pip install -q catboost shap category_encoders pmdarima neuralprophet\n",
        "!pip install -qU statsmodels\n",
        "\n",
        "clear_output()"
      ]
    },
    {
      "cell_type": "code",
      "source": [
        "import pandas as pd\n",
        "import numpy as np\n",
        "import matplotlib.pyplot as plt\n",
        "import seaborn as sns\n",
        "\n",
        "# we may use PowerTranformer or other non-linear scalers, but they would eliminate \n",
        "# needed correlations between variables, that are very helpful in linear models\n",
        "from sklearn.preprocessing import MinMaxScaler, RobustScaler, LabelEncoder\n",
        "from sklearn.linear_model import LinearRegression, LogisticRegression\n",
        "from sklearn.multioutput import MultiOutputRegressor  # in case we will use boosting models in TS\n",
        "from sklearn.pipeline import FeatureUnion, Pipeline\n",
        "from sklearn.base import BaseEstimator, TransformerMixin\n",
        "from sklearn.compose import ColumnTransformer\n",
        "from sklearn.model_selection import train_test_split, cross_val_score\n",
        "\n",
        "from sklearn.metrics import precision_score, recall_score, f1_score, confusion_matrix, roc_auc_score\n",
        "from sklearn.metrics import r2_score, mean_absolute_error, mean_squared_error\n",
        "from sklearn.metrics import classification_report\n",
        "\n",
        "# generating is actually not needed due to partitionally working with TS\n",
        "from imblearn.combine import SMOTEENN\n",
        "from imblearn.under_sampling import RandomUnderSampler\n",
        "from imblearn.over_sampling import SMOTE, SMOTENC\n",
        "\n",
        "from sklearn.experimental import enable_iterative_imputer\n",
        "from sklearn.impute import IterativeImputer\n",
        "from sklearn.impute import SimpleImputer\n",
        "\n",
        "from catboost import CatBoostRegressor, Pool, CatBoostClassifier, EShapCalcType, EFeaturesSelectionAlgorithm\n",
        "\n",
        "from pmdarima.arima import auto_arima\n",
        "from statsmodels.tsa.stattools import adfuller\n",
        "from statsmodels.graphics.tsaplots import plot_acf, plot_pacf\n",
        "from statsmodels.tsa.seasonal import seasonal_decompose\n",
        "from statsmodels.tsa.statespace.sarimax import SARIMAX  # in case LinearRegression won't fit well\n",
        "from statsmodels.tsa.deterministic import DeterministicProcess, CalendarFourier\n",
        "\n",
        "import category_encoders as ce\n",
        "\n",
        "np.random.seed(123)"
      ],
      "metadata": {
        "id": "15Ws70u7YAHu"
      },
      "execution_count": 249,
      "outputs": []
    },
    {
      "cell_type": "code",
      "source": [
        "data_root = r'/content/drive/My Drive/data/weather/rain.csv'\n",
        "TARGET_NAME_REG = 'RISK_MM'\n",
        "TARGET_NAME_CLS = 'RainTomorrow'"
      ],
      "metadata": {
        "id": "tlG-WgfTYvRS"
      },
      "execution_count": 3,
      "outputs": []
    },
    {
      "cell_type": "code",
      "source": [
        "location_mapping =  {'Adelaide': 0, 'Albany': 0, 'Albury': 0, 'AliceSprings': 1,\n",
        "                    'BadgerysCreek': 0, 'Ballarat': 0, 'Bendigo': 0, 'Brisbane': 2,\n",
        "                    'Cairns': 3, 'Canberra': 0, 'Cobar': 4, 'CoffsHarbour': 2,\n",
        "                    'Dartmoor': 0, 'Darwin': 3, 'GoldCoast': 2, 'Hobart': 0, 'Katherine': 3,\n",
        "                    'Launceston': 0, 'Melbourne': 0, 'MelbourneAirport': 0, 'Mildura': 4,\n",
        "                    'Moree': 2, 'MountGambier': 0, 'MountGinini': 0, 'Newcastle': 0, 'Nhil': 4,\n",
        "                    'NorahHead': 0, 'NorfolkIsland': 2, 'Nuriootpa': 0, 'PearceRAAF': 2,\n",
        "                    'Penrith': 0, 'Perth': 2, 'PerthAirport': 2, 'Portland': 0, 'Richmond': 0,\n",
        "                    'Sale': 0, 'SalmonGums': 4, 'Sydney': 0, 'SydneyAirport': 0, 'Townsville': 3,\n",
        "                    'Tuggeranong': 0, 'Uluru': 1, 'WaggaWagga': 0, 'Walpole': 0, 'Watsonia': 0,'Williamtown': 0, \n",
        "                    'Witchcliffe': 0, 'Wollongong': 0, 'Woomera': 1}\n",
        "# we will need these mapping to obtain information about rain in nearby regions"
      ],
      "metadata": {
        "id": "VaNEyhB1gfjG"
      },
      "execution_count": 4,
      "outputs": []
    },
    {
      "cell_type": "code",
      "source": [
        "def regression_results(y_true, y_pred):\n",
        "    mae=mean_absolute_error(y_true, y_pred) \n",
        "    mse=mean_squared_error(y_true, y_pred) \n",
        "    r2=r2_score(y_true, y_pred)\n",
        "    print('r2: ', round(r2,4))\n",
        "    print('MAE: ', round(mae,4))\n",
        "    print('MSE: ', round(mse,4))\n",
        "    print('RMSE: ', round(np.sqrt(mse),4))\n",
        "\n",
        "def report(y_train, y_train_pred, y_test, y_test_pred):\n",
        "    print('Train\\n', classification_report(y_train, y_train_pred, digits=3))\n",
        "    print('Test\\n', classification_report(y_test, y_test_pred, digits=3))\n",
        "    print('Confusion Matrix', '\\n', pd.crosstab(y_test, y_test_pred))"
      ],
      "metadata": {
        "id": "uzhqQpg-l6Bg"
      },
      "execution_count": 5,
      "outputs": []
    },
    {
      "cell_type": "code",
      "source": [
        "class ColumnSelector(BaseEstimator, TransformerMixin):\n",
        "    def __init__(self, columns):\n",
        "        self.columns = columns\n",
        "        \n",
        "    def fit(self, X, y=None):\n",
        "        return self\n",
        "    \n",
        "    def transform(self, X):\n",
        "        if not isinstance(X, pd.DataFrame):\n",
        "            return X\n",
        "        return X[self.columns]\n",
        "\n",
        "class Fourier(BaseEstimator, TransformerMixin):\n",
        "    def __init__(self, season=\"A\", order=2):\n",
        "        self.fourier = CalendarFourier(freq=season, order=order)\n",
        "    \n",
        "    def fit(self, X, y=None):\n",
        "        return self\n",
        "\n",
        "    def transform(self, X):\n",
        "        X_ = X.copy()\n",
        "        dp = DeterministicProcess(\n",
        "            index=X_.index,\n",
        "            constant=True,               # dummy feature for bias (y-intercept)\n",
        "            order=1,                     # trend (order 1 means linear)\n",
        "            seasonal=True,               # weekly seasonality (indicators)\n",
        "            additional_terms=[self.fourier],  # annual seasonality (fourier)\n",
        "            drop=True,                   # drop terms to avoid collinearity\n",
        "        )\n",
        "        X_ = dp.in_sample() \n",
        "        return X_\n",
        "\n",
        "class RollingWindow(BaseEstimator, TransformerMixin):\n",
        "    def __init__(self, window_size=3, method=None):\n",
        "        self.method = method\n",
        "        self.window_size = window_size\n",
        "\n",
        "    def fit(self, X, y=None):\n",
        "        return self\n",
        "\n",
        "    def transform(self, X):\n",
        "        roll_exp = X['RISK_MM'].ewm(span=self.window_size, adjust=False).mean()\n",
        "        weights = np.arange(1,self.window_size+1)\n",
        "        roll_w = X['RISK_MM'].rolling(self.window_size).apply(lambda x: np.dot(x, weights)/weights.sum(), raw=True)\n",
        "        roll_ = X['RISK_MM'].rolling(window=self.window_size).mean()\n",
        "        return pd.concat([roll_exp, roll_w, roll_], axis=1)\n",
        "\n",
        "class LagFeatures(BaseEstimator, TransformerMixin):\n",
        "    def __init__(self, n_lags=2):\n",
        "        self.n_lags = n_lags\n",
        "\n",
        "    def fit(self, X, y=None):\n",
        "        return self\n",
        "    \n",
        "    def transform(self, X):\n",
        "        return self.make_lags(X, self.n_lags)\n",
        "\n",
        "    @staticmethod\n",
        "    def make_lags(ts, lags, lead_time=1):\n",
        "        return pd.concat(\n",
        "            {\n",
        "                f'y_lag_{i}': ts.shift(i)\n",
        "                for i in range(lead_time, lags + lead_time)\n",
        "            },\n",
        "            axis=1)\n",
        "        \n",
        "class FeatureInterpolator(BaseEstimator, TransformerMixin):\n",
        "    def __init__(self, method='from_derivatives'):\n",
        "        self.method = method\n",
        "\n",
        "    def fit(self, X, y=None):\n",
        "        return self\n",
        "\n",
        "    def transform(self, X):\n",
        "        X_ = X.copy()\n",
        "        return X_.interpolate(method=self.method, axis=0)\n",
        "\n",
        "class DataFrameR(BaseEstimator, TransformerMixin):\n",
        "    def __init__(self, columns, index=None):\n",
        "        self.columns = columns\n",
        "        self.index = index\n",
        "\n",
        "    def fit(self, X, y=None):\n",
        "        return self\n",
        "    \n",
        "    def transform(self, X):\n",
        "        assert len(self.columns) == X.shape[1], f'Number of columns {len(self.columns)} is not equal to data shape {X.shape[1]}'\n",
        "        if self.index is not None:\n",
        "            X_ = pd.DataFrame(X, columns=self.columns, index=self.index)\n",
        "        else:\n",
        "            X_ = pd.DataFrame(X, columns=self.columns)\n",
        "        return X_"
      ],
      "metadata": {
        "id": "VzvJ76p1mJvi"
      },
      "execution_count": 6,
      "outputs": []
    },
    {
      "cell_type": "code",
      "source": [
        "df = pd.read_csv(data_root)\n",
        "df.Date = pd.to_datetime(df.Date, format=\"%d/%m/%Y\")\n",
        "df.head()"
      ],
      "metadata": {
        "colab": {
          "base_uri": "https://localhost:8080/",
          "height": 386
        },
        "id": "Q0M3Z-z0ZHkc",
        "outputId": "ccd06fb3-f007-4e82-de1b-cb70a365deb1"
      },
      "execution_count": 7,
      "outputs": [
        {
          "output_type": "execute_result",
          "data": {
            "text/plain": [
              "        Date Location  MinTemp  MaxTemp  Rainfall  Evaporation  Sunshine  \\\n",
              "0 2008-12-01   Albury     13.4     22.9       0.6          NaN       NaN   \n",
              "1 2008-12-02   Albury      7.4     25.1       0.0          NaN       NaN   \n",
              "2 2008-12-03   Albury     12.9     25.7       0.0          NaN       NaN   \n",
              "3 2008-12-04   Albury      9.2     28.0       0.0          NaN       NaN   \n",
              "4 2008-12-05   Albury     17.5     32.3       1.0          NaN       NaN   \n",
              "\n",
              "  WindGustDir  WindGustSpeed WindDir9am  ... Humidity3pm  Pressure9am  \\\n",
              "0           W           44.0          W  ...        22.0       1007.7   \n",
              "1         WNW           44.0        NNW  ...        25.0       1010.6   \n",
              "2         WSW           46.0          W  ...        30.0       1007.6   \n",
              "3          NE           24.0         SE  ...        16.0       1017.6   \n",
              "4           W           41.0        ENE  ...        33.0       1010.8   \n",
              "\n",
              "   Pressure3pm  Cloud9am  Cloud3pm  Temp9am  Temp3pm  RainToday  RISK_MM  \\\n",
              "0       1007.1       8.0       NaN     16.9     21.8         No      0.0   \n",
              "1       1007.8       NaN       NaN     17.2     24.3         No      0.0   \n",
              "2       1008.7       NaN       2.0     21.0     23.2         No      0.0   \n",
              "3       1012.8       NaN       NaN     18.1     26.5         No      1.0   \n",
              "4       1006.0       7.0       8.0     17.8     29.7         No      0.2   \n",
              "\n",
              "   RainTomorrow  \n",
              "0            No  \n",
              "1            No  \n",
              "2            No  \n",
              "3            No  \n",
              "4            No  \n",
              "\n",
              "[5 rows x 24 columns]"
            ],
            "text/html": [
              "\n",
              "  <div id=\"df-b01244af-4a02-487e-8132-ec41ca404a39\">\n",
              "    <div class=\"colab-df-container\">\n",
              "      <div>\n",
              "<style scoped>\n",
              "    .dataframe tbody tr th:only-of-type {\n",
              "        vertical-align: middle;\n",
              "    }\n",
              "\n",
              "    .dataframe tbody tr th {\n",
              "        vertical-align: top;\n",
              "    }\n",
              "\n",
              "    .dataframe thead th {\n",
              "        text-align: right;\n",
              "    }\n",
              "</style>\n",
              "<table border=\"1\" class=\"dataframe\">\n",
              "  <thead>\n",
              "    <tr style=\"text-align: right;\">\n",
              "      <th></th>\n",
              "      <th>Date</th>\n",
              "      <th>Location</th>\n",
              "      <th>MinTemp</th>\n",
              "      <th>MaxTemp</th>\n",
              "      <th>Rainfall</th>\n",
              "      <th>Evaporation</th>\n",
              "      <th>Sunshine</th>\n",
              "      <th>WindGustDir</th>\n",
              "      <th>WindGustSpeed</th>\n",
              "      <th>WindDir9am</th>\n",
              "      <th>...</th>\n",
              "      <th>Humidity3pm</th>\n",
              "      <th>Pressure9am</th>\n",
              "      <th>Pressure3pm</th>\n",
              "      <th>Cloud9am</th>\n",
              "      <th>Cloud3pm</th>\n",
              "      <th>Temp9am</th>\n",
              "      <th>Temp3pm</th>\n",
              "      <th>RainToday</th>\n",
              "      <th>RISK_MM</th>\n",
              "      <th>RainTomorrow</th>\n",
              "    </tr>\n",
              "  </thead>\n",
              "  <tbody>\n",
              "    <tr>\n",
              "      <th>0</th>\n",
              "      <td>2008-12-01</td>\n",
              "      <td>Albury</td>\n",
              "      <td>13.4</td>\n",
              "      <td>22.9</td>\n",
              "      <td>0.6</td>\n",
              "      <td>NaN</td>\n",
              "      <td>NaN</td>\n",
              "      <td>W</td>\n",
              "      <td>44.0</td>\n",
              "      <td>W</td>\n",
              "      <td>...</td>\n",
              "      <td>22.0</td>\n",
              "      <td>1007.7</td>\n",
              "      <td>1007.1</td>\n",
              "      <td>8.0</td>\n",
              "      <td>NaN</td>\n",
              "      <td>16.9</td>\n",
              "      <td>21.8</td>\n",
              "      <td>No</td>\n",
              "      <td>0.0</td>\n",
              "      <td>No</td>\n",
              "    </tr>\n",
              "    <tr>\n",
              "      <th>1</th>\n",
              "      <td>2008-12-02</td>\n",
              "      <td>Albury</td>\n",
              "      <td>7.4</td>\n",
              "      <td>25.1</td>\n",
              "      <td>0.0</td>\n",
              "      <td>NaN</td>\n",
              "      <td>NaN</td>\n",
              "      <td>WNW</td>\n",
              "      <td>44.0</td>\n",
              "      <td>NNW</td>\n",
              "      <td>...</td>\n",
              "      <td>25.0</td>\n",
              "      <td>1010.6</td>\n",
              "      <td>1007.8</td>\n",
              "      <td>NaN</td>\n",
              "      <td>NaN</td>\n",
              "      <td>17.2</td>\n",
              "      <td>24.3</td>\n",
              "      <td>No</td>\n",
              "      <td>0.0</td>\n",
              "      <td>No</td>\n",
              "    </tr>\n",
              "    <tr>\n",
              "      <th>2</th>\n",
              "      <td>2008-12-03</td>\n",
              "      <td>Albury</td>\n",
              "      <td>12.9</td>\n",
              "      <td>25.7</td>\n",
              "      <td>0.0</td>\n",
              "      <td>NaN</td>\n",
              "      <td>NaN</td>\n",
              "      <td>WSW</td>\n",
              "      <td>46.0</td>\n",
              "      <td>W</td>\n",
              "      <td>...</td>\n",
              "      <td>30.0</td>\n",
              "      <td>1007.6</td>\n",
              "      <td>1008.7</td>\n",
              "      <td>NaN</td>\n",
              "      <td>2.0</td>\n",
              "      <td>21.0</td>\n",
              "      <td>23.2</td>\n",
              "      <td>No</td>\n",
              "      <td>0.0</td>\n",
              "      <td>No</td>\n",
              "    </tr>\n",
              "    <tr>\n",
              "      <th>3</th>\n",
              "      <td>2008-12-04</td>\n",
              "      <td>Albury</td>\n",
              "      <td>9.2</td>\n",
              "      <td>28.0</td>\n",
              "      <td>0.0</td>\n",
              "      <td>NaN</td>\n",
              "      <td>NaN</td>\n",
              "      <td>NE</td>\n",
              "      <td>24.0</td>\n",
              "      <td>SE</td>\n",
              "      <td>...</td>\n",
              "      <td>16.0</td>\n",
              "      <td>1017.6</td>\n",
              "      <td>1012.8</td>\n",
              "      <td>NaN</td>\n",
              "      <td>NaN</td>\n",
              "      <td>18.1</td>\n",
              "      <td>26.5</td>\n",
              "      <td>No</td>\n",
              "      <td>1.0</td>\n",
              "      <td>No</td>\n",
              "    </tr>\n",
              "    <tr>\n",
              "      <th>4</th>\n",
              "      <td>2008-12-05</td>\n",
              "      <td>Albury</td>\n",
              "      <td>17.5</td>\n",
              "      <td>32.3</td>\n",
              "      <td>1.0</td>\n",
              "      <td>NaN</td>\n",
              "      <td>NaN</td>\n",
              "      <td>W</td>\n",
              "      <td>41.0</td>\n",
              "      <td>ENE</td>\n",
              "      <td>...</td>\n",
              "      <td>33.0</td>\n",
              "      <td>1010.8</td>\n",
              "      <td>1006.0</td>\n",
              "      <td>7.0</td>\n",
              "      <td>8.0</td>\n",
              "      <td>17.8</td>\n",
              "      <td>29.7</td>\n",
              "      <td>No</td>\n",
              "      <td>0.2</td>\n",
              "      <td>No</td>\n",
              "    </tr>\n",
              "  </tbody>\n",
              "</table>\n",
              "<p>5 rows × 24 columns</p>\n",
              "</div>\n",
              "      <button class=\"colab-df-convert\" onclick=\"convertToInteractive('df-b01244af-4a02-487e-8132-ec41ca404a39')\"\n",
              "              title=\"Convert this dataframe to an interactive table.\"\n",
              "              style=\"display:none;\">\n",
              "        \n",
              "  <svg xmlns=\"http://www.w3.org/2000/svg\" height=\"24px\"viewBox=\"0 0 24 24\"\n",
              "       width=\"24px\">\n",
              "    <path d=\"M0 0h24v24H0V0z\" fill=\"none\"/>\n",
              "    <path d=\"M18.56 5.44l.94 2.06.94-2.06 2.06-.94-2.06-.94-.94-2.06-.94 2.06-2.06.94zm-11 1L8.5 8.5l.94-2.06 2.06-.94-2.06-.94L8.5 2.5l-.94 2.06-2.06.94zm10 10l.94 2.06.94-2.06 2.06-.94-2.06-.94-.94-2.06-.94 2.06-2.06.94z\"/><path d=\"M17.41 7.96l-1.37-1.37c-.4-.4-.92-.59-1.43-.59-.52 0-1.04.2-1.43.59L10.3 9.45l-7.72 7.72c-.78.78-.78 2.05 0 2.83L4 21.41c.39.39.9.59 1.41.59.51 0 1.02-.2 1.41-.59l7.78-7.78 2.81-2.81c.8-.78.8-2.07 0-2.86zM5.41 20L4 18.59l7.72-7.72 1.47 1.35L5.41 20z\"/>\n",
              "  </svg>\n",
              "      </button>\n",
              "      \n",
              "  <style>\n",
              "    .colab-df-container {\n",
              "      display:flex;\n",
              "      flex-wrap:wrap;\n",
              "      gap: 12px;\n",
              "    }\n",
              "\n",
              "    .colab-df-convert {\n",
              "      background-color: #E8F0FE;\n",
              "      border: none;\n",
              "      border-radius: 50%;\n",
              "      cursor: pointer;\n",
              "      display: none;\n",
              "      fill: #1967D2;\n",
              "      height: 32px;\n",
              "      padding: 0 0 0 0;\n",
              "      width: 32px;\n",
              "    }\n",
              "\n",
              "    .colab-df-convert:hover {\n",
              "      background-color: #E2EBFA;\n",
              "      box-shadow: 0px 1px 2px rgba(60, 64, 67, 0.3), 0px 1px 3px 1px rgba(60, 64, 67, 0.15);\n",
              "      fill: #174EA6;\n",
              "    }\n",
              "\n",
              "    [theme=dark] .colab-df-convert {\n",
              "      background-color: #3B4455;\n",
              "      fill: #D2E3FC;\n",
              "    }\n",
              "\n",
              "    [theme=dark] .colab-df-convert:hover {\n",
              "      background-color: #434B5C;\n",
              "      box-shadow: 0px 1px 3px 1px rgba(0, 0, 0, 0.15);\n",
              "      filter: drop-shadow(0px 1px 2px rgba(0, 0, 0, 0.3));\n",
              "      fill: #FFFFFF;\n",
              "    }\n",
              "  </style>\n",
              "\n",
              "      <script>\n",
              "        const buttonEl =\n",
              "          document.querySelector('#df-b01244af-4a02-487e-8132-ec41ca404a39 button.colab-df-convert');\n",
              "        buttonEl.style.display =\n",
              "          google.colab.kernel.accessAllowed ? 'block' : 'none';\n",
              "\n",
              "        async function convertToInteractive(key) {\n",
              "          const element = document.querySelector('#df-b01244af-4a02-487e-8132-ec41ca404a39');\n",
              "          const dataTable =\n",
              "            await google.colab.kernel.invokeFunction('convertToInteractive',\n",
              "                                                     [key], {});\n",
              "          if (!dataTable) return;\n",
              "\n",
              "          const docLinkHtml = 'Like what you see? Visit the ' +\n",
              "            '<a target=\"_blank\" href=https://colab.research.google.com/notebooks/data_table.ipynb>data table notebook</a>'\n",
              "            + ' to learn more about interactive tables.';\n",
              "          element.innerHTML = '';\n",
              "          dataTable['output_type'] = 'display_data';\n",
              "          await google.colab.output.renderOutput(dataTable, element);\n",
              "          const docLink = document.createElement('div');\n",
              "          docLink.innerHTML = docLinkHtml;\n",
              "          element.appendChild(docLink);\n",
              "        }\n",
              "      </script>\n",
              "    </div>\n",
              "  </div>\n",
              "  "
            ]
          },
          "metadata": {},
          "execution_count": 7
        }
      ]
    },
    {
      "cell_type": "code",
      "source": [
        "df.describe()\n",
        "# maybe not so much significant outliers, as there might be lots of sunny hot weather and rare storms\n",
        "# with high speed wind and huge amount of rainfall"
      ],
      "metadata": {
        "colab": {
          "base_uri": "https://localhost:8080/",
          "height": 364
        },
        "id": "TZk73xW0bHCD",
        "outputId": "6cb58c49-9855-44fa-ef9a-3d9c53a6e786"
      },
      "execution_count": 15,
      "outputs": [
        {
          "output_type": "execute_result",
          "data": {
            "text/html": [
              "\n",
              "  <div id=\"df-4cd69bb2-3041-4ab6-82a8-330652cbcc4a\">\n",
              "    <div class=\"colab-df-container\">\n",
              "      <div>\n",
              "<style scoped>\n",
              "    .dataframe tbody tr th:only-of-type {\n",
              "        vertical-align: middle;\n",
              "    }\n",
              "\n",
              "    .dataframe tbody tr th {\n",
              "        vertical-align: top;\n",
              "    }\n",
              "\n",
              "    .dataframe thead th {\n",
              "        text-align: right;\n",
              "    }\n",
              "</style>\n",
              "<table border=\"1\" class=\"dataframe\">\n",
              "  <thead>\n",
              "    <tr style=\"text-align: right;\">\n",
              "      <th></th>\n",
              "      <th>MinTemp</th>\n",
              "      <th>MaxTemp</th>\n",
              "      <th>Rainfall</th>\n",
              "      <th>Evaporation</th>\n",
              "      <th>Sunshine</th>\n",
              "      <th>WindGustSpeed</th>\n",
              "      <th>WindSpeed9am</th>\n",
              "      <th>WindSpeed3pm</th>\n",
              "      <th>Humidity9am</th>\n",
              "      <th>Humidity3pm</th>\n",
              "      <th>Pressure9am</th>\n",
              "      <th>Pressure3pm</th>\n",
              "      <th>Cloud9am</th>\n",
              "      <th>Cloud3pm</th>\n",
              "      <th>Temp9am</th>\n",
              "      <th>Temp3pm</th>\n",
              "      <th>RISK_MM</th>\n",
              "    </tr>\n",
              "  </thead>\n",
              "  <tbody>\n",
              "    <tr>\n",
              "      <th>count</th>\n",
              "      <td>141556.000000</td>\n",
              "      <td>141871.000000</td>\n",
              "      <td>140787.000000</td>\n",
              "      <td>81350.000000</td>\n",
              "      <td>74377.000000</td>\n",
              "      <td>132923.000000</td>\n",
              "      <td>140845.000000</td>\n",
              "      <td>139563.000000</td>\n",
              "      <td>140419.000000</td>\n",
              "      <td>138583.000000</td>\n",
              "      <td>128179.000000</td>\n",
              "      <td>128212.000000</td>\n",
              "      <td>88536.000000</td>\n",
              "      <td>85099.000000</td>\n",
              "      <td>141289.000000</td>\n",
              "      <td>139467.000000</td>\n",
              "      <td>142193.000000</td>\n",
              "    </tr>\n",
              "    <tr>\n",
              "      <th>mean</th>\n",
              "      <td>12.186400</td>\n",
              "      <td>23.226784</td>\n",
              "      <td>2.349974</td>\n",
              "      <td>5.469824</td>\n",
              "      <td>7.624853</td>\n",
              "      <td>39.984292</td>\n",
              "      <td>14.001988</td>\n",
              "      <td>18.637576</td>\n",
              "      <td>68.843810</td>\n",
              "      <td>51.482606</td>\n",
              "      <td>1017.653758</td>\n",
              "      <td>1015.258204</td>\n",
              "      <td>4.437189</td>\n",
              "      <td>4.503167</td>\n",
              "      <td>16.987509</td>\n",
              "      <td>21.687235</td>\n",
              "      <td>2.360682</td>\n",
              "    </tr>\n",
              "    <tr>\n",
              "      <th>std</th>\n",
              "      <td>6.403283</td>\n",
              "      <td>7.117618</td>\n",
              "      <td>8.465173</td>\n",
              "      <td>4.188537</td>\n",
              "      <td>3.781525</td>\n",
              "      <td>13.588801</td>\n",
              "      <td>8.893337</td>\n",
              "      <td>8.803345</td>\n",
              "      <td>19.051293</td>\n",
              "      <td>20.797772</td>\n",
              "      <td>7.105476</td>\n",
              "      <td>7.036677</td>\n",
              "      <td>2.887016</td>\n",
              "      <td>2.720633</td>\n",
              "      <td>6.492838</td>\n",
              "      <td>6.937594</td>\n",
              "      <td>8.477969</td>\n",
              "    </tr>\n",
              "    <tr>\n",
              "      <th>min</th>\n",
              "      <td>-8.500000</td>\n",
              "      <td>-4.800000</td>\n",
              "      <td>0.000000</td>\n",
              "      <td>0.000000</td>\n",
              "      <td>0.000000</td>\n",
              "      <td>6.000000</td>\n",
              "      <td>0.000000</td>\n",
              "      <td>0.000000</td>\n",
              "      <td>0.000000</td>\n",
              "      <td>0.000000</td>\n",
              "      <td>980.500000</td>\n",
              "      <td>977.100000</td>\n",
              "      <td>0.000000</td>\n",
              "      <td>0.000000</td>\n",
              "      <td>-7.200000</td>\n",
              "      <td>-5.400000</td>\n",
              "      <td>0.000000</td>\n",
              "    </tr>\n",
              "    <tr>\n",
              "      <th>25%</th>\n",
              "      <td>7.600000</td>\n",
              "      <td>17.900000</td>\n",
              "      <td>0.000000</td>\n",
              "      <td>2.600000</td>\n",
              "      <td>4.900000</td>\n",
              "      <td>31.000000</td>\n",
              "      <td>7.000000</td>\n",
              "      <td>13.000000</td>\n",
              "      <td>57.000000</td>\n",
              "      <td>37.000000</td>\n",
              "      <td>1012.900000</td>\n",
              "      <td>1010.400000</td>\n",
              "      <td>1.000000</td>\n",
              "      <td>2.000000</td>\n",
              "      <td>12.300000</td>\n",
              "      <td>16.600000</td>\n",
              "      <td>0.000000</td>\n",
              "    </tr>\n",
              "    <tr>\n",
              "      <th>50%</th>\n",
              "      <td>12.000000</td>\n",
              "      <td>22.600000</td>\n",
              "      <td>0.000000</td>\n",
              "      <td>4.800000</td>\n",
              "      <td>8.500000</td>\n",
              "      <td>39.000000</td>\n",
              "      <td>13.000000</td>\n",
              "      <td>19.000000</td>\n",
              "      <td>70.000000</td>\n",
              "      <td>52.000000</td>\n",
              "      <td>1017.600000</td>\n",
              "      <td>1015.200000</td>\n",
              "      <td>5.000000</td>\n",
              "      <td>5.000000</td>\n",
              "      <td>16.700000</td>\n",
              "      <td>21.100000</td>\n",
              "      <td>0.000000</td>\n",
              "    </tr>\n",
              "    <tr>\n",
              "      <th>75%</th>\n",
              "      <td>16.800000</td>\n",
              "      <td>28.200000</td>\n",
              "      <td>0.800000</td>\n",
              "      <td>7.400000</td>\n",
              "      <td>10.600000</td>\n",
              "      <td>48.000000</td>\n",
              "      <td>19.000000</td>\n",
              "      <td>24.000000</td>\n",
              "      <td>83.000000</td>\n",
              "      <td>66.000000</td>\n",
              "      <td>1022.400000</td>\n",
              "      <td>1020.000000</td>\n",
              "      <td>7.000000</td>\n",
              "      <td>7.000000</td>\n",
              "      <td>21.600000</td>\n",
              "      <td>26.400000</td>\n",
              "      <td>0.800000</td>\n",
              "    </tr>\n",
              "    <tr>\n",
              "      <th>max</th>\n",
              "      <td>33.900000</td>\n",
              "      <td>48.100000</td>\n",
              "      <td>371.000000</td>\n",
              "      <td>145.000000</td>\n",
              "      <td>14.500000</td>\n",
              "      <td>135.000000</td>\n",
              "      <td>130.000000</td>\n",
              "      <td>87.000000</td>\n",
              "      <td>100.000000</td>\n",
              "      <td>100.000000</td>\n",
              "      <td>1041.000000</td>\n",
              "      <td>1039.600000</td>\n",
              "      <td>9.000000</td>\n",
              "      <td>9.000000</td>\n",
              "      <td>40.200000</td>\n",
              "      <td>46.700000</td>\n",
              "      <td>371.000000</td>\n",
              "    </tr>\n",
              "  </tbody>\n",
              "</table>\n",
              "</div>\n",
              "      <button class=\"colab-df-convert\" onclick=\"convertToInteractive('df-4cd69bb2-3041-4ab6-82a8-330652cbcc4a')\"\n",
              "              title=\"Convert this dataframe to an interactive table.\"\n",
              "              style=\"display:none;\">\n",
              "        \n",
              "  <svg xmlns=\"http://www.w3.org/2000/svg\" height=\"24px\"viewBox=\"0 0 24 24\"\n",
              "       width=\"24px\">\n",
              "    <path d=\"M0 0h24v24H0V0z\" fill=\"none\"/>\n",
              "    <path d=\"M18.56 5.44l.94 2.06.94-2.06 2.06-.94-2.06-.94-.94-2.06-.94 2.06-2.06.94zm-11 1L8.5 8.5l.94-2.06 2.06-.94-2.06-.94L8.5 2.5l-.94 2.06-2.06.94zm10 10l.94 2.06.94-2.06 2.06-.94-2.06-.94-.94-2.06-.94 2.06-2.06.94z\"/><path d=\"M17.41 7.96l-1.37-1.37c-.4-.4-.92-.59-1.43-.59-.52 0-1.04.2-1.43.59L10.3 9.45l-7.72 7.72c-.78.78-.78 2.05 0 2.83L4 21.41c.39.39.9.59 1.41.59.51 0 1.02-.2 1.41-.59l7.78-7.78 2.81-2.81c.8-.78.8-2.07 0-2.86zM5.41 20L4 18.59l7.72-7.72 1.47 1.35L5.41 20z\"/>\n",
              "  </svg>\n",
              "      </button>\n",
              "      \n",
              "  <style>\n",
              "    .colab-df-container {\n",
              "      display:flex;\n",
              "      flex-wrap:wrap;\n",
              "      gap: 12px;\n",
              "    }\n",
              "\n",
              "    .colab-df-convert {\n",
              "      background-color: #E8F0FE;\n",
              "      border: none;\n",
              "      border-radius: 50%;\n",
              "      cursor: pointer;\n",
              "      display: none;\n",
              "      fill: #1967D2;\n",
              "      height: 32px;\n",
              "      padding: 0 0 0 0;\n",
              "      width: 32px;\n",
              "    }\n",
              "\n",
              "    .colab-df-convert:hover {\n",
              "      background-color: #E2EBFA;\n",
              "      box-shadow: 0px 1px 2px rgba(60, 64, 67, 0.3), 0px 1px 3px 1px rgba(60, 64, 67, 0.15);\n",
              "      fill: #174EA6;\n",
              "    }\n",
              "\n",
              "    [theme=dark] .colab-df-convert {\n",
              "      background-color: #3B4455;\n",
              "      fill: #D2E3FC;\n",
              "    }\n",
              "\n",
              "    [theme=dark] .colab-df-convert:hover {\n",
              "      background-color: #434B5C;\n",
              "      box-shadow: 0px 1px 3px 1px rgba(0, 0, 0, 0.15);\n",
              "      filter: drop-shadow(0px 1px 2px rgba(0, 0, 0, 0.3));\n",
              "      fill: #FFFFFF;\n",
              "    }\n",
              "  </style>\n",
              "\n",
              "      <script>\n",
              "        const buttonEl =\n",
              "          document.querySelector('#df-4cd69bb2-3041-4ab6-82a8-330652cbcc4a button.colab-df-convert');\n",
              "        buttonEl.style.display =\n",
              "          google.colab.kernel.accessAllowed ? 'block' : 'none';\n",
              "\n",
              "        async function convertToInteractive(key) {\n",
              "          const element = document.querySelector('#df-4cd69bb2-3041-4ab6-82a8-330652cbcc4a');\n",
              "          const dataTable =\n",
              "            await google.colab.kernel.invokeFunction('convertToInteractive',\n",
              "                                                     [key], {});\n",
              "          if (!dataTable) return;\n",
              "\n",
              "          const docLinkHtml = 'Like what you see? Visit the ' +\n",
              "            '<a target=\"_blank\" href=https://colab.research.google.com/notebooks/data_table.ipynb>data table notebook</a>'\n",
              "            + ' to learn more about interactive tables.';\n",
              "          element.innerHTML = '';\n",
              "          dataTable['output_type'] = 'display_data';\n",
              "          await google.colab.output.renderOutput(dataTable, element);\n",
              "          const docLink = document.createElement('div');\n",
              "          docLink.innerHTML = docLinkHtml;\n",
              "          element.appendChild(docLink);\n",
              "        }\n",
              "      </script>\n",
              "    </div>\n",
              "  </div>\n",
              "  "
            ],
            "text/plain": [
              "             MinTemp        MaxTemp       Rainfall   Evaporation  \\\n",
              "count  141556.000000  141871.000000  140787.000000  81350.000000   \n",
              "mean       12.186400      23.226784       2.349974      5.469824   \n",
              "std         6.403283       7.117618       8.465173      4.188537   \n",
              "min        -8.500000      -4.800000       0.000000      0.000000   \n",
              "25%         7.600000      17.900000       0.000000      2.600000   \n",
              "50%        12.000000      22.600000       0.000000      4.800000   \n",
              "75%        16.800000      28.200000       0.800000      7.400000   \n",
              "max        33.900000      48.100000     371.000000    145.000000   \n",
              "\n",
              "           Sunshine  WindGustSpeed   WindSpeed9am   WindSpeed3pm  \\\n",
              "count  74377.000000  132923.000000  140845.000000  139563.000000   \n",
              "mean       7.624853      39.984292      14.001988      18.637576   \n",
              "std        3.781525      13.588801       8.893337       8.803345   \n",
              "min        0.000000       6.000000       0.000000       0.000000   \n",
              "25%        4.900000      31.000000       7.000000      13.000000   \n",
              "50%        8.500000      39.000000      13.000000      19.000000   \n",
              "75%       10.600000      48.000000      19.000000      24.000000   \n",
              "max       14.500000     135.000000     130.000000      87.000000   \n",
              "\n",
              "         Humidity9am    Humidity3pm    Pressure9am    Pressure3pm  \\\n",
              "count  140419.000000  138583.000000  128179.000000  128212.000000   \n",
              "mean       68.843810      51.482606    1017.653758    1015.258204   \n",
              "std        19.051293      20.797772       7.105476       7.036677   \n",
              "min         0.000000       0.000000     980.500000     977.100000   \n",
              "25%        57.000000      37.000000    1012.900000    1010.400000   \n",
              "50%        70.000000      52.000000    1017.600000    1015.200000   \n",
              "75%        83.000000      66.000000    1022.400000    1020.000000   \n",
              "max       100.000000     100.000000    1041.000000    1039.600000   \n",
              "\n",
              "           Cloud9am      Cloud3pm        Temp9am        Temp3pm        RISK_MM  \n",
              "count  88536.000000  85099.000000  141289.000000  139467.000000  142193.000000  \n",
              "mean       4.437189      4.503167      16.987509      21.687235       2.360682  \n",
              "std        2.887016      2.720633       6.492838       6.937594       8.477969  \n",
              "min        0.000000      0.000000      -7.200000      -5.400000       0.000000  \n",
              "25%        1.000000      2.000000      12.300000      16.600000       0.000000  \n",
              "50%        5.000000      5.000000      16.700000      21.100000       0.000000  \n",
              "75%        7.000000      7.000000      21.600000      26.400000       0.800000  \n",
              "max        9.000000      9.000000      40.200000      46.700000     371.000000  "
            ]
          },
          "metadata": {},
          "execution_count": 15
        }
      ]
    },
    {
      "cell_type": "markdown",
      "source": [
        "For simplicity lets assume next:\n",
        "\n",
        "\n",
        "\n",
        "1.   Take only one location first\n",
        "2.   For this location fill del (e.g. Evaporation, Sunshine) and fill nans with IterativeImputer, SimpleImputer, Interpolate in slice of rain-no_rain\n",
        "3. Do not remove outliers as they are not so extreme and may contain important information\n",
        "4. Inspect given subdataset on TS components\n",
        "5. Create additional variable, that contains information about whether it is raining in nearby locations today\n",
        "6. Predict RISK_MM for test subdataset using Sarimax outside Pipeline and TS features (NOTE: scale numeric columns, encode categorical columns with category_encoders)\n",
        "6. Create LogisticRegression for output dataset (that contains initial features for chosen location and predicted RISK_MM)\n",
        "8. Predict rain labels for given location\n",
        "9. Stack all results from all locations to the final submission\n",
        "\n",
        "NOTE: common models can only predict one time step in future. We can use LinearRegression for multistep forecast, but only those amount of steps that we have known target (to create lags, etc.). This is not what we want. As we want to predict all targets at once, assuming we have train set and forecast all the test set! \n",
        "\n",
        "Firstly, I made such perdictions with obvious target leakage! Of course I got perfect results. But then I found out that awful mistake and decided to use SARIMA... As it can provide better results than LinearRegression and predict given big forecast horizon.\n",
        "\n"
      ],
      "metadata": {
        "id": "uh9qTuJwdPoo"
      }
    },
    {
      "cell_type": "code",
      "source": [
        "# select Canberra as it contains the highest amount of observations\n",
        "can = df[df.Location == 'Canberra'].sort_values(by='Date')"
      ],
      "metadata": {
        "id": "HJfS48wWZUd0"
      },
      "execution_count": 355,
      "outputs": []
    },
    {
      "cell_type": "code",
      "source": [
        "can.describe(include=['object'])"
      ],
      "metadata": {
        "colab": {
          "base_uri": "https://localhost:8080/",
          "height": 175
        },
        "id": "VHNMGT_PnWfe",
        "outputId": "5a96d3e8-c809-4511-d4a2-afc91c0b0c0c"
      },
      "execution_count": 23,
      "outputs": [
        {
          "output_type": "execute_result",
          "data": {
            "text/html": [
              "\n",
              "  <div id=\"df-dc63197f-8f2b-48e1-be41-f6fcaaa3526c\">\n",
              "    <div class=\"colab-df-container\">\n",
              "      <div>\n",
              "<style scoped>\n",
              "    .dataframe tbody tr th:only-of-type {\n",
              "        vertical-align: middle;\n",
              "    }\n",
              "\n",
              "    .dataframe tbody tr th {\n",
              "        vertical-align: top;\n",
              "    }\n",
              "\n",
              "    .dataframe thead th {\n",
              "        text-align: right;\n",
              "    }\n",
              "</style>\n",
              "<table border=\"1\" class=\"dataframe\">\n",
              "  <thead>\n",
              "    <tr style=\"text-align: right;\">\n",
              "      <th></th>\n",
              "      <th>Location</th>\n",
              "      <th>WindGustDir</th>\n",
              "      <th>WindDir9am</th>\n",
              "      <th>WindDir3pm</th>\n",
              "      <th>RainToday</th>\n",
              "      <th>RainTomorrow</th>\n",
              "    </tr>\n",
              "  </thead>\n",
              "  <tbody>\n",
              "    <tr>\n",
              "      <th>count</th>\n",
              "      <td>3418</td>\n",
              "      <td>3089</td>\n",
              "      <td>2882</td>\n",
              "      <td>3190</td>\n",
              "      <td>3402</td>\n",
              "      <td>3418</td>\n",
              "    </tr>\n",
              "    <tr>\n",
              "      <th>unique</th>\n",
              "      <td>1</td>\n",
              "      <td>16</td>\n",
              "      <td>16</td>\n",
              "      <td>16</td>\n",
              "      <td>2</td>\n",
              "      <td>2</td>\n",
              "    </tr>\n",
              "    <tr>\n",
              "      <th>top</th>\n",
              "      <td>Canberra</td>\n",
              "      <td>NW</td>\n",
              "      <td>NNW</td>\n",
              "      <td>NW</td>\n",
              "      <td>No</td>\n",
              "      <td>No</td>\n",
              "    </tr>\n",
              "    <tr>\n",
              "      <th>freq</th>\n",
              "      <td>3418</td>\n",
              "      <td>601</td>\n",
              "      <td>340</td>\n",
              "      <td>596</td>\n",
              "      <td>2778</td>\n",
              "      <td>2789</td>\n",
              "    </tr>\n",
              "  </tbody>\n",
              "</table>\n",
              "</div>\n",
              "      <button class=\"colab-df-convert\" onclick=\"convertToInteractive('df-dc63197f-8f2b-48e1-be41-f6fcaaa3526c')\"\n",
              "              title=\"Convert this dataframe to an interactive table.\"\n",
              "              style=\"display:none;\">\n",
              "        \n",
              "  <svg xmlns=\"http://www.w3.org/2000/svg\" height=\"24px\"viewBox=\"0 0 24 24\"\n",
              "       width=\"24px\">\n",
              "    <path d=\"M0 0h24v24H0V0z\" fill=\"none\"/>\n",
              "    <path d=\"M18.56 5.44l.94 2.06.94-2.06 2.06-.94-2.06-.94-.94-2.06-.94 2.06-2.06.94zm-11 1L8.5 8.5l.94-2.06 2.06-.94-2.06-.94L8.5 2.5l-.94 2.06-2.06.94zm10 10l.94 2.06.94-2.06 2.06-.94-2.06-.94-.94-2.06-.94 2.06-2.06.94z\"/><path d=\"M17.41 7.96l-1.37-1.37c-.4-.4-.92-.59-1.43-.59-.52 0-1.04.2-1.43.59L10.3 9.45l-7.72 7.72c-.78.78-.78 2.05 0 2.83L4 21.41c.39.39.9.59 1.41.59.51 0 1.02-.2 1.41-.59l7.78-7.78 2.81-2.81c.8-.78.8-2.07 0-2.86zM5.41 20L4 18.59l7.72-7.72 1.47 1.35L5.41 20z\"/>\n",
              "  </svg>\n",
              "      </button>\n",
              "      \n",
              "  <style>\n",
              "    .colab-df-container {\n",
              "      display:flex;\n",
              "      flex-wrap:wrap;\n",
              "      gap: 12px;\n",
              "    }\n",
              "\n",
              "    .colab-df-convert {\n",
              "      background-color: #E8F0FE;\n",
              "      border: none;\n",
              "      border-radius: 50%;\n",
              "      cursor: pointer;\n",
              "      display: none;\n",
              "      fill: #1967D2;\n",
              "      height: 32px;\n",
              "      padding: 0 0 0 0;\n",
              "      width: 32px;\n",
              "    }\n",
              "\n",
              "    .colab-df-convert:hover {\n",
              "      background-color: #E2EBFA;\n",
              "      box-shadow: 0px 1px 2px rgba(60, 64, 67, 0.3), 0px 1px 3px 1px rgba(60, 64, 67, 0.15);\n",
              "      fill: #174EA6;\n",
              "    }\n",
              "\n",
              "    [theme=dark] .colab-df-convert {\n",
              "      background-color: #3B4455;\n",
              "      fill: #D2E3FC;\n",
              "    }\n",
              "\n",
              "    [theme=dark] .colab-df-convert:hover {\n",
              "      background-color: #434B5C;\n",
              "      box-shadow: 0px 1px 3px 1px rgba(0, 0, 0, 0.15);\n",
              "      filter: drop-shadow(0px 1px 2px rgba(0, 0, 0, 0.3));\n",
              "      fill: #FFFFFF;\n",
              "    }\n",
              "  </style>\n",
              "\n",
              "      <script>\n",
              "        const buttonEl =\n",
              "          document.querySelector('#df-dc63197f-8f2b-48e1-be41-f6fcaaa3526c button.colab-df-convert');\n",
              "        buttonEl.style.display =\n",
              "          google.colab.kernel.accessAllowed ? 'block' : 'none';\n",
              "\n",
              "        async function convertToInteractive(key) {\n",
              "          const element = document.querySelector('#df-dc63197f-8f2b-48e1-be41-f6fcaaa3526c');\n",
              "          const dataTable =\n",
              "            await google.colab.kernel.invokeFunction('convertToInteractive',\n",
              "                                                     [key], {});\n",
              "          if (!dataTable) return;\n",
              "\n",
              "          const docLinkHtml = 'Like what you see? Visit the ' +\n",
              "            '<a target=\"_blank\" href=https://colab.research.google.com/notebooks/data_table.ipynb>data table notebook</a>'\n",
              "            + ' to learn more about interactive tables.';\n",
              "          element.innerHTML = '';\n",
              "          dataTable['output_type'] = 'display_data';\n",
              "          await google.colab.output.renderOutput(dataTable, element);\n",
              "          const docLink = document.createElement('div');\n",
              "          docLink.innerHTML = docLinkHtml;\n",
              "          element.appendChild(docLink);\n",
              "        }\n",
              "      </script>\n",
              "    </div>\n",
              "  </div>\n",
              "  "
            ],
            "text/plain": [
              "        Location WindGustDir WindDir9am WindDir3pm RainToday RainTomorrow\n",
              "count       3418        3089       2882       3190      3402         3418\n",
              "unique         1          16         16         16         2            2\n",
              "top     Canberra          NW        NNW         NW        No           No\n",
              "freq        3418         601        340        596      2778         2789"
            ]
          },
          "metadata": {},
          "execution_count": 23
        }
      ]
    },
    {
      "cell_type": "code",
      "source": [
        "# firstly we are going to predict RISK_MM and after when we get it we will resplit dataset with stratify option\n",
        "X, y = can.drop([TARGET_NAME_REG, TARGET_NAME_CLS, 'Location'], axis=1), can[TARGET_NAME_REG]\n",
        "\n",
        "X_train, X_test, y_train, y_test = train_test_split(X, y, test_size=0.2, shuffle=False, random_state=123)\n",
        "X_train.shape, X_test.shape"
      ],
      "metadata": {
        "colab": {
          "base_uri": "https://localhost:8080/"
        },
        "id": "w9RNcBOGjQxy",
        "outputId": "5f4f8e51-4479-4288-b1c0-eccbd3e5fd51"
      },
      "execution_count": 356,
      "outputs": [
        {
          "output_type": "execute_result",
          "data": {
            "text/plain": [
              "((2734, 21), (684, 21))"
            ]
          },
          "metadata": {},
          "execution_count": 356
        }
      ]
    },
    {
      "cell_type": "code",
      "source": [
        "X_train_tar = pd.concat([X_train, y_train], axis=1)\n",
        "X_test_tar = pd.concat([X_test, y_test], axis=1)"
      ],
      "metadata": {
        "id": "ZS7s9Xw7mX_D"
      },
      "execution_count": 357,
      "outputs": []
    },
    {
      "cell_type": "code",
      "source": [
        "import missingno as msn\n",
        "\n",
        "msn.matrix(X_train)\n",
        "# better drop Sunshine, Evaporation, Cloud9am, Cloud3pm or just do not select them in Pipeline"
      ],
      "metadata": {
        "colab": {
          "base_uri": "https://localhost:8080/",
          "height": 562
        },
        "id": "yCo83izSnIRW",
        "outputId": "8a86bbbb-36b9-41bd-c228-bfba402c6461"
      },
      "execution_count": 28,
      "outputs": [
        {
          "output_type": "execute_result",
          "data": {
            "text/plain": [
              "<matplotlib.axes._subplots.AxesSubplot at 0x7ffb49419c10>"
            ]
          },
          "metadata": {},
          "execution_count": 28
        },
        {
          "output_type": "display_data",
          "data": {
            "text/plain": [
              "<Figure size 1800x720 with 2 Axes>"
            ],
            "image/png": "[encoded data removed]"
          },
          "metadata": {
            "needs_background": "light"
          }
        }
      ]
    },
    {
      "cell_type": "code",
      "source": [
        "msn.matrix(X_test)"
      ],
      "metadata": {
        "colab": {
          "base_uri": "https://localhost:8080/",
          "height": 567
        },
        "id": "M7p1QXYRkiAY",
        "outputId": "a30d2cb0-aafb-421a-9d2e-f93c34209457"
      },
      "execution_count": 38,
      "outputs": [
        {
          "output_type": "execute_result",
          "data": {
            "text/plain": [
              "<matplotlib.axes._subplots.AxesSubplot at 0x7f0f6d941050>"
            ]
          },
          "metadata": {},
          "execution_count": 38
        },
        {
          "output_type": "display_data",
          "data": {
            "image/png": "[encoded data removed]",
            "text/plain": [
              "<Figure size 1800x720 with 2 Axes>"
            ]
          },
          "metadata": {
            "needs_background": "light"
          }
        }
      ]
    },
    {
      "cell_type": "code",
      "source": [
        "X_train.isna().sum()\n",
        "# we may interpolate missing values in columns with few nans\n",
        "# and impute where there are lots of nans"
      ],
      "metadata": {
        "colab": {
          "base_uri": "https://localhost:8080/"
        },
        "id": "VesFqvFpqXp8",
        "outputId": "f9ebd320-f246-4c11-b66c-daddd095b5d5"
      },
      "execution_count": 61,
      "outputs": [
        {
          "output_type": "execute_result",
          "data": {
            "text/plain": [
              "Date                0\n",
              "MinTemp             5\n",
              "MaxTemp             3\n",
              "Rainfall           12\n",
              "Evaporation       911\n",
              "Sunshine         1222\n",
              "WindGustDir       313\n",
              "WindGustSpeed     311\n",
              "WindDir9am        476\n",
              "WindDir3pm        225\n",
              "WindSpeed9am      227\n",
              "WindSpeed3pm      222\n",
              "Humidity9am        60\n",
              "Humidity3pm        12\n",
              "Pressure9am       224\n",
              "Pressure3pm       220\n",
              "Cloud9am          722\n",
              "Cloud3pm          927\n",
              "Temp9am            17\n",
              "Temp3pm             7\n",
              "RainToday          12\n",
              "dtype: int64"
            ]
          },
          "metadata": {},
          "execution_count": 61
        }
      ]
    },
    {
      "cell_type": "code",
      "source": [
        "cols_to_interpolate = ['Temp3pm', 'Temp9am', 'Humidity3pm', 'Humidity9am', 'Rainfall', 'MaxTemp', 'MinTemp']\n",
        "target_col = ['RISK_MM',]\n",
        "cols_to_iter_impute = ['WindGustSpeed', 'WindSpeed9am', 'WindSpeed3pm', 'Pressure9am', 'Pressure3pm']\n",
        "binary_enc_cols = ['RainToday',]\n",
        "target_enc_cols = ['WindGustDir', 'WindDir9am', 'WindDir3pm']"
      ],
      "metadata": {
        "id": "YZa0-zwbqzwx"
      },
      "execution_count": 358,
      "outputs": []
    },
    {
      "cell_type": "code",
      "source": [
        "# TS inspection for RISK_MM"
      ],
      "metadata": {
        "id": "Fzdod03BsscG"
      },
      "execution_count": null,
      "outputs": []
    },
    {
      "cell_type": "code",
      "source": [
        "decompose = seasonal_decompose(X_train_tar['RISK_MM'], model='additive', period=365)\n",
        "fig = decompose.plot()\n",
        "fig.set_figheight(8)\n",
        "fig.set_figwidth(16)\n",
        "plt.show()"
      ],
      "metadata": {
        "colab": {
          "base_uri": "https://localhost:8080/",
          "height": 531
        },
        "id": "UOLu423Ns4R-",
        "outputId": "c8376019-9c80-4a8f-f450-501953fb1f94"
      },
      "execution_count": 43,
      "outputs": [
        {
          "output_type": "display_data",
          "data": {
            "image/png": "[encoded data removed]",
            "text/plain": [
              "<Figure size 1152x576 with 4 Axes>"
            ]
          },
          "metadata": {
            "needs_background": "light"
          }
        }
      ]
    },
    {
      "cell_type": "code",
      "source": [
        "moving_average = X_train_tar['RISK_MM'].rolling(\n",
        "    window=365,       # 365-day window\n",
        "    center=True,      # puts the average at the center of the window\n",
        "    min_periods=183,  # choose about half the window size\n",
        ").mean()              # compute the mean (could also do median, std, min, max, ...)\n",
        "\n",
        "ax = X_train_tar['RISK_MM'].plot(style=\".\", color=\"0.5\")\n",
        "moving_average.plot(\n",
        "    ax=ax, linewidth=3, title=\"Mean MM - 365-Day Moving Average\", legend=False,\n",
        ");\n",
        "# no significant trend"
      ],
      "metadata": {
        "colab": {
          "base_uri": "https://localhost:8080/",
          "height": 281
        },
        "id": "ir8BSyZetKu_",
        "outputId": "2b5889a6-a53c-41e4-9a30-39d8841f6cc8"
      },
      "execution_count": 46,
      "outputs": [
        {
          "output_type": "display_data",
          "data": {
            "image/png": "[encoded data removed]",
            "text/plain": [
              "<Figure size 432x288 with 1 Axes>"
            ]
          },
          "metadata": {
            "needs_background": "light"
          }
        }
      ]
    },
    {
      "cell_type": "code",
      "source": [
        "def seasonal_plot(X, y, period, freq, ax=None):\n",
        "    if ax is None:\n",
        "        _, ax = plt.subplots()\n",
        "    palette = sns.color_palette(\"husl\", n_colors=X[period].nunique(),)\n",
        "    ax = sns.lineplot(\n",
        "        x=freq,\n",
        "        y=y,\n",
        "        hue=period,\n",
        "        data=X,\n",
        "        ci=False,\n",
        "        ax=ax,\n",
        "        palette=palette,\n",
        "        legend=False,\n",
        "    )\n",
        "    ax.set_title(f\"Seasonal Plot ({period}/{freq})\")\n",
        "    for line, name in zip(ax.lines, X[period].unique()):\n",
        "        y_ = line.get_ydata()[-1]\n",
        "        ax.annotate(\n",
        "            name,\n",
        "            xy=(1, y_),\n",
        "            xytext=(6, 0),\n",
        "            color=line.get_color(),\n",
        "            xycoords=ax.get_yaxis_transform(),\n",
        "            textcoords=\"offset points\",\n",
        "            size=14,\n",
        "            va=\"center\",\n",
        "        )\n",
        "    return ax\n",
        "\n",
        "def plot_periodogram(ts, detrend='linear', ax=None):\n",
        "    from scipy.signal import periodogram\n",
        "    fs = pd.Timedelta(\"1Y\") / pd.Timedelta(\"1D\")\n",
        "    freqencies, spectrum = periodogram(\n",
        "        ts,\n",
        "        fs=fs,\n",
        "        detrend=detrend,\n",
        "        window=\"boxcar\",\n",
        "        scaling='spectrum',\n",
        "    )\n",
        "    if ax is None:\n",
        "        _, ax = plt.subplots()\n",
        "    ax.step(freqencies, spectrum, color=\"purple\")\n",
        "    ax.set_xscale(\"log\")\n",
        "    ax.set_xticks([1, 2, 4, 6, 12, 26, 52, 104])\n",
        "    ax.set_xticklabels(\n",
        "        [\n",
        "            \"Annual (1)\",\n",
        "            \"Semiannual (2)\",\n",
        "            \"Quarterly (4)\",\n",
        "            \"Bimonthly (6)\",\n",
        "            \"Monthly (12)\",\n",
        "            \"Biweekly (26)\",\n",
        "            \"Weekly (52)\",\n",
        "            \"Semiweekly (104)\",\n",
        "        ],\n",
        "        rotation=30,\n",
        "    )\n",
        "    ax.ticklabel_format(axis=\"y\", style=\"sci\", scilimits=(0, 0))\n",
        "    ax.set_ylabel(\"Variance\")\n",
        "    ax.set_title(\"Periodogram\")\n",
        "    return ax"
      ],
      "metadata": {
        "id": "t3KKd8Hwtnte"
      },
      "execution_count": 47,
      "outputs": []
    },
    {
      "cell_type": "code",
      "source": [
        "train_ = X_train_tar.set_index('Date').to_period('D')"
      ],
      "metadata": {
        "id": "ajY17rbztwNV"
      },
      "execution_count": 48,
      "outputs": []
    },
    {
      "cell_type": "code",
      "source": [
        "X_ = train_.copy()\n",
        "\n",
        "# days within a week\n",
        "X_[\"day\"] = train_.index.dayofweek  # the x-axis (freq)\n",
        "X_[\"week\"] = train_.index.week  # the seasonal period (period)\n",
        "\n",
        "# days within a year\n",
        "X_[\"dayofyear\"] = train_.index.dayofyear\n",
        "X_[\"year\"] = train_.index.year\n",
        "fig, (ax0, ax1) = plt.subplots(2, 1, figsize=(11, 6))\n",
        "seasonal_plot(X_, y=\"RISK_MM\", period=\"week\", freq=\"day\", ax=ax0)\n",
        "seasonal_plot(X_, y=\"RISK_MM\", period=\"year\", freq=\"dayofyear\", ax=ax1);"
      ],
      "metadata": {
        "colab": {
          "base_uri": "https://localhost:8080/",
          "height": 404
        },
        "id": "USdy7Q2Kt2Sw",
        "outputId": "1f69e198-9b03-4193-bb32-63963cb6568c"
      },
      "execution_count": 53,
      "outputs": [
        {
          "output_type": "display_data",
          "data": {
            "image/png": "[encoded data removed]",
            "text/plain": [
              "<Figure size 792x432 with 2 Axes>"
            ]
          },
          "metadata": {
            "needs_background": "light"
          }
        }
      ]
    },
    {
      "cell_type": "code",
      "source": [
        "plot_periodogram(X_train_tar['RISK_MM'])  # cannot obtain any seasonality"
      ],
      "metadata": {
        "colab": {
          "base_uri": "https://localhost:8080/",
          "height": 342
        },
        "id": "4JHXn8eSuZOj",
        "outputId": "b3a49bc6-6641-4dc7-cac1-06bc437eb0a4"
      },
      "execution_count": 55,
      "outputs": [
        {
          "output_type": "execute_result",
          "data": {
            "text/plain": [
              "<matplotlib.axes._subplots.AxesSubplot at 0x7f0f6d23b890>"
            ]
          },
          "metadata": {},
          "execution_count": 55
        },
        {
          "output_type": "display_data",
          "data": {
            "image/png": "[encoded data removed]",
            "text/plain": [
              "<Figure size 432x288 with 1 Axes>"
            ]
          },
          "metadata": {
            "needs_background": "light"
          }
        }
      ]
    },
    {
      "cell_type": "markdown",
      "source": [
        "\n",
        "\n",
        "1.   Null Hypothesis (H0): If failed to be rejected, it suggests the time series has a unit root, meaning it is non-stationary. It has some time dependent structure.\n",
        "2.   Alternate Hypothesis (H1): The null hypothesis is rejected; it suggests the time series does not have a unit root, meaning it is stationary. It does not have time-dependent structure. It's charachteristics are constant in time."
      ],
      "metadata": {
        "id": "RPyK7p-hvkIA"
      }
    },
    {
      "cell_type": "code",
      "source": [
        "dftest = adfuller(X_train_tar['RISK_MM'], autolag='AIC', regression=None)\n",
        "dict(zip(['adf', 'pvalue', 'usedlag', 'nobs', 'critical' 'values', 'icbest'], dftest))\n",
        "# the data is stationary"
      ],
      "metadata": {
        "colab": {
          "base_uri": "https://localhost:8080/"
        },
        "id": "wBoN_9UHunsL",
        "outputId": "3d10a15a-849f-4f88-d7c5-a8eb6fa86632"
      },
      "execution_count": 58,
      "outputs": [
        {
          "output_type": "execute_result",
          "data": {
            "text/plain": [
              "{'adf': -16.678728300230368,\n",
              " 'criticalvalues': {'1%': -2.5665673451723943,\n",
              "  '10%': -1.6167221450551865,\n",
              "  '5%': -1.9410997929668397},\n",
              " 'icbest': 17159.53062160489,\n",
              " 'nobs': 2704,\n",
              " 'pvalue': 2.640350464226106e-28,\n",
              " 'usedlag': 28}"
            ]
          },
          "metadata": {},
          "execution_count": 58
        }
      ]
    },
    {
      "cell_type": "code",
      "source": [
        "fig, ax = plt.subplots(2, 1, figsize=(10, 5))\n",
        "fig = plot_acf(X_train_tar['RISK_MM'], lags=20, ax=ax[0])\n",
        "fig = plot_pacf(X_train_tar['RISK_MM'], lags=20, ax=ax[1])\n",
        "plt.subplots_adjust(hspace=0.3)\n",
        "plt.show()\n",
        "# we will use two lags"
      ],
      "metadata": {
        "colab": {
          "base_uri": "https://localhost:8080/",
          "height": 336
        },
        "id": "5doW9xd6Oavs",
        "outputId": "fa5bd50e-4461-401a-a0ec-0d0d905bf642"
      },
      "execution_count": 12,
      "outputs": [
        {
          "output_type": "display_data",
          "data": {
            "text/plain": [
              "<Figure size 720x360 with 2 Axes>"
            ],
            "image/png": "[encoded data removed]"
          },
          "metadata": {
            "needs_background": "light"
          }
        }
      ]
    },
    {
      "cell_type": "code",
      "source": [
        "# add FEATURE\n",
        "df.RainToday = df.RainToday.map({'No': 0, 'Yes': 1})"
      ],
      "metadata": {
        "id": "F47BbgkZx4fV"
      },
      "execution_count": 12,
      "outputs": []
    },
    {
      "cell_type": "code",
      "source": [
        "# add new variable that contains information about rain in neighbor's locations\n",
        "near_locations = [key for key, val in location_mapping.items() if location_mapping[key] == location_mapping.get('Canberra')]\n",
        "\n",
        "df_to_merge = pd.DataFrame(data=X[['Date', 'RainToday']], columns=['Date', 'RainToday'])\n",
        "df_to_merge['RainToday'] = df_to_merge['RainToday'].map({'No': 0, 'Yes': 1})\n",
        "for location in near_locations:\n",
        "    temp_df = df[df.Location == location][['Date', 'RainToday']]\n",
        "    df_to_merge = df_to_merge.merge(temp_df, on=['Date'], how='left')\n",
        "df_to_merge.fillna(0., inplace=True)\n",
        "df_to_merge.sort_values('Date', inplace=True)\n",
        "df_to_merge['Sum_near_locs'] = df_to_merge.iloc[:, 1:].sum(axis=1)\n",
        "df_to_merge = df_to_merge[['Date', 'Sum_near_locs']]"
      ],
      "metadata": {
        "id": "s5VW0bbB3WdZ"
      },
      "execution_count": 256,
      "outputs": []
    },
    {
      "cell_type": "code",
      "source": [
        "# merging new var with train and test datasets\n",
        "X_train_tar = X_train_tar.merge(df_to_merge, on='Date', how='left')\n",
        "X_test_tar = X_test_tar.merge(df_to_merge, on='Date', how='left')\n",
        "cols_to_iter_impute += ['Sum_near_locs', ]"
      ],
      "metadata": {
        "id": "RINC1VkV4F8K"
      },
      "execution_count": 359,
      "outputs": []
    },
    {
      "cell_type": "code",
      "source": [
        "# binary encoding of one column is not nessasary inside pipeline\n",
        "X_train_tar['RainToday'] = X_train_tar['RainToday'].map({'No': 0, 'Yes': 1})\n",
        "X_test_tar['RainToday'] = X_test_tar['RainToday'].map({'No': 0, 'Yes': 1})"
      ],
      "metadata": {
        "id": "-lzjoHG1QTu7"
      },
      "execution_count": 360,
      "outputs": []
    },
    {
      "cell_type": "code",
      "source": [
        "# setting date column as index\n",
        "X_train_tar.set_index('Date', drop=True, inplace=True)\n",
        "X_test_tar.set_index('Date', drop=True, inplace=True)"
      ],
      "metadata": {
        "id": "8_tTUiItRPAn"
      },
      "execution_count": 361,
      "outputs": []
    },
    {
      "cell_type": "code",
      "source": [
        "cols_to_interpolate = ['Temp3pm', 'Temp9am', 'Humidity3pm', 'Humidity9am', 'Rainfall', 'MaxTemp', 'MinTemp']\n",
        "target_col = ['RISK_MM',]\n",
        "cols_to_iter_impute = ['WindGustSpeed', 'WindSpeed9am', 'WindSpeed3pm', 'Pressure9am', 'Pressure3pm', \n",
        "                       'RainToday', 'Sum_near_locs']\n",
        "target_enc_cols = ['WindGustDir', 'WindDir9am', 'WindDir3pm']"
      ],
      "metadata": {
        "id": "Ko4eZB3NTYoz"
      },
      "execution_count": 362,
      "outputs": []
    },
    {
      "cell_type": "code",
      "source": [
        "y_train.index = X_train_tar.index\n",
        "\n",
        "#to_concat = X_train_tar.iloc[-2:, :]\n",
        "#X_test_tar = pd.concat([to_concat, X_test_tar], axis=0)"
      ],
      "metadata": {
        "id": "_W_U7RFtR94M"
      },
      "execution_count": 363,
      "outputs": []
    },
    {
      "cell_type": "code",
      "source": [
        "# defining pipelines\n",
        "\n",
        "enc_pipe = Pipeline(steps=[('selector1', ColumnSelector(target_enc_cols)),\n",
        "                           ('imputer1', SimpleImputer(strategy='most_frequent')),\n",
        "                           ('encoder1', ce.cat_boost.CatBoostEncoder()),\n",
        "                           ])\n",
        "\n",
        "interp_pipe = Pipeline(steps=[('selector2', ColumnSelector(cols_to_interpolate)),\n",
        "                              ('iterpol', FeatureInterpolator()),])\n",
        "\n",
        "rolling_pipe = Pipeline(steps=[('selector3', ColumnSelector(target_col)),\n",
        "                               ('rolling', RollingWindow())])\n",
        "\n",
        "lag_pipe = Pipeline(steps=[('selector4', ColumnSelector(target_col)),\n",
        "                           ('lags', LagFeatures())])\n",
        "\n",
        "union = FeatureUnion(transformer_list=[('enc_pipe', enc_pipe), # 3\n",
        "                                       ('interp', interp_pipe), # 7\n",
        "                                       #('roll', rolling_pipe), # 3 - target leakage\n",
        "                                       #('lag', lag_pipe), # 2 - target leakage\n",
        "                                       ('imp_cols', ColumnSelector(cols_to_iter_impute))]) # 7\n",
        "\n",
        "X_train_tar_ = union.fit_transform(X_train_tar, y_train)\n",
        "X_test_tar_ = union.transform(X_test_tar)\n",
        "\n",
        "#X_train_tar_ = X_train_tar_[2:, :]\n",
        "#X_test_tar_ = X_test_tar_[2:, :]\n",
        "\n",
        "X_train_tar_ = pd.DataFrame(data=X_train_tar_, columns=[f'ft_{i+1}' for i in range(X_train_tar_.shape[1])], index=X_train_tar.index)#[2:])\n",
        "X_test_tar_ = pd.DataFrame(data=X_test_tar_, columns=[f'ft_{i+1}' for i in range(X_test_tar_.shape[1])], index=X_test_tar.index)#[2:])\n",
        "#cols_to_scale = [col for col in X_train_tar_.columns.tolist() if col != 'ft_21']\n",
        "\n",
        "scaler = MinMaxScaler()  # RobustScaler()\n",
        "#X_train_tar_[cols_to_scale] = scaler.fit_transform(X_train_tar_[cols_to_scale])\n",
        "#X_test_tar_[cols_to_scale] = scaler.transform(X_test_tar_[cols_to_scale])\n",
        "X_train_tar_.iloc[:,:] = scaler.fit_transform(X_train_tar_.iloc[:,:])\n",
        "X_test_tar_.iloc[:,:] = scaler.transform(X_test_tar_.iloc[:,:])\n",
        "\n",
        "# cannot use intercepted columns in ColumnTransformer as if it stacks all transformers results\n",
        "column_trans_pipe = ColumnTransformer(transformers=[\n",
        "                                                    ('imputation', IterativeImputer(random_state=123), X_train_tar_.columns.tolist())], \n",
        "                                      )\n",
        "\n",
        "X_train_tar_ = column_trans_pipe.fit_transform(X_train_tar_, y_train)\n",
        "X_test_tar_ = column_trans_pipe.transform(X_test_tar_)\n",
        "\n",
        "X_train_tar_ = pd.DataFrame(data=X_train_tar_, columns=[f'ft_{i+1}' for i in range(X_train_tar_.shape[1])], index=X_train_tar.index)#[2:])\n",
        "X_test_tar_ = pd.DataFrame(data=X_test_tar_, columns=[f'ft_{i+1}' for i in range(X_test_tar_.shape[1])], index=X_test_tar.index)#[2:])\n",
        "#y_train_tar_ = y_train[2:]\n",
        "\n",
        "y_test.index = X_test_tar_.index\n",
        "\n",
        "X_train_tar_.shape, y_train.shape, X_test_tar_.shape, y_test.shape"
      ],
      "metadata": {
        "colab": {
          "base_uri": "https://localhost:8080/"
        },
        "id": "Su_fRJ_tRjHl",
        "outputId": "897b8543-a16b-4794-9df6-1a28f7462ef6"
      },
      "execution_count": 364,
      "outputs": [
        {
          "output_type": "execute_result",
          "data": {
            "text/plain": [
              "((2734, 16), (2734,), (684, 16), (684,))"
            ]
          },
          "metadata": {},
          "execution_count": 364
        }
      ]
    },
    {
      "cell_type": "code",
      "source": [
        "# NEXT code cells provide a way for multioutput forecast"
      ],
      "metadata": {
        "id": "N3MsOa5H-es9"
      },
      "execution_count": null,
      "outputs": []
    },
    {
      "cell_type": "code",
      "source": [
        "def make_multistep_target(ts, steps):\n",
        "    return pd.concat(\n",
        "        {f'y_step_{i + 1}': ts.shift(-i)\n",
        "         for i in range(steps)},\n",
        "        axis=1)\n",
        "    \n",
        "def make_lags(ts, lags, lead_time=1):\n",
        "    return pd.concat(\n",
        "        {\n",
        "            f'y_lag_{i}': ts.shift(i)\n",
        "            for i in range(lead_time, lags + lead_time)\n",
        "        },\n",
        "        axis=1)\n",
        "\n",
        "X = make_lags(y, lags=4).fillna(0.0)\n",
        "\n",
        "y = make_multistep_target(y, steps=8).dropna()\n",
        "\n",
        "# Shifting has created indexes that don't match. Only keep times for\n",
        "# which we have both targets and features.\n",
        "y, X = y.align(X, join='inner', axis=0)\n"
      ],
      "metadata": {
        "id": "70vk0UWKzVee"
      },
      "execution_count": 233,
      "outputs": []
    },
    {
      "cell_type": "code",
      "source": [
        "X_train, X_test, y_train, y_test = train_test_split(X, y, test_size=0.25, shuffle=False)"
      ],
      "metadata": {
        "id": "Qhoqumf30Esb"
      },
      "execution_count": 234,
      "outputs": []
    },
    {
      "cell_type": "code",
      "source": [
        "model = LinearRegression()\n",
        "model.fit(X_train, y_train)\n",
        "\n",
        "y_fit = pd.DataFrame(model.predict(X_train), index=X_train.index, columns=y.columns)\n",
        "y_pred = pd.DataFrame(model.predict(X_test), index=X_test.index, columns=y.columns)"
      ],
      "metadata": {
        "id": "wmQr3z1cz8oK"
      },
      "execution_count": 235,
      "outputs": []
    },
    {
      "cell_type": "code",
      "source": [
        "regression_results(y_test, y_pred)"
      ],
      "metadata": {
        "colab": {
          "base_uri": "https://localhost:8080/"
        },
        "id": "IsvFgH6O0p5F",
        "outputId": "2f346686-8d30-4526-f471-c13cddc23a41"
      },
      "execution_count": 236,
      "outputs": [
        {
          "output_type": "stream",
          "name": "stdout",
          "text": [
            "r2:  -0.0029\n",
            "MAE:  2.6534\n",
            "MSE:  28.2418\n",
            "RMSE:  5.3143\n"
          ]
        }
      ]
    },
    {
      "cell_type": "code",
      "source": [
        "y_pred"
      ],
      "metadata": {
        "colab": {
          "base_uri": "https://localhost:8080/",
          "height": 424
        },
        "id": "XWDbTCxh0p18",
        "outputId": "29f620c8-6066-4ec1-b08a-386a3988dbfa"
      },
      "execution_count": 243,
      "outputs": [
        {
          "output_type": "execute_result",
          "data": {
            "text/plain": [
              "       y_step_1  y_step_2  y_step_3  y_step_4  y_step_5  y_step_6  y_step_7  \\\n",
              "46909  1.242501  1.480393  1.604596  1.690743  1.770613  1.782967  1.789516   \n",
              "46910  1.242501  1.480393  1.604596  1.690743  1.770613  1.782967  1.789516   \n",
              "46911  1.276163  1.500544  1.616514  1.702771  1.770945  1.785846  1.786150   \n",
              "46912  1.256813  1.488905  1.614328  1.689019  1.773381  1.779176  1.789405   \n",
              "46913  1.584859  1.690179  1.720728  1.812871  1.770001  1.811563  1.754048   \n",
              "...         ...       ...       ...       ...       ...       ...       ...   \n",
              "47757  1.281905  1.508818  1.613466  1.704613  1.767011  1.785657  1.784344   \n",
              "47758  1.296967  1.505404  1.626804  1.696620  1.773244  1.780462  1.787882   \n",
              "47759  1.296217  1.517330  1.623199  1.702888  1.769779  1.781866  1.784233   \n",
              "47760  1.269048  1.493526  1.611839  1.686432  1.768978  1.777396  1.789444   \n",
              "47761  1.254736  1.485014  1.602106  1.688156  1.766210  1.781187  1.789555   \n",
              "\n",
              "       y_step_8  \n",
              "46909  1.753673  \n",
              "46910  1.753673  \n",
              "46911  1.752916  \n",
              "46912  1.751455  \n",
              "46913  1.747455  \n",
              "...         ...  \n",
              "47757  1.754269  \n",
              "47758  1.752914  \n",
              "47759  1.752051  \n",
              "47760  1.755024  \n",
              "47761  1.757242  \n",
              "\n",
              "[853 rows x 8 columns]"
            ],
            "text/html": [
              "\n",
              "  <div id=\"df-62667e38-4c44-4b63-862d-873b26d589ce\">\n",
              "    <div class=\"colab-df-container\">\n",
              "      <div>\n",
              "<style scoped>\n",
              "    .dataframe tbody tr th:only-of-type {\n",
              "        vertical-align: middle;\n",
              "    }\n",
              "\n",
              "    .dataframe tbody tr th {\n",
              "        vertical-align: top;\n",
              "    }\n",
              "\n",
              "    .dataframe thead th {\n",
              "        text-align: right;\n",
              "    }\n",
              "</style>\n",
              "<table border=\"1\" class=\"dataframe\">\n",
              "  <thead>\n",
              "    <tr style=\"text-align: right;\">\n",
              "      <th></th>\n",
              "      <th>y_step_1</th>\n",
              "      <th>y_step_2</th>\n",
              "      <th>y_step_3</th>\n",
              "      <th>y_step_4</th>\n",
              "      <th>y_step_5</th>\n",
              "      <th>y_step_6</th>\n",
              "      <th>y_step_7</th>\n",
              "      <th>y_step_8</th>\n",
              "    </tr>\n",
              "  </thead>\n",
              "  <tbody>\n",
              "    <tr>\n",
              "      <th>46909</th>\n",
              "      <td>1.242501</td>\n",
              "      <td>1.480393</td>\n",
              "      <td>1.604596</td>\n",
              "      <td>1.690743</td>\n",
              "      <td>1.770613</td>\n",
              "      <td>1.782967</td>\n",
              "      <td>1.789516</td>\n",
              "      <td>1.753673</td>\n",
              "    </tr>\n",
              "    <tr>\n",
              "      <th>46910</th>\n",
              "      <td>1.242501</td>\n",
              "      <td>1.480393</td>\n",
              "      <td>1.604596</td>\n",
              "      <td>1.690743</td>\n",
              "      <td>1.770613</td>\n",
              "      <td>1.782967</td>\n",
              "      <td>1.789516</td>\n",
              "      <td>1.753673</td>\n",
              "    </tr>\n",
              "    <tr>\n",
              "      <th>46911</th>\n",
              "      <td>1.276163</td>\n",
              "      <td>1.500544</td>\n",
              "      <td>1.616514</td>\n",
              "      <td>1.702771</td>\n",
              "      <td>1.770945</td>\n",
              "      <td>1.785846</td>\n",
              "      <td>1.786150</td>\n",
              "      <td>1.752916</td>\n",
              "    </tr>\n",
              "    <tr>\n",
              "      <th>46912</th>\n",
              "      <td>1.256813</td>\n",
              "      <td>1.488905</td>\n",
              "      <td>1.614328</td>\n",
              "      <td>1.689019</td>\n",
              "      <td>1.773381</td>\n",
              "      <td>1.779176</td>\n",
              "      <td>1.789405</td>\n",
              "      <td>1.751455</td>\n",
              "    </tr>\n",
              "    <tr>\n",
              "      <th>46913</th>\n",
              "      <td>1.584859</td>\n",
              "      <td>1.690179</td>\n",
              "      <td>1.720728</td>\n",
              "      <td>1.812871</td>\n",
              "      <td>1.770001</td>\n",
              "      <td>1.811563</td>\n",
              "      <td>1.754048</td>\n",
              "      <td>1.747455</td>\n",
              "    </tr>\n",
              "    <tr>\n",
              "      <th>...</th>\n",
              "      <td>...</td>\n",
              "      <td>...</td>\n",
              "      <td>...</td>\n",
              "      <td>...</td>\n",
              "      <td>...</td>\n",
              "      <td>...</td>\n",
              "      <td>...</td>\n",
              "      <td>...</td>\n",
              "    </tr>\n",
              "    <tr>\n",
              "      <th>47757</th>\n",
              "      <td>1.281905</td>\n",
              "      <td>1.508818</td>\n",
              "      <td>1.613466</td>\n",
              "      <td>1.704613</td>\n",
              "      <td>1.767011</td>\n",
              "      <td>1.785657</td>\n",
              "      <td>1.784344</td>\n",
              "      <td>1.754269</td>\n",
              "    </tr>\n",
              "    <tr>\n",
              "      <th>47758</th>\n",
              "      <td>1.296967</td>\n",
              "      <td>1.505404</td>\n",
              "      <td>1.626804</td>\n",
              "      <td>1.696620</td>\n",
              "      <td>1.773244</td>\n",
              "      <td>1.780462</td>\n",
              "      <td>1.787882</td>\n",
              "      <td>1.752914</td>\n",
              "    </tr>\n",
              "    <tr>\n",
              "      <th>47759</th>\n",
              "      <td>1.296217</td>\n",
              "      <td>1.517330</td>\n",
              "      <td>1.623199</td>\n",
              "      <td>1.702888</td>\n",
              "      <td>1.769779</td>\n",
              "      <td>1.781866</td>\n",
              "      <td>1.784233</td>\n",
              "      <td>1.752051</td>\n",
              "    </tr>\n",
              "    <tr>\n",
              "      <th>47760</th>\n",
              "      <td>1.269048</td>\n",
              "      <td>1.493526</td>\n",
              "      <td>1.611839</td>\n",
              "      <td>1.686432</td>\n",
              "      <td>1.768978</td>\n",
              "      <td>1.777396</td>\n",
              "      <td>1.789444</td>\n",
              "      <td>1.755024</td>\n",
              "    </tr>\n",
              "    <tr>\n",
              "      <th>47761</th>\n",
              "      <td>1.254736</td>\n",
              "      <td>1.485014</td>\n",
              "      <td>1.602106</td>\n",
              "      <td>1.688156</td>\n",
              "      <td>1.766210</td>\n",
              "      <td>1.781187</td>\n",
              "      <td>1.789555</td>\n",
              "      <td>1.757242</td>\n",
              "    </tr>\n",
              "  </tbody>\n",
              "</table>\n",
              "<p>853 rows × 8 columns</p>\n",
              "</div>\n",
              "      <button class=\"colab-df-convert\" onclick=\"convertToInteractive('df-62667e38-4c44-4b63-862d-873b26d589ce')\"\n",
              "              title=\"Convert this dataframe to an interactive table.\"\n",
              "              style=\"display:none;\">\n",
              "        \n",
              "  <svg xmlns=\"http://www.w3.org/2000/svg\" height=\"24px\"viewBox=\"0 0 24 24\"\n",
              "       width=\"24px\">\n",
              "    <path d=\"M0 0h24v24H0V0z\" fill=\"none\"/>\n",
              "    <path d=\"M18.56 5.44l.94 2.06.94-2.06 2.06-.94-2.06-.94-.94-2.06-.94 2.06-2.06.94zm-11 1L8.5 8.5l.94-2.06 2.06-.94-2.06-.94L8.5 2.5l-.94 2.06-2.06.94zm10 10l.94 2.06.94-2.06 2.06-.94-2.06-.94-.94-2.06-.94 2.06-2.06.94z\"/><path d=\"M17.41 7.96l-1.37-1.37c-.4-.4-.92-.59-1.43-.59-.52 0-1.04.2-1.43.59L10.3 9.45l-7.72 7.72c-.78.78-.78 2.05 0 2.83L4 21.41c.39.39.9.59 1.41.59.51 0 1.02-.2 1.41-.59l7.78-7.78 2.81-2.81c.8-.78.8-2.07 0-2.86zM5.41 20L4 18.59l7.72-7.72 1.47 1.35L5.41 20z\"/>\n",
              "  </svg>\n",
              "      </button>\n",
              "      \n",
              "  <style>\n",
              "    .colab-df-container {\n",
              "      display:flex;\n",
              "      flex-wrap:wrap;\n",
              "      gap: 12px;\n",
              "    }\n",
              "\n",
              "    .colab-df-convert {\n",
              "      background-color: #E8F0FE;\n",
              "      border: none;\n",
              "      border-radius: 50%;\n",
              "      cursor: pointer;\n",
              "      display: none;\n",
              "      fill: #1967D2;\n",
              "      height: 32px;\n",
              "      padding: 0 0 0 0;\n",
              "      width: 32px;\n",
              "    }\n",
              "\n",
              "    .colab-df-convert:hover {\n",
              "      background-color: #E2EBFA;\n",
              "      box-shadow: 0px 1px 2px rgba(60, 64, 67, 0.3), 0px 1px 3px 1px rgba(60, 64, 67, 0.15);\n",
              "      fill: #174EA6;\n",
              "    }\n",
              "\n",
              "    [theme=dark] .colab-df-convert {\n",
              "      background-color: #3B4455;\n",
              "      fill: #D2E3FC;\n",
              "    }\n",
              "\n",
              "    [theme=dark] .colab-df-convert:hover {\n",
              "      background-color: #434B5C;\n",
              "      box-shadow: 0px 1px 3px 1px rgba(0, 0, 0, 0.15);\n",
              "      filter: drop-shadow(0px 1px 2px rgba(0, 0, 0, 0.3));\n",
              "      fill: #FFFFFF;\n",
              "    }\n",
              "  </style>\n",
              "\n",
              "      <script>\n",
              "        const buttonEl =\n",
              "          document.querySelector('#df-62667e38-4c44-4b63-862d-873b26d589ce button.colab-df-convert');\n",
              "        buttonEl.style.display =\n",
              "          google.colab.kernel.accessAllowed ? 'block' : 'none';\n",
              "\n",
              "        async function convertToInteractive(key) {\n",
              "          const element = document.querySelector('#df-62667e38-4c44-4b63-862d-873b26d589ce');\n",
              "          const dataTable =\n",
              "            await google.colab.kernel.invokeFunction('convertToInteractive',\n",
              "                                                     [key], {});\n",
              "          if (!dataTable) return;\n",
              "\n",
              "          const docLinkHtml = 'Like what you see? Visit the ' +\n",
              "            '<a target=\"_blank\" href=https://colab.research.google.com/notebooks/data_table.ipynb>data table notebook</a>'\n",
              "            + ' to learn more about interactive tables.';\n",
              "          element.innerHTML = '';\n",
              "          dataTable['output_type'] = 'display_data';\n",
              "          await google.colab.output.renderOutput(dataTable, element);\n",
              "          const docLink = document.createElement('div');\n",
              "          docLink.innerHTML = docLinkHtml;\n",
              "          element.appendChild(docLink);\n",
              "        }\n",
              "      </script>\n",
              "    </div>\n",
              "  </div>\n",
              "  "
            ]
          },
          "metadata": {},
          "execution_count": 243
        }
      ]
    },
    {
      "cell_type": "code",
      "source": [
        "# ENDS here"
      ],
      "metadata": {
        "id": "WpD6RefT51J3"
      },
      "execution_count": null,
      "outputs": []
    },
    {
      "cell_type": "code",
      "source": [
        "# result with obvious target leakage\n",
        "lr = LinearRegression(fit_intercept=True)\n",
        "lr.fit(X_train_tar_, y_train_tar_)\n",
        "\n",
        "pred = lr.predict(X_test_tar_)\n",
        "\n",
        "regression_results(y_test, pred)"
      ],
      "metadata": {
        "colab": {
          "base_uri": "https://localhost:8080/"
        },
        "id": "QUgRDD9RcP5q",
        "outputId": "d4f348e6-320c-4880-ec72-6c10fce8a801"
      },
      "execution_count": 222,
      "outputs": [
        {
          "output_type": "stream",
          "name": "stdout",
          "text": [
            "r2:  1.0\n",
            "MAE:  0.0\n",
            "MSE:  0.0\n",
            "RMSE:  0.0\n"
          ]
        }
      ]
    },
    {
      "cell_type": "code",
      "source": [
        "pred = pd.Series(data=pred, name='RISK_MM', index=y_test.index)\n",
        "plt.title('Pred VS True')\n",
        "\n",
        "plt.plot(y_test, label='True', lw=2)\n",
        "plt.plot(pred, label='Pred', lw=1.5, ls=':')\n",
        "plt.grid()\n",
        "plt.legend()\n",
        "plt.tight_layout()\n",
        "plt.show()"
      ],
      "metadata": {
        "colab": {
          "base_uri": "https://localhost:8080/",
          "height": 297
        },
        "id": "2Eu2sWi9bibX",
        "outputId": "c71fac06-878d-4853-8697-ba8ffe7b85e4"
      },
      "execution_count": 156,
      "outputs": [
        {
          "output_type": "display_data",
          "data": {
            "text/plain": [
              "<Figure size 432x288 with 1 Axes>"
            ],
            "image/png": "[encoded data removed]"
          },
          "metadata": {
            "needs_background": "light"
          }
        }
      ]
    },
    {
      "cell_type": "code",
      "source": [
        "# we'll try to use SARIMAX to fix the target leakage"
      ],
      "metadata": {
        "id": "3G9m3hrB-25Z"
      },
      "execution_count": null,
      "outputs": []
    },
    {
      "cell_type": "code",
      "source": [
        "X_train_tar_.index = pd.DatetimeIndex(X_train_tar_.index).to_period('D')\n",
        "X_test_tar_.index = pd.DatetimeIndex(X_test_tar_.index).to_period('D')\n",
        "y_train.index = y_train.index = pd.DatetimeIndex(y_train.index).to_period('D')\n",
        "y_test.index = pd.DatetimeIndex(y_test.index).to_period('D')"
      ],
      "metadata": {
        "id": "h-y0UVJWEPf-"
      },
      "execution_count": 338,
      "outputs": []
    },
    {
      "cell_type": "code",
      "source": [
        "step_wise = auto_arima(y_train, exogenous=X_train_tar_, \n",
        "                       start_p=1, start_q=1,  \n",
        "                       max_p=7, max_q=7,  d=0, max_d=1, \n",
        "                       trend='ct', trace=True, \n",
        "                       error_action='ignore', suppress_warnings=True, stepwise=True)"
      ],
      "metadata": {
        "colab": {
          "base_uri": "https://localhost:8080/"
        },
        "id": "50LEIKnu-2-6",
        "outputId": "6ec3d2a1-0f8f-4491-af5c-e1af705acd14"
      },
      "execution_count": 339,
      "outputs": [
        {
          "output_type": "stream",
          "name": "stdout",
          "text": [
            "Performing stepwise search to minimize aic\n",
            " ARIMA(1,0,1)(0,0,0)[0] intercept   : AIC=16595.182, Time=7.76 sec\n",
            " ARIMA(0,0,0)(0,0,0)[0] intercept   : AIC=16581.424, Time=2.50 sec\n",
            " ARIMA(1,0,0)(0,0,0)[0] intercept   : AIC=16580.625, Time=5.28 sec\n",
            " ARIMA(0,0,1)(0,0,0)[0] intercept   : AIC=16581.147, Time=12.81 sec\n",
            " ARIMA(0,0,0)(0,0,0)[0]             : AIC=16581.424, Time=2.37 sec\n",
            " ARIMA(2,0,0)(0,0,0)[0] intercept   : AIC=16569.057, Time=7.40 sec\n",
            " ARIMA(3,0,0)(0,0,0)[0] intercept   : AIC=16564.673, Time=6.85 sec\n",
            " ARIMA(4,0,0)(0,0,0)[0] intercept   : AIC=16560.494, Time=8.19 sec\n",
            " ARIMA(5,0,0)(0,0,0)[0] intercept   : AIC=16561.264, Time=9.17 sec\n",
            " ARIMA(4,0,1)(0,0,0)[0] intercept   : AIC=16562.435, Time=4.57 sec\n",
            " ARIMA(3,0,1)(0,0,0)[0] intercept   : AIC=16566.796, Time=6.61 sec\n",
            " ARIMA(5,0,1)(0,0,0)[0] intercept   : AIC=16563.265, Time=5.62 sec\n",
            " ARIMA(4,0,0)(0,0,0)[0]             : AIC=16560.494, Time=7.68 sec\n",
            "\n",
            "Best model:  ARIMA(4,0,0)(0,0,0)[0]          \n",
            "Total fit time: 86.854 seconds\n"
          ]
        }
      ]
    },
    {
      "cell_type": "code",
      "source": [
        "step_wise.summary()"
      ],
      "metadata": {
        "colab": {
          "base_uri": "https://localhost:8080/",
          "height": 857
        },
        "id": "XxT8oOzS-3C6",
        "outputId": "34102b8a-8edf-4da3-f8ab-05ca0ff459b6"
      },
      "execution_count": 340,
      "outputs": [
        {
          "output_type": "execute_result",
          "data": {
            "text/plain": [
              "<class 'statsmodels.iolib.summary.Summary'>\n",
              "\"\"\"\n",
              "                               SARIMAX Results                                \n",
              "==============================================================================\n",
              "Dep. Variable:                      y   No. Observations:                 2734\n",
              "Model:               SARIMAX(4, 0, 0)   Log Likelihood               -8257.247\n",
              "Date:                Sat, 12 Mar 2022   AIC                          16560.494\n",
              "Time:                        22:16:04   BIC                          16696.505\n",
              "Sample:                    11-01-2007   HQIC                         16609.648\n",
              "                         - 08-07-2015                                         \n",
              "Covariance Type:                  opg                                         \n",
              "==============================================================================\n",
              "                 coef    std err          z      P>|z|      [0.025      0.975]\n",
              "------------------------------------------------------------------------------\n",
              "intercept     -0.0209      1.182     -0.018      0.986      -2.337       2.295\n",
              "drift      -1.042e-05      0.000     -0.066      0.948      -0.000       0.000\n",
              "ft_1          -0.0816      1.703     -0.048      0.962      -3.420       3.257\n",
              "ft_2           0.4224      1.893      0.223      0.823      -3.287       4.132\n",
              "ft_3          -0.6170      1.696     -0.364      0.716      -3.940       2.706\n",
              "ft_4          -0.1485      2.765     -0.054      0.957      -5.568       5.271\n",
              "ft_5           5.6964      3.122      1.825      0.068      -0.422      11.815\n",
              "ft_6          13.2375      1.264     10.474      0.000      10.761      15.715\n",
              "ft_7          -3.0933      1.326     -2.332      0.020      -5.693      -0.494\n",
              "ft_8           6.3181      3.560      1.775      0.076      -0.659      13.295\n",
              "ft_9          -4.2223      2.381     -1.773      0.076      -8.889       0.444\n",
              "ft_10         -0.0859      1.895     -0.045      0.964      -3.799       3.627\n",
              "ft_11         12.0727      0.847     14.258      0.000      10.413      13.732\n",
              "ft_12         -6.7996      1.017     -6.684      0.000      -8.793      -4.806\n",
              "ft_13         -8.0586      0.795    -10.137      0.000      -9.617      -6.500\n",
              "ft_14         26.5804      3.965      6.704      0.000      18.809      34.352\n",
              "ft_15        -31.2898      3.647     -8.579      0.000     -38.438     -24.142\n",
              "ft_16          1.5214      0.660      2.306      0.021       0.228       2.814\n",
              "ar.L1          0.0245      0.043      0.564      0.572      -0.061       0.109\n",
              "ar.L2          0.0641      0.012      5.528      0.000       0.041       0.087\n",
              "ar.L3          0.0476      0.011      4.411      0.000       0.026       0.069\n",
              "ar.L4          0.0473      0.015      3.214      0.001       0.018       0.076\n",
              "sigma2        24.3750      0.289     84.469      0.000      23.809      24.941\n",
              "===================================================================================\n",
              "Ljung-Box (L1) (Q):                   0.00   Jarque-Bera (JB):            298224.67\n",
              "Prob(Q):                              0.98   Prob(JB):                         0.00\n",
              "Heteroskedasticity (H):               1.17   Skew:                             5.39\n",
              "Prob(H) (two-sided):                  0.02   Kurtosis:                        53.02\n",
              "===================================================================================\n",
              "\n",
              "Warnings:\n",
              "[1] Covariance matrix calculated using the outer product of gradients (complex-step).\n",
              "\"\"\""
            ],
            "text/html": [
              "<table class=\"simpletable\">\n",
              "<caption>SARIMAX Results</caption>\n",
              "<tr>\n",
              "  <th>Dep. Variable:</th>           <td>y</td>        <th>  No. Observations:  </th>   <td>2734</td>   \n",
              "</tr>\n",
              "<tr>\n",
              "  <th>Model:</th>           <td>SARIMAX(4, 0, 0)</td> <th>  Log Likelihood     </th> <td>-8257.247</td>\n",
              "</tr>\n",
              "<tr>\n",
              "  <th>Date:</th>            <td>Sat, 12 Mar 2022</td> <th>  AIC                </th> <td>16560.494</td>\n",
              "</tr>\n",
              "<tr>\n",
              "  <th>Time:</th>                <td>22:16:04</td>     <th>  BIC                </th> <td>16696.505</td>\n",
              "</tr>\n",
              "<tr>\n",
              "  <th>Sample:</th>             <td>11-01-2007</td>    <th>  HQIC               </th> <td>16609.648</td>\n",
              "</tr>\n",
              "<tr>\n",
              "  <th></th>                   <td>- 08-07-2015</td>   <th>                     </th>     <td> </td>    \n",
              "</tr>\n",
              "<tr>\n",
              "  <th>Covariance Type:</th>        <td>opg</td>       <th>                     </th>     <td> </td>    \n",
              "</tr>\n",
              "</table>\n",
              "<table class=\"simpletable\">\n",
              "<tr>\n",
              "      <td></td>         <th>coef</th>     <th>std err</th>      <th>z</th>      <th>P>|z|</th>  <th>[0.025</th>    <th>0.975]</th>  \n",
              "</tr>\n",
              "<tr>\n",
              "  <th>intercept</th> <td>   -0.0209</td> <td>    1.182</td> <td>   -0.018</td> <td> 0.986</td> <td>   -2.337</td> <td>    2.295</td>\n",
              "</tr>\n",
              "<tr>\n",
              "  <th>drift</th>     <td>-1.042e-05</td> <td>    0.000</td> <td>   -0.066</td> <td> 0.948</td> <td>   -0.000</td> <td>    0.000</td>\n",
              "</tr>\n",
              "<tr>\n",
              "  <th>ft_1</th>      <td>   -0.0816</td> <td>    1.703</td> <td>   -0.048</td> <td> 0.962</td> <td>   -3.420</td> <td>    3.257</td>\n",
              "</tr>\n",
              "<tr>\n",
              "  <th>ft_2</th>      <td>    0.4224</td> <td>    1.893</td> <td>    0.223</td> <td> 0.823</td> <td>   -3.287</td> <td>    4.132</td>\n",
              "</tr>\n",
              "<tr>\n",
              "  <th>ft_3</th>      <td>   -0.6170</td> <td>    1.696</td> <td>   -0.364</td> <td> 0.716</td> <td>   -3.940</td> <td>    2.706</td>\n",
              "</tr>\n",
              "<tr>\n",
              "  <th>ft_4</th>      <td>   -0.1485</td> <td>    2.765</td> <td>   -0.054</td> <td> 0.957</td> <td>   -5.568</td> <td>    5.271</td>\n",
              "</tr>\n",
              "<tr>\n",
              "  <th>ft_5</th>      <td>    5.6964</td> <td>    3.122</td> <td>    1.825</td> <td> 0.068</td> <td>   -0.422</td> <td>   11.815</td>\n",
              "</tr>\n",
              "<tr>\n",
              "  <th>ft_6</th>      <td>   13.2375</td> <td>    1.264</td> <td>   10.474</td> <td> 0.000</td> <td>   10.761</td> <td>   15.715</td>\n",
              "</tr>\n",
              "<tr>\n",
              "  <th>ft_7</th>      <td>   -3.0933</td> <td>    1.326</td> <td>   -2.332</td> <td> 0.020</td> <td>   -5.693</td> <td>   -0.494</td>\n",
              "</tr>\n",
              "<tr>\n",
              "  <th>ft_8</th>      <td>    6.3181</td> <td>    3.560</td> <td>    1.775</td> <td> 0.076</td> <td>   -0.659</td> <td>   13.295</td>\n",
              "</tr>\n",
              "<tr>\n",
              "  <th>ft_9</th>      <td>   -4.2223</td> <td>    2.381</td> <td>   -1.773</td> <td> 0.076</td> <td>   -8.889</td> <td>    0.444</td>\n",
              "</tr>\n",
              "<tr>\n",
              "  <th>ft_10</th>     <td>   -0.0859</td> <td>    1.895</td> <td>   -0.045</td> <td> 0.964</td> <td>   -3.799</td> <td>    3.627</td>\n",
              "</tr>\n",
              "<tr>\n",
              "  <th>ft_11</th>     <td>   12.0727</td> <td>    0.847</td> <td>   14.258</td> <td> 0.000</td> <td>   10.413</td> <td>   13.732</td>\n",
              "</tr>\n",
              "<tr>\n",
              "  <th>ft_12</th>     <td>   -6.7996</td> <td>    1.017</td> <td>   -6.684</td> <td> 0.000</td> <td>   -8.793</td> <td>   -4.806</td>\n",
              "</tr>\n",
              "<tr>\n",
              "  <th>ft_13</th>     <td>   -8.0586</td> <td>    0.795</td> <td>  -10.137</td> <td> 0.000</td> <td>   -9.617</td> <td>   -6.500</td>\n",
              "</tr>\n",
              "<tr>\n",
              "  <th>ft_14</th>     <td>   26.5804</td> <td>    3.965</td> <td>    6.704</td> <td> 0.000</td> <td>   18.809</td> <td>   34.352</td>\n",
              "</tr>\n",
              "<tr>\n",
              "  <th>ft_15</th>     <td>  -31.2898</td> <td>    3.647</td> <td>   -8.579</td> <td> 0.000</td> <td>  -38.438</td> <td>  -24.142</td>\n",
              "</tr>\n",
              "<tr>\n",
              "  <th>ft_16</th>     <td>    1.5214</td> <td>    0.660</td> <td>    2.306</td> <td> 0.021</td> <td>    0.228</td> <td>    2.814</td>\n",
              "</tr>\n",
              "<tr>\n",
              "  <th>ar.L1</th>     <td>    0.0245</td> <td>    0.043</td> <td>    0.564</td> <td> 0.572</td> <td>   -0.061</td> <td>    0.109</td>\n",
              "</tr>\n",
              "<tr>\n",
              "  <th>ar.L2</th>     <td>    0.0641</td> <td>    0.012</td> <td>    5.528</td> <td> 0.000</td> <td>    0.041</td> <td>    0.087</td>\n",
              "</tr>\n",
              "<tr>\n",
              "  <th>ar.L3</th>     <td>    0.0476</td> <td>    0.011</td> <td>    4.411</td> <td> 0.000</td> <td>    0.026</td> <td>    0.069</td>\n",
              "</tr>\n",
              "<tr>\n",
              "  <th>ar.L4</th>     <td>    0.0473</td> <td>    0.015</td> <td>    3.214</td> <td> 0.001</td> <td>    0.018</td> <td>    0.076</td>\n",
              "</tr>\n",
              "<tr>\n",
              "  <th>sigma2</th>    <td>   24.3750</td> <td>    0.289</td> <td>   84.469</td> <td> 0.000</td> <td>   23.809</td> <td>   24.941</td>\n",
              "</tr>\n",
              "</table>\n",
              "<table class=\"simpletable\">\n",
              "<tr>\n",
              "  <th>Ljung-Box (L1) (Q):</th>     <td>0.00</td> <th>  Jarque-Bera (JB):  </th> <td>298224.67</td>\n",
              "</tr>\n",
              "<tr>\n",
              "  <th>Prob(Q):</th>                <td>0.98</td> <th>  Prob(JB):          </th>   <td>0.00</td>   \n",
              "</tr>\n",
              "<tr>\n",
              "  <th>Heteroskedasticity (H):</th> <td>1.17</td> <th>  Skew:              </th>   <td>5.39</td>   \n",
              "</tr>\n",
              "<tr>\n",
              "  <th>Prob(H) (two-sided):</th>    <td>0.02</td> <th>  Kurtosis:          </th>   <td>53.02</td>  \n",
              "</tr>\n",
              "</table><br/><br/>Warnings:<br/>[1] Covariance matrix calculated using the outer product of gradients (complex-step)."
            ]
          },
          "metadata": {},
          "execution_count": 340
        }
      ]
    },
    {
      "cell_type": "code",
      "source": [
        "sarima = SARIMAX(y_train, exog=X_train_tar_, order=(4,0,0), seasonal_order=(0, 0, 0, 0), \n",
        "                 enforce_invertibility=False, enforce_stationarity=False)\n",
        "results = sarima.fit()"
      ],
      "metadata": {
        "id": "6NaaTFbHBxo_"
      },
      "execution_count": 341,
      "outputs": []
    },
    {
      "cell_type": "code",
      "source": [
        "pred = results.predict(start=X_train_tar_.shape[0], end=X_train_tar_.shape[0] + X_test_tar_.shape[0] - 1, exog=X_test_tar_)"
      ],
      "metadata": {
        "id": "zutwCPzP-3Gc"
      },
      "execution_count": 343,
      "outputs": []
    },
    {
      "cell_type": "code",
      "source": [
        "regression_results(y_test, np.abs(pred))"
      ],
      "metadata": {
        "colab": {
          "base_uri": "https://localhost:8080/"
        },
        "id": "2CHjbWjzFhOg",
        "outputId": "ebfbd863-3cc0-46cf-aeed-eb84b26b81ab"
      },
      "execution_count": 345,
      "outputs": [
        {
          "output_type": "stream",
          "name": "stdout",
          "text": [
            "r2:  0.3483\n",
            "MAE:  2.3052\n",
            "MSE:  17.8893\n",
            "RMSE:  4.2296\n"
          ]
        }
      ]
    },
    {
      "cell_type": "code",
      "source": [
        "from neuralprophet import NeuralProphet"
      ],
      "metadata": {
        "id": "HasVOHIYOfAV"
      },
      "execution_count": 346,
      "outputs": []
    },
    {
      "cell_type": "code",
      "source": [
        "data_train = pd.DataFrame(data={'ds': y_train.index, 'y': y_train.values})\n",
        "data_test = pd.DataFrame(data={'ds': y_test.index, 'y': y_test.values})\n",
        "\n",
        "model = NeuralProphet(\n",
        "                      n_forecasts=X_test_tar_.shape[0],\n",
        "                      n_lags=4,\n",
        "                      yearly_seasonality=False,\n",
        "                      weekly_seasonality=False,\n",
        "                      daily_seasonality=False,\n",
        "                      batch_size=4,\n",
        "                      epochs=100,\n",
        "                      learning_rate=0.01,\n",
        ")\n",
        "\n"
      ],
      "metadata": {
        "id": "To3YCbT8KPeh"
      },
      "execution_count": 395,
      "outputs": []
    },
    {
      "cell_type": "code",
      "source": [
        "model = NeuralProphet()\n",
        "#for col in X_train_tar_.columns:\n",
        "#    model.add_future_regressor(col, normalize='auto')\n",
        "\n",
        "metrics = model.fit(data_train, freq='D', validation_df=data_test)"
      ],
      "metadata": {
        "colab": {
          "base_uri": "https://localhost:8080/",
          "height": 324,
          "referenced_widgets": [
            "e20aa1fd899a4ae98ff15b37f7cb2d21",
            "c9648624a2bd449287869eeefcd1f0b6",
            "dd7bcaa737e944ff9c3c90a01fedd11b",
            "71b9dda3f53743b3af13316deb3d6f30",
            "64e571deb36b4b3a8829353978e82bf2",
            "1cebcf66ffa74fdd82749c04760fc86b",
            "04db13bb1c1d48dfa18a03db2e076954",
            "bb5f641030c346179be75ff63ff28781",
            "943dabf6b31d4410b34f2240c20c8a7a",
            "8c7d2bece8604cbc910d5944ae9ddd16",
            "0c9ff9d0475e49f9b7d7149873f17113",
            "f021a1dc6ff1423688fcacc340a77ba8",
            "63dbc382ba714688a221f04a02afb34f",
            "5385a628d5a14f389897c1c43fe923fd",
            "59b0281d0a974378af2e06f3fdf1fb72",
            "f73e5df3b8f84c05a2b931c8d46d17c2",
            "0cc1ed02b9c145868e90a0014eb58b47",
            "f2c8f505e01445c7a0c81fff6b626450",
            "268ef243a00a4a648f83610958a5a0f8",
            "a7633b24de5c408697a3d20a4792902a",
            "7cb6b5a887494c96998c7fdb809faae8",
            "ee21842d8873436c814eb34f92e8ff1b",
            "c664e9159e6e407aa0611998a051e909",
            "09e8407ae13d46658526d07c65812ed5",
            "02615dee03b44f6db95949b7a3579abf",
            "82424d28ccf44f9aa0b5223db4303445",
            "fcec345155e74d939ac57ef944a2511d",
            "fc398136661d428f823f64b95948ac14",
            "7118e229c591475ca5099a4ba43219e7",
            "faedbe69b5764524ba41c8a13a49f66f",
            "97f37d80dea94a8d871a0972a919cf61",
            "0f1ee872c9d34e71915090af06f7ed0c",
            "28bb2c93ccc54cd1900324425a6b59d9"
          ]
        },
        "id": "kU3qPjl7KPi3",
        "outputId": "2b3b406d-01d7-4230-cacd-ab3cea445399"
      },
      "execution_count": 397,
      "outputs": [
        {
          "output_type": "stream",
          "name": "stderr",
          "text": [
            "INFO - (NP.df_utils._infer_frequency) - Major frequency D corresponds to 99.415% of the data.\n",
            "INFO - (NP.df_utils._infer_frequency) - Defined frequency is equal to major frequency - D\n",
            "INFO - (NP.config.init_data_params) - Setting normalization to global as only one dataframe provided for training.\n",
            "INFO - (NP.utils.set_auto_seasonalities) - Disabling daily seasonality. Run NeuralProphet with daily_seasonality=True to override this.\n",
            "INFO - (NP.config.set_auto_batch_epoch) - Auto-set batch_size to 32\n",
            "INFO - (NP.config.set_auto_batch_epoch) - Auto-set epochs to 89\n"
          ]
        },
        {
          "output_type": "display_data",
          "data": {
            "text/plain": [
              "  0%|          | 0/271 [00:00<?, ?it/s]"
            ],
            "application/vnd.jupyter.widget-view+json": {
              "version_major": 2,
              "version_minor": 0,
              "model_id": "e20aa1fd899a4ae98ff15b37f7cb2d21"
            }
          },
          "metadata": {}
        },
        {
          "output_type": "stream",
          "name": "stderr",
          "text": [
            "INFO - (NP.utils_torch.lr_range_test) - lr-range-test results: steep: 5.01E-02, min: 7.94E-01\n"
          ]
        },
        {
          "output_type": "display_data",
          "data": {
            "text/plain": [
              "  0%|          | 0/271 [00:00<?, ?it/s]"
            ],
            "application/vnd.jupyter.widget-view+json": {
              "version_major": 2,
              "version_minor": 0,
              "model_id": "f021a1dc6ff1423688fcacc340a77ba8"
            }
          },
          "metadata": {}
        },
        {
          "output_type": "stream",
          "name": "stderr",
          "text": [
            "INFO - (NP.utils_torch.lr_range_test) - lr-range-test results: steep: 5.01E-02, min: 1.47E+00\n"
          ]
        },
        {
          "output_type": "display_data",
          "data": {
            "text/plain": [
              "  0%|          | 0/271 [00:00<?, ?it/s]"
            ],
            "application/vnd.jupyter.widget-view+json": {
              "version_major": 2,
              "version_minor": 0,
              "model_id": "c664e9159e6e407aa0611998a051e909"
            }
          },
          "metadata": {}
        },
        {
          "output_type": "stream",
          "name": "stderr",
          "text": [
            "INFO - (NP.utils_torch.lr_range_test) - lr-range-test results: steep: 5.01E-02, min: 1.85E+00\n",
            "INFO - (NP.forecaster._init_train_loader) - lr-range-test selected learning rate: 5.01E-02\n",
            "Epoch[89/89]: 100%|██████████| 89/89 [00:16<00:00,  5.53it/s, SmoothL1Loss=0.0877, MAE=2.43, RMSE=4.96, RegLoss=0, MAE_val=2.4, RMSE_val=5.28, SmoothL1Loss_val=0.0773]\n"
          ]
        }
      ]
    },
    {
      "cell_type": "code",
      "source": [
        "future = model.make_future_dataframe(data_train[['ds', 'y']], periods=len(data_test), n_historic_predictions=len(data_train))\n",
        "prediction = model.predict(future)"
      ],
      "metadata": {
        "colab": {
          "base_uri": "https://localhost:8080/"
        },
        "id": "XM6MULRpKPnl",
        "outputId": "8d223cde-41d3-484e-ece6-6d3b46dbb307"
      },
      "execution_count": 391,
      "outputs": [
        {
          "output_type": "stream",
          "name": "stderr",
          "text": [
            "INFO - (NP.df_utils._infer_frequency) - Major frequency D corresponds to 99.415% of the data.\n",
            "INFO - (NP.df_utils._infer_frequency) - Defined frequency is equal to major frequency - D\n",
            "INFO - (NP.df_utils._infer_frequency) - Major frequency D corresponds to 99.532% of the data.\n",
            "INFO - (NP.df_utils._infer_frequency) - Defined frequency is equal to major frequency - D\n",
            "INFO - (NP.df_utils._infer_frequency) - Major frequency D corresponds to 99.532% of the data.\n",
            "INFO - (NP.df_utils._infer_frequency) - Defined frequency is equal to major frequency - D\n"
          ]
        }
      ]
    },
    {
      "cell_type": "code",
      "source": [
        "regression_results(y_test, prediction.yhat1[-len(data_test):])"
      ],
      "metadata": {
        "colab": {
          "base_uri": "https://localhost:8080/"
        },
        "id": "rMgFc_I6VRQK",
        "outputId": "7c975c00-3b66-4057-ab5a-b94d5e198404"
      },
      "execution_count": 393,
      "outputs": [
        {
          "output_type": "stream",
          "name": "stdout",
          "text": [
            "r2:  -0.016\n",
            "MAE:  2.3763\n",
            "MSE:  27.8883\n",
            "RMSE:  5.2809\n"
          ]
        }
      ]
    },
    {
      "cell_type": "code",
      "source": [
        ""
      ],
      "metadata": {
        "id": "pK8TZBeaVRWQ"
      },
      "execution_count": null,
      "outputs": []
    },
    {
      "cell_type": "code",
      "source": [
        ""
      ],
      "metadata": {
        "id": "jfp8YiVCFhYe"
      },
      "execution_count": null,
      "outputs": []
    },
    {
      "cell_type": "code",
      "source": [
        "X, y = can.drop([TARGET_NAME_CLS, 'Location', 'Evaporation', 'Sunshine', 'Cloud9am', 'Cloud3pm'], axis=1), can[TARGET_NAME_CLS]\n",
        "#X['RainToday'] = X['RainToday'].map({'No': 0, 'Yes': 1})\n",
        "\n",
        "X_train, X_test, y_train, y_test = train_test_split(X, y, test_size=0.2, shuffle=False, random_state=123)\n",
        "X_test[TARGET_NAME_REG] = np.abs(pred.values)\n",
        "y_train = y_train.map({'No': 0, 'Yes': 1})\n",
        "y_test = y_test.map({'No': 0, 'Yes': 1})"
      ],
      "metadata": {
        "id": "A8E7aiThcWdI"
      },
      "execution_count": 309,
      "outputs": []
    },
    {
      "cell_type": "code",
      "source": [
        "X_train.set_index('Date', drop=True, inplace=True)\n",
        "X_test.set_index('Date', drop=True, inplace=True)"
      ],
      "metadata": {
        "id": "MwmRGlXBc7rL"
      },
      "execution_count": 310,
      "outputs": []
    },
    {
      "cell_type": "code",
      "source": [
        "y_train.index = X_train.index\n",
        "y_test.index = X_test.index"
      ],
      "metadata": {
        "id": "1yr0kqAUduf_"
      },
      "execution_count": 311,
      "outputs": []
    },
    {
      "cell_type": "code",
      "source": [
        "cols_to_interpolate = ['Temp3pm', 'Temp9am', 'Humidity3pm', 'Humidity9am', 'Rainfall', 'MaxTemp', 'MinTemp']\n",
        "cols_to_iter_impute = ['WindGustSpeed', 'WindSpeed9am', 'WindSpeed3pm', 'Pressure9am', 'Pressure3pm', 'RainToday',\n",
        "                       'RISK_MM']\n",
        "target_enc_cols = ['WindGustDir', 'WindDir9am', 'WindDir3pm']"
      ],
      "metadata": {
        "id": "YfYiB_9VfJ9m"
      },
      "execution_count": 312,
      "outputs": []
    },
    {
      "cell_type": "code",
      "source": [
        "enc_pipe = Pipeline(steps=[('selector1', ColumnSelector(target_enc_cols)),\n",
        "                           ('imputer1', SimpleImputer(strategy='most_frequent')),\n",
        "                           ('encoder1', ce.cat_boost.CatBoostEncoder()),\n",
        "                           ])\n",
        "\n",
        "interp_pipe = Pipeline(steps=[('selector2', ColumnSelector(cols_to_interpolate)),\n",
        "                              ('iterpol', FeatureInterpolator()),])\n",
        "\n",
        "\n",
        "union = FeatureUnion(transformer_list=[('enc_pipe', enc_pipe), # 3\n",
        "                                       ('interp', interp_pipe), # 7\n",
        "                                       ('imp_cols', ColumnSelector(cols_to_iter_impute))]) # 8\n",
        "\n",
        "pipe = Pipeline(steps=[('union', union),\n",
        "                       ('imputer', IterativeImputer(random_state=123)),\n",
        "                       ('scaler', RobustScaler())])\n",
        "\n",
        "X_train_ = pipe.fit_transform(X_train, y_train)\n",
        "X_test_ = pipe.fit_transform(X_test, y_test)\n",
        "\n",
        "X_train_ = pd.DataFrame(data=X_train_, columns=X_train.columns.tolist(), index=X_train.index)\n",
        "X_test_ = pd.DataFrame(data=X_test_, columns=X_test.columns.tolist(), index=X_test.index)\n"
      ],
      "metadata": {
        "id": "n58RVNrafY1i"
      },
      "execution_count": 313,
      "outputs": []
    },
    {
      "cell_type": "code",
      "source": [
        "y_train.value_counts(normalize=True)"
      ],
      "metadata": {
        "colab": {
          "base_uri": "https://localhost:8080/"
        },
        "id": "PCY75m28ja-z",
        "outputId": "9823ce03-8774-41ad-82e4-1aeb3cf3106b"
      },
      "execution_count": 204,
      "outputs": [
        {
          "output_type": "execute_result",
          "data": {
            "text/plain": [
              "0    0.818581\n",
              "1    0.181419\n",
              "Name: RainTomorrow, dtype: float64"
            ]
          },
          "metadata": {},
          "execution_count": 204
        }
      ]
    },
    {
      "cell_type": "code",
      "source": [
        "log_reg = LogisticRegression(penalty='l2', \n",
        "                             C=.1, \n",
        "                             class_weight='balanced', \n",
        "                             random_state=123, \n",
        "                             solver='lbfgs', \n",
        "                             max_iter=200)\n",
        "log_reg.fit(X_train_, y_train)\n",
        "\n",
        "train_pred = log_reg.predict(X_train_)\n",
        "test_pred = log_reg.predict(X_test_)\n",
        "\n",
        "report(y_train, train_pred, y_test, test_pred)"
      ],
      "metadata": {
        "colab": {
          "base_uri": "https://localhost:8080/"
        },
        "id": "Pxt-oVc-i_x4",
        "outputId": "cb3b3e4b-a7bc-4cf7-f4d4-0e02b52f494c"
      },
      "execution_count": 314,
      "outputs": [
        {
          "output_type": "stream",
          "name": "stdout",
          "text": [
            "Train\n",
            "               precision    recall  f1-score   support\n",
            "\n",
            "           0      1.000     0.993     0.997      2238\n",
            "           1      0.971     1.000     0.985       496\n",
            "\n",
            "    accuracy                          0.995      2734\n",
            "   macro avg      0.985     0.997     0.991      2734\n",
            "weighted avg      0.995     0.995     0.995      2734\n",
            "\n",
            "Test\n",
            "               precision    recall  f1-score   support\n",
            "\n",
            "           0      0.807     1.000     0.893       551\n",
            "           1      1.000     0.008     0.015       133\n",
            "\n",
            "    accuracy                          0.807       684\n",
            "   macro avg      0.903     0.504     0.454       684\n",
            "weighted avg      0.844     0.807     0.722       684\n",
            "\n",
            "Confusion Matrix \n",
            " col_0           0  1\n",
            "RainTomorrow        \n",
            "0             551  0\n",
            "1             132  1\n"
          ]
        }
      ]
    }
  ]
}